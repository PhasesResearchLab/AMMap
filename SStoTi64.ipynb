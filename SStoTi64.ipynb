{
 "cells": [
  {
   "cell_type": "markdown",
   "metadata": {},
   "source": [
    "# 2. Additive Manufacturing Path Planning Made Effortless\n",
    "\n",
    "--> ***(before running this code, please consult Quick Start to make sure everything is set up)***\n",
    "\n",
    "--> You will additionally need `pycalphad` and `pathfinding` libraries to run part of this exercise. If you are running this in Codespaces, it has been pre-installed for you."
   ]
  },
  {
   "cell_type": "markdown",
   "metadata": {},
   "source": [
    "**In this tutorial, we will demonstrate how effortless it is to dramatically speed up the exploration of feasible compositional spaces in high dimensional spaces through employing `nimplex`'s graph representations that abstract the underlying problem and dimensionality.**\n",
    "\n",
    "**We will also design several neat, mathematically optimal (given some criteria) paths in a 7-component chemical space connecting two alloys of interest by mixing 4 fixed-composition alloy powders to create a tetrahedral attainable/design space. The beauty of this approach is that at no point (except for plotting in 3D for \"human consumption\") will we explicitly consider the dimensionality or the distance as the connectivity between the points in the space has been abstracted into graph adjacency. If you wish to add another alloy to the design process, you add it to the list, and you are done :)**"
   ]
  },
  {
   "cell_type": "code",
   "execution_count": 1,
   "metadata": {},
   "outputs": [],
   "source": [
    "# Import nimplex and some of its plotting utilities\n",
    "import nimplex\n",
    "from utils import plotting"
   ]
  },
  {
   "cell_type": "code",
   "execution_count": 2,
   "metadata": {},
   "outputs": [],
   "source": [
    "# Python wrapper for Plotly library\n",
    "import plotly.express as px\n",
    "import pandas as pd\n",
    "from pprint import pprint\n",
    "from copy import deepcopy"
   ]
  },
  {
   "cell_type": "markdown",
   "metadata": {},
   "source": [
    "## Recall Last Example\n",
    "Let's get back to our example (QuickStart) of the pair of **attainable space** simplex grid and corresponding **elemental space** positions defined for `7`-component elemental space of `Ti`, `Zr`, `Hf`, `W`, `Nb`, `Ta`, and `Mo` formed by `4` alloys:\n",
    "- Ti50 Zr50 \n",
    "- Hf95 Ti5\n",
    "- Mo33 Nb33 Ta33\n",
    "- Mo10 Nb10 W80\n",
    "\n",
    "which we can represent as points in the elemental space:"
   ]
  },
  {
   "cell_type": "code",
   "execution_count": 3,
   "metadata": {},
   "outputs": [],
   "source": [
    "elementalSpaceComponents = ['Ni', 'Cr', 'Fe']\n",
    "attainableSpaceComponents = ['SS304L', 'Ni', 'Cr']\n",
    "attainableSpaceComponentPositions = [[0.096114519430,0.1993865031, 0.7044989775], [100, 0, 0], [0, 100, 0]]"
   ]
  },
  {
   "cell_type": "code",
   "execution_count": 4,
   "metadata": {},
   "outputs": [],
   "source": [
    "#ndims on 1 side + 1\n",
    "# e.g. slen=12 creates a triangle with 13 points on each side\n",
    "slen=24\n",
    "dimsize = int(((slen+1)**2+(slen+1))/2)"
   ]
  },
  {
   "cell_type": "markdown",
   "metadata": {},
   "source": [
    "And create tetrahedral grids with their compositions quantized at `12` divisions per dimension."
   ]
  },
  {
   "cell_type": "code",
   "execution_count": 5,
   "metadata": {},
   "outputs": [],
   "source": [
    "gridAtt, gridEl = nimplex.embeddedpair_simplex_grid_fractional_py(attainableSpaceComponentPositions, slen)"
   ]
  },
  {
   "cell_type": "markdown",
   "metadata": {},
   "source": [
    "We used the **elemental**, or chemical, space to run the Root Mean Square Atomic Displacement (RMSAD) model by Tandoc (10.1038/s41524-023-00993-x) which acts as a lower-cost proxy for yield stress and hardness estimations in the absence of direct data:"
   ]
  },
  {
   "cell_type": "markdown",
   "metadata": {},
   "source": [
    "import pqam_rmsadtandoc2023\n",
    "rmsadList = []\n",
    "for point in gridEl:\n",
    "    formula = ' '.join([f'{c}{p}' for c, p in zip(elementalSpaceComponents, point)])\n",
    "    rmsadList.append(pqam_rmsadtandoc2023.predict(formula))"
   ]
  },
  {
   "cell_type": "markdown",
   "metadata": {},
   "source": [
    "And the **attainable** space grid to plot the results after projecting them to the Euclidean space:"
   ]
  },
  {
   "cell_type": "markdown",
   "metadata": {},
   "source": [
    "# Hover approximate formula for each point\n",
    "formulas = []\n",
    "for i, comp in enumerate(gridEl):\n",
    "    formulas.append(f\"({i:>3}) \"+\"\".join([f\"{el}{100*v:.1f} \" if v>0 else \"\" for el, v in zip(elementalSpaceComponents, comp)]))\n",
    "\n",
    "# Generate the projected grid\n",
    "gridAtt_projected_df = pd.DataFrame(plotting.simplex2cartesian_py(gridAtt), columns=['x','y'])\n",
    "\n",
    "# Attach pure component (alloy) labels to corners\n",
    "pureComponentIndices = nimplex.pure_component_indexes_py(3, 12)\n",
    "labels = ['']*len(gridAtt_projected_df)\n",
    "for comp, idx in zip(attainableSpaceComponents, pureComponentIndices):\n",
    "    labels[idx] = \"<b>\"+comp+\"</b>\"\n",
    "\n",
    "# Add text labels at the corners of the simplex\n",
    "px.scatter(gridAtt_projected_df, x='x', y='y', color=rmsadList, text=labels, hover_name=formulas,\n",
    "              template='plotly_white', width=800, height=700, \n",
    "              labels={'color':'RMSAD', 'x':'', 'y':'', 'z':''})"
   ]
  },
  {
   "cell_type": "code",
   "execution_count": 6,
   "metadata": {},
   "outputs": [],
   "source": [
    "# Hover approximate formula for each point\n",
    "formulas = []\n",
    "for i, comp in enumerate(gridEl):\n",
    "    formulas.append(f\"({i:>3}) \"+\"\".join([f\"{el}{100*v:.1f} \" if v>0 else \"\" for el, v in zip(elementalSpaceComponents, comp)]))\n",
    "\n",
    "# Generate the projected grid\n",
    "gridAtt_projected_df = pd.DataFrame(plotting.simplex2cartesian_py(gridAtt), columns=['x','y'])\n",
    "\n",
    "# Attach pure component (alloy) labels to corners\n",
    "pureComponentIndices = nimplex.pure_component_indexes_py(3, slen)\n",
    "labels = ['']*len(gridAtt_projected_df)\n",
    "for comp, idx in zip(attainableSpaceComponents, pureComponentIndices):\n",
    "    labels[idx] = \"<b>\"+comp+\"</b>\"\n"
   ]
  },
  {
   "cell_type": "markdown",
   "metadata": {},
   "source": [
    "## Thermodynamic Equilibria\n",
    "\n",
    "**In this section we will be using `pycalphad` which is an amazing free open-source library for building thermodynamic models and performing calculations on them, including studying of phase equilibria, or what atomic arrangements are stable (coexist in equilibrium) at a given temperature and composition.** You can read more about `pycalphad` at [pycalphad.org](https://pycalphad.org/) and find an great tutorial at [this 2023 workshop materials repository](https://github.com/materialsgenomefoundation/2023-workshop-material/tree/main/pycalphad).\n",
    "\n",
    "Let's start by loading a database of thermodynamic properties which defines, among other things, the Gibbs energy of each phase as a function of temperature and composition. You can find many of such databases at [TDBDB](https://avdwgroup.engin.brown.edu) maintained by Axel van de Walle's group at Brown University. \n",
    "\n",
    "In this example, we will be using a TDB `CrHfMoNbTaTiVWZr_9element_Feb2023` placed for you in the `examples` directory, which is a 9-element database for the elements `Cr`, `Hf`, `Mo`, `Nb`, `Ta`, `Ti`, `V`, `W`, and `Zr`, being developed by Shuang Lin in our group (Phases Research Lab at PSU). This wersion is an older *work in progress* one that has not been published, so while it is perfect for tutorial like this one, please refrain from using it for any serious work."
   ]
  },
  {
   "cell_type": "code",
   "execution_count": 7,
   "metadata": {},
   "outputs": [
    {
     "name": "stdout",
     "output_type": "stream",
     "text": [
      "['Ni', 'Cr', 'Fe']\n",
      "Loaded TDB file with phases considered: ['SIGMA', 'HCP_A3', 'FCC_A1', 'BCC_A2', 'LIQUID']\n"
     ]
    }
   ],
   "source": [
    "from pycalphad import Database\n",
    "dbf = Database(\"ammap/databases/Cr-Fe-Ni_miettinen1999.tdb\")\n",
    "phases = list(set(dbf.phases.keys()))\n",
    "print(elementalSpaceComponents)\n",
    "print(f'Loaded TDB file with phases considered: {phases}')"
   ]
  },
  {
   "cell_type": "markdown",
   "metadata": {},
   "source": [
    "As you can see, we will be looking at several different phases here. To keep things as simple as possible, we can split them in three groups:\n",
    "- **liquid** phases: `LIQUID` (which we obviously want to avoid in a solid part design)\n",
    "- **solid solution** phases: `FCC_A1`, `BCC_A2`, and `HCP_A3`\n",
    "- **intermetallic** phases: `LAVES_C14`, `LAVES_C15`, and `LAVES_C36`\n",
    "\n",
    "Designing an alloy is a complex procedure but for the sake of this tutorial, we will be focusing on the most common issue which is the formation of intermetallic phases which cause embrittlement and reduce the ductility of the material. **Thus, we will apply a simple constraint that the alloy should only contain the solid solution phases FCC, BCC, and HCP.**\n",
    "\n",
    "**Now, knowing what we are looking for (phases at equilibrium), we can start by writing a short Python script around `pycalphad` to calculate the equilibrium phases for a given chemical elements composition `elP`. It is already placed in the `examples` directory as `myPycalphadCallable.py` which defines a function `equilibrium_callable` that takes a composition and returns the equilibrium phases.**\n",
    "\n",
    "**We will arbitrarily pick `1000K`** as the temperature for the sake of this tutorial, but you can change it to any other value you like. Or even make it a list and add phases present at each temperature to a set to apply our constraint over a range of temperatures.\n",
    "\n",
    "\n",
    "Please note that much more information is generated in the process (e.g., chemical composition of each phase and its fraction) but we are only interested in the phase presence. If you wish to do so, modifying the script to, e.g., allow for up to 5% of intermetallic phases, is a trivial task. Advanced users may also want to have a look at the `scheil_callable` we do not use in this tutorial for the sake of runtime, but which can be used to simulate solidification of the alloy from a liquid state in an additive manufacturing process."
   ]
  },
  {
   "cell_type": "code",
   "execution_count": 8,
   "metadata": {},
   "outputs": [],
   "source": [
    "from ammap.callables.EqScheil import equilibrium_callable"
   ]
  },
  {
   "cell_type": "markdown",
   "metadata": {},
   "source": [
    "Let's test it on some composition in our space starting with the first point!"
   ]
  },
  {
   "cell_type": "code",
   "execution_count": 9,
   "metadata": {},
   "outputs": [
    {
     "name": "stdout",
     "output_type": "stream",
     "text": [
      "(  0) Cr100.0 \n"
     ]
    },
    {
     "data": {
      "text/plain": [
       "{'Phases': ['BCC_A2'], 'PhaseFraction': [0.9999999999974667]}"
      ]
     },
     "execution_count": 9,
     "metadata": {},
     "output_type": "execute_result"
    }
   ],
   "source": [
    "print(formulas[0])\n",
    "equilibrium_callable(gridEl[0])"
   ]
  },
  {
   "cell_type": "markdown",
   "metadata": {},
   "source": [
    "You should see `['BCC_A2']` in a second or so if you've run it at the default `1000K`. Quick and neat, right? Now, let's pick some compositionally complex alloy that does not lay around the corner of the attainable space tetrahedron and presents an actual challenge."
   ]
  },
  {
   "cell_type": "code",
   "execution_count": 10,
   "metadata": {},
   "outputs": [
    {
     "name": "stdout",
     "output_type": "stream",
     "text": [
      "( 22) Ni91.7 Cr8.3 \n"
     ]
    },
    {
     "data": {
      "text/plain": [
       "{'Phases': ['FCC_A1'], 'PhaseFraction': [0.9999999999994575]}"
      ]
     },
     "execution_count": 10,
     "metadata": {},
     "output_type": "execute_result"
    }
   ],
   "source": [
    "print(formulas[22])\n",
    "equilibrium_callable(gridEl[22])"
   ]
  },
  {
   "cell_type": "markdown",
   "metadata": {},
   "source": [
    "Now, you should have seen an example of infeasible point composed of `['HCP_A3', 'LAVES_C15', 'BCC_A2']`. Let's deploy this in parallel over all the points in the elemental space `gridEl` and see how it looks like! We will use the `process_map` function from the `tqdm` library to show a neat progress bar while the calculations are running in parallel. On the 4-core Codespaces VM you can expect it to take around 2-3 minutes."
   ]
  },
  {
   "cell_type": "code",
   "execution_count": 11,
   "metadata": {},
   "outputs": [],
   "source": [
    "from tqdm import tqdm\n",
    "from tqdm.contrib.concurrent import process_map"
   ]
  },
  {
   "cell_type": "code",
   "execution_count": 12,
   "metadata": {},
   "outputs": [
    {
     "data": {
      "application/vnd.jupyter.widget-view+json": {
       "model_id": "0178843f6d0d4fab8e1f57e6ae332b13",
       "version_major": 2,
       "version_minor": 0
      },
      "text/plain": [
       "  0%|          | 0/325 [00:00<?, ?it/s]"
      ]
     },
     "metadata": {},
     "output_type": "display_data"
    }
   ],
   "source": [
    "gridPhases = process_map(equilibrium_callable, gridEl)"
   ]
  },
  {
   "cell_type": "markdown",
   "metadata": {},
   "source": [
    "Let's see how some of the data looks like."
   ]
  },
  {
   "cell_type": "code",
   "execution_count": 13,
   "metadata": {},
   "outputs": [
    {
     "data": {
      "text/plain": [
       "325"
      ]
     },
     "execution_count": 13,
     "metadata": {},
     "output_type": "execute_result"
    }
   ],
   "source": [
    "len(gridPhases)"
   ]
  },
  {
   "cell_type": "markdown",
   "metadata": {},
   "source": [
    "Now, let's turn that list of phases into a list of feasibility based on the constraint we defined earlier. Note that in some cases, the `pycalphad` library may return an empty list of phases, which we will treat as infeasible."
   ]
  },
  {
   "cell_type": "markdown",
   "metadata": {},
   "source": [
    "infeasiblePhases = set([\n",
    "    'AL3M', 'AL5FE2', 'LIQUID', 'AL11CR4', 'D82_217', 'AL3NI1', 'NI3TI', 'AL5FE4', 'TAOA', 'LAVES_C15', 'GAMMAH', 'AL5CR', 'AL2FE', 'AL4CR', 'NIV3_A15', 'GAMMA_H', \n",
    "    'ALTI3_D019', 'ALCU_DELTA', 'AL45CR7', 'TS01TI', 'NI8V', 'AL45CR7_12', 'LAVES_C14', 'LAVES_A15', 'AL3NI5', 'AL5TI3', 'ALCU_EPSILON', 'NITI2', 'AL8V5', 'ALCR2', 'AL23V4', 'AL13FE4', \n",
    "    'AL4NI3', 'ALCU_ZETA', 'ALCU_THETA', 'AL3NI2', 'AL23V4_194', 'CRNI2', 'NI3V_D022', 'LAVES_C36', 'TS01T3', 'AL21V2_227', 'AL5TI2', 'ALCU_ETA', 'GAMMAL', \n",
    "    'GAMMA_D83', 'SIGMA_D8B', 'AL21V2', 'AL2TI', 'AL3TI_L', 'ALTI', 'AL45V7'])\n",
    "print(f\"Feasible phases set: {set(phases).difference(infeasiblePhases)}\")\n"
   ]
  },
  {
   "cell_type": "code",
   "execution_count": 14,
   "metadata": {},
   "outputs": [
    {
     "name": "stdout",
     "output_type": "stream",
     "text": [
      "Feasible phases set: {'BCC_A2', 'HCP_A3', 'FCC_A1'}\n"
     ]
    }
   ],
   "source": [
    "infeasiblePhases = set(['LIQUID', 'SIGMA'])\n",
    "print(f\"Feasible phases set: {set(phases).difference(infeasiblePhases)}\")"
   ]
  },
  {
   "cell_type": "code",
   "execution_count": 15,
   "metadata": {},
   "outputs": [],
   "source": [
    "feasiblePhases = set(['FCC_A1', 'BCC_A2', 'HCP_A3', 'BCC_B2', 'FCC_L12', 'L12_FCC'])\n"
   ]
  },
  {
   "cell_type": "code",
   "execution_count": 16,
   "metadata": {},
   "outputs": [
    {
     "name": "stdout",
     "output_type": "stream",
     "text": [
      "0\n",
      "0\n",
      "0\n",
      "0\n",
      "0\n",
      "0\n",
      "0\n",
      "0\n",
      "0\n",
      "0\n",
      "0\n",
      "0\n",
      "0\n",
      "0\n",
      "0\n",
      "0\n",
      "0\n",
      "0\n",
      "0\n",
      "0\n",
      "0\n",
      "0\n",
      "0\n",
      "0\n",
      "0\n",
      "0\n",
      "0\n",
      "0\n",
      "0\n",
      "0\n",
      "0\n",
      "0\n",
      "0\n",
      "0\n",
      "0\n",
      "0\n",
      "0\n",
      "0\n",
      "0\n",
      "0\n",
      "0\n",
      "0\n",
      "0\n",
      "0\n",
      "0\n",
      "0\n",
      "0\n",
      "0\n",
      "0\n",
      "0\n",
      "0\n",
      "0\n",
      "0\n",
      "0\n",
      "0\n",
      "0\n",
      "0\n",
      "0\n",
      "0\n",
      "0\n",
      "0\n",
      "0\n",
      "0\n",
      "0\n",
      "0\n",
      "0\n",
      "0\n",
      "0\n",
      "0\n",
      "0\n",
      "0\n",
      "0\n",
      "0\n",
      "0\n",
      "0\n",
      "0\n",
      "0\n",
      "0\n",
      "0\n",
      "0\n",
      "0\n",
      "0\n",
      "0\n",
      "0\n",
      "0\n",
      "0\n",
      "0\n",
      "0\n",
      "0\n",
      "0\n",
      "0\n",
      "0\n",
      "0\n",
      "0\n",
      "0\n",
      "0\n",
      "0\n",
      "0\n",
      "0\n",
      "0\n",
      "0\n",
      "0\n",
      "0\n",
      "0\n",
      "0\n",
      "0\n",
      "0\n",
      "0\n",
      "0\n",
      "0\n",
      "0\n",
      "0\n",
      "0\n",
      "0\n",
      "0\n",
      "0\n",
      "0\n",
      "0\n",
      "0\n",
      "0\n",
      "0\n",
      "0\n",
      "0\n",
      "0\n",
      "0\n",
      "0\n",
      "0\n",
      "0\n",
      "0\n",
      "0\n",
      "0\n",
      "0\n",
      "0\n",
      "0\n",
      "0\n",
      "1\n",
      "0\n",
      "0\n",
      "0\n",
      "0\n",
      "0\n",
      "0\n",
      "0\n",
      "0\n",
      "0\n",
      "0\n",
      "0\n",
      "0\n",
      "0\n",
      "0\n",
      "0\n",
      "0\n",
      "0\n",
      "0\n",
      "1\n",
      "0\n",
      "0\n",
      "0\n",
      "0\n",
      "0\n",
      "0\n",
      "0\n",
      "0\n",
      "0\n",
      "0\n",
      "0\n",
      "0\n",
      "0\n",
      "0\n",
      "0\n",
      "0\n",
      "0\n",
      "1\n",
      "1\n",
      "0\n",
      "0\n",
      "0\n",
      "0\n",
      "0\n",
      "0\n",
      "0\n",
      "0\n",
      "0\n",
      "0\n",
      "0\n",
      "0\n",
      "0\n",
      "0\n",
      "0\n",
      "1\n",
      "1\n",
      "1\n",
      "0\n",
      "0\n",
      "0\n",
      "0\n",
      "0\n",
      "0\n",
      "0\n",
      "0\n",
      "0\n",
      "0\n",
      "0\n",
      "0\n",
      "0\n",
      "1\n",
      "1\n",
      "1\n",
      "1\n",
      "0\n",
      "0\n",
      "0\n",
      "0\n",
      "0\n",
      "0\n",
      "0\n",
      "0\n",
      "0\n",
      "0\n",
      "0\n",
      "1\n",
      "1\n",
      "1\n",
      "1\n",
      "1\n",
      "0\n",
      "0\n",
      "0\n",
      "0\n",
      "0\n",
      "0\n",
      "0\n",
      "0\n",
      "0\n",
      "1\n",
      "1\n",
      "1\n",
      "1\n",
      "1\n",
      "0\n",
      "0\n",
      "0\n",
      "0\n",
      "0\n",
      "0\n",
      "0\n",
      "0\n",
      "1\n",
      "1\n",
      "1\n",
      "1\n",
      "1\n",
      "1\n",
      "0\n",
      "0\n",
      "0\n",
      "0\n",
      "0\n",
      "0\n",
      "1\n",
      "1\n",
      "1\n",
      "1\n",
      "1\n",
      "1\n",
      "1\n",
      "0\n",
      "0\n",
      "0\n",
      "0\n",
      "1\n",
      "1\n",
      "1\n",
      "1\n",
      "1\n",
      "1\n",
      "1\n",
      "0\n",
      "0\n",
      "0\n",
      "1\n",
      "1\n",
      "1\n",
      "1\n",
      "1\n",
      "1\n",
      "0\n",
      "0\n",
      "0\n",
      "1\n",
      "1\n",
      "1\n",
      "1\n",
      "1\n",
      "1\n",
      "0\n",
      "0\n",
      "1\n",
      "1\n",
      "1\n",
      "1\n",
      "1\n",
      "0\n",
      "0\n",
      "1\n",
      "1\n",
      "1\n",
      "1\n",
      "0\n",
      "0\n",
      "1\n",
      "1\n",
      "1\n",
      "1\n",
      "0\n",
      "1\n",
      "1\n",
      "1\n",
      "0\n",
      "1\n",
      "1\n",
      "0\n",
      "1\n",
      "0\n",
      "1\n"
     ]
    }
   ],
   "source": [
    "for i in range(len(gridPhases)):\n",
    "    print(len(set(gridPhases[i]['Phases']).difference(feasiblePhases)))\n"
   ]
  },
  {
   "cell_type": "code",
   "execution_count": 30,
   "metadata": {},
   "outputs": [],
   "source": [
    "gridFeasibleTest = [len(gridPhases[i]['Phases']) != 0 and len(set(gridPhases[i]['Phases']).difference(feasiblePhases)) == 0 and gridPhases[i] != [] for i in range(len(gridPhases))]\n"
   ]
  },
  {
   "cell_type": "markdown",
   "metadata": {},
   "source": [
    "for phase in gridPhases:\n",
    "    phase['infeasiblePhases'] = sum(phase['PhaseFraction'][i] for i, p in enumerate(phase['Phases']) if p in infeasiblePhases)\n",
    "phases1 = [gp['Phases'] for gp in gridPhases]\n",
    "sum1= [gridPhases[i]['infeasiblePhases'] for i in range(len(gridPhases))]\n",
    "gridFeasible = [len(set(p) & infeasiblePhases)==0 and p!=[] for p in phases1]"
   ]
  },
  {
   "cell_type": "markdown",
   "metadata": {},
   "source": [
    "gridFeasible = [len(set(p) & infeasiblePhases)==0 and p!=[] for p in phases1]\n"
   ]
  },
  {
   "cell_type": "code",
   "execution_count": 31,
   "metadata": {},
   "outputs": [
    {
     "data": {
      "text/plain": [
       "325"
      ]
     },
     "execution_count": 31,
     "metadata": {},
     "output_type": "execute_result"
    }
   ],
   "source": [
    "len(gridFeasibleTest)"
   ]
  },
  {
   "cell_type": "markdown",
   "metadata": {},
   "source": [
    "Finally, let's plot the result in 3D using the `plotly` library and our spacial-transformed attainable space grid we obtained with `plotting.simplex2cartesian_py(gridAtt)` earlier.\n",
    "\n",
    "**Once you run the cell below, you should be seeing an interactive 3D plot with 455 split roughly 50/50 between feasible and infeasible points. You can rotate the plot, zoom in and out, and hover over the points to see their composition and feasibility. You can also click on the legend to hide/show the points based on their feasibility.**"
   ]
  },
  {
   "cell_type": "code",
   "execution_count": 32,
   "metadata": {},
   "outputs": [],
   "source": [
    "color_map = {'path':'red', True:'#FECB52', False:'blue'}"
   ]
  },
  {
   "cell_type": "code",
   "execution_count": 34,
   "metadata": {},
   "outputs": [
    {
     "data": {
      "application/vnd.plotly.v1+json": {
       "config": {
        "plotlyServerURL": "https://plot.ly"
       },
       "data": [
        {
         "hovertemplate": "<b>%{hovertext}</b><br><br>Solid Solution Phases=True<br>=%{y}<br>text=%{text}<extra></extra>",
         "hovertext": [
          "(  0) Cr100.0 ",
          "(  1) Ni4.2 Cr95.8 ",
          "(  2) Ni8.3 Cr91.7 ",
          "(  3) Ni12.5 Cr87.5 ",
          "(  4) Ni16.7 Cr83.3 ",
          "(  5) Ni20.8 Cr79.2 ",
          "(  6) Ni25.0 Cr75.0 ",
          "(  7) Ni29.2 Cr70.8 ",
          "(  8) Ni33.3 Cr66.7 ",
          "(  9) Ni37.5 Cr62.5 ",
          "( 10) Ni41.7 Cr58.3 ",
          "( 11) Ni45.8 Cr54.2 ",
          "( 12) Ni50.0 Cr50.0 ",
          "( 13) Ni54.2 Cr45.8 ",
          "( 14) Ni58.3 Cr41.7 ",
          "( 15) Ni62.5 Cr37.5 ",
          "( 16) Ni66.7 Cr33.3 ",
          "( 17) Ni70.8 Cr29.2 ",
          "( 18) Ni75.0 Cr25.0 ",
          "( 19) Ni79.2 Cr20.8 ",
          "( 20) Ni83.3 Cr16.7 ",
          "( 21) Ni87.5 Cr12.5 ",
          "( 22) Ni91.7 Cr8.3 ",
          "( 23) Ni95.8 Cr4.2 ",
          "( 24) Ni100.0 ",
          "( 25) Ni0.4 Cr96.7 Fe2.9 ",
          "( 26) Ni4.6 Cr92.5 Fe2.9 ",
          "( 27) Ni8.7 Cr88.3 Fe2.9 ",
          "( 28) Ni12.9 Cr84.2 Fe2.9 ",
          "( 29) Ni17.1 Cr80.0 Fe2.9 ",
          "( 30) Ni21.2 Cr75.8 Fe2.9 ",
          "( 31) Ni25.4 Cr71.7 Fe2.9 ",
          "( 32) Ni29.6 Cr67.5 Fe2.9 ",
          "( 33) Ni33.7 Cr63.3 Fe2.9 ",
          "( 34) Ni37.9 Cr59.2 Fe2.9 ",
          "( 35) Ni42.1 Cr55.0 Fe2.9 ",
          "( 36) Ni46.2 Cr50.8 Fe2.9 ",
          "( 37) Ni50.4 Cr46.7 Fe2.9 ",
          "( 38) Ni54.6 Cr42.5 Fe2.9 ",
          "( 39) Ni58.7 Cr38.3 Fe2.9 ",
          "( 40) Ni62.9 Cr34.2 Fe2.9 ",
          "( 41) Ni67.1 Cr30.0 Fe2.9 ",
          "( 42) Ni71.2 Cr25.8 Fe2.9 ",
          "( 43) Ni75.4 Cr21.7 Fe2.9 ",
          "( 44) Ni79.6 Cr17.5 Fe2.9 ",
          "( 45) Ni83.7 Cr13.3 Fe2.9 ",
          "( 46) Ni87.9 Cr9.2 Fe2.9 ",
          "( 47) Ni92.1 Cr5.0 Fe2.9 ",
          "( 48) Ni96.2 Cr0.8 Fe2.9 ",
          "( 49) Ni0.8 Cr93.3 Fe5.9 ",
          "( 50) Ni5.0 Cr89.2 Fe5.9 ",
          "( 51) Ni9.1 Cr85.0 Fe5.9 ",
          "( 52) Ni13.3 Cr80.8 Fe5.9 ",
          "( 53) Ni17.5 Cr76.7 Fe5.9 ",
          "( 54) Ni21.6 Cr72.5 Fe5.9 ",
          "( 55) Ni25.8 Cr68.3 Fe5.9 ",
          "( 56) Ni30.0 Cr64.2 Fe5.9 ",
          "( 57) Ni34.1 Cr60.0 Fe5.9 ",
          "( 58) Ni38.3 Cr55.8 Fe5.9 ",
          "( 59) Ni42.5 Cr51.7 Fe5.9 ",
          "( 60) Ni46.6 Cr47.5 Fe5.9 ",
          "( 61) Ni50.8 Cr43.3 Fe5.9 ",
          "( 62) Ni55.0 Cr39.2 Fe5.9 ",
          "( 63) Ni59.1 Cr35.0 Fe5.9 ",
          "( 64) Ni63.3 Cr30.8 Fe5.9 ",
          "( 65) Ni67.5 Cr26.7 Fe5.9 ",
          "( 66) Ni71.6 Cr22.5 Fe5.9 ",
          "( 67) Ni75.8 Cr18.3 Fe5.9 ",
          "( 68) Ni80.0 Cr14.2 Fe5.9 ",
          "( 69) Ni84.1 Cr10.0 Fe5.9 ",
          "( 70) Ni88.3 Cr5.8 Fe5.9 ",
          "( 71) Ni92.5 Cr1.7 Fe5.9 ",
          "( 72) Ni1.2 Cr90.0 Fe8.8 ",
          "( 73) Ni5.4 Cr85.8 Fe8.8 ",
          "( 74) Ni9.5 Cr81.7 Fe8.8 ",
          "( 75) Ni13.7 Cr77.5 Fe8.8 ",
          "( 76) Ni17.9 Cr73.3 Fe8.8 ",
          "( 77) Ni22.0 Cr69.2 Fe8.8 ",
          "( 78) Ni26.2 Cr65.0 Fe8.8 ",
          "( 79) Ni30.4 Cr60.8 Fe8.8 ",
          "( 80) Ni34.5 Cr56.7 Fe8.8 ",
          "( 81) Ni38.7 Cr52.5 Fe8.8 ",
          "( 82) Ni42.9 Cr48.3 Fe8.8 ",
          "( 83) Ni47.0 Cr44.2 Fe8.8 ",
          "( 84) Ni51.2 Cr40.0 Fe8.8 ",
          "( 85) Ni55.4 Cr35.8 Fe8.8 ",
          "( 86) Ni59.5 Cr31.7 Fe8.8 ",
          "( 87) Ni63.7 Cr27.5 Fe8.8 ",
          "( 88) Ni67.9 Cr23.3 Fe8.8 ",
          "( 89) Ni72.0 Cr19.2 Fe8.8 ",
          "( 90) Ni76.2 Cr15.0 Fe8.8 ",
          "( 91) Ni80.4 Cr10.8 Fe8.8 ",
          "( 92) Ni84.5 Cr6.7 Fe8.8 ",
          "( 93) Ni88.7 Cr2.5 Fe8.8 ",
          "( 94) Ni1.6 Cr86.7 Fe11.7 ",
          "( 95) Ni5.8 Cr82.5 Fe11.7 ",
          "( 96) Ni9.9 Cr78.3 Fe11.7 ",
          "( 97) Ni14.1 Cr74.2 Fe11.7 ",
          "( 98) Ni18.3 Cr70.0 Fe11.7 ",
          "( 99) Ni22.4 Cr65.8 Fe11.7 ",
          "(100) Ni26.6 Cr61.7 Fe11.7 ",
          "(101) Ni30.8 Cr57.5 Fe11.7 ",
          "(102) Ni34.9 Cr53.3 Fe11.7 ",
          "(103) Ni39.1 Cr49.2 Fe11.7 ",
          "(104) Ni43.3 Cr45.0 Fe11.7 ",
          "(105) Ni47.4 Cr40.8 Fe11.7 ",
          "(106) Ni51.6 Cr36.7 Fe11.7 ",
          "(107) Ni55.8 Cr32.5 Fe11.7 ",
          "(108) Ni59.9 Cr28.3 Fe11.7 ",
          "(109) Ni64.1 Cr24.2 Fe11.7 ",
          "(110) Ni68.3 Cr20.0 Fe11.7 ",
          "(111) Ni72.4 Cr15.8 Fe11.7 ",
          "(112) Ni76.6 Cr11.7 Fe11.7 ",
          "(113) Ni80.8 Cr7.5 Fe11.7 ",
          "(114) Ni84.9 Cr3.3 Fe11.7 ",
          "(115) Ni2.0 Cr83.3 Fe14.7 ",
          "(116) Ni6.2 Cr79.2 Fe14.7 ",
          "(117) Ni10.3 Cr75.0 Fe14.7 ",
          "(118) Ni14.5 Cr70.8 Fe14.7 ",
          "(119) Ni18.7 Cr66.7 Fe14.7 ",
          "(120) Ni22.8 Cr62.5 Fe14.7 ",
          "(121) Ni27.0 Cr58.3 Fe14.7 ",
          "(122) Ni31.2 Cr54.2 Fe14.7 ",
          "(123) Ni35.3 Cr50.0 Fe14.7 ",
          "(124) Ni39.5 Cr45.8 Fe14.7 ",
          "(125) Ni43.7 Cr41.7 Fe14.7 ",
          "(126) Ni47.8 Cr37.5 Fe14.7 ",
          "(127) Ni52.0 Cr33.3 Fe14.7 ",
          "(128) Ni56.2 Cr29.2 Fe14.7 ",
          "(129) Ni60.3 Cr25.0 Fe14.7 ",
          "(130) Ni64.5 Cr20.8 Fe14.7 ",
          "(131) Ni68.7 Cr16.7 Fe14.7 ",
          "(132) Ni72.8 Cr12.5 Fe14.7 ",
          "(133) Ni77.0 Cr8.3 Fe14.7 ",
          "(134) Ni81.2 Cr4.2 Fe14.7 ",
          "(136) Ni6.6 Cr75.8 Fe17.6 ",
          "(137) Ni10.7 Cr71.7 Fe17.6 ",
          "(138) Ni14.9 Cr67.5 Fe17.6 ",
          "(139) Ni19.1 Cr63.3 Fe17.6 ",
          "(140) Ni23.2 Cr59.2 Fe17.6 ",
          "(141) Ni27.4 Cr55.0 Fe17.6 ",
          "(142) Ni31.6 Cr50.8 Fe17.6 ",
          "(143) Ni35.7 Cr46.7 Fe17.6 ",
          "(144) Ni39.9 Cr42.5 Fe17.6 ",
          "(145) Ni44.1 Cr38.3 Fe17.6 ",
          "(146) Ni48.2 Cr34.2 Fe17.6 ",
          "(147) Ni52.4 Cr30.0 Fe17.6 ",
          "(148) Ni56.6 Cr25.8 Fe17.6 ",
          "(149) Ni60.7 Cr21.7 Fe17.6 ",
          "(150) Ni64.9 Cr17.5 Fe17.6 ",
          "(151) Ni69.1 Cr13.3 Fe17.6 ",
          "(152) Ni73.2 Cr9.2 Fe17.6 ",
          "(153) Ni77.4 Cr5.0 Fe17.6 ",
          "(155) Ni7.0 Cr72.5 Fe20.5 ",
          "(156) Ni11.1 Cr68.3 Fe20.5 ",
          "(157) Ni15.3 Cr64.1 Fe20.5 ",
          "(158) Ni19.5 Cr60.0 Fe20.5 ",
          "(159) Ni23.6 Cr55.8 Fe20.5 ",
          "(160) Ni27.8 Cr51.6 Fe20.5 ",
          "(161) Ni32.0 Cr47.5 Fe20.5 ",
          "(162) Ni36.1 Cr43.3 Fe20.5 ",
          "(163) Ni40.3 Cr39.1 Fe20.5 ",
          "(164) Ni44.5 Cr35.0 Fe20.5 ",
          "(165) Ni48.6 Cr30.8 Fe20.5 ",
          "(166) Ni52.8 Cr26.6 Fe20.5 ",
          "(167) Ni57.0 Cr22.5 Fe20.5 ",
          "(168) Ni61.1 Cr18.3 Fe20.5 ",
          "(169) Ni65.3 Cr14.1 Fe20.5 ",
          "(170) Ni69.5 Cr10.0 Fe20.5 ",
          "(171) Ni73.6 Cr5.8 Fe20.5 ",
          "(174) Ni11.5 Cr65.0 Fe23.5 ",
          "(175) Ni15.7 Cr60.8 Fe23.5 ",
          "(176) Ni19.9 Cr56.6 Fe23.5 ",
          "(177) Ni24.0 Cr52.5 Fe23.5 ",
          "(178) Ni28.2 Cr48.3 Fe23.5 ",
          "(179) Ni32.4 Cr44.1 Fe23.5 ",
          "(180) Ni36.5 Cr40.0 Fe23.5 ",
          "(181) Ni40.7 Cr35.8 Fe23.5 ",
          "(182) Ni44.9 Cr31.6 Fe23.5 ",
          "(183) Ni49.0 Cr27.5 Fe23.5 ",
          "(184) Ni53.2 Cr23.3 Fe23.5 ",
          "(185) Ni57.4 Cr19.1 Fe23.5 ",
          "(186) Ni61.5 Cr15.0 Fe23.5 ",
          "(187) Ni65.7 Cr10.8 Fe23.5 ",
          "(188) Ni69.9 Cr6.6 Fe23.5 ",
          "(192) Ni16.1 Cr57.5 Fe26.4 ",
          "(193) Ni20.3 Cr53.3 Fe26.4 ",
          "(194) Ni24.4 Cr49.1 Fe26.4 ",
          "(195) Ni28.6 Cr45.0 Fe26.4 ",
          "(196) Ni32.8 Cr40.8 Fe26.4 ",
          "(197) Ni36.9 Cr36.6 Fe26.4 ",
          "(198) Ni41.1 Cr32.5 Fe26.4 ",
          "(199) Ni45.3 Cr28.3 Fe26.4 ",
          "(200) Ni49.4 Cr24.1 Fe26.4 ",
          "(201) Ni53.6 Cr20.0 Fe26.4 ",
          "(202) Ni57.8 Cr15.8 Fe26.4 ",
          "(203) Ni61.9 Cr11.6 Fe26.4 ",
          "(204) Ni66.1 Cr7.5 Fe26.4 ",
          "(209) Ni20.7 Cr50.0 Fe29.4 ",
          "(210) Ni24.8 Cr45.8 Fe29.4 ",
          "(211) Ni29.0 Cr41.6 Fe29.4 ",
          "(212) Ni33.2 Cr37.5 Fe29.4 ",
          "(213) Ni37.3 Cr33.3 Fe29.4 ",
          "(214) Ni41.5 Cr29.1 Fe29.4 ",
          "(215) Ni45.7 Cr25.0 Fe29.4 ",
          "(216) Ni49.8 Cr20.8 Fe29.4 ",
          "(217) Ni54.0 Cr16.6 Fe29.4 ",
          "(218) Ni58.2 Cr12.5 Fe29.4 ",
          "(219) Ni62.3 Cr8.3 Fe29.4 ",
          "(225) Ni25.2 Cr42.5 Fe32.3 ",
          "(226) Ni29.4 Cr38.3 Fe32.3 ",
          "(227) Ni33.6 Cr34.1 Fe32.3 ",
          "(228) Ni37.7 Cr30.0 Fe32.3 ",
          "(229) Ni41.9 Cr25.8 Fe32.3 ",
          "(230) Ni46.1 Cr21.6 Fe32.3 ",
          "(231) Ni50.2 Cr17.5 Fe32.3 ",
          "(232) Ni54.4 Cr13.3 Fe32.3 ",
          "(233) Ni58.6 Cr9.1 Fe32.3 ",
          "(239) Ni25.6 Cr39.1 Fe35.2 ",
          "(240) Ni29.8 Cr35.0 Fe35.2 ",
          "(241) Ni34.0 Cr30.8 Fe35.2 ",
          "(242) Ni38.1 Cr26.6 Fe35.2 ",
          "(243) Ni42.3 Cr22.5 Fe35.2 ",
          "(244) Ni46.5 Cr18.3 Fe35.2 ",
          "(245) Ni50.6 Cr14.1 Fe35.2 ",
          "(246) Ni54.8 Cr10.0 Fe35.2 ",
          "(253) Ni30.2 Cr31.6 Fe38.2 ",
          "(254) Ni34.4 Cr27.5 Fe38.2 ",
          "(255) Ni38.5 Cr23.3 Fe38.2 ",
          "(256) Ni42.7 Cr19.1 Fe38.2 ",
          "(257) Ni46.9 Cr15.0 Fe38.2 ",
          "(258) Ni51.0 Cr10.8 Fe38.2 ",
          "(266) Ni34.8 Cr24.1 Fe41.1 ",
          "(267) Ni38.9 Cr20.0 Fe41.1 ",
          "(268) Ni43.1 Cr15.8 Fe41.1 ",
          "(269) Ni47.3 Cr11.6 Fe41.1 ",
          "(277) Ni35.2 Cr20.8 Fe44.0 ",
          "(278) Ni39.3 Cr16.6 Fe44.0 ",
          "(279) Ni43.5 Cr12.5 Fe44.0 ",
          "(286) Ni31.4 Cr21.6 Fe47.0 ",
          "(287) Ni35.6 Cr17.5 Fe47.0 ",
          "(288) Ni39.7 Cr13.3 Fe47.0 ",
          "(295) Ni31.8 Cr18.3 Fe49.9 ",
          "(296) Ni36.0 Cr14.1 Fe49.9 ",
          "(302) Ni28.0 Cr19.1 Fe52.8 ",
          "(303) Ni32.2 Cr15.0 Fe52.8 ",
          "(308) Ni24.3 Cr20.0 Fe55.8 ",
          "(309) Ni28.4 Cr15.8 Fe55.8 ",
          "(314) Ni24.7 Cr16.6 Fe58.7 ",
          "(318) Ni20.9 Cr17.4 Fe61.6 ",
          "(321) Ni17.1 Cr18.3 Fe64.6 ",
          "(323) Ni13.4 Cr19.1 Fe67.5 "
         ],
         "legendgroup": "True",
         "marker": {
          "color": "#FECB52",
          "size": 12,
          "symbol": "circle"
         },
         "mode": "markers+text",
         "name": "True",
         "orientation": "v",
         "showlegend": true,
         "text": [
          "<b>Cr</b>",
          "",
          "",
          "",
          "",
          "",
          "",
          "",
          "",
          "",
          "",
          "",
          "",
          "",
          "",
          "",
          "",
          "",
          "",
          "",
          "",
          "",
          "",
          "",
          "<b>Ni</b>",
          "",
          "",
          "",
          "",
          "",
          "",
          "",
          "",
          "",
          "",
          "",
          "",
          "",
          "",
          "",
          "",
          "",
          "",
          "",
          "",
          "",
          "",
          "",
          "",
          "",
          "",
          "",
          "",
          "",
          "",
          "",
          "",
          "",
          "",
          "",
          "",
          "",
          "",
          "",
          "",
          "",
          "",
          "",
          "",
          "",
          "",
          "",
          "",
          "",
          "",
          "",
          "",
          "",
          "",
          "",
          "",
          "",
          "",
          "",
          "",
          "",
          "",
          "",
          "",
          "",
          "",
          "",
          "",
          "",
          "",
          "",
          "",
          "",
          "",
          "",
          "",
          "",
          "",
          "",
          "",
          "",
          "",
          "",
          "",
          "",
          "",
          "",
          "",
          "",
          "",
          "",
          "",
          "",
          "",
          "",
          "",
          "",
          "",
          "",
          "",
          "",
          "",
          "",
          "",
          "",
          "",
          "",
          "",
          "",
          "",
          "",
          "",
          "",
          "",
          "",
          "",
          "",
          "",
          "",
          "",
          "",
          "",
          "",
          "",
          "",
          "",
          "",
          "",
          "",
          "",
          "",
          "",
          "",
          "",
          "",
          "",
          "",
          "",
          "",
          "",
          "",
          "",
          "",
          "",
          "",
          "",
          "",
          "",
          "",
          "",
          "",
          "",
          "",
          "",
          "",
          "",
          "",
          "",
          "",
          "",
          "",
          "",
          "",
          "",
          "",
          "",
          "",
          "",
          "",
          "",
          "",
          "",
          "",
          "",
          "",
          "",
          "",
          "",
          "",
          "",
          "",
          "",
          "",
          "",
          "",
          "",
          "",
          "",
          "",
          "",
          "",
          "",
          "",
          "",
          "",
          "",
          "",
          "",
          "",
          "",
          "",
          "",
          "",
          "",
          "",
          "",
          "",
          "",
          "",
          "",
          "",
          "",
          "",
          "",
          "",
          "",
          "",
          "",
          "",
          "",
          "",
          "",
          "",
          "",
          "",
          "",
          ""
         ],
         "type": "scatter",
         "x": [
          -0.866025,
          -0.79385625,
          -0.7216875,
          -0.64951875,
          -0.57735,
          -0.50518125,
          -0.4330125,
          -0.3608437500000001,
          -0.28867499999999996,
          -0.21650625,
          -0.14433750000000004,
          -0.07216874999999998,
          0,
          0.07216874999999996,
          0.14433749999999998,
          0.21650625000000007,
          0.288675,
          0.3608437500000001,
          0.4330125,
          0.5051812499999999,
          0.57735,
          0.6495187499999999,
          0.7216875,
          0.7938562500000002,
          0.866025,
          -0.8299406250000001,
          -0.757771875,
          -0.6856031250000001,
          -0.6134343750000001,
          -0.541265625,
          -0.469096875,
          -0.3969281250000001,
          -0.32475937499999996,
          -0.252590625,
          -0.18042187500000004,
          -0.10825312499999998,
          -0.036084375,
          0.036084375000000016,
          0.10825312499999994,
          0.180421875,
          0.25259062500000007,
          0.324759375,
          0.3969281250000001,
          0.469096875,
          0.541265625,
          0.613434375,
          0.685603125,
          0.7577718750000001,
          0.8299406250000001,
          -0.79385625,
          -0.7216875,
          -0.64951875,
          -0.57735,
          -0.50518125,
          -0.4330125000000001,
          -0.36084374999999996,
          -0.288675,
          -0.21650625000000004,
          -0.14433749999999998,
          -0.07216875,
          1.6024681581683354e-17,
          0.07216874999999999,
          0.14433749999999995,
          0.21650625000000004,
          0.28867500000000007,
          0.36084375,
          0.4330125000000001,
          0.50518125,
          0.57735,
          0.64951875,
          0.7216875,
          0.79385625,
          -0.757771875,
          -0.6856031250000001,
          -0.613434375,
          -0.5412656250000001,
          -0.4690968750000001,
          -0.39692812499999997,
          -0.324759375,
          -0.25259062500000007,
          -0.18042187499999998,
          -0.108253125,
          -0.03608437499999999,
          0.03608437499999999,
          0.108253125,
          0.18042187499999998,
          0.252590625,
          0.3247593750000001,
          0.396928125,
          0.4690968750000001,
          0.5412656250000001,
          0.613434375,
          0.6856031250000001,
          0.757771875,
          -0.7216875,
          -0.64951875,
          -0.57735,
          -0.50518125,
          -0.43301249999999997,
          -0.36084375,
          -0.28867500000000007,
          -0.21650624999999998,
          -0.1443375,
          -0.07216874999999999,
          -1.6024681581683354e-17,
          0.07216875,
          0.14433750000000004,
          0.21650624999999993,
          0.288675,
          0.3608437500000001,
          0.4330125,
          0.5051812500000001,
          0.57735,
          0.64951875,
          0.7216875,
          -0.685603125,
          -0.613434375,
          -0.5412656250000001,
          -0.46909687499999997,
          -0.396928125,
          -0.3247593750000001,
          -0.25259062499999996,
          -0.180421875,
          -0.10825312499999999,
          -0.036084375000000016,
          0.036084375,
          0.10825312500000002,
          0.18042187499999998,
          0.25259062499999996,
          0.324759375,
          0.3969281250000001,
          0.469096875,
          0.5412656250000001,
          0.6134343750000001,
          0.685603125,
          -0.57735,
          -0.50518125,
          -0.4330125,
          -0.3608437500000001,
          -0.28867499999999996,
          -0.21650625,
          -0.14433749999999998,
          -0.07216875000000002,
          0,
          0.07216875000000002,
          0.14433749999999998,
          0.21650625,
          0.28867499999999996,
          0.36084375,
          0.4330125000000001,
          0.50518125,
          0.5773500000000001,
          0.64951875,
          -0.541265625,
          -0.469096875,
          -0.3969281250000001,
          -0.32475937499999996,
          -0.252590625,
          -0.18042187499999998,
          -0.10825312500000002,
          -0.036084375,
          0.036084375000000016,
          0.10825312499999999,
          0.180421875,
          0.252590625,
          0.32475937499999996,
          0.396928125,
          0.4690968750000001,
          0.5412656250000001,
          0.6134343750000001,
          -0.4330125000000001,
          -0.36084374999999996,
          -0.288675,
          -0.21650624999999998,
          -0.14433750000000004,
          -0.07216875,
          1.6024681581683354e-17,
          0.07216874999999999,
          0.1443375,
          0.21650625,
          0.288675,
          0.36084374999999996,
          0.4330125,
          0.5051812500000001,
          0.57735,
          -0.324759375,
          -0.252590625,
          -0.18042187500000004,
          -0.108253125,
          -0.03608437499999999,
          0.03608437499999999,
          0.108253125,
          0.180421875,
          0.252590625,
          0.324759375,
          0.39692812499999997,
          0.469096875,
          0.5412656250000001,
          -0.21650625000000004,
          -0.1443375,
          -0.07216874999999999,
          -1.6024681581683354e-17,
          0.07216875,
          0.1443375,
          0.21650625,
          0.288675,
          0.36084375,
          0.43301249999999997,
          0.50518125,
          -0.10825312499999999,
          -0.036084375000000016,
          0.036084375,
          0.10825312499999999,
          0.180421875,
          0.252590625,
          0.324759375,
          0.396928125,
          0.46909687499999997,
          -0.07216875000000002,
          0,
          0.07216874999999999,
          0.1443375,
          0.21650625,
          0.288675,
          0.36084375,
          0.4330125,
          0.036084374999999995,
          0.10825312500000002,
          0.180421875,
          0.252590625,
          0.324759375,
          0.396928125,
          0.1443375,
          0.21650625,
          0.288675,
          0.36084375,
          0.180421875,
          0.252590625,
          0.324759375,
          0.1443375,
          0.21650625,
          0.288675,
          0.180421875,
          0.252590625,
          0.1443375,
          0.21650625,
          0.108253125,
          0.180421875,
          0.1443375,
          0.108253125,
          0.07216875,
          0.036084375
         ],
         "xaxis": "x",
         "y": [
          -0.5,
          -0.5,
          -0.5,
          -0.5,
          -0.5,
          -0.5,
          -0.5,
          -0.5,
          -0.5,
          -0.5,
          -0.5,
          -0.5,
          -0.5,
          -0.5,
          -0.5,
          -0.5,
          -0.5,
          -0.5,
          -0.5,
          -0.5,
          -0.5,
          -0.5,
          -0.5,
          -0.5,
          -0.5,
          -0.4375,
          -0.4375,
          -0.4375,
          -0.4375,
          -0.4375,
          -0.4375,
          -0.4375,
          -0.4375,
          -0.4375,
          -0.4375,
          -0.4375,
          -0.4375,
          -0.4375,
          -0.4375,
          -0.4375,
          -0.4375,
          -0.4375,
          -0.4375,
          -0.4375,
          -0.43749999999999994,
          -0.4375,
          -0.4375,
          -0.43749999999999994,
          -0.4375,
          -0.375,
          -0.375,
          -0.375,
          -0.375,
          -0.375,
          -0.375,
          -0.375,
          -0.375,
          -0.375,
          -0.375,
          -0.375,
          -0.375,
          -0.375,
          -0.375,
          -0.375,
          -0.375,
          -0.375,
          -0.37500000000000006,
          -0.375,
          -0.375,
          -0.37500000000000006,
          -0.375,
          -0.375,
          -0.3125,
          -0.3125,
          -0.3125,
          -0.3125,
          -0.3125,
          -0.3125,
          -0.3125,
          -0.3125,
          -0.3125,
          -0.3125,
          -0.3125,
          -0.3125,
          -0.3125,
          -0.3125,
          -0.3125,
          -0.3125,
          -0.3125,
          -0.3125,
          -0.3125,
          -0.3125,
          -0.3125,
          -0.3125,
          -0.25,
          -0.25,
          -0.25,
          -0.25,
          -0.25,
          -0.25,
          -0.25,
          -0.25,
          -0.25,
          -0.25,
          -0.25,
          -0.25,
          -0.25,
          -0.25,
          -0.25,
          -0.25,
          -0.25,
          -0.25,
          -0.25,
          -0.25,
          -0.25,
          -0.18749999999999997,
          -0.1875,
          -0.1875,
          -0.18749999999999997,
          -0.1875,
          -0.1875,
          -0.18749999999999997,
          -0.1875,
          -0.18749999999999997,
          -0.1875,
          -0.1875,
          -0.18749999999999997,
          -0.1875,
          -0.18749999999999997,
          -0.1875,
          -0.1875,
          -0.18749999999999997,
          -0.1875,
          -0.1875,
          -0.18749999999999997,
          -0.12500000000000003,
          -0.12499999999999997,
          -0.125,
          -0.125,
          -0.125,
          -0.125,
          -0.125,
          -0.125,
          -0.125,
          -0.125,
          -0.125,
          -0.125,
          -0.12499999999999999,
          -0.125,
          -0.125,
          -0.12499999999999997,
          -0.12500000000000003,
          -0.125,
          -0.062499999999999944,
          -0.0625,
          -0.0625,
          -0.062499999999999944,
          -0.0625,
          -0.06249999999999997,
          -0.0625,
          -0.06249999999999997,
          -0.06249999999999997,
          -0.0625,
          -0.06249999999999997,
          -0.062499999999999986,
          -0.06249999999999996,
          -0.0625,
          -0.06249999999999998,
          -0.06249999999999996,
          -0.0625,
          -5.551115123125783e-17,
          0,
          0,
          -2.7755575615628914e-17,
          -2.7755575615628914e-17,
          -2.7755575615628914e-17,
          0,
          -2.7755575615628914e-17,
          -2.7755575615628914e-17,
          -1.3877787807814457e-17,
          -1.3877787807814457e-17,
          0,
          -3.469446951953614e-17,
          -1.734723475976807e-17,
          0,
          0.0625,
          0.06250000000000003,
          0.06249999999999997,
          0.0625,
          0.0625,
          0.0625,
          0.0625,
          0.062499999999999986,
          0.06250000000000001,
          0.0625,
          0.06250000000000003,
          0.062499999999999986,
          0.0625,
          0.12500000000000003,
          0.125,
          0.12500000000000003,
          0.12500000000000003,
          0.125,
          0.125,
          0.125,
          0.12500000000000003,
          0.12500000000000003,
          0.12500000000000003,
          0.125,
          0.18749999999999997,
          0.18749999999999997,
          0.1875,
          0.18749999999999994,
          0.1875,
          0.18749999999999997,
          0.1875,
          0.18749999999999997,
          0.1875,
          0.24999999999999997,
          0.25,
          0.24999999999999994,
          0.25000000000000006,
          0.25,
          0.24999999999999997,
          0.25000000000000006,
          0.25,
          0.31249999999999994,
          0.31249999999999994,
          0.3125,
          0.31249999999999994,
          0.31249999999999994,
          0.3125,
          0.375,
          0.37500000000000006,
          0.37500000000000006,
          0.375,
          0.43749999999999994,
          0.43750000000000006,
          0.4375,
          0.49999999999999994,
          0.49999999999999994,
          0.5,
          0.5625,
          0.5625,
          0.625,
          0.625,
          0.6874999999999999,
          0.6875,
          0.75,
          0.8125,
          0.875,
          0.9375
         ],
         "yaxis": "y"
        },
        {
         "hovertemplate": "<b>%{hovertext}</b><br><br>Solid Solution Phases=False<br>=%{y}<br>text=%{text}<extra></extra>",
         "hovertext": [
          "(135) Ni2.4 Cr80.0 Fe17.6 ",
          "(154) Ni2.8 Cr76.6 Fe20.5 ",
          "(172) Ni3.2 Cr73.3 Fe23.5 ",
          "(173) Ni7.4 Cr69.1 Fe23.5 ",
          "(189) Ni3.6 Cr70.0 Fe26.4 ",
          "(190) Ni7.8 Cr65.8 Fe26.4 ",
          "(191) Ni11.9 Cr61.6 Fe26.4 ",
          "(205) Ni4.0 Cr66.6 Fe29.4 ",
          "(206) Ni8.2 Cr62.5 Fe29.4 ",
          "(207) Ni12.3 Cr58.3 Fe29.4 ",
          "(208) Ni16.5 Cr54.1 Fe29.4 ",
          "(220) Ni4.4 Cr63.3 Fe32.3 ",
          "(221) Ni8.6 Cr59.1 Fe32.3 ",
          "(222) Ni12.7 Cr55.0 Fe32.3 ",
          "(223) Ni16.9 Cr50.8 Fe32.3 ",
          "(224) Ni21.1 Cr46.6 Fe32.3 ",
          "(234) Ni4.8 Cr60.0 Fe35.2 ",
          "(235) Ni9.0 Cr55.8 Fe35.2 ",
          "(236) Ni13.1 Cr51.6 Fe35.2 ",
          "(237) Ni17.3 Cr47.5 Fe35.2 ",
          "(238) Ni21.5 Cr43.3 Fe35.2 ",
          "(247) Ni5.2 Cr56.6 Fe38.2 ",
          "(248) Ni9.4 Cr52.5 Fe38.2 ",
          "(249) Ni13.5 Cr48.3 Fe38.2 ",
          "(250) Ni17.7 Cr44.1 Fe38.2 ",
          "(251) Ni21.9 Cr40.0 Fe38.2 ",
          "(252) Ni26.0 Cr35.8 Fe38.2 ",
          "(259) Ni5.6 Cr53.3 Fe41.1 ",
          "(260) Ni9.8 Cr49.1 Fe41.1 ",
          "(261) Ni13.9 Cr45.0 Fe41.1 ",
          "(262) Ni18.1 Cr40.8 Fe41.1 ",
          "(263) Ni22.3 Cr36.6 Fe41.1 ",
          "(264) Ni26.4 Cr32.5 Fe41.1 ",
          "(265) Ni30.6 Cr28.3 Fe41.1 ",
          "(270) Ni6.0 Cr50.0 Fe44.0 ",
          "(271) Ni10.2 Cr45.8 Fe44.0 ",
          "(272) Ni14.3 Cr41.6 Fe44.0 ",
          "(273) Ni18.5 Cr37.5 Fe44.0 ",
          "(274) Ni22.7 Cr33.3 Fe44.0 ",
          "(275) Ni26.8 Cr29.1 Fe44.0 ",
          "(276) Ni31.0 Cr25.0 Fe44.0 ",
          "(280) Ni6.4 Cr46.6 Fe47.0 ",
          "(281) Ni10.6 Cr42.5 Fe47.0 ",
          "(282) Ni14.7 Cr38.3 Fe47.0 ",
          "(283) Ni18.9 Cr34.1 Fe47.0 ",
          "(284) Ni23.1 Cr30.0 Fe47.0 ",
          "(285) Ni27.2 Cr25.8 Fe47.0 ",
          "(289) Ni6.8 Cr43.3 Fe49.9 ",
          "(290) Ni11.0 Cr39.1 Fe49.9 ",
          "(291) Ni15.1 Cr35.0 Fe49.9 ",
          "(292) Ni19.3 Cr30.8 Fe49.9 ",
          "(293) Ni23.5 Cr26.6 Fe49.9 ",
          "(294) Ni27.6 Cr22.5 Fe49.9 ",
          "(297) Ni7.2 Cr40.0 Fe52.8 ",
          "(298) Ni11.4 Cr35.8 Fe52.8 ",
          "(299) Ni15.5 Cr31.6 Fe52.8 ",
          "(300) Ni19.7 Cr27.5 Fe52.8 ",
          "(301) Ni23.9 Cr23.3 Fe52.8 ",
          "(304) Ni7.6 Cr36.6 Fe55.8 ",
          "(305) Ni11.8 Cr32.5 Fe55.8 ",
          "(306) Ni15.9 Cr28.3 Fe55.8 ",
          "(307) Ni20.1 Cr24.1 Fe55.8 ",
          "(310) Ni8.0 Cr33.3 Fe58.7 ",
          "(311) Ni12.2 Cr29.1 Fe58.7 ",
          "(312) Ni16.3 Cr24.9 Fe58.7 ",
          "(313) Ni20.5 Cr20.8 Fe58.7 ",
          "(315) Ni8.4 Cr29.9 Fe61.6 ",
          "(316) Ni12.6 Cr25.8 Fe61.6 ",
          "(317) Ni16.7 Cr21.6 Fe61.6 ",
          "(319) Ni8.8 Cr26.6 Fe64.6 ",
          "(320) Ni13.0 Cr22.4 Fe64.6 ",
          "(322) Ni9.2 Cr23.3 Fe67.5 ",
          "(324) Ni9.6 Cr19.9 Fe70.4 "
         ],
         "legendgroup": "False",
         "marker": {
          "color": "blue",
          "size": 12,
          "symbol": "circle"
         },
         "mode": "markers+text",
         "name": "False",
         "orientation": "v",
         "showlegend": true,
         "text": [
          "",
          "",
          "",
          "",
          "",
          "",
          "",
          "",
          "",
          "",
          "",
          "",
          "",
          "",
          "",
          "",
          "",
          "",
          "",
          "",
          "",
          "",
          "",
          "",
          "",
          "",
          "",
          "",
          "",
          "",
          "",
          "",
          "",
          "",
          "",
          "",
          "",
          "",
          "",
          "",
          "",
          "",
          "",
          "",
          "",
          "",
          "",
          "",
          "",
          "",
          "",
          "",
          "",
          "",
          "",
          "",
          "",
          "",
          "",
          "",
          "",
          "",
          "",
          "",
          "",
          "",
          "",
          "",
          "",
          "",
          "",
          "",
          "<b>SS304L</b>"
         ],
         "type": "scatter",
         "x": [
          -0.64951875,
          -0.6134343750000001,
          -0.57735,
          -0.50518125,
          -0.5412656250000001,
          -0.4690968750000001,
          -0.39692812499999997,
          -0.50518125,
          -0.43301249999999997,
          -0.36084375,
          -0.288675,
          -0.46909687499999997,
          -0.396928125,
          -0.324759375,
          -0.252590625,
          -0.180421875,
          -0.4330125,
          -0.36084375,
          -0.288675,
          -0.21650625,
          -0.14433749999999998,
          -0.396928125,
          -0.324759375,
          -0.252590625,
          -0.18042187499999998,
          -0.10825312500000002,
          -0.036084375,
          -0.36084375,
          -0.288675,
          -0.21650624999999998,
          -0.14433750000000004,
          -0.07216875,
          -8.012340790841677e-18,
          0.07216875000000002,
          -0.324759375,
          -0.252590625,
          -0.18042187500000004,
          -0.108253125,
          -0.03608437500000001,
          0.03608437500000001,
          0.108253125,
          -0.288675,
          -0.21650625000000004,
          -0.1443375,
          -0.07216875000000002,
          8.012340790841677e-18,
          0.07216875,
          -0.252590625,
          -0.180421875,
          -0.10825312500000002,
          -0.036084374999999995,
          0.036084375,
          0.108253125,
          -0.21650625,
          -0.1443375,
          -0.07216874999999999,
          0,
          0.07216875,
          -0.180421875,
          -0.10825312499999999,
          -0.036084375,
          0.03608437500000001,
          -0.1443375,
          -0.07216875,
          4.0061703954208385e-18,
          0.07216875,
          -0.108253125,
          -0.036084374999999995,
          0.036084375,
          -0.07216875,
          2.0030851977104193e-18,
          -0.036084375,
          0
         ],
         "xaxis": "x",
         "y": [
          -0.125,
          -0.0625,
          0,
          0,
          0.0625,
          0.0625,
          0.0625,
          0.125,
          0.12500000000000006,
          0.125,
          0.12500000000000003,
          0.1875,
          0.1875,
          0.18749999999999997,
          0.18749999999999997,
          0.1875,
          0.25,
          0.25,
          0.24999999999999997,
          0.25,
          0.25,
          0.3125,
          0.3124999999999999,
          0.31249999999999994,
          0.3125,
          0.3125,
          0.31249999999999994,
          0.375,
          0.375,
          0.3750000000000001,
          0.375,
          0.375,
          0.375,
          0.37500000000000006,
          0.4375,
          0.4375,
          0.4375,
          0.4375,
          0.43749999999999994,
          0.43750000000000006,
          0.4375,
          0.5,
          0.4999999999999999,
          0.5,
          0.49999999999999994,
          0.49999999999999994,
          0.5,
          0.5625,
          0.5625,
          0.5625000000000001,
          0.5625,
          0.5625,
          0.5625000000000001,
          0.625,
          0.625,
          0.625,
          0.625,
          0.625,
          0.6875,
          0.6874999999999999,
          0.6875,
          0.6875,
          0.75,
          0.75,
          0.7500000000000001,
          0.75,
          0.8125,
          0.8125,
          0.8125,
          0.875,
          0.8749999999999999,
          0.9375,
          1
         ],
         "yaxis": "y"
        }
       ],
       "layout": {
        "height": 600,
        "legend": {
         "title": {
          "text": "Solid Solution Phases"
         },
         "tracegroupgap": 0
        },
        "margin": {
         "t": 60
        },
        "template": {
         "data": {
          "bar": [
           {
            "error_x": {
             "color": "#2a3f5f"
            },
            "error_y": {
             "color": "#2a3f5f"
            },
            "marker": {
             "line": {
              "color": "white",
              "width": 0.5
             },
             "pattern": {
              "fillmode": "overlay",
              "size": 10,
              "solidity": 0.2
             }
            },
            "type": "bar"
           }
          ],
          "barpolar": [
           {
            "marker": {
             "line": {
              "color": "white",
              "width": 0.5
             },
             "pattern": {
              "fillmode": "overlay",
              "size": 10,
              "solidity": 0.2
             }
            },
            "type": "barpolar"
           }
          ],
          "carpet": [
           {
            "aaxis": {
             "endlinecolor": "#2a3f5f",
             "gridcolor": "#C8D4E3",
             "linecolor": "#C8D4E3",
             "minorgridcolor": "#C8D4E3",
             "startlinecolor": "#2a3f5f"
            },
            "baxis": {
             "endlinecolor": "#2a3f5f",
             "gridcolor": "#C8D4E3",
             "linecolor": "#C8D4E3",
             "minorgridcolor": "#C8D4E3",
             "startlinecolor": "#2a3f5f"
            },
            "type": "carpet"
           }
          ],
          "choropleth": [
           {
            "colorbar": {
             "outlinewidth": 0,
             "ticks": ""
            },
            "type": "choropleth"
           }
          ],
          "contour": [
           {
            "colorbar": {
             "outlinewidth": 0,
             "ticks": ""
            },
            "colorscale": [
             [
              0,
              "#0d0887"
             ],
             [
              0.1111111111111111,
              "#46039f"
             ],
             [
              0.2222222222222222,
              "#7201a8"
             ],
             [
              0.3333333333333333,
              "#9c179e"
             ],
             [
              0.4444444444444444,
              "#bd3786"
             ],
             [
              0.5555555555555556,
              "#d8576b"
             ],
             [
              0.6666666666666666,
              "#ed7953"
             ],
             [
              0.7777777777777778,
              "#fb9f3a"
             ],
             [
              0.8888888888888888,
              "#fdca26"
             ],
             [
              1,
              "#f0f921"
             ]
            ],
            "type": "contour"
           }
          ],
          "contourcarpet": [
           {
            "colorbar": {
             "outlinewidth": 0,
             "ticks": ""
            },
            "type": "contourcarpet"
           }
          ],
          "heatmap": [
           {
            "colorbar": {
             "outlinewidth": 0,
             "ticks": ""
            },
            "colorscale": [
             [
              0,
              "#0d0887"
             ],
             [
              0.1111111111111111,
              "#46039f"
             ],
             [
              0.2222222222222222,
              "#7201a8"
             ],
             [
              0.3333333333333333,
              "#9c179e"
             ],
             [
              0.4444444444444444,
              "#bd3786"
             ],
             [
              0.5555555555555556,
              "#d8576b"
             ],
             [
              0.6666666666666666,
              "#ed7953"
             ],
             [
              0.7777777777777778,
              "#fb9f3a"
             ],
             [
              0.8888888888888888,
              "#fdca26"
             ],
             [
              1,
              "#f0f921"
             ]
            ],
            "type": "heatmap"
           }
          ],
          "heatmapgl": [
           {
            "colorbar": {
             "outlinewidth": 0,
             "ticks": ""
            },
            "colorscale": [
             [
              0,
              "#0d0887"
             ],
             [
              0.1111111111111111,
              "#46039f"
             ],
             [
              0.2222222222222222,
              "#7201a8"
             ],
             [
              0.3333333333333333,
              "#9c179e"
             ],
             [
              0.4444444444444444,
              "#bd3786"
             ],
             [
              0.5555555555555556,
              "#d8576b"
             ],
             [
              0.6666666666666666,
              "#ed7953"
             ],
             [
              0.7777777777777778,
              "#fb9f3a"
             ],
             [
              0.8888888888888888,
              "#fdca26"
             ],
             [
              1,
              "#f0f921"
             ]
            ],
            "type": "heatmapgl"
           }
          ],
          "histogram": [
           {
            "marker": {
             "pattern": {
              "fillmode": "overlay",
              "size": 10,
              "solidity": 0.2
             }
            },
            "type": "histogram"
           }
          ],
          "histogram2d": [
           {
            "colorbar": {
             "outlinewidth": 0,
             "ticks": ""
            },
            "colorscale": [
             [
              0,
              "#0d0887"
             ],
             [
              0.1111111111111111,
              "#46039f"
             ],
             [
              0.2222222222222222,
              "#7201a8"
             ],
             [
              0.3333333333333333,
              "#9c179e"
             ],
             [
              0.4444444444444444,
              "#bd3786"
             ],
             [
              0.5555555555555556,
              "#d8576b"
             ],
             [
              0.6666666666666666,
              "#ed7953"
             ],
             [
              0.7777777777777778,
              "#fb9f3a"
             ],
             [
              0.8888888888888888,
              "#fdca26"
             ],
             [
              1,
              "#f0f921"
             ]
            ],
            "type": "histogram2d"
           }
          ],
          "histogram2dcontour": [
           {
            "colorbar": {
             "outlinewidth": 0,
             "ticks": ""
            },
            "colorscale": [
             [
              0,
              "#0d0887"
             ],
             [
              0.1111111111111111,
              "#46039f"
             ],
             [
              0.2222222222222222,
              "#7201a8"
             ],
             [
              0.3333333333333333,
              "#9c179e"
             ],
             [
              0.4444444444444444,
              "#bd3786"
             ],
             [
              0.5555555555555556,
              "#d8576b"
             ],
             [
              0.6666666666666666,
              "#ed7953"
             ],
             [
              0.7777777777777778,
              "#fb9f3a"
             ],
             [
              0.8888888888888888,
              "#fdca26"
             ],
             [
              1,
              "#f0f921"
             ]
            ],
            "type": "histogram2dcontour"
           }
          ],
          "mesh3d": [
           {
            "colorbar": {
             "outlinewidth": 0,
             "ticks": ""
            },
            "type": "mesh3d"
           }
          ],
          "parcoords": [
           {
            "line": {
             "colorbar": {
              "outlinewidth": 0,
              "ticks": ""
             }
            },
            "type": "parcoords"
           }
          ],
          "pie": [
           {
            "automargin": true,
            "type": "pie"
           }
          ],
          "scatter": [
           {
            "fillpattern": {
             "fillmode": "overlay",
             "size": 10,
             "solidity": 0.2
            },
            "type": "scatter"
           }
          ],
          "scatter3d": [
           {
            "line": {
             "colorbar": {
              "outlinewidth": 0,
              "ticks": ""
             }
            },
            "marker": {
             "colorbar": {
              "outlinewidth": 0,
              "ticks": ""
             }
            },
            "type": "scatter3d"
           }
          ],
          "scattercarpet": [
           {
            "marker": {
             "colorbar": {
              "outlinewidth": 0,
              "ticks": ""
             }
            },
            "type": "scattercarpet"
           }
          ],
          "scattergeo": [
           {
            "marker": {
             "colorbar": {
              "outlinewidth": 0,
              "ticks": ""
             }
            },
            "type": "scattergeo"
           }
          ],
          "scattergl": [
           {
            "marker": {
             "colorbar": {
              "outlinewidth": 0,
              "ticks": ""
             }
            },
            "type": "scattergl"
           }
          ],
          "scattermapbox": [
           {
            "marker": {
             "colorbar": {
              "outlinewidth": 0,
              "ticks": ""
             }
            },
            "type": "scattermapbox"
           }
          ],
          "scatterpolar": [
           {
            "marker": {
             "colorbar": {
              "outlinewidth": 0,
              "ticks": ""
             }
            },
            "type": "scatterpolar"
           }
          ],
          "scatterpolargl": [
           {
            "marker": {
             "colorbar": {
              "outlinewidth": 0,
              "ticks": ""
             }
            },
            "type": "scatterpolargl"
           }
          ],
          "scatterternary": [
           {
            "marker": {
             "colorbar": {
              "outlinewidth": 0,
              "ticks": ""
             }
            },
            "type": "scatterternary"
           }
          ],
          "surface": [
           {
            "colorbar": {
             "outlinewidth": 0,
             "ticks": ""
            },
            "colorscale": [
             [
              0,
              "#0d0887"
             ],
             [
              0.1111111111111111,
              "#46039f"
             ],
             [
              0.2222222222222222,
              "#7201a8"
             ],
             [
              0.3333333333333333,
              "#9c179e"
             ],
             [
              0.4444444444444444,
              "#bd3786"
             ],
             [
              0.5555555555555556,
              "#d8576b"
             ],
             [
              0.6666666666666666,
              "#ed7953"
             ],
             [
              0.7777777777777778,
              "#fb9f3a"
             ],
             [
              0.8888888888888888,
              "#fdca26"
             ],
             [
              1,
              "#f0f921"
             ]
            ],
            "type": "surface"
           }
          ],
          "table": [
           {
            "cells": {
             "fill": {
              "color": "#EBF0F8"
             },
             "line": {
              "color": "white"
             }
            },
            "header": {
             "fill": {
              "color": "#C8D4E3"
             },
             "line": {
              "color": "white"
             }
            },
            "type": "table"
           }
          ]
         },
         "layout": {
          "annotationdefaults": {
           "arrowcolor": "#2a3f5f",
           "arrowhead": 0,
           "arrowwidth": 1
          },
          "autotypenumbers": "strict",
          "coloraxis": {
           "colorbar": {
            "outlinewidth": 0,
            "ticks": ""
           }
          },
          "colorscale": {
           "diverging": [
            [
             0,
             "#8e0152"
            ],
            [
             0.1,
             "#c51b7d"
            ],
            [
             0.2,
             "#de77ae"
            ],
            [
             0.3,
             "#f1b6da"
            ],
            [
             0.4,
             "#fde0ef"
            ],
            [
             0.5,
             "#f7f7f7"
            ],
            [
             0.6,
             "#e6f5d0"
            ],
            [
             0.7,
             "#b8e186"
            ],
            [
             0.8,
             "#7fbc41"
            ],
            [
             0.9,
             "#4d9221"
            ],
            [
             1,
             "#276419"
            ]
           ],
           "sequential": [
            [
             0,
             "#0d0887"
            ],
            [
             0.1111111111111111,
             "#46039f"
            ],
            [
             0.2222222222222222,
             "#7201a8"
            ],
            [
             0.3333333333333333,
             "#9c179e"
            ],
            [
             0.4444444444444444,
             "#bd3786"
            ],
            [
             0.5555555555555556,
             "#d8576b"
            ],
            [
             0.6666666666666666,
             "#ed7953"
            ],
            [
             0.7777777777777778,
             "#fb9f3a"
            ],
            [
             0.8888888888888888,
             "#fdca26"
            ],
            [
             1,
             "#f0f921"
            ]
           ],
           "sequentialminus": [
            [
             0,
             "#0d0887"
            ],
            [
             0.1111111111111111,
             "#46039f"
            ],
            [
             0.2222222222222222,
             "#7201a8"
            ],
            [
             0.3333333333333333,
             "#9c179e"
            ],
            [
             0.4444444444444444,
             "#bd3786"
            ],
            [
             0.5555555555555556,
             "#d8576b"
            ],
            [
             0.6666666666666666,
             "#ed7953"
            ],
            [
             0.7777777777777778,
             "#fb9f3a"
            ],
            [
             0.8888888888888888,
             "#fdca26"
            ],
            [
             1,
             "#f0f921"
            ]
           ]
          },
          "colorway": [
           "#636efa",
           "#EF553B",
           "#00cc96",
           "#ab63fa",
           "#FFA15A",
           "#19d3f3",
           "#FF6692",
           "#B6E880",
           "#FF97FF",
           "#FECB52"
          ],
          "font": {
           "color": "#2a3f5f"
          },
          "geo": {
           "bgcolor": "white",
           "lakecolor": "white",
           "landcolor": "white",
           "showlakes": true,
           "showland": true,
           "subunitcolor": "#C8D4E3"
          },
          "hoverlabel": {
           "align": "left"
          },
          "hovermode": "closest",
          "mapbox": {
           "style": "light"
          },
          "paper_bgcolor": "white",
          "plot_bgcolor": "white",
          "polar": {
           "angularaxis": {
            "gridcolor": "#EBF0F8",
            "linecolor": "#EBF0F8",
            "ticks": ""
           },
           "bgcolor": "white",
           "radialaxis": {
            "gridcolor": "#EBF0F8",
            "linecolor": "#EBF0F8",
            "ticks": ""
           }
          },
          "scene": {
           "xaxis": {
            "backgroundcolor": "white",
            "gridcolor": "#DFE8F3",
            "gridwidth": 2,
            "linecolor": "#EBF0F8",
            "showbackground": true,
            "ticks": "",
            "zerolinecolor": "#EBF0F8"
           },
           "yaxis": {
            "backgroundcolor": "white",
            "gridcolor": "#DFE8F3",
            "gridwidth": 2,
            "linecolor": "#EBF0F8",
            "showbackground": true,
            "ticks": "",
            "zerolinecolor": "#EBF0F8"
           },
           "zaxis": {
            "backgroundcolor": "white",
            "gridcolor": "#DFE8F3",
            "gridwidth": 2,
            "linecolor": "#EBF0F8",
            "showbackground": true,
            "ticks": "",
            "zerolinecolor": "#EBF0F8"
           }
          },
          "shapedefaults": {
           "line": {
            "color": "#2a3f5f"
           }
          },
          "ternary": {
           "aaxis": {
            "gridcolor": "#DFE8F3",
            "linecolor": "#A2B1C6",
            "ticks": ""
           },
           "baxis": {
            "gridcolor": "#DFE8F3",
            "linecolor": "#A2B1C6",
            "ticks": ""
           },
           "bgcolor": "white",
           "caxis": {
            "gridcolor": "#DFE8F3",
            "linecolor": "#A2B1C6",
            "ticks": ""
           }
          },
          "title": {
           "x": 0.05
          },
          "xaxis": {
           "automargin": true,
           "gridcolor": "#EBF0F8",
           "linecolor": "#EBF0F8",
           "ticks": "",
           "title": {
            "standoff": 15
           },
           "zerolinecolor": "#EBF0F8",
           "zerolinewidth": 2
          },
          "yaxis": {
           "automargin": true,
           "gridcolor": "#EBF0F8",
           "linecolor": "#EBF0F8",
           "ticks": "",
           "title": {
            "standoff": 15
           },
           "zerolinecolor": "#EBF0F8",
           "zerolinewidth": 2
          }
         }
        },
        "width": 800,
        "xaxis": {
         "anchor": "y",
         "domain": [
          0,
          1
         ],
         "title": {
          "text": ""
         }
        },
        "yaxis": {
         "anchor": "x",
         "domain": [
          0,
          1
         ],
         "title": {
          "text": ""
         }
        }
       }
      },
      "text/html": [
       "<div>                            <div id=\"d98a088f-ec4e-478f-9a1b-f2c435f906a3\" class=\"plotly-graph-div\" style=\"height:600px; width:800px;\"></div>            <script type=\"text/javascript\">                require([\"plotly\"], function(Plotly) {                    window.PLOTLYENV=window.PLOTLYENV || {};                                    if (document.getElementById(\"d98a088f-ec4e-478f-9a1b-f2c435f906a3\")) {                    Plotly.newPlot(                        \"d98a088f-ec4e-478f-9a1b-f2c435f906a3\",                        [{\"hovertemplate\":\"\\u003cb\\u003e%{hovertext}\\u003c\\u002fb\\u003e\\u003cbr\\u003e\\u003cbr\\u003eSolid Solution Phases=True\\u003cbr\\u003e=%{y}\\u003cbr\\u003etext=%{text}\\u003cextra\\u003e\\u003c\\u002fextra\\u003e\",\"hovertext\":[\"(  0) Cr100.0 \",\"(  1) Ni4.2 Cr95.8 \",\"(  2) Ni8.3 Cr91.7 \",\"(  3) Ni12.5 Cr87.5 \",\"(  4) Ni16.7 Cr83.3 \",\"(  5) Ni20.8 Cr79.2 \",\"(  6) Ni25.0 Cr75.0 \",\"(  7) Ni29.2 Cr70.8 \",\"(  8) Ni33.3 Cr66.7 \",\"(  9) Ni37.5 Cr62.5 \",\"( 10) Ni41.7 Cr58.3 \",\"( 11) Ni45.8 Cr54.2 \",\"( 12) Ni50.0 Cr50.0 \",\"( 13) Ni54.2 Cr45.8 \",\"( 14) Ni58.3 Cr41.7 \",\"( 15) Ni62.5 Cr37.5 \",\"( 16) Ni66.7 Cr33.3 \",\"( 17) Ni70.8 Cr29.2 \",\"( 18) Ni75.0 Cr25.0 \",\"( 19) Ni79.2 Cr20.8 \",\"( 20) Ni83.3 Cr16.7 \",\"( 21) Ni87.5 Cr12.5 \",\"( 22) Ni91.7 Cr8.3 \",\"( 23) Ni95.8 Cr4.2 \",\"( 24) Ni100.0 \",\"( 25) Ni0.4 Cr96.7 Fe2.9 \",\"( 26) Ni4.6 Cr92.5 Fe2.9 \",\"( 27) Ni8.7 Cr88.3 Fe2.9 \",\"( 28) Ni12.9 Cr84.2 Fe2.9 \",\"( 29) Ni17.1 Cr80.0 Fe2.9 \",\"( 30) Ni21.2 Cr75.8 Fe2.9 \",\"( 31) Ni25.4 Cr71.7 Fe2.9 \",\"( 32) Ni29.6 Cr67.5 Fe2.9 \",\"( 33) Ni33.7 Cr63.3 Fe2.9 \",\"( 34) Ni37.9 Cr59.2 Fe2.9 \",\"( 35) Ni42.1 Cr55.0 Fe2.9 \",\"( 36) Ni46.2 Cr50.8 Fe2.9 \",\"( 37) Ni50.4 Cr46.7 Fe2.9 \",\"( 38) Ni54.6 Cr42.5 Fe2.9 \",\"( 39) Ni58.7 Cr38.3 Fe2.9 \",\"( 40) Ni62.9 Cr34.2 Fe2.9 \",\"( 41) Ni67.1 Cr30.0 Fe2.9 \",\"( 42) Ni71.2 Cr25.8 Fe2.9 \",\"( 43) Ni75.4 Cr21.7 Fe2.9 \",\"( 44) Ni79.6 Cr17.5 Fe2.9 \",\"( 45) Ni83.7 Cr13.3 Fe2.9 \",\"( 46) Ni87.9 Cr9.2 Fe2.9 \",\"( 47) Ni92.1 Cr5.0 Fe2.9 \",\"( 48) Ni96.2 Cr0.8 Fe2.9 \",\"( 49) Ni0.8 Cr93.3 Fe5.9 \",\"( 50) Ni5.0 Cr89.2 Fe5.9 \",\"( 51) Ni9.1 Cr85.0 Fe5.9 \",\"( 52) Ni13.3 Cr80.8 Fe5.9 \",\"( 53) Ni17.5 Cr76.7 Fe5.9 \",\"( 54) Ni21.6 Cr72.5 Fe5.9 \",\"( 55) Ni25.8 Cr68.3 Fe5.9 \",\"( 56) Ni30.0 Cr64.2 Fe5.9 \",\"( 57) Ni34.1 Cr60.0 Fe5.9 \",\"( 58) Ni38.3 Cr55.8 Fe5.9 \",\"( 59) Ni42.5 Cr51.7 Fe5.9 \",\"( 60) Ni46.6 Cr47.5 Fe5.9 \",\"( 61) Ni50.8 Cr43.3 Fe5.9 \",\"( 62) Ni55.0 Cr39.2 Fe5.9 \",\"( 63) Ni59.1 Cr35.0 Fe5.9 \",\"( 64) Ni63.3 Cr30.8 Fe5.9 \",\"( 65) Ni67.5 Cr26.7 Fe5.9 \",\"( 66) Ni71.6 Cr22.5 Fe5.9 \",\"( 67) Ni75.8 Cr18.3 Fe5.9 \",\"( 68) Ni80.0 Cr14.2 Fe5.9 \",\"( 69) Ni84.1 Cr10.0 Fe5.9 \",\"( 70) Ni88.3 Cr5.8 Fe5.9 \",\"( 71) Ni92.5 Cr1.7 Fe5.9 \",\"( 72) Ni1.2 Cr90.0 Fe8.8 \",\"( 73) Ni5.4 Cr85.8 Fe8.8 \",\"( 74) Ni9.5 Cr81.7 Fe8.8 \",\"( 75) Ni13.7 Cr77.5 Fe8.8 \",\"( 76) Ni17.9 Cr73.3 Fe8.8 \",\"( 77) Ni22.0 Cr69.2 Fe8.8 \",\"( 78) Ni26.2 Cr65.0 Fe8.8 \",\"( 79) Ni30.4 Cr60.8 Fe8.8 \",\"( 80) Ni34.5 Cr56.7 Fe8.8 \",\"( 81) Ni38.7 Cr52.5 Fe8.8 \",\"( 82) Ni42.9 Cr48.3 Fe8.8 \",\"( 83) Ni47.0 Cr44.2 Fe8.8 \",\"( 84) Ni51.2 Cr40.0 Fe8.8 \",\"( 85) Ni55.4 Cr35.8 Fe8.8 \",\"( 86) Ni59.5 Cr31.7 Fe8.8 \",\"( 87) Ni63.7 Cr27.5 Fe8.8 \",\"( 88) Ni67.9 Cr23.3 Fe8.8 \",\"( 89) Ni72.0 Cr19.2 Fe8.8 \",\"( 90) Ni76.2 Cr15.0 Fe8.8 \",\"( 91) Ni80.4 Cr10.8 Fe8.8 \",\"( 92) Ni84.5 Cr6.7 Fe8.8 \",\"( 93) Ni88.7 Cr2.5 Fe8.8 \",\"( 94) Ni1.6 Cr86.7 Fe11.7 \",\"( 95) Ni5.8 Cr82.5 Fe11.7 \",\"( 96) Ni9.9 Cr78.3 Fe11.7 \",\"( 97) Ni14.1 Cr74.2 Fe11.7 \",\"( 98) Ni18.3 Cr70.0 Fe11.7 \",\"( 99) Ni22.4 Cr65.8 Fe11.7 \",\"(100) Ni26.6 Cr61.7 Fe11.7 \",\"(101) Ni30.8 Cr57.5 Fe11.7 \",\"(102) Ni34.9 Cr53.3 Fe11.7 \",\"(103) Ni39.1 Cr49.2 Fe11.7 \",\"(104) Ni43.3 Cr45.0 Fe11.7 \",\"(105) Ni47.4 Cr40.8 Fe11.7 \",\"(106) Ni51.6 Cr36.7 Fe11.7 \",\"(107) Ni55.8 Cr32.5 Fe11.7 \",\"(108) Ni59.9 Cr28.3 Fe11.7 \",\"(109) Ni64.1 Cr24.2 Fe11.7 \",\"(110) Ni68.3 Cr20.0 Fe11.7 \",\"(111) Ni72.4 Cr15.8 Fe11.7 \",\"(112) Ni76.6 Cr11.7 Fe11.7 \",\"(113) Ni80.8 Cr7.5 Fe11.7 \",\"(114) Ni84.9 Cr3.3 Fe11.7 \",\"(115) Ni2.0 Cr83.3 Fe14.7 \",\"(116) Ni6.2 Cr79.2 Fe14.7 \",\"(117) Ni10.3 Cr75.0 Fe14.7 \",\"(118) Ni14.5 Cr70.8 Fe14.7 \",\"(119) Ni18.7 Cr66.7 Fe14.7 \",\"(120) Ni22.8 Cr62.5 Fe14.7 \",\"(121) Ni27.0 Cr58.3 Fe14.7 \",\"(122) Ni31.2 Cr54.2 Fe14.7 \",\"(123) Ni35.3 Cr50.0 Fe14.7 \",\"(124) Ni39.5 Cr45.8 Fe14.7 \",\"(125) Ni43.7 Cr41.7 Fe14.7 \",\"(126) Ni47.8 Cr37.5 Fe14.7 \",\"(127) Ni52.0 Cr33.3 Fe14.7 \",\"(128) Ni56.2 Cr29.2 Fe14.7 \",\"(129) Ni60.3 Cr25.0 Fe14.7 \",\"(130) Ni64.5 Cr20.8 Fe14.7 \",\"(131) Ni68.7 Cr16.7 Fe14.7 \",\"(132) Ni72.8 Cr12.5 Fe14.7 \",\"(133) Ni77.0 Cr8.3 Fe14.7 \",\"(134) Ni81.2 Cr4.2 Fe14.7 \",\"(136) Ni6.6 Cr75.8 Fe17.6 \",\"(137) Ni10.7 Cr71.7 Fe17.6 \",\"(138) Ni14.9 Cr67.5 Fe17.6 \",\"(139) Ni19.1 Cr63.3 Fe17.6 \",\"(140) Ni23.2 Cr59.2 Fe17.6 \",\"(141) Ni27.4 Cr55.0 Fe17.6 \",\"(142) Ni31.6 Cr50.8 Fe17.6 \",\"(143) Ni35.7 Cr46.7 Fe17.6 \",\"(144) Ni39.9 Cr42.5 Fe17.6 \",\"(145) Ni44.1 Cr38.3 Fe17.6 \",\"(146) Ni48.2 Cr34.2 Fe17.6 \",\"(147) Ni52.4 Cr30.0 Fe17.6 \",\"(148) Ni56.6 Cr25.8 Fe17.6 \",\"(149) Ni60.7 Cr21.7 Fe17.6 \",\"(150) Ni64.9 Cr17.5 Fe17.6 \",\"(151) Ni69.1 Cr13.3 Fe17.6 \",\"(152) Ni73.2 Cr9.2 Fe17.6 \",\"(153) Ni77.4 Cr5.0 Fe17.6 \",\"(155) Ni7.0 Cr72.5 Fe20.5 \",\"(156) Ni11.1 Cr68.3 Fe20.5 \",\"(157) Ni15.3 Cr64.1 Fe20.5 \",\"(158) Ni19.5 Cr60.0 Fe20.5 \",\"(159) Ni23.6 Cr55.8 Fe20.5 \",\"(160) Ni27.8 Cr51.6 Fe20.5 \",\"(161) Ni32.0 Cr47.5 Fe20.5 \",\"(162) Ni36.1 Cr43.3 Fe20.5 \",\"(163) Ni40.3 Cr39.1 Fe20.5 \",\"(164) Ni44.5 Cr35.0 Fe20.5 \",\"(165) Ni48.6 Cr30.8 Fe20.5 \",\"(166) Ni52.8 Cr26.6 Fe20.5 \",\"(167) Ni57.0 Cr22.5 Fe20.5 \",\"(168) Ni61.1 Cr18.3 Fe20.5 \",\"(169) Ni65.3 Cr14.1 Fe20.5 \",\"(170) Ni69.5 Cr10.0 Fe20.5 \",\"(171) Ni73.6 Cr5.8 Fe20.5 \",\"(174) Ni11.5 Cr65.0 Fe23.5 \",\"(175) Ni15.7 Cr60.8 Fe23.5 \",\"(176) Ni19.9 Cr56.6 Fe23.5 \",\"(177) Ni24.0 Cr52.5 Fe23.5 \",\"(178) Ni28.2 Cr48.3 Fe23.5 \",\"(179) Ni32.4 Cr44.1 Fe23.5 \",\"(180) Ni36.5 Cr40.0 Fe23.5 \",\"(181) Ni40.7 Cr35.8 Fe23.5 \",\"(182) Ni44.9 Cr31.6 Fe23.5 \",\"(183) Ni49.0 Cr27.5 Fe23.5 \",\"(184) Ni53.2 Cr23.3 Fe23.5 \",\"(185) Ni57.4 Cr19.1 Fe23.5 \",\"(186) Ni61.5 Cr15.0 Fe23.5 \",\"(187) Ni65.7 Cr10.8 Fe23.5 \",\"(188) Ni69.9 Cr6.6 Fe23.5 \",\"(192) Ni16.1 Cr57.5 Fe26.4 \",\"(193) Ni20.3 Cr53.3 Fe26.4 \",\"(194) Ni24.4 Cr49.1 Fe26.4 \",\"(195) Ni28.6 Cr45.0 Fe26.4 \",\"(196) Ni32.8 Cr40.8 Fe26.4 \",\"(197) Ni36.9 Cr36.6 Fe26.4 \",\"(198) Ni41.1 Cr32.5 Fe26.4 \",\"(199) Ni45.3 Cr28.3 Fe26.4 \",\"(200) Ni49.4 Cr24.1 Fe26.4 \",\"(201) Ni53.6 Cr20.0 Fe26.4 \",\"(202) Ni57.8 Cr15.8 Fe26.4 \",\"(203) Ni61.9 Cr11.6 Fe26.4 \",\"(204) Ni66.1 Cr7.5 Fe26.4 \",\"(209) Ni20.7 Cr50.0 Fe29.4 \",\"(210) Ni24.8 Cr45.8 Fe29.4 \",\"(211) Ni29.0 Cr41.6 Fe29.4 \",\"(212) Ni33.2 Cr37.5 Fe29.4 \",\"(213) Ni37.3 Cr33.3 Fe29.4 \",\"(214) Ni41.5 Cr29.1 Fe29.4 \",\"(215) Ni45.7 Cr25.0 Fe29.4 \",\"(216) Ni49.8 Cr20.8 Fe29.4 \",\"(217) Ni54.0 Cr16.6 Fe29.4 \",\"(218) Ni58.2 Cr12.5 Fe29.4 \",\"(219) Ni62.3 Cr8.3 Fe29.4 \",\"(225) Ni25.2 Cr42.5 Fe32.3 \",\"(226) Ni29.4 Cr38.3 Fe32.3 \",\"(227) Ni33.6 Cr34.1 Fe32.3 \",\"(228) Ni37.7 Cr30.0 Fe32.3 \",\"(229) Ni41.9 Cr25.8 Fe32.3 \",\"(230) Ni46.1 Cr21.6 Fe32.3 \",\"(231) Ni50.2 Cr17.5 Fe32.3 \",\"(232) Ni54.4 Cr13.3 Fe32.3 \",\"(233) Ni58.6 Cr9.1 Fe32.3 \",\"(239) Ni25.6 Cr39.1 Fe35.2 \",\"(240) Ni29.8 Cr35.0 Fe35.2 \",\"(241) Ni34.0 Cr30.8 Fe35.2 \",\"(242) Ni38.1 Cr26.6 Fe35.2 \",\"(243) Ni42.3 Cr22.5 Fe35.2 \",\"(244) Ni46.5 Cr18.3 Fe35.2 \",\"(245) Ni50.6 Cr14.1 Fe35.2 \",\"(246) Ni54.8 Cr10.0 Fe35.2 \",\"(253) Ni30.2 Cr31.6 Fe38.2 \",\"(254) Ni34.4 Cr27.5 Fe38.2 \",\"(255) Ni38.5 Cr23.3 Fe38.2 \",\"(256) Ni42.7 Cr19.1 Fe38.2 \",\"(257) Ni46.9 Cr15.0 Fe38.2 \",\"(258) Ni51.0 Cr10.8 Fe38.2 \",\"(266) Ni34.8 Cr24.1 Fe41.1 \",\"(267) Ni38.9 Cr20.0 Fe41.1 \",\"(268) Ni43.1 Cr15.8 Fe41.1 \",\"(269) Ni47.3 Cr11.6 Fe41.1 \",\"(277) Ni35.2 Cr20.8 Fe44.0 \",\"(278) Ni39.3 Cr16.6 Fe44.0 \",\"(279) Ni43.5 Cr12.5 Fe44.0 \",\"(286) Ni31.4 Cr21.6 Fe47.0 \",\"(287) Ni35.6 Cr17.5 Fe47.0 \",\"(288) Ni39.7 Cr13.3 Fe47.0 \",\"(295) Ni31.8 Cr18.3 Fe49.9 \",\"(296) Ni36.0 Cr14.1 Fe49.9 \",\"(302) Ni28.0 Cr19.1 Fe52.8 \",\"(303) Ni32.2 Cr15.0 Fe52.8 \",\"(308) Ni24.3 Cr20.0 Fe55.8 \",\"(309) Ni28.4 Cr15.8 Fe55.8 \",\"(314) Ni24.7 Cr16.6 Fe58.7 \",\"(318) Ni20.9 Cr17.4 Fe61.6 \",\"(321) Ni17.1 Cr18.3 Fe64.6 \",\"(323) Ni13.4 Cr19.1 Fe67.5 \"],\"legendgroup\":\"True\",\"marker\":{\"color\":\"#FECB52\",\"symbol\":\"circle\",\"size\":12},\"mode\":\"markers+text\",\"name\":\"True\",\"orientation\":\"v\",\"showlegend\":true,\"text\":[\"\\u003cb\\u003eCr\\u003c\\u002fb\\u003e\",\"\",\"\",\"\",\"\",\"\",\"\",\"\",\"\",\"\",\"\",\"\",\"\",\"\",\"\",\"\",\"\",\"\",\"\",\"\",\"\",\"\",\"\",\"\",\"\\u003cb\\u003eNi\\u003c\\u002fb\\u003e\",\"\",\"\",\"\",\"\",\"\",\"\",\"\",\"\",\"\",\"\",\"\",\"\",\"\",\"\",\"\",\"\",\"\",\"\",\"\",\"\",\"\",\"\",\"\",\"\",\"\",\"\",\"\",\"\",\"\",\"\",\"\",\"\",\"\",\"\",\"\",\"\",\"\",\"\",\"\",\"\",\"\",\"\",\"\",\"\",\"\",\"\",\"\",\"\",\"\",\"\",\"\",\"\",\"\",\"\",\"\",\"\",\"\",\"\",\"\",\"\",\"\",\"\",\"\",\"\",\"\",\"\",\"\",\"\",\"\",\"\",\"\",\"\",\"\",\"\",\"\",\"\",\"\",\"\",\"\",\"\",\"\",\"\",\"\",\"\",\"\",\"\",\"\",\"\",\"\",\"\",\"\",\"\",\"\",\"\",\"\",\"\",\"\",\"\",\"\",\"\",\"\",\"\",\"\",\"\",\"\",\"\",\"\",\"\",\"\",\"\",\"\",\"\",\"\",\"\",\"\",\"\",\"\",\"\",\"\",\"\",\"\",\"\",\"\",\"\",\"\",\"\",\"\",\"\",\"\",\"\",\"\",\"\",\"\",\"\",\"\",\"\",\"\",\"\",\"\",\"\",\"\",\"\",\"\",\"\",\"\",\"\",\"\",\"\",\"\",\"\",\"\",\"\",\"\",\"\",\"\",\"\",\"\",\"\",\"\",\"\",\"\",\"\",\"\",\"\",\"\",\"\",\"\",\"\",\"\",\"\",\"\",\"\",\"\",\"\",\"\",\"\",\"\",\"\",\"\",\"\",\"\",\"\",\"\",\"\",\"\",\"\",\"\",\"\",\"\",\"\",\"\",\"\",\"\",\"\",\"\",\"\",\"\",\"\",\"\",\"\",\"\",\"\",\"\",\"\",\"\",\"\",\"\",\"\",\"\",\"\",\"\",\"\",\"\",\"\",\"\",\"\",\"\",\"\",\"\",\"\",\"\",\"\",\"\",\"\",\"\",\"\",\"\"],\"x\":[-0.866025,-0.79385625,-0.7216875,-0.64951875,-0.57735,-0.50518125,-0.4330125,-0.3608437500000001,-0.28867499999999996,-0.21650625,-0.14433750000000004,-0.07216874999999998,0.0,0.07216874999999996,0.14433749999999998,0.21650625000000007,0.288675,0.3608437500000001,0.4330125,0.5051812499999999,0.57735,0.6495187499999999,0.7216875,0.7938562500000002,0.866025,-0.8299406250000001,-0.757771875,-0.6856031250000001,-0.6134343750000001,-0.541265625,-0.469096875,-0.3969281250000001,-0.32475937499999996,-0.252590625,-0.18042187500000004,-0.10825312499999998,-0.036084375,0.036084375000000016,0.10825312499999994,0.180421875,0.25259062500000007,0.324759375,0.3969281250000001,0.469096875,0.541265625,0.613434375,0.685603125,0.7577718750000001,0.8299406250000001,-0.79385625,-0.7216875,-0.64951875,-0.57735,-0.50518125,-0.4330125000000001,-0.36084374999999996,-0.288675,-0.21650625000000004,-0.14433749999999998,-0.07216875,1.6024681581683354e-17,0.07216874999999999,0.14433749999999995,0.21650625000000004,0.28867500000000007,0.36084375,0.4330125000000001,0.50518125,0.57735,0.64951875,0.7216875,0.79385625,-0.757771875,-0.6856031250000001,-0.613434375,-0.5412656250000001,-0.4690968750000001,-0.39692812499999997,-0.324759375,-0.25259062500000007,-0.18042187499999998,-0.108253125,-0.03608437499999999,0.03608437499999999,0.108253125,0.18042187499999998,0.252590625,0.3247593750000001,0.396928125,0.4690968750000001,0.5412656250000001,0.613434375,0.6856031250000001,0.757771875,-0.7216875,-0.64951875,-0.57735,-0.50518125,-0.43301249999999997,-0.36084375,-0.28867500000000007,-0.21650624999999998,-0.1443375,-0.07216874999999999,-1.6024681581683354e-17,0.07216875,0.14433750000000004,0.21650624999999993,0.288675,0.3608437500000001,0.4330125,0.5051812500000001,0.57735,0.64951875,0.7216875,-0.685603125,-0.613434375,-0.5412656250000001,-0.46909687499999997,-0.396928125,-0.3247593750000001,-0.25259062499999996,-0.180421875,-0.10825312499999999,-0.036084375000000016,0.036084375,0.10825312500000002,0.18042187499999998,0.25259062499999996,0.324759375,0.3969281250000001,0.469096875,0.5412656250000001,0.6134343750000001,0.685603125,-0.57735,-0.50518125,-0.4330125,-0.3608437500000001,-0.28867499999999996,-0.21650625,-0.14433749999999998,-0.07216875000000002,0.0,0.07216875000000002,0.14433749999999998,0.21650625,0.28867499999999996,0.36084375,0.4330125000000001,0.50518125,0.5773500000000001,0.64951875,-0.541265625,-0.469096875,-0.3969281250000001,-0.32475937499999996,-0.252590625,-0.18042187499999998,-0.10825312500000002,-0.036084375,0.036084375000000016,0.10825312499999999,0.180421875,0.252590625,0.32475937499999996,0.396928125,0.4690968750000001,0.5412656250000001,0.6134343750000001,-0.4330125000000001,-0.36084374999999996,-0.288675,-0.21650624999999998,-0.14433750000000004,-0.07216875,1.6024681581683354e-17,0.07216874999999999,0.1443375,0.21650625,0.288675,0.36084374999999996,0.4330125,0.5051812500000001,0.57735,-0.324759375,-0.252590625,-0.18042187500000004,-0.108253125,-0.03608437499999999,0.03608437499999999,0.108253125,0.180421875,0.252590625,0.324759375,0.39692812499999997,0.469096875,0.5412656250000001,-0.21650625000000004,-0.1443375,-0.07216874999999999,-1.6024681581683354e-17,0.07216875,0.1443375,0.21650625,0.288675,0.36084375,0.43301249999999997,0.50518125,-0.10825312499999999,-0.036084375000000016,0.036084375,0.10825312499999999,0.180421875,0.252590625,0.324759375,0.396928125,0.46909687499999997,-0.07216875000000002,0.0,0.07216874999999999,0.1443375,0.21650625,0.288675,0.36084375,0.4330125,0.036084374999999995,0.10825312500000002,0.180421875,0.252590625,0.324759375,0.396928125,0.1443375,0.21650625,0.288675,0.36084375,0.180421875,0.252590625,0.324759375,0.1443375,0.21650625,0.288675,0.180421875,0.252590625,0.1443375,0.21650625,0.108253125,0.180421875,0.1443375,0.108253125,0.07216875,0.036084375],\"xaxis\":\"x\",\"y\":[-0.5,-0.5,-0.5,-0.5,-0.5,-0.5,-0.5,-0.5,-0.5,-0.5,-0.5,-0.5,-0.5,-0.5,-0.5,-0.5,-0.5,-0.5,-0.5,-0.5,-0.5,-0.5,-0.5,-0.5,-0.5,-0.4375,-0.4375,-0.4375,-0.4375,-0.4375,-0.4375,-0.4375,-0.4375,-0.4375,-0.4375,-0.4375,-0.4375,-0.4375,-0.4375,-0.4375,-0.4375,-0.4375,-0.4375,-0.4375,-0.43749999999999994,-0.4375,-0.4375,-0.43749999999999994,-0.4375,-0.375,-0.375,-0.375,-0.375,-0.375,-0.375,-0.375,-0.375,-0.375,-0.375,-0.375,-0.375,-0.375,-0.375,-0.375,-0.375,-0.375,-0.37500000000000006,-0.375,-0.375,-0.37500000000000006,-0.375,-0.375,-0.3125,-0.3125,-0.3125,-0.3125,-0.3125,-0.3125,-0.3125,-0.3125,-0.3125,-0.3125,-0.3125,-0.3125,-0.3125,-0.3125,-0.3125,-0.3125,-0.3125,-0.3125,-0.3125,-0.3125,-0.3125,-0.3125,-0.25,-0.25,-0.25,-0.25,-0.25,-0.25,-0.25,-0.25,-0.25,-0.25,-0.25,-0.25,-0.25,-0.25,-0.25,-0.25,-0.25,-0.25,-0.25,-0.25,-0.25,-0.18749999999999997,-0.1875,-0.1875,-0.18749999999999997,-0.1875,-0.1875,-0.18749999999999997,-0.1875,-0.18749999999999997,-0.1875,-0.1875,-0.18749999999999997,-0.1875,-0.18749999999999997,-0.1875,-0.1875,-0.18749999999999997,-0.1875,-0.1875,-0.18749999999999997,-0.12500000000000003,-0.12499999999999997,-0.125,-0.125,-0.125,-0.125,-0.125,-0.125,-0.125,-0.125,-0.125,-0.125,-0.12499999999999999,-0.125,-0.125,-0.12499999999999997,-0.12500000000000003,-0.125,-0.062499999999999944,-0.0625,-0.0625,-0.062499999999999944,-0.0625,-0.06249999999999997,-0.0625,-0.06249999999999997,-0.06249999999999997,-0.0625,-0.06249999999999997,-0.062499999999999986,-0.06249999999999996,-0.0625,-0.06249999999999998,-0.06249999999999996,-0.0625,-5.551115123125783e-17,0.0,0.0,-2.7755575615628914e-17,-2.7755575615628914e-17,-2.7755575615628914e-17,0.0,-2.7755575615628914e-17,-2.7755575615628914e-17,-1.3877787807814457e-17,-1.3877787807814457e-17,0.0,-3.469446951953614e-17,-1.734723475976807e-17,0.0,0.0625,0.06250000000000003,0.06249999999999997,0.0625,0.0625,0.0625,0.0625,0.062499999999999986,0.06250000000000001,0.0625,0.06250000000000003,0.062499999999999986,0.0625,0.12500000000000003,0.125,0.12500000000000003,0.12500000000000003,0.125,0.125,0.125,0.12500000000000003,0.12500000000000003,0.12500000000000003,0.125,0.18749999999999997,0.18749999999999997,0.1875,0.18749999999999994,0.1875,0.18749999999999997,0.1875,0.18749999999999997,0.1875,0.24999999999999997,0.25,0.24999999999999994,0.25000000000000006,0.25,0.24999999999999997,0.25000000000000006,0.25,0.31249999999999994,0.31249999999999994,0.3125,0.31249999999999994,0.31249999999999994,0.3125,0.375,0.37500000000000006,0.37500000000000006,0.375,0.43749999999999994,0.43750000000000006,0.4375,0.49999999999999994,0.49999999999999994,0.5,0.5625,0.5625,0.625,0.625,0.6874999999999999,0.6875,0.75,0.8125,0.875,0.9375],\"yaxis\":\"y\",\"type\":\"scatter\"},{\"hovertemplate\":\"\\u003cb\\u003e%{hovertext}\\u003c\\u002fb\\u003e\\u003cbr\\u003e\\u003cbr\\u003eSolid Solution Phases=False\\u003cbr\\u003e=%{y}\\u003cbr\\u003etext=%{text}\\u003cextra\\u003e\\u003c\\u002fextra\\u003e\",\"hovertext\":[\"(135) Ni2.4 Cr80.0 Fe17.6 \",\"(154) Ni2.8 Cr76.6 Fe20.5 \",\"(172) Ni3.2 Cr73.3 Fe23.5 \",\"(173) Ni7.4 Cr69.1 Fe23.5 \",\"(189) Ni3.6 Cr70.0 Fe26.4 \",\"(190) Ni7.8 Cr65.8 Fe26.4 \",\"(191) Ni11.9 Cr61.6 Fe26.4 \",\"(205) Ni4.0 Cr66.6 Fe29.4 \",\"(206) Ni8.2 Cr62.5 Fe29.4 \",\"(207) Ni12.3 Cr58.3 Fe29.4 \",\"(208) Ni16.5 Cr54.1 Fe29.4 \",\"(220) Ni4.4 Cr63.3 Fe32.3 \",\"(221) Ni8.6 Cr59.1 Fe32.3 \",\"(222) Ni12.7 Cr55.0 Fe32.3 \",\"(223) Ni16.9 Cr50.8 Fe32.3 \",\"(224) Ni21.1 Cr46.6 Fe32.3 \",\"(234) Ni4.8 Cr60.0 Fe35.2 \",\"(235) Ni9.0 Cr55.8 Fe35.2 \",\"(236) Ni13.1 Cr51.6 Fe35.2 \",\"(237) Ni17.3 Cr47.5 Fe35.2 \",\"(238) Ni21.5 Cr43.3 Fe35.2 \",\"(247) Ni5.2 Cr56.6 Fe38.2 \",\"(248) Ni9.4 Cr52.5 Fe38.2 \",\"(249) Ni13.5 Cr48.3 Fe38.2 \",\"(250) Ni17.7 Cr44.1 Fe38.2 \",\"(251) Ni21.9 Cr40.0 Fe38.2 \",\"(252) Ni26.0 Cr35.8 Fe38.2 \",\"(259) Ni5.6 Cr53.3 Fe41.1 \",\"(260) Ni9.8 Cr49.1 Fe41.1 \",\"(261) Ni13.9 Cr45.0 Fe41.1 \",\"(262) Ni18.1 Cr40.8 Fe41.1 \",\"(263) Ni22.3 Cr36.6 Fe41.1 \",\"(264) Ni26.4 Cr32.5 Fe41.1 \",\"(265) Ni30.6 Cr28.3 Fe41.1 \",\"(270) Ni6.0 Cr50.0 Fe44.0 \",\"(271) Ni10.2 Cr45.8 Fe44.0 \",\"(272) Ni14.3 Cr41.6 Fe44.0 \",\"(273) Ni18.5 Cr37.5 Fe44.0 \",\"(274) Ni22.7 Cr33.3 Fe44.0 \",\"(275) Ni26.8 Cr29.1 Fe44.0 \",\"(276) Ni31.0 Cr25.0 Fe44.0 \",\"(280) Ni6.4 Cr46.6 Fe47.0 \",\"(281) Ni10.6 Cr42.5 Fe47.0 \",\"(282) Ni14.7 Cr38.3 Fe47.0 \",\"(283) Ni18.9 Cr34.1 Fe47.0 \",\"(284) Ni23.1 Cr30.0 Fe47.0 \",\"(285) Ni27.2 Cr25.8 Fe47.0 \",\"(289) Ni6.8 Cr43.3 Fe49.9 \",\"(290) Ni11.0 Cr39.1 Fe49.9 \",\"(291) Ni15.1 Cr35.0 Fe49.9 \",\"(292) Ni19.3 Cr30.8 Fe49.9 \",\"(293) Ni23.5 Cr26.6 Fe49.9 \",\"(294) Ni27.6 Cr22.5 Fe49.9 \",\"(297) Ni7.2 Cr40.0 Fe52.8 \",\"(298) Ni11.4 Cr35.8 Fe52.8 \",\"(299) Ni15.5 Cr31.6 Fe52.8 \",\"(300) Ni19.7 Cr27.5 Fe52.8 \",\"(301) Ni23.9 Cr23.3 Fe52.8 \",\"(304) Ni7.6 Cr36.6 Fe55.8 \",\"(305) Ni11.8 Cr32.5 Fe55.8 \",\"(306) Ni15.9 Cr28.3 Fe55.8 \",\"(307) Ni20.1 Cr24.1 Fe55.8 \",\"(310) Ni8.0 Cr33.3 Fe58.7 \",\"(311) Ni12.2 Cr29.1 Fe58.7 \",\"(312) Ni16.3 Cr24.9 Fe58.7 \",\"(313) Ni20.5 Cr20.8 Fe58.7 \",\"(315) Ni8.4 Cr29.9 Fe61.6 \",\"(316) Ni12.6 Cr25.8 Fe61.6 \",\"(317) Ni16.7 Cr21.6 Fe61.6 \",\"(319) Ni8.8 Cr26.6 Fe64.6 \",\"(320) Ni13.0 Cr22.4 Fe64.6 \",\"(322) Ni9.2 Cr23.3 Fe67.5 \",\"(324) Ni9.6 Cr19.9 Fe70.4 \"],\"legendgroup\":\"False\",\"marker\":{\"color\":\"blue\",\"symbol\":\"circle\",\"size\":12},\"mode\":\"markers+text\",\"name\":\"False\",\"orientation\":\"v\",\"showlegend\":true,\"text\":[\"\",\"\",\"\",\"\",\"\",\"\",\"\",\"\",\"\",\"\",\"\",\"\",\"\",\"\",\"\",\"\",\"\",\"\",\"\",\"\",\"\",\"\",\"\",\"\",\"\",\"\",\"\",\"\",\"\",\"\",\"\",\"\",\"\",\"\",\"\",\"\",\"\",\"\",\"\",\"\",\"\",\"\",\"\",\"\",\"\",\"\",\"\",\"\",\"\",\"\",\"\",\"\",\"\",\"\",\"\",\"\",\"\",\"\",\"\",\"\",\"\",\"\",\"\",\"\",\"\",\"\",\"\",\"\",\"\",\"\",\"\",\"\",\"\\u003cb\\u003eSS304L\\u003c\\u002fb\\u003e\"],\"x\":[-0.64951875,-0.6134343750000001,-0.57735,-0.50518125,-0.5412656250000001,-0.4690968750000001,-0.39692812499999997,-0.50518125,-0.43301249999999997,-0.36084375,-0.288675,-0.46909687499999997,-0.396928125,-0.324759375,-0.252590625,-0.180421875,-0.4330125,-0.36084375,-0.288675,-0.21650625,-0.14433749999999998,-0.396928125,-0.324759375,-0.252590625,-0.18042187499999998,-0.10825312500000002,-0.036084375,-0.36084375,-0.288675,-0.21650624999999998,-0.14433750000000004,-0.07216875,-8.012340790841677e-18,0.07216875000000002,-0.324759375,-0.252590625,-0.18042187500000004,-0.108253125,-0.03608437500000001,0.03608437500000001,0.108253125,-0.288675,-0.21650625000000004,-0.1443375,-0.07216875000000002,8.012340790841677e-18,0.07216875,-0.252590625,-0.180421875,-0.10825312500000002,-0.036084374999999995,0.036084375,0.108253125,-0.21650625,-0.1443375,-0.07216874999999999,0.0,0.07216875,-0.180421875,-0.10825312499999999,-0.036084375,0.03608437500000001,-0.1443375,-0.07216875,4.0061703954208385e-18,0.07216875,-0.108253125,-0.036084374999999995,0.036084375,-0.07216875,2.0030851977104193e-18,-0.036084375,0.0],\"xaxis\":\"x\",\"y\":[-0.125,-0.0625,0.0,0.0,0.0625,0.0625,0.0625,0.125,0.12500000000000006,0.125,0.12500000000000003,0.1875,0.1875,0.18749999999999997,0.18749999999999997,0.1875,0.25,0.25,0.24999999999999997,0.25,0.25,0.3125,0.3124999999999999,0.31249999999999994,0.3125,0.3125,0.31249999999999994,0.375,0.375,0.3750000000000001,0.375,0.375,0.375,0.37500000000000006,0.4375,0.4375,0.4375,0.4375,0.43749999999999994,0.43750000000000006,0.4375,0.5,0.4999999999999999,0.5,0.49999999999999994,0.49999999999999994,0.5,0.5625,0.5625,0.5625000000000001,0.5625,0.5625,0.5625000000000001,0.625,0.625,0.625,0.625,0.625,0.6875,0.6874999999999999,0.6875,0.6875,0.75,0.75,0.7500000000000001,0.75,0.8125,0.8125,0.8125,0.875,0.8749999999999999,0.9375,1.0],\"yaxis\":\"y\",\"type\":\"scatter\"}],                        {\"template\":{\"data\":{\"barpolar\":[{\"marker\":{\"line\":{\"color\":\"white\",\"width\":0.5},\"pattern\":{\"fillmode\":\"overlay\",\"size\":10,\"solidity\":0.2}},\"type\":\"barpolar\"}],\"bar\":[{\"error_x\":{\"color\":\"#2a3f5f\"},\"error_y\":{\"color\":\"#2a3f5f\"},\"marker\":{\"line\":{\"color\":\"white\",\"width\":0.5},\"pattern\":{\"fillmode\":\"overlay\",\"size\":10,\"solidity\":0.2}},\"type\":\"bar\"}],\"carpet\":[{\"aaxis\":{\"endlinecolor\":\"#2a3f5f\",\"gridcolor\":\"#C8D4E3\",\"linecolor\":\"#C8D4E3\",\"minorgridcolor\":\"#C8D4E3\",\"startlinecolor\":\"#2a3f5f\"},\"baxis\":{\"endlinecolor\":\"#2a3f5f\",\"gridcolor\":\"#C8D4E3\",\"linecolor\":\"#C8D4E3\",\"minorgridcolor\":\"#C8D4E3\",\"startlinecolor\":\"#2a3f5f\"},\"type\":\"carpet\"}],\"choropleth\":[{\"colorbar\":{\"outlinewidth\":0,\"ticks\":\"\"},\"type\":\"choropleth\"}],\"contourcarpet\":[{\"colorbar\":{\"outlinewidth\":0,\"ticks\":\"\"},\"type\":\"contourcarpet\"}],\"contour\":[{\"colorbar\":{\"outlinewidth\":0,\"ticks\":\"\"},\"colorscale\":[[0.0,\"#0d0887\"],[0.1111111111111111,\"#46039f\"],[0.2222222222222222,\"#7201a8\"],[0.3333333333333333,\"#9c179e\"],[0.4444444444444444,\"#bd3786\"],[0.5555555555555556,\"#d8576b\"],[0.6666666666666666,\"#ed7953\"],[0.7777777777777778,\"#fb9f3a\"],[0.8888888888888888,\"#fdca26\"],[1.0,\"#f0f921\"]],\"type\":\"contour\"}],\"heatmapgl\":[{\"colorbar\":{\"outlinewidth\":0,\"ticks\":\"\"},\"colorscale\":[[0.0,\"#0d0887\"],[0.1111111111111111,\"#46039f\"],[0.2222222222222222,\"#7201a8\"],[0.3333333333333333,\"#9c179e\"],[0.4444444444444444,\"#bd3786\"],[0.5555555555555556,\"#d8576b\"],[0.6666666666666666,\"#ed7953\"],[0.7777777777777778,\"#fb9f3a\"],[0.8888888888888888,\"#fdca26\"],[1.0,\"#f0f921\"]],\"type\":\"heatmapgl\"}],\"heatmap\":[{\"colorbar\":{\"outlinewidth\":0,\"ticks\":\"\"},\"colorscale\":[[0.0,\"#0d0887\"],[0.1111111111111111,\"#46039f\"],[0.2222222222222222,\"#7201a8\"],[0.3333333333333333,\"#9c179e\"],[0.4444444444444444,\"#bd3786\"],[0.5555555555555556,\"#d8576b\"],[0.6666666666666666,\"#ed7953\"],[0.7777777777777778,\"#fb9f3a\"],[0.8888888888888888,\"#fdca26\"],[1.0,\"#f0f921\"]],\"type\":\"heatmap\"}],\"histogram2dcontour\":[{\"colorbar\":{\"outlinewidth\":0,\"ticks\":\"\"},\"colorscale\":[[0.0,\"#0d0887\"],[0.1111111111111111,\"#46039f\"],[0.2222222222222222,\"#7201a8\"],[0.3333333333333333,\"#9c179e\"],[0.4444444444444444,\"#bd3786\"],[0.5555555555555556,\"#d8576b\"],[0.6666666666666666,\"#ed7953\"],[0.7777777777777778,\"#fb9f3a\"],[0.8888888888888888,\"#fdca26\"],[1.0,\"#f0f921\"]],\"type\":\"histogram2dcontour\"}],\"histogram2d\":[{\"colorbar\":{\"outlinewidth\":0,\"ticks\":\"\"},\"colorscale\":[[0.0,\"#0d0887\"],[0.1111111111111111,\"#46039f\"],[0.2222222222222222,\"#7201a8\"],[0.3333333333333333,\"#9c179e\"],[0.4444444444444444,\"#bd3786\"],[0.5555555555555556,\"#d8576b\"],[0.6666666666666666,\"#ed7953\"],[0.7777777777777778,\"#fb9f3a\"],[0.8888888888888888,\"#fdca26\"],[1.0,\"#f0f921\"]],\"type\":\"histogram2d\"}],\"histogram\":[{\"marker\":{\"pattern\":{\"fillmode\":\"overlay\",\"size\":10,\"solidity\":0.2}},\"type\":\"histogram\"}],\"mesh3d\":[{\"colorbar\":{\"outlinewidth\":0,\"ticks\":\"\"},\"type\":\"mesh3d\"}],\"parcoords\":[{\"line\":{\"colorbar\":{\"outlinewidth\":0,\"ticks\":\"\"}},\"type\":\"parcoords\"}],\"pie\":[{\"automargin\":true,\"type\":\"pie\"}],\"scatter3d\":[{\"line\":{\"colorbar\":{\"outlinewidth\":0,\"ticks\":\"\"}},\"marker\":{\"colorbar\":{\"outlinewidth\":0,\"ticks\":\"\"}},\"type\":\"scatter3d\"}],\"scattercarpet\":[{\"marker\":{\"colorbar\":{\"outlinewidth\":0,\"ticks\":\"\"}},\"type\":\"scattercarpet\"}],\"scattergeo\":[{\"marker\":{\"colorbar\":{\"outlinewidth\":0,\"ticks\":\"\"}},\"type\":\"scattergeo\"}],\"scattergl\":[{\"marker\":{\"colorbar\":{\"outlinewidth\":0,\"ticks\":\"\"}},\"type\":\"scattergl\"}],\"scattermapbox\":[{\"marker\":{\"colorbar\":{\"outlinewidth\":0,\"ticks\":\"\"}},\"type\":\"scattermapbox\"}],\"scatterpolargl\":[{\"marker\":{\"colorbar\":{\"outlinewidth\":0,\"ticks\":\"\"}},\"type\":\"scatterpolargl\"}],\"scatterpolar\":[{\"marker\":{\"colorbar\":{\"outlinewidth\":0,\"ticks\":\"\"}},\"type\":\"scatterpolar\"}],\"scatter\":[{\"fillpattern\":{\"fillmode\":\"overlay\",\"size\":10,\"solidity\":0.2},\"type\":\"scatter\"}],\"scatterternary\":[{\"marker\":{\"colorbar\":{\"outlinewidth\":0,\"ticks\":\"\"}},\"type\":\"scatterternary\"}],\"surface\":[{\"colorbar\":{\"outlinewidth\":0,\"ticks\":\"\"},\"colorscale\":[[0.0,\"#0d0887\"],[0.1111111111111111,\"#46039f\"],[0.2222222222222222,\"#7201a8\"],[0.3333333333333333,\"#9c179e\"],[0.4444444444444444,\"#bd3786\"],[0.5555555555555556,\"#d8576b\"],[0.6666666666666666,\"#ed7953\"],[0.7777777777777778,\"#fb9f3a\"],[0.8888888888888888,\"#fdca26\"],[1.0,\"#f0f921\"]],\"type\":\"surface\"}],\"table\":[{\"cells\":{\"fill\":{\"color\":\"#EBF0F8\"},\"line\":{\"color\":\"white\"}},\"header\":{\"fill\":{\"color\":\"#C8D4E3\"},\"line\":{\"color\":\"white\"}},\"type\":\"table\"}]},\"layout\":{\"annotationdefaults\":{\"arrowcolor\":\"#2a3f5f\",\"arrowhead\":0,\"arrowwidth\":1},\"autotypenumbers\":\"strict\",\"coloraxis\":{\"colorbar\":{\"outlinewidth\":0,\"ticks\":\"\"}},\"colorscale\":{\"diverging\":[[0,\"#8e0152\"],[0.1,\"#c51b7d\"],[0.2,\"#de77ae\"],[0.3,\"#f1b6da\"],[0.4,\"#fde0ef\"],[0.5,\"#f7f7f7\"],[0.6,\"#e6f5d0\"],[0.7,\"#b8e186\"],[0.8,\"#7fbc41\"],[0.9,\"#4d9221\"],[1,\"#276419\"]],\"sequential\":[[0.0,\"#0d0887\"],[0.1111111111111111,\"#46039f\"],[0.2222222222222222,\"#7201a8\"],[0.3333333333333333,\"#9c179e\"],[0.4444444444444444,\"#bd3786\"],[0.5555555555555556,\"#d8576b\"],[0.6666666666666666,\"#ed7953\"],[0.7777777777777778,\"#fb9f3a\"],[0.8888888888888888,\"#fdca26\"],[1.0,\"#f0f921\"]],\"sequentialminus\":[[0.0,\"#0d0887\"],[0.1111111111111111,\"#46039f\"],[0.2222222222222222,\"#7201a8\"],[0.3333333333333333,\"#9c179e\"],[0.4444444444444444,\"#bd3786\"],[0.5555555555555556,\"#d8576b\"],[0.6666666666666666,\"#ed7953\"],[0.7777777777777778,\"#fb9f3a\"],[0.8888888888888888,\"#fdca26\"],[1.0,\"#f0f921\"]]},\"colorway\":[\"#636efa\",\"#EF553B\",\"#00cc96\",\"#ab63fa\",\"#FFA15A\",\"#19d3f3\",\"#FF6692\",\"#B6E880\",\"#FF97FF\",\"#FECB52\"],\"font\":{\"color\":\"#2a3f5f\"},\"geo\":{\"bgcolor\":\"white\",\"lakecolor\":\"white\",\"landcolor\":\"white\",\"showlakes\":true,\"showland\":true,\"subunitcolor\":\"#C8D4E3\"},\"hoverlabel\":{\"align\":\"left\"},\"hovermode\":\"closest\",\"mapbox\":{\"style\":\"light\"},\"paper_bgcolor\":\"white\",\"plot_bgcolor\":\"white\",\"polar\":{\"angularaxis\":{\"gridcolor\":\"#EBF0F8\",\"linecolor\":\"#EBF0F8\",\"ticks\":\"\"},\"bgcolor\":\"white\",\"radialaxis\":{\"gridcolor\":\"#EBF0F8\",\"linecolor\":\"#EBF0F8\",\"ticks\":\"\"}},\"scene\":{\"xaxis\":{\"backgroundcolor\":\"white\",\"gridcolor\":\"#DFE8F3\",\"gridwidth\":2,\"linecolor\":\"#EBF0F8\",\"showbackground\":true,\"ticks\":\"\",\"zerolinecolor\":\"#EBF0F8\"},\"yaxis\":{\"backgroundcolor\":\"white\",\"gridcolor\":\"#DFE8F3\",\"gridwidth\":2,\"linecolor\":\"#EBF0F8\",\"showbackground\":true,\"ticks\":\"\",\"zerolinecolor\":\"#EBF0F8\"},\"zaxis\":{\"backgroundcolor\":\"white\",\"gridcolor\":\"#DFE8F3\",\"gridwidth\":2,\"linecolor\":\"#EBF0F8\",\"showbackground\":true,\"ticks\":\"\",\"zerolinecolor\":\"#EBF0F8\"}},\"shapedefaults\":{\"line\":{\"color\":\"#2a3f5f\"}},\"ternary\":{\"aaxis\":{\"gridcolor\":\"#DFE8F3\",\"linecolor\":\"#A2B1C6\",\"ticks\":\"\"},\"baxis\":{\"gridcolor\":\"#DFE8F3\",\"linecolor\":\"#A2B1C6\",\"ticks\":\"\"},\"bgcolor\":\"white\",\"caxis\":{\"gridcolor\":\"#DFE8F3\",\"linecolor\":\"#A2B1C6\",\"ticks\":\"\"}},\"title\":{\"x\":0.05},\"xaxis\":{\"automargin\":true,\"gridcolor\":\"#EBF0F8\",\"linecolor\":\"#EBF0F8\",\"ticks\":\"\",\"title\":{\"standoff\":15},\"zerolinecolor\":\"#EBF0F8\",\"zerolinewidth\":2},\"yaxis\":{\"automargin\":true,\"gridcolor\":\"#EBF0F8\",\"linecolor\":\"#EBF0F8\",\"ticks\":\"\",\"title\":{\"standoff\":15},\"zerolinecolor\":\"#EBF0F8\",\"zerolinewidth\":2}}},\"xaxis\":{\"anchor\":\"y\",\"domain\":[0.0,1.0],\"title\":{\"text\":\"\"}},\"yaxis\":{\"anchor\":\"x\",\"domain\":[0.0,1.0],\"title\":{\"text\":\"\"}},\"legend\":{\"title\":{\"text\":\"Solid Solution Phases\"},\"tracegroupgap\":0},\"margin\":{\"t\":60},\"height\":600,\"width\":800},                        {\"responsive\": true}                    ).then(function(){\n",
       "                            \n",
       "var gd = document.getElementById('d98a088f-ec4e-478f-9a1b-f2c435f906a3');\n",
       "var x = new MutationObserver(function (mutations, observer) {{\n",
       "        var display = window.getComputedStyle(gd).display;\n",
       "        if (!display || display === 'none') {{\n",
       "            console.log([gd, 'removed!']);\n",
       "            Plotly.purge(gd);\n",
       "            observer.disconnect();\n",
       "        }}\n",
       "}});\n",
       "\n",
       "// Listen for the removal of the full notebook cells\n",
       "var notebookContainer = gd.closest('#notebook-container');\n",
       "if (notebookContainer) {{\n",
       "    x.observe(notebookContainer, {childList: true});\n",
       "}}\n",
       "\n",
       "// Listen for the clearing of the current output cell\n",
       "var outputEl = gd.closest('.output');\n",
       "if (outputEl) {{\n",
       "    x.observe(outputEl, {childList: true});\n",
       "}}\n",
       "\n",
       "                        })                };                });            </script>        </div>"
      ]
     },
     "metadata": {},
     "output_type": "display_data"
    }
   ],
   "source": [
    "fig = px.scatter(gridAtt_projected_df, x='x', y='y', color=gridFeasibleTest, text=labels, hover_name=formulas,\n",
    "              template='plotly_white', width=800, height=600, color_discrete_map=color_map, \n",
    "              labels={'color':'Solid Solution Phases', 'x':'', 'y':''})\n",
    "fig.update_traces( marker_size=12)\n",
    "fig.show()"
   ]
  },
  {
   "cell_type": "code",
   "execution_count": 35,
   "metadata": {},
   "outputs": [],
   "source": [
    "from pathfinding.core.graph import Graph\n",
    "from pathfinding.finder.dijkstra import DijkstraFinder"
   ]
  },
  {
   "cell_type": "code",
   "execution_count": 36,
   "metadata": {},
   "outputs": [],
   "source": [
    "finder = DijkstraFinder()"
   ]
  },
  {
   "cell_type": "markdown",
   "metadata": {},
   "source": [
    "# Feasibility Gliding"
   ]
  },
  {
   "cell_type": "code",
   "execution_count": 118,
   "metadata": {},
   "outputs": [],
   "source": [
    "formulas = []\n",
    "for i, comp in enumerate(gridEl):\n",
    "    formulas.append(f\"({i:>3}) \"+\"\".join([f\"{el}{100*v:.1f} \" if v>0 else \"\" for el, v in zip(elementalSpaceComponents, comp)]))"
   ]
  },
  {
   "cell_type": "code",
   "execution_count": 119,
   "metadata": {},
   "outputs": [],
   "source": [
    "_, _, graphN = nimplex.embeddedpair_simplex_graph_fractional_py(attainableSpaceComponentPositions, slen)"
   ]
  },
  {
   "cell_type": "code",
   "execution_count": 120,
   "metadata": {},
   "outputs": [
    {
     "data": {
      "text/plain": [
       "[[1, 25], [0, 2, 25, 26], [1, 3, 26, 27], [2, 4, 27, 28], [3, 5, 28, 29]]"
      ]
     },
     "execution_count": 120,
     "metadata": {},
     "output_type": "execute_result"
    }
   ],
   "source": [
    "graphN[:5]"
   ]
  },
  {
   "cell_type": "code",
   "execution_count": 121,
   "metadata": {},
   "outputs": [
    {
     "data": {
      "text/plain": [
       "'(324) Ni9.6 Cr19.9 Fe70.4 '"
      ]
     },
     "execution_count": 121,
     "metadata": {},
     "output_type": "execute_result"
    }
   ],
   "source": [
    "formulas[dimsize-1]"
   ]
  },
  {
   "cell_type": "code",
   "execution_count": 122,
   "metadata": {},
   "outputs": [
    {
     "name": "stdout",
     "output_type": "stream",
     "text": [
      "Starting node: (  0) Cr100.0 \n",
      "Ending node: (324) Ni9.6 Cr19.9 Fe70.4 \n"
     ]
    }
   ],
   "source": [
    "startingNode = 0\n",
    "endNode = dimsize-1 \n",
    "\n",
    "print(f\"Starting node: {formulas[startingNode]}\")\n",
    "print(f\"Ending node: {formulas[endNode]}\")"
   ]
  },
  {
   "cell_type": "code",
   "execution_count": 123,
   "metadata": {},
   "outputs": [],
   "source": [
    "gridFeasible = [None]*len(graphN)\n",
    "queue = [startingNode]\n",
    "explored = set()\n",
    "calcCount = 0"
   ]
  },
  {
   "cell_type": "code",
   "execution_count": 124,
   "metadata": {},
   "outputs": [
    {
     "name": "stdout",
     "output_type": "stream",
     "text": [
      "Queue: [0]\n",
      "Calculations done: 1\n",
      "Queue: [1, 25]\n",
      "Calculations done: 3\n",
      "Queue: [49, 2, 26]\n",
      "Calculations done: 6\n",
      "Queue: [72, 27, 50, 3]\n"
     ]
    },
    {
     "data": {
      "application/vnd.jupyter.widget-view+json": {
       "model_id": "a620a923a4dc42bc8f76e0cc771cc393",
       "version_major": 2,
       "version_minor": 0
      },
      "text/plain": [
       "  0%|          | 0/4 [00:00<?, ?it/s]"
      ]
     },
     "metadata": {},
     "output_type": "display_data"
    },
    {
     "name": "stdout",
     "output_type": "stream",
     "text": [
      "Calculations done: 10\n",
      "Queue: [4, 73, 51, 28, 94]\n"
     ]
    },
    {
     "data": {
      "application/vnd.jupyter.widget-view+json": {
       "model_id": "4c79e7cbcc1c4237ad2ff4b519678f45",
       "version_major": 2,
       "version_minor": 0
      },
      "text/plain": [
       "  0%|          | 0/5 [00:00<?, ?it/s]"
      ]
     },
     "metadata": {},
     "output_type": "display_data"
    },
    {
     "name": "stdout",
     "output_type": "stream",
     "text": [
      "Calculations done: 15\n",
      "Queue: [5, 74, 115, 52, 29, 95]\n"
     ]
    },
    {
     "data": {
      "application/vnd.jupyter.widget-view+json": {
       "model_id": "0c3d8f797fd54813bb9438b397a746e7",
       "version_major": 2,
       "version_minor": 0
      },
      "text/plain": [
       "  0%|          | 0/6 [00:00<?, ?it/s]"
      ]
     },
     "metadata": {},
     "output_type": "display_data"
    },
    {
     "name": "stdout",
     "output_type": "stream",
     "text": [
      "Calculations done: 21\n",
      "Queue: [96, 6, 135, 75, 116, 53, 30]\n"
     ]
    },
    {
     "data": {
      "application/vnd.jupyter.widget-view+json": {
       "model_id": "5ca3e5e4d934469bab529c51ffa9dfc4",
       "version_major": 2,
       "version_minor": 0
      },
      "text/plain": [
       "  0%|          | 0/7 [00:00<?, ?it/s]"
      ]
     },
     "metadata": {},
     "output_type": "display_data"
    },
    {
     "name": "stdout",
     "output_type": "stream",
     "text": [
      "Calculations done: 28\n",
      "Queue: [97, 7, 136, 76, 117, 54, 31]\n"
     ]
    },
    {
     "data": {
      "application/vnd.jupyter.widget-view+json": {
       "model_id": "45803911fa454798860d98f930b459bf",
       "version_major": 2,
       "version_minor": 0
      },
      "text/plain": [
       "  0%|          | 0/7 [00:00<?, ?it/s]"
      ]
     },
     "metadata": {},
     "output_type": "display_data"
    },
    {
     "name": "stdout",
     "output_type": "stream",
     "text": [
      "Calculations done: 35\n",
      "Queue: [32, 98, 8, 137, 77, 118, 55, 154, 155]\n"
     ]
    },
    {
     "data": {
      "application/vnd.jupyter.widget-view+json": {
       "model_id": "979984aadc654a1fb94bcd8f7a22c118",
       "version_major": 2,
       "version_minor": 0
      },
      "text/plain": [
       "  0%|          | 0/9 [00:00<?, ?it/s]"
      ]
     },
     "metadata": {},
     "output_type": "display_data"
    },
    {
     "name": "stdout",
     "output_type": "stream",
     "text": [
      "Calculations done: 44\n",
      "Queue: [33, 99, 9, 138, 172, 173, 78, 119, 56, 156]\n"
     ]
    },
    {
     "data": {
      "application/vnd.jupyter.widget-view+json": {
       "model_id": "1ad9c2fd5d814a3ba0af19e14f3d067f",
       "version_major": 2,
       "version_minor": 0
      },
      "text/plain": [
       "  0%|          | 0/10 [00:00<?, ?it/s]"
      ]
     },
     "metadata": {},
     "output_type": "display_data"
    },
    {
     "name": "stdout",
     "output_type": "stream",
     "text": [
      "Calculations done: 54\n",
      "Queue: [34, 100, 10, 139, 174, 79, 120, 57, 157]\n"
     ]
    },
    {
     "data": {
      "application/vnd.jupyter.widget-view+json": {
       "model_id": "b89501a458274ebdaa39f78ae056e147",
       "version_major": 2,
       "version_minor": 0
      },
      "text/plain": [
       "  0%|          | 0/9 [00:00<?, ?it/s]"
      ]
     },
     "metadata": {},
     "output_type": "display_data"
    },
    {
     "name": "stdout",
     "output_type": "stream",
     "text": [
      "Calculations done: 63\n",
      "Queue: [35, 101, 11, 140, 175, 80, 121, 58, 190, 158, 191]\n"
     ]
    },
    {
     "data": {
      "application/vnd.jupyter.widget-view+json": {
       "model_id": "e64fa3cae52a482ba7d000cdb992ea33",
       "version_major": 2,
       "version_minor": 0
      },
      "text/plain": [
       "  0%|          | 0/11 [00:00<?, ?it/s]"
      ]
     },
     "metadata": {},
     "output_type": "display_data"
    },
    {
     "name": "stdout",
     "output_type": "stream",
     "text": [
      "Calculations done: 74\n",
      "Queue: [192, 36, 102, 12, 141, 176, 81, 122, 59, 159]\n"
     ]
    },
    {
     "data": {
      "application/vnd.jupyter.widget-view+json": {
       "model_id": "854972e1fab44e009bb2552255b683d9",
       "version_major": 2,
       "version_minor": 0
      },
      "text/plain": [
       "  0%|          | 0/10 [00:00<?, ?it/s]"
      ]
     },
     "metadata": {},
     "output_type": "display_data"
    },
    {
     "name": "stdout",
     "output_type": "stream",
     "text": [
      "Calculations done: 84\n",
      "Queue: [160, 193, 37, 103, 13, 142, 207, 208, 177, 82, 123, 60]\n"
     ]
    },
    {
     "data": {
      "application/vnd.jupyter.widget-view+json": {
       "model_id": "6ef9edb28d944b7fbede3b466c01578b",
       "version_major": 2,
       "version_minor": 0
      },
      "text/plain": [
       "  0%|          | 0/12 [00:00<?, ?it/s]"
      ]
     },
     "metadata": {},
     "output_type": "display_data"
    },
    {
     "name": "stdout",
     "output_type": "stream",
     "text": [
      "Calculations done: 96\n",
      "Queue: [161, 194, 38, 104, 14, 143, 209, 178, 83, 124, 61]\n"
     ]
    },
    {
     "data": {
      "application/vnd.jupyter.widget-view+json": {
       "model_id": "fd17594574594d3bab10f9f1404bc591",
       "version_major": 2,
       "version_minor": 0
      },
      "text/plain": [
       "  0%|          | 0/11 [00:00<?, ?it/s]"
      ]
     },
     "metadata": {},
     "output_type": "display_data"
    },
    {
     "name": "stdout",
     "output_type": "stream",
     "text": [
      "Calculations done: 107\n",
      "Queue: [224, 162, 195, 39, 105, 15, 144, 210, 179, 84, 125, 62, 223]\n"
     ]
    },
    {
     "data": {
      "application/vnd.jupyter.widget-view+json": {
       "model_id": "34ec3c4f5671472ebc5a9eb2e2478dc9",
       "version_major": 2,
       "version_minor": 0
      },
      "text/plain": [
       "  0%|          | 0/13 [00:00<?, ?it/s]"
      ]
     },
     "metadata": {},
     "output_type": "display_data"
    },
    {
     "name": "stdout",
     "output_type": "stream",
     "text": [
      "Calculations done: 120\n",
      "Queue: [225, 163, 196, 40, 106, 237, 238, 16, 145, 211, 180, 85, 126, 63]\n"
     ]
    },
    {
     "data": {
      "application/vnd.jupyter.widget-view+json": {
       "model_id": "b8aaa186bbf44a9c8de681a4c928ee7e",
       "version_major": 2,
       "version_minor": 0
      },
      "text/plain": [
       "  0%|          | 0/14 [00:00<?, ?it/s]"
      ]
     },
     "metadata": {},
     "output_type": "display_data"
    },
    {
     "name": "stdout",
     "output_type": "stream",
     "text": [
      "Calculations done: 134\n",
      "Queue: [64, 226, 164, 197, 41, 107, 239, 17, 146, 212, 181, 86, 127]\n"
     ]
    },
    {
     "data": {
      "application/vnd.jupyter.widget-view+json": {
       "model_id": "446d93926bd5412a82be3c47c3ecc0e6",
       "version_major": 2,
       "version_minor": 0
      },
      "text/plain": [
       "  0%|          | 0/13 [00:00<?, ?it/s]"
      ]
     },
     "metadata": {},
     "output_type": "display_data"
    },
    {
     "name": "stdout",
     "output_type": "stream",
     "text": [
      "Calculations done: 147\n",
      "Queue: [128, 65, 227, 165, 198, 42, 108, 240, 18, 147, 213, 182, 87, 251, 252]\n"
     ]
    },
    {
     "data": {
      "application/vnd.jupyter.widget-view+json": {
       "model_id": "18cfce36cdf3434b9a332ee2ff828f8e",
       "version_major": 2,
       "version_minor": 0
      },
      "text/plain": [
       "  0%|          | 0/15 [00:00<?, ?it/s]"
      ]
     },
     "metadata": {},
     "output_type": "display_data"
    },
    {
     "name": "stdout",
     "output_type": "stream",
     "text": [
      "Calculations done: 162\n",
      "Queue: [129, 66, 228, 166, 199, 43, 109, 241, 19, 148, 214, 183, 88, 253]\n"
     ]
    },
    {
     "data": {
      "application/vnd.jupyter.widget-view+json": {
       "model_id": "d4ade1413e624bdfa6c66e9aae8410e7",
       "version_major": 2,
       "version_minor": 0
      },
      "text/plain": [
       "  0%|          | 0/14 [00:00<?, ?it/s]"
      ]
     },
     "metadata": {},
     "output_type": "display_data"
    },
    {
     "name": "stdout",
     "output_type": "stream",
     "text": [
      "Calculations done: 176\n",
      "Queue: [130, 67, 229, 167, 200, 264, 265, 44, 110, 242, 20, 149, 215, 184, 89, 254]\n"
     ]
    },
    {
     "data": {
      "application/vnd.jupyter.widget-view+json": {
       "model_id": "2825e2cb90164713b2d4a87546f8d82d",
       "version_major": 2,
       "version_minor": 0
      },
      "text/plain": [
       "  0%|          | 0/16 [00:00<?, ?it/s]"
      ]
     },
     "metadata": {},
     "output_type": "display_data"
    },
    {
     "name": "stdout",
     "output_type": "stream",
     "text": [
      "Calculations done: 192\n",
      "Queue: [131, 68, 230, 168, 201, 266, 45, 111, 243, 21, 150, 216, 185, 90, 255]\n"
     ]
    },
    {
     "data": {
      "application/vnd.jupyter.widget-view+json": {
       "model_id": "ce1d8e06c09c4c7c89ba7a4c314b9b3f",
       "version_major": 2,
       "version_minor": 0
      },
      "text/plain": [
       "  0%|          | 0/15 [00:00<?, ?it/s]"
      ]
     },
     "metadata": {},
     "output_type": "display_data"
    },
    {
     "name": "stdout",
     "output_type": "stream",
     "text": [
      "Calculations done: 207\n",
      "Queue: [256, 132, 69, 231, 169, 202, 267, 46, 112, 244, 276, 277, 151, 22, 217, 186, 91]\n"
     ]
    },
    {
     "data": {
      "application/vnd.jupyter.widget-view+json": {
       "model_id": "de2639e17ed84ad6913d96f0d9d7cf04",
       "version_major": 2,
       "version_minor": 0
      },
      "text/plain": [
       "  0%|          | 0/17 [00:00<?, ?it/s]"
      ]
     },
     "metadata": {},
     "output_type": "display_data"
    },
    {
     "name": "stdout",
     "output_type": "stream",
     "text": [
      "Calculations done: 224\n",
      "Queue: [257, 133, 70, 232, 170, 203, 268, 47, 113, 245, 278, 23, 152, 218, 187, 92, 286, 287]\n"
     ]
    },
    {
     "data": {
      "application/vnd.jupyter.widget-view+json": {
       "model_id": "befc6385eb72471eaef2f39dd1f871d6",
       "version_major": 2,
       "version_minor": 0
      },
      "text/plain": [
       "  0%|          | 0/18 [00:00<?, ?it/s]"
      ]
     },
     "metadata": {},
     "output_type": "display_data"
    },
    {
     "name": "stdout",
     "output_type": "stream",
     "text": [
      "Calculations done: 242\n",
      "Queue: [258, 134, 269, 279, 24, 153, 285, 288, 294, 295, 296, 171, 48, 188, 71, 204, 219, 93, 233, 114, 246]\n"
     ]
    },
    {
     "data": {
      "application/vnd.jupyter.widget-view+json": {
       "model_id": "5804c8bd0a26449b8b0e2cb3b88d4c77",
       "version_major": 2,
       "version_minor": 0
      },
      "text/plain": [
       "  0%|          | 0/21 [00:00<?, ?it/s]"
      ]
     },
     "metadata": {},
     "output_type": "display_data"
    },
    {
     "name": "stdout",
     "output_type": "stream",
     "text": [
      "Calculations done: 263\n",
      "Queue: [302, 303]\n",
      "Calculations done: 265\n",
      "Queue: [309, 308, 301]\n",
      "Calculations done: 268\n",
      "Queue: [313, 314, 307]\n",
      "Calculations done: 271\n",
      "Queue: [312, 317, 318]\n",
      "Calculations done: 274\n",
      "Queue: [321, 306, 316, 311]\n"
     ]
    },
    {
     "data": {
      "application/vnd.jupyter.widget-view+json": {
       "model_id": "d92dbfd33ea6495a9dab660caae78ec1",
       "version_major": 2,
       "version_minor": 0
      },
      "text/plain": [
       "  0%|          | 0/4 [00:00<?, ?it/s]"
      ]
     },
     "metadata": {},
     "output_type": "display_data"
    },
    {
     "name": "stdout",
     "output_type": "stream",
     "text": [
      "Calculations done: 278\n",
      "Queue: [320, 323]\n",
      "Calculations done: 280\n",
      "Queue: [322, 324, 319]\n"
     ]
    }
   ],
   "source": [
    "while len(queue)>0:\n",
    "    print(f\"Queue: {queue}\")\n",
    "    # Assign feasibilities to the current queue\n",
    "    elPositions = [gridEl[i] for i in queue]\n",
    "    if len(queue)>3:\n",
    "        phases = process_map(equilibrium_callable, elPositions, max_workers=4)\n",
    "    else:\n",
    "        phases = [equilibrium_callable(elP) for elP in elPositions]\n",
    "    feasibilities = [len(gridPhases[i]['Phases']) != 0 and len(set(phases[i]['Phases']).difference(feasiblePhases)) == 0 and phases[i] != [] for i in range(len(phases))]\n",
    "    #feasibilities = [len(set(p['Phases']) & infeasiblePhases)==0 and p['Phases']!=[] for p in phases]\n",
    "    feasibilities[0]=True\n",
    "\n",
    "    calcCount += len(feasibilities)\n",
    "    explored = explored.union(queue)\n",
    "\n",
    "    # Create next queue based on neighbors of feasible points\n",
    "    nextQueue = set()\n",
    "    for f, i in zip(feasibilities, queue):\n",
    "        gridFeasible[i] = f\n",
    "        # Only if feasible\n",
    "        if f:\n",
    "            for n in graphN[i]:\n",
    "                if n not in explored:\n",
    "                    nextQueue.add(n)\n",
    "\n",
    "    # Early termination criteria if we just evaluated the target\n",
    "    if endNode in queue:\n",
    "        break\n",
    "\n",
    "    print(f\"Calculations done: {calcCount}\")\n",
    "    queue = list(nextQueue)"
   ]
  },
  {
   "cell_type": "code",
   "execution_count": 125,
   "metadata": {},
   "outputs": [
    {
     "data": {
      "application/vnd.plotly.v1+json": {
       "config": {
        "plotlyServerURL": "https://plot.ly"
       },
       "data": [
        {
         "hovertemplate": "<b>%{hovertext}</b><br><br>Solid Solution Phases=True<br>=%{y}<br>text=%{text}<extra></extra>",
         "hovertext": [
          "(  0) Cr100.0 ",
          "(  1) Ni4.2 Cr95.8 ",
          "(  2) Ni8.3 Cr91.7 ",
          "(  3) Ni12.5 Cr87.5 ",
          "(  4) Ni16.7 Cr83.3 ",
          "(  5) Ni20.8 Cr79.2 ",
          "(  6) Ni25.0 Cr75.0 ",
          "(  7) Ni29.2 Cr70.8 ",
          "(  8) Ni33.3 Cr66.7 ",
          "(  9) Ni37.5 Cr62.5 ",
          "( 10) Ni41.7 Cr58.3 ",
          "( 11) Ni45.8 Cr54.2 ",
          "( 12) Ni50.0 Cr50.0 ",
          "( 13) Ni54.2 Cr45.8 ",
          "( 14) Ni58.3 Cr41.7 ",
          "( 15) Ni62.5 Cr37.5 ",
          "( 16) Ni66.7 Cr33.3 ",
          "( 17) Ni70.8 Cr29.2 ",
          "( 18) Ni75.0 Cr25.0 ",
          "( 19) Ni79.2 Cr20.8 ",
          "( 20) Ni83.3 Cr16.7 ",
          "( 21) Ni87.5 Cr12.5 ",
          "( 22) Ni91.7 Cr8.3 ",
          "( 23) Ni95.8 Cr4.2 ",
          "( 24) Ni100.0 ",
          "( 25) Ni0.4 Cr96.7 Fe2.9 ",
          "( 26) Ni4.6 Cr92.5 Fe2.9 ",
          "( 27) Ni8.7 Cr88.3 Fe2.9 ",
          "( 28) Ni12.9 Cr84.2 Fe2.9 ",
          "( 29) Ni17.1 Cr80.0 Fe2.9 ",
          "( 30) Ni21.2 Cr75.8 Fe2.9 ",
          "( 31) Ni25.4 Cr71.7 Fe2.9 ",
          "( 32) Ni29.6 Cr67.5 Fe2.9 ",
          "( 33) Ni33.7 Cr63.3 Fe2.9 ",
          "( 34) Ni37.9 Cr59.2 Fe2.9 ",
          "( 35) Ni42.1 Cr55.0 Fe2.9 ",
          "( 36) Ni46.2 Cr50.8 Fe2.9 ",
          "( 37) Ni50.4 Cr46.7 Fe2.9 ",
          "( 38) Ni54.6 Cr42.5 Fe2.9 ",
          "( 39) Ni58.7 Cr38.3 Fe2.9 ",
          "( 40) Ni62.9 Cr34.2 Fe2.9 ",
          "( 41) Ni67.1 Cr30.0 Fe2.9 ",
          "( 42) Ni71.2 Cr25.8 Fe2.9 ",
          "( 43) Ni75.4 Cr21.7 Fe2.9 ",
          "( 44) Ni79.6 Cr17.5 Fe2.9 ",
          "( 45) Ni83.7 Cr13.3 Fe2.9 ",
          "( 46) Ni87.9 Cr9.2 Fe2.9 ",
          "( 47) Ni92.1 Cr5.0 Fe2.9 ",
          "( 48) Ni96.2 Cr0.8 Fe2.9 ",
          "( 49) Ni0.8 Cr93.3 Fe5.9 ",
          "( 50) Ni5.0 Cr89.2 Fe5.9 ",
          "( 51) Ni9.1 Cr85.0 Fe5.9 ",
          "( 52) Ni13.3 Cr80.8 Fe5.9 ",
          "( 53) Ni17.5 Cr76.7 Fe5.9 ",
          "( 54) Ni21.6 Cr72.5 Fe5.9 ",
          "( 55) Ni25.8 Cr68.3 Fe5.9 ",
          "( 56) Ni30.0 Cr64.2 Fe5.9 ",
          "( 57) Ni34.1 Cr60.0 Fe5.9 ",
          "( 58) Ni38.3 Cr55.8 Fe5.9 ",
          "( 59) Ni42.5 Cr51.7 Fe5.9 ",
          "( 60) Ni46.6 Cr47.5 Fe5.9 ",
          "( 61) Ni50.8 Cr43.3 Fe5.9 ",
          "( 62) Ni55.0 Cr39.2 Fe5.9 ",
          "( 63) Ni59.1 Cr35.0 Fe5.9 ",
          "( 64) Ni63.3 Cr30.8 Fe5.9 ",
          "( 65) Ni67.5 Cr26.7 Fe5.9 ",
          "( 66) Ni71.6 Cr22.5 Fe5.9 ",
          "( 67) Ni75.8 Cr18.3 Fe5.9 ",
          "( 68) Ni80.0 Cr14.2 Fe5.9 ",
          "( 69) Ni84.1 Cr10.0 Fe5.9 ",
          "( 70) Ni88.3 Cr5.8 Fe5.9 ",
          "( 71) Ni92.5 Cr1.7 Fe5.9 ",
          "( 72) Ni1.2 Cr90.0 Fe8.8 ",
          "( 73) Ni5.4 Cr85.8 Fe8.8 ",
          "( 74) Ni9.5 Cr81.7 Fe8.8 ",
          "( 75) Ni13.7 Cr77.5 Fe8.8 ",
          "( 76) Ni17.9 Cr73.3 Fe8.8 ",
          "( 77) Ni22.0 Cr69.2 Fe8.8 ",
          "( 78) Ni26.2 Cr65.0 Fe8.8 ",
          "( 79) Ni30.4 Cr60.8 Fe8.8 ",
          "( 80) Ni34.5 Cr56.7 Fe8.8 ",
          "( 81) Ni38.7 Cr52.5 Fe8.8 ",
          "( 82) Ni42.9 Cr48.3 Fe8.8 ",
          "( 83) Ni47.0 Cr44.2 Fe8.8 ",
          "( 84) Ni51.2 Cr40.0 Fe8.8 ",
          "( 85) Ni55.4 Cr35.8 Fe8.8 ",
          "( 86) Ni59.5 Cr31.7 Fe8.8 ",
          "( 87) Ni63.7 Cr27.5 Fe8.8 ",
          "( 88) Ni67.9 Cr23.3 Fe8.8 ",
          "( 89) Ni72.0 Cr19.2 Fe8.8 ",
          "( 90) Ni76.2 Cr15.0 Fe8.8 ",
          "( 91) Ni80.4 Cr10.8 Fe8.8 ",
          "( 92) Ni84.5 Cr6.7 Fe8.8 ",
          "( 93) Ni88.7 Cr2.5 Fe8.8 ",
          "( 94) Ni1.6 Cr86.7 Fe11.7 ",
          "( 95) Ni5.8 Cr82.5 Fe11.7 ",
          "( 96) Ni9.9 Cr78.3 Fe11.7 ",
          "( 97) Ni14.1 Cr74.2 Fe11.7 ",
          "( 98) Ni18.3 Cr70.0 Fe11.7 ",
          "( 99) Ni22.4 Cr65.8 Fe11.7 ",
          "(100) Ni26.6 Cr61.7 Fe11.7 ",
          "(101) Ni30.8 Cr57.5 Fe11.7 ",
          "(102) Ni34.9 Cr53.3 Fe11.7 ",
          "(103) Ni39.1 Cr49.2 Fe11.7 ",
          "(104) Ni43.3 Cr45.0 Fe11.7 ",
          "(105) Ni47.4 Cr40.8 Fe11.7 ",
          "(106) Ni51.6 Cr36.7 Fe11.7 ",
          "(107) Ni55.8 Cr32.5 Fe11.7 ",
          "(108) Ni59.9 Cr28.3 Fe11.7 ",
          "(109) Ni64.1 Cr24.2 Fe11.7 ",
          "(110) Ni68.3 Cr20.0 Fe11.7 ",
          "(111) Ni72.4 Cr15.8 Fe11.7 ",
          "(112) Ni76.6 Cr11.7 Fe11.7 ",
          "(113) Ni80.8 Cr7.5 Fe11.7 ",
          "(114) Ni84.9 Cr3.3 Fe11.7 ",
          "(115) Ni2.0 Cr83.3 Fe14.7 ",
          "(116) Ni6.2 Cr79.2 Fe14.7 ",
          "(117) Ni10.3 Cr75.0 Fe14.7 ",
          "(118) Ni14.5 Cr70.8 Fe14.7 ",
          "(119) Ni18.7 Cr66.7 Fe14.7 ",
          "(120) Ni22.8 Cr62.5 Fe14.7 ",
          "(121) Ni27.0 Cr58.3 Fe14.7 ",
          "(122) Ni31.2 Cr54.2 Fe14.7 ",
          "(123) Ni35.3 Cr50.0 Fe14.7 ",
          "(124) Ni39.5 Cr45.8 Fe14.7 ",
          "(125) Ni43.7 Cr41.7 Fe14.7 ",
          "(126) Ni47.8 Cr37.5 Fe14.7 ",
          "(127) Ni52.0 Cr33.3 Fe14.7 ",
          "(128) Ni56.2 Cr29.2 Fe14.7 ",
          "(129) Ni60.3 Cr25.0 Fe14.7 ",
          "(130) Ni64.5 Cr20.8 Fe14.7 ",
          "(131) Ni68.7 Cr16.7 Fe14.7 ",
          "(132) Ni72.8 Cr12.5 Fe14.7 ",
          "(133) Ni77.0 Cr8.3 Fe14.7 ",
          "(134) Ni81.2 Cr4.2 Fe14.7 ",
          "(136) Ni6.6 Cr75.8 Fe17.6 ",
          "(137) Ni10.7 Cr71.7 Fe17.6 ",
          "(138) Ni14.9 Cr67.5 Fe17.6 ",
          "(139) Ni19.1 Cr63.3 Fe17.6 ",
          "(140) Ni23.2 Cr59.2 Fe17.6 ",
          "(141) Ni27.4 Cr55.0 Fe17.6 ",
          "(142) Ni31.6 Cr50.8 Fe17.6 ",
          "(143) Ni35.7 Cr46.7 Fe17.6 ",
          "(144) Ni39.9 Cr42.5 Fe17.6 ",
          "(145) Ni44.1 Cr38.3 Fe17.6 ",
          "(146) Ni48.2 Cr34.2 Fe17.6 ",
          "(147) Ni52.4 Cr30.0 Fe17.6 ",
          "(148) Ni56.6 Cr25.8 Fe17.6 ",
          "(149) Ni60.7 Cr21.7 Fe17.6 ",
          "(150) Ni64.9 Cr17.5 Fe17.6 ",
          "(151) Ni69.1 Cr13.3 Fe17.6 ",
          "(152) Ni73.2 Cr9.2 Fe17.6 ",
          "(153) Ni77.4 Cr5.0 Fe17.6 ",
          "(155) Ni7.0 Cr72.5 Fe20.5 ",
          "(156) Ni11.1 Cr68.3 Fe20.5 ",
          "(157) Ni15.3 Cr64.1 Fe20.5 ",
          "(158) Ni19.5 Cr60.0 Fe20.5 ",
          "(159) Ni23.6 Cr55.8 Fe20.5 ",
          "(160) Ni27.8 Cr51.6 Fe20.5 ",
          "(161) Ni32.0 Cr47.5 Fe20.5 ",
          "(162) Ni36.1 Cr43.3 Fe20.5 ",
          "(163) Ni40.3 Cr39.1 Fe20.5 ",
          "(164) Ni44.5 Cr35.0 Fe20.5 ",
          "(165) Ni48.6 Cr30.8 Fe20.5 ",
          "(166) Ni52.8 Cr26.6 Fe20.5 ",
          "(167) Ni57.0 Cr22.5 Fe20.5 ",
          "(168) Ni61.1 Cr18.3 Fe20.5 ",
          "(169) Ni65.3 Cr14.1 Fe20.5 ",
          "(170) Ni69.5 Cr10.0 Fe20.5 ",
          "(171) Ni73.6 Cr5.8 Fe20.5 ",
          "(174) Ni11.5 Cr65.0 Fe23.5 ",
          "(175) Ni15.7 Cr60.8 Fe23.5 ",
          "(176) Ni19.9 Cr56.6 Fe23.5 ",
          "(177) Ni24.0 Cr52.5 Fe23.5 ",
          "(178) Ni28.2 Cr48.3 Fe23.5 ",
          "(179) Ni32.4 Cr44.1 Fe23.5 ",
          "(180) Ni36.5 Cr40.0 Fe23.5 ",
          "(181) Ni40.7 Cr35.8 Fe23.5 ",
          "(182) Ni44.9 Cr31.6 Fe23.5 ",
          "(183) Ni49.0 Cr27.5 Fe23.5 ",
          "(184) Ni53.2 Cr23.3 Fe23.5 ",
          "(185) Ni57.4 Cr19.1 Fe23.5 ",
          "(186) Ni61.5 Cr15.0 Fe23.5 ",
          "(187) Ni65.7 Cr10.8 Fe23.5 ",
          "(188) Ni69.9 Cr6.6 Fe23.5 ",
          "(192) Ni16.1 Cr57.5 Fe26.4 ",
          "(193) Ni20.3 Cr53.3 Fe26.4 ",
          "(194) Ni24.4 Cr49.1 Fe26.4 ",
          "(195) Ni28.6 Cr45.0 Fe26.4 ",
          "(196) Ni32.8 Cr40.8 Fe26.4 ",
          "(197) Ni36.9 Cr36.6 Fe26.4 ",
          "(198) Ni41.1 Cr32.5 Fe26.4 ",
          "(199) Ni45.3 Cr28.3 Fe26.4 ",
          "(200) Ni49.4 Cr24.1 Fe26.4 ",
          "(201) Ni53.6 Cr20.0 Fe26.4 ",
          "(202) Ni57.8 Cr15.8 Fe26.4 ",
          "(203) Ni61.9 Cr11.6 Fe26.4 ",
          "(204) Ni66.1 Cr7.5 Fe26.4 ",
          "(209) Ni20.7 Cr50.0 Fe29.4 ",
          "(210) Ni24.8 Cr45.8 Fe29.4 ",
          "(211) Ni29.0 Cr41.6 Fe29.4 ",
          "(212) Ni33.2 Cr37.5 Fe29.4 ",
          "(213) Ni37.3 Cr33.3 Fe29.4 ",
          "(214) Ni41.5 Cr29.1 Fe29.4 ",
          "(215) Ni45.7 Cr25.0 Fe29.4 ",
          "(216) Ni49.8 Cr20.8 Fe29.4 ",
          "(217) Ni54.0 Cr16.6 Fe29.4 ",
          "(218) Ni58.2 Cr12.5 Fe29.4 ",
          "(219) Ni62.3 Cr8.3 Fe29.4 ",
          "(224) Ni21.1 Cr46.6 Fe32.3 ",
          "(225) Ni25.2 Cr42.5 Fe32.3 ",
          "(226) Ni29.4 Cr38.3 Fe32.3 ",
          "(227) Ni33.6 Cr34.1 Fe32.3 ",
          "(228) Ni37.7 Cr30.0 Fe32.3 ",
          "(229) Ni41.9 Cr25.8 Fe32.3 ",
          "(230) Ni46.1 Cr21.6 Fe32.3 ",
          "(231) Ni50.2 Cr17.5 Fe32.3 ",
          "(232) Ni54.4 Cr13.3 Fe32.3 ",
          "(233) Ni58.6 Cr9.1 Fe32.3 ",
          "(239) Ni25.6 Cr39.1 Fe35.2 ",
          "(240) Ni29.8 Cr35.0 Fe35.2 ",
          "(241) Ni34.0 Cr30.8 Fe35.2 ",
          "(242) Ni38.1 Cr26.6 Fe35.2 ",
          "(243) Ni42.3 Cr22.5 Fe35.2 ",
          "(244) Ni46.5 Cr18.3 Fe35.2 ",
          "(245) Ni50.6 Cr14.1 Fe35.2 ",
          "(246) Ni54.8 Cr10.0 Fe35.2 ",
          "(253) Ni30.2 Cr31.6 Fe38.2 ",
          "(254) Ni34.4 Cr27.5 Fe38.2 ",
          "(255) Ni38.5 Cr23.3 Fe38.2 ",
          "(256) Ni42.7 Cr19.1 Fe38.2 ",
          "(257) Ni46.9 Cr15.0 Fe38.2 ",
          "(258) Ni51.0 Cr10.8 Fe38.2 ",
          "(266) Ni34.8 Cr24.1 Fe41.1 ",
          "(267) Ni38.9 Cr20.0 Fe41.1 ",
          "(268) Ni43.1 Cr15.8 Fe41.1 ",
          "(269) Ni47.3 Cr11.6 Fe41.1 ",
          "(277) Ni35.2 Cr20.8 Fe44.0 ",
          "(278) Ni39.3 Cr16.6 Fe44.0 ",
          "(279) Ni43.5 Cr12.5 Fe44.0 ",
          "(286) Ni31.4 Cr21.6 Fe47.0 ",
          "(287) Ni35.6 Cr17.5 Fe47.0 ",
          "(288) Ni39.7 Cr13.3 Fe47.0 ",
          "(295) Ni31.8 Cr18.3 Fe49.9 ",
          "(296) Ni36.0 Cr14.1 Fe49.9 ",
          "(302) Ni28.0 Cr19.1 Fe52.8 ",
          "(303) Ni32.2 Cr15.0 Fe52.8 ",
          "(308) Ni24.3 Cr20.0 Fe55.8 ",
          "(309) Ni28.4 Cr15.8 Fe55.8 ",
          "(312) Ni16.3 Cr24.9 Fe58.7 ",
          "(313) Ni20.5 Cr20.8 Fe58.7 ",
          "(314) Ni24.7 Cr16.6 Fe58.7 ",
          "(318) Ni20.9 Cr17.4 Fe61.6 ",
          "(320) Ni13.0 Cr22.4 Fe64.6 ",
          "(321) Ni17.1 Cr18.3 Fe64.6 ",
          "(322) Ni9.2 Cr23.3 Fe67.5 ",
          "(323) Ni13.4 Cr19.1 Fe67.5 "
         ],
         "legendgroup": "True",
         "marker": {
          "color": "green",
          "symbol": "circle"
         },
         "mode": "markers+text",
         "name": "True",
         "orientation": "v",
         "showlegend": true,
         "text": [
          "<b>V</b>",
          "",
          "",
          "",
          "",
          "",
          "",
          "",
          "",
          "",
          "",
          "",
          "",
          "",
          "",
          "",
          "",
          "",
          "",
          "",
          "",
          "",
          "",
          "",
          "<b>Ti</b>",
          "",
          "",
          "",
          "",
          "",
          "",
          "",
          "",
          "",
          "",
          "",
          "",
          "",
          "",
          "",
          "",
          "",
          "",
          "",
          "",
          "",
          "",
          "",
          "",
          "",
          "",
          "",
          "",
          "",
          "",
          "",
          "",
          "",
          "",
          "",
          "",
          "",
          "",
          "",
          "",
          "",
          "",
          "",
          "",
          "",
          "",
          "",
          "",
          "",
          "",
          "",
          "",
          "",
          "",
          "",
          "",
          "",
          "",
          "",
          "",
          "",
          "",
          "",
          "",
          "",
          "",
          "",
          "",
          "",
          "",
          "",
          "",
          "",
          "",
          "",
          "",
          "",
          "",
          "",
          "",
          "",
          "",
          "",
          "",
          "",
          "",
          "",
          "",
          "",
          "",
          "",
          "",
          "",
          "",
          "",
          "",
          "",
          "",
          "",
          "",
          "",
          "",
          "",
          "",
          "",
          "",
          "",
          "",
          "",
          "",
          "",
          "",
          "",
          "",
          "",
          "",
          "",
          "",
          "",
          "",
          "",
          "",
          "",
          "",
          "",
          "",
          "",
          "",
          "",
          "",
          "",
          "",
          "",
          "",
          "",
          "",
          "",
          "",
          "",
          "",
          "",
          "",
          "",
          "",
          "",
          "",
          "",
          "",
          "",
          "",
          "",
          "",
          "",
          "",
          "",
          "",
          "",
          "",
          "",
          "",
          "",
          "",
          "",
          "",
          "",
          "",
          "",
          "",
          "",
          "",
          "",
          "",
          "",
          "",
          "",
          "",
          "",
          "",
          "",
          "",
          "",
          "",
          "",
          "",
          "",
          "",
          "",
          "",
          "",
          "",
          "",
          "",
          "",
          "",
          "",
          "",
          "",
          "",
          "",
          "",
          "",
          "",
          "",
          "",
          "",
          "",
          "",
          "",
          "",
          "",
          "",
          "",
          "",
          "",
          "",
          "",
          "",
          "",
          "",
          "",
          "",
          "",
          "",
          "",
          "",
          "",
          "",
          "",
          "",
          "",
          "",
          ""
         ],
         "type": "scatter",
         "x": [
          -0.866025,
          -0.79385625,
          -0.7216875,
          -0.64951875,
          -0.57735,
          -0.50518125,
          -0.4330125,
          -0.3608437500000001,
          -0.28867499999999996,
          -0.21650625,
          -0.14433750000000004,
          -0.07216874999999998,
          0,
          0.07216874999999996,
          0.14433749999999998,
          0.21650625000000007,
          0.288675,
          0.3608437500000001,
          0.4330125,
          0.5051812499999999,
          0.57735,
          0.6495187499999999,
          0.7216875,
          0.7938562500000002,
          0.866025,
          -0.8299406250000001,
          -0.757771875,
          -0.6856031250000001,
          -0.6134343750000001,
          -0.541265625,
          -0.469096875,
          -0.3969281250000001,
          -0.32475937499999996,
          -0.252590625,
          -0.18042187500000004,
          -0.10825312499999998,
          -0.036084375,
          0.036084375000000016,
          0.10825312499999994,
          0.180421875,
          0.25259062500000007,
          0.324759375,
          0.3969281250000001,
          0.469096875,
          0.541265625,
          0.613434375,
          0.685603125,
          0.7577718750000001,
          0.8299406250000001,
          -0.79385625,
          -0.7216875,
          -0.64951875,
          -0.57735,
          -0.50518125,
          -0.4330125000000001,
          -0.36084374999999996,
          -0.288675,
          -0.21650625000000004,
          -0.14433749999999998,
          -0.07216875,
          1.6024681581683354e-17,
          0.07216874999999999,
          0.14433749999999995,
          0.21650625000000004,
          0.28867500000000007,
          0.36084375,
          0.4330125000000001,
          0.50518125,
          0.57735,
          0.64951875,
          0.7216875,
          0.79385625,
          -0.757771875,
          -0.6856031250000001,
          -0.613434375,
          -0.5412656250000001,
          -0.4690968750000001,
          -0.39692812499999997,
          -0.324759375,
          -0.25259062500000007,
          -0.18042187499999998,
          -0.108253125,
          -0.03608437499999999,
          0.03608437499999999,
          0.108253125,
          0.18042187499999998,
          0.252590625,
          0.3247593750000001,
          0.396928125,
          0.4690968750000001,
          0.5412656250000001,
          0.613434375,
          0.6856031250000001,
          0.757771875,
          -0.7216875,
          -0.64951875,
          -0.57735,
          -0.50518125,
          -0.43301249999999997,
          -0.36084375,
          -0.28867500000000007,
          -0.21650624999999998,
          -0.1443375,
          -0.07216874999999999,
          -1.6024681581683354e-17,
          0.07216875,
          0.14433750000000004,
          0.21650624999999993,
          0.288675,
          0.3608437500000001,
          0.4330125,
          0.5051812500000001,
          0.57735,
          0.64951875,
          0.7216875,
          -0.685603125,
          -0.613434375,
          -0.5412656250000001,
          -0.46909687499999997,
          -0.396928125,
          -0.3247593750000001,
          -0.25259062499999996,
          -0.180421875,
          -0.10825312499999999,
          -0.036084375000000016,
          0.036084375,
          0.10825312500000002,
          0.18042187499999998,
          0.25259062499999996,
          0.324759375,
          0.3969281250000001,
          0.469096875,
          0.5412656250000001,
          0.6134343750000001,
          0.685603125,
          -0.57735,
          -0.50518125,
          -0.4330125,
          -0.3608437500000001,
          -0.28867499999999996,
          -0.21650625,
          -0.14433749999999998,
          -0.07216875000000002,
          0,
          0.07216875000000002,
          0.14433749999999998,
          0.21650625,
          0.28867499999999996,
          0.36084375,
          0.4330125000000001,
          0.50518125,
          0.5773500000000001,
          0.64951875,
          -0.541265625,
          -0.469096875,
          -0.3969281250000001,
          -0.32475937499999996,
          -0.252590625,
          -0.18042187499999998,
          -0.10825312500000002,
          -0.036084375,
          0.036084375000000016,
          0.10825312499999999,
          0.180421875,
          0.252590625,
          0.32475937499999996,
          0.396928125,
          0.4690968750000001,
          0.5412656250000001,
          0.6134343750000001,
          -0.4330125000000001,
          -0.36084374999999996,
          -0.288675,
          -0.21650624999999998,
          -0.14433750000000004,
          -0.07216875,
          1.6024681581683354e-17,
          0.07216874999999999,
          0.1443375,
          0.21650625,
          0.288675,
          0.36084374999999996,
          0.4330125,
          0.5051812500000001,
          0.57735,
          -0.324759375,
          -0.252590625,
          -0.18042187500000004,
          -0.108253125,
          -0.03608437499999999,
          0.03608437499999999,
          0.108253125,
          0.180421875,
          0.252590625,
          0.324759375,
          0.39692812499999997,
          0.469096875,
          0.5412656250000001,
          -0.21650625000000004,
          -0.1443375,
          -0.07216874999999999,
          -1.6024681581683354e-17,
          0.07216875,
          0.1443375,
          0.21650625,
          0.288675,
          0.36084375,
          0.43301249999999997,
          0.50518125,
          -0.180421875,
          -0.10825312499999999,
          -0.036084375000000016,
          0.036084375,
          0.10825312499999999,
          0.180421875,
          0.252590625,
          0.324759375,
          0.396928125,
          0.46909687499999997,
          -0.07216875000000002,
          0,
          0.07216874999999999,
          0.1443375,
          0.21650625,
          0.288675,
          0.36084375,
          0.4330125,
          0.036084374999999995,
          0.10825312500000002,
          0.180421875,
          0.252590625,
          0.324759375,
          0.396928125,
          0.1443375,
          0.21650625,
          0.288675,
          0.36084375,
          0.180421875,
          0.252590625,
          0.324759375,
          0.1443375,
          0.21650625,
          0.288675,
          0.180421875,
          0.252590625,
          0.1443375,
          0.21650625,
          0.108253125,
          0.180421875,
          4.0061703954208385e-18,
          0.07216875,
          0.1443375,
          0.108253125,
          2.0030851977104193e-18,
          0.07216875,
          -0.036084375,
          0.036084375
         ],
         "xaxis": "x",
         "y": [
          -0.5,
          -0.5,
          -0.5,
          -0.5,
          -0.5,
          -0.5,
          -0.5,
          -0.5,
          -0.5,
          -0.5,
          -0.5,
          -0.5,
          -0.5,
          -0.5,
          -0.5,
          -0.5,
          -0.5,
          -0.5,
          -0.5,
          -0.5,
          -0.5,
          -0.5,
          -0.5,
          -0.5,
          -0.5,
          -0.4375,
          -0.4375,
          -0.4375,
          -0.4375,
          -0.4375,
          -0.4375,
          -0.4375,
          -0.4375,
          -0.4375,
          -0.4375,
          -0.4375,
          -0.4375,
          -0.4375,
          -0.4375,
          -0.4375,
          -0.4375,
          -0.4375,
          -0.4375,
          -0.4375,
          -0.43749999999999994,
          -0.4375,
          -0.4375,
          -0.43749999999999994,
          -0.4375,
          -0.375,
          -0.375,
          -0.375,
          -0.375,
          -0.375,
          -0.375,
          -0.375,
          -0.375,
          -0.375,
          -0.375,
          -0.375,
          -0.375,
          -0.375,
          -0.375,
          -0.375,
          -0.375,
          -0.375,
          -0.37500000000000006,
          -0.375,
          -0.375,
          -0.37500000000000006,
          -0.375,
          -0.375,
          -0.3125,
          -0.3125,
          -0.3125,
          -0.3125,
          -0.3125,
          -0.3125,
          -0.3125,
          -0.3125,
          -0.3125,
          -0.3125,
          -0.3125,
          -0.3125,
          -0.3125,
          -0.3125,
          -0.3125,
          -0.3125,
          -0.3125,
          -0.3125,
          -0.3125,
          -0.3125,
          -0.3125,
          -0.3125,
          -0.25,
          -0.25,
          -0.25,
          -0.25,
          -0.25,
          -0.25,
          -0.25,
          -0.25,
          -0.25,
          -0.25,
          -0.25,
          -0.25,
          -0.25,
          -0.25,
          -0.25,
          -0.25,
          -0.25,
          -0.25,
          -0.25,
          -0.25,
          -0.25,
          -0.18749999999999997,
          -0.1875,
          -0.1875,
          -0.18749999999999997,
          -0.1875,
          -0.1875,
          -0.18749999999999997,
          -0.1875,
          -0.18749999999999997,
          -0.1875,
          -0.1875,
          -0.18749999999999997,
          -0.1875,
          -0.18749999999999997,
          -0.1875,
          -0.1875,
          -0.18749999999999997,
          -0.1875,
          -0.1875,
          -0.18749999999999997,
          -0.12500000000000003,
          -0.12499999999999997,
          -0.125,
          -0.125,
          -0.125,
          -0.125,
          -0.125,
          -0.125,
          -0.125,
          -0.125,
          -0.125,
          -0.125,
          -0.12499999999999999,
          -0.125,
          -0.125,
          -0.12499999999999997,
          -0.12500000000000003,
          -0.125,
          -0.062499999999999944,
          -0.0625,
          -0.0625,
          -0.062499999999999944,
          -0.0625,
          -0.06249999999999997,
          -0.0625,
          -0.06249999999999997,
          -0.06249999999999997,
          -0.0625,
          -0.06249999999999997,
          -0.062499999999999986,
          -0.06249999999999996,
          -0.0625,
          -0.06249999999999998,
          -0.06249999999999996,
          -0.0625,
          -5.551115123125783e-17,
          0,
          0,
          -2.7755575615628914e-17,
          -2.7755575615628914e-17,
          -2.7755575615628914e-17,
          0,
          -2.7755575615628914e-17,
          -2.7755575615628914e-17,
          -1.3877787807814457e-17,
          -1.3877787807814457e-17,
          0,
          -3.469446951953614e-17,
          -1.734723475976807e-17,
          0,
          0.0625,
          0.06250000000000003,
          0.06249999999999997,
          0.0625,
          0.0625,
          0.0625,
          0.0625,
          0.062499999999999986,
          0.06250000000000001,
          0.0625,
          0.06250000000000003,
          0.062499999999999986,
          0.0625,
          0.12500000000000003,
          0.125,
          0.12500000000000003,
          0.12500000000000003,
          0.125,
          0.125,
          0.125,
          0.12500000000000003,
          0.12500000000000003,
          0.12500000000000003,
          0.125,
          0.1875,
          0.18749999999999997,
          0.18749999999999997,
          0.1875,
          0.18749999999999994,
          0.1875,
          0.18749999999999997,
          0.1875,
          0.18749999999999997,
          0.1875,
          0.24999999999999997,
          0.25,
          0.24999999999999994,
          0.25000000000000006,
          0.25,
          0.24999999999999997,
          0.25000000000000006,
          0.25,
          0.31249999999999994,
          0.31249999999999994,
          0.3125,
          0.31249999999999994,
          0.31249999999999994,
          0.3125,
          0.375,
          0.37500000000000006,
          0.37500000000000006,
          0.375,
          0.43749999999999994,
          0.43750000000000006,
          0.4375,
          0.49999999999999994,
          0.49999999999999994,
          0.5,
          0.5625,
          0.5625,
          0.625,
          0.625,
          0.6874999999999999,
          0.6875,
          0.7500000000000001,
          0.75,
          0.75,
          0.8125,
          0.8749999999999999,
          0.875,
          0.9375,
          0.9375
         ],
         "yaxis": "y"
        },
        {
         "hovertemplate": "<b>%{hovertext}</b><br><br>Solid Solution Phases=False<br>=%{y}<br>text=%{text}<extra></extra>",
         "hovertext": [
          "(135) Ni2.4 Cr80.0 Fe17.6 ",
          "(154) Ni2.8 Cr76.6 Fe20.5 ",
          "(172) Ni3.2 Cr73.3 Fe23.5 ",
          "(173) Ni7.4 Cr69.1 Fe23.5 ",
          "(190) Ni7.8 Cr65.8 Fe26.4 ",
          "(191) Ni11.9 Cr61.6 Fe26.4 ",
          "(207) Ni12.3 Cr58.3 Fe29.4 ",
          "(208) Ni16.5 Cr54.1 Fe29.4 ",
          "(223) Ni16.9 Cr50.8 Fe32.3 ",
          "(237) Ni17.3 Cr47.5 Fe35.2 ",
          "(238) Ni21.5 Cr43.3 Fe35.2 ",
          "(251) Ni21.9 Cr40.0 Fe38.2 ",
          "(252) Ni26.0 Cr35.8 Fe38.2 ",
          "(264) Ni26.4 Cr32.5 Fe41.1 ",
          "(265) Ni30.6 Cr28.3 Fe41.1 ",
          "(276) Ni31.0 Cr25.0 Fe44.0 ",
          "(285) Ni27.2 Cr25.8 Fe47.0 ",
          "(294) Ni27.6 Cr22.5 Fe49.9 ",
          "(301) Ni23.9 Cr23.3 Fe52.8 ",
          "(306) Ni15.9 Cr28.3 Fe55.8 ",
          "(307) Ni20.1 Cr24.1 Fe55.8 ",
          "(311) Ni12.2 Cr29.1 Fe58.7 ",
          "(316) Ni12.6 Cr25.8 Fe61.6 ",
          "(317) Ni16.7 Cr21.6 Fe61.6 ",
          "(319) Ni8.8 Cr26.6 Fe64.6 ",
          "(324) Ni9.6 Cr19.9 Fe70.4 "
         ],
         "legendgroup": "False",
         "marker": {
          "color": "red",
          "symbol": "circle"
         },
         "mode": "markers+text",
         "name": "False",
         "orientation": "v",
         "showlegend": true,
         "text": [
          "",
          "",
          "",
          "",
          "",
          "",
          "",
          "",
          "",
          "",
          "",
          "",
          "",
          "",
          "",
          "",
          "",
          "",
          "",
          "",
          "",
          "",
          "",
          "",
          "",
          "<b>Cr</b>"
         ],
         "type": "scatter",
         "x": [
          -0.64951875,
          -0.6134343750000001,
          -0.57735,
          -0.50518125,
          -0.4690968750000001,
          -0.39692812499999997,
          -0.36084375,
          -0.288675,
          -0.252590625,
          -0.21650625,
          -0.14433749999999998,
          -0.10825312500000002,
          -0.036084375,
          -8.012340790841677e-18,
          0.07216875000000002,
          0.108253125,
          0.07216875,
          0.108253125,
          0.07216875,
          -0.036084375,
          0.03608437500000001,
          -0.07216875,
          -0.036084374999999995,
          0.036084375,
          -0.07216875,
          0
         ],
         "xaxis": "x",
         "y": [
          -0.125,
          -0.0625,
          0,
          0,
          0.0625,
          0.0625,
          0.125,
          0.12500000000000003,
          0.18749999999999997,
          0.25,
          0.25,
          0.3125,
          0.31249999999999994,
          0.375,
          0.37500000000000006,
          0.4375,
          0.5,
          0.5625000000000001,
          0.625,
          0.6875,
          0.6875,
          0.75,
          0.8125,
          0.8125,
          0.875,
          1
         ],
         "yaxis": "y"
        }
       ],
       "layout": {
        "height": 600,
        "legend": {
         "title": {
          "text": "Solid Solution Phases"
         },
         "tracegroupgap": 0
        },
        "margin": {
         "t": 60
        },
        "template": {
         "data": {
          "bar": [
           {
            "error_x": {
             "color": "#2a3f5f"
            },
            "error_y": {
             "color": "#2a3f5f"
            },
            "marker": {
             "line": {
              "color": "white",
              "width": 0.5
             },
             "pattern": {
              "fillmode": "overlay",
              "size": 10,
              "solidity": 0.2
             }
            },
            "type": "bar"
           }
          ],
          "barpolar": [
           {
            "marker": {
             "line": {
              "color": "white",
              "width": 0.5
             },
             "pattern": {
              "fillmode": "overlay",
              "size": 10,
              "solidity": 0.2
             }
            },
            "type": "barpolar"
           }
          ],
          "carpet": [
           {
            "aaxis": {
             "endlinecolor": "#2a3f5f",
             "gridcolor": "#C8D4E3",
             "linecolor": "#C8D4E3",
             "minorgridcolor": "#C8D4E3",
             "startlinecolor": "#2a3f5f"
            },
            "baxis": {
             "endlinecolor": "#2a3f5f",
             "gridcolor": "#C8D4E3",
             "linecolor": "#C8D4E3",
             "minorgridcolor": "#C8D4E3",
             "startlinecolor": "#2a3f5f"
            },
            "type": "carpet"
           }
          ],
          "choropleth": [
           {
            "colorbar": {
             "outlinewidth": 0,
             "ticks": ""
            },
            "type": "choropleth"
           }
          ],
          "contour": [
           {
            "colorbar": {
             "outlinewidth": 0,
             "ticks": ""
            },
            "colorscale": [
             [
              0,
              "#0d0887"
             ],
             [
              0.1111111111111111,
              "#46039f"
             ],
             [
              0.2222222222222222,
              "#7201a8"
             ],
             [
              0.3333333333333333,
              "#9c179e"
             ],
             [
              0.4444444444444444,
              "#bd3786"
             ],
             [
              0.5555555555555556,
              "#d8576b"
             ],
             [
              0.6666666666666666,
              "#ed7953"
             ],
             [
              0.7777777777777778,
              "#fb9f3a"
             ],
             [
              0.8888888888888888,
              "#fdca26"
             ],
             [
              1,
              "#f0f921"
             ]
            ],
            "type": "contour"
           }
          ],
          "contourcarpet": [
           {
            "colorbar": {
             "outlinewidth": 0,
             "ticks": ""
            },
            "type": "contourcarpet"
           }
          ],
          "heatmap": [
           {
            "colorbar": {
             "outlinewidth": 0,
             "ticks": ""
            },
            "colorscale": [
             [
              0,
              "#0d0887"
             ],
             [
              0.1111111111111111,
              "#46039f"
             ],
             [
              0.2222222222222222,
              "#7201a8"
             ],
             [
              0.3333333333333333,
              "#9c179e"
             ],
             [
              0.4444444444444444,
              "#bd3786"
             ],
             [
              0.5555555555555556,
              "#d8576b"
             ],
             [
              0.6666666666666666,
              "#ed7953"
             ],
             [
              0.7777777777777778,
              "#fb9f3a"
             ],
             [
              0.8888888888888888,
              "#fdca26"
             ],
             [
              1,
              "#f0f921"
             ]
            ],
            "type": "heatmap"
           }
          ],
          "heatmapgl": [
           {
            "colorbar": {
             "outlinewidth": 0,
             "ticks": ""
            },
            "colorscale": [
             [
              0,
              "#0d0887"
             ],
             [
              0.1111111111111111,
              "#46039f"
             ],
             [
              0.2222222222222222,
              "#7201a8"
             ],
             [
              0.3333333333333333,
              "#9c179e"
             ],
             [
              0.4444444444444444,
              "#bd3786"
             ],
             [
              0.5555555555555556,
              "#d8576b"
             ],
             [
              0.6666666666666666,
              "#ed7953"
             ],
             [
              0.7777777777777778,
              "#fb9f3a"
             ],
             [
              0.8888888888888888,
              "#fdca26"
             ],
             [
              1,
              "#f0f921"
             ]
            ],
            "type": "heatmapgl"
           }
          ],
          "histogram": [
           {
            "marker": {
             "pattern": {
              "fillmode": "overlay",
              "size": 10,
              "solidity": 0.2
             }
            },
            "type": "histogram"
           }
          ],
          "histogram2d": [
           {
            "colorbar": {
             "outlinewidth": 0,
             "ticks": ""
            },
            "colorscale": [
             [
              0,
              "#0d0887"
             ],
             [
              0.1111111111111111,
              "#46039f"
             ],
             [
              0.2222222222222222,
              "#7201a8"
             ],
             [
              0.3333333333333333,
              "#9c179e"
             ],
             [
              0.4444444444444444,
              "#bd3786"
             ],
             [
              0.5555555555555556,
              "#d8576b"
             ],
             [
              0.6666666666666666,
              "#ed7953"
             ],
             [
              0.7777777777777778,
              "#fb9f3a"
             ],
             [
              0.8888888888888888,
              "#fdca26"
             ],
             [
              1,
              "#f0f921"
             ]
            ],
            "type": "histogram2d"
           }
          ],
          "histogram2dcontour": [
           {
            "colorbar": {
             "outlinewidth": 0,
             "ticks": ""
            },
            "colorscale": [
             [
              0,
              "#0d0887"
             ],
             [
              0.1111111111111111,
              "#46039f"
             ],
             [
              0.2222222222222222,
              "#7201a8"
             ],
             [
              0.3333333333333333,
              "#9c179e"
             ],
             [
              0.4444444444444444,
              "#bd3786"
             ],
             [
              0.5555555555555556,
              "#d8576b"
             ],
             [
              0.6666666666666666,
              "#ed7953"
             ],
             [
              0.7777777777777778,
              "#fb9f3a"
             ],
             [
              0.8888888888888888,
              "#fdca26"
             ],
             [
              1,
              "#f0f921"
             ]
            ],
            "type": "histogram2dcontour"
           }
          ],
          "mesh3d": [
           {
            "colorbar": {
             "outlinewidth": 0,
             "ticks": ""
            },
            "type": "mesh3d"
           }
          ],
          "parcoords": [
           {
            "line": {
             "colorbar": {
              "outlinewidth": 0,
              "ticks": ""
             }
            },
            "type": "parcoords"
           }
          ],
          "pie": [
           {
            "automargin": true,
            "type": "pie"
           }
          ],
          "scatter": [
           {
            "fillpattern": {
             "fillmode": "overlay",
             "size": 10,
             "solidity": 0.2
            },
            "type": "scatter"
           }
          ],
          "scatter3d": [
           {
            "line": {
             "colorbar": {
              "outlinewidth": 0,
              "ticks": ""
             }
            },
            "marker": {
             "colorbar": {
              "outlinewidth": 0,
              "ticks": ""
             }
            },
            "type": "scatter3d"
           }
          ],
          "scattercarpet": [
           {
            "marker": {
             "colorbar": {
              "outlinewidth": 0,
              "ticks": ""
             }
            },
            "type": "scattercarpet"
           }
          ],
          "scattergeo": [
           {
            "marker": {
             "colorbar": {
              "outlinewidth": 0,
              "ticks": ""
             }
            },
            "type": "scattergeo"
           }
          ],
          "scattergl": [
           {
            "marker": {
             "colorbar": {
              "outlinewidth": 0,
              "ticks": ""
             }
            },
            "type": "scattergl"
           }
          ],
          "scattermapbox": [
           {
            "marker": {
             "colorbar": {
              "outlinewidth": 0,
              "ticks": ""
             }
            },
            "type": "scattermapbox"
           }
          ],
          "scatterpolar": [
           {
            "marker": {
             "colorbar": {
              "outlinewidth": 0,
              "ticks": ""
             }
            },
            "type": "scatterpolar"
           }
          ],
          "scatterpolargl": [
           {
            "marker": {
             "colorbar": {
              "outlinewidth": 0,
              "ticks": ""
             }
            },
            "type": "scatterpolargl"
           }
          ],
          "scatterternary": [
           {
            "marker": {
             "colorbar": {
              "outlinewidth": 0,
              "ticks": ""
             }
            },
            "type": "scatterternary"
           }
          ],
          "surface": [
           {
            "colorbar": {
             "outlinewidth": 0,
             "ticks": ""
            },
            "colorscale": [
             [
              0,
              "#0d0887"
             ],
             [
              0.1111111111111111,
              "#46039f"
             ],
             [
              0.2222222222222222,
              "#7201a8"
             ],
             [
              0.3333333333333333,
              "#9c179e"
             ],
             [
              0.4444444444444444,
              "#bd3786"
             ],
             [
              0.5555555555555556,
              "#d8576b"
             ],
             [
              0.6666666666666666,
              "#ed7953"
             ],
             [
              0.7777777777777778,
              "#fb9f3a"
             ],
             [
              0.8888888888888888,
              "#fdca26"
             ],
             [
              1,
              "#f0f921"
             ]
            ],
            "type": "surface"
           }
          ],
          "table": [
           {
            "cells": {
             "fill": {
              "color": "#EBF0F8"
             },
             "line": {
              "color": "white"
             }
            },
            "header": {
             "fill": {
              "color": "#C8D4E3"
             },
             "line": {
              "color": "white"
             }
            },
            "type": "table"
           }
          ]
         },
         "layout": {
          "annotationdefaults": {
           "arrowcolor": "#2a3f5f",
           "arrowhead": 0,
           "arrowwidth": 1
          },
          "autotypenumbers": "strict",
          "coloraxis": {
           "colorbar": {
            "outlinewidth": 0,
            "ticks": ""
           }
          },
          "colorscale": {
           "diverging": [
            [
             0,
             "#8e0152"
            ],
            [
             0.1,
             "#c51b7d"
            ],
            [
             0.2,
             "#de77ae"
            ],
            [
             0.3,
             "#f1b6da"
            ],
            [
             0.4,
             "#fde0ef"
            ],
            [
             0.5,
             "#f7f7f7"
            ],
            [
             0.6,
             "#e6f5d0"
            ],
            [
             0.7,
             "#b8e186"
            ],
            [
             0.8,
             "#7fbc41"
            ],
            [
             0.9,
             "#4d9221"
            ],
            [
             1,
             "#276419"
            ]
           ],
           "sequential": [
            [
             0,
             "#0d0887"
            ],
            [
             0.1111111111111111,
             "#46039f"
            ],
            [
             0.2222222222222222,
             "#7201a8"
            ],
            [
             0.3333333333333333,
             "#9c179e"
            ],
            [
             0.4444444444444444,
             "#bd3786"
            ],
            [
             0.5555555555555556,
             "#d8576b"
            ],
            [
             0.6666666666666666,
             "#ed7953"
            ],
            [
             0.7777777777777778,
             "#fb9f3a"
            ],
            [
             0.8888888888888888,
             "#fdca26"
            ],
            [
             1,
             "#f0f921"
            ]
           ],
           "sequentialminus": [
            [
             0,
             "#0d0887"
            ],
            [
             0.1111111111111111,
             "#46039f"
            ],
            [
             0.2222222222222222,
             "#7201a8"
            ],
            [
             0.3333333333333333,
             "#9c179e"
            ],
            [
             0.4444444444444444,
             "#bd3786"
            ],
            [
             0.5555555555555556,
             "#d8576b"
            ],
            [
             0.6666666666666666,
             "#ed7953"
            ],
            [
             0.7777777777777778,
             "#fb9f3a"
            ],
            [
             0.8888888888888888,
             "#fdca26"
            ],
            [
             1,
             "#f0f921"
            ]
           ]
          },
          "colorway": [
           "#636efa",
           "#EF553B",
           "#00cc96",
           "#ab63fa",
           "#FFA15A",
           "#19d3f3",
           "#FF6692",
           "#B6E880",
           "#FF97FF",
           "#FECB52"
          ],
          "font": {
           "color": "#2a3f5f"
          },
          "geo": {
           "bgcolor": "white",
           "lakecolor": "white",
           "landcolor": "white",
           "showlakes": true,
           "showland": true,
           "subunitcolor": "#C8D4E3"
          },
          "hoverlabel": {
           "align": "left"
          },
          "hovermode": "closest",
          "mapbox": {
           "style": "light"
          },
          "paper_bgcolor": "white",
          "plot_bgcolor": "white",
          "polar": {
           "angularaxis": {
            "gridcolor": "#EBF0F8",
            "linecolor": "#EBF0F8",
            "ticks": ""
           },
           "bgcolor": "white",
           "radialaxis": {
            "gridcolor": "#EBF0F8",
            "linecolor": "#EBF0F8",
            "ticks": ""
           }
          },
          "scene": {
           "xaxis": {
            "backgroundcolor": "white",
            "gridcolor": "#DFE8F3",
            "gridwidth": 2,
            "linecolor": "#EBF0F8",
            "showbackground": true,
            "ticks": "",
            "zerolinecolor": "#EBF0F8"
           },
           "yaxis": {
            "backgroundcolor": "white",
            "gridcolor": "#DFE8F3",
            "gridwidth": 2,
            "linecolor": "#EBF0F8",
            "showbackground": true,
            "ticks": "",
            "zerolinecolor": "#EBF0F8"
           },
           "zaxis": {
            "backgroundcolor": "white",
            "gridcolor": "#DFE8F3",
            "gridwidth": 2,
            "linecolor": "#EBF0F8",
            "showbackground": true,
            "ticks": "",
            "zerolinecolor": "#EBF0F8"
           }
          },
          "shapedefaults": {
           "line": {
            "color": "#2a3f5f"
           }
          },
          "ternary": {
           "aaxis": {
            "gridcolor": "#DFE8F3",
            "linecolor": "#A2B1C6",
            "ticks": ""
           },
           "baxis": {
            "gridcolor": "#DFE8F3",
            "linecolor": "#A2B1C6",
            "ticks": ""
           },
           "bgcolor": "white",
           "caxis": {
            "gridcolor": "#DFE8F3",
            "linecolor": "#A2B1C6",
            "ticks": ""
           }
          },
          "title": {
           "x": 0.05
          },
          "xaxis": {
           "automargin": true,
           "gridcolor": "#EBF0F8",
           "linecolor": "#EBF0F8",
           "ticks": "",
           "title": {
            "standoff": 15
           },
           "zerolinecolor": "#EBF0F8",
           "zerolinewidth": 2
          },
          "yaxis": {
           "automargin": true,
           "gridcolor": "#EBF0F8",
           "linecolor": "#EBF0F8",
           "ticks": "",
           "title": {
            "standoff": 15
           },
           "zerolinecolor": "#EBF0F8",
           "zerolinewidth": 2
          }
         }
        },
        "width": 800,
        "xaxis": {
         "anchor": "y",
         "domain": [
          0,
          1
         ],
         "title": {
          "text": ""
         }
        },
        "yaxis": {
         "anchor": "x",
         "domain": [
          0,
          1
         ],
         "title": {
          "text": ""
         }
        }
       }
      },
      "text/html": [
       "<div>                            <div id=\"2ac72bc3-3940-4e5b-8be5-e81242849514\" class=\"plotly-graph-div\" style=\"height:600px; width:800px;\"></div>            <script type=\"text/javascript\">                require([\"plotly\"], function(Plotly) {                    window.PLOTLYENV=window.PLOTLYENV || {};                                    if (document.getElementById(\"2ac72bc3-3940-4e5b-8be5-e81242849514\")) {                    Plotly.newPlot(                        \"2ac72bc3-3940-4e5b-8be5-e81242849514\",                        [{\"hovertemplate\":\"\\u003cb\\u003e%{hovertext}\\u003c\\u002fb\\u003e\\u003cbr\\u003e\\u003cbr\\u003eSolid Solution Phases=True\\u003cbr\\u003e=%{y}\\u003cbr\\u003etext=%{text}\\u003cextra\\u003e\\u003c\\u002fextra\\u003e\",\"hovertext\":[\"(  0) Cr100.0 \",\"(  1) Ni4.2 Cr95.8 \",\"(  2) Ni8.3 Cr91.7 \",\"(  3) Ni12.5 Cr87.5 \",\"(  4) Ni16.7 Cr83.3 \",\"(  5) Ni20.8 Cr79.2 \",\"(  6) Ni25.0 Cr75.0 \",\"(  7) Ni29.2 Cr70.8 \",\"(  8) Ni33.3 Cr66.7 \",\"(  9) Ni37.5 Cr62.5 \",\"( 10) Ni41.7 Cr58.3 \",\"( 11) Ni45.8 Cr54.2 \",\"( 12) Ni50.0 Cr50.0 \",\"( 13) Ni54.2 Cr45.8 \",\"( 14) Ni58.3 Cr41.7 \",\"( 15) Ni62.5 Cr37.5 \",\"( 16) Ni66.7 Cr33.3 \",\"( 17) Ni70.8 Cr29.2 \",\"( 18) Ni75.0 Cr25.0 \",\"( 19) Ni79.2 Cr20.8 \",\"( 20) Ni83.3 Cr16.7 \",\"( 21) Ni87.5 Cr12.5 \",\"( 22) Ni91.7 Cr8.3 \",\"( 23) Ni95.8 Cr4.2 \",\"( 24) Ni100.0 \",\"( 25) Ni0.4 Cr96.7 Fe2.9 \",\"( 26) Ni4.6 Cr92.5 Fe2.9 \",\"( 27) Ni8.7 Cr88.3 Fe2.9 \",\"( 28) Ni12.9 Cr84.2 Fe2.9 \",\"( 29) Ni17.1 Cr80.0 Fe2.9 \",\"( 30) Ni21.2 Cr75.8 Fe2.9 \",\"( 31) Ni25.4 Cr71.7 Fe2.9 \",\"( 32) Ni29.6 Cr67.5 Fe2.9 \",\"( 33) Ni33.7 Cr63.3 Fe2.9 \",\"( 34) Ni37.9 Cr59.2 Fe2.9 \",\"( 35) Ni42.1 Cr55.0 Fe2.9 \",\"( 36) Ni46.2 Cr50.8 Fe2.9 \",\"( 37) Ni50.4 Cr46.7 Fe2.9 \",\"( 38) Ni54.6 Cr42.5 Fe2.9 \",\"( 39) Ni58.7 Cr38.3 Fe2.9 \",\"( 40) Ni62.9 Cr34.2 Fe2.9 \",\"( 41) Ni67.1 Cr30.0 Fe2.9 \",\"( 42) Ni71.2 Cr25.8 Fe2.9 \",\"( 43) Ni75.4 Cr21.7 Fe2.9 \",\"( 44) Ni79.6 Cr17.5 Fe2.9 \",\"( 45) Ni83.7 Cr13.3 Fe2.9 \",\"( 46) Ni87.9 Cr9.2 Fe2.9 \",\"( 47) Ni92.1 Cr5.0 Fe2.9 \",\"( 48) Ni96.2 Cr0.8 Fe2.9 \",\"( 49) Ni0.8 Cr93.3 Fe5.9 \",\"( 50) Ni5.0 Cr89.2 Fe5.9 \",\"( 51) Ni9.1 Cr85.0 Fe5.9 \",\"( 52) Ni13.3 Cr80.8 Fe5.9 \",\"( 53) Ni17.5 Cr76.7 Fe5.9 \",\"( 54) Ni21.6 Cr72.5 Fe5.9 \",\"( 55) Ni25.8 Cr68.3 Fe5.9 \",\"( 56) Ni30.0 Cr64.2 Fe5.9 \",\"( 57) Ni34.1 Cr60.0 Fe5.9 \",\"( 58) Ni38.3 Cr55.8 Fe5.9 \",\"( 59) Ni42.5 Cr51.7 Fe5.9 \",\"( 60) Ni46.6 Cr47.5 Fe5.9 \",\"( 61) Ni50.8 Cr43.3 Fe5.9 \",\"( 62) Ni55.0 Cr39.2 Fe5.9 \",\"( 63) Ni59.1 Cr35.0 Fe5.9 \",\"( 64) Ni63.3 Cr30.8 Fe5.9 \",\"( 65) Ni67.5 Cr26.7 Fe5.9 \",\"( 66) Ni71.6 Cr22.5 Fe5.9 \",\"( 67) Ni75.8 Cr18.3 Fe5.9 \",\"( 68) Ni80.0 Cr14.2 Fe5.9 \",\"( 69) Ni84.1 Cr10.0 Fe5.9 \",\"( 70) Ni88.3 Cr5.8 Fe5.9 \",\"( 71) Ni92.5 Cr1.7 Fe5.9 \",\"( 72) Ni1.2 Cr90.0 Fe8.8 \",\"( 73) Ni5.4 Cr85.8 Fe8.8 \",\"( 74) Ni9.5 Cr81.7 Fe8.8 \",\"( 75) Ni13.7 Cr77.5 Fe8.8 \",\"( 76) Ni17.9 Cr73.3 Fe8.8 \",\"( 77) Ni22.0 Cr69.2 Fe8.8 \",\"( 78) Ni26.2 Cr65.0 Fe8.8 \",\"( 79) Ni30.4 Cr60.8 Fe8.8 \",\"( 80) Ni34.5 Cr56.7 Fe8.8 \",\"( 81) Ni38.7 Cr52.5 Fe8.8 \",\"( 82) Ni42.9 Cr48.3 Fe8.8 \",\"( 83) Ni47.0 Cr44.2 Fe8.8 \",\"( 84) Ni51.2 Cr40.0 Fe8.8 \",\"( 85) Ni55.4 Cr35.8 Fe8.8 \",\"( 86) Ni59.5 Cr31.7 Fe8.8 \",\"( 87) Ni63.7 Cr27.5 Fe8.8 \",\"( 88) Ni67.9 Cr23.3 Fe8.8 \",\"( 89) Ni72.0 Cr19.2 Fe8.8 \",\"( 90) Ni76.2 Cr15.0 Fe8.8 \",\"( 91) Ni80.4 Cr10.8 Fe8.8 \",\"( 92) Ni84.5 Cr6.7 Fe8.8 \",\"( 93) Ni88.7 Cr2.5 Fe8.8 \",\"( 94) Ni1.6 Cr86.7 Fe11.7 \",\"( 95) Ni5.8 Cr82.5 Fe11.7 \",\"( 96) Ni9.9 Cr78.3 Fe11.7 \",\"( 97) Ni14.1 Cr74.2 Fe11.7 \",\"( 98) Ni18.3 Cr70.0 Fe11.7 \",\"( 99) Ni22.4 Cr65.8 Fe11.7 \",\"(100) Ni26.6 Cr61.7 Fe11.7 \",\"(101) Ni30.8 Cr57.5 Fe11.7 \",\"(102) Ni34.9 Cr53.3 Fe11.7 \",\"(103) Ni39.1 Cr49.2 Fe11.7 \",\"(104) Ni43.3 Cr45.0 Fe11.7 \",\"(105) Ni47.4 Cr40.8 Fe11.7 \",\"(106) Ni51.6 Cr36.7 Fe11.7 \",\"(107) Ni55.8 Cr32.5 Fe11.7 \",\"(108) Ni59.9 Cr28.3 Fe11.7 \",\"(109) Ni64.1 Cr24.2 Fe11.7 \",\"(110) Ni68.3 Cr20.0 Fe11.7 \",\"(111) Ni72.4 Cr15.8 Fe11.7 \",\"(112) Ni76.6 Cr11.7 Fe11.7 \",\"(113) Ni80.8 Cr7.5 Fe11.7 \",\"(114) Ni84.9 Cr3.3 Fe11.7 \",\"(115) Ni2.0 Cr83.3 Fe14.7 \",\"(116) Ni6.2 Cr79.2 Fe14.7 \",\"(117) Ni10.3 Cr75.0 Fe14.7 \",\"(118) Ni14.5 Cr70.8 Fe14.7 \",\"(119) Ni18.7 Cr66.7 Fe14.7 \",\"(120) Ni22.8 Cr62.5 Fe14.7 \",\"(121) Ni27.0 Cr58.3 Fe14.7 \",\"(122) Ni31.2 Cr54.2 Fe14.7 \",\"(123) Ni35.3 Cr50.0 Fe14.7 \",\"(124) Ni39.5 Cr45.8 Fe14.7 \",\"(125) Ni43.7 Cr41.7 Fe14.7 \",\"(126) Ni47.8 Cr37.5 Fe14.7 \",\"(127) Ni52.0 Cr33.3 Fe14.7 \",\"(128) Ni56.2 Cr29.2 Fe14.7 \",\"(129) Ni60.3 Cr25.0 Fe14.7 \",\"(130) Ni64.5 Cr20.8 Fe14.7 \",\"(131) Ni68.7 Cr16.7 Fe14.7 \",\"(132) Ni72.8 Cr12.5 Fe14.7 \",\"(133) Ni77.0 Cr8.3 Fe14.7 \",\"(134) Ni81.2 Cr4.2 Fe14.7 \",\"(136) Ni6.6 Cr75.8 Fe17.6 \",\"(137) Ni10.7 Cr71.7 Fe17.6 \",\"(138) Ni14.9 Cr67.5 Fe17.6 \",\"(139) Ni19.1 Cr63.3 Fe17.6 \",\"(140) Ni23.2 Cr59.2 Fe17.6 \",\"(141) Ni27.4 Cr55.0 Fe17.6 \",\"(142) Ni31.6 Cr50.8 Fe17.6 \",\"(143) Ni35.7 Cr46.7 Fe17.6 \",\"(144) Ni39.9 Cr42.5 Fe17.6 \",\"(145) Ni44.1 Cr38.3 Fe17.6 \",\"(146) Ni48.2 Cr34.2 Fe17.6 \",\"(147) Ni52.4 Cr30.0 Fe17.6 \",\"(148) Ni56.6 Cr25.8 Fe17.6 \",\"(149) Ni60.7 Cr21.7 Fe17.6 \",\"(150) Ni64.9 Cr17.5 Fe17.6 \",\"(151) Ni69.1 Cr13.3 Fe17.6 \",\"(152) Ni73.2 Cr9.2 Fe17.6 \",\"(153) Ni77.4 Cr5.0 Fe17.6 \",\"(155) Ni7.0 Cr72.5 Fe20.5 \",\"(156) Ni11.1 Cr68.3 Fe20.5 \",\"(157) Ni15.3 Cr64.1 Fe20.5 \",\"(158) Ni19.5 Cr60.0 Fe20.5 \",\"(159) Ni23.6 Cr55.8 Fe20.5 \",\"(160) Ni27.8 Cr51.6 Fe20.5 \",\"(161) Ni32.0 Cr47.5 Fe20.5 \",\"(162) Ni36.1 Cr43.3 Fe20.5 \",\"(163) Ni40.3 Cr39.1 Fe20.5 \",\"(164) Ni44.5 Cr35.0 Fe20.5 \",\"(165) Ni48.6 Cr30.8 Fe20.5 \",\"(166) Ni52.8 Cr26.6 Fe20.5 \",\"(167) Ni57.0 Cr22.5 Fe20.5 \",\"(168) Ni61.1 Cr18.3 Fe20.5 \",\"(169) Ni65.3 Cr14.1 Fe20.5 \",\"(170) Ni69.5 Cr10.0 Fe20.5 \",\"(171) Ni73.6 Cr5.8 Fe20.5 \",\"(174) Ni11.5 Cr65.0 Fe23.5 \",\"(175) Ni15.7 Cr60.8 Fe23.5 \",\"(176) Ni19.9 Cr56.6 Fe23.5 \",\"(177) Ni24.0 Cr52.5 Fe23.5 \",\"(178) Ni28.2 Cr48.3 Fe23.5 \",\"(179) Ni32.4 Cr44.1 Fe23.5 \",\"(180) Ni36.5 Cr40.0 Fe23.5 \",\"(181) Ni40.7 Cr35.8 Fe23.5 \",\"(182) Ni44.9 Cr31.6 Fe23.5 \",\"(183) Ni49.0 Cr27.5 Fe23.5 \",\"(184) Ni53.2 Cr23.3 Fe23.5 \",\"(185) Ni57.4 Cr19.1 Fe23.5 \",\"(186) Ni61.5 Cr15.0 Fe23.5 \",\"(187) Ni65.7 Cr10.8 Fe23.5 \",\"(188) Ni69.9 Cr6.6 Fe23.5 \",\"(192) Ni16.1 Cr57.5 Fe26.4 \",\"(193) Ni20.3 Cr53.3 Fe26.4 \",\"(194) Ni24.4 Cr49.1 Fe26.4 \",\"(195) Ni28.6 Cr45.0 Fe26.4 \",\"(196) Ni32.8 Cr40.8 Fe26.4 \",\"(197) Ni36.9 Cr36.6 Fe26.4 \",\"(198) Ni41.1 Cr32.5 Fe26.4 \",\"(199) Ni45.3 Cr28.3 Fe26.4 \",\"(200) Ni49.4 Cr24.1 Fe26.4 \",\"(201) Ni53.6 Cr20.0 Fe26.4 \",\"(202) Ni57.8 Cr15.8 Fe26.4 \",\"(203) Ni61.9 Cr11.6 Fe26.4 \",\"(204) Ni66.1 Cr7.5 Fe26.4 \",\"(209) Ni20.7 Cr50.0 Fe29.4 \",\"(210) Ni24.8 Cr45.8 Fe29.4 \",\"(211) Ni29.0 Cr41.6 Fe29.4 \",\"(212) Ni33.2 Cr37.5 Fe29.4 \",\"(213) Ni37.3 Cr33.3 Fe29.4 \",\"(214) Ni41.5 Cr29.1 Fe29.4 \",\"(215) Ni45.7 Cr25.0 Fe29.4 \",\"(216) Ni49.8 Cr20.8 Fe29.4 \",\"(217) Ni54.0 Cr16.6 Fe29.4 \",\"(218) Ni58.2 Cr12.5 Fe29.4 \",\"(219) Ni62.3 Cr8.3 Fe29.4 \",\"(224) Ni21.1 Cr46.6 Fe32.3 \",\"(225) Ni25.2 Cr42.5 Fe32.3 \",\"(226) Ni29.4 Cr38.3 Fe32.3 \",\"(227) Ni33.6 Cr34.1 Fe32.3 \",\"(228) Ni37.7 Cr30.0 Fe32.3 \",\"(229) Ni41.9 Cr25.8 Fe32.3 \",\"(230) Ni46.1 Cr21.6 Fe32.3 \",\"(231) Ni50.2 Cr17.5 Fe32.3 \",\"(232) Ni54.4 Cr13.3 Fe32.3 \",\"(233) Ni58.6 Cr9.1 Fe32.3 \",\"(239) Ni25.6 Cr39.1 Fe35.2 \",\"(240) Ni29.8 Cr35.0 Fe35.2 \",\"(241) Ni34.0 Cr30.8 Fe35.2 \",\"(242) Ni38.1 Cr26.6 Fe35.2 \",\"(243) Ni42.3 Cr22.5 Fe35.2 \",\"(244) Ni46.5 Cr18.3 Fe35.2 \",\"(245) Ni50.6 Cr14.1 Fe35.2 \",\"(246) Ni54.8 Cr10.0 Fe35.2 \",\"(253) Ni30.2 Cr31.6 Fe38.2 \",\"(254) Ni34.4 Cr27.5 Fe38.2 \",\"(255) Ni38.5 Cr23.3 Fe38.2 \",\"(256) Ni42.7 Cr19.1 Fe38.2 \",\"(257) Ni46.9 Cr15.0 Fe38.2 \",\"(258) Ni51.0 Cr10.8 Fe38.2 \",\"(266) Ni34.8 Cr24.1 Fe41.1 \",\"(267) Ni38.9 Cr20.0 Fe41.1 \",\"(268) Ni43.1 Cr15.8 Fe41.1 \",\"(269) Ni47.3 Cr11.6 Fe41.1 \",\"(277) Ni35.2 Cr20.8 Fe44.0 \",\"(278) Ni39.3 Cr16.6 Fe44.0 \",\"(279) Ni43.5 Cr12.5 Fe44.0 \",\"(286) Ni31.4 Cr21.6 Fe47.0 \",\"(287) Ni35.6 Cr17.5 Fe47.0 \",\"(288) Ni39.7 Cr13.3 Fe47.0 \",\"(295) Ni31.8 Cr18.3 Fe49.9 \",\"(296) Ni36.0 Cr14.1 Fe49.9 \",\"(302) Ni28.0 Cr19.1 Fe52.8 \",\"(303) Ni32.2 Cr15.0 Fe52.8 \",\"(308) Ni24.3 Cr20.0 Fe55.8 \",\"(309) Ni28.4 Cr15.8 Fe55.8 \",\"(312) Ni16.3 Cr24.9 Fe58.7 \",\"(313) Ni20.5 Cr20.8 Fe58.7 \",\"(314) Ni24.7 Cr16.6 Fe58.7 \",\"(318) Ni20.9 Cr17.4 Fe61.6 \",\"(320) Ni13.0 Cr22.4 Fe64.6 \",\"(321) Ni17.1 Cr18.3 Fe64.6 \",\"(322) Ni9.2 Cr23.3 Fe67.5 \",\"(323) Ni13.4 Cr19.1 Fe67.5 \"],\"legendgroup\":\"True\",\"marker\":{\"color\":\"green\",\"symbol\":\"circle\"},\"mode\":\"markers+text\",\"name\":\"True\",\"orientation\":\"v\",\"showlegend\":true,\"text\":[\"\\u003cb\\u003eV\\u003c\\u002fb\\u003e\",\"\",\"\",\"\",\"\",\"\",\"\",\"\",\"\",\"\",\"\",\"\",\"\",\"\",\"\",\"\",\"\",\"\",\"\",\"\",\"\",\"\",\"\",\"\",\"\\u003cb\\u003eTi\\u003c\\u002fb\\u003e\",\"\",\"\",\"\",\"\",\"\",\"\",\"\",\"\",\"\",\"\",\"\",\"\",\"\",\"\",\"\",\"\",\"\",\"\",\"\",\"\",\"\",\"\",\"\",\"\",\"\",\"\",\"\",\"\",\"\",\"\",\"\",\"\",\"\",\"\",\"\",\"\",\"\",\"\",\"\",\"\",\"\",\"\",\"\",\"\",\"\",\"\",\"\",\"\",\"\",\"\",\"\",\"\",\"\",\"\",\"\",\"\",\"\",\"\",\"\",\"\",\"\",\"\",\"\",\"\",\"\",\"\",\"\",\"\",\"\",\"\",\"\",\"\",\"\",\"\",\"\",\"\",\"\",\"\",\"\",\"\",\"\",\"\",\"\",\"\",\"\",\"\",\"\",\"\",\"\",\"\",\"\",\"\",\"\",\"\",\"\",\"\",\"\",\"\",\"\",\"\",\"\",\"\",\"\",\"\",\"\",\"\",\"\",\"\",\"\",\"\",\"\",\"\",\"\",\"\",\"\",\"\",\"\",\"\",\"\",\"\",\"\",\"\",\"\",\"\",\"\",\"\",\"\",\"\",\"\",\"\",\"\",\"\",\"\",\"\",\"\",\"\",\"\",\"\",\"\",\"\",\"\",\"\",\"\",\"\",\"\",\"\",\"\",\"\",\"\",\"\",\"\",\"\",\"\",\"\",\"\",\"\",\"\",\"\",\"\",\"\",\"\",\"\",\"\",\"\",\"\",\"\",\"\",\"\",\"\",\"\",\"\",\"\",\"\",\"\",\"\",\"\",\"\",\"\",\"\",\"\",\"\",\"\",\"\",\"\",\"\",\"\",\"\",\"\",\"\",\"\",\"\",\"\",\"\",\"\",\"\",\"\",\"\",\"\",\"\",\"\",\"\",\"\",\"\",\"\",\"\",\"\",\"\",\"\",\"\",\"\",\"\",\"\",\"\",\"\",\"\",\"\",\"\",\"\",\"\",\"\",\"\",\"\",\"\",\"\",\"\",\"\",\"\",\"\",\"\",\"\",\"\",\"\"],\"x\":[-0.866025,-0.79385625,-0.7216875,-0.64951875,-0.57735,-0.50518125,-0.4330125,-0.3608437500000001,-0.28867499999999996,-0.21650625,-0.14433750000000004,-0.07216874999999998,0.0,0.07216874999999996,0.14433749999999998,0.21650625000000007,0.288675,0.3608437500000001,0.4330125,0.5051812499999999,0.57735,0.6495187499999999,0.7216875,0.7938562500000002,0.866025,-0.8299406250000001,-0.757771875,-0.6856031250000001,-0.6134343750000001,-0.541265625,-0.469096875,-0.3969281250000001,-0.32475937499999996,-0.252590625,-0.18042187500000004,-0.10825312499999998,-0.036084375,0.036084375000000016,0.10825312499999994,0.180421875,0.25259062500000007,0.324759375,0.3969281250000001,0.469096875,0.541265625,0.613434375,0.685603125,0.7577718750000001,0.8299406250000001,-0.79385625,-0.7216875,-0.64951875,-0.57735,-0.50518125,-0.4330125000000001,-0.36084374999999996,-0.288675,-0.21650625000000004,-0.14433749999999998,-0.07216875,1.6024681581683354e-17,0.07216874999999999,0.14433749999999995,0.21650625000000004,0.28867500000000007,0.36084375,0.4330125000000001,0.50518125,0.57735,0.64951875,0.7216875,0.79385625,-0.757771875,-0.6856031250000001,-0.613434375,-0.5412656250000001,-0.4690968750000001,-0.39692812499999997,-0.324759375,-0.25259062500000007,-0.18042187499999998,-0.108253125,-0.03608437499999999,0.03608437499999999,0.108253125,0.18042187499999998,0.252590625,0.3247593750000001,0.396928125,0.4690968750000001,0.5412656250000001,0.613434375,0.6856031250000001,0.757771875,-0.7216875,-0.64951875,-0.57735,-0.50518125,-0.43301249999999997,-0.36084375,-0.28867500000000007,-0.21650624999999998,-0.1443375,-0.07216874999999999,-1.6024681581683354e-17,0.07216875,0.14433750000000004,0.21650624999999993,0.288675,0.3608437500000001,0.4330125,0.5051812500000001,0.57735,0.64951875,0.7216875,-0.685603125,-0.613434375,-0.5412656250000001,-0.46909687499999997,-0.396928125,-0.3247593750000001,-0.25259062499999996,-0.180421875,-0.10825312499999999,-0.036084375000000016,0.036084375,0.10825312500000002,0.18042187499999998,0.25259062499999996,0.324759375,0.3969281250000001,0.469096875,0.5412656250000001,0.6134343750000001,0.685603125,-0.57735,-0.50518125,-0.4330125,-0.3608437500000001,-0.28867499999999996,-0.21650625,-0.14433749999999998,-0.07216875000000002,0.0,0.07216875000000002,0.14433749999999998,0.21650625,0.28867499999999996,0.36084375,0.4330125000000001,0.50518125,0.5773500000000001,0.64951875,-0.541265625,-0.469096875,-0.3969281250000001,-0.32475937499999996,-0.252590625,-0.18042187499999998,-0.10825312500000002,-0.036084375,0.036084375000000016,0.10825312499999999,0.180421875,0.252590625,0.32475937499999996,0.396928125,0.4690968750000001,0.5412656250000001,0.6134343750000001,-0.4330125000000001,-0.36084374999999996,-0.288675,-0.21650624999999998,-0.14433750000000004,-0.07216875,1.6024681581683354e-17,0.07216874999999999,0.1443375,0.21650625,0.288675,0.36084374999999996,0.4330125,0.5051812500000001,0.57735,-0.324759375,-0.252590625,-0.18042187500000004,-0.108253125,-0.03608437499999999,0.03608437499999999,0.108253125,0.180421875,0.252590625,0.324759375,0.39692812499999997,0.469096875,0.5412656250000001,-0.21650625000000004,-0.1443375,-0.07216874999999999,-1.6024681581683354e-17,0.07216875,0.1443375,0.21650625,0.288675,0.36084375,0.43301249999999997,0.50518125,-0.180421875,-0.10825312499999999,-0.036084375000000016,0.036084375,0.10825312499999999,0.180421875,0.252590625,0.324759375,0.396928125,0.46909687499999997,-0.07216875000000002,0.0,0.07216874999999999,0.1443375,0.21650625,0.288675,0.36084375,0.4330125,0.036084374999999995,0.10825312500000002,0.180421875,0.252590625,0.324759375,0.396928125,0.1443375,0.21650625,0.288675,0.36084375,0.180421875,0.252590625,0.324759375,0.1443375,0.21650625,0.288675,0.180421875,0.252590625,0.1443375,0.21650625,0.108253125,0.180421875,4.0061703954208385e-18,0.07216875,0.1443375,0.108253125,2.0030851977104193e-18,0.07216875,-0.036084375,0.036084375],\"xaxis\":\"x\",\"y\":[-0.5,-0.5,-0.5,-0.5,-0.5,-0.5,-0.5,-0.5,-0.5,-0.5,-0.5,-0.5,-0.5,-0.5,-0.5,-0.5,-0.5,-0.5,-0.5,-0.5,-0.5,-0.5,-0.5,-0.5,-0.5,-0.4375,-0.4375,-0.4375,-0.4375,-0.4375,-0.4375,-0.4375,-0.4375,-0.4375,-0.4375,-0.4375,-0.4375,-0.4375,-0.4375,-0.4375,-0.4375,-0.4375,-0.4375,-0.4375,-0.43749999999999994,-0.4375,-0.4375,-0.43749999999999994,-0.4375,-0.375,-0.375,-0.375,-0.375,-0.375,-0.375,-0.375,-0.375,-0.375,-0.375,-0.375,-0.375,-0.375,-0.375,-0.375,-0.375,-0.375,-0.37500000000000006,-0.375,-0.375,-0.37500000000000006,-0.375,-0.375,-0.3125,-0.3125,-0.3125,-0.3125,-0.3125,-0.3125,-0.3125,-0.3125,-0.3125,-0.3125,-0.3125,-0.3125,-0.3125,-0.3125,-0.3125,-0.3125,-0.3125,-0.3125,-0.3125,-0.3125,-0.3125,-0.3125,-0.25,-0.25,-0.25,-0.25,-0.25,-0.25,-0.25,-0.25,-0.25,-0.25,-0.25,-0.25,-0.25,-0.25,-0.25,-0.25,-0.25,-0.25,-0.25,-0.25,-0.25,-0.18749999999999997,-0.1875,-0.1875,-0.18749999999999997,-0.1875,-0.1875,-0.18749999999999997,-0.1875,-0.18749999999999997,-0.1875,-0.1875,-0.18749999999999997,-0.1875,-0.18749999999999997,-0.1875,-0.1875,-0.18749999999999997,-0.1875,-0.1875,-0.18749999999999997,-0.12500000000000003,-0.12499999999999997,-0.125,-0.125,-0.125,-0.125,-0.125,-0.125,-0.125,-0.125,-0.125,-0.125,-0.12499999999999999,-0.125,-0.125,-0.12499999999999997,-0.12500000000000003,-0.125,-0.062499999999999944,-0.0625,-0.0625,-0.062499999999999944,-0.0625,-0.06249999999999997,-0.0625,-0.06249999999999997,-0.06249999999999997,-0.0625,-0.06249999999999997,-0.062499999999999986,-0.06249999999999996,-0.0625,-0.06249999999999998,-0.06249999999999996,-0.0625,-5.551115123125783e-17,0.0,0.0,-2.7755575615628914e-17,-2.7755575615628914e-17,-2.7755575615628914e-17,0.0,-2.7755575615628914e-17,-2.7755575615628914e-17,-1.3877787807814457e-17,-1.3877787807814457e-17,0.0,-3.469446951953614e-17,-1.734723475976807e-17,0.0,0.0625,0.06250000000000003,0.06249999999999997,0.0625,0.0625,0.0625,0.0625,0.062499999999999986,0.06250000000000001,0.0625,0.06250000000000003,0.062499999999999986,0.0625,0.12500000000000003,0.125,0.12500000000000003,0.12500000000000003,0.125,0.125,0.125,0.12500000000000003,0.12500000000000003,0.12500000000000003,0.125,0.1875,0.18749999999999997,0.18749999999999997,0.1875,0.18749999999999994,0.1875,0.18749999999999997,0.1875,0.18749999999999997,0.1875,0.24999999999999997,0.25,0.24999999999999994,0.25000000000000006,0.25,0.24999999999999997,0.25000000000000006,0.25,0.31249999999999994,0.31249999999999994,0.3125,0.31249999999999994,0.31249999999999994,0.3125,0.375,0.37500000000000006,0.37500000000000006,0.375,0.43749999999999994,0.43750000000000006,0.4375,0.49999999999999994,0.49999999999999994,0.5,0.5625,0.5625,0.625,0.625,0.6874999999999999,0.6875,0.7500000000000001,0.75,0.75,0.8125,0.8749999999999999,0.875,0.9375,0.9375],\"yaxis\":\"y\",\"type\":\"scatter\"},{\"hovertemplate\":\"\\u003cb\\u003e%{hovertext}\\u003c\\u002fb\\u003e\\u003cbr\\u003e\\u003cbr\\u003eSolid Solution Phases=False\\u003cbr\\u003e=%{y}\\u003cbr\\u003etext=%{text}\\u003cextra\\u003e\\u003c\\u002fextra\\u003e\",\"hovertext\":[\"(135) Ni2.4 Cr80.0 Fe17.6 \",\"(154) Ni2.8 Cr76.6 Fe20.5 \",\"(172) Ni3.2 Cr73.3 Fe23.5 \",\"(173) Ni7.4 Cr69.1 Fe23.5 \",\"(190) Ni7.8 Cr65.8 Fe26.4 \",\"(191) Ni11.9 Cr61.6 Fe26.4 \",\"(207) Ni12.3 Cr58.3 Fe29.4 \",\"(208) Ni16.5 Cr54.1 Fe29.4 \",\"(223) Ni16.9 Cr50.8 Fe32.3 \",\"(237) Ni17.3 Cr47.5 Fe35.2 \",\"(238) Ni21.5 Cr43.3 Fe35.2 \",\"(251) Ni21.9 Cr40.0 Fe38.2 \",\"(252) Ni26.0 Cr35.8 Fe38.2 \",\"(264) Ni26.4 Cr32.5 Fe41.1 \",\"(265) Ni30.6 Cr28.3 Fe41.1 \",\"(276) Ni31.0 Cr25.0 Fe44.0 \",\"(285) Ni27.2 Cr25.8 Fe47.0 \",\"(294) Ni27.6 Cr22.5 Fe49.9 \",\"(301) Ni23.9 Cr23.3 Fe52.8 \",\"(306) Ni15.9 Cr28.3 Fe55.8 \",\"(307) Ni20.1 Cr24.1 Fe55.8 \",\"(311) Ni12.2 Cr29.1 Fe58.7 \",\"(316) Ni12.6 Cr25.8 Fe61.6 \",\"(317) Ni16.7 Cr21.6 Fe61.6 \",\"(319) Ni8.8 Cr26.6 Fe64.6 \",\"(324) Ni9.6 Cr19.9 Fe70.4 \"],\"legendgroup\":\"False\",\"marker\":{\"color\":\"red\",\"symbol\":\"circle\"},\"mode\":\"markers+text\",\"name\":\"False\",\"orientation\":\"v\",\"showlegend\":true,\"text\":[\"\",\"\",\"\",\"\",\"\",\"\",\"\",\"\",\"\",\"\",\"\",\"\",\"\",\"\",\"\",\"\",\"\",\"\",\"\",\"\",\"\",\"\",\"\",\"\",\"\",\"\\u003cb\\u003eCr\\u003c\\u002fb\\u003e\"],\"x\":[-0.64951875,-0.6134343750000001,-0.57735,-0.50518125,-0.4690968750000001,-0.39692812499999997,-0.36084375,-0.288675,-0.252590625,-0.21650625,-0.14433749999999998,-0.10825312500000002,-0.036084375,-8.012340790841677e-18,0.07216875000000002,0.108253125,0.07216875,0.108253125,0.07216875,-0.036084375,0.03608437500000001,-0.07216875,-0.036084374999999995,0.036084375,-0.07216875,0.0],\"xaxis\":\"x\",\"y\":[-0.125,-0.0625,0.0,0.0,0.0625,0.0625,0.125,0.12500000000000003,0.18749999999999997,0.25,0.25,0.3125,0.31249999999999994,0.375,0.37500000000000006,0.4375,0.5,0.5625000000000001,0.625,0.6875,0.6875,0.75,0.8125,0.8125,0.875,1.0],\"yaxis\":\"y\",\"type\":\"scatter\"}],                        {\"template\":{\"data\":{\"barpolar\":[{\"marker\":{\"line\":{\"color\":\"white\",\"width\":0.5},\"pattern\":{\"fillmode\":\"overlay\",\"size\":10,\"solidity\":0.2}},\"type\":\"barpolar\"}],\"bar\":[{\"error_x\":{\"color\":\"#2a3f5f\"},\"error_y\":{\"color\":\"#2a3f5f\"},\"marker\":{\"line\":{\"color\":\"white\",\"width\":0.5},\"pattern\":{\"fillmode\":\"overlay\",\"size\":10,\"solidity\":0.2}},\"type\":\"bar\"}],\"carpet\":[{\"aaxis\":{\"endlinecolor\":\"#2a3f5f\",\"gridcolor\":\"#C8D4E3\",\"linecolor\":\"#C8D4E3\",\"minorgridcolor\":\"#C8D4E3\",\"startlinecolor\":\"#2a3f5f\"},\"baxis\":{\"endlinecolor\":\"#2a3f5f\",\"gridcolor\":\"#C8D4E3\",\"linecolor\":\"#C8D4E3\",\"minorgridcolor\":\"#C8D4E3\",\"startlinecolor\":\"#2a3f5f\"},\"type\":\"carpet\"}],\"choropleth\":[{\"colorbar\":{\"outlinewidth\":0,\"ticks\":\"\"},\"type\":\"choropleth\"}],\"contourcarpet\":[{\"colorbar\":{\"outlinewidth\":0,\"ticks\":\"\"},\"type\":\"contourcarpet\"}],\"contour\":[{\"colorbar\":{\"outlinewidth\":0,\"ticks\":\"\"},\"colorscale\":[[0.0,\"#0d0887\"],[0.1111111111111111,\"#46039f\"],[0.2222222222222222,\"#7201a8\"],[0.3333333333333333,\"#9c179e\"],[0.4444444444444444,\"#bd3786\"],[0.5555555555555556,\"#d8576b\"],[0.6666666666666666,\"#ed7953\"],[0.7777777777777778,\"#fb9f3a\"],[0.8888888888888888,\"#fdca26\"],[1.0,\"#f0f921\"]],\"type\":\"contour\"}],\"heatmapgl\":[{\"colorbar\":{\"outlinewidth\":0,\"ticks\":\"\"},\"colorscale\":[[0.0,\"#0d0887\"],[0.1111111111111111,\"#46039f\"],[0.2222222222222222,\"#7201a8\"],[0.3333333333333333,\"#9c179e\"],[0.4444444444444444,\"#bd3786\"],[0.5555555555555556,\"#d8576b\"],[0.6666666666666666,\"#ed7953\"],[0.7777777777777778,\"#fb9f3a\"],[0.8888888888888888,\"#fdca26\"],[1.0,\"#f0f921\"]],\"type\":\"heatmapgl\"}],\"heatmap\":[{\"colorbar\":{\"outlinewidth\":0,\"ticks\":\"\"},\"colorscale\":[[0.0,\"#0d0887\"],[0.1111111111111111,\"#46039f\"],[0.2222222222222222,\"#7201a8\"],[0.3333333333333333,\"#9c179e\"],[0.4444444444444444,\"#bd3786\"],[0.5555555555555556,\"#d8576b\"],[0.6666666666666666,\"#ed7953\"],[0.7777777777777778,\"#fb9f3a\"],[0.8888888888888888,\"#fdca26\"],[1.0,\"#f0f921\"]],\"type\":\"heatmap\"}],\"histogram2dcontour\":[{\"colorbar\":{\"outlinewidth\":0,\"ticks\":\"\"},\"colorscale\":[[0.0,\"#0d0887\"],[0.1111111111111111,\"#46039f\"],[0.2222222222222222,\"#7201a8\"],[0.3333333333333333,\"#9c179e\"],[0.4444444444444444,\"#bd3786\"],[0.5555555555555556,\"#d8576b\"],[0.6666666666666666,\"#ed7953\"],[0.7777777777777778,\"#fb9f3a\"],[0.8888888888888888,\"#fdca26\"],[1.0,\"#f0f921\"]],\"type\":\"histogram2dcontour\"}],\"histogram2d\":[{\"colorbar\":{\"outlinewidth\":0,\"ticks\":\"\"},\"colorscale\":[[0.0,\"#0d0887\"],[0.1111111111111111,\"#46039f\"],[0.2222222222222222,\"#7201a8\"],[0.3333333333333333,\"#9c179e\"],[0.4444444444444444,\"#bd3786\"],[0.5555555555555556,\"#d8576b\"],[0.6666666666666666,\"#ed7953\"],[0.7777777777777778,\"#fb9f3a\"],[0.8888888888888888,\"#fdca26\"],[1.0,\"#f0f921\"]],\"type\":\"histogram2d\"}],\"histogram\":[{\"marker\":{\"pattern\":{\"fillmode\":\"overlay\",\"size\":10,\"solidity\":0.2}},\"type\":\"histogram\"}],\"mesh3d\":[{\"colorbar\":{\"outlinewidth\":0,\"ticks\":\"\"},\"type\":\"mesh3d\"}],\"parcoords\":[{\"line\":{\"colorbar\":{\"outlinewidth\":0,\"ticks\":\"\"}},\"type\":\"parcoords\"}],\"pie\":[{\"automargin\":true,\"type\":\"pie\"}],\"scatter3d\":[{\"line\":{\"colorbar\":{\"outlinewidth\":0,\"ticks\":\"\"}},\"marker\":{\"colorbar\":{\"outlinewidth\":0,\"ticks\":\"\"}},\"type\":\"scatter3d\"}],\"scattercarpet\":[{\"marker\":{\"colorbar\":{\"outlinewidth\":0,\"ticks\":\"\"}},\"type\":\"scattercarpet\"}],\"scattergeo\":[{\"marker\":{\"colorbar\":{\"outlinewidth\":0,\"ticks\":\"\"}},\"type\":\"scattergeo\"}],\"scattergl\":[{\"marker\":{\"colorbar\":{\"outlinewidth\":0,\"ticks\":\"\"}},\"type\":\"scattergl\"}],\"scattermapbox\":[{\"marker\":{\"colorbar\":{\"outlinewidth\":0,\"ticks\":\"\"}},\"type\":\"scattermapbox\"}],\"scatterpolargl\":[{\"marker\":{\"colorbar\":{\"outlinewidth\":0,\"ticks\":\"\"}},\"type\":\"scatterpolargl\"}],\"scatterpolar\":[{\"marker\":{\"colorbar\":{\"outlinewidth\":0,\"ticks\":\"\"}},\"type\":\"scatterpolar\"}],\"scatter\":[{\"fillpattern\":{\"fillmode\":\"overlay\",\"size\":10,\"solidity\":0.2},\"type\":\"scatter\"}],\"scatterternary\":[{\"marker\":{\"colorbar\":{\"outlinewidth\":0,\"ticks\":\"\"}},\"type\":\"scatterternary\"}],\"surface\":[{\"colorbar\":{\"outlinewidth\":0,\"ticks\":\"\"},\"colorscale\":[[0.0,\"#0d0887\"],[0.1111111111111111,\"#46039f\"],[0.2222222222222222,\"#7201a8\"],[0.3333333333333333,\"#9c179e\"],[0.4444444444444444,\"#bd3786\"],[0.5555555555555556,\"#d8576b\"],[0.6666666666666666,\"#ed7953\"],[0.7777777777777778,\"#fb9f3a\"],[0.8888888888888888,\"#fdca26\"],[1.0,\"#f0f921\"]],\"type\":\"surface\"}],\"table\":[{\"cells\":{\"fill\":{\"color\":\"#EBF0F8\"},\"line\":{\"color\":\"white\"}},\"header\":{\"fill\":{\"color\":\"#C8D4E3\"},\"line\":{\"color\":\"white\"}},\"type\":\"table\"}]},\"layout\":{\"annotationdefaults\":{\"arrowcolor\":\"#2a3f5f\",\"arrowhead\":0,\"arrowwidth\":1},\"autotypenumbers\":\"strict\",\"coloraxis\":{\"colorbar\":{\"outlinewidth\":0,\"ticks\":\"\"}},\"colorscale\":{\"diverging\":[[0,\"#8e0152\"],[0.1,\"#c51b7d\"],[0.2,\"#de77ae\"],[0.3,\"#f1b6da\"],[0.4,\"#fde0ef\"],[0.5,\"#f7f7f7\"],[0.6,\"#e6f5d0\"],[0.7,\"#b8e186\"],[0.8,\"#7fbc41\"],[0.9,\"#4d9221\"],[1,\"#276419\"]],\"sequential\":[[0.0,\"#0d0887\"],[0.1111111111111111,\"#46039f\"],[0.2222222222222222,\"#7201a8\"],[0.3333333333333333,\"#9c179e\"],[0.4444444444444444,\"#bd3786\"],[0.5555555555555556,\"#d8576b\"],[0.6666666666666666,\"#ed7953\"],[0.7777777777777778,\"#fb9f3a\"],[0.8888888888888888,\"#fdca26\"],[1.0,\"#f0f921\"]],\"sequentialminus\":[[0.0,\"#0d0887\"],[0.1111111111111111,\"#46039f\"],[0.2222222222222222,\"#7201a8\"],[0.3333333333333333,\"#9c179e\"],[0.4444444444444444,\"#bd3786\"],[0.5555555555555556,\"#d8576b\"],[0.6666666666666666,\"#ed7953\"],[0.7777777777777778,\"#fb9f3a\"],[0.8888888888888888,\"#fdca26\"],[1.0,\"#f0f921\"]]},\"colorway\":[\"#636efa\",\"#EF553B\",\"#00cc96\",\"#ab63fa\",\"#FFA15A\",\"#19d3f3\",\"#FF6692\",\"#B6E880\",\"#FF97FF\",\"#FECB52\"],\"font\":{\"color\":\"#2a3f5f\"},\"geo\":{\"bgcolor\":\"white\",\"lakecolor\":\"white\",\"landcolor\":\"white\",\"showlakes\":true,\"showland\":true,\"subunitcolor\":\"#C8D4E3\"},\"hoverlabel\":{\"align\":\"left\"},\"hovermode\":\"closest\",\"mapbox\":{\"style\":\"light\"},\"paper_bgcolor\":\"white\",\"plot_bgcolor\":\"white\",\"polar\":{\"angularaxis\":{\"gridcolor\":\"#EBF0F8\",\"linecolor\":\"#EBF0F8\",\"ticks\":\"\"},\"bgcolor\":\"white\",\"radialaxis\":{\"gridcolor\":\"#EBF0F8\",\"linecolor\":\"#EBF0F8\",\"ticks\":\"\"}},\"scene\":{\"xaxis\":{\"backgroundcolor\":\"white\",\"gridcolor\":\"#DFE8F3\",\"gridwidth\":2,\"linecolor\":\"#EBF0F8\",\"showbackground\":true,\"ticks\":\"\",\"zerolinecolor\":\"#EBF0F8\"},\"yaxis\":{\"backgroundcolor\":\"white\",\"gridcolor\":\"#DFE8F3\",\"gridwidth\":2,\"linecolor\":\"#EBF0F8\",\"showbackground\":true,\"ticks\":\"\",\"zerolinecolor\":\"#EBF0F8\"},\"zaxis\":{\"backgroundcolor\":\"white\",\"gridcolor\":\"#DFE8F3\",\"gridwidth\":2,\"linecolor\":\"#EBF0F8\",\"showbackground\":true,\"ticks\":\"\",\"zerolinecolor\":\"#EBF0F8\"}},\"shapedefaults\":{\"line\":{\"color\":\"#2a3f5f\"}},\"ternary\":{\"aaxis\":{\"gridcolor\":\"#DFE8F3\",\"linecolor\":\"#A2B1C6\",\"ticks\":\"\"},\"baxis\":{\"gridcolor\":\"#DFE8F3\",\"linecolor\":\"#A2B1C6\",\"ticks\":\"\"},\"bgcolor\":\"white\",\"caxis\":{\"gridcolor\":\"#DFE8F3\",\"linecolor\":\"#A2B1C6\",\"ticks\":\"\"}},\"title\":{\"x\":0.05},\"xaxis\":{\"automargin\":true,\"gridcolor\":\"#EBF0F8\",\"linecolor\":\"#EBF0F8\",\"ticks\":\"\",\"title\":{\"standoff\":15},\"zerolinecolor\":\"#EBF0F8\",\"zerolinewidth\":2},\"yaxis\":{\"automargin\":true,\"gridcolor\":\"#EBF0F8\",\"linecolor\":\"#EBF0F8\",\"ticks\":\"\",\"title\":{\"standoff\":15},\"zerolinecolor\":\"#EBF0F8\",\"zerolinewidth\":2}}},\"xaxis\":{\"anchor\":\"y\",\"domain\":[0.0,1.0],\"title\":{\"text\":\"\"}},\"yaxis\":{\"anchor\":\"x\",\"domain\":[0.0,1.0],\"title\":{\"text\":\"\"}},\"legend\":{\"title\":{\"text\":\"Solid Solution Phases\"},\"tracegroupgap\":0},\"margin\":{\"t\":60},\"height\":600,\"width\":800},                        {\"responsive\": true}                    ).then(function(){\n",
       "                            \n",
       "var gd = document.getElementById('2ac72bc3-3940-4e5b-8be5-e81242849514');\n",
       "var x = new MutationObserver(function (mutations, observer) {{\n",
       "        var display = window.getComputedStyle(gd).display;\n",
       "        if (!display || display === 'none') {{\n",
       "            console.log([gd, 'removed!']);\n",
       "            Plotly.purge(gd);\n",
       "            observer.disconnect();\n",
       "        }}\n",
       "}});\n",
       "\n",
       "// Listen for the removal of the full notebook cells\n",
       "var notebookContainer = gd.closest('#notebook-container');\n",
       "if (notebookContainer) {{\n",
       "    x.observe(notebookContainer, {childList: true});\n",
       "}}\n",
       "\n",
       "// Listen for the clearing of the current output cell\n",
       "var outputEl = gd.closest('.output');\n",
       "if (outputEl) {{\n",
       "    x.observe(outputEl, {childList: true});\n",
       "}}\n",
       "\n",
       "                        })                };                });            </script>        </div>"
      ]
     },
     "metadata": {},
     "output_type": "display_data"
    }
   ],
   "source": [
    "fig = px.scatter(gridAtt_projected_df, x='x', y='y', color=gridFeasible, text=labels, hover_name=formulas,\n",
    "              template='plotly_white', width=800, height=600, color_discrete_sequence=['green', 'red'],\n",
    "              labels={'color':'Solid Solution Phases', 'x':'', 'y':''})\n",
    "fig.show()"
   ]
  },
  {
   "cell_type": "code",
   "execution_count": null,
   "metadata": {},
   "outputs": [],
   "source": []
  },
  {
   "cell_type": "markdown",
   "metadata": {},
   "source": [
    "## Multi-TDB"
   ]
  },
  {
   "cell_type": "markdown",
   "metadata": {},
   "source": [
    "- elementalSpaceComponents = [\"Ti\", \"Zr\", \"Hf\", \"W\", \"Nb\", \"Ta\", \"Mo\"]\n",
    "### System 1\n",
    "- attainableSpaceComponents = [\"Ti50 Zr50\", \"Mo33 Nb33 Ta33\", \"Mo80 Nb10 W10\"]\n",
    "- attainableSpaceComponentPositions = [[50, 50, 0, 0, 0, 0, 0], [0, 0, 0, 33, 33, 33, 0], [0, 0, 0, 10, 10, 0, 80]]\n",
    "### System 2\n",
    "- attainableSpaceComponents = [\"Ti50 Zr50\", \"Mo33 Nb33 Ta33\", \"Hf95 Zr5\"]\n",
    "- attainableSpaceComponentPositions = [[50, 50, 0, 0, 0, 0, 0], [0, 0, 0, 33, 33, 33, 0], [0, 5, 95, 0, 0, 0, 0]]"
   ]
  },
  {
   "cell_type": "code",
   "execution_count": 82,
   "metadata": {},
   "outputs": [],
   "source": [
    "def system_graphs(systemIdx, attainableSpaceComponentPositions, ndiv=slen):\n",
    "    gridAtt, gridEl, graphN = nimplex.embeddedpair_simplex_graph_fractional_py(attainableSpaceComponentPositions, ndiv)\n",
    "    gridPhases = process_map(equilibrium_callable, gridEl)\n",
    "    #gridFeasible = [len(set(p['Phases']) & infeasiblePhases)==0 and p!=[] for p in gridPhases]\n",
    "    gridFeasible = [len(gridPhases[i]['Phases']) != 0 and len(set(gridPhases[i]['Phases']).difference(feasiblePhases)) == 0 and gridPhases[i] != [] for i in range(len(gridPhases))]\n",
    "    gridFeasible[0]=True # Note the hardcoded idx 0 feasibility!\n",
    "    edges = []\n",
    "    offset = len(graphN)*systemIdx\n",
    "    for i, nList in enumerate(graphN):\n",
    "        if gridFeasible[i] or i==0: \n",
    "            for n in nList:\n",
    "                if gridFeasible[n]:\n",
    "                    edges.append([i+offset, n+offset, 1])\n",
    "    return gridAtt, gridEl, graphN, edges, gridFeasible, gridPhases"
   ]
  },
  {
   "cell_type": "code",
   "execution_count": 83,
   "metadata": {},
   "outputs": [
    {
     "data": {
      "application/vnd.jupyter.widget-view+json": {
       "model_id": "bf8507517920413dabd9ee710481c149",
       "version_major": 2,
       "version_minor": 0
      },
      "text/plain": [
       "  0%|          | 0/325 [00:00<?, ?it/s]"
      ]
     },
     "metadata": {},
     "output_type": "display_data"
    }
   ],
   "source": [
    "gridAtt1, gridEl1, graphN1, edges1, gridFeasible1, gridPhases1 = system_graphs(0, [[100, 0, 0], [0, 100, 0],[0.096114519430,0.1993865031, 0.7044989775]])"
   ]
  },
  {
   "cell_type": "code",
   "execution_count": 84,
   "metadata": {},
   "outputs": [
    {
     "data": {
      "application/vnd.plotly.v1+json": {
       "config": {
        "plotlyServerURL": "https://plot.ly"
       },
       "data": [
        {
         "hovertemplate": "Solid Solution Phases=True<br>=%{y}<br>text=%{text}<extra></extra>",
         "legendgroup": "True",
         "marker": {
          "color": "#FECB52",
          "symbol": "circle"
         },
         "mode": "markers+text",
         "name": "True",
         "orientation": "v",
         "showlegend": true,
         "text": [
          "<b>SS304L</b>",
          "",
          "",
          "",
          "",
          "",
          "<b>Cr</b>",
          "",
          "",
          "",
          "",
          "",
          "",
          "",
          "",
          "",
          "",
          "",
          "",
          "",
          "",
          "",
          "",
          "",
          "",
          "",
          "",
          "",
          "",
          "",
          "",
          "",
          "",
          "",
          "",
          "",
          "",
          "",
          "",
          "",
          "",
          "",
          "",
          "",
          "",
          "",
          "",
          "",
          "",
          "",
          "",
          "",
          "",
          "",
          "",
          "",
          "",
          "",
          "",
          "",
          "",
          "",
          "",
          "",
          "",
          "",
          "",
          "",
          "",
          "",
          "",
          "",
          "",
          "",
          "",
          "",
          "",
          "",
          "",
          "",
          "",
          "",
          "",
          "",
          "",
          "",
          "",
          "",
          "",
          "",
          "",
          "",
          "",
          "",
          "",
          "",
          "",
          "",
          "",
          "",
          "",
          "",
          "",
          "",
          "",
          "",
          "",
          "",
          "",
          "",
          "",
          "",
          "",
          "",
          "",
          "",
          "",
          "",
          "",
          "",
          "",
          "",
          "",
          "",
          "",
          "",
          "",
          "",
          "",
          "",
          "",
          "",
          "",
          "",
          "",
          "",
          "",
          "",
          "",
          "",
          "",
          "",
          "",
          "",
          "",
          "",
          "",
          "",
          "",
          "",
          "",
          "",
          "",
          "",
          "",
          "",
          "",
          "",
          "",
          "",
          "",
          "",
          "",
          "",
          "",
          "",
          "",
          "",
          "",
          "",
          "",
          "",
          "",
          "",
          "",
          "",
          "",
          "",
          "",
          "",
          "",
          "",
          "",
          "",
          "",
          "",
          "",
          "",
          "",
          "",
          "",
          "",
          "",
          "",
          "",
          "",
          "",
          "",
          "",
          "",
          "",
          "",
          "",
          "",
          "",
          "",
          "",
          "",
          "",
          "",
          "",
          "",
          "",
          "",
          "",
          "",
          "",
          "",
          "",
          "",
          "",
          "",
          "",
          "",
          "",
          "",
          "",
          "",
          "",
          "",
          "",
          "",
          "",
          "",
          "",
          "",
          "",
          "",
          "",
          "",
          "",
          "",
          "",
          "",
          "",
          "",
          "",
          "",
          "",
          "",
          "",
          "",
          "<b>Ni</b>"
         ],
         "type": "scatter",
         "x": [
          -0.866025,
          0.5051812499999999,
          0.57735,
          0.6495187499999999,
          0.7216875,
          0.7938562500000002,
          0.866025,
          -0.8299406250000001,
          0.324759375,
          0.3969281250000001,
          0.469096875,
          0.541265625,
          0.613434375,
          0.685603125,
          0.7577718750000001,
          0.8299406250000001,
          -0.79385625,
          0.21650625000000004,
          0.28867500000000007,
          0.36084375,
          0.4330125000000001,
          0.50518125,
          0.57735,
          0.64951875,
          0.7216875,
          0.79385625,
          -0.757771875,
          0.108253125,
          0.18042187499999998,
          0.252590625,
          0.3247593750000001,
          0.396928125,
          0.4690968750000001,
          0.5412656250000001,
          0.613434375,
          0.6856031250000001,
          0.757771875,
          -0.7216875,
          -0.64951875,
          -1.6024681581683354e-17,
          0.07216875,
          0.14433750000000004,
          0.21650624999999993,
          0.288675,
          0.3608437500000001,
          0.4330125,
          0.5051812500000001,
          0.57735,
          0.64951875,
          0.7216875,
          -0.685603125,
          -0.613434375,
          -0.180421875,
          -0.10825312499999999,
          -0.036084375000000016,
          0.036084375,
          0.10825312500000002,
          0.18042187499999998,
          0.25259062499999996,
          0.324759375,
          0.3969281250000001,
          0.469096875,
          0.5412656250000001,
          0.6134343750000001,
          0.685603125,
          -0.64951875,
          -0.57735,
          -0.50518125,
          -0.28867499999999996,
          -0.21650625,
          -0.14433749999999998,
          -0.07216875000000002,
          0,
          0.07216875000000002,
          0.14433749999999998,
          0.21650625,
          0.28867499999999996,
          0.36084375,
          0.4330125000000001,
          0.50518125,
          0.5773500000000001,
          0.64951875,
          -0.6134343750000001,
          -0.541265625,
          -0.469096875,
          -0.3969281250000001,
          -0.32475937499999996,
          -0.252590625,
          -0.18042187499999998,
          -0.10825312500000002,
          -0.036084375,
          0.036084375000000016,
          0.10825312499999999,
          0.180421875,
          0.252590625,
          0.32475937499999996,
          0.396928125,
          0.4690968750000001,
          0.5412656250000001,
          0.6134343750000001,
          -0.57735,
          -0.50518125,
          -0.4330125000000001,
          -0.36084374999999996,
          -0.288675,
          -0.21650624999999998,
          -0.14433750000000004,
          -0.07216875,
          1.6024681581683354e-17,
          0.07216874999999999,
          0.1443375,
          0.21650625,
          0.288675,
          0.36084374999999996,
          0.4330125,
          0.5051812500000001,
          0.57735,
          -0.5412656250000001,
          -0.4690968750000001,
          -0.39692812499999997,
          -0.324759375,
          -0.252590625,
          -0.18042187500000004,
          -0.108253125,
          -0.03608437499999999,
          0.03608437499999999,
          0.108253125,
          0.180421875,
          0.252590625,
          0.324759375,
          0.39692812499999997,
          0.469096875,
          0.5412656250000001,
          -0.50518125,
          -0.43301249999999997,
          -0.36084375,
          -0.288675,
          -0.21650625000000004,
          -0.1443375,
          -0.07216874999999999,
          -1.6024681581683354e-17,
          0.07216875,
          0.1443375,
          0.21650625,
          0.288675,
          0.36084375,
          0.43301249999999997,
          0.50518125,
          -0.46909687499999997,
          -0.396928125,
          -0.324759375,
          -0.252590625,
          -0.180421875,
          -0.10825312499999999,
          -0.036084375000000016,
          0.036084375,
          0.10825312499999999,
          0.180421875,
          0.252590625,
          0.324759375,
          0.396928125,
          0.46909687499999997,
          -0.4330125,
          -0.36084375,
          -0.288675,
          -0.21650625,
          -0.14433749999999998,
          -0.07216875000000002,
          0,
          0.07216874999999999,
          0.1443375,
          0.21650625,
          0.288675,
          0.36084375,
          0.4330125,
          -0.396928125,
          -0.324759375,
          -0.252590625,
          -0.18042187499999998,
          -0.10825312500000002,
          -0.036084375,
          0.036084374999999995,
          0.10825312500000002,
          0.180421875,
          0.252590625,
          0.324759375,
          0.396928125,
          -0.36084375,
          -0.288675,
          -0.21650624999999998,
          -0.14433750000000004,
          -0.07216875,
          -8.012340790841677e-18,
          0.07216875000000002,
          0.1443375,
          0.21650625,
          0.288675,
          0.36084375,
          -0.324759375,
          -0.252590625,
          -0.18042187500000004,
          -0.108253125,
          -0.03608437500000001,
          0.03608437500000001,
          0.108253125,
          0.180421875,
          0.252590625,
          0.324759375,
          -0.288675,
          -0.21650625000000004,
          -0.1443375,
          -0.07216875000000002,
          8.012340790841677e-18,
          0.07216875,
          0.1443375,
          0.21650625,
          0.288675,
          -0.252590625,
          -0.180421875,
          -0.10825312500000002,
          -0.036084374999999995,
          0.036084375,
          0.108253125,
          0.180421875,
          0.252590625,
          -0.21650625,
          -0.1443375,
          -0.07216874999999999,
          0,
          0.07216875,
          0.1443375,
          0.21650625,
          -0.180421875,
          -0.10825312499999999,
          -0.036084375,
          0.03608437500000001,
          0.108253125,
          0.180421875,
          -0.1443375,
          -0.07216875,
          4.0061703954208385e-18,
          0.07216875,
          0.1443375,
          -0.108253125,
          -0.036084374999999995,
          0.036084375,
          0.108253125,
          -0.07216875,
          2.0030851977104193e-18,
          0.07216875,
          -0.036084375,
          0.036084375,
          0
         ],
         "xaxis": "x",
         "y": [
          -0.5,
          -0.5,
          -0.5,
          -0.5,
          -0.5,
          -0.5,
          -0.5,
          -0.4375,
          -0.4375,
          -0.4375,
          -0.4375,
          -0.43749999999999994,
          -0.4375,
          -0.4375,
          -0.43749999999999994,
          -0.4375,
          -0.375,
          -0.375,
          -0.375,
          -0.375,
          -0.37500000000000006,
          -0.375,
          -0.375,
          -0.37500000000000006,
          -0.375,
          -0.375,
          -0.3125,
          -0.3125,
          -0.3125,
          -0.3125,
          -0.3125,
          -0.3125,
          -0.3125,
          -0.3125,
          -0.3125,
          -0.3125,
          -0.3125,
          -0.25,
          -0.25,
          -0.25,
          -0.25,
          -0.25,
          -0.25,
          -0.25,
          -0.25,
          -0.25,
          -0.25,
          -0.25,
          -0.25,
          -0.25,
          -0.18749999999999997,
          -0.1875,
          -0.1875,
          -0.18749999999999997,
          -0.1875,
          -0.1875,
          -0.18749999999999997,
          -0.1875,
          -0.18749999999999997,
          -0.1875,
          -0.1875,
          -0.18749999999999997,
          -0.1875,
          -0.1875,
          -0.18749999999999997,
          -0.125,
          -0.12500000000000003,
          -0.12499999999999997,
          -0.125,
          -0.125,
          -0.125,
          -0.125,
          -0.125,
          -0.125,
          -0.125,
          -0.125,
          -0.12499999999999999,
          -0.125,
          -0.125,
          -0.12499999999999997,
          -0.12500000000000003,
          -0.125,
          -0.0625,
          -0.062499999999999944,
          -0.0625,
          -0.0625,
          -0.062499999999999944,
          -0.0625,
          -0.06249999999999997,
          -0.0625,
          -0.06249999999999997,
          -0.06249999999999997,
          -0.0625,
          -0.06249999999999997,
          -0.062499999999999986,
          -0.06249999999999996,
          -0.0625,
          -0.06249999999999998,
          -0.06249999999999996,
          -0.0625,
          0,
          0,
          -5.551115123125783e-17,
          0,
          0,
          -2.7755575615628914e-17,
          -2.7755575615628914e-17,
          -2.7755575615628914e-17,
          0,
          -2.7755575615628914e-17,
          -2.7755575615628914e-17,
          -1.3877787807814457e-17,
          -1.3877787807814457e-17,
          0,
          -3.469446951953614e-17,
          -1.734723475976807e-17,
          0,
          0.0625,
          0.0625,
          0.0625,
          0.0625,
          0.06250000000000003,
          0.06249999999999997,
          0.0625,
          0.0625,
          0.0625,
          0.0625,
          0.062499999999999986,
          0.06250000000000001,
          0.0625,
          0.06250000000000003,
          0.062499999999999986,
          0.0625,
          0.125,
          0.12500000000000006,
          0.125,
          0.12500000000000003,
          0.12500000000000003,
          0.125,
          0.12500000000000003,
          0.12500000000000003,
          0.125,
          0.125,
          0.125,
          0.12500000000000003,
          0.12500000000000003,
          0.12500000000000003,
          0.125,
          0.1875,
          0.1875,
          0.18749999999999997,
          0.18749999999999997,
          0.1875,
          0.18749999999999997,
          0.18749999999999997,
          0.1875,
          0.18749999999999994,
          0.1875,
          0.18749999999999997,
          0.1875,
          0.18749999999999997,
          0.1875,
          0.25,
          0.25,
          0.24999999999999997,
          0.25,
          0.25,
          0.24999999999999997,
          0.25,
          0.24999999999999994,
          0.25000000000000006,
          0.25,
          0.24999999999999997,
          0.25000000000000006,
          0.25,
          0.3125,
          0.3124999999999999,
          0.31249999999999994,
          0.3125,
          0.3125,
          0.31249999999999994,
          0.31249999999999994,
          0.31249999999999994,
          0.3125,
          0.31249999999999994,
          0.31249999999999994,
          0.3125,
          0.375,
          0.375,
          0.3750000000000001,
          0.375,
          0.375,
          0.375,
          0.37500000000000006,
          0.375,
          0.37500000000000006,
          0.37500000000000006,
          0.375,
          0.4375,
          0.4375,
          0.4375,
          0.4375,
          0.43749999999999994,
          0.43750000000000006,
          0.4375,
          0.43749999999999994,
          0.43750000000000006,
          0.4375,
          0.5,
          0.4999999999999999,
          0.5,
          0.49999999999999994,
          0.49999999999999994,
          0.5,
          0.49999999999999994,
          0.49999999999999994,
          0.5,
          0.5625,
          0.5625,
          0.5625000000000001,
          0.5625,
          0.5625,
          0.5625000000000001,
          0.5625,
          0.5625,
          0.625,
          0.625,
          0.625,
          0.625,
          0.625,
          0.625,
          0.625,
          0.6875,
          0.6874999999999999,
          0.6875,
          0.6875,
          0.6874999999999999,
          0.6875,
          0.75,
          0.75,
          0.7500000000000001,
          0.75,
          0.75,
          0.8125,
          0.8125,
          0.8125,
          0.8125,
          0.875,
          0.8749999999999999,
          0.875,
          0.9375,
          0.9375,
          1
         ],
         "yaxis": "y"
        },
        {
         "hovertemplate": "Solid Solution Phases=False<br>=%{y}<br>text=%{text}<extra></extra>",
         "legendgroup": "False",
         "marker": {
          "color": "blue",
          "symbol": "circle"
         },
         "mode": "markers+text",
         "name": "False",
         "orientation": "v",
         "showlegend": true,
         "text": [
          "",
          "",
          "",
          "",
          "",
          "",
          "",
          "",
          "",
          "",
          "",
          "",
          "",
          "",
          "",
          "",
          "",
          "",
          "",
          "",
          "",
          "",
          "",
          "",
          "",
          "",
          "",
          "",
          "",
          "",
          "",
          "",
          "",
          "",
          "",
          "",
          "",
          "",
          "",
          "",
          "",
          "",
          "",
          "",
          "",
          "",
          "",
          "",
          "",
          "",
          "",
          "",
          "",
          "",
          "",
          "",
          "",
          "",
          "",
          "",
          "",
          "",
          "",
          "",
          "",
          "",
          "",
          "",
          "",
          "",
          "",
          ""
         ],
         "type": "scatter",
         "x": [
          -0.79385625,
          -0.7216875,
          -0.64951875,
          -0.57735,
          -0.50518125,
          -0.4330125,
          -0.3608437500000001,
          -0.28867499999999996,
          -0.21650625,
          -0.14433750000000004,
          -0.07216874999999998,
          0,
          0.07216874999999996,
          0.14433749999999998,
          0.21650625000000007,
          0.288675,
          0.3608437500000001,
          0.4330125,
          -0.757771875,
          -0.6856031250000001,
          -0.6134343750000001,
          -0.541265625,
          -0.469096875,
          -0.3969281250000001,
          -0.32475937499999996,
          -0.252590625,
          -0.18042187500000004,
          -0.10825312499999998,
          -0.036084375,
          0.036084375000000016,
          0.10825312499999994,
          0.180421875,
          0.25259062500000007,
          -0.7216875,
          -0.64951875,
          -0.57735,
          -0.50518125,
          -0.4330125000000001,
          -0.36084374999999996,
          -0.288675,
          -0.21650625000000004,
          -0.14433749999999998,
          -0.07216875,
          1.6024681581683354e-17,
          0.07216874999999999,
          0.14433749999999995,
          -0.6856031250000001,
          -0.613434375,
          -0.5412656250000001,
          -0.4690968750000001,
          -0.39692812499999997,
          -0.324759375,
          -0.25259062500000007,
          -0.18042187499999998,
          -0.108253125,
          -0.03608437499999999,
          0.03608437499999999,
          -0.57735,
          -0.50518125,
          -0.43301249999999997,
          -0.36084375,
          -0.28867500000000007,
          -0.21650624999999998,
          -0.1443375,
          -0.07216874999999999,
          -0.5412656250000001,
          -0.46909687499999997,
          -0.396928125,
          -0.3247593750000001,
          -0.25259062499999996,
          -0.4330125,
          -0.3608437500000001
         ],
         "xaxis": "x",
         "y": [
          -0.5,
          -0.5,
          -0.5,
          -0.5,
          -0.5,
          -0.5,
          -0.5,
          -0.5,
          -0.5,
          -0.5,
          -0.5,
          -0.5,
          -0.5,
          -0.5,
          -0.5,
          -0.5,
          -0.5,
          -0.5,
          -0.4375,
          -0.4375,
          -0.4375,
          -0.4375,
          -0.4375,
          -0.4375,
          -0.4375,
          -0.4375,
          -0.4375,
          -0.4375,
          -0.4375,
          -0.4375,
          -0.4375,
          -0.4375,
          -0.4375,
          -0.375,
          -0.375,
          -0.375,
          -0.375,
          -0.375,
          -0.375,
          -0.375,
          -0.375,
          -0.375,
          -0.375,
          -0.375,
          -0.375,
          -0.375,
          -0.3125,
          -0.3125,
          -0.3125,
          -0.3125,
          -0.3125,
          -0.3125,
          -0.3125,
          -0.3125,
          -0.3125,
          -0.3125,
          -0.3125,
          -0.25,
          -0.25,
          -0.25,
          -0.25,
          -0.25,
          -0.25,
          -0.25,
          -0.25,
          -0.1875,
          -0.18749999999999997,
          -0.1875,
          -0.1875,
          -0.18749999999999997,
          -0.125,
          -0.125
         ],
         "yaxis": "y"
        }
       ],
       "layout": {
        "height": 600,
        "legend": {
         "title": {
          "text": "Solid Solution Phases"
         },
         "tracegroupgap": 0
        },
        "margin": {
         "t": 60
        },
        "template": {
         "data": {
          "bar": [
           {
            "error_x": {
             "color": "#2a3f5f"
            },
            "error_y": {
             "color": "#2a3f5f"
            },
            "marker": {
             "line": {
              "color": "white",
              "width": 0.5
             },
             "pattern": {
              "fillmode": "overlay",
              "size": 10,
              "solidity": 0.2
             }
            },
            "type": "bar"
           }
          ],
          "barpolar": [
           {
            "marker": {
             "line": {
              "color": "white",
              "width": 0.5
             },
             "pattern": {
              "fillmode": "overlay",
              "size": 10,
              "solidity": 0.2
             }
            },
            "type": "barpolar"
           }
          ],
          "carpet": [
           {
            "aaxis": {
             "endlinecolor": "#2a3f5f",
             "gridcolor": "#C8D4E3",
             "linecolor": "#C8D4E3",
             "minorgridcolor": "#C8D4E3",
             "startlinecolor": "#2a3f5f"
            },
            "baxis": {
             "endlinecolor": "#2a3f5f",
             "gridcolor": "#C8D4E3",
             "linecolor": "#C8D4E3",
             "minorgridcolor": "#C8D4E3",
             "startlinecolor": "#2a3f5f"
            },
            "type": "carpet"
           }
          ],
          "choropleth": [
           {
            "colorbar": {
             "outlinewidth": 0,
             "ticks": ""
            },
            "type": "choropleth"
           }
          ],
          "contour": [
           {
            "colorbar": {
             "outlinewidth": 0,
             "ticks": ""
            },
            "colorscale": [
             [
              0,
              "#0d0887"
             ],
             [
              0.1111111111111111,
              "#46039f"
             ],
             [
              0.2222222222222222,
              "#7201a8"
             ],
             [
              0.3333333333333333,
              "#9c179e"
             ],
             [
              0.4444444444444444,
              "#bd3786"
             ],
             [
              0.5555555555555556,
              "#d8576b"
             ],
             [
              0.6666666666666666,
              "#ed7953"
             ],
             [
              0.7777777777777778,
              "#fb9f3a"
             ],
             [
              0.8888888888888888,
              "#fdca26"
             ],
             [
              1,
              "#f0f921"
             ]
            ],
            "type": "contour"
           }
          ],
          "contourcarpet": [
           {
            "colorbar": {
             "outlinewidth": 0,
             "ticks": ""
            },
            "type": "contourcarpet"
           }
          ],
          "heatmap": [
           {
            "colorbar": {
             "outlinewidth": 0,
             "ticks": ""
            },
            "colorscale": [
             [
              0,
              "#0d0887"
             ],
             [
              0.1111111111111111,
              "#46039f"
             ],
             [
              0.2222222222222222,
              "#7201a8"
             ],
             [
              0.3333333333333333,
              "#9c179e"
             ],
             [
              0.4444444444444444,
              "#bd3786"
             ],
             [
              0.5555555555555556,
              "#d8576b"
             ],
             [
              0.6666666666666666,
              "#ed7953"
             ],
             [
              0.7777777777777778,
              "#fb9f3a"
             ],
             [
              0.8888888888888888,
              "#fdca26"
             ],
             [
              1,
              "#f0f921"
             ]
            ],
            "type": "heatmap"
           }
          ],
          "heatmapgl": [
           {
            "colorbar": {
             "outlinewidth": 0,
             "ticks": ""
            },
            "colorscale": [
             [
              0,
              "#0d0887"
             ],
             [
              0.1111111111111111,
              "#46039f"
             ],
             [
              0.2222222222222222,
              "#7201a8"
             ],
             [
              0.3333333333333333,
              "#9c179e"
             ],
             [
              0.4444444444444444,
              "#bd3786"
             ],
             [
              0.5555555555555556,
              "#d8576b"
             ],
             [
              0.6666666666666666,
              "#ed7953"
             ],
             [
              0.7777777777777778,
              "#fb9f3a"
             ],
             [
              0.8888888888888888,
              "#fdca26"
             ],
             [
              1,
              "#f0f921"
             ]
            ],
            "type": "heatmapgl"
           }
          ],
          "histogram": [
           {
            "marker": {
             "pattern": {
              "fillmode": "overlay",
              "size": 10,
              "solidity": 0.2
             }
            },
            "type": "histogram"
           }
          ],
          "histogram2d": [
           {
            "colorbar": {
             "outlinewidth": 0,
             "ticks": ""
            },
            "colorscale": [
             [
              0,
              "#0d0887"
             ],
             [
              0.1111111111111111,
              "#46039f"
             ],
             [
              0.2222222222222222,
              "#7201a8"
             ],
             [
              0.3333333333333333,
              "#9c179e"
             ],
             [
              0.4444444444444444,
              "#bd3786"
             ],
             [
              0.5555555555555556,
              "#d8576b"
             ],
             [
              0.6666666666666666,
              "#ed7953"
             ],
             [
              0.7777777777777778,
              "#fb9f3a"
             ],
             [
              0.8888888888888888,
              "#fdca26"
             ],
             [
              1,
              "#f0f921"
             ]
            ],
            "type": "histogram2d"
           }
          ],
          "histogram2dcontour": [
           {
            "colorbar": {
             "outlinewidth": 0,
             "ticks": ""
            },
            "colorscale": [
             [
              0,
              "#0d0887"
             ],
             [
              0.1111111111111111,
              "#46039f"
             ],
             [
              0.2222222222222222,
              "#7201a8"
             ],
             [
              0.3333333333333333,
              "#9c179e"
             ],
             [
              0.4444444444444444,
              "#bd3786"
             ],
             [
              0.5555555555555556,
              "#d8576b"
             ],
             [
              0.6666666666666666,
              "#ed7953"
             ],
             [
              0.7777777777777778,
              "#fb9f3a"
             ],
             [
              0.8888888888888888,
              "#fdca26"
             ],
             [
              1,
              "#f0f921"
             ]
            ],
            "type": "histogram2dcontour"
           }
          ],
          "mesh3d": [
           {
            "colorbar": {
             "outlinewidth": 0,
             "ticks": ""
            },
            "type": "mesh3d"
           }
          ],
          "parcoords": [
           {
            "line": {
             "colorbar": {
              "outlinewidth": 0,
              "ticks": ""
             }
            },
            "type": "parcoords"
           }
          ],
          "pie": [
           {
            "automargin": true,
            "type": "pie"
           }
          ],
          "scatter": [
           {
            "fillpattern": {
             "fillmode": "overlay",
             "size": 10,
             "solidity": 0.2
            },
            "type": "scatter"
           }
          ],
          "scatter3d": [
           {
            "line": {
             "colorbar": {
              "outlinewidth": 0,
              "ticks": ""
             }
            },
            "marker": {
             "colorbar": {
              "outlinewidth": 0,
              "ticks": ""
             }
            },
            "type": "scatter3d"
           }
          ],
          "scattercarpet": [
           {
            "marker": {
             "colorbar": {
              "outlinewidth": 0,
              "ticks": ""
             }
            },
            "type": "scattercarpet"
           }
          ],
          "scattergeo": [
           {
            "marker": {
             "colorbar": {
              "outlinewidth": 0,
              "ticks": ""
             }
            },
            "type": "scattergeo"
           }
          ],
          "scattergl": [
           {
            "marker": {
             "colorbar": {
              "outlinewidth": 0,
              "ticks": ""
             }
            },
            "type": "scattergl"
           }
          ],
          "scattermapbox": [
           {
            "marker": {
             "colorbar": {
              "outlinewidth": 0,
              "ticks": ""
             }
            },
            "type": "scattermapbox"
           }
          ],
          "scatterpolar": [
           {
            "marker": {
             "colorbar": {
              "outlinewidth": 0,
              "ticks": ""
             }
            },
            "type": "scatterpolar"
           }
          ],
          "scatterpolargl": [
           {
            "marker": {
             "colorbar": {
              "outlinewidth": 0,
              "ticks": ""
             }
            },
            "type": "scatterpolargl"
           }
          ],
          "scatterternary": [
           {
            "marker": {
             "colorbar": {
              "outlinewidth": 0,
              "ticks": ""
             }
            },
            "type": "scatterternary"
           }
          ],
          "surface": [
           {
            "colorbar": {
             "outlinewidth": 0,
             "ticks": ""
            },
            "colorscale": [
             [
              0,
              "#0d0887"
             ],
             [
              0.1111111111111111,
              "#46039f"
             ],
             [
              0.2222222222222222,
              "#7201a8"
             ],
             [
              0.3333333333333333,
              "#9c179e"
             ],
             [
              0.4444444444444444,
              "#bd3786"
             ],
             [
              0.5555555555555556,
              "#d8576b"
             ],
             [
              0.6666666666666666,
              "#ed7953"
             ],
             [
              0.7777777777777778,
              "#fb9f3a"
             ],
             [
              0.8888888888888888,
              "#fdca26"
             ],
             [
              1,
              "#f0f921"
             ]
            ],
            "type": "surface"
           }
          ],
          "table": [
           {
            "cells": {
             "fill": {
              "color": "#EBF0F8"
             },
             "line": {
              "color": "white"
             }
            },
            "header": {
             "fill": {
              "color": "#C8D4E3"
             },
             "line": {
              "color": "white"
             }
            },
            "type": "table"
           }
          ]
         },
         "layout": {
          "annotationdefaults": {
           "arrowcolor": "#2a3f5f",
           "arrowhead": 0,
           "arrowwidth": 1
          },
          "autotypenumbers": "strict",
          "coloraxis": {
           "colorbar": {
            "outlinewidth": 0,
            "ticks": ""
           }
          },
          "colorscale": {
           "diverging": [
            [
             0,
             "#8e0152"
            ],
            [
             0.1,
             "#c51b7d"
            ],
            [
             0.2,
             "#de77ae"
            ],
            [
             0.3,
             "#f1b6da"
            ],
            [
             0.4,
             "#fde0ef"
            ],
            [
             0.5,
             "#f7f7f7"
            ],
            [
             0.6,
             "#e6f5d0"
            ],
            [
             0.7,
             "#b8e186"
            ],
            [
             0.8,
             "#7fbc41"
            ],
            [
             0.9,
             "#4d9221"
            ],
            [
             1,
             "#276419"
            ]
           ],
           "sequential": [
            [
             0,
             "#0d0887"
            ],
            [
             0.1111111111111111,
             "#46039f"
            ],
            [
             0.2222222222222222,
             "#7201a8"
            ],
            [
             0.3333333333333333,
             "#9c179e"
            ],
            [
             0.4444444444444444,
             "#bd3786"
            ],
            [
             0.5555555555555556,
             "#d8576b"
            ],
            [
             0.6666666666666666,
             "#ed7953"
            ],
            [
             0.7777777777777778,
             "#fb9f3a"
            ],
            [
             0.8888888888888888,
             "#fdca26"
            ],
            [
             1,
             "#f0f921"
            ]
           ],
           "sequentialminus": [
            [
             0,
             "#0d0887"
            ],
            [
             0.1111111111111111,
             "#46039f"
            ],
            [
             0.2222222222222222,
             "#7201a8"
            ],
            [
             0.3333333333333333,
             "#9c179e"
            ],
            [
             0.4444444444444444,
             "#bd3786"
            ],
            [
             0.5555555555555556,
             "#d8576b"
            ],
            [
             0.6666666666666666,
             "#ed7953"
            ],
            [
             0.7777777777777778,
             "#fb9f3a"
            ],
            [
             0.8888888888888888,
             "#fdca26"
            ],
            [
             1,
             "#f0f921"
            ]
           ]
          },
          "colorway": [
           "#636efa",
           "#EF553B",
           "#00cc96",
           "#ab63fa",
           "#FFA15A",
           "#19d3f3",
           "#FF6692",
           "#B6E880",
           "#FF97FF",
           "#FECB52"
          ],
          "font": {
           "color": "#2a3f5f"
          },
          "geo": {
           "bgcolor": "white",
           "lakecolor": "white",
           "landcolor": "white",
           "showlakes": true,
           "showland": true,
           "subunitcolor": "#C8D4E3"
          },
          "hoverlabel": {
           "align": "left"
          },
          "hovermode": "closest",
          "mapbox": {
           "style": "light"
          },
          "paper_bgcolor": "white",
          "plot_bgcolor": "white",
          "polar": {
           "angularaxis": {
            "gridcolor": "#EBF0F8",
            "linecolor": "#EBF0F8",
            "ticks": ""
           },
           "bgcolor": "white",
           "radialaxis": {
            "gridcolor": "#EBF0F8",
            "linecolor": "#EBF0F8",
            "ticks": ""
           }
          },
          "scene": {
           "xaxis": {
            "backgroundcolor": "white",
            "gridcolor": "#DFE8F3",
            "gridwidth": 2,
            "linecolor": "#EBF0F8",
            "showbackground": true,
            "ticks": "",
            "zerolinecolor": "#EBF0F8"
           },
           "yaxis": {
            "backgroundcolor": "white",
            "gridcolor": "#DFE8F3",
            "gridwidth": 2,
            "linecolor": "#EBF0F8",
            "showbackground": true,
            "ticks": "",
            "zerolinecolor": "#EBF0F8"
           },
           "zaxis": {
            "backgroundcolor": "white",
            "gridcolor": "#DFE8F3",
            "gridwidth": 2,
            "linecolor": "#EBF0F8",
            "showbackground": true,
            "ticks": "",
            "zerolinecolor": "#EBF0F8"
           }
          },
          "shapedefaults": {
           "line": {
            "color": "#2a3f5f"
           }
          },
          "ternary": {
           "aaxis": {
            "gridcolor": "#DFE8F3",
            "linecolor": "#A2B1C6",
            "ticks": ""
           },
           "baxis": {
            "gridcolor": "#DFE8F3",
            "linecolor": "#A2B1C6",
            "ticks": ""
           },
           "bgcolor": "white",
           "caxis": {
            "gridcolor": "#DFE8F3",
            "linecolor": "#A2B1C6",
            "ticks": ""
           }
          },
          "title": {
           "x": 0.05
          },
          "xaxis": {
           "automargin": true,
           "gridcolor": "#EBF0F8",
           "linecolor": "#EBF0F8",
           "ticks": "",
           "title": {
            "standoff": 15
           },
           "zerolinecolor": "#EBF0F8",
           "zerolinewidth": 2
          },
          "yaxis": {
           "automargin": true,
           "gridcolor": "#EBF0F8",
           "linecolor": "#EBF0F8",
           "ticks": "",
           "title": {
            "standoff": 15
           },
           "zerolinecolor": "#EBF0F8",
           "zerolinewidth": 2
          }
         }
        },
        "width": 800,
        "xaxis": {
         "anchor": "y",
         "domain": [
          0,
          1
         ],
         "title": {
          "text": ""
         }
        },
        "yaxis": {
         "anchor": "x",
         "domain": [
          0,
          1
         ],
         "title": {
          "text": ""
         }
        }
       }
      },
      "text/html": [
       "<div>                            <div id=\"b0878744-4768-4be5-ac83-bea499efa41d\" class=\"plotly-graph-div\" style=\"height:600px; width:800px;\"></div>            <script type=\"text/javascript\">                require([\"plotly\"], function(Plotly) {                    window.PLOTLYENV=window.PLOTLYENV || {};                                    if (document.getElementById(\"b0878744-4768-4be5-ac83-bea499efa41d\")) {                    Plotly.newPlot(                        \"b0878744-4768-4be5-ac83-bea499efa41d\",                        [{\"hovertemplate\":\"Solid Solution Phases=True\\u003cbr\\u003e=%{y}\\u003cbr\\u003etext=%{text}\\u003cextra\\u003e\\u003c\\u002fextra\\u003e\",\"legendgroup\":\"True\",\"marker\":{\"color\":\"#FECB52\",\"symbol\":\"circle\"},\"mode\":\"markers+text\",\"name\":\"True\",\"orientation\":\"v\",\"showlegend\":true,\"text\":[\"\\u003cb\\u003eSS304L\\u003c\\u002fb\\u003e\",\"\",\"\",\"\",\"\",\"\",\"\\u003cb\\u003eCr\\u003c\\u002fb\\u003e\",\"\",\"\",\"\",\"\",\"\",\"\",\"\",\"\",\"\",\"\",\"\",\"\",\"\",\"\",\"\",\"\",\"\",\"\",\"\",\"\",\"\",\"\",\"\",\"\",\"\",\"\",\"\",\"\",\"\",\"\",\"\",\"\",\"\",\"\",\"\",\"\",\"\",\"\",\"\",\"\",\"\",\"\",\"\",\"\",\"\",\"\",\"\",\"\",\"\",\"\",\"\",\"\",\"\",\"\",\"\",\"\",\"\",\"\",\"\",\"\",\"\",\"\",\"\",\"\",\"\",\"\",\"\",\"\",\"\",\"\",\"\",\"\",\"\",\"\",\"\",\"\",\"\",\"\",\"\",\"\",\"\",\"\",\"\",\"\",\"\",\"\",\"\",\"\",\"\",\"\",\"\",\"\",\"\",\"\",\"\",\"\",\"\",\"\",\"\",\"\",\"\",\"\",\"\",\"\",\"\",\"\",\"\",\"\",\"\",\"\",\"\",\"\",\"\",\"\",\"\",\"\",\"\",\"\",\"\",\"\",\"\",\"\",\"\",\"\",\"\",\"\",\"\",\"\",\"\",\"\",\"\",\"\",\"\",\"\",\"\",\"\",\"\",\"\",\"\",\"\",\"\",\"\",\"\",\"\",\"\",\"\",\"\",\"\",\"\",\"\",\"\",\"\",\"\",\"\",\"\",\"\",\"\",\"\",\"\",\"\",\"\",\"\",\"\",\"\",\"\",\"\",\"\",\"\",\"\",\"\",\"\",\"\",\"\",\"\",\"\",\"\",\"\",\"\",\"\",\"\",\"\",\"\",\"\",\"\",\"\",\"\",\"\",\"\",\"\",\"\",\"\",\"\",\"\",\"\",\"\",\"\",\"\",\"\",\"\",\"\",\"\",\"\",\"\",\"\",\"\",\"\",\"\",\"\",\"\",\"\",\"\",\"\",\"\",\"\",\"\",\"\",\"\",\"\",\"\",\"\",\"\",\"\",\"\",\"\",\"\",\"\",\"\",\"\",\"\",\"\",\"\",\"\",\"\",\"\",\"\",\"\",\"\",\"\",\"\",\"\",\"\",\"\",\"\",\"\",\"\",\"\\u003cb\\u003eNi\\u003c\\u002fb\\u003e\"],\"x\":[-0.866025,0.5051812499999999,0.57735,0.6495187499999999,0.7216875,0.7938562500000002,0.866025,-0.8299406250000001,0.324759375,0.3969281250000001,0.469096875,0.541265625,0.613434375,0.685603125,0.7577718750000001,0.8299406250000001,-0.79385625,0.21650625000000004,0.28867500000000007,0.36084375,0.4330125000000001,0.50518125,0.57735,0.64951875,0.7216875,0.79385625,-0.757771875,0.108253125,0.18042187499999998,0.252590625,0.3247593750000001,0.396928125,0.4690968750000001,0.5412656250000001,0.613434375,0.6856031250000001,0.757771875,-0.7216875,-0.64951875,-1.6024681581683354e-17,0.07216875,0.14433750000000004,0.21650624999999993,0.288675,0.3608437500000001,0.4330125,0.5051812500000001,0.57735,0.64951875,0.7216875,-0.685603125,-0.613434375,-0.180421875,-0.10825312499999999,-0.036084375000000016,0.036084375,0.10825312500000002,0.18042187499999998,0.25259062499999996,0.324759375,0.3969281250000001,0.469096875,0.5412656250000001,0.6134343750000001,0.685603125,-0.64951875,-0.57735,-0.50518125,-0.28867499999999996,-0.21650625,-0.14433749999999998,-0.07216875000000002,0.0,0.07216875000000002,0.14433749999999998,0.21650625,0.28867499999999996,0.36084375,0.4330125000000001,0.50518125,0.5773500000000001,0.64951875,-0.6134343750000001,-0.541265625,-0.469096875,-0.3969281250000001,-0.32475937499999996,-0.252590625,-0.18042187499999998,-0.10825312500000002,-0.036084375,0.036084375000000016,0.10825312499999999,0.180421875,0.252590625,0.32475937499999996,0.396928125,0.4690968750000001,0.5412656250000001,0.6134343750000001,-0.57735,-0.50518125,-0.4330125000000001,-0.36084374999999996,-0.288675,-0.21650624999999998,-0.14433750000000004,-0.07216875,1.6024681581683354e-17,0.07216874999999999,0.1443375,0.21650625,0.288675,0.36084374999999996,0.4330125,0.5051812500000001,0.57735,-0.5412656250000001,-0.4690968750000001,-0.39692812499999997,-0.324759375,-0.252590625,-0.18042187500000004,-0.108253125,-0.03608437499999999,0.03608437499999999,0.108253125,0.180421875,0.252590625,0.324759375,0.39692812499999997,0.469096875,0.5412656250000001,-0.50518125,-0.43301249999999997,-0.36084375,-0.288675,-0.21650625000000004,-0.1443375,-0.07216874999999999,-1.6024681581683354e-17,0.07216875,0.1443375,0.21650625,0.288675,0.36084375,0.43301249999999997,0.50518125,-0.46909687499999997,-0.396928125,-0.324759375,-0.252590625,-0.180421875,-0.10825312499999999,-0.036084375000000016,0.036084375,0.10825312499999999,0.180421875,0.252590625,0.324759375,0.396928125,0.46909687499999997,-0.4330125,-0.36084375,-0.288675,-0.21650625,-0.14433749999999998,-0.07216875000000002,0.0,0.07216874999999999,0.1443375,0.21650625,0.288675,0.36084375,0.4330125,-0.396928125,-0.324759375,-0.252590625,-0.18042187499999998,-0.10825312500000002,-0.036084375,0.036084374999999995,0.10825312500000002,0.180421875,0.252590625,0.324759375,0.396928125,-0.36084375,-0.288675,-0.21650624999999998,-0.14433750000000004,-0.07216875,-8.012340790841677e-18,0.07216875000000002,0.1443375,0.21650625,0.288675,0.36084375,-0.324759375,-0.252590625,-0.18042187500000004,-0.108253125,-0.03608437500000001,0.03608437500000001,0.108253125,0.180421875,0.252590625,0.324759375,-0.288675,-0.21650625000000004,-0.1443375,-0.07216875000000002,8.012340790841677e-18,0.07216875,0.1443375,0.21650625,0.288675,-0.252590625,-0.180421875,-0.10825312500000002,-0.036084374999999995,0.036084375,0.108253125,0.180421875,0.252590625,-0.21650625,-0.1443375,-0.07216874999999999,0.0,0.07216875,0.1443375,0.21650625,-0.180421875,-0.10825312499999999,-0.036084375,0.03608437500000001,0.108253125,0.180421875,-0.1443375,-0.07216875,4.0061703954208385e-18,0.07216875,0.1443375,-0.108253125,-0.036084374999999995,0.036084375,0.108253125,-0.07216875,2.0030851977104193e-18,0.07216875,-0.036084375,0.036084375,0.0],\"xaxis\":\"x\",\"y\":[-0.5,-0.5,-0.5,-0.5,-0.5,-0.5,-0.5,-0.4375,-0.4375,-0.4375,-0.4375,-0.43749999999999994,-0.4375,-0.4375,-0.43749999999999994,-0.4375,-0.375,-0.375,-0.375,-0.375,-0.37500000000000006,-0.375,-0.375,-0.37500000000000006,-0.375,-0.375,-0.3125,-0.3125,-0.3125,-0.3125,-0.3125,-0.3125,-0.3125,-0.3125,-0.3125,-0.3125,-0.3125,-0.25,-0.25,-0.25,-0.25,-0.25,-0.25,-0.25,-0.25,-0.25,-0.25,-0.25,-0.25,-0.25,-0.18749999999999997,-0.1875,-0.1875,-0.18749999999999997,-0.1875,-0.1875,-0.18749999999999997,-0.1875,-0.18749999999999997,-0.1875,-0.1875,-0.18749999999999997,-0.1875,-0.1875,-0.18749999999999997,-0.125,-0.12500000000000003,-0.12499999999999997,-0.125,-0.125,-0.125,-0.125,-0.125,-0.125,-0.125,-0.125,-0.12499999999999999,-0.125,-0.125,-0.12499999999999997,-0.12500000000000003,-0.125,-0.0625,-0.062499999999999944,-0.0625,-0.0625,-0.062499999999999944,-0.0625,-0.06249999999999997,-0.0625,-0.06249999999999997,-0.06249999999999997,-0.0625,-0.06249999999999997,-0.062499999999999986,-0.06249999999999996,-0.0625,-0.06249999999999998,-0.06249999999999996,-0.0625,0.0,0.0,-5.551115123125783e-17,0.0,0.0,-2.7755575615628914e-17,-2.7755575615628914e-17,-2.7755575615628914e-17,0.0,-2.7755575615628914e-17,-2.7755575615628914e-17,-1.3877787807814457e-17,-1.3877787807814457e-17,0.0,-3.469446951953614e-17,-1.734723475976807e-17,0.0,0.0625,0.0625,0.0625,0.0625,0.06250000000000003,0.06249999999999997,0.0625,0.0625,0.0625,0.0625,0.062499999999999986,0.06250000000000001,0.0625,0.06250000000000003,0.062499999999999986,0.0625,0.125,0.12500000000000006,0.125,0.12500000000000003,0.12500000000000003,0.125,0.12500000000000003,0.12500000000000003,0.125,0.125,0.125,0.12500000000000003,0.12500000000000003,0.12500000000000003,0.125,0.1875,0.1875,0.18749999999999997,0.18749999999999997,0.1875,0.18749999999999997,0.18749999999999997,0.1875,0.18749999999999994,0.1875,0.18749999999999997,0.1875,0.18749999999999997,0.1875,0.25,0.25,0.24999999999999997,0.25,0.25,0.24999999999999997,0.25,0.24999999999999994,0.25000000000000006,0.25,0.24999999999999997,0.25000000000000006,0.25,0.3125,0.3124999999999999,0.31249999999999994,0.3125,0.3125,0.31249999999999994,0.31249999999999994,0.31249999999999994,0.3125,0.31249999999999994,0.31249999999999994,0.3125,0.375,0.375,0.3750000000000001,0.375,0.375,0.375,0.37500000000000006,0.375,0.37500000000000006,0.37500000000000006,0.375,0.4375,0.4375,0.4375,0.4375,0.43749999999999994,0.43750000000000006,0.4375,0.43749999999999994,0.43750000000000006,0.4375,0.5,0.4999999999999999,0.5,0.49999999999999994,0.49999999999999994,0.5,0.49999999999999994,0.49999999999999994,0.5,0.5625,0.5625,0.5625000000000001,0.5625,0.5625,0.5625000000000001,0.5625,0.5625,0.625,0.625,0.625,0.625,0.625,0.625,0.625,0.6875,0.6874999999999999,0.6875,0.6875,0.6874999999999999,0.6875,0.75,0.75,0.7500000000000001,0.75,0.75,0.8125,0.8125,0.8125,0.8125,0.875,0.8749999999999999,0.875,0.9375,0.9375,1.0],\"yaxis\":\"y\",\"type\":\"scatter\"},{\"hovertemplate\":\"Solid Solution Phases=False\\u003cbr\\u003e=%{y}\\u003cbr\\u003etext=%{text}\\u003cextra\\u003e\\u003c\\u002fextra\\u003e\",\"legendgroup\":\"False\",\"marker\":{\"color\":\"blue\",\"symbol\":\"circle\"},\"mode\":\"markers+text\",\"name\":\"False\",\"orientation\":\"v\",\"showlegend\":true,\"text\":[\"\",\"\",\"\",\"\",\"\",\"\",\"\",\"\",\"\",\"\",\"\",\"\",\"\",\"\",\"\",\"\",\"\",\"\",\"\",\"\",\"\",\"\",\"\",\"\",\"\",\"\",\"\",\"\",\"\",\"\",\"\",\"\",\"\",\"\",\"\",\"\",\"\",\"\",\"\",\"\",\"\",\"\",\"\",\"\",\"\",\"\",\"\",\"\",\"\",\"\",\"\",\"\",\"\",\"\",\"\",\"\",\"\",\"\",\"\",\"\",\"\",\"\",\"\",\"\",\"\",\"\",\"\",\"\",\"\",\"\",\"\",\"\"],\"x\":[-0.79385625,-0.7216875,-0.64951875,-0.57735,-0.50518125,-0.4330125,-0.3608437500000001,-0.28867499999999996,-0.21650625,-0.14433750000000004,-0.07216874999999998,0.0,0.07216874999999996,0.14433749999999998,0.21650625000000007,0.288675,0.3608437500000001,0.4330125,-0.757771875,-0.6856031250000001,-0.6134343750000001,-0.541265625,-0.469096875,-0.3969281250000001,-0.32475937499999996,-0.252590625,-0.18042187500000004,-0.10825312499999998,-0.036084375,0.036084375000000016,0.10825312499999994,0.180421875,0.25259062500000007,-0.7216875,-0.64951875,-0.57735,-0.50518125,-0.4330125000000001,-0.36084374999999996,-0.288675,-0.21650625000000004,-0.14433749999999998,-0.07216875,1.6024681581683354e-17,0.07216874999999999,0.14433749999999995,-0.6856031250000001,-0.613434375,-0.5412656250000001,-0.4690968750000001,-0.39692812499999997,-0.324759375,-0.25259062500000007,-0.18042187499999998,-0.108253125,-0.03608437499999999,0.03608437499999999,-0.57735,-0.50518125,-0.43301249999999997,-0.36084375,-0.28867500000000007,-0.21650624999999998,-0.1443375,-0.07216874999999999,-0.5412656250000001,-0.46909687499999997,-0.396928125,-0.3247593750000001,-0.25259062499999996,-0.4330125,-0.3608437500000001],\"xaxis\":\"x\",\"y\":[-0.5,-0.5,-0.5,-0.5,-0.5,-0.5,-0.5,-0.5,-0.5,-0.5,-0.5,-0.5,-0.5,-0.5,-0.5,-0.5,-0.5,-0.5,-0.4375,-0.4375,-0.4375,-0.4375,-0.4375,-0.4375,-0.4375,-0.4375,-0.4375,-0.4375,-0.4375,-0.4375,-0.4375,-0.4375,-0.4375,-0.375,-0.375,-0.375,-0.375,-0.375,-0.375,-0.375,-0.375,-0.375,-0.375,-0.375,-0.375,-0.375,-0.3125,-0.3125,-0.3125,-0.3125,-0.3125,-0.3125,-0.3125,-0.3125,-0.3125,-0.3125,-0.3125,-0.25,-0.25,-0.25,-0.25,-0.25,-0.25,-0.25,-0.25,-0.1875,-0.18749999999999997,-0.1875,-0.1875,-0.18749999999999997,-0.125,-0.125],\"yaxis\":\"y\",\"type\":\"scatter\"}],                        {\"template\":{\"data\":{\"barpolar\":[{\"marker\":{\"line\":{\"color\":\"white\",\"width\":0.5},\"pattern\":{\"fillmode\":\"overlay\",\"size\":10,\"solidity\":0.2}},\"type\":\"barpolar\"}],\"bar\":[{\"error_x\":{\"color\":\"#2a3f5f\"},\"error_y\":{\"color\":\"#2a3f5f\"},\"marker\":{\"line\":{\"color\":\"white\",\"width\":0.5},\"pattern\":{\"fillmode\":\"overlay\",\"size\":10,\"solidity\":0.2}},\"type\":\"bar\"}],\"carpet\":[{\"aaxis\":{\"endlinecolor\":\"#2a3f5f\",\"gridcolor\":\"#C8D4E3\",\"linecolor\":\"#C8D4E3\",\"minorgridcolor\":\"#C8D4E3\",\"startlinecolor\":\"#2a3f5f\"},\"baxis\":{\"endlinecolor\":\"#2a3f5f\",\"gridcolor\":\"#C8D4E3\",\"linecolor\":\"#C8D4E3\",\"minorgridcolor\":\"#C8D4E3\",\"startlinecolor\":\"#2a3f5f\"},\"type\":\"carpet\"}],\"choropleth\":[{\"colorbar\":{\"outlinewidth\":0,\"ticks\":\"\"},\"type\":\"choropleth\"}],\"contourcarpet\":[{\"colorbar\":{\"outlinewidth\":0,\"ticks\":\"\"},\"type\":\"contourcarpet\"}],\"contour\":[{\"colorbar\":{\"outlinewidth\":0,\"ticks\":\"\"},\"colorscale\":[[0.0,\"#0d0887\"],[0.1111111111111111,\"#46039f\"],[0.2222222222222222,\"#7201a8\"],[0.3333333333333333,\"#9c179e\"],[0.4444444444444444,\"#bd3786\"],[0.5555555555555556,\"#d8576b\"],[0.6666666666666666,\"#ed7953\"],[0.7777777777777778,\"#fb9f3a\"],[0.8888888888888888,\"#fdca26\"],[1.0,\"#f0f921\"]],\"type\":\"contour\"}],\"heatmapgl\":[{\"colorbar\":{\"outlinewidth\":0,\"ticks\":\"\"},\"colorscale\":[[0.0,\"#0d0887\"],[0.1111111111111111,\"#46039f\"],[0.2222222222222222,\"#7201a8\"],[0.3333333333333333,\"#9c179e\"],[0.4444444444444444,\"#bd3786\"],[0.5555555555555556,\"#d8576b\"],[0.6666666666666666,\"#ed7953\"],[0.7777777777777778,\"#fb9f3a\"],[0.8888888888888888,\"#fdca26\"],[1.0,\"#f0f921\"]],\"type\":\"heatmapgl\"}],\"heatmap\":[{\"colorbar\":{\"outlinewidth\":0,\"ticks\":\"\"},\"colorscale\":[[0.0,\"#0d0887\"],[0.1111111111111111,\"#46039f\"],[0.2222222222222222,\"#7201a8\"],[0.3333333333333333,\"#9c179e\"],[0.4444444444444444,\"#bd3786\"],[0.5555555555555556,\"#d8576b\"],[0.6666666666666666,\"#ed7953\"],[0.7777777777777778,\"#fb9f3a\"],[0.8888888888888888,\"#fdca26\"],[1.0,\"#f0f921\"]],\"type\":\"heatmap\"}],\"histogram2dcontour\":[{\"colorbar\":{\"outlinewidth\":0,\"ticks\":\"\"},\"colorscale\":[[0.0,\"#0d0887\"],[0.1111111111111111,\"#46039f\"],[0.2222222222222222,\"#7201a8\"],[0.3333333333333333,\"#9c179e\"],[0.4444444444444444,\"#bd3786\"],[0.5555555555555556,\"#d8576b\"],[0.6666666666666666,\"#ed7953\"],[0.7777777777777778,\"#fb9f3a\"],[0.8888888888888888,\"#fdca26\"],[1.0,\"#f0f921\"]],\"type\":\"histogram2dcontour\"}],\"histogram2d\":[{\"colorbar\":{\"outlinewidth\":0,\"ticks\":\"\"},\"colorscale\":[[0.0,\"#0d0887\"],[0.1111111111111111,\"#46039f\"],[0.2222222222222222,\"#7201a8\"],[0.3333333333333333,\"#9c179e\"],[0.4444444444444444,\"#bd3786\"],[0.5555555555555556,\"#d8576b\"],[0.6666666666666666,\"#ed7953\"],[0.7777777777777778,\"#fb9f3a\"],[0.8888888888888888,\"#fdca26\"],[1.0,\"#f0f921\"]],\"type\":\"histogram2d\"}],\"histogram\":[{\"marker\":{\"pattern\":{\"fillmode\":\"overlay\",\"size\":10,\"solidity\":0.2}},\"type\":\"histogram\"}],\"mesh3d\":[{\"colorbar\":{\"outlinewidth\":0,\"ticks\":\"\"},\"type\":\"mesh3d\"}],\"parcoords\":[{\"line\":{\"colorbar\":{\"outlinewidth\":0,\"ticks\":\"\"}},\"type\":\"parcoords\"}],\"pie\":[{\"automargin\":true,\"type\":\"pie\"}],\"scatter3d\":[{\"line\":{\"colorbar\":{\"outlinewidth\":0,\"ticks\":\"\"}},\"marker\":{\"colorbar\":{\"outlinewidth\":0,\"ticks\":\"\"}},\"type\":\"scatter3d\"}],\"scattercarpet\":[{\"marker\":{\"colorbar\":{\"outlinewidth\":0,\"ticks\":\"\"}},\"type\":\"scattercarpet\"}],\"scattergeo\":[{\"marker\":{\"colorbar\":{\"outlinewidth\":0,\"ticks\":\"\"}},\"type\":\"scattergeo\"}],\"scattergl\":[{\"marker\":{\"colorbar\":{\"outlinewidth\":0,\"ticks\":\"\"}},\"type\":\"scattergl\"}],\"scattermapbox\":[{\"marker\":{\"colorbar\":{\"outlinewidth\":0,\"ticks\":\"\"}},\"type\":\"scattermapbox\"}],\"scatterpolargl\":[{\"marker\":{\"colorbar\":{\"outlinewidth\":0,\"ticks\":\"\"}},\"type\":\"scatterpolargl\"}],\"scatterpolar\":[{\"marker\":{\"colorbar\":{\"outlinewidth\":0,\"ticks\":\"\"}},\"type\":\"scatterpolar\"}],\"scatter\":[{\"fillpattern\":{\"fillmode\":\"overlay\",\"size\":10,\"solidity\":0.2},\"type\":\"scatter\"}],\"scatterternary\":[{\"marker\":{\"colorbar\":{\"outlinewidth\":0,\"ticks\":\"\"}},\"type\":\"scatterternary\"}],\"surface\":[{\"colorbar\":{\"outlinewidth\":0,\"ticks\":\"\"},\"colorscale\":[[0.0,\"#0d0887\"],[0.1111111111111111,\"#46039f\"],[0.2222222222222222,\"#7201a8\"],[0.3333333333333333,\"#9c179e\"],[0.4444444444444444,\"#bd3786\"],[0.5555555555555556,\"#d8576b\"],[0.6666666666666666,\"#ed7953\"],[0.7777777777777778,\"#fb9f3a\"],[0.8888888888888888,\"#fdca26\"],[1.0,\"#f0f921\"]],\"type\":\"surface\"}],\"table\":[{\"cells\":{\"fill\":{\"color\":\"#EBF0F8\"},\"line\":{\"color\":\"white\"}},\"header\":{\"fill\":{\"color\":\"#C8D4E3\"},\"line\":{\"color\":\"white\"}},\"type\":\"table\"}]},\"layout\":{\"annotationdefaults\":{\"arrowcolor\":\"#2a3f5f\",\"arrowhead\":0,\"arrowwidth\":1},\"autotypenumbers\":\"strict\",\"coloraxis\":{\"colorbar\":{\"outlinewidth\":0,\"ticks\":\"\"}},\"colorscale\":{\"diverging\":[[0,\"#8e0152\"],[0.1,\"#c51b7d\"],[0.2,\"#de77ae\"],[0.3,\"#f1b6da\"],[0.4,\"#fde0ef\"],[0.5,\"#f7f7f7\"],[0.6,\"#e6f5d0\"],[0.7,\"#b8e186\"],[0.8,\"#7fbc41\"],[0.9,\"#4d9221\"],[1,\"#276419\"]],\"sequential\":[[0.0,\"#0d0887\"],[0.1111111111111111,\"#46039f\"],[0.2222222222222222,\"#7201a8\"],[0.3333333333333333,\"#9c179e\"],[0.4444444444444444,\"#bd3786\"],[0.5555555555555556,\"#d8576b\"],[0.6666666666666666,\"#ed7953\"],[0.7777777777777778,\"#fb9f3a\"],[0.8888888888888888,\"#fdca26\"],[1.0,\"#f0f921\"]],\"sequentialminus\":[[0.0,\"#0d0887\"],[0.1111111111111111,\"#46039f\"],[0.2222222222222222,\"#7201a8\"],[0.3333333333333333,\"#9c179e\"],[0.4444444444444444,\"#bd3786\"],[0.5555555555555556,\"#d8576b\"],[0.6666666666666666,\"#ed7953\"],[0.7777777777777778,\"#fb9f3a\"],[0.8888888888888888,\"#fdca26\"],[1.0,\"#f0f921\"]]},\"colorway\":[\"#636efa\",\"#EF553B\",\"#00cc96\",\"#ab63fa\",\"#FFA15A\",\"#19d3f3\",\"#FF6692\",\"#B6E880\",\"#FF97FF\",\"#FECB52\"],\"font\":{\"color\":\"#2a3f5f\"},\"geo\":{\"bgcolor\":\"white\",\"lakecolor\":\"white\",\"landcolor\":\"white\",\"showlakes\":true,\"showland\":true,\"subunitcolor\":\"#C8D4E3\"},\"hoverlabel\":{\"align\":\"left\"},\"hovermode\":\"closest\",\"mapbox\":{\"style\":\"light\"},\"paper_bgcolor\":\"white\",\"plot_bgcolor\":\"white\",\"polar\":{\"angularaxis\":{\"gridcolor\":\"#EBF0F8\",\"linecolor\":\"#EBF0F8\",\"ticks\":\"\"},\"bgcolor\":\"white\",\"radialaxis\":{\"gridcolor\":\"#EBF0F8\",\"linecolor\":\"#EBF0F8\",\"ticks\":\"\"}},\"scene\":{\"xaxis\":{\"backgroundcolor\":\"white\",\"gridcolor\":\"#DFE8F3\",\"gridwidth\":2,\"linecolor\":\"#EBF0F8\",\"showbackground\":true,\"ticks\":\"\",\"zerolinecolor\":\"#EBF0F8\"},\"yaxis\":{\"backgroundcolor\":\"white\",\"gridcolor\":\"#DFE8F3\",\"gridwidth\":2,\"linecolor\":\"#EBF0F8\",\"showbackground\":true,\"ticks\":\"\",\"zerolinecolor\":\"#EBF0F8\"},\"zaxis\":{\"backgroundcolor\":\"white\",\"gridcolor\":\"#DFE8F3\",\"gridwidth\":2,\"linecolor\":\"#EBF0F8\",\"showbackground\":true,\"ticks\":\"\",\"zerolinecolor\":\"#EBF0F8\"}},\"shapedefaults\":{\"line\":{\"color\":\"#2a3f5f\"}},\"ternary\":{\"aaxis\":{\"gridcolor\":\"#DFE8F3\",\"linecolor\":\"#A2B1C6\",\"ticks\":\"\"},\"baxis\":{\"gridcolor\":\"#DFE8F3\",\"linecolor\":\"#A2B1C6\",\"ticks\":\"\"},\"bgcolor\":\"white\",\"caxis\":{\"gridcolor\":\"#DFE8F3\",\"linecolor\":\"#A2B1C6\",\"ticks\":\"\"}},\"title\":{\"x\":0.05},\"xaxis\":{\"automargin\":true,\"gridcolor\":\"#EBF0F8\",\"linecolor\":\"#EBF0F8\",\"ticks\":\"\",\"title\":{\"standoff\":15},\"zerolinecolor\":\"#EBF0F8\",\"zerolinewidth\":2},\"yaxis\":{\"automargin\":true,\"gridcolor\":\"#EBF0F8\",\"linecolor\":\"#EBF0F8\",\"ticks\":\"\",\"title\":{\"standoff\":15},\"zerolinecolor\":\"#EBF0F8\",\"zerolinewidth\":2}}},\"xaxis\":{\"anchor\":\"y\",\"domain\":[0.0,1.0],\"title\":{\"text\":\"\"}},\"yaxis\":{\"anchor\":\"x\",\"domain\":[0.0,1.0],\"title\":{\"text\":\"\"}},\"legend\":{\"title\":{\"text\":\"Solid Solution Phases\"},\"tracegroupgap\":0},\"margin\":{\"t\":60},\"height\":600,\"width\":800},                        {\"responsive\": true}                    ).then(function(){\n",
       "                            \n",
       "var gd = document.getElementById('b0878744-4768-4be5-ac83-bea499efa41d');\n",
       "var x = new MutationObserver(function (mutations, observer) {{\n",
       "        var display = window.getComputedStyle(gd).display;\n",
       "        if (!display || display === 'none') {{\n",
       "            console.log([gd, 'removed!']);\n",
       "            Plotly.purge(gd);\n",
       "            observer.disconnect();\n",
       "        }}\n",
       "}});\n",
       "\n",
       "// Listen for the removal of the full notebook cells\n",
       "var notebookContainer = gd.closest('#notebook-container');\n",
       "if (notebookContainer) {{\n",
       "    x.observe(notebookContainer, {childList: true});\n",
       "}}\n",
       "\n",
       "// Listen for the clearing of the current output cell\n",
       "var outputEl = gd.closest('.output');\n",
       "if (outputEl) {{\n",
       "    x.observe(outputEl, {childList: true});\n",
       "}}\n",
       "\n",
       "                        })                };                });            </script>        </div>"
      ]
     },
     "metadata": {},
     "output_type": "display_data"
    }
   ],
   "source": [
    "pureComponentIndices = nimplex.pure_component_indexes_py(3, slen)\n",
    "labels = ['']*len(gridAtt_projected_df)\n",
    "for comp, idx in zip([\"Ni\", \"Cr\", \"SS304L\"], pureComponentIndices):\n",
    "    labels[idx] = \"<b>\"+comp+\"</b>\"\n",
    "fig = px.scatter(gridAtt_projected_df, x='x', y='y', color=gridFeasible1, text=labels, \n",
    "              template='plotly_white', width=800, height=600, color_discrete_map=color_map, \n",
    "              labels={'color':'Solid Solution Phases', 'x':'', 'y':''})\n",
    "fig.show()"
   ]
  },
  {
   "cell_type": "code",
   "execution_count": 85,
   "metadata": {},
   "outputs": [],
   "source": [
    "from ammap.callables.EqScheil2 import equilibrium_callable2\n",
    "from ammap.callables.EqScheil1 import equilibrium_callable1\n",
    "from ammap.callables.EqScheil1 import elementalSpaceComponents as comp1"
   ]
  },
  {
   "cell_type": "code",
   "execution_count": 86,
   "metadata": {},
   "outputs": [],
   "source": [
    "def system_graphs1(systemIdx, attainableSpaceComponentPositions, ndiv=slen):\n",
    "    gridAtt, gridEl, graphN = nimplex.embeddedpair_simplex_graph_fractional_py(attainableSpaceComponentPositions, ndiv)\n",
    "    gridPhases = process_map(equilibrium_callable1, gridEl)\n",
    "    #gridFeasible = [len(set(p['Phases']) & infeasiblePhases)==0 and p!=[] for p in gridPhases]\n",
    "    gridFeasible = [len(gridPhases[i]['Phases']) != 0 and len(set(gridPhases[i]['Phases']).difference(feasiblePhases)) == 0 and gridPhases[i] != [] for i in range(len(gridPhases))]\n",
    "    edges = []\n",
    "    offset = len(graphN)*systemIdx\n",
    "    for i, nList in enumerate(graphN):\n",
    "        if gridFeasible[i]:\n",
    "            for n in nList:\n",
    "                if gridFeasible[n]:\n",
    "                    edges.append([i+offset, n+offset, 1])\n",
    "    return gridAtt, gridEl, graphN, edges, gridFeasible, gridPhases\n",
    "def system_graphs2(systemIdx, attainableSpaceComponentPositions, ndiv=slen):\n",
    "    gridAtt, gridEl, graphN = nimplex.embeddedpair_simplex_graph_fractional_py(attainableSpaceComponentPositions, ndiv)\n",
    "    gridPhases = process_map(equilibrium_callable2, gridEl)\n",
    "    #gridFeasible = [len(set(p['Phases']) & infeasiblePhases)==0 and p!=[] for p in gridPhases]\n",
    "    gridFeasible = [len(gridPhases[i]['Phases']) != 0 and len(set(gridPhases[i]['Phases']).difference(feasiblePhases)) == 0 and gridPhases[i] != [] for i in range(len(gridPhases))]\n",
    "    edges = []\n",
    "    offset = len(graphN)*systemIdx\n",
    "    for i, nList in enumerate(graphN):\n",
    "        if gridFeasible[i]:\n",
    "            for n in nList:\n",
    "                if gridFeasible[n]:\n",
    "                    edges.append([i+offset, n+offset, 1])\n",
    "    return gridAtt, gridEl, graphN, edges, gridFeasible, gridPhases"
   ]
  },
  {
   "cell_type": "code",
   "execution_count": 87,
   "metadata": {},
   "outputs": [
    {
     "data": {
      "application/vnd.jupyter.widget-view+json": {
       "model_id": "6ec1160db4314ac6932b33501f6f54f8",
       "version_major": 2,
       "version_minor": 0
      },
      "text/plain": [
       "  0%|          | 0/325 [00:00<?, ?it/s]"
      ]
     },
     "metadata": {},
     "output_type": "display_data"
    }
   ],
   "source": [
    "gridAtt2, gridEl2, graphN2, edges2, gridFeasible2, gridPhases2 = system_graphs1(1, [[100,0,0], [0,100,0], [0,0,100]])"
   ]
  },
  {
   "cell_type": "code",
   "execution_count": 88,
   "metadata": {},
   "outputs": [
    {
     "data": {
      "application/vnd.plotly.v1+json": {
       "config": {
        "plotlyServerURL": "https://plot.ly"
       },
       "data": [
        {
         "hovertemplate": "Solid Solution Phases=True<br>=%{y}<br>text=%{text}<extra></extra>",
         "legendgroup": "True",
         "marker": {
          "color": "#FECB52",
          "symbol": "circle"
         },
         "mode": "markers+text",
         "name": "True",
         "orientation": "v",
         "showlegend": true,
         "text": [
          "<b>V</b>",
          "",
          "",
          "",
          "",
          "",
          "",
          "",
          "",
          "",
          "",
          "",
          "",
          "",
          "",
          "",
          "",
          "",
          "",
          "",
          "",
          "",
          "",
          "",
          "<b>Cr</b>",
          "",
          "",
          "",
          "",
          "",
          "",
          "",
          "",
          "",
          "",
          "",
          "",
          "",
          "",
          "",
          "",
          "",
          "",
          "",
          "",
          "",
          "",
          "",
          "",
          "",
          "",
          "",
          "",
          "",
          "",
          "",
          "",
          "",
          "",
          "",
          "",
          "",
          "",
          "",
          "",
          "",
          "",
          "",
          "",
          "",
          "",
          "",
          "",
          "",
          "",
          "",
          "",
          "",
          "",
          "",
          "",
          "",
          "",
          "",
          "",
          "",
          "",
          "",
          "",
          "",
          "",
          "",
          "",
          "",
          "",
          "",
          "",
          "",
          "",
          "",
          "",
          "",
          "",
          "",
          "",
          "",
          "",
          "",
          "",
          "",
          "",
          "",
          "",
          "<b>Ni</b>"
         ],
         "type": "scatter",
         "x": [
          -0.866025,
          -0.79385625,
          -0.7216875,
          -0.64951875,
          -0.57735,
          -0.50518125,
          -0.4330125,
          -0.3608437500000001,
          -0.28867499999999996,
          -0.21650625,
          -0.14433750000000004,
          -0.07216874999999998,
          0,
          0.07216874999999996,
          0.14433749999999998,
          0.21650625000000007,
          0.288675,
          0.3608437500000001,
          0.4330125,
          0.5051812499999999,
          0.57735,
          0.6495187499999999,
          0.7216875,
          0.7938562500000002,
          0.866025,
          0.613434375,
          0.685603125,
          0.7577718750000001,
          0.8299406250000001,
          0.64951875,
          0.7216875,
          0.79385625,
          0.613434375,
          0.6856031250000001,
          0.757771875,
          0.57735,
          0.64951875,
          0.7216875,
          0.5412656250000001,
          0.6134343750000001,
          0.685603125,
          0.50518125,
          0.5773500000000001,
          0.64951875,
          0.4690968750000001,
          0.5412656250000001,
          0.6134343750000001,
          0.4330125,
          0.5051812500000001,
          0.57735,
          0.39692812499999997,
          0.469096875,
          0.5412656250000001,
          0.36084375,
          0.43301249999999997,
          0.50518125,
          0.324759375,
          0.396928125,
          0.46909687499999997,
          0.288675,
          0.36084375,
          0.4330125,
          0.252590625,
          0.324759375,
          0.396928125,
          0.21650625,
          0.288675,
          0.36084375,
          0.03608437500000001,
          0.108253125,
          0.180421875,
          0.252590625,
          0.324759375,
          -0.21650625000000004,
          -0.1443375,
          -0.07216875000000002,
          8.012340790841677e-18,
          0.07216875,
          0.1443375,
          0.21650625,
          0.288675,
          -0.180421875,
          -0.10825312500000002,
          -0.036084374999999995,
          0.036084375,
          0.108253125,
          0.180421875,
          0.252590625,
          -0.1443375,
          -0.07216874999999999,
          0,
          0.07216875,
          0.1443375,
          0.21650625,
          -0.10825312499999999,
          -0.036084375,
          0.03608437500000001,
          0.108253125,
          0.180421875,
          -0.1443375,
          -0.07216875,
          4.0061703954208385e-18,
          0.07216875,
          0.1443375,
          -0.108253125,
          -0.036084374999999995,
          0.036084375,
          0.108253125,
          -0.07216875,
          2.0030851977104193e-18,
          0.07216875,
          -0.036084375,
          0.036084375,
          0
         ],
         "xaxis": "x",
         "y": [
          -0.5,
          -0.5,
          -0.5,
          -0.5,
          -0.5,
          -0.5,
          -0.5,
          -0.5,
          -0.5,
          -0.5,
          -0.5,
          -0.5,
          -0.5,
          -0.5,
          -0.5,
          -0.5,
          -0.5,
          -0.5,
          -0.5,
          -0.5,
          -0.5,
          -0.5,
          -0.5,
          -0.5,
          -0.5,
          -0.4375,
          -0.4375,
          -0.43749999999999994,
          -0.4375,
          -0.37500000000000006,
          -0.375,
          -0.375,
          -0.3125,
          -0.3125,
          -0.3125,
          -0.25,
          -0.25,
          -0.25,
          -0.1875,
          -0.1875,
          -0.18749999999999997,
          -0.12499999999999997,
          -0.12500000000000003,
          -0.125,
          -0.06249999999999998,
          -0.06249999999999996,
          -0.0625,
          -3.469446951953614e-17,
          -1.734723475976807e-17,
          0,
          0.06250000000000003,
          0.062499999999999986,
          0.0625,
          0.12500000000000003,
          0.12500000000000003,
          0.125,
          0.1875,
          0.18749999999999997,
          0.1875,
          0.24999999999999997,
          0.25000000000000006,
          0.25,
          0.31249999999999994,
          0.31249999999999994,
          0.3125,
          0.37500000000000006,
          0.37500000000000006,
          0.375,
          0.43750000000000006,
          0.4375,
          0.43749999999999994,
          0.43750000000000006,
          0.4375,
          0.4999999999999999,
          0.5,
          0.49999999999999994,
          0.49999999999999994,
          0.5,
          0.49999999999999994,
          0.49999999999999994,
          0.5,
          0.5625,
          0.5625000000000001,
          0.5625,
          0.5625,
          0.5625000000000001,
          0.5625,
          0.5625,
          0.625,
          0.625,
          0.625,
          0.625,
          0.625,
          0.625,
          0.6874999999999999,
          0.6875,
          0.6875,
          0.6874999999999999,
          0.6875,
          0.75,
          0.75,
          0.7500000000000001,
          0.75,
          0.75,
          0.8125,
          0.8125,
          0.8125,
          0.8125,
          0.875,
          0.8749999999999999,
          0.875,
          0.9375,
          0.9375,
          1
         ],
         "yaxis": "y"
        },
        {
         "hovertemplate": "Solid Solution Phases=False<br>=%{y}<br>text=%{text}<extra></extra>",
         "legendgroup": "False",
         "marker": {
          "color": "blue",
          "symbol": "circle"
         },
         "mode": "markers+text",
         "name": "False",
         "orientation": "v",
         "showlegend": true,
         "text": [
          "",
          "",
          "",
          "",
          "",
          "",
          "",
          "",
          "",
          "",
          "",
          "",
          "",
          "",
          "",
          "",
          "",
          "",
          "",
          "",
          "",
          "",
          "",
          "",
          "",
          "",
          "",
          "",
          "",
          "",
          "",
          "",
          "",
          "",
          "",
          "",
          "",
          "",
          "",
          "",
          "",
          "",
          "",
          "",
          "",
          "",
          "",
          "",
          "",
          "",
          "",
          "",
          "",
          "",
          "",
          "",
          "",
          "",
          "",
          "",
          "",
          "",
          "",
          "",
          "",
          "",
          "",
          "",
          "",
          "",
          "",
          "",
          "",
          "",
          "",
          "",
          "",
          "",
          "",
          "",
          "",
          "",
          "",
          "",
          "",
          "",
          "",
          "",
          "",
          "",
          "",
          "",
          "",
          "",
          "",
          "",
          "",
          "",
          "",
          "",
          "",
          "",
          "",
          "",
          "",
          "",
          "",
          "",
          "",
          "",
          "",
          "",
          "",
          "",
          "",
          "",
          "",
          "",
          "",
          "",
          "",
          "",
          "",
          "",
          "",
          "",
          "",
          "",
          "",
          "",
          "",
          "",
          "",
          "",
          "",
          "",
          "",
          "",
          "",
          "",
          "",
          "",
          "",
          "",
          "",
          "",
          "",
          "",
          "",
          "",
          "",
          "",
          "",
          "",
          "",
          "",
          "",
          "",
          "",
          "",
          "",
          "",
          "",
          "",
          "",
          "",
          "",
          "",
          "",
          "",
          "",
          "",
          "",
          "",
          "",
          "",
          "",
          "",
          "",
          "",
          "",
          "",
          "",
          "",
          "",
          "",
          "",
          "",
          "",
          "",
          "",
          "",
          "",
          "",
          "",
          "",
          "",
          "",
          "",
          "",
          "",
          "",
          "",
          "",
          "",
          "",
          "",
          "",
          "",
          "",
          ""
         ],
         "type": "scatter",
         "x": [
          -0.8299406250000001,
          -0.757771875,
          -0.6856031250000001,
          -0.6134343750000001,
          -0.541265625,
          -0.469096875,
          -0.3969281250000001,
          -0.32475937499999996,
          -0.252590625,
          -0.18042187500000004,
          -0.10825312499999998,
          -0.036084375,
          0.036084375000000016,
          0.10825312499999994,
          0.180421875,
          0.25259062500000007,
          0.324759375,
          0.3969281250000001,
          0.469096875,
          0.541265625,
          -0.79385625,
          -0.7216875,
          -0.64951875,
          -0.57735,
          -0.50518125,
          -0.4330125000000001,
          -0.36084374999999996,
          -0.288675,
          -0.21650625000000004,
          -0.14433749999999998,
          -0.07216875,
          1.6024681581683354e-17,
          0.07216874999999999,
          0.14433749999999995,
          0.21650625000000004,
          0.28867500000000007,
          0.36084375,
          0.4330125000000001,
          0.50518125,
          0.57735,
          -0.757771875,
          -0.6856031250000001,
          -0.613434375,
          -0.5412656250000001,
          -0.4690968750000001,
          -0.39692812499999997,
          -0.324759375,
          -0.25259062500000007,
          -0.18042187499999998,
          -0.108253125,
          -0.03608437499999999,
          0.03608437499999999,
          0.108253125,
          0.18042187499999998,
          0.252590625,
          0.3247593750000001,
          0.396928125,
          0.4690968750000001,
          0.5412656250000001,
          -0.7216875,
          -0.64951875,
          -0.57735,
          -0.50518125,
          -0.43301249999999997,
          -0.36084375,
          -0.28867500000000007,
          -0.21650624999999998,
          -0.1443375,
          -0.07216874999999999,
          -1.6024681581683354e-17,
          0.07216875,
          0.14433750000000004,
          0.21650624999999993,
          0.288675,
          0.3608437500000001,
          0.4330125,
          0.5051812500000001,
          -0.685603125,
          -0.613434375,
          -0.5412656250000001,
          -0.46909687499999997,
          -0.396928125,
          -0.3247593750000001,
          -0.25259062499999996,
          -0.180421875,
          -0.10825312499999999,
          -0.036084375000000016,
          0.036084375,
          0.10825312500000002,
          0.18042187499999998,
          0.25259062499999996,
          0.324759375,
          0.3969281250000001,
          0.469096875,
          -0.64951875,
          -0.57735,
          -0.50518125,
          -0.4330125,
          -0.3608437500000001,
          -0.28867499999999996,
          -0.21650625,
          -0.14433749999999998,
          -0.07216875000000002,
          0,
          0.07216875000000002,
          0.14433749999999998,
          0.21650625,
          0.28867499999999996,
          0.36084375,
          0.4330125000000001,
          -0.6134343750000001,
          -0.541265625,
          -0.469096875,
          -0.3969281250000001,
          -0.32475937499999996,
          -0.252590625,
          -0.18042187499999998,
          -0.10825312500000002,
          -0.036084375,
          0.036084375000000016,
          0.10825312499999999,
          0.180421875,
          0.252590625,
          0.32475937499999996,
          0.396928125,
          -0.57735,
          -0.50518125,
          -0.4330125000000001,
          -0.36084374999999996,
          -0.288675,
          -0.21650624999999998,
          -0.14433750000000004,
          -0.07216875,
          1.6024681581683354e-17,
          0.07216874999999999,
          0.1443375,
          0.21650625,
          0.288675,
          0.36084374999999996,
          -0.5412656250000001,
          -0.4690968750000001,
          -0.39692812499999997,
          -0.324759375,
          -0.252590625,
          -0.18042187500000004,
          -0.108253125,
          -0.03608437499999999,
          0.03608437499999999,
          0.108253125,
          0.180421875,
          0.252590625,
          0.324759375,
          -0.50518125,
          -0.43301249999999997,
          -0.36084375,
          -0.288675,
          -0.21650625000000004,
          -0.1443375,
          -0.07216874999999999,
          -1.6024681581683354e-17,
          0.07216875,
          0.1443375,
          0.21650625,
          0.288675,
          -0.46909687499999997,
          -0.396928125,
          -0.324759375,
          -0.252590625,
          -0.180421875,
          -0.10825312499999999,
          -0.036084375000000016,
          0.036084375,
          0.10825312499999999,
          0.180421875,
          0.252590625,
          -0.4330125,
          -0.36084375,
          -0.288675,
          -0.21650625,
          -0.14433749999999998,
          -0.07216875000000002,
          0,
          0.07216874999999999,
          0.1443375,
          0.21650625,
          -0.396928125,
          -0.324759375,
          -0.252590625,
          -0.18042187499999998,
          -0.10825312500000002,
          -0.036084375,
          0.036084374999999995,
          0.10825312500000002,
          0.180421875,
          -0.36084375,
          -0.288675,
          -0.21650624999999998,
          -0.14433750000000004,
          -0.07216875,
          -8.012340790841677e-18,
          0.07216875000000002,
          0.1443375,
          -0.324759375,
          -0.252590625,
          -0.18042187500000004,
          -0.108253125,
          -0.03608437500000001,
          -0.288675,
          -0.252590625,
          -0.21650625,
          -0.180421875
         ],
         "xaxis": "x",
         "y": [
          -0.4375,
          -0.4375,
          -0.4375,
          -0.4375,
          -0.4375,
          -0.4375,
          -0.4375,
          -0.4375,
          -0.4375,
          -0.4375,
          -0.4375,
          -0.4375,
          -0.4375,
          -0.4375,
          -0.4375,
          -0.4375,
          -0.4375,
          -0.4375,
          -0.4375,
          -0.43749999999999994,
          -0.375,
          -0.375,
          -0.375,
          -0.375,
          -0.375,
          -0.375,
          -0.375,
          -0.375,
          -0.375,
          -0.375,
          -0.375,
          -0.375,
          -0.375,
          -0.375,
          -0.375,
          -0.375,
          -0.375,
          -0.37500000000000006,
          -0.375,
          -0.375,
          -0.3125,
          -0.3125,
          -0.3125,
          -0.3125,
          -0.3125,
          -0.3125,
          -0.3125,
          -0.3125,
          -0.3125,
          -0.3125,
          -0.3125,
          -0.3125,
          -0.3125,
          -0.3125,
          -0.3125,
          -0.3125,
          -0.3125,
          -0.3125,
          -0.3125,
          -0.25,
          -0.25,
          -0.25,
          -0.25,
          -0.25,
          -0.25,
          -0.25,
          -0.25,
          -0.25,
          -0.25,
          -0.25,
          -0.25,
          -0.25,
          -0.25,
          -0.25,
          -0.25,
          -0.25,
          -0.25,
          -0.18749999999999997,
          -0.1875,
          -0.1875,
          -0.18749999999999997,
          -0.1875,
          -0.1875,
          -0.18749999999999997,
          -0.1875,
          -0.18749999999999997,
          -0.1875,
          -0.1875,
          -0.18749999999999997,
          -0.1875,
          -0.18749999999999997,
          -0.1875,
          -0.1875,
          -0.18749999999999997,
          -0.125,
          -0.12500000000000003,
          -0.12499999999999997,
          -0.125,
          -0.125,
          -0.125,
          -0.125,
          -0.125,
          -0.125,
          -0.125,
          -0.125,
          -0.125,
          -0.125,
          -0.12499999999999999,
          -0.125,
          -0.125,
          -0.0625,
          -0.062499999999999944,
          -0.0625,
          -0.0625,
          -0.062499999999999944,
          -0.0625,
          -0.06249999999999997,
          -0.0625,
          -0.06249999999999997,
          -0.06249999999999997,
          -0.0625,
          -0.06249999999999997,
          -0.062499999999999986,
          -0.06249999999999996,
          -0.0625,
          0,
          0,
          -5.551115123125783e-17,
          0,
          0,
          -2.7755575615628914e-17,
          -2.7755575615628914e-17,
          -2.7755575615628914e-17,
          0,
          -2.7755575615628914e-17,
          -2.7755575615628914e-17,
          -1.3877787807814457e-17,
          -1.3877787807814457e-17,
          0,
          0.0625,
          0.0625,
          0.0625,
          0.0625,
          0.06250000000000003,
          0.06249999999999997,
          0.0625,
          0.0625,
          0.0625,
          0.0625,
          0.062499999999999986,
          0.06250000000000001,
          0.0625,
          0.125,
          0.12500000000000006,
          0.125,
          0.12500000000000003,
          0.12500000000000003,
          0.125,
          0.12500000000000003,
          0.12500000000000003,
          0.125,
          0.125,
          0.125,
          0.12500000000000003,
          0.1875,
          0.1875,
          0.18749999999999997,
          0.18749999999999997,
          0.1875,
          0.18749999999999997,
          0.18749999999999997,
          0.1875,
          0.18749999999999994,
          0.1875,
          0.18749999999999997,
          0.25,
          0.25,
          0.24999999999999997,
          0.25,
          0.25,
          0.24999999999999997,
          0.25,
          0.24999999999999994,
          0.25000000000000006,
          0.25,
          0.3125,
          0.3124999999999999,
          0.31249999999999994,
          0.3125,
          0.3125,
          0.31249999999999994,
          0.31249999999999994,
          0.31249999999999994,
          0.3125,
          0.375,
          0.375,
          0.3750000000000001,
          0.375,
          0.375,
          0.375,
          0.37500000000000006,
          0.375,
          0.4375,
          0.4375,
          0.4375,
          0.4375,
          0.43749999999999994,
          0.5,
          0.5625,
          0.625,
          0.6875
         ],
         "yaxis": "y"
        }
       ],
       "layout": {
        "height": 600,
        "legend": {
         "title": {
          "text": "Solid Solution Phases"
         },
         "tracegroupgap": 0
        },
        "margin": {
         "t": 60
        },
        "template": {
         "data": {
          "bar": [
           {
            "error_x": {
             "color": "#2a3f5f"
            },
            "error_y": {
             "color": "#2a3f5f"
            },
            "marker": {
             "line": {
              "color": "white",
              "width": 0.5
             },
             "pattern": {
              "fillmode": "overlay",
              "size": 10,
              "solidity": 0.2
             }
            },
            "type": "bar"
           }
          ],
          "barpolar": [
           {
            "marker": {
             "line": {
              "color": "white",
              "width": 0.5
             },
             "pattern": {
              "fillmode": "overlay",
              "size": 10,
              "solidity": 0.2
             }
            },
            "type": "barpolar"
           }
          ],
          "carpet": [
           {
            "aaxis": {
             "endlinecolor": "#2a3f5f",
             "gridcolor": "#C8D4E3",
             "linecolor": "#C8D4E3",
             "minorgridcolor": "#C8D4E3",
             "startlinecolor": "#2a3f5f"
            },
            "baxis": {
             "endlinecolor": "#2a3f5f",
             "gridcolor": "#C8D4E3",
             "linecolor": "#C8D4E3",
             "minorgridcolor": "#C8D4E3",
             "startlinecolor": "#2a3f5f"
            },
            "type": "carpet"
           }
          ],
          "choropleth": [
           {
            "colorbar": {
             "outlinewidth": 0,
             "ticks": ""
            },
            "type": "choropleth"
           }
          ],
          "contour": [
           {
            "colorbar": {
             "outlinewidth": 0,
             "ticks": ""
            },
            "colorscale": [
             [
              0,
              "#0d0887"
             ],
             [
              0.1111111111111111,
              "#46039f"
             ],
             [
              0.2222222222222222,
              "#7201a8"
             ],
             [
              0.3333333333333333,
              "#9c179e"
             ],
             [
              0.4444444444444444,
              "#bd3786"
             ],
             [
              0.5555555555555556,
              "#d8576b"
             ],
             [
              0.6666666666666666,
              "#ed7953"
             ],
             [
              0.7777777777777778,
              "#fb9f3a"
             ],
             [
              0.8888888888888888,
              "#fdca26"
             ],
             [
              1,
              "#f0f921"
             ]
            ],
            "type": "contour"
           }
          ],
          "contourcarpet": [
           {
            "colorbar": {
             "outlinewidth": 0,
             "ticks": ""
            },
            "type": "contourcarpet"
           }
          ],
          "heatmap": [
           {
            "colorbar": {
             "outlinewidth": 0,
             "ticks": ""
            },
            "colorscale": [
             [
              0,
              "#0d0887"
             ],
             [
              0.1111111111111111,
              "#46039f"
             ],
             [
              0.2222222222222222,
              "#7201a8"
             ],
             [
              0.3333333333333333,
              "#9c179e"
             ],
             [
              0.4444444444444444,
              "#bd3786"
             ],
             [
              0.5555555555555556,
              "#d8576b"
             ],
             [
              0.6666666666666666,
              "#ed7953"
             ],
             [
              0.7777777777777778,
              "#fb9f3a"
             ],
             [
              0.8888888888888888,
              "#fdca26"
             ],
             [
              1,
              "#f0f921"
             ]
            ],
            "type": "heatmap"
           }
          ],
          "heatmapgl": [
           {
            "colorbar": {
             "outlinewidth": 0,
             "ticks": ""
            },
            "colorscale": [
             [
              0,
              "#0d0887"
             ],
             [
              0.1111111111111111,
              "#46039f"
             ],
             [
              0.2222222222222222,
              "#7201a8"
             ],
             [
              0.3333333333333333,
              "#9c179e"
             ],
             [
              0.4444444444444444,
              "#bd3786"
             ],
             [
              0.5555555555555556,
              "#d8576b"
             ],
             [
              0.6666666666666666,
              "#ed7953"
             ],
             [
              0.7777777777777778,
              "#fb9f3a"
             ],
             [
              0.8888888888888888,
              "#fdca26"
             ],
             [
              1,
              "#f0f921"
             ]
            ],
            "type": "heatmapgl"
           }
          ],
          "histogram": [
           {
            "marker": {
             "pattern": {
              "fillmode": "overlay",
              "size": 10,
              "solidity": 0.2
             }
            },
            "type": "histogram"
           }
          ],
          "histogram2d": [
           {
            "colorbar": {
             "outlinewidth": 0,
             "ticks": ""
            },
            "colorscale": [
             [
              0,
              "#0d0887"
             ],
             [
              0.1111111111111111,
              "#46039f"
             ],
             [
              0.2222222222222222,
              "#7201a8"
             ],
             [
              0.3333333333333333,
              "#9c179e"
             ],
             [
              0.4444444444444444,
              "#bd3786"
             ],
             [
              0.5555555555555556,
              "#d8576b"
             ],
             [
              0.6666666666666666,
              "#ed7953"
             ],
             [
              0.7777777777777778,
              "#fb9f3a"
             ],
             [
              0.8888888888888888,
              "#fdca26"
             ],
             [
              1,
              "#f0f921"
             ]
            ],
            "type": "histogram2d"
           }
          ],
          "histogram2dcontour": [
           {
            "colorbar": {
             "outlinewidth": 0,
             "ticks": ""
            },
            "colorscale": [
             [
              0,
              "#0d0887"
             ],
             [
              0.1111111111111111,
              "#46039f"
             ],
             [
              0.2222222222222222,
              "#7201a8"
             ],
             [
              0.3333333333333333,
              "#9c179e"
             ],
             [
              0.4444444444444444,
              "#bd3786"
             ],
             [
              0.5555555555555556,
              "#d8576b"
             ],
             [
              0.6666666666666666,
              "#ed7953"
             ],
             [
              0.7777777777777778,
              "#fb9f3a"
             ],
             [
              0.8888888888888888,
              "#fdca26"
             ],
             [
              1,
              "#f0f921"
             ]
            ],
            "type": "histogram2dcontour"
           }
          ],
          "mesh3d": [
           {
            "colorbar": {
             "outlinewidth": 0,
             "ticks": ""
            },
            "type": "mesh3d"
           }
          ],
          "parcoords": [
           {
            "line": {
             "colorbar": {
              "outlinewidth": 0,
              "ticks": ""
             }
            },
            "type": "parcoords"
           }
          ],
          "pie": [
           {
            "automargin": true,
            "type": "pie"
           }
          ],
          "scatter": [
           {
            "fillpattern": {
             "fillmode": "overlay",
             "size": 10,
             "solidity": 0.2
            },
            "type": "scatter"
           }
          ],
          "scatter3d": [
           {
            "line": {
             "colorbar": {
              "outlinewidth": 0,
              "ticks": ""
             }
            },
            "marker": {
             "colorbar": {
              "outlinewidth": 0,
              "ticks": ""
             }
            },
            "type": "scatter3d"
           }
          ],
          "scattercarpet": [
           {
            "marker": {
             "colorbar": {
              "outlinewidth": 0,
              "ticks": ""
             }
            },
            "type": "scattercarpet"
           }
          ],
          "scattergeo": [
           {
            "marker": {
             "colorbar": {
              "outlinewidth": 0,
              "ticks": ""
             }
            },
            "type": "scattergeo"
           }
          ],
          "scattergl": [
           {
            "marker": {
             "colorbar": {
              "outlinewidth": 0,
              "ticks": ""
             }
            },
            "type": "scattergl"
           }
          ],
          "scattermapbox": [
           {
            "marker": {
             "colorbar": {
              "outlinewidth": 0,
              "ticks": ""
             }
            },
            "type": "scattermapbox"
           }
          ],
          "scatterpolar": [
           {
            "marker": {
             "colorbar": {
              "outlinewidth": 0,
              "ticks": ""
             }
            },
            "type": "scatterpolar"
           }
          ],
          "scatterpolargl": [
           {
            "marker": {
             "colorbar": {
              "outlinewidth": 0,
              "ticks": ""
             }
            },
            "type": "scatterpolargl"
           }
          ],
          "scatterternary": [
           {
            "marker": {
             "colorbar": {
              "outlinewidth": 0,
              "ticks": ""
             }
            },
            "type": "scatterternary"
           }
          ],
          "surface": [
           {
            "colorbar": {
             "outlinewidth": 0,
             "ticks": ""
            },
            "colorscale": [
             [
              0,
              "#0d0887"
             ],
             [
              0.1111111111111111,
              "#46039f"
             ],
             [
              0.2222222222222222,
              "#7201a8"
             ],
             [
              0.3333333333333333,
              "#9c179e"
             ],
             [
              0.4444444444444444,
              "#bd3786"
             ],
             [
              0.5555555555555556,
              "#d8576b"
             ],
             [
              0.6666666666666666,
              "#ed7953"
             ],
             [
              0.7777777777777778,
              "#fb9f3a"
             ],
             [
              0.8888888888888888,
              "#fdca26"
             ],
             [
              1,
              "#f0f921"
             ]
            ],
            "type": "surface"
           }
          ],
          "table": [
           {
            "cells": {
             "fill": {
              "color": "#EBF0F8"
             },
             "line": {
              "color": "white"
             }
            },
            "header": {
             "fill": {
              "color": "#C8D4E3"
             },
             "line": {
              "color": "white"
             }
            },
            "type": "table"
           }
          ]
         },
         "layout": {
          "annotationdefaults": {
           "arrowcolor": "#2a3f5f",
           "arrowhead": 0,
           "arrowwidth": 1
          },
          "autotypenumbers": "strict",
          "coloraxis": {
           "colorbar": {
            "outlinewidth": 0,
            "ticks": ""
           }
          },
          "colorscale": {
           "diverging": [
            [
             0,
             "#8e0152"
            ],
            [
             0.1,
             "#c51b7d"
            ],
            [
             0.2,
             "#de77ae"
            ],
            [
             0.3,
             "#f1b6da"
            ],
            [
             0.4,
             "#fde0ef"
            ],
            [
             0.5,
             "#f7f7f7"
            ],
            [
             0.6,
             "#e6f5d0"
            ],
            [
             0.7,
             "#b8e186"
            ],
            [
             0.8,
             "#7fbc41"
            ],
            [
             0.9,
             "#4d9221"
            ],
            [
             1,
             "#276419"
            ]
           ],
           "sequential": [
            [
             0,
             "#0d0887"
            ],
            [
             0.1111111111111111,
             "#46039f"
            ],
            [
             0.2222222222222222,
             "#7201a8"
            ],
            [
             0.3333333333333333,
             "#9c179e"
            ],
            [
             0.4444444444444444,
             "#bd3786"
            ],
            [
             0.5555555555555556,
             "#d8576b"
            ],
            [
             0.6666666666666666,
             "#ed7953"
            ],
            [
             0.7777777777777778,
             "#fb9f3a"
            ],
            [
             0.8888888888888888,
             "#fdca26"
            ],
            [
             1,
             "#f0f921"
            ]
           ],
           "sequentialminus": [
            [
             0,
             "#0d0887"
            ],
            [
             0.1111111111111111,
             "#46039f"
            ],
            [
             0.2222222222222222,
             "#7201a8"
            ],
            [
             0.3333333333333333,
             "#9c179e"
            ],
            [
             0.4444444444444444,
             "#bd3786"
            ],
            [
             0.5555555555555556,
             "#d8576b"
            ],
            [
             0.6666666666666666,
             "#ed7953"
            ],
            [
             0.7777777777777778,
             "#fb9f3a"
            ],
            [
             0.8888888888888888,
             "#fdca26"
            ],
            [
             1,
             "#f0f921"
            ]
           ]
          },
          "colorway": [
           "#636efa",
           "#EF553B",
           "#00cc96",
           "#ab63fa",
           "#FFA15A",
           "#19d3f3",
           "#FF6692",
           "#B6E880",
           "#FF97FF",
           "#FECB52"
          ],
          "font": {
           "color": "#2a3f5f"
          },
          "geo": {
           "bgcolor": "white",
           "lakecolor": "white",
           "landcolor": "white",
           "showlakes": true,
           "showland": true,
           "subunitcolor": "#C8D4E3"
          },
          "hoverlabel": {
           "align": "left"
          },
          "hovermode": "closest",
          "mapbox": {
           "style": "light"
          },
          "paper_bgcolor": "white",
          "plot_bgcolor": "white",
          "polar": {
           "angularaxis": {
            "gridcolor": "#EBF0F8",
            "linecolor": "#EBF0F8",
            "ticks": ""
           },
           "bgcolor": "white",
           "radialaxis": {
            "gridcolor": "#EBF0F8",
            "linecolor": "#EBF0F8",
            "ticks": ""
           }
          },
          "scene": {
           "xaxis": {
            "backgroundcolor": "white",
            "gridcolor": "#DFE8F3",
            "gridwidth": 2,
            "linecolor": "#EBF0F8",
            "showbackground": true,
            "ticks": "",
            "zerolinecolor": "#EBF0F8"
           },
           "yaxis": {
            "backgroundcolor": "white",
            "gridcolor": "#DFE8F3",
            "gridwidth": 2,
            "linecolor": "#EBF0F8",
            "showbackground": true,
            "ticks": "",
            "zerolinecolor": "#EBF0F8"
           },
           "zaxis": {
            "backgroundcolor": "white",
            "gridcolor": "#DFE8F3",
            "gridwidth": 2,
            "linecolor": "#EBF0F8",
            "showbackground": true,
            "ticks": "",
            "zerolinecolor": "#EBF0F8"
           }
          },
          "shapedefaults": {
           "line": {
            "color": "#2a3f5f"
           }
          },
          "ternary": {
           "aaxis": {
            "gridcolor": "#DFE8F3",
            "linecolor": "#A2B1C6",
            "ticks": ""
           },
           "baxis": {
            "gridcolor": "#DFE8F3",
            "linecolor": "#A2B1C6",
            "ticks": ""
           },
           "bgcolor": "white",
           "caxis": {
            "gridcolor": "#DFE8F3",
            "linecolor": "#A2B1C6",
            "ticks": ""
           }
          },
          "title": {
           "x": 0.05
          },
          "xaxis": {
           "automargin": true,
           "gridcolor": "#EBF0F8",
           "linecolor": "#EBF0F8",
           "ticks": "",
           "title": {
            "standoff": 15
           },
           "zerolinecolor": "#EBF0F8",
           "zerolinewidth": 2
          },
          "yaxis": {
           "automargin": true,
           "gridcolor": "#EBF0F8",
           "linecolor": "#EBF0F8",
           "ticks": "",
           "title": {
            "standoff": 15
           },
           "zerolinecolor": "#EBF0F8",
           "zerolinewidth": 2
          }
         }
        },
        "width": 800,
        "xaxis": {
         "anchor": "y",
         "domain": [
          0,
          1
         ],
         "title": {
          "text": ""
         }
        },
        "yaxis": {
         "anchor": "x",
         "domain": [
          0,
          1
         ],
         "title": {
          "text": ""
         }
        }
       }
      },
      "text/html": [
       "<div>                            <div id=\"6eb3333c-a7a6-44f6-a4f6-8d0373428efa\" class=\"plotly-graph-div\" style=\"height:600px; width:800px;\"></div>            <script type=\"text/javascript\">                require([\"plotly\"], function(Plotly) {                    window.PLOTLYENV=window.PLOTLYENV || {};                                    if (document.getElementById(\"6eb3333c-a7a6-44f6-a4f6-8d0373428efa\")) {                    Plotly.newPlot(                        \"6eb3333c-a7a6-44f6-a4f6-8d0373428efa\",                        [{\"hovertemplate\":\"Solid Solution Phases=True\\u003cbr\\u003e=%{y}\\u003cbr\\u003etext=%{text}\\u003cextra\\u003e\\u003c\\u002fextra\\u003e\",\"legendgroup\":\"True\",\"marker\":{\"color\":\"#FECB52\",\"symbol\":\"circle\"},\"mode\":\"markers+text\",\"name\":\"True\",\"orientation\":\"v\",\"showlegend\":true,\"text\":[\"\\u003cb\\u003eV\\u003c\\u002fb\\u003e\",\"\",\"\",\"\",\"\",\"\",\"\",\"\",\"\",\"\",\"\",\"\",\"\",\"\",\"\",\"\",\"\",\"\",\"\",\"\",\"\",\"\",\"\",\"\",\"\\u003cb\\u003eCr\\u003c\\u002fb\\u003e\",\"\",\"\",\"\",\"\",\"\",\"\",\"\",\"\",\"\",\"\",\"\",\"\",\"\",\"\",\"\",\"\",\"\",\"\",\"\",\"\",\"\",\"\",\"\",\"\",\"\",\"\",\"\",\"\",\"\",\"\",\"\",\"\",\"\",\"\",\"\",\"\",\"\",\"\",\"\",\"\",\"\",\"\",\"\",\"\",\"\",\"\",\"\",\"\",\"\",\"\",\"\",\"\",\"\",\"\",\"\",\"\",\"\",\"\",\"\",\"\",\"\",\"\",\"\",\"\",\"\",\"\",\"\",\"\",\"\",\"\",\"\",\"\",\"\",\"\",\"\",\"\",\"\",\"\",\"\",\"\",\"\",\"\",\"\",\"\",\"\",\"\",\"\",\"\",\"\\u003cb\\u003eNi\\u003c\\u002fb\\u003e\"],\"x\":[-0.866025,-0.79385625,-0.7216875,-0.64951875,-0.57735,-0.50518125,-0.4330125,-0.3608437500000001,-0.28867499999999996,-0.21650625,-0.14433750000000004,-0.07216874999999998,0.0,0.07216874999999996,0.14433749999999998,0.21650625000000007,0.288675,0.3608437500000001,0.4330125,0.5051812499999999,0.57735,0.6495187499999999,0.7216875,0.7938562500000002,0.866025,0.613434375,0.685603125,0.7577718750000001,0.8299406250000001,0.64951875,0.7216875,0.79385625,0.613434375,0.6856031250000001,0.757771875,0.57735,0.64951875,0.7216875,0.5412656250000001,0.6134343750000001,0.685603125,0.50518125,0.5773500000000001,0.64951875,0.4690968750000001,0.5412656250000001,0.6134343750000001,0.4330125,0.5051812500000001,0.57735,0.39692812499999997,0.469096875,0.5412656250000001,0.36084375,0.43301249999999997,0.50518125,0.324759375,0.396928125,0.46909687499999997,0.288675,0.36084375,0.4330125,0.252590625,0.324759375,0.396928125,0.21650625,0.288675,0.36084375,0.03608437500000001,0.108253125,0.180421875,0.252590625,0.324759375,-0.21650625000000004,-0.1443375,-0.07216875000000002,8.012340790841677e-18,0.07216875,0.1443375,0.21650625,0.288675,-0.180421875,-0.10825312500000002,-0.036084374999999995,0.036084375,0.108253125,0.180421875,0.252590625,-0.1443375,-0.07216874999999999,0.0,0.07216875,0.1443375,0.21650625,-0.10825312499999999,-0.036084375,0.03608437500000001,0.108253125,0.180421875,-0.1443375,-0.07216875,4.0061703954208385e-18,0.07216875,0.1443375,-0.108253125,-0.036084374999999995,0.036084375,0.108253125,-0.07216875,2.0030851977104193e-18,0.07216875,-0.036084375,0.036084375,0.0],\"xaxis\":\"x\",\"y\":[-0.5,-0.5,-0.5,-0.5,-0.5,-0.5,-0.5,-0.5,-0.5,-0.5,-0.5,-0.5,-0.5,-0.5,-0.5,-0.5,-0.5,-0.5,-0.5,-0.5,-0.5,-0.5,-0.5,-0.5,-0.5,-0.4375,-0.4375,-0.43749999999999994,-0.4375,-0.37500000000000006,-0.375,-0.375,-0.3125,-0.3125,-0.3125,-0.25,-0.25,-0.25,-0.1875,-0.1875,-0.18749999999999997,-0.12499999999999997,-0.12500000000000003,-0.125,-0.06249999999999998,-0.06249999999999996,-0.0625,-3.469446951953614e-17,-1.734723475976807e-17,0.0,0.06250000000000003,0.062499999999999986,0.0625,0.12500000000000003,0.12500000000000003,0.125,0.1875,0.18749999999999997,0.1875,0.24999999999999997,0.25000000000000006,0.25,0.31249999999999994,0.31249999999999994,0.3125,0.37500000000000006,0.37500000000000006,0.375,0.43750000000000006,0.4375,0.43749999999999994,0.43750000000000006,0.4375,0.4999999999999999,0.5,0.49999999999999994,0.49999999999999994,0.5,0.49999999999999994,0.49999999999999994,0.5,0.5625,0.5625000000000001,0.5625,0.5625,0.5625000000000001,0.5625,0.5625,0.625,0.625,0.625,0.625,0.625,0.625,0.6874999999999999,0.6875,0.6875,0.6874999999999999,0.6875,0.75,0.75,0.7500000000000001,0.75,0.75,0.8125,0.8125,0.8125,0.8125,0.875,0.8749999999999999,0.875,0.9375,0.9375,1.0],\"yaxis\":\"y\",\"type\":\"scatter\"},{\"hovertemplate\":\"Solid Solution Phases=False\\u003cbr\\u003e=%{y}\\u003cbr\\u003etext=%{text}\\u003cextra\\u003e\\u003c\\u002fextra\\u003e\",\"legendgroup\":\"False\",\"marker\":{\"color\":\"blue\",\"symbol\":\"circle\"},\"mode\":\"markers+text\",\"name\":\"False\",\"orientation\":\"v\",\"showlegend\":true,\"text\":[\"\",\"\",\"\",\"\",\"\",\"\",\"\",\"\",\"\",\"\",\"\",\"\",\"\",\"\",\"\",\"\",\"\",\"\",\"\",\"\",\"\",\"\",\"\",\"\",\"\",\"\",\"\",\"\",\"\",\"\",\"\",\"\",\"\",\"\",\"\",\"\",\"\",\"\",\"\",\"\",\"\",\"\",\"\",\"\",\"\",\"\",\"\",\"\",\"\",\"\",\"\",\"\",\"\",\"\",\"\",\"\",\"\",\"\",\"\",\"\",\"\",\"\",\"\",\"\",\"\",\"\",\"\",\"\",\"\",\"\",\"\",\"\",\"\",\"\",\"\",\"\",\"\",\"\",\"\",\"\",\"\",\"\",\"\",\"\",\"\",\"\",\"\",\"\",\"\",\"\",\"\",\"\",\"\",\"\",\"\",\"\",\"\",\"\",\"\",\"\",\"\",\"\",\"\",\"\",\"\",\"\",\"\",\"\",\"\",\"\",\"\",\"\",\"\",\"\",\"\",\"\",\"\",\"\",\"\",\"\",\"\",\"\",\"\",\"\",\"\",\"\",\"\",\"\",\"\",\"\",\"\",\"\",\"\",\"\",\"\",\"\",\"\",\"\",\"\",\"\",\"\",\"\",\"\",\"\",\"\",\"\",\"\",\"\",\"\",\"\",\"\",\"\",\"\",\"\",\"\",\"\",\"\",\"\",\"\",\"\",\"\",\"\",\"\",\"\",\"\",\"\",\"\",\"\",\"\",\"\",\"\",\"\",\"\",\"\",\"\",\"\",\"\",\"\",\"\",\"\",\"\",\"\",\"\",\"\",\"\",\"\",\"\",\"\",\"\",\"\",\"\",\"\",\"\",\"\",\"\",\"\",\"\",\"\",\"\",\"\",\"\",\"\",\"\",\"\",\"\",\"\",\"\",\"\",\"\",\"\",\"\"],\"x\":[-0.8299406250000001,-0.757771875,-0.6856031250000001,-0.6134343750000001,-0.541265625,-0.469096875,-0.3969281250000001,-0.32475937499999996,-0.252590625,-0.18042187500000004,-0.10825312499999998,-0.036084375,0.036084375000000016,0.10825312499999994,0.180421875,0.25259062500000007,0.324759375,0.3969281250000001,0.469096875,0.541265625,-0.79385625,-0.7216875,-0.64951875,-0.57735,-0.50518125,-0.4330125000000001,-0.36084374999999996,-0.288675,-0.21650625000000004,-0.14433749999999998,-0.07216875,1.6024681581683354e-17,0.07216874999999999,0.14433749999999995,0.21650625000000004,0.28867500000000007,0.36084375,0.4330125000000001,0.50518125,0.57735,-0.757771875,-0.6856031250000001,-0.613434375,-0.5412656250000001,-0.4690968750000001,-0.39692812499999997,-0.324759375,-0.25259062500000007,-0.18042187499999998,-0.108253125,-0.03608437499999999,0.03608437499999999,0.108253125,0.18042187499999998,0.252590625,0.3247593750000001,0.396928125,0.4690968750000001,0.5412656250000001,-0.7216875,-0.64951875,-0.57735,-0.50518125,-0.43301249999999997,-0.36084375,-0.28867500000000007,-0.21650624999999998,-0.1443375,-0.07216874999999999,-1.6024681581683354e-17,0.07216875,0.14433750000000004,0.21650624999999993,0.288675,0.3608437500000001,0.4330125,0.5051812500000001,-0.685603125,-0.613434375,-0.5412656250000001,-0.46909687499999997,-0.396928125,-0.3247593750000001,-0.25259062499999996,-0.180421875,-0.10825312499999999,-0.036084375000000016,0.036084375,0.10825312500000002,0.18042187499999998,0.25259062499999996,0.324759375,0.3969281250000001,0.469096875,-0.64951875,-0.57735,-0.50518125,-0.4330125,-0.3608437500000001,-0.28867499999999996,-0.21650625,-0.14433749999999998,-0.07216875000000002,0.0,0.07216875000000002,0.14433749999999998,0.21650625,0.28867499999999996,0.36084375,0.4330125000000001,-0.6134343750000001,-0.541265625,-0.469096875,-0.3969281250000001,-0.32475937499999996,-0.252590625,-0.18042187499999998,-0.10825312500000002,-0.036084375,0.036084375000000016,0.10825312499999999,0.180421875,0.252590625,0.32475937499999996,0.396928125,-0.57735,-0.50518125,-0.4330125000000001,-0.36084374999999996,-0.288675,-0.21650624999999998,-0.14433750000000004,-0.07216875,1.6024681581683354e-17,0.07216874999999999,0.1443375,0.21650625,0.288675,0.36084374999999996,-0.5412656250000001,-0.4690968750000001,-0.39692812499999997,-0.324759375,-0.252590625,-0.18042187500000004,-0.108253125,-0.03608437499999999,0.03608437499999999,0.108253125,0.180421875,0.252590625,0.324759375,-0.50518125,-0.43301249999999997,-0.36084375,-0.288675,-0.21650625000000004,-0.1443375,-0.07216874999999999,-1.6024681581683354e-17,0.07216875,0.1443375,0.21650625,0.288675,-0.46909687499999997,-0.396928125,-0.324759375,-0.252590625,-0.180421875,-0.10825312499999999,-0.036084375000000016,0.036084375,0.10825312499999999,0.180421875,0.252590625,-0.4330125,-0.36084375,-0.288675,-0.21650625,-0.14433749999999998,-0.07216875000000002,0.0,0.07216874999999999,0.1443375,0.21650625,-0.396928125,-0.324759375,-0.252590625,-0.18042187499999998,-0.10825312500000002,-0.036084375,0.036084374999999995,0.10825312500000002,0.180421875,-0.36084375,-0.288675,-0.21650624999999998,-0.14433750000000004,-0.07216875,-8.012340790841677e-18,0.07216875000000002,0.1443375,-0.324759375,-0.252590625,-0.18042187500000004,-0.108253125,-0.03608437500000001,-0.288675,-0.252590625,-0.21650625,-0.180421875],\"xaxis\":\"x\",\"y\":[-0.4375,-0.4375,-0.4375,-0.4375,-0.4375,-0.4375,-0.4375,-0.4375,-0.4375,-0.4375,-0.4375,-0.4375,-0.4375,-0.4375,-0.4375,-0.4375,-0.4375,-0.4375,-0.4375,-0.43749999999999994,-0.375,-0.375,-0.375,-0.375,-0.375,-0.375,-0.375,-0.375,-0.375,-0.375,-0.375,-0.375,-0.375,-0.375,-0.375,-0.375,-0.375,-0.37500000000000006,-0.375,-0.375,-0.3125,-0.3125,-0.3125,-0.3125,-0.3125,-0.3125,-0.3125,-0.3125,-0.3125,-0.3125,-0.3125,-0.3125,-0.3125,-0.3125,-0.3125,-0.3125,-0.3125,-0.3125,-0.3125,-0.25,-0.25,-0.25,-0.25,-0.25,-0.25,-0.25,-0.25,-0.25,-0.25,-0.25,-0.25,-0.25,-0.25,-0.25,-0.25,-0.25,-0.25,-0.18749999999999997,-0.1875,-0.1875,-0.18749999999999997,-0.1875,-0.1875,-0.18749999999999997,-0.1875,-0.18749999999999997,-0.1875,-0.1875,-0.18749999999999997,-0.1875,-0.18749999999999997,-0.1875,-0.1875,-0.18749999999999997,-0.125,-0.12500000000000003,-0.12499999999999997,-0.125,-0.125,-0.125,-0.125,-0.125,-0.125,-0.125,-0.125,-0.125,-0.125,-0.12499999999999999,-0.125,-0.125,-0.0625,-0.062499999999999944,-0.0625,-0.0625,-0.062499999999999944,-0.0625,-0.06249999999999997,-0.0625,-0.06249999999999997,-0.06249999999999997,-0.0625,-0.06249999999999997,-0.062499999999999986,-0.06249999999999996,-0.0625,0.0,0.0,-5.551115123125783e-17,0.0,0.0,-2.7755575615628914e-17,-2.7755575615628914e-17,-2.7755575615628914e-17,0.0,-2.7755575615628914e-17,-2.7755575615628914e-17,-1.3877787807814457e-17,-1.3877787807814457e-17,0.0,0.0625,0.0625,0.0625,0.0625,0.06250000000000003,0.06249999999999997,0.0625,0.0625,0.0625,0.0625,0.062499999999999986,0.06250000000000001,0.0625,0.125,0.12500000000000006,0.125,0.12500000000000003,0.12500000000000003,0.125,0.12500000000000003,0.12500000000000003,0.125,0.125,0.125,0.12500000000000003,0.1875,0.1875,0.18749999999999997,0.18749999999999997,0.1875,0.18749999999999997,0.18749999999999997,0.1875,0.18749999999999994,0.1875,0.18749999999999997,0.25,0.25,0.24999999999999997,0.25,0.25,0.24999999999999997,0.25,0.24999999999999994,0.25000000000000006,0.25,0.3125,0.3124999999999999,0.31249999999999994,0.3125,0.3125,0.31249999999999994,0.31249999999999994,0.31249999999999994,0.3125,0.375,0.375,0.3750000000000001,0.375,0.375,0.375,0.37500000000000006,0.375,0.4375,0.4375,0.4375,0.4375,0.43749999999999994,0.5,0.5625,0.625,0.6875],\"yaxis\":\"y\",\"type\":\"scatter\"}],                        {\"template\":{\"data\":{\"barpolar\":[{\"marker\":{\"line\":{\"color\":\"white\",\"width\":0.5},\"pattern\":{\"fillmode\":\"overlay\",\"size\":10,\"solidity\":0.2}},\"type\":\"barpolar\"}],\"bar\":[{\"error_x\":{\"color\":\"#2a3f5f\"},\"error_y\":{\"color\":\"#2a3f5f\"},\"marker\":{\"line\":{\"color\":\"white\",\"width\":0.5},\"pattern\":{\"fillmode\":\"overlay\",\"size\":10,\"solidity\":0.2}},\"type\":\"bar\"}],\"carpet\":[{\"aaxis\":{\"endlinecolor\":\"#2a3f5f\",\"gridcolor\":\"#C8D4E3\",\"linecolor\":\"#C8D4E3\",\"minorgridcolor\":\"#C8D4E3\",\"startlinecolor\":\"#2a3f5f\"},\"baxis\":{\"endlinecolor\":\"#2a3f5f\",\"gridcolor\":\"#C8D4E3\",\"linecolor\":\"#C8D4E3\",\"minorgridcolor\":\"#C8D4E3\",\"startlinecolor\":\"#2a3f5f\"},\"type\":\"carpet\"}],\"choropleth\":[{\"colorbar\":{\"outlinewidth\":0,\"ticks\":\"\"},\"type\":\"choropleth\"}],\"contourcarpet\":[{\"colorbar\":{\"outlinewidth\":0,\"ticks\":\"\"},\"type\":\"contourcarpet\"}],\"contour\":[{\"colorbar\":{\"outlinewidth\":0,\"ticks\":\"\"},\"colorscale\":[[0.0,\"#0d0887\"],[0.1111111111111111,\"#46039f\"],[0.2222222222222222,\"#7201a8\"],[0.3333333333333333,\"#9c179e\"],[0.4444444444444444,\"#bd3786\"],[0.5555555555555556,\"#d8576b\"],[0.6666666666666666,\"#ed7953\"],[0.7777777777777778,\"#fb9f3a\"],[0.8888888888888888,\"#fdca26\"],[1.0,\"#f0f921\"]],\"type\":\"contour\"}],\"heatmapgl\":[{\"colorbar\":{\"outlinewidth\":0,\"ticks\":\"\"},\"colorscale\":[[0.0,\"#0d0887\"],[0.1111111111111111,\"#46039f\"],[0.2222222222222222,\"#7201a8\"],[0.3333333333333333,\"#9c179e\"],[0.4444444444444444,\"#bd3786\"],[0.5555555555555556,\"#d8576b\"],[0.6666666666666666,\"#ed7953\"],[0.7777777777777778,\"#fb9f3a\"],[0.8888888888888888,\"#fdca26\"],[1.0,\"#f0f921\"]],\"type\":\"heatmapgl\"}],\"heatmap\":[{\"colorbar\":{\"outlinewidth\":0,\"ticks\":\"\"},\"colorscale\":[[0.0,\"#0d0887\"],[0.1111111111111111,\"#46039f\"],[0.2222222222222222,\"#7201a8\"],[0.3333333333333333,\"#9c179e\"],[0.4444444444444444,\"#bd3786\"],[0.5555555555555556,\"#d8576b\"],[0.6666666666666666,\"#ed7953\"],[0.7777777777777778,\"#fb9f3a\"],[0.8888888888888888,\"#fdca26\"],[1.0,\"#f0f921\"]],\"type\":\"heatmap\"}],\"histogram2dcontour\":[{\"colorbar\":{\"outlinewidth\":0,\"ticks\":\"\"},\"colorscale\":[[0.0,\"#0d0887\"],[0.1111111111111111,\"#46039f\"],[0.2222222222222222,\"#7201a8\"],[0.3333333333333333,\"#9c179e\"],[0.4444444444444444,\"#bd3786\"],[0.5555555555555556,\"#d8576b\"],[0.6666666666666666,\"#ed7953\"],[0.7777777777777778,\"#fb9f3a\"],[0.8888888888888888,\"#fdca26\"],[1.0,\"#f0f921\"]],\"type\":\"histogram2dcontour\"}],\"histogram2d\":[{\"colorbar\":{\"outlinewidth\":0,\"ticks\":\"\"},\"colorscale\":[[0.0,\"#0d0887\"],[0.1111111111111111,\"#46039f\"],[0.2222222222222222,\"#7201a8\"],[0.3333333333333333,\"#9c179e\"],[0.4444444444444444,\"#bd3786\"],[0.5555555555555556,\"#d8576b\"],[0.6666666666666666,\"#ed7953\"],[0.7777777777777778,\"#fb9f3a\"],[0.8888888888888888,\"#fdca26\"],[1.0,\"#f0f921\"]],\"type\":\"histogram2d\"}],\"histogram\":[{\"marker\":{\"pattern\":{\"fillmode\":\"overlay\",\"size\":10,\"solidity\":0.2}},\"type\":\"histogram\"}],\"mesh3d\":[{\"colorbar\":{\"outlinewidth\":0,\"ticks\":\"\"},\"type\":\"mesh3d\"}],\"parcoords\":[{\"line\":{\"colorbar\":{\"outlinewidth\":0,\"ticks\":\"\"}},\"type\":\"parcoords\"}],\"pie\":[{\"automargin\":true,\"type\":\"pie\"}],\"scatter3d\":[{\"line\":{\"colorbar\":{\"outlinewidth\":0,\"ticks\":\"\"}},\"marker\":{\"colorbar\":{\"outlinewidth\":0,\"ticks\":\"\"}},\"type\":\"scatter3d\"}],\"scattercarpet\":[{\"marker\":{\"colorbar\":{\"outlinewidth\":0,\"ticks\":\"\"}},\"type\":\"scattercarpet\"}],\"scattergeo\":[{\"marker\":{\"colorbar\":{\"outlinewidth\":0,\"ticks\":\"\"}},\"type\":\"scattergeo\"}],\"scattergl\":[{\"marker\":{\"colorbar\":{\"outlinewidth\":0,\"ticks\":\"\"}},\"type\":\"scattergl\"}],\"scattermapbox\":[{\"marker\":{\"colorbar\":{\"outlinewidth\":0,\"ticks\":\"\"}},\"type\":\"scattermapbox\"}],\"scatterpolargl\":[{\"marker\":{\"colorbar\":{\"outlinewidth\":0,\"ticks\":\"\"}},\"type\":\"scatterpolargl\"}],\"scatterpolar\":[{\"marker\":{\"colorbar\":{\"outlinewidth\":0,\"ticks\":\"\"}},\"type\":\"scatterpolar\"}],\"scatter\":[{\"fillpattern\":{\"fillmode\":\"overlay\",\"size\":10,\"solidity\":0.2},\"type\":\"scatter\"}],\"scatterternary\":[{\"marker\":{\"colorbar\":{\"outlinewidth\":0,\"ticks\":\"\"}},\"type\":\"scatterternary\"}],\"surface\":[{\"colorbar\":{\"outlinewidth\":0,\"ticks\":\"\"},\"colorscale\":[[0.0,\"#0d0887\"],[0.1111111111111111,\"#46039f\"],[0.2222222222222222,\"#7201a8\"],[0.3333333333333333,\"#9c179e\"],[0.4444444444444444,\"#bd3786\"],[0.5555555555555556,\"#d8576b\"],[0.6666666666666666,\"#ed7953\"],[0.7777777777777778,\"#fb9f3a\"],[0.8888888888888888,\"#fdca26\"],[1.0,\"#f0f921\"]],\"type\":\"surface\"}],\"table\":[{\"cells\":{\"fill\":{\"color\":\"#EBF0F8\"},\"line\":{\"color\":\"white\"}},\"header\":{\"fill\":{\"color\":\"#C8D4E3\"},\"line\":{\"color\":\"white\"}},\"type\":\"table\"}]},\"layout\":{\"annotationdefaults\":{\"arrowcolor\":\"#2a3f5f\",\"arrowhead\":0,\"arrowwidth\":1},\"autotypenumbers\":\"strict\",\"coloraxis\":{\"colorbar\":{\"outlinewidth\":0,\"ticks\":\"\"}},\"colorscale\":{\"diverging\":[[0,\"#8e0152\"],[0.1,\"#c51b7d\"],[0.2,\"#de77ae\"],[0.3,\"#f1b6da\"],[0.4,\"#fde0ef\"],[0.5,\"#f7f7f7\"],[0.6,\"#e6f5d0\"],[0.7,\"#b8e186\"],[0.8,\"#7fbc41\"],[0.9,\"#4d9221\"],[1,\"#276419\"]],\"sequential\":[[0.0,\"#0d0887\"],[0.1111111111111111,\"#46039f\"],[0.2222222222222222,\"#7201a8\"],[0.3333333333333333,\"#9c179e\"],[0.4444444444444444,\"#bd3786\"],[0.5555555555555556,\"#d8576b\"],[0.6666666666666666,\"#ed7953\"],[0.7777777777777778,\"#fb9f3a\"],[0.8888888888888888,\"#fdca26\"],[1.0,\"#f0f921\"]],\"sequentialminus\":[[0.0,\"#0d0887\"],[0.1111111111111111,\"#46039f\"],[0.2222222222222222,\"#7201a8\"],[0.3333333333333333,\"#9c179e\"],[0.4444444444444444,\"#bd3786\"],[0.5555555555555556,\"#d8576b\"],[0.6666666666666666,\"#ed7953\"],[0.7777777777777778,\"#fb9f3a\"],[0.8888888888888888,\"#fdca26\"],[1.0,\"#f0f921\"]]},\"colorway\":[\"#636efa\",\"#EF553B\",\"#00cc96\",\"#ab63fa\",\"#FFA15A\",\"#19d3f3\",\"#FF6692\",\"#B6E880\",\"#FF97FF\",\"#FECB52\"],\"font\":{\"color\":\"#2a3f5f\"},\"geo\":{\"bgcolor\":\"white\",\"lakecolor\":\"white\",\"landcolor\":\"white\",\"showlakes\":true,\"showland\":true,\"subunitcolor\":\"#C8D4E3\"},\"hoverlabel\":{\"align\":\"left\"},\"hovermode\":\"closest\",\"mapbox\":{\"style\":\"light\"},\"paper_bgcolor\":\"white\",\"plot_bgcolor\":\"white\",\"polar\":{\"angularaxis\":{\"gridcolor\":\"#EBF0F8\",\"linecolor\":\"#EBF0F8\",\"ticks\":\"\"},\"bgcolor\":\"white\",\"radialaxis\":{\"gridcolor\":\"#EBF0F8\",\"linecolor\":\"#EBF0F8\",\"ticks\":\"\"}},\"scene\":{\"xaxis\":{\"backgroundcolor\":\"white\",\"gridcolor\":\"#DFE8F3\",\"gridwidth\":2,\"linecolor\":\"#EBF0F8\",\"showbackground\":true,\"ticks\":\"\",\"zerolinecolor\":\"#EBF0F8\"},\"yaxis\":{\"backgroundcolor\":\"white\",\"gridcolor\":\"#DFE8F3\",\"gridwidth\":2,\"linecolor\":\"#EBF0F8\",\"showbackground\":true,\"ticks\":\"\",\"zerolinecolor\":\"#EBF0F8\"},\"zaxis\":{\"backgroundcolor\":\"white\",\"gridcolor\":\"#DFE8F3\",\"gridwidth\":2,\"linecolor\":\"#EBF0F8\",\"showbackground\":true,\"ticks\":\"\",\"zerolinecolor\":\"#EBF0F8\"}},\"shapedefaults\":{\"line\":{\"color\":\"#2a3f5f\"}},\"ternary\":{\"aaxis\":{\"gridcolor\":\"#DFE8F3\",\"linecolor\":\"#A2B1C6\",\"ticks\":\"\"},\"baxis\":{\"gridcolor\":\"#DFE8F3\",\"linecolor\":\"#A2B1C6\",\"ticks\":\"\"},\"bgcolor\":\"white\",\"caxis\":{\"gridcolor\":\"#DFE8F3\",\"linecolor\":\"#A2B1C6\",\"ticks\":\"\"}},\"title\":{\"x\":0.05},\"xaxis\":{\"automargin\":true,\"gridcolor\":\"#EBF0F8\",\"linecolor\":\"#EBF0F8\",\"ticks\":\"\",\"title\":{\"standoff\":15},\"zerolinecolor\":\"#EBF0F8\",\"zerolinewidth\":2},\"yaxis\":{\"automargin\":true,\"gridcolor\":\"#EBF0F8\",\"linecolor\":\"#EBF0F8\",\"ticks\":\"\",\"title\":{\"standoff\":15},\"zerolinecolor\":\"#EBF0F8\",\"zerolinewidth\":2}}},\"xaxis\":{\"anchor\":\"y\",\"domain\":[0.0,1.0],\"title\":{\"text\":\"\"}},\"yaxis\":{\"anchor\":\"x\",\"domain\":[0.0,1.0],\"title\":{\"text\":\"\"}},\"legend\":{\"title\":{\"text\":\"Solid Solution Phases\"},\"tracegroupgap\":0},\"margin\":{\"t\":60},\"height\":600,\"width\":800},                        {\"responsive\": true}                    ).then(function(){\n",
       "                            \n",
       "var gd = document.getElementById('6eb3333c-a7a6-44f6-a4f6-8d0373428efa');\n",
       "var x = new MutationObserver(function (mutations, observer) {{\n",
       "        var display = window.getComputedStyle(gd).display;\n",
       "        if (!display || display === 'none') {{\n",
       "            console.log([gd, 'removed!']);\n",
       "            Plotly.purge(gd);\n",
       "            observer.disconnect();\n",
       "        }}\n",
       "}});\n",
       "\n",
       "// Listen for the removal of the full notebook cells\n",
       "var notebookContainer = gd.closest('#notebook-container');\n",
       "if (notebookContainer) {{\n",
       "    x.observe(notebookContainer, {childList: true});\n",
       "}}\n",
       "\n",
       "// Listen for the clearing of the current output cell\n",
       "var outputEl = gd.closest('.output');\n",
       "if (outputEl) {{\n",
       "    x.observe(outputEl, {childList: true});\n",
       "}}\n",
       "\n",
       "                        })                };                });            </script>        </div>"
      ]
     },
     "metadata": {},
     "output_type": "display_data"
    }
   ],
   "source": [
    "pureComponentIndices = nimplex.pure_component_indexes_py(3, slen)\n",
    "labels = ['']*len(gridAtt_projected_df)\n",
    "for comp, idx in zip([\"Ni\", \"Cr\", \"V\"], pureComponentIndices):\n",
    "    labels[idx] = \"<b>\"+comp+\"</b>\"\n",
    "fig = px.scatter(gridAtt_projected_df, x='x', y='y', color=gridFeasible2, text=labels, \n",
    "              template='plotly_white', width=800, height=600, color_discrete_map=color_map, \n",
    "              labels={'color':'Solid Solution Phases', 'x':'', 'y':''})\n",
    "fig.show()"
   ]
  },
  {
   "cell_type": "code",
   "execution_count": 89,
   "metadata": {},
   "outputs": [
    {
     "data": {
      "application/vnd.jupyter.widget-view+json": {
       "model_id": "f8547f0942884166bbb7a6e5220243a1",
       "version_major": 2,
       "version_minor": 0
      },
      "text/plain": [
       "  0%|          | 0/325 [00:00<?, ?it/s]"
      ]
     },
     "metadata": {},
     "output_type": "display_data"
    }
   ],
   "source": [
    "gridAtt3, gridEl3, graphN3, edges3, gridFeasible3, gridPhases3 = system_graphs2(2, [[100,0,0], [0,100,0], [0,0,100]])\n",
    "from ammap.callables.EqScheil2 import elementalSpaceComponents as comp2"
   ]
  },
  {
   "cell_type": "code",
   "execution_count": 90,
   "metadata": {},
   "outputs": [
    {
     "name": "stdout",
     "output_type": "stream",
     "text": [
      "dict_keys(['LIQUID', 'BCC_A2', 'HCP_A3', 'LAVES_C14', 'LAVES_C36', 'LAVES_C15'])\n"
     ]
    }
   ],
   "source": [
    "from pycalphad import Database\n",
    "check=Database('ammap/databases/Cr-Ti-V_ghosh2002.tdb')\n",
    "checkphase=check.phases.keys()\n",
    "print(checkphase)\n"
   ]
  },
  {
   "cell_type": "code",
   "execution_count": 40,
   "metadata": {},
   "outputs": [],
   "source": [
    "#infeasiblePhases2 = set(['LIQUID', 'LAVES_C14', 'LAVES_C36', 'LAVES_C15'])"
   ]
  },
  {
   "cell_type": "code",
   "execution_count": 41,
   "metadata": {},
   "outputs": [],
   "source": [
    "#gridFeasible3 = [len(set(p['Phases']) & infeasiblePhases2)==0 and p!=[] for p in gridPhases3]\n"
   ]
  },
  {
   "cell_type": "code",
   "execution_count": 91,
   "metadata": {},
   "outputs": [
    {
     "data": {
      "application/vnd.plotly.v1+json": {
       "config": {
        "plotlyServerURL": "https://plot.ly"
       },
       "data": [
        {
         "hovertemplate": "<b>%{hovertext}</b><br><br>Solid Solution Phases=True<br>=%{y}<br>text=%{text}<extra></extra>",
         "hovertext": [
          0,
          1,
          2,
          3,
          4,
          5,
          6,
          7,
          8,
          9,
          10,
          11,
          12,
          13,
          14,
          15,
          16,
          17,
          18,
          19,
          20,
          21,
          22,
          23,
          24,
          25,
          26,
          27,
          28,
          29,
          30,
          31,
          32,
          33,
          34,
          35,
          36,
          37,
          38,
          39,
          40,
          41,
          42,
          43,
          44,
          45,
          46,
          47,
          48,
          49,
          50,
          51,
          52,
          53,
          54,
          55,
          56,
          57,
          58,
          59,
          60,
          61,
          62,
          63,
          64,
          65,
          66,
          67,
          68,
          69,
          70,
          71,
          72,
          73,
          74,
          75,
          76,
          77,
          78,
          79,
          80,
          81,
          82,
          83,
          84,
          85,
          86,
          87,
          88,
          89,
          90,
          91,
          92,
          93,
          94,
          95,
          96,
          97,
          98,
          99,
          100,
          101,
          102,
          103,
          104,
          105,
          106,
          107,
          108,
          109,
          110,
          111,
          115,
          116,
          117,
          118,
          119,
          120,
          121,
          122,
          123,
          124,
          125,
          126,
          127,
          135,
          136,
          137,
          138,
          139,
          140,
          141,
          142,
          143,
          144,
          154,
          155,
          156,
          157,
          158,
          159,
          160,
          161,
          172,
          173,
          174,
          175,
          176,
          177,
          189,
          190,
          191,
          192,
          205,
          206,
          207,
          220,
          221,
          234,
          235,
          247,
          248,
          259,
          270,
          280,
          289,
          297,
          304,
          310,
          315,
          319,
          322,
          324
         ],
         "legendgroup": "True",
         "marker": {
          "color": "#FECB52",
          "symbol": "circle"
         },
         "mode": "markers+text",
         "name": "True",
         "orientation": "v",
         "showlegend": true,
         "text": [
          "<b>V</b>",
          "",
          "",
          "",
          "",
          "",
          "",
          "",
          "",
          "",
          "",
          "",
          "",
          "",
          "",
          "",
          "",
          "",
          "",
          "",
          "",
          "",
          "",
          "",
          "<b>Ti</b>",
          "",
          "",
          "",
          "",
          "",
          "",
          "",
          "",
          "",
          "",
          "",
          "",
          "",
          "",
          "",
          "",
          "",
          "",
          "",
          "",
          "",
          "",
          "",
          "",
          "",
          "",
          "",
          "",
          "",
          "",
          "",
          "",
          "",
          "",
          "",
          "",
          "",
          "",
          "",
          "",
          "",
          "",
          "",
          "",
          "",
          "",
          "",
          "",
          "",
          "",
          "",
          "",
          "",
          "",
          "",
          "",
          "",
          "",
          "",
          "",
          "",
          "",
          "",
          "",
          "",
          "",
          "",
          "",
          "",
          "",
          "",
          "",
          "",
          "",
          "",
          "",
          "",
          "",
          "",
          "",
          "",
          "",
          "",
          "",
          "",
          "",
          "",
          "",
          "",
          "",
          "",
          "",
          "",
          "",
          "",
          "",
          "",
          "",
          "",
          "",
          "",
          "",
          "",
          "",
          "",
          "",
          "",
          "",
          "",
          "",
          "",
          "",
          "",
          "",
          "",
          "",
          "",
          "",
          "",
          "",
          "",
          "",
          "",
          "",
          "",
          "",
          "",
          "",
          "",
          "",
          "",
          "",
          "",
          "",
          "",
          "",
          "",
          "",
          "",
          "",
          "",
          "",
          "",
          "",
          "",
          "",
          "",
          "<b>Cr</b>"
         ],
         "type": "scatter",
         "x": [
          -0.866025,
          -0.79385625,
          -0.7216875,
          -0.64951875,
          -0.57735,
          -0.50518125,
          -0.4330125,
          -0.3608437500000001,
          -0.28867499999999996,
          -0.21650625,
          -0.14433750000000004,
          -0.07216874999999998,
          0,
          0.07216874999999996,
          0.14433749999999998,
          0.21650625000000007,
          0.288675,
          0.3608437500000001,
          0.4330125,
          0.5051812499999999,
          0.57735,
          0.6495187499999999,
          0.7216875,
          0.7938562500000002,
          0.866025,
          -0.8299406250000001,
          -0.757771875,
          -0.6856031250000001,
          -0.6134343750000001,
          -0.541265625,
          -0.469096875,
          -0.3969281250000001,
          -0.32475937499999996,
          -0.252590625,
          -0.18042187500000004,
          -0.10825312499999998,
          -0.036084375,
          0.036084375000000016,
          0.10825312499999994,
          0.180421875,
          0.25259062500000007,
          0.324759375,
          0.3969281250000001,
          0.469096875,
          0.541265625,
          0.613434375,
          0.685603125,
          0.7577718750000001,
          0.8299406250000001,
          -0.79385625,
          -0.7216875,
          -0.64951875,
          -0.57735,
          -0.50518125,
          -0.4330125000000001,
          -0.36084374999999996,
          -0.288675,
          -0.21650625000000004,
          -0.14433749999999998,
          -0.07216875,
          1.6024681581683354e-17,
          0.07216874999999999,
          0.14433749999999995,
          0.21650625000000004,
          0.28867500000000007,
          0.36084375,
          0.4330125000000001,
          0.50518125,
          0.57735,
          0.64951875,
          0.7216875,
          0.79385625,
          -0.757771875,
          -0.6856031250000001,
          -0.613434375,
          -0.5412656250000001,
          -0.4690968750000001,
          -0.39692812499999997,
          -0.324759375,
          -0.25259062500000007,
          -0.18042187499999998,
          -0.108253125,
          -0.03608437499999999,
          0.03608437499999999,
          0.108253125,
          0.18042187499999998,
          0.252590625,
          0.3247593750000001,
          0.396928125,
          0.4690968750000001,
          0.5412656250000001,
          0.613434375,
          0.6856031250000001,
          0.757771875,
          -0.7216875,
          -0.64951875,
          -0.57735,
          -0.50518125,
          -0.43301249999999997,
          -0.36084375,
          -0.28867500000000007,
          -0.21650624999999998,
          -0.1443375,
          -0.07216874999999999,
          -1.6024681581683354e-17,
          0.07216875,
          0.14433750000000004,
          0.21650624999999993,
          0.288675,
          0.3608437500000001,
          0.4330125,
          0.5051812500000001,
          -0.685603125,
          -0.613434375,
          -0.5412656250000001,
          -0.46909687499999997,
          -0.396928125,
          -0.3247593750000001,
          -0.25259062499999996,
          -0.180421875,
          -0.10825312499999999,
          -0.036084375000000016,
          0.036084375,
          0.10825312500000002,
          0.18042187499999998,
          -0.64951875,
          -0.57735,
          -0.50518125,
          -0.4330125,
          -0.3608437500000001,
          -0.28867499999999996,
          -0.21650625,
          -0.14433749999999998,
          -0.07216875000000002,
          0,
          -0.6134343750000001,
          -0.541265625,
          -0.469096875,
          -0.3969281250000001,
          -0.32475937499999996,
          -0.252590625,
          -0.18042187499999998,
          -0.10825312500000002,
          -0.57735,
          -0.50518125,
          -0.4330125000000001,
          -0.36084374999999996,
          -0.288675,
          -0.21650624999999998,
          -0.5412656250000001,
          -0.4690968750000001,
          -0.39692812499999997,
          -0.324759375,
          -0.50518125,
          -0.43301249999999997,
          -0.36084375,
          -0.46909687499999997,
          -0.396928125,
          -0.4330125,
          -0.36084375,
          -0.396928125,
          -0.324759375,
          -0.36084375,
          -0.324759375,
          -0.288675,
          -0.252590625,
          -0.21650625,
          -0.180421875,
          -0.1443375,
          -0.108253125,
          -0.07216875,
          -0.036084375,
          0
         ],
         "xaxis": "x",
         "y": [
          -0.5,
          -0.5,
          -0.5,
          -0.5,
          -0.5,
          -0.5,
          -0.5,
          -0.5,
          -0.5,
          -0.5,
          -0.5,
          -0.5,
          -0.5,
          -0.5,
          -0.5,
          -0.5,
          -0.5,
          -0.5,
          -0.5,
          -0.5,
          -0.5,
          -0.5,
          -0.5,
          -0.5,
          -0.5,
          -0.4375,
          -0.4375,
          -0.4375,
          -0.4375,
          -0.4375,
          -0.4375,
          -0.4375,
          -0.4375,
          -0.4375,
          -0.4375,
          -0.4375,
          -0.4375,
          -0.4375,
          -0.4375,
          -0.4375,
          -0.4375,
          -0.4375,
          -0.4375,
          -0.4375,
          -0.43749999999999994,
          -0.4375,
          -0.4375,
          -0.43749999999999994,
          -0.4375,
          -0.375,
          -0.375,
          -0.375,
          -0.375,
          -0.375,
          -0.375,
          -0.375,
          -0.375,
          -0.375,
          -0.375,
          -0.375,
          -0.375,
          -0.375,
          -0.375,
          -0.375,
          -0.375,
          -0.375,
          -0.37500000000000006,
          -0.375,
          -0.375,
          -0.37500000000000006,
          -0.375,
          -0.375,
          -0.3125,
          -0.3125,
          -0.3125,
          -0.3125,
          -0.3125,
          -0.3125,
          -0.3125,
          -0.3125,
          -0.3125,
          -0.3125,
          -0.3125,
          -0.3125,
          -0.3125,
          -0.3125,
          -0.3125,
          -0.3125,
          -0.3125,
          -0.3125,
          -0.3125,
          -0.3125,
          -0.3125,
          -0.3125,
          -0.25,
          -0.25,
          -0.25,
          -0.25,
          -0.25,
          -0.25,
          -0.25,
          -0.25,
          -0.25,
          -0.25,
          -0.25,
          -0.25,
          -0.25,
          -0.25,
          -0.25,
          -0.25,
          -0.25,
          -0.25,
          -0.18749999999999997,
          -0.1875,
          -0.1875,
          -0.18749999999999997,
          -0.1875,
          -0.1875,
          -0.18749999999999997,
          -0.1875,
          -0.18749999999999997,
          -0.1875,
          -0.1875,
          -0.18749999999999997,
          -0.1875,
          -0.125,
          -0.12500000000000003,
          -0.12499999999999997,
          -0.125,
          -0.125,
          -0.125,
          -0.125,
          -0.125,
          -0.125,
          -0.125,
          -0.0625,
          -0.062499999999999944,
          -0.0625,
          -0.0625,
          -0.062499999999999944,
          -0.0625,
          -0.06249999999999997,
          -0.0625,
          0,
          0,
          -5.551115123125783e-17,
          0,
          0,
          -2.7755575615628914e-17,
          0.0625,
          0.0625,
          0.0625,
          0.0625,
          0.125,
          0.12500000000000006,
          0.125,
          0.1875,
          0.1875,
          0.25,
          0.25,
          0.3125,
          0.3124999999999999,
          0.375,
          0.4375,
          0.5,
          0.5625,
          0.625,
          0.6875,
          0.75,
          0.8125,
          0.875,
          0.9375,
          1
         ],
         "yaxis": "y"
        },
        {
         "hovertemplate": "<b>%{hovertext}</b><br><br>Solid Solution Phases=False<br>=%{y}<br>text=%{text}<extra></extra>",
         "hovertext": [
          112,
          113,
          114,
          128,
          129,
          130,
          131,
          132,
          133,
          134,
          145,
          146,
          147,
          148,
          149,
          150,
          151,
          152,
          153,
          162,
          163,
          164,
          165,
          166,
          167,
          168,
          169,
          170,
          171,
          178,
          179,
          180,
          181,
          182,
          183,
          184,
          185,
          186,
          187,
          188,
          193,
          194,
          195,
          196,
          197,
          198,
          199,
          200,
          201,
          202,
          203,
          204,
          208,
          209,
          210,
          211,
          212,
          213,
          214,
          215,
          216,
          217,
          218,
          219,
          222,
          223,
          224,
          225,
          226,
          227,
          228,
          229,
          230,
          231,
          232,
          233,
          236,
          237,
          238,
          239,
          240,
          241,
          242,
          243,
          244,
          245,
          246,
          249,
          250,
          251,
          252,
          253,
          254,
          255,
          256,
          257,
          258,
          260,
          261,
          262,
          263,
          264,
          265,
          266,
          267,
          268,
          269,
          271,
          272,
          273,
          274,
          275,
          276,
          277,
          278,
          279,
          281,
          282,
          283,
          284,
          285,
          286,
          287,
          288,
          290,
          291,
          292,
          293,
          294,
          295,
          296,
          298,
          299,
          300,
          301,
          302,
          303,
          305,
          306,
          307,
          308,
          309,
          311,
          312,
          313,
          314,
          316,
          317,
          318,
          320,
          321,
          323
         ],
         "legendgroup": "False",
         "marker": {
          "color": "blue",
          "symbol": "circle"
         },
         "mode": "markers+text",
         "name": "False",
         "orientation": "v",
         "showlegend": true,
         "text": [
          "",
          "",
          "",
          "",
          "",
          "",
          "",
          "",
          "",
          "",
          "",
          "",
          "",
          "",
          "",
          "",
          "",
          "",
          "",
          "",
          "",
          "",
          "",
          "",
          "",
          "",
          "",
          "",
          "",
          "",
          "",
          "",
          "",
          "",
          "",
          "",
          "",
          "",
          "",
          "",
          "",
          "",
          "",
          "",
          "",
          "",
          "",
          "",
          "",
          "",
          "",
          "",
          "",
          "",
          "",
          "",
          "",
          "",
          "",
          "",
          "",
          "",
          "",
          "",
          "",
          "",
          "",
          "",
          "",
          "",
          "",
          "",
          "",
          "",
          "",
          "",
          "",
          "",
          "",
          "",
          "",
          "",
          "",
          "",
          "",
          "",
          "",
          "",
          "",
          "",
          "",
          "",
          "",
          "",
          "",
          "",
          "",
          "",
          "",
          "",
          "",
          "",
          "",
          "",
          "",
          "",
          "",
          "",
          "",
          "",
          "",
          "",
          "",
          "",
          "",
          "",
          "",
          "",
          "",
          "",
          "",
          "",
          "",
          "",
          "",
          "",
          "",
          "",
          "",
          "",
          "",
          "",
          "",
          "",
          "",
          "",
          "",
          "",
          "",
          "",
          "",
          "",
          "",
          "",
          "",
          "",
          "",
          "",
          "",
          "",
          "",
          ""
         ],
         "type": "scatter",
         "x": [
          0.57735,
          0.64951875,
          0.7216875,
          0.25259062499999996,
          0.324759375,
          0.3969281250000001,
          0.469096875,
          0.5412656250000001,
          0.6134343750000001,
          0.685603125,
          0.07216875000000002,
          0.14433749999999998,
          0.21650625,
          0.28867499999999996,
          0.36084375,
          0.4330125000000001,
          0.50518125,
          0.5773500000000001,
          0.64951875,
          -0.036084375,
          0.036084375000000016,
          0.10825312499999999,
          0.180421875,
          0.252590625,
          0.32475937499999996,
          0.396928125,
          0.4690968750000001,
          0.5412656250000001,
          0.6134343750000001,
          -0.14433750000000004,
          -0.07216875,
          1.6024681581683354e-17,
          0.07216874999999999,
          0.1443375,
          0.21650625,
          0.288675,
          0.36084374999999996,
          0.4330125,
          0.5051812500000001,
          0.57735,
          -0.252590625,
          -0.18042187500000004,
          -0.108253125,
          -0.03608437499999999,
          0.03608437499999999,
          0.108253125,
          0.180421875,
          0.252590625,
          0.324759375,
          0.39692812499999997,
          0.469096875,
          0.5412656250000001,
          -0.288675,
          -0.21650625000000004,
          -0.1443375,
          -0.07216874999999999,
          -1.6024681581683354e-17,
          0.07216875,
          0.1443375,
          0.21650625,
          0.288675,
          0.36084375,
          0.43301249999999997,
          0.50518125,
          -0.324759375,
          -0.252590625,
          -0.180421875,
          -0.10825312499999999,
          -0.036084375000000016,
          0.036084375,
          0.10825312499999999,
          0.180421875,
          0.252590625,
          0.324759375,
          0.396928125,
          0.46909687499999997,
          -0.288675,
          -0.21650625,
          -0.14433749999999998,
          -0.07216875000000002,
          0,
          0.07216874999999999,
          0.1443375,
          0.21650625,
          0.288675,
          0.36084375,
          0.4330125,
          -0.252590625,
          -0.18042187499999998,
          -0.10825312500000002,
          -0.036084375,
          0.036084374999999995,
          0.10825312500000002,
          0.180421875,
          0.252590625,
          0.324759375,
          0.396928125,
          -0.288675,
          -0.21650624999999998,
          -0.14433750000000004,
          -0.07216875,
          -8.012340790841677e-18,
          0.07216875000000002,
          0.1443375,
          0.21650625,
          0.288675,
          0.36084375,
          -0.252590625,
          -0.18042187500000004,
          -0.108253125,
          -0.03608437500000001,
          0.03608437500000001,
          0.108253125,
          0.180421875,
          0.252590625,
          0.324759375,
          -0.21650625000000004,
          -0.1443375,
          -0.07216875000000002,
          8.012340790841677e-18,
          0.07216875,
          0.1443375,
          0.21650625,
          0.288675,
          -0.180421875,
          -0.10825312500000002,
          -0.036084374999999995,
          0.036084375,
          0.108253125,
          0.180421875,
          0.252590625,
          -0.1443375,
          -0.07216874999999999,
          0,
          0.07216875,
          0.1443375,
          0.21650625,
          -0.10825312499999999,
          -0.036084375,
          0.03608437500000001,
          0.108253125,
          0.180421875,
          -0.07216875,
          4.0061703954208385e-18,
          0.07216875,
          0.1443375,
          -0.036084374999999995,
          0.036084375,
          0.108253125,
          2.0030851977104193e-18,
          0.07216875,
          0.036084375
         ],
         "xaxis": "x",
         "y": [
          -0.25,
          -0.25,
          -0.25,
          -0.18749999999999997,
          -0.1875,
          -0.1875,
          -0.18749999999999997,
          -0.1875,
          -0.1875,
          -0.18749999999999997,
          -0.125,
          -0.125,
          -0.125,
          -0.12499999999999999,
          -0.125,
          -0.125,
          -0.12499999999999997,
          -0.12500000000000003,
          -0.125,
          -0.06249999999999997,
          -0.06249999999999997,
          -0.0625,
          -0.06249999999999997,
          -0.062499999999999986,
          -0.06249999999999996,
          -0.0625,
          -0.06249999999999998,
          -0.06249999999999996,
          -0.0625,
          -2.7755575615628914e-17,
          -2.7755575615628914e-17,
          0,
          -2.7755575615628914e-17,
          -2.7755575615628914e-17,
          -1.3877787807814457e-17,
          -1.3877787807814457e-17,
          0,
          -3.469446951953614e-17,
          -1.734723475976807e-17,
          0,
          0.06250000000000003,
          0.06249999999999997,
          0.0625,
          0.0625,
          0.0625,
          0.0625,
          0.062499999999999986,
          0.06250000000000001,
          0.0625,
          0.06250000000000003,
          0.062499999999999986,
          0.0625,
          0.12500000000000003,
          0.12500000000000003,
          0.125,
          0.12500000000000003,
          0.12500000000000003,
          0.125,
          0.125,
          0.125,
          0.12500000000000003,
          0.12500000000000003,
          0.12500000000000003,
          0.125,
          0.18749999999999997,
          0.18749999999999997,
          0.1875,
          0.18749999999999997,
          0.18749999999999997,
          0.1875,
          0.18749999999999994,
          0.1875,
          0.18749999999999997,
          0.1875,
          0.18749999999999997,
          0.1875,
          0.24999999999999997,
          0.25,
          0.25,
          0.24999999999999997,
          0.25,
          0.24999999999999994,
          0.25000000000000006,
          0.25,
          0.24999999999999997,
          0.25000000000000006,
          0.25,
          0.31249999999999994,
          0.3125,
          0.3125,
          0.31249999999999994,
          0.31249999999999994,
          0.31249999999999994,
          0.3125,
          0.31249999999999994,
          0.31249999999999994,
          0.3125,
          0.375,
          0.3750000000000001,
          0.375,
          0.375,
          0.375,
          0.37500000000000006,
          0.375,
          0.37500000000000006,
          0.37500000000000006,
          0.375,
          0.4375,
          0.4375,
          0.4375,
          0.43749999999999994,
          0.43750000000000006,
          0.4375,
          0.43749999999999994,
          0.43750000000000006,
          0.4375,
          0.4999999999999999,
          0.5,
          0.49999999999999994,
          0.49999999999999994,
          0.5,
          0.49999999999999994,
          0.49999999999999994,
          0.5,
          0.5625,
          0.5625000000000001,
          0.5625,
          0.5625,
          0.5625000000000001,
          0.5625,
          0.5625,
          0.625,
          0.625,
          0.625,
          0.625,
          0.625,
          0.625,
          0.6874999999999999,
          0.6875,
          0.6875,
          0.6874999999999999,
          0.6875,
          0.75,
          0.7500000000000001,
          0.75,
          0.75,
          0.8125,
          0.8125,
          0.8125,
          0.8749999999999999,
          0.875,
          0.9375
         ],
         "yaxis": "y"
        }
       ],
       "layout": {
        "height": 600,
        "legend": {
         "title": {
          "text": "Solid Solution Phases"
         },
         "tracegroupgap": 0
        },
        "margin": {
         "t": 60
        },
        "template": {
         "data": {
          "bar": [
           {
            "error_x": {
             "color": "#2a3f5f"
            },
            "error_y": {
             "color": "#2a3f5f"
            },
            "marker": {
             "line": {
              "color": "white",
              "width": 0.5
             },
             "pattern": {
              "fillmode": "overlay",
              "size": 10,
              "solidity": 0.2
             }
            },
            "type": "bar"
           }
          ],
          "barpolar": [
           {
            "marker": {
             "line": {
              "color": "white",
              "width": 0.5
             },
             "pattern": {
              "fillmode": "overlay",
              "size": 10,
              "solidity": 0.2
             }
            },
            "type": "barpolar"
           }
          ],
          "carpet": [
           {
            "aaxis": {
             "endlinecolor": "#2a3f5f",
             "gridcolor": "#C8D4E3",
             "linecolor": "#C8D4E3",
             "minorgridcolor": "#C8D4E3",
             "startlinecolor": "#2a3f5f"
            },
            "baxis": {
             "endlinecolor": "#2a3f5f",
             "gridcolor": "#C8D4E3",
             "linecolor": "#C8D4E3",
             "minorgridcolor": "#C8D4E3",
             "startlinecolor": "#2a3f5f"
            },
            "type": "carpet"
           }
          ],
          "choropleth": [
           {
            "colorbar": {
             "outlinewidth": 0,
             "ticks": ""
            },
            "type": "choropleth"
           }
          ],
          "contour": [
           {
            "colorbar": {
             "outlinewidth": 0,
             "ticks": ""
            },
            "colorscale": [
             [
              0,
              "#0d0887"
             ],
             [
              0.1111111111111111,
              "#46039f"
             ],
             [
              0.2222222222222222,
              "#7201a8"
             ],
             [
              0.3333333333333333,
              "#9c179e"
             ],
             [
              0.4444444444444444,
              "#bd3786"
             ],
             [
              0.5555555555555556,
              "#d8576b"
             ],
             [
              0.6666666666666666,
              "#ed7953"
             ],
             [
              0.7777777777777778,
              "#fb9f3a"
             ],
             [
              0.8888888888888888,
              "#fdca26"
             ],
             [
              1,
              "#f0f921"
             ]
            ],
            "type": "contour"
           }
          ],
          "contourcarpet": [
           {
            "colorbar": {
             "outlinewidth": 0,
             "ticks": ""
            },
            "type": "contourcarpet"
           }
          ],
          "heatmap": [
           {
            "colorbar": {
             "outlinewidth": 0,
             "ticks": ""
            },
            "colorscale": [
             [
              0,
              "#0d0887"
             ],
             [
              0.1111111111111111,
              "#46039f"
             ],
             [
              0.2222222222222222,
              "#7201a8"
             ],
             [
              0.3333333333333333,
              "#9c179e"
             ],
             [
              0.4444444444444444,
              "#bd3786"
             ],
             [
              0.5555555555555556,
              "#d8576b"
             ],
             [
              0.6666666666666666,
              "#ed7953"
             ],
             [
              0.7777777777777778,
              "#fb9f3a"
             ],
             [
              0.8888888888888888,
              "#fdca26"
             ],
             [
              1,
              "#f0f921"
             ]
            ],
            "type": "heatmap"
           }
          ],
          "heatmapgl": [
           {
            "colorbar": {
             "outlinewidth": 0,
             "ticks": ""
            },
            "colorscale": [
             [
              0,
              "#0d0887"
             ],
             [
              0.1111111111111111,
              "#46039f"
             ],
             [
              0.2222222222222222,
              "#7201a8"
             ],
             [
              0.3333333333333333,
              "#9c179e"
             ],
             [
              0.4444444444444444,
              "#bd3786"
             ],
             [
              0.5555555555555556,
              "#d8576b"
             ],
             [
              0.6666666666666666,
              "#ed7953"
             ],
             [
              0.7777777777777778,
              "#fb9f3a"
             ],
             [
              0.8888888888888888,
              "#fdca26"
             ],
             [
              1,
              "#f0f921"
             ]
            ],
            "type": "heatmapgl"
           }
          ],
          "histogram": [
           {
            "marker": {
             "pattern": {
              "fillmode": "overlay",
              "size": 10,
              "solidity": 0.2
             }
            },
            "type": "histogram"
           }
          ],
          "histogram2d": [
           {
            "colorbar": {
             "outlinewidth": 0,
             "ticks": ""
            },
            "colorscale": [
             [
              0,
              "#0d0887"
             ],
             [
              0.1111111111111111,
              "#46039f"
             ],
             [
              0.2222222222222222,
              "#7201a8"
             ],
             [
              0.3333333333333333,
              "#9c179e"
             ],
             [
              0.4444444444444444,
              "#bd3786"
             ],
             [
              0.5555555555555556,
              "#d8576b"
             ],
             [
              0.6666666666666666,
              "#ed7953"
             ],
             [
              0.7777777777777778,
              "#fb9f3a"
             ],
             [
              0.8888888888888888,
              "#fdca26"
             ],
             [
              1,
              "#f0f921"
             ]
            ],
            "type": "histogram2d"
           }
          ],
          "histogram2dcontour": [
           {
            "colorbar": {
             "outlinewidth": 0,
             "ticks": ""
            },
            "colorscale": [
             [
              0,
              "#0d0887"
             ],
             [
              0.1111111111111111,
              "#46039f"
             ],
             [
              0.2222222222222222,
              "#7201a8"
             ],
             [
              0.3333333333333333,
              "#9c179e"
             ],
             [
              0.4444444444444444,
              "#bd3786"
             ],
             [
              0.5555555555555556,
              "#d8576b"
             ],
             [
              0.6666666666666666,
              "#ed7953"
             ],
             [
              0.7777777777777778,
              "#fb9f3a"
             ],
             [
              0.8888888888888888,
              "#fdca26"
             ],
             [
              1,
              "#f0f921"
             ]
            ],
            "type": "histogram2dcontour"
           }
          ],
          "mesh3d": [
           {
            "colorbar": {
             "outlinewidth": 0,
             "ticks": ""
            },
            "type": "mesh3d"
           }
          ],
          "parcoords": [
           {
            "line": {
             "colorbar": {
              "outlinewidth": 0,
              "ticks": ""
             }
            },
            "type": "parcoords"
           }
          ],
          "pie": [
           {
            "automargin": true,
            "type": "pie"
           }
          ],
          "scatter": [
           {
            "fillpattern": {
             "fillmode": "overlay",
             "size": 10,
             "solidity": 0.2
            },
            "type": "scatter"
           }
          ],
          "scatter3d": [
           {
            "line": {
             "colorbar": {
              "outlinewidth": 0,
              "ticks": ""
             }
            },
            "marker": {
             "colorbar": {
              "outlinewidth": 0,
              "ticks": ""
             }
            },
            "type": "scatter3d"
           }
          ],
          "scattercarpet": [
           {
            "marker": {
             "colorbar": {
              "outlinewidth": 0,
              "ticks": ""
             }
            },
            "type": "scattercarpet"
           }
          ],
          "scattergeo": [
           {
            "marker": {
             "colorbar": {
              "outlinewidth": 0,
              "ticks": ""
             }
            },
            "type": "scattergeo"
           }
          ],
          "scattergl": [
           {
            "marker": {
             "colorbar": {
              "outlinewidth": 0,
              "ticks": ""
             }
            },
            "type": "scattergl"
           }
          ],
          "scattermapbox": [
           {
            "marker": {
             "colorbar": {
              "outlinewidth": 0,
              "ticks": ""
             }
            },
            "type": "scattermapbox"
           }
          ],
          "scatterpolar": [
           {
            "marker": {
             "colorbar": {
              "outlinewidth": 0,
              "ticks": ""
             }
            },
            "type": "scatterpolar"
           }
          ],
          "scatterpolargl": [
           {
            "marker": {
             "colorbar": {
              "outlinewidth": 0,
              "ticks": ""
             }
            },
            "type": "scatterpolargl"
           }
          ],
          "scatterternary": [
           {
            "marker": {
             "colorbar": {
              "outlinewidth": 0,
              "ticks": ""
             }
            },
            "type": "scatterternary"
           }
          ],
          "surface": [
           {
            "colorbar": {
             "outlinewidth": 0,
             "ticks": ""
            },
            "colorscale": [
             [
              0,
              "#0d0887"
             ],
             [
              0.1111111111111111,
              "#46039f"
             ],
             [
              0.2222222222222222,
              "#7201a8"
             ],
             [
              0.3333333333333333,
              "#9c179e"
             ],
             [
              0.4444444444444444,
              "#bd3786"
             ],
             [
              0.5555555555555556,
              "#d8576b"
             ],
             [
              0.6666666666666666,
              "#ed7953"
             ],
             [
              0.7777777777777778,
              "#fb9f3a"
             ],
             [
              0.8888888888888888,
              "#fdca26"
             ],
             [
              1,
              "#f0f921"
             ]
            ],
            "type": "surface"
           }
          ],
          "table": [
           {
            "cells": {
             "fill": {
              "color": "#EBF0F8"
             },
             "line": {
              "color": "white"
             }
            },
            "header": {
             "fill": {
              "color": "#C8D4E3"
             },
             "line": {
              "color": "white"
             }
            },
            "type": "table"
           }
          ]
         },
         "layout": {
          "annotationdefaults": {
           "arrowcolor": "#2a3f5f",
           "arrowhead": 0,
           "arrowwidth": 1
          },
          "autotypenumbers": "strict",
          "coloraxis": {
           "colorbar": {
            "outlinewidth": 0,
            "ticks": ""
           }
          },
          "colorscale": {
           "diverging": [
            [
             0,
             "#8e0152"
            ],
            [
             0.1,
             "#c51b7d"
            ],
            [
             0.2,
             "#de77ae"
            ],
            [
             0.3,
             "#f1b6da"
            ],
            [
             0.4,
             "#fde0ef"
            ],
            [
             0.5,
             "#f7f7f7"
            ],
            [
             0.6,
             "#e6f5d0"
            ],
            [
             0.7,
             "#b8e186"
            ],
            [
             0.8,
             "#7fbc41"
            ],
            [
             0.9,
             "#4d9221"
            ],
            [
             1,
             "#276419"
            ]
           ],
           "sequential": [
            [
             0,
             "#0d0887"
            ],
            [
             0.1111111111111111,
             "#46039f"
            ],
            [
             0.2222222222222222,
             "#7201a8"
            ],
            [
             0.3333333333333333,
             "#9c179e"
            ],
            [
             0.4444444444444444,
             "#bd3786"
            ],
            [
             0.5555555555555556,
             "#d8576b"
            ],
            [
             0.6666666666666666,
             "#ed7953"
            ],
            [
             0.7777777777777778,
             "#fb9f3a"
            ],
            [
             0.8888888888888888,
             "#fdca26"
            ],
            [
             1,
             "#f0f921"
            ]
           ],
           "sequentialminus": [
            [
             0,
             "#0d0887"
            ],
            [
             0.1111111111111111,
             "#46039f"
            ],
            [
             0.2222222222222222,
             "#7201a8"
            ],
            [
             0.3333333333333333,
             "#9c179e"
            ],
            [
             0.4444444444444444,
             "#bd3786"
            ],
            [
             0.5555555555555556,
             "#d8576b"
            ],
            [
             0.6666666666666666,
             "#ed7953"
            ],
            [
             0.7777777777777778,
             "#fb9f3a"
            ],
            [
             0.8888888888888888,
             "#fdca26"
            ],
            [
             1,
             "#f0f921"
            ]
           ]
          },
          "colorway": [
           "#636efa",
           "#EF553B",
           "#00cc96",
           "#ab63fa",
           "#FFA15A",
           "#19d3f3",
           "#FF6692",
           "#B6E880",
           "#FF97FF",
           "#FECB52"
          ],
          "font": {
           "color": "#2a3f5f"
          },
          "geo": {
           "bgcolor": "white",
           "lakecolor": "white",
           "landcolor": "white",
           "showlakes": true,
           "showland": true,
           "subunitcolor": "#C8D4E3"
          },
          "hoverlabel": {
           "align": "left"
          },
          "hovermode": "closest",
          "mapbox": {
           "style": "light"
          },
          "paper_bgcolor": "white",
          "plot_bgcolor": "white",
          "polar": {
           "angularaxis": {
            "gridcolor": "#EBF0F8",
            "linecolor": "#EBF0F8",
            "ticks": ""
           },
           "bgcolor": "white",
           "radialaxis": {
            "gridcolor": "#EBF0F8",
            "linecolor": "#EBF0F8",
            "ticks": ""
           }
          },
          "scene": {
           "xaxis": {
            "backgroundcolor": "white",
            "gridcolor": "#DFE8F3",
            "gridwidth": 2,
            "linecolor": "#EBF0F8",
            "showbackground": true,
            "ticks": "",
            "zerolinecolor": "#EBF0F8"
           },
           "yaxis": {
            "backgroundcolor": "white",
            "gridcolor": "#DFE8F3",
            "gridwidth": 2,
            "linecolor": "#EBF0F8",
            "showbackground": true,
            "ticks": "",
            "zerolinecolor": "#EBF0F8"
           },
           "zaxis": {
            "backgroundcolor": "white",
            "gridcolor": "#DFE8F3",
            "gridwidth": 2,
            "linecolor": "#EBF0F8",
            "showbackground": true,
            "ticks": "",
            "zerolinecolor": "#EBF0F8"
           }
          },
          "shapedefaults": {
           "line": {
            "color": "#2a3f5f"
           }
          },
          "ternary": {
           "aaxis": {
            "gridcolor": "#DFE8F3",
            "linecolor": "#A2B1C6",
            "ticks": ""
           },
           "baxis": {
            "gridcolor": "#DFE8F3",
            "linecolor": "#A2B1C6",
            "ticks": ""
           },
           "bgcolor": "white",
           "caxis": {
            "gridcolor": "#DFE8F3",
            "linecolor": "#A2B1C6",
            "ticks": ""
           }
          },
          "title": {
           "x": 0.05
          },
          "xaxis": {
           "automargin": true,
           "gridcolor": "#EBF0F8",
           "linecolor": "#EBF0F8",
           "ticks": "",
           "title": {
            "standoff": 15
           },
           "zerolinecolor": "#EBF0F8",
           "zerolinewidth": 2
          },
          "yaxis": {
           "automargin": true,
           "gridcolor": "#EBF0F8",
           "linecolor": "#EBF0F8",
           "ticks": "",
           "title": {
            "standoff": 15
           },
           "zerolinecolor": "#EBF0F8",
           "zerolinewidth": 2
          }
         }
        },
        "width": 800,
        "xaxis": {
         "anchor": "y",
         "domain": [
          0,
          1
         ],
         "title": {
          "text": ""
         }
        },
        "yaxis": {
         "anchor": "x",
         "domain": [
          0,
          1
         ],
         "title": {
          "text": ""
         }
        }
       }
      },
      "text/html": [
       "<div>                            <div id=\"75ad4002-a09f-40eb-8d3b-e7a19547a14a\" class=\"plotly-graph-div\" style=\"height:600px; width:800px;\"></div>            <script type=\"text/javascript\">                require([\"plotly\"], function(Plotly) {                    window.PLOTLYENV=window.PLOTLYENV || {};                                    if (document.getElementById(\"75ad4002-a09f-40eb-8d3b-e7a19547a14a\")) {                    Plotly.newPlot(                        \"75ad4002-a09f-40eb-8d3b-e7a19547a14a\",                        [{\"hovertemplate\":\"\\u003cb\\u003e%{hovertext}\\u003c\\u002fb\\u003e\\u003cbr\\u003e\\u003cbr\\u003eSolid Solution Phases=True\\u003cbr\\u003e=%{y}\\u003cbr\\u003etext=%{text}\\u003cextra\\u003e\\u003c\\u002fextra\\u003e\",\"hovertext\":[0.0,1.0,2.0,3.0,4.0,5.0,6.0,7.0,8.0,9.0,10.0,11.0,12.0,13.0,14.0,15.0,16.0,17.0,18.0,19.0,20.0,21.0,22.0,23.0,24.0,25.0,26.0,27.0,28.0,29.0,30.0,31.0,32.0,33.0,34.0,35.0,36.0,37.0,38.0,39.0,40.0,41.0,42.0,43.0,44.0,45.0,46.0,47.0,48.0,49.0,50.0,51.0,52.0,53.0,54.0,55.0,56.0,57.0,58.0,59.0,60.0,61.0,62.0,63.0,64.0,65.0,66.0,67.0,68.0,69.0,70.0,71.0,72.0,73.0,74.0,75.0,76.0,77.0,78.0,79.0,80.0,81.0,82.0,83.0,84.0,85.0,86.0,87.0,88.0,89.0,90.0,91.0,92.0,93.0,94.0,95.0,96.0,97.0,98.0,99.0,100.0,101.0,102.0,103.0,104.0,105.0,106.0,107.0,108.0,109.0,110.0,111.0,115.0,116.0,117.0,118.0,119.0,120.0,121.0,122.0,123.0,124.0,125.0,126.0,127.0,135.0,136.0,137.0,138.0,139.0,140.0,141.0,142.0,143.0,144.0,154.0,155.0,156.0,157.0,158.0,159.0,160.0,161.0,172.0,173.0,174.0,175.0,176.0,177.0,189.0,190.0,191.0,192.0,205.0,206.0,207.0,220.0,221.0,234.0,235.0,247.0,248.0,259.0,270.0,280.0,289.0,297.0,304.0,310.0,315.0,319.0,322.0,324.0],\"legendgroup\":\"True\",\"marker\":{\"color\":\"#FECB52\",\"symbol\":\"circle\"},\"mode\":\"markers+text\",\"name\":\"True\",\"orientation\":\"v\",\"showlegend\":true,\"text\":[\"\\u003cb\\u003eV\\u003c\\u002fb\\u003e\",\"\",\"\",\"\",\"\",\"\",\"\",\"\",\"\",\"\",\"\",\"\",\"\",\"\",\"\",\"\",\"\",\"\",\"\",\"\",\"\",\"\",\"\",\"\",\"\\u003cb\\u003eTi\\u003c\\u002fb\\u003e\",\"\",\"\",\"\",\"\",\"\",\"\",\"\",\"\",\"\",\"\",\"\",\"\",\"\",\"\",\"\",\"\",\"\",\"\",\"\",\"\",\"\",\"\",\"\",\"\",\"\",\"\",\"\",\"\",\"\",\"\",\"\",\"\",\"\",\"\",\"\",\"\",\"\",\"\",\"\",\"\",\"\",\"\",\"\",\"\",\"\",\"\",\"\",\"\",\"\",\"\",\"\",\"\",\"\",\"\",\"\",\"\",\"\",\"\",\"\",\"\",\"\",\"\",\"\",\"\",\"\",\"\",\"\",\"\",\"\",\"\",\"\",\"\",\"\",\"\",\"\",\"\",\"\",\"\",\"\",\"\",\"\",\"\",\"\",\"\",\"\",\"\",\"\",\"\",\"\",\"\",\"\",\"\",\"\",\"\",\"\",\"\",\"\",\"\",\"\",\"\",\"\",\"\",\"\",\"\",\"\",\"\",\"\",\"\",\"\",\"\",\"\",\"\",\"\",\"\",\"\",\"\",\"\",\"\",\"\",\"\",\"\",\"\",\"\",\"\",\"\",\"\",\"\",\"\",\"\",\"\",\"\",\"\",\"\",\"\",\"\",\"\",\"\",\"\",\"\",\"\",\"\",\"\",\"\",\"\",\"\",\"\",\"\",\"\\u003cb\\u003eCr\\u003c\\u002fb\\u003e\"],\"x\":[-0.866025,-0.79385625,-0.7216875,-0.64951875,-0.57735,-0.50518125,-0.4330125,-0.3608437500000001,-0.28867499999999996,-0.21650625,-0.14433750000000004,-0.07216874999999998,0.0,0.07216874999999996,0.14433749999999998,0.21650625000000007,0.288675,0.3608437500000001,0.4330125,0.5051812499999999,0.57735,0.6495187499999999,0.7216875,0.7938562500000002,0.866025,-0.8299406250000001,-0.757771875,-0.6856031250000001,-0.6134343750000001,-0.541265625,-0.469096875,-0.3969281250000001,-0.32475937499999996,-0.252590625,-0.18042187500000004,-0.10825312499999998,-0.036084375,0.036084375000000016,0.10825312499999994,0.180421875,0.25259062500000007,0.324759375,0.3969281250000001,0.469096875,0.541265625,0.613434375,0.685603125,0.7577718750000001,0.8299406250000001,-0.79385625,-0.7216875,-0.64951875,-0.57735,-0.50518125,-0.4330125000000001,-0.36084374999999996,-0.288675,-0.21650625000000004,-0.14433749999999998,-0.07216875,1.6024681581683354e-17,0.07216874999999999,0.14433749999999995,0.21650625000000004,0.28867500000000007,0.36084375,0.4330125000000001,0.50518125,0.57735,0.64951875,0.7216875,0.79385625,-0.757771875,-0.6856031250000001,-0.613434375,-0.5412656250000001,-0.4690968750000001,-0.39692812499999997,-0.324759375,-0.25259062500000007,-0.18042187499999998,-0.108253125,-0.03608437499999999,0.03608437499999999,0.108253125,0.18042187499999998,0.252590625,0.3247593750000001,0.396928125,0.4690968750000001,0.5412656250000001,0.613434375,0.6856031250000001,0.757771875,-0.7216875,-0.64951875,-0.57735,-0.50518125,-0.43301249999999997,-0.36084375,-0.28867500000000007,-0.21650624999999998,-0.1443375,-0.07216874999999999,-1.6024681581683354e-17,0.07216875,0.14433750000000004,0.21650624999999993,0.288675,0.3608437500000001,0.4330125,0.5051812500000001,-0.685603125,-0.613434375,-0.5412656250000001,-0.46909687499999997,-0.396928125,-0.3247593750000001,-0.25259062499999996,-0.180421875,-0.10825312499999999,-0.036084375000000016,0.036084375,0.10825312500000002,0.18042187499999998,-0.64951875,-0.57735,-0.50518125,-0.4330125,-0.3608437500000001,-0.28867499999999996,-0.21650625,-0.14433749999999998,-0.07216875000000002,0.0,-0.6134343750000001,-0.541265625,-0.469096875,-0.3969281250000001,-0.32475937499999996,-0.252590625,-0.18042187499999998,-0.10825312500000002,-0.57735,-0.50518125,-0.4330125000000001,-0.36084374999999996,-0.288675,-0.21650624999999998,-0.5412656250000001,-0.4690968750000001,-0.39692812499999997,-0.324759375,-0.50518125,-0.43301249999999997,-0.36084375,-0.46909687499999997,-0.396928125,-0.4330125,-0.36084375,-0.396928125,-0.324759375,-0.36084375,-0.324759375,-0.288675,-0.252590625,-0.21650625,-0.180421875,-0.1443375,-0.108253125,-0.07216875,-0.036084375,0.0],\"xaxis\":\"x\",\"y\":[-0.5,-0.5,-0.5,-0.5,-0.5,-0.5,-0.5,-0.5,-0.5,-0.5,-0.5,-0.5,-0.5,-0.5,-0.5,-0.5,-0.5,-0.5,-0.5,-0.5,-0.5,-0.5,-0.5,-0.5,-0.5,-0.4375,-0.4375,-0.4375,-0.4375,-0.4375,-0.4375,-0.4375,-0.4375,-0.4375,-0.4375,-0.4375,-0.4375,-0.4375,-0.4375,-0.4375,-0.4375,-0.4375,-0.4375,-0.4375,-0.43749999999999994,-0.4375,-0.4375,-0.43749999999999994,-0.4375,-0.375,-0.375,-0.375,-0.375,-0.375,-0.375,-0.375,-0.375,-0.375,-0.375,-0.375,-0.375,-0.375,-0.375,-0.375,-0.375,-0.375,-0.37500000000000006,-0.375,-0.375,-0.37500000000000006,-0.375,-0.375,-0.3125,-0.3125,-0.3125,-0.3125,-0.3125,-0.3125,-0.3125,-0.3125,-0.3125,-0.3125,-0.3125,-0.3125,-0.3125,-0.3125,-0.3125,-0.3125,-0.3125,-0.3125,-0.3125,-0.3125,-0.3125,-0.3125,-0.25,-0.25,-0.25,-0.25,-0.25,-0.25,-0.25,-0.25,-0.25,-0.25,-0.25,-0.25,-0.25,-0.25,-0.25,-0.25,-0.25,-0.25,-0.18749999999999997,-0.1875,-0.1875,-0.18749999999999997,-0.1875,-0.1875,-0.18749999999999997,-0.1875,-0.18749999999999997,-0.1875,-0.1875,-0.18749999999999997,-0.1875,-0.125,-0.12500000000000003,-0.12499999999999997,-0.125,-0.125,-0.125,-0.125,-0.125,-0.125,-0.125,-0.0625,-0.062499999999999944,-0.0625,-0.0625,-0.062499999999999944,-0.0625,-0.06249999999999997,-0.0625,0.0,0.0,-5.551115123125783e-17,0.0,0.0,-2.7755575615628914e-17,0.0625,0.0625,0.0625,0.0625,0.125,0.12500000000000006,0.125,0.1875,0.1875,0.25,0.25,0.3125,0.3124999999999999,0.375,0.4375,0.5,0.5625,0.625,0.6875,0.75,0.8125,0.875,0.9375,1.0],\"yaxis\":\"y\",\"type\":\"scatter\"},{\"hovertemplate\":\"\\u003cb\\u003e%{hovertext}\\u003c\\u002fb\\u003e\\u003cbr\\u003e\\u003cbr\\u003eSolid Solution Phases=False\\u003cbr\\u003e=%{y}\\u003cbr\\u003etext=%{text}\\u003cextra\\u003e\\u003c\\u002fextra\\u003e\",\"hovertext\":[112.0,113.0,114.0,128.0,129.0,130.0,131.0,132.0,133.0,134.0,145.0,146.0,147.0,148.0,149.0,150.0,151.0,152.0,153.0,162.0,163.0,164.0,165.0,166.0,167.0,168.0,169.0,170.0,171.0,178.0,179.0,180.0,181.0,182.0,183.0,184.0,185.0,186.0,187.0,188.0,193.0,194.0,195.0,196.0,197.0,198.0,199.0,200.0,201.0,202.0,203.0,204.0,208.0,209.0,210.0,211.0,212.0,213.0,214.0,215.0,216.0,217.0,218.0,219.0,222.0,223.0,224.0,225.0,226.0,227.0,228.0,229.0,230.0,231.0,232.0,233.0,236.0,237.0,238.0,239.0,240.0,241.0,242.0,243.0,244.0,245.0,246.0,249.0,250.0,251.0,252.0,253.0,254.0,255.0,256.0,257.0,258.0,260.0,261.0,262.0,263.0,264.0,265.0,266.0,267.0,268.0,269.0,271.0,272.0,273.0,274.0,275.0,276.0,277.0,278.0,279.0,281.0,282.0,283.0,284.0,285.0,286.0,287.0,288.0,290.0,291.0,292.0,293.0,294.0,295.0,296.0,298.0,299.0,300.0,301.0,302.0,303.0,305.0,306.0,307.0,308.0,309.0,311.0,312.0,313.0,314.0,316.0,317.0,318.0,320.0,321.0,323.0],\"legendgroup\":\"False\",\"marker\":{\"color\":\"blue\",\"symbol\":\"circle\"},\"mode\":\"markers+text\",\"name\":\"False\",\"orientation\":\"v\",\"showlegend\":true,\"text\":[\"\",\"\",\"\",\"\",\"\",\"\",\"\",\"\",\"\",\"\",\"\",\"\",\"\",\"\",\"\",\"\",\"\",\"\",\"\",\"\",\"\",\"\",\"\",\"\",\"\",\"\",\"\",\"\",\"\",\"\",\"\",\"\",\"\",\"\",\"\",\"\",\"\",\"\",\"\",\"\",\"\",\"\",\"\",\"\",\"\",\"\",\"\",\"\",\"\",\"\",\"\",\"\",\"\",\"\",\"\",\"\",\"\",\"\",\"\",\"\",\"\",\"\",\"\",\"\",\"\",\"\",\"\",\"\",\"\",\"\",\"\",\"\",\"\",\"\",\"\",\"\",\"\",\"\",\"\",\"\",\"\",\"\",\"\",\"\",\"\",\"\",\"\",\"\",\"\",\"\",\"\",\"\",\"\",\"\",\"\",\"\",\"\",\"\",\"\",\"\",\"\",\"\",\"\",\"\",\"\",\"\",\"\",\"\",\"\",\"\",\"\",\"\",\"\",\"\",\"\",\"\",\"\",\"\",\"\",\"\",\"\",\"\",\"\",\"\",\"\",\"\",\"\",\"\",\"\",\"\",\"\",\"\",\"\",\"\",\"\",\"\",\"\",\"\",\"\",\"\",\"\",\"\",\"\",\"\",\"\",\"\",\"\",\"\",\"\",\"\",\"\",\"\"],\"x\":[0.57735,0.64951875,0.7216875,0.25259062499999996,0.324759375,0.3969281250000001,0.469096875,0.5412656250000001,0.6134343750000001,0.685603125,0.07216875000000002,0.14433749999999998,0.21650625,0.28867499999999996,0.36084375,0.4330125000000001,0.50518125,0.5773500000000001,0.64951875,-0.036084375,0.036084375000000016,0.10825312499999999,0.180421875,0.252590625,0.32475937499999996,0.396928125,0.4690968750000001,0.5412656250000001,0.6134343750000001,-0.14433750000000004,-0.07216875,1.6024681581683354e-17,0.07216874999999999,0.1443375,0.21650625,0.288675,0.36084374999999996,0.4330125,0.5051812500000001,0.57735,-0.252590625,-0.18042187500000004,-0.108253125,-0.03608437499999999,0.03608437499999999,0.108253125,0.180421875,0.252590625,0.324759375,0.39692812499999997,0.469096875,0.5412656250000001,-0.288675,-0.21650625000000004,-0.1443375,-0.07216874999999999,-1.6024681581683354e-17,0.07216875,0.1443375,0.21650625,0.288675,0.36084375,0.43301249999999997,0.50518125,-0.324759375,-0.252590625,-0.180421875,-0.10825312499999999,-0.036084375000000016,0.036084375,0.10825312499999999,0.180421875,0.252590625,0.324759375,0.396928125,0.46909687499999997,-0.288675,-0.21650625,-0.14433749999999998,-0.07216875000000002,0.0,0.07216874999999999,0.1443375,0.21650625,0.288675,0.36084375,0.4330125,-0.252590625,-0.18042187499999998,-0.10825312500000002,-0.036084375,0.036084374999999995,0.10825312500000002,0.180421875,0.252590625,0.324759375,0.396928125,-0.288675,-0.21650624999999998,-0.14433750000000004,-0.07216875,-8.012340790841677e-18,0.07216875000000002,0.1443375,0.21650625,0.288675,0.36084375,-0.252590625,-0.18042187500000004,-0.108253125,-0.03608437500000001,0.03608437500000001,0.108253125,0.180421875,0.252590625,0.324759375,-0.21650625000000004,-0.1443375,-0.07216875000000002,8.012340790841677e-18,0.07216875,0.1443375,0.21650625,0.288675,-0.180421875,-0.10825312500000002,-0.036084374999999995,0.036084375,0.108253125,0.180421875,0.252590625,-0.1443375,-0.07216874999999999,0.0,0.07216875,0.1443375,0.21650625,-0.10825312499999999,-0.036084375,0.03608437500000001,0.108253125,0.180421875,-0.07216875,4.0061703954208385e-18,0.07216875,0.1443375,-0.036084374999999995,0.036084375,0.108253125,2.0030851977104193e-18,0.07216875,0.036084375],\"xaxis\":\"x\",\"y\":[-0.25,-0.25,-0.25,-0.18749999999999997,-0.1875,-0.1875,-0.18749999999999997,-0.1875,-0.1875,-0.18749999999999997,-0.125,-0.125,-0.125,-0.12499999999999999,-0.125,-0.125,-0.12499999999999997,-0.12500000000000003,-0.125,-0.06249999999999997,-0.06249999999999997,-0.0625,-0.06249999999999997,-0.062499999999999986,-0.06249999999999996,-0.0625,-0.06249999999999998,-0.06249999999999996,-0.0625,-2.7755575615628914e-17,-2.7755575615628914e-17,0.0,-2.7755575615628914e-17,-2.7755575615628914e-17,-1.3877787807814457e-17,-1.3877787807814457e-17,0.0,-3.469446951953614e-17,-1.734723475976807e-17,0.0,0.06250000000000003,0.06249999999999997,0.0625,0.0625,0.0625,0.0625,0.062499999999999986,0.06250000000000001,0.0625,0.06250000000000003,0.062499999999999986,0.0625,0.12500000000000003,0.12500000000000003,0.125,0.12500000000000003,0.12500000000000003,0.125,0.125,0.125,0.12500000000000003,0.12500000000000003,0.12500000000000003,0.125,0.18749999999999997,0.18749999999999997,0.1875,0.18749999999999997,0.18749999999999997,0.1875,0.18749999999999994,0.1875,0.18749999999999997,0.1875,0.18749999999999997,0.1875,0.24999999999999997,0.25,0.25,0.24999999999999997,0.25,0.24999999999999994,0.25000000000000006,0.25,0.24999999999999997,0.25000000000000006,0.25,0.31249999999999994,0.3125,0.3125,0.31249999999999994,0.31249999999999994,0.31249999999999994,0.3125,0.31249999999999994,0.31249999999999994,0.3125,0.375,0.3750000000000001,0.375,0.375,0.375,0.37500000000000006,0.375,0.37500000000000006,0.37500000000000006,0.375,0.4375,0.4375,0.4375,0.43749999999999994,0.43750000000000006,0.4375,0.43749999999999994,0.43750000000000006,0.4375,0.4999999999999999,0.5,0.49999999999999994,0.49999999999999994,0.5,0.49999999999999994,0.49999999999999994,0.5,0.5625,0.5625000000000001,0.5625,0.5625,0.5625000000000001,0.5625,0.5625,0.625,0.625,0.625,0.625,0.625,0.625,0.6874999999999999,0.6875,0.6875,0.6874999999999999,0.6875,0.75,0.7500000000000001,0.75,0.75,0.8125,0.8125,0.8125,0.8749999999999999,0.875,0.9375],\"yaxis\":\"y\",\"type\":\"scatter\"}],                        {\"template\":{\"data\":{\"barpolar\":[{\"marker\":{\"line\":{\"color\":\"white\",\"width\":0.5},\"pattern\":{\"fillmode\":\"overlay\",\"size\":10,\"solidity\":0.2}},\"type\":\"barpolar\"}],\"bar\":[{\"error_x\":{\"color\":\"#2a3f5f\"},\"error_y\":{\"color\":\"#2a3f5f\"},\"marker\":{\"line\":{\"color\":\"white\",\"width\":0.5},\"pattern\":{\"fillmode\":\"overlay\",\"size\":10,\"solidity\":0.2}},\"type\":\"bar\"}],\"carpet\":[{\"aaxis\":{\"endlinecolor\":\"#2a3f5f\",\"gridcolor\":\"#C8D4E3\",\"linecolor\":\"#C8D4E3\",\"minorgridcolor\":\"#C8D4E3\",\"startlinecolor\":\"#2a3f5f\"},\"baxis\":{\"endlinecolor\":\"#2a3f5f\",\"gridcolor\":\"#C8D4E3\",\"linecolor\":\"#C8D4E3\",\"minorgridcolor\":\"#C8D4E3\",\"startlinecolor\":\"#2a3f5f\"},\"type\":\"carpet\"}],\"choropleth\":[{\"colorbar\":{\"outlinewidth\":0,\"ticks\":\"\"},\"type\":\"choropleth\"}],\"contourcarpet\":[{\"colorbar\":{\"outlinewidth\":0,\"ticks\":\"\"},\"type\":\"contourcarpet\"}],\"contour\":[{\"colorbar\":{\"outlinewidth\":0,\"ticks\":\"\"},\"colorscale\":[[0.0,\"#0d0887\"],[0.1111111111111111,\"#46039f\"],[0.2222222222222222,\"#7201a8\"],[0.3333333333333333,\"#9c179e\"],[0.4444444444444444,\"#bd3786\"],[0.5555555555555556,\"#d8576b\"],[0.6666666666666666,\"#ed7953\"],[0.7777777777777778,\"#fb9f3a\"],[0.8888888888888888,\"#fdca26\"],[1.0,\"#f0f921\"]],\"type\":\"contour\"}],\"heatmapgl\":[{\"colorbar\":{\"outlinewidth\":0,\"ticks\":\"\"},\"colorscale\":[[0.0,\"#0d0887\"],[0.1111111111111111,\"#46039f\"],[0.2222222222222222,\"#7201a8\"],[0.3333333333333333,\"#9c179e\"],[0.4444444444444444,\"#bd3786\"],[0.5555555555555556,\"#d8576b\"],[0.6666666666666666,\"#ed7953\"],[0.7777777777777778,\"#fb9f3a\"],[0.8888888888888888,\"#fdca26\"],[1.0,\"#f0f921\"]],\"type\":\"heatmapgl\"}],\"heatmap\":[{\"colorbar\":{\"outlinewidth\":0,\"ticks\":\"\"},\"colorscale\":[[0.0,\"#0d0887\"],[0.1111111111111111,\"#46039f\"],[0.2222222222222222,\"#7201a8\"],[0.3333333333333333,\"#9c179e\"],[0.4444444444444444,\"#bd3786\"],[0.5555555555555556,\"#d8576b\"],[0.6666666666666666,\"#ed7953\"],[0.7777777777777778,\"#fb9f3a\"],[0.8888888888888888,\"#fdca26\"],[1.0,\"#f0f921\"]],\"type\":\"heatmap\"}],\"histogram2dcontour\":[{\"colorbar\":{\"outlinewidth\":0,\"ticks\":\"\"},\"colorscale\":[[0.0,\"#0d0887\"],[0.1111111111111111,\"#46039f\"],[0.2222222222222222,\"#7201a8\"],[0.3333333333333333,\"#9c179e\"],[0.4444444444444444,\"#bd3786\"],[0.5555555555555556,\"#d8576b\"],[0.6666666666666666,\"#ed7953\"],[0.7777777777777778,\"#fb9f3a\"],[0.8888888888888888,\"#fdca26\"],[1.0,\"#f0f921\"]],\"type\":\"histogram2dcontour\"}],\"histogram2d\":[{\"colorbar\":{\"outlinewidth\":0,\"ticks\":\"\"},\"colorscale\":[[0.0,\"#0d0887\"],[0.1111111111111111,\"#46039f\"],[0.2222222222222222,\"#7201a8\"],[0.3333333333333333,\"#9c179e\"],[0.4444444444444444,\"#bd3786\"],[0.5555555555555556,\"#d8576b\"],[0.6666666666666666,\"#ed7953\"],[0.7777777777777778,\"#fb9f3a\"],[0.8888888888888888,\"#fdca26\"],[1.0,\"#f0f921\"]],\"type\":\"histogram2d\"}],\"histogram\":[{\"marker\":{\"pattern\":{\"fillmode\":\"overlay\",\"size\":10,\"solidity\":0.2}},\"type\":\"histogram\"}],\"mesh3d\":[{\"colorbar\":{\"outlinewidth\":0,\"ticks\":\"\"},\"type\":\"mesh3d\"}],\"parcoords\":[{\"line\":{\"colorbar\":{\"outlinewidth\":0,\"ticks\":\"\"}},\"type\":\"parcoords\"}],\"pie\":[{\"automargin\":true,\"type\":\"pie\"}],\"scatter3d\":[{\"line\":{\"colorbar\":{\"outlinewidth\":0,\"ticks\":\"\"}},\"marker\":{\"colorbar\":{\"outlinewidth\":0,\"ticks\":\"\"}},\"type\":\"scatter3d\"}],\"scattercarpet\":[{\"marker\":{\"colorbar\":{\"outlinewidth\":0,\"ticks\":\"\"}},\"type\":\"scattercarpet\"}],\"scattergeo\":[{\"marker\":{\"colorbar\":{\"outlinewidth\":0,\"ticks\":\"\"}},\"type\":\"scattergeo\"}],\"scattergl\":[{\"marker\":{\"colorbar\":{\"outlinewidth\":0,\"ticks\":\"\"}},\"type\":\"scattergl\"}],\"scattermapbox\":[{\"marker\":{\"colorbar\":{\"outlinewidth\":0,\"ticks\":\"\"}},\"type\":\"scattermapbox\"}],\"scatterpolargl\":[{\"marker\":{\"colorbar\":{\"outlinewidth\":0,\"ticks\":\"\"}},\"type\":\"scatterpolargl\"}],\"scatterpolar\":[{\"marker\":{\"colorbar\":{\"outlinewidth\":0,\"ticks\":\"\"}},\"type\":\"scatterpolar\"}],\"scatter\":[{\"fillpattern\":{\"fillmode\":\"overlay\",\"size\":10,\"solidity\":0.2},\"type\":\"scatter\"}],\"scatterternary\":[{\"marker\":{\"colorbar\":{\"outlinewidth\":0,\"ticks\":\"\"}},\"type\":\"scatterternary\"}],\"surface\":[{\"colorbar\":{\"outlinewidth\":0,\"ticks\":\"\"},\"colorscale\":[[0.0,\"#0d0887\"],[0.1111111111111111,\"#46039f\"],[0.2222222222222222,\"#7201a8\"],[0.3333333333333333,\"#9c179e\"],[0.4444444444444444,\"#bd3786\"],[0.5555555555555556,\"#d8576b\"],[0.6666666666666666,\"#ed7953\"],[0.7777777777777778,\"#fb9f3a\"],[0.8888888888888888,\"#fdca26\"],[1.0,\"#f0f921\"]],\"type\":\"surface\"}],\"table\":[{\"cells\":{\"fill\":{\"color\":\"#EBF0F8\"},\"line\":{\"color\":\"white\"}},\"header\":{\"fill\":{\"color\":\"#C8D4E3\"},\"line\":{\"color\":\"white\"}},\"type\":\"table\"}]},\"layout\":{\"annotationdefaults\":{\"arrowcolor\":\"#2a3f5f\",\"arrowhead\":0,\"arrowwidth\":1},\"autotypenumbers\":\"strict\",\"coloraxis\":{\"colorbar\":{\"outlinewidth\":0,\"ticks\":\"\"}},\"colorscale\":{\"diverging\":[[0,\"#8e0152\"],[0.1,\"#c51b7d\"],[0.2,\"#de77ae\"],[0.3,\"#f1b6da\"],[0.4,\"#fde0ef\"],[0.5,\"#f7f7f7\"],[0.6,\"#e6f5d0\"],[0.7,\"#b8e186\"],[0.8,\"#7fbc41\"],[0.9,\"#4d9221\"],[1,\"#276419\"]],\"sequential\":[[0.0,\"#0d0887\"],[0.1111111111111111,\"#46039f\"],[0.2222222222222222,\"#7201a8\"],[0.3333333333333333,\"#9c179e\"],[0.4444444444444444,\"#bd3786\"],[0.5555555555555556,\"#d8576b\"],[0.6666666666666666,\"#ed7953\"],[0.7777777777777778,\"#fb9f3a\"],[0.8888888888888888,\"#fdca26\"],[1.0,\"#f0f921\"]],\"sequentialminus\":[[0.0,\"#0d0887\"],[0.1111111111111111,\"#46039f\"],[0.2222222222222222,\"#7201a8\"],[0.3333333333333333,\"#9c179e\"],[0.4444444444444444,\"#bd3786\"],[0.5555555555555556,\"#d8576b\"],[0.6666666666666666,\"#ed7953\"],[0.7777777777777778,\"#fb9f3a\"],[0.8888888888888888,\"#fdca26\"],[1.0,\"#f0f921\"]]},\"colorway\":[\"#636efa\",\"#EF553B\",\"#00cc96\",\"#ab63fa\",\"#FFA15A\",\"#19d3f3\",\"#FF6692\",\"#B6E880\",\"#FF97FF\",\"#FECB52\"],\"font\":{\"color\":\"#2a3f5f\"},\"geo\":{\"bgcolor\":\"white\",\"lakecolor\":\"white\",\"landcolor\":\"white\",\"showlakes\":true,\"showland\":true,\"subunitcolor\":\"#C8D4E3\"},\"hoverlabel\":{\"align\":\"left\"},\"hovermode\":\"closest\",\"mapbox\":{\"style\":\"light\"},\"paper_bgcolor\":\"white\",\"plot_bgcolor\":\"white\",\"polar\":{\"angularaxis\":{\"gridcolor\":\"#EBF0F8\",\"linecolor\":\"#EBF0F8\",\"ticks\":\"\"},\"bgcolor\":\"white\",\"radialaxis\":{\"gridcolor\":\"#EBF0F8\",\"linecolor\":\"#EBF0F8\",\"ticks\":\"\"}},\"scene\":{\"xaxis\":{\"backgroundcolor\":\"white\",\"gridcolor\":\"#DFE8F3\",\"gridwidth\":2,\"linecolor\":\"#EBF0F8\",\"showbackground\":true,\"ticks\":\"\",\"zerolinecolor\":\"#EBF0F8\"},\"yaxis\":{\"backgroundcolor\":\"white\",\"gridcolor\":\"#DFE8F3\",\"gridwidth\":2,\"linecolor\":\"#EBF0F8\",\"showbackground\":true,\"ticks\":\"\",\"zerolinecolor\":\"#EBF0F8\"},\"zaxis\":{\"backgroundcolor\":\"white\",\"gridcolor\":\"#DFE8F3\",\"gridwidth\":2,\"linecolor\":\"#EBF0F8\",\"showbackground\":true,\"ticks\":\"\",\"zerolinecolor\":\"#EBF0F8\"}},\"shapedefaults\":{\"line\":{\"color\":\"#2a3f5f\"}},\"ternary\":{\"aaxis\":{\"gridcolor\":\"#DFE8F3\",\"linecolor\":\"#A2B1C6\",\"ticks\":\"\"},\"baxis\":{\"gridcolor\":\"#DFE8F3\",\"linecolor\":\"#A2B1C6\",\"ticks\":\"\"},\"bgcolor\":\"white\",\"caxis\":{\"gridcolor\":\"#DFE8F3\",\"linecolor\":\"#A2B1C6\",\"ticks\":\"\"}},\"title\":{\"x\":0.05},\"xaxis\":{\"automargin\":true,\"gridcolor\":\"#EBF0F8\",\"linecolor\":\"#EBF0F8\",\"ticks\":\"\",\"title\":{\"standoff\":15},\"zerolinecolor\":\"#EBF0F8\",\"zerolinewidth\":2},\"yaxis\":{\"automargin\":true,\"gridcolor\":\"#EBF0F8\",\"linecolor\":\"#EBF0F8\",\"ticks\":\"\",\"title\":{\"standoff\":15},\"zerolinecolor\":\"#EBF0F8\",\"zerolinewidth\":2}}},\"xaxis\":{\"anchor\":\"y\",\"domain\":[0.0,1.0],\"title\":{\"text\":\"\"}},\"yaxis\":{\"anchor\":\"x\",\"domain\":[0.0,1.0],\"title\":{\"text\":\"\"}},\"legend\":{\"title\":{\"text\":\"Solid Solution Phases\"},\"tracegroupgap\":0},\"margin\":{\"t\":60},\"height\":600,\"width\":800},                        {\"responsive\": true}                    ).then(function(){\n",
       "                            \n",
       "var gd = document.getElementById('75ad4002-a09f-40eb-8d3b-e7a19547a14a');\n",
       "var x = new MutationObserver(function (mutations, observer) {{\n",
       "        var display = window.getComputedStyle(gd).display;\n",
       "        if (!display || display === 'none') {{\n",
       "            console.log([gd, 'removed!']);\n",
       "            Plotly.purge(gd);\n",
       "            observer.disconnect();\n",
       "        }}\n",
       "}});\n",
       "\n",
       "// Listen for the removal of the full notebook cells\n",
       "var notebookContainer = gd.closest('#notebook-container');\n",
       "if (notebookContainer) {{\n",
       "    x.observe(notebookContainer, {childList: true});\n",
       "}}\n",
       "\n",
       "// Listen for the clearing of the current output cell\n",
       "var outputEl = gd.closest('.output');\n",
       "if (outputEl) {{\n",
       "    x.observe(outputEl, {childList: true});\n",
       "}}\n",
       "\n",
       "                        })                };                });            </script>        </div>"
      ]
     },
     "metadata": {},
     "output_type": "display_data"
    }
   ],
   "source": [
    "pureComponentIndices = nimplex.pure_component_indexes_py(3, slen)\n",
    "labels = ['']*len(gridAtt_projected_df)\n",
    "for comp, idx in zip(comp2, pureComponentIndices):\n",
    "    labels[idx] = \"<b>\"+comp+\"</b>\"\n",
    "fig = px.scatter(gridAtt_projected_df, x='x', y='y', color=gridFeasible3, text=labels, \n",
    "              template='plotly_white', width=800, height=600, color_discrete_map=color_map,\n",
    "              hover_name=list(range(len(gridAtt_projected_df))), \n",
    "              labels={'color':'Solid Solution Phases', 'x':'', 'y':''})\n",
    "fig.show()"
   ]
  },
  {
   "cell_type": "code",
   "execution_count": 92,
   "metadata": {},
   "outputs": [],
   "source": [
    "def stitch_edge(excludedComponent1Idx, excludedComponent2Idx, systemIdx1, systemIdx2, ndiv=slen):\n",
    "    edge1, edge2 = [], []\n",
    "    stitchEdges = []\n",
    "    gridAtt = nimplex.simplex_grid_py(3, ndiv)\n",
    "    offset1 = len(gridAtt)*systemIdx1\n",
    "    offset2 = len(gridAtt)*systemIdx2\n",
    "    for i, p in enumerate(gridAtt):\n",
    "        if p[excludedComponent1Idx]==0:\n",
    "            edge1.append(i+offset1)\n",
    "        if p[excludedComponent2Idx]==0:\n",
    "            edge2.append(i+offset2)\n",
    "    assert len(edge1) == len(edge2)\n",
    "    assert len(edge1)>0\n",
    "    print(edge1)\n",
    "    print(edge2)\n",
    "    for i, j in zip(edge1, edge2):\n",
    "        stitchEdges.append([i,j,1])\n",
    "        stitchEdges.append([j,i,1])\n",
    "    print(stitchEdges)\n",
    "    return stitchEdges"
   ]
  },
  {
   "cell_type": "code",
   "execution_count": 93,
   "metadata": {},
   "outputs": [
    {
     "name": "stdout",
     "output_type": "stream",
     "text": [
      "[349, 373, 396, 418, 439, 459, 478, 496, 513, 529, 544, 558, 571, 583, 594, 604, 613, 621, 628, 634, 639, 643, 646, 648, 649]\n",
      "[24, 48, 71, 93, 114, 134, 153, 171, 188, 204, 219, 233, 246, 258, 269, 279, 288, 296, 303, 309, 314, 318, 321, 323, 324]\n",
      "[[349, 24, 1], [24, 349, 1], [373, 48, 1], [48, 373, 1], [396, 71, 1], [71, 396, 1], [418, 93, 1], [93, 418, 1], [439, 114, 1], [114, 439, 1], [459, 134, 1], [134, 459, 1], [478, 153, 1], [153, 478, 1], [496, 171, 1], [171, 496, 1], [513, 188, 1], [188, 513, 1], [529, 204, 1], [204, 529, 1], [544, 219, 1], [219, 544, 1], [558, 233, 1], [233, 558, 1], [571, 246, 1], [246, 571, 1], [583, 258, 1], [258, 583, 1], [594, 269, 1], [269, 594, 1], [604, 279, 1], [279, 604, 1], [613, 288, 1], [288, 613, 1], [621, 296, 1], [296, 621, 1], [628, 303, 1], [303, 628, 1], [634, 309, 1], [309, 634, 1], [639, 314, 1], [314, 639, 1], [643, 318, 1], [318, 643, 1], [646, 321, 1], [321, 646, 1], [648, 323, 1], [323, 648, 1], [649, 324, 1], [324, 649, 1]]\n",
      "[650, 675, 699, 722, 744, 765, 785, 804, 822, 839, 855, 870, 884, 897, 909, 920, 930, 939, 947, 954, 960, 965, 969, 972, 974]\n",
      "[325, 326, 327, 328, 329, 330, 331, 332, 333, 334, 335, 336, 337, 338, 339, 340, 341, 342, 343, 344, 345, 346, 347, 348, 349]\n",
      "[[650, 325, 1], [325, 650, 1], [675, 326, 1], [326, 675, 1], [699, 327, 1], [327, 699, 1], [722, 328, 1], [328, 722, 1], [744, 329, 1], [329, 744, 1], [765, 330, 1], [330, 765, 1], [785, 331, 1], [331, 785, 1], [804, 332, 1], [332, 804, 1], [822, 333, 1], [333, 822, 1], [839, 334, 1], [334, 839, 1], [855, 335, 1], [335, 855, 1], [870, 336, 1], [336, 870, 1], [884, 337, 1], [337, 884, 1], [897, 338, 1], [338, 897, 1], [909, 339, 1], [339, 909, 1], [920, 340, 1], [340, 920, 1], [930, 341, 1], [341, 930, 1], [939, 342, 1], [342, 939, 1], [947, 343, 1], [343, 947, 1], [954, 344, 1], [344, 954, 1], [960, 345, 1], [345, 960, 1], [965, 346, 1], [346, 965, 1], [969, 347, 1], [347, 969, 1], [972, 348, 1], [348, 972, 1], [974, 349, 1], [349, 974, 1]]\n"
     ]
    }
   ],
   "source": [
    "stitch12 = stitch_edge(2,2,1,0)\n",
    "stitch23 = stitch_edge(1,0,2,1)"
   ]
  },
  {
   "cell_type": "code",
   "execution_count": 94,
   "metadata": {},
   "outputs": [],
   "source": [
    "edgesCombined = edges1 + edges2 + stitch12\n",
    "edgesCombined2 = edges2 + edges3 + stitch23\n",
    "trueEdges = edges1 + edges2 + edges3 + stitch12 + stitch23"
   ]
  },
  {
   "cell_type": "code",
   "execution_count": 95,
   "metadata": {},
   "outputs": [
    {
     "name": "stdout",
     "output_type": "stream",
     "text": [
      "2802\n",
      "1888\n",
      "1354\n",
      "484\n",
      "864\n"
     ]
    }
   ],
   "source": [
    "print(len(trueEdges))\n",
    "print(len(edgesCombined))\n",
    "print(len(edges1))\n",
    "print(len(edges2))\n",
    "print(len(edges3))"
   ]
  },
  {
   "cell_type": "code",
   "execution_count": 96,
   "metadata": {},
   "outputs": [],
   "source": [
    "pathfindingGraph = Graph(edges=deepcopy(trueEdges), bi_directional=False)"
   ]
  },
  {
   "cell_type": "code",
   "execution_count": 97,
   "metadata": {},
   "outputs": [],
   "source": [
    "finder = DijkstraFinder()"
   ]
  },
  {
   "cell_type": "code",
   "execution_count": 98,
   "metadata": {},
   "outputs": [
    {
     "data": {
      "text/plain": [
       "540"
      ]
     },
     "execution_count": 98,
     "metadata": {},
     "output_type": "execute_result"
    }
   ],
   "source": [
    "len(pathfindingGraph.nodes)"
   ]
  },
  {
   "cell_type": "code",
   "execution_count": 99,
   "metadata": {},
   "outputs": [],
   "source": [
    "path, runs = finder.find_path(\n",
    "    pathfindingGraph.node(0), \n",
    "    pathfindingGraph.node(674),\n",
    "    pathfindingGraph)"
   ]
  },
  {
   "cell_type": "code",
   "execution_count": 100,
   "metadata": {},
   "outputs": [],
   "source": [
    "shortestPath = [p.node_id for p in path]"
   ]
  },
  {
   "cell_type": "code",
   "execution_count": 101,
   "metadata": {},
   "outputs": [],
   "source": [
    "formulas = []\n",
    "for i, comp in enumerate(gridEl1):\n",
    "    formulas.append(f\"({i:>3}) \"+\"\".join([f\"{el}{100*v:.1f} \" if v>0 else \"\" for el, v in zip(elementalSpaceComponents, comp)]))\n",
    "for i, comp in enumerate(gridEl2):\n",
    "    formulas.append(f\"({i+dimsize:>3}) \"+\"\".join([f\"{el}{100*v:.1f} \" if v>0 else \"\" for el, v in zip(comp1, comp)]))\n",
    "for i, comp in enumerate(gridEl3):\n",
    "    formulas.append(f\"({i+dimsize:>3}) \"+\"\".join([f\"{el}{100*v:.1f} \" if v>0 else \"\" for el, v in zip(comp2, comp)]))"
   ]
  },
  {
   "cell_type": "code",
   "execution_count": 102,
   "metadata": {},
   "outputs": [
    {
     "name": "stdout",
     "output_type": "stream",
     "text": [
      " 1: (  0) Ni9.6 Cr19.9 Fe70.4 \n",
      " 2: ( 25) Ni13.4 Cr19.1 Fe67.5 \n",
      " 3: ( 49) Ni17.1 Cr18.3 Fe64.6 \n",
      " 4: ( 72) Ni20.9 Cr17.4 Fe61.6 \n",
      " 5: ( 94) Ni24.7 Cr16.6 Fe58.7 \n",
      " 6: ( 95) Ni24.3 Cr20.0 Fe55.8 \n",
      " 7: (116) Ni28.0 Cr19.1 Fe52.8 \n",
      " 8: (136) Ni31.8 Cr18.3 Fe49.9 \n",
      " 9: (137) Ni31.4 Cr21.6 Fe47.0 \n",
      "10: (156) Ni35.2 Cr20.8 Fe44.0 \n",
      "11: (157) Ni34.8 Cr24.1 Fe41.1 \n",
      "12: (158) Ni34.4 Cr27.5 Fe38.2 \n",
      "13: (140) Ni30.2 Cr31.6 Fe38.2 \n",
      "14: (141) Ni29.8 Cr35.0 Fe35.2 \n",
      "15: (122) Ni25.6 Cr39.1 Fe35.2 \n",
      "16: (123) Ni25.2 Cr42.5 Fe32.3 \n",
      "17: (124) Ni24.8 Cr45.8 Fe29.4 \n",
      "18: (104) Ni20.7 Cr50.0 Fe29.4 \n",
      "19: (105) Ni20.3 Cr53.3 Fe26.4 \n",
      "20: (106) Ni19.9 Cr56.6 Fe23.5 \n",
      "21: (107) Ni19.5 Cr60.0 Fe20.5 \n",
      "22: (108) Ni19.1 Cr63.3 Fe17.6 \n",
      "23: (109) Ni18.7 Cr66.7 Fe14.7 \n",
      "24: (110) Ni18.3 Cr70.0 Fe11.7 \n",
      "25: (111) Ni17.9 Cr73.3 Fe8.8 \n",
      "26: (112) Ni17.5 Cr76.7 Fe5.9 \n",
      "27: (113) Ni17.1 Cr80.0 Fe2.9 \n",
      "28: (114) Ni16.7 Cr83.3 \n",
      "29: (439) Ni16.7 Cr83.3 \n",
      "30: (417) Ni12.5 Cr83.3 V4.2 \n",
      "31: (394) Ni8.3 Cr83.3 V8.3 \n",
      "32: (370) Ni4.2 Cr83.3 V12.5 \n",
      "33: (345) Cr83.3 V16.7 \n",
      "34: (344) Cr79.2 V20.8 \n",
      "35: (343) Cr75.0 V25.0 \n",
      "36: (342) Cr70.8 V29.2 \n",
      "37: (341) Cr66.7 V33.3 \n",
      "38: (340) Cr62.5 V37.5 \n",
      "39: (339) Cr58.3 V41.7 \n",
      "40: (338) Cr54.2 V45.8 \n",
      "41: (337) Cr50.0 V50.0 \n",
      "42: (559) Cr50.0 V50.0 \n",
      "43: (546) Cr45.8 Ti4.2 V50.0 \n",
      "44: (532) Cr41.7 Ti8.3 V50.0 \n",
      "45: (517) Cr37.5 Ti12.5 V50.0 \n",
      "46: (501) Cr33.3 Ti16.7 V50.0 \n",
      "47: (484) Cr29.2 Ti20.8 V50.0 \n",
      "48: (466) Cr25.0 Ti25.0 V50.0 \n",
      "49: (447) Cr20.8 Ti29.2 V50.0 \n",
      "50: (427) Cr16.7 Ti33.3 V50.0 \n",
      "51: (406) Cr12.5 Ti37.5 V50.0 \n",
      "52: (384) Cr8.3 Ti41.7 V50.0 \n",
      "53: (361) Cr4.2 Ti45.8 V50.0 \n",
      "54: (337) Ti50.0 V50.0 \n",
      "55: (338) Ti54.2 V45.8 \n",
      "56: (339) Ti58.3 V41.7 \n",
      "57: (340) Ti62.5 V37.5 \n",
      "58: (341) Ti66.7 V33.3 \n",
      "59: (342) Ti70.8 V29.2 \n",
      "60: (343) Ti75.0 V25.0 \n",
      "61: (344) Ti79.2 V20.8 \n",
      "62: (345) Ti83.3 V16.7 \n",
      "63: (346) Ti87.5 V12.5 \n",
      "64: (347) Ti91.7 V8.3 \n",
      "65: (348) Ti95.8 V4.2 \n",
      "66: (349) Ti100.0 \n"
     ]
    }
   ],
   "source": [
    "for step, i in enumerate(shortestPath):\n",
    "    print(f\"{step+1:>2}: {formulas[i]}\")"
   ]
  },
  {
   "cell_type": "code",
   "execution_count": 103,
   "metadata": {},
   "outputs": [],
   "source": [
    "gridFeasibleMarked3 = ['path' if i in shortestPath else f for i, f in enumerate(gridFeasible1)]"
   ]
  },
  {
   "cell_type": "code",
   "execution_count": 104,
   "metadata": {},
   "outputs": [],
   "source": [
    "gridFeasibleMarked4 = ['path' if i in shortestPath else f for i, f in enumerate(gridFeasible2, start=dimsize)]"
   ]
  },
  {
   "cell_type": "code",
   "execution_count": 105,
   "metadata": {},
   "outputs": [],
   "source": [
    "gridFeasibleMarked5 = ['path' if i in shortestPath else f for i, f in enumerate(gridFeasible3, start=2*dimsize)]"
   ]
  },
  {
   "cell_type": "code",
   "execution_count": 106,
   "metadata": {},
   "outputs": [
    {
     "data": {
      "application/vnd.plotly.v1+json": {
       "config": {
        "plotlyServerURL": "https://plot.ly"
       },
       "data": [
        {
         "hovertemplate": "<b>%{hovertext}</b><br><br>color=path<br>x=%{x}<br>y=%{y}<br>text=%{text}<extra></extra>",
         "hovertext": [
          0,
          25,
          49,
          72,
          94,
          95,
          104,
          105,
          106,
          107,
          108,
          109,
          110,
          111,
          112,
          113,
          114,
          116,
          122,
          123,
          124,
          136,
          137,
          140,
          141,
          156,
          157,
          158
         ],
         "legendgroup": "path",
         "marker": {
          "color": "red",
          "symbol": "circle"
         },
         "mode": "markers+text",
         "name": "path",
         "orientation": "v",
         "showlegend": true,
         "text": [
          "<b>SS</b>",
          "",
          "",
          "",
          "",
          "",
          "",
          "",
          "",
          "",
          "",
          "",
          "",
          "",
          "",
          "",
          "",
          "",
          "",
          "",
          "",
          "",
          "",
          "",
          "",
          "",
          "",
          ""
         ],
         "type": "scatter",
         "x": [
          -0.866025,
          -0.8299406250000001,
          -0.79385625,
          -0.757771875,
          -0.7216875,
          -0.64951875,
          -1.6024681581683354e-17,
          0.07216875,
          0.14433750000000004,
          0.21650624999999993,
          0.288675,
          0.3608437500000001,
          0.4330125,
          0.5051812500000001,
          0.57735,
          0.64951875,
          0.7216875,
          -0.613434375,
          -0.180421875,
          -0.10825312499999999,
          -0.036084375000000016,
          -0.57735,
          -0.50518125,
          -0.28867499999999996,
          -0.21650625,
          -0.469096875,
          -0.3969281250000001,
          -0.32475937499999996
         ],
         "xaxis": "x",
         "y": [
          -0.5,
          -0.4375,
          -0.375,
          -0.3125,
          -0.25,
          -0.25,
          -0.25,
          -0.25,
          -0.25,
          -0.25,
          -0.25,
          -0.25,
          -0.25,
          -0.25,
          -0.25,
          -0.25,
          -0.25,
          -0.1875,
          -0.1875,
          -0.18749999999999997,
          -0.1875,
          -0.12500000000000003,
          -0.12499999999999997,
          -0.125,
          -0.125,
          -0.0625,
          -0.0625,
          -0.062499999999999944
         ],
         "yaxis": "y"
        },
        {
         "hovertemplate": "<b>%{hovertext}</b><br><br>color=False<br>x=%{x}<br>y=%{y}<br>text=%{text}<extra></extra>",
         "hovertext": [
          1,
          2,
          3,
          4,
          5,
          6,
          7,
          8,
          9,
          10,
          11,
          12,
          13,
          14,
          15,
          16,
          17,
          18,
          26,
          27,
          28,
          29,
          30,
          31,
          32,
          33,
          34,
          35,
          36,
          37,
          38,
          39,
          40,
          50,
          51,
          52,
          53,
          54,
          55,
          56,
          57,
          58,
          59,
          60,
          61,
          62,
          73,
          74,
          75,
          76,
          77,
          78,
          79,
          80,
          81,
          82,
          83,
          96,
          97,
          98,
          99,
          100,
          101,
          102,
          103,
          117,
          118,
          119,
          120,
          121,
          138,
          139
         ],
         "legendgroup": "False",
         "marker": {
          "color": "blue",
          "symbol": "circle"
         },
         "mode": "markers+text",
         "name": "False",
         "orientation": "v",
         "showlegend": true,
         "text": [
          "",
          "",
          "",
          "",
          "",
          "",
          "",
          "",
          "",
          "",
          "",
          "",
          "",
          "",
          "",
          "",
          "",
          "",
          "",
          "",
          "",
          "",
          "",
          "",
          "",
          "",
          "",
          "",
          "",
          "",
          "",
          "",
          "",
          "",
          "",
          "",
          "",
          "",
          "",
          "",
          "",
          "",
          "",
          "",
          "",
          "",
          "",
          "",
          "",
          "",
          "",
          "",
          "",
          "",
          "",
          "",
          "",
          "",
          "",
          "",
          "",
          "",
          "",
          "",
          "",
          "",
          "",
          "",
          "",
          "",
          "",
          ""
         ],
         "type": "scatter",
         "x": [
          -0.79385625,
          -0.7216875,
          -0.64951875,
          -0.57735,
          -0.50518125,
          -0.4330125,
          -0.3608437500000001,
          -0.28867499999999996,
          -0.21650625,
          -0.14433750000000004,
          -0.07216874999999998,
          0,
          0.07216874999999996,
          0.14433749999999998,
          0.21650625000000007,
          0.288675,
          0.3608437500000001,
          0.4330125,
          -0.757771875,
          -0.6856031250000001,
          -0.6134343750000001,
          -0.541265625,
          -0.469096875,
          -0.3969281250000001,
          -0.32475937499999996,
          -0.252590625,
          -0.18042187500000004,
          -0.10825312499999998,
          -0.036084375,
          0.036084375000000016,
          0.10825312499999994,
          0.180421875,
          0.25259062500000007,
          -0.7216875,
          -0.64951875,
          -0.57735,
          -0.50518125,
          -0.4330125000000001,
          -0.36084374999999996,
          -0.288675,
          -0.21650625000000004,
          -0.14433749999999998,
          -0.07216875,
          1.6024681581683354e-17,
          0.07216874999999999,
          0.14433749999999995,
          -0.6856031250000001,
          -0.613434375,
          -0.5412656250000001,
          -0.4690968750000001,
          -0.39692812499999997,
          -0.324759375,
          -0.25259062500000007,
          -0.18042187499999998,
          -0.108253125,
          -0.03608437499999999,
          0.03608437499999999,
          -0.57735,
          -0.50518125,
          -0.43301249999999997,
          -0.36084375,
          -0.28867500000000007,
          -0.21650624999999998,
          -0.1443375,
          -0.07216874999999999,
          -0.5412656250000001,
          -0.46909687499999997,
          -0.396928125,
          -0.3247593750000001,
          -0.25259062499999996,
          -0.4330125,
          -0.3608437500000001
         ],
         "xaxis": "x",
         "y": [
          -0.5,
          -0.5,
          -0.5,
          -0.5,
          -0.5,
          -0.5,
          -0.5,
          -0.5,
          -0.5,
          -0.5,
          -0.5,
          -0.5,
          -0.5,
          -0.5,
          -0.5,
          -0.5,
          -0.5,
          -0.5,
          -0.4375,
          -0.4375,
          -0.4375,
          -0.4375,
          -0.4375,
          -0.4375,
          -0.4375,
          -0.4375,
          -0.4375,
          -0.4375,
          -0.4375,
          -0.4375,
          -0.4375,
          -0.4375,
          -0.4375,
          -0.375,
          -0.375,
          -0.375,
          -0.375,
          -0.375,
          -0.375,
          -0.375,
          -0.375,
          -0.375,
          -0.375,
          -0.375,
          -0.375,
          -0.375,
          -0.3125,
          -0.3125,
          -0.3125,
          -0.3125,
          -0.3125,
          -0.3125,
          -0.3125,
          -0.3125,
          -0.3125,
          -0.3125,
          -0.3125,
          -0.25,
          -0.25,
          -0.25,
          -0.25,
          -0.25,
          -0.25,
          -0.25,
          -0.25,
          -0.1875,
          -0.18749999999999997,
          -0.1875,
          -0.1875,
          -0.18749999999999997,
          -0.125,
          -0.125
         ],
         "yaxis": "y"
        },
        {
         "hovertemplate": "<b>%{hovertext}</b><br><br>color=True<br>x=%{x}<br>y=%{y}<br>text=%{text}<extra></extra>",
         "hovertext": [
          19,
          20,
          21,
          22,
          23,
          24,
          41,
          42,
          43,
          44,
          45,
          46,
          47,
          48,
          63,
          64,
          65,
          66,
          67,
          68,
          69,
          70,
          71,
          84,
          85,
          86,
          87,
          88,
          89,
          90,
          91,
          92,
          93,
          115,
          125,
          126,
          127,
          128,
          129,
          130,
          131,
          132,
          133,
          134,
          135,
          142,
          143,
          144,
          145,
          146,
          147,
          148,
          149,
          150,
          151,
          152,
          153,
          154,
          155,
          159,
          160,
          161,
          162,
          163,
          164,
          165,
          166,
          167,
          168,
          169,
          170,
          171,
          172,
          173,
          174,
          175,
          176,
          177,
          178,
          179,
          180,
          181,
          182,
          183,
          184,
          185,
          186,
          187,
          188,
          189,
          190,
          191,
          192,
          193,
          194,
          195,
          196,
          197,
          198,
          199,
          200,
          201,
          202,
          203,
          204,
          205,
          206,
          207,
          208,
          209,
          210,
          211,
          212,
          213,
          214,
          215,
          216,
          217,
          218,
          219,
          220,
          221,
          222,
          223,
          224,
          225,
          226,
          227,
          228,
          229,
          230,
          231,
          232,
          233,
          234,
          235,
          236,
          237,
          238,
          239,
          240,
          241,
          242,
          243,
          244,
          245,
          246,
          247,
          248,
          249,
          250,
          251,
          252,
          253,
          254,
          255,
          256,
          257,
          258,
          259,
          260,
          261,
          262,
          263,
          264,
          265,
          266,
          267,
          268,
          269,
          270,
          271,
          272,
          273,
          274,
          275,
          276,
          277,
          278,
          279,
          280,
          281,
          282,
          283,
          284,
          285,
          286,
          287,
          288,
          289,
          290,
          291,
          292,
          293,
          294,
          295,
          296,
          297,
          298,
          299,
          300,
          301,
          302,
          303,
          304,
          305,
          306,
          307,
          308,
          309,
          310,
          311,
          312,
          313,
          314,
          315,
          316,
          317,
          318,
          319,
          320,
          321,
          322,
          323,
          324
         ],
         "legendgroup": "True",
         "marker": {
          "color": "#FECB52",
          "symbol": "circle"
         },
         "mode": "markers+text",
         "name": "True",
         "orientation": "v",
         "showlegend": true,
         "text": [
          "",
          "",
          "",
          "",
          "",
          "<b>Cr</b>",
          "",
          "",
          "",
          "",
          "",
          "",
          "",
          "",
          "",
          "",
          "",
          "",
          "",
          "",
          "",
          "",
          "",
          "",
          "",
          "",
          "",
          "",
          "",
          "",
          "",
          "",
          "",
          "",
          "",
          "",
          "",
          "",
          "",
          "",
          "",
          "",
          "",
          "",
          "",
          "",
          "",
          "",
          "",
          "",
          "",
          "",
          "",
          "",
          "",
          "",
          "",
          "",
          "",
          "",
          "",
          "",
          "",
          "",
          "",
          "",
          "",
          "",
          "",
          "",
          "",
          "",
          "",
          "",
          "",
          "",
          "",
          "",
          "",
          "",
          "",
          "",
          "",
          "",
          "",
          "",
          "",
          "",
          "",
          "",
          "",
          "",
          "",
          "",
          "",
          "",
          "",
          "",
          "",
          "",
          "",
          "",
          "",
          "",
          "",
          "",
          "",
          "",
          "",
          "",
          "",
          "",
          "",
          "",
          "",
          "",
          "",
          "",
          "",
          "",
          "",
          "",
          "",
          "",
          "",
          "",
          "",
          "",
          "",
          "",
          "",
          "",
          "",
          "",
          "",
          "",
          "",
          "",
          "",
          "",
          "",
          "",
          "",
          "",
          "",
          "",
          "",
          "",
          "",
          "",
          "",
          "",
          "",
          "",
          "",
          "",
          "",
          "",
          "",
          "",
          "",
          "",
          "",
          "",
          "",
          "",
          "",
          "",
          "",
          "",
          "",
          "",
          "",
          "",
          "",
          "",
          "",
          "",
          "",
          "",
          "",
          "",
          "",
          "",
          "",
          "",
          "",
          "",
          "",
          "",
          "",
          "",
          "",
          "",
          "",
          "",
          "",
          "",
          "",
          "",
          "",
          "",
          "",
          "",
          "",
          "",
          "",
          "",
          "",
          "",
          "",
          "",
          "",
          "",
          "",
          "",
          "",
          "",
          "",
          "",
          "",
          "",
          "",
          "",
          "<b>Ni</b>"
         ],
         "type": "scatter",
         "x": [
          0.5051812499999999,
          0.57735,
          0.6495187499999999,
          0.7216875,
          0.7938562500000002,
          0.866025,
          0.324759375,
          0.3969281250000001,
          0.469096875,
          0.541265625,
          0.613434375,
          0.685603125,
          0.7577718750000001,
          0.8299406250000001,
          0.21650625000000004,
          0.28867500000000007,
          0.36084375,
          0.4330125000000001,
          0.50518125,
          0.57735,
          0.64951875,
          0.7216875,
          0.79385625,
          0.108253125,
          0.18042187499999998,
          0.252590625,
          0.3247593750000001,
          0.396928125,
          0.4690968750000001,
          0.5412656250000001,
          0.613434375,
          0.6856031250000001,
          0.757771875,
          -0.685603125,
          0.036084375,
          0.10825312500000002,
          0.18042187499999998,
          0.25259062499999996,
          0.324759375,
          0.3969281250000001,
          0.469096875,
          0.5412656250000001,
          0.6134343750000001,
          0.685603125,
          -0.64951875,
          -0.14433749999999998,
          -0.07216875000000002,
          0,
          0.07216875000000002,
          0.14433749999999998,
          0.21650625,
          0.28867499999999996,
          0.36084375,
          0.4330125000000001,
          0.50518125,
          0.5773500000000001,
          0.64951875,
          -0.6134343750000001,
          -0.541265625,
          -0.252590625,
          -0.18042187499999998,
          -0.10825312500000002,
          -0.036084375,
          0.036084375000000016,
          0.10825312499999999,
          0.180421875,
          0.252590625,
          0.32475937499999996,
          0.396928125,
          0.4690968750000001,
          0.5412656250000001,
          0.6134343750000001,
          -0.57735,
          -0.50518125,
          -0.4330125000000001,
          -0.36084374999999996,
          -0.288675,
          -0.21650624999999998,
          -0.14433750000000004,
          -0.07216875,
          1.6024681581683354e-17,
          0.07216874999999999,
          0.1443375,
          0.21650625,
          0.288675,
          0.36084374999999996,
          0.4330125,
          0.5051812500000001,
          0.57735,
          -0.5412656250000001,
          -0.4690968750000001,
          -0.39692812499999997,
          -0.324759375,
          -0.252590625,
          -0.18042187500000004,
          -0.108253125,
          -0.03608437499999999,
          0.03608437499999999,
          0.108253125,
          0.180421875,
          0.252590625,
          0.324759375,
          0.39692812499999997,
          0.469096875,
          0.5412656250000001,
          -0.50518125,
          -0.43301249999999997,
          -0.36084375,
          -0.288675,
          -0.21650625000000004,
          -0.1443375,
          -0.07216874999999999,
          -1.6024681581683354e-17,
          0.07216875,
          0.1443375,
          0.21650625,
          0.288675,
          0.36084375,
          0.43301249999999997,
          0.50518125,
          -0.46909687499999997,
          -0.396928125,
          -0.324759375,
          -0.252590625,
          -0.180421875,
          -0.10825312499999999,
          -0.036084375000000016,
          0.036084375,
          0.10825312499999999,
          0.180421875,
          0.252590625,
          0.324759375,
          0.396928125,
          0.46909687499999997,
          -0.4330125,
          -0.36084375,
          -0.288675,
          -0.21650625,
          -0.14433749999999998,
          -0.07216875000000002,
          0,
          0.07216874999999999,
          0.1443375,
          0.21650625,
          0.288675,
          0.36084375,
          0.4330125,
          -0.396928125,
          -0.324759375,
          -0.252590625,
          -0.18042187499999998,
          -0.10825312500000002,
          -0.036084375,
          0.036084374999999995,
          0.10825312500000002,
          0.180421875,
          0.252590625,
          0.324759375,
          0.396928125,
          -0.36084375,
          -0.288675,
          -0.21650624999999998,
          -0.14433750000000004,
          -0.07216875,
          -8.012340790841677e-18,
          0.07216875000000002,
          0.1443375,
          0.21650625,
          0.288675,
          0.36084375,
          -0.324759375,
          -0.252590625,
          -0.18042187500000004,
          -0.108253125,
          -0.03608437500000001,
          0.03608437500000001,
          0.108253125,
          0.180421875,
          0.252590625,
          0.324759375,
          -0.288675,
          -0.21650625000000004,
          -0.1443375,
          -0.07216875000000002,
          8.012340790841677e-18,
          0.07216875,
          0.1443375,
          0.21650625,
          0.288675,
          -0.252590625,
          -0.180421875,
          -0.10825312500000002,
          -0.036084374999999995,
          0.036084375,
          0.108253125,
          0.180421875,
          0.252590625,
          -0.21650625,
          -0.1443375,
          -0.07216874999999999,
          0,
          0.07216875,
          0.1443375,
          0.21650625,
          -0.180421875,
          -0.10825312499999999,
          -0.036084375,
          0.03608437500000001,
          0.108253125,
          0.180421875,
          -0.1443375,
          -0.07216875,
          4.0061703954208385e-18,
          0.07216875,
          0.1443375,
          -0.108253125,
          -0.036084374999999995,
          0.036084375,
          0.108253125,
          -0.07216875,
          2.0030851977104193e-18,
          0.07216875,
          -0.036084375,
          0.036084375,
          0
         ],
         "xaxis": "x",
         "y": [
          -0.5,
          -0.5,
          -0.5,
          -0.5,
          -0.5,
          -0.5,
          -0.4375,
          -0.4375,
          -0.4375,
          -0.43749999999999994,
          -0.4375,
          -0.4375,
          -0.43749999999999994,
          -0.4375,
          -0.375,
          -0.375,
          -0.375,
          -0.37500000000000006,
          -0.375,
          -0.375,
          -0.37500000000000006,
          -0.375,
          -0.375,
          -0.3125,
          -0.3125,
          -0.3125,
          -0.3125,
          -0.3125,
          -0.3125,
          -0.3125,
          -0.3125,
          -0.3125,
          -0.3125,
          -0.18749999999999997,
          -0.1875,
          -0.18749999999999997,
          -0.1875,
          -0.18749999999999997,
          -0.1875,
          -0.1875,
          -0.18749999999999997,
          -0.1875,
          -0.1875,
          -0.18749999999999997,
          -0.125,
          -0.125,
          -0.125,
          -0.125,
          -0.125,
          -0.125,
          -0.125,
          -0.12499999999999999,
          -0.125,
          -0.125,
          -0.12499999999999997,
          -0.12500000000000003,
          -0.125,
          -0.0625,
          -0.062499999999999944,
          -0.0625,
          -0.06249999999999997,
          -0.0625,
          -0.06249999999999997,
          -0.06249999999999997,
          -0.0625,
          -0.06249999999999997,
          -0.062499999999999986,
          -0.06249999999999996,
          -0.0625,
          -0.06249999999999998,
          -0.06249999999999996,
          -0.0625,
          0,
          0,
          -5.551115123125783e-17,
          0,
          0,
          -2.7755575615628914e-17,
          -2.7755575615628914e-17,
          -2.7755575615628914e-17,
          0,
          -2.7755575615628914e-17,
          -2.7755575615628914e-17,
          -1.3877787807814457e-17,
          -1.3877787807814457e-17,
          0,
          -3.469446951953614e-17,
          -1.734723475976807e-17,
          0,
          0.0625,
          0.0625,
          0.0625,
          0.0625,
          0.06250000000000003,
          0.06249999999999997,
          0.0625,
          0.0625,
          0.0625,
          0.0625,
          0.062499999999999986,
          0.06250000000000001,
          0.0625,
          0.06250000000000003,
          0.062499999999999986,
          0.0625,
          0.125,
          0.12500000000000006,
          0.125,
          0.12500000000000003,
          0.12500000000000003,
          0.125,
          0.12500000000000003,
          0.12500000000000003,
          0.125,
          0.125,
          0.125,
          0.12500000000000003,
          0.12500000000000003,
          0.12500000000000003,
          0.125,
          0.1875,
          0.1875,
          0.18749999999999997,
          0.18749999999999997,
          0.1875,
          0.18749999999999997,
          0.18749999999999997,
          0.1875,
          0.18749999999999994,
          0.1875,
          0.18749999999999997,
          0.1875,
          0.18749999999999997,
          0.1875,
          0.25,
          0.25,
          0.24999999999999997,
          0.25,
          0.25,
          0.24999999999999997,
          0.25,
          0.24999999999999994,
          0.25000000000000006,
          0.25,
          0.24999999999999997,
          0.25000000000000006,
          0.25,
          0.3125,
          0.3124999999999999,
          0.31249999999999994,
          0.3125,
          0.3125,
          0.31249999999999994,
          0.31249999999999994,
          0.31249999999999994,
          0.3125,
          0.31249999999999994,
          0.31249999999999994,
          0.3125,
          0.375,
          0.375,
          0.3750000000000001,
          0.375,
          0.375,
          0.375,
          0.37500000000000006,
          0.375,
          0.37500000000000006,
          0.37500000000000006,
          0.375,
          0.4375,
          0.4375,
          0.4375,
          0.4375,
          0.43749999999999994,
          0.43750000000000006,
          0.4375,
          0.43749999999999994,
          0.43750000000000006,
          0.4375,
          0.5,
          0.4999999999999999,
          0.5,
          0.49999999999999994,
          0.49999999999999994,
          0.5,
          0.49999999999999994,
          0.49999999999999994,
          0.5,
          0.5625,
          0.5625,
          0.5625000000000001,
          0.5625,
          0.5625,
          0.5625000000000001,
          0.5625,
          0.5625,
          0.625,
          0.625,
          0.625,
          0.625,
          0.625,
          0.625,
          0.625,
          0.6875,
          0.6874999999999999,
          0.6875,
          0.6875,
          0.6874999999999999,
          0.6875,
          0.75,
          0.75,
          0.7500000000000001,
          0.75,
          0.75,
          0.8125,
          0.8125,
          0.8125,
          0.8125,
          0.875,
          0.8749999999999999,
          0.875,
          0.9375,
          0.9375,
          1
         ],
         "yaxis": "y"
        }
       ],
       "layout": {
        "height": 600,
        "legend": {
         "title": {
          "text": "color"
         },
         "tracegroupgap": 0
        },
        "margin": {
         "t": 60
        },
        "template": {
         "data": {
          "bar": [
           {
            "error_x": {
             "color": "#2a3f5f"
            },
            "error_y": {
             "color": "#2a3f5f"
            },
            "marker": {
             "line": {
              "color": "white",
              "width": 0.5
             },
             "pattern": {
              "fillmode": "overlay",
              "size": 10,
              "solidity": 0.2
             }
            },
            "type": "bar"
           }
          ],
          "barpolar": [
           {
            "marker": {
             "line": {
              "color": "white",
              "width": 0.5
             },
             "pattern": {
              "fillmode": "overlay",
              "size": 10,
              "solidity": 0.2
             }
            },
            "type": "barpolar"
           }
          ],
          "carpet": [
           {
            "aaxis": {
             "endlinecolor": "#2a3f5f",
             "gridcolor": "#C8D4E3",
             "linecolor": "#C8D4E3",
             "minorgridcolor": "#C8D4E3",
             "startlinecolor": "#2a3f5f"
            },
            "baxis": {
             "endlinecolor": "#2a3f5f",
             "gridcolor": "#C8D4E3",
             "linecolor": "#C8D4E3",
             "minorgridcolor": "#C8D4E3",
             "startlinecolor": "#2a3f5f"
            },
            "type": "carpet"
           }
          ],
          "choropleth": [
           {
            "colorbar": {
             "outlinewidth": 0,
             "ticks": ""
            },
            "type": "choropleth"
           }
          ],
          "contour": [
           {
            "colorbar": {
             "outlinewidth": 0,
             "ticks": ""
            },
            "colorscale": [
             [
              0,
              "#0d0887"
             ],
             [
              0.1111111111111111,
              "#46039f"
             ],
             [
              0.2222222222222222,
              "#7201a8"
             ],
             [
              0.3333333333333333,
              "#9c179e"
             ],
             [
              0.4444444444444444,
              "#bd3786"
             ],
             [
              0.5555555555555556,
              "#d8576b"
             ],
             [
              0.6666666666666666,
              "#ed7953"
             ],
             [
              0.7777777777777778,
              "#fb9f3a"
             ],
             [
              0.8888888888888888,
              "#fdca26"
             ],
             [
              1,
              "#f0f921"
             ]
            ],
            "type": "contour"
           }
          ],
          "contourcarpet": [
           {
            "colorbar": {
             "outlinewidth": 0,
             "ticks": ""
            },
            "type": "contourcarpet"
           }
          ],
          "heatmap": [
           {
            "colorbar": {
             "outlinewidth": 0,
             "ticks": ""
            },
            "colorscale": [
             [
              0,
              "#0d0887"
             ],
             [
              0.1111111111111111,
              "#46039f"
             ],
             [
              0.2222222222222222,
              "#7201a8"
             ],
             [
              0.3333333333333333,
              "#9c179e"
             ],
             [
              0.4444444444444444,
              "#bd3786"
             ],
             [
              0.5555555555555556,
              "#d8576b"
             ],
             [
              0.6666666666666666,
              "#ed7953"
             ],
             [
              0.7777777777777778,
              "#fb9f3a"
             ],
             [
              0.8888888888888888,
              "#fdca26"
             ],
             [
              1,
              "#f0f921"
             ]
            ],
            "type": "heatmap"
           }
          ],
          "heatmapgl": [
           {
            "colorbar": {
             "outlinewidth": 0,
             "ticks": ""
            },
            "colorscale": [
             [
              0,
              "#0d0887"
             ],
             [
              0.1111111111111111,
              "#46039f"
             ],
             [
              0.2222222222222222,
              "#7201a8"
             ],
             [
              0.3333333333333333,
              "#9c179e"
             ],
             [
              0.4444444444444444,
              "#bd3786"
             ],
             [
              0.5555555555555556,
              "#d8576b"
             ],
             [
              0.6666666666666666,
              "#ed7953"
             ],
             [
              0.7777777777777778,
              "#fb9f3a"
             ],
             [
              0.8888888888888888,
              "#fdca26"
             ],
             [
              1,
              "#f0f921"
             ]
            ],
            "type": "heatmapgl"
           }
          ],
          "histogram": [
           {
            "marker": {
             "pattern": {
              "fillmode": "overlay",
              "size": 10,
              "solidity": 0.2
             }
            },
            "type": "histogram"
           }
          ],
          "histogram2d": [
           {
            "colorbar": {
             "outlinewidth": 0,
             "ticks": ""
            },
            "colorscale": [
             [
              0,
              "#0d0887"
             ],
             [
              0.1111111111111111,
              "#46039f"
             ],
             [
              0.2222222222222222,
              "#7201a8"
             ],
             [
              0.3333333333333333,
              "#9c179e"
             ],
             [
              0.4444444444444444,
              "#bd3786"
             ],
             [
              0.5555555555555556,
              "#d8576b"
             ],
             [
              0.6666666666666666,
              "#ed7953"
             ],
             [
              0.7777777777777778,
              "#fb9f3a"
             ],
             [
              0.8888888888888888,
              "#fdca26"
             ],
             [
              1,
              "#f0f921"
             ]
            ],
            "type": "histogram2d"
           }
          ],
          "histogram2dcontour": [
           {
            "colorbar": {
             "outlinewidth": 0,
             "ticks": ""
            },
            "colorscale": [
             [
              0,
              "#0d0887"
             ],
             [
              0.1111111111111111,
              "#46039f"
             ],
             [
              0.2222222222222222,
              "#7201a8"
             ],
             [
              0.3333333333333333,
              "#9c179e"
             ],
             [
              0.4444444444444444,
              "#bd3786"
             ],
             [
              0.5555555555555556,
              "#d8576b"
             ],
             [
              0.6666666666666666,
              "#ed7953"
             ],
             [
              0.7777777777777778,
              "#fb9f3a"
             ],
             [
              0.8888888888888888,
              "#fdca26"
             ],
             [
              1,
              "#f0f921"
             ]
            ],
            "type": "histogram2dcontour"
           }
          ],
          "mesh3d": [
           {
            "colorbar": {
             "outlinewidth": 0,
             "ticks": ""
            },
            "type": "mesh3d"
           }
          ],
          "parcoords": [
           {
            "line": {
             "colorbar": {
              "outlinewidth": 0,
              "ticks": ""
             }
            },
            "type": "parcoords"
           }
          ],
          "pie": [
           {
            "automargin": true,
            "type": "pie"
           }
          ],
          "scatter": [
           {
            "fillpattern": {
             "fillmode": "overlay",
             "size": 10,
             "solidity": 0.2
            },
            "type": "scatter"
           }
          ],
          "scatter3d": [
           {
            "line": {
             "colorbar": {
              "outlinewidth": 0,
              "ticks": ""
             }
            },
            "marker": {
             "colorbar": {
              "outlinewidth": 0,
              "ticks": ""
             }
            },
            "type": "scatter3d"
           }
          ],
          "scattercarpet": [
           {
            "marker": {
             "colorbar": {
              "outlinewidth": 0,
              "ticks": ""
             }
            },
            "type": "scattercarpet"
           }
          ],
          "scattergeo": [
           {
            "marker": {
             "colorbar": {
              "outlinewidth": 0,
              "ticks": ""
             }
            },
            "type": "scattergeo"
           }
          ],
          "scattergl": [
           {
            "marker": {
             "colorbar": {
              "outlinewidth": 0,
              "ticks": ""
             }
            },
            "type": "scattergl"
           }
          ],
          "scattermapbox": [
           {
            "marker": {
             "colorbar": {
              "outlinewidth": 0,
              "ticks": ""
             }
            },
            "type": "scattermapbox"
           }
          ],
          "scatterpolar": [
           {
            "marker": {
             "colorbar": {
              "outlinewidth": 0,
              "ticks": ""
             }
            },
            "type": "scatterpolar"
           }
          ],
          "scatterpolargl": [
           {
            "marker": {
             "colorbar": {
              "outlinewidth": 0,
              "ticks": ""
             }
            },
            "type": "scatterpolargl"
           }
          ],
          "scatterternary": [
           {
            "marker": {
             "colorbar": {
              "outlinewidth": 0,
              "ticks": ""
             }
            },
            "type": "scatterternary"
           }
          ],
          "surface": [
           {
            "colorbar": {
             "outlinewidth": 0,
             "ticks": ""
            },
            "colorscale": [
             [
              0,
              "#0d0887"
             ],
             [
              0.1111111111111111,
              "#46039f"
             ],
             [
              0.2222222222222222,
              "#7201a8"
             ],
             [
              0.3333333333333333,
              "#9c179e"
             ],
             [
              0.4444444444444444,
              "#bd3786"
             ],
             [
              0.5555555555555556,
              "#d8576b"
             ],
             [
              0.6666666666666666,
              "#ed7953"
             ],
             [
              0.7777777777777778,
              "#fb9f3a"
             ],
             [
              0.8888888888888888,
              "#fdca26"
             ],
             [
              1,
              "#f0f921"
             ]
            ],
            "type": "surface"
           }
          ],
          "table": [
           {
            "cells": {
             "fill": {
              "color": "#EBF0F8"
             },
             "line": {
              "color": "white"
             }
            },
            "header": {
             "fill": {
              "color": "#C8D4E3"
             },
             "line": {
              "color": "white"
             }
            },
            "type": "table"
           }
          ]
         },
         "layout": {
          "annotationdefaults": {
           "arrowcolor": "#2a3f5f",
           "arrowhead": 0,
           "arrowwidth": 1
          },
          "autotypenumbers": "strict",
          "coloraxis": {
           "colorbar": {
            "outlinewidth": 0,
            "ticks": ""
           }
          },
          "colorscale": {
           "diverging": [
            [
             0,
             "#8e0152"
            ],
            [
             0.1,
             "#c51b7d"
            ],
            [
             0.2,
             "#de77ae"
            ],
            [
             0.3,
             "#f1b6da"
            ],
            [
             0.4,
             "#fde0ef"
            ],
            [
             0.5,
             "#f7f7f7"
            ],
            [
             0.6,
             "#e6f5d0"
            ],
            [
             0.7,
             "#b8e186"
            ],
            [
             0.8,
             "#7fbc41"
            ],
            [
             0.9,
             "#4d9221"
            ],
            [
             1,
             "#276419"
            ]
           ],
           "sequential": [
            [
             0,
             "#0d0887"
            ],
            [
             0.1111111111111111,
             "#46039f"
            ],
            [
             0.2222222222222222,
             "#7201a8"
            ],
            [
             0.3333333333333333,
             "#9c179e"
            ],
            [
             0.4444444444444444,
             "#bd3786"
            ],
            [
             0.5555555555555556,
             "#d8576b"
            ],
            [
             0.6666666666666666,
             "#ed7953"
            ],
            [
             0.7777777777777778,
             "#fb9f3a"
            ],
            [
             0.8888888888888888,
             "#fdca26"
            ],
            [
             1,
             "#f0f921"
            ]
           ],
           "sequentialminus": [
            [
             0,
             "#0d0887"
            ],
            [
             0.1111111111111111,
             "#46039f"
            ],
            [
             0.2222222222222222,
             "#7201a8"
            ],
            [
             0.3333333333333333,
             "#9c179e"
            ],
            [
             0.4444444444444444,
             "#bd3786"
            ],
            [
             0.5555555555555556,
             "#d8576b"
            ],
            [
             0.6666666666666666,
             "#ed7953"
            ],
            [
             0.7777777777777778,
             "#fb9f3a"
            ],
            [
             0.8888888888888888,
             "#fdca26"
            ],
            [
             1,
             "#f0f921"
            ]
           ]
          },
          "colorway": [
           "#636efa",
           "#EF553B",
           "#00cc96",
           "#ab63fa",
           "#FFA15A",
           "#19d3f3",
           "#FF6692",
           "#B6E880",
           "#FF97FF",
           "#FECB52"
          ],
          "font": {
           "color": "#2a3f5f"
          },
          "geo": {
           "bgcolor": "white",
           "lakecolor": "white",
           "landcolor": "white",
           "showlakes": true,
           "showland": true,
           "subunitcolor": "#C8D4E3"
          },
          "hoverlabel": {
           "align": "left"
          },
          "hovermode": "closest",
          "mapbox": {
           "style": "light"
          },
          "paper_bgcolor": "white",
          "plot_bgcolor": "white",
          "polar": {
           "angularaxis": {
            "gridcolor": "#EBF0F8",
            "linecolor": "#EBF0F8",
            "ticks": ""
           },
           "bgcolor": "white",
           "radialaxis": {
            "gridcolor": "#EBF0F8",
            "linecolor": "#EBF0F8",
            "ticks": ""
           }
          },
          "scene": {
           "xaxis": {
            "backgroundcolor": "white",
            "gridcolor": "#DFE8F3",
            "gridwidth": 2,
            "linecolor": "#EBF0F8",
            "showbackground": true,
            "ticks": "",
            "zerolinecolor": "#EBF0F8"
           },
           "yaxis": {
            "backgroundcolor": "white",
            "gridcolor": "#DFE8F3",
            "gridwidth": 2,
            "linecolor": "#EBF0F8",
            "showbackground": true,
            "ticks": "",
            "zerolinecolor": "#EBF0F8"
           },
           "zaxis": {
            "backgroundcolor": "white",
            "gridcolor": "#DFE8F3",
            "gridwidth": 2,
            "linecolor": "#EBF0F8",
            "showbackground": true,
            "ticks": "",
            "zerolinecolor": "#EBF0F8"
           }
          },
          "shapedefaults": {
           "line": {
            "color": "#2a3f5f"
           }
          },
          "ternary": {
           "aaxis": {
            "gridcolor": "#DFE8F3",
            "linecolor": "#A2B1C6",
            "ticks": ""
           },
           "baxis": {
            "gridcolor": "#DFE8F3",
            "linecolor": "#A2B1C6",
            "ticks": ""
           },
           "bgcolor": "white",
           "caxis": {
            "gridcolor": "#DFE8F3",
            "linecolor": "#A2B1C6",
            "ticks": ""
           }
          },
          "title": {
           "x": 0.05
          },
          "xaxis": {
           "automargin": true,
           "gridcolor": "#EBF0F8",
           "linecolor": "#EBF0F8",
           "ticks": "",
           "title": {
            "standoff": 15
           },
           "zerolinecolor": "#EBF0F8",
           "zerolinewidth": 2
          },
          "yaxis": {
           "automargin": true,
           "gridcolor": "#EBF0F8",
           "linecolor": "#EBF0F8",
           "ticks": "",
           "title": {
            "standoff": 15
           },
           "zerolinecolor": "#EBF0F8",
           "zerolinewidth": 2
          }
         }
        },
        "width": 800,
        "xaxis": {
         "anchor": "y",
         "domain": [
          0,
          1
         ],
         "title": {
          "text": "x"
         }
        },
        "yaxis": {
         "anchor": "x",
         "domain": [
          0,
          1
         ],
         "title": {
          "text": "y"
         }
        }
       }
      },
      "text/html": [
       "<div>                            <div id=\"597a3f96-9593-4d07-ace9-7dd8f6d1f7b4\" class=\"plotly-graph-div\" style=\"height:600px; width:800px;\"></div>            <script type=\"text/javascript\">                require([\"plotly\"], function(Plotly) {                    window.PLOTLYENV=window.PLOTLYENV || {};                                    if (document.getElementById(\"597a3f96-9593-4d07-ace9-7dd8f6d1f7b4\")) {                    Plotly.newPlot(                        \"597a3f96-9593-4d07-ace9-7dd8f6d1f7b4\",                        [{\"hovertemplate\":\"\\u003cb\\u003e%{hovertext}\\u003c\\u002fb\\u003e\\u003cbr\\u003e\\u003cbr\\u003ecolor=path\\u003cbr\\u003ex=%{x}\\u003cbr\\u003ey=%{y}\\u003cbr\\u003etext=%{text}\\u003cextra\\u003e\\u003c\\u002fextra\\u003e\",\"hovertext\":[0.0,25.0,49.0,72.0,94.0,95.0,104.0,105.0,106.0,107.0,108.0,109.0,110.0,111.0,112.0,113.0,114.0,116.0,122.0,123.0,124.0,136.0,137.0,140.0,141.0,156.0,157.0,158.0],\"legendgroup\":\"path\",\"marker\":{\"color\":\"red\",\"symbol\":\"circle\"},\"mode\":\"markers+text\",\"name\":\"path\",\"orientation\":\"v\",\"showlegend\":true,\"text\":[\"\\u003cb\\u003eSS\\u003c\\u002fb\\u003e\",\"\",\"\",\"\",\"\",\"\",\"\",\"\",\"\",\"\",\"\",\"\",\"\",\"\",\"\",\"\",\"\",\"\",\"\",\"\",\"\",\"\",\"\",\"\",\"\",\"\",\"\",\"\"],\"x\":[-0.866025,-0.8299406250000001,-0.79385625,-0.757771875,-0.7216875,-0.64951875,-1.6024681581683354e-17,0.07216875,0.14433750000000004,0.21650624999999993,0.288675,0.3608437500000001,0.4330125,0.5051812500000001,0.57735,0.64951875,0.7216875,-0.613434375,-0.180421875,-0.10825312499999999,-0.036084375000000016,-0.57735,-0.50518125,-0.28867499999999996,-0.21650625,-0.469096875,-0.3969281250000001,-0.32475937499999996],\"xaxis\":\"x\",\"y\":[-0.5,-0.4375,-0.375,-0.3125,-0.25,-0.25,-0.25,-0.25,-0.25,-0.25,-0.25,-0.25,-0.25,-0.25,-0.25,-0.25,-0.25,-0.1875,-0.1875,-0.18749999999999997,-0.1875,-0.12500000000000003,-0.12499999999999997,-0.125,-0.125,-0.0625,-0.0625,-0.062499999999999944],\"yaxis\":\"y\",\"type\":\"scatter\"},{\"hovertemplate\":\"\\u003cb\\u003e%{hovertext}\\u003c\\u002fb\\u003e\\u003cbr\\u003e\\u003cbr\\u003ecolor=False\\u003cbr\\u003ex=%{x}\\u003cbr\\u003ey=%{y}\\u003cbr\\u003etext=%{text}\\u003cextra\\u003e\\u003c\\u002fextra\\u003e\",\"hovertext\":[1.0,2.0,3.0,4.0,5.0,6.0,7.0,8.0,9.0,10.0,11.0,12.0,13.0,14.0,15.0,16.0,17.0,18.0,26.0,27.0,28.0,29.0,30.0,31.0,32.0,33.0,34.0,35.0,36.0,37.0,38.0,39.0,40.0,50.0,51.0,52.0,53.0,54.0,55.0,56.0,57.0,58.0,59.0,60.0,61.0,62.0,73.0,74.0,75.0,76.0,77.0,78.0,79.0,80.0,81.0,82.0,83.0,96.0,97.0,98.0,99.0,100.0,101.0,102.0,103.0,117.0,118.0,119.0,120.0,121.0,138.0,139.0],\"legendgroup\":\"False\",\"marker\":{\"color\":\"blue\",\"symbol\":\"circle\"},\"mode\":\"markers+text\",\"name\":\"False\",\"orientation\":\"v\",\"showlegend\":true,\"text\":[\"\",\"\",\"\",\"\",\"\",\"\",\"\",\"\",\"\",\"\",\"\",\"\",\"\",\"\",\"\",\"\",\"\",\"\",\"\",\"\",\"\",\"\",\"\",\"\",\"\",\"\",\"\",\"\",\"\",\"\",\"\",\"\",\"\",\"\",\"\",\"\",\"\",\"\",\"\",\"\",\"\",\"\",\"\",\"\",\"\",\"\",\"\",\"\",\"\",\"\",\"\",\"\",\"\",\"\",\"\",\"\",\"\",\"\",\"\",\"\",\"\",\"\",\"\",\"\",\"\",\"\",\"\",\"\",\"\",\"\",\"\",\"\"],\"x\":[-0.79385625,-0.7216875,-0.64951875,-0.57735,-0.50518125,-0.4330125,-0.3608437500000001,-0.28867499999999996,-0.21650625,-0.14433750000000004,-0.07216874999999998,0.0,0.07216874999999996,0.14433749999999998,0.21650625000000007,0.288675,0.3608437500000001,0.4330125,-0.757771875,-0.6856031250000001,-0.6134343750000001,-0.541265625,-0.469096875,-0.3969281250000001,-0.32475937499999996,-0.252590625,-0.18042187500000004,-0.10825312499999998,-0.036084375,0.036084375000000016,0.10825312499999994,0.180421875,0.25259062500000007,-0.7216875,-0.64951875,-0.57735,-0.50518125,-0.4330125000000001,-0.36084374999999996,-0.288675,-0.21650625000000004,-0.14433749999999998,-0.07216875,1.6024681581683354e-17,0.07216874999999999,0.14433749999999995,-0.6856031250000001,-0.613434375,-0.5412656250000001,-0.4690968750000001,-0.39692812499999997,-0.324759375,-0.25259062500000007,-0.18042187499999998,-0.108253125,-0.03608437499999999,0.03608437499999999,-0.57735,-0.50518125,-0.43301249999999997,-0.36084375,-0.28867500000000007,-0.21650624999999998,-0.1443375,-0.07216874999999999,-0.5412656250000001,-0.46909687499999997,-0.396928125,-0.3247593750000001,-0.25259062499999996,-0.4330125,-0.3608437500000001],\"xaxis\":\"x\",\"y\":[-0.5,-0.5,-0.5,-0.5,-0.5,-0.5,-0.5,-0.5,-0.5,-0.5,-0.5,-0.5,-0.5,-0.5,-0.5,-0.5,-0.5,-0.5,-0.4375,-0.4375,-0.4375,-0.4375,-0.4375,-0.4375,-0.4375,-0.4375,-0.4375,-0.4375,-0.4375,-0.4375,-0.4375,-0.4375,-0.4375,-0.375,-0.375,-0.375,-0.375,-0.375,-0.375,-0.375,-0.375,-0.375,-0.375,-0.375,-0.375,-0.375,-0.3125,-0.3125,-0.3125,-0.3125,-0.3125,-0.3125,-0.3125,-0.3125,-0.3125,-0.3125,-0.3125,-0.25,-0.25,-0.25,-0.25,-0.25,-0.25,-0.25,-0.25,-0.1875,-0.18749999999999997,-0.1875,-0.1875,-0.18749999999999997,-0.125,-0.125],\"yaxis\":\"y\",\"type\":\"scatter\"},{\"hovertemplate\":\"\\u003cb\\u003e%{hovertext}\\u003c\\u002fb\\u003e\\u003cbr\\u003e\\u003cbr\\u003ecolor=True\\u003cbr\\u003ex=%{x}\\u003cbr\\u003ey=%{y}\\u003cbr\\u003etext=%{text}\\u003cextra\\u003e\\u003c\\u002fextra\\u003e\",\"hovertext\":[19.0,20.0,21.0,22.0,23.0,24.0,41.0,42.0,43.0,44.0,45.0,46.0,47.0,48.0,63.0,64.0,65.0,66.0,67.0,68.0,69.0,70.0,71.0,84.0,85.0,86.0,87.0,88.0,89.0,90.0,91.0,92.0,93.0,115.0,125.0,126.0,127.0,128.0,129.0,130.0,131.0,132.0,133.0,134.0,135.0,142.0,143.0,144.0,145.0,146.0,147.0,148.0,149.0,150.0,151.0,152.0,153.0,154.0,155.0,159.0,160.0,161.0,162.0,163.0,164.0,165.0,166.0,167.0,168.0,169.0,170.0,171.0,172.0,173.0,174.0,175.0,176.0,177.0,178.0,179.0,180.0,181.0,182.0,183.0,184.0,185.0,186.0,187.0,188.0,189.0,190.0,191.0,192.0,193.0,194.0,195.0,196.0,197.0,198.0,199.0,200.0,201.0,202.0,203.0,204.0,205.0,206.0,207.0,208.0,209.0,210.0,211.0,212.0,213.0,214.0,215.0,216.0,217.0,218.0,219.0,220.0,221.0,222.0,223.0,224.0,225.0,226.0,227.0,228.0,229.0,230.0,231.0,232.0,233.0,234.0,235.0,236.0,237.0,238.0,239.0,240.0,241.0,242.0,243.0,244.0,245.0,246.0,247.0,248.0,249.0,250.0,251.0,252.0,253.0,254.0,255.0,256.0,257.0,258.0,259.0,260.0,261.0,262.0,263.0,264.0,265.0,266.0,267.0,268.0,269.0,270.0,271.0,272.0,273.0,274.0,275.0,276.0,277.0,278.0,279.0,280.0,281.0,282.0,283.0,284.0,285.0,286.0,287.0,288.0,289.0,290.0,291.0,292.0,293.0,294.0,295.0,296.0,297.0,298.0,299.0,300.0,301.0,302.0,303.0,304.0,305.0,306.0,307.0,308.0,309.0,310.0,311.0,312.0,313.0,314.0,315.0,316.0,317.0,318.0,319.0,320.0,321.0,322.0,323.0,324.0],\"legendgroup\":\"True\",\"marker\":{\"color\":\"#FECB52\",\"symbol\":\"circle\"},\"mode\":\"markers+text\",\"name\":\"True\",\"orientation\":\"v\",\"showlegend\":true,\"text\":[\"\",\"\",\"\",\"\",\"\",\"\\u003cb\\u003eCr\\u003c\\u002fb\\u003e\",\"\",\"\",\"\",\"\",\"\",\"\",\"\",\"\",\"\",\"\",\"\",\"\",\"\",\"\",\"\",\"\",\"\",\"\",\"\",\"\",\"\",\"\",\"\",\"\",\"\",\"\",\"\",\"\",\"\",\"\",\"\",\"\",\"\",\"\",\"\",\"\",\"\",\"\",\"\",\"\",\"\",\"\",\"\",\"\",\"\",\"\",\"\",\"\",\"\",\"\",\"\",\"\",\"\",\"\",\"\",\"\",\"\",\"\",\"\",\"\",\"\",\"\",\"\",\"\",\"\",\"\",\"\",\"\",\"\",\"\",\"\",\"\",\"\",\"\",\"\",\"\",\"\",\"\",\"\",\"\",\"\",\"\",\"\",\"\",\"\",\"\",\"\",\"\",\"\",\"\",\"\",\"\",\"\",\"\",\"\",\"\",\"\",\"\",\"\",\"\",\"\",\"\",\"\",\"\",\"\",\"\",\"\",\"\",\"\",\"\",\"\",\"\",\"\",\"\",\"\",\"\",\"\",\"\",\"\",\"\",\"\",\"\",\"\",\"\",\"\",\"\",\"\",\"\",\"\",\"\",\"\",\"\",\"\",\"\",\"\",\"\",\"\",\"\",\"\",\"\",\"\",\"\",\"\",\"\",\"\",\"\",\"\",\"\",\"\",\"\",\"\",\"\",\"\",\"\",\"\",\"\",\"\",\"\",\"\",\"\",\"\",\"\",\"\",\"\",\"\",\"\",\"\",\"\",\"\",\"\",\"\",\"\",\"\",\"\",\"\",\"\",\"\",\"\",\"\",\"\",\"\",\"\",\"\",\"\",\"\",\"\",\"\",\"\",\"\",\"\",\"\",\"\",\"\",\"\",\"\",\"\",\"\",\"\",\"\",\"\",\"\",\"\",\"\",\"\",\"\",\"\",\"\",\"\",\"\",\"\",\"\",\"\",\"\",\"\",\"\",\"\",\"\",\"\",\"\\u003cb\\u003eNi\\u003c\\u002fb\\u003e\"],\"x\":[0.5051812499999999,0.57735,0.6495187499999999,0.7216875,0.7938562500000002,0.866025,0.324759375,0.3969281250000001,0.469096875,0.541265625,0.613434375,0.685603125,0.7577718750000001,0.8299406250000001,0.21650625000000004,0.28867500000000007,0.36084375,0.4330125000000001,0.50518125,0.57735,0.64951875,0.7216875,0.79385625,0.108253125,0.18042187499999998,0.252590625,0.3247593750000001,0.396928125,0.4690968750000001,0.5412656250000001,0.613434375,0.6856031250000001,0.757771875,-0.685603125,0.036084375,0.10825312500000002,0.18042187499999998,0.25259062499999996,0.324759375,0.3969281250000001,0.469096875,0.5412656250000001,0.6134343750000001,0.685603125,-0.64951875,-0.14433749999999998,-0.07216875000000002,0.0,0.07216875000000002,0.14433749999999998,0.21650625,0.28867499999999996,0.36084375,0.4330125000000001,0.50518125,0.5773500000000001,0.64951875,-0.6134343750000001,-0.541265625,-0.252590625,-0.18042187499999998,-0.10825312500000002,-0.036084375,0.036084375000000016,0.10825312499999999,0.180421875,0.252590625,0.32475937499999996,0.396928125,0.4690968750000001,0.5412656250000001,0.6134343750000001,-0.57735,-0.50518125,-0.4330125000000001,-0.36084374999999996,-0.288675,-0.21650624999999998,-0.14433750000000004,-0.07216875,1.6024681581683354e-17,0.07216874999999999,0.1443375,0.21650625,0.288675,0.36084374999999996,0.4330125,0.5051812500000001,0.57735,-0.5412656250000001,-0.4690968750000001,-0.39692812499999997,-0.324759375,-0.252590625,-0.18042187500000004,-0.108253125,-0.03608437499999999,0.03608437499999999,0.108253125,0.180421875,0.252590625,0.324759375,0.39692812499999997,0.469096875,0.5412656250000001,-0.50518125,-0.43301249999999997,-0.36084375,-0.288675,-0.21650625000000004,-0.1443375,-0.07216874999999999,-1.6024681581683354e-17,0.07216875,0.1443375,0.21650625,0.288675,0.36084375,0.43301249999999997,0.50518125,-0.46909687499999997,-0.396928125,-0.324759375,-0.252590625,-0.180421875,-0.10825312499999999,-0.036084375000000016,0.036084375,0.10825312499999999,0.180421875,0.252590625,0.324759375,0.396928125,0.46909687499999997,-0.4330125,-0.36084375,-0.288675,-0.21650625,-0.14433749999999998,-0.07216875000000002,0.0,0.07216874999999999,0.1443375,0.21650625,0.288675,0.36084375,0.4330125,-0.396928125,-0.324759375,-0.252590625,-0.18042187499999998,-0.10825312500000002,-0.036084375,0.036084374999999995,0.10825312500000002,0.180421875,0.252590625,0.324759375,0.396928125,-0.36084375,-0.288675,-0.21650624999999998,-0.14433750000000004,-0.07216875,-8.012340790841677e-18,0.07216875000000002,0.1443375,0.21650625,0.288675,0.36084375,-0.324759375,-0.252590625,-0.18042187500000004,-0.108253125,-0.03608437500000001,0.03608437500000001,0.108253125,0.180421875,0.252590625,0.324759375,-0.288675,-0.21650625000000004,-0.1443375,-0.07216875000000002,8.012340790841677e-18,0.07216875,0.1443375,0.21650625,0.288675,-0.252590625,-0.180421875,-0.10825312500000002,-0.036084374999999995,0.036084375,0.108253125,0.180421875,0.252590625,-0.21650625,-0.1443375,-0.07216874999999999,0.0,0.07216875,0.1443375,0.21650625,-0.180421875,-0.10825312499999999,-0.036084375,0.03608437500000001,0.108253125,0.180421875,-0.1443375,-0.07216875,4.0061703954208385e-18,0.07216875,0.1443375,-0.108253125,-0.036084374999999995,0.036084375,0.108253125,-0.07216875,2.0030851977104193e-18,0.07216875,-0.036084375,0.036084375,0.0],\"xaxis\":\"x\",\"y\":[-0.5,-0.5,-0.5,-0.5,-0.5,-0.5,-0.4375,-0.4375,-0.4375,-0.43749999999999994,-0.4375,-0.4375,-0.43749999999999994,-0.4375,-0.375,-0.375,-0.375,-0.37500000000000006,-0.375,-0.375,-0.37500000000000006,-0.375,-0.375,-0.3125,-0.3125,-0.3125,-0.3125,-0.3125,-0.3125,-0.3125,-0.3125,-0.3125,-0.3125,-0.18749999999999997,-0.1875,-0.18749999999999997,-0.1875,-0.18749999999999997,-0.1875,-0.1875,-0.18749999999999997,-0.1875,-0.1875,-0.18749999999999997,-0.125,-0.125,-0.125,-0.125,-0.125,-0.125,-0.125,-0.12499999999999999,-0.125,-0.125,-0.12499999999999997,-0.12500000000000003,-0.125,-0.0625,-0.062499999999999944,-0.0625,-0.06249999999999997,-0.0625,-0.06249999999999997,-0.06249999999999997,-0.0625,-0.06249999999999997,-0.062499999999999986,-0.06249999999999996,-0.0625,-0.06249999999999998,-0.06249999999999996,-0.0625,0.0,0.0,-5.551115123125783e-17,0.0,0.0,-2.7755575615628914e-17,-2.7755575615628914e-17,-2.7755575615628914e-17,0.0,-2.7755575615628914e-17,-2.7755575615628914e-17,-1.3877787807814457e-17,-1.3877787807814457e-17,0.0,-3.469446951953614e-17,-1.734723475976807e-17,0.0,0.0625,0.0625,0.0625,0.0625,0.06250000000000003,0.06249999999999997,0.0625,0.0625,0.0625,0.0625,0.062499999999999986,0.06250000000000001,0.0625,0.06250000000000003,0.062499999999999986,0.0625,0.125,0.12500000000000006,0.125,0.12500000000000003,0.12500000000000003,0.125,0.12500000000000003,0.12500000000000003,0.125,0.125,0.125,0.12500000000000003,0.12500000000000003,0.12500000000000003,0.125,0.1875,0.1875,0.18749999999999997,0.18749999999999997,0.1875,0.18749999999999997,0.18749999999999997,0.1875,0.18749999999999994,0.1875,0.18749999999999997,0.1875,0.18749999999999997,0.1875,0.25,0.25,0.24999999999999997,0.25,0.25,0.24999999999999997,0.25,0.24999999999999994,0.25000000000000006,0.25,0.24999999999999997,0.25000000000000006,0.25,0.3125,0.3124999999999999,0.31249999999999994,0.3125,0.3125,0.31249999999999994,0.31249999999999994,0.31249999999999994,0.3125,0.31249999999999994,0.31249999999999994,0.3125,0.375,0.375,0.3750000000000001,0.375,0.375,0.375,0.37500000000000006,0.375,0.37500000000000006,0.37500000000000006,0.375,0.4375,0.4375,0.4375,0.4375,0.43749999999999994,0.43750000000000006,0.4375,0.43749999999999994,0.43750000000000006,0.4375,0.5,0.4999999999999999,0.5,0.49999999999999994,0.49999999999999994,0.5,0.49999999999999994,0.49999999999999994,0.5,0.5625,0.5625,0.5625000000000001,0.5625,0.5625,0.5625000000000001,0.5625,0.5625,0.625,0.625,0.625,0.625,0.625,0.625,0.625,0.6875,0.6874999999999999,0.6875,0.6875,0.6874999999999999,0.6875,0.75,0.75,0.7500000000000001,0.75,0.75,0.8125,0.8125,0.8125,0.8125,0.875,0.8749999999999999,0.875,0.9375,0.9375,1.0],\"yaxis\":\"y\",\"type\":\"scatter\"}],                        {\"template\":{\"data\":{\"barpolar\":[{\"marker\":{\"line\":{\"color\":\"white\",\"width\":0.5},\"pattern\":{\"fillmode\":\"overlay\",\"size\":10,\"solidity\":0.2}},\"type\":\"barpolar\"}],\"bar\":[{\"error_x\":{\"color\":\"#2a3f5f\"},\"error_y\":{\"color\":\"#2a3f5f\"},\"marker\":{\"line\":{\"color\":\"white\",\"width\":0.5},\"pattern\":{\"fillmode\":\"overlay\",\"size\":10,\"solidity\":0.2}},\"type\":\"bar\"}],\"carpet\":[{\"aaxis\":{\"endlinecolor\":\"#2a3f5f\",\"gridcolor\":\"#C8D4E3\",\"linecolor\":\"#C8D4E3\",\"minorgridcolor\":\"#C8D4E3\",\"startlinecolor\":\"#2a3f5f\"},\"baxis\":{\"endlinecolor\":\"#2a3f5f\",\"gridcolor\":\"#C8D4E3\",\"linecolor\":\"#C8D4E3\",\"minorgridcolor\":\"#C8D4E3\",\"startlinecolor\":\"#2a3f5f\"},\"type\":\"carpet\"}],\"choropleth\":[{\"colorbar\":{\"outlinewidth\":0,\"ticks\":\"\"},\"type\":\"choropleth\"}],\"contourcarpet\":[{\"colorbar\":{\"outlinewidth\":0,\"ticks\":\"\"},\"type\":\"contourcarpet\"}],\"contour\":[{\"colorbar\":{\"outlinewidth\":0,\"ticks\":\"\"},\"colorscale\":[[0.0,\"#0d0887\"],[0.1111111111111111,\"#46039f\"],[0.2222222222222222,\"#7201a8\"],[0.3333333333333333,\"#9c179e\"],[0.4444444444444444,\"#bd3786\"],[0.5555555555555556,\"#d8576b\"],[0.6666666666666666,\"#ed7953\"],[0.7777777777777778,\"#fb9f3a\"],[0.8888888888888888,\"#fdca26\"],[1.0,\"#f0f921\"]],\"type\":\"contour\"}],\"heatmapgl\":[{\"colorbar\":{\"outlinewidth\":0,\"ticks\":\"\"},\"colorscale\":[[0.0,\"#0d0887\"],[0.1111111111111111,\"#46039f\"],[0.2222222222222222,\"#7201a8\"],[0.3333333333333333,\"#9c179e\"],[0.4444444444444444,\"#bd3786\"],[0.5555555555555556,\"#d8576b\"],[0.6666666666666666,\"#ed7953\"],[0.7777777777777778,\"#fb9f3a\"],[0.8888888888888888,\"#fdca26\"],[1.0,\"#f0f921\"]],\"type\":\"heatmapgl\"}],\"heatmap\":[{\"colorbar\":{\"outlinewidth\":0,\"ticks\":\"\"},\"colorscale\":[[0.0,\"#0d0887\"],[0.1111111111111111,\"#46039f\"],[0.2222222222222222,\"#7201a8\"],[0.3333333333333333,\"#9c179e\"],[0.4444444444444444,\"#bd3786\"],[0.5555555555555556,\"#d8576b\"],[0.6666666666666666,\"#ed7953\"],[0.7777777777777778,\"#fb9f3a\"],[0.8888888888888888,\"#fdca26\"],[1.0,\"#f0f921\"]],\"type\":\"heatmap\"}],\"histogram2dcontour\":[{\"colorbar\":{\"outlinewidth\":0,\"ticks\":\"\"},\"colorscale\":[[0.0,\"#0d0887\"],[0.1111111111111111,\"#46039f\"],[0.2222222222222222,\"#7201a8\"],[0.3333333333333333,\"#9c179e\"],[0.4444444444444444,\"#bd3786\"],[0.5555555555555556,\"#d8576b\"],[0.6666666666666666,\"#ed7953\"],[0.7777777777777778,\"#fb9f3a\"],[0.8888888888888888,\"#fdca26\"],[1.0,\"#f0f921\"]],\"type\":\"histogram2dcontour\"}],\"histogram2d\":[{\"colorbar\":{\"outlinewidth\":0,\"ticks\":\"\"},\"colorscale\":[[0.0,\"#0d0887\"],[0.1111111111111111,\"#46039f\"],[0.2222222222222222,\"#7201a8\"],[0.3333333333333333,\"#9c179e\"],[0.4444444444444444,\"#bd3786\"],[0.5555555555555556,\"#d8576b\"],[0.6666666666666666,\"#ed7953\"],[0.7777777777777778,\"#fb9f3a\"],[0.8888888888888888,\"#fdca26\"],[1.0,\"#f0f921\"]],\"type\":\"histogram2d\"}],\"histogram\":[{\"marker\":{\"pattern\":{\"fillmode\":\"overlay\",\"size\":10,\"solidity\":0.2}},\"type\":\"histogram\"}],\"mesh3d\":[{\"colorbar\":{\"outlinewidth\":0,\"ticks\":\"\"},\"type\":\"mesh3d\"}],\"parcoords\":[{\"line\":{\"colorbar\":{\"outlinewidth\":0,\"ticks\":\"\"}},\"type\":\"parcoords\"}],\"pie\":[{\"automargin\":true,\"type\":\"pie\"}],\"scatter3d\":[{\"line\":{\"colorbar\":{\"outlinewidth\":0,\"ticks\":\"\"}},\"marker\":{\"colorbar\":{\"outlinewidth\":0,\"ticks\":\"\"}},\"type\":\"scatter3d\"}],\"scattercarpet\":[{\"marker\":{\"colorbar\":{\"outlinewidth\":0,\"ticks\":\"\"}},\"type\":\"scattercarpet\"}],\"scattergeo\":[{\"marker\":{\"colorbar\":{\"outlinewidth\":0,\"ticks\":\"\"}},\"type\":\"scattergeo\"}],\"scattergl\":[{\"marker\":{\"colorbar\":{\"outlinewidth\":0,\"ticks\":\"\"}},\"type\":\"scattergl\"}],\"scattermapbox\":[{\"marker\":{\"colorbar\":{\"outlinewidth\":0,\"ticks\":\"\"}},\"type\":\"scattermapbox\"}],\"scatterpolargl\":[{\"marker\":{\"colorbar\":{\"outlinewidth\":0,\"ticks\":\"\"}},\"type\":\"scatterpolargl\"}],\"scatterpolar\":[{\"marker\":{\"colorbar\":{\"outlinewidth\":0,\"ticks\":\"\"}},\"type\":\"scatterpolar\"}],\"scatter\":[{\"fillpattern\":{\"fillmode\":\"overlay\",\"size\":10,\"solidity\":0.2},\"type\":\"scatter\"}],\"scatterternary\":[{\"marker\":{\"colorbar\":{\"outlinewidth\":0,\"ticks\":\"\"}},\"type\":\"scatterternary\"}],\"surface\":[{\"colorbar\":{\"outlinewidth\":0,\"ticks\":\"\"},\"colorscale\":[[0.0,\"#0d0887\"],[0.1111111111111111,\"#46039f\"],[0.2222222222222222,\"#7201a8\"],[0.3333333333333333,\"#9c179e\"],[0.4444444444444444,\"#bd3786\"],[0.5555555555555556,\"#d8576b\"],[0.6666666666666666,\"#ed7953\"],[0.7777777777777778,\"#fb9f3a\"],[0.8888888888888888,\"#fdca26\"],[1.0,\"#f0f921\"]],\"type\":\"surface\"}],\"table\":[{\"cells\":{\"fill\":{\"color\":\"#EBF0F8\"},\"line\":{\"color\":\"white\"}},\"header\":{\"fill\":{\"color\":\"#C8D4E3\"},\"line\":{\"color\":\"white\"}},\"type\":\"table\"}]},\"layout\":{\"annotationdefaults\":{\"arrowcolor\":\"#2a3f5f\",\"arrowhead\":0,\"arrowwidth\":1},\"autotypenumbers\":\"strict\",\"coloraxis\":{\"colorbar\":{\"outlinewidth\":0,\"ticks\":\"\"}},\"colorscale\":{\"diverging\":[[0,\"#8e0152\"],[0.1,\"#c51b7d\"],[0.2,\"#de77ae\"],[0.3,\"#f1b6da\"],[0.4,\"#fde0ef\"],[0.5,\"#f7f7f7\"],[0.6,\"#e6f5d0\"],[0.7,\"#b8e186\"],[0.8,\"#7fbc41\"],[0.9,\"#4d9221\"],[1,\"#276419\"]],\"sequential\":[[0.0,\"#0d0887\"],[0.1111111111111111,\"#46039f\"],[0.2222222222222222,\"#7201a8\"],[0.3333333333333333,\"#9c179e\"],[0.4444444444444444,\"#bd3786\"],[0.5555555555555556,\"#d8576b\"],[0.6666666666666666,\"#ed7953\"],[0.7777777777777778,\"#fb9f3a\"],[0.8888888888888888,\"#fdca26\"],[1.0,\"#f0f921\"]],\"sequentialminus\":[[0.0,\"#0d0887\"],[0.1111111111111111,\"#46039f\"],[0.2222222222222222,\"#7201a8\"],[0.3333333333333333,\"#9c179e\"],[0.4444444444444444,\"#bd3786\"],[0.5555555555555556,\"#d8576b\"],[0.6666666666666666,\"#ed7953\"],[0.7777777777777778,\"#fb9f3a\"],[0.8888888888888888,\"#fdca26\"],[1.0,\"#f0f921\"]]},\"colorway\":[\"#636efa\",\"#EF553B\",\"#00cc96\",\"#ab63fa\",\"#FFA15A\",\"#19d3f3\",\"#FF6692\",\"#B6E880\",\"#FF97FF\",\"#FECB52\"],\"font\":{\"color\":\"#2a3f5f\"},\"geo\":{\"bgcolor\":\"white\",\"lakecolor\":\"white\",\"landcolor\":\"white\",\"showlakes\":true,\"showland\":true,\"subunitcolor\":\"#C8D4E3\"},\"hoverlabel\":{\"align\":\"left\"},\"hovermode\":\"closest\",\"mapbox\":{\"style\":\"light\"},\"paper_bgcolor\":\"white\",\"plot_bgcolor\":\"white\",\"polar\":{\"angularaxis\":{\"gridcolor\":\"#EBF0F8\",\"linecolor\":\"#EBF0F8\",\"ticks\":\"\"},\"bgcolor\":\"white\",\"radialaxis\":{\"gridcolor\":\"#EBF0F8\",\"linecolor\":\"#EBF0F8\",\"ticks\":\"\"}},\"scene\":{\"xaxis\":{\"backgroundcolor\":\"white\",\"gridcolor\":\"#DFE8F3\",\"gridwidth\":2,\"linecolor\":\"#EBF0F8\",\"showbackground\":true,\"ticks\":\"\",\"zerolinecolor\":\"#EBF0F8\"},\"yaxis\":{\"backgroundcolor\":\"white\",\"gridcolor\":\"#DFE8F3\",\"gridwidth\":2,\"linecolor\":\"#EBF0F8\",\"showbackground\":true,\"ticks\":\"\",\"zerolinecolor\":\"#EBF0F8\"},\"zaxis\":{\"backgroundcolor\":\"white\",\"gridcolor\":\"#DFE8F3\",\"gridwidth\":2,\"linecolor\":\"#EBF0F8\",\"showbackground\":true,\"ticks\":\"\",\"zerolinecolor\":\"#EBF0F8\"}},\"shapedefaults\":{\"line\":{\"color\":\"#2a3f5f\"}},\"ternary\":{\"aaxis\":{\"gridcolor\":\"#DFE8F3\",\"linecolor\":\"#A2B1C6\",\"ticks\":\"\"},\"baxis\":{\"gridcolor\":\"#DFE8F3\",\"linecolor\":\"#A2B1C6\",\"ticks\":\"\"},\"bgcolor\":\"white\",\"caxis\":{\"gridcolor\":\"#DFE8F3\",\"linecolor\":\"#A2B1C6\",\"ticks\":\"\"}},\"title\":{\"x\":0.05},\"xaxis\":{\"automargin\":true,\"gridcolor\":\"#EBF0F8\",\"linecolor\":\"#EBF0F8\",\"ticks\":\"\",\"title\":{\"standoff\":15},\"zerolinecolor\":\"#EBF0F8\",\"zerolinewidth\":2},\"yaxis\":{\"automargin\":true,\"gridcolor\":\"#EBF0F8\",\"linecolor\":\"#EBF0F8\",\"ticks\":\"\",\"title\":{\"standoff\":15},\"zerolinecolor\":\"#EBF0F8\",\"zerolinewidth\":2}}},\"xaxis\":{\"anchor\":\"y\",\"domain\":[0.0,1.0],\"title\":{\"text\":\"x\"}},\"yaxis\":{\"anchor\":\"x\",\"domain\":[0.0,1.0],\"title\":{\"text\":\"y\"}},\"legend\":{\"title\":{\"text\":\"color\"},\"tracegroupgap\":0},\"margin\":{\"t\":60},\"height\":600,\"width\":800},                        {\"responsive\": true}                    ).then(function(){\n",
       "                            \n",
       "var gd = document.getElementById('597a3f96-9593-4d07-ace9-7dd8f6d1f7b4');\n",
       "var x = new MutationObserver(function (mutations, observer) {{\n",
       "        var display = window.getComputedStyle(gd).display;\n",
       "        if (!display || display === 'none') {{\n",
       "            console.log([gd, 'removed!']);\n",
       "            Plotly.purge(gd);\n",
       "            observer.disconnect();\n",
       "        }}\n",
       "}});\n",
       "\n",
       "// Listen for the removal of the full notebook cells\n",
       "var notebookContainer = gd.closest('#notebook-container');\n",
       "if (notebookContainer) {{\n",
       "    x.observe(notebookContainer, {childList: true});\n",
       "}}\n",
       "\n",
       "// Listen for the clearing of the current output cell\n",
       "var outputEl = gd.closest('.output');\n",
       "if (outputEl) {{\n",
       "    x.observe(outputEl, {childList: true});\n",
       "}}\n",
       "\n",
       "                        })                };                });            </script>        </div>"
      ]
     },
     "metadata": {},
     "output_type": "display_data"
    }
   ],
   "source": [
    "pureComponentIndices = nimplex.pure_component_indexes_py(3, slen)\n",
    "labels = ['']*len(gridAtt_projected_df)\n",
    "for comp, idx in zip([\"Ni\", \"Cr\", \"SS\"], pureComponentIndices):\n",
    "    labels[idx] = \"<b>\"+comp+\"</b>\"\n",
    "fig = px.scatter(gridAtt_projected_df, x='x', y='y', color=gridFeasibleMarked3, text=labels, \n",
    "                 hover_name=list(range(len(gridAtt_projected_df))),\n",
    "              template='plotly_white', width=800, height=600, color_discrete_map=color_map)#, \n",
    "              #labels={'color':'Solid Solution Phases', 'x':'', 'y':''})\n",
    "fig.show()"
   ]
  },
  {
   "cell_type": "code",
   "execution_count": 107,
   "metadata": {},
   "outputs": [
    {
     "data": {
      "application/vnd.plotly.v1+json": {
       "config": {
        "plotlyServerURL": "https://plot.ly"
       },
       "data": [
        {
         "hovertemplate": "<b>%{hovertext}</b><br><br>color=True<br>x=%{x}<br>y=%{y}<br>text=%{text}<extra></extra>",
         "hovertext": [
          "325",
          "326",
          "327",
          "328",
          "329",
          "330",
          "331",
          "332",
          "333",
          "334",
          "335",
          "336",
          "346",
          "347",
          "348",
          "349",
          "371",
          "372",
          "373",
          "395",
          "396",
          "416",
          "418",
          "437",
          "438",
          "457",
          "458",
          "459",
          "476",
          "477",
          "478",
          "494",
          "495",
          "496",
          "511",
          "512",
          "513",
          "527",
          "528",
          "529",
          "542",
          "543",
          "544",
          "556",
          "557",
          "558",
          "569",
          "570",
          "571",
          "581",
          "582",
          "583",
          "592",
          "593",
          "594",
          "600",
          "601",
          "602",
          "603",
          "604",
          "606",
          "607",
          "608",
          "609",
          "610",
          "611",
          "612",
          "613",
          "615",
          "616",
          "617",
          "618",
          "619",
          "620",
          "621",
          "623",
          "624",
          "625",
          "626",
          "627",
          "628",
          "630",
          "631",
          "632",
          "633",
          "634",
          "635",
          "636",
          "637",
          "638",
          "639",
          "640",
          "641",
          "642",
          "643",
          "644",
          "645",
          "646",
          "647",
          "648",
          "649"
         ],
         "legendgroup": "True",
         "marker": {
          "color": "#FECB52",
          "symbol": "circle"
         },
         "mode": "markers+text",
         "name": "True",
         "orientation": "v",
         "showlegend": true,
         "text": [
          "<b>V</b>",
          "",
          "",
          "",
          "",
          "",
          "",
          "",
          "",
          "",
          "",
          "",
          "",
          "",
          "",
          "<b>Cr</b>",
          "",
          "",
          "",
          "",
          "",
          "",
          "",
          "",
          "",
          "",
          "",
          "",
          "",
          "",
          "",
          "",
          "",
          "",
          "",
          "",
          "",
          "",
          "",
          "",
          "",
          "",
          "",
          "",
          "",
          "",
          "",
          "",
          "",
          "",
          "",
          "",
          "",
          "",
          "",
          "",
          "",
          "",
          "",
          "",
          "",
          "",
          "",
          "",
          "",
          "",
          "",
          "",
          "",
          "",
          "",
          "",
          "",
          "",
          "",
          "",
          "",
          "",
          "",
          "",
          "",
          "",
          "",
          "",
          "",
          "",
          "",
          "",
          "",
          "",
          "",
          "",
          "",
          "",
          "",
          "",
          "",
          "",
          "",
          "",
          "<b>Ni</b>"
         ],
         "type": "scatter",
         "x": [
          -0.866025,
          -0.79385625,
          -0.7216875,
          -0.64951875,
          -0.57735,
          -0.50518125,
          -0.4330125,
          -0.3608437500000001,
          -0.28867499999999996,
          -0.21650625,
          -0.14433750000000004,
          -0.07216874999999998,
          0.6495187499999999,
          0.7216875,
          0.7938562500000002,
          0.866025,
          0.685603125,
          0.7577718750000001,
          0.8299406250000001,
          0.7216875,
          0.79385625,
          0.613434375,
          0.757771875,
          0.57735,
          0.64951875,
          0.5412656250000001,
          0.6134343750000001,
          0.685603125,
          0.50518125,
          0.5773500000000001,
          0.64951875,
          0.4690968750000001,
          0.5412656250000001,
          0.6134343750000001,
          0.4330125,
          0.5051812500000001,
          0.57735,
          0.39692812499999997,
          0.469096875,
          0.5412656250000001,
          0.36084375,
          0.43301249999999997,
          0.50518125,
          0.324759375,
          0.396928125,
          0.46909687499999997,
          0.288675,
          0.36084375,
          0.4330125,
          0.252590625,
          0.324759375,
          0.396928125,
          0.21650625,
          0.288675,
          0.36084375,
          0.03608437500000001,
          0.108253125,
          0.180421875,
          0.252590625,
          0.324759375,
          -0.21650625000000004,
          -0.1443375,
          -0.07216875000000002,
          8.012340790841677e-18,
          0.07216875,
          0.1443375,
          0.21650625,
          0.288675,
          -0.180421875,
          -0.10825312500000002,
          -0.036084374999999995,
          0.036084375,
          0.108253125,
          0.180421875,
          0.252590625,
          -0.1443375,
          -0.07216874999999999,
          0,
          0.07216875,
          0.1443375,
          0.21650625,
          -0.10825312499999999,
          -0.036084375,
          0.03608437500000001,
          0.108253125,
          0.180421875,
          -0.1443375,
          -0.07216875,
          4.0061703954208385e-18,
          0.07216875,
          0.1443375,
          -0.108253125,
          -0.036084374999999995,
          0.036084375,
          0.108253125,
          -0.07216875,
          2.0030851977104193e-18,
          0.07216875,
          -0.036084375,
          0.036084375,
          0
         ],
         "xaxis": "x",
         "y": [
          -0.5,
          -0.5,
          -0.5,
          -0.5,
          -0.5,
          -0.5,
          -0.5,
          -0.5,
          -0.5,
          -0.5,
          -0.5,
          -0.5,
          -0.5,
          -0.5,
          -0.5,
          -0.5,
          -0.4375,
          -0.43749999999999994,
          -0.4375,
          -0.375,
          -0.375,
          -0.3125,
          -0.3125,
          -0.25,
          -0.25,
          -0.1875,
          -0.1875,
          -0.18749999999999997,
          -0.12499999999999997,
          -0.12500000000000003,
          -0.125,
          -0.06249999999999998,
          -0.06249999999999996,
          -0.0625,
          -3.469446951953614e-17,
          -1.734723475976807e-17,
          0,
          0.06250000000000003,
          0.062499999999999986,
          0.0625,
          0.12500000000000003,
          0.12500000000000003,
          0.125,
          0.1875,
          0.18749999999999997,
          0.1875,
          0.24999999999999997,
          0.25000000000000006,
          0.25,
          0.31249999999999994,
          0.31249999999999994,
          0.3125,
          0.37500000000000006,
          0.37500000000000006,
          0.375,
          0.43750000000000006,
          0.4375,
          0.43749999999999994,
          0.43750000000000006,
          0.4375,
          0.4999999999999999,
          0.5,
          0.49999999999999994,
          0.49999999999999994,
          0.5,
          0.49999999999999994,
          0.49999999999999994,
          0.5,
          0.5625,
          0.5625000000000001,
          0.5625,
          0.5625,
          0.5625000000000001,
          0.5625,
          0.5625,
          0.625,
          0.625,
          0.625,
          0.625,
          0.625,
          0.625,
          0.6874999999999999,
          0.6875,
          0.6875,
          0.6874999999999999,
          0.6875,
          0.75,
          0.75,
          0.7500000000000001,
          0.75,
          0.75,
          0.8125,
          0.8125,
          0.8125,
          0.8125,
          0.875,
          0.8749999999999999,
          0.875,
          0.9375,
          0.9375,
          1
         ],
         "yaxis": "y"
        },
        {
         "hovertemplate": "<b>%{hovertext}</b><br><br>color=path<br>x=%{x}<br>y=%{y}<br>text=%{text}<extra></extra>",
         "hovertext": [
          "337",
          "338",
          "339",
          "340",
          "341",
          "342",
          "343",
          "344",
          "345",
          "370",
          "394",
          "417",
          "439"
         ],
         "legendgroup": "path",
         "marker": {
          "color": "red",
          "symbol": "circle"
         },
         "mode": "markers+text",
         "name": "path",
         "orientation": "v",
         "showlegend": true,
         "text": [
          "",
          "",
          "",
          "",
          "",
          "",
          "",
          "",
          "",
          "",
          "",
          "",
          ""
         ],
         "type": "scatter",
         "x": [
          0,
          0.07216874999999996,
          0.14433749999999998,
          0.21650625000000007,
          0.288675,
          0.3608437500000001,
          0.4330125,
          0.5051812499999999,
          0.57735,
          0.613434375,
          0.64951875,
          0.6856031250000001,
          0.7216875
         ],
         "xaxis": "x",
         "y": [
          -0.5,
          -0.5,
          -0.5,
          -0.5,
          -0.5,
          -0.5,
          -0.5,
          -0.5,
          -0.5,
          -0.4375,
          -0.37500000000000006,
          -0.3125,
          -0.25
         ],
         "yaxis": "y"
        },
        {
         "hovertemplate": "<b>%{hovertext}</b><br><br>color=False<br>x=%{x}<br>y=%{y}<br>text=%{text}<extra></extra>",
         "hovertext": [
          "350",
          "351",
          "352",
          "353",
          "354",
          "355",
          "356",
          "357",
          "358",
          "359",
          "360",
          "361",
          "362",
          "363",
          "364",
          "365",
          "366",
          "367",
          "368",
          "369",
          "374",
          "375",
          "376",
          "377",
          "378",
          "379",
          "380",
          "381",
          "382",
          "383",
          "384",
          "385",
          "386",
          "387",
          "388",
          "389",
          "390",
          "391",
          "392",
          "393",
          "397",
          "398",
          "399",
          "400",
          "401",
          "402",
          "403",
          "404",
          "405",
          "406",
          "407",
          "408",
          "409",
          "410",
          "411",
          "412",
          "413",
          "414",
          "415",
          "419",
          "420",
          "421",
          "422",
          "423",
          "424",
          "425",
          "426",
          "427",
          "428",
          "429",
          "430",
          "431",
          "432",
          "433",
          "434",
          "435",
          "436",
          "440",
          "441",
          "442",
          "443",
          "444",
          "445",
          "446",
          "447",
          "448",
          "449",
          "450",
          "451",
          "452",
          "453",
          "454",
          "455",
          "456",
          "460",
          "461",
          "462",
          "463",
          "464",
          "465",
          "466",
          "467",
          "468",
          "469",
          "470",
          "471",
          "472",
          "473",
          "474",
          "475",
          "479",
          "480",
          "481",
          "482",
          "483",
          "484",
          "485",
          "486",
          "487",
          "488",
          "489",
          "490",
          "491",
          "492",
          "493",
          "497",
          "498",
          "499",
          "500",
          "501",
          "502",
          "503",
          "504",
          "505",
          "506",
          "507",
          "508",
          "509",
          "510",
          "514",
          "515",
          "516",
          "517",
          "518",
          "519",
          "520",
          "521",
          "522",
          "523",
          "524",
          "525",
          "526",
          "530",
          "531",
          "532",
          "533",
          "534",
          "535",
          "536",
          "537",
          "538",
          "539",
          "540",
          "541",
          "545",
          "546",
          "547",
          "548",
          "549",
          "550",
          "551",
          "552",
          "553",
          "554",
          "555",
          "559",
          "560",
          "561",
          "562",
          "563",
          "564",
          "565",
          "566",
          "567",
          "568",
          "572",
          "573",
          "574",
          "575",
          "576",
          "577",
          "578",
          "579",
          "580",
          "584",
          "585",
          "586",
          "587",
          "588",
          "589",
          "590",
          "591",
          "595",
          "596",
          "597",
          "598",
          "599",
          "605",
          "614",
          "622",
          "629"
         ],
         "legendgroup": "False",
         "marker": {
          "color": "blue",
          "symbol": "circle"
         },
         "mode": "markers+text",
         "name": "False",
         "orientation": "v",
         "showlegend": true,
         "text": [
          "",
          "",
          "",
          "",
          "",
          "",
          "",
          "",
          "",
          "",
          "",
          "",
          "",
          "",
          "",
          "",
          "",
          "",
          "",
          "",
          "",
          "",
          "",
          "",
          "",
          "",
          "",
          "",
          "",
          "",
          "",
          "",
          "",
          "",
          "",
          "",
          "",
          "",
          "",
          "",
          "",
          "",
          "",
          "",
          "",
          "",
          "",
          "",
          "",
          "",
          "",
          "",
          "",
          "",
          "",
          "",
          "",
          "",
          "",
          "",
          "",
          "",
          "",
          "",
          "",
          "",
          "",
          "",
          "",
          "",
          "",
          "",
          "",
          "",
          "",
          "",
          "",
          "",
          "",
          "",
          "",
          "",
          "",
          "",
          "",
          "",
          "",
          "",
          "",
          "",
          "",
          "",
          "",
          "",
          "",
          "",
          "",
          "",
          "",
          "",
          "",
          "",
          "",
          "",
          "",
          "",
          "",
          "",
          "",
          "",
          "",
          "",
          "",
          "",
          "",
          "",
          "",
          "",
          "",
          "",
          "",
          "",
          "",
          "",
          "",
          "",
          "",
          "",
          "",
          "",
          "",
          "",
          "",
          "",
          "",
          "",
          "",
          "",
          "",
          "",
          "",
          "",
          "",
          "",
          "",
          "",
          "",
          "",
          "",
          "",
          "",
          "",
          "",
          "",
          "",
          "",
          "",
          "",
          "",
          "",
          "",
          "",
          "",
          "",
          "",
          "",
          "",
          "",
          "",
          "",
          "",
          "",
          "",
          "",
          "",
          "",
          "",
          "",
          "",
          "",
          "",
          "",
          "",
          "",
          "",
          "",
          "",
          "",
          "",
          "",
          "",
          "",
          "",
          "",
          "",
          "",
          "",
          "",
          "",
          "",
          "",
          "",
          "",
          "",
          "",
          "",
          "",
          "",
          "",
          "",
          ""
         ],
         "type": "scatter",
         "x": [
          -0.8299406250000001,
          -0.757771875,
          -0.6856031250000001,
          -0.6134343750000001,
          -0.541265625,
          -0.469096875,
          -0.3969281250000001,
          -0.32475937499999996,
          -0.252590625,
          -0.18042187500000004,
          -0.10825312499999998,
          -0.036084375,
          0.036084375000000016,
          0.10825312499999994,
          0.180421875,
          0.25259062500000007,
          0.324759375,
          0.3969281250000001,
          0.469096875,
          0.541265625,
          -0.79385625,
          -0.7216875,
          -0.64951875,
          -0.57735,
          -0.50518125,
          -0.4330125000000001,
          -0.36084374999999996,
          -0.288675,
          -0.21650625000000004,
          -0.14433749999999998,
          -0.07216875,
          1.6024681581683354e-17,
          0.07216874999999999,
          0.14433749999999995,
          0.21650625000000004,
          0.28867500000000007,
          0.36084375,
          0.4330125000000001,
          0.50518125,
          0.57735,
          -0.757771875,
          -0.6856031250000001,
          -0.613434375,
          -0.5412656250000001,
          -0.4690968750000001,
          -0.39692812499999997,
          -0.324759375,
          -0.25259062500000007,
          -0.18042187499999998,
          -0.108253125,
          -0.03608437499999999,
          0.03608437499999999,
          0.108253125,
          0.18042187499999998,
          0.252590625,
          0.3247593750000001,
          0.396928125,
          0.4690968750000001,
          0.5412656250000001,
          -0.7216875,
          -0.64951875,
          -0.57735,
          -0.50518125,
          -0.43301249999999997,
          -0.36084375,
          -0.28867500000000007,
          -0.21650624999999998,
          -0.1443375,
          -0.07216874999999999,
          -1.6024681581683354e-17,
          0.07216875,
          0.14433750000000004,
          0.21650624999999993,
          0.288675,
          0.3608437500000001,
          0.4330125,
          0.5051812500000001,
          -0.685603125,
          -0.613434375,
          -0.5412656250000001,
          -0.46909687499999997,
          -0.396928125,
          -0.3247593750000001,
          -0.25259062499999996,
          -0.180421875,
          -0.10825312499999999,
          -0.036084375000000016,
          0.036084375,
          0.10825312500000002,
          0.18042187499999998,
          0.25259062499999996,
          0.324759375,
          0.3969281250000001,
          0.469096875,
          -0.64951875,
          -0.57735,
          -0.50518125,
          -0.4330125,
          -0.3608437500000001,
          -0.28867499999999996,
          -0.21650625,
          -0.14433749999999998,
          -0.07216875000000002,
          0,
          0.07216875000000002,
          0.14433749999999998,
          0.21650625,
          0.28867499999999996,
          0.36084375,
          0.4330125000000001,
          -0.6134343750000001,
          -0.541265625,
          -0.469096875,
          -0.3969281250000001,
          -0.32475937499999996,
          -0.252590625,
          -0.18042187499999998,
          -0.10825312500000002,
          -0.036084375,
          0.036084375000000016,
          0.10825312499999999,
          0.180421875,
          0.252590625,
          0.32475937499999996,
          0.396928125,
          -0.57735,
          -0.50518125,
          -0.4330125000000001,
          -0.36084374999999996,
          -0.288675,
          -0.21650624999999998,
          -0.14433750000000004,
          -0.07216875,
          1.6024681581683354e-17,
          0.07216874999999999,
          0.1443375,
          0.21650625,
          0.288675,
          0.36084374999999996,
          -0.5412656250000001,
          -0.4690968750000001,
          -0.39692812499999997,
          -0.324759375,
          -0.252590625,
          -0.18042187500000004,
          -0.108253125,
          -0.03608437499999999,
          0.03608437499999999,
          0.108253125,
          0.180421875,
          0.252590625,
          0.324759375,
          -0.50518125,
          -0.43301249999999997,
          -0.36084375,
          -0.288675,
          -0.21650625000000004,
          -0.1443375,
          -0.07216874999999999,
          -1.6024681581683354e-17,
          0.07216875,
          0.1443375,
          0.21650625,
          0.288675,
          -0.46909687499999997,
          -0.396928125,
          -0.324759375,
          -0.252590625,
          -0.180421875,
          -0.10825312499999999,
          -0.036084375000000016,
          0.036084375,
          0.10825312499999999,
          0.180421875,
          0.252590625,
          -0.4330125,
          -0.36084375,
          -0.288675,
          -0.21650625,
          -0.14433749999999998,
          -0.07216875000000002,
          0,
          0.07216874999999999,
          0.1443375,
          0.21650625,
          -0.396928125,
          -0.324759375,
          -0.252590625,
          -0.18042187499999998,
          -0.10825312500000002,
          -0.036084375,
          0.036084374999999995,
          0.10825312500000002,
          0.180421875,
          -0.36084375,
          -0.288675,
          -0.21650624999999998,
          -0.14433750000000004,
          -0.07216875,
          -8.012340790841677e-18,
          0.07216875000000002,
          0.1443375,
          -0.324759375,
          -0.252590625,
          -0.18042187500000004,
          -0.108253125,
          -0.03608437500000001,
          -0.288675,
          -0.252590625,
          -0.21650625,
          -0.180421875
         ],
         "xaxis": "x",
         "y": [
          -0.4375,
          -0.4375,
          -0.4375,
          -0.4375,
          -0.4375,
          -0.4375,
          -0.4375,
          -0.4375,
          -0.4375,
          -0.4375,
          -0.4375,
          -0.4375,
          -0.4375,
          -0.4375,
          -0.4375,
          -0.4375,
          -0.4375,
          -0.4375,
          -0.4375,
          -0.43749999999999994,
          -0.375,
          -0.375,
          -0.375,
          -0.375,
          -0.375,
          -0.375,
          -0.375,
          -0.375,
          -0.375,
          -0.375,
          -0.375,
          -0.375,
          -0.375,
          -0.375,
          -0.375,
          -0.375,
          -0.375,
          -0.37500000000000006,
          -0.375,
          -0.375,
          -0.3125,
          -0.3125,
          -0.3125,
          -0.3125,
          -0.3125,
          -0.3125,
          -0.3125,
          -0.3125,
          -0.3125,
          -0.3125,
          -0.3125,
          -0.3125,
          -0.3125,
          -0.3125,
          -0.3125,
          -0.3125,
          -0.3125,
          -0.3125,
          -0.3125,
          -0.25,
          -0.25,
          -0.25,
          -0.25,
          -0.25,
          -0.25,
          -0.25,
          -0.25,
          -0.25,
          -0.25,
          -0.25,
          -0.25,
          -0.25,
          -0.25,
          -0.25,
          -0.25,
          -0.25,
          -0.25,
          -0.18749999999999997,
          -0.1875,
          -0.1875,
          -0.18749999999999997,
          -0.1875,
          -0.1875,
          -0.18749999999999997,
          -0.1875,
          -0.18749999999999997,
          -0.1875,
          -0.1875,
          -0.18749999999999997,
          -0.1875,
          -0.18749999999999997,
          -0.1875,
          -0.1875,
          -0.18749999999999997,
          -0.125,
          -0.12500000000000003,
          -0.12499999999999997,
          -0.125,
          -0.125,
          -0.125,
          -0.125,
          -0.125,
          -0.125,
          -0.125,
          -0.125,
          -0.125,
          -0.125,
          -0.12499999999999999,
          -0.125,
          -0.125,
          -0.0625,
          -0.062499999999999944,
          -0.0625,
          -0.0625,
          -0.062499999999999944,
          -0.0625,
          -0.06249999999999997,
          -0.0625,
          -0.06249999999999997,
          -0.06249999999999997,
          -0.0625,
          -0.06249999999999997,
          -0.062499999999999986,
          -0.06249999999999996,
          -0.0625,
          0,
          0,
          -5.551115123125783e-17,
          0,
          0,
          -2.7755575615628914e-17,
          -2.7755575615628914e-17,
          -2.7755575615628914e-17,
          0,
          -2.7755575615628914e-17,
          -2.7755575615628914e-17,
          -1.3877787807814457e-17,
          -1.3877787807814457e-17,
          0,
          0.0625,
          0.0625,
          0.0625,
          0.0625,
          0.06250000000000003,
          0.06249999999999997,
          0.0625,
          0.0625,
          0.0625,
          0.0625,
          0.062499999999999986,
          0.06250000000000001,
          0.0625,
          0.125,
          0.12500000000000006,
          0.125,
          0.12500000000000003,
          0.12500000000000003,
          0.125,
          0.12500000000000003,
          0.12500000000000003,
          0.125,
          0.125,
          0.125,
          0.12500000000000003,
          0.1875,
          0.1875,
          0.18749999999999997,
          0.18749999999999997,
          0.1875,
          0.18749999999999997,
          0.18749999999999997,
          0.1875,
          0.18749999999999994,
          0.1875,
          0.18749999999999997,
          0.25,
          0.25,
          0.24999999999999997,
          0.25,
          0.25,
          0.24999999999999997,
          0.25,
          0.24999999999999994,
          0.25000000000000006,
          0.25,
          0.3125,
          0.3124999999999999,
          0.31249999999999994,
          0.3125,
          0.3125,
          0.31249999999999994,
          0.31249999999999994,
          0.31249999999999994,
          0.3125,
          0.375,
          0.375,
          0.3750000000000001,
          0.375,
          0.375,
          0.375,
          0.37500000000000006,
          0.375,
          0.4375,
          0.4375,
          0.4375,
          0.4375,
          0.43749999999999994,
          0.5,
          0.5625,
          0.625,
          0.6875
         ],
         "yaxis": "y"
        }
       ],
       "layout": {
        "height": 600,
        "legend": {
         "title": {
          "text": "color"
         },
         "tracegroupgap": 0
        },
        "margin": {
         "t": 60
        },
        "template": {
         "data": {
          "bar": [
           {
            "error_x": {
             "color": "#2a3f5f"
            },
            "error_y": {
             "color": "#2a3f5f"
            },
            "marker": {
             "line": {
              "color": "white",
              "width": 0.5
             },
             "pattern": {
              "fillmode": "overlay",
              "size": 10,
              "solidity": 0.2
             }
            },
            "type": "bar"
           }
          ],
          "barpolar": [
           {
            "marker": {
             "line": {
              "color": "white",
              "width": 0.5
             },
             "pattern": {
              "fillmode": "overlay",
              "size": 10,
              "solidity": 0.2
             }
            },
            "type": "barpolar"
           }
          ],
          "carpet": [
           {
            "aaxis": {
             "endlinecolor": "#2a3f5f",
             "gridcolor": "#C8D4E3",
             "linecolor": "#C8D4E3",
             "minorgridcolor": "#C8D4E3",
             "startlinecolor": "#2a3f5f"
            },
            "baxis": {
             "endlinecolor": "#2a3f5f",
             "gridcolor": "#C8D4E3",
             "linecolor": "#C8D4E3",
             "minorgridcolor": "#C8D4E3",
             "startlinecolor": "#2a3f5f"
            },
            "type": "carpet"
           }
          ],
          "choropleth": [
           {
            "colorbar": {
             "outlinewidth": 0,
             "ticks": ""
            },
            "type": "choropleth"
           }
          ],
          "contour": [
           {
            "colorbar": {
             "outlinewidth": 0,
             "ticks": ""
            },
            "colorscale": [
             [
              0,
              "#0d0887"
             ],
             [
              0.1111111111111111,
              "#46039f"
             ],
             [
              0.2222222222222222,
              "#7201a8"
             ],
             [
              0.3333333333333333,
              "#9c179e"
             ],
             [
              0.4444444444444444,
              "#bd3786"
             ],
             [
              0.5555555555555556,
              "#d8576b"
             ],
             [
              0.6666666666666666,
              "#ed7953"
             ],
             [
              0.7777777777777778,
              "#fb9f3a"
             ],
             [
              0.8888888888888888,
              "#fdca26"
             ],
             [
              1,
              "#f0f921"
             ]
            ],
            "type": "contour"
           }
          ],
          "contourcarpet": [
           {
            "colorbar": {
             "outlinewidth": 0,
             "ticks": ""
            },
            "type": "contourcarpet"
           }
          ],
          "heatmap": [
           {
            "colorbar": {
             "outlinewidth": 0,
             "ticks": ""
            },
            "colorscale": [
             [
              0,
              "#0d0887"
             ],
             [
              0.1111111111111111,
              "#46039f"
             ],
             [
              0.2222222222222222,
              "#7201a8"
             ],
             [
              0.3333333333333333,
              "#9c179e"
             ],
             [
              0.4444444444444444,
              "#bd3786"
             ],
             [
              0.5555555555555556,
              "#d8576b"
             ],
             [
              0.6666666666666666,
              "#ed7953"
             ],
             [
              0.7777777777777778,
              "#fb9f3a"
             ],
             [
              0.8888888888888888,
              "#fdca26"
             ],
             [
              1,
              "#f0f921"
             ]
            ],
            "type": "heatmap"
           }
          ],
          "heatmapgl": [
           {
            "colorbar": {
             "outlinewidth": 0,
             "ticks": ""
            },
            "colorscale": [
             [
              0,
              "#0d0887"
             ],
             [
              0.1111111111111111,
              "#46039f"
             ],
             [
              0.2222222222222222,
              "#7201a8"
             ],
             [
              0.3333333333333333,
              "#9c179e"
             ],
             [
              0.4444444444444444,
              "#bd3786"
             ],
             [
              0.5555555555555556,
              "#d8576b"
             ],
             [
              0.6666666666666666,
              "#ed7953"
             ],
             [
              0.7777777777777778,
              "#fb9f3a"
             ],
             [
              0.8888888888888888,
              "#fdca26"
             ],
             [
              1,
              "#f0f921"
             ]
            ],
            "type": "heatmapgl"
           }
          ],
          "histogram": [
           {
            "marker": {
             "pattern": {
              "fillmode": "overlay",
              "size": 10,
              "solidity": 0.2
             }
            },
            "type": "histogram"
           }
          ],
          "histogram2d": [
           {
            "colorbar": {
             "outlinewidth": 0,
             "ticks": ""
            },
            "colorscale": [
             [
              0,
              "#0d0887"
             ],
             [
              0.1111111111111111,
              "#46039f"
             ],
             [
              0.2222222222222222,
              "#7201a8"
             ],
             [
              0.3333333333333333,
              "#9c179e"
             ],
             [
              0.4444444444444444,
              "#bd3786"
             ],
             [
              0.5555555555555556,
              "#d8576b"
             ],
             [
              0.6666666666666666,
              "#ed7953"
             ],
             [
              0.7777777777777778,
              "#fb9f3a"
             ],
             [
              0.8888888888888888,
              "#fdca26"
             ],
             [
              1,
              "#f0f921"
             ]
            ],
            "type": "histogram2d"
           }
          ],
          "histogram2dcontour": [
           {
            "colorbar": {
             "outlinewidth": 0,
             "ticks": ""
            },
            "colorscale": [
             [
              0,
              "#0d0887"
             ],
             [
              0.1111111111111111,
              "#46039f"
             ],
             [
              0.2222222222222222,
              "#7201a8"
             ],
             [
              0.3333333333333333,
              "#9c179e"
             ],
             [
              0.4444444444444444,
              "#bd3786"
             ],
             [
              0.5555555555555556,
              "#d8576b"
             ],
             [
              0.6666666666666666,
              "#ed7953"
             ],
             [
              0.7777777777777778,
              "#fb9f3a"
             ],
             [
              0.8888888888888888,
              "#fdca26"
             ],
             [
              1,
              "#f0f921"
             ]
            ],
            "type": "histogram2dcontour"
           }
          ],
          "mesh3d": [
           {
            "colorbar": {
             "outlinewidth": 0,
             "ticks": ""
            },
            "type": "mesh3d"
           }
          ],
          "parcoords": [
           {
            "line": {
             "colorbar": {
              "outlinewidth": 0,
              "ticks": ""
             }
            },
            "type": "parcoords"
           }
          ],
          "pie": [
           {
            "automargin": true,
            "type": "pie"
           }
          ],
          "scatter": [
           {
            "fillpattern": {
             "fillmode": "overlay",
             "size": 10,
             "solidity": 0.2
            },
            "type": "scatter"
           }
          ],
          "scatter3d": [
           {
            "line": {
             "colorbar": {
              "outlinewidth": 0,
              "ticks": ""
             }
            },
            "marker": {
             "colorbar": {
              "outlinewidth": 0,
              "ticks": ""
             }
            },
            "type": "scatter3d"
           }
          ],
          "scattercarpet": [
           {
            "marker": {
             "colorbar": {
              "outlinewidth": 0,
              "ticks": ""
             }
            },
            "type": "scattercarpet"
           }
          ],
          "scattergeo": [
           {
            "marker": {
             "colorbar": {
              "outlinewidth": 0,
              "ticks": ""
             }
            },
            "type": "scattergeo"
           }
          ],
          "scattergl": [
           {
            "marker": {
             "colorbar": {
              "outlinewidth": 0,
              "ticks": ""
             }
            },
            "type": "scattergl"
           }
          ],
          "scattermapbox": [
           {
            "marker": {
             "colorbar": {
              "outlinewidth": 0,
              "ticks": ""
             }
            },
            "type": "scattermapbox"
           }
          ],
          "scatterpolar": [
           {
            "marker": {
             "colorbar": {
              "outlinewidth": 0,
              "ticks": ""
             }
            },
            "type": "scatterpolar"
           }
          ],
          "scatterpolargl": [
           {
            "marker": {
             "colorbar": {
              "outlinewidth": 0,
              "ticks": ""
             }
            },
            "type": "scatterpolargl"
           }
          ],
          "scatterternary": [
           {
            "marker": {
             "colorbar": {
              "outlinewidth": 0,
              "ticks": ""
             }
            },
            "type": "scatterternary"
           }
          ],
          "surface": [
           {
            "colorbar": {
             "outlinewidth": 0,
             "ticks": ""
            },
            "colorscale": [
             [
              0,
              "#0d0887"
             ],
             [
              0.1111111111111111,
              "#46039f"
             ],
             [
              0.2222222222222222,
              "#7201a8"
             ],
             [
              0.3333333333333333,
              "#9c179e"
             ],
             [
              0.4444444444444444,
              "#bd3786"
             ],
             [
              0.5555555555555556,
              "#d8576b"
             ],
             [
              0.6666666666666666,
              "#ed7953"
             ],
             [
              0.7777777777777778,
              "#fb9f3a"
             ],
             [
              0.8888888888888888,
              "#fdca26"
             ],
             [
              1,
              "#f0f921"
             ]
            ],
            "type": "surface"
           }
          ],
          "table": [
           {
            "cells": {
             "fill": {
              "color": "#EBF0F8"
             },
             "line": {
              "color": "white"
             }
            },
            "header": {
             "fill": {
              "color": "#C8D4E3"
             },
             "line": {
              "color": "white"
             }
            },
            "type": "table"
           }
          ]
         },
         "layout": {
          "annotationdefaults": {
           "arrowcolor": "#2a3f5f",
           "arrowhead": 0,
           "arrowwidth": 1
          },
          "autotypenumbers": "strict",
          "coloraxis": {
           "colorbar": {
            "outlinewidth": 0,
            "ticks": ""
           }
          },
          "colorscale": {
           "diverging": [
            [
             0,
             "#8e0152"
            ],
            [
             0.1,
             "#c51b7d"
            ],
            [
             0.2,
             "#de77ae"
            ],
            [
             0.3,
             "#f1b6da"
            ],
            [
             0.4,
             "#fde0ef"
            ],
            [
             0.5,
             "#f7f7f7"
            ],
            [
             0.6,
             "#e6f5d0"
            ],
            [
             0.7,
             "#b8e186"
            ],
            [
             0.8,
             "#7fbc41"
            ],
            [
             0.9,
             "#4d9221"
            ],
            [
             1,
             "#276419"
            ]
           ],
           "sequential": [
            [
             0,
             "#0d0887"
            ],
            [
             0.1111111111111111,
             "#46039f"
            ],
            [
             0.2222222222222222,
             "#7201a8"
            ],
            [
             0.3333333333333333,
             "#9c179e"
            ],
            [
             0.4444444444444444,
             "#bd3786"
            ],
            [
             0.5555555555555556,
             "#d8576b"
            ],
            [
             0.6666666666666666,
             "#ed7953"
            ],
            [
             0.7777777777777778,
             "#fb9f3a"
            ],
            [
             0.8888888888888888,
             "#fdca26"
            ],
            [
             1,
             "#f0f921"
            ]
           ],
           "sequentialminus": [
            [
             0,
             "#0d0887"
            ],
            [
             0.1111111111111111,
             "#46039f"
            ],
            [
             0.2222222222222222,
             "#7201a8"
            ],
            [
             0.3333333333333333,
             "#9c179e"
            ],
            [
             0.4444444444444444,
             "#bd3786"
            ],
            [
             0.5555555555555556,
             "#d8576b"
            ],
            [
             0.6666666666666666,
             "#ed7953"
            ],
            [
             0.7777777777777778,
             "#fb9f3a"
            ],
            [
             0.8888888888888888,
             "#fdca26"
            ],
            [
             1,
             "#f0f921"
            ]
           ]
          },
          "colorway": [
           "#636efa",
           "#EF553B",
           "#00cc96",
           "#ab63fa",
           "#FFA15A",
           "#19d3f3",
           "#FF6692",
           "#B6E880",
           "#FF97FF",
           "#FECB52"
          ],
          "font": {
           "color": "#2a3f5f"
          },
          "geo": {
           "bgcolor": "white",
           "lakecolor": "white",
           "landcolor": "white",
           "showlakes": true,
           "showland": true,
           "subunitcolor": "#C8D4E3"
          },
          "hoverlabel": {
           "align": "left"
          },
          "hovermode": "closest",
          "mapbox": {
           "style": "light"
          },
          "paper_bgcolor": "white",
          "plot_bgcolor": "white",
          "polar": {
           "angularaxis": {
            "gridcolor": "#EBF0F8",
            "linecolor": "#EBF0F8",
            "ticks": ""
           },
           "bgcolor": "white",
           "radialaxis": {
            "gridcolor": "#EBF0F8",
            "linecolor": "#EBF0F8",
            "ticks": ""
           }
          },
          "scene": {
           "xaxis": {
            "backgroundcolor": "white",
            "gridcolor": "#DFE8F3",
            "gridwidth": 2,
            "linecolor": "#EBF0F8",
            "showbackground": true,
            "ticks": "",
            "zerolinecolor": "#EBF0F8"
           },
           "yaxis": {
            "backgroundcolor": "white",
            "gridcolor": "#DFE8F3",
            "gridwidth": 2,
            "linecolor": "#EBF0F8",
            "showbackground": true,
            "ticks": "",
            "zerolinecolor": "#EBF0F8"
           },
           "zaxis": {
            "backgroundcolor": "white",
            "gridcolor": "#DFE8F3",
            "gridwidth": 2,
            "linecolor": "#EBF0F8",
            "showbackground": true,
            "ticks": "",
            "zerolinecolor": "#EBF0F8"
           }
          },
          "shapedefaults": {
           "line": {
            "color": "#2a3f5f"
           }
          },
          "ternary": {
           "aaxis": {
            "gridcolor": "#DFE8F3",
            "linecolor": "#A2B1C6",
            "ticks": ""
           },
           "baxis": {
            "gridcolor": "#DFE8F3",
            "linecolor": "#A2B1C6",
            "ticks": ""
           },
           "bgcolor": "white",
           "caxis": {
            "gridcolor": "#DFE8F3",
            "linecolor": "#A2B1C6",
            "ticks": ""
           }
          },
          "title": {
           "x": 0.05
          },
          "xaxis": {
           "automargin": true,
           "gridcolor": "#EBF0F8",
           "linecolor": "#EBF0F8",
           "ticks": "",
           "title": {
            "standoff": 15
           },
           "zerolinecolor": "#EBF0F8",
           "zerolinewidth": 2
          },
          "yaxis": {
           "automargin": true,
           "gridcolor": "#EBF0F8",
           "linecolor": "#EBF0F8",
           "ticks": "",
           "title": {
            "standoff": 15
           },
           "zerolinecolor": "#EBF0F8",
           "zerolinewidth": 2
          }
         }
        },
        "width": 800,
        "xaxis": {
         "anchor": "y",
         "domain": [
          0,
          1
         ],
         "title": {
          "text": "x"
         }
        },
        "yaxis": {
         "anchor": "x",
         "domain": [
          0,
          1
         ],
         "title": {
          "text": "y"
         }
        }
       }
      },
      "text/html": [
       "<div>                            <div id=\"2be7205b-4b27-44c7-8c7b-25ac75589ee6\" class=\"plotly-graph-div\" style=\"height:600px; width:800px;\"></div>            <script type=\"text/javascript\">                require([\"plotly\"], function(Plotly) {                    window.PLOTLYENV=window.PLOTLYENV || {};                                    if (document.getElementById(\"2be7205b-4b27-44c7-8c7b-25ac75589ee6\")) {                    Plotly.newPlot(                        \"2be7205b-4b27-44c7-8c7b-25ac75589ee6\",                        [{\"hovertemplate\":\"\\u003cb\\u003e%{hovertext}\\u003c\\u002fb\\u003e\\u003cbr\\u003e\\u003cbr\\u003ecolor=True\\u003cbr\\u003ex=%{x}\\u003cbr\\u003ey=%{y}\\u003cbr\\u003etext=%{text}\\u003cextra\\u003e\\u003c\\u002fextra\\u003e\",\"hovertext\":[\"325\",\"326\",\"327\",\"328\",\"329\",\"330\",\"331\",\"332\",\"333\",\"334\",\"335\",\"336\",\"346\",\"347\",\"348\",\"349\",\"371\",\"372\",\"373\",\"395\",\"396\",\"416\",\"418\",\"437\",\"438\",\"457\",\"458\",\"459\",\"476\",\"477\",\"478\",\"494\",\"495\",\"496\",\"511\",\"512\",\"513\",\"527\",\"528\",\"529\",\"542\",\"543\",\"544\",\"556\",\"557\",\"558\",\"569\",\"570\",\"571\",\"581\",\"582\",\"583\",\"592\",\"593\",\"594\",\"600\",\"601\",\"602\",\"603\",\"604\",\"606\",\"607\",\"608\",\"609\",\"610\",\"611\",\"612\",\"613\",\"615\",\"616\",\"617\",\"618\",\"619\",\"620\",\"621\",\"623\",\"624\",\"625\",\"626\",\"627\",\"628\",\"630\",\"631\",\"632\",\"633\",\"634\",\"635\",\"636\",\"637\",\"638\",\"639\",\"640\",\"641\",\"642\",\"643\",\"644\",\"645\",\"646\",\"647\",\"648\",\"649\"],\"legendgroup\":\"True\",\"marker\":{\"color\":\"#FECB52\",\"symbol\":\"circle\"},\"mode\":\"markers+text\",\"name\":\"True\",\"orientation\":\"v\",\"showlegend\":true,\"text\":[\"\\u003cb\\u003eV\\u003c\\u002fb\\u003e\",\"\",\"\",\"\",\"\",\"\",\"\",\"\",\"\",\"\",\"\",\"\",\"\",\"\",\"\",\"\\u003cb\\u003eCr\\u003c\\u002fb\\u003e\",\"\",\"\",\"\",\"\",\"\",\"\",\"\",\"\",\"\",\"\",\"\",\"\",\"\",\"\",\"\",\"\",\"\",\"\",\"\",\"\",\"\",\"\",\"\",\"\",\"\",\"\",\"\",\"\",\"\",\"\",\"\",\"\",\"\",\"\",\"\",\"\",\"\",\"\",\"\",\"\",\"\",\"\",\"\",\"\",\"\",\"\",\"\",\"\",\"\",\"\",\"\",\"\",\"\",\"\",\"\",\"\",\"\",\"\",\"\",\"\",\"\",\"\",\"\",\"\",\"\",\"\",\"\",\"\",\"\",\"\",\"\",\"\",\"\",\"\",\"\",\"\",\"\",\"\",\"\",\"\",\"\",\"\",\"\",\"\",\"\\u003cb\\u003eNi\\u003c\\u002fb\\u003e\"],\"x\":[-0.866025,-0.79385625,-0.7216875,-0.64951875,-0.57735,-0.50518125,-0.4330125,-0.3608437500000001,-0.28867499999999996,-0.21650625,-0.14433750000000004,-0.07216874999999998,0.6495187499999999,0.7216875,0.7938562500000002,0.866025,0.685603125,0.7577718750000001,0.8299406250000001,0.7216875,0.79385625,0.613434375,0.757771875,0.57735,0.64951875,0.5412656250000001,0.6134343750000001,0.685603125,0.50518125,0.5773500000000001,0.64951875,0.4690968750000001,0.5412656250000001,0.6134343750000001,0.4330125,0.5051812500000001,0.57735,0.39692812499999997,0.469096875,0.5412656250000001,0.36084375,0.43301249999999997,0.50518125,0.324759375,0.396928125,0.46909687499999997,0.288675,0.36084375,0.4330125,0.252590625,0.324759375,0.396928125,0.21650625,0.288675,0.36084375,0.03608437500000001,0.108253125,0.180421875,0.252590625,0.324759375,-0.21650625000000004,-0.1443375,-0.07216875000000002,8.012340790841677e-18,0.07216875,0.1443375,0.21650625,0.288675,-0.180421875,-0.10825312500000002,-0.036084374999999995,0.036084375,0.108253125,0.180421875,0.252590625,-0.1443375,-0.07216874999999999,0.0,0.07216875,0.1443375,0.21650625,-0.10825312499999999,-0.036084375,0.03608437500000001,0.108253125,0.180421875,-0.1443375,-0.07216875,4.0061703954208385e-18,0.07216875,0.1443375,-0.108253125,-0.036084374999999995,0.036084375,0.108253125,-0.07216875,2.0030851977104193e-18,0.07216875,-0.036084375,0.036084375,0.0],\"xaxis\":\"x\",\"y\":[-0.5,-0.5,-0.5,-0.5,-0.5,-0.5,-0.5,-0.5,-0.5,-0.5,-0.5,-0.5,-0.5,-0.5,-0.5,-0.5,-0.4375,-0.43749999999999994,-0.4375,-0.375,-0.375,-0.3125,-0.3125,-0.25,-0.25,-0.1875,-0.1875,-0.18749999999999997,-0.12499999999999997,-0.12500000000000003,-0.125,-0.06249999999999998,-0.06249999999999996,-0.0625,-3.469446951953614e-17,-1.734723475976807e-17,0.0,0.06250000000000003,0.062499999999999986,0.0625,0.12500000000000003,0.12500000000000003,0.125,0.1875,0.18749999999999997,0.1875,0.24999999999999997,0.25000000000000006,0.25,0.31249999999999994,0.31249999999999994,0.3125,0.37500000000000006,0.37500000000000006,0.375,0.43750000000000006,0.4375,0.43749999999999994,0.43750000000000006,0.4375,0.4999999999999999,0.5,0.49999999999999994,0.49999999999999994,0.5,0.49999999999999994,0.49999999999999994,0.5,0.5625,0.5625000000000001,0.5625,0.5625,0.5625000000000001,0.5625,0.5625,0.625,0.625,0.625,0.625,0.625,0.625,0.6874999999999999,0.6875,0.6875,0.6874999999999999,0.6875,0.75,0.75,0.7500000000000001,0.75,0.75,0.8125,0.8125,0.8125,0.8125,0.875,0.8749999999999999,0.875,0.9375,0.9375,1.0],\"yaxis\":\"y\",\"type\":\"scatter\"},{\"hovertemplate\":\"\\u003cb\\u003e%{hovertext}\\u003c\\u002fb\\u003e\\u003cbr\\u003e\\u003cbr\\u003ecolor=path\\u003cbr\\u003ex=%{x}\\u003cbr\\u003ey=%{y}\\u003cbr\\u003etext=%{text}\\u003cextra\\u003e\\u003c\\u002fextra\\u003e\",\"hovertext\":[\"337\",\"338\",\"339\",\"340\",\"341\",\"342\",\"343\",\"344\",\"345\",\"370\",\"394\",\"417\",\"439\"],\"legendgroup\":\"path\",\"marker\":{\"color\":\"red\",\"symbol\":\"circle\"},\"mode\":\"markers+text\",\"name\":\"path\",\"orientation\":\"v\",\"showlegend\":true,\"text\":[\"\",\"\",\"\",\"\",\"\",\"\",\"\",\"\",\"\",\"\",\"\",\"\",\"\"],\"x\":[0.0,0.07216874999999996,0.14433749999999998,0.21650625000000007,0.288675,0.3608437500000001,0.4330125,0.5051812499999999,0.57735,0.613434375,0.64951875,0.6856031250000001,0.7216875],\"xaxis\":\"x\",\"y\":[-0.5,-0.5,-0.5,-0.5,-0.5,-0.5,-0.5,-0.5,-0.5,-0.4375,-0.37500000000000006,-0.3125,-0.25],\"yaxis\":\"y\",\"type\":\"scatter\"},{\"hovertemplate\":\"\\u003cb\\u003e%{hovertext}\\u003c\\u002fb\\u003e\\u003cbr\\u003e\\u003cbr\\u003ecolor=False\\u003cbr\\u003ex=%{x}\\u003cbr\\u003ey=%{y}\\u003cbr\\u003etext=%{text}\\u003cextra\\u003e\\u003c\\u002fextra\\u003e\",\"hovertext\":[\"350\",\"351\",\"352\",\"353\",\"354\",\"355\",\"356\",\"357\",\"358\",\"359\",\"360\",\"361\",\"362\",\"363\",\"364\",\"365\",\"366\",\"367\",\"368\",\"369\",\"374\",\"375\",\"376\",\"377\",\"378\",\"379\",\"380\",\"381\",\"382\",\"383\",\"384\",\"385\",\"386\",\"387\",\"388\",\"389\",\"390\",\"391\",\"392\",\"393\",\"397\",\"398\",\"399\",\"400\",\"401\",\"402\",\"403\",\"404\",\"405\",\"406\",\"407\",\"408\",\"409\",\"410\",\"411\",\"412\",\"413\",\"414\",\"415\",\"419\",\"420\",\"421\",\"422\",\"423\",\"424\",\"425\",\"426\",\"427\",\"428\",\"429\",\"430\",\"431\",\"432\",\"433\",\"434\",\"435\",\"436\",\"440\",\"441\",\"442\",\"443\",\"444\",\"445\",\"446\",\"447\",\"448\",\"449\",\"450\",\"451\",\"452\",\"453\",\"454\",\"455\",\"456\",\"460\",\"461\",\"462\",\"463\",\"464\",\"465\",\"466\",\"467\",\"468\",\"469\",\"470\",\"471\",\"472\",\"473\",\"474\",\"475\",\"479\",\"480\",\"481\",\"482\",\"483\",\"484\",\"485\",\"486\",\"487\",\"488\",\"489\",\"490\",\"491\",\"492\",\"493\",\"497\",\"498\",\"499\",\"500\",\"501\",\"502\",\"503\",\"504\",\"505\",\"506\",\"507\",\"508\",\"509\",\"510\",\"514\",\"515\",\"516\",\"517\",\"518\",\"519\",\"520\",\"521\",\"522\",\"523\",\"524\",\"525\",\"526\",\"530\",\"531\",\"532\",\"533\",\"534\",\"535\",\"536\",\"537\",\"538\",\"539\",\"540\",\"541\",\"545\",\"546\",\"547\",\"548\",\"549\",\"550\",\"551\",\"552\",\"553\",\"554\",\"555\",\"559\",\"560\",\"561\",\"562\",\"563\",\"564\",\"565\",\"566\",\"567\",\"568\",\"572\",\"573\",\"574\",\"575\",\"576\",\"577\",\"578\",\"579\",\"580\",\"584\",\"585\",\"586\",\"587\",\"588\",\"589\",\"590\",\"591\",\"595\",\"596\",\"597\",\"598\",\"599\",\"605\",\"614\",\"622\",\"629\"],\"legendgroup\":\"False\",\"marker\":{\"color\":\"blue\",\"symbol\":\"circle\"},\"mode\":\"markers+text\",\"name\":\"False\",\"orientation\":\"v\",\"showlegend\":true,\"text\":[\"\",\"\",\"\",\"\",\"\",\"\",\"\",\"\",\"\",\"\",\"\",\"\",\"\",\"\",\"\",\"\",\"\",\"\",\"\",\"\",\"\",\"\",\"\",\"\",\"\",\"\",\"\",\"\",\"\",\"\",\"\",\"\",\"\",\"\",\"\",\"\",\"\",\"\",\"\",\"\",\"\",\"\",\"\",\"\",\"\",\"\",\"\",\"\",\"\",\"\",\"\",\"\",\"\",\"\",\"\",\"\",\"\",\"\",\"\",\"\",\"\",\"\",\"\",\"\",\"\",\"\",\"\",\"\",\"\",\"\",\"\",\"\",\"\",\"\",\"\",\"\",\"\",\"\",\"\",\"\",\"\",\"\",\"\",\"\",\"\",\"\",\"\",\"\",\"\",\"\",\"\",\"\",\"\",\"\",\"\",\"\",\"\",\"\",\"\",\"\",\"\",\"\",\"\",\"\",\"\",\"\",\"\",\"\",\"\",\"\",\"\",\"\",\"\",\"\",\"\",\"\",\"\",\"\",\"\",\"\",\"\",\"\",\"\",\"\",\"\",\"\",\"\",\"\",\"\",\"\",\"\",\"\",\"\",\"\",\"\",\"\",\"\",\"\",\"\",\"\",\"\",\"\",\"\",\"\",\"\",\"\",\"\",\"\",\"\",\"\",\"\",\"\",\"\",\"\",\"\",\"\",\"\",\"\",\"\",\"\",\"\",\"\",\"\",\"\",\"\",\"\",\"\",\"\",\"\",\"\",\"\",\"\",\"\",\"\",\"\",\"\",\"\",\"\",\"\",\"\",\"\",\"\",\"\",\"\",\"\",\"\",\"\",\"\",\"\",\"\",\"\",\"\",\"\",\"\",\"\",\"\",\"\",\"\",\"\",\"\",\"\",\"\",\"\",\"\",\"\",\"\",\"\",\"\",\"\",\"\",\"\"],\"x\":[-0.8299406250000001,-0.757771875,-0.6856031250000001,-0.6134343750000001,-0.541265625,-0.469096875,-0.3969281250000001,-0.32475937499999996,-0.252590625,-0.18042187500000004,-0.10825312499999998,-0.036084375,0.036084375000000016,0.10825312499999994,0.180421875,0.25259062500000007,0.324759375,0.3969281250000001,0.469096875,0.541265625,-0.79385625,-0.7216875,-0.64951875,-0.57735,-0.50518125,-0.4330125000000001,-0.36084374999999996,-0.288675,-0.21650625000000004,-0.14433749999999998,-0.07216875,1.6024681581683354e-17,0.07216874999999999,0.14433749999999995,0.21650625000000004,0.28867500000000007,0.36084375,0.4330125000000001,0.50518125,0.57735,-0.757771875,-0.6856031250000001,-0.613434375,-0.5412656250000001,-0.4690968750000001,-0.39692812499999997,-0.324759375,-0.25259062500000007,-0.18042187499999998,-0.108253125,-0.03608437499999999,0.03608437499999999,0.108253125,0.18042187499999998,0.252590625,0.3247593750000001,0.396928125,0.4690968750000001,0.5412656250000001,-0.7216875,-0.64951875,-0.57735,-0.50518125,-0.43301249999999997,-0.36084375,-0.28867500000000007,-0.21650624999999998,-0.1443375,-0.07216874999999999,-1.6024681581683354e-17,0.07216875,0.14433750000000004,0.21650624999999993,0.288675,0.3608437500000001,0.4330125,0.5051812500000001,-0.685603125,-0.613434375,-0.5412656250000001,-0.46909687499999997,-0.396928125,-0.3247593750000001,-0.25259062499999996,-0.180421875,-0.10825312499999999,-0.036084375000000016,0.036084375,0.10825312500000002,0.18042187499999998,0.25259062499999996,0.324759375,0.3969281250000001,0.469096875,-0.64951875,-0.57735,-0.50518125,-0.4330125,-0.3608437500000001,-0.28867499999999996,-0.21650625,-0.14433749999999998,-0.07216875000000002,0.0,0.07216875000000002,0.14433749999999998,0.21650625,0.28867499999999996,0.36084375,0.4330125000000001,-0.6134343750000001,-0.541265625,-0.469096875,-0.3969281250000001,-0.32475937499999996,-0.252590625,-0.18042187499999998,-0.10825312500000002,-0.036084375,0.036084375000000016,0.10825312499999999,0.180421875,0.252590625,0.32475937499999996,0.396928125,-0.57735,-0.50518125,-0.4330125000000001,-0.36084374999999996,-0.288675,-0.21650624999999998,-0.14433750000000004,-0.07216875,1.6024681581683354e-17,0.07216874999999999,0.1443375,0.21650625,0.288675,0.36084374999999996,-0.5412656250000001,-0.4690968750000001,-0.39692812499999997,-0.324759375,-0.252590625,-0.18042187500000004,-0.108253125,-0.03608437499999999,0.03608437499999999,0.108253125,0.180421875,0.252590625,0.324759375,-0.50518125,-0.43301249999999997,-0.36084375,-0.288675,-0.21650625000000004,-0.1443375,-0.07216874999999999,-1.6024681581683354e-17,0.07216875,0.1443375,0.21650625,0.288675,-0.46909687499999997,-0.396928125,-0.324759375,-0.252590625,-0.180421875,-0.10825312499999999,-0.036084375000000016,0.036084375,0.10825312499999999,0.180421875,0.252590625,-0.4330125,-0.36084375,-0.288675,-0.21650625,-0.14433749999999998,-0.07216875000000002,0.0,0.07216874999999999,0.1443375,0.21650625,-0.396928125,-0.324759375,-0.252590625,-0.18042187499999998,-0.10825312500000002,-0.036084375,0.036084374999999995,0.10825312500000002,0.180421875,-0.36084375,-0.288675,-0.21650624999999998,-0.14433750000000004,-0.07216875,-8.012340790841677e-18,0.07216875000000002,0.1443375,-0.324759375,-0.252590625,-0.18042187500000004,-0.108253125,-0.03608437500000001,-0.288675,-0.252590625,-0.21650625,-0.180421875],\"xaxis\":\"x\",\"y\":[-0.4375,-0.4375,-0.4375,-0.4375,-0.4375,-0.4375,-0.4375,-0.4375,-0.4375,-0.4375,-0.4375,-0.4375,-0.4375,-0.4375,-0.4375,-0.4375,-0.4375,-0.4375,-0.4375,-0.43749999999999994,-0.375,-0.375,-0.375,-0.375,-0.375,-0.375,-0.375,-0.375,-0.375,-0.375,-0.375,-0.375,-0.375,-0.375,-0.375,-0.375,-0.375,-0.37500000000000006,-0.375,-0.375,-0.3125,-0.3125,-0.3125,-0.3125,-0.3125,-0.3125,-0.3125,-0.3125,-0.3125,-0.3125,-0.3125,-0.3125,-0.3125,-0.3125,-0.3125,-0.3125,-0.3125,-0.3125,-0.3125,-0.25,-0.25,-0.25,-0.25,-0.25,-0.25,-0.25,-0.25,-0.25,-0.25,-0.25,-0.25,-0.25,-0.25,-0.25,-0.25,-0.25,-0.25,-0.18749999999999997,-0.1875,-0.1875,-0.18749999999999997,-0.1875,-0.1875,-0.18749999999999997,-0.1875,-0.18749999999999997,-0.1875,-0.1875,-0.18749999999999997,-0.1875,-0.18749999999999997,-0.1875,-0.1875,-0.18749999999999997,-0.125,-0.12500000000000003,-0.12499999999999997,-0.125,-0.125,-0.125,-0.125,-0.125,-0.125,-0.125,-0.125,-0.125,-0.125,-0.12499999999999999,-0.125,-0.125,-0.0625,-0.062499999999999944,-0.0625,-0.0625,-0.062499999999999944,-0.0625,-0.06249999999999997,-0.0625,-0.06249999999999997,-0.06249999999999997,-0.0625,-0.06249999999999997,-0.062499999999999986,-0.06249999999999996,-0.0625,0.0,0.0,-5.551115123125783e-17,0.0,0.0,-2.7755575615628914e-17,-2.7755575615628914e-17,-2.7755575615628914e-17,0.0,-2.7755575615628914e-17,-2.7755575615628914e-17,-1.3877787807814457e-17,-1.3877787807814457e-17,0.0,0.0625,0.0625,0.0625,0.0625,0.06250000000000003,0.06249999999999997,0.0625,0.0625,0.0625,0.0625,0.062499999999999986,0.06250000000000001,0.0625,0.125,0.12500000000000006,0.125,0.12500000000000003,0.12500000000000003,0.125,0.12500000000000003,0.12500000000000003,0.125,0.125,0.125,0.12500000000000003,0.1875,0.1875,0.18749999999999997,0.18749999999999997,0.1875,0.18749999999999997,0.18749999999999997,0.1875,0.18749999999999994,0.1875,0.18749999999999997,0.25,0.25,0.24999999999999997,0.25,0.25,0.24999999999999997,0.25,0.24999999999999994,0.25000000000000006,0.25,0.3125,0.3124999999999999,0.31249999999999994,0.3125,0.3125,0.31249999999999994,0.31249999999999994,0.31249999999999994,0.3125,0.375,0.375,0.3750000000000001,0.375,0.375,0.375,0.37500000000000006,0.375,0.4375,0.4375,0.4375,0.4375,0.43749999999999994,0.5,0.5625,0.625,0.6875],\"yaxis\":\"y\",\"type\":\"scatter\"}],                        {\"template\":{\"data\":{\"barpolar\":[{\"marker\":{\"line\":{\"color\":\"white\",\"width\":0.5},\"pattern\":{\"fillmode\":\"overlay\",\"size\":10,\"solidity\":0.2}},\"type\":\"barpolar\"}],\"bar\":[{\"error_x\":{\"color\":\"#2a3f5f\"},\"error_y\":{\"color\":\"#2a3f5f\"},\"marker\":{\"line\":{\"color\":\"white\",\"width\":0.5},\"pattern\":{\"fillmode\":\"overlay\",\"size\":10,\"solidity\":0.2}},\"type\":\"bar\"}],\"carpet\":[{\"aaxis\":{\"endlinecolor\":\"#2a3f5f\",\"gridcolor\":\"#C8D4E3\",\"linecolor\":\"#C8D4E3\",\"minorgridcolor\":\"#C8D4E3\",\"startlinecolor\":\"#2a3f5f\"},\"baxis\":{\"endlinecolor\":\"#2a3f5f\",\"gridcolor\":\"#C8D4E3\",\"linecolor\":\"#C8D4E3\",\"minorgridcolor\":\"#C8D4E3\",\"startlinecolor\":\"#2a3f5f\"},\"type\":\"carpet\"}],\"choropleth\":[{\"colorbar\":{\"outlinewidth\":0,\"ticks\":\"\"},\"type\":\"choropleth\"}],\"contourcarpet\":[{\"colorbar\":{\"outlinewidth\":0,\"ticks\":\"\"},\"type\":\"contourcarpet\"}],\"contour\":[{\"colorbar\":{\"outlinewidth\":0,\"ticks\":\"\"},\"colorscale\":[[0.0,\"#0d0887\"],[0.1111111111111111,\"#46039f\"],[0.2222222222222222,\"#7201a8\"],[0.3333333333333333,\"#9c179e\"],[0.4444444444444444,\"#bd3786\"],[0.5555555555555556,\"#d8576b\"],[0.6666666666666666,\"#ed7953\"],[0.7777777777777778,\"#fb9f3a\"],[0.8888888888888888,\"#fdca26\"],[1.0,\"#f0f921\"]],\"type\":\"contour\"}],\"heatmapgl\":[{\"colorbar\":{\"outlinewidth\":0,\"ticks\":\"\"},\"colorscale\":[[0.0,\"#0d0887\"],[0.1111111111111111,\"#46039f\"],[0.2222222222222222,\"#7201a8\"],[0.3333333333333333,\"#9c179e\"],[0.4444444444444444,\"#bd3786\"],[0.5555555555555556,\"#d8576b\"],[0.6666666666666666,\"#ed7953\"],[0.7777777777777778,\"#fb9f3a\"],[0.8888888888888888,\"#fdca26\"],[1.0,\"#f0f921\"]],\"type\":\"heatmapgl\"}],\"heatmap\":[{\"colorbar\":{\"outlinewidth\":0,\"ticks\":\"\"},\"colorscale\":[[0.0,\"#0d0887\"],[0.1111111111111111,\"#46039f\"],[0.2222222222222222,\"#7201a8\"],[0.3333333333333333,\"#9c179e\"],[0.4444444444444444,\"#bd3786\"],[0.5555555555555556,\"#d8576b\"],[0.6666666666666666,\"#ed7953\"],[0.7777777777777778,\"#fb9f3a\"],[0.8888888888888888,\"#fdca26\"],[1.0,\"#f0f921\"]],\"type\":\"heatmap\"}],\"histogram2dcontour\":[{\"colorbar\":{\"outlinewidth\":0,\"ticks\":\"\"},\"colorscale\":[[0.0,\"#0d0887\"],[0.1111111111111111,\"#46039f\"],[0.2222222222222222,\"#7201a8\"],[0.3333333333333333,\"#9c179e\"],[0.4444444444444444,\"#bd3786\"],[0.5555555555555556,\"#d8576b\"],[0.6666666666666666,\"#ed7953\"],[0.7777777777777778,\"#fb9f3a\"],[0.8888888888888888,\"#fdca26\"],[1.0,\"#f0f921\"]],\"type\":\"histogram2dcontour\"}],\"histogram2d\":[{\"colorbar\":{\"outlinewidth\":0,\"ticks\":\"\"},\"colorscale\":[[0.0,\"#0d0887\"],[0.1111111111111111,\"#46039f\"],[0.2222222222222222,\"#7201a8\"],[0.3333333333333333,\"#9c179e\"],[0.4444444444444444,\"#bd3786\"],[0.5555555555555556,\"#d8576b\"],[0.6666666666666666,\"#ed7953\"],[0.7777777777777778,\"#fb9f3a\"],[0.8888888888888888,\"#fdca26\"],[1.0,\"#f0f921\"]],\"type\":\"histogram2d\"}],\"histogram\":[{\"marker\":{\"pattern\":{\"fillmode\":\"overlay\",\"size\":10,\"solidity\":0.2}},\"type\":\"histogram\"}],\"mesh3d\":[{\"colorbar\":{\"outlinewidth\":0,\"ticks\":\"\"},\"type\":\"mesh3d\"}],\"parcoords\":[{\"line\":{\"colorbar\":{\"outlinewidth\":0,\"ticks\":\"\"}},\"type\":\"parcoords\"}],\"pie\":[{\"automargin\":true,\"type\":\"pie\"}],\"scatter3d\":[{\"line\":{\"colorbar\":{\"outlinewidth\":0,\"ticks\":\"\"}},\"marker\":{\"colorbar\":{\"outlinewidth\":0,\"ticks\":\"\"}},\"type\":\"scatter3d\"}],\"scattercarpet\":[{\"marker\":{\"colorbar\":{\"outlinewidth\":0,\"ticks\":\"\"}},\"type\":\"scattercarpet\"}],\"scattergeo\":[{\"marker\":{\"colorbar\":{\"outlinewidth\":0,\"ticks\":\"\"}},\"type\":\"scattergeo\"}],\"scattergl\":[{\"marker\":{\"colorbar\":{\"outlinewidth\":0,\"ticks\":\"\"}},\"type\":\"scattergl\"}],\"scattermapbox\":[{\"marker\":{\"colorbar\":{\"outlinewidth\":0,\"ticks\":\"\"}},\"type\":\"scattermapbox\"}],\"scatterpolargl\":[{\"marker\":{\"colorbar\":{\"outlinewidth\":0,\"ticks\":\"\"}},\"type\":\"scatterpolargl\"}],\"scatterpolar\":[{\"marker\":{\"colorbar\":{\"outlinewidth\":0,\"ticks\":\"\"}},\"type\":\"scatterpolar\"}],\"scatter\":[{\"fillpattern\":{\"fillmode\":\"overlay\",\"size\":10,\"solidity\":0.2},\"type\":\"scatter\"}],\"scatterternary\":[{\"marker\":{\"colorbar\":{\"outlinewidth\":0,\"ticks\":\"\"}},\"type\":\"scatterternary\"}],\"surface\":[{\"colorbar\":{\"outlinewidth\":0,\"ticks\":\"\"},\"colorscale\":[[0.0,\"#0d0887\"],[0.1111111111111111,\"#46039f\"],[0.2222222222222222,\"#7201a8\"],[0.3333333333333333,\"#9c179e\"],[0.4444444444444444,\"#bd3786\"],[0.5555555555555556,\"#d8576b\"],[0.6666666666666666,\"#ed7953\"],[0.7777777777777778,\"#fb9f3a\"],[0.8888888888888888,\"#fdca26\"],[1.0,\"#f0f921\"]],\"type\":\"surface\"}],\"table\":[{\"cells\":{\"fill\":{\"color\":\"#EBF0F8\"},\"line\":{\"color\":\"white\"}},\"header\":{\"fill\":{\"color\":\"#C8D4E3\"},\"line\":{\"color\":\"white\"}},\"type\":\"table\"}]},\"layout\":{\"annotationdefaults\":{\"arrowcolor\":\"#2a3f5f\",\"arrowhead\":0,\"arrowwidth\":1},\"autotypenumbers\":\"strict\",\"coloraxis\":{\"colorbar\":{\"outlinewidth\":0,\"ticks\":\"\"}},\"colorscale\":{\"diverging\":[[0,\"#8e0152\"],[0.1,\"#c51b7d\"],[0.2,\"#de77ae\"],[0.3,\"#f1b6da\"],[0.4,\"#fde0ef\"],[0.5,\"#f7f7f7\"],[0.6,\"#e6f5d0\"],[0.7,\"#b8e186\"],[0.8,\"#7fbc41\"],[0.9,\"#4d9221\"],[1,\"#276419\"]],\"sequential\":[[0.0,\"#0d0887\"],[0.1111111111111111,\"#46039f\"],[0.2222222222222222,\"#7201a8\"],[0.3333333333333333,\"#9c179e\"],[0.4444444444444444,\"#bd3786\"],[0.5555555555555556,\"#d8576b\"],[0.6666666666666666,\"#ed7953\"],[0.7777777777777778,\"#fb9f3a\"],[0.8888888888888888,\"#fdca26\"],[1.0,\"#f0f921\"]],\"sequentialminus\":[[0.0,\"#0d0887\"],[0.1111111111111111,\"#46039f\"],[0.2222222222222222,\"#7201a8\"],[0.3333333333333333,\"#9c179e\"],[0.4444444444444444,\"#bd3786\"],[0.5555555555555556,\"#d8576b\"],[0.6666666666666666,\"#ed7953\"],[0.7777777777777778,\"#fb9f3a\"],[0.8888888888888888,\"#fdca26\"],[1.0,\"#f0f921\"]]},\"colorway\":[\"#636efa\",\"#EF553B\",\"#00cc96\",\"#ab63fa\",\"#FFA15A\",\"#19d3f3\",\"#FF6692\",\"#B6E880\",\"#FF97FF\",\"#FECB52\"],\"font\":{\"color\":\"#2a3f5f\"},\"geo\":{\"bgcolor\":\"white\",\"lakecolor\":\"white\",\"landcolor\":\"white\",\"showlakes\":true,\"showland\":true,\"subunitcolor\":\"#C8D4E3\"},\"hoverlabel\":{\"align\":\"left\"},\"hovermode\":\"closest\",\"mapbox\":{\"style\":\"light\"},\"paper_bgcolor\":\"white\",\"plot_bgcolor\":\"white\",\"polar\":{\"angularaxis\":{\"gridcolor\":\"#EBF0F8\",\"linecolor\":\"#EBF0F8\",\"ticks\":\"\"},\"bgcolor\":\"white\",\"radialaxis\":{\"gridcolor\":\"#EBF0F8\",\"linecolor\":\"#EBF0F8\",\"ticks\":\"\"}},\"scene\":{\"xaxis\":{\"backgroundcolor\":\"white\",\"gridcolor\":\"#DFE8F3\",\"gridwidth\":2,\"linecolor\":\"#EBF0F8\",\"showbackground\":true,\"ticks\":\"\",\"zerolinecolor\":\"#EBF0F8\"},\"yaxis\":{\"backgroundcolor\":\"white\",\"gridcolor\":\"#DFE8F3\",\"gridwidth\":2,\"linecolor\":\"#EBF0F8\",\"showbackground\":true,\"ticks\":\"\",\"zerolinecolor\":\"#EBF0F8\"},\"zaxis\":{\"backgroundcolor\":\"white\",\"gridcolor\":\"#DFE8F3\",\"gridwidth\":2,\"linecolor\":\"#EBF0F8\",\"showbackground\":true,\"ticks\":\"\",\"zerolinecolor\":\"#EBF0F8\"}},\"shapedefaults\":{\"line\":{\"color\":\"#2a3f5f\"}},\"ternary\":{\"aaxis\":{\"gridcolor\":\"#DFE8F3\",\"linecolor\":\"#A2B1C6\",\"ticks\":\"\"},\"baxis\":{\"gridcolor\":\"#DFE8F3\",\"linecolor\":\"#A2B1C6\",\"ticks\":\"\"},\"bgcolor\":\"white\",\"caxis\":{\"gridcolor\":\"#DFE8F3\",\"linecolor\":\"#A2B1C6\",\"ticks\":\"\"}},\"title\":{\"x\":0.05},\"xaxis\":{\"automargin\":true,\"gridcolor\":\"#EBF0F8\",\"linecolor\":\"#EBF0F8\",\"ticks\":\"\",\"title\":{\"standoff\":15},\"zerolinecolor\":\"#EBF0F8\",\"zerolinewidth\":2},\"yaxis\":{\"automargin\":true,\"gridcolor\":\"#EBF0F8\",\"linecolor\":\"#EBF0F8\",\"ticks\":\"\",\"title\":{\"standoff\":15},\"zerolinecolor\":\"#EBF0F8\",\"zerolinewidth\":2}}},\"xaxis\":{\"anchor\":\"y\",\"domain\":[0.0,1.0],\"title\":{\"text\":\"x\"}},\"yaxis\":{\"anchor\":\"x\",\"domain\":[0.0,1.0],\"title\":{\"text\":\"y\"}},\"legend\":{\"title\":{\"text\":\"color\"},\"tracegroupgap\":0},\"margin\":{\"t\":60},\"height\":600,\"width\":800},                        {\"responsive\": true}                    ).then(function(){\n",
       "                            \n",
       "var gd = document.getElementById('2be7205b-4b27-44c7-8c7b-25ac75589ee6');\n",
       "var x = new MutationObserver(function (mutations, observer) {{\n",
       "        var display = window.getComputedStyle(gd).display;\n",
       "        if (!display || display === 'none') {{\n",
       "            console.log([gd, 'removed!']);\n",
       "            Plotly.purge(gd);\n",
       "            observer.disconnect();\n",
       "        }}\n",
       "}});\n",
       "\n",
       "// Listen for the removal of the full notebook cells\n",
       "var notebookContainer = gd.closest('#notebook-container');\n",
       "if (notebookContainer) {{\n",
       "    x.observe(notebookContainer, {childList: true});\n",
       "}}\n",
       "\n",
       "// Listen for the clearing of the current output cell\n",
       "var outputEl = gd.closest('.output');\n",
       "if (outputEl) {{\n",
       "    x.observe(outputEl, {childList: true});\n",
       "}}\n",
       "\n",
       "                        })                };                });            </script>        </div>"
      ]
     },
     "metadata": {},
     "output_type": "display_data"
    }
   ],
   "source": [
    "pureComponentIndices = nimplex.pure_component_indexes_py(3, slen)\n",
    "labels = ['']*len(gridAtt_projected_df)\n",
    "for comp, idx in zip(comp1, pureComponentIndices):\n",
    "    labels[idx] = \"<b>\"+comp+\"</b>\"\n",
    "fig = px.scatter(gridAtt_projected_df, x='x', y='y', color=gridFeasibleMarked4, text=labels, \n",
    "                 hover_name=[f\"{i+dimsize}\" for i in range(len(gridAtt_projected_df))],\n",
    "              template='plotly_white', width=800, height=600, color_discrete_map=color_map) \n",
    "              #labels={'color':'Solid Solution Phases', 'x':'', 'y':''})\n",
    "fig.show()"
   ]
  },
  {
   "cell_type": "code",
   "execution_count": 108,
   "metadata": {},
   "outputs": [
    {
     "data": {
      "application/vnd.plotly.v1+json": {
       "config": {
        "plotlyServerURL": "https://plot.ly"
       },
       "data": [
        {
         "hovertemplate": "<b>%{hovertext}</b><br><br>color=True<br>x=%{x}<br>y=%{y}<br>text=%{text}<extra></extra>",
         "hovertext": [
          "650",
          "651",
          "652",
          "653",
          "654",
          "655",
          "656",
          "657",
          "658",
          "659",
          "660",
          "661",
          "675",
          "676",
          "677",
          "678",
          "679",
          "680",
          "681",
          "682",
          "683",
          "684",
          "685",
          "687",
          "688",
          "689",
          "690",
          "691",
          "692",
          "693",
          "694",
          "695",
          "696",
          "697",
          "698",
          "699",
          "700",
          "701",
          "702",
          "703",
          "704",
          "705",
          "706",
          "707",
          "708",
          "710",
          "711",
          "712",
          "713",
          "714",
          "715",
          "716",
          "717",
          "718",
          "719",
          "720",
          "721",
          "722",
          "723",
          "724",
          "725",
          "726",
          "727",
          "728",
          "729",
          "730",
          "732",
          "733",
          "734",
          "735",
          "736",
          "737",
          "738",
          "739",
          "740",
          "741",
          "742",
          "743",
          "744",
          "745",
          "746",
          "747",
          "748",
          "749",
          "750",
          "751",
          "753",
          "754",
          "755",
          "756",
          "757",
          "758",
          "759",
          "760",
          "761",
          "765",
          "766",
          "767",
          "768",
          "769",
          "770",
          "771",
          "773",
          "774",
          "775",
          "776",
          "777",
          "785",
          "786",
          "787",
          "788",
          "789",
          "790",
          "792",
          "793",
          "794",
          "804",
          "805",
          "806",
          "807",
          "808",
          "810",
          "811",
          "822",
          "823",
          "824",
          "825",
          "827",
          "839",
          "840",
          "841",
          "855",
          "856",
          "870",
          "885",
          "897",
          "898",
          "909",
          "920",
          "930",
          "939",
          "947",
          "954",
          "960",
          "965",
          "969",
          "972",
          "974"
         ],
         "legendgroup": "True",
         "marker": {
          "color": "#FECB52",
          "symbol": "circle"
         },
         "mode": "markers+text",
         "name": "True",
         "orientation": "v",
         "showlegend": true,
         "text": [
          "<b>V</b>",
          "",
          "",
          "",
          "",
          "",
          "",
          "",
          "",
          "",
          "",
          "",
          "",
          "",
          "",
          "",
          "",
          "",
          "",
          "",
          "",
          "",
          "",
          "",
          "",
          "",
          "",
          "",
          "",
          "",
          "",
          "",
          "",
          "",
          "",
          "",
          "",
          "",
          "",
          "",
          "",
          "",
          "",
          "",
          "",
          "",
          "",
          "",
          "",
          "",
          "",
          "",
          "",
          "",
          "",
          "",
          "",
          "",
          "",
          "",
          "",
          "",
          "",
          "",
          "",
          "",
          "",
          "",
          "",
          "",
          "",
          "",
          "",
          "",
          "",
          "",
          "",
          "",
          "",
          "",
          "",
          "",
          "",
          "",
          "",
          "",
          "",
          "",
          "",
          "",
          "",
          "",
          "",
          "",
          "",
          "",
          "",
          "",
          "",
          "",
          "",
          "",
          "",
          "",
          "",
          "",
          "",
          "",
          "",
          "",
          "",
          "",
          "",
          "",
          "",
          "",
          "",
          "",
          "",
          "",
          "",
          "",
          "",
          "",
          "",
          "",
          "",
          "",
          "",
          "",
          "",
          "",
          "",
          "",
          "",
          "",
          "",
          "",
          "",
          "",
          "",
          "",
          "",
          "",
          "",
          "",
          "",
          "<b>Cr</b>"
         ],
         "type": "scatter",
         "x": [
          -0.866025,
          -0.79385625,
          -0.7216875,
          -0.64951875,
          -0.57735,
          -0.50518125,
          -0.4330125,
          -0.3608437500000001,
          -0.28867499999999996,
          -0.21650625,
          -0.14433750000000004,
          -0.07216874999999998,
          -0.8299406250000001,
          -0.757771875,
          -0.6856031250000001,
          -0.6134343750000001,
          -0.541265625,
          -0.469096875,
          -0.3969281250000001,
          -0.32475937499999996,
          -0.252590625,
          -0.18042187500000004,
          -0.10825312499999998,
          0.036084375000000016,
          0.10825312499999994,
          0.180421875,
          0.25259062500000007,
          0.324759375,
          0.3969281250000001,
          0.469096875,
          0.541265625,
          0.613434375,
          0.685603125,
          0.7577718750000001,
          0.8299406250000001,
          -0.79385625,
          -0.7216875,
          -0.64951875,
          -0.57735,
          -0.50518125,
          -0.4330125000000001,
          -0.36084374999999996,
          -0.288675,
          -0.21650625000000004,
          -0.14433749999999998,
          1.6024681581683354e-17,
          0.07216874999999999,
          0.14433749999999995,
          0.21650625000000004,
          0.28867500000000007,
          0.36084375,
          0.4330125000000001,
          0.50518125,
          0.57735,
          0.64951875,
          0.7216875,
          0.79385625,
          -0.757771875,
          -0.6856031250000001,
          -0.613434375,
          -0.5412656250000001,
          -0.4690968750000001,
          -0.39692812499999997,
          -0.324759375,
          -0.25259062500000007,
          -0.18042187499999998,
          -0.03608437499999999,
          0.03608437499999999,
          0.108253125,
          0.18042187499999998,
          0.252590625,
          0.3247593750000001,
          0.396928125,
          0.4690968750000001,
          0.5412656250000001,
          0.613434375,
          0.6856031250000001,
          0.757771875,
          -0.7216875,
          -0.64951875,
          -0.57735,
          -0.50518125,
          -0.43301249999999997,
          -0.36084375,
          -0.28867500000000007,
          -0.21650624999999998,
          -0.07216874999999999,
          -1.6024681581683354e-17,
          0.07216875,
          0.14433750000000004,
          0.21650624999999993,
          0.288675,
          0.3608437500000001,
          0.4330125,
          0.5051812500000001,
          -0.685603125,
          -0.613434375,
          -0.5412656250000001,
          -0.46909687499999997,
          -0.396928125,
          -0.3247593750000001,
          -0.25259062499999996,
          -0.10825312499999999,
          -0.036084375000000016,
          0.036084375,
          0.10825312500000002,
          0.18042187499999998,
          -0.64951875,
          -0.57735,
          -0.50518125,
          -0.4330125,
          -0.3608437500000001,
          -0.28867499999999996,
          -0.14433749999999998,
          -0.07216875000000002,
          0,
          -0.6134343750000001,
          -0.541265625,
          -0.469096875,
          -0.3969281250000001,
          -0.32475937499999996,
          -0.18042187499999998,
          -0.10825312500000002,
          -0.57735,
          -0.50518125,
          -0.4330125000000001,
          -0.36084374999999996,
          -0.21650624999999998,
          -0.5412656250000001,
          -0.4690968750000001,
          -0.39692812499999997,
          -0.50518125,
          -0.43301249999999997,
          -0.46909687499999997,
          -0.36084375,
          -0.396928125,
          -0.324759375,
          -0.36084375,
          -0.324759375,
          -0.288675,
          -0.252590625,
          -0.21650625,
          -0.180421875,
          -0.1443375,
          -0.108253125,
          -0.07216875,
          -0.036084375,
          0
         ],
         "xaxis": "x",
         "y": [
          -0.5,
          -0.5,
          -0.5,
          -0.5,
          -0.5,
          -0.5,
          -0.5,
          -0.5,
          -0.5,
          -0.5,
          -0.5,
          -0.5,
          -0.4375,
          -0.4375,
          -0.4375,
          -0.4375,
          -0.4375,
          -0.4375,
          -0.4375,
          -0.4375,
          -0.4375,
          -0.4375,
          -0.4375,
          -0.4375,
          -0.4375,
          -0.4375,
          -0.4375,
          -0.4375,
          -0.4375,
          -0.4375,
          -0.43749999999999994,
          -0.4375,
          -0.4375,
          -0.43749999999999994,
          -0.4375,
          -0.375,
          -0.375,
          -0.375,
          -0.375,
          -0.375,
          -0.375,
          -0.375,
          -0.375,
          -0.375,
          -0.375,
          -0.375,
          -0.375,
          -0.375,
          -0.375,
          -0.375,
          -0.375,
          -0.37500000000000006,
          -0.375,
          -0.375,
          -0.37500000000000006,
          -0.375,
          -0.375,
          -0.3125,
          -0.3125,
          -0.3125,
          -0.3125,
          -0.3125,
          -0.3125,
          -0.3125,
          -0.3125,
          -0.3125,
          -0.3125,
          -0.3125,
          -0.3125,
          -0.3125,
          -0.3125,
          -0.3125,
          -0.3125,
          -0.3125,
          -0.3125,
          -0.3125,
          -0.3125,
          -0.3125,
          -0.25,
          -0.25,
          -0.25,
          -0.25,
          -0.25,
          -0.25,
          -0.25,
          -0.25,
          -0.25,
          -0.25,
          -0.25,
          -0.25,
          -0.25,
          -0.25,
          -0.25,
          -0.25,
          -0.25,
          -0.18749999999999997,
          -0.1875,
          -0.1875,
          -0.18749999999999997,
          -0.1875,
          -0.1875,
          -0.18749999999999997,
          -0.18749999999999997,
          -0.1875,
          -0.1875,
          -0.18749999999999997,
          -0.1875,
          -0.125,
          -0.12500000000000003,
          -0.12499999999999997,
          -0.125,
          -0.125,
          -0.125,
          -0.125,
          -0.125,
          -0.125,
          -0.0625,
          -0.062499999999999944,
          -0.0625,
          -0.0625,
          -0.062499999999999944,
          -0.06249999999999997,
          -0.0625,
          0,
          0,
          -5.551115123125783e-17,
          0,
          -2.7755575615628914e-17,
          0.0625,
          0.0625,
          0.0625,
          0.125,
          0.12500000000000006,
          0.1875,
          0.25,
          0.3125,
          0.3124999999999999,
          0.375,
          0.4375,
          0.5,
          0.5625,
          0.625,
          0.6875,
          0.75,
          0.8125,
          0.875,
          0.9375,
          1
         ],
         "yaxis": "y"
        },
        {
         "hovertemplate": "<b>%{hovertext}</b><br><br>color=path<br>x=%{x}<br>y=%{y}<br>text=%{text}<extra></extra>",
         "hovertext": [
          "662",
          "663",
          "664",
          "665",
          "666",
          "667",
          "668",
          "669",
          "670",
          "671",
          "672",
          "673",
          "674",
          "686",
          "709",
          "731",
          "752",
          "772",
          "791",
          "809",
          "826",
          "842",
          "857",
          "871",
          "884"
         ],
         "legendgroup": "path",
         "marker": {
          "color": "red",
          "symbol": "circle"
         },
         "mode": "markers+text",
         "name": "path",
         "orientation": "v",
         "showlegend": true,
         "text": [
          "",
          "",
          "",
          "",
          "",
          "",
          "",
          "",
          "",
          "",
          "",
          "",
          "<b>Ti</b>",
          "",
          "",
          "",
          "",
          "",
          "",
          "",
          "",
          "",
          "",
          "",
          ""
         ],
         "type": "scatter",
         "x": [
          0,
          0.07216874999999996,
          0.14433749999999998,
          0.21650625000000007,
          0.288675,
          0.3608437500000001,
          0.4330125,
          0.5051812499999999,
          0.57735,
          0.6495187499999999,
          0.7216875,
          0.7938562500000002,
          0.866025,
          -0.036084375,
          -0.07216875,
          -0.108253125,
          -0.1443375,
          -0.180421875,
          -0.21650625,
          -0.252590625,
          -0.288675,
          -0.324759375,
          -0.36084375,
          -0.396928125,
          -0.4330125
         ],
         "xaxis": "x",
         "y": [
          -0.5,
          -0.5,
          -0.5,
          -0.5,
          -0.5,
          -0.5,
          -0.5,
          -0.5,
          -0.5,
          -0.5,
          -0.5,
          -0.5,
          -0.5,
          -0.4375,
          -0.375,
          -0.3125,
          -0.25,
          -0.1875,
          -0.125,
          -0.0625,
          0,
          0.0625,
          0.125,
          0.1875,
          0.25
         ],
         "yaxis": "y"
        },
        {
         "hovertemplate": "<b>%{hovertext}</b><br><br>color=False<br>x=%{x}<br>y=%{y}<br>text=%{text}<extra></extra>",
         "hovertext": [
          "762",
          "763",
          "764",
          "778",
          "779",
          "780",
          "781",
          "782",
          "783",
          "784",
          "795",
          "796",
          "797",
          "798",
          "799",
          "800",
          "801",
          "802",
          "803",
          "812",
          "813",
          "814",
          "815",
          "816",
          "817",
          "818",
          "819",
          "820",
          "821",
          "828",
          "829",
          "830",
          "831",
          "832",
          "833",
          "834",
          "835",
          "836",
          "837",
          "838",
          "843",
          "844",
          "845",
          "846",
          "847",
          "848",
          "849",
          "850",
          "851",
          "852",
          "853",
          "854",
          "858",
          "859",
          "860",
          "861",
          "862",
          "863",
          "864",
          "865",
          "866",
          "867",
          "868",
          "869",
          "872",
          "873",
          "874",
          "875",
          "876",
          "877",
          "878",
          "879",
          "880",
          "881",
          "882",
          "883",
          "886",
          "887",
          "888",
          "889",
          "890",
          "891",
          "892",
          "893",
          "894",
          "895",
          "896",
          "899",
          "900",
          "901",
          "902",
          "903",
          "904",
          "905",
          "906",
          "907",
          "908",
          "910",
          "911",
          "912",
          "913",
          "914",
          "915",
          "916",
          "917",
          "918",
          "919",
          "921",
          "922",
          "923",
          "924",
          "925",
          "926",
          "927",
          "928",
          "929",
          "931",
          "932",
          "933",
          "934",
          "935",
          "936",
          "937",
          "938",
          "940",
          "941",
          "942",
          "943",
          "944",
          "945",
          "946",
          "948",
          "949",
          "950",
          "951",
          "952",
          "953",
          "955",
          "956",
          "957",
          "958",
          "959",
          "961",
          "962",
          "963",
          "964",
          "966",
          "967",
          "968",
          "970",
          "971",
          "973"
         ],
         "legendgroup": "False",
         "marker": {
          "color": "blue",
          "symbol": "circle"
         },
         "mode": "markers+text",
         "name": "False",
         "orientation": "v",
         "showlegend": true,
         "text": [
          "",
          "",
          "",
          "",
          "",
          "",
          "",
          "",
          "",
          "",
          "",
          "",
          "",
          "",
          "",
          "",
          "",
          "",
          "",
          "",
          "",
          "",
          "",
          "",
          "",
          "",
          "",
          "",
          "",
          "",
          "",
          "",
          "",
          "",
          "",
          "",
          "",
          "",
          "",
          "",
          "",
          "",
          "",
          "",
          "",
          "",
          "",
          "",
          "",
          "",
          "",
          "",
          "",
          "",
          "",
          "",
          "",
          "",
          "",
          "",
          "",
          "",
          "",
          "",
          "",
          "",
          "",
          "",
          "",
          "",
          "",
          "",
          "",
          "",
          "",
          "",
          "",
          "",
          "",
          "",
          "",
          "",
          "",
          "",
          "",
          "",
          "",
          "",
          "",
          "",
          "",
          "",
          "",
          "",
          "",
          "",
          "",
          "",
          "",
          "",
          "",
          "",
          "",
          "",
          "",
          "",
          "",
          "",
          "",
          "",
          "",
          "",
          "",
          "",
          "",
          "",
          "",
          "",
          "",
          "",
          "",
          "",
          "",
          "",
          "",
          "",
          "",
          "",
          "",
          "",
          "",
          "",
          "",
          "",
          "",
          "",
          "",
          "",
          "",
          "",
          "",
          "",
          "",
          "",
          "",
          "",
          "",
          "",
          "",
          "",
          "",
          ""
         ],
         "type": "scatter",
         "x": [
          0.57735,
          0.64951875,
          0.7216875,
          0.25259062499999996,
          0.324759375,
          0.3969281250000001,
          0.469096875,
          0.5412656250000001,
          0.6134343750000001,
          0.685603125,
          0.07216875000000002,
          0.14433749999999998,
          0.21650625,
          0.28867499999999996,
          0.36084375,
          0.4330125000000001,
          0.50518125,
          0.5773500000000001,
          0.64951875,
          -0.036084375,
          0.036084375000000016,
          0.10825312499999999,
          0.180421875,
          0.252590625,
          0.32475937499999996,
          0.396928125,
          0.4690968750000001,
          0.5412656250000001,
          0.6134343750000001,
          -0.14433750000000004,
          -0.07216875,
          1.6024681581683354e-17,
          0.07216874999999999,
          0.1443375,
          0.21650625,
          0.288675,
          0.36084374999999996,
          0.4330125,
          0.5051812500000001,
          0.57735,
          -0.252590625,
          -0.18042187500000004,
          -0.108253125,
          -0.03608437499999999,
          0.03608437499999999,
          0.108253125,
          0.180421875,
          0.252590625,
          0.324759375,
          0.39692812499999997,
          0.469096875,
          0.5412656250000001,
          -0.288675,
          -0.21650625000000004,
          -0.1443375,
          -0.07216874999999999,
          -1.6024681581683354e-17,
          0.07216875,
          0.1443375,
          0.21650625,
          0.288675,
          0.36084375,
          0.43301249999999997,
          0.50518125,
          -0.324759375,
          -0.252590625,
          -0.180421875,
          -0.10825312499999999,
          -0.036084375000000016,
          0.036084375,
          0.10825312499999999,
          0.180421875,
          0.252590625,
          0.324759375,
          0.396928125,
          0.46909687499999997,
          -0.288675,
          -0.21650625,
          -0.14433749999999998,
          -0.07216875000000002,
          0,
          0.07216874999999999,
          0.1443375,
          0.21650625,
          0.288675,
          0.36084375,
          0.4330125,
          -0.252590625,
          -0.18042187499999998,
          -0.10825312500000002,
          -0.036084375,
          0.036084374999999995,
          0.10825312500000002,
          0.180421875,
          0.252590625,
          0.324759375,
          0.396928125,
          -0.288675,
          -0.21650624999999998,
          -0.14433750000000004,
          -0.07216875,
          -8.012340790841677e-18,
          0.07216875000000002,
          0.1443375,
          0.21650625,
          0.288675,
          0.36084375,
          -0.252590625,
          -0.18042187500000004,
          -0.108253125,
          -0.03608437500000001,
          0.03608437500000001,
          0.108253125,
          0.180421875,
          0.252590625,
          0.324759375,
          -0.21650625000000004,
          -0.1443375,
          -0.07216875000000002,
          8.012340790841677e-18,
          0.07216875,
          0.1443375,
          0.21650625,
          0.288675,
          -0.180421875,
          -0.10825312500000002,
          -0.036084374999999995,
          0.036084375,
          0.108253125,
          0.180421875,
          0.252590625,
          -0.1443375,
          -0.07216874999999999,
          0,
          0.07216875,
          0.1443375,
          0.21650625,
          -0.10825312499999999,
          -0.036084375,
          0.03608437500000001,
          0.108253125,
          0.180421875,
          -0.07216875,
          4.0061703954208385e-18,
          0.07216875,
          0.1443375,
          -0.036084374999999995,
          0.036084375,
          0.108253125,
          2.0030851977104193e-18,
          0.07216875,
          0.036084375
         ],
         "xaxis": "x",
         "y": [
          -0.25,
          -0.25,
          -0.25,
          -0.18749999999999997,
          -0.1875,
          -0.1875,
          -0.18749999999999997,
          -0.1875,
          -0.1875,
          -0.18749999999999997,
          -0.125,
          -0.125,
          -0.125,
          -0.12499999999999999,
          -0.125,
          -0.125,
          -0.12499999999999997,
          -0.12500000000000003,
          -0.125,
          -0.06249999999999997,
          -0.06249999999999997,
          -0.0625,
          -0.06249999999999997,
          -0.062499999999999986,
          -0.06249999999999996,
          -0.0625,
          -0.06249999999999998,
          -0.06249999999999996,
          -0.0625,
          -2.7755575615628914e-17,
          -2.7755575615628914e-17,
          0,
          -2.7755575615628914e-17,
          -2.7755575615628914e-17,
          -1.3877787807814457e-17,
          -1.3877787807814457e-17,
          0,
          -3.469446951953614e-17,
          -1.734723475976807e-17,
          0,
          0.06250000000000003,
          0.06249999999999997,
          0.0625,
          0.0625,
          0.0625,
          0.0625,
          0.062499999999999986,
          0.06250000000000001,
          0.0625,
          0.06250000000000003,
          0.062499999999999986,
          0.0625,
          0.12500000000000003,
          0.12500000000000003,
          0.125,
          0.12500000000000003,
          0.12500000000000003,
          0.125,
          0.125,
          0.125,
          0.12500000000000003,
          0.12500000000000003,
          0.12500000000000003,
          0.125,
          0.18749999999999997,
          0.18749999999999997,
          0.1875,
          0.18749999999999997,
          0.18749999999999997,
          0.1875,
          0.18749999999999994,
          0.1875,
          0.18749999999999997,
          0.1875,
          0.18749999999999997,
          0.1875,
          0.24999999999999997,
          0.25,
          0.25,
          0.24999999999999997,
          0.25,
          0.24999999999999994,
          0.25000000000000006,
          0.25,
          0.24999999999999997,
          0.25000000000000006,
          0.25,
          0.31249999999999994,
          0.3125,
          0.3125,
          0.31249999999999994,
          0.31249999999999994,
          0.31249999999999994,
          0.3125,
          0.31249999999999994,
          0.31249999999999994,
          0.3125,
          0.375,
          0.3750000000000001,
          0.375,
          0.375,
          0.375,
          0.37500000000000006,
          0.375,
          0.37500000000000006,
          0.37500000000000006,
          0.375,
          0.4375,
          0.4375,
          0.4375,
          0.43749999999999994,
          0.43750000000000006,
          0.4375,
          0.43749999999999994,
          0.43750000000000006,
          0.4375,
          0.4999999999999999,
          0.5,
          0.49999999999999994,
          0.49999999999999994,
          0.5,
          0.49999999999999994,
          0.49999999999999994,
          0.5,
          0.5625,
          0.5625000000000001,
          0.5625,
          0.5625,
          0.5625000000000001,
          0.5625,
          0.5625,
          0.625,
          0.625,
          0.625,
          0.625,
          0.625,
          0.625,
          0.6874999999999999,
          0.6875,
          0.6875,
          0.6874999999999999,
          0.6875,
          0.75,
          0.7500000000000001,
          0.75,
          0.75,
          0.8125,
          0.8125,
          0.8125,
          0.8749999999999999,
          0.875,
          0.9375
         ],
         "yaxis": "y"
        }
       ],
       "layout": {
        "height": 600,
        "legend": {
         "title": {
          "text": "color"
         },
         "tracegroupgap": 0
        },
        "margin": {
         "t": 60
        },
        "template": {
         "data": {
          "bar": [
           {
            "error_x": {
             "color": "#2a3f5f"
            },
            "error_y": {
             "color": "#2a3f5f"
            },
            "marker": {
             "line": {
              "color": "white",
              "width": 0.5
             },
             "pattern": {
              "fillmode": "overlay",
              "size": 10,
              "solidity": 0.2
             }
            },
            "type": "bar"
           }
          ],
          "barpolar": [
           {
            "marker": {
             "line": {
              "color": "white",
              "width": 0.5
             },
             "pattern": {
              "fillmode": "overlay",
              "size": 10,
              "solidity": 0.2
             }
            },
            "type": "barpolar"
           }
          ],
          "carpet": [
           {
            "aaxis": {
             "endlinecolor": "#2a3f5f",
             "gridcolor": "#C8D4E3",
             "linecolor": "#C8D4E3",
             "minorgridcolor": "#C8D4E3",
             "startlinecolor": "#2a3f5f"
            },
            "baxis": {
             "endlinecolor": "#2a3f5f",
             "gridcolor": "#C8D4E3",
             "linecolor": "#C8D4E3",
             "minorgridcolor": "#C8D4E3",
             "startlinecolor": "#2a3f5f"
            },
            "type": "carpet"
           }
          ],
          "choropleth": [
           {
            "colorbar": {
             "outlinewidth": 0,
             "ticks": ""
            },
            "type": "choropleth"
           }
          ],
          "contour": [
           {
            "colorbar": {
             "outlinewidth": 0,
             "ticks": ""
            },
            "colorscale": [
             [
              0,
              "#0d0887"
             ],
             [
              0.1111111111111111,
              "#46039f"
             ],
             [
              0.2222222222222222,
              "#7201a8"
             ],
             [
              0.3333333333333333,
              "#9c179e"
             ],
             [
              0.4444444444444444,
              "#bd3786"
             ],
             [
              0.5555555555555556,
              "#d8576b"
             ],
             [
              0.6666666666666666,
              "#ed7953"
             ],
             [
              0.7777777777777778,
              "#fb9f3a"
             ],
             [
              0.8888888888888888,
              "#fdca26"
             ],
             [
              1,
              "#f0f921"
             ]
            ],
            "type": "contour"
           }
          ],
          "contourcarpet": [
           {
            "colorbar": {
             "outlinewidth": 0,
             "ticks": ""
            },
            "type": "contourcarpet"
           }
          ],
          "heatmap": [
           {
            "colorbar": {
             "outlinewidth": 0,
             "ticks": ""
            },
            "colorscale": [
             [
              0,
              "#0d0887"
             ],
             [
              0.1111111111111111,
              "#46039f"
             ],
             [
              0.2222222222222222,
              "#7201a8"
             ],
             [
              0.3333333333333333,
              "#9c179e"
             ],
             [
              0.4444444444444444,
              "#bd3786"
             ],
             [
              0.5555555555555556,
              "#d8576b"
             ],
             [
              0.6666666666666666,
              "#ed7953"
             ],
             [
              0.7777777777777778,
              "#fb9f3a"
             ],
             [
              0.8888888888888888,
              "#fdca26"
             ],
             [
              1,
              "#f0f921"
             ]
            ],
            "type": "heatmap"
           }
          ],
          "heatmapgl": [
           {
            "colorbar": {
             "outlinewidth": 0,
             "ticks": ""
            },
            "colorscale": [
             [
              0,
              "#0d0887"
             ],
             [
              0.1111111111111111,
              "#46039f"
             ],
             [
              0.2222222222222222,
              "#7201a8"
             ],
             [
              0.3333333333333333,
              "#9c179e"
             ],
             [
              0.4444444444444444,
              "#bd3786"
             ],
             [
              0.5555555555555556,
              "#d8576b"
             ],
             [
              0.6666666666666666,
              "#ed7953"
             ],
             [
              0.7777777777777778,
              "#fb9f3a"
             ],
             [
              0.8888888888888888,
              "#fdca26"
             ],
             [
              1,
              "#f0f921"
             ]
            ],
            "type": "heatmapgl"
           }
          ],
          "histogram": [
           {
            "marker": {
             "pattern": {
              "fillmode": "overlay",
              "size": 10,
              "solidity": 0.2
             }
            },
            "type": "histogram"
           }
          ],
          "histogram2d": [
           {
            "colorbar": {
             "outlinewidth": 0,
             "ticks": ""
            },
            "colorscale": [
             [
              0,
              "#0d0887"
             ],
             [
              0.1111111111111111,
              "#46039f"
             ],
             [
              0.2222222222222222,
              "#7201a8"
             ],
             [
              0.3333333333333333,
              "#9c179e"
             ],
             [
              0.4444444444444444,
              "#bd3786"
             ],
             [
              0.5555555555555556,
              "#d8576b"
             ],
             [
              0.6666666666666666,
              "#ed7953"
             ],
             [
              0.7777777777777778,
              "#fb9f3a"
             ],
             [
              0.8888888888888888,
              "#fdca26"
             ],
             [
              1,
              "#f0f921"
             ]
            ],
            "type": "histogram2d"
           }
          ],
          "histogram2dcontour": [
           {
            "colorbar": {
             "outlinewidth": 0,
             "ticks": ""
            },
            "colorscale": [
             [
              0,
              "#0d0887"
             ],
             [
              0.1111111111111111,
              "#46039f"
             ],
             [
              0.2222222222222222,
              "#7201a8"
             ],
             [
              0.3333333333333333,
              "#9c179e"
             ],
             [
              0.4444444444444444,
              "#bd3786"
             ],
             [
              0.5555555555555556,
              "#d8576b"
             ],
             [
              0.6666666666666666,
              "#ed7953"
             ],
             [
              0.7777777777777778,
              "#fb9f3a"
             ],
             [
              0.8888888888888888,
              "#fdca26"
             ],
             [
              1,
              "#f0f921"
             ]
            ],
            "type": "histogram2dcontour"
           }
          ],
          "mesh3d": [
           {
            "colorbar": {
             "outlinewidth": 0,
             "ticks": ""
            },
            "type": "mesh3d"
           }
          ],
          "parcoords": [
           {
            "line": {
             "colorbar": {
              "outlinewidth": 0,
              "ticks": ""
             }
            },
            "type": "parcoords"
           }
          ],
          "pie": [
           {
            "automargin": true,
            "type": "pie"
           }
          ],
          "scatter": [
           {
            "fillpattern": {
             "fillmode": "overlay",
             "size": 10,
             "solidity": 0.2
            },
            "type": "scatter"
           }
          ],
          "scatter3d": [
           {
            "line": {
             "colorbar": {
              "outlinewidth": 0,
              "ticks": ""
             }
            },
            "marker": {
             "colorbar": {
              "outlinewidth": 0,
              "ticks": ""
             }
            },
            "type": "scatter3d"
           }
          ],
          "scattercarpet": [
           {
            "marker": {
             "colorbar": {
              "outlinewidth": 0,
              "ticks": ""
             }
            },
            "type": "scattercarpet"
           }
          ],
          "scattergeo": [
           {
            "marker": {
             "colorbar": {
              "outlinewidth": 0,
              "ticks": ""
             }
            },
            "type": "scattergeo"
           }
          ],
          "scattergl": [
           {
            "marker": {
             "colorbar": {
              "outlinewidth": 0,
              "ticks": ""
             }
            },
            "type": "scattergl"
           }
          ],
          "scattermapbox": [
           {
            "marker": {
             "colorbar": {
              "outlinewidth": 0,
              "ticks": ""
             }
            },
            "type": "scattermapbox"
           }
          ],
          "scatterpolar": [
           {
            "marker": {
             "colorbar": {
              "outlinewidth": 0,
              "ticks": ""
             }
            },
            "type": "scatterpolar"
           }
          ],
          "scatterpolargl": [
           {
            "marker": {
             "colorbar": {
              "outlinewidth": 0,
              "ticks": ""
             }
            },
            "type": "scatterpolargl"
           }
          ],
          "scatterternary": [
           {
            "marker": {
             "colorbar": {
              "outlinewidth": 0,
              "ticks": ""
             }
            },
            "type": "scatterternary"
           }
          ],
          "surface": [
           {
            "colorbar": {
             "outlinewidth": 0,
             "ticks": ""
            },
            "colorscale": [
             [
              0,
              "#0d0887"
             ],
             [
              0.1111111111111111,
              "#46039f"
             ],
             [
              0.2222222222222222,
              "#7201a8"
             ],
             [
              0.3333333333333333,
              "#9c179e"
             ],
             [
              0.4444444444444444,
              "#bd3786"
             ],
             [
              0.5555555555555556,
              "#d8576b"
             ],
             [
              0.6666666666666666,
              "#ed7953"
             ],
             [
              0.7777777777777778,
              "#fb9f3a"
             ],
             [
              0.8888888888888888,
              "#fdca26"
             ],
             [
              1,
              "#f0f921"
             ]
            ],
            "type": "surface"
           }
          ],
          "table": [
           {
            "cells": {
             "fill": {
              "color": "#EBF0F8"
             },
             "line": {
              "color": "white"
             }
            },
            "header": {
             "fill": {
              "color": "#C8D4E3"
             },
             "line": {
              "color": "white"
             }
            },
            "type": "table"
           }
          ]
         },
         "layout": {
          "annotationdefaults": {
           "arrowcolor": "#2a3f5f",
           "arrowhead": 0,
           "arrowwidth": 1
          },
          "autotypenumbers": "strict",
          "coloraxis": {
           "colorbar": {
            "outlinewidth": 0,
            "ticks": ""
           }
          },
          "colorscale": {
           "diverging": [
            [
             0,
             "#8e0152"
            ],
            [
             0.1,
             "#c51b7d"
            ],
            [
             0.2,
             "#de77ae"
            ],
            [
             0.3,
             "#f1b6da"
            ],
            [
             0.4,
             "#fde0ef"
            ],
            [
             0.5,
             "#f7f7f7"
            ],
            [
             0.6,
             "#e6f5d0"
            ],
            [
             0.7,
             "#b8e186"
            ],
            [
             0.8,
             "#7fbc41"
            ],
            [
             0.9,
             "#4d9221"
            ],
            [
             1,
             "#276419"
            ]
           ],
           "sequential": [
            [
             0,
             "#0d0887"
            ],
            [
             0.1111111111111111,
             "#46039f"
            ],
            [
             0.2222222222222222,
             "#7201a8"
            ],
            [
             0.3333333333333333,
             "#9c179e"
            ],
            [
             0.4444444444444444,
             "#bd3786"
            ],
            [
             0.5555555555555556,
             "#d8576b"
            ],
            [
             0.6666666666666666,
             "#ed7953"
            ],
            [
             0.7777777777777778,
             "#fb9f3a"
            ],
            [
             0.8888888888888888,
             "#fdca26"
            ],
            [
             1,
             "#f0f921"
            ]
           ],
           "sequentialminus": [
            [
             0,
             "#0d0887"
            ],
            [
             0.1111111111111111,
             "#46039f"
            ],
            [
             0.2222222222222222,
             "#7201a8"
            ],
            [
             0.3333333333333333,
             "#9c179e"
            ],
            [
             0.4444444444444444,
             "#bd3786"
            ],
            [
             0.5555555555555556,
             "#d8576b"
            ],
            [
             0.6666666666666666,
             "#ed7953"
            ],
            [
             0.7777777777777778,
             "#fb9f3a"
            ],
            [
             0.8888888888888888,
             "#fdca26"
            ],
            [
             1,
             "#f0f921"
            ]
           ]
          },
          "colorway": [
           "#636efa",
           "#EF553B",
           "#00cc96",
           "#ab63fa",
           "#FFA15A",
           "#19d3f3",
           "#FF6692",
           "#B6E880",
           "#FF97FF",
           "#FECB52"
          ],
          "font": {
           "color": "#2a3f5f"
          },
          "geo": {
           "bgcolor": "white",
           "lakecolor": "white",
           "landcolor": "white",
           "showlakes": true,
           "showland": true,
           "subunitcolor": "#C8D4E3"
          },
          "hoverlabel": {
           "align": "left"
          },
          "hovermode": "closest",
          "mapbox": {
           "style": "light"
          },
          "paper_bgcolor": "white",
          "plot_bgcolor": "white",
          "polar": {
           "angularaxis": {
            "gridcolor": "#EBF0F8",
            "linecolor": "#EBF0F8",
            "ticks": ""
           },
           "bgcolor": "white",
           "radialaxis": {
            "gridcolor": "#EBF0F8",
            "linecolor": "#EBF0F8",
            "ticks": ""
           }
          },
          "scene": {
           "xaxis": {
            "backgroundcolor": "white",
            "gridcolor": "#DFE8F3",
            "gridwidth": 2,
            "linecolor": "#EBF0F8",
            "showbackground": true,
            "ticks": "",
            "zerolinecolor": "#EBF0F8"
           },
           "yaxis": {
            "backgroundcolor": "white",
            "gridcolor": "#DFE8F3",
            "gridwidth": 2,
            "linecolor": "#EBF0F8",
            "showbackground": true,
            "ticks": "",
            "zerolinecolor": "#EBF0F8"
           },
           "zaxis": {
            "backgroundcolor": "white",
            "gridcolor": "#DFE8F3",
            "gridwidth": 2,
            "linecolor": "#EBF0F8",
            "showbackground": true,
            "ticks": "",
            "zerolinecolor": "#EBF0F8"
           }
          },
          "shapedefaults": {
           "line": {
            "color": "#2a3f5f"
           }
          },
          "ternary": {
           "aaxis": {
            "gridcolor": "#DFE8F3",
            "linecolor": "#A2B1C6",
            "ticks": ""
           },
           "baxis": {
            "gridcolor": "#DFE8F3",
            "linecolor": "#A2B1C6",
            "ticks": ""
           },
           "bgcolor": "white",
           "caxis": {
            "gridcolor": "#DFE8F3",
            "linecolor": "#A2B1C6",
            "ticks": ""
           }
          },
          "title": {
           "x": 0.05
          },
          "xaxis": {
           "automargin": true,
           "gridcolor": "#EBF0F8",
           "linecolor": "#EBF0F8",
           "ticks": "",
           "title": {
            "standoff": 15
           },
           "zerolinecolor": "#EBF0F8",
           "zerolinewidth": 2
          },
          "yaxis": {
           "automargin": true,
           "gridcolor": "#EBF0F8",
           "linecolor": "#EBF0F8",
           "ticks": "",
           "title": {
            "standoff": 15
           },
           "zerolinecolor": "#EBF0F8",
           "zerolinewidth": 2
          }
         }
        },
        "width": 800,
        "xaxis": {
         "anchor": "y",
         "domain": [
          0,
          1
         ],
         "title": {
          "text": "x"
         }
        },
        "yaxis": {
         "anchor": "x",
         "domain": [
          0,
          1
         ],
         "title": {
          "text": "y"
         }
        }
       }
      },
      "text/html": [
       "<div>                            <div id=\"bfd8e8fe-d9c2-455c-82d6-8144f82f064b\" class=\"plotly-graph-div\" style=\"height:600px; width:800px;\"></div>            <script type=\"text/javascript\">                require([\"plotly\"], function(Plotly) {                    window.PLOTLYENV=window.PLOTLYENV || {};                                    if (document.getElementById(\"bfd8e8fe-d9c2-455c-82d6-8144f82f064b\")) {                    Plotly.newPlot(                        \"bfd8e8fe-d9c2-455c-82d6-8144f82f064b\",                        [{\"hovertemplate\":\"\\u003cb\\u003e%{hovertext}\\u003c\\u002fb\\u003e\\u003cbr\\u003e\\u003cbr\\u003ecolor=True\\u003cbr\\u003ex=%{x}\\u003cbr\\u003ey=%{y}\\u003cbr\\u003etext=%{text}\\u003cextra\\u003e\\u003c\\u002fextra\\u003e\",\"hovertext\":[\"650\",\"651\",\"652\",\"653\",\"654\",\"655\",\"656\",\"657\",\"658\",\"659\",\"660\",\"661\",\"675\",\"676\",\"677\",\"678\",\"679\",\"680\",\"681\",\"682\",\"683\",\"684\",\"685\",\"687\",\"688\",\"689\",\"690\",\"691\",\"692\",\"693\",\"694\",\"695\",\"696\",\"697\",\"698\",\"699\",\"700\",\"701\",\"702\",\"703\",\"704\",\"705\",\"706\",\"707\",\"708\",\"710\",\"711\",\"712\",\"713\",\"714\",\"715\",\"716\",\"717\",\"718\",\"719\",\"720\",\"721\",\"722\",\"723\",\"724\",\"725\",\"726\",\"727\",\"728\",\"729\",\"730\",\"732\",\"733\",\"734\",\"735\",\"736\",\"737\",\"738\",\"739\",\"740\",\"741\",\"742\",\"743\",\"744\",\"745\",\"746\",\"747\",\"748\",\"749\",\"750\",\"751\",\"753\",\"754\",\"755\",\"756\",\"757\",\"758\",\"759\",\"760\",\"761\",\"765\",\"766\",\"767\",\"768\",\"769\",\"770\",\"771\",\"773\",\"774\",\"775\",\"776\",\"777\",\"785\",\"786\",\"787\",\"788\",\"789\",\"790\",\"792\",\"793\",\"794\",\"804\",\"805\",\"806\",\"807\",\"808\",\"810\",\"811\",\"822\",\"823\",\"824\",\"825\",\"827\",\"839\",\"840\",\"841\",\"855\",\"856\",\"870\",\"885\",\"897\",\"898\",\"909\",\"920\",\"930\",\"939\",\"947\",\"954\",\"960\",\"965\",\"969\",\"972\",\"974\"],\"legendgroup\":\"True\",\"marker\":{\"color\":\"#FECB52\",\"symbol\":\"circle\"},\"mode\":\"markers+text\",\"name\":\"True\",\"orientation\":\"v\",\"showlegend\":true,\"text\":[\"\\u003cb\\u003eV\\u003c\\u002fb\\u003e\",\"\",\"\",\"\",\"\",\"\",\"\",\"\",\"\",\"\",\"\",\"\",\"\",\"\",\"\",\"\",\"\",\"\",\"\",\"\",\"\",\"\",\"\",\"\",\"\",\"\",\"\",\"\",\"\",\"\",\"\",\"\",\"\",\"\",\"\",\"\",\"\",\"\",\"\",\"\",\"\",\"\",\"\",\"\",\"\",\"\",\"\",\"\",\"\",\"\",\"\",\"\",\"\",\"\",\"\",\"\",\"\",\"\",\"\",\"\",\"\",\"\",\"\",\"\",\"\",\"\",\"\",\"\",\"\",\"\",\"\",\"\",\"\",\"\",\"\",\"\",\"\",\"\",\"\",\"\",\"\",\"\",\"\",\"\",\"\",\"\",\"\",\"\",\"\",\"\",\"\",\"\",\"\",\"\",\"\",\"\",\"\",\"\",\"\",\"\",\"\",\"\",\"\",\"\",\"\",\"\",\"\",\"\",\"\",\"\",\"\",\"\",\"\",\"\",\"\",\"\",\"\",\"\",\"\",\"\",\"\",\"\",\"\",\"\",\"\",\"\",\"\",\"\",\"\",\"\",\"\",\"\",\"\",\"\",\"\",\"\",\"\",\"\",\"\",\"\",\"\",\"\",\"\",\"\",\"\",\"\",\"\",\"\\u003cb\\u003eCr\\u003c\\u002fb\\u003e\"],\"x\":[-0.866025,-0.79385625,-0.7216875,-0.64951875,-0.57735,-0.50518125,-0.4330125,-0.3608437500000001,-0.28867499999999996,-0.21650625,-0.14433750000000004,-0.07216874999999998,-0.8299406250000001,-0.757771875,-0.6856031250000001,-0.6134343750000001,-0.541265625,-0.469096875,-0.3969281250000001,-0.32475937499999996,-0.252590625,-0.18042187500000004,-0.10825312499999998,0.036084375000000016,0.10825312499999994,0.180421875,0.25259062500000007,0.324759375,0.3969281250000001,0.469096875,0.541265625,0.613434375,0.685603125,0.7577718750000001,0.8299406250000001,-0.79385625,-0.7216875,-0.64951875,-0.57735,-0.50518125,-0.4330125000000001,-0.36084374999999996,-0.288675,-0.21650625000000004,-0.14433749999999998,1.6024681581683354e-17,0.07216874999999999,0.14433749999999995,0.21650625000000004,0.28867500000000007,0.36084375,0.4330125000000001,0.50518125,0.57735,0.64951875,0.7216875,0.79385625,-0.757771875,-0.6856031250000001,-0.613434375,-0.5412656250000001,-0.4690968750000001,-0.39692812499999997,-0.324759375,-0.25259062500000007,-0.18042187499999998,-0.03608437499999999,0.03608437499999999,0.108253125,0.18042187499999998,0.252590625,0.3247593750000001,0.396928125,0.4690968750000001,0.5412656250000001,0.613434375,0.6856031250000001,0.757771875,-0.7216875,-0.64951875,-0.57735,-0.50518125,-0.43301249999999997,-0.36084375,-0.28867500000000007,-0.21650624999999998,-0.07216874999999999,-1.6024681581683354e-17,0.07216875,0.14433750000000004,0.21650624999999993,0.288675,0.3608437500000001,0.4330125,0.5051812500000001,-0.685603125,-0.613434375,-0.5412656250000001,-0.46909687499999997,-0.396928125,-0.3247593750000001,-0.25259062499999996,-0.10825312499999999,-0.036084375000000016,0.036084375,0.10825312500000002,0.18042187499999998,-0.64951875,-0.57735,-0.50518125,-0.4330125,-0.3608437500000001,-0.28867499999999996,-0.14433749999999998,-0.07216875000000002,0.0,-0.6134343750000001,-0.541265625,-0.469096875,-0.3969281250000001,-0.32475937499999996,-0.18042187499999998,-0.10825312500000002,-0.57735,-0.50518125,-0.4330125000000001,-0.36084374999999996,-0.21650624999999998,-0.5412656250000001,-0.4690968750000001,-0.39692812499999997,-0.50518125,-0.43301249999999997,-0.46909687499999997,-0.36084375,-0.396928125,-0.324759375,-0.36084375,-0.324759375,-0.288675,-0.252590625,-0.21650625,-0.180421875,-0.1443375,-0.108253125,-0.07216875,-0.036084375,0.0],\"xaxis\":\"x\",\"y\":[-0.5,-0.5,-0.5,-0.5,-0.5,-0.5,-0.5,-0.5,-0.5,-0.5,-0.5,-0.5,-0.4375,-0.4375,-0.4375,-0.4375,-0.4375,-0.4375,-0.4375,-0.4375,-0.4375,-0.4375,-0.4375,-0.4375,-0.4375,-0.4375,-0.4375,-0.4375,-0.4375,-0.4375,-0.43749999999999994,-0.4375,-0.4375,-0.43749999999999994,-0.4375,-0.375,-0.375,-0.375,-0.375,-0.375,-0.375,-0.375,-0.375,-0.375,-0.375,-0.375,-0.375,-0.375,-0.375,-0.375,-0.375,-0.37500000000000006,-0.375,-0.375,-0.37500000000000006,-0.375,-0.375,-0.3125,-0.3125,-0.3125,-0.3125,-0.3125,-0.3125,-0.3125,-0.3125,-0.3125,-0.3125,-0.3125,-0.3125,-0.3125,-0.3125,-0.3125,-0.3125,-0.3125,-0.3125,-0.3125,-0.3125,-0.3125,-0.25,-0.25,-0.25,-0.25,-0.25,-0.25,-0.25,-0.25,-0.25,-0.25,-0.25,-0.25,-0.25,-0.25,-0.25,-0.25,-0.25,-0.18749999999999997,-0.1875,-0.1875,-0.18749999999999997,-0.1875,-0.1875,-0.18749999999999997,-0.18749999999999997,-0.1875,-0.1875,-0.18749999999999997,-0.1875,-0.125,-0.12500000000000003,-0.12499999999999997,-0.125,-0.125,-0.125,-0.125,-0.125,-0.125,-0.0625,-0.062499999999999944,-0.0625,-0.0625,-0.062499999999999944,-0.06249999999999997,-0.0625,0.0,0.0,-5.551115123125783e-17,0.0,-2.7755575615628914e-17,0.0625,0.0625,0.0625,0.125,0.12500000000000006,0.1875,0.25,0.3125,0.3124999999999999,0.375,0.4375,0.5,0.5625,0.625,0.6875,0.75,0.8125,0.875,0.9375,1.0],\"yaxis\":\"y\",\"type\":\"scatter\"},{\"hovertemplate\":\"\\u003cb\\u003e%{hovertext}\\u003c\\u002fb\\u003e\\u003cbr\\u003e\\u003cbr\\u003ecolor=path\\u003cbr\\u003ex=%{x}\\u003cbr\\u003ey=%{y}\\u003cbr\\u003etext=%{text}\\u003cextra\\u003e\\u003c\\u002fextra\\u003e\",\"hovertext\":[\"662\",\"663\",\"664\",\"665\",\"666\",\"667\",\"668\",\"669\",\"670\",\"671\",\"672\",\"673\",\"674\",\"686\",\"709\",\"731\",\"752\",\"772\",\"791\",\"809\",\"826\",\"842\",\"857\",\"871\",\"884\"],\"legendgroup\":\"path\",\"marker\":{\"color\":\"red\",\"symbol\":\"circle\"},\"mode\":\"markers+text\",\"name\":\"path\",\"orientation\":\"v\",\"showlegend\":true,\"text\":[\"\",\"\",\"\",\"\",\"\",\"\",\"\",\"\",\"\",\"\",\"\",\"\",\"\\u003cb\\u003eTi\\u003c\\u002fb\\u003e\",\"\",\"\",\"\",\"\",\"\",\"\",\"\",\"\",\"\",\"\",\"\",\"\"],\"x\":[0.0,0.07216874999999996,0.14433749999999998,0.21650625000000007,0.288675,0.3608437500000001,0.4330125,0.5051812499999999,0.57735,0.6495187499999999,0.7216875,0.7938562500000002,0.866025,-0.036084375,-0.07216875,-0.108253125,-0.1443375,-0.180421875,-0.21650625,-0.252590625,-0.288675,-0.324759375,-0.36084375,-0.396928125,-0.4330125],\"xaxis\":\"x\",\"y\":[-0.5,-0.5,-0.5,-0.5,-0.5,-0.5,-0.5,-0.5,-0.5,-0.5,-0.5,-0.5,-0.5,-0.4375,-0.375,-0.3125,-0.25,-0.1875,-0.125,-0.0625,0.0,0.0625,0.125,0.1875,0.25],\"yaxis\":\"y\",\"type\":\"scatter\"},{\"hovertemplate\":\"\\u003cb\\u003e%{hovertext}\\u003c\\u002fb\\u003e\\u003cbr\\u003e\\u003cbr\\u003ecolor=False\\u003cbr\\u003ex=%{x}\\u003cbr\\u003ey=%{y}\\u003cbr\\u003etext=%{text}\\u003cextra\\u003e\\u003c\\u002fextra\\u003e\",\"hovertext\":[\"762\",\"763\",\"764\",\"778\",\"779\",\"780\",\"781\",\"782\",\"783\",\"784\",\"795\",\"796\",\"797\",\"798\",\"799\",\"800\",\"801\",\"802\",\"803\",\"812\",\"813\",\"814\",\"815\",\"816\",\"817\",\"818\",\"819\",\"820\",\"821\",\"828\",\"829\",\"830\",\"831\",\"832\",\"833\",\"834\",\"835\",\"836\",\"837\",\"838\",\"843\",\"844\",\"845\",\"846\",\"847\",\"848\",\"849\",\"850\",\"851\",\"852\",\"853\",\"854\",\"858\",\"859\",\"860\",\"861\",\"862\",\"863\",\"864\",\"865\",\"866\",\"867\",\"868\",\"869\",\"872\",\"873\",\"874\",\"875\",\"876\",\"877\",\"878\",\"879\",\"880\",\"881\",\"882\",\"883\",\"886\",\"887\",\"888\",\"889\",\"890\",\"891\",\"892\",\"893\",\"894\",\"895\",\"896\",\"899\",\"900\",\"901\",\"902\",\"903\",\"904\",\"905\",\"906\",\"907\",\"908\",\"910\",\"911\",\"912\",\"913\",\"914\",\"915\",\"916\",\"917\",\"918\",\"919\",\"921\",\"922\",\"923\",\"924\",\"925\",\"926\",\"927\",\"928\",\"929\",\"931\",\"932\",\"933\",\"934\",\"935\",\"936\",\"937\",\"938\",\"940\",\"941\",\"942\",\"943\",\"944\",\"945\",\"946\",\"948\",\"949\",\"950\",\"951\",\"952\",\"953\",\"955\",\"956\",\"957\",\"958\",\"959\",\"961\",\"962\",\"963\",\"964\",\"966\",\"967\",\"968\",\"970\",\"971\",\"973\"],\"legendgroup\":\"False\",\"marker\":{\"color\":\"blue\",\"symbol\":\"circle\"},\"mode\":\"markers+text\",\"name\":\"False\",\"orientation\":\"v\",\"showlegend\":true,\"text\":[\"\",\"\",\"\",\"\",\"\",\"\",\"\",\"\",\"\",\"\",\"\",\"\",\"\",\"\",\"\",\"\",\"\",\"\",\"\",\"\",\"\",\"\",\"\",\"\",\"\",\"\",\"\",\"\",\"\",\"\",\"\",\"\",\"\",\"\",\"\",\"\",\"\",\"\",\"\",\"\",\"\",\"\",\"\",\"\",\"\",\"\",\"\",\"\",\"\",\"\",\"\",\"\",\"\",\"\",\"\",\"\",\"\",\"\",\"\",\"\",\"\",\"\",\"\",\"\",\"\",\"\",\"\",\"\",\"\",\"\",\"\",\"\",\"\",\"\",\"\",\"\",\"\",\"\",\"\",\"\",\"\",\"\",\"\",\"\",\"\",\"\",\"\",\"\",\"\",\"\",\"\",\"\",\"\",\"\",\"\",\"\",\"\",\"\",\"\",\"\",\"\",\"\",\"\",\"\",\"\",\"\",\"\",\"\",\"\",\"\",\"\",\"\",\"\",\"\",\"\",\"\",\"\",\"\",\"\",\"\",\"\",\"\",\"\",\"\",\"\",\"\",\"\",\"\",\"\",\"\",\"\",\"\",\"\",\"\",\"\",\"\",\"\",\"\",\"\",\"\",\"\",\"\",\"\",\"\",\"\",\"\",\"\",\"\",\"\",\"\",\"\",\"\"],\"x\":[0.57735,0.64951875,0.7216875,0.25259062499999996,0.324759375,0.3969281250000001,0.469096875,0.5412656250000001,0.6134343750000001,0.685603125,0.07216875000000002,0.14433749999999998,0.21650625,0.28867499999999996,0.36084375,0.4330125000000001,0.50518125,0.5773500000000001,0.64951875,-0.036084375,0.036084375000000016,0.10825312499999999,0.180421875,0.252590625,0.32475937499999996,0.396928125,0.4690968750000001,0.5412656250000001,0.6134343750000001,-0.14433750000000004,-0.07216875,1.6024681581683354e-17,0.07216874999999999,0.1443375,0.21650625,0.288675,0.36084374999999996,0.4330125,0.5051812500000001,0.57735,-0.252590625,-0.18042187500000004,-0.108253125,-0.03608437499999999,0.03608437499999999,0.108253125,0.180421875,0.252590625,0.324759375,0.39692812499999997,0.469096875,0.5412656250000001,-0.288675,-0.21650625000000004,-0.1443375,-0.07216874999999999,-1.6024681581683354e-17,0.07216875,0.1443375,0.21650625,0.288675,0.36084375,0.43301249999999997,0.50518125,-0.324759375,-0.252590625,-0.180421875,-0.10825312499999999,-0.036084375000000016,0.036084375,0.10825312499999999,0.180421875,0.252590625,0.324759375,0.396928125,0.46909687499999997,-0.288675,-0.21650625,-0.14433749999999998,-0.07216875000000002,0.0,0.07216874999999999,0.1443375,0.21650625,0.288675,0.36084375,0.4330125,-0.252590625,-0.18042187499999998,-0.10825312500000002,-0.036084375,0.036084374999999995,0.10825312500000002,0.180421875,0.252590625,0.324759375,0.396928125,-0.288675,-0.21650624999999998,-0.14433750000000004,-0.07216875,-8.012340790841677e-18,0.07216875000000002,0.1443375,0.21650625,0.288675,0.36084375,-0.252590625,-0.18042187500000004,-0.108253125,-0.03608437500000001,0.03608437500000001,0.108253125,0.180421875,0.252590625,0.324759375,-0.21650625000000004,-0.1443375,-0.07216875000000002,8.012340790841677e-18,0.07216875,0.1443375,0.21650625,0.288675,-0.180421875,-0.10825312500000002,-0.036084374999999995,0.036084375,0.108253125,0.180421875,0.252590625,-0.1443375,-0.07216874999999999,0.0,0.07216875,0.1443375,0.21650625,-0.10825312499999999,-0.036084375,0.03608437500000001,0.108253125,0.180421875,-0.07216875,4.0061703954208385e-18,0.07216875,0.1443375,-0.036084374999999995,0.036084375,0.108253125,2.0030851977104193e-18,0.07216875,0.036084375],\"xaxis\":\"x\",\"y\":[-0.25,-0.25,-0.25,-0.18749999999999997,-0.1875,-0.1875,-0.18749999999999997,-0.1875,-0.1875,-0.18749999999999997,-0.125,-0.125,-0.125,-0.12499999999999999,-0.125,-0.125,-0.12499999999999997,-0.12500000000000003,-0.125,-0.06249999999999997,-0.06249999999999997,-0.0625,-0.06249999999999997,-0.062499999999999986,-0.06249999999999996,-0.0625,-0.06249999999999998,-0.06249999999999996,-0.0625,-2.7755575615628914e-17,-2.7755575615628914e-17,0.0,-2.7755575615628914e-17,-2.7755575615628914e-17,-1.3877787807814457e-17,-1.3877787807814457e-17,0.0,-3.469446951953614e-17,-1.734723475976807e-17,0.0,0.06250000000000003,0.06249999999999997,0.0625,0.0625,0.0625,0.0625,0.062499999999999986,0.06250000000000001,0.0625,0.06250000000000003,0.062499999999999986,0.0625,0.12500000000000003,0.12500000000000003,0.125,0.12500000000000003,0.12500000000000003,0.125,0.125,0.125,0.12500000000000003,0.12500000000000003,0.12500000000000003,0.125,0.18749999999999997,0.18749999999999997,0.1875,0.18749999999999997,0.18749999999999997,0.1875,0.18749999999999994,0.1875,0.18749999999999997,0.1875,0.18749999999999997,0.1875,0.24999999999999997,0.25,0.25,0.24999999999999997,0.25,0.24999999999999994,0.25000000000000006,0.25,0.24999999999999997,0.25000000000000006,0.25,0.31249999999999994,0.3125,0.3125,0.31249999999999994,0.31249999999999994,0.31249999999999994,0.3125,0.31249999999999994,0.31249999999999994,0.3125,0.375,0.3750000000000001,0.375,0.375,0.375,0.37500000000000006,0.375,0.37500000000000006,0.37500000000000006,0.375,0.4375,0.4375,0.4375,0.43749999999999994,0.43750000000000006,0.4375,0.43749999999999994,0.43750000000000006,0.4375,0.4999999999999999,0.5,0.49999999999999994,0.49999999999999994,0.5,0.49999999999999994,0.49999999999999994,0.5,0.5625,0.5625000000000001,0.5625,0.5625,0.5625000000000001,0.5625,0.5625,0.625,0.625,0.625,0.625,0.625,0.625,0.6874999999999999,0.6875,0.6875,0.6874999999999999,0.6875,0.75,0.7500000000000001,0.75,0.75,0.8125,0.8125,0.8125,0.8749999999999999,0.875,0.9375],\"yaxis\":\"y\",\"type\":\"scatter\"}],                        {\"template\":{\"data\":{\"barpolar\":[{\"marker\":{\"line\":{\"color\":\"white\",\"width\":0.5},\"pattern\":{\"fillmode\":\"overlay\",\"size\":10,\"solidity\":0.2}},\"type\":\"barpolar\"}],\"bar\":[{\"error_x\":{\"color\":\"#2a3f5f\"},\"error_y\":{\"color\":\"#2a3f5f\"},\"marker\":{\"line\":{\"color\":\"white\",\"width\":0.5},\"pattern\":{\"fillmode\":\"overlay\",\"size\":10,\"solidity\":0.2}},\"type\":\"bar\"}],\"carpet\":[{\"aaxis\":{\"endlinecolor\":\"#2a3f5f\",\"gridcolor\":\"#C8D4E3\",\"linecolor\":\"#C8D4E3\",\"minorgridcolor\":\"#C8D4E3\",\"startlinecolor\":\"#2a3f5f\"},\"baxis\":{\"endlinecolor\":\"#2a3f5f\",\"gridcolor\":\"#C8D4E3\",\"linecolor\":\"#C8D4E3\",\"minorgridcolor\":\"#C8D4E3\",\"startlinecolor\":\"#2a3f5f\"},\"type\":\"carpet\"}],\"choropleth\":[{\"colorbar\":{\"outlinewidth\":0,\"ticks\":\"\"},\"type\":\"choropleth\"}],\"contourcarpet\":[{\"colorbar\":{\"outlinewidth\":0,\"ticks\":\"\"},\"type\":\"contourcarpet\"}],\"contour\":[{\"colorbar\":{\"outlinewidth\":0,\"ticks\":\"\"},\"colorscale\":[[0.0,\"#0d0887\"],[0.1111111111111111,\"#46039f\"],[0.2222222222222222,\"#7201a8\"],[0.3333333333333333,\"#9c179e\"],[0.4444444444444444,\"#bd3786\"],[0.5555555555555556,\"#d8576b\"],[0.6666666666666666,\"#ed7953\"],[0.7777777777777778,\"#fb9f3a\"],[0.8888888888888888,\"#fdca26\"],[1.0,\"#f0f921\"]],\"type\":\"contour\"}],\"heatmapgl\":[{\"colorbar\":{\"outlinewidth\":0,\"ticks\":\"\"},\"colorscale\":[[0.0,\"#0d0887\"],[0.1111111111111111,\"#46039f\"],[0.2222222222222222,\"#7201a8\"],[0.3333333333333333,\"#9c179e\"],[0.4444444444444444,\"#bd3786\"],[0.5555555555555556,\"#d8576b\"],[0.6666666666666666,\"#ed7953\"],[0.7777777777777778,\"#fb9f3a\"],[0.8888888888888888,\"#fdca26\"],[1.0,\"#f0f921\"]],\"type\":\"heatmapgl\"}],\"heatmap\":[{\"colorbar\":{\"outlinewidth\":0,\"ticks\":\"\"},\"colorscale\":[[0.0,\"#0d0887\"],[0.1111111111111111,\"#46039f\"],[0.2222222222222222,\"#7201a8\"],[0.3333333333333333,\"#9c179e\"],[0.4444444444444444,\"#bd3786\"],[0.5555555555555556,\"#d8576b\"],[0.6666666666666666,\"#ed7953\"],[0.7777777777777778,\"#fb9f3a\"],[0.8888888888888888,\"#fdca26\"],[1.0,\"#f0f921\"]],\"type\":\"heatmap\"}],\"histogram2dcontour\":[{\"colorbar\":{\"outlinewidth\":0,\"ticks\":\"\"},\"colorscale\":[[0.0,\"#0d0887\"],[0.1111111111111111,\"#46039f\"],[0.2222222222222222,\"#7201a8\"],[0.3333333333333333,\"#9c179e\"],[0.4444444444444444,\"#bd3786\"],[0.5555555555555556,\"#d8576b\"],[0.6666666666666666,\"#ed7953\"],[0.7777777777777778,\"#fb9f3a\"],[0.8888888888888888,\"#fdca26\"],[1.0,\"#f0f921\"]],\"type\":\"histogram2dcontour\"}],\"histogram2d\":[{\"colorbar\":{\"outlinewidth\":0,\"ticks\":\"\"},\"colorscale\":[[0.0,\"#0d0887\"],[0.1111111111111111,\"#46039f\"],[0.2222222222222222,\"#7201a8\"],[0.3333333333333333,\"#9c179e\"],[0.4444444444444444,\"#bd3786\"],[0.5555555555555556,\"#d8576b\"],[0.6666666666666666,\"#ed7953\"],[0.7777777777777778,\"#fb9f3a\"],[0.8888888888888888,\"#fdca26\"],[1.0,\"#f0f921\"]],\"type\":\"histogram2d\"}],\"histogram\":[{\"marker\":{\"pattern\":{\"fillmode\":\"overlay\",\"size\":10,\"solidity\":0.2}},\"type\":\"histogram\"}],\"mesh3d\":[{\"colorbar\":{\"outlinewidth\":0,\"ticks\":\"\"},\"type\":\"mesh3d\"}],\"parcoords\":[{\"line\":{\"colorbar\":{\"outlinewidth\":0,\"ticks\":\"\"}},\"type\":\"parcoords\"}],\"pie\":[{\"automargin\":true,\"type\":\"pie\"}],\"scatter3d\":[{\"line\":{\"colorbar\":{\"outlinewidth\":0,\"ticks\":\"\"}},\"marker\":{\"colorbar\":{\"outlinewidth\":0,\"ticks\":\"\"}},\"type\":\"scatter3d\"}],\"scattercarpet\":[{\"marker\":{\"colorbar\":{\"outlinewidth\":0,\"ticks\":\"\"}},\"type\":\"scattercarpet\"}],\"scattergeo\":[{\"marker\":{\"colorbar\":{\"outlinewidth\":0,\"ticks\":\"\"}},\"type\":\"scattergeo\"}],\"scattergl\":[{\"marker\":{\"colorbar\":{\"outlinewidth\":0,\"ticks\":\"\"}},\"type\":\"scattergl\"}],\"scattermapbox\":[{\"marker\":{\"colorbar\":{\"outlinewidth\":0,\"ticks\":\"\"}},\"type\":\"scattermapbox\"}],\"scatterpolargl\":[{\"marker\":{\"colorbar\":{\"outlinewidth\":0,\"ticks\":\"\"}},\"type\":\"scatterpolargl\"}],\"scatterpolar\":[{\"marker\":{\"colorbar\":{\"outlinewidth\":0,\"ticks\":\"\"}},\"type\":\"scatterpolar\"}],\"scatter\":[{\"fillpattern\":{\"fillmode\":\"overlay\",\"size\":10,\"solidity\":0.2},\"type\":\"scatter\"}],\"scatterternary\":[{\"marker\":{\"colorbar\":{\"outlinewidth\":0,\"ticks\":\"\"}},\"type\":\"scatterternary\"}],\"surface\":[{\"colorbar\":{\"outlinewidth\":0,\"ticks\":\"\"},\"colorscale\":[[0.0,\"#0d0887\"],[0.1111111111111111,\"#46039f\"],[0.2222222222222222,\"#7201a8\"],[0.3333333333333333,\"#9c179e\"],[0.4444444444444444,\"#bd3786\"],[0.5555555555555556,\"#d8576b\"],[0.6666666666666666,\"#ed7953\"],[0.7777777777777778,\"#fb9f3a\"],[0.8888888888888888,\"#fdca26\"],[1.0,\"#f0f921\"]],\"type\":\"surface\"}],\"table\":[{\"cells\":{\"fill\":{\"color\":\"#EBF0F8\"},\"line\":{\"color\":\"white\"}},\"header\":{\"fill\":{\"color\":\"#C8D4E3\"},\"line\":{\"color\":\"white\"}},\"type\":\"table\"}]},\"layout\":{\"annotationdefaults\":{\"arrowcolor\":\"#2a3f5f\",\"arrowhead\":0,\"arrowwidth\":1},\"autotypenumbers\":\"strict\",\"coloraxis\":{\"colorbar\":{\"outlinewidth\":0,\"ticks\":\"\"}},\"colorscale\":{\"diverging\":[[0,\"#8e0152\"],[0.1,\"#c51b7d\"],[0.2,\"#de77ae\"],[0.3,\"#f1b6da\"],[0.4,\"#fde0ef\"],[0.5,\"#f7f7f7\"],[0.6,\"#e6f5d0\"],[0.7,\"#b8e186\"],[0.8,\"#7fbc41\"],[0.9,\"#4d9221\"],[1,\"#276419\"]],\"sequential\":[[0.0,\"#0d0887\"],[0.1111111111111111,\"#46039f\"],[0.2222222222222222,\"#7201a8\"],[0.3333333333333333,\"#9c179e\"],[0.4444444444444444,\"#bd3786\"],[0.5555555555555556,\"#d8576b\"],[0.6666666666666666,\"#ed7953\"],[0.7777777777777778,\"#fb9f3a\"],[0.8888888888888888,\"#fdca26\"],[1.0,\"#f0f921\"]],\"sequentialminus\":[[0.0,\"#0d0887\"],[0.1111111111111111,\"#46039f\"],[0.2222222222222222,\"#7201a8\"],[0.3333333333333333,\"#9c179e\"],[0.4444444444444444,\"#bd3786\"],[0.5555555555555556,\"#d8576b\"],[0.6666666666666666,\"#ed7953\"],[0.7777777777777778,\"#fb9f3a\"],[0.8888888888888888,\"#fdca26\"],[1.0,\"#f0f921\"]]},\"colorway\":[\"#636efa\",\"#EF553B\",\"#00cc96\",\"#ab63fa\",\"#FFA15A\",\"#19d3f3\",\"#FF6692\",\"#B6E880\",\"#FF97FF\",\"#FECB52\"],\"font\":{\"color\":\"#2a3f5f\"},\"geo\":{\"bgcolor\":\"white\",\"lakecolor\":\"white\",\"landcolor\":\"white\",\"showlakes\":true,\"showland\":true,\"subunitcolor\":\"#C8D4E3\"},\"hoverlabel\":{\"align\":\"left\"},\"hovermode\":\"closest\",\"mapbox\":{\"style\":\"light\"},\"paper_bgcolor\":\"white\",\"plot_bgcolor\":\"white\",\"polar\":{\"angularaxis\":{\"gridcolor\":\"#EBF0F8\",\"linecolor\":\"#EBF0F8\",\"ticks\":\"\"},\"bgcolor\":\"white\",\"radialaxis\":{\"gridcolor\":\"#EBF0F8\",\"linecolor\":\"#EBF0F8\",\"ticks\":\"\"}},\"scene\":{\"xaxis\":{\"backgroundcolor\":\"white\",\"gridcolor\":\"#DFE8F3\",\"gridwidth\":2,\"linecolor\":\"#EBF0F8\",\"showbackground\":true,\"ticks\":\"\",\"zerolinecolor\":\"#EBF0F8\"},\"yaxis\":{\"backgroundcolor\":\"white\",\"gridcolor\":\"#DFE8F3\",\"gridwidth\":2,\"linecolor\":\"#EBF0F8\",\"showbackground\":true,\"ticks\":\"\",\"zerolinecolor\":\"#EBF0F8\"},\"zaxis\":{\"backgroundcolor\":\"white\",\"gridcolor\":\"#DFE8F3\",\"gridwidth\":2,\"linecolor\":\"#EBF0F8\",\"showbackground\":true,\"ticks\":\"\",\"zerolinecolor\":\"#EBF0F8\"}},\"shapedefaults\":{\"line\":{\"color\":\"#2a3f5f\"}},\"ternary\":{\"aaxis\":{\"gridcolor\":\"#DFE8F3\",\"linecolor\":\"#A2B1C6\",\"ticks\":\"\"},\"baxis\":{\"gridcolor\":\"#DFE8F3\",\"linecolor\":\"#A2B1C6\",\"ticks\":\"\"},\"bgcolor\":\"white\",\"caxis\":{\"gridcolor\":\"#DFE8F3\",\"linecolor\":\"#A2B1C6\",\"ticks\":\"\"}},\"title\":{\"x\":0.05},\"xaxis\":{\"automargin\":true,\"gridcolor\":\"#EBF0F8\",\"linecolor\":\"#EBF0F8\",\"ticks\":\"\",\"title\":{\"standoff\":15},\"zerolinecolor\":\"#EBF0F8\",\"zerolinewidth\":2},\"yaxis\":{\"automargin\":true,\"gridcolor\":\"#EBF0F8\",\"linecolor\":\"#EBF0F8\",\"ticks\":\"\",\"title\":{\"standoff\":15},\"zerolinecolor\":\"#EBF0F8\",\"zerolinewidth\":2}}},\"xaxis\":{\"anchor\":\"y\",\"domain\":[0.0,1.0],\"title\":{\"text\":\"x\"}},\"yaxis\":{\"anchor\":\"x\",\"domain\":[0.0,1.0],\"title\":{\"text\":\"y\"}},\"legend\":{\"title\":{\"text\":\"color\"},\"tracegroupgap\":0},\"margin\":{\"t\":60},\"height\":600,\"width\":800},                        {\"responsive\": true}                    ).then(function(){\n",
       "                            \n",
       "var gd = document.getElementById('bfd8e8fe-d9c2-455c-82d6-8144f82f064b');\n",
       "var x = new MutationObserver(function (mutations, observer) {{\n",
       "        var display = window.getComputedStyle(gd).display;\n",
       "        if (!display || display === 'none') {{\n",
       "            console.log([gd, 'removed!']);\n",
       "            Plotly.purge(gd);\n",
       "            observer.disconnect();\n",
       "        }}\n",
       "}});\n",
       "\n",
       "// Listen for the removal of the full notebook cells\n",
       "var notebookContainer = gd.closest('#notebook-container');\n",
       "if (notebookContainer) {{\n",
       "    x.observe(notebookContainer, {childList: true});\n",
       "}}\n",
       "\n",
       "// Listen for the clearing of the current output cell\n",
       "var outputEl = gd.closest('.output');\n",
       "if (outputEl) {{\n",
       "    x.observe(outputEl, {childList: true});\n",
       "}}\n",
       "\n",
       "                        })                };                });            </script>        </div>"
      ]
     },
     "metadata": {},
     "output_type": "display_data"
    }
   ],
   "source": [
    "pureComponentIndices = nimplex.pure_component_indexes_py(3, slen)\n",
    "labels = ['']*len(gridAtt_projected_df)\n",
    "for comp, idx in zip(comp2, pureComponentIndices):\n",
    "    labels[idx] = \"<b>\"+comp+\"</b>\"\n",
    "fig = px.scatter(gridAtt_projected_df, x='x', y='y', color=gridFeasibleMarked5, text=labels, \n",
    "                 hover_name=[f\"{i+dimsize*2}\" for i in range(len(gridAtt_projected_df))],\n",
    "              template='plotly_white', width=800, height=600, color_discrete_map=color_map) \n",
    "              #labels={'color':'Solid Solution Phases', 'x':'', 'y':''})\n",
    "fig.show()"
   ]
  },
  {
   "cell_type": "code",
   "execution_count": 109,
   "metadata": {},
   "outputs": [
    {
     "name": "stdout",
     "output_type": "stream",
     "text": [
      "[(1, '(  0) Ni9.6 Cr19.9 Fe70.4 '), (2, '( 25) Ni13.4 Cr19.1 Fe67.5 '), (3, '( 49) Ni17.1 Cr18.3 Fe64.6 '), (4, '( 72) Ni20.9 Cr17.4 Fe61.6 '), (5, '( 94) Ni24.7 Cr16.6 Fe58.7 '), (6, '( 95) Ni24.3 Cr20.0 Fe55.8 '), (7, '(116) Ni28.0 Cr19.1 Fe52.8 '), (8, '(136) Ni31.8 Cr18.3 Fe49.9 '), (9, '(137) Ni31.4 Cr21.6 Fe47.0 '), (10, '(156) Ni35.2 Cr20.8 Fe44.0 '), (11, '(157) Ni34.8 Cr24.1 Fe41.1 '), (12, '(158) Ni34.4 Cr27.5 Fe38.2 '), (13, '(140) Ni30.2 Cr31.6 Fe38.2 '), (14, '(141) Ni29.8 Cr35.0 Fe35.2 '), (15, '(122) Ni25.6 Cr39.1 Fe35.2 '), (16, '(123) Ni25.2 Cr42.5 Fe32.3 '), (17, '(124) Ni24.8 Cr45.8 Fe29.4 '), (18, '(104) Ni20.7 Cr50.0 Fe29.4 '), (19, '(105) Ni20.3 Cr53.3 Fe26.4 '), (20, '(106) Ni19.9 Cr56.6 Fe23.5 '), (21, '(107) Ni19.5 Cr60.0 Fe20.5 '), (22, '(108) Ni19.1 Cr63.3 Fe17.6 '), (23, '(109) Ni18.7 Cr66.7 Fe14.7 '), (24, '(110) Ni18.3 Cr70.0 Fe11.7 '), (25, '(111) Ni17.9 Cr73.3 Fe8.8 '), (26, '(112) Ni17.5 Cr76.7 Fe5.9 '), (27, '(113) Ni17.1 Cr80.0 Fe2.9 '), (28, '(114) Ni16.7 Cr83.3 '), (29, '(439) Ni16.7 Cr83.3 '), (30, '(417) Ni12.5 Cr83.3 V4.2 '), (31, '(394) Ni8.3 Cr83.3 V8.3 '), (32, '(370) Ni4.2 Cr83.3 V12.5 '), (33, '(345) Cr83.3 V16.7 '), (34, '(344) Cr79.2 V20.8 '), (35, '(343) Cr75.0 V25.0 '), (36, '(342) Cr70.8 V29.2 '), (37, '(341) Cr66.7 V33.3 '), (38, '(340) Cr62.5 V37.5 '), (39, '(339) Cr58.3 V41.7 '), (40, '(338) Cr54.2 V45.8 '), (41, '(337) Cr50.0 V50.0 '), (42, '(559) Cr50.0 V50.0 '), (43, '(546) Cr45.8 Ti4.2 V50.0 '), (44, '(532) Cr41.7 Ti8.3 V50.0 '), (45, '(517) Cr37.5 Ti12.5 V50.0 '), (46, '(501) Cr33.3 Ti16.7 V50.0 '), (47, '(484) Cr29.2 Ti20.8 V50.0 '), (48, '(466) Cr25.0 Ti25.0 V50.0 '), (49, '(447) Cr20.8 Ti29.2 V50.0 '), (50, '(427) Cr16.7 Ti33.3 V50.0 '), (51, '(406) Cr12.5 Ti37.5 V50.0 '), (52, '(384) Cr8.3 Ti41.7 V50.0 '), (53, '(361) Cr4.2 Ti45.8 V50.0 '), (54, '(337) Ti50.0 V50.0 '), (55, '(338) Ti54.2 V45.8 '), (56, '(339) Ti58.3 V41.7 '), (57, '(340) Ti62.5 V37.5 '), (58, '(341) Ti66.7 V33.3 '), (59, '(342) Ti70.8 V29.2 '), (60, '(343) Ti75.0 V25.0 '), (61, '(344) Ti79.2 V20.8 '), (62, '(345) Ti83.3 V16.7 '), (63, '(346) Ti87.5 V12.5 '), (64, '(347) Ti91.7 V8.3 '), (65, '(348) Ti95.8 V4.2 '), (66, '(349) Ti100.0 ')]\n"
     ]
    }
   ],
   "source": [
    "# Initialize the list to store the enumerated path as tuples\n",
    "enumeratedPath = []\n",
    "\n",
    "# Iterate through shortestPath and save the step and formula as tuples\n",
    "for step, i in enumerate(shortestPath):\n",
    "    enumeratedPath.append((step + 1, formulas[i]))\n",
    "\n",
    "# Now enumeratedPath contains tuples with the step number and the corresponding formula\n",
    "print(enumeratedPath)"
   ]
  },
  {
   "cell_type": "markdown",
   "metadata": {},
   "source": [
    "import csv\n",
    "\n",
    "# Assuming enumeratedPath is already defined\n",
    "# Example: enumeratedPath = [(1, 'O2'), (2, 'CH4'), (3, 'C3H8')]\n",
    "\n",
    "# Define the CSV file name\n",
    "csv_file = 'enumerated_path.csv'\n",
    "\n",
    "# Open the CSV file in write mode\n",
    "with open(csv_file, mode='w', newline='') as file:\n",
    "    writer = csv.writer(file)\n",
    "    \n",
    "    # Write the header (optional)\n",
    "    writer.writerow(['Step', 'Formula'])\n",
    "    \n",
    "    # Write the data\n",
    "    writer.writerows(enumeratedPath)\n",
    "\n",
    "print(f\"Data has been exported to {csv_file}\")"
   ]
  },
  {
   "cell_type": "code",
   "execution_count": null,
   "metadata": {},
   "outputs": [],
   "source": []
  }
 ],
 "metadata": {
  "kernelspec": {
   "display_name": "pyplex",
   "language": "python",
   "name": "python3"
  },
  "language_info": {
   "codemirror_mode": {
    "name": "ipython",
    "version": 3
   },
   "file_extension": ".py",
   "mimetype": "text/x-python",
   "name": "python",
   "nbconvert_exporter": "python",
   "pygments_lexer": "ipython3",
   "version": "3.11.9"
  }
 },
 "nbformat": 4,
 "nbformat_minor": 2
}
