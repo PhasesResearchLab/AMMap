{
 "cells": [
  {
   "cell_type": "markdown",
   "metadata": {},
   "source": []
  },
  {
   "cell_type": "markdown",
   "metadata": {},
   "source": [
    "# 3. Building Compositional Space Complexes to Express Elaborate Design Problems\n",
    "\n",
    "> ***(before running this code, please consult Quick Start to make sure everything is set up)***\n",
    "\n",
    "> You will need the same dependencies as in [Tutorial No.2](02.AdditiveManufacturingPathPlanning.ipynb) (i.e., `pycalphad` and `pathfinding`), and additionally `igraph` in order to efficiently visualize the examples presented in this tutorial. **If you are running this in `nimplex`'s Codespaces, everything has been pre-installed for you.**"
   ]
  },
  {
   "cell_type": "markdown",
   "metadata": {},
   "source": [
    "**In this tutorial, we will build upon `nimplex`'s graph representations and leverage our ability to combine (\"stitch\") them together without affecting the way we express the problem at hand and in an effortless fashion to dramatically speed up materials exploration.** In particular, we will show how to:\n",
    "\n",
    "1. **Plot graphs** (as in mathematical objects, not any figures) using [`igraph`](https://igraph.org/), which can be done quite directly using `nimplex`'s point grid and neighbor lists `edges = [(i,n) for i in range(len(gridAtt)) for n in nList[i]]`\n",
    "\n",
    "2. **Identify ordered subsystems in `nimplex` grids, like `A-B-C` and `C-A-B` within `A-B-C-D-E` and `D-C-G-F-A-H-B` to establish connectivity between them.** We will use this to combine 3 4-component systems (tetrahedra) by 2 3-component subsystems (triangles) to create a chain.\n",
    "\n",
    "3. Identify all subspaces of a given order in low dimensional and high dimensional spaces (e.g., all quantized compositions of any 3 things out of N) and combine (\"stitch\") them together to form a **simplex graphs that intersect themselves in 3D because of high dimensionality, yet still have the same (graph) structure**.\n",
    "\n",
    "4. **Construct a graph complex to explore all ternary combinations of `[\"Ti50Zr50\", \"Hf95Ti5\", \"NbTaWHf\", \"Mo80Nb10W10\", \"TiTa2\", \"Nb96Mo3W1\", \"Zr49 Hf1 Mo50\"]` (7 alloys)** under equilibrium phase constraint (relatively expensive to compute) and then explore the space with an additional low-cost screenig constraint (RMSAD - alloy strenght surrogate) that could also be an ML surrogate."
   ]
  },
  {
   "cell_type": "code",
   "execution_count": 69,
   "metadata": {},
   "outputs": [],
   "source": [
    "import nimplex\n",
    "from utils import stitching\n",
    "from IPython.display import clear_output\n",
    "from itertools import combinations"
   ]
  },
  {
   "cell_type": "code",
   "execution_count": 70,
   "metadata": {},
   "outputs": [],
   "source": [
    "import igraph as ig\n",
    "import plotly.graph_objs as go\n",
    "import numpy as np\n",
    "import random\n",
    "random.seed(123)"
   ]
  },
  {
   "cell_type": "code",
   "execution_count": null,
   "metadata": {},
   "outputs": [],
   "source": []
  },
  {
   "cell_type": "markdown",
   "metadata": {},
   "source": [
    "## Plotting 4-Component Simplex Graph with `igraph`"
   ]
  },
  {
   "cell_type": "code",
   "execution_count": 71,
   "metadata": {},
   "outputs": [],
   "source": [
    "dim = 4\n",
    "ndiv = 6\n",
    "gridAtt, nList = nimplex.simplex_graph_py(dim, ndiv)"
   ]
  },
  {
   "cell_type": "code",
   "execution_count": 72,
   "metadata": {},
   "outputs": [],
   "source": [
    "edges = []\n",
    "for i in range(len(gridAtt)):\n",
    "    for n in nList[i]:\n",
    "        edges.append((i,n))"
   ]
  },
  {
   "cell_type": "code",
   "execution_count": 73,
   "metadata": {},
   "outputs": [],
   "source": [
    "def plotGraph(edges: list):\n",
    "    # Lets generate some seed positions for the nodes\n",
    "    G = ig.Graph(edges)\n",
    "    layout = G.layout_kamada_kawai(dim=3)\n",
    "    layout_array = np.array(layout.coords)\n",
    "    # Create edge traces\n",
    "    edge_traces = []\n",
    "    for edge in G.es:\n",
    "        start, end = edge.tuple\n",
    "        x0, y0, z0 = layout_array[start]\n",
    "        x1, y1, z1 = layout_array[end]\n",
    "        width = 5\n",
    "        edge_trace = go.Scatter3d(x=[x0, x1], y=[y0, y1], z=[z0, z1],\n",
    "                                line=dict(width=width, color='lightgray'),\n",
    "                                opacity=0.2,\n",
    "                                hoverinfo='none', mode='lines')\n",
    "        edge_traces.append(edge_trace)\n",
    "\n",
    "    node_trace = go.Scatter3d(x=layout_array[:, 0], y=layout_array[:, 1], z=layout_array[:, 2],\n",
    "                            mode='markers',\n",
    "                            marker=dict(size=3, \n",
    "                                        opacity=0.5,\n",
    "                                        line=None,\n",
    "                                        color='blue'),\n",
    "                            \n",
    "                            text=[f\"Node {i}\" for i in range(len(gridAtt))],\n",
    "                            hoverinfo='text')\n",
    "\n",
    "    # Create figure\n",
    "    fig = go.Figure(data=edge_traces + [node_trace])\n",
    "\n",
    "    # Update layout\n",
    "    fig.update_layout(\n",
    "        title='3D Graph with Feasibility Types',\n",
    "        scene=dict(\n",
    "            xaxis=dict(visible=False),\n",
    "            yaxis=dict(visible=False),\n",
    "            zaxis=dict(visible=False),\n",
    "        ),\n",
    "        showlegend=False,\n",
    "        margin=dict(l=0, r=0, b=0, t=0),\n",
    "        width=800\n",
    "    )\n",
    "\n",
    "    fig.show()"
   ]
  },
  {
   "cell_type": "code",
   "execution_count": 74,
   "metadata": {},
   "outputs": [],
   "source": [
    "#plotGraph(edges)\n",
    "clear_output()"
   ]
  },
  {
   "cell_type": "markdown",
   "metadata": {},
   "source": [
    "## Combining (\"Stitching\") 3 4-Component Systems into A Complex"
   ]
  },
  {
   "cell_type": "code",
   "execution_count": 75,
   "metadata": {},
   "outputs": [],
   "source": [
    "sys1 = [\"A\", \"B\", \"C\", \"D\"]\n",
    "sys2 = [\"B\", \"C\", \"D\", \"E\"]\n",
    "sys3 = [\"B\", \"D\", \"E\", \"F\"]"
   ]
  },
  {
   "cell_type": "code",
   "execution_count": 76,
   "metadata": {},
   "outputs": [],
   "source": [
    "offset = len(gridAtt)\n",
    "for i in range(len(gridAtt)):\n",
    "    for n in nList[i]:\n",
    "        edges.append((i+offset,n+offset))\n",
    "for i in range(len(gridAtt)):\n",
    "    for n in nList[i]:\n",
    "        edges.append((i+offset*2,n+offset*2))"
   ]
  },
  {
   "cell_type": "code",
   "execution_count": 77,
   "metadata": {},
   "outputs": [],
   "source": [
    "#plotGraph(edges)\n",
    "clear_output()"
   ]
  },
  {
   "cell_type": "code",
   "execution_count": 78,
   "metadata": {},
   "outputs": [
    {
     "name": "stdout",
     "output_type": "stream",
     "text": [
      "[83, 82, 79, 73, 63, 48, 27]\n"
     ]
    }
   ],
   "source": [
    "stitchingPoints = stitching.findStitchingPoints_py(dim, ndiv, components=[\"A\", \"B\", \"C\", \"D\"])\n",
    "print(stitchingPoints[\"A-B\"])"
   ]
  },
  {
   "cell_type": "code",
   "execution_count": 79,
   "metadata": {},
   "outputs": [],
   "source": [
    "stitchingPoints1 = stitching.findStitchingPoints_py(dim, ndiv, components=sys1, offset=0)\n",
    "stitchingPoints2 = stitching.findStitchingPoints_py(dim, ndiv, components=sys2, offset=len(gridAtt))\n",
    "stitchingPoints3 = stitching.findStitchingPoints_py(dim, ndiv, components=sys3, offset=len(gridAtt)*2)"
   ]
  },
  {
   "cell_type": "code",
   "execution_count": 80,
   "metadata": {},
   "outputs": [],
   "source": [
    "for i, j in zip(stitchingPoints1[\"B-C-D\"], stitchingPoints2[\"B-C-D\"]):\n",
    "    edges.append((i, j))"
   ]
  },
  {
   "cell_type": "code",
   "execution_count": 81,
   "metadata": {},
   "outputs": [],
   "source": [
    "for i, j in zip(stitchingPoints2[\"B-D-E\"], stitchingPoints3[\"B-D-E\"]):\n",
    "    edges.append((i, j))"
   ]
  },
  {
   "cell_type": "code",
   "execution_count": 82,
   "metadata": {},
   "outputs": [],
   "source": [
    "#plotGraph(edges)\n",
    "clear_output()"
   ]
  },
  {
   "cell_type": "markdown",
   "metadata": {},
   "source": [
    "## Combining (\"Stitching\") 9 3-Component Systems into A Complex\n",
    "### Disregard this section for now Adam"
   ]
  },
  {
   "cell_type": "code",
   "execution_count": 83,
   "metadata": {},
   "outputs": [],
   "source": [
    "dim = 3\n",
    "ndiv = 6\n",
    "nsys = 9\n",
    "gridAtt, nList = nimplex.simplex_graph_py(dim, ndiv)\n",
    "edges = []\n",
    "for i in range(len(gridAtt)):\n",
    "    for n in nList[i]:\n",
    "        edges.append((i,n))"
   ]
  },
  {
   "cell_type": "code",
   "execution_count": 84,
   "metadata": {},
   "outputs": [
    {
     "data": {
      "text/plain": [
       "28"
      ]
     },
     "execution_count": 84,
     "metadata": {},
     "output_type": "execute_result"
    }
   ],
   "source": [
    "len(gridAtt)"
   ]
  },
  {
   "cell_type": "code",
   "execution_count": 85,
   "metadata": {},
   "outputs": [],
   "source": [
    "offset = len(gridAtt)\n",
    "for sys in range(1,nsys+1):\n",
    "    for i in range(len(gridAtt)):\n",
    "        for n in nList[i]:\n",
    "            edges.append((i+offset*sys,n+offset*sys))"
   ]
  },
  {
   "cell_type": "code",
   "execution_count": 86,
   "metadata": {},
   "outputs": [],
   "source": [
    "#plotGraph(edges)\n",
    "clear_output()"
   ]
  },
  {
   "cell_type": "code",
   "execution_count": 87,
   "metadata": {},
   "outputs": [
    {
     "name": "stderr",
     "output_type": "stream",
     "text": [
      "/opt/conda/lib/python3.11/site-packages/pycalphad/io/tdb.py:293: UserWarning:\n",
      "\n",
      "The type definition character `&` in `TYPE_DEFINITION & GES A_P_D A2_BCC MAGNETIC -1.0 4.00000E-01 ` is not used by any phase.\n",
      "\n"
     ]
    }
   ],
   "source": [
    "from pycalphad import Database\n",
    "dbCrNiV = Database(\"ammap/databases/Co-Cr-Fe-Ni-V_choi2019.TDB\")\n",
    "dbCrFeTi = Database(\"ammap/databases/Cr-Fe-Ti_wang2017.tdb\")\n",
    "dbCrFeNi = Database(\"ammap/databases/Cr-Fe-Ni_miettinen1999.tdb\")\n",
    "dbCrNiTi= Database(\"ammap/databases/Cr-Ni-Ti_huang2018.tdb\")\n",
    "dbCrTiV= Database(\"ammap/databases/Cr-Ti-V_ghosh2002.tdb\")\n",
    "dbFeNiTi= Database(\"ammap/databases/Fe-Ni-Ti_dekeyzer2009.tdb\")\n",
    "dbFeNiV= Database(\"ammap/databases/Fe-Ni-V_zhao2014.tdb\")\n",
    "dbFeTiV= Database(\"ammap/databases/Fe-Ti-V_guo2012.TDB\")\n",
    "dbNiTiV= Database(\"ammap/databases/Ni-Ti-V_zou2018.tdb\")\n",
    "CrNiV = ['Cr', 'Ni', 'V']\n",
    "CrFeTi = ['Cr', 'Fe', 'Ti']\n",
    "CrFeNi = ['Cr', 'Fe', 'Ni']\n",
    "CrNiTi = ['Cr', 'Ni', 'Ti']\n",
    "CrTiV = ['Cr', 'Ti', 'V']\n",
    "FeNiTi = ['Fe', 'Ni', 'Ti']\n",
    "FeNiV = ['Fe', 'Ni', 'V']\n",
    "FeTiV = ['Fe', 'Ti', 'V']\n",
    "NiTiV = ['Ni', 'Ti', 'V']\n"
   ]
  },
  {
   "cell_type": "code",
   "execution_count": 88,
   "metadata": {},
   "outputs": [],
   "source": [
    "stitchingPointsCrNiV = stitching.findStitchingPoints_py(dim, ndiv, components=CrNiV, offset=0)\n",
    "stitchingPointsCrFeTi = stitching.findStitchingPoints_py(dim, ndiv, components=CrFeTi, offset=len(gridAtt))\n",
    "stitchingPointsCrFeNi = stitching.findStitchingPoints_py(dim, ndiv, components=CrFeNi, offset=len(gridAtt)*2)\n",
    "stitchingPointsCrNiTi = stitching.findStitchingPoints_py(dim, ndiv, components=CrNiTi, offset=len(gridAtt)*3)\n",
    "stitchingPointsCrTiV = stitching.findStitchingPoints_py(dim, ndiv, components=CrTiV, offset=len(gridAtt)*4)\n",
    "stitchingPointsFeNiTi = stitching.findStitchingPoints_py(dim, ndiv, components=FeNiTi, offset=len(gridAtt)*5)\n",
    "stitchingPointsFeNiV = stitching.findStitchingPoints_py(dim, ndiv, components=FeNiV, offset=len(gridAtt)*6)\n",
    "stitchingPointsFeTiV = stitching.findStitchingPoints_py(dim, ndiv, components=FeTiV, offset=len(gridAtt)*7)\n",
    "stitchingPointsNiTiV = stitching.findStitchingPoints_py(dim, ndiv, components=NiTiV, offset=len(gridAtt)*8)"
   ]
  },
  {
   "cell_type": "markdown",
   "metadata": {},
   "source": [
    "## Finding and Combining 3-Component Subspaces in 4-Component Space"
   ]
  },
  {
   "cell_type": "code",
   "execution_count": 89,
   "metadata": {},
   "outputs": [
    {
     "name": "stdout",
     "output_type": "stream",
     "text": [
      "[('A', 'B', 'C'), ('A', 'B', 'D'), ('A', 'C', 'D'), ('B', 'C', 'D')]\n"
     ]
    }
   ],
   "source": [
    "from itertools import combinations\n",
    "elements = [\"A\", \"B\", \"C\", \"D\"]\n",
    "ternaries = list(combinations(elements, 3))\n",
    "print(ternaries)"
   ]
  },
  {
   "cell_type": "code",
   "execution_count": 90,
   "metadata": {},
   "outputs": [],
   "source": [
    "gridAtt, nList = nimplex.simplex_graph_py(3,12)"
   ]
  },
  {
   "cell_type": "code",
   "execution_count": 91,
   "metadata": {},
   "outputs": [],
   "source": [
    "edges = []\n",
    "# Ternaries\n",
    "for i, ternary in enumerate(ternaries):\n",
    "    offset = i*len(gridAtt)\n",
    "    for i in range(len(gridAtt)):\n",
    "        for n in nList[i]:\n",
    "            edges.append((i+offset,n+offset))"
   ]
  },
  {
   "cell_type": "code",
   "execution_count": 92,
   "metadata": {},
   "outputs": [],
   "source": [
    "plotGraph(edges)\n",
    "clear_output()"
   ]
  },
  {
   "cell_type": "code",
   "execution_count": 93,
   "metadata": {},
   "outputs": [
    {
     "name": "stdout",
     "output_type": "stream",
     "text": [
      "('A', 'B'): occurs between ternary [(0, 1)]\n",
      "('A', 'C'): occurs between ternary [(0, 2)]\n",
      "('B', 'C'): occurs between ternary [(0, 3)]\n",
      "('A', 'D'): occurs between ternary [(1, 2)]\n",
      "('B', 'D'): occurs between ternary [(1, 3)]\n",
      "('C', 'D'): occurs between ternary [(2, 3)]\n"
     ]
    }
   ],
   "source": [
    "stitchingBinaries = {}\n",
    "\n",
    "for i, combo1 in enumerate(ternaries):\n",
    "    for j, combo2 in enumerate(ternaries[i+1:], start=i+1):\n",
    "        common = set(combo1) & set(combo2)\n",
    "        if len(common) == 2:\n",
    "            overlap = tuple(sorted(common))\n",
    "            if overlap not in stitchingBinaries:\n",
    "                stitchingBinaries[overlap] = []\n",
    "            stitchingBinaries[overlap].append((i, j))\n",
    "\n",
    "for overlap, pairs in stitchingBinaries.items():\n",
    "    print(f\"{overlap}: occurs between ternary {pairs}\")"
   ]
  },
  {
   "cell_type": "markdown",
   "metadata": {},
   "source": []
  },
  {
   "cell_type": "code",
   "execution_count": 94,
   "metadata": {},
   "outputs": [
    {
     "name": "stdout",
     "output_type": "stream",
     "text": [
      "Stitching 0 and 1 at ('A', 'B') from [90, 89, 87, 84, 80, 75, 69, 62, 54, 45, 35, 24, 12] to [181, 180, 178, 175, 171, 166, 160, 153, 145, 136, 126, 115, 103]\n",
      "Stitching 0 and 2 at ('A', 'C') from [90, 88, 85, 81, 76, 70, 63, 55, 46, 36, 25, 13, 0] to [272, 271, 269, 266, 262, 257, 251, 244, 236, 227, 217, 206, 194]\n",
      "Stitching 0 and 3 at ('B', 'C') from [12, 11, 10, 9, 8, 7, 6, 5, 4, 3, 2, 1, 0] to [363, 362, 360, 357, 353, 348, 342, 335, 327, 318, 308, 297, 285]\n",
      "Stitching 1 and 2 at ('A', 'D') from [181, 179, 176, 172, 167, 161, 154, 146, 137, 127, 116, 104, 91] to [272, 270, 267, 263, 258, 252, 245, 237, 228, 218, 207, 195, 182]\n",
      "Stitching 1 and 3 at ('B', 'D') from [103, 102, 101, 100, 99, 98, 97, 96, 95, 94, 93, 92, 91] to [363, 361, 358, 354, 349, 343, 336, 328, 319, 309, 298, 286, 273]\n",
      "Stitching 2 and 3 at ('C', 'D') from [194, 193, 192, 191, 190, 189, 188, 187, 186, 185, 184, 183, 182] to [285, 284, 283, 282, 281, 280, 279, 278, 277, 276, 275, 274, 273]\n"
     ]
    }
   ],
   "source": [
    "for stitchingBinary, ternaryPair in stitchingBinaries.items():\n",
    "    ternary1, ternary2 = ternaryPair[0][0], ternaryPair[0][1]\n",
    "    stitching1 = stitching.findStitchingPoints_py(\n",
    "        3, 12, \n",
    "        components=ternaries[ternary1],\n",
    "        offset=ternary1*len(gridAtt)\n",
    "        )[\"-\".join(stitchingBinary)]\n",
    "    stitching2 = stitching.findStitchingPoints_py(\n",
    "        3, 12, \n",
    "        components=ternaries[ternary2],\n",
    "        offset=ternary2*len(gridAtt)\n",
    "        )[\"-\".join(stitchingBinary)]\n",
    "    print(f\"Stitching {ternary1} and {ternary2} at {stitchingBinary} from {stitching1} to {stitching2}\")\n",
    "    for i, j in zip(stitching1, stitching2):\n",
    "        edges.append((i, j))"
   ]
  },
  {
   "cell_type": "code",
   "execution_count": 95,
   "metadata": {},
   "outputs": [],
   "source": [
    "#plotGraph(edges)\n",
    "clear_output()"
   ]
  },
  {
   "cell_type": "markdown",
   "metadata": {},
   "source": [
    "## In Higher Dimensional Cases (Stretched 2D Spaces Crossing Each Other in 3D)"
   ]
  },
  {
   "cell_type": "code",
   "execution_count": 96,
   "metadata": {},
   "outputs": [
    {
     "name": "stdout",
     "output_type": "stream",
     "text": [
      "[('A', 'B', 'C'), ('A', 'B', 'D'), ('A', 'B', 'E'), ('A', 'C', 'D'), ('A', 'C', 'E'), ('A', 'D', 'E'), ('B', 'C', 'D'), ('B', 'C', 'E'), ('B', 'D', 'E'), ('C', 'D', 'E')]\n"
     ]
    }
   ],
   "source": [
    "from itertools import combinations\n",
    "elements = [\"A\", \"B\", \"C\", \"D\", \"E\"]\n",
    "ternaries = list(combinations(elements, 3))\n",
    "print(ternaries)"
   ]
  },
  {
   "cell_type": "code",
   "execution_count": 97,
   "metadata": {},
   "outputs": [],
   "source": [
    "gridAtt, nList = nimplex.simplex_graph_py(3,12)"
   ]
  },
  {
   "cell_type": "code",
   "execution_count": 98,
   "metadata": {},
   "outputs": [],
   "source": [
    "edges = []\n",
    "# Ternaries\n",
    "for i, ternary in enumerate(ternaries):\n",
    "    offset = i*len(gridAtt)\n",
    "    for i in range(len(gridAtt)):\n",
    "        for n in nList[i]:\n",
    "            edges.append((i+offset,n+offset))\n"
   ]
  },
  {
   "cell_type": "code",
   "execution_count": 99,
   "metadata": {},
   "outputs": [],
   "source": [
    "#plotGraph(edges)\n",
    "clear_output()"
   ]
  },
  {
   "cell_type": "code",
   "execution_count": 100,
   "metadata": {},
   "outputs": [
    {
     "name": "stdout",
     "output_type": "stream",
     "text": [
      "('A', 'B'): occurs between ternary [(0, 1), (0, 2), (1, 2)]\n",
      "('A', 'C'): occurs between ternary [(0, 3), (0, 4), (3, 4)]\n",
      "('B', 'C'): occurs between ternary [(0, 6), (0, 7), (6, 7)]\n",
      "('A', 'D'): occurs between ternary [(1, 3), (1, 5), (3, 5)]\n",
      "('B', 'D'): occurs between ternary [(1, 6), (1, 8), (6, 8)]\n",
      "('A', 'E'): occurs between ternary [(2, 4), (2, 5), (4, 5)]\n",
      "('B', 'E'): occurs between ternary [(2, 7), (2, 8), (7, 8)]\n",
      "('C', 'D'): occurs between ternary [(3, 6), (3, 9), (6, 9)]\n",
      "('C', 'E'): occurs between ternary [(4, 7), (4, 9), (7, 9)]\n",
      "('D', 'E'): occurs between ternary [(5, 8), (5, 9), (8, 9)]\n"
     ]
    }
   ],
   "source": [
    "stitchingBinaries = {}\n",
    "\n",
    "for i, combo1 in enumerate(ternaries):\n",
    "    for j, combo2 in enumerate(ternaries[i+1:], start=i+1):\n",
    "        common = set(combo1) & set(combo2)\n",
    "        if len(common) == 2:\n",
    "            overlap = tuple(sorted(common))\n",
    "            if overlap not in stitchingBinaries:\n",
    "                stitchingBinaries[overlap] = []\n",
    "            stitchingBinaries[overlap].append((i, j))\n",
    "\n",
    "for overlap, pairs in stitchingBinaries.items():\n",
    "    print(f\"{overlap}: occurs between ternary {pairs}\")"
   ]
  },
  {
   "cell_type": "code",
   "execution_count": 101,
   "metadata": {},
   "outputs": [
    {
     "name": "stdout",
     "output_type": "stream",
     "text": [
      "Stitching 0 and 1 at ('A', 'B') from [90, 89, 87, 84, 80, 75, 69, 62, 54, 45, 35, 24, 12] to [181, 180, 178, 175, 171, 166, 160, 153, 145, 136, 126, 115, 103]\n",
      "Stitching 0 and 2 at ('A', 'B') from [90, 89, 87, 84, 80, 75, 69, 62, 54, 45, 35, 24, 12] to [272, 271, 269, 266, 262, 257, 251, 244, 236, 227, 217, 206, 194]\n",
      "Stitching 1 and 2 at ('A', 'B') from [181, 180, 178, 175, 171, 166, 160, 153, 145, 136, 126, 115, 103] to [272, 271, 269, 266, 262, 257, 251, 244, 236, 227, 217, 206, 194]\n",
      "Stitching 0 and 3 at ('A', 'C') from [90, 88, 85, 81, 76, 70, 63, 55, 46, 36, 25, 13, 0] to [363, 362, 360, 357, 353, 348, 342, 335, 327, 318, 308, 297, 285]\n",
      "Stitching 0 and 4 at ('A', 'C') from [90, 88, 85, 81, 76, 70, 63, 55, 46, 36, 25, 13, 0] to [454, 453, 451, 448, 444, 439, 433, 426, 418, 409, 399, 388, 376]\n",
      "Stitching 3 and 4 at ('A', 'C') from [363, 362, 360, 357, 353, 348, 342, 335, 327, 318, 308, 297, 285] to [454, 453, 451, 448, 444, 439, 433, 426, 418, 409, 399, 388, 376]\n",
      "Stitching 0 and 6 at ('B', 'C') from [12, 11, 10, 9, 8, 7, 6, 5, 4, 3, 2, 1, 0] to [636, 635, 633, 630, 626, 621, 615, 608, 600, 591, 581, 570, 558]\n",
      "Stitching 0 and 7 at ('B', 'C') from [12, 11, 10, 9, 8, 7, 6, 5, 4, 3, 2, 1, 0] to [727, 726, 724, 721, 717, 712, 706, 699, 691, 682, 672, 661, 649]\n",
      "Stitching 6 and 7 at ('B', 'C') from [636, 635, 633, 630, 626, 621, 615, 608, 600, 591, 581, 570, 558] to [727, 726, 724, 721, 717, 712, 706, 699, 691, 682, 672, 661, 649]\n",
      "Stitching 1 and 3 at ('A', 'D') from [181, 179, 176, 172, 167, 161, 154, 146, 137, 127, 116, 104, 91] to [363, 361, 358, 354, 349, 343, 336, 328, 319, 309, 298, 286, 273]\n",
      "Stitching 1 and 5 at ('A', 'D') from [181, 179, 176, 172, 167, 161, 154, 146, 137, 127, 116, 104, 91] to [545, 544, 542, 539, 535, 530, 524, 517, 509, 500, 490, 479, 467]\n",
      "Stitching 3 and 5 at ('A', 'D') from [363, 361, 358, 354, 349, 343, 336, 328, 319, 309, 298, 286, 273] to [545, 544, 542, 539, 535, 530, 524, 517, 509, 500, 490, 479, 467]\n",
      "Stitching 1 and 6 at ('B', 'D') from [103, 102, 101, 100, 99, 98, 97, 96, 95, 94, 93, 92, 91] to [636, 634, 631, 627, 622, 616, 609, 601, 592, 582, 571, 559, 546]\n",
      "Stitching 1 and 8 at ('B', 'D') from [103, 102, 101, 100, 99, 98, 97, 96, 95, 94, 93, 92, 91] to [818, 817, 815, 812, 808, 803, 797, 790, 782, 773, 763, 752, 740]\n",
      "Stitching 6 and 8 at ('B', 'D') from [636, 634, 631, 627, 622, 616, 609, 601, 592, 582, 571, 559, 546] to [818, 817, 815, 812, 808, 803, 797, 790, 782, 773, 763, 752, 740]\n",
      "Stitching 2 and 4 at ('A', 'E') from [272, 270, 267, 263, 258, 252, 245, 237, 228, 218, 207, 195, 182] to [454, 452, 449, 445, 440, 434, 427, 419, 410, 400, 389, 377, 364]\n",
      "Stitching 2 and 5 at ('A', 'E') from [272, 270, 267, 263, 258, 252, 245, 237, 228, 218, 207, 195, 182] to [545, 543, 540, 536, 531, 525, 518, 510, 501, 491, 480, 468, 455]\n",
      "Stitching 4 and 5 at ('A', 'E') from [454, 452, 449, 445, 440, 434, 427, 419, 410, 400, 389, 377, 364] to [545, 543, 540, 536, 531, 525, 518, 510, 501, 491, 480, 468, 455]\n",
      "Stitching 2 and 7 at ('B', 'E') from [194, 193, 192, 191, 190, 189, 188, 187, 186, 185, 184, 183, 182] to [727, 725, 722, 718, 713, 707, 700, 692, 683, 673, 662, 650, 637]\n",
      "Stitching 2 and 8 at ('B', 'E') from [194, 193, 192, 191, 190, 189, 188, 187, 186, 185, 184, 183, 182] to [818, 816, 813, 809, 804, 798, 791, 783, 774, 764, 753, 741, 728]\n",
      "Stitching 7 and 8 at ('B', 'E') from [727, 725, 722, 718, 713, 707, 700, 692, 683, 673, 662, 650, 637] to [818, 816, 813, 809, 804, 798, 791, 783, 774, 764, 753, 741, 728]\n",
      "Stitching 3 and 6 at ('C', 'D') from [285, 284, 283, 282, 281, 280, 279, 278, 277, 276, 275, 274, 273] to [558, 557, 556, 555, 554, 553, 552, 551, 550, 549, 548, 547, 546]\n",
      "Stitching 3 and 9 at ('C', 'D') from [285, 284, 283, 282, 281, 280, 279, 278, 277, 276, 275, 274, 273] to [909, 908, 906, 903, 899, 894, 888, 881, 873, 864, 854, 843, 831]\n",
      "Stitching 6 and 9 at ('C', 'D') from [558, 557, 556, 555, 554, 553, 552, 551, 550, 549, 548, 547, 546] to [909, 908, 906, 903, 899, 894, 888, 881, 873, 864, 854, 843, 831]\n",
      "Stitching 4 and 7 at ('C', 'E') from [376, 375, 374, 373, 372, 371, 370, 369, 368, 367, 366, 365, 364] to [649, 648, 647, 646, 645, 644, 643, 642, 641, 640, 639, 638, 637]\n",
      "Stitching 4 and 9 at ('C', 'E') from [376, 375, 374, 373, 372, 371, 370, 369, 368, 367, 366, 365, 364] to [909, 907, 904, 900, 895, 889, 882, 874, 865, 855, 844, 832, 819]\n",
      "Stitching 7 and 9 at ('C', 'E') from [649, 648, 647, 646, 645, 644, 643, 642, 641, 640, 639, 638, 637] to [909, 907, 904, 900, 895, 889, 882, 874, 865, 855, 844, 832, 819]\n",
      "Stitching 5 and 8 at ('D', 'E') from [467, 466, 465, 464, 463, 462, 461, 460, 459, 458, 457, 456, 455] to [740, 739, 738, 737, 736, 735, 734, 733, 732, 731, 730, 729, 728]\n",
      "Stitching 5 and 9 at ('D', 'E') from [467, 466, 465, 464, 463, 462, 461, 460, 459, 458, 457, 456, 455] to [831, 830, 829, 828, 827, 826, 825, 824, 823, 822, 821, 820, 819]\n",
      "Stitching 8 and 9 at ('D', 'E') from [740, 739, 738, 737, 736, 735, 734, 733, 732, 731, 730, 729, 728] to [831, 830, 829, 828, 827, 826, 825, 824, 823, 822, 821, 820, 819]\n"
     ]
    }
   ],
   "source": [
    "for stitchingBinary, ternaryPairList in stitchingBinaries.items():\n",
    "    for ternaryPair in ternaryPairList:\n",
    "        ternary1, ternary2 = ternaryPair[0], ternaryPair[1]\n",
    "        stitching1 = stitching.findStitchingPoints_py(\n",
    "            3, 12, \n",
    "            components=ternaries[ternary1],\n",
    "            offset=ternary1*len(gridAtt)\n",
    "            )[\"-\".join(stitchingBinary)]\n",
    "        stitching2 = stitching.findStitchingPoints_py(\n",
    "            3, 12, \n",
    "            components=ternaries[ternary2],\n",
    "            offset=ternary2*len(gridAtt)\n",
    "            )[\"-\".join(stitchingBinary)]\n",
    "        print(f\"Stitching {ternary1} and {ternary2} at {stitchingBinary} from {stitching1} to {stitching2}\")\n",
    "        for i, j in zip(stitching1, stitching2):\n",
    "            edges.append((i, j))"
   ]
  },
  {
   "cell_type": "code",
   "execution_count": 102,
   "metadata": {},
   "outputs": [],
   "source": [
    "#plotGraph(edges)\n",
    "clear_output()"
   ]
  },
  {
   "cell_type": "markdown",
   "metadata": {},
   "source": [
    "## Exploring Complex Formed by All 3-Component Alloy Subsystems of 5-Component Space (w. Infeasibility Gliding) #THIS ONE ADAM"
   ]
  },
  {
   "cell_type": "code",
   "execution_count": 103,
   "metadata": {},
   "outputs": [
    {
     "name": "stdout",
     "output_type": "stream",
     "text": [
      "('Fe', 'Ni', 'Cr')                       -> ([0, 1, 0, 0, 0], [0, 0, 1, 0, 0], [0, 1, 0, 0, 0])\n",
      "('Fe', 'Ni', 'V')                        -> ([0, 1, 0, 0, 0], [0, 0, 1, 0, 0], [0, 0, 0, 0, 1])\n",
      "('Fe', 'Ni', 'Ti')                       -> ([0, 1, 0, 0, 0], [0, 0, 1, 0, 0], [0, 0, 0, 1, 0])\n",
      "('Fe', 'Cr', 'V')                        -> ([0, 1, 0, 0, 0], [0, 1, 0, 0, 0], [0, 0, 0, 0, 1])\n",
      "('Fe', 'Cr', 'Ti')                       -> ([0, 1, 0, 0, 0], [0, 1, 0, 0, 0], [0, 0, 0, 1, 0])\n",
      "('Fe', 'V', 'Ti')                        -> ([0, 1, 0, 0, 0], [0, 0, 0, 0, 1], [0, 0, 0, 1, 0])\n",
      "('Ni', 'Cr', 'V')                        -> ([0, 0, 1, 0, 0], [0, 1, 0, 0, 0], [0, 0, 0, 0, 1])\n",
      "('Ni', 'Cr', 'Ti')                       -> ([0, 0, 1, 0, 0], [0, 1, 0, 0, 0], [0, 0, 0, 1, 0])\n",
      "('Ni', 'V', 'Ti')                        -> ([0, 0, 1, 0, 0], [0, 0, 0, 0, 1], [0, 0, 0, 1, 0])\n",
      "('Cr', 'V', 'Ti')                        -> ([0, 1, 0, 0, 0], [0, 0, 0, 0, 1], [0, 0, 0, 1, 0])\n"
     ]
    }
   ],
   "source": [
    "elementalSpaceComponents = [\"Cr\",\"Fe\",\"Ni\",\"Ti\",\"V\"]\n",
    "#attainableSpaceComponents = [\"SS304L\", \"Ni\", \"Cr\", \"V\", \"Ti\"]\n",
    "attainableSpaceComponents = [\"Fe\", \"Ni\", \"Cr\", \"V\", \"Ti\"]\n",
    "attainableSpaceComponentPositions = [\n",
    "    #\"Cr\",\"Fe\",\"Ni\",\"Ti\",\"V\"\n",
    "    #[0.1993865031, 0.7044989775,0.096114519430,0,0],\n",
    "    [0,1,0,0,0],\n",
    "    [0,0,1,0,0],\n",
    "    [0,1,0,0,0],\n",
    "    [0,0,0,0,1],\n",
    "    [0,0,0,1,0]\n",
    "]    \n",
    "ternaries = list(combinations(attainableSpaceComponents, 3))\n",
    "ternaries_CompPos = list(combinations(attainableSpaceComponentPositions, 3))\n",
    "ndiv = 8\n",
    "gridAtt, nList = nimplex.simplex_graph_py(3, ndiv)\n",
    "\n",
    "for tern, terncp in zip(ternaries, ternaries_CompPos):\n",
    "    print(f\"{str(tern):<40} -> {terncp}\")"
   ]
  },
  {
   "cell_type": "code",
   "execution_count": null,
   "metadata": {},
   "outputs": [],
   "source": [
    "     "
   ]
  },
  {
   "cell_type": "code",
   "execution_count": 104,
   "metadata": {},
   "outputs": [],
   "source": [
    "#From Adam\n",
    "# Edges list for graph plotting and path finding purposes\n",
    "edges = []\n",
    "# Connectivity list within each subsystem\n",
    "graphN = [[] for i in range(len(gridAtt * len(ternaries)))]\n",
    "# Connectivity list between subsystems\n",
    "graphNS = [[] for i in range(len(graphN))]\n",
    "compositions = []\n",
    "# Initialize spaces counter\n",
    "spaces = 0\n",
    "# Iterate over ternaries\n",
    "for i, terncp in enumerate(ternaries_CompPos):\n",
    "    offset = i*len(gridAtt)\n",
    "    for j in range(len(gridAtt)):\n",
    "        for n in nList[j]:\n",
    "            edges.append((j+offset,n+offset))\n",
    "            graphN[j+offset].append(n+offset)\n",
    "    gridAttTemp, gridElTemp = nimplex.embeddedpair_simplex_grid_fractional_py(terncp, ndiv)\n",
    "    compositions += gridElTemp\n",
    "    spaces += i"
   ]
  },
  {
   "cell_type": "code",
   "execution_count": 105,
   "metadata": {},
   "outputs": [
    {
     "data": {
      "text/plain": [
       "45"
      ]
     },
     "execution_count": 105,
     "metadata": {},
     "output_type": "execute_result"
    }
   ],
   "source": [
    "spaces"
   ]
  },
  {
   "cell_type": "code",
   "execution_count": 106,
   "metadata": {},
   "outputs": [],
   "source": [
    "# # Edges list for graph plotting and path finding purposes\n",
    "# edges = []\n",
    "# # Connectivity list within each subsystem\n",
    "# graphN = [[] for i in range(len(gridAtt * len(ternaries)))]\n",
    "# # Connectivity list between subsystems\n",
    "# graphNS = [[] for i in range(len(graphN))]\n",
    "# compositions = []\n",
    "# # Iterate over ternaries\n",
    "# for i, terncp in enumerate(ternaries_CompPos):\n",
    "#     offset = i*len(gridAtt)\n",
    "#     for j in range(len(gridAtt)):\n",
    "#         for n in nList[j]:\n",
    "#             edges.append((j+offset,n+offset))\n",
    "#             graphN[j+offset].append(n+offset)\n",
    "#     gridAttTemp, gridElTemp = nimplex.embeddedpair_simplex_grid_fractional_py(terncp, ndiv)\n",
    "#     compositions += gridElTemp"
   ]
  },
  {
   "cell_type": "code",
   "execution_count": 107,
   "metadata": {},
   "outputs": [],
   "source": [
    "def find_duplicates(lst):\n",
    "    duplicates_counts = {}\n",
    "    for item in lst:\n",
    "        # Use the string representation for complex/unhashable types\n",
    "        item_str = str(item)\n",
    "        if item_str in duplicates_counts:\n",
    "            duplicates_counts[item_str] += 1\n",
    "        else:\n",
    "            duplicates_counts[item_str] = 1\n",
    "\n",
    "    # Filter out items that only appear once\n",
    "    duplicates = {item: count for item, count in duplicates_counts.items() if count > 1}\n",
    "    \n",
    "    if not duplicates:\n",
    "        return \"No duplicates found in the list.\"\n",
    "    else:\n",
    "        result = \"Duplicates found:\"\n",
    "        for item, count in duplicates.items():\n",
    "            result += f\"{item} appears {count} times\"\n",
    "        return result.strip()"
   ]
  },
  {
   "cell_type": "code",
   "execution_count": 108,
   "metadata": {},
   "outputs": [
    {
     "data": {
      "text/plain": [
       "'Duplicates found:[0.0, 1.0, 0.0, 0.0, 0.0] appears 33 times[0.0, 0.875, 0.125, 0.0, 0.0] appears 12 times[0.0, 0.75, 0.25, 0.0, 0.0] appears 11 times[0.0, 0.625, 0.375, 0.0, 0.0] appears 10 times[0.0, 0.5, 0.5, 0.0, 0.0] appears 9 times[0.0, 0.375, 0.625, 0.0, 0.0] appears 8 times[0.0, 0.25, 0.75, 0.0, 0.0] appears 7 times[0.0, 0.125, 0.875, 0.0, 0.0] appears 6 times[0.0, 0.0, 1.0, 0.0, 0.0] appears 6 times[0.0, 0.0, 0.0, 0.0, 1.0] appears 6 times[0.0, 0.0, 0.125, 0.0, 0.875] appears 3 times[0.0, 0.0, 0.25, 0.0, 0.75] appears 3 times[0.0, 0.0, 0.375, 0.0, 0.625] appears 3 times[0.0, 0.0, 0.5, 0.0, 0.5] appears 3 times[0.0, 0.0, 0.625, 0.0, 0.375] appears 3 times[0.0, 0.0, 0.75, 0.0, 0.25] appears 3 times[0.0, 0.0, 0.875, 0.0, 0.125] appears 3 times[0.0, 0.125, 0.0, 0.0, 0.875] appears 6 times[0.0, 0.125, 0.125, 0.0, 0.75] appears 2 times[0.0, 0.125, 0.25, 0.0, 0.625] appears 2 times[0.0, 0.125, 0.375, 0.0, 0.5] appears 2 times[0.0, 0.125, 0.5, 0.0, 0.375] appears 2 times[0.0, 0.125, 0.625, 0.0, 0.25] appears 2 times[0.0, 0.125, 0.75, 0.0, 0.125] appears 2 times[0.0, 0.25, 0.0, 0.0, 0.75] appears 7 times[0.0, 0.25, 0.125, 0.0, 0.625] appears 2 times[0.0, 0.25, 0.25, 0.0, 0.5] appears 2 times[0.0, 0.25, 0.375, 0.0, 0.375] appears 2 times[0.0, 0.25, 0.5, 0.0, 0.25] appears 2 times[0.0, 0.25, 0.625, 0.0, 0.125] appears 2 times[0.0, 0.375, 0.0, 0.0, 0.625] appears 8 times[0.0, 0.375, 0.125, 0.0, 0.5] appears 2 times[0.0, 0.375, 0.25, 0.0, 0.375] appears 2 times[0.0, 0.375, 0.375, 0.0, 0.25] appears 2 times[0.0, 0.375, 0.5, 0.0, 0.125] appears 2 times[0.0, 0.5, 0.0, 0.0, 0.5] appears 9 times[0.0, 0.5, 0.125, 0.0, 0.375] appears 2 times[0.0, 0.5, 0.25, 0.0, 0.25] appears 2 times[0.0, 0.5, 0.375, 0.0, 0.125] appears 2 times[0.0, 0.625, 0.0, 0.0, 0.375] appears 10 times[0.0, 0.625, 0.125, 0.0, 0.25] appears 2 times[0.0, 0.625, 0.25, 0.0, 0.125] appears 2 times[0.0, 0.75, 0.0, 0.0, 0.25] appears 11 times[0.0, 0.75, 0.125, 0.0, 0.125] appears 2 times[0.0, 0.875, 0.0, 0.0, 0.125] appears 12 times[0.0, 0.0, 0.0, 1.0, 0.0] appears 6 times[0.0, 0.0, 0.125, 0.875, 0.0] appears 3 times[0.0, 0.0, 0.25, 0.75, 0.0] appears 3 times[0.0, 0.0, 0.375, 0.625, 0.0] appears 3 times[0.0, 0.0, 0.5, 0.5, 0.0] appears 3 times[0.0, 0.0, 0.625, 0.375, 0.0] appears 3 times[0.0, 0.0, 0.75, 0.25, 0.0] appears 3 times[0.0, 0.0, 0.875, 0.125, 0.0] appears 3 times[0.0, 0.125, 0.0, 0.875, 0.0] appears 6 times[0.0, 0.125, 0.125, 0.75, 0.0] appears 2 times[0.0, 0.125, 0.25, 0.625, 0.0] appears 2 times[0.0, 0.125, 0.375, 0.5, 0.0] appears 2 times[0.0, 0.125, 0.5, 0.375, 0.0] appears 2 times[0.0, 0.125, 0.625, 0.25, 0.0] appears 2 times[0.0, 0.125, 0.75, 0.125, 0.0] appears 2 times[0.0, 0.25, 0.0, 0.75, 0.0] appears 7 times[0.0, 0.25, 0.125, 0.625, 0.0] appears 2 times[0.0, 0.25, 0.25, 0.5, 0.0] appears 2 times[0.0, 0.25, 0.375, 0.375, 0.0] appears 2 times[0.0, 0.25, 0.5, 0.25, 0.0] appears 2 times[0.0, 0.25, 0.625, 0.125, 0.0] appears 2 times[0.0, 0.375, 0.0, 0.625, 0.0] appears 8 times[0.0, 0.375, 0.125, 0.5, 0.0] appears 2 times[0.0, 0.375, 0.25, 0.375, 0.0] appears 2 times[0.0, 0.375, 0.375, 0.25, 0.0] appears 2 times[0.0, 0.375, 0.5, 0.125, 0.0] appears 2 times[0.0, 0.5, 0.0, 0.5, 0.0] appears 9 times[0.0, 0.5, 0.125, 0.375, 0.0] appears 2 times[0.0, 0.5, 0.25, 0.25, 0.0] appears 2 times[0.0, 0.5, 0.375, 0.125, 0.0] appears 2 times[0.0, 0.625, 0.0, 0.375, 0.0] appears 10 times[0.0, 0.625, 0.125, 0.25, 0.0] appears 2 times[0.0, 0.625, 0.25, 0.125, 0.0] appears 2 times[0.0, 0.75, 0.0, 0.25, 0.0] appears 11 times[0.0, 0.75, 0.125, 0.125, 0.0] appears 2 times[0.0, 0.875, 0.0, 0.125, 0.0] appears 12 times[0.0, 0.0, 0.0, 0.875, 0.125] appears 3 times[0.0, 0.0, 0.0, 0.75, 0.25] appears 3 times[0.0, 0.0, 0.0, 0.625, 0.375] appears 3 times[0.0, 0.0, 0.0, 0.5, 0.5] appears 3 times[0.0, 0.0, 0.0, 0.375, 0.625] appears 3 times[0.0, 0.0, 0.0, 0.25, 0.75] appears 3 times[0.0, 0.0, 0.0, 0.125, 0.875] appears 3 times[0.0, 0.125, 0.0, 0.75, 0.125] appears 2 times[0.0, 0.125, 0.0, 0.625, 0.25] appears 2 times[0.0, 0.125, 0.0, 0.5, 0.375] appears 2 times[0.0, 0.125, 0.0, 0.375, 0.5] appears 2 times[0.0, 0.125, 0.0, 0.25, 0.625] appears 2 times[0.0, 0.125, 0.0, 0.125, 0.75] appears 2 times[0.0, 0.25, 0.0, 0.625, 0.125] appears 2 times[0.0, 0.25, 0.0, 0.5, 0.25] appears 2 times[0.0, 0.25, 0.0, 0.375, 0.375] appears 2 times[0.0, 0.25, 0.0, 0.25, 0.5] appears 2 times[0.0, 0.25, 0.0, 0.125, 0.625] appears 2 times[0.0, 0.375, 0.0, 0.5, 0.125] appears 2 times[0.0, 0.375, 0.0, 0.375, 0.25] appears 2 times[0.0, 0.375, 0.0, 0.25, 0.375] appears 2 times[0.0, 0.375, 0.0, 0.125, 0.5] appears 2 times[0.0, 0.5, 0.0, 0.375, 0.125] appears 2 times[0.0, 0.5, 0.0, 0.25, 0.25] appears 2 times[0.0, 0.5, 0.0, 0.125, 0.375] appears 2 times[0.0, 0.625, 0.0, 0.25, 0.125] appears 2 times[0.0, 0.625, 0.0, 0.125, 0.25] appears 2 times[0.0, 0.75, 0.0, 0.125, 0.125] appears 2 times'"
      ]
     },
     "execution_count": 108,
     "metadata": {},
     "output_type": "execute_result"
    }
   ],
   "source": [
    "find_duplicates(compositions)"
   ]
  },
  {
   "cell_type": "code",
   "execution_count": 43,
   "metadata": {},
   "outputs": [
    {
     "name": "stdout",
     "output_type": "stream",
     "text": [
      "[0.0, 1.0, 0.0, 0.0, 0.0]\n",
      "[0.0, 1.0, 0.0, 0.0, 0.0]\n"
     ]
    }
   ],
   "source": [
    "print(compositions[0])\n",
    "print(compositions[17])"
   ]
  },
  {
   "cell_type": "code",
   "execution_count": 44,
   "metadata": {},
   "outputs": [
    {
     "name": "stdout",
     "output_type": "stream",
     "text": [
      "('Fe', 'Ni'): occurs between ternary [(0, 1), (0, 2), (1, 2)]\n",
      "('Cr', 'Fe'): occurs between ternary [(0, 3), (0, 4), (3, 4)]\n",
      "('Cr', 'Ni'): occurs between ternary [(0, 6), (0, 7), (6, 7)]\n",
      "('Fe', 'V'): occurs between ternary [(1, 3), (1, 5), (3, 5)]\n",
      "('Ni', 'V'): occurs between ternary [(1, 6), (1, 8), (6, 8)]\n",
      "('Fe', 'Ti'): occurs between ternary [(2, 4), (2, 5), (4, 5)]\n",
      "('Ni', 'Ti'): occurs between ternary [(2, 7), (2, 8), (7, 8)]\n",
      "('Cr', 'V'): occurs between ternary [(3, 6), (3, 9), (6, 9)]\n",
      "('Cr', 'Ti'): occurs between ternary [(4, 7), (4, 9), (7, 9)]\n",
      "('Ti', 'V'): occurs between ternary [(5, 8), (5, 9), (8, 9)]\n"
     ]
    }
   ],
   "source": [
    "stitchingBinaries = {}\n",
    "\n",
    "for i, combo1 in enumerate(ternaries):\n",
    "    for j, combo2 in enumerate(ternaries[i+1:], start=i+1):\n",
    "        common = set(combo1) & set(combo2)\n",
    "        if len(common) == 2:\n",
    "            overlap = tuple(sorted(common))\n",
    "            if overlap not in stitchingBinaries:\n",
    "                stitchingBinaries[overlap] = []\n",
    "            stitchingBinaries[overlap].append((i, j))\n",
    "\n",
    "for overlap, pairs in stitchingBinaries.items():\n",
    "    print(f\"{overlap}: occurs between ternary {pairs}\")"
   ]
  },
  {
   "cell_type": "code",
   "execution_count": 45,
   "metadata": {},
   "outputs": [
    {
     "name": "stdout",
     "output_type": "stream",
     "text": [
      "Stitching 0 and 1 at ('Fe', 'Ni') from [44, 43, 41, 38, 34, 29, 23, 16, 8] to [89, 88, 86, 83, 79, 74, 68, 61, 53]\n",
      "Stitching 0 and 2 at ('Fe', 'Ni') from [44, 43, 41, 38, 34, 29, 23, 16, 8] to [134, 133, 131, 128, 124, 119, 113, 106, 98]\n",
      "Stitching 1 and 2 at ('Fe', 'Ni') from [89, 88, 86, 83, 79, 74, 68, 61, 53] to [134, 133, 131, 128, 124, 119, 113, 106, 98]\n",
      "Stitching 0 and 3 at ('Cr', 'Fe') from [0, 9, 17, 24, 30, 35, 39, 42, 44] to [143, 151, 158, 164, 169, 173, 176, 178, 179]\n",
      "Stitching 0 and 4 at ('Cr', 'Fe') from [0, 9, 17, 24, 30, 35, 39, 42, 44] to [188, 196, 203, 209, 214, 218, 221, 223, 224]\n",
      "Stitching 3 and 4 at ('Cr', 'Fe') from [143, 151, 158, 164, 169, 173, 176, 178, 179] to [188, 196, 203, 209, 214, 218, 221, 223, 224]\n",
      "Stitching 0 and 6 at ('Cr', 'Ni') from [0, 1, 2, 3, 4, 5, 6, 7, 8] to [278, 286, 293, 299, 304, 308, 311, 313, 314]\n",
      "Stitching 0 and 7 at ('Cr', 'Ni') from [0, 1, 2, 3, 4, 5, 6, 7, 8] to [323, 331, 338, 344, 349, 353, 356, 358, 359]\n",
      "Stitching 6 and 7 at ('Cr', 'Ni') from [278, 286, 293, 299, 304, 308, 311, 313, 314] to [323, 331, 338, 344, 349, 353, 356, 358, 359]\n",
      "Stitching 1 and 3 at ('Fe', 'V') from [89, 87, 84, 80, 75, 69, 62, 54, 45] to [179, 177, 174, 170, 165, 159, 152, 144, 135]\n",
      "Stitching 1 and 5 at ('Fe', 'V') from [89, 87, 84, 80, 75, 69, 62, 54, 45] to [269, 268, 266, 263, 259, 254, 248, 241, 233]\n",
      "Stitching 3 and 5 at ('Fe', 'V') from [179, 177, 174, 170, 165, 159, 152, 144, 135] to [269, 268, 266, 263, 259, 254, 248, 241, 233]\n",
      "Stitching 1 and 6 at ('Ni', 'V') from [53, 52, 51, 50, 49, 48, 47, 46, 45] to [314, 312, 309, 305, 300, 294, 287, 279, 270]\n",
      "Stitching 1 and 8 at ('Ni', 'V') from [53, 52, 51, 50, 49, 48, 47, 46, 45] to [404, 403, 401, 398, 394, 389, 383, 376, 368]\n",
      "Stitching 6 and 8 at ('Ni', 'V') from [314, 312, 309, 305, 300, 294, 287, 279, 270] to [404, 403, 401, 398, 394, 389, 383, 376, 368]\n",
      "Stitching 2 and 4 at ('Fe', 'Ti') from [134, 132, 129, 125, 120, 114, 107, 99, 90] to [224, 222, 219, 215, 210, 204, 197, 189, 180]\n",
      "Stitching 2 and 5 at ('Fe', 'Ti') from [134, 132, 129, 125, 120, 114, 107, 99, 90] to [269, 267, 264, 260, 255, 249, 242, 234, 225]\n",
      "Stitching 4 and 5 at ('Fe', 'Ti') from [224, 222, 219, 215, 210, 204, 197, 189, 180] to [269, 267, 264, 260, 255, 249, 242, 234, 225]\n",
      "Stitching 2 and 7 at ('Ni', 'Ti') from [98, 97, 96, 95, 94, 93, 92, 91, 90] to [359, 357, 354, 350, 345, 339, 332, 324, 315]\n",
      "Stitching 2 and 8 at ('Ni', 'Ti') from [98, 97, 96, 95, 94, 93, 92, 91, 90] to [404, 402, 399, 395, 390, 384, 377, 369, 360]\n",
      "Stitching 7 and 8 at ('Ni', 'Ti') from [359, 357, 354, 350, 345, 339, 332, 324, 315] to [404, 402, 399, 395, 390, 384, 377, 369, 360]\n",
      "Stitching 3 and 6 at ('Cr', 'V') from [143, 142, 141, 140, 139, 138, 137, 136, 135] to [278, 277, 276, 275, 274, 273, 272, 271, 270]\n",
      "Stitching 3 and 9 at ('Cr', 'V') from [143, 142, 141, 140, 139, 138, 137, 136, 135] to [449, 448, 446, 443, 439, 434, 428, 421, 413]\n",
      "Stitching 6 and 9 at ('Cr', 'V') from [278, 277, 276, 275, 274, 273, 272, 271, 270] to [449, 448, 446, 443, 439, 434, 428, 421, 413]\n",
      "Stitching 4 and 7 at ('Cr', 'Ti') from [188, 187, 186, 185, 184, 183, 182, 181, 180] to [323, 322, 321, 320, 319, 318, 317, 316, 315]\n",
      "Stitching 4 and 9 at ('Cr', 'Ti') from [188, 187, 186, 185, 184, 183, 182, 181, 180] to [449, 447, 444, 440, 435, 429, 422, 414, 405]\n",
      "Stitching 7 and 9 at ('Cr', 'Ti') from [323, 322, 321, 320, 319, 318, 317, 316, 315] to [449, 447, 444, 440, 435, 429, 422, 414, 405]\n",
      "Stitching 5 and 8 at ('Ti', 'V') from [225, 226, 227, 228, 229, 230, 231, 232, 233] to [360, 361, 362, 363, 364, 365, 366, 367, 368]\n",
      "Stitching 5 and 9 at ('Ti', 'V') from [225, 226, 227, 228, 229, 230, 231, 232, 233] to [405, 406, 407, 408, 409, 410, 411, 412, 413]\n",
      "Stitching 8 and 9 at ('Ti', 'V') from [360, 361, 362, 363, 364, 365, 366, 367, 368] to [405, 406, 407, 408, 409, 410, 411, 412, 413]\n"
     ]
    }
   ],
   "source": [
    "for stitchingBinary, ternaryPairList in stitchingBinaries.items():\n",
    "    for ternaryPair in ternaryPairList:\n",
    "        ternary1, ternary2 = ternaryPair[0], ternaryPair[1]\n",
    "        stitching1 = stitching.findStitchingPoints_py(\n",
    "            3, ndiv, \n",
    "            components=ternaries[ternary1],\n",
    "            offset=ternary1*len(gridAtt)\n",
    "            )[\"-\".join(stitchingBinary)]\n",
    "        stitching2 = stitching.findStitchingPoints_py(\n",
    "            3, ndiv, \n",
    "            components=ternaries[ternary2],\n",
    "            offset=ternary2*len(gridAtt)\n",
    "            )[\"-\".join(stitchingBinary)]\n",
    "        print(f\"Stitching {ternary1} and {ternary2} at {stitchingBinary} from {stitching1} to {stitching2}\")\n",
    "        for i, j in zip(stitching1, stitching2):\n",
    "            edges.append((i, j))\n",
    "            graphNS[i].append(j)"
   ]
  },
  {
   "cell_type": "code",
   "execution_count": 46,
   "metadata": {},
   "outputs": [
    {
     "name": "stderr",
     "output_type": "stream",
     "text": [
      "/opt/conda/lib/python3.11/site-packages/pycalphad/io/tdb.py:293: UserWarning:\n",
      "\n",
      "The type definition character `&` in `TYPE_DEFINITION & GES A_P_D A2_BCC MAGNETIC -1.0 4.00000E-01 ` is not used by any phase.\n",
      "\n"
     ]
    },
    {
     "name": "stdout",
     "output_type": "stream",
     "text": [
      "Unique phases for ammap/databases/Co-Cr-Fe-Ni-V_choi2019.TDB: ['HIGH_SIGMA', 'M3V', 'BCC_A2', 'HCP_A3', 'B2_BCC', 'L12_FCC', 'LIQUID', 'NI2V', 'NI2V7', 'SIGMA', 'COV3', 'FCC_A1']\n",
      "Unique phases for ammap/databases/Cr-Fe-Ti_wang2017.tdb: ['BCC_A2', 'BCC_B2', 'HCP_A3', 'C14', 'C15', 'LIQUID', 'SIGMA', 'C36', 'TI5CR7FE17', 'FCC_A1']\n",
      "Unique phases for ammap/databases/Cr-Fe-Ni_miettinen1999.tdb: ['BCC_A2', 'HCP_A3', 'LIQUID', 'SIGMA', 'FCC_A1']\n",
      "Unique phases for ammap/databases/Cr-Ni-Ti_huang2018.tdb: ['BCC_A2', 'LAVES_C14', 'LAVES_C15', 'HCP_A3', 'NI3TI', 'LIQUID', 'LAVES_C36', 'NITI', 'NITI2', 'FCC_A1']\n",
      "Unique phases for ammap/databases/Cr-Ti-V_ghosh2002.tdb: ['BCC_A2', 'LAVES_C14', 'LAVES_C15', 'HCP_A3', 'LIQUID', 'LAVES_C36']\n",
      "Unique phases for ammap/databases/Fe-Ni-Ti_dekeyzer2009.tdb: ['NITI2', 'A2', 'A3', 'NI3TI', 'C14', 'LIQUID', 'FCC4', 'BCC2', 'A1']\n",
      "Unique phases for ammap/databases/Fe-Ni-V_zhao2014.tdb: ['BCC_A2', 'LAVES_C14', 'A2_BCC', 'A15_NI2V7', 'CBCC_A12', 'FE4N', 'HCP_A3', 'LAVES_C15', 'LIQUID', 'NI2V', 'SIGMA', 'D022_NI3V', 'CUB_A13', 'FCC_A1']\n",
      "Unique phases for ammap/databases/Fe-Ti-V_guo2012.TDB: ['BCC_A2', 'HCP_A3', 'B2', 'C14', 'LIQUID', 'SIGMA', 'FCC_A1']\n",
      "Unique phases for ammap/databases/Ni-Ti-V_zou2018.tdb: ['BCC_A2', 'LAVES_C14', 'CBCC_A12', 'LAVES_C15', 'HCP_A3', 'NI3V', 'B2', 'NI3TI', 'DIAMOND_A4', 'LIQUID', 'NI2V', 'SIGMA', 'CUB_A13', 'NITI2', 'NIV3', 'FCC_A1', 'BCT_A5']\n"
     ]
    }
   ],
   "source": [
    "from pycalphad import Database\n",
    "\n",
    "# List of database file paths\n",
    "db_files = [\n",
    "    \"ammap/databases/Co-Cr-Fe-Ni-V_choi2019.TDB\",\n",
    "    \"ammap/databases/Cr-Fe-Ti_wang2017.tdb\",\n",
    "    \"ammap/databases/Cr-Fe-Ni_miettinen1999.tdb\",\n",
    "    \"ammap/databases/Cr-Ni-Ti_huang2018.tdb\",\n",
    "    \"ammap/databases/Cr-Ti-V_ghosh2002.tdb\",\n",
    "    \"ammap/databases/Fe-Ni-Ti_dekeyzer2009.tdb\",\n",
    "    \"ammap/databases/Fe-Ni-V_zhao2014.tdb\",\n",
    "    \"ammap/databases/Fe-Ti-V_guo2012.TDB\",\n",
    "    \"ammap/databases/Ni-Ti-V_zou2018.tdb\"\n",
    "]\n",
    "\n",
    "# Dictionary to store unique phases for each database\n",
    "unique_phases = {}\n",
    "\n",
    "# Iterate through each database file\n",
    "for db_file in db_files:\n",
    "    dbf = Database(db_file)\n",
    "    phases = list(set(dbf.phases.keys()))\n",
    "    unique_phases[db_file] = phases\n",
    "\n",
    "# Print unique phases for each database\n",
    "for db_file, phases in unique_phases.items():\n",
    "    print(f\"Unique phases for {db_file}: {phases}\")"
   ]
  },
  {
   "cell_type": "code",
   "execution_count": 64,
   "metadata": {},
   "outputs": [
    {
     "name": "stdout",
     "output_type": "stream",
     "text": [
      "['Ti', 'Zr', 'Hf', 'W', 'Nb', 'Ta', 'Mo']\n",
      "Loaded TDB file with phases considered: ['BCC_A2', 'LAVES_C14', 'LAVES_C15', 'HCP_A3', 'LIQUID', 'LAVES_C36', 'FCC_A1']\n"
     ]
    }
   ],
   "source": [
    "\n",
    "dbf = Database(\"CrHfMoNbTaTiVWZr_9element_Feb2023.tdb\")\n",
    "phases = list(set(dbf.phases.keys()))\n",
    "print(elementalSpaceComponents)\n",
    "print(f'Loaded TDB file with phases considered: {phases}')\n",
    "from myPycalphadCallable import equilibrium_callable"
   ]
  },
  {
   "cell_type": "code",
   "execution_count": 65,
   "metadata": {},
   "outputs": [
    {
     "name": "stderr",
     "output_type": "stream",
     "text": [
      "/opt/conda/lib/python3.11/site-packages/pycalphad/io/tdb.py:293: UserWarning:\n",
      "\n",
      "The type definition character `&` in `TYPE_DEFINITION & GES A_P_D A2_BCC MAGNETIC -1.0 4.00000E-01 ` is not used by any phase.\n",
      "\n",
      "/opt/conda/lib/python3.11/site-packages/pycalphad/model.py:1278: UserWarning:\n",
      "\n",
      "The order-disorder model for \"FCC4\" has a contribution from the physical property model `magnetic_energy`. Partitioned physical properties are not correctly substituted into the disordered part of the energy. THE GIBBS ENERGY CALCULATED FOR THIS PHASE MAY BE INCORRECT. Please see the discussion in https://github.com/pycalphad/pycalphad/pull/311 for more details.\n",
      "\n"
     ]
    },
    {
     "name": "stdout",
     "output_type": "stream",
     "text": [
      "Imported equilibrium_callable_CrFeTi_08bbfb9a: <function equilibrium_callable at 0x7fea385ab560>\n",
      "Imported equilibrium_callable_CrTiV_ed4c332b: <function equilibrium_callable at 0x7fea385a8e00>\n",
      "Imported equilibrium_callable_FeTiV_fa95b3ee: <function equilibrium_callable at 0x7fea23d76200>\n",
      "Imported equilibrium_callable_FeNiV_b9b0384d: <function equilibrium_callable at 0x7fea23d74400>\n",
      "Imported equilibrium_callable_CrNiTi_e320ddd5: <function equilibrium_callable at 0x7fea238f23e0>\n",
      "Imported equilibrium_callable_FeNiTi_06a49695: <function equilibrium_callable at 0x7fea385a85e0>\n",
      "Imported equilibrium_callable_NiTiV_1d83c99c: <function equilibrium_callable at 0x7fea236a0ea0>\n",
      "Imported equilibrium_callable_NiCrV_0f8b67c1: <function equilibrium_callable at 0x7fea23078860>\n",
      "Imported equilibrium_callable_NiCrFe_ce8329fb: <function equilibrium_callable at 0x7fea22a5ee80>\n"
     ]
    }
   ],
   "source": [
    "import os\n",
    "import importlib\n",
    "\n",
    "# Directory containing the equilibrium files\n",
    "directory = \"ammap/callables/multi_system_equilibrium_and_scheil\"\n",
    "\n",
    "# Get all files starting with \"equilibrium\"\n",
    "equilibrium_files = [f for f in os.listdir(directory) if f.startswith(\"equilibrium\") and f.endswith(\".py\")]\n",
    "\n",
    "# Dictionary to store imported callables with unique names\n",
    "equilibrium_callables = {}\n",
    "\n",
    "# Import each equilibrium file and store the callable with a unique name\n",
    "for file in equilibrium_files:\n",
    "    module_name = file[:-3]  # Remove the .py extension\n",
    "    module_path = f\"ammap.callables.multi_system_equilibrium_and_scheil.{module_name}\"\n",
    "    module = importlib.import_module(module_path)\n",
    "    callable_name = f\"{module_name}\"\n",
    "    equilibrium_callables[callable_name] = getattr(module, \"equilibrium_callable\")\n",
    "\n",
    "# Print the imported callables\n",
    "for name, func in equilibrium_callables.items():\n",
    "    print(f\"Imported {name}: {func}\")"
   ]
  },
  {
   "cell_type": "code",
   "execution_count": 66,
   "metadata": {},
   "outputs": [
    {
     "ename": "KeyError",
     "evalue": "6",
     "output_type": "error",
     "traceback": [
      "\u001b[0;31m---------------------------------------------------------------------------\u001b[0m",
      "\u001b[0;31mKeyError\u001b[0m                                  Traceback (most recent call last)",
      "Cell \u001b[0;32mIn[66], line 13\u001b[0m\n\u001b[1;32m     10\u001b[0m used_indices \u001b[38;5;241m=\u001b[39m [np\u001b[38;5;241m.\u001b[39mnonzero(point)[\u001b[38;5;241m0\u001b[39m][:\u001b[38;5;241m3\u001b[39m] \u001b[38;5;28;01mfor\u001b[39;00m point \u001b[38;5;129;01min\u001b[39;00m compositions]\n\u001b[1;32m     12\u001b[0m \u001b[38;5;66;03m# Map the used indices to their corresponding elements for each point\u001b[39;00m\n\u001b[0;32m---> 13\u001b[0m used_elements \u001b[38;5;241m=\u001b[39m [[index_to_element[i] \u001b[38;5;28;01mfor\u001b[39;00m i \u001b[38;5;129;01min\u001b[39;00m indices] \u001b[38;5;28;01mfor\u001b[39;00m indices \u001b[38;5;129;01min\u001b[39;00m used_indices]\n\u001b[1;32m     15\u001b[0m \u001b[38;5;66;03m# Display the first 5 results as a sample\u001b[39;00m\n\u001b[1;32m     16\u001b[0m \u001b[38;5;28mprint\u001b[39m(used_elements)\n",
      "Cell \u001b[0;32mIn[66], line 13\u001b[0m, in \u001b[0;36m<listcomp>\u001b[0;34m(.0)\u001b[0m\n\u001b[1;32m     10\u001b[0m used_indices \u001b[38;5;241m=\u001b[39m [np\u001b[38;5;241m.\u001b[39mnonzero(point)[\u001b[38;5;241m0\u001b[39m][:\u001b[38;5;241m3\u001b[39m] \u001b[38;5;28;01mfor\u001b[39;00m point \u001b[38;5;129;01min\u001b[39;00m compositions]\n\u001b[1;32m     12\u001b[0m \u001b[38;5;66;03m# Map the used indices to their corresponding elements for each point\u001b[39;00m\n\u001b[0;32m---> 13\u001b[0m used_elements \u001b[38;5;241m=\u001b[39m [[index_to_element[i] \u001b[38;5;28;01mfor\u001b[39;00m i \u001b[38;5;129;01min\u001b[39;00m indices] \u001b[38;5;28;01mfor\u001b[39;00m indices \u001b[38;5;129;01min\u001b[39;00m used_indices]\n\u001b[1;32m     15\u001b[0m \u001b[38;5;66;03m# Display the first 5 results as a sample\u001b[39;00m\n\u001b[1;32m     16\u001b[0m \u001b[38;5;28mprint\u001b[39m(used_elements)\n",
      "Cell \u001b[0;32mIn[66], line 13\u001b[0m, in \u001b[0;36m<listcomp>\u001b[0;34m(.0)\u001b[0m\n\u001b[1;32m     10\u001b[0m used_indices \u001b[38;5;241m=\u001b[39m [np\u001b[38;5;241m.\u001b[39mnonzero(point)[\u001b[38;5;241m0\u001b[39m][:\u001b[38;5;241m3\u001b[39m] \u001b[38;5;28;01mfor\u001b[39;00m point \u001b[38;5;129;01min\u001b[39;00m compositions]\n\u001b[1;32m     12\u001b[0m \u001b[38;5;66;03m# Map the used indices to their corresponding elements for each point\u001b[39;00m\n\u001b[0;32m---> 13\u001b[0m used_elements \u001b[38;5;241m=\u001b[39m [[index_to_element[i] \u001b[38;5;28;01mfor\u001b[39;00m i \u001b[38;5;129;01min\u001b[39;00m indices] \u001b[38;5;28;01mfor\u001b[39;00m indices \u001b[38;5;129;01min\u001b[39;00m used_indices]\n\u001b[1;32m     15\u001b[0m \u001b[38;5;66;03m# Display the first 5 results as a sample\u001b[39;00m\n\u001b[1;32m     16\u001b[0m \u001b[38;5;28mprint\u001b[39m(used_elements)\n",
      "\u001b[0;31mKeyError\u001b[0m: 6"
     ]
    }
   ],
   "source": [
    "# Define the elemental space components\n",
    "elementalSpaceComponents = [\"Cr\", \"Fe\", \"Ni\", \"Ti\", \"V\"]\n",
    "\n",
    "# Create a mapping of index positions to their corresponding elemental names\n",
    "index_to_element = {i: element for i, element in enumerate(elementalSpaceComponents)}\n",
    "\n",
    "# Assuming 'compositions' is your list of 450 points\n",
    "\n",
    "# Get the indices of the used dimensions (dimensions where values are non-zero)\n",
    "used_indices = [np.nonzero(point)[0][:3] for point in compositions]\n",
    "\n",
    "# Map the used indices to their corresponding elements for each point\n",
    "used_elements = [[index_to_element[i] for i in indices] for indices in used_indices]\n",
    "\n",
    "# Display the first 5 results as a sample\n",
    "print(used_elements)"
   ]
  },
  {
   "cell_type": "code",
   "execution_count": null,
   "metadata": {},
   "outputs": [
    {
     "name": "stdout",
     "output_type": "stream",
     "text": [
      "[['Fe', 'Ni', 'V'], ['Fe', 'Ni', 'V'], ['Fe', 'Ni', 'V'], ['Fe', 'Ni', 'V'], ['Fe', 'Ni', 'V'], ['Fe', 'Ni', 'V'], ['Fe', 'Ni', 'V'], ['Fe', 'Ni', 'V'], ['Fe', 'Ni', 'V'], ['Fe', 'Ni', 'V'], ['Fe', 'Ni', 'V'], ['Fe', 'Ni', 'V'], ['Fe', 'Ni', 'V'], ['Fe', 'Ni', 'V'], ['Fe', 'Ni', 'V'], ['Fe', 'Ni', 'V'], ['Fe', 'Ni', 'V'], ['Fe', 'Ni', 'V'], ['Fe', 'Ni', 'V'], ['Fe', 'Ni', 'V'], ['Fe', 'Ni', 'V'], ['Fe', 'Ni', 'V'], ['Fe', 'Ni', 'V'], ['Fe', 'Ni', 'V'], ['Fe', 'Ni', 'V'], ['Fe', 'Ni', 'V'], ['Fe', 'Ni', 'V'], ['Fe', 'Ni', 'V'], ['Fe', 'Ni', 'V'], ['Fe', 'Ni', 'V'], ['Fe', 'Ni', 'V'], ['Fe', 'Ni', 'V'], ['Fe', 'Ni', 'V'], ['Fe', 'Ni', 'V'], ['Fe', 'Ni', 'V'], ['Fe', 'Ni', 'V'], ['Fe', 'Ni', 'V'], ['Fe', 'Ni', 'V'], ['Fe', 'Ni', 'V'], ['Fe', 'Ni', 'V'], ['Fe', 'Ni', 'V'], ['Fe', 'Ni', 'V'], ['Fe', 'Ni', 'V'], ['Fe', 'Ni', 'V'], ['Fe', 'Ni', 'V'], ['Fe', 'Ni', 'V'], ['Fe', 'Ni', 'V'], ['Fe', 'Ni', 'V'], ['Fe', 'Ni', 'V'], ['Fe', 'Ni', 'V'], ['Fe', 'Ni', 'V'], ['Fe', 'Ni', 'V'], ['Fe', 'Ni', 'V'], ['Fe', 'Ni', 'V'], ['Fe', 'Ni', 'V'], ['Fe', 'Ni', 'V'], ['Fe', 'Ni', 'V'], ['Fe', 'Ni', 'V'], ['Fe', 'Ni', 'V'], ['Fe', 'Ni', 'V'], ['Fe', 'Ni', 'V'], ['Fe', 'Ni', 'V'], ['Fe', 'Ni', 'V'], ['Fe', 'Ni', 'V'], ['Fe', 'Ni', 'V'], ['Fe', 'Ni', 'V'], ['Fe', 'Ni', 'V'], ['Fe', 'Ni', 'V'], ['Fe', 'Ni', 'V'], ['Fe', 'Ni', 'V'], ['Fe', 'Ni', 'V'], ['Fe', 'Ni', 'V'], ['Fe', 'Ni', 'V'], ['Fe', 'Ni', 'V'], ['Fe', 'Ni', 'V'], ['Fe', 'Ni', 'V'], ['Fe', 'Ni', 'V'], ['Fe', 'Ni', 'V'], ['Fe', 'Ni', 'V'], ['Fe', 'Ni', 'V'], ['Fe', 'Ni', 'V'], ['Fe', 'Ni', 'V'], ['Fe', 'Ni', 'V'], ['Fe', 'Ni', 'V'], ['Fe', 'Ni', 'V'], ['Fe', 'Ni', 'V'], ['Fe', 'Ni', 'Ti'], ['Fe', 'Ni', 'Ti'], ['Fe', 'Ni', 'Ti'], ['Fe', 'Ni', 'Ti'], ['Fe', 'Ni', 'Ti'], ['Fe', 'Ni', 'Ti'], ['Fe', 'Ni', 'Ti'], ['Fe', 'Ni', 'Ti'], ['Fe', 'Ni', 'Ti'], ['Fe', 'Ni', 'Ti'], ['Fe', 'Ni', 'Ti'], ['Fe', 'Ni', 'Ti'], ['Fe', 'Ni', 'Ti'], ['Fe', 'Ni', 'Ti'], ['Fe', 'Ni', 'Ti'], ['Fe', 'Ni', 'Ti'], ['Fe', 'Ni', 'Ti'], ['Fe', 'Ni', 'Ti'], ['Fe', 'Ni', 'Ti'], ['Fe', 'Ni', 'Ti'], ['Fe', 'Ni', 'Ti'], ['Fe', 'Ni', 'Ti'], ['Fe', 'Ni', 'Ti'], ['Fe', 'Ni', 'Ti'], ['Fe', 'Ni', 'Ti'], ['Fe', 'Ni', 'Ti'], ['Fe', 'Ni', 'Ti'], ['Fe', 'Ni', 'Ti'], ['Fe', 'Ni', 'Ti'], ['Fe', 'Ni', 'Ti'], ['Fe', 'Ni', 'Ti'], ['Fe', 'Ni', 'Ti'], ['Fe', 'Ni', 'Ti'], ['Fe', 'Ni', 'Ti'], ['Fe', 'Ni', 'Ti'], ['Fe', 'Ni', 'Ti'], ['Fe', 'Ni', 'Ti'], ['Fe', 'Ni', 'Ti'], ['Fe', 'Ni', 'Ti'], ['Fe', 'Ni', 'Ti'], ['Fe', 'Ni', 'Ti'], ['Fe', 'Ni', 'Ti'], ['Fe', 'Ni', 'Ti'], ['Fe', 'Ni', 'Ti'], ['Fe', 'Ni', 'Ti'], ['Fe', 'Ti', 'V'], ['Fe', 'Ti', 'V'], ['Fe', 'Ti', 'V'], ['Fe', 'Ti', 'V'], ['Fe', 'Ti', 'V'], ['Fe', 'Ti', 'V'], ['Fe', 'Ti', 'V'], ['Fe', 'Ti', 'V'], ['Fe', 'Ti', 'V'], ['Fe', 'Ti', 'V'], ['Fe', 'Ti', 'V'], ['Fe', 'Ti', 'V'], ['Fe', 'Ti', 'V'], ['Fe', 'Ti', 'V'], ['Fe', 'Ti', 'V'], ['Fe', 'Ti', 'V'], ['Fe', 'Ti', 'V'], ['Fe', 'Ti', 'V'], ['Fe', 'Ti', 'V'], ['Fe', 'Ti', 'V'], ['Fe', 'Ti', 'V'], ['Fe', 'Ti', 'V'], ['Fe', 'Ti', 'V'], ['Fe', 'Ti', 'V'], ['Fe', 'Ti', 'V'], ['Fe', 'Ti', 'V'], ['Fe', 'Ti', 'V'], ['Fe', 'Ti', 'V'], ['Fe', 'Ti', 'V'], ['Fe', 'Ti', 'V'], ['Fe', 'Ti', 'V'], ['Fe', 'Ti', 'V'], ['Fe', 'Ti', 'V'], ['Fe', 'Ti', 'V'], ['Fe', 'Ti', 'V'], ['Fe', 'Ti', 'V'], ['Fe', 'Ti', 'V'], ['Fe', 'Ti', 'V'], ['Fe', 'Ti', 'V'], ['Fe', 'Ti', 'V'], ['Fe', 'Ti', 'V'], ['Fe', 'Ti', 'V'], ['Fe', 'Ti', 'V'], ['Fe', 'Ti', 'V'], ['Fe', 'Ti', 'V'], ['Fe', 'Ti', 'V'], ['Fe', 'Ti', 'V'], ['Fe', 'Ti', 'V'], ['Fe', 'Ti', 'V'], ['Fe', 'Ti', 'V'], ['Fe', 'Ti', 'V'], ['Fe', 'Ti', 'V'], ['Fe', 'Ti', 'V'], ['Fe', 'Ti', 'V'], ['Fe', 'Ti', 'V'], ['Fe', 'Ti', 'V'], ['Fe', 'Ti', 'V'], ['Fe', 'Ti', 'V'], ['Fe', 'Ti', 'V'], ['Fe', 'Ti', 'V'], ['Fe', 'Ti', 'V'], ['Fe', 'Ti', 'V'], ['Fe', 'Ti', 'V'], ['Fe', 'Ti', 'V'], ['Fe', 'Ti', 'V'], ['Fe', 'Ti', 'V'], ['Fe', 'Ti', 'V'], ['Fe', 'Ti', 'V'], ['Fe', 'Ti', 'V'], ['Fe', 'Ti', 'V'], ['Fe', 'Ti', 'V'], ['Fe', 'Ti', 'V'], ['Fe', 'Ti', 'V'], ['Fe', 'Ti', 'V'], ['Fe', 'Ti', 'V'], ['Fe', 'Ti', 'V'], ['Fe', 'Ti', 'V'], ['Fe', 'Ti', 'V'], ['Fe', 'Ti', 'V'], ['Fe', 'Ti', 'V'], ['Fe', 'Ti', 'V'], ['Fe', 'Ti', 'V'], ['Fe', 'Ti', 'V'], ['Fe', 'Ti', 'V'], ['Fe', 'Ti', 'V'], ['Fe', 'Ti', 'V'], ['Fe', 'Ti', 'V'], ['Fe', 'Ti', 'V'], ['Fe', 'Ti', 'V'], ['Fe', 'Ti', 'V'], ['Fe', 'Ti', 'V'], ['Fe', 'Ti', 'V'], ['Fe', 'Ti', 'V'], ['Fe', 'Ti', 'V'], ['Fe', 'Ti', 'V'], ['Fe', 'Ti', 'V'], ['Fe', 'Ti', 'V'], ['Fe', 'Ti', 'V'], ['Fe', 'Ti', 'V'], ['Fe', 'Ti', 'V'], ['Fe', 'Ti', 'V'], ['Fe', 'Ti', 'V'], ['Fe', 'Ti', 'V'], ['Fe', 'Ti', 'V'], ['Fe', 'Ti', 'V'], ['Fe', 'Ti', 'V'], ['Fe', 'Ti', 'V'], ['Fe', 'Ti', 'V'], ['Fe', 'Ti', 'V'], ['Fe', 'Ti', 'V'], ['Fe', 'Ti', 'V'], ['Fe', 'Ti', 'V'], ['Fe', 'Ti', 'V'], ['Fe', 'Ti', 'V'], ['Fe', 'Ti', 'V'], ['Fe', 'Ti', 'V'], ['Fe', 'Ti', 'V'], ['Fe', 'Ti', 'V'], ['Fe', 'Ti', 'V'], ['Fe', 'Ti', 'V'], ['Fe', 'Ti', 'V'], ['Fe', 'Ti', 'V'], ['Fe', 'Ti', 'V'], ['Fe', 'Ti', 'V'], ['Fe', 'Ti', 'V'], ['Fe', 'Ti', 'V'], ['Fe', 'Ti', 'V'], ['Fe', 'Ti', 'V'], ['Fe', 'Ti', 'V'], ['Fe', 'Ti', 'V'], ['Fe', 'Ti', 'V'], ['Fe', 'Ti', 'V'], ['Fe', 'Ti', 'V'], ['Fe', 'Ti', 'V'], ['Fe', 'Ti', 'V'], ['Fe', 'Ni', 'V'], ['Fe', 'Ni', 'V'], ['Fe', 'Ni', 'V'], ['Fe', 'Ni', 'V'], ['Fe', 'Ni', 'V'], ['Fe', 'Ni', 'V'], ['Fe', 'Ni', 'V'], ['Fe', 'Ni', 'V'], ['Fe', 'Ni', 'V'], ['Fe', 'Ni', 'V'], ['Fe', 'Ni', 'V'], ['Fe', 'Ni', 'V'], ['Fe', 'Ni', 'V'], ['Fe', 'Ni', 'V'], ['Fe', 'Ni', 'V'], ['Fe', 'Ni', 'V'], ['Fe', 'Ni', 'V'], ['Fe', 'Ni', 'V'], ['Fe', 'Ni', 'V'], ['Fe', 'Ni', 'V'], ['Fe', 'Ni', 'V'], ['Fe', 'Ni', 'V'], ['Fe', 'Ni', 'V'], ['Fe', 'Ni', 'V'], ['Fe', 'Ni', 'V'], ['Fe', 'Ni', 'V'], ['Fe', 'Ni', 'V'], ['Fe', 'Ni', 'V'], ['Fe', 'Ni', 'V'], ['Fe', 'Ni', 'V'], ['Fe', 'Ni', 'V'], ['Fe', 'Ni', 'V'], ['Fe', 'Ni', 'V'], ['Fe', 'Ni', 'V'], ['Fe', 'Ni', 'V'], ['Fe', 'Ni', 'V'], ['Fe', 'Ni', 'V'], ['Fe', 'Ni', 'V'], ['Fe', 'Ni', 'V'], ['Fe', 'Ni', 'V'], ['Fe', 'Ni', 'V'], ['Fe', 'Ni', 'V'], ['Fe', 'Ni', 'V'], ['Fe', 'Ni', 'V'], ['Fe', 'Ni', 'V'], ['Fe', 'Ni', 'Ti'], ['Fe', 'Ni', 'Ti'], ['Fe', 'Ni', 'Ti'], ['Fe', 'Ni', 'Ti'], ['Fe', 'Ni', 'Ti'], ['Fe', 'Ni', 'Ti'], ['Fe', 'Ni', 'Ti'], ['Fe', 'Ni', 'Ti'], ['Fe', 'Ni', 'Ti'], ['Fe', 'Ni', 'Ti'], ['Fe', 'Ni', 'Ti'], ['Fe', 'Ni', 'Ti'], ['Fe', 'Ni', 'Ti'], ['Fe', 'Ni', 'Ti'], ['Fe', 'Ni', 'Ti'], ['Fe', 'Ni', 'Ti'], ['Fe', 'Ni', 'Ti'], ['Fe', 'Ni', 'Ti'], ['Fe', 'Ni', 'Ti'], ['Fe', 'Ni', 'Ti'], ['Fe', 'Ni', 'Ti'], ['Fe', 'Ni', 'Ti'], ['Fe', 'Ni', 'Ti'], ['Fe', 'Ni', 'Ti'], ['Fe', 'Ni', 'Ti'], ['Fe', 'Ni', 'Ti'], ['Fe', 'Ni', 'Ti'], ['Fe', 'Ni', 'Ti'], ['Fe', 'Ni', 'Ti'], ['Fe', 'Ni', 'Ti'], ['Fe', 'Ni', 'Ti'], ['Fe', 'Ni', 'Ti'], ['Fe', 'Ni', 'Ti'], ['Fe', 'Ni', 'Ti'], ['Fe', 'Ni', 'Ti'], ['Fe', 'Ni', 'Ti'], ['Fe', 'Ni', 'Ti'], ['Fe', 'Ni', 'Ti'], ['Fe', 'Ni', 'Ti'], ['Fe', 'Ni', 'Ti'], ['Fe', 'Ni', 'Ti'], ['Fe', 'Ni', 'Ti'], ['Fe', 'Ni', 'Ti'], ['Fe', 'Ni', 'Ti'], ['Fe', 'Ni', 'Ti'], ['Ni', 'Ti', 'V'], ['Ni', 'Ti', 'V'], ['Ni', 'Ti', 'V'], ['Ni', 'Ti', 'V'], ['Ni', 'Ti', 'V'], ['Ni', 'Ti', 'V'], ['Ni', 'Ti', 'V'], ['Ni', 'Ti', 'V'], ['Ni', 'Ti', 'V'], ['Ni', 'Ti', 'V'], ['Ni', 'Ti', 'V'], ['Ni', 'Ti', 'V'], ['Ni', 'Ti', 'V'], ['Ni', 'Ti', 'V'], ['Ni', 'Ti', 'V'], ['Ni', 'Ti', 'V'], ['Ni', 'Ti', 'V'], ['Ni', 'Ti', 'V'], ['Ni', 'Ti', 'V'], ['Ni', 'Ti', 'V'], ['Ni', 'Ti', 'V'], ['Ni', 'Ti', 'V'], ['Ni', 'Ti', 'V'], ['Ni', 'Ti', 'V'], ['Ni', 'Ti', 'V'], ['Ni', 'Ti', 'V'], ['Ni', 'Ti', 'V'], ['Ni', 'Ti', 'V'], ['Ni', 'Ti', 'V'], ['Ni', 'Ti', 'V'], ['Ni', 'Ti', 'V'], ['Ni', 'Ti', 'V'], ['Ni', 'Ti', 'V'], ['Ni', 'Ti', 'V'], ['Ni', 'Ti', 'V'], ['Ni', 'Ti', 'V'], ['Ni', 'Ti', 'V'], ['Ni', 'Ti', 'V'], ['Ni', 'Ti', 'V'], ['Ni', 'Ti', 'V'], ['Ni', 'Ti', 'V'], ['Ni', 'Ti', 'V'], ['Ni', 'Ti', 'V'], ['Ni', 'Ti', 'V'], ['Ni', 'Ti', 'V'], ['Fe', 'Ti', 'V'], ['Fe', 'Ti', 'V'], ['Fe', 'Ti', 'V'], ['Fe', 'Ti', 'V'], ['Fe', 'Ti', 'V'], ['Fe', 'Ti', 'V'], ['Fe', 'Ti', 'V'], ['Fe', 'Ti', 'V'], ['Fe', 'Ti', 'V'], ['Fe', 'Ti', 'V'], ['Fe', 'Ti', 'V'], ['Fe', 'Ti', 'V'], ['Fe', 'Ti', 'V'], ['Fe', 'Ti', 'V'], ['Fe', 'Ti', 'V'], ['Fe', 'Ti', 'V'], ['Fe', 'Ti', 'V'], ['Fe', 'Ti', 'V'], ['Fe', 'Ti', 'V'], ['Fe', 'Ti', 'V'], ['Fe', 'Ti', 'V'], ['Fe', 'Ti', 'V'], ['Fe', 'Ti', 'V'], ['Fe', 'Ti', 'V'], ['Fe', 'Ti', 'V'], ['Fe', 'Ti', 'V'], ['Fe', 'Ti', 'V'], ['Fe', 'Ti', 'V'], ['Fe', 'Ti', 'V'], ['Fe', 'Ti', 'V'], ['Fe', 'Ti', 'V'], ['Fe', 'Ti', 'V'], ['Fe', 'Ti', 'V'], ['Fe', 'Ti', 'V'], ['Fe', 'Ti', 'V'], ['Fe', 'Ti', 'V'], ['Fe', 'Ti', 'V'], ['Fe', 'Ti', 'V'], ['Fe', 'Ti', 'V'], ['Fe', 'Ti', 'V'], ['Fe', 'Ti', 'V'], ['Fe', 'Ti', 'V'], ['Fe', 'Ti', 'V'], ['Fe', 'Ti', 'V'], ['Fe', 'Ti', 'V'], ['Cr', 'Fe', 'Ni'], ['Cr', 'Fe', 'Ni'], ['Cr', 'Fe', 'Ni'], ['Cr', 'Fe', 'Ni']]\n"
     ]
    }
   ],
   "source": [
    "# Define the elemental space components\n",
    "elementalSpaceComponents = [\"Cr\", \"Fe\", \"Ni\", \"Ti\", \"V\"]\n",
    "\n",
    "# Create a mapping of index positions to their corresponding elemental names\n",
    "index_to_element = {i: element for i, element in enumerate(elementalSpaceComponents)}\n",
    "\n",
    "# Function to find the next ternary space\n",
    "def find_next_ternary_space(compositions, start_index):\n",
    "    for i in range(start_index, len(compositions)):\n",
    "        nonzero_indices = np.nonzero(compositions[i])[0]\n",
    "        if len(nonzero_indices) >= 3:\n",
    "            return nonzero_indices[:3]\n",
    "    return None  # Return None if no suitable ternary space is found\n",
    "\n",
    "# Process the compositions\n",
    "used_elements = []\n",
    "current_ternary_space = None\n",
    "for i, point in enumerate(compositions):\n",
    "    nonzero_indices = np.nonzero(point)[0]\n",
    "    \n",
    "    if len(nonzero_indices) < 3 and current_ternary_space is None:\n",
    "        # Find the next ternary space\n",
    "        current_ternary_space = find_next_ternary_space(compositions, i)\n",
    "        if current_ternary_space is None:\n",
    "            # If no suitable ternary space is found, use the first three elements\n",
    "            current_ternary_space = np.array([0, 1, 2])\n",
    "    \n",
    "    if len(nonzero_indices) >= 3:\n",
    "        # If this point has 3 or more non-zero elements, use them and reset current_ternary_space\n",
    "        elements = [index_to_element[j] for j in nonzero_indices[:3]]\n",
    "        current_ternary_space = None\n",
    "    else:\n",
    "        # Use the current ternary space\n",
    "        elements = [index_to_element[j] for j in current_ternary_space]\n",
    "    \n",
    "    used_elements.append(elements)\n",
    "\n",
    "# Display the first 5 results as a sample\n",
    "print(used_elements)"
   ]
  },
  {
   "cell_type": "code",
   "execution_count": null,
   "metadata": {},
   "outputs": [
    {
     "name": "stdout",
     "output_type": "stream",
     "text": [
      "[['Fe', 'Ti', 'V'], ['Fe', 'Ni', 'Cr'], ['Fe', 'Ni', 'Cr'], ['Fe', 'Ni', 'Cr'], ['Fe', 'Ni', 'Cr'], ['Fe', 'Ni', 'Cr'], ['Fe', 'Ni', 'Cr'], ['Fe', 'Ni', 'Cr'], ['Fe', 'Ni', 'Cr'], ['Fe', 'Ni', 'Cr'], ['Fe', 'Ni', 'Cr'], ['Fe', 'Ni', 'Cr'], ['Fe', 'Ni', 'Cr'], ['Fe', 'Ni', 'Cr'], ['Fe', 'Ni', 'Cr'], ['Fe', 'Ni', 'Cr'], ['Fe', 'Ni', 'Cr'], ['Fe', 'Ni', 'Cr'], ['Fe', 'Ni', 'Cr'], ['Fe', 'Ni', 'Cr'], ['Fe', 'Ni', 'Cr'], ['Fe', 'Ni', 'Cr'], ['Fe', 'Ni', 'Cr'], ['Fe', 'Ni', 'Cr'], ['Fe', 'Ni', 'Cr'], ['Fe', 'Ni', 'Cr'], ['Fe', 'Ni', 'Cr'], ['Fe', 'Ni', 'Cr'], ['Fe', 'Ni', 'Cr'], ['Fe', 'Ni', 'Cr'], ['Fe', 'Ni', 'Cr'], ['Fe', 'Ni', 'Cr'], ['Fe', 'Ni', 'Cr'], ['Fe', 'Ni', 'Cr'], ['Fe', 'Ni', 'Cr'], ['Fe', 'Ni', 'Cr'], ['Fe', 'Ni', 'Cr'], ['Fe', 'Ni', 'Cr'], ['Fe', 'Ni', 'Cr'], ['Fe', 'Ni', 'Cr'], ['Fe', 'Ni', 'Cr'], ['Fe', 'Ni', 'Cr'], ['Fe', 'Ni', 'Cr'], ['Fe', 'Ni', 'Cr'], ['Fe', 'Ni', 'Cr'], ['V', 'Ti', 'Cr'], ['Ni', 'V', 'Cr'], ['Ni', 'V', 'Cr'], ['Ni', 'V', 'Cr'], ['Ni', 'V', 'Cr'], ['Ni', 'V', 'Cr'], ['Ni', 'V', 'Cr'], ['Ni', 'V', 'Cr'], ['Ni', 'V', 'Cr'], ['Fe', 'V', 'Ni'], ['Fe', 'Ni', 'V'], ['Fe', 'Ni', 'V'], ['Fe', 'Ni', 'V'], ['Fe', 'Ni', 'V'], ['Fe', 'Ni', 'V'], ['Fe', 'Ni', 'V'], ['Fe', 'Ni', 'V'], ['Fe', 'Ni', 'V'], ['Fe', 'Ni', 'V'], ['Fe', 'Ni', 'V'], ['Fe', 'Ni', 'V'], ['Fe', 'Ni', 'V'], ['Fe', 'Ni', 'V'], ['Fe', 'Ni', 'V'], ['Fe', 'Ni', 'V'], ['Fe', 'Ni', 'V'], ['Fe', 'Ni', 'V'], ['Fe', 'Ni', 'V'], ['Fe', 'Ni', 'V'], ['Fe', 'Ni', 'V'], ['Fe', 'Ni', 'V'], ['Fe', 'Ni', 'V'], ['Fe', 'Ni', 'V'], ['Fe', 'Ni', 'V'], ['Fe', 'Ni', 'V'], ['Fe', 'Ni', 'V'], ['Fe', 'Ni', 'V'], ['Fe', 'Ni', 'V'], ['Fe', 'Ni', 'V'], ['Fe', 'Ni', 'V'], ['Fe', 'Ni', 'V'], ['Fe', 'Ni', 'V'], ['Fe', 'Ni', 'V'], ['Fe', 'Ni', 'V'], ['Fe', 'Ni', 'V'], ['Ti', 'V', 'Fe'], ['Ni', 'Ti', 'Cr'], ['Ni', 'Ti', 'Cr'], ['Ni', 'Ti', 'Cr'], ['Ni', 'Ti', 'Cr'], ['Ni', 'Ti', 'Cr'], ['Ni', 'Ti', 'Cr'], ['Ni', 'Ti', 'Cr'], ['Ni', 'Ti', 'Cr'], ['Fe', 'Ti', 'Cr'], ['Fe', 'Ni', 'Ti'], ['Fe', 'Ni', 'Ti'], ['Fe', 'Ni', 'Ti'], ['Fe', 'Ni', 'Ti'], ['Fe', 'Ni', 'Ti'], ['Fe', 'Ni', 'Ti'], ['Fe', 'Ni', 'Ti'], ['Fe', 'Ni', 'Ti'], ['Fe', 'Ni', 'Ti'], ['Fe', 'Ni', 'Ti'], ['Fe', 'Ni', 'Ti'], ['Fe', 'Ni', 'Ti'], ['Fe', 'Ni', 'Ti'], ['Fe', 'Ni', 'Ti'], ['Fe', 'Ni', 'Ti'], ['Fe', 'Ni', 'Ti'], ['Fe', 'Ni', 'Ti'], ['Fe', 'Ni', 'Ti'], ['Fe', 'Ni', 'Ti'], ['Fe', 'Ni', 'Ti'], ['Fe', 'Ni', 'Ti'], ['Fe', 'Ni', 'Ti'], ['Fe', 'Ni', 'Ti'], ['Fe', 'Ni', 'Ti'], ['Fe', 'Ni', 'Ti'], ['Fe', 'Ni', 'Ti'], ['Fe', 'Ni', 'Ti'], ['Fe', 'Ni', 'Ti'], ['Fe', 'Ni', 'Ti'], ['Fe', 'Ni', 'Ti'], ['Fe', 'Ni', 'Ti'], ['Fe', 'Ni', 'Ti'], ['Fe', 'Ni', 'Ti'], ['Fe', 'Ni', 'Ti'], ['Fe', 'Ni', 'Ti'], ['V', 'Ni', 'Cr'], ['Fe', 'V', 'Ti'], ['Fe', 'V', 'Ti'], ['Fe', 'V', 'Ti'], ['Fe', 'V', 'Ti'], ['Fe', 'V', 'Ti'], ['Fe', 'V', 'Ti'], ['Fe', 'V', 'Ti'], ['Fe', 'V', 'Ti'], ['Fe', 'V', 'Ti'], ['Fe', 'V', 'Ti'], ['Fe', 'V', 'Ti'], ['Fe', 'V', 'Ti'], ['Fe', 'V', 'Ti'], ['Fe', 'V', 'Ti'], ['Fe', 'V', 'Ti'], ['Fe', 'V', 'Ti'], ['Fe', 'V', 'Ti'], ['Fe', 'V', 'Ti'], ['Fe', 'V', 'Ti'], ['Fe', 'V', 'Ti'], ['Fe', 'V', 'Ti'], ['Fe', 'V', 'Ti'], ['Fe', 'V', 'Ti'], ['Fe', 'V', 'Ti'], ['Fe', 'V', 'Ti'], ['Fe', 'V', 'Ti'], ['Fe', 'V', 'Ti'], ['Fe', 'V', 'Ti'], ['Fe', 'V', 'Ti'], ['Fe', 'V', 'Ti'], ['Fe', 'V', 'Ti'], ['Fe', 'V', 'Ti'], ['Fe', 'V', 'Ti'], ['Fe', 'V', 'Ti'], ['Fe', 'V', 'Ti'], ['Fe', 'V', 'Ti'], ['Fe', 'V', 'Ti'], ['Fe', 'V', 'Ti'], ['Fe', 'V', 'Ti'], ['Fe', 'V', 'Ti'], ['Fe', 'V', 'Ti'], ['Fe', 'V', 'Ti'], ['Fe', 'V', 'Ti'], ['Fe', 'V', 'Ti'], ['Fe', 'V', 'Ti'], ['Fe', 'V', 'Ti'], ['Fe', 'V', 'Ti'], ['Fe', 'V', 'Ti'], ['Fe', 'V', 'Ti'], ['Fe', 'V', 'Ti'], ['Fe', 'V', 'Ti'], ['Fe', 'V', 'Ti'], ['Fe', 'V', 'Ti'], ['Fe', 'V', 'Ti'], ['Fe', 'V', 'Ti'], ['Fe', 'V', 'Ti'], ['Fe', 'V', 'Ti'], ['Fe', 'V', 'Ti'], ['Fe', 'V', 'Ti'], ['Fe', 'V', 'Ti'], ['Fe', 'V', 'Ti'], ['Fe', 'V', 'Ti'], ['Fe', 'V', 'Ti'], ['Fe', 'V', 'Ti'], ['Fe', 'V', 'Ti'], ['Fe', 'V', 'Ti'], ['Fe', 'V', 'Ti'], ['Fe', 'V', 'Ti'], ['Fe', 'V', 'Ti'], ['Fe', 'V', 'Ti'], ['Fe', 'V', 'Ti'], ['Fe', 'V', 'Ti'], ['Fe', 'V', 'Ti'], ['Fe', 'V', 'Ti'], ['Fe', 'V', 'Ti'], ['Fe', 'V', 'Ti'], ['Fe', 'V', 'Ti'], ['Fe', 'V', 'Ti'], ['Fe', 'V', 'Ti'], ['Fe', 'V', 'Ti'], ['Fe', 'V', 'Ti'], ['Fe', 'V', 'Ti'], ['Fe', 'V', 'Ti'], ['Fe', 'V', 'Ti'], ['Fe', 'V', 'Ti'], ['Fe', 'V', 'Ti'], ['Fe', 'V', 'Ti'], ['Fe', 'V', 'Ti'], ['Fe', 'V', 'Ti'], ['Fe', 'V', 'Ti'], ['Fe', 'V', 'Ti'], ['Fe', 'V', 'Ti'], ['Fe', 'V', 'Ti'], ['Fe', 'V', 'Ti'], ['Fe', 'V', 'Ti'], ['Fe', 'V', 'Ti'], ['Fe', 'V', 'Ti'], ['Fe', 'V', 'Ti'], ['Fe', 'V', 'Ti'], ['Fe', 'Ti', 'V'], ['Fe', 'Ti', 'V'], ['Fe', 'Ti', 'V'], ['Fe', 'Ti', 'V'], ['Fe', 'Ti', 'V'], ['Fe', 'Ti', 'V'], ['Fe', 'Ti', 'V'], ['Fe', 'Ti', 'V'], ['Fe', 'Ti', 'V'], ['Fe', 'Ti', 'V'], ['Fe', 'Ti', 'V'], ['Fe', 'Ti', 'V'], ['Fe', 'Ti', 'V'], ['Fe', 'Ti', 'V'], ['Fe', 'Ti', 'V'], ['Fe', 'Ti', 'V'], ['Fe', 'Ti', 'V'], ['Fe', 'Ti', 'V'], ['Fe', 'Ti', 'V'], ['Fe', 'Ti', 'V'], ['Fe', 'Ti', 'V'], ['Fe', 'Ti', 'V'], ['Fe', 'Ti', 'V'], ['Fe', 'Ti', 'V'], ['Fe', 'Ti', 'V'], ['Fe', 'Ti', 'V'], ['Fe', 'Ti', 'V'], ['Fe', 'Ti', 'V'], ['Fe', 'Ti', 'V'], ['Fe', 'Ti', 'V'], ['Fe', 'Ti', 'V'], ['Fe', 'Ti', 'V'], ['Fe', 'Ti', 'V'], ['Fe', 'Ti', 'V'], ['Fe', 'Ti', 'V'], ['Fe', 'Ti', 'V'], ['Fe', 'Ti', 'V'], ['Fe', 'Ti', 'V'], ['Fe', 'Ti', 'V'], ['Fe', 'Ti', 'V'], ['Fe', 'Ti', 'V'], ['Fe', 'Ti', 'V'], ['Fe', 'Ti', 'V'], ['Fe', 'Ti', 'V'], ['Ni', 'V', 'Cr'], ['Fe', 'Ni', 'V'], ['Fe', 'Ni', 'V'], ['Fe', 'Ni', 'V'], ['Fe', 'Ni', 'V'], ['Fe', 'Ni', 'V'], ['Fe', 'Ni', 'V'], ['Fe', 'Ni', 'V'], ['Fe', 'Ni', 'V'], ['Fe', 'Ni', 'V'], ['Fe', 'Ni', 'V'], ['Fe', 'Ni', 'V'], ['Fe', 'Ni', 'V'], ['Fe', 'Ni', 'V'], ['Fe', 'Ni', 'V'], ['Fe', 'Ni', 'V'], ['Fe', 'Ni', 'V'], ['Fe', 'Ni', 'V'], ['Fe', 'Ni', 'V'], ['Fe', 'Ni', 'V'], ['Fe', 'Ni', 'V'], ['Fe', 'Ni', 'V'], ['Fe', 'Ni', 'V'], ['Fe', 'Ni', 'V'], ['Fe', 'Ni', 'V'], ['Fe', 'Ni', 'V'], ['Fe', 'Ni', 'V'], ['Fe', 'Ni', 'V'], ['Fe', 'Ni', 'V'], ['Fe', 'Ni', 'V'], ['Fe', 'Ni', 'V'], ['Fe', 'Ni', 'V'], ['Fe', 'Ni', 'V'], ['Fe', 'Ni', 'V'], ['Fe', 'Ni', 'V'], ['Fe', 'Ni', 'V'], ['Ti', 'Ni', 'V'], ['Fe', 'Ti', 'Cr'], ['Fe', 'Ti', 'Cr'], ['Fe', 'Ti', 'Cr'], ['Fe', 'Ti', 'Cr'], ['Fe', 'Ti', 'Cr'], ['Fe', 'Ti', 'Cr'], ['Fe', 'Ti', 'Cr'], ['Fe', 'Ti', 'Cr'], ['Ni', 'Ti', 'Cr'], ['Fe', 'Ni', 'Ti'], ['Fe', 'Ni', 'Ti'], ['Fe', 'Ni', 'Ti'], ['Fe', 'Ni', 'Ti'], ['Fe', 'Ni', 'Ti'], ['Fe', 'Ni', 'Ti'], ['Fe', 'Ni', 'Ti'], ['Fe', 'Ni', 'Ti'], ['Fe', 'Ni', 'Ti'], ['Fe', 'Ni', 'Ti'], ['Fe', 'Ni', 'Ti'], ['Fe', 'Ni', 'Ti'], ['Fe', 'Ni', 'Ti'], ['Fe', 'Ni', 'Ti'], ['Fe', 'Ni', 'Ti'], ['Fe', 'Ni', 'Ti'], ['Fe', 'Ni', 'Ti'], ['Fe', 'Ni', 'Ti'], ['Fe', 'Ni', 'Ti'], ['Fe', 'Ni', 'Ti'], ['Fe', 'Ni', 'Ti'], ['Fe', 'Ni', 'Ti'], ['Fe', 'Ni', 'Ti'], ['Fe', 'Ni', 'Ti'], ['Fe', 'Ni', 'Ti'], ['Fe', 'Ni', 'Ti'], ['Fe', 'Ni', 'Ti'], ['Fe', 'Ni', 'Ti'], ['Fe', 'Ni', 'Ti'], ['Fe', 'Ni', 'Ti'], ['Fe', 'Ni', 'Ti'], ['Fe', 'Ni', 'Ti'], ['Fe', 'Ni', 'Ti'], ['Fe', 'Ni', 'Ti'], ['Fe', 'Ni', 'Ti'], ['Fe', 'Ni', 'Ti'], ['Ti', 'V', 'Fe'], ['Ti', 'V', 'Fe'], ['Ti', 'V', 'Fe'], ['Ti', 'V', 'Fe'], ['Ti', 'V', 'Fe'], ['Ti', 'V', 'Fe'], ['Ti', 'V', 'Fe'], ['Ti', 'V', 'Fe'], ['Ni', 'Ti', 'Cr'], ['Ni', 'Ti', 'V'], ['Ni', 'Ti', 'V'], ['Ni', 'Ti', 'V'], ['Ni', 'Ti', 'V'], ['Ni', 'Ti', 'V'], ['Ni', 'Ti', 'V'], ['Ni', 'Ti', 'V'], ['Ni', 'Ti', 'V'], ['Ni', 'Ti', 'V'], ['Ni', 'Ti', 'V'], ['Ni', 'Ti', 'V'], ['Ni', 'Ti', 'V'], ['Ni', 'Ti', 'V'], ['Ni', 'Ti', 'V'], ['Ni', 'Ti', 'V'], ['Ni', 'Ti', 'V'], ['Ni', 'Ti', 'V'], ['Ni', 'Ti', 'V'], ['Ni', 'Ti', 'V'], ['Ni', 'Ti', 'V'], ['Ni', 'Ti', 'V'], ['Ni', 'Ti', 'V'], ['Ni', 'Ti', 'V'], ['Ni', 'Ti', 'V'], ['Ni', 'Ti', 'V'], ['Ni', 'Ti', 'V'], ['Ni', 'Ti', 'V'], ['Ni', 'Ti', 'V'], ['Ni', 'Ti', 'V'], ['Ni', 'Ti', 'V'], ['Ni', 'Ti', 'V'], ['Ni', 'Ti', 'V'], ['Ni', 'Ti', 'V'], ['Ni', 'Ti', 'V'], ['Ni', 'Ti', 'V'], ['Ni', 'Ti', 'V'], ['Ni', 'Ti', 'V'], ['Ni', 'Ti', 'V'], ['Ni', 'Ti', 'V'], ['Ni', 'Ti', 'V'], ['Ni', 'Ti', 'V'], ['Ni', 'Ti', 'V'], ['Ni', 'Ti', 'V'], ['Ni', 'Ti', 'V'], ['Fe', 'Ti', 'V'], ['Fe', 'Ti', 'V'], ['Fe', 'Ti', 'V'], ['Fe', 'Ti', 'V'], ['Fe', 'Ti', 'V'], ['Fe', 'Ti', 'V'], ['Fe', 'Ti', 'V'], ['Fe', 'Ti', 'V'], ['Fe', 'Ti', 'V'], ['Fe', 'Ti', 'V'], ['Fe', 'Ti', 'V'], ['Fe', 'Ti', 'V'], ['Fe', 'Ti', 'V'], ['Fe', 'Ti', 'V'], ['Fe', 'Ti', 'V'], ['Fe', 'Ti', 'V'], ['Fe', 'Ti', 'V'], ['Fe', 'Ti', 'V'], ['Fe', 'Ti', 'V'], ['Fe', 'Ti', 'V'], ['Fe', 'Ti', 'V'], ['Fe', 'Ti', 'V'], ['Fe', 'Ti', 'V'], ['Fe', 'Ti', 'V'], ['Fe', 'Ti', 'V'], ['Fe', 'Ti', 'V'], ['Fe', 'Ti', 'V'], ['Fe', 'Ti', 'V'], ['Fe', 'Ti', 'V'], ['Fe', 'Ti', 'V'], ['Fe', 'Ti', 'V'], ['Fe', 'Ti', 'V'], ['Fe', 'Ti', 'V'], ['Fe', 'Ti', 'V'], ['Fe', 'Ti', 'V'], ['Fe', 'Ti', 'V']]\n"
     ]
    }
   ],
   "source": [
    "def implement_representation_logic(compositions, elementalSpaceComponents):\n",
    "    dimension_map = {i: elementalSpaceComponents[i] for i in range(len(elementalSpaceComponents))}\n",
    "    used_elements = []\n",
    "    current_ternary_space = None\n",
    "\n",
    "    for i, point in enumerate(compositions):\n",
    "        nonzero_indices = np.nonzero(point)[0]\n",
    "        len_nonzero = len(nonzero_indices)\n",
    "\n",
    "        if len_nonzero < 3:\n",
    "            if current_ternary_space is None or not all(idx in current_ternary_space for idx in nonzero_indices):\n",
    "                # Find a new ternary space that includes all nonzero indices\n",
    "                remaining_indices = [j for j in range(len(point)) if j not in nonzero_indices]\n",
    "                additional_indices = np.random.choice(remaining_indices, 3 - len_nonzero, replace=False)\n",
    "                current_ternary_space = np.concatenate((nonzero_indices, additional_indices))\n",
    "        else:\n",
    "            current_ternary_space = nonzero_indices[:3]\n",
    "\n",
    "        elements = [dimension_map[j] for j in current_ternary_space]\n",
    "        used_elements.append(elements)\n",
    "\n",
    "    return used_elements\n",
    "\n",
    "\n",
    "# Running the implementation function to test\n",
    "result = implement_representation_logic(compositions, elementalSpaceComponents)\n",
    "\n",
    "# Print the result\n",
    "# for i, elements in enumerate(result):\n",
    "#     print(f\"Composition {i+1}: {elements}\")\n",
    "\n",
    "print(result)"
   ]
  },
  {
   "cell_type": "code",
   "execution_count": null,
   "metadata": {},
   "outputs": [],
   "source": [
    "t1=equilibrium_callables['equilibrium_callable_NiCrV_0f8b67c1'](compositions[200])\n",
    "t2=equilibrium_callables['equilibrium_callable_NiCrFe_ce8329fb'](compositions[200])"
   ]
  },
  {
   "cell_type": "code",
   "execution_count": null,
   "metadata": {},
   "outputs": [
    {
     "name": "stdout",
     "output_type": "stream",
     "text": [
      "T1= {'Phases': ['BCC_A2'], 'PhaseFraction': [1.000000000003023]} T2= {'Phases': ['BCC_A2', 'SIGMA'], 'PhaseFraction': [0.46923805136416286, 0.5307619487955337]}\n"
     ]
    }
   ],
   "source": [
    "print(\"T1=\",t1,\"T2=\",t2)\n"
   ]
  },
  {
   "cell_type": "code",
   "execution_count": null,
   "metadata": {},
   "outputs": [
    {
     "ename": "NameError",
     "evalue": "name 'elPositions' is not defined",
     "output_type": "error",
     "traceback": [
      "\u001b[0;31m---------------------------------------------------------------------------\u001b[0m",
      "\u001b[0;31mNameError\u001b[0m                                 Traceback (most recent call last)",
      "Cell \u001b[0;32mIn[29], line 1\u001b[0m\n\u001b[0;32m----> 1\u001b[0m elPositions\n",
      "\u001b[0;31mNameError\u001b[0m: name 'elPositions' is not defined"
     ]
    }
   ],
   "source": [
    "while len(queue)>0:\n",
    "    print(f\"Queue: {queue}\")\n",
    "    # Calculate feasibilities of the current queue\n",
    "    elPositions = [compositions[i] for i in queue]\n",
    "    if len(queue)>3:\n",
    "        phases = process_map(equilibrium_callable, elPositions, max_workers=4)\n",
    "    else:\n",
    "        phases = [equilibrium_callable(elP) for elP in elPositions]\n",
    "    feasibilities = [len(set(p) & set(['LAVES_C15', 'LAVES_C36', 'LAVES_C14', 'LIQUID']))==0 and p!=[] for p in phases]\n",
    "\n",
    "    calcCount += len(feasibilities)\n",
    "    explored = explored.union(queue)\n",
    "\n",
    "    # Create next queue based on neighbors of feasible points\n",
    "    nextQueue = set()\n",
    "    nextQueuePlusEquivalent = set()\n",
    "    for f, i in zip(feasibilities, queue):\n",
    "        # Explored point\n",
    "        gridFeasible[i] = f\n",
    "\n",
    "        # And equivalent explored points based on system stitching\n",
    "        explored = explored.union(graphNS[i])\n",
    "        for eq in graphNS[i]:\n",
    "            gridFeasible[eq] = f\n",
    "\n",
    "        # Expand to neighbors of the point and equivalent points (only if the node has been feasible)\n",
    "        if f:\n",
    "            # Node neighbors in the same subsystem\n",
    "            for n in graphN[i]:\n",
    "                if n not in explored and n not in nextQueuePlusEquivalent:\n",
    "                    nextQueue.add(n)\n",
    "                    nextQueuePlusEquivalent = nextQueuePlusEquivalent.union([n] + graphNS[n])\n",
    "            # Equivalent nodes neighbors in other subsystems\n",
    "            for eq in graphNS[i]:\n",
    "                for n in graphN[eq]:\n",
    "                    if n not in explored and n not in nextQueuePlusEquivalent:\n",
    "                        nextQueue.add(n)\n",
    "                        nextQueuePlusEquivalent = nextQueuePlusEquivalent.union([n] + graphNS[n])\n",
    "\n",
    "    print(f\"Calculations done: {calcCount:<5} | Explored points: {len(explored):<5}\")\n",
    "    queue = list(nextQueue)"
   ]
  },
  {
   "cell_type": "code",
   "execution_count": null,
   "metadata": {},
   "outputs": [],
   "source": [
    "args = list(zip(elPositions, systems))\n",
    "phases = process_map(lambda x: combined_callable(*x), args, max_workers=4)"
   ]
  },
  {
   "cell_type": "code",
   "execution_count": 19,
   "metadata": {},
   "outputs": [
    {
     "ename": "NameError",
     "evalue": "name 'compositions' is not defined",
     "output_type": "error",
     "traceback": [
      "\u001b[0;31m---------------------------------------------------------------------------\u001b[0m",
      "\u001b[0;31mNameError\u001b[0m                                 Traceback (most recent call last)",
      "Cell \u001b[0;32mIn[19], line 1\u001b[0m\n\u001b[0;32m----> 1\u001b[0m \u001b[38;5;28mlen\u001b[39m(compositions)\n",
      "\u001b[0;31mNameError\u001b[0m: name 'compositions' is not defined"
     ]
    }
   ],
   "source": []
  },
  {
   "cell_type": "markdown",
   "metadata": {},
   "source": [
    "## Exploring Complex Formed by All 3-Component Alloy Subsystems of 7-Component Space (w. Infeasibility Gliding)"
   ]
  },
  {
   "cell_type": "code",
   "execution_count": 48,
   "metadata": {},
   "outputs": [
    {
     "name": "stdout",
     "output_type": "stream",
     "text": [
      "('Ti50Zr50', 'Hf95Ti5', 'NbTaWHf')       -> ([50, 50, 0, 0, 0, 0, 0], [5, 0, 95, 0, 0, 0, 0], [0, 0, 25, 25, 25, 25, 0])\n",
      "('Ti50Zr50', 'Hf95Ti5', 'Mo80Nb10W10')   -> ([50, 50, 0, 0, 0, 0, 0], [5, 0, 95, 0, 0, 0, 0], [0, 0, 0, 10, 10, 0, 80])\n",
      "('Ti50Zr50', 'Hf95Ti5', 'TiTa2')         -> ([50, 50, 0, 0, 0, 0, 0], [5, 0, 95, 0, 0, 0, 0], [33, 0, 0, 0, 0, 66, 0])\n",
      "('Ti50Zr50', 'Hf95Ti5', 'Nb96Mo3W1')     -> ([50, 50, 0, 0, 0, 0, 0], [5, 0, 95, 0, 0, 0, 0], [0, 0, 0, 1, 96, 0, 3])\n",
      "('Ti50Zr50', 'Hf95Ti5', 'Zr49 Hf1 Mo50') -> ([50, 50, 0, 0, 0, 0, 0], [5, 0, 95, 0, 0, 0, 0], [0, 49, 1, 0, 0, 0, 50])\n",
      "('Ti50Zr50', 'NbTaWHf', 'Mo80Nb10W10')   -> ([50, 50, 0, 0, 0, 0, 0], [0, 0, 25, 25, 25, 25, 0], [0, 0, 0, 10, 10, 0, 80])\n",
      "('Ti50Zr50', 'NbTaWHf', 'TiTa2')         -> ([50, 50, 0, 0, 0, 0, 0], [0, 0, 25, 25, 25, 25, 0], [33, 0, 0, 0, 0, 66, 0])\n",
      "('Ti50Zr50', 'NbTaWHf', 'Nb96Mo3W1')     -> ([50, 50, 0, 0, 0, 0, 0], [0, 0, 25, 25, 25, 25, 0], [0, 0, 0, 1, 96, 0, 3])\n",
      "('Ti50Zr50', 'NbTaWHf', 'Zr49 Hf1 Mo50') -> ([50, 50, 0, 0, 0, 0, 0], [0, 0, 25, 25, 25, 25, 0], [0, 49, 1, 0, 0, 0, 50])\n",
      "('Ti50Zr50', 'Mo80Nb10W10', 'TiTa2')     -> ([50, 50, 0, 0, 0, 0, 0], [0, 0, 0, 10, 10, 0, 80], [33, 0, 0, 0, 0, 66, 0])\n",
      "('Ti50Zr50', 'Mo80Nb10W10', 'Nb96Mo3W1') -> ([50, 50, 0, 0, 0, 0, 0], [0, 0, 0, 10, 10, 0, 80], [0, 0, 0, 1, 96, 0, 3])\n",
      "('Ti50Zr50', 'Mo80Nb10W10', 'Zr49 Hf1 Mo50') -> ([50, 50, 0, 0, 0, 0, 0], [0, 0, 0, 10, 10, 0, 80], [0, 49, 1, 0, 0, 0, 50])\n",
      "('Ti50Zr50', 'TiTa2', 'Nb96Mo3W1')       -> ([50, 50, 0, 0, 0, 0, 0], [33, 0, 0, 0, 0, 66, 0], [0, 0, 0, 1, 96, 0, 3])\n",
      "('Ti50Zr50', 'TiTa2', 'Zr49 Hf1 Mo50')   -> ([50, 50, 0, 0, 0, 0, 0], [33, 0, 0, 0, 0, 66, 0], [0, 49, 1, 0, 0, 0, 50])\n",
      "('Ti50Zr50', 'Nb96Mo3W1', 'Zr49 Hf1 Mo50') -> ([50, 50, 0, 0, 0, 0, 0], [0, 0, 0, 1, 96, 0, 3], [0, 49, 1, 0, 0, 0, 50])\n",
      "('Hf95Ti5', 'NbTaWHf', 'Mo80Nb10W10')    -> ([5, 0, 95, 0, 0, 0, 0], [0, 0, 25, 25, 25, 25, 0], [0, 0, 0, 10, 10, 0, 80])\n",
      "('Hf95Ti5', 'NbTaWHf', 'TiTa2')          -> ([5, 0, 95, 0, 0, 0, 0], [0, 0, 25, 25, 25, 25, 0], [33, 0, 0, 0, 0, 66, 0])\n",
      "('Hf95Ti5', 'NbTaWHf', 'Nb96Mo3W1')      -> ([5, 0, 95, 0, 0, 0, 0], [0, 0, 25, 25, 25, 25, 0], [0, 0, 0, 1, 96, 0, 3])\n",
      "('Hf95Ti5', 'NbTaWHf', 'Zr49 Hf1 Mo50')  -> ([5, 0, 95, 0, 0, 0, 0], [0, 0, 25, 25, 25, 25, 0], [0, 49, 1, 0, 0, 0, 50])\n",
      "('Hf95Ti5', 'Mo80Nb10W10', 'TiTa2')      -> ([5, 0, 95, 0, 0, 0, 0], [0, 0, 0, 10, 10, 0, 80], [33, 0, 0, 0, 0, 66, 0])\n",
      "('Hf95Ti5', 'Mo80Nb10W10', 'Nb96Mo3W1')  -> ([5, 0, 95, 0, 0, 0, 0], [0, 0, 0, 10, 10, 0, 80], [0, 0, 0, 1, 96, 0, 3])\n",
      "('Hf95Ti5', 'Mo80Nb10W10', 'Zr49 Hf1 Mo50') -> ([5, 0, 95, 0, 0, 0, 0], [0, 0, 0, 10, 10, 0, 80], [0, 49, 1, 0, 0, 0, 50])\n",
      "('Hf95Ti5', 'TiTa2', 'Nb96Mo3W1')        -> ([5, 0, 95, 0, 0, 0, 0], [33, 0, 0, 0, 0, 66, 0], [0, 0, 0, 1, 96, 0, 3])\n",
      "('Hf95Ti5', 'TiTa2', 'Zr49 Hf1 Mo50')    -> ([5, 0, 95, 0, 0, 0, 0], [33, 0, 0, 0, 0, 66, 0], [0, 49, 1, 0, 0, 0, 50])\n",
      "('Hf95Ti5', 'Nb96Mo3W1', 'Zr49 Hf1 Mo50') -> ([5, 0, 95, 0, 0, 0, 0], [0, 0, 0, 1, 96, 0, 3], [0, 49, 1, 0, 0, 0, 50])\n",
      "('NbTaWHf', 'Mo80Nb10W10', 'TiTa2')      -> ([0, 0, 25, 25, 25, 25, 0], [0, 0, 0, 10, 10, 0, 80], [33, 0, 0, 0, 0, 66, 0])\n",
      "('NbTaWHf', 'Mo80Nb10W10', 'Nb96Mo3W1')  -> ([0, 0, 25, 25, 25, 25, 0], [0, 0, 0, 10, 10, 0, 80], [0, 0, 0, 1, 96, 0, 3])\n",
      "('NbTaWHf', 'Mo80Nb10W10', 'Zr49 Hf1 Mo50') -> ([0, 0, 25, 25, 25, 25, 0], [0, 0, 0, 10, 10, 0, 80], [0, 49, 1, 0, 0, 0, 50])\n",
      "('NbTaWHf', 'TiTa2', 'Nb96Mo3W1')        -> ([0, 0, 25, 25, 25, 25, 0], [33, 0, 0, 0, 0, 66, 0], [0, 0, 0, 1, 96, 0, 3])\n",
      "('NbTaWHf', 'TiTa2', 'Zr49 Hf1 Mo50')    -> ([0, 0, 25, 25, 25, 25, 0], [33, 0, 0, 0, 0, 66, 0], [0, 49, 1, 0, 0, 0, 50])\n",
      "('NbTaWHf', 'Nb96Mo3W1', 'Zr49 Hf1 Mo50') -> ([0, 0, 25, 25, 25, 25, 0], [0, 0, 0, 1, 96, 0, 3], [0, 49, 1, 0, 0, 0, 50])\n",
      "('Mo80Nb10W10', 'TiTa2', 'Nb96Mo3W1')    -> ([0, 0, 0, 10, 10, 0, 80], [33, 0, 0, 0, 0, 66, 0], [0, 0, 0, 1, 96, 0, 3])\n",
      "('Mo80Nb10W10', 'TiTa2', 'Zr49 Hf1 Mo50') -> ([0, 0, 0, 10, 10, 0, 80], [33, 0, 0, 0, 0, 66, 0], [0, 49, 1, 0, 0, 0, 50])\n",
      "('Mo80Nb10W10', 'Nb96Mo3W1', 'Zr49 Hf1 Mo50') -> ([0, 0, 0, 10, 10, 0, 80], [0, 0, 0, 1, 96, 0, 3], [0, 49, 1, 0, 0, 0, 50])\n",
      "('TiTa2', 'Nb96Mo3W1', 'Zr49 Hf1 Mo50')  -> ([33, 0, 0, 0, 0, 66, 0], [0, 0, 0, 1, 96, 0, 3], [0, 49, 1, 0, 0, 0, 50])\n"
     ]
    }
   ],
   "source": [
    "elementalSpaceComponents = [\"Ti\", \"Zr\", \"Hf\", \"W\", \"Nb\", \"Ta\", \"Mo\"]\n",
    "attainableSpaceComponents = [\"Ti50Zr50\", \"Hf95Ti5\", \"NbTaWHf\", \"Mo80Nb10W10\", \"TiTa2\", \"Nb96Mo3W1\", \"Zr49 Hf1 Mo50\"]\n",
    "attainableSpaceComponentPositions = [\n",
    "    #Ti, Zr, Hf,  W, Nb, Ta, Mo\n",
    "    [50, 50,  0,  0,  0,  0,  0], \n",
    "    [ 5,  0, 95,  0,  0,  0,  0], \n",
    "    [ 0,  0, 25, 25, 25, 25,  0], \n",
    "    [ 0,  0,  0, 10, 10,  0, 80],\n",
    "    [33,  0,  0,  0,  0, 66,  0],\n",
    "    [ 0,  0,  0,  1, 96,  0,  3],\n",
    "    [ 0, 49,  1,  0,  0,  0, 50]\n",
    "]    \n",
    "ternaries = list(combinations(attainableSpaceComponents, 3))\n",
    "ternaries_CompPos = list(combinations(attainableSpaceComponentPositions, 3))\n",
    "ndiv = 8\n",
    "gridAtt, nList = nimplex.simplex_graph_py(3, ndiv)\n",
    "\n",
    "for tern, terncp in zip(ternaries, ternaries_CompPos):\n",
    "    print(f\"{str(tern):<40} -> {terncp}\")"
   ]
  },
  {
   "cell_type": "code",
   "execution_count": 49,
   "metadata": {},
   "outputs": [
    {
     "data": {
      "text/plain": [
       "[0, 2, 9, 10]"
      ]
     },
     "execution_count": 49,
     "metadata": {},
     "output_type": "execute_result"
    }
   ],
   "source": [
    "nList[1]"
   ]
  },
  {
   "cell_type": "code",
   "execution_count": null,
   "metadata": {},
   "outputs": [],
   "source": []
  },
  {
   "cell_type": "code",
   "execution_count": 50,
   "metadata": {},
   "outputs": [],
   "source": [
    "# Edges list for graph plotting and path finding purposes\n",
    "edges = []\n",
    "# Connectivity list within each subsystem\n",
    "graphN = [[] for i in range(len(gridAtt * len(ternaries)))]\n",
    "# Connectivity list between subsystems\n",
    "graphNS = [[] for i in range(len(graphN))]\n",
    "compositions = []\n",
    "# Iterate over ternaries\n",
    "for i, terncp in enumerate(ternaries_CompPos):\n",
    "    offset = i*len(gridAtt)\n",
    "    for j in range(len(gridAtt)):\n",
    "        for n in nList[j]:\n",
    "            edges.append((j+offset,n+offset))\n",
    "            graphN[j+offset].append(n+offset)\n",
    "    gridAttTemp, gridElTemp = nimplex.embeddedpair_simplex_grid_fractional_py(terncp, ndiv)\n",
    "    compositions += gridElTemp"
   ]
  },
  {
   "cell_type": "code",
   "execution_count": 52,
   "metadata": {},
   "outputs": [
    {
     "data": {
      "text/plain": [
       "list"
      ]
     },
     "execution_count": 52,
     "metadata": {},
     "output_type": "execute_result"
    }
   ],
   "source": [
    "type(compositions)"
   ]
  },
  {
   "cell_type": "code",
   "execution_count": 63,
   "metadata": {},
   "outputs": [
    {
     "data": {
      "text/plain": [
       "'Duplicates found:[0.0, 0.0, 0.25, 0.25, 0.25, 0.25, 0.0] appears 15 times[0.00625, 0.0, 0.3375, 0.21875, 0.21875, 0.21875, 0.0] appears 5 times[0.0125, 0.0, 0.425, 0.1875, 0.1875, 0.1875, 0.0] appears 5 times[0.018750000000000003, 0.0, 0.5125, 0.15625, 0.15625, 0.15625, 0.0] appears 5 times[0.025, 0.0, 0.6, 0.125, 0.125, 0.125, 0.0] appears 5 times[0.03125, 0.0, 0.6875, 0.09375, 0.09375, 0.09375, 0.0] appears 5 times[0.037500000000000006, 0.0, 0.7749999999999999, 0.0625, 0.0625, 0.0625, 0.0] appears 5 times[0.043750000000000004, 0.0, 0.8624999999999999, 0.03125, 0.03125, 0.03125, 0.0] appears 5 times[0.05, 0.0, 0.95, 0.0, 0.0, 0.0, 0.0] appears 15 times[0.0625, 0.0625, 0.21875, 0.21875, 0.21875, 0.21875, 0.0] appears 5 times[0.10625, 0.0625, 0.8312499999999999, 0.0, 0.0, 0.0, 0.0] appears 5 times[0.125, 0.125, 0.1875, 0.1875, 0.1875, 0.1875, 0.0] appears 5 times[0.1625, 0.125, 0.7124999999999999, 0.0, 0.0, 0.0, 0.0] appears 5 times[0.1875, 0.1875, 0.15625, 0.15625, 0.15625, 0.15625, 0.0] appears 5 times[0.21875, 0.1875, 0.59375, 0.0, 0.0, 0.0, 0.0] appears 5 times[0.25, 0.25, 0.125, 0.125, 0.125, 0.125, 0.0] appears 5 times[0.275, 0.25, 0.475, 0.0, 0.0, 0.0, 0.0] appears 5 times[0.3125, 0.3125, 0.09375, 0.09375, 0.09375, 0.09375, 0.0] appears 5 times[0.33125, 0.3125, 0.35624999999999996, 0.0, 0.0, 0.0, 0.0] appears 5 times[0.375, 0.375, 0.0625, 0.0625, 0.0625, 0.0625, 0.0] appears 5 times[0.3875, 0.375, 0.2375, 0.0, 0.0, 0.0, 0.0] appears 5 times[0.4375, 0.4375, 0.03125, 0.03125, 0.03125, 0.03125, 0.0] appears 5 times[0.44375, 0.4375, 0.11875, 0.0, 0.0, 0.0, 0.0] appears 5 times[0.5, 0.5, 0.0, 0.0, 0.0, 0.0, 0.0] appears 15 times[0.0, 0.0, 0.0, 0.1, 0.1, 0.0, 0.8] appears 15 times[0.00625, 0.0, 0.11875, 0.08750000000000001, 0.08750000000000001, 0.0, 0.7000000000000001] appears 5 times[0.0125, 0.0, 0.2375, 0.07500000000000001, 0.07500000000000001, 0.0, 0.6000000000000001] appears 5 times[0.018750000000000003, 0.0, 0.35624999999999996, 0.0625, 0.0625, 0.0, 0.5] appears 5 times[0.025, 0.0, 0.475, 0.05, 0.05, 0.0, 0.4] appears 5 times[0.03125, 0.0, 0.59375, 0.037500000000000006, 0.037500000000000006, 0.0, 0.30000000000000004] appears 5 times[0.037500000000000006, 0.0, 0.7124999999999999, 0.025, 0.025, 0.0, 0.2] appears 5 times[0.043750000000000004, 0.0, 0.8312499999999999, 0.0125, 0.0125, 0.0, 0.1] appears 5 times[0.0625, 0.0625, 0.0, 0.08750000000000001, 0.08750000000000001, 0.0, 0.7000000000000001] appears 5 times[0.125, 0.125, 0.0, 0.07500000000000001, 0.07500000000000001, 0.0, 0.6000000000000001] appears 5 times[0.1875, 0.1875, 0.0, 0.0625, 0.0625, 0.0, 0.5] appears 5 times[0.25, 0.25, 0.0, 0.05, 0.05, 0.0, 0.4] appears 5 times[0.3125, 0.3125, 0.0, 0.037500000000000006, 0.037500000000000006, 0.0, 0.30000000000000004] appears 5 times[0.375, 0.375, 0.0, 0.025, 0.025, 0.0, 0.2] appears 5 times[0.4375, 0.4375, 0.0, 0.0125, 0.0125, 0.0, 0.1] appears 5 times[0.3333333333333333, 0.0, 0.0, 0.0, 0.0, 0.6666666666666666, 0.0] appears 15 times[0.29791666666666666, 0.0, 0.11875, 0.0, 0.0, 0.5833333333333333, 0.0] appears 5 times[0.2625, 0.0, 0.2375, 0.0, 0.0, 0.5, 0.0] appears 5 times[0.22708333333333333, 0.0, 0.35624999999999996, 0.0, 0.0, 0.41666666666666663, 0.0] appears 5 times[0.19166666666666665, 0.0, 0.475, 0.0, 0.0, 0.3333333333333333, 0.0] appears 5 times[0.15625, 0.0, 0.59375, 0.0, 0.0, 0.25, 0.0] appears 5 times[0.12083333333333333, 0.0, 0.7124999999999999, 0.0, 0.0, 0.16666666666666666, 0.0] appears 5 times[0.08541666666666667, 0.0, 0.8312499999999999, 0.0, 0.0, 0.08333333333333333, 0.0] appears 5 times[0.35416666666666663, 0.0625, 0.0, 0.0, 0.0, 0.5833333333333333, 0.0] appears 5 times[0.375, 0.125, 0.0, 0.0, 0.0, 0.5, 0.0] appears 5 times[0.3958333333333333, 0.1875, 0.0, 0.0, 0.0, 0.41666666666666663, 0.0] appears 5 times[0.41666666666666663, 0.25, 0.0, 0.0, 0.0, 0.3333333333333333, 0.0] appears 5 times[0.4375, 0.3125, 0.0, 0.0, 0.0, 0.25, 0.0] appears 5 times[0.4583333333333333, 0.375, 0.0, 0.0, 0.0, 0.16666666666666666, 0.0] appears 5 times[0.4791666666666667, 0.4375, 0.0, 0.0, 0.0, 0.08333333333333333, 0.0] appears 5 times[0.0, 0.0, 0.0, 0.01, 0.96, 0.0, 0.03] appears 15 times[0.00625, 0.0, 0.11875, 0.00875, 0.84, 0.0, 0.02625] appears 5 times[0.0125, 0.0, 0.2375, 0.0075, 0.72, 0.0, 0.0225] appears 5 times[0.018750000000000003, 0.0, 0.35624999999999996, 0.00625, 0.6, 0.0, 0.01875] appears 5 times[0.025, 0.0, 0.475, 0.005, 0.48, 0.0, 0.015] appears 5 times[0.03125, 0.0, 0.59375, 0.00375, 0.36, 0.0, 0.01125] appears 5 times[0.037500000000000006, 0.0, 0.7124999999999999, 0.0025, 0.24, 0.0, 0.0075] appears 5 times[0.043750000000000004, 0.0, 0.8312499999999999, 0.00125, 0.12, 0.0, 0.00375] appears 5 times[0.0625, 0.0625, 0.0, 0.00875, 0.84, 0.0, 0.02625] appears 5 times[0.125, 0.125, 0.0, 0.0075, 0.72, 0.0, 0.0225] appears 5 times[0.1875, 0.1875, 0.0, 0.00625, 0.6, 0.0, 0.01875] appears 5 times[0.25, 0.25, 0.0, 0.005, 0.48, 0.0, 0.015] appears 5 times[0.3125, 0.3125, 0.0, 0.00375, 0.36, 0.0, 0.01125] appears 5 times[0.375, 0.375, 0.0, 0.0025, 0.24, 0.0, 0.0075] appears 5 times[0.4375, 0.4375, 0.0, 0.00125, 0.12, 0.0, 0.00375] appears 5 times[0.0, 0.49, 0.01, 0.0, 0.0, 0.0, 0.5] appears 15 times[0.00625, 0.42874999999999996, 0.1275, 0.0, 0.0, 0.0, 0.4375] appears 5 times[0.0125, 0.3675, 0.245, 0.0, 0.0, 0.0, 0.375] appears 5 times[0.018750000000000003, 0.30625, 0.36249999999999993, 0.0, 0.0, 0.0, 0.3125] appears 5 times[0.025, 0.245, 0.48, 0.0, 0.0, 0.0, 0.25] appears 5 times[0.03125, 0.18375, 0.5975, 0.0, 0.0, 0.0, 0.1875] appears 5 times[0.037500000000000006, 0.1225, 0.7149999999999999, 0.0, 0.0, 0.0, 0.125] appears 5 times[0.043750000000000004, 0.06125, 0.8324999999999999, 0.0, 0.0, 0.0, 0.0625] appears 5 times[0.0625, 0.49124999999999996, 0.00875, 0.0, 0.0, 0.0, 0.4375] appears 5 times[0.125, 0.4925, 0.0075, 0.0, 0.0, 0.0, 0.375] appears 5 times[0.1875, 0.49375, 0.00625, 0.0, 0.0, 0.0, 0.3125] appears 5 times[0.25, 0.495, 0.005, 0.0, 0.0, 0.0, 0.25] appears 5 times[0.3125, 0.49624999999999997, 0.00375, 0.0, 0.0, 0.0, 0.1875] appears 5 times[0.375, 0.4975, 0.0025, 0.0, 0.0, 0.0, 0.125] appears 5 times[0.4375, 0.49875, 0.00125, 0.0, 0.0, 0.0, 0.0625] appears 5 times[0.0, 0.0, 0.03125, 0.11875000000000001, 0.11875000000000001, 0.03125, 0.7000000000000001] appears 5 times[0.0, 0.0, 0.0625, 0.1375, 0.1375, 0.0625, 0.6000000000000001] appears 5 times[0.0, 0.0, 0.09375, 0.15625, 0.15625, 0.09375, 0.5] appears 5 times[0.0, 0.0, 0.125, 0.175, 0.175, 0.125, 0.4] appears 5 times[0.0, 0.0, 0.15625, 0.19375, 0.19375, 0.15625, 0.30000000000000004] appears 5 times[0.0, 0.0, 0.1875, 0.2125, 0.2125, 0.1875, 0.2] appears 5 times[0.0, 0.0, 0.21875, 0.23125, 0.23125, 0.21875, 0.1] appears 5 times[0.29166666666666663, 0.0, 0.03125, 0.03125, 0.03125, 0.6145833333333333, 0.0] appears 5 times[0.25, 0.0, 0.0625, 0.0625, 0.0625, 0.5625, 0.0] appears 5 times[0.20833333333333331, 0.0, 0.09375, 0.09375, 0.09375, 0.5104166666666666, 0.0] appears 5 times[0.16666666666666666, 0.0, 0.125, 0.125, 0.125, 0.4583333333333333, 0.0] appears 5 times[0.125, 0.0, 0.15625, 0.15625, 0.15625, 0.40625, 0.0] appears 5 times[0.08333333333333333, 0.0, 0.1875, 0.1875, 0.1875, 0.35416666666666663, 0.0] appears 5 times[0.041666666666666664, 0.0, 0.21875, 0.21875, 0.21875, 0.3020833333333333, 0.0] appears 5 times[0.0, 0.0, 0.03125, 0.04, 0.87125, 0.03125, 0.02625] appears 5 times[0.0, 0.0, 0.0625, 0.07, 0.7825, 0.0625, 0.0225] appears 5 times[0.0, 0.0, 0.09375, 0.1, 0.69375, 0.09375, 0.01875] appears 5 times[0.0, 0.0, 0.125, 0.13, 0.605, 0.125, 0.015] appears 5 times[0.0, 0.0, 0.15625, 0.16, 0.51625, 0.15625, 0.01125] appears 5 times[0.0, 0.0, 0.1875, 0.19, 0.4275, 0.1875, 0.0075] appears 5 times[0.0, 0.0, 0.21875, 0.22, 0.33875, 0.21875, 0.00375] appears 5 times[0.0, 0.42874999999999996, 0.04, 0.03125, 0.03125, 0.03125, 0.4375] appears 5 times[0.0, 0.3675, 0.07, 0.0625, 0.0625, 0.0625, 0.375] appears 5 times[0.0, 0.30625, 0.1, 0.09375, 0.09375, 0.09375, 0.3125] appears 5 times[0.0, 0.245, 0.13, 0.125, 0.125, 0.125, 0.25] appears 5 times[0.0, 0.18375, 0.16, 0.15625, 0.15625, 0.15625, 0.1875] appears 5 times[0.0, 0.1225, 0.19, 0.1875, 0.1875, 0.1875, 0.125] appears 5 times[0.0, 0.06125, 0.22, 0.21875, 0.21875, 0.21875, 0.0625] appears 5 times[0.29166666666666663, 0.0, 0.0, 0.0125, 0.0125, 0.5833333333333333, 0.1] appears 5 times[0.25, 0.0, 0.0, 0.025, 0.025, 0.5, 0.2] appears 5 times[0.20833333333333331, 0.0, 0.0, 0.037500000000000006, 0.037500000000000006, 0.41666666666666663, 0.30000000000000004] appears 5 times[0.16666666666666666, 0.0, 0.0, 0.05, 0.05, 0.3333333333333333, 0.4] appears 5 times[0.125, 0.0, 0.0, 0.0625, 0.0625, 0.25, 0.5] appears 5 times[0.08333333333333333, 0.0, 0.0, 0.07500000000000001, 0.07500000000000001, 0.16666666666666666, 0.6000000000000001] appears 5 times[0.041666666666666664, 0.0, 0.0, 0.08750000000000001, 0.08750000000000001, 0.08333333333333333, 0.7000000000000001] appears 5 times[0.0, 0.0, 0.0, 0.02125, 0.8524999999999999, 0.0, 0.12625] appears 5 times[0.0, 0.0, 0.0, 0.0325, 0.745, 0.0, 0.2225] appears 5 times[0.0, 0.0, 0.0, 0.043750000000000004, 0.6375, 0.0, 0.31875000000000003] appears 5 times[0.0, 0.0, 0.0, 0.055, 0.53, 0.0, 0.41500000000000004] appears 5 times[0.0, 0.0, 0.0, 0.06625, 0.4225, 0.0, 0.51125] appears 5 times[0.0, 0.0, 0.0, 0.07750000000000001, 0.315, 0.0, 0.6075] appears 5 times[0.0, 0.0, 0.0, 0.08875000000000001, 0.20750000000000002, 0.0, 0.7037500000000001] appears 5 times[0.0, 0.42874999999999996, 0.00875, 0.0125, 0.0125, 0.0, 0.5375] appears 5 times[0.0, 0.3675, 0.0075, 0.025, 0.025, 0.0, 0.575] appears 5 times[0.0, 0.30625, 0.00625, 0.037500000000000006, 0.037500000000000006, 0.0, 0.6125] appears 5 times[0.0, 0.245, 0.005, 0.05, 0.05, 0.0, 0.65] appears 5 times[0.0, 0.18375, 0.00375, 0.0625, 0.0625, 0.0, 0.6875] appears 5 times[0.0, 0.1225, 0.0025, 0.07500000000000001, 0.07500000000000001, 0.0, 0.7250000000000001] appears 5 times[0.0, 0.06125, 0.00125, 0.08750000000000001, 0.08750000000000001, 0.0, 0.7625000000000001] appears 5 times[0.041666666666666664, 0.0, 0.0, 0.00875, 0.84, 0.08333333333333333, 0.02625] appears 5 times[0.08333333333333333, 0.0, 0.0, 0.0075, 0.72, 0.16666666666666666, 0.0225] appears 5 times[0.125, 0.0, 0.0, 0.00625, 0.6, 0.25, 0.01875] appears 5 times[0.16666666666666666, 0.0, 0.0, 0.005, 0.48, 0.3333333333333333, 0.015] appears 5 times[0.20833333333333331, 0.0, 0.0, 0.00375, 0.36, 0.41666666666666663, 0.01125] appears 5 times[0.25, 0.0, 0.0, 0.0025, 0.24, 0.5, 0.0075] appears 5 times[0.29166666666666663, 0.0, 0.0, 0.00125, 0.12, 0.5833333333333333, 0.00375] appears 5 times[0.041666666666666664, 0.42874999999999996, 0.00875, 0.0, 0.0, 0.08333333333333333, 0.4375] appears 5 times[0.08333333333333333, 0.3675, 0.0075, 0.0, 0.0, 0.16666666666666666, 0.375] appears 5 times[0.125, 0.30625, 0.00625, 0.0, 0.0, 0.25, 0.3125] appears 5 times[0.16666666666666666, 0.245, 0.005, 0.0, 0.0, 0.3333333333333333, 0.25] appears 5 times[0.20833333333333331, 0.18375, 0.00375, 0.0, 0.0, 0.41666666666666663, 0.1875] appears 5 times[0.25, 0.1225, 0.0025, 0.0, 0.0, 0.5, 0.125] appears 5 times[0.29166666666666663, 0.06125, 0.00125, 0.0, 0.0, 0.5833333333333333, 0.0625] appears 5 times[0.0, 0.42874999999999996, 0.00875, 0.00125, 0.12, 0.0, 0.44125] appears 5 times[0.0, 0.3675, 0.0075, 0.0025, 0.24, 0.0, 0.3825] appears 5 times[0.0, 0.30625, 0.00625, 0.00375, 0.36, 0.0, 0.32375] appears 5 times[0.0, 0.245, 0.005, 0.005, 0.48, 0.0, 0.265] appears 5 times[0.0, 0.18375, 0.00375, 0.00625, 0.6, 0.0, 0.20625] appears 5 times[0.0, 0.1225, 0.0025, 0.0075, 0.72, 0.0, 0.1475] appears 5 times[0.0, 0.06125, 0.00125, 0.00875, 0.84, 0.0, 0.08875] appears 5 times'"
      ]
     },
     "execution_count": 63,
     "metadata": {},
     "output_type": "execute_result"
    }
   ],
   "source": [
    "find_duplicates(compositions)"
   ]
  },
  {
   "cell_type": "code",
   "execution_count": 48,
   "metadata": {},
   "outputs": [
    {
     "name": "stdout",
     "output_type": "stream",
     "text": [
      "('Hf95Ti5', 'Ti50Zr50'): occurs between ternary [(0, 1), (0, 2), (0, 3), (0, 4), (1, 2), (1, 3), (1, 4), (2, 3), (2, 4), (3, 4)]\n",
      "('NbTaWHf', 'Ti50Zr50'): occurs between ternary [(0, 5), (0, 6), (0, 7), (0, 8), (5, 6), (5, 7), (5, 8), (6, 7), (6, 8), (7, 8)]\n",
      "('Hf95Ti5', 'NbTaWHf'): occurs between ternary [(0, 15), (0, 16), (0, 17), (0, 18), (15, 16), (15, 17), (15, 18), (16, 17), (16, 18), (17, 18)]\n",
      "('Mo80Nb10W10', 'Ti50Zr50'): occurs between ternary [(1, 5), (1, 9), (1, 10), (1, 11), (5, 9), (5, 10), (5, 11), (9, 10), (9, 11), (10, 11)]\n",
      "('Hf95Ti5', 'Mo80Nb10W10'): occurs between ternary [(1, 15), (1, 19), (1, 20), (1, 21), (15, 19), (15, 20), (15, 21), (19, 20), (19, 21), (20, 21)]\n",
      "('Ti50Zr50', 'TiTa2'): occurs between ternary [(2, 6), (2, 9), (2, 12), (2, 13), (6, 9), (6, 12), (6, 13), (9, 12), (9, 13), (12, 13)]\n",
      "('Hf95Ti5', 'TiTa2'): occurs between ternary [(2, 16), (2, 19), (2, 22), (2, 23), (16, 19), (16, 22), (16, 23), (19, 22), (19, 23), (22, 23)]\n",
      "('Nb96Mo3W1', 'Ti50Zr50'): occurs between ternary [(3, 7), (3, 10), (3, 12), (3, 14), (7, 10), (7, 12), (7, 14), (10, 12), (10, 14), (12, 14)]\n",
      "('Hf95Ti5', 'Nb96Mo3W1'): occurs between ternary [(3, 17), (3, 20), (3, 22), (3, 24), (17, 20), (17, 22), (17, 24), (20, 22), (20, 24), (22, 24)]\n",
      "('Ti50Zr50', 'Zr49 Hf1 Mo50'): occurs between ternary [(4, 8), (4, 11), (4, 13), (4, 14), (8, 11), (8, 13), (8, 14), (11, 13), (11, 14), (13, 14)]\n",
      "('Hf95Ti5', 'Zr49 Hf1 Mo50'): occurs between ternary [(4, 18), (4, 21), (4, 23), (4, 24), (18, 21), (18, 23), (18, 24), (21, 23), (21, 24), (23, 24)]\n",
      "('Mo80Nb10W10', 'NbTaWHf'): occurs between ternary [(5, 15), (5, 25), (5, 26), (5, 27), (15, 25), (15, 26), (15, 27), (25, 26), (25, 27), (26, 27)]\n",
      "('NbTaWHf', 'TiTa2'): occurs between ternary [(6, 16), (6, 25), (6, 28), (6, 29), (16, 25), (16, 28), (16, 29), (25, 28), (25, 29), (28, 29)]\n",
      "('Nb96Mo3W1', 'NbTaWHf'): occurs between ternary [(7, 17), (7, 26), (7, 28), (7, 30), (17, 26), (17, 28), (17, 30), (26, 28), (26, 30), (28, 30)]\n",
      "('NbTaWHf', 'Zr49 Hf1 Mo50'): occurs between ternary [(8, 18), (8, 27), (8, 29), (8, 30), (18, 27), (18, 29), (18, 30), (27, 29), (27, 30), (29, 30)]\n",
      "('Mo80Nb10W10', 'TiTa2'): occurs between ternary [(9, 19), (9, 25), (9, 31), (9, 32), (19, 25), (19, 31), (19, 32), (25, 31), (25, 32), (31, 32)]\n",
      "('Mo80Nb10W10', 'Nb96Mo3W1'): occurs between ternary [(10, 20), (10, 26), (10, 31), (10, 33), (20, 26), (20, 31), (20, 33), (26, 31), (26, 33), (31, 33)]\n",
      "('Mo80Nb10W10', 'Zr49 Hf1 Mo50'): occurs between ternary [(11, 21), (11, 27), (11, 32), (11, 33), (21, 27), (21, 32), (21, 33), (27, 32), (27, 33), (32, 33)]\n",
      "('Nb96Mo3W1', 'TiTa2'): occurs between ternary [(12, 22), (12, 28), (12, 31), (12, 34), (22, 28), (22, 31), (22, 34), (28, 31), (28, 34), (31, 34)]\n",
      "('TiTa2', 'Zr49 Hf1 Mo50'): occurs between ternary [(13, 23), (13, 29), (13, 32), (13, 34), (23, 29), (23, 32), (23, 34), (29, 32), (29, 34), (32, 34)]\n",
      "('Nb96Mo3W1', 'Zr49 Hf1 Mo50'): occurs between ternary [(14, 24), (14, 30), (14, 33), (14, 34), (24, 30), (24, 33), (24, 34), (30, 33), (30, 34), (33, 34)]\n"
     ]
    }
   ],
   "source": [
    "stitchingBinaries = {}\n",
    "\n",
    "for i, combo1 in enumerate(ternaries):\n",
    "    for j, combo2 in enumerate(ternaries[i+1:], start=i+1):\n",
    "        common = set(combo1) & set(combo2)\n",
    "        if len(common) == 2:\n",
    "            overlap = tuple(sorted(common))\n",
    "            if overlap not in stitchingBinaries:\n",
    "                stitchingBinaries[overlap] = []\n",
    "            stitchingBinaries[overlap].append((i, j))\n",
    "\n",
    "for overlap, pairs in stitchingBinaries.items():\n",
    "    print(f\"{overlap}: occurs between ternary {pairs}\")"
   ]
  },
  {
   "cell_type": "code",
   "execution_count": 49,
   "metadata": {},
   "outputs": [
    {
     "name": "stdout",
     "output_type": "stream",
     "text": [
      "Stitching 0 and 1 at ('Hf95Ti5', 'Ti50Zr50') from [8, 16, 23, 29, 34, 38, 41, 43, 44] to [53, 61, 68, 74, 79, 83, 86, 88, 89]\n",
      "Stitching 0 and 2 at ('Hf95Ti5', 'Ti50Zr50') from [8, 16, 23, 29, 34, 38, 41, 43, 44] to [98, 106, 113, 119, 124, 128, 131, 133, 134]\n",
      "Stitching 0 and 3 at ('Hf95Ti5', 'Ti50Zr50') from [8, 16, 23, 29, 34, 38, 41, 43, 44] to [143, 151, 158, 164, 169, 173, 176, 178, 179]\n",
      "Stitching 0 and 4 at ('Hf95Ti5', 'Ti50Zr50') from [8, 16, 23, 29, 34, 38, 41, 43, 44] to [188, 196, 203, 209, 214, 218, 221, 223, 224]\n",
      "Stitching 1 and 2 at ('Hf95Ti5', 'Ti50Zr50') from [53, 61, 68, 74, 79, 83, 86, 88, 89] to [98, 106, 113, 119, 124, 128, 131, 133, 134]\n",
      "Stitching 1 and 3 at ('Hf95Ti5', 'Ti50Zr50') from [53, 61, 68, 74, 79, 83, 86, 88, 89] to [143, 151, 158, 164, 169, 173, 176, 178, 179]\n",
      "Stitching 1 and 4 at ('Hf95Ti5', 'Ti50Zr50') from [53, 61, 68, 74, 79, 83, 86, 88, 89] to [188, 196, 203, 209, 214, 218, 221, 223, 224]\n",
      "Stitching 2 and 3 at ('Hf95Ti5', 'Ti50Zr50') from [98, 106, 113, 119, 124, 128, 131, 133, 134] to [143, 151, 158, 164, 169, 173, 176, 178, 179]\n",
      "Stitching 2 and 4 at ('Hf95Ti5', 'Ti50Zr50') from [98, 106, 113, 119, 124, 128, 131, 133, 134] to [188, 196, 203, 209, 214, 218, 221, 223, 224]\n",
      "Stitching 3 and 4 at ('Hf95Ti5', 'Ti50Zr50') from [143, 151, 158, 164, 169, 173, 176, 178, 179] to [188, 196, 203, 209, 214, 218, 221, 223, 224]\n",
      "Stitching 0 and 5 at ('NbTaWHf', 'Ti50Zr50') from [0, 9, 17, 24, 30, 35, 39, 42, 44] to [233, 241, 248, 254, 259, 263, 266, 268, 269]\n",
      "Stitching 0 and 6 at ('NbTaWHf', 'Ti50Zr50') from [0, 9, 17, 24, 30, 35, 39, 42, 44] to [278, 286, 293, 299, 304, 308, 311, 313, 314]\n",
      "Stitching 0 and 7 at ('NbTaWHf', 'Ti50Zr50') from [0, 9, 17, 24, 30, 35, 39, 42, 44] to [323, 331, 338, 344, 349, 353, 356, 358, 359]\n",
      "Stitching 0 and 8 at ('NbTaWHf', 'Ti50Zr50') from [0, 9, 17, 24, 30, 35, 39, 42, 44] to [368, 376, 383, 389, 394, 398, 401, 403, 404]\n",
      "Stitching 5 and 6 at ('NbTaWHf', 'Ti50Zr50') from [233, 241, 248, 254, 259, 263, 266, 268, 269] to [278, 286, 293, 299, 304, 308, 311, 313, 314]\n",
      "Stitching 5 and 7 at ('NbTaWHf', 'Ti50Zr50') from [233, 241, 248, 254, 259, 263, 266, 268, 269] to [323, 331, 338, 344, 349, 353, 356, 358, 359]\n",
      "Stitching 5 and 8 at ('NbTaWHf', 'Ti50Zr50') from [233, 241, 248, 254, 259, 263, 266, 268, 269] to [368, 376, 383, 389, 394, 398, 401, 403, 404]\n",
      "Stitching 6 and 7 at ('NbTaWHf', 'Ti50Zr50') from [278, 286, 293, 299, 304, 308, 311, 313, 314] to [323, 331, 338, 344, 349, 353, 356, 358, 359]\n",
      "Stitching 6 and 8 at ('NbTaWHf', 'Ti50Zr50') from [278, 286, 293, 299, 304, 308, 311, 313, 314] to [368, 376, 383, 389, 394, 398, 401, 403, 404]\n",
      "Stitching 7 and 8 at ('NbTaWHf', 'Ti50Zr50') from [323, 331, 338, 344, 349, 353, 356, 358, 359] to [368, 376, 383, 389, 394, 398, 401, 403, 404]\n",
      "Stitching 0 and 15 at ('Hf95Ti5', 'NbTaWHf') from [8, 7, 6, 5, 4, 3, 2, 1, 0] to [719, 718, 716, 713, 709, 704, 698, 691, 683]\n",
      "Stitching 0 and 16 at ('Hf95Ti5', 'NbTaWHf') from [8, 7, 6, 5, 4, 3, 2, 1, 0] to [764, 763, 761, 758, 754, 749, 743, 736, 728]\n",
      "Stitching 0 and 17 at ('Hf95Ti5', 'NbTaWHf') from [8, 7, 6, 5, 4, 3, 2, 1, 0] to [809, 808, 806, 803, 799, 794, 788, 781, 773]\n",
      "Stitching 0 and 18 at ('Hf95Ti5', 'NbTaWHf') from [8, 7, 6, 5, 4, 3, 2, 1, 0] to [854, 853, 851, 848, 844, 839, 833, 826, 818]\n",
      "Stitching 15 and 16 at ('Hf95Ti5', 'NbTaWHf') from [719, 718, 716, 713, 709, 704, 698, 691, 683] to [764, 763, 761, 758, 754, 749, 743, 736, 728]\n",
      "Stitching 15 and 17 at ('Hf95Ti5', 'NbTaWHf') from [719, 718, 716, 713, 709, 704, 698, 691, 683] to [809, 808, 806, 803, 799, 794, 788, 781, 773]\n",
      "Stitching 15 and 18 at ('Hf95Ti5', 'NbTaWHf') from [719, 718, 716, 713, 709, 704, 698, 691, 683] to [854, 853, 851, 848, 844, 839, 833, 826, 818]\n",
      "Stitching 16 and 17 at ('Hf95Ti5', 'NbTaWHf') from [764, 763, 761, 758, 754, 749, 743, 736, 728] to [809, 808, 806, 803, 799, 794, 788, 781, 773]\n",
      "Stitching 16 and 18 at ('Hf95Ti5', 'NbTaWHf') from [764, 763, 761, 758, 754, 749, 743, 736, 728] to [854, 853, 851, 848, 844, 839, 833, 826, 818]\n",
      "Stitching 17 and 18 at ('Hf95Ti5', 'NbTaWHf') from [809, 808, 806, 803, 799, 794, 788, 781, 773] to [854, 853, 851, 848, 844, 839, 833, 826, 818]\n",
      "Stitching 1 and 5 at ('Mo80Nb10W10', 'Ti50Zr50') from [45, 54, 62, 69, 75, 80, 84, 87, 89] to [225, 234, 242, 249, 255, 260, 264, 267, 269]\n",
      "Stitching 1 and 9 at ('Mo80Nb10W10', 'Ti50Zr50') from [45, 54, 62, 69, 75, 80, 84, 87, 89] to [413, 421, 428, 434, 439, 443, 446, 448, 449]\n",
      "Stitching 1 and 10 at ('Mo80Nb10W10', 'Ti50Zr50') from [45, 54, 62, 69, 75, 80, 84, 87, 89] to [458, 466, 473, 479, 484, 488, 491, 493, 494]\n",
      "Stitching 1 and 11 at ('Mo80Nb10W10', 'Ti50Zr50') from [45, 54, 62, 69, 75, 80, 84, 87, 89] to [503, 511, 518, 524, 529, 533, 536, 538, 539]\n",
      "Stitching 5 and 9 at ('Mo80Nb10W10', 'Ti50Zr50') from [225, 234, 242, 249, 255, 260, 264, 267, 269] to [413, 421, 428, 434, 439, 443, 446, 448, 449]\n",
      "Stitching 5 and 10 at ('Mo80Nb10W10', 'Ti50Zr50') from [225, 234, 242, 249, 255, 260, 264, 267, 269] to [458, 466, 473, 479, 484, 488, 491, 493, 494]\n",
      "Stitching 5 and 11 at ('Mo80Nb10W10', 'Ti50Zr50') from [225, 234, 242, 249, 255, 260, 264, 267, 269] to [503, 511, 518, 524, 529, 533, 536, 538, 539]\n",
      "Stitching 9 and 10 at ('Mo80Nb10W10', 'Ti50Zr50') from [413, 421, 428, 434, 439, 443, 446, 448, 449] to [458, 466, 473, 479, 484, 488, 491, 493, 494]\n",
      "Stitching 9 and 11 at ('Mo80Nb10W10', 'Ti50Zr50') from [413, 421, 428, 434, 439, 443, 446, 448, 449] to [503, 511, 518, 524, 529, 533, 536, 538, 539]\n",
      "Stitching 10 and 11 at ('Mo80Nb10W10', 'Ti50Zr50') from [458, 466, 473, 479, 484, 488, 491, 493, 494] to [503, 511, 518, 524, 529, 533, 536, 538, 539]\n",
      "Stitching 1 and 15 at ('Hf95Ti5', 'Mo80Nb10W10') from [53, 52, 51, 50, 49, 48, 47, 46, 45] to [719, 717, 714, 710, 705, 699, 692, 684, 675]\n",
      "Stitching 1 and 19 at ('Hf95Ti5', 'Mo80Nb10W10') from [53, 52, 51, 50, 49, 48, 47, 46, 45] to [899, 898, 896, 893, 889, 884, 878, 871, 863]\n",
      "Stitching 1 and 20 at ('Hf95Ti5', 'Mo80Nb10W10') from [53, 52, 51, 50, 49, 48, 47, 46, 45] to [944, 943, 941, 938, 934, 929, 923, 916, 908]\n",
      "Stitching 1 and 21 at ('Hf95Ti5', 'Mo80Nb10W10') from [53, 52, 51, 50, 49, 48, 47, 46, 45] to [989, 988, 986, 983, 979, 974, 968, 961, 953]\n",
      "Stitching 15 and 19 at ('Hf95Ti5', 'Mo80Nb10W10') from [719, 717, 714, 710, 705, 699, 692, 684, 675] to [899, 898, 896, 893, 889, 884, 878, 871, 863]\n",
      "Stitching 15 and 20 at ('Hf95Ti5', 'Mo80Nb10W10') from [719, 717, 714, 710, 705, 699, 692, 684, 675] to [944, 943, 941, 938, 934, 929, 923, 916, 908]\n",
      "Stitching 15 and 21 at ('Hf95Ti5', 'Mo80Nb10W10') from [719, 717, 714, 710, 705, 699, 692, 684, 675] to [989, 988, 986, 983, 979, 974, 968, 961, 953]\n",
      "Stitching 19 and 20 at ('Hf95Ti5', 'Mo80Nb10W10') from [899, 898, 896, 893, 889, 884, 878, 871, 863] to [944, 943, 941, 938, 934, 929, 923, 916, 908]\n",
      "Stitching 19 and 21 at ('Hf95Ti5', 'Mo80Nb10W10') from [899, 898, 896, 893, 889, 884, 878, 871, 863] to [989, 988, 986, 983, 979, 974, 968, 961, 953]\n",
      "Stitching 20 and 21 at ('Hf95Ti5', 'Mo80Nb10W10') from [944, 943, 941, 938, 934, 929, 923, 916, 908] to [989, 988, 986, 983, 979, 974, 968, 961, 953]\n",
      "Stitching 2 and 6 at ('Ti50Zr50', 'TiTa2') from [134, 132, 129, 125, 120, 114, 107, 99, 90] to [314, 312, 309, 305, 300, 294, 287, 279, 270]\n",
      "Stitching 2 and 9 at ('Ti50Zr50', 'TiTa2') from [134, 132, 129, 125, 120, 114, 107, 99, 90] to [449, 447, 444, 440, 435, 429, 422, 414, 405]\n",
      "Stitching 2 and 12 at ('Ti50Zr50', 'TiTa2') from [134, 132, 129, 125, 120, 114, 107, 99, 90] to [584, 583, 581, 578, 574, 569, 563, 556, 548]\n",
      "Stitching 2 and 13 at ('Ti50Zr50', 'TiTa2') from [134, 132, 129, 125, 120, 114, 107, 99, 90] to [629, 628, 626, 623, 619, 614, 608, 601, 593]\n",
      "Stitching 6 and 9 at ('Ti50Zr50', 'TiTa2') from [314, 312, 309, 305, 300, 294, 287, 279, 270] to [449, 447, 444, 440, 435, 429, 422, 414, 405]\n",
      "Stitching 6 and 12 at ('Ti50Zr50', 'TiTa2') from [314, 312, 309, 305, 300, 294, 287, 279, 270] to [584, 583, 581, 578, 574, 569, 563, 556, 548]\n",
      "Stitching 6 and 13 at ('Ti50Zr50', 'TiTa2') from [314, 312, 309, 305, 300, 294, 287, 279, 270] to [629, 628, 626, 623, 619, 614, 608, 601, 593]\n",
      "Stitching 9 and 12 at ('Ti50Zr50', 'TiTa2') from [449, 447, 444, 440, 435, 429, 422, 414, 405] to [584, 583, 581, 578, 574, 569, 563, 556, 548]\n",
      "Stitching 9 and 13 at ('Ti50Zr50', 'TiTa2') from [449, 447, 444, 440, 435, 429, 422, 414, 405] to [629, 628, 626, 623, 619, 614, 608, 601, 593]\n",
      "Stitching 12 and 13 at ('Ti50Zr50', 'TiTa2') from [584, 583, 581, 578, 574, 569, 563, 556, 548] to [629, 628, 626, 623, 619, 614, 608, 601, 593]\n",
      "Stitching 2 and 16 at ('Hf95Ti5', 'TiTa2') from [98, 97, 96, 95, 94, 93, 92, 91, 90] to [764, 762, 759, 755, 750, 744, 737, 729, 720]\n",
      "Stitching 2 and 19 at ('Hf95Ti5', 'TiTa2') from [98, 97, 96, 95, 94, 93, 92, 91, 90] to [899, 897, 894, 890, 885, 879, 872, 864, 855]\n",
      "Stitching 2 and 22 at ('Hf95Ti5', 'TiTa2') from [98, 97, 96, 95, 94, 93, 92, 91, 90] to [1034, 1033, 1031, 1028, 1024, 1019, 1013, 1006, 998]\n",
      "Stitching 2 and 23 at ('Hf95Ti5', 'TiTa2') from [98, 97, 96, 95, 94, 93, 92, 91, 90] to [1079, 1078, 1076, 1073, 1069, 1064, 1058, 1051, 1043]\n",
      "Stitching 16 and 19 at ('Hf95Ti5', 'TiTa2') from [764, 762, 759, 755, 750, 744, 737, 729, 720] to [899, 897, 894, 890, 885, 879, 872, 864, 855]\n",
      "Stitching 16 and 22 at ('Hf95Ti5', 'TiTa2') from [764, 762, 759, 755, 750, 744, 737, 729, 720] to [1034, 1033, 1031, 1028, 1024, 1019, 1013, 1006, 998]\n",
      "Stitching 16 and 23 at ('Hf95Ti5', 'TiTa2') from [764, 762, 759, 755, 750, 744, 737, 729, 720] to [1079, 1078, 1076, 1073, 1069, 1064, 1058, 1051, 1043]\n",
      "Stitching 19 and 22 at ('Hf95Ti5', 'TiTa2') from [899, 897, 894, 890, 885, 879, 872, 864, 855] to [1034, 1033, 1031, 1028, 1024, 1019, 1013, 1006, 998]\n",
      "Stitching 19 and 23 at ('Hf95Ti5', 'TiTa2') from [899, 897, 894, 890, 885, 879, 872, 864, 855] to [1079, 1078, 1076, 1073, 1069, 1064, 1058, 1051, 1043]\n",
      "Stitching 22 and 23 at ('Hf95Ti5', 'TiTa2') from [1034, 1033, 1031, 1028, 1024, 1019, 1013, 1006, 998] to [1079, 1078, 1076, 1073, 1069, 1064, 1058, 1051, 1043]\n",
      "Stitching 3 and 7 at ('Nb96Mo3W1', 'Ti50Zr50') from [135, 144, 152, 159, 165, 170, 174, 177, 179] to [315, 324, 332, 339, 345, 350, 354, 357, 359]\n",
      "Stitching 3 and 10 at ('Nb96Mo3W1', 'Ti50Zr50') from [135, 144, 152, 159, 165, 170, 174, 177, 179] to [450, 459, 467, 474, 480, 485, 489, 492, 494]\n",
      "Stitching 3 and 12 at ('Nb96Mo3W1', 'Ti50Zr50') from [135, 144, 152, 159, 165, 170, 174, 177, 179] to [540, 549, 557, 564, 570, 575, 579, 582, 584]\n",
      "Stitching 3 and 14 at ('Nb96Mo3W1', 'Ti50Zr50') from [135, 144, 152, 159, 165, 170, 174, 177, 179] to [638, 646, 653, 659, 664, 668, 671, 673, 674]\n",
      "Stitching 7 and 10 at ('Nb96Mo3W1', 'Ti50Zr50') from [315, 324, 332, 339, 345, 350, 354, 357, 359] to [450, 459, 467, 474, 480, 485, 489, 492, 494]\n",
      "Stitching 7 and 12 at ('Nb96Mo3W1', 'Ti50Zr50') from [315, 324, 332, 339, 345, 350, 354, 357, 359] to [540, 549, 557, 564, 570, 575, 579, 582, 584]\n",
      "Stitching 7 and 14 at ('Nb96Mo3W1', 'Ti50Zr50') from [315, 324, 332, 339, 345, 350, 354, 357, 359] to [638, 646, 653, 659, 664, 668, 671, 673, 674]\n",
      "Stitching 10 and 12 at ('Nb96Mo3W1', 'Ti50Zr50') from [450, 459, 467, 474, 480, 485, 489, 492, 494] to [540, 549, 557, 564, 570, 575, 579, 582, 584]\n",
      "Stitching 10 and 14 at ('Nb96Mo3W1', 'Ti50Zr50') from [450, 459, 467, 474, 480, 485, 489, 492, 494] to [638, 646, 653, 659, 664, 668, 671, 673, 674]\n",
      "Stitching 12 and 14 at ('Nb96Mo3W1', 'Ti50Zr50') from [540, 549, 557, 564, 570, 575, 579, 582, 584] to [638, 646, 653, 659, 664, 668, 671, 673, 674]\n",
      "Stitching 3 and 17 at ('Hf95Ti5', 'Nb96Mo3W1') from [143, 142, 141, 140, 139, 138, 137, 136, 135] to [809, 807, 804, 800, 795, 789, 782, 774, 765]\n",
      "Stitching 3 and 20 at ('Hf95Ti5', 'Nb96Mo3W1') from [143, 142, 141, 140, 139, 138, 137, 136, 135] to [944, 942, 939, 935, 930, 924, 917, 909, 900]\n",
      "Stitching 3 and 22 at ('Hf95Ti5', 'Nb96Mo3W1') from [143, 142, 141, 140, 139, 138, 137, 136, 135] to [1034, 1032, 1029, 1025, 1020, 1014, 1007, 999, 990]\n",
      "Stitching 3 and 24 at ('Hf95Ti5', 'Nb96Mo3W1') from [143, 142, 141, 140, 139, 138, 137, 136, 135] to [1124, 1123, 1121, 1118, 1114, 1109, 1103, 1096, 1088]\n",
      "Stitching 17 and 20 at ('Hf95Ti5', 'Nb96Mo3W1') from [809, 807, 804, 800, 795, 789, 782, 774, 765] to [944, 942, 939, 935, 930, 924, 917, 909, 900]\n",
      "Stitching 17 and 22 at ('Hf95Ti5', 'Nb96Mo3W1') from [809, 807, 804, 800, 795, 789, 782, 774, 765] to [1034, 1032, 1029, 1025, 1020, 1014, 1007, 999, 990]\n",
      "Stitching 17 and 24 at ('Hf95Ti5', 'Nb96Mo3W1') from [809, 807, 804, 800, 795, 789, 782, 774, 765] to [1124, 1123, 1121, 1118, 1114, 1109, 1103, 1096, 1088]\n",
      "Stitching 20 and 22 at ('Hf95Ti5', 'Nb96Mo3W1') from [944, 942, 939, 935, 930, 924, 917, 909, 900] to [1034, 1032, 1029, 1025, 1020, 1014, 1007, 999, 990]\n",
      "Stitching 20 and 24 at ('Hf95Ti5', 'Nb96Mo3W1') from [944, 942, 939, 935, 930, 924, 917, 909, 900] to [1124, 1123, 1121, 1118, 1114, 1109, 1103, 1096, 1088]\n",
      "Stitching 22 and 24 at ('Hf95Ti5', 'Nb96Mo3W1') from [1034, 1032, 1029, 1025, 1020, 1014, 1007, 999, 990] to [1124, 1123, 1121, 1118, 1114, 1109, 1103, 1096, 1088]\n",
      "Stitching 4 and 8 at ('Ti50Zr50', 'Zr49 Hf1 Mo50') from [224, 222, 219, 215, 210, 204, 197, 189, 180] to [404, 402, 399, 395, 390, 384, 377, 369, 360]\n",
      "Stitching 4 and 11 at ('Ti50Zr50', 'Zr49 Hf1 Mo50') from [224, 222, 219, 215, 210, 204, 197, 189, 180] to [539, 537, 534, 530, 525, 519, 512, 504, 495]\n",
      "Stitching 4 and 13 at ('Ti50Zr50', 'Zr49 Hf1 Mo50') from [224, 222, 219, 215, 210, 204, 197, 189, 180] to [629, 627, 624, 620, 615, 609, 602, 594, 585]\n",
      "Stitching 4 and 14 at ('Ti50Zr50', 'Zr49 Hf1 Mo50') from [224, 222, 219, 215, 210, 204, 197, 189, 180] to [674, 672, 669, 665, 660, 654, 647, 639, 630]\n",
      "Stitching 8 and 11 at ('Ti50Zr50', 'Zr49 Hf1 Mo50') from [404, 402, 399, 395, 390, 384, 377, 369, 360] to [539, 537, 534, 530, 525, 519, 512, 504, 495]\n",
      "Stitching 8 and 13 at ('Ti50Zr50', 'Zr49 Hf1 Mo50') from [404, 402, 399, 395, 390, 384, 377, 369, 360] to [629, 627, 624, 620, 615, 609, 602, 594, 585]\n",
      "Stitching 8 and 14 at ('Ti50Zr50', 'Zr49 Hf1 Mo50') from [404, 402, 399, 395, 390, 384, 377, 369, 360] to [674, 672, 669, 665, 660, 654, 647, 639, 630]\n",
      "Stitching 11 and 13 at ('Ti50Zr50', 'Zr49 Hf1 Mo50') from [539, 537, 534, 530, 525, 519, 512, 504, 495] to [629, 627, 624, 620, 615, 609, 602, 594, 585]\n",
      "Stitching 11 and 14 at ('Ti50Zr50', 'Zr49 Hf1 Mo50') from [539, 537, 534, 530, 525, 519, 512, 504, 495] to [674, 672, 669, 665, 660, 654, 647, 639, 630]\n",
      "Stitching 13 and 14 at ('Ti50Zr50', 'Zr49 Hf1 Mo50') from [629, 627, 624, 620, 615, 609, 602, 594, 585] to [674, 672, 669, 665, 660, 654, 647, 639, 630]\n",
      "Stitching 4 and 18 at ('Hf95Ti5', 'Zr49 Hf1 Mo50') from [188, 187, 186, 185, 184, 183, 182, 181, 180] to [854, 852, 849, 845, 840, 834, 827, 819, 810]\n",
      "Stitching 4 and 21 at ('Hf95Ti5', 'Zr49 Hf1 Mo50') from [188, 187, 186, 185, 184, 183, 182, 181, 180] to [989, 987, 984, 980, 975, 969, 962, 954, 945]\n",
      "Stitching 4 and 23 at ('Hf95Ti5', 'Zr49 Hf1 Mo50') from [188, 187, 186, 185, 184, 183, 182, 181, 180] to [1079, 1077, 1074, 1070, 1065, 1059, 1052, 1044, 1035]\n",
      "Stitching 4 and 24 at ('Hf95Ti5', 'Zr49 Hf1 Mo50') from [188, 187, 186, 185, 184, 183, 182, 181, 180] to [1124, 1122, 1119, 1115, 1110, 1104, 1097, 1089, 1080]\n",
      "Stitching 18 and 21 at ('Hf95Ti5', 'Zr49 Hf1 Mo50') from [854, 852, 849, 845, 840, 834, 827, 819, 810] to [989, 987, 984, 980, 975, 969, 962, 954, 945]\n",
      "Stitching 18 and 23 at ('Hf95Ti5', 'Zr49 Hf1 Mo50') from [854, 852, 849, 845, 840, 834, 827, 819, 810] to [1079, 1077, 1074, 1070, 1065, 1059, 1052, 1044, 1035]\n",
      "Stitching 18 and 24 at ('Hf95Ti5', 'Zr49 Hf1 Mo50') from [854, 852, 849, 845, 840, 834, 827, 819, 810] to [1124, 1122, 1119, 1115, 1110, 1104, 1097, 1089, 1080]\n",
      "Stitching 21 and 23 at ('Hf95Ti5', 'Zr49 Hf1 Mo50') from [989, 987, 984, 980, 975, 969, 962, 954, 945] to [1079, 1077, 1074, 1070, 1065, 1059, 1052, 1044, 1035]\n",
      "Stitching 21 and 24 at ('Hf95Ti5', 'Zr49 Hf1 Mo50') from [989, 987, 984, 980, 975, 969, 962, 954, 945] to [1124, 1122, 1119, 1115, 1110, 1104, 1097, 1089, 1080]\n",
      "Stitching 23 and 24 at ('Hf95Ti5', 'Zr49 Hf1 Mo50') from [1079, 1077, 1074, 1070, 1065, 1059, 1052, 1044, 1035] to [1124, 1122, 1119, 1115, 1110, 1104, 1097, 1089, 1080]\n",
      "Stitching 5 and 15 at ('Mo80Nb10W10', 'NbTaWHf') from [225, 226, 227, 228, 229, 230, 231, 232, 233] to [675, 676, 677, 678, 679, 680, 681, 682, 683]\n",
      "Stitching 5 and 25 at ('Mo80Nb10W10', 'NbTaWHf') from [225, 226, 227, 228, 229, 230, 231, 232, 233] to [1133, 1141, 1148, 1154, 1159, 1163, 1166, 1168, 1169]\n",
      "Stitching 5 and 26 at ('Mo80Nb10W10', 'NbTaWHf') from [225, 226, 227, 228, 229, 230, 231, 232, 233] to [1178, 1186, 1193, 1199, 1204, 1208, 1211, 1213, 1214]\n",
      "Stitching 5 and 27 at ('Mo80Nb10W10', 'NbTaWHf') from [225, 226, 227, 228, 229, 230, 231, 232, 233] to [1223, 1231, 1238, 1244, 1249, 1253, 1256, 1258, 1259]\n",
      "Stitching 15 and 25 at ('Mo80Nb10W10', 'NbTaWHf') from [675, 676, 677, 678, 679, 680, 681, 682, 683] to [1133, 1141, 1148, 1154, 1159, 1163, 1166, 1168, 1169]\n",
      "Stitching 15 and 26 at ('Mo80Nb10W10', 'NbTaWHf') from [675, 676, 677, 678, 679, 680, 681, 682, 683] to [1178, 1186, 1193, 1199, 1204, 1208, 1211, 1213, 1214]\n",
      "Stitching 15 and 27 at ('Mo80Nb10W10', 'NbTaWHf') from [675, 676, 677, 678, 679, 680, 681, 682, 683] to [1223, 1231, 1238, 1244, 1249, 1253, 1256, 1258, 1259]\n",
      "Stitching 25 and 26 at ('Mo80Nb10W10', 'NbTaWHf') from [1133, 1141, 1148, 1154, 1159, 1163, 1166, 1168, 1169] to [1178, 1186, 1193, 1199, 1204, 1208, 1211, 1213, 1214]\n",
      "Stitching 25 and 27 at ('Mo80Nb10W10', 'NbTaWHf') from [1133, 1141, 1148, 1154, 1159, 1163, 1166, 1168, 1169] to [1223, 1231, 1238, 1244, 1249, 1253, 1256, 1258, 1259]\n",
      "Stitching 26 and 27 at ('Mo80Nb10W10', 'NbTaWHf') from [1178, 1186, 1193, 1199, 1204, 1208, 1211, 1213, 1214] to [1223, 1231, 1238, 1244, 1249, 1253, 1256, 1258, 1259]\n",
      "Stitching 6 and 16 at ('NbTaWHf', 'TiTa2') from [278, 277, 276, 275, 274, 273, 272, 271, 270] to [728, 727, 726, 725, 724, 723, 722, 721, 720]\n",
      "Stitching 6 and 25 at ('NbTaWHf', 'TiTa2') from [278, 277, 276, 275, 274, 273, 272, 271, 270] to [1169, 1167, 1164, 1160, 1155, 1149, 1142, 1134, 1125]\n",
      "Stitching 6 and 28 at ('NbTaWHf', 'TiTa2') from [278, 277, 276, 275, 274, 273, 272, 271, 270] to [1304, 1303, 1301, 1298, 1294, 1289, 1283, 1276, 1268]\n",
      "Stitching 6 and 29 at ('NbTaWHf', 'TiTa2') from [278, 277, 276, 275, 274, 273, 272, 271, 270] to [1349, 1348, 1346, 1343, 1339, 1334, 1328, 1321, 1313]\n",
      "Stitching 16 and 25 at ('NbTaWHf', 'TiTa2') from [728, 727, 726, 725, 724, 723, 722, 721, 720] to [1169, 1167, 1164, 1160, 1155, 1149, 1142, 1134, 1125]\n",
      "Stitching 16 and 28 at ('NbTaWHf', 'TiTa2') from [728, 727, 726, 725, 724, 723, 722, 721, 720] to [1304, 1303, 1301, 1298, 1294, 1289, 1283, 1276, 1268]\n",
      "Stitching 16 and 29 at ('NbTaWHf', 'TiTa2') from [728, 727, 726, 725, 724, 723, 722, 721, 720] to [1349, 1348, 1346, 1343, 1339, 1334, 1328, 1321, 1313]\n",
      "Stitching 25 and 28 at ('NbTaWHf', 'TiTa2') from [1169, 1167, 1164, 1160, 1155, 1149, 1142, 1134, 1125] to [1304, 1303, 1301, 1298, 1294, 1289, 1283, 1276, 1268]\n",
      "Stitching 25 and 29 at ('NbTaWHf', 'TiTa2') from [1169, 1167, 1164, 1160, 1155, 1149, 1142, 1134, 1125] to [1349, 1348, 1346, 1343, 1339, 1334, 1328, 1321, 1313]\n",
      "Stitching 28 and 29 at ('NbTaWHf', 'TiTa2') from [1304, 1303, 1301, 1298, 1294, 1289, 1283, 1276, 1268] to [1349, 1348, 1346, 1343, 1339, 1334, 1328, 1321, 1313]\n",
      "Stitching 7 and 17 at ('Nb96Mo3W1', 'NbTaWHf') from [315, 316, 317, 318, 319, 320, 321, 322, 323] to [765, 766, 767, 768, 769, 770, 771, 772, 773]\n",
      "Stitching 7 and 26 at ('Nb96Mo3W1', 'NbTaWHf') from [315, 316, 317, 318, 319, 320, 321, 322, 323] to [1170, 1179, 1187, 1194, 1200, 1205, 1209, 1212, 1214]\n",
      "Stitching 7 and 28 at ('Nb96Mo3W1', 'NbTaWHf') from [315, 316, 317, 318, 319, 320, 321, 322, 323] to [1260, 1269, 1277, 1284, 1290, 1295, 1299, 1302, 1304]\n",
      "Stitching 7 and 30 at ('Nb96Mo3W1', 'NbTaWHf') from [315, 316, 317, 318, 319, 320, 321, 322, 323] to [1358, 1366, 1373, 1379, 1384, 1388, 1391, 1393, 1394]\n",
      "Stitching 17 and 26 at ('Nb96Mo3W1', 'NbTaWHf') from [765, 766, 767, 768, 769, 770, 771, 772, 773] to [1170, 1179, 1187, 1194, 1200, 1205, 1209, 1212, 1214]\n",
      "Stitching 17 and 28 at ('Nb96Mo3W1', 'NbTaWHf') from [765, 766, 767, 768, 769, 770, 771, 772, 773] to [1260, 1269, 1277, 1284, 1290, 1295, 1299, 1302, 1304]\n",
      "Stitching 17 and 30 at ('Nb96Mo3W1', 'NbTaWHf') from [765, 766, 767, 768, 769, 770, 771, 772, 773] to [1358, 1366, 1373, 1379, 1384, 1388, 1391, 1393, 1394]\n",
      "Stitching 26 and 28 at ('Nb96Mo3W1', 'NbTaWHf') from [1170, 1179, 1187, 1194, 1200, 1205, 1209, 1212, 1214] to [1260, 1269, 1277, 1284, 1290, 1295, 1299, 1302, 1304]\n",
      "Stitching 26 and 30 at ('Nb96Mo3W1', 'NbTaWHf') from [1170, 1179, 1187, 1194, 1200, 1205, 1209, 1212, 1214] to [1358, 1366, 1373, 1379, 1384, 1388, 1391, 1393, 1394]\n",
      "Stitching 28 and 30 at ('Nb96Mo3W1', 'NbTaWHf') from [1260, 1269, 1277, 1284, 1290, 1295, 1299, 1302, 1304] to [1358, 1366, 1373, 1379, 1384, 1388, 1391, 1393, 1394]\n",
      "Stitching 8 and 18 at ('NbTaWHf', 'Zr49 Hf1 Mo50') from [368, 367, 366, 365, 364, 363, 362, 361, 360] to [818, 817, 816, 815, 814, 813, 812, 811, 810]\n",
      "Stitching 8 and 27 at ('NbTaWHf', 'Zr49 Hf1 Mo50') from [368, 367, 366, 365, 364, 363, 362, 361, 360] to [1259, 1257, 1254, 1250, 1245, 1239, 1232, 1224, 1215]\n",
      "Stitching 8 and 29 at ('NbTaWHf', 'Zr49 Hf1 Mo50') from [368, 367, 366, 365, 364, 363, 362, 361, 360] to [1349, 1347, 1344, 1340, 1335, 1329, 1322, 1314, 1305]\n",
      "Stitching 8 and 30 at ('NbTaWHf', 'Zr49 Hf1 Mo50') from [368, 367, 366, 365, 364, 363, 362, 361, 360] to [1394, 1392, 1389, 1385, 1380, 1374, 1367, 1359, 1350]\n",
      "Stitching 18 and 27 at ('NbTaWHf', 'Zr49 Hf1 Mo50') from [818, 817, 816, 815, 814, 813, 812, 811, 810] to [1259, 1257, 1254, 1250, 1245, 1239, 1232, 1224, 1215]\n",
      "Stitching 18 and 29 at ('NbTaWHf', 'Zr49 Hf1 Mo50') from [818, 817, 816, 815, 814, 813, 812, 811, 810] to [1349, 1347, 1344, 1340, 1335, 1329, 1322, 1314, 1305]\n",
      "Stitching 18 and 30 at ('NbTaWHf', 'Zr49 Hf1 Mo50') from [818, 817, 816, 815, 814, 813, 812, 811, 810] to [1394, 1392, 1389, 1385, 1380, 1374, 1367, 1359, 1350]\n",
      "Stitching 27 and 29 at ('NbTaWHf', 'Zr49 Hf1 Mo50') from [1259, 1257, 1254, 1250, 1245, 1239, 1232, 1224, 1215] to [1349, 1347, 1344, 1340, 1335, 1329, 1322, 1314, 1305]\n",
      "Stitching 27 and 30 at ('NbTaWHf', 'Zr49 Hf1 Mo50') from [1259, 1257, 1254, 1250, 1245, 1239, 1232, 1224, 1215] to [1394, 1392, 1389, 1385, 1380, 1374, 1367, 1359, 1350]\n",
      "Stitching 29 and 30 at ('NbTaWHf', 'Zr49 Hf1 Mo50') from [1349, 1347, 1344, 1340, 1335, 1329, 1322, 1314, 1305] to [1394, 1392, 1389, 1385, 1380, 1374, 1367, 1359, 1350]\n",
      "Stitching 9 and 19 at ('Mo80Nb10W10', 'TiTa2') from [413, 412, 411, 410, 409, 408, 407, 406, 405] to [863, 862, 861, 860, 859, 858, 857, 856, 855]\n",
      "Stitching 9 and 25 at ('Mo80Nb10W10', 'TiTa2') from [413, 412, 411, 410, 409, 408, 407, 406, 405] to [1133, 1132, 1131, 1130, 1129, 1128, 1127, 1126, 1125]\n",
      "Stitching 9 and 31 at ('Mo80Nb10W10', 'TiTa2') from [413, 412, 411, 410, 409, 408, 407, 406, 405] to [1439, 1438, 1436, 1433, 1429, 1424, 1418, 1411, 1403]\n",
      "Stitching 9 and 32 at ('Mo80Nb10W10', 'TiTa2') from [413, 412, 411, 410, 409, 408, 407, 406, 405] to [1484, 1483, 1481, 1478, 1474, 1469, 1463, 1456, 1448]\n",
      "Stitching 19 and 25 at ('Mo80Nb10W10', 'TiTa2') from [863, 862, 861, 860, 859, 858, 857, 856, 855] to [1133, 1132, 1131, 1130, 1129, 1128, 1127, 1126, 1125]\n",
      "Stitching 19 and 31 at ('Mo80Nb10W10', 'TiTa2') from [863, 862, 861, 860, 859, 858, 857, 856, 855] to [1439, 1438, 1436, 1433, 1429, 1424, 1418, 1411, 1403]\n",
      "Stitching 19 and 32 at ('Mo80Nb10W10', 'TiTa2') from [863, 862, 861, 860, 859, 858, 857, 856, 855] to [1484, 1483, 1481, 1478, 1474, 1469, 1463, 1456, 1448]\n",
      "Stitching 25 and 31 at ('Mo80Nb10W10', 'TiTa2') from [1133, 1132, 1131, 1130, 1129, 1128, 1127, 1126, 1125] to [1439, 1438, 1436, 1433, 1429, 1424, 1418, 1411, 1403]\n",
      "Stitching 25 and 32 at ('Mo80Nb10W10', 'TiTa2') from [1133, 1132, 1131, 1130, 1129, 1128, 1127, 1126, 1125] to [1484, 1483, 1481, 1478, 1474, 1469, 1463, 1456, 1448]\n",
      "Stitching 31 and 32 at ('Mo80Nb10W10', 'TiTa2') from [1439, 1438, 1436, 1433, 1429, 1424, 1418, 1411, 1403] to [1484, 1483, 1481, 1478, 1474, 1469, 1463, 1456, 1448]\n",
      "Stitching 10 and 20 at ('Mo80Nb10W10', 'Nb96Mo3W1') from [458, 457, 456, 455, 454, 453, 452, 451, 450] to [908, 907, 906, 905, 904, 903, 902, 901, 900]\n",
      "Stitching 10 and 26 at ('Mo80Nb10W10', 'Nb96Mo3W1') from [458, 457, 456, 455, 454, 453, 452, 451, 450] to [1178, 1177, 1176, 1175, 1174, 1173, 1172, 1171, 1170]\n",
      "Stitching 10 and 31 at ('Mo80Nb10W10', 'Nb96Mo3W1') from [458, 457, 456, 455, 454, 453, 452, 451, 450] to [1439, 1437, 1434, 1430, 1425, 1419, 1412, 1404, 1395]\n",
      "Stitching 10 and 33 at ('Mo80Nb10W10', 'Nb96Mo3W1') from [458, 457, 456, 455, 454, 453, 452, 451, 450] to [1529, 1528, 1526, 1523, 1519, 1514, 1508, 1501, 1493]\n",
      "Stitching 20 and 26 at ('Mo80Nb10W10', 'Nb96Mo3W1') from [908, 907, 906, 905, 904, 903, 902, 901, 900] to [1178, 1177, 1176, 1175, 1174, 1173, 1172, 1171, 1170]\n",
      "Stitching 20 and 31 at ('Mo80Nb10W10', 'Nb96Mo3W1') from [908, 907, 906, 905, 904, 903, 902, 901, 900] to [1439, 1437, 1434, 1430, 1425, 1419, 1412, 1404, 1395]\n",
      "Stitching 20 and 33 at ('Mo80Nb10W10', 'Nb96Mo3W1') from [908, 907, 906, 905, 904, 903, 902, 901, 900] to [1529, 1528, 1526, 1523, 1519, 1514, 1508, 1501, 1493]\n",
      "Stitching 26 and 31 at ('Mo80Nb10W10', 'Nb96Mo3W1') from [1178, 1177, 1176, 1175, 1174, 1173, 1172, 1171, 1170] to [1439, 1437, 1434, 1430, 1425, 1419, 1412, 1404, 1395]\n",
      "Stitching 26 and 33 at ('Mo80Nb10W10', 'Nb96Mo3W1') from [1178, 1177, 1176, 1175, 1174, 1173, 1172, 1171, 1170] to [1529, 1528, 1526, 1523, 1519, 1514, 1508, 1501, 1493]\n",
      "Stitching 31 and 33 at ('Mo80Nb10W10', 'Nb96Mo3W1') from [1439, 1437, 1434, 1430, 1425, 1419, 1412, 1404, 1395] to [1529, 1528, 1526, 1523, 1519, 1514, 1508, 1501, 1493]\n",
      "Stitching 11 and 21 at ('Mo80Nb10W10', 'Zr49 Hf1 Mo50') from [503, 502, 501, 500, 499, 498, 497, 496, 495] to [953, 952, 951, 950, 949, 948, 947, 946, 945]\n",
      "Stitching 11 and 27 at ('Mo80Nb10W10', 'Zr49 Hf1 Mo50') from [503, 502, 501, 500, 499, 498, 497, 496, 495] to [1223, 1222, 1221, 1220, 1219, 1218, 1217, 1216, 1215]\n",
      "Stitching 11 and 32 at ('Mo80Nb10W10', 'Zr49 Hf1 Mo50') from [503, 502, 501, 500, 499, 498, 497, 496, 495] to [1484, 1482, 1479, 1475, 1470, 1464, 1457, 1449, 1440]\n",
      "Stitching 11 and 33 at ('Mo80Nb10W10', 'Zr49 Hf1 Mo50') from [503, 502, 501, 500, 499, 498, 497, 496, 495] to [1529, 1527, 1524, 1520, 1515, 1509, 1502, 1494, 1485]\n",
      "Stitching 21 and 27 at ('Mo80Nb10W10', 'Zr49 Hf1 Mo50') from [953, 952, 951, 950, 949, 948, 947, 946, 945] to [1223, 1222, 1221, 1220, 1219, 1218, 1217, 1216, 1215]\n",
      "Stitching 21 and 32 at ('Mo80Nb10W10', 'Zr49 Hf1 Mo50') from [953, 952, 951, 950, 949, 948, 947, 946, 945] to [1484, 1482, 1479, 1475, 1470, 1464, 1457, 1449, 1440]\n",
      "Stitching 21 and 33 at ('Mo80Nb10W10', 'Zr49 Hf1 Mo50') from [953, 952, 951, 950, 949, 948, 947, 946, 945] to [1529, 1527, 1524, 1520, 1515, 1509, 1502, 1494, 1485]\n",
      "Stitching 27 and 32 at ('Mo80Nb10W10', 'Zr49 Hf1 Mo50') from [1223, 1222, 1221, 1220, 1219, 1218, 1217, 1216, 1215] to [1484, 1482, 1479, 1475, 1470, 1464, 1457, 1449, 1440]\n",
      "Stitching 27 and 33 at ('Mo80Nb10W10', 'Zr49 Hf1 Mo50') from [1223, 1222, 1221, 1220, 1219, 1218, 1217, 1216, 1215] to [1529, 1527, 1524, 1520, 1515, 1509, 1502, 1494, 1485]\n",
      "Stitching 32 and 33 at ('Mo80Nb10W10', 'Zr49 Hf1 Mo50') from [1484, 1482, 1479, 1475, 1470, 1464, 1457, 1449, 1440] to [1529, 1527, 1524, 1520, 1515, 1509, 1502, 1494, 1485]\n",
      "Stitching 12 and 22 at ('Nb96Mo3W1', 'TiTa2') from [540, 541, 542, 543, 544, 545, 546, 547, 548] to [990, 991, 992, 993, 994, 995, 996, 997, 998]\n",
      "Stitching 12 and 28 at ('Nb96Mo3W1', 'TiTa2') from [540, 541, 542, 543, 544, 545, 546, 547, 548] to [1260, 1261, 1262, 1263, 1264, 1265, 1266, 1267, 1268]\n",
      "Stitching 12 and 31 at ('Nb96Mo3W1', 'TiTa2') from [540, 541, 542, 543, 544, 545, 546, 547, 548] to [1395, 1396, 1397, 1398, 1399, 1400, 1401, 1402, 1403]\n",
      "Stitching 12 and 34 at ('Nb96Mo3W1', 'TiTa2') from [540, 541, 542, 543, 544, 545, 546, 547, 548] to [1538, 1546, 1553, 1559, 1564, 1568, 1571, 1573, 1574]\n",
      "Stitching 22 and 28 at ('Nb96Mo3W1', 'TiTa2') from [990, 991, 992, 993, 994, 995, 996, 997, 998] to [1260, 1261, 1262, 1263, 1264, 1265, 1266, 1267, 1268]\n",
      "Stitching 22 and 31 at ('Nb96Mo3W1', 'TiTa2') from [990, 991, 992, 993, 994, 995, 996, 997, 998] to [1395, 1396, 1397, 1398, 1399, 1400, 1401, 1402, 1403]\n",
      "Stitching 22 and 34 at ('Nb96Mo3W1', 'TiTa2') from [990, 991, 992, 993, 994, 995, 996, 997, 998] to [1538, 1546, 1553, 1559, 1564, 1568, 1571, 1573, 1574]\n",
      "Stitching 28 and 31 at ('Nb96Mo3W1', 'TiTa2') from [1260, 1261, 1262, 1263, 1264, 1265, 1266, 1267, 1268] to [1395, 1396, 1397, 1398, 1399, 1400, 1401, 1402, 1403]\n",
      "Stitching 28 and 34 at ('Nb96Mo3W1', 'TiTa2') from [1260, 1261, 1262, 1263, 1264, 1265, 1266, 1267, 1268] to [1538, 1546, 1553, 1559, 1564, 1568, 1571, 1573, 1574]\n",
      "Stitching 31 and 34 at ('Nb96Mo3W1', 'TiTa2') from [1395, 1396, 1397, 1398, 1399, 1400, 1401, 1402, 1403] to [1538, 1546, 1553, 1559, 1564, 1568, 1571, 1573, 1574]\n",
      "Stitching 13 and 23 at ('TiTa2', 'Zr49 Hf1 Mo50') from [593, 592, 591, 590, 589, 588, 587, 586, 585] to [1043, 1042, 1041, 1040, 1039, 1038, 1037, 1036, 1035]\n",
      "Stitching 13 and 29 at ('TiTa2', 'Zr49 Hf1 Mo50') from [593, 592, 591, 590, 589, 588, 587, 586, 585] to [1313, 1312, 1311, 1310, 1309, 1308, 1307, 1306, 1305]\n",
      "Stitching 13 and 32 at ('TiTa2', 'Zr49 Hf1 Mo50') from [593, 592, 591, 590, 589, 588, 587, 586, 585] to [1448, 1447, 1446, 1445, 1444, 1443, 1442, 1441, 1440]\n",
      "Stitching 13 and 34 at ('TiTa2', 'Zr49 Hf1 Mo50') from [593, 592, 591, 590, 589, 588, 587, 586, 585] to [1574, 1572, 1569, 1565, 1560, 1554, 1547, 1539, 1530]\n",
      "Stitching 23 and 29 at ('TiTa2', 'Zr49 Hf1 Mo50') from [1043, 1042, 1041, 1040, 1039, 1038, 1037, 1036, 1035] to [1313, 1312, 1311, 1310, 1309, 1308, 1307, 1306, 1305]\n",
      "Stitching 23 and 32 at ('TiTa2', 'Zr49 Hf1 Mo50') from [1043, 1042, 1041, 1040, 1039, 1038, 1037, 1036, 1035] to [1448, 1447, 1446, 1445, 1444, 1443, 1442, 1441, 1440]\n",
      "Stitching 23 and 34 at ('TiTa2', 'Zr49 Hf1 Mo50') from [1043, 1042, 1041, 1040, 1039, 1038, 1037, 1036, 1035] to [1574, 1572, 1569, 1565, 1560, 1554, 1547, 1539, 1530]\n",
      "Stitching 29 and 32 at ('TiTa2', 'Zr49 Hf1 Mo50') from [1313, 1312, 1311, 1310, 1309, 1308, 1307, 1306, 1305] to [1448, 1447, 1446, 1445, 1444, 1443, 1442, 1441, 1440]\n",
      "Stitching 29 and 34 at ('TiTa2', 'Zr49 Hf1 Mo50') from [1313, 1312, 1311, 1310, 1309, 1308, 1307, 1306, 1305] to [1574, 1572, 1569, 1565, 1560, 1554, 1547, 1539, 1530]\n",
      "Stitching 32 and 34 at ('TiTa2', 'Zr49 Hf1 Mo50') from [1448, 1447, 1446, 1445, 1444, 1443, 1442, 1441, 1440] to [1574, 1572, 1569, 1565, 1560, 1554, 1547, 1539, 1530]\n",
      "Stitching 14 and 24 at ('Nb96Mo3W1', 'Zr49 Hf1 Mo50') from [638, 637, 636, 635, 634, 633, 632, 631, 630] to [1088, 1087, 1086, 1085, 1084, 1083, 1082, 1081, 1080]\n",
      "Stitching 14 and 30 at ('Nb96Mo3W1', 'Zr49 Hf1 Mo50') from [638, 637, 636, 635, 634, 633, 632, 631, 630] to [1358, 1357, 1356, 1355, 1354, 1353, 1352, 1351, 1350]\n",
      "Stitching 14 and 33 at ('Nb96Mo3W1', 'Zr49 Hf1 Mo50') from [638, 637, 636, 635, 634, 633, 632, 631, 630] to [1493, 1492, 1491, 1490, 1489, 1488, 1487, 1486, 1485]\n",
      "Stitching 14 and 34 at ('Nb96Mo3W1', 'Zr49 Hf1 Mo50') from [638, 637, 636, 635, 634, 633, 632, 631, 630] to [1538, 1537, 1536, 1535, 1534, 1533, 1532, 1531, 1530]\n",
      "Stitching 24 and 30 at ('Nb96Mo3W1', 'Zr49 Hf1 Mo50') from [1088, 1087, 1086, 1085, 1084, 1083, 1082, 1081, 1080] to [1358, 1357, 1356, 1355, 1354, 1353, 1352, 1351, 1350]\n",
      "Stitching 24 and 33 at ('Nb96Mo3W1', 'Zr49 Hf1 Mo50') from [1088, 1087, 1086, 1085, 1084, 1083, 1082, 1081, 1080] to [1493, 1492, 1491, 1490, 1489, 1488, 1487, 1486, 1485]\n",
      "Stitching 24 and 34 at ('Nb96Mo3W1', 'Zr49 Hf1 Mo50') from [1088, 1087, 1086, 1085, 1084, 1083, 1082, 1081, 1080] to [1538, 1537, 1536, 1535, 1534, 1533, 1532, 1531, 1530]\n",
      "Stitching 30 and 33 at ('Nb96Mo3W1', 'Zr49 Hf1 Mo50') from [1358, 1357, 1356, 1355, 1354, 1353, 1352, 1351, 1350] to [1493, 1492, 1491, 1490, 1489, 1488, 1487, 1486, 1485]\n",
      "Stitching 30 and 34 at ('Nb96Mo3W1', 'Zr49 Hf1 Mo50') from [1358, 1357, 1356, 1355, 1354, 1353, 1352, 1351, 1350] to [1538, 1537, 1536, 1535, 1534, 1533, 1532, 1531, 1530]\n",
      "Stitching 33 and 34 at ('Nb96Mo3W1', 'Zr49 Hf1 Mo50') from [1493, 1492, 1491, 1490, 1489, 1488, 1487, 1486, 1485] to [1538, 1537, 1536, 1535, 1534, 1533, 1532, 1531, 1530]\n"
     ]
    }
   ],
   "source": [
    "for stitchingBinary, ternaryPairList in stitchingBinaries.items():\n",
    "    for ternaryPair in ternaryPairList:\n",
    "        ternary1, ternary2 = ternaryPair[0], ternaryPair[1]\n",
    "        stitching1 = stitching.findStitchingPoints_py(\n",
    "            3, ndiv, \n",
    "            components=ternaries[ternary1],\n",
    "            offset=ternary1*len(gridAtt)\n",
    "            )[\"-\".join(stitchingBinary)]\n",
    "        stitching2 = stitching.findStitchingPoints_py(\n",
    "            3, ndiv, \n",
    "            components=ternaries[ternary2],\n",
    "            offset=ternary2*len(gridAtt)\n",
    "            )[\"-\".join(stitchingBinary)]\n",
    "        print(f\"Stitching {ternary1} and {ternary2} at {stitchingBinary} from {stitching1} to {stitching2}\")\n",
    "        for i, j in zip(stitching1, stitching2):\n",
    "            edges.append((i, j))\n",
    "            graphNS[i].append(j)"
   ]
  },
  {
   "cell_type": "code",
   "execution_count": 50,
   "metadata": {},
   "outputs": [
    {
     "data": {
      "text/plain": [
       "9450"
      ]
     },
     "execution_count": 50,
     "metadata": {},
     "output_type": "execute_result"
    }
   ],
   "source": [
    "len(edges)"
   ]
  },
  {
   "cell_type": "code",
   "execution_count": 54,
   "metadata": {},
   "outputs": [],
   "source": [
    "# Plot is quite interesting, being a much more complex version of the last one, but it has too many points for a small Codespace VM to display smootly. You can remove `#` and \n",
    "# plotGraph(edges)\n",
    "clear_output()"
   ]
  },
  {
   "cell_type": "code",
   "execution_count": 55,
   "metadata": {},
   "outputs": [
    {
     "name": "stdout",
     "output_type": "stream",
     "text": [
      "['Ti', 'Zr', 'Hf', 'W', 'Nb', 'Ta', 'Mo']\n",
      "Loaded TDB file with phases considered: ['LAVES_C36', 'HCP_A3', 'LAVES_C15', 'LAVES_C14', 'LIQUID', 'BCC_A2', 'FCC_A1']\n"
     ]
    }
   ],
   "source": [
    "from pycalphad import Database\n",
    "dbf = Database(\"CrHfMoNbTaTiVWZr_9element_Feb2023.tdb\")\n",
    "phases = list(set(dbf.phases.keys()))\n",
    "print(elementalSpaceComponents)\n",
    "print(f'Loaded TDB file with phases considered: {phases}')"
   ]
  },
  {
   "cell_type": "code",
   "execution_count": 56,
   "metadata": {},
   "outputs": [],
   "source": [
    "from myPycalphadCallable import equilibrium_callable"
   ]
  },
  {
   "cell_type": "code",
   "execution_count": 57,
   "metadata": {},
   "outputs": [
    {
     "name": "stdout",
     "output_type": "stream",
     "text": [
      "[0.0, 0.0, 0.25, 0.25, 0.25, 0.25, 0.0]\n"
     ]
    },
    {
     "data": {
      "text/plain": [
       "['HCP_A3', 'BCC_A2']"
      ]
     },
     "execution_count": 57,
     "metadata": {},
     "output_type": "execute_result"
    }
   ],
   "source": [
    "print(compositions[0])\n",
    "equilibrium_callable(compositions[0])"
   ]
  },
  {
   "cell_type": "code",
   "execution_count": 58,
   "metadata": {},
   "outputs": [
    {
     "name": "stdout",
     "output_type": "stream",
     "text": [
      "Starting nodes: [0, 90, 1527, 1538, 107, 548, 178, 1574, 834, 545, 220, 78, 776, 1098, 1151]\n",
      "Starting node: [0.0, 0.0, 0.25, 0.25, 0.25, 0.25, 0.0]\n",
      "Starting node: [0.3333333333333333, 0.0, 0.0, 0.0, 0.0, 0.6666666666666666, 0.0]\n",
      "Starting node: [0.0, 0.06125, 0.00125, 0.08750000000000001, 0.08750000000000001, 0.0, 0.7625000000000001]\n",
      "Starting node: [0.0, 0.0, 0.0, 0.01, 0.96, 0.0, 0.03]\n",
      "Starting node: [0.375, 0.125, 0.0, 0.0, 0.0, 0.5, 0.0]\n",
      "Starting node: [0.3333333333333333, 0.0, 0.0, 0.0, 0.0, 0.6666666666666666, 0.0]\n",
      "Starting node: [0.44375, 0.4375, 0.11875, 0.0, 0.0, 0.0, 0.0]\n",
      "Starting node: [0.3333333333333333, 0.0, 0.0, 0.0, 0.0, 0.6666666666666666, 0.0]\n",
      "Starting node: [0.018750000000000003, 0.30625, 0.36249999999999993, 0.0, 0.0, 0.0, 0.3125]\n",
      "Starting node: [0.20833333333333331, 0.0, 0.0, 0.00375, 0.36, 0.41666666666666663, 0.01125]\n",
      "Starting node: [0.38125, 0.43625, 0.12, 0.0, 0.0, 0.0, 0.0625]\n",
      "Starting node: [0.26875, 0.25, 0.35624999999999996, 0.0125, 0.0125, 0.0, 0.1]\n",
      "Starting node: [0.00625, 0.0, 0.18125, 0.06875, 0.6625, 0.0625, 0.01875]\n",
      "Starting node: [0.0125, 0.30625, 0.24375, 0.00125, 0.12, 0.0, 0.31625]\n",
      "Starting node: [0.125, 0.0, 0.09375, 0.11875, 0.11875, 0.34375, 0.2]\n"
     ]
    }
   ],
   "source": [
    "startingNodes = [0, 90, 1527, 1538] + random.sample(range(len(compositions)), 11)\n",
    "print(f\"Starting nodes: {startingNodes}\")\n",
    "\n",
    "for startingNode in startingNodes:\n",
    "    print(f\"Starting node: {compositions[startingNode]}\")"
   ]
  },
  {
   "cell_type": "code",
   "execution_count": 59,
   "metadata": {},
   "outputs": [],
   "source": [
    "from tqdm.contrib.concurrent import process_map"
   ]
  },
  {
   "cell_type": "code",
   "execution_count": 60,
   "metadata": {},
   "outputs": [],
   "source": [
    "gridFeasible = [None]*len(compositions)\n",
    "queue = startingNodes.copy()\n",
    "explored = set()\n",
    "calcCount = 0"
   ]
  },
  {
   "cell_type": "code",
   "execution_count": 61,
   "metadata": {},
   "outputs": [
    {
     "name": "stdout",
     "output_type": "stream",
     "text": [
      "Queue: [0, 90, 1527, 1538, 107, 548, 178, 1574, 834, 545, 220, 78, 776, 1098, 1151]\n"
     ]
    },
    {
     "data": {
      "application/vnd.jupyter.widget-view+json": {
       "model_id": "1b12586211d44c169680382d72c60eb4",
       "version_major": 2,
       "version_minor": 0
      },
      "text/plain": [
       "  0%|          | 0/15 [00:00<?, ?it/s]"
      ]
     },
     "metadata": {},
     "output_type": "display_data"
    },
    {
     "name": "stdout",
     "output_type": "stream",
     "text": [
      "Calculations done: 15    | Explored points: 44   \n",
      "Queue: [1408, 1, 1537, 1409, 768, 1145, 1152, 775, 1156, 9, 1546, 777, 1157, 271, 783, 784, 277, 406, 280, 1563, 415, 288, 544, 546, 547, 1567, 423, 553, 554, 555, 175, 176, 177, 562, 179, 322, 592, 600, 217, 216, 91, 219, 222, 607, 99, 100, 232, 1003, 108, 1004, 367, 114, 1144, 1273, 1274, 1150, 767]\n"
     ]
    },
    {
     "data": {
      "application/vnd.jupyter.widget-view+json": {
       "model_id": "34bbe4abb92e4d8d862f328456b8b413",
       "version_major": 2,
       "version_minor": 0
      },
      "text/plain": [
       "  0%|          | 0/57 [00:00<?, ?it/s]"
      ]
     },
     "metadata": {},
     "output_type": "display_data"
    },
    {
     "name": "stdout",
     "output_type": "stream",
     "text": [
      "Calculations done: 72    | Explored points: 185  \n",
      "Queue: [1536, 2, 1545, 10, 17, 1553, 1557, 1558, 535, 1562, 1050, 539, 1566, 543, 1570, 552, 560, 561, 568, 580, 583, 591, 599, 92, 606, 1125, 1126, 613, 101, 109, 1135, 1136, 1137, 1138, 625, 115, 1143, 120, 1146, 1149, 1155, 1158, 1160, 1161, 1162, 1165, 1169, 1180, 670, 672, 1187, 1188, 682, 1195, 172, 171, 174, 173, 690, 1210, 212, 213, 727, 729, 730, 735, 231, 1255, 240, 1267, 1270, 1272, 1275, 766, 1278, 1280, 769, 1281, 1282, 772, 1285, 774, 778, 780, 782, 272, 785, 276, 789, 790, 279, 791, 1300, 281, 285, 1312, 289, 294, 295, 1320, 817, 825, 1345, 321, 330, 1365, 1372, 865, 1378, 355, 358, 359, 1390, 366, 1394, 375, 1399, 1401, 1407, 1410, 1415, 1416, 1417, 400, 407, 416, 424, 430, 1455, 997, 1002, 490, 1005, 493, 1010, 1011, 1012]\n"
     ]
    },
    {
     "data": {
      "application/vnd.jupyter.widget-view+json": {
       "model_id": "aed337ecd18e4d72be525acd3a8a1c63",
       "version_major": 2,
       "version_minor": 0
      },
      "text/plain": [
       "  0%|          | 0/137 [00:00<?, ?it/s]"
      ]
     },
     "metadata": {},
     "output_type": "display_data"
    },
    {
     "name": "stdout",
     "output_type": "stream",
     "text": [
      "Calculations done: 209   | Explored points: 391  \n",
      "Queue: [3, 1544, 11, 1550, 1551, 1552, 1041, 18, 1556, 1559, 24, 1561, 1049, 538, 1565, 542, 1057, 1058, 551, 559, 566, 567, 573, 574, 1087, 576, 577, 579, 581, 1095, 590, 1102, 1108, 598, 93, 605, 612, 102, 1127, 1128, 1129, 618, 1130, 621, 110, 622, 1139, 628, 116, 1142, 121, 125, 1163, 1164, 1166, 1171, 1172, 666, 1179, 667, 1181, 1189, 166, 167, 168, 681, 170, 169, 1196, 1200, 1201, 689, 1206, 1207, 697, 1209, 722, 726, 731, 734, 738, 1251, 1252, 742, 1254, 1261, 239, 247, 1271, 765, 1279, 770, 771, 1286, 1287, 1288, 1291, 779, 1293, 1294, 1296, 1297, 1298, 787, 786, 273, 275, 792, 282, 795, 284, 796, 797, 290, 292, 1319, 296, 301, 1327, 816, 1333, 824, 1338, 1341, 1342, 832, 320, 329, 1356, 1357, 337, 1364, 857, 1371, 351, 352, 1377, 866, 356, 1383, 873, 1386, 1387, 365, 374, 1406, 382, 901, 1414, 396, 1421, 910, 1422, 1423, 397, 404, 917, 918, 408, 924, 925, 417, 425, 1454, 431, 436, 1462, 991, 486, 487, 1000, 1001, 491, 1008, 1009, 1015, 1016, 1017, 1018, 1535]\n"
     ]
    },
    {
     "data": {
      "application/vnd.jupyter.widget-view+json": {
       "model_id": "b3c91c564d274e20aec1b991d7a29d72",
       "version_major": 2,
       "version_minor": 0
      },
      "text/plain": [
       "  0%|          | 0/180 [00:00<?, ?it/s]"
      ]
     },
     "metadata": {},
     "output_type": "display_data"
    },
    {
     "name": "stdout",
     "output_type": "stream",
     "text": [
      "Calculations done: 389   | Explored points: 609  \n",
      "Queue: [4, 1542, 1543, 12, 1549, 1040, 19, 1555, 1560, 25, 1048, 541, 30, 1056, 550, 1063, 1064, 1534, 558, 565, 571, 572, 1086, 575, 1088, 578, 1094, 589, 1101, 1107, 597, 1113, 1114, 604, 94, 611, 103, 616, 617, 1131, 620, 111, 1140, 117, 122, 1147, 126, 129, 1170, 1173, 662, 661, 663, 1182, 160, 161, 162, 163, 164, 165, 1190, 1197, 1202, 1205, 696, 703, 208, 723, 725, 732, 733, 1250, 739, 741, 745, 748, 246, 253, 1292, 274, 793, 283, 798, 800, 801, 802, 291, 1318, 297, 298, 1326, 302, 815, 306, 1332, 823, 1336, 1337, 831, 319, 838, 328, 1355, 336, 1363, 343, 346, 858, 1370, 347, 348, 1376, 353, 867, 1381, 1382, 874, 880, 373, 1405, 381, 388, 1412, 1413, 902, 392, 391, 393, 395, 1420, 911, 1424, 1426, 1427, 1428, 1429, 919, 1432, 1433, 409, 926, 418, 931, 426, 1453, 432, 1461, 437, 441, 1468, 1473, 1477, 1499, 1500, 1501, 481, 482, 1507, 483, 488, 1021, 1022, 1023]\n"
     ]
    },
    {
     "data": {
      "application/vnd.jupyter.widget-view+json": {
       "model_id": "3a774f78178d48159637440f3a230adf",
       "version_major": 2,
       "version_minor": 0
      },
      "text/plain": [
       "  0%|          | 0/163 [00:00<?, ?it/s]"
      ]
     },
     "metadata": {},
     "output_type": "display_data"
    },
    {
     "name": "stdout",
     "output_type": "stream",
     "text": [
      "Calculations done: 552   | Explored points: 792  \n",
      "Queue: [1026, 1027, 5, 1541, 1548, 13, 1039, 1554, 20, 1047, 26, 540, 1055, 31, 35, 549, 1062, 1068, 557, 1069, 564, 570, 1085, 1093, 588, 1100, 1106, 596, 1112, 603, 1117, 1118, 95, 610, 615, 104, 1132, 112, 1141, 118, 123, 1148, 127, 130, 132, 655, 656, 657, 658, 1174, 155, 156, 157, 158, 1183, 1191, 1203, 708, 202, 724, 740, 746, 747, 751, 753, 252, 258, 804, 1317, 805, 806, 1325, 303, 1330, 307, 1331, 310, 1335, 318, 837, 327, 1354, 843, 335, 1362, 340, 341, 342, 1369, 859, 868, 875, 881, 886, 380, 386, 387, 903, 912, 1430, 1431, 920, 410, 1435, 927, 419, 932, 936, 1452, 433, 1460, 438, 442, 1467, 445, 1480, 1498, 475, 476, 477, 1506, 1513, 1533]\n"
     ]
    },
    {
     "data": {
      "application/vnd.jupyter.widget-view+json": {
       "model_id": "fceb9cdc1d66406396ef6a1a12440348",
       "version_major": 2,
       "version_minor": 0
      },
      "text/plain": [
       "  0%|          | 0/123 [00:00<?, ?it/s]"
      ]
     },
     "metadata": {},
     "output_type": "display_data"
    },
    {
     "name": "stdout",
     "output_type": "stream",
     "text": [
      "Calculations done: 675   | Explored points: 946  \n",
      "Queue: [1028, 1029, 6, 1030, 1031, 1540, 1547, 14, 1038, 21, 1046, 27, 1054, 32, 36, 1061, 39, 1067, 1072, 1084, 1092, 587, 1099, 1105, 1111, 1116, 1120, 96, 105, 1133, 113, 119, 124, 637, 128, 131, 645, 646, 133, 134, 649, 650, 651, 652, 653, 659, 148, 147, 149, 1175, 150, 1177, 154, 151, 1184, 1185, 1193, 195, 1222, 712, 1230, 752, 756, 757, 257, 262, 1316, 807, 808, 1324, 313, 317, 326, 1353, 842, 333, 334, 847, 1361, 850, 339, 860, 869, 876, 882, 887, 891, 904, 913, 1434, 411, 1437, 937, 1451, 940, 1459, 1466, 443, 446, 448, 1472, 1482, 468, 469, 470, 471, 1497, 478, 1505, 1512, 1518, 1522, 1532]\n"
     ]
    },
    {
     "data": {
      "application/vnd.jupyter.widget-view+json": {
       "model_id": "bb03bf7311634c668eb1a47515284de1",
       "version_major": 2,
       "version_minor": 0
      },
      "text/plain": [
       "  0%|          | 0/113 [00:00<?, ?it/s]"
      ]
     },
     "metadata": {},
     "output_type": "display_data"
    },
    {
     "name": "stdout",
     "output_type": "stream",
     "text": [
      "Calculations done: 788   | Explored points: 1077 \n",
      "Queue: [641, 642, 643, 644, 261, 7, 1032, 1033, 265, 648, 140, 1037, 139, 15, 138, 141, 146, 142, 143, 22, 1176, 153, 28, 1053, 412, 33, 1315, 1060, 37, 420, 40, 1192, 1066, 42, 1323, 892, 1071, 943, 1075, 1076, 1083, 187, 316, 1091, 325, 1352, 905, 715, 332, 461, 460, 462, 463, 854, 1496, 1115, 861, 1119, 1504, 97, 1122, 870, 1511, 106, 1517, 1525, 760, 1529, 636, 895]\n"
     ]
    },
    {
     "data": {
      "application/vnd.jupyter.widget-view+json": {
       "model_id": "0a5174f479be4af3927e080d93a6635e",
       "version_major": 2,
       "version_minor": 0
      },
      "text/plain": [
       "  0%|          | 0/70 [00:00<?, ?it/s]"
      ]
     },
     "metadata": {},
     "output_type": "display_data"
    },
    {
     "name": "stdout",
     "output_type": "stream",
     "text": [
      "Calculations done: 858   | Explored points: 1163 \n",
      "Queue: [640, 899, 8, 264, 1034, 267, 268, 137, 906, 16, 145, 914, 23, 29, 413, 34, 421, 38, 41, 43, 44, 1070, 944, 1074, 315, 451, 324, 453, 452, 454, 455, 717, 464, 852, 871, 634, 632, 633, 762, 635]\n"
     ]
    },
    {
     "data": {
      "application/vnd.jupyter.widget-view+json": {
       "model_id": "6c1f79f06f0c4988ab0318afc804896d",
       "version_major": 2,
       "version_minor": 0
      },
      "text/plain": [
       "  0%|          | 0/40 [00:00<?, ?it/s]"
      ]
     },
     "metadata": {},
     "output_type": "display_data"
    },
    {
     "name": "stdout",
     "output_type": "stream",
     "text": [
      "Calculations done: 898   | Explored points: 1222 \n",
      "Queue: [898, 136, 907, 269, 144, 915, 152, 52, 60, 61, 67, 68, 456, 73, 74, 457, 79, 466, 83, 82, 85, 86, 87, 88, 89, 502]\n"
     ]
    },
    {
     "data": {
      "application/vnd.jupyter.widget-view+json": {
       "model_id": "cb248de429994b4987ac1751e795e164",
       "version_major": 2,
       "version_minor": 0
      },
      "text/plain": [
       "  0%|          | 0/26 [00:00<?, ?it/s]"
      ]
     },
     "metadata": {},
     "output_type": "display_data"
    },
    {
     "name": "stdout",
     "output_type": "stream",
     "text": [
      "Calculations done: 924   | Explored points: 1238 \n",
      "Queue: [159, 465, 908, 135]\n"
     ]
    },
    {
     "data": {
      "application/vnd.jupyter.widget-view+json": {
       "model_id": "f4536d39ea6743d8b0892a9c3598d81f",
       "version_major": 2,
       "version_minor": 0
      },
      "text/plain": [
       "  0%|          | 0/4 [00:00<?, ?it/s]"
      ]
     },
     "metadata": {},
     "output_type": "display_data"
    },
    {
     "name": "stdout",
     "output_type": "stream",
     "text": [
      "Calculations done: 928   | Explored points: 1243 \n"
     ]
    }
   ],
   "source": [
    "while len(queue)>0:\n",
    "    print(f\"Queue: {queue}\")\n",
    "    # Calculate feasibilities of the current queue\n",
    "    elPositions = [compositions[i] for i in queue]\n",
    "    if len(queue)>3:\n",
    "        phases = process_map(equilibrium_callable, elPositions, max_workers=4)\n",
    "    else:\n",
    "        phases = [equilibrium_callable(elP) for elP in elPositions]\n",
    "    feasibilities = [len(set(p) & set(['LAVES_C15', 'LAVES_C36', 'LAVES_C14', 'LIQUID']))==0 and p!=[] for p in phases]\n",
    "\n",
    "    calcCount += len(feasibilities)\n",
    "    explored = explored.union(queue)\n",
    "\n",
    "    # Create next queue based on neighbors of feasible points\n",
    "    nextQueue = set()\n",
    "    nextQueuePlusEquivalent = set()\n",
    "    for f, i in zip(feasibilities, queue):\n",
    "        # Explored point\n",
    "        gridFeasible[i] = f\n",
    "\n",
    "        # And equivalent explored points based on system stitching\n",
    "        explored = explored.union(graphNS[i])\n",
    "        for eq in graphNS[i]:\n",
    "            gridFeasible[eq] = f\n",
    "\n",
    "        # Expand to neighbors of the point and equivalent points (only if the node has been feasible)\n",
    "        if f:\n",
    "            # Node neighbors in the same subsystem\n",
    "            for n in graphN[i]:\n",
    "                if n not in explored and n not in nextQueuePlusEquivalent:\n",
    "                    nextQueue.add(n)\n",
    "                    nextQueuePlusEquivalent = nextQueuePlusEquivalent.union([n] + graphNS[n])\n",
    "            # Equivalent nodes neighbors in other subsystems\n",
    "            for eq in graphNS[i]:\n",
    "                for n in graphN[eq]:\n",
    "                    if n not in explored and n not in nextQueuePlusEquivalent:\n",
    "                        nextQueue.add(n)\n",
    "                        nextQueuePlusEquivalent = nextQueuePlusEquivalent.union([n] + graphNS[n])\n",
    "\n",
    "    print(f\"Calculations done: {calcCount:<5} | Explored points: {len(explored):<5}\")\n",
    "    queue = list(nextQueue)"
   ]
  },
  {
   "cell_type": "markdown",
   "metadata": {},
   "source": [
    "You should see around 930-950 calculations done and around 1250 points explored (thanks to equivalence of stitching points)."
   ]
  },
  {
   "cell_type": "code",
   "execution_count": 62,
   "metadata": {},
   "outputs": [
    {
     "name": "stdout",
     "output_type": "stream",
     "text": [
      "Feasible points: 1039 out of 1575\n"
     ]
    }
   ],
   "source": [
    "feasibleCount = 0\n",
    "for f in gridFeasible:\n",
    "    if f:\n",
    "        feasibleCount += 1\n",
    "print(f\"Feasible points: {feasibleCount} out of {len(gridFeasible)}\")"
   ]
  },
  {
   "cell_type": "markdown",
   "metadata": {},
   "source": [
    "Out of the explored points, around 1040 should be feasible (i.e., satisfy the equilibrium constraint)."
   ]
  },
  {
   "cell_type": "code",
   "execution_count": 63,
   "metadata": {},
   "outputs": [],
   "source": [
    "# You can double check the feasibility of the points by running the following code, it is skipped here to save time during the tutorial\n",
    "\n",
    "#gridPhasesComplete = process_map(equilibrium_callable, compositions)\n",
    "\n",
    "#gridFeasibleComplete = [len(set(p) & set(['LAVES_C15', 'LAVES_C36', 'LAVES_C14', 'LIQUID']))==0 and p!=[] for p in gridPhasesComplete]\n",
    "#print(sum(gridFeasibleComplete))"
   ]
  },
  {
   "cell_type": "code",
   "execution_count": null,
   "metadata": {},
   "outputs": [
    {
     "data": {
      "text/plain": [
       "1575"
      ]
     },
     "execution_count": 71,
     "metadata": {},
     "output_type": "execute_result"
    }
   ],
   "source": []
  },
  {
   "cell_type": "markdown",
   "metadata": {},
   "source": [
    "## Adding More Constraints"
   ]
  },
  {
   "cell_type": "code",
   "execution_count": 64,
   "metadata": {},
   "outputs": [],
   "source": [
    "import pqam_rmsadtandoc2023\n",
    "\n",
    "def c2rmsad(point):\n",
    "    formula = ' '.join([f'{c}{p}' for c, p in zip(elementalSpaceComponents, point)])\n",
    "    return pqam_rmsadtandoc2023.predict(formula)"
   ]
  },
  {
   "cell_type": "code",
   "execution_count": 65,
   "metadata": {},
   "outputs": [
    {
     "name": "stdout",
     "output_type": "stream",
     "text": [
      "[0.0, 0.0, 0.25, 0.25, 0.25, 0.25, 0.0]\n"
     ]
    },
    {
     "data": {
      "text/plain": [
       "0.11816658059128823"
      ]
     },
     "execution_count": 65,
     "metadata": {},
     "output_type": "execute_result"
    }
   ],
   "source": [
    "print(compositions[0])\n",
    "c2rmsad(compositions[0])"
   ]
  },
  {
   "cell_type": "code",
   "execution_count": 66,
   "metadata": {},
   "outputs": [
    {
     "name": "stdout",
     "output_type": "stream",
     "text": [
      "Average RMSAD: 0.16141834794438295\n"
     ]
    }
   ],
   "source": [
    "avgRMSAD = sum([c2rmsad(p) for p in compositions])/len(compositions)\n",
    "print(f\"Average RMSAD: {avgRMSAD}\")"
   ]
  },
  {
   "cell_type": "code",
   "execution_count": 67,
   "metadata": {},
   "outputs": [
    {
     "name": "stdout",
     "output_type": "stream",
     "text": [
      "Starting node (0): [0.0, 0.0, 0.25, 0.25, 0.25, 0.25, 0.0]\n",
      "Starting node (90): [0.3333333333333333, 0.0, 0.0, 0.0, 0.0, 0.6666666666666666, 0.0]\n",
      "Starting node (742): [0.05416666666666667, 0.0, 0.39375, 0.15625, 0.15625, 0.23958333333333331, 0.0]\n",
      "Starting node (799): [0.025, 0.0, 0.6, 0.125, 0.125, 0.125, 0.0]\n",
      "Starting node (1048): [0.17291666666666666, 0.18375, 0.1225, 0.0, 0.0, 0.3333333333333333, 0.1875]\n",
      "Starting node (1070): [0.03125, 0.18375, 0.5975, 0.0, 0.0, 0.0, 0.1875]\n",
      "Starting node (1538): [0.0, 0.0, 0.0, 0.01, 0.96, 0.0, 0.03]\n",
      "Starting node (680): [0.0, 0.0, 0.15625, 0.19375, 0.19375, 0.15625, 0.30000000000000004]\n",
      "Starting node (697): [0.0125, 0.0, 0.39375, 0.16875, 0.16875, 0.15625, 0.1]\n",
      "Starting node (106): [0.10625, 0.0625, 0.8312499999999999, 0.0, 0.0, 0.0, 0.0]\n",
      "Starting node (326): [0.0625, 0.0625, 0.0625, 0.06875, 0.6625, 0.0625, 0.01875]\n",
      "Starting node (276): [0.08333333333333333, 0.0, 0.1875, 0.1875, 0.1875, 0.35416666666666663, 0.0]\n",
      "Starting node (690): [0.00625, 0.0, 0.30625, 0.2, 0.2, 0.1875, 0.1]\n",
      "Starting node (1148): [0.0, 0.0, 0.0625, 0.1375, 0.1375, 0.0625, 0.6000000000000001]\n",
      "Starting node (683): [0.0, 0.0, 0.25, 0.25, 0.25, 0.25, 0.0]\n",
      "Starting node (1437): [0.0, 0.0, 0.0, 0.08875000000000001, 0.20750000000000002, 0.0, 0.7037500000000001]\n",
      "Starting node (502): [0.0, 0.06125, 0.00125, 0.08750000000000001, 0.08750000000000001, 0.0, 0.7625000000000001]\n",
      "Starting node (335): [0.125, 0.125, 0.09375, 0.0975, 0.45375, 0.09375, 0.01125]\n",
      "Starting node (3): [0.018750000000000003, 0.0, 0.5125, 0.15625, 0.15625, 0.15625, 0.0]\n",
      "Starting node (893): [0.03125, 0.0, 0.59375, 0.037500000000000006, 0.037500000000000006, 0.0, 0.30000000000000004]\n"
     ]
    }
   ],
   "source": [
    "startingNodes = [0, 90, 742, 799, 1048, 1070, 1538] + random.sample(range(len(compositions)), 13)\n",
    "\n",
    "for startingNode in startingNodes:\n",
    "    print(f\"Starting node ({startingNode}): {compositions[startingNode]}\")"
   ]
  },
  {
   "cell_type": "code",
   "execution_count": 68,
   "metadata": {},
   "outputs": [
    {
     "name": "stdout",
     "output_type": "stream",
     "text": [
      "Minimum RMSAD: 0.2\n"
     ]
    }
   ],
   "source": [
    "gridFeasible = [None]*len(compositions)\n",
    "queue = startingNodes.copy()\n",
    "explored = set()\n",
    "calcCount = 0\n",
    "\n",
    "minRMSAD = 0.2\n",
    "print(f\"Minimum RMSAD: {minRMSAD}\")"
   ]
  },
  {
   "cell_type": "code",
   "execution_count": 69,
   "metadata": {},
   "outputs": [
    {
     "name": "stdout",
     "output_type": "stream",
     "text": [
      "Queue: [0, 90, 742, 799, 1048, 1070, 1538, 680, 697, 106, 326, 276, 690, 1148, 683, 1437, 502, 335, 3, 893]\n",
      "Calculations done: 3     | Explored points: 62   \n",
      "Queue: [97, 98, 803, 195, 838, 105, 843, 142, 113, 150, 793, 187, 798]\n"
     ]
    },
    {
     "data": {
      "application/vnd.jupyter.widget-view+json": {
       "model_id": "ea16fcbf24bd46e58a6ad1fd67c06620",
       "version_major": 2,
       "version_minor": 0
      },
      "text/plain": [
       "  0%|          | 0/12 [00:00<?, ?it/s]"
      ]
     },
     "metadata": {},
     "output_type": "display_data"
    },
    {
     "name": "stdout",
     "output_type": "stream",
     "text": [
      "Calculations done: 15    | Explored points: 96   \n",
      "Queue: [898, 1030, 1032, 141, 149, 792, 157, 797, 802, 805, 806, 940, 944, 1075, 1077, 831, 832, 837, 842, 202, 847, 96, 1120, 104, 112, 119, 760, 763, 764, 895]\n"
     ]
    },
    {
     "data": {
      "application/vnd.jupyter.widget-view+json": {
       "model_id": "df52adb92a794b4ea4b8773e8aa41ec1",
       "version_major": 2,
       "version_minor": 0
      },
      "text/plain": [
       "  0%|          | 0/24 [00:00<?, ?it/s]"
      ]
     },
     "metadata": {},
     "output_type": "display_data"
    },
    {
     "name": "stdout",
     "output_type": "stream",
     "text": [
      "Calculations done: 39    | Explored points: 140  \n",
      "Queue: [1026, 1027, 1029, 1031, 140, 148, 791, 796, 156, 801, 163, 164, 936, 808, 809, 1071, 1072, 1074, 208, 850, 1116, 1117, 95, 103, 111, 756, 757, 118, 761, 891, 124]\n"
     ]
    },
    {
     "data": {
      "application/vnd.jupyter.widget-view+json": {
       "model_id": "6310d805d87247429447c2edecac84bb",
       "version_major": 2,
       "version_minor": 0
      },
      "text/plain": [
       "  0%|          | 0/26 [00:00<?, ?it/s]"
      ]
     },
     "metadata": {},
     "output_type": "display_data"
    },
    {
     "name": "stdout",
     "output_type": "stream",
     "text": [
      "Calculations done: 65    | Explored points: 179  \n",
      "Queue: [128, 1025, 1028, 139, 147, 790, 155, 162, 931, 932, 168, 169, 937, 1067, 1066, 1068, 213, 1111, 1112, 1113, 94, 102, 110, 751, 752, 753, 887, 117, 886, 758, 123, 892, 1021, 1022, 1023]\n"
     ]
    },
    {
     "data": {
      "application/vnd.jupyter.widget-view+json": {
       "model_id": "78a5f0faa69f4e5a8ba0962653abb66a",
       "version_major": 2,
       "version_minor": 0
      },
      "text/plain": [
       "  0%|          | 0/28 [00:00<?, ?it/s]"
      ]
     },
     "metadata": {},
     "output_type": "display_data"
    },
    {
     "name": "stdout",
     "output_type": "stream",
     "text": [
      "Calculations done: 93    | Explored points: 221  \n",
      "Queue: [131, 138, 146, 154, 925, 161, 1061, 1062, 167, 1063, 172, 1069, 1106, 1107, 1108, 217, 93, 101, 122, 745, 746, 747, 748, 109, 880, 881, 754, 116, 1015, 1016, 1017, 1018, 127]\n"
     ]
    },
    {
     "data": {
      "application/vnd.jupyter.widget-view+json": {
       "model_id": "6aef48f202e74d4397fa615d6674ea83",
       "version_major": 2,
       "version_minor": 0
      },
      "text/plain": [
       "  0%|          | 0/22 [00:00<?, ?it/s]"
      ]
     },
     "metadata": {},
     "output_type": "display_data"
    },
    {
     "name": "stdout",
     "output_type": "stream",
     "text": [
      "Calculations done: 115   | Explored points: 263  \n",
      "Queue: [130, 133, 1054, 1055, 1056, 1057, 1060, 166, 1064, 171, 175, 1099, 1100, 1105, 212, 216, 92, 220, 738, 739, 100, 740, 741, 873, 108, 1010, 115, 1012, 1011, 121, 126]\n"
     ]
    },
    {
     "data": {
      "application/vnd.jupyter.widget-view+json": {
       "model_id": "813a4ecbd30e4847bf43194c8f0c92ad",
       "version_major": 2,
       "version_minor": 0
      },
      "text/plain": [
       "  0%|          | 0/16 [00:00<?, ?it/s]"
      ]
     },
     "metadata": {},
     "output_type": "display_data"
    },
    {
     "name": "stdout",
     "output_type": "stream",
     "text": [
      "Calculations done: 131   | Explored points: 299  \n",
      "Queue: [160, 129, 132, 165, 134, 170, 107, 174, 177, 114, 1047, 120, 1049, 219, 125, 222]\n"
     ]
    },
    {
     "data": {
      "application/vnd.jupyter.widget-view+json": {
       "model_id": "0842b913c0fb4a628cdb1ef6e61cda59",
       "version_major": 2,
       "version_minor": 0
      },
      "text/plain": [
       "  0%|          | 0/11 [00:00<?, ?it/s]"
      ]
     },
     "metadata": {},
     "output_type": "display_data"
    },
    {
     "name": "stdout",
     "output_type": "stream",
     "text": [
      "Calculations done: 142   | Explored points: 369  \n",
      "Queue: [400, 663, 535, 667, 670, 288, 295, 423, 300, 301, 430, 305, 306, 562, 436, 310, 312, 313, 441, 314, 571, 445, 568, 573, 448, 577, 576, 580, 582, 346, 351, 607, 481, 354, 355, 357, 486, 613, 490, 618, 622, 494, 625, 627]\n"
     ]
    },
    {
     "data": {
      "application/vnd.jupyter.widget-view+json": {
       "model_id": "a84d7d7e4bf444ac9c9547167723668f",
       "version_major": 2,
       "version_minor": 0
      },
      "text/plain": [
       "  0%|          | 0/27 [00:00<?, ?it/s]"
      ]
     },
     "metadata": {},
     "output_type": "display_data"
    },
    {
     "name": "stdout",
     "output_type": "stream",
     "text": [
      "Calculations done: 169   | Explored points: 411  \n",
      "Queue: [396, 397, 401, 403, 662, 666, 296, 302, 431, 561, 307, 437, 567, 311, 442, 572, 446, 347, 606, 352, 482, 612, 359, 487, 617, 621]\n"
     ]
    },
    {
     "data": {
      "application/vnd.jupyter.widget-view+json": {
       "model_id": "63addba7b7154709b036bb96d388eace",
       "version_major": 2,
       "version_minor": 0
      },
      "text/plain": [
       "  0%|          | 0/19 [00:00<?, ?it/s]"
      ]
     },
     "metadata": {},
     "output_type": "display_data"
    },
    {
     "name": "stdout",
     "output_type": "stream",
     "text": [
      "Calculations done: 188   | Explored points: 440  \n",
      "Queue: [391, 392, 393, 395, 398, 656, 657, 661, 289, 290, 297, 303, 308, 438, 443, 341, 342, 348, 605, 611, 483, 616]\n"
     ]
    },
    {
     "data": {
      "application/vnd.jupyter.widget-view+json": {
       "model_id": "05cf69d523ae47a7a6004b05a8a336c9",
       "version_major": 2,
       "version_minor": 0
      },
      "text/plain": [
       "  0%|          | 0/12 [00:00<?, ?it/s]"
      ]
     },
     "metadata": {},
     "output_type": "display_data"
    },
    {
     "name": "stdout",
     "output_type": "stream",
     "text": [
      "Calculations done: 200   | Explored points: 468  \n",
      "Queue: [386, 387, 388, 291, 610, 615, 394, 298, 655, 304, 660, 343, 604]\n"
     ]
    },
    {
     "data": {
      "application/vnd.jupyter.widget-view+json": {
       "model_id": "3030056bda344f74bc39a0286a4145a0",
       "version_major": 2,
       "version_minor": 0
      },
      "text/plain": [
       "  0%|          | 0/9 [00:00<?, ?it/s]"
      ]
     },
     "metadata": {},
     "output_type": "display_data"
    },
    {
     "name": "stdout",
     "output_type": "stream",
     "text": [
      "Calculations done: 209   | Explored points: 482  \n",
      "Queue: [389, 299, 380, 381, 382]\n",
      "Calculations done: 209   | Explored points: 488  \n"
     ]
    }
   ],
   "source": [
    "while len(queue)>0:\n",
    "    print(f\"Queue: {queue}\")\n",
    "    # Skip all points with RMSAD below the minimum (inexpensive) by removing them from the queue, marking them as infeasible, and adding them to explored\n",
    "    for i in queue:\n",
    "        if c2rmsad(compositions[i]) < minRMSAD:\n",
    "            for eq in [i] + graphNS[i]:\n",
    "                gridFeasible[eq] = False\n",
    "            explored = explored.union([i] + graphNS[i])\n",
    "    queue = [i for i in queue if gridFeasible[i] is None]\n",
    "\n",
    "    # Calculate CALPHAD feasibilities (expensive) of the current queue\n",
    "    elPositions = [compositions[i] for i in queue]\n",
    "    if len(queue)>3:\n",
    "        phases = process_map(equilibrium_callable, elPositions, max_workers=4)\n",
    "    else:\n",
    "        phases = [equilibrium_callable(elP) for elP in elPositions]\n",
    "    feasibilities = [len(set(p) & set(['LAVES_C15', 'LAVES_C36', 'LAVES_C14', 'LIQUID']))==0 and p!=[] for p in phases]\n",
    "\n",
    "    calcCount += len(feasibilities)\n",
    "    explored = explored.union(queue)\n",
    "\n",
    "    # Create next queue based on neighbors of feasible points\n",
    "    nextQueue = set()\n",
    "    nextQueuePlusEquivalent = set()\n",
    "    for f, i in zip(feasibilities, queue):\n",
    "        # Explored point\n",
    "        gridFeasible[i] = f\n",
    "\n",
    "        # And equivalent explored points based on system stitching\n",
    "        explored = explored.union(graphNS[i])\n",
    "        for eq in graphNS[i]:\n",
    "            gridFeasible[eq] = f\n",
    "\n",
    "        # Expand to neighbors of the point and equivalent points (only if the node has been feasible)\n",
    "        if f:\n",
    "            # Node neighbors in the same subsystem\n",
    "            for n in graphN[i]:\n",
    "                if n not in explored and n not in nextQueuePlusEquivalent:\n",
    "                    nextQueue.add(n)\n",
    "                    nextQueuePlusEquivalent = nextQueuePlusEquivalent.union([n] + graphNS[n])\n",
    "            # Equivalent nodes neighbors in other subsystems\n",
    "            for eq in graphNS[i]:\n",
    "                for n in graphN[eq]:\n",
    "                    if n not in explored and n not in nextQueuePlusEquivalent:\n",
    "                        nextQueue.add(n)\n",
    "                        nextQueuePlusEquivalent = nextQueuePlusEquivalent.union([n] + graphNS[n])\n",
    "\n",
    "    print(f\"Calculations done: {calcCount:<5} | Explored points: {len(explored):<5}\")\n",
    "    queue = list(nextQueue)"
   ]
  },
  {
   "cell_type": "code",
   "execution_count": 70,
   "metadata": {},
   "outputs": [
    {
     "data": {
      "text/plain": [
       "286"
      ]
     },
     "execution_count": 70,
     "metadata": {},
     "output_type": "execute_result"
    }
   ],
   "source": [
    "sum([f for f in gridFeasible if f])"
   ]
  },
  {
   "cell_type": "code",
   "execution_count": 78,
   "metadata": {},
   "outputs": [
    {
     "data": {
      "text/plain": [
       "1575"
      ]
     },
     "execution_count": 78,
     "metadata": {},
     "output_type": "execute_result"
    }
   ],
   "source": [
    "len(gridFeasible)"
   ]
  },
  {
   "cell_type": "code",
   "execution_count": null,
   "metadata": {},
   "outputs": [],
   "source": []
  },
  {
   "cell_type": "code",
   "execution_count": null,
   "metadata": {},
   "outputs": [],
   "source": []
  }
 ],
 "metadata": {
  "kernelspec": {
   "display_name": "base",
   "language": "python",
   "name": "python3"
  },
  "language_info": {
   "codemirror_mode": {
    "name": "ipython",
    "version": 3
   },
   "file_extension": ".py",
   "mimetype": "text/x-python",
   "name": "python",
   "nbconvert_exporter": "python",
   "pygments_lexer": "ipython3",
   "version": "3.11.10"
  }
 },
 "nbformat": 4,
 "nbformat_minor": 2
}
