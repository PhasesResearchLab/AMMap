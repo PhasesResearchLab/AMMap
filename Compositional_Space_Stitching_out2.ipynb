{
 "cells": [
  {
   "cell_type": "markdown",
   "id": "468869d8",
   "metadata": {
    "papermill": {
     "duration": 0.009414,
     "end_time": "2025-01-27T01:53:25.917297",
     "exception": false,
     "start_time": "2025-01-27T01:53:25.907883",
     "status": "completed"
    },
    "tags": []
   },
   "source": []
  },
  {
   "cell_type": "markdown",
   "id": "2bb71819",
   "metadata": {
    "papermill": {
     "duration": 0.008486,
     "end_time": "2025-01-27T01:53:25.934748",
     "exception": false,
     "start_time": "2025-01-27T01:53:25.926262",
     "status": "completed"
    },
    "tags": []
   },
   "source": [
    "# 3. Building Compositional Space Complexes to Express Elaborate Design Problems\n",
    "\n",
    "> ***(before running this code, please consult Quick Start to make sure everything is set up)***\n",
    "\n",
    "> You will need the same dependencies as in [Tutorial No.2](02.AdditiveManufacturingPathPlanning.ipynb) (i.e., `pycalphad` and `pathfinding`), and additionally `igraph` in order to efficiently visualize the examples presented in this tutorial. **If you are running this in `nimplex`'s Codespaces, everything has been pre-installed for you.**"
   ]
  },
  {
   "cell_type": "markdown",
   "id": "c2fd4117",
   "metadata": {
    "papermill": {
     "duration": 0.00855,
     "end_time": "2025-01-27T01:53:25.952516",
     "exception": false,
     "start_time": "2025-01-27T01:53:25.943966",
     "status": "completed"
    },
    "tags": []
   },
   "source": [
    "**In this tutorial, we will build upon `nimplex`'s graph representations and leverage our ability to combine (\"stitch\") them together without affecting the way we express the problem at hand and in an effortless fashion to dramatically speed up materials exploration.** In particular, we will show how to:\n",
    "\n",
    "1. **Plot graphs** (as in mathematical objects, not any figures) using [`igraph`](https://igraph.org/), which can be done quite directly using `nimplex`'s point grid and neighbor lists `edges = [(i,n) for i in range(len(gridAtt)) for n in nList[i]]`\n",
    "\n",
    "2. **Identify ordered subsystems in `nimplex` grids, like `A-B-C` and `C-A-B` within `A-B-C-D-E` and `D-C-G-F-A-H-B` to establish connectivity between them.** We will use this to combine 3 4-component systems (tetrahedra) by 2 3-component subsystems (triangles) to create a chain.\n",
    "\n",
    "3. Identify all subspaces of a given order in low dimensional and high dimensional spaces (e.g., all quantized compositions of any 3 things out of N) and combine (\"stitch\") them together to form a **simplex graphs that intersect themselves in 3D because of high dimensionality, yet still have the same (graph) structure**.\n",
    "\n",
    "4. **Construct a graph complex to explore all ternary combinations of `[\"Ti50Zr50\", \"Hf95Ti5\", \"NbTaWHf\", \"Mo80Nb10W10\", \"TiTa2\", \"Nb96Mo3W1\", \"Zr49 Hf1 Mo50\"]` (7 alloys)** under equilibrium phase constraint (relatively expensive to compute) and then explore the space with an additional low-cost screenig constraint (RMSAD - alloy strenght surrogate) that could also be an ML surrogate."
   ]
  },
  {
   "cell_type": "code",
   "execution_count": 1,
   "id": "9809217f",
   "metadata": {
    "execution": {
     "iopub.execute_input": "2025-01-27T01:53:25.970544Z",
     "iopub.status.busy": "2025-01-27T01:53:25.970249Z",
     "iopub.status.idle": "2025-01-27T01:53:25.981899Z",
     "shell.execute_reply": "2025-01-27T01:53:25.981308Z"
    },
    "papermill": {
     "duration": 0.021642,
     "end_time": "2025-01-27T01:53:25.982912",
     "exception": false,
     "start_time": "2025-01-27T01:53:25.961270",
     "status": "completed"
    },
    "tags": []
   },
   "outputs": [],
   "source": [
    "import nimplex\n",
    "from utils import stitching\n",
    "from IPython.display import clear_output\n",
    "from itertools import combinations"
   ]
  },
  {
   "cell_type": "code",
   "execution_count": 2,
   "id": "9b0aacf0",
   "metadata": {
    "execution": {
     "iopub.execute_input": "2025-01-27T01:53:26.001721Z",
     "iopub.status.busy": "2025-01-27T01:53:26.001460Z",
     "iopub.status.idle": "2025-01-27T01:53:26.477715Z",
     "shell.execute_reply": "2025-01-27T01:53:26.477315Z"
    },
    "papermill": {
     "duration": 0.486288,
     "end_time": "2025-01-27T01:53:26.478662",
     "exception": false,
     "start_time": "2025-01-27T01:53:25.992374",
     "status": "completed"
    },
    "tags": []
   },
   "outputs": [],
   "source": [
    "import igraph as ig\n",
    "import plotly.graph_objs as go\n",
    "import numpy as np\n",
    "import random\n",
    "random.seed(123)"
   ]
  },
  {
   "cell_type": "code",
   "execution_count": null,
   "id": "8f5110c1",
   "metadata": {
    "papermill": {
     "duration": 0.008785,
     "end_time": "2025-01-27T01:53:26.496840",
     "exception": false,
     "start_time": "2025-01-27T01:53:26.488055",
     "status": "completed"
    },
    "tags": []
   },
   "outputs": [],
   "source": []
  },
  {
   "cell_type": "markdown",
   "id": "1be356f6",
   "metadata": {
    "papermill": {
     "duration": 0.008653,
     "end_time": "2025-01-27T01:53:26.514219",
     "exception": false,
     "start_time": "2025-01-27T01:53:26.505566",
     "status": "completed"
    },
    "tags": []
   },
   "source": [
    "## Plotting 4-Component Simplex Graph with `igraph`"
   ]
  },
  {
   "cell_type": "code",
   "execution_count": 3,
   "id": "a85690c1",
   "metadata": {
    "execution": {
     "iopub.execute_input": "2025-01-27T01:53:26.532406Z",
     "iopub.status.busy": "2025-01-27T01:53:26.532035Z",
     "iopub.status.idle": "2025-01-27T01:53:26.535033Z",
     "shell.execute_reply": "2025-01-27T01:53:26.534506Z"
    },
    "papermill": {
     "duration": 0.012767,
     "end_time": "2025-01-27T01:53:26.535687",
     "exception": false,
     "start_time": "2025-01-27T01:53:26.522920",
     "status": "completed"
    },
    "tags": []
   },
   "outputs": [],
   "source": [
    "dim = 4\n",
    "ndiv = 6\n",
    "gridAtt, nList = nimplex.simplex_graph_py(dim, ndiv)"
   ]
  },
  {
   "cell_type": "code",
   "execution_count": 4,
   "id": "cc8d8b3d",
   "metadata": {
    "execution": {
     "iopub.execute_input": "2025-01-27T01:53:26.553824Z",
     "iopub.status.busy": "2025-01-27T01:53:26.553555Z",
     "iopub.status.idle": "2025-01-27T01:53:26.556223Z",
     "shell.execute_reply": "2025-01-27T01:53:26.555821Z"
    },
    "papermill": {
     "duration": 0.012336,
     "end_time": "2025-01-27T01:53:26.556865",
     "exception": false,
     "start_time": "2025-01-27T01:53:26.544529",
     "status": "completed"
    },
    "tags": []
   },
   "outputs": [],
   "source": [
    "edges = []\n",
    "for i in range(len(gridAtt)):\n",
    "    for n in nList[i]:\n",
    "        edges.append((i,n))"
   ]
  },
  {
   "cell_type": "code",
   "execution_count": 5,
   "id": "d32d5940",
   "metadata": {
    "execution": {
     "iopub.execute_input": "2025-01-27T01:53:26.574863Z",
     "iopub.status.busy": "2025-01-27T01:53:26.574606Z",
     "iopub.status.idle": "2025-01-27T01:53:26.579979Z",
     "shell.execute_reply": "2025-01-27T01:53:26.579600Z"
    },
    "papermill": {
     "duration": 0.015083,
     "end_time": "2025-01-27T01:53:26.580628",
     "exception": false,
     "start_time": "2025-01-27T01:53:26.565545",
     "status": "completed"
    },
    "tags": []
   },
   "outputs": [],
   "source": [
    "def plotGraph(edges: list):\n",
    "    # Lets generate some seed positions for the nodes\n",
    "    G = ig.Graph(edges)\n",
    "    layout = G.layout_kamada_kawai(dim=3)\n",
    "    layout_array = np.array(layout.coords)\n",
    "    # Create edge traces\n",
    "    edge_traces = []\n",
    "    for edge in G.es:\n",
    "        start, end = edge.tuple\n",
    "        x0, y0, z0 = layout_array[start]\n",
    "        x1, y1, z1 = layout_array[end]\n",
    "        width = 5\n",
    "        edge_trace = go.Scatter3d(x=[x0, x1], y=[y0, y1], z=[z0, z1],\n",
    "                                line=dict(width=width, color='lightgray'),\n",
    "                                opacity=0.2,\n",
    "                                hoverinfo='none', mode='lines')\n",
    "        edge_traces.append(edge_trace)\n",
    "\n",
    "    node_trace = go.Scatter3d(x=layout_array[:, 0], y=layout_array[:, 1], z=layout_array[:, 2],\n",
    "                            mode='markers',\n",
    "                            marker=dict(size=3, \n",
    "                                        opacity=0.5,\n",
    "                                        line=None,\n",
    "                                        color='blue'),\n",
    "                            \n",
    "                            text=[f\"Node {i}\" for i in range(len(gridAtt))],\n",
    "                            hoverinfo='text')\n",
    "\n",
    "    # Create figure\n",
    "    fig = go.Figure(data=edge_traces + [node_trace])\n",
    "\n",
    "    # Update layout\n",
    "    fig.update_layout(\n",
    "        title='3D Graph with Feasibility Types',\n",
    "        scene=dict(\n",
    "            xaxis=dict(visible=False),\n",
    "            yaxis=dict(visible=False),\n",
    "            zaxis=dict(visible=False),\n",
    "        ),\n",
    "        showlegend=False,\n",
    "        margin=dict(l=0, r=0, b=0, t=0),\n",
    "        width=800\n",
    "    )\n",
    "\n",
    "    fig.show()"
   ]
  },
  {
   "cell_type": "code",
   "execution_count": 6,
   "id": "389fb0f5",
   "metadata": {
    "execution": {
     "iopub.execute_input": "2025-01-27T01:53:26.598682Z",
     "iopub.status.busy": "2025-01-27T01:53:26.598373Z",
     "iopub.status.idle": "2025-01-27T01:53:26.601198Z",
     "shell.execute_reply": "2025-01-27T01:53:26.600858Z"
    },
    "papermill": {
     "duration": 0.012344,
     "end_time": "2025-01-27T01:53:26.601828",
     "exception": false,
     "start_time": "2025-01-27T01:53:26.589484",
     "status": "completed"
    },
    "tags": []
   },
   "outputs": [],
   "source": [
    "#plotGraph(edges)\n",
    "clear_output()"
   ]
  },
  {
   "cell_type": "markdown",
   "id": "d803e6ca",
   "metadata": {
    "papermill": {
     "duration": 0.008798,
     "end_time": "2025-01-27T01:53:26.619561",
     "exception": false,
     "start_time": "2025-01-27T01:53:26.610763",
     "status": "completed"
    },
    "tags": []
   },
   "source": [
    "## Combining (\"Stitching\") 3 4-Component Systems into A Complex"
   ]
  },
  {
   "cell_type": "code",
   "execution_count": 7,
   "id": "0b9e22dc",
   "metadata": {
    "execution": {
     "iopub.execute_input": "2025-01-27T01:53:26.637877Z",
     "iopub.status.busy": "2025-01-27T01:53:26.637538Z",
     "iopub.status.idle": "2025-01-27T01:53:26.640118Z",
     "shell.execute_reply": "2025-01-27T01:53:26.639597Z"
    },
    "papermill": {
     "duration": 0.01243,
     "end_time": "2025-01-27T01:53:26.640748",
     "exception": false,
     "start_time": "2025-01-27T01:53:26.628318",
     "status": "completed"
    },
    "tags": []
   },
   "outputs": [],
   "source": [
    "sys1 = [\"A\", \"B\", \"C\", \"D\"]\n",
    "sys2 = [\"B\", \"C\", \"D\", \"E\"]\n",
    "sys3 = [\"B\", \"D\", \"E\", \"F\"]"
   ]
  },
  {
   "cell_type": "code",
   "execution_count": 8,
   "id": "ca3ceb3a",
   "metadata": {
    "execution": {
     "iopub.execute_input": "2025-01-27T01:53:26.659027Z",
     "iopub.status.busy": "2025-01-27T01:53:26.658756Z",
     "iopub.status.idle": "2025-01-27T01:53:26.662110Z",
     "shell.execute_reply": "2025-01-27T01:53:26.661755Z"
    },
    "papermill": {
     "duration": 0.013073,
     "end_time": "2025-01-27T01:53:26.662733",
     "exception": false,
     "start_time": "2025-01-27T01:53:26.649660",
     "status": "completed"
    },
    "tags": []
   },
   "outputs": [],
   "source": [
    "offset = len(gridAtt)\n",
    "for i in range(len(gridAtt)):\n",
    "    for n in nList[i]:\n",
    "        edges.append((i+offset,n+offset))\n",
    "for i in range(len(gridAtt)):\n",
    "    for n in nList[i]:\n",
    "        edges.append((i+offset*2,n+offset*2))"
   ]
  },
  {
   "cell_type": "code",
   "execution_count": 9,
   "id": "bd723402",
   "metadata": {
    "execution": {
     "iopub.execute_input": "2025-01-27T01:53:26.681030Z",
     "iopub.status.busy": "2025-01-27T01:53:26.680773Z",
     "iopub.status.idle": "2025-01-27T01:53:26.683350Z",
     "shell.execute_reply": "2025-01-27T01:53:26.683029Z"
    },
    "papermill": {
     "duration": 0.012313,
     "end_time": "2025-01-27T01:53:26.683992",
     "exception": false,
     "start_time": "2025-01-27T01:53:26.671679",
     "status": "completed"
    },
    "tags": []
   },
   "outputs": [],
   "source": [
    "#plotGraph(edges)\n",
    "clear_output()"
   ]
  },
  {
   "cell_type": "code",
   "execution_count": 10,
   "id": "9f505330",
   "metadata": {
    "execution": {
     "iopub.execute_input": "2025-01-27T01:53:26.702444Z",
     "iopub.status.busy": "2025-01-27T01:53:26.702126Z",
     "iopub.status.idle": "2025-01-27T01:53:26.706176Z",
     "shell.execute_reply": "2025-01-27T01:53:26.705791Z"
    },
    "papermill": {
     "duration": 0.013852,
     "end_time": "2025-01-27T01:53:26.706802",
     "exception": false,
     "start_time": "2025-01-27T01:53:26.692950",
     "status": "completed"
    },
    "tags": []
   },
   "outputs": [
    {
     "name": "stdout",
     "output_type": "stream",
     "text": [
      "[83, 82, 79, 73, 63, 48, 27]\n"
     ]
    }
   ],
   "source": [
    "stitchingPoints = stitching.findStitchingPoints_py(dim, ndiv, components=[\"A\", \"B\", \"C\", \"D\"])\n",
    "print(stitchingPoints[\"A-B\"])"
   ]
  },
  {
   "cell_type": "code",
   "execution_count": 11,
   "id": "cee3f0f1",
   "metadata": {
    "execution": {
     "iopub.execute_input": "2025-01-27T01:53:26.725561Z",
     "iopub.status.busy": "2025-01-27T01:53:26.725306Z",
     "iopub.status.idle": "2025-01-27T01:53:26.731678Z",
     "shell.execute_reply": "2025-01-27T01:53:26.731306Z"
    },
    "papermill": {
     "duration": 0.016451,
     "end_time": "2025-01-27T01:53:26.732349",
     "exception": false,
     "start_time": "2025-01-27T01:53:26.715898",
     "status": "completed"
    },
    "tags": []
   },
   "outputs": [],
   "source": [
    "stitchingPoints1 = stitching.findStitchingPoints_py(dim, ndiv, components=sys1, offset=0)\n",
    "stitchingPoints2 = stitching.findStitchingPoints_py(dim, ndiv, components=sys2, offset=len(gridAtt))\n",
    "stitchingPoints3 = stitching.findStitchingPoints_py(dim, ndiv, components=sys3, offset=len(gridAtt)*2)"
   ]
  },
  {
   "cell_type": "code",
   "execution_count": 12,
   "id": "80b134d4",
   "metadata": {
    "execution": {
     "iopub.execute_input": "2025-01-27T01:53:26.750989Z",
     "iopub.status.busy": "2025-01-27T01:53:26.750691Z",
     "iopub.status.idle": "2025-01-27T01:53:26.753200Z",
     "shell.execute_reply": "2025-01-27T01:53:26.752680Z"
    },
    "papermill": {
     "duration": 0.012481,
     "end_time": "2025-01-27T01:53:26.753798",
     "exception": false,
     "start_time": "2025-01-27T01:53:26.741317",
     "status": "completed"
    },
    "tags": []
   },
   "outputs": [],
   "source": [
    "for i, j in zip(stitchingPoints1[\"B-C-D\"], stitchingPoints2[\"B-C-D\"]):\n",
    "    edges.append((i, j))"
   ]
  },
  {
   "cell_type": "code",
   "execution_count": 13,
   "id": "56a238d2",
   "metadata": {
    "execution": {
     "iopub.execute_input": "2025-01-27T01:53:26.772307Z",
     "iopub.status.busy": "2025-01-27T01:53:26.772056Z",
     "iopub.status.idle": "2025-01-27T01:53:26.774389Z",
     "shell.execute_reply": "2025-01-27T01:53:26.774045Z"
    },
    "papermill": {
     "duration": 0.012243,
     "end_time": "2025-01-27T01:53:26.775058",
     "exception": false,
     "start_time": "2025-01-27T01:53:26.762815",
     "status": "completed"
    },
    "tags": []
   },
   "outputs": [],
   "source": [
    "for i, j in zip(stitchingPoints2[\"B-D-E\"], stitchingPoints3[\"B-D-E\"]):\n",
    "    edges.append((i, j))"
   ]
  },
  {
   "cell_type": "code",
   "execution_count": 14,
   "id": "fbb57116",
   "metadata": {
    "execution": {
     "iopub.execute_input": "2025-01-27T01:53:26.822223Z",
     "iopub.status.busy": "2025-01-27T01:53:26.821830Z",
     "iopub.status.idle": "2025-01-27T01:53:26.824527Z",
     "shell.execute_reply": "2025-01-27T01:53:26.824186Z"
    },
    "papermill": {
     "duration": 0.013222,
     "end_time": "2025-01-27T01:53:26.825143",
     "exception": false,
     "start_time": "2025-01-27T01:53:26.811921",
     "status": "completed"
    },
    "tags": []
   },
   "outputs": [],
   "source": [
    "#plotGraph(edges)\n",
    "clear_output()"
   ]
  },
  {
   "cell_type": "markdown",
   "id": "112edd57",
   "metadata": {
    "papermill": {
     "duration": 0.009105,
     "end_time": "2025-01-27T01:53:26.843243",
     "exception": false,
     "start_time": "2025-01-27T01:53:26.834138",
     "status": "completed"
    },
    "tags": []
   },
   "source": [
    "## Combining (\"Stitching\") 9 3-Component Systems into A Complex\n",
    "### Disregard this section for now Adam"
   ]
  },
  {
   "cell_type": "code",
   "execution_count": 15,
   "id": "e75f5fe6",
   "metadata": {
    "execution": {
     "iopub.execute_input": "2025-01-27T01:53:26.862179Z",
     "iopub.status.busy": "2025-01-27T01:53:26.861954Z",
     "iopub.status.idle": "2025-01-27T01:53:26.864669Z",
     "shell.execute_reply": "2025-01-27T01:53:26.864316Z"
    },
    "papermill": {
     "duration": 0.012941,
     "end_time": "2025-01-27T01:53:26.865330",
     "exception": false,
     "start_time": "2025-01-27T01:53:26.852389",
     "status": "completed"
    },
    "tags": []
   },
   "outputs": [],
   "source": [
    "dim = 3\n",
    "ndiv = 6\n",
    "nsys = 9\n",
    "gridAtt, nList = nimplex.simplex_graph_py(dim, ndiv)\n",
    "edges = []\n",
    "for i in range(len(gridAtt)):\n",
    "    for n in nList[i]:\n",
    "        edges.append((i,n))"
   ]
  },
  {
   "cell_type": "code",
   "execution_count": 16,
   "id": "5cb9b6f4",
   "metadata": {
    "execution": {
     "iopub.execute_input": "2025-01-27T01:53:26.884285Z",
     "iopub.status.busy": "2025-01-27T01:53:26.884079Z",
     "iopub.status.idle": "2025-01-27T01:53:26.888587Z",
     "shell.execute_reply": "2025-01-27T01:53:26.888199Z"
    },
    "papermill": {
     "duration": 0.014694,
     "end_time": "2025-01-27T01:53:26.889232",
     "exception": false,
     "start_time": "2025-01-27T01:53:26.874538",
     "status": "completed"
    },
    "tags": []
   },
   "outputs": [
    {
     "data": {
      "text/plain": [
       "28"
      ]
     },
     "execution_count": 16,
     "metadata": {},
     "output_type": "execute_result"
    }
   ],
   "source": [
    "len(gridAtt)"
   ]
  },
  {
   "cell_type": "code",
   "execution_count": 17,
   "id": "1aa2b899",
   "metadata": {
    "execution": {
     "iopub.execute_input": "2025-01-27T01:53:26.908094Z",
     "iopub.status.busy": "2025-01-27T01:53:26.907812Z",
     "iopub.status.idle": "2025-01-27T01:53:26.910759Z",
     "shell.execute_reply": "2025-01-27T01:53:26.910381Z"
    },
    "papermill": {
     "duration": 0.01303,
     "end_time": "2025-01-27T01:53:26.911381",
     "exception": false,
     "start_time": "2025-01-27T01:53:26.898351",
     "status": "completed"
    },
    "tags": []
   },
   "outputs": [],
   "source": [
    "offset = len(gridAtt)\n",
    "for sys in range(1,nsys+1):\n",
    "    for i in range(len(gridAtt)):\n",
    "        for n in nList[i]:\n",
    "            edges.append((i+offset*sys,n+offset*sys))"
   ]
  },
  {
   "cell_type": "code",
   "execution_count": 18,
   "id": "85ffc5dc",
   "metadata": {
    "execution": {
     "iopub.execute_input": "2025-01-27T01:53:26.930270Z",
     "iopub.status.busy": "2025-01-27T01:53:26.930090Z",
     "iopub.status.idle": "2025-01-27T01:53:26.932414Z",
     "shell.execute_reply": "2025-01-27T01:53:26.932055Z"
    },
    "papermill": {
     "duration": 0.012414,
     "end_time": "2025-01-27T01:53:26.933007",
     "exception": false,
     "start_time": "2025-01-27T01:53:26.920593",
     "status": "completed"
    },
    "tags": []
   },
   "outputs": [],
   "source": [
    "#plotGraph(edges)\n",
    "clear_output()"
   ]
  },
  {
   "cell_type": "code",
   "execution_count": 19,
   "id": "91a39334",
   "metadata": {
    "execution": {
     "iopub.execute_input": "2025-01-27T01:53:26.951790Z",
     "iopub.status.busy": "2025-01-27T01:53:26.951612Z",
     "iopub.status.idle": "2025-01-27T01:53:27.227462Z",
     "shell.execute_reply": "2025-01-27T01:53:27.227085Z"
    },
    "papermill": {
     "duration": 0.286146,
     "end_time": "2025-01-27T01:53:27.228392",
     "exception": false,
     "start_time": "2025-01-27T01:53:26.942246",
     "status": "completed"
    },
    "tags": []
   },
   "outputs": [],
   "source": [
    "import pandas as pd"
   ]
  },
  {
   "cell_type": "code",
   "execution_count": 20,
   "id": "92614b01",
   "metadata": {
    "execution": {
     "iopub.execute_input": "2025-01-27T01:53:27.248370Z",
     "iopub.status.busy": "2025-01-27T01:53:27.248060Z",
     "iopub.status.idle": "2025-01-27T01:53:27.505784Z",
     "shell.execute_reply": "2025-01-27T01:53:27.505391Z"
    },
    "papermill": {
     "duration": 0.26838,
     "end_time": "2025-01-27T01:53:27.506708",
     "exception": false,
     "start_time": "2025-01-27T01:53:27.238328",
     "status": "completed"
    },
    "tags": []
   },
   "outputs": [],
   "source": [
    "from pycalphad import Database"
   ]
  },
  {
   "cell_type": "code",
   "execution_count": 21,
   "id": "6fa5584d",
   "metadata": {
    "execution": {
     "iopub.execute_input": "2025-01-27T01:53:27.526913Z",
     "iopub.status.busy": "2025-01-27T01:53:27.526510Z",
     "iopub.status.idle": "2025-01-27T01:53:29.224506Z",
     "shell.execute_reply": "2025-01-27T01:53:29.224155Z"
    },
    "papermill": {
     "duration": 1.708507,
     "end_time": "2025-01-27T01:53:29.225254",
     "exception": false,
     "start_time": "2025-01-27T01:53:27.516747",
     "status": "completed"
    },
    "tags": []
   },
   "outputs": [
    {
     "name": "stderr",
     "output_type": "stream",
     "text": [
      "/ocean/projects/dmr190011p/arichte1/micromamba/envs/v2ammap/lib/python3.11/site-packages/pycalphad/io/tdb.py:293: UserWarning: The type definition character `&` in `TYPE_DEFINITION & GES A_P_D A2_BCC MAGNETIC -1.0 4.00000E-01 ` is not used by any phase.\n",
      "  warnings.warn(f\"The type definition character `{typechar}` in `TYPE_DEFINITION {typechar} {line}` is not used by any phase.\")\n"
     ]
    }
   ],
   "source": [
    "dbCrNiV = Database(\"ammap/databases/Co-Cr-Fe-Ni-V_choi2019.TDB\")\n",
    "dbCrFeTi = Database(\"ammap/databases/Cr-Fe-Ti_wang2017.tdb\")\n",
    "dbCrFeNi = Database(\"ammap/databases/Cr-Fe-Ni_miettinen1999.tdb\")\n",
    "dbCrNiTi= Database(\"ammap/databases/Cr-Ni-Ti_huang2018.tdb\")\n",
    "dbCrTiV= Database(\"ammap/databases/Cr-Ti-V_ghosh2002.tdb\")\n",
    "dbFeNiTi= Database(\"ammap/databases/Fe-Ni-Ti_dekeyzer2009.tdb\")\n",
    "dbFeNiV= Database(\"ammap/databases/Fe-Ni-V_zhao2014.tdb\")\n",
    "dbFeTiV= Database(\"ammap/databases/Fe-Ti-V_guo2012.TDB\")\n",
    "dbNiTiV= Database(\"ammap/databases/Ni-Ti-V_zou2018.tdb\")\n",
    "CrNiV = ['Cr', 'Ni', 'V']\n",
    "CrFeTi = ['Cr', 'Fe', 'Ti']\n",
    "CrFeNi = ['Cr', 'Fe', 'Ni']\n",
    "CrNiTi = ['Cr', 'Ni', 'Ti']\n",
    "CrTiV = ['Cr', 'Ti', 'V']\n",
    "FeNiTi = ['Fe', 'Ni', 'Ti']\n",
    "FeNiV = ['Fe', 'Ni', 'V']\n",
    "FeTiV = ['Fe', 'Ti', 'V']\n",
    "NiTiV = ['Ni', 'Ti', 'V']\n"
   ]
  },
  {
   "cell_type": "code",
   "execution_count": 22,
   "id": "93caec34",
   "metadata": {
    "execution": {
     "iopub.execute_input": "2025-01-27T01:53:29.245275Z",
     "iopub.status.busy": "2025-01-27T01:53:29.245044Z",
     "iopub.status.idle": "2025-01-27T01:53:29.252448Z",
     "shell.execute_reply": "2025-01-27T01:53:29.252068Z"
    },
    "papermill": {
     "duration": 0.017907,
     "end_time": "2025-01-27T01:53:29.253264",
     "exception": false,
     "start_time": "2025-01-27T01:53:29.235357",
     "status": "completed"
    },
    "tags": []
   },
   "outputs": [],
   "source": [
    "stitchingPointsCrNiV = stitching.findStitchingPoints_py(dim, ndiv, components=CrNiV, offset=0)\n",
    "stitchingPointsCrFeTi = stitching.findStitchingPoints_py(dim, ndiv, components=CrFeTi, offset=len(gridAtt))\n",
    "stitchingPointsCrFeNi = stitching.findStitchingPoints_py(dim, ndiv, components=CrFeNi, offset=len(gridAtt)*2)\n",
    "stitchingPointsCrNiTi = stitching.findStitchingPoints_py(dim, ndiv, components=CrNiTi, offset=len(gridAtt)*3)\n",
    "stitchingPointsCrTiV = stitching.findStitchingPoints_py(dim, ndiv, components=CrTiV, offset=len(gridAtt)*4)\n",
    "stitchingPointsFeNiTi = stitching.findStitchingPoints_py(dim, ndiv, components=FeNiTi, offset=len(gridAtt)*5)\n",
    "stitchingPointsFeNiV = stitching.findStitchingPoints_py(dim, ndiv, components=FeNiV, offset=len(gridAtt)*6)\n",
    "stitchingPointsFeTiV = stitching.findStitchingPoints_py(dim, ndiv, components=FeTiV, offset=len(gridAtt)*7)\n",
    "stitchingPointsNiTiV = stitching.findStitchingPoints_py(dim, ndiv, components=NiTiV, offset=len(gridAtt)*8)"
   ]
  },
  {
   "cell_type": "markdown",
   "id": "eadbddb1",
   "metadata": {
    "papermill": {
     "duration": 0.009337,
     "end_time": "2025-01-27T01:53:29.272062",
     "exception": false,
     "start_time": "2025-01-27T01:53:29.262725",
     "status": "completed"
    },
    "tags": []
   },
   "source": [
    "## Finding and Combining 3-Component Subspaces in 4-Component Space"
   ]
  },
  {
   "cell_type": "code",
   "execution_count": 23,
   "id": "da65d2ef",
   "metadata": {
    "execution": {
     "iopub.execute_input": "2025-01-27T01:53:29.291396Z",
     "iopub.status.busy": "2025-01-27T01:53:29.291131Z",
     "iopub.status.idle": "2025-01-27T01:53:29.293893Z",
     "shell.execute_reply": "2025-01-27T01:53:29.293407Z"
    },
    "papermill": {
     "duration": 0.013013,
     "end_time": "2025-01-27T01:53:29.294495",
     "exception": false,
     "start_time": "2025-01-27T01:53:29.281482",
     "status": "completed"
    },
    "tags": []
   },
   "outputs": [
    {
     "name": "stdout",
     "output_type": "stream",
     "text": [
      "[('A', 'B', 'C'), ('A', 'B', 'D'), ('A', 'C', 'D'), ('B', 'C', 'D')]\n"
     ]
    }
   ],
   "source": [
    "from itertools import combinations\n",
    "elements = [\"A\", \"B\", \"C\", \"D\"]\n",
    "ternaries = list(combinations(elements, 3))\n",
    "print(ternaries)"
   ]
  },
  {
   "cell_type": "code",
   "execution_count": 24,
   "id": "908033d4",
   "metadata": {
    "execution": {
     "iopub.execute_input": "2025-01-27T01:53:29.314064Z",
     "iopub.status.busy": "2025-01-27T01:53:29.313810Z",
     "iopub.status.idle": "2025-01-27T01:53:29.316149Z",
     "shell.execute_reply": "2025-01-27T01:53:29.315794Z"
    },
    "papermill": {
     "duration": 0.012767,
     "end_time": "2025-01-27T01:53:29.316781",
     "exception": false,
     "start_time": "2025-01-27T01:53:29.304014",
     "status": "completed"
    },
    "tags": []
   },
   "outputs": [],
   "source": [
    "gridAtt, nList = nimplex.simplex_graph_py(3,12)"
   ]
  },
  {
   "cell_type": "code",
   "execution_count": 25,
   "id": "6eee1688",
   "metadata": {
    "execution": {
     "iopub.execute_input": "2025-01-27T01:53:29.336203Z",
     "iopub.status.busy": "2025-01-27T01:53:29.335940Z",
     "iopub.status.idle": "2025-01-27T01:53:29.339177Z",
     "shell.execute_reply": "2025-01-27T01:53:29.338810Z"
    },
    "papermill": {
     "duration": 0.013475,
     "end_time": "2025-01-27T01:53:29.339820",
     "exception": false,
     "start_time": "2025-01-27T01:53:29.326345",
     "status": "completed"
    },
    "tags": []
   },
   "outputs": [],
   "source": [
    "edges = []\n",
    "# Ternaries\n",
    "for i, ternary in enumerate(ternaries):\n",
    "    offset = i*len(gridAtt)\n",
    "    for i in range(len(gridAtt)):\n",
    "        for n in nList[i]:\n",
    "            edges.append((i+offset,n+offset))"
   ]
  },
  {
   "cell_type": "code",
   "execution_count": 26,
   "id": "b85ae88b",
   "metadata": {
    "execution": {
     "iopub.execute_input": "2025-01-27T01:53:29.359365Z",
     "iopub.status.busy": "2025-01-27T01:53:29.359112Z",
     "iopub.status.idle": "2025-01-27T01:53:29.361880Z",
     "shell.execute_reply": "2025-01-27T01:53:29.361511Z"
    },
    "papermill": {
     "duration": 0.013144,
     "end_time": "2025-01-27T01:53:29.362494",
     "exception": false,
     "start_time": "2025-01-27T01:53:29.349350",
     "status": "completed"
    },
    "tags": []
   },
   "outputs": [],
   "source": [
    "#plotGraph(edges)\n",
    "clear_output()"
   ]
  },
  {
   "cell_type": "code",
   "execution_count": 27,
   "id": "cbac3df3",
   "metadata": {
    "execution": {
     "iopub.execute_input": "2025-01-27T01:53:29.382352Z",
     "iopub.status.busy": "2025-01-27T01:53:29.382032Z",
     "iopub.status.idle": "2025-01-27T01:53:29.385907Z",
     "shell.execute_reply": "2025-01-27T01:53:29.385533Z"
    },
    "papermill": {
     "duration": 0.014404,
     "end_time": "2025-01-27T01:53:29.386531",
     "exception": false,
     "start_time": "2025-01-27T01:53:29.372127",
     "status": "completed"
    },
    "tags": []
   },
   "outputs": [
    {
     "name": "stdout",
     "output_type": "stream",
     "text": [
      "('A', 'B'): occurs between ternary [(0, 1)]\n",
      "('A', 'C'): occurs between ternary [(0, 2)]\n",
      "('B', 'C'): occurs between ternary [(0, 3)]\n",
      "('A', 'D'): occurs between ternary [(1, 2)]\n",
      "('B', 'D'): occurs between ternary [(1, 3)]\n",
      "('C', 'D'): occurs between ternary [(2, 3)]\n"
     ]
    }
   ],
   "source": [
    "stitchingBinaries = {}\n",
    "\n",
    "for i, combo1 in enumerate(ternaries):\n",
    "    for j, combo2 in enumerate(ternaries[i+1:], start=i+1):\n",
    "        common = set(combo1) & set(combo2)\n",
    "        if len(common) == 2:\n",
    "            overlap = tuple(sorted(common))\n",
    "            if overlap not in stitchingBinaries:\n",
    "                stitchingBinaries[overlap] = []\n",
    "            stitchingBinaries[overlap].append((i, j))\n",
    "\n",
    "for overlap, pairs in stitchingBinaries.items():\n",
    "    print(f\"{overlap}: occurs between ternary {pairs}\")"
   ]
  },
  {
   "cell_type": "markdown",
   "id": "914bc819",
   "metadata": {
    "papermill": {
     "duration": 0.00961,
     "end_time": "2025-01-27T01:53:29.405964",
     "exception": false,
     "start_time": "2025-01-27T01:53:29.396354",
     "status": "completed"
    },
    "tags": []
   },
   "source": []
  },
  {
   "cell_type": "code",
   "execution_count": 28,
   "id": "4d99ac01",
   "metadata": {
    "execution": {
     "iopub.execute_input": "2025-01-27T01:53:29.425639Z",
     "iopub.status.busy": "2025-01-27T01:53:29.425380Z",
     "iopub.status.idle": "2025-01-27T01:53:29.442452Z",
     "shell.execute_reply": "2025-01-27T01:53:29.442082Z"
    },
    "papermill": {
     "duration": 0.027462,
     "end_time": "2025-01-27T01:53:29.443074",
     "exception": false,
     "start_time": "2025-01-27T01:53:29.415612",
     "status": "completed"
    },
    "tags": []
   },
   "outputs": [
    {
     "name": "stdout",
     "output_type": "stream",
     "text": [
      "Stitching 0 and 1 at ('A', 'B') from [90, 89, 87, 84, 80, 75, 69, 62, 54, 45, 35, 24, 12] to [181, 180, 178, 175, 171, 166, 160, 153, 145, 136, 126, 115, 103]\n",
      "Stitching 0 and 2 at ('A', 'C') from [90, 88, 85, 81, 76, 70, 63, 55, 46, 36, 25, 13, 0] to [272, 271, 269, 266, 262, 257, 251, 244, 236, 227, 217, 206, 194]\n",
      "Stitching 0 and 3 at ('B', 'C') from [12, 11, 10, 9, 8, 7, 6, 5, 4, 3, 2, 1, 0] to [363, 362, 360, 357, 353, 348, 342, 335, 327, 318, 308, 297, 285]\n",
      "Stitching 1 and 2 at ('A', 'D') from [181, 179, 176, 172, 167, 161, 154, 146, 137, 127, 116, 104, 91] to [272, 270, 267, 263, 258, 252, 245, 237, 228, 218, 207, 195, 182]\n",
      "Stitching 1 and 3 at ('B', 'D') from [103, 102, 101, 100, 99, 98, 97, 96, 95, 94, 93, 92, 91] to [363, 361, 358, 354, 349, 343, 336, 328, 319, 309, 298, 286, 273]\n",
      "Stitching 2 and 3 at ('C', 'D') from [194, 193, 192, 191, 190, 189, 188, 187, 186, 185, 184, 183, 182] to [285, 284, 283, 282, 281, 280, 279, 278, 277, 276, 275, 274, 273]\n"
     ]
    }
   ],
   "source": [
    "for stitchingBinary, ternaryPair in stitchingBinaries.items():\n",
    "    ternary1, ternary2 = ternaryPair[0][0], ternaryPair[0][1]\n",
    "    stitching1 = stitching.findStitchingPoints_py(\n",
    "        3, 12, \n",
    "        components=ternaries[ternary1],\n",
    "        offset=ternary1*len(gridAtt)\n",
    "        )[\"-\".join(stitchingBinary)]\n",
    "    stitching2 = stitching.findStitchingPoints_py(\n",
    "        3, 12, \n",
    "        components=ternaries[ternary2],\n",
    "        offset=ternary2*len(gridAtt)\n",
    "        )[\"-\".join(stitchingBinary)]\n",
    "    print(f\"Stitching {ternary1} and {ternary2} at {stitchingBinary} from {stitching1} to {stitching2}\")\n",
    "    for i, j in zip(stitching1, stitching2):\n",
    "        edges.append((i, j))"
   ]
  },
  {
   "cell_type": "code",
   "execution_count": 29,
   "id": "bd1b95a7",
   "metadata": {
    "execution": {
     "iopub.execute_input": "2025-01-27T01:53:29.462879Z",
     "iopub.status.busy": "2025-01-27T01:53:29.462619Z",
     "iopub.status.idle": "2025-01-27T01:53:29.465195Z",
     "shell.execute_reply": "2025-01-27T01:53:29.464865Z"
    },
    "papermill": {
     "duration": 0.013062,
     "end_time": "2025-01-27T01:53:29.465795",
     "exception": false,
     "start_time": "2025-01-27T01:53:29.452733",
     "status": "completed"
    },
    "tags": []
   },
   "outputs": [],
   "source": [
    "#plotGraph(edges)\n",
    "clear_output()"
   ]
  },
  {
   "cell_type": "markdown",
   "id": "26ef4bd5",
   "metadata": {
    "papermill": {
     "duration": 0.009572,
     "end_time": "2025-01-27T01:53:29.485147",
     "exception": false,
     "start_time": "2025-01-27T01:53:29.475575",
     "status": "completed"
    },
    "tags": []
   },
   "source": [
    "## In Higher Dimensional Cases (Stretched 2D Spaces Crossing Each Other in 3D)"
   ]
  },
  {
   "cell_type": "code",
   "execution_count": 30,
   "id": "095654e9",
   "metadata": {
    "execution": {
     "iopub.execute_input": "2025-01-27T01:53:29.504921Z",
     "iopub.status.busy": "2025-01-27T01:53:29.504625Z",
     "iopub.status.idle": "2025-01-27T01:53:29.507386Z",
     "shell.execute_reply": "2025-01-27T01:53:29.506988Z"
    },
    "papermill": {
     "duration": 0.013378,
     "end_time": "2025-01-27T01:53:29.508121",
     "exception": false,
     "start_time": "2025-01-27T01:53:29.494743",
     "status": "completed"
    },
    "tags": []
   },
   "outputs": [
    {
     "name": "stdout",
     "output_type": "stream",
     "text": [
      "[('A', 'B', 'C'), ('A', 'B', 'D'), ('A', 'B', 'E'), ('A', 'C', 'D'), ('A', 'C', 'E'), ('A', 'D', 'E'), ('B', 'C', 'D'), ('B', 'C', 'E'), ('B', 'D', 'E'), ('C', 'D', 'E')]\n"
     ]
    }
   ],
   "source": [
    "from itertools import combinations\n",
    "elements = [\"A\", \"B\", \"C\", \"D\", \"E\"]\n",
    "ternaries = list(combinations(elements, 3))\n",
    "print(ternaries)"
   ]
  },
  {
   "cell_type": "code",
   "execution_count": 31,
   "id": "c3add686",
   "metadata": {
    "execution": {
     "iopub.execute_input": "2025-01-27T01:53:29.528024Z",
     "iopub.status.busy": "2025-01-27T01:53:29.527754Z",
     "iopub.status.idle": "2025-01-27T01:53:29.530084Z",
     "shell.execute_reply": "2025-01-27T01:53:29.529698Z"
    },
    "papermill": {
     "duration": 0.012737,
     "end_time": "2025-01-27T01:53:29.530683",
     "exception": false,
     "start_time": "2025-01-27T01:53:29.517946",
     "status": "completed"
    },
    "tags": []
   },
   "outputs": [],
   "source": [
    "gridAtt, nList = nimplex.simplex_graph_py(3,12)"
   ]
  },
  {
   "cell_type": "code",
   "execution_count": 32,
   "id": "6467fcd4",
   "metadata": {
    "execution": {
     "iopub.execute_input": "2025-01-27T01:53:29.550899Z",
     "iopub.status.busy": "2025-01-27T01:53:29.550569Z",
     "iopub.status.idle": "2025-01-27T01:53:29.554457Z",
     "shell.execute_reply": "2025-01-27T01:53:29.554092Z"
    },
    "papermill": {
     "duration": 0.014526,
     "end_time": "2025-01-27T01:53:29.555149",
     "exception": false,
     "start_time": "2025-01-27T01:53:29.540623",
     "status": "completed"
    },
    "tags": []
   },
   "outputs": [],
   "source": [
    "edges = []\n",
    "# Ternaries\n",
    "for i, ternary in enumerate(ternaries):\n",
    "    offset = i*len(gridAtt)\n",
    "    for i in range(len(gridAtt)):\n",
    "        for n in nList[i]:\n",
    "            edges.append((i+offset,n+offset))\n"
   ]
  },
  {
   "cell_type": "code",
   "execution_count": 33,
   "id": "3442107e",
   "metadata": {
    "execution": {
     "iopub.execute_input": "2025-01-27T01:53:29.575330Z",
     "iopub.status.busy": "2025-01-27T01:53:29.575108Z",
     "iopub.status.idle": "2025-01-27T01:53:29.577815Z",
     "shell.execute_reply": "2025-01-27T01:53:29.577491Z"
    },
    "papermill": {
     "duration": 0.01338,
     "end_time": "2025-01-27T01:53:29.578428",
     "exception": false,
     "start_time": "2025-01-27T01:53:29.565048",
     "status": "completed"
    },
    "tags": []
   },
   "outputs": [],
   "source": [
    "#plotGraph(edges)\n",
    "clear_output()"
   ]
  },
  {
   "cell_type": "code",
   "execution_count": 34,
   "id": "8deefd7f",
   "metadata": {
    "execution": {
     "iopub.execute_input": "2025-01-27T01:53:29.598682Z",
     "iopub.status.busy": "2025-01-27T01:53:29.598497Z",
     "iopub.status.idle": "2025-01-27T01:53:29.602427Z",
     "shell.execute_reply": "2025-01-27T01:53:29.602065Z"
    },
    "papermill": {
     "duration": 0.014638,
     "end_time": "2025-01-27T01:53:29.603063",
     "exception": false,
     "start_time": "2025-01-27T01:53:29.588425",
     "status": "completed"
    },
    "tags": []
   },
   "outputs": [
    {
     "name": "stdout",
     "output_type": "stream",
     "text": [
      "('A', 'B'): occurs between ternary [(0, 1), (0, 2), (1, 2)]\n",
      "('A', 'C'): occurs between ternary [(0, 3), (0, 4), (3, 4)]\n",
      "('B', 'C'): occurs between ternary [(0, 6), (0, 7), (6, 7)]\n",
      "('A', 'D'): occurs between ternary [(1, 3), (1, 5), (3, 5)]\n",
      "('B', 'D'): occurs between ternary [(1, 6), (1, 8), (6, 8)]\n",
      "('A', 'E'): occurs between ternary [(2, 4), (2, 5), (4, 5)]\n",
      "('B', 'E'): occurs between ternary [(2, 7), (2, 8), (7, 8)]\n",
      "('C', 'D'): occurs between ternary [(3, 6), (3, 9), (6, 9)]\n",
      "('C', 'E'): occurs between ternary [(4, 7), (4, 9), (7, 9)]\n",
      "('D', 'E'): occurs between ternary [(5, 8), (5, 9), (8, 9)]\n"
     ]
    }
   ],
   "source": [
    "stitchingBinaries = {}\n",
    "\n",
    "for i, combo1 in enumerate(ternaries):\n",
    "    for j, combo2 in enumerate(ternaries[i+1:], start=i+1):\n",
    "        common = set(combo1) & set(combo2)\n",
    "        if len(common) == 2:\n",
    "            overlap = tuple(sorted(common))\n",
    "            if overlap not in stitchingBinaries:\n",
    "                stitchingBinaries[overlap] = []\n",
    "            stitchingBinaries[overlap].append((i, j))\n",
    "\n",
    "for overlap, pairs in stitchingBinaries.items():\n",
    "    print(f\"{overlap}: occurs between ternary {pairs}\")"
   ]
  },
  {
   "cell_type": "code",
   "execution_count": 35,
   "id": "5ed23805",
   "metadata": {
    "execution": {
     "iopub.execute_input": "2025-01-27T01:53:29.623282Z",
     "iopub.status.busy": "2025-01-27T01:53:29.623005Z",
     "iopub.status.idle": "2025-01-27T01:53:29.693756Z",
     "shell.execute_reply": "2025-01-27T01:53:29.693430Z"
    },
    "papermill": {
     "duration": 0.081426,
     "end_time": "2025-01-27T01:53:29.694400",
     "exception": false,
     "start_time": "2025-01-27T01:53:29.612974",
     "status": "completed"
    },
    "tags": []
   },
   "outputs": [
    {
     "name": "stdout",
     "output_type": "stream",
     "text": [
      "Stitching 0 and 1 at ('A', 'B') from [90, 89, 87, 84, 80, 75, 69, 62, 54, 45, 35, 24, 12] to [181, 180, 178, 175, 171, 166, 160, 153, 145, 136, 126, 115, 103]\n",
      "Stitching 0 and 2 at ('A', 'B') from [90, 89, 87, 84, 80, 75, 69, 62, 54, 45, 35, 24, 12] to [272, 271, 269, 266, 262, 257, 251, 244, 236, 227, 217, 206, 194]\n",
      "Stitching 1 and 2 at ('A', 'B') from [181, 180, 178, 175, 171, 166, 160, 153, 145, 136, 126, 115, 103] to [272, 271, 269, 266, 262, 257, 251, 244, 236, 227, 217, 206, 194]\n",
      "Stitching 0 and 3 at ('A', 'C') from [90, 88, 85, 81, 76, 70, 63, 55, 46, 36, 25, 13, 0] to [363, 362, 360, 357, 353, 348, 342, 335, 327, 318, 308, 297, 285]\n",
      "Stitching 0 and 4 at ('A', 'C') from [90, 88, 85, 81, 76, 70, 63, 55, 46, 36, 25, 13, 0] to [454, 453, 451, 448, 444, 439, 433, 426, 418, 409, 399, 388, 376]\n"
     ]
    },
    {
     "name": "stdout",
     "output_type": "stream",
     "text": [
      "Stitching 3 and 4 at ('A', 'C') from [363, 362, 360, 357, 353, 348, 342, 335, 327, 318, 308, 297, 285] to [454, 453, 451, 448, 444, 439, 433, 426, 418, 409, 399, 388, 376]\n",
      "Stitching 0 and 6 at ('B', 'C') from [12, 11, 10, 9, 8, 7, 6, 5, 4, 3, 2, 1, 0] to [636, 635, 633, 630, 626, 621, 615, 608, 600, 591, 581, 570, 558]\n",
      "Stitching 0 and 7 at ('B', 'C') from [12, 11, 10, 9, 8, 7, 6, 5, 4, 3, 2, 1, 0] to [727, 726, 724, 721, 717, 712, 706, 699, 691, 682, 672, 661, 649]\n",
      "Stitching 6 and 7 at ('B', 'C') from [636, 635, 633, 630, 626, 621, 615, 608, 600, 591, 581, 570, 558] to [727, 726, 724, 721, 717, 712, 706, 699, 691, 682, 672, 661, 649]\n",
      "Stitching 1 and 3 at ('A', 'D') from [181, 179, 176, 172, 167, 161, 154, 146, 137, 127, 116, 104, 91] to [363, 361, 358, 354, 349, 343, 336, 328, 319, 309, 298, 286, 273]\n",
      "Stitching 1 and 5 at ('A', 'D') from [181, 179, 176, 172, 167, 161, 154, 146, 137, 127, 116, 104, 91] to [545, 544, 542, 539, 535, 530, 524, 517, 509, 500, 490, 479, 467]\n",
      "Stitching 3 and 5 at ('A', 'D') from [363, 361, 358, 354, 349, 343, 336, 328, 319, 309, 298, 286, 273] to [545, 544, 542, 539, 535, 530, 524, 517, 509, 500, 490, 479, 467]\n",
      "Stitching 1 and 6 at ('B', 'D') from [103, 102, 101, 100, 99, 98, 97, 96, 95, 94, 93, 92, 91] to [636, 634, 631, 627, 622, 616, 609, 601, 592, 582, 571, 559, 546]\n",
      "Stitching 1 and 8 at ('B', 'D') from [103, 102, 101, 100, 99, 98, 97, 96, 95, 94, 93, 92, 91] to [818, 817, 815, 812, 808, 803, 797, 790, 782, 773, 763, 752, 740]\n",
      "Stitching 6 and 8 at ('B', 'D') from [636, 634, 631, 627, 622, 616, 609, 601, 592, 582, 571, 559, 546] to [818, 817, 815, 812, 808, 803, 797, 790, 782, 773, 763, 752, 740]\n",
      "Stitching 2 and 4 at ('A', 'E') from [272, 270, 267, 263, 258, 252, 245, 237, 228, 218, 207, 195, 182] to [454, 452, 449, 445, 440, 434, 427, 419, 410, 400, 389, 377, 364]\n",
      "Stitching 2 and 5 at ('A', 'E') from [272, 270, 267, 263, 258, 252, 245, 237, 228, 218, 207, 195, 182] to [545, 543, 540, 536, 531, 525, 518, 510, 501, 491, 480, 468, 455]\n",
      "Stitching 4 and 5 at ('A', 'E') from [454, 452, 449, 445, 440, 434, 427, 419, 410, 400, 389, 377, 364] to [545, 543, 540, 536, 531, 525, 518, 510, 501, 491, 480, 468, 455]\n",
      "Stitching 2 and 7 at ('B', 'E') from [194, 193, 192, 191, 190, 189, 188, 187, 186, 185, 184, 183, 182] to [727, 725, 722, 718, 713, 707, 700, 692, 683, 673, 662, 650, 637]\n",
      "Stitching 2 and 8 at ('B', 'E') from [194, 193, 192, 191, 190, 189, 188, 187, 186, 185, 184, 183, 182] to [818, 816, 813, 809, 804, 798, 791, 783, 774, 764, 753, 741, 728]\n",
      "Stitching 7 and 8 at ('B', 'E') from [727, 725, 722, 718, 713, 707, 700, 692, 683, 673, 662, 650, 637] to [818, 816, 813, 809, 804, 798, 791, 783, 774, 764, 753, 741, 728]\n",
      "Stitching 3 and 6 at ('C', 'D') from [285, 284, 283, 282, 281, 280, 279, 278, 277, 276, 275, 274, 273] to [558, 557, 556, 555, 554, 553, 552, 551, 550, 549, 548, 547, 546]\n",
      "Stitching 3 and 9 at ('C', 'D') from [285, 284, 283, 282, 281, 280, 279, 278, 277, 276, 275, 274, 273] to [909, 908, 906, 903, 899, 894, 888, 881, 873, 864, 854, 843, 831]\n",
      "Stitching 6 and 9 at ('C', 'D') from [558, 557, 556, 555, 554, 553, 552, 551, 550, 549, 548, 547, 546] to [909, 908, 906, 903, 899, 894, 888, 881, 873, 864, 854, 843, 831]\n",
      "Stitching 4 and 7 at ('C', 'E') from [376, 375, 374, 373, 372, 371, 370, 369, 368, 367, 366, 365, 364] to [649, 648, 647, 646, 645, 644, 643, 642, 641, 640, 639, 638, 637]\n",
      "Stitching 4 and 9 at ('C', 'E') from [376, 375, 374, 373, 372, 371, 370, 369, 368, 367, 366, 365, 364] to [909, 907, 904, 900, 895, 889, 882, 874, 865, 855, 844, 832, 819]\n",
      "Stitching 7 and 9 at ('C', 'E') from [649, 648, 647, 646, 645, 644, 643, 642, 641, 640, 639, 638, 637] to [909, 907, 904, 900, 895, 889, 882, 874, 865, 855, 844, 832, 819]\n",
      "Stitching 5 and 8 at ('D', 'E') from [467, 466, 465, 464, 463, 462, 461, 460, 459, 458, 457, 456, 455] to [740, 739, 738, 737, 736, 735, 734, 733, 732, 731, 730, 729, 728]\n",
      "Stitching 5 and 9 at ('D', 'E') from [467, 466, 465, 464, 463, 462, 461, 460, 459, 458, 457, 456, 455] to [831, 830, 829, 828, 827, 826, 825, 824, 823, 822, 821, 820, 819]\n",
      "Stitching 8 and 9 at ('D', 'E') from [740, 739, 738, 737, 736, 735, 734, 733, 732, 731, 730, 729, 728] to [831, 830, 829, 828, 827, 826, 825, 824, 823, 822, 821, 820, 819]\n"
     ]
    }
   ],
   "source": [
    "for stitchingBinary, ternaryPairList in stitchingBinaries.items():\n",
    "    for ternaryPair in ternaryPairList:\n",
    "        ternary1, ternary2 = ternaryPair[0], ternaryPair[1]\n",
    "        stitching1 = stitching.findStitchingPoints_py(\n",
    "            3, 12, \n",
    "            components=ternaries[ternary1],\n",
    "            offset=ternary1*len(gridAtt)\n",
    "            )[\"-\".join(stitchingBinary)]\n",
    "        stitching2 = stitching.findStitchingPoints_py(\n",
    "            3, 12, \n",
    "            components=ternaries[ternary2],\n",
    "            offset=ternary2*len(gridAtt)\n",
    "            )[\"-\".join(stitchingBinary)]\n",
    "        print(f\"Stitching {ternary1} and {ternary2} at {stitchingBinary} from {stitching1} to {stitching2}\")\n",
    "        for i, j in zip(stitching1, stitching2):\n",
    "            edges.append((i, j))"
   ]
  },
  {
   "cell_type": "code",
   "execution_count": 36,
   "id": "fa8d030d",
   "metadata": {
    "execution": {
     "iopub.execute_input": "2025-01-27T01:53:29.714828Z",
     "iopub.status.busy": "2025-01-27T01:53:29.714489Z",
     "iopub.status.idle": "2025-01-27T01:53:29.717012Z",
     "shell.execute_reply": "2025-01-27T01:53:29.716647Z"
    },
    "papermill": {
     "duration": 0.013197,
     "end_time": "2025-01-27T01:53:29.717598",
     "exception": false,
     "start_time": "2025-01-27T01:53:29.704401",
     "status": "completed"
    },
    "tags": []
   },
   "outputs": [],
   "source": [
    "#plotGraph(edges)\n",
    "clear_output()"
   ]
  },
  {
   "cell_type": "markdown",
   "id": "d4995bb9",
   "metadata": {
    "papermill": {
     "duration": 0.010002,
     "end_time": "2025-01-27T01:53:29.737732",
     "exception": false,
     "start_time": "2025-01-27T01:53:29.727730",
     "status": "completed"
    },
    "tags": []
   },
   "source": [
    "## Exploring Complex Formed by All 3-Component Alloy Subsystems of 5-Component Space (w. Infeasibility Gliding) #THIS ONE ADAM"
   ]
  },
  {
   "cell_type": "code",
   "execution_count": 37,
   "id": "76521c0f",
   "metadata": {
    "execution": {
     "iopub.execute_input": "2025-01-27T01:53:29.758544Z",
     "iopub.status.busy": "2025-01-27T01:53:29.758317Z",
     "iopub.status.idle": "2025-01-27T01:53:29.762488Z",
     "shell.execute_reply": "2025-01-27T01:53:29.762023Z"
    },
    "papermill": {
     "duration": 0.015198,
     "end_time": "2025-01-27T01:53:29.763086",
     "exception": false,
     "start_time": "2025-01-27T01:53:29.747888",
     "status": "completed"
    },
    "tags": []
   },
   "outputs": [
    {
     "name": "stdout",
     "output_type": "stream",
     "text": [
      "('Cr', 'Fe', 'Ni')                       -> ([1, 0, 0, 0, 0], [0, 1, 0, 0, 0], [0, 0, 1, 0, 0])\n",
      "('Cr', 'Fe', 'Ti')                       -> ([1, 0, 0, 0, 0], [0, 1, 0, 0, 0], [0, 0, 0, 1, 0])\n",
      "('Cr', 'Fe', 'V')                        -> ([1, 0, 0, 0, 0], [0, 1, 0, 0, 0], [0, 0, 0, 0, 1])\n",
      "('Cr', 'Ni', 'Ti')                       -> ([1, 0, 0, 0, 0], [0, 0, 1, 0, 0], [0, 0, 0, 1, 0])\n",
      "('Cr', 'Ni', 'V')                        -> ([1, 0, 0, 0, 0], [0, 0, 1, 0, 0], [0, 0, 0, 0, 1])\n",
      "('Cr', 'Ti', 'V')                        -> ([1, 0, 0, 0, 0], [0, 0, 0, 1, 0], [0, 0, 0, 0, 1])\n",
      "('Fe', 'Ni', 'Ti')                       -> ([0, 1, 0, 0, 0], [0, 0, 1, 0, 0], [0, 0, 0, 1, 0])\n",
      "('Fe', 'Ni', 'V')                        -> ([0, 1, 0, 0, 0], [0, 0, 1, 0, 0], [0, 0, 0, 0, 1])\n",
      "('Fe', 'Ti', 'V')                        -> ([0, 1, 0, 0, 0], [0, 0, 0, 1, 0], [0, 0, 0, 0, 1])\n",
      "('Ni', 'Ti', 'V')                        -> ([0, 0, 1, 0, 0], [0, 0, 0, 1, 0], [0, 0, 0, 0, 1])\n"
     ]
    }
   ],
   "source": [
    "elementalSpaceComponents = [\"Cr\",\"Fe\",\"Ni\",\"Ti\",\"V\"]\n",
    "#attainableSpaceComponents = [\"SS304L\", \"Ni\", \"Cr\", \"V\", \"Ti\"]\n",
    "attainableSpaceComponents = [\"Cr\", \"Fe\", \"Ni\", \"Ti\", \"V\"]\n",
    "attainableSpaceComponentPositions = [\n",
    "    #\"Cr\",\"Fe\",\"Ni\",\"Ti\",\"V\"\n",
    "    #[0.1993865031, 0.7044989775,0.096114519430,0,0],\n",
    "    [1,0,0,0,0],\n",
    "    [0,1,0,0,0],\n",
    "    [0,0,1,0,0],\n",
    "    [0,0,0,1,0],\n",
    "    [0,0,0,0,1]\n",
    "]    \n",
    "ternaries = list(combinations(attainableSpaceComponents, 3))\n",
    "ternaries_CompPos = list(combinations(attainableSpaceComponentPositions, 3))\n",
    "ndiv = 8\n",
    "gridAtt, nList = nimplex.simplex_graph_py(3, ndiv)\n",
    "\n",
    "for tern, terncp in zip(ternaries, ternaries_CompPos):\n",
    "    print(f\"{str(tern):<40} -> {terncp}\")"
   ]
  },
  {
   "cell_type": "code",
   "execution_count": null,
   "id": "3e74b169",
   "metadata": {
    "papermill": {
     "duration": 0.01006,
     "end_time": "2025-01-27T01:53:29.783398",
     "exception": false,
     "start_time": "2025-01-27T01:53:29.773338",
     "status": "completed"
    },
    "tags": []
   },
   "outputs": [],
   "source": []
  },
  {
   "cell_type": "code",
   "execution_count": 38,
   "id": "e453210d",
   "metadata": {
    "execution": {
     "iopub.execute_input": "2025-01-27T01:53:29.803710Z",
     "iopub.status.busy": "2025-01-27T01:53:29.803526Z",
     "iopub.status.idle": "2025-01-27T01:53:29.808773Z",
     "shell.execute_reply": "2025-01-27T01:53:29.808364Z"
    },
    "papermill": {
     "duration": 0.01606,
     "end_time": "2025-01-27T01:53:29.809440",
     "exception": false,
     "start_time": "2025-01-27T01:53:29.793380",
     "status": "completed"
    },
    "tags": []
   },
   "outputs": [],
   "source": [
    "# Edges list for graph plotting and path finding purposes\n",
    "edges = []\n",
    "# Connectivity list within each subsystem\n",
    "graphN = [[] for i in range(len(gridAtt * len(ternaries)))]\n",
    "# Connectivity list between subsystems\n",
    "graphNS = [[] for i in range(len(graphN))]\n",
    "compositions = []\n",
    "compositions_with_id = []  # List to store compositions with their identifiers\n",
    "ternaries_with_id = []  # New list to store ternaries_CompPos with their identifiers\n",
    "\n",
    "# Iterate over ternaries\n",
    "for i, terncp in enumerate(ternaries_CompPos):\n",
    "    ternaries_with_id.append((terncp, i))  # Add terncp and its id to the new list\n",
    "    \n",
    "    offset = i*len(gridAtt)\n",
    "    for j in range(len(gridAtt)):\n",
    "        for n in nList[j]:\n",
    "            edges.append((j+offset,n+offset))\n",
    "            graphN[j+offset].append(n+offset)\n",
    "    gridAttTemp, gridElTemp = nimplex.embeddedpair_simplex_grid_fractional_py(terncp, ndiv)\n",
    "    compositions += gridElTemp\n",
    "    \n",
    "    # Attach identifier to each composition\n",
    "    compositions_with_id.extend([(comp, i) for comp in gridElTemp])"
   ]
  },
  {
   "cell_type": "code",
   "execution_count": 39,
   "id": "d8e09d91",
   "metadata": {
    "execution": {
     "iopub.execute_input": "2025-01-27T01:53:29.830452Z",
     "iopub.status.busy": "2025-01-27T01:53:29.830192Z",
     "iopub.status.idle": "2025-01-27T01:53:29.832806Z",
     "shell.execute_reply": "2025-01-27T01:53:29.832381Z"
    },
    "papermill": {
     "duration": 0.013593,
     "end_time": "2025-01-27T01:53:29.833409",
     "exception": false,
     "start_time": "2025-01-27T01:53:29.819816",
     "status": "completed"
    },
    "tags": []
   },
   "outputs": [
    {
     "name": "stdout",
     "output_type": "stream",
     "text": [
      "Ternary composition position ([1, 0, 0, 0, 0], [0, 1, 0, 0, 0], [0, 0, 1, 0, 0]) has id 0\n",
      "Ternary composition position ([1, 0, 0, 0, 0], [0, 1, 0, 0, 0], [0, 0, 0, 1, 0]) has id 1\n",
      "Ternary composition position ([1, 0, 0, 0, 0], [0, 1, 0, 0, 0], [0, 0, 0, 0, 1]) has id 2\n",
      "Ternary composition position ([1, 0, 0, 0, 0], [0, 0, 1, 0, 0], [0, 0, 0, 1, 0]) has id 3\n",
      "Ternary composition position ([1, 0, 0, 0, 0], [0, 0, 1, 0, 0], [0, 0, 0, 0, 1]) has id 4\n",
      "Ternary composition position ([1, 0, 0, 0, 0], [0, 0, 0, 1, 0], [0, 0, 0, 0, 1]) has id 5\n",
      "Ternary composition position ([0, 1, 0, 0, 0], [0, 0, 1, 0, 0], [0, 0, 0, 1, 0]) has id 6\n",
      "Ternary composition position ([0, 1, 0, 0, 0], [0, 0, 1, 0, 0], [0, 0, 0, 0, 1]) has id 7\n",
      "Ternary composition position ([0, 1, 0, 0, 0], [0, 0, 0, 1, 0], [0, 0, 0, 0, 1]) has id 8\n",
      "Ternary composition position ([0, 0, 1, 0, 0], [0, 0, 0, 1, 0], [0, 0, 0, 0, 1]) has id 9\n"
     ]
    }
   ],
   "source": [
    "# Example: Access ternaries_CompPos with their identifiers\n",
    "for terncp, ternary_id in ternaries_with_id:\n",
    "    print(f\"Ternary composition position {terncp} has id {ternary_id}\")"
   ]
  },
  {
   "cell_type": "code",
   "execution_count": 40,
   "id": "088875bf",
   "metadata": {
    "execution": {
     "iopub.execute_input": "2025-01-27T01:53:29.854168Z",
     "iopub.status.busy": "2025-01-27T01:53:29.853986Z",
     "iopub.status.idle": "2025-01-27T01:53:29.856683Z",
     "shell.execute_reply": "2025-01-27T01:53:29.856293Z"
    },
    "papermill": {
     "duration": 0.013677,
     "end_time": "2025-01-27T01:53:29.857281",
     "exception": false,
     "start_time": "2025-01-27T01:53:29.843604",
     "status": "completed"
    },
    "tags": []
   },
   "outputs": [],
   "source": [
    "mapping = {}\n",
    "for ternary, id in ternaries_with_id:\n",
    "    composition_key = ''.join(elementalSpaceComponents[i] for i in range(len(elementalSpaceComponents)) if any(ternary[j][i] for j in range(len(ternary))))\n",
    "    mapping[composition_key] = id"
   ]
  },
  {
   "cell_type": "code",
   "execution_count": 41,
   "id": "480c6ae3",
   "metadata": {
    "execution": {
     "iopub.execute_input": "2025-01-27T01:53:29.878291Z",
     "iopub.status.busy": "2025-01-27T01:53:29.878036Z",
     "iopub.status.idle": "2025-01-27T01:53:29.882334Z",
     "shell.execute_reply": "2025-01-27T01:53:29.881998Z"
    },
    "papermill": {
     "duration": 0.015291,
     "end_time": "2025-01-27T01:53:29.882915",
     "exception": false,
     "start_time": "2025-01-27T01:53:29.867624",
     "status": "completed"
    },
    "tags": []
   },
   "outputs": [
    {
     "name": "stdout",
     "output_type": "stream",
     "text": [
      "Combination: CrFeNi, ID: 0, Elements: ['Cr', 'Fe', 'Ni']\n",
      "Combination: CrFeTi, ID: 1, Elements: ['Cr', 'Fe', 'Ti']\n",
      "Combination: CrFeV, ID: 2, Elements: ['Cr', 'Fe', 'V']\n",
      "Combination: CrNiTi, ID: 3, Elements: ['Cr', 'Ni', 'Ti']\n",
      "Combination: CrNiV, ID: 4, Elements: ['Cr', 'Ni', 'V']\n",
      "Combination: CrTiV, ID: 5, Elements: ['Cr', 'Ti', 'V']\n",
      "Combination: FeNiTi, ID: 6, Elements: ['Fe', 'Ni', 'Ti']\n",
      "Combination: FeNiV, ID: 7, Elements: ['Fe', 'Ni', 'V']\n",
      "Combination: FeTiV, ID: 8, Elements: ['Fe', 'Ti', 'V']\n",
      "Combination: NiTiV, ID: 9, Elements: ['Ni', 'Ti', 'V']\n"
     ]
    }
   ],
   "source": [
    "mapping = {}\n",
    "for ternary, id in ternaries_with_id:\n",
    "    composition_key = ''.join(elementalSpaceComponents[i] for i in range(len(elementalSpaceComponents)) if any(ternary[j][i] for j in range(len(ternary))))\n",
    "    individual_elements = [elementalSpaceComponents[i] for i in range(len(elementalSpaceComponents)) if any(ternary[j][i] for j in range(len(ternary)))]\n",
    "    mapping[composition_key] = {\n",
    "        'id': id,\n",
    "        'elements': individual_elements\n",
    "    }\n",
    "\n",
    "# Print the mapping to see the result\n",
    "for key, value in mapping.items():\n",
    "    print(f\"Combination: {key}, ID: {value['id']}, Elements: {value['elements']}\")"
   ]
  },
  {
   "cell_type": "code",
   "execution_count": 42,
   "id": "5dd2b3f1",
   "metadata": {
    "execution": {
     "iopub.execute_input": "2025-01-27T01:53:29.904319Z",
     "iopub.status.busy": "2025-01-27T01:53:29.904058Z",
     "iopub.status.idle": "2025-01-27T01:53:29.907916Z",
     "shell.execute_reply": "2025-01-27T01:53:29.907500Z"
    },
    "papermill": {
     "duration": 0.015116,
     "end_time": "2025-01-27T01:53:29.908494",
     "exception": false,
     "start_time": "2025-01-27T01:53:29.893378",
     "status": "completed"
    },
    "tags": []
   },
   "outputs": [
    {
     "data": {
      "text/plain": [
       "{'CrFeNi': {'id': 0, 'elements': ['Cr', 'Fe', 'Ni']},\n",
       " 'CrFeTi': {'id': 1, 'elements': ['Cr', 'Fe', 'Ti']},\n",
       " 'CrFeV': {'id': 2, 'elements': ['Cr', 'Fe', 'V']},\n",
       " 'CrNiTi': {'id': 3, 'elements': ['Cr', 'Ni', 'Ti']},\n",
       " 'CrNiV': {'id': 4, 'elements': ['Cr', 'Ni', 'V']},\n",
       " 'CrTiV': {'id': 5, 'elements': ['Cr', 'Ti', 'V']},\n",
       " 'FeNiTi': {'id': 6, 'elements': ['Fe', 'Ni', 'Ti']},\n",
       " 'FeNiV': {'id': 7, 'elements': ['Fe', 'Ni', 'V']},\n",
       " 'FeTiV': {'id': 8, 'elements': ['Fe', 'Ti', 'V']},\n",
       " 'NiTiV': {'id': 9, 'elements': ['Ni', 'Ti', 'V']}}"
      ]
     },
     "execution_count": 42,
     "metadata": {},
     "output_type": "execute_result"
    }
   ],
   "source": [
    "mapping"
   ]
  },
  {
   "cell_type": "code",
   "execution_count": 43,
   "id": "7deedfbd",
   "metadata": {
    "execution": {
     "iopub.execute_input": "2025-01-27T01:53:29.929885Z",
     "iopub.status.busy": "2025-01-27T01:53:29.929624Z",
     "iopub.status.idle": "2025-01-27T01:53:29.932088Z",
     "shell.execute_reply": "2025-01-27T01:53:29.931556Z"
    },
    "papermill": {
     "duration": 0.013746,
     "end_time": "2025-01-27T01:53:29.932721",
     "exception": false,
     "start_time": "2025-01-27T01:53:29.918975",
     "status": "completed"
    },
    "tags": []
   },
   "outputs": [],
   "source": [
    "# def find_duplicates(lst):\n",
    "#     duplicates_counts = {}\n",
    "#     for item in lst:\n",
    "#         # Use the string representation for complex/unhashable types\n",
    "#         item_str = str(item)\n",
    "#         if item_str in duplicates_counts:\n",
    "#             duplicates_counts[item_str] += 1\n",
    "#         else:\n",
    "#             duplicates_counts[item_str] = 1\n",
    "\n",
    "#     # Filter out items that only appear once\n",
    "#     duplicates = {item: count for item, count in duplicates_counts.items() if count > 1}\n",
    "    \n",
    "#     if not duplicates:\n",
    "#         return \"No duplicates found in the list.\"\n",
    "#     else:\n",
    "#         result = \"Duplicates found:\"\n",
    "#         for item, count in duplicates.items():\n",
    "#             result += f\"{item} appears {count} times\"\n",
    "#         return result.strip()"
   ]
  },
  {
   "cell_type": "code",
   "execution_count": 44,
   "id": "d23d8c9a",
   "metadata": {
    "execution": {
     "iopub.execute_input": "2025-01-27T01:53:29.953920Z",
     "iopub.status.busy": "2025-01-27T01:53:29.953741Z",
     "iopub.status.idle": "2025-01-27T01:53:29.955693Z",
     "shell.execute_reply": "2025-01-27T01:53:29.955302Z"
    },
    "papermill": {
     "duration": 0.013136,
     "end_time": "2025-01-27T01:53:29.956267",
     "exception": false,
     "start_time": "2025-01-27T01:53:29.943131",
     "status": "completed"
    },
    "tags": []
   },
   "outputs": [],
   "source": [
    "# find_duplicates(compositions)"
   ]
  },
  {
   "cell_type": "code",
   "execution_count": 45,
   "id": "c1f76448",
   "metadata": {
    "execution": {
     "iopub.execute_input": "2025-01-27T01:53:29.977562Z",
     "iopub.status.busy": "2025-01-27T01:53:29.977309Z",
     "iopub.status.idle": "2025-01-27T01:53:29.981187Z",
     "shell.execute_reply": "2025-01-27T01:53:29.980851Z"
    },
    "papermill": {
     "duration": 0.015173,
     "end_time": "2025-01-27T01:53:29.981774",
     "exception": false,
     "start_time": "2025-01-27T01:53:29.966601",
     "status": "completed"
    },
    "tags": []
   },
   "outputs": [
    {
     "name": "stdout",
     "output_type": "stream",
     "text": [
      "('Cr', 'Fe'): occurs between ternary [(0, 1), (0, 2), (1, 2)]\n",
      "('Cr', 'Ni'): occurs between ternary [(0, 3), (0, 4), (3, 4)]\n",
      "('Fe', 'Ni'): occurs between ternary [(0, 6), (0, 7), (6, 7)]\n",
      "('Cr', 'Ti'): occurs between ternary [(1, 3), (1, 5), (3, 5)]\n",
      "('Fe', 'Ti'): occurs between ternary [(1, 6), (1, 8), (6, 8)]\n",
      "('Cr', 'V'): occurs between ternary [(2, 4), (2, 5), (4, 5)]\n",
      "('Fe', 'V'): occurs between ternary [(2, 7), (2, 8), (7, 8)]\n",
      "('Ni', 'Ti'): occurs between ternary [(3, 6), (3, 9), (6, 9)]\n",
      "('Ni', 'V'): occurs between ternary [(4, 7), (4, 9), (7, 9)]\n",
      "('Ti', 'V'): occurs between ternary [(5, 8), (5, 9), (8, 9)]\n"
     ]
    }
   ],
   "source": [
    "stitchingBinaries = {}\n",
    "\n",
    "for i, combo1 in enumerate(ternaries):\n",
    "    for j, combo2 in enumerate(ternaries[i+1:], start=i+1):\n",
    "        common = set(combo1) & set(combo2)\n",
    "        if len(common) == 2:\n",
    "            overlap = tuple(sorted(common))\n",
    "            if overlap not in stitchingBinaries:\n",
    "                stitchingBinaries[overlap] = []\n",
    "            stitchingBinaries[overlap].append((i, j))\n",
    "\n",
    "for overlap, pairs in stitchingBinaries.items():\n",
    "    print(f\"{overlap}: occurs between ternary {pairs}\")"
   ]
  },
  {
   "cell_type": "code",
   "execution_count": 46,
   "id": "b465f14e",
   "metadata": {
    "execution": {
     "iopub.execute_input": "2025-01-27T01:53:30.003486Z",
     "iopub.status.busy": "2025-01-27T01:53:30.003213Z",
     "iopub.status.idle": "2025-01-27T01:53:30.039028Z",
     "shell.execute_reply": "2025-01-27T01:53:30.038699Z"
    },
    "papermill": {
     "duration": 0.047348,
     "end_time": "2025-01-27T01:53:30.039602",
     "exception": false,
     "start_time": "2025-01-27T01:53:29.992254",
     "status": "completed"
    },
    "tags": []
   },
   "outputs": [
    {
     "name": "stdout",
     "output_type": "stream",
     "text": [
      "Stitching 0 and 1 at ('Cr', 'Fe') from [44, 43, 41, 38, 34, 29, 23, 16, 8] to [89, 88, 86, 83, 79, 74, 68, 61, 53]\n",
      "Stitching 0 and 2 at ('Cr', 'Fe') from [44, 43, 41, 38, 34, 29, 23, 16, 8] to [134, 133, 131, 128, 124, 119, 113, 106, 98]\n",
      "Stitching 1 and 2 at ('Cr', 'Fe') from [89, 88, 86, 83, 79, 74, 68, 61, 53] to [134, 133, 131, 128, 124, 119, 113, 106, 98]\n",
      "Stitching 0 and 3 at ('Cr', 'Ni') from [44, 42, 39, 35, 30, 24, 17, 9, 0] to [179, 178, 176, 173, 169, 164, 158, 151, 143]\n",
      "Stitching 0 and 4 at ('Cr', 'Ni') from [44, 42, 39, 35, 30, 24, 17, 9, 0] to [224, 223, 221, 218, 214, 209, 203, 196, 188]\n",
      "Stitching 3 and 4 at ('Cr', 'Ni') from [179, 178, 176, 173, 169, 164, 158, 151, 143] to [224, 223, 221, 218, 214, 209, 203, 196, 188]\n",
      "Stitching 0 and 6 at ('Fe', 'Ni') from [8, 7, 6, 5, 4, 3, 2, 1, 0] to [314, 313, 311, 308, 304, 299, 293, 286, 278]\n",
      "Stitching 0 and 7 at ('Fe', 'Ni') from [8, 7, 6, 5, 4, 3, 2, 1, 0] to [359, 358, 356, 353, 349, 344, 338, 331, 323]\n",
      "Stitching 6 and 7 at ('Fe', 'Ni') from [314, 313, 311, 308, 304, 299, 293, 286, 278] to [359, 358, 356, 353, 349, 344, 338, 331, 323]\n",
      "Stitching 1 and 3 at ('Cr', 'Ti') from [89, 87, 84, 80, 75, 69, 62, 54, 45] to [179, 177, 174, 170, 165, 159, 152, 144, 135]\n",
      "Stitching 1 and 5 at ('Cr', 'Ti') from [89, 87, 84, 80, 75, 69, 62, 54, 45] to [269, 268, 266, 263, 259, 254, 248, 241, 233]\n",
      "Stitching 3 and 5 at ('Cr', 'Ti') from [179, 177, 174, 170, 165, 159, 152, 144, 135] to [269, 268, 266, 263, 259, 254, 248, 241, 233]\n",
      "Stitching 1 and 6 at ('Fe', 'Ti') from [53, 52, 51, 50, 49, 48, 47, 46, 45] to [314, 312, 309, 305, 300, 294, 287, 279, 270]\n",
      "Stitching 1 and 8 at ('Fe', 'Ti') from [53, 52, 51, 50, 49, 48, 47, 46, 45] to [404, 403, 401, 398, 394, 389, 383, 376, 368]\n",
      "Stitching 6 and 8 at ('Fe', 'Ti') from [314, 312, 309, 305, 300, 294, 287, 279, 270] to [404, 403, 401, 398, 394, 389, 383, 376, 368]\n",
      "Stitching 2 and 4 at ('Cr', 'V') from [134, 132, 129, 125, 120, 114, 107, 99, 90] to [224, 222, 219, 215, 210, 204, 197, 189, 180]\n",
      "Stitching 2 and 5 at ('Cr', 'V') from [134, 132, 129, 125, 120, 114, 107, 99, 90] to [269, 267, 264, 260, 255, 249, 242, 234, 225]\n",
      "Stitching 4 and 5 at ('Cr', 'V') from [224, 222, 219, 215, 210, 204, 197, 189, 180] to [269, 267, 264, 260, 255, 249, 242, 234, 225]\n",
      "Stitching 2 and 7 at ('Fe', 'V') from [98, 97, 96, 95, 94, 93, 92, 91, 90] to [359, 357, 354, 350, 345, 339, 332, 324, 315]\n",
      "Stitching 2 and 8 at ('Fe', 'V') from [98, 97, 96, 95, 94, 93, 92, 91, 90] to [404, 402, 399, 395, 390, 384, 377, 369, 360]\n",
      "Stitching 7 and 8 at ('Fe', 'V') from [359, 357, 354, 350, 345, 339, 332, 324, 315] to [404, 402, 399, 395, 390, 384, 377, 369, 360]\n",
      "Stitching 3 and 6 at ('Ni', 'Ti') from [143, 142, 141, 140, 139, 138, 137, 136, 135] to [278, 277, 276, 275, 274, 273, 272, 271, 270]\n",
      "Stitching 3 and 9 at ('Ni', 'Ti') from [143, 142, 141, 140, 139, 138, 137, 136, 135] to [449, 448, 446, 443, 439, 434, 428, 421, 413]\n",
      "Stitching 6 and 9 at ('Ni', 'Ti') from [278, 277, 276, 275, 274, 273, 272, 271, 270] to [449, 448, 446, 443, 439, 434, 428, 421, 413]\n",
      "Stitching 4 and 7 at ('Ni', 'V') from [188, 187, 186, 185, 184, 183, 182, 181, 180] to [323, 322, 321, 320, 319, 318, 317, 316, 315]\n",
      "Stitching 4 and 9 at ('Ni', 'V') from [188, 187, 186, 185, 184, 183, 182, 181, 180] to [449, 447, 444, 440, 435, 429, 422, 414, 405]\n",
      "Stitching 7 and 9 at ('Ni', 'V') from [323, 322, 321, 320, 319, 318, 317, 316, 315] to [449, 447, 444, 440, 435, 429, 422, 414, 405]\n",
      "Stitching 5 and 8 at ('Ti', 'V') from [233, 232, 231, 230, 229, 228, 227, 226, 225] to [368, 367, 366, 365, 364, 363, 362, 361, 360]\n",
      "Stitching 5 and 9 at ('Ti', 'V') from [233, 232, 231, 230, 229, 228, 227, 226, 225] to [413, 412, 411, 410, 409, 408, 407, 406, 405]\n"
     ]
    },
    {
     "name": "stdout",
     "output_type": "stream",
     "text": [
      "Stitching 8 and 9 at ('Ti', 'V') from [368, 367, 366, 365, 364, 363, 362, 361, 360] to [413, 412, 411, 410, 409, 408, 407, 406, 405]\n"
     ]
    }
   ],
   "source": [
    "for stitchingBinary, ternaryPairList in stitchingBinaries.items():\n",
    "    for ternaryPair in ternaryPairList:\n",
    "        ternary1, ternary2 = ternaryPair[0], ternaryPair[1]\n",
    "        stitching1 = stitching.findStitchingPoints_py(\n",
    "            3, ndiv, \n",
    "            components=ternaries[ternary1],\n",
    "            offset=ternary1*len(gridAtt)\n",
    "            )[\"-\".join(stitchingBinary)]\n",
    "        stitching2 = stitching.findStitchingPoints_py(\n",
    "            3, ndiv, \n",
    "            components=ternaries[ternary2],\n",
    "            offset=ternary2*len(gridAtt)\n",
    "            )[\"-\".join(stitchingBinary)]\n",
    "        print(f\"Stitching {ternary1} and {ternary2} at {stitchingBinary} from {stitching1} to {stitching2}\")\n",
    "        for i, j in zip(stitching1, stitching2):\n",
    "            edges.append((i, j))\n",
    "            graphNS[i].append(j)"
   ]
  },
  {
   "cell_type": "code",
   "execution_count": 47,
   "id": "795c890c",
   "metadata": {
    "execution": {
     "iopub.execute_input": "2025-01-27T01:53:30.061651Z",
     "iopub.status.busy": "2025-01-27T01:53:30.061351Z",
     "iopub.status.idle": "2025-01-27T01:53:31.726977Z",
     "shell.execute_reply": "2025-01-27T01:53:31.726602Z"
    },
    "papermill": {
     "duration": 1.67719,
     "end_time": "2025-01-27T01:53:31.727666",
     "exception": false,
     "start_time": "2025-01-27T01:53:30.050476",
     "status": "completed"
    },
    "tags": []
   },
   "outputs": [
    {
     "name": "stdout",
     "output_type": "stream",
     "text": [
      "Unique phases for ammap/databases/Co-Cr-Fe-Ni-V_choi2019.TDB: ['LIQUID', 'B2_BCC', 'HCP_A3', 'HIGH_SIGMA', 'SIGMA', 'COV3', 'BCC_A2', 'L12_FCC', 'M3V', 'NI2V7', 'NI2V', 'FCC_A1']\n",
      "Unique phases for ammap/databases/Cr-Fe-Ti_wang2017.tdb: ['LIQUID', 'C36', 'HCP_A3', 'BCC_B2', 'C14', 'SIGMA', 'BCC_A2', 'C15', 'TI5CR7FE17', 'FCC_A1']\n",
      "Unique phases for ammap/databases/Cr-Fe-Ni_miettinen1999.tdb: ['LIQUID', 'HCP_A3', 'SIGMA', 'BCC_A2', 'FCC_A1']\n",
      "Unique phases for ammap/databases/Cr-Ni-Ti_huang2018.tdb: ['LIQUID', 'NITI2', 'LAVES_C15', 'HCP_A3', 'NI3TI', 'LAVES_C36', 'LAVES_C14', 'NITI', 'BCC_A2', 'FCC_A1']\n",
      "Unique phases for ammap/databases/Cr-Ti-V_ghosh2002.tdb: ['LIQUID', 'LAVES_C15', 'HCP_A3', 'LAVES_C36', 'LAVES_C14', 'BCC_A2']\n",
      "Unique phases for ammap/databases/Fe-Ni-Ti_dekeyzer2009.tdb: ['LIQUID', 'A1', 'A2', 'FCC4', 'NI3TI', 'NITI2', 'C14', 'A3', 'BCC2']\n",
      "Unique phases for ammap/databases/Fe-Ni-V_zhao2014.tdb: ['LIQUID', 'CBCC_A12', 'A2_BCC', 'FE4N', 'HCP_A3', 'A15_NI2V7', 'D022_NI3V', 'LAVES_C14', 'LAVES_C15', 'SIGMA', 'BCC_A2', 'CUB_A13', 'NI2V', 'FCC_A1']\n",
      "Unique phases for ammap/databases/Fe-Ti-V_guo2012.TDB: ['LIQUID', 'HCP_A3', 'B2', 'C14', 'SIGMA', 'BCC_A2', 'FCC_A1']\n",
      "Unique phases for ammap/databases/Ni-Ti-V_zou2018.tdb: ['LIQUID', 'CBCC_A12', 'LAVES_C15', 'NITI2', 'HCP_A3', 'NI3TI', 'NIV3', 'LAVES_C14', 'DIAMOND_A4', 'B2', 'NI3V', 'SIGMA', 'BCC_A2', 'CUB_A13', 'NI2V', 'BCT_A5', 'FCC_A1']\n"
     ]
    }
   ],
   "source": [
    "from pycalphad import Database\n",
    "\n",
    "# List of database file paths\n",
    "db_files = [\n",
    "    \"ammap/databases/Co-Cr-Fe-Ni-V_choi2019.TDB\",\n",
    "    \"ammap/databases/Cr-Fe-Ti_wang2017.tdb\",\n",
    "    \"ammap/databases/Cr-Fe-Ni_miettinen1999.tdb\",\n",
    "    \"ammap/databases/Cr-Ni-Ti_huang2018.tdb\",\n",
    "    \"ammap/databases/Cr-Ti-V_ghosh2002.tdb\",\n",
    "    \"ammap/databases/Fe-Ni-Ti_dekeyzer2009.tdb\",\n",
    "    \"ammap/databases/Fe-Ni-V_zhao2014.tdb\",\n",
    "    \"ammap/databases/Fe-Ti-V_guo2012.TDB\",\n",
    "    \"ammap/databases/Ni-Ti-V_zou2018.tdb\"\n",
    "]\n",
    "\n",
    "# Dictionary to store unique phases for each database\n",
    "unique_phases = {}\n",
    "\n",
    "# Iterate through each database file\n",
    "for db_file in db_files:\n",
    "    dbf = Database(db_file)\n",
    "    phases = list(set(dbf.phases.keys()))\n",
    "    unique_phases[db_file] = phases\n",
    "\n",
    "# Print unique phases for each database\n",
    "for db_file, phases in unique_phases.items():\n",
    "    print(f\"Unique phases for {db_file}: {phases}\")"
   ]
  },
  {
   "cell_type": "code",
   "execution_count": 48,
   "id": "52d9aac3",
   "metadata": {
    "execution": {
     "iopub.execute_input": "2025-01-27T01:53:31.750853Z",
     "iopub.status.busy": "2025-01-27T01:53:31.750580Z",
     "iopub.status.idle": "2025-01-27T01:53:31.753342Z",
     "shell.execute_reply": "2025-01-27T01:53:31.752861Z"
    },
    "papermill": {
     "duration": 0.014669,
     "end_time": "2025-01-27T01:53:31.754031",
     "exception": false,
     "start_time": "2025-01-27T01:53:31.739362",
     "status": "completed"
    },
    "tags": []
   },
   "outputs": [
    {
     "name": "stdout",
     "output_type": "stream",
     "text": [
      "['Cr', 'Fe', 'Ni', 'Ti', 'V']\n",
      "Loaded TDB file with phases considered: ['LIQUID', 'CBCC_A12', 'LAVES_C15', 'NITI2', 'HCP_A3', 'NI3TI', 'NIV3', 'LAVES_C14', 'DIAMOND_A4', 'B2', 'NI3V', 'SIGMA', 'BCC_A2', 'CUB_A13', 'NI2V', 'BCT_A5', 'FCC_A1']\n"
     ]
    }
   ],
   "source": [
    "\n",
    "#dbf = Database(\"CrHfMoNbTaTiVWZr_9element_Feb2023.tdb\")\n",
    "phases = list(set(dbf.phases.keys()))\n",
    "print(elementalSpaceComponents)\n",
    "print(f'Loaded TDB file with phases considered: {phases}')\n",
    "#from myPycalphadCallable import equilibrium_callable"
   ]
  },
  {
   "cell_type": "code",
   "execution_count": 49,
   "id": "95d39b97",
   "metadata": {
    "execution": {
     "iopub.execute_input": "2025-01-27T01:53:31.775986Z",
     "iopub.status.busy": "2025-01-27T01:53:31.775804Z",
     "iopub.status.idle": "2025-01-27T01:53:47.469597Z",
     "shell.execute_reply": "2025-01-27T01:53:47.469112Z"
    },
    "papermill": {
     "duration": 15.705616,
     "end_time": "2025-01-27T01:53:47.470401",
     "exception": false,
     "start_time": "2025-01-27T01:53:31.764785",
     "status": "completed"
    },
    "tags": []
   },
   "outputs": [
    {
     "name": "stderr",
     "output_type": "stream",
     "text": [
      "/ocean/projects/dmr190011p/arichte1/micromamba/envs/v2ammap/lib/python3.11/site-packages/pycalphad/model.py:1278: UserWarning: The order-disorder model for \"FCC4\" has a contribution from the physical property model `magnetic_energy`. Partitioned physical properties are not correctly substituted into the disordered part of the energy. THE GIBBS ENERGY CALCULATED FOR THIS PHASE MAY BE INCORRECT. Please see the discussion in https://github.com/pycalphad/pycalphad/pull/311 for more details.\n",
      "  warnings.warn(\n"
     ]
    },
    {
     "name": "stdout",
     "output_type": "stream",
     "text": [
      "Imported equilibrium_callable_CrFeTi_08bbfb9a: <function equilibrium_callable at 0x1529f92c9300>\n",
      "Imported equilibrium_callable_CrFeV_ab1edb07: <function equilibrium_callable at 0x1529f11e7ba0>\n",
      "Imported equilibrium_callable_CrNiTi_a9f6f2ff: <function equilibrium_callable at 0x1529f0c07e20>\n",
      "Imported equilibrium_callable_NiTiV_1d83c99c: <function equilibrium_callable at 0x1529f0c6fba0>\n",
      "Imported equilibrium_callable_NiCrV_b7aba9ab: <function equilibrium_callable at 0x1529f95ed4e0>\n",
      "Imported equilibrium_callable_NiCrFe_f434a6d9: <function equilibrium_callable at 0x1529f01e9800>\n",
      "Imported equilibrium_callable_FeTiV_fa95b3ee: <function equilibrium_callable at 0x1529f001c680>\n",
      "Imported equilibrium_callable_FeNiV_b9b0384d: <function equilibrium_callable at 0x1529f0193d80>\n",
      "Imported equilibrium_callable_CrTiV_ed4c332b: <function equilibrium_callable at 0x1529efa1bba0>\n",
      "Imported equilibrium_callable_FeNiTi_06a49695: <function equilibrium_callable at 0x1529ef77a8e0>\n"
     ]
    }
   ],
   "source": [
    "import os\n",
    "import importlib\n",
    "\n",
    "# Directory containing the equilibrium files\n",
    "directory = \"ammap/callables/multi_system_equilibrium_and_scheil\"\n",
    "\n",
    "# Get all files starting with \"equilibrium\"\n",
    "equilibrium_files = [f for f in os.listdir(directory) if f.startswith(\"equilibrium\") and f.endswith(\".py\")]\n",
    "\n",
    "# Dictionary to store imported callables with unique names\n",
    "equilibrium_callables = {}\n",
    "\n",
    "# Import each equilibrium file and store the callable with a unique name\n",
    "for file in equilibrium_files:\n",
    "    module_name = file[:-3]  # Remove the .py extension\n",
    "    module_path = f\"ammap.callables.multi_system_equilibrium_and_scheil.{module_name}\"\n",
    "    module = importlib.import_module(module_path)\n",
    "    callable_name = f\"{module_name}\"\n",
    "    equilibrium_callables[callable_name] = getattr(module, \"equilibrium_callable\")\n",
    "\n",
    "# Print the imported callables\n",
    "for name, func in equilibrium_callables.items():\n",
    "    print(f\"Imported {name}: {func}\")"
   ]
  },
  {
   "cell_type": "code",
   "execution_count": 50,
   "id": "2b785b62",
   "metadata": {
    "execution": {
     "iopub.execute_input": "2025-01-27T01:53:47.493965Z",
     "iopub.status.busy": "2025-01-27T01:53:47.493707Z",
     "iopub.status.idle": "2025-01-27T01:53:59.177411Z",
     "shell.execute_reply": "2025-01-27T01:53:59.176926Z"
    },
    "papermill": {
     "duration": 11.695779,
     "end_time": "2025-01-27T01:53:59.178086",
     "exception": false,
     "start_time": "2025-01-27T01:53:47.482307",
     "status": "completed"
    },
    "tags": []
   },
   "outputs": [
    {
     "name": "stderr",
     "output_type": "stream",
     "text": [
      "/ocean/projects/dmr190011p/arichte1/micromamba/envs/v2ammap/lib/python3.11/site-packages/pycalphad/model.py:1278: UserWarning: The order-disorder model for \"FCC4\" has a contribution from the physical property model `magnetic_energy`. Partitioned physical properties are not correctly substituted into the disordered part of the energy. THE GIBBS ENERGY CALCULATED FOR THIS PHASE MAY BE INCORRECT. Please see the discussion in https://github.com/pycalphad/pycalphad/pull/311 for more details.\n",
      "  warnings.warn(\n"
     ]
    },
    {
     "name": "stderr",
     "output_type": "stream",
     "text": [
      "/ocean/projects/dmr190011p/arichte1/micromamba/envs/v2ammap/lib/python3.11/site-packages/pycalphad/io/tdb.py:293: UserWarning: The type definition character `&` in `TYPE_DEFINITION & GES A_P_D A2_BCC MAGNETIC -1.0 4.00000E-01 ` is not used by any phase.\n",
      "  warnings.warn(f\"The type definition character `{typechar}` in `TYPE_DEFINITION {typechar} {line}` is not used by any phase.\")\n"
     ]
    },
    {
     "name": "stdout",
     "output_type": "stream",
     "text": [
      "Imported scheil_callable_FeNiTi_06a49695: <function scheil_callable at 0x1529ef77ade0>\n",
      "Imported scheil_callable_NiCrFe_f434a6d9: <function scheil_callable at 0x1529ef849620>\n",
      "Imported scheil_callable_CrNiTi_a9f6f2ff: <function scheil_callable at 0x1529ed7aa160>\n",
      "Imported scheil_callable_FeNiV_b9b0384d: <function scheil_callable at 0x1529eda82700>\n",
      "Imported scheil_callable_CrFeV_ab1edb07: <function scheil_callable at 0x1529eda83920>\n",
      "Imported scheil_callable_NiCrV_b7aba9ab: <function scheil_callable at 0x1529ed206980>\n",
      "Imported scheil_callable_FeTiV_fa95b3ee: <function scheil_callable at 0x1529ecadf100>\n",
      "Imported scheil_callable_CrTiV_ed4c332b: <function scheil_callable at 0x1529ecadcd60>\n",
      "Imported scheil_callable_NiTiV_1d83c99c: <function scheil_callable at 0x1529ecd422a0>\n",
      "Imported scheil_callable_CrFeTi_08bbfb9a: <function scheil_callable at 0x1529ec53e5c0>\n"
     ]
    }
   ],
   "source": [
    "# Get all files starting with \"scheil\"\n",
    "scheil_files = [f for f in os.listdir(directory) if f.startswith(\"scheil\") and f.endswith(\".py\")]\n",
    "scheil_callables = {}\n",
    "\n",
    "for file in scheil_files:\n",
    "    module_name = file[:-3]\n",
    "    module_path = f\"ammap.callables.multi_system_equilibrium_and_scheil.{module_name}\"\n",
    "    module = importlib.import_module(module_path)\n",
    "    callable_name = f\"{module_name}\"\n",
    "    scheil_callables[callable_name] = getattr(module, \"scheil_callable\")\n",
    "\n",
    "for name, func in scheil_callables.items():\n",
    "    print(f\"Imported {name}: {func}\")\n"
   ]
  },
  {
   "cell_type": "code",
   "execution_count": 51,
   "id": "33a99561",
   "metadata": {
    "execution": {
     "iopub.execute_input": "2025-01-27T01:53:59.202062Z",
     "iopub.status.busy": "2025-01-27T01:53:59.201743Z",
     "iopub.status.idle": "2025-01-27T01:53:59.204671Z",
     "shell.execute_reply": "2025-01-27T01:53:59.204280Z"
    },
    "papermill": {
     "duration": 0.015299,
     "end_time": "2025-01-27T01:53:59.205415",
     "exception": false,
     "start_time": "2025-01-27T01:53:59.190116",
     "status": "completed"
    },
    "tags": []
   },
   "outputs": [],
   "source": [
    "def process_filename(filename):\n",
    "    parts = filename.split('_')\n",
    "    if len(parts) >= 4:\n",
    "        middle_part = parts[2]\n",
    "        if middle_part in element_mapping:\n",
    "            return middle_part, element_mapping[middle_part]\n",
    "    return None, None"
   ]
  },
  {
   "cell_type": "code",
   "execution_count": 52,
   "id": "749932eb",
   "metadata": {
    "execution": {
     "iopub.execute_input": "2025-01-27T01:53:59.228415Z",
     "iopub.status.busy": "2025-01-27T01:53:59.228154Z",
     "iopub.status.idle": "2025-01-27T01:53:59.230424Z",
     "shell.execute_reply": "2025-01-27T01:53:59.230051Z"
    },
    "papermill": {
     "duration": 0.014416,
     "end_time": "2025-01-27T01:53:59.231073",
     "exception": false,
     "start_time": "2025-01-27T01:53:59.216657",
     "status": "completed"
    },
    "tags": []
   },
   "outputs": [],
   "source": [
    "element_mapping=mapping"
   ]
  },
  {
   "cell_type": "code",
   "execution_count": 53,
   "id": "3e0756ad",
   "metadata": {
    "execution": {
     "iopub.execute_input": "2025-01-27T01:53:59.253882Z",
     "iopub.status.busy": "2025-01-27T01:53:59.253624Z",
     "iopub.status.idle": "2025-01-27T01:53:59.357647Z",
     "shell.execute_reply": "2025-01-27T01:53:59.357254Z"
    },
    "papermill": {
     "duration": 0.116199,
     "end_time": "2025-01-27T01:53:59.358359",
     "exception": false,
     "start_time": "2025-01-27T01:53:59.242160",
     "status": "completed"
    },
    "tags": []
   },
   "outputs": [
    {
     "name": "stdout",
     "output_type": "stream",
     "text": [
      "Key: equilibrium_callable_CrFeTi_08bbfb9a\n",
      "The mapping number for CrFeTi is 1\n",
      "Elements: ['Cr', 'Fe', 'Ti']\n",
      "---\n",
      "Key: equilibrium_callable_CrFeV_ab1edb07\n",
      "The mapping number for CrFeV is 2\n",
      "Elements: ['Cr', 'Fe', 'V']\n",
      "---\n",
      "Key: equilibrium_callable_CrNiTi_a9f6f2ff\n",
      "The mapping number for CrNiTi is 3\n",
      "Elements: ['Cr', 'Ni', 'Ti']\n",
      "---\n",
      "Key: equilibrium_callable_NiTiV_1d83c99c\n",
      "The mapping number for NiTiV is 9\n",
      "Elements: ['Ni', 'Ti', 'V']\n",
      "---\n",
      "Key: equilibrium_callable_NiCrV_b7aba9ab\n",
      "The mapping number for NiCrV is 4\n",
      "Elements: ['Cr', 'Ni', 'V']\n",
      "---\n",
      "Key: equilibrium_callable_NiCrFe_f434a6d9\n",
      "The mapping number for NiCrFe is 0\n",
      "Elements: ['Cr', 'Fe', 'Ni']\n",
      "---\n",
      "Key: equilibrium_callable_FeTiV_fa95b3ee\n",
      "The mapping number for FeTiV is 8\n",
      "Elements: ['Fe', 'Ti', 'V']\n",
      "---\n",
      "Key: equilibrium_callable_FeNiV_b9b0384d\n",
      "The mapping number for FeNiV is 7\n",
      "Elements: ['Fe', 'Ni', 'V']\n",
      "---\n",
      "Key: equilibrium_callable_CrTiV_ed4c332b\n",
      "The mapping number for CrTiV is 5\n",
      "Elements: ['Cr', 'Ti', 'V']\n",
      "---\n",
      "Key: equilibrium_callable_FeNiTi_06a49695\n",
      "The mapping number for FeNiTi is 6\n",
      "Elements: ['Fe', 'Ni', 'Ti']\n",
      "---\n",
      "Key: scheil_callable_FeNiTi_06a49695\n",
      "The mapping number for FeNiTi is 6\n",
      "Elements: ['Fe', 'Ni', 'Ti']\n",
      "---\n",
      "Key: scheil_callable_NiCrFe_f434a6d9\n",
      "The mapping number for NiCrFe is 0\n",
      "Elements: ['Cr', 'Fe', 'Ni']\n",
      "---\n",
      "Key: scheil_callable_CrNiTi_a9f6f2ff\n",
      "The mapping number for CrNiTi is 3\n",
      "Elements: ['Cr', 'Ni', 'Ti']\n",
      "---\n",
      "Key: scheil_callable_FeNiV_b9b0384d\n",
      "The mapping number for FeNiV is 7\n",
      "Elements: ['Fe', 'Ni', 'V']\n",
      "---\n",
      "Key: scheil_callable_CrFeV_ab1edb07\n",
      "The mapping number for CrFeV is 2\n",
      "Elements: ['Cr', 'Fe', 'V']\n",
      "---\n",
      "Key: scheil_callable_NiCrV_b7aba9ab\n",
      "The mapping number for NiCrV is 4\n",
      "Elements: ['Cr', 'Ni', 'V']\n",
      "---\n",
      "Key: scheil_callable_FeTiV_fa95b3ee\n",
      "The mapping number for FeTiV is 8\n",
      "Elements: ['Fe', 'Ti', 'V']\n",
      "---\n",
      "Key: scheil_callable_CrTiV_ed4c332b\n",
      "The mapping number for CrTiV is 5\n",
      "Elements: ['Cr', 'Ti', 'V']\n",
      "---\n",
      "Key: scheil_callable_NiTiV_1d83c99c\n",
      "The mapping number for NiTiV is 9\n",
      "Elements: ['Ni', 'Ti', 'V']\n",
      "---\n",
      "Key: scheil_callable_CrFeTi_08bbfb9a\n",
      "The mapping number for CrFeTi is 1\n",
      "Elements: ['Cr', 'Fe', 'Ti']\n",
      "---\n"
     ]
    }
   ],
   "source": [
    "def process_key(key):\n",
    "    parts = key.split('_')\n",
    "    if len(parts) >= 3:\n",
    "        middle_part = parts[2]\n",
    "        if middle_part in mapping:\n",
    "            return middle_part, mapping[middle_part]['id'], mapping[middle_part]['elements']\n",
    "        \n",
    "        # If direct matching fails, try matching by elements\n",
    "        middle_elements = set(middle_part[i:i+2] for i in range(0, len(middle_part), 2))\n",
    "        for map_key, value in mapping.items():\n",
    "            if set(value['elements']) == middle_elements:\n",
    "                return middle_part, value['id'], value['elements']\n",
    "    \n",
    "    return None, None, None\n",
    "\n",
    "# Process each key in the equilibrium_callables dictionary\n",
    "id_to_callable = {}\n",
    "for key in equilibrium_callables:\n",
    "    middle_part, mapping_id, elements = process_key(key)\n",
    "    if middle_part and mapping_id is not None:\n",
    "        print(f\"Key: {key}\")\n",
    "        print(f\"The mapping number for {middle_part} is {mapping_id}\")\n",
    "        print(f\"Elements: {elements}\")\n",
    "        print(\"---\")\n",
    "        id_to_callable[mapping_id] = key\n",
    "    else:\n",
    "        print(f\"No mapping found for key: {key}\")\n",
    "        print(\"---\")\n",
    "\n",
    "sc_id_to_callable = {}\n",
    "for key in scheil_callables:\n",
    "    middle_part, mapping_id, elements = process_key(key)\n",
    "    if middle_part and mapping_id is not None:\n",
    "        print(f\"Key: {key}\")\n",
    "        print(f\"The mapping number for {middle_part} is {mapping_id}\")\n",
    "        print(f\"Elements: {elements}\")\n",
    "        print(\"---\")\n",
    "        sc_id_to_callable[mapping_id] = key\n",
    "    else:\n",
    "        print(f\"No mapping found for key: {key}\")\n",
    "        print(\"---\")"
   ]
  },
  {
   "cell_type": "code",
   "execution_count": 54,
   "id": "d2c2b05c",
   "metadata": {
    "execution": {
     "iopub.execute_input": "2025-01-27T01:53:59.381733Z",
     "iopub.status.busy": "2025-01-27T01:53:59.381388Z",
     "iopub.status.idle": "2025-01-27T01:53:59.383983Z",
     "shell.execute_reply": "2025-01-27T01:53:59.383522Z"
    },
    "papermill": {
     "duration": 0.014732,
     "end_time": "2025-01-27T01:53:59.384726",
     "exception": false,
     "start_time": "2025-01-27T01:53:59.369994",
     "status": "completed"
    },
    "tags": []
   },
   "outputs": [
    {
     "name": "stdout",
     "output_type": "stream",
     "text": [
      "{1: 'equilibrium_callable_CrFeTi_08bbfb9a', 2: 'equilibrium_callable_CrFeV_ab1edb07', 3: 'equilibrium_callable_CrNiTi_a9f6f2ff', 9: 'equilibrium_callable_NiTiV_1d83c99c', 4: 'equilibrium_callable_NiCrV_b7aba9ab', 0: 'equilibrium_callable_NiCrFe_f434a6d9', 8: 'equilibrium_callable_FeTiV_fa95b3ee', 7: 'equilibrium_callable_FeNiV_b9b0384d', 5: 'equilibrium_callable_CrTiV_ed4c332b', 6: 'equilibrium_callable_FeNiTi_06a49695'}\n",
      "{6: 'scheil_callable_FeNiTi_06a49695', 0: 'scheil_callable_NiCrFe_f434a6d9', 3: 'scheil_callable_CrNiTi_a9f6f2ff', 7: 'scheil_callable_FeNiV_b9b0384d', 2: 'scheil_callable_CrFeV_ab1edb07', 4: 'scheil_callable_NiCrV_b7aba9ab', 8: 'scheil_callable_FeTiV_fa95b3ee', 5: 'scheil_callable_CrTiV_ed4c332b', 9: 'scheil_callable_NiTiV_1d83c99c', 1: 'scheil_callable_CrFeTi_08bbfb9a'}\n"
     ]
    }
   ],
   "source": [
    "print(id_to_callable)\n",
    "print(sc_id_to_callable)"
   ]
  },
  {
   "cell_type": "code",
   "execution_count": 55,
   "id": "60d28168",
   "metadata": {
    "execution": {
     "iopub.execute_input": "2025-01-27T01:53:59.408024Z",
     "iopub.status.busy": "2025-01-27T01:53:59.407799Z",
     "iopub.status.idle": "2025-01-27T01:53:59.411292Z",
     "shell.execute_reply": "2025-01-27T01:53:59.410874Z"
    },
    "papermill": {
     "duration": 0.015708,
     "end_time": "2025-01-27T01:53:59.411909",
     "exception": false,
     "start_time": "2025-01-27T01:53:59.396201",
     "status": "completed"
    },
    "tags": []
   },
   "outputs": [
    {
     "data": {
      "text/plain": [
       "[([0.0, 0.0, 1.0, 0.0, 0.0], 0),\n",
       " ([0.0, 0.125, 0.875, 0.0, 0.0], 0),\n",
       " ([0.0, 0.25, 0.75, 0.0, 0.0], 0),\n",
       " ([0.0, 0.375, 0.625, 0.0, 0.0], 0),\n",
       " ([0.0, 0.5, 0.5, 0.0, 0.0], 0)]"
      ]
     },
     "execution_count": 55,
     "metadata": {},
     "output_type": "execute_result"
    }
   ],
   "source": [
    "compositions_with_id[:5]"
   ]
  },
  {
   "cell_type": "code",
   "execution_count": 56,
   "id": "45de03f7",
   "metadata": {
    "execution": {
     "iopub.execute_input": "2025-01-27T01:53:59.435087Z",
     "iopub.status.busy": "2025-01-27T01:53:59.434826Z",
     "iopub.status.idle": "2025-01-27T01:53:59.438371Z",
     "shell.execute_reply": "2025-01-27T01:53:59.438011Z"
    },
    "papermill": {
     "duration": 0.015671,
     "end_time": "2025-01-27T01:53:59.438967",
     "exception": false,
     "start_time": "2025-01-27T01:53:59.423296",
     "status": "completed"
    },
    "tags": []
   },
   "outputs": [
    {
     "data": {
      "text/plain": [
       "{'CrFeNi': {'id': 0, 'elements': ['Cr', 'Fe', 'Ni']},\n",
       " 'CrFeTi': {'id': 1, 'elements': ['Cr', 'Fe', 'Ti']},\n",
       " 'CrFeV': {'id': 2, 'elements': ['Cr', 'Fe', 'V']},\n",
       " 'CrNiTi': {'id': 3, 'elements': ['Cr', 'Ni', 'Ti']},\n",
       " 'CrNiV': {'id': 4, 'elements': ['Cr', 'Ni', 'V']},\n",
       " 'CrTiV': {'id': 5, 'elements': ['Cr', 'Ti', 'V']},\n",
       " 'FeNiTi': {'id': 6, 'elements': ['Fe', 'Ni', 'Ti']},\n",
       " 'FeNiV': {'id': 7, 'elements': ['Fe', 'Ni', 'V']},\n",
       " 'FeTiV': {'id': 8, 'elements': ['Fe', 'Ti', 'V']},\n",
       " 'NiTiV': {'id': 9, 'elements': ['Ni', 'Ti', 'V']}}"
      ]
     },
     "execution_count": 56,
     "metadata": {},
     "output_type": "execute_result"
    }
   ],
   "source": [
    "mapping"
   ]
  },
  {
   "cell_type": "code",
   "execution_count": 57,
   "id": "3f727f0e",
   "metadata": {
    "execution": {
     "iopub.execute_input": "2025-01-27T01:53:59.462522Z",
     "iopub.status.busy": "2025-01-27T01:53:59.462181Z",
     "iopub.status.idle": "2025-01-27T01:53:59.465734Z",
     "shell.execute_reply": "2025-01-27T01:53:59.465395Z"
    },
    "papermill": {
     "duration": 0.015825,
     "end_time": "2025-01-27T01:53:59.466384",
     "exception": false,
     "start_time": "2025-01-27T01:53:59.450559",
     "status": "completed"
    },
    "tags": []
   },
   "outputs": [],
   "source": [
    "def reduce_compositions(compositions_with_id, mapping):\n",
    "    element_order = elementalSpaceComponents\n",
    "    system_comps_with_id = []\n",
    "    reduced_compositions = []\n",
    "    \n",
    "    for composition, comp_id in compositions_with_id:\n",
    "        relevant_entry = next((entry for entry in mapping.values() if entry['id'] == comp_id), None)\n",
    "        if not relevant_entry:\n",
    "            continue\n",
    "        \n",
    "        relevant_indices = [element_order.index(elem) for elem in relevant_entry['elements']]\n",
    "        reduced_point = [composition[index] for index in relevant_indices]\n",
    "        system_comps_with_id.append((reduced_point, comp_id))\n",
    "        reduced_compositions.append(reduced_point)\n",
    "    \n",
    "    return system_comps_with_id, reduced_compositions"
   ]
  },
  {
   "cell_type": "code",
   "execution_count": 58,
   "id": "71a2373d",
   "metadata": {
    "execution": {
     "iopub.execute_input": "2025-01-27T01:53:59.490026Z",
     "iopub.status.busy": "2025-01-27T01:53:59.489769Z",
     "iopub.status.idle": "2025-01-27T01:53:59.492959Z",
     "shell.execute_reply": "2025-01-27T01:53:59.492600Z"
    },
    "papermill": {
     "duration": 0.015674,
     "end_time": "2025-01-27T01:53:59.493628",
     "exception": false,
     "start_time": "2025-01-27T01:53:59.477954",
     "status": "completed"
    },
    "tags": []
   },
   "outputs": [],
   "source": [
    "system_comps_with_id, reduced_compositions = reduce_compositions(compositions_with_id, mapping)"
   ]
  },
  {
   "cell_type": "code",
   "execution_count": 59,
   "id": "179b25ae",
   "metadata": {
    "execution": {
     "iopub.execute_input": "2025-01-27T01:53:59.517017Z",
     "iopub.status.busy": "2025-01-27T01:53:59.516757Z",
     "iopub.status.idle": "2025-01-27T01:53:59.579710Z",
     "shell.execute_reply": "2025-01-27T01:53:59.579319Z"
    },
    "papermill": {
     "duration": 0.075385,
     "end_time": "2025-01-27T01:53:59.580546",
     "exception": false,
     "start_time": "2025-01-27T01:53:59.505161",
     "status": "completed"
    },
    "tags": []
   },
   "outputs": [],
   "source": [
    "from tqdm.contrib.concurrent import process_map"
   ]
  },
  {
   "cell_type": "code",
   "execution_count": null,
   "id": "1473450a",
   "metadata": {
    "papermill": {
     "duration": 0.011368,
     "end_time": "2025-01-27T01:53:59.603959",
     "exception": false,
     "start_time": "2025-01-27T01:53:59.592591",
     "status": "completed"
    },
    "tags": []
   },
   "outputs": [],
   "source": []
  },
  {
   "cell_type": "code",
   "execution_count": 60,
   "id": "23606b08",
   "metadata": {
    "execution": {
     "iopub.execute_input": "2025-01-27T01:53:59.627229Z",
     "iopub.status.busy": "2025-01-27T01:53:59.627024Z",
     "iopub.status.idle": "2025-01-27T01:53:59.630660Z",
     "shell.execute_reply": "2025-01-27T01:53:59.630306Z"
    },
    "papermill": {
     "duration": 0.015756,
     "end_time": "2025-01-27T01:53:59.631259",
     "exception": false,
     "start_time": "2025-01-27T01:53:59.615503",
     "status": "completed"
    },
    "tags": []
   },
   "outputs": [
    {
     "name": "stdout",
     "output_type": "stream",
     "text": [
      "Starting nodes: [0, 90, 200, 310, 26, 137, 44, 393, 208, 136, 55, 429, 447, 19, 194]\n",
      "Starting node: [0.0, 0.0, 1.0]\n",
      "Starting node: [0.0, 0.0, 1.0]\n",
      "Starting node: [0.25, 0.375, 0.375]\n",
      "Starting node: [0.75, 0.125, 0.125]\n",
      "Starting node: [0.375, 0.25, 0.375]\n",
      "Starting node: [0.0, 0.25, 0.75]\n",
      "Starting node: [1.0, 0.0, 0.0]\n",
      "Starting node: [0.5, 0.375, 0.125]\n",
      "Starting node: [0.375, 0.5, 0.125]\n",
      "Starting node: [0.0, 0.125, 0.875]\n",
      "Starting node: [0.125, 0.125, 0.75]\n",
      "Starting node: [0.375, 0.0, 0.625]\n",
      "Starting node: [0.875, 0.0, 0.125]\n",
      "Starting node: [0.25, 0.25, 0.5]\n",
      "Starting node: [0.125, 0.625, 0.25]\n"
     ]
    }
   ],
   "source": [
    "startingNodes = [0, 90, 200, 310] + random.sample(range(len(reduced_compositions)), 11)\n",
    "print(f\"Starting nodes: {startingNodes}\")\n",
    "\n",
    "for startingNode in startingNodes:\n",
    "    print(f\"Starting node: {reduced_compositions[startingNode]}\")"
   ]
  },
  {
   "cell_type": "code",
   "execution_count": 61,
   "id": "6072380b",
   "metadata": {
    "execution": {
     "iopub.execute_input": "2025-01-27T01:53:59.655023Z",
     "iopub.status.busy": "2025-01-27T01:53:59.654762Z",
     "iopub.status.idle": "2025-01-27T01:53:59.657186Z",
     "shell.execute_reply": "2025-01-27T01:53:59.656786Z"
    },
    "papermill": {
     "duration": 0.014919,
     "end_time": "2025-01-27T01:53:59.657826",
     "exception": false,
     "start_time": "2025-01-27T01:53:59.642907",
     "status": "completed"
    },
    "tags": []
   },
   "outputs": [],
   "source": [
    "gridFeasible = [None]*len(reduced_compositions)\n",
    "queue = startingNodes.copy()\n",
    "explored = set()\n",
    "calcCount = 0"
   ]
  },
  {
   "cell_type": "code",
   "execution_count": 62,
   "id": "7e0fc6bc",
   "metadata": {
    "execution": {
     "iopub.execute_input": "2025-01-27T01:53:59.681614Z",
     "iopub.status.busy": "2025-01-27T01:53:59.681350Z",
     "iopub.status.idle": "2025-01-27T01:53:59.685198Z",
     "shell.execute_reply": "2025-01-27T01:53:59.684716Z"
    },
    "papermill": {
     "duration": 0.016365,
     "end_time": "2025-01-27T01:53:59.685839",
     "exception": false,
     "start_time": "2025-01-27T01:53:59.669474",
     "status": "completed"
    },
    "tags": []
   },
   "outputs": [],
   "source": [
    "# Function to get the correct callable for a given composition\n",
    "def get_callable(composition):\n",
    "    for comp, id in compositions_with_id:\n",
    "        if comp == composition:\n",
    "            callable_name = id_to_callable.get(id)\n",
    "            if callable_name is None:\n",
    "                raise ValueError(f\"No callable name found for ID {id}\")\n",
    "            if callable_name in globals():\n",
    "                return globals()[callable_name]\n",
    "            else:\n",
    "                raise NameError(f\"Function '{callable_name}' not found in global scope\")\n",
    "    raise ValueError(f\"No callable found for composition {composition}\")\n",
    "\n",
    "def process_composition(elP):\n",
    "    try:\n",
    "        callable_func = get_callable(elP)\n",
    "        return callable_func(elP)\n",
    "    except Exception as e:\n",
    "        print(f\"Error processing composition {elP}: {str(e)}\")\n",
    "        return None\n"
   ]
  },
  {
   "cell_type": "code",
   "execution_count": 63,
   "id": "da55d997",
   "metadata": {
    "execution": {
     "iopub.execute_input": "2025-01-27T01:53:59.709710Z",
     "iopub.status.busy": "2025-01-27T01:53:59.709447Z",
     "iopub.status.idle": "2025-01-27T01:53:59.713144Z",
     "shell.execute_reply": "2025-01-27T01:53:59.712732Z"
    },
    "papermill": {
     "duration": 0.016229,
     "end_time": "2025-01-27T01:53:59.713764",
     "exception": false,
     "start_time": "2025-01-27T01:53:59.697535",
     "status": "completed"
    },
    "tags": []
   },
   "outputs": [],
   "source": [
    "# Function to get the correct callable for a given composition\n",
    "def get_sc_callable(composition):\n",
    "    for comp, id in compositions_with_id:\n",
    "        if comp == composition:\n",
    "            callable_name = sc_id_to_callable.get(id)\n",
    "            if callable_name is None:\n",
    "                raise ValueError(f\"No callable name found for ID {id}\")\n",
    "            if callable_name in globals():\n",
    "                return globals()[callable_name]\n",
    "            else:\n",
    "                raise NameError(f\"Function '{callable_name}' not found in global scope\")\n",
    "    raise ValueError(f\"No callable found for composition {composition}\")\n",
    "\n",
    "def process_sc_composition(elP):\n",
    "    try:\n",
    "        callable_func = get_sc_callable(elP)\n",
    "        return callable_func(elP)\n",
    "    except Exception as e:\n",
    "        print(f\"Error processing composition {elP}: {str(e)}\")\n",
    "        return None"
   ]
  },
  {
   "cell_type": "code",
   "execution_count": 64,
   "id": "b7ae5c0e",
   "metadata": {
    "execution": {
     "iopub.execute_input": "2025-01-27T01:53:59.737436Z",
     "iopub.status.busy": "2025-01-27T01:53:59.737180Z",
     "iopub.status.idle": "2025-01-27T01:53:59.739624Z",
     "shell.execute_reply": "2025-01-27T01:53:59.739102Z"
    },
    "papermill": {
     "duration": 0.014906,
     "end_time": "2025-01-27T01:53:59.740230",
     "exception": false,
     "start_time": "2025-01-27T01:53:59.725324",
     "status": "completed"
    },
    "tags": []
   },
   "outputs": [
    {
     "name": "stdout",
     "output_type": "stream",
     "text": [
      "{'equilibrium_callable_CrFeTi_08bbfb9a': <function equilibrium_callable at 0x1529f92c9300>, 'equilibrium_callable_CrFeV_ab1edb07': <function equilibrium_callable at 0x1529f11e7ba0>, 'equilibrium_callable_CrNiTi_a9f6f2ff': <function equilibrium_callable at 0x1529f0c07e20>, 'equilibrium_callable_NiTiV_1d83c99c': <function equilibrium_callable at 0x1529f0c6fba0>, 'equilibrium_callable_NiCrV_b7aba9ab': <function equilibrium_callable at 0x1529f95ed4e0>, 'equilibrium_callable_NiCrFe_f434a6d9': <function equilibrium_callable at 0x1529f01e9800>, 'equilibrium_callable_FeTiV_fa95b3ee': <function equilibrium_callable at 0x1529f001c680>, 'equilibrium_callable_FeNiV_b9b0384d': <function equilibrium_callable at 0x1529f0193d80>, 'equilibrium_callable_CrTiV_ed4c332b': <function equilibrium_callable at 0x1529efa1bba0>, 'equilibrium_callable_FeNiTi_06a49695': <function equilibrium_callable at 0x1529ef77a8e0>}\n",
      "{'scheil_callable_FeNiTi_06a49695': <function scheil_callable at 0x1529ef77ade0>, 'scheil_callable_NiCrFe_f434a6d9': <function scheil_callable at 0x1529ef849620>, 'scheil_callable_CrNiTi_a9f6f2ff': <function scheil_callable at 0x1529ed7aa160>, 'scheil_callable_FeNiV_b9b0384d': <function scheil_callable at 0x1529eda82700>, 'scheil_callable_CrFeV_ab1edb07': <function scheil_callable at 0x1529eda83920>, 'scheil_callable_NiCrV_b7aba9ab': <function scheil_callable at 0x1529ed206980>, 'scheil_callable_FeTiV_fa95b3ee': <function scheil_callable at 0x1529ecadf100>, 'scheil_callable_CrTiV_ed4c332b': <function scheil_callable at 0x1529ecadcd60>, 'scheil_callable_NiTiV_1d83c99c': <function scheil_callable at 0x1529ecd422a0>, 'scheil_callable_CrFeTi_08bbfb9a': <function scheil_callable at 0x1529ec53e5c0>}\n"
     ]
    }
   ],
   "source": [
    "print(equilibrium_callables)\n",
    "print(scheil_callables)"
   ]
  },
  {
   "cell_type": "code",
   "execution_count": 65,
   "id": "6ef7aa5a",
   "metadata": {
    "execution": {
     "iopub.execute_input": "2025-01-27T01:53:59.764211Z",
     "iopub.status.busy": "2025-01-27T01:53:59.763961Z",
     "iopub.status.idle": "2025-01-27T01:53:59.766523Z",
     "shell.execute_reply": "2025-01-27T01:53:59.766124Z"
    },
    "papermill": {
     "duration": 0.015055,
     "end_time": "2025-01-27T01:53:59.767114",
     "exception": false,
     "start_time": "2025-01-27T01:53:59.752059",
     "status": "completed"
    },
    "tags": []
   },
   "outputs": [
    {
     "name": "stdout",
     "output_type": "stream",
     "text": [
      "([0.0, 0.0, 1.0, 0.0, 0.0], 0)\n",
      "([0.0, 0.625, 0.0, 0.375, 0.0], 1)\n",
      "([0.125, 0.125, 0.0, 0.0, 0.75], 2)\n",
      "([0.125, 0.0, 0.75, 0.125, 0.0], 3)\n",
      "([0.25, 0.0, 0.375, 0.0, 0.375], 4)\n",
      "([0.375, 0.0, 0.0, 0.125, 0.5], 5)\n",
      "([0.0, 0.5, 0.0, 0.5, 0.0], 6)\n",
      "([0.0, 0.625, 0.0, 0.0, 0.375], 7)\n",
      "([0.0, 0.75, 0.0, 0.125, 0.125], 8)\n"
     ]
    }
   ],
   "source": [
    "sampled_compositions = compositions_with_id[::50]\n",
    "\n",
    "# Print the sampled compositions to verify\n",
    "for composition in sampled_compositions:\n",
    "    print(composition)"
   ]
  },
  {
   "cell_type": "code",
   "execution_count": 66,
   "id": "19357757",
   "metadata": {
    "execution": {
     "iopub.execute_input": "2025-01-27T01:53:59.791113Z",
     "iopub.status.busy": "2025-01-27T01:53:59.790811Z",
     "iopub.status.idle": "2025-01-27T01:54:00.232998Z",
     "shell.execute_reply": "2025-01-27T01:54:00.232574Z"
    },
    "papermill": {
     "duration": 0.454917,
     "end_time": "2025-01-27T01:54:00.233786",
     "exception": false,
     "start_time": "2025-01-27T01:53:59.778869",
     "status": "completed"
    },
    "tags": []
   },
   "outputs": [
    {
     "name": "stdout",
     "output_type": "stream",
     "text": [
      "{'Phases': ['LAVES_C15', 'NITI'], 'PhaseFraction': [0.2751953798946548, 0.7248046201239813]}\n"
     ]
    },
    {
     "data": {
      "text/plain": [
       "[0.25, 0.0, 0.375, 0.0, 0.375]"
      ]
     },
     "execution_count": 66,
     "metadata": {},
     "output_type": "execute_result"
    }
   ],
   "source": [
    "print(equilibrium_callables['equilibrium_callable_CrNiTi_a9f6f2ff'](compositions[200]))\n",
    "compositions[200]"
   ]
  },
  {
   "cell_type": "code",
   "execution_count": null,
   "id": "1ed9a1f6",
   "metadata": {
    "papermill": {
     "duration": 0.011815,
     "end_time": "2025-01-27T01:54:00.258442",
     "exception": false,
     "start_time": "2025-01-27T01:54:00.246627",
     "status": "completed"
    },
    "tags": []
   },
   "outputs": [],
   "source": []
  },
  {
   "cell_type": "code",
   "execution_count": 67,
   "id": "f7f8f4e7",
   "metadata": {
    "execution": {
     "iopub.execute_input": "2025-01-27T01:54:00.282987Z",
     "iopub.status.busy": "2025-01-27T01:54:00.282632Z",
     "iopub.status.idle": "2025-01-27T01:54:00.286253Z",
     "shell.execute_reply": "2025-01-27T01:54:00.285791Z"
    },
    "papermill": {
     "duration": 0.017178,
     "end_time": "2025-01-27T01:54:00.287494",
     "exception": false,
     "start_time": "2025-01-27T01:54:00.270316",
     "status": "completed"
    },
    "tags": []
   },
   "outputs": [],
   "source": [
    "from functools import partial\n",
    "\n",
    "def get_equilibrium_callable(composition, id_to_callable, equilibrium_callables):\n",
    "    composition_id = composition[1]  # Get the ID from the composition tuple\n",
    "    #print(f\"Composition ID: {composition_id}\")\n",
    "    callable_name = id_to_callable.get(composition_id)\n",
    "    if callable_name is None:\n",
    "        raise ValueError(f\"No callable found for composition ID {composition_id}\")\n",
    "    callable_func = equilibrium_callables.get(callable_name)\n",
    "    if callable_func is None:\n",
    "        raise ValueError(f\"No callable function found for name {callable_name}\")\n",
    "    return callable_func\n",
    "\n",
    "def apply_equilibrium_callable(callable_and_position):\n",
    "    callable_func, position = callable_and_position\n",
    "    return callable_func(position)"
   ]
  },
  {
   "cell_type": "code",
   "execution_count": 68,
   "id": "c0585fba",
   "metadata": {
    "execution": {
     "iopub.execute_input": "2025-01-27T01:54:00.312566Z",
     "iopub.status.busy": "2025-01-27T01:54:00.312439Z",
     "iopub.status.idle": "2025-01-27T01:54:00.315689Z",
     "shell.execute_reply": "2025-01-27T01:54:00.315253Z"
    },
    "papermill": {
     "duration": 0.016718,
     "end_time": "2025-01-27T01:54:00.316947",
     "exception": false,
     "start_time": "2025-01-27T01:54:00.300229",
     "status": "completed"
    },
    "tags": []
   },
   "outputs": [],
   "source": [
    "from functools import partial\n",
    "\n",
    "def get_scheil_callable(composition, sc_id_to_callable, scheil_callables):\n",
    "    composition_id = composition[1]  # Get the ID from the composition tuple\n",
    "    #print(f\"Composition ID: {composition_id}\")\n",
    "    callable_name = sc_id_to_callable.get(composition_id)\n",
    "    if callable_name is None:\n",
    "        raise ValueError(f\"No callable found for composition ID {composition_id}\")\n",
    "    callable_func = scheil_callables.get(callable_name)\n",
    "    if callable_func is None:\n",
    "        raise ValueError(f\"No callable function found for name {callable_name}\")\n",
    "    return callable_func\n",
    "\n",
    "def apply_scheil_callable(callable_and_position):\n",
    "    callable_func, position = callable_and_position\n",
    "    return callable_func(position)"
   ]
  },
  {
   "cell_type": "markdown",
   "id": "52829652",
   "metadata": {
    "papermill": {
     "duration": 0.011894,
     "end_time": "2025-01-27T01:54:00.341274",
     "exception": false,
     "start_time": "2025-01-27T01:54:00.329380",
     "status": "completed"
    },
    "tags": []
   },
   "source": [
    "#WORKING\n",
    "while len(queue) > 0:\n",
    "    print(f\"Queue: {queue}\")\n",
    "    # Calculate feasibilities of the current queue\n",
    "    elPositions = [reduced_compositions[i] for i in queue]\n",
    "    print(elPositions)\n",
    "    # Create a list of equilibrium callables for each composition\n",
    "    equilibrium_callables_list = [get_equilibrium_callable(system_comps_with_id[i], id_to_callable, equilibrium_callables) for i in queue]\n",
    "    \n",
    "    if len(queue) > 3:\n",
    "        results = process_map(apply_equilibrium_callable, zip(equilibrium_callables_list, elPositions), max_workers=4)\n",
    "    else:\n",
    "        results = [ec(elP) for ec, elP in zip(equilibrium_callables_list, elPositions)]\n",
    "    \n",
    "    # Extract only the 'Phases' component from the results\n",
    "    phases = [result['Phases'] for result in results]\n",
    "    \n",
    "    feasibilities = [len(set(p) & set(['FCC_A1', 'BCC_A2', 'HCP_A3', 'B2_BCC','A2_FCC'])) == 0 and p != [] for p in phases]\n",
    "\n",
    "    calcCount += len(feasibilities)\n",
    "    explored = explored.union(queue)\n",
    "\n",
    "    # Create next queue based on neighbors of feasible points\n",
    "    nextQueue = set()\n",
    "    nextQueuePlusEquivalent = set()\n",
    "    for f, i in zip(feasibilities, queue):\n",
    "        # Explored point\n",
    "        gridFeasible[i] = f\n",
    "\n",
    "        # And equivalent explored points based on system stitching\n",
    "        explored = explored.union(graphNS[i])\n",
    "        for eq in graphNS[i]:\n",
    "            gridFeasible[eq] = f\n",
    "\n",
    "        # Expand to neighbors of the point and equivalent points (only if the node has been feasible)\n",
    "        if f:\n",
    "            # Node neighbors in the same subsystem\n",
    "            for n in graphN[i]:\n",
    "                if n not in explored and n not in nextQueuePlusEquivalent:\n",
    "                    nextQueue.add(n)\n",
    "                    nextQueuePlusEquivalent = nextQueuePlusEquivalent.union([n] + graphNS[n])\n",
    "            # Equivalent nodes neighbors in other subsystems\n",
    "            for eq in graphNS[i]:\n",
    "                for n in graphN[eq]:\n",
    "                    if n not in explored and n not in nextQueuePlusEquivalent:\n",
    "                        nextQueue.add(n)\n",
    "                        nextQueuePlusEquivalent = nextQueuePlusEquivalent.union([n] + graphNS[n])\n",
    "\n",
    "    print(f\"Calculations done: {calcCount:<5} | Explored points: {len(explored):<5}\")\n",
    "    queue = list(nextQueue)"
   ]
  },
  {
   "cell_type": "code",
   "execution_count": 69,
   "id": "ab92aecf",
   "metadata": {
    "execution": {
     "iopub.execute_input": "2025-01-27T01:54:00.365793Z",
     "iopub.status.busy": "2025-01-27T01:54:00.365485Z",
     "iopub.status.idle": "2025-01-27T01:54:24.138358Z",
     "shell.execute_reply": "2025-01-27T01:54:24.137946Z"
    },
    "papermill": {
     "duration": 23.785775,
     "end_time": "2025-01-27T01:54:24.139057",
     "exception": false,
     "start_time": "2025-01-27T01:54:00.353282",
     "status": "completed"
    },
    "tags": []
   },
   "outputs": [
    {
     "name": "stdout",
     "output_type": "stream",
     "text": [
      "Queue: [0, 90, 200, 310, 26, 137, 44, 393, 208, 136, 55, 429, 447, 19, 194]\n",
      "[[0.0, 0.0, 1.0], [0.0, 0.0, 1.0], [0.25, 0.375, 0.375], [0.75, 0.125, 0.125], [0.375, 0.25, 0.375], [0.0, 0.25, 0.75], [1.0, 0.0, 0.0], [0.5, 0.375, 0.125], [0.375, 0.5, 0.125], [0.0, 0.125, 0.875], [0.125, 0.125, 0.75], [0.375, 0.0, 0.625], [0.875, 0.0, 0.125], [0.25, 0.25, 0.5], [0.125, 0.625, 0.25]]\n"
     ]
    },
    {
     "data": {
      "application/vnd.jupyter.widget-view+json": {
       "model_id": "ace7652c9f7944d5b49bc3615a316abc",
       "version_major": 2,
       "version_minor": 0
      },
      "text/plain": [
       "0it [00:00, ?it/s]"
      ]
     },
     "metadata": {},
     "output_type": "display_data"
    },
    {
     "name": "stdout",
     "output_type": "stream",
     "text": [
      "Calculations done: 15    | Explored points: 31   \n",
      "Queue: [1, 132, 9, 11, 12, 142, 18, 20, 25, 27, 31, 32, 42, 43, 181, 187, 444, 445, 449, 87, 91, 226, 99]\n",
      "[[0.0, 0.125, 0.875], [0.875, 0.0, 0.125], [0.125, 0.0, 0.875], [0.125, 0.25, 0.625], [0.125, 0.375, 0.5], [0.0, 0.875, 0.125], [0.25, 0.125, 0.625], [0.25, 0.375, 0.375], [0.375, 0.125, 0.5], [0.375, 0.375, 0.25], [0.5, 0.125, 0.375], [0.5, 0.25, 0.25], [0.875, 0.0, 0.125], [0.875, 0.125, 0.0], [0.0, 0.125, 0.875], [0.0, 0.875, 0.125], [0.75, 0.0, 0.25], [0.75, 0.125, 0.125], [1.0, 0.0, 0.0], [0.875, 0.0, 0.125], [0.0, 0.125, 0.875], [0.0, 0.125, 0.875], [0.125, 0.0, 0.875]]\n"
     ]
    },
    {
     "data": {
      "application/vnd.jupyter.widget-view+json": {
       "model_id": "9dab5db30a5647449f5c6a48524a03c5",
       "version_major": 2,
       "version_minor": 0
      },
      "text/plain": [
       "0it [00:00, ?it/s]"
      ]
     },
     "metadata": {},
     "output_type": "display_data"
    },
    {
     "name": "stdout",
     "output_type": "stream",
     "text": [
      "Calculations done: 38    | Explored points: 77   \n",
      "Queue: [129, 2, 130, 3, 133, 4, 265, 10, 268, 269, 13, 17, 277, 150, 21, 24, 405, 285, 30, 415, 33, 35, 36, 37, 39, 40, 41, 175, 177, 186, 190, 322, 195, 325, 330, 85, 220, 92, 223, 227, 100, 361, 234, 235, 107, 370]\n",
      "[[0.75, 0.0, 0.25], [0.0, 0.25, 0.75], [0.75, 0.125, 0.125], [0.0, 0.375, 0.625], [0.875, 0.125, 0.0], [0.0, 0.5, 0.5], [0.75, 0.125, 0.125], [0.125, 0.125, 0.75], [0.875, 0.125, 0.0], [1.0, 0.0, 0.0], [0.125, 0.5, 0.375], [0.25, 0.0, 0.75], [0.0, 0.875, 0.125], [0.125, 0.75, 0.125], [0.25, 0.5, 0.25], [0.375, 0.0, 0.625], [0.0, 0.0, 1.0], [0.125, 0.75, 0.125], [0.5, 0.0, 0.5], [0.125, 0.125, 0.75], [0.5, 0.375, 0.125], [0.625, 0.0, 0.375], [0.625, 0.125, 0.25], [0.625, 0.25, 0.125], [0.75, 0.0, 0.25], [0.75, 0.125, 0.125], [0.75, 0.25, 0.0], [0.75, 0.125, 0.125], [0.875, 0.0, 0.125], [0.0, 0.75, 0.25], [0.125, 0.125, 0.75], [0.0, 0.875, 0.125], [0.125, 0.75, 0.125], [0.125, 0.125, 0.75], [0.125, 0.75, 0.125], [0.75, 0.125, 0.125], [0.75, 0.125, 0.125], [0.0, 0.25, 0.75], [0.875, 0.125, 0.0], [0.0, 0.25, 0.75], [0.125, 0.125, 0.75], [0.0, 0.125, 0.875], [0.125, 0.0, 0.875], [0.125, 0.125, 0.75], [0.25, 0.0, 0.75], [0.125, 0.125, 0.75]]\n"
     ]
    },
    {
     "data": {
      "application/vnd.jupyter.widget-view+json": {
       "model_id": "27a1ef890a1e459a9d1a75dc5efbb26c",
       "version_major": 2,
       "version_minor": 0
      },
      "text/plain": [
       "0it [00:00, ?it/s]"
      ]
     },
     "metadata": {},
     "output_type": "display_data"
    },
    {
     "name": "stdout",
     "output_type": "stream",
     "text": [
      "Calculations done: 84    | Explored points: 142  \n",
      "Queue: [131, 261, 5, 14, 157, 416, 163, 292, 164, 38, 168, 169, 298, 299, 172, 173, 303, 304, 176, 198, 329, 202, 333, 337, 82, 213, 343, 216, 217, 348, 93, 228, 101, 236, 108, 242, 371, 243, 114, 378, 125, 126, 127]\n",
      "[[0.75, 0.25, 0.0], [0.625, 0.125, 0.25], [0.0, 0.625, 0.375], [0.125, 0.625, 0.25], [0.25, 0.625, 0.125], [0.125, 0.25, 0.625], [0.375, 0.5, 0.125], [0.25, 0.625, 0.125], [0.375, 0.625, 0.0], [0.625, 0.375, 0.0], [0.5, 0.375, 0.125], [0.5, 0.5, 0.0], [0.375, 0.5, 0.125], [0.375, 0.625, 0.0], [0.625, 0.25, 0.125], [0.625, 0.375, 0.0], [0.5, 0.375, 0.125], [0.5, 0.5, 0.0], [0.75, 0.25, 0.0], [0.25, 0.125, 0.625], [0.125, 0.625, 0.25], [0.25, 0.625, 0.125], [0.25, 0.125, 0.625], [0.25, 0.625, 0.125], [0.625, 0.25, 0.125], [0.5, 0.375, 0.125], [0.375, 0.5, 0.125], [0.625, 0.125, 0.25], [0.625, 0.25, 0.125], [0.5, 0.375, 0.125], [0.0, 0.375, 0.625], [0.0, 0.375, 0.625], [0.125, 0.25, 0.625], [0.125, 0.25, 0.625], [0.25, 0.125, 0.625], [0.25, 0.0, 0.75], [0.125, 0.25, 0.625], [0.25, 0.125, 0.625], [0.375, 0.0, 0.625], [0.25, 0.125, 0.625], [0.625, 0.0, 0.375], [0.625, 0.125, 0.25], [0.625, 0.25, 0.125]]\n"
     ]
    },
    {
     "data": {
      "application/vnd.jupyter.widget-view+json": {
       "model_id": "f7373a98218c44b4b49f8b3b7c34dd6f",
       "version_major": 2,
       "version_minor": 0
      },
      "text/plain": [
       "0it [00:00, ?it/s]"
      ]
     },
     "metadata": {},
     "output_type": "display_data"
    },
    {
     "name": "stdout",
     "output_type": "stream",
     "text": [
      "Calculations done: 127   | Explored points: 189  \n",
      "Queue: [128, 256, 6, 15, 22, 417, 307, 320, 328, 201, 205, 336, 211, 342, 347, 352, 121, 229, 102, 122, 237, 109, 115, 372, 244, 120, 249, 250, 123]\n",
      "[[0.625, 0.375, 0.0], [0.5, 0.125, 0.375], [0.0, 0.75, 0.25], [0.125, 0.75, 0.125], [0.25, 0.625, 0.125], [0.125, 0.375, 0.5], [0.625, 0.25, 0.125], [0.0, 0.625, 0.375], [0.125, 0.5, 0.375], [0.25, 0.5, 0.25], [0.375, 0.125, 0.5], [0.25, 0.5, 0.25], [0.5, 0.125, 0.375], [0.375, 0.375, 0.25], [0.5, 0.25, 0.25], [0.625, 0.25, 0.125], [0.5, 0.125, 0.375], [0.0, 0.5, 0.5], [0.125, 0.375, 0.5], [0.5, 0.25, 0.25], [0.125, 0.375, 0.5], [0.25, 0.25, 0.5], [0.375, 0.125, 0.5], [0.125, 0.375, 0.5], [0.25, 0.25, 0.5], [0.5, 0.0, 0.5], [0.375, 0.0, 0.625], [0.375, 0.125, 0.5], [0.5, 0.375, 0.125]]\n"
     ]
    },
    {
     "data": {
      "application/vnd.jupyter.widget-view+json": {
       "model_id": "b8679ea12e804fd098b7eded75832f1b",
       "version_major": 2,
       "version_minor": 0
      },
      "text/plain": [
       "0it [00:00, ?it/s]"
      ]
     },
     "metadata": {},
     "output_type": "display_data"
    },
    {
     "name": "stdout",
     "output_type": "stream",
     "text": [
      "Calculations done: 156   | Explored points: 223  \n",
      "Queue: [418, 355, 230, 7, 238, 335, 16, 110, 116, 341, 373, 23, 117, 245, 251, 351]\n",
      "[[0.125, 0.5, 0.375], [0.75, 0.125, 0.125], [0.0, 0.625, 0.375], [0.0, 0.875, 0.125], [0.125, 0.5, 0.375], [0.25, 0.375, 0.375], [0.125, 0.875, 0.0], [0.25, 0.375, 0.375], [0.375, 0.25, 0.375], [0.375, 0.25, 0.375], [0.125, 0.5, 0.375], [0.25, 0.75, 0.0], [0.375, 0.375, 0.25], [0.25, 0.375, 0.375], [0.375, 0.25, 0.375], [0.625, 0.125, 0.25]]\n"
     ]
    },
    {
     "data": {
      "application/vnd.jupyter.widget-view+json": {
       "model_id": "40594d5f95e44ad686f267ffee3a6fb0",
       "version_major": 2,
       "version_minor": 0
      },
      "text/plain": [
       "0it [00:00, ?it/s]"
      ]
     },
     "metadata": {},
     "output_type": "display_data"
    },
    {
     "name": "stdout",
     "output_type": "stream",
     "text": [
      "Calculations done: 172   | Explored points: 247  \n",
      "Queue: [8, 29, 419, 52, 312, 60, 67, 68, 97, 354, 357, 358, 231, 105, 239, 112, 374, 246, 252]\n",
      "[[0.0, 1.0, 0.0], [0.375, 0.625, 0.0], [0.125, 0.625, 0.25], [0.0, 0.875, 0.125], [0.875, 0.0, 0.125], [0.125, 0.75, 0.125], [0.25, 0.625, 0.125], [0.25, 0.75, 0.0], [0.0, 0.875, 0.125], [0.75, 0.0, 0.25], [0.875, 0.0, 0.125], [0.875, 0.125, 0.0], [0.0, 0.75, 0.25], [0.125, 0.75, 0.125], [0.125, 0.625, 0.25], [0.25, 0.625, 0.125], [0.125, 0.625, 0.25], [0.25, 0.5, 0.25], [0.375, 0.375, 0.25]]\n"
     ]
    },
    {
     "data": {
      "application/vnd.jupyter.widget-view+json": {
       "model_id": "e593ba9bd732427dbb0ece9f764d9ce7",
       "version_major": 2,
       "version_minor": 0
      },
      "text/plain": [
       "0it [00:00, ?it/s]"
      ]
     },
     "metadata": {},
     "output_type": "display_data"
    },
    {
     "name": "stdout",
     "output_type": "stream",
     "text": [
      "Calculations done: 191   | Explored points: 275  \n",
      "Queue: [96, 420, 232, 400, 240, 404, 375, 247]\n",
      "[[0.0, 0.75, 0.25], [0.125, 0.75, 0.125], [0.0, 0.875, 0.125], [0.75, 0.125, 0.125], [0.125, 0.75, 0.125], [1.0, 0.0, 0.0], [0.125, 0.75, 0.125], [0.25, 0.625, 0.125]]\n"
     ]
    },
    {
     "data": {
      "application/vnd.jupyter.widget-view+json": {
       "model_id": "1ea763c6571b400ba2b680395350719e",
       "version_major": 2,
       "version_minor": 0
      },
      "text/plain": [
       "0it [00:00, ?it/s]"
      ]
     },
     "metadata": {},
     "output_type": "display_data"
    },
    {
     "name": "stdout",
     "output_type": "stream",
     "text": [
      "Calculations done: 199   | Explored points: 285  \n",
      "Queue: [376, 233, 241, 248]\n",
      "[[0.125, 0.875, 0.0], [0.0, 1.0, 0.0], [0.125, 0.875, 0.0], [0.25, 0.75, 0.0]]\n"
     ]
    },
    {
     "data": {
      "application/vnd.jupyter.widget-view+json": {
       "model_id": "53d979c8e6064fee8d101d2554803cbd",
       "version_major": 2,
       "version_minor": 0
      },
      "text/plain": [
       "0it [00:00, ?it/s]"
      ]
     },
     "metadata": {},
     "output_type": "display_data"
    },
    {
     "name": "stdout",
     "output_type": "stream",
     "text": [
      "Calculations done: 203   | Explored points: 291  \n"
     ]
    }
   ],
   "source": [
    "import json\n",
    "\n",
    "# Initialize a list to store the results\n",
    "results_list = []\n",
    "\n",
    "while len(queue) > 0:\n",
    "    print(f\"Queue: {queue}\")\n",
    "    # Calculate feasibilities of the current queue\n",
    "    elPositions = [reduced_compositions[i] for i in queue]\n",
    "    print(elPositions)\n",
    "    # Create a list of equilibrium callables for each composition\n",
    "    equilibrium_callables_list = [get_equilibrium_callable(system_comps_with_id[i], id_to_callable, equilibrium_callables) for i in queue]\n",
    "    \n",
    "    if len(queue) > 3:\n",
    "        results = process_map(apply_equilibrium_callable, zip(equilibrium_callables_list, elPositions), max_workers=4)\n",
    "    else:\n",
    "        results = [ec(elP) for ec, elP in zip(equilibrium_callables_list, elPositions)]\n",
    "    \n",
    "    # Extract only the 'Phases' component from the results\n",
    "    phases = [result['Phases'] for result in results]\n",
    "    \n",
    "    #feasibilities = [len(set(p) & set(['FCC_A1', 'BCC_A2', 'HCP_A3', 'B2_BCC','A2_FCC','L12_FCC','BCC2', 'A1', 'A2', 'A3', 'FCC4'])) == 0 and p != [] for p in phases]\n",
    "    feasibilities = [set(p).issubset(set(['FCC_A1', 'BCC_A2', 'HCP_A3', 'B2_BCC', 'A2_FCC', 'L12_FCC', 'BCC2', 'A1', 'A2', 'A3', 'FCC4'])) and p != [] for p in phases]\n",
    "\n",
    "    calcCount += len(feasibilities)\n",
    "    explored = explored.union(queue)\n",
    "\n",
    "    # Save the current step result and elPositions\n",
    "    results_list.append({\n",
    "        'queue': queue,\n",
    "        'elPositions': elPositions,\n",
    "        'results': results\n",
    "    })\n",
    "\n",
    "    # Create next queue based on neighbors of feasible points\n",
    "    nextQueue = set()\n",
    "    nextQueuePlusEquivalent = set()\n",
    "    for f, i in zip(feasibilities, queue):\n",
    "        # Explored point\n",
    "        gridFeasible[i] = f\n",
    "\n",
    "        # And equivalent explored points based on system stitching\n",
    "        explored = explored.union(graphNS[i])\n",
    "        for eq in graphNS[i]:\n",
    "            gridFeasible[eq] = f\n",
    "\n",
    "        # Expand to neighbors of the point and equivalent points (only if the node has been feasible)\n",
    "        if f:\n",
    "            # Node neighbors in the same subsystem\n",
    "            for n in graphN[i]:\n",
    "                if n not in explored and n not in nextQueuePlusEquivalent:\n",
    "                    nextQueue.add(n)\n",
    "                    nextQueuePlusEquivalent = nextQueuePlusEquivalent.union([n] + graphNS[n])\n",
    "            # Equivalent nodes neighbors in other subsystems\n",
    "            for eq in graphNS[i]:\n",
    "                for n in graphN[eq]:\n",
    "                    if n not in explored and n not in nextQueuePlusEquivalent:\n",
    "                        nextQueue.add(n)\n",
    "                        nextQueuePlusEquivalent = nextQueuePlusEquivalent.union([n] + graphNS[n])\n",
    "\n",
    "    print(f\"Calculations done: {calcCount:<5} | Explored points: {len(explored):<5}\")\n",
    "    queue = list(nextQueue)\n",
    "\n",
    "# Write the results to a JSON file\n",
    "with open('results.json', 'w') as f:\n",
    "    json.dump(results_list, f, indent=4)"
   ]
  },
  {
   "cell_type": "code",
   "execution_count": 70,
   "id": "bd783060",
   "metadata": {
    "execution": {
     "iopub.execute_input": "2025-01-27T01:54:24.166899Z",
     "iopub.status.busy": "2025-01-27T01:54:24.166493Z",
     "iopub.status.idle": "2025-01-27T01:54:24.173963Z",
     "shell.execute_reply": "2025-01-27T01:54:24.173653Z"
    },
    "papermill": {
     "duration": 0.02154,
     "end_time": "2025-01-27T01:54:24.174670",
     "exception": false,
     "start_time": "2025-01-27T01:54:24.153130",
     "status": "completed"
    },
    "tags": []
   },
   "outputs": [],
   "source": [
    "\n",
    "# Load the results from the JSON file\n",
    "with open('/ocean/projects/dmr190011p/arichte1/github_repo/AMMap/results.json', 'r') as f:\n",
    "    data = json.load(f)\n",
    "\n",
    "# Initialize a dictionary to store the merged results\n",
    "merged_results = {}\n",
    "\n",
    "# Iterate through each step in the data\n",
    "for step in data:\n",
    "    queue = step['queue']\n",
    "    results = step['results']\n",
    "    \n",
    "    # Merge the queue numbers with their associated result values\n",
    "    for q, result in zip(queue, results):\n",
    "        merged_results[q] = result\n",
    "\n",
    "# Convert the merged results dictionary to a list of dictionaries\n",
    "merged_results_list = [{'queue': q, 'result': result} for q, result in merged_results.items()]\n",
    "\n",
    "# Save the merged results to a new JSON file\n",
    "with open('merged_results.json', 'w') as f:\n",
    "    json.dump(merged_results_list, f, indent=4)"
   ]
  },
  {
   "cell_type": "code",
   "execution_count": 71,
   "id": "d7428fd0",
   "metadata": {
    "execution": {
     "iopub.execute_input": "2025-01-27T01:54:24.201264Z",
     "iopub.status.busy": "2025-01-27T01:54:24.200994Z",
     "iopub.status.idle": "2025-01-27T01:56:03.216362Z",
     "shell.execute_reply": "2025-01-27T01:56:03.215971Z"
    },
    "papermill": {
     "duration": 99.029333,
     "end_time": "2025-01-27T01:56:03.217141",
     "exception": false,
     "start_time": "2025-01-27T01:54:24.187808",
     "status": "completed"
    },
    "tags": []
   },
   "outputs": [
    {
     "name": "stdout",
     "output_type": "stream",
     "text": [
      "Queue: [376, 233, 241, 248]\n",
      "[[0.125, 0.875, 0.0], [0.0, 1.0, 0.0], [0.125, 0.875, 0.0], [0.25, 0.75, 0.0]]\n"
     ]
    },
    {
     "data": {
      "application/vnd.jupyter.widget-view+json": {
       "model_id": "526411d0686c471aa779d201ad38f390",
       "version_major": 2,
       "version_minor": 0
      },
      "text/plain": [
       "0it [00:00, ?it/s]"
      ]
     },
     "metadata": {},
     "output_type": "display_data"
    },
    {
     "name": "stdout",
     "output_type": "stream",
     "text": [
      "Calculations done: 207   | Explored points: 291  \n",
      "Queue: [254]\n",
      "[[0.375, 0.625, 0.0]]\n"
     ]
    },
    {
     "name": "stdout",
     "output_type": "stream",
     "text": [
      "Calculations done: 208   | Explored points: 292  \n",
      "Queue: [259, 253]\n",
      "[[0.5, 0.5, 0.0], [0.375, 0.5, 0.125]]\n"
     ]
    },
    {
     "name": "stdout",
     "output_type": "stream",
     "text": [
      "Calculations done: 210   | Explored points: 294  \n",
      "Queue: [258, 263]\n",
      "[[0.5, 0.375, 0.125], [0.625, 0.375, 0.0]]\n"
     ]
    },
    {
     "name": "stdout",
     "output_type": "stream",
     "text": [
      "Calculations done: 212   | Explored points: 296  \n",
      "Queue: [257, 266, 262]\n",
      "[[0.5, 0.25, 0.25], [0.75, 0.25, 0.0], [0.625, 0.25, 0.125]]\n"
     ]
    },
    {
     "name": "stdout",
     "output_type": "stream",
     "text": [
      "Calculations done: 215   | Explored points: 299  \n"
     ]
    }
   ],
   "source": [
    "# Initialize a list to store the results\n",
    "results_list = []\n",
    "\n",
    "while len(queue) > 0:\n",
    "    print(f\"Queue: {queue}\")\n",
    "    # Calculate feasibilities of the current queue\n",
    "    elPositions = [reduced_compositions[i] for i in queue]\n",
    "    print(elPositions)\n",
    "    # Create a list of scheil callables for each composition\n",
    "    scheil_callables_list = [get_scheil_callable(system_comps_with_id[i], sc_id_to_callable, scheil_callables) for i in queue]\n",
    "    \n",
    "    if len(queue) > 3:\n",
    "        results = process_map(apply_scheil_callable, zip(scheil_callables_list, elPositions), max_workers=4)\n",
    "    else:\n",
    "        results = [sc(elP) for sc, elP in zip(scheil_callables_list, elPositions)]\n",
    "    \n",
    "    # Extract only the 'Phases' component from the results\n",
    "    phases = [result['finalPhase'] for result in results]\n",
    "    \n",
    "    feasibilities = [set(p).issubset(set(['FCC_A1', 'BCC_A2', 'HCP_A3', 'B2_BCC', 'A2_FCC', 'L12_FCC', 'BCC2', 'A1', 'A2', 'A3', 'FCC4'])) and p != [] for p in phases]\n",
    "\n",
    "    calcCount += len(feasibilities)\n",
    "    explored = explored.union(queue)\n",
    "\n",
    "    # Save the current step result and elPositions\n",
    "    results_list.append({\n",
    "        'queue': queue,\n",
    "        'elPositions': elPositions,\n",
    "        'results': results\n",
    "    })\n",
    "\n",
    "    # Create next queue based on neighbors of feasible points\n",
    "    nextQueue = set()\n",
    "    nextQueuePlusEquivalent = set()\n",
    "    for f, i in zip(feasibilities, queue):\n",
    "        # Explored point\n",
    "        gridFeasible[i] = f\n",
    "\n",
    "        # And equivalent explored points based on system stitching\n",
    "        explored = explored.union(graphNS[i])\n",
    "        for eq in graphNS[i]:\n",
    "            gridFeasible[eq] = f\n",
    "\n",
    "        # Expand to neighbors of the point and equivalent points (only if the node has been feasible)\n",
    "        if f:\n",
    "            # Node neighbors in the same subsystem\n",
    "            for n in graphN[i]:\n",
    "                if n not in explored and n not in nextQueuePlusEquivalent:\n",
    "                    nextQueue.add(n)\n",
    "                    nextQueuePlusEquivalent = nextQueuePlusEquivalent.union([n] + graphNS[n])\n",
    "            # Equivalent nodes neighbors in other subsystems\n",
    "            for eq in graphNS[i]:\n",
    "                for n in graphN[eq]:\n",
    "                    if n not in explored and n not in nextQueuePlusEquivalent:\n",
    "                        nextQueue.add(n)\n",
    "                        nextQueuePlusEquivalent = nextQueuePlusEquivalent.union([n] + graphNS[n])\n",
    "\n",
    "    print(f\"Calculations done: {calcCount:<5} | Explored points: {len(explored):<5}\")\n",
    "    queue = list(nextQueue)\n",
    "\n",
    "# Write the results to a JSON file\n",
    "with open('scheil_results.json', 'w') as f:\n",
    "    json.dump(results_list, f, indent=4)\n"
   ]
  },
  {
   "cell_type": "code",
   "execution_count": 72,
   "id": "9e7e56c7",
   "metadata": {
    "execution": {
     "iopub.execute_input": "2025-01-27T01:56:03.245393Z",
     "iopub.status.busy": "2025-01-27T01:56:03.245244Z",
     "iopub.status.idle": "2025-01-27T01:56:03.354618Z",
     "shell.execute_reply": "2025-01-27T01:56:03.354232Z"
    },
    "papermill": {
     "duration": 0.123921,
     "end_time": "2025-01-27T01:56:03.355439",
     "exception": false,
     "start_time": "2025-01-27T01:56:03.231518",
     "status": "completed"
    },
    "tags": []
   },
   "outputs": [],
   "source": [
    "\n",
    "# Load the results from the JSON file\n",
    "with open('/ocean/projects/dmr190011p/arichte1/github_repo/AMMap/scheil_results.json', 'r') as f:\n",
    "    data = json.load(f)\n",
    "\n",
    "# Initialize a dictionary to store the merged results\n",
    "merged_results = {}\n",
    "\n",
    "# Iterate through each step in the data\n",
    "for step in data:\n",
    "    queue = step['queue']\n",
    "    results = step['results']\n",
    "    \n",
    "    # Merge the queue numbers with their associated result values\n",
    "    for q, result in zip(queue, results):\n",
    "        merged_results[q] = result\n",
    "\n",
    "# Convert the merged results dictionary to a list of dictionaries\n",
    "merged_results_list = [{'queue': q, 'result': result} for q, result in merged_results.items()]\n",
    "\n",
    "# Save the merged results to a new JSON file\n",
    "with open('merged_scheil_results.json', 'w') as f:\n",
    "    json.dump(merged_results_list, f, indent=4)"
   ]
  },
  {
   "cell_type": "markdown",
   "id": "dc837d33",
   "metadata": {
    "papermill": {
     "duration": 0.013277,
     "end_time": "2025-01-27T01:56:03.382758",
     "exception": false,
     "start_time": "2025-01-27T01:56:03.369481",
     "status": "completed"
    },
    "tags": []
   },
   "source": [
    "Out of the explored points, around 1040 should be feasible (i.e., satisfy the equilibrium constraint)."
   ]
  },
  {
   "cell_type": "code",
   "execution_count": 73,
   "id": "d89105cf",
   "metadata": {
    "execution": {
     "iopub.execute_input": "2025-01-27T01:56:03.409711Z",
     "iopub.status.busy": "2025-01-27T01:56:03.409489Z",
     "iopub.status.idle": "2025-01-27T01:56:03.437159Z",
     "shell.execute_reply": "2025-01-27T01:56:03.436846Z"
    },
    "papermill": {
     "duration": 0.041762,
     "end_time": "2025-01-27T01:56:03.437829",
     "exception": false,
     "start_time": "2025-01-27T01:56:03.396067",
     "status": "completed"
    },
    "tags": []
   },
   "outputs": [],
   "source": [
    "from pathfinding.core.graph import Graph\n",
    "from pathfinding.finder.dijkstra import DijkstraFinder"
   ]
  },
  {
   "cell_type": "code",
   "execution_count": 74,
   "id": "0fb7974f",
   "metadata": {
    "execution": {
     "iopub.execute_input": "2025-01-27T01:56:03.465185Z",
     "iopub.status.busy": "2025-01-27T01:56:03.464901Z",
     "iopub.status.idle": "2025-01-27T01:56:03.468908Z",
     "shell.execute_reply": "2025-01-27T01:56:03.468457Z"
    },
    "papermill": {
     "duration": 0.018201,
     "end_time": "2025-01-27T01:56:03.469574",
     "exception": false,
     "start_time": "2025-01-27T01:56:03.451373",
     "status": "completed"
    },
    "tags": []
   },
   "outputs": [],
   "source": [
    "pathFindEdges = []\n",
    "for edge in edges:\n",
    "    if gridFeasible[edge[0]] and gridFeasible[edge[1]]:\n",
    "        pathFindEdges.append([edge[0], edge[1], 1])"
   ]
  },
  {
   "cell_type": "code",
   "execution_count": 75,
   "id": "a8cbb37a",
   "metadata": {
    "execution": {
     "iopub.execute_input": "2025-01-27T01:56:03.497082Z",
     "iopub.status.busy": "2025-01-27T01:56:03.496881Z",
     "iopub.status.idle": "2025-01-27T01:56:03.499741Z",
     "shell.execute_reply": "2025-01-27T01:56:03.499231Z"
    },
    "papermill": {
     "duration": 0.016971,
     "end_time": "2025-01-27T01:56:03.500336",
     "exception": false,
     "start_time": "2025-01-27T01:56:03.483365",
     "status": "completed"
    },
    "tags": []
   },
   "outputs": [],
   "source": [
    "pathfindingGraph = Graph(edges=pathFindEdges, bi_directional=False)"
   ]
  },
  {
   "cell_type": "code",
   "execution_count": 76,
   "id": "42017435",
   "metadata": {
    "execution": {
     "iopub.execute_input": "2025-01-27T01:56:03.527503Z",
     "iopub.status.busy": "2025-01-27T01:56:03.527239Z",
     "iopub.status.idle": "2025-01-27T01:56:03.529486Z",
     "shell.execute_reply": "2025-01-27T01:56:03.529077Z"
    },
    "papermill": {
     "duration": 0.016314,
     "end_time": "2025-01-27T01:56:03.530098",
     "exception": false,
     "start_time": "2025-01-27T01:56:03.513784",
     "status": "completed"
    },
    "tags": []
   },
   "outputs": [],
   "source": [
    "finder = DijkstraFinder()"
   ]
  },
  {
   "cell_type": "code",
   "execution_count": 77,
   "id": "7b470e84",
   "metadata": {
    "execution": {
     "iopub.execute_input": "2025-01-27T01:56:03.557391Z",
     "iopub.status.busy": "2025-01-27T01:56:03.557171Z",
     "iopub.status.idle": "2025-01-27T01:56:03.560164Z",
     "shell.execute_reply": "2025-01-27T01:56:03.559719Z"
    },
    "papermill": {
     "duration": 0.017269,
     "end_time": "2025-01-27T01:56:03.560797",
     "exception": false,
     "start_time": "2025-01-27T01:56:03.543528",
     "status": "completed"
    },
    "tags": []
   },
   "outputs": [
    {
     "data": {
      "text/plain": [
       "178"
      ]
     },
     "execution_count": 77,
     "metadata": {},
     "output_type": "execute_result"
    }
   ],
   "source": [
    "len(list(pathfindingGraph.nodes.keys()))"
   ]
  },
  {
   "cell_type": "code",
   "execution_count": 78,
   "id": "028bf607",
   "metadata": {
    "execution": {
     "iopub.execute_input": "2025-01-27T01:56:03.588037Z",
     "iopub.status.busy": "2025-01-27T01:56:03.587776Z",
     "iopub.status.idle": "2025-01-27T01:56:03.590377Z",
     "shell.execute_reply": "2025-01-27T01:56:03.589902Z"
    },
    "papermill": {
     "duration": 0.016807,
     "end_time": "2025-01-27T01:56:03.590987",
     "exception": false,
     "start_time": "2025-01-27T01:56:03.574180",
     "status": "completed"
    },
    "tags": []
   },
   "outputs": [
    {
     "name": "stdout",
     "output_type": "stream",
     "text": [
      "Nodes in the graph: [0, 1, 9, 2, 10, 3, 11, 4, 12, 5, 13, 6, 14, 7, 15, 8, 16, 17, 18, 19, 20, 23, 24, 25, 26, 30, 31, 32, 35, 36, 37, 39, 40, 41, 42, 43, 44, 53, 61, 86, 88, 89, 90, 91, 99, 92, 100, 101, 97, 98, 106, 107, 108, 109, 114, 115, 120, 121, 125, 122, 126, 127, 129, 130, 131, 132, 133, 134, 143, 151, 158, 178, 179, 180, 189, 187, 188, 195, 196, 197, 202, 203, 204, 210, 215, 219, 222, 223, 224, 225, 226, 234, 227, 235, 228, 236, 229, 237, 230, 238, 231, 239, 232, 240, 233, 241, 242, 243, 244, 245, 248, 249, 250, 254, 255, 253, 258, 259, 260, 257, 262, 263, 264, 266, 267, 269, 278, 286, 293, 299, 304, 308, 311, 313, 314, 315, 324, 322, 323, 330, 331, 332, 329, 336, 337, 338, 342, 343, 344, 348, 349, 352, 353, 355, 356, 357, 358, 359, 360, 369, 362, 363, 364, 365, 366, 367, 368, 377, 407, 408, 409, 410, 411, 412, 413, 447, 449, 402]\n"
     ]
    }
   ],
   "source": [
    "print(\"Nodes in the graph:\", list(pathfindingGraph.nodes.keys()))"
   ]
  },
  {
   "cell_type": "code",
   "execution_count": 79,
   "id": "b9953447",
   "metadata": {
    "execution": {
     "iopub.execute_input": "2025-01-27T01:56:03.618297Z",
     "iopub.status.busy": "2025-01-27T01:56:03.618111Z",
     "iopub.status.idle": "2025-01-27T01:56:03.645097Z",
     "shell.execute_reply": "2025-01-27T01:56:03.644765Z"
    },
    "papermill": {
     "duration": 0.041248,
     "end_time": "2025-01-27T01:56:03.645658",
     "exception": false,
     "start_time": "2025-01-27T01:56:03.604410",
     "status": "completed"
    },
    "tags": []
   },
   "outputs": [
    {
     "name": "stdout",
     "output_type": "stream",
     "text": [
      "Path found: [<GraphNode(0 0x1529ea7c7ad0)>, <GraphNode(9 0x1529ebf10110)>, <GraphNode(17 0x1529eba38150)>, <GraphNode(24 0x1529eba38b10)>, <GraphNode(30 0x1529eba3b2d0)>, <GraphNode(35 0x1529eba391d0)>, <GraphNode(39 0x1529eba38fd0)>, <GraphNode(42 0x1529eba39690)>, <GraphNode(223 0x1529eac26550)>, <GraphNode(222 0x1529f9bd25d0)>, <GraphNode(219 0x1529f9bd1e50)>, <GraphNode(215 0x1529f9bd2490)>, <GraphNode(210 0x1529eba68750)>, <GraphNode(204 0x1529eba68810)>, <GraphNode(249 0x1529ebee5390)>, <GraphNode(243 0x1529ebee5610)>, <GraphNode(236 0x1529ebee5290)>, <GraphNode(228 0x1529ebee5190)>, <GraphNode(408 0x1529ebee70d0)>]\n"
     ]
    }
   ],
   "source": [
    "# start_node_id = 194\n",
    "# end_node_id = 830\n",
    "start_node_id = 0#12\n",
    "end_node_id = 408\n",
    "\n",
    "# Check if the nodes exist in the graph\n",
    "if start_node_id in pathfindingGraph.nodes and end_node_id in pathfindingGraph.nodes:\n",
    "    path, runs = finder.find_path(\n",
    "        pathfindingGraph.node(start_node_id), \n",
    "        pathfindingGraph.node(end_node_id), \n",
    "        pathfindingGraph)\n",
    "    print(\"Path found:\", path)\n",
    "else:\n",
    "    print(f\"One or both of the nodes {start_node_id} and {end_node_id} do not exist in the graph.\")"
   ]
  },
  {
   "cell_type": "code",
   "execution_count": 80,
   "id": "19de239a",
   "metadata": {
    "execution": {
     "iopub.execute_input": "2025-01-27T01:56:03.673202Z",
     "iopub.status.busy": "2025-01-27T01:56:03.672916Z",
     "iopub.status.idle": "2025-01-27T01:56:03.675221Z",
     "shell.execute_reply": "2025-01-27T01:56:03.674734Z"
    },
    "papermill": {
     "duration": 0.016593,
     "end_time": "2025-01-27T01:56:03.675814",
     "exception": false,
     "start_time": "2025-01-27T01:56:03.659221",
     "status": "completed"
    },
    "tags": []
   },
   "outputs": [],
   "source": [
    "shortestPath = [p.node_id for p in path]"
   ]
  },
  {
   "cell_type": "code",
   "execution_count": 81,
   "id": "872e2c1b",
   "metadata": {
    "execution": {
     "iopub.execute_input": "2025-01-27T01:56:03.703302Z",
     "iopub.status.busy": "2025-01-27T01:56:03.703040Z",
     "iopub.status.idle": "2025-01-27T01:56:03.707016Z",
     "shell.execute_reply": "2025-01-27T01:56:03.706658Z"
    },
    "papermill": {
     "duration": 0.018338,
     "end_time": "2025-01-27T01:56:03.707691",
     "exception": false,
     "start_time": "2025-01-27T01:56:03.689353",
     "status": "completed"
    },
    "tags": []
   },
   "outputs": [],
   "source": [
    "# Hover approximate formula for each point\n",
    "formulas = []\n",
    "for i, comp in enumerate(compositions):\n",
    "    formulas.append(f\"({i:>3}) \"+\"\".join([f\"{el}{100*v:.1f} \" if v>0 else \"\" for el, v in zip(elementalSpaceComponents, comp)]))\n",
    "\n",
    "# # Generate the projected grid\n",
    "# gridAtt_projected_df = pd.DataFrame(plotting.simplex2cartesian_py(gridAtt), columns=['x','y','z'])\n",
    "\n",
    "# # Attach pure component (alloy) labels to corners\n",
    "# pureComponentIndices = nimplex.pure_component_indexes_py(4, 12)\n",
    "# labels = ['']*len(gridAtt_projected_df)\n",
    "# for comp, idx in zip(attainableSpaceComponents, pureComponentIndices):\n",
    "#     labels[idx] = \"<b>\"+comp+\"</b>\""
   ]
  },
  {
   "cell_type": "code",
   "execution_count": 82,
   "id": "1c4f3fb1",
   "metadata": {
    "execution": {
     "iopub.execute_input": "2025-01-27T01:56:03.735131Z",
     "iopub.status.busy": "2025-01-27T01:56:03.734869Z",
     "iopub.status.idle": "2025-01-27T01:56:03.737513Z",
     "shell.execute_reply": "2025-01-27T01:56:03.737028Z"
    },
    "papermill": {
     "duration": 0.0169,
     "end_time": "2025-01-27T01:56:03.738112",
     "exception": false,
     "start_time": "2025-01-27T01:56:03.721212",
     "status": "completed"
    },
    "tags": []
   },
   "outputs": [
    {
     "name": "stdout",
     "output_type": "stream",
     "text": [
      " 1: (  0) Ni100.0 \n",
      " 2: (  9) Cr12.5 Ni87.5 \n",
      " 3: ( 17) Cr25.0 Ni75.0 \n",
      " 4: ( 24) Cr37.5 Ni62.5 \n",
      " 5: ( 30) Cr50.0 Ni50.0 \n",
      " 6: ( 35) Cr62.5 Ni37.5 \n",
      " 7: ( 39) Cr75.0 Ni25.0 \n",
      " 8: ( 42) Cr87.5 Ni12.5 \n",
      " 9: (223) Cr87.5 Ni12.5 \n",
      "10: (222) Cr87.5 V12.5 \n",
      "11: (219) Cr75.0 V25.0 \n",
      "12: (215) Cr62.5 V37.5 \n",
      "13: (210) Cr50.0 V50.0 \n",
      "14: (204) Cr37.5 V62.5 \n",
      "15: (249) Cr37.5 V62.5 \n",
      "16: (243) Cr25.0 Ti12.5 V62.5 \n",
      "17: (236) Cr12.5 Ti25.0 V62.5 \n",
      "18: (228) Ti37.5 V62.5 \n",
      "19: (408) Ti37.5 V62.5 \n"
     ]
    }
   ],
   "source": [
    "for step, i in enumerate(shortestPath):\n",
    "    print(f\"{step+1:>2}: {formulas[i]}\")"
   ]
  }
 ],
 "metadata": {
  "kernelspec": {
   "display_name": "v2ammap",
   "language": "python",
   "name": "v2ammap"
  },
  "language_info": {
   "codemirror_mode": {
    "name": "ipython",
    "version": 3
   },
   "file_extension": ".py",
   "mimetype": "text/x-python",
   "name": "python",
   "nbconvert_exporter": "python",
   "pygments_lexer": "ipython3",
   "version": "3.11.9"
  },
  "papermill": {
   "default_parameters": {},
   "duration": 160.338596,
   "end_time": "2025-01-27T01:56:05.068688",
   "environment_variables": {},
   "exception": null,
   "input_path": "Compositional_Space_Stitching.ipynb",
   "output_path": "Compositional_Space_Stitching_out2.ipynb",
   "parameters": {},
   "start_time": "2025-01-27T01:53:24.730092",
   "version": "2.6.0"
  },
  "widgets": {
   "application/vnd.jupyter.widget-state+json": {
    "state": {
     "07fc9b745bb541bfa8298b25f3bfef33": {
      "model_module": "@jupyter-widgets/base",
      "model_module_version": "2.0.0",
      "model_name": "LayoutModel",
      "state": {
       "_model_module": "@jupyter-widgets/base",
       "_model_module_version": "2.0.0",
       "_model_name": "LayoutModel",
       "_view_count": null,
       "_view_module": "@jupyter-widgets/base",
       "_view_module_version": "2.0.0",
       "_view_name": "LayoutView",
       "align_content": null,
       "align_items": null,
       "align_self": null,
       "border_bottom": null,
       "border_left": null,
       "border_right": null,
       "border_top": null,
       "bottom": null,
       "display": null,
       "flex": null,
       "flex_flow": null,
       "grid_area": null,
       "grid_auto_columns": null,
       "grid_auto_flow": null,
       "grid_auto_rows": null,
       "grid_column": null,
       "grid_gap": null,
       "grid_row": null,
       "grid_template_areas": null,
       "grid_template_columns": null,
       "grid_template_rows": null,
       "height": null,
       "justify_content": null,
       "justify_items": null,
       "left": null,
       "margin": null,
       "max_height": null,
       "max_width": null,
       "min_height": null,
       "min_width": null,
       "object_fit": null,
       "object_position": null,
       "order": null,
       "overflow": null,
       "padding": null,
       "right": null,
       "top": null,
       "visibility": null,
       "width": null
      }
     },
     "0c9140f4a6194e928a95b89acf2ba8ba": {
      "model_module": "@jupyter-widgets/base",
      "model_module_version": "2.0.0",
      "model_name": "LayoutModel",
      "state": {
       "_model_module": "@jupyter-widgets/base",
       "_model_module_version": "2.0.0",
       "_model_name": "LayoutModel",
       "_view_count": null,
       "_view_module": "@jupyter-widgets/base",
       "_view_module_version": "2.0.0",
       "_view_name": "LayoutView",
       "align_content": null,
       "align_items": null,
       "align_self": null,
       "border_bottom": null,
       "border_left": null,
       "border_right": null,
       "border_top": null,
       "bottom": null,
       "display": null,
       "flex": null,
       "flex_flow": null,
       "grid_area": null,
       "grid_auto_columns": null,
       "grid_auto_flow": null,
       "grid_auto_rows": null,
       "grid_column": null,
       "grid_gap": null,
       "grid_row": null,
       "grid_template_areas": null,
       "grid_template_columns": null,
       "grid_template_rows": null,
       "height": null,
       "justify_content": null,
       "justify_items": null,
       "left": null,
       "margin": null,
       "max_height": null,
       "max_width": null,
       "min_height": null,
       "min_width": null,
       "object_fit": null,
       "object_position": null,
       "order": null,
       "overflow": null,
       "padding": null,
       "right": null,
       "top": null,
       "visibility": null,
       "width": "20px"
      }
     },
     "0d0eab9f06084136bf8d10c0b9f01467": {
      "model_module": "@jupyter-widgets/base",
      "model_module_version": "2.0.0",
      "model_name": "LayoutModel",
      "state": {
       "_model_module": "@jupyter-widgets/base",
       "_model_module_version": "2.0.0",
       "_model_name": "LayoutModel",
       "_view_count": null,
       "_view_module": "@jupyter-widgets/base",
       "_view_module_version": "2.0.0",
       "_view_name": "LayoutView",
       "align_content": null,
       "align_items": null,
       "align_self": null,
       "border_bottom": null,
       "border_left": null,
       "border_right": null,
       "border_top": null,
       "bottom": null,
       "display": null,
       "flex": null,
       "flex_flow": null,
       "grid_area": null,
       "grid_auto_columns": null,
       "grid_auto_flow": null,
       "grid_auto_rows": null,
       "grid_column": null,
       "grid_gap": null,
       "grid_row": null,
       "grid_template_areas": null,
       "grid_template_columns": null,
       "grid_template_rows": null,
       "height": null,
       "justify_content": null,
       "justify_items": null,
       "left": null,
       "margin": null,
       "max_height": null,
       "max_width": null,
       "min_height": null,
       "min_width": null,
       "object_fit": null,
       "object_position": null,
       "order": null,
       "overflow": null,
       "padding": null,
       "right": null,
       "top": null,
       "visibility": null,
       "width": null
      }
     },
     "0d1c7879539948d28e5346e21439d2da": {
      "model_module": "@jupyter-widgets/base",
      "model_module_version": "2.0.0",
      "model_name": "LayoutModel",
      "state": {
       "_model_module": "@jupyter-widgets/base",
       "_model_module_version": "2.0.0",
       "_model_name": "LayoutModel",
       "_view_count": null,
       "_view_module": "@jupyter-widgets/base",
       "_view_module_version": "2.0.0",
       "_view_name": "LayoutView",
       "align_content": null,
       "align_items": null,
       "align_self": null,
       "border_bottom": null,
       "border_left": null,
       "border_right": null,
       "border_top": null,
       "bottom": null,
       "display": null,
       "flex": null,
       "flex_flow": null,
       "grid_area": null,
       "grid_auto_columns": null,
       "grid_auto_flow": null,
       "grid_auto_rows": null,
       "grid_column": null,
       "grid_gap": null,
       "grid_row": null,
       "grid_template_areas": null,
       "grid_template_columns": null,
       "grid_template_rows": null,
       "height": null,
       "justify_content": null,
       "justify_items": null,
       "left": null,
       "margin": null,
       "max_height": null,
       "max_width": null,
       "min_height": null,
       "min_width": null,
       "object_fit": null,
       "object_position": null,
       "order": null,
       "overflow": null,
       "padding": null,
       "right": null,
       "top": null,
       "visibility": null,
       "width": null
      }
     },
     "0d978dd86f084224bfa31accf3d57154": {
      "model_module": "@jupyter-widgets/controls",
      "model_module_version": "2.0.0",
      "model_name": "FloatProgressModel",
      "state": {
       "_dom_classes": [],
       "_model_module": "@jupyter-widgets/controls",
       "_model_module_version": "2.0.0",
       "_model_name": "FloatProgressModel",
       "_view_count": null,
       "_view_module": "@jupyter-widgets/controls",
       "_view_module_version": "2.0.0",
       "_view_name": "ProgressView",
       "bar_style": "success",
       "description": "",
       "description_allow_html": false,
       "layout": "IPY_MODEL_c25984d189bd4248be36f4b1e2a7c915",
       "max": 1.0,
       "min": 0.0,
       "orientation": "horizontal",
       "style": "IPY_MODEL_3e089cf6e3df480ea819fdff22c4addb",
       "tabbable": null,
       "tooltip": null,
       "value": 1.0
      }
     },
     "0f31adb6fa724868add4d4901295962b": {
      "model_module": "@jupyter-widgets/controls",
      "model_module_version": "2.0.0",
      "model_name": "HTMLModel",
      "state": {
       "_dom_classes": [],
       "_model_module": "@jupyter-widgets/controls",
       "_model_module_version": "2.0.0",
       "_model_name": "HTMLModel",
       "_view_count": null,
       "_view_module": "@jupyter-widgets/controls",
       "_view_module_version": "2.0.0",
       "_view_name": "HTMLView",
       "description": "",
       "description_allow_html": false,
       "layout": "IPY_MODEL_3d13a1bab94d4fdbad59866a70dd322c",
       "placeholder": "​",
       "style": "IPY_MODEL_5c139e58f7ff40d2b9cbc38ad0e1f98e",
       "tabbable": null,
       "tooltip": null,
       "value": " 46/0 [00:04&lt;00:00, 14.99it/s]"
      }
     },
     "11227b58a4e6474389f4ffad24168545": {
      "model_module": "@jupyter-widgets/controls",
      "model_module_version": "2.0.0",
      "model_name": "HTMLModel",
      "state": {
       "_dom_classes": [],
       "_model_module": "@jupyter-widgets/controls",
       "_model_module_version": "2.0.0",
       "_model_name": "HTMLModel",
       "_view_count": null,
       "_view_module": "@jupyter-widgets/controls",
       "_view_module_version": "2.0.0",
       "_view_name": "HTMLView",
       "description": "",
       "description_allow_html": false,
       "layout": "IPY_MODEL_cf4247db86124bd69674bdf64e10b6e9",
       "placeholder": "​",
       "style": "IPY_MODEL_1a57eb3a0c56408d852a567bbd1362f8",
       "tabbable": null,
       "tooltip": null,
       "value": ""
      }
     },
     "115590a483d84d959e9872ac48e4f967": {
      "model_module": "@jupyter-widgets/base",
      "model_module_version": "2.0.0",
      "model_name": "LayoutModel",
      "state": {
       "_model_module": "@jupyter-widgets/base",
       "_model_module_version": "2.0.0",
       "_model_name": "LayoutModel",
       "_view_count": null,
       "_view_module": "@jupyter-widgets/base",
       "_view_module_version": "2.0.0",
       "_view_name": "LayoutView",
       "align_content": null,
       "align_items": null,
       "align_self": null,
       "border_bottom": null,
       "border_left": null,
       "border_right": null,
       "border_top": null,
       "bottom": null,
       "display": null,
       "flex": null,
       "flex_flow": null,
       "grid_area": null,
       "grid_auto_columns": null,
       "grid_auto_flow": null,
       "grid_auto_rows": null,
       "grid_column": null,
       "grid_gap": null,
       "grid_row": null,
       "grid_template_areas": null,
       "grid_template_columns": null,
       "grid_template_rows": null,
       "height": null,
       "justify_content": null,
       "justify_items": null,
       "left": null,
       "margin": null,
       "max_height": null,
       "max_width": null,
       "min_height": null,
       "min_width": null,
       "object_fit": null,
       "object_position": null,
       "order": null,
       "overflow": null,
       "padding": null,
       "right": null,
       "top": null,
       "visibility": null,
       "width": "20px"
      }
     },
     "11576bcabef34861971cbda3a0432ae3": {
      "model_module": "@jupyter-widgets/base",
      "model_module_version": "2.0.0",
      "model_name": "LayoutModel",
      "state": {
       "_model_module": "@jupyter-widgets/base",
       "_model_module_version": "2.0.0",
       "_model_name": "LayoutModel",
       "_view_count": null,
       "_view_module": "@jupyter-widgets/base",
       "_view_module_version": "2.0.0",
       "_view_name": "LayoutView",
       "align_content": null,
       "align_items": null,
       "align_self": null,
       "border_bottom": null,
       "border_left": null,
       "border_right": null,
       "border_top": null,
       "bottom": null,
       "display": null,
       "flex": null,
       "flex_flow": null,
       "grid_area": null,
       "grid_auto_columns": null,
       "grid_auto_flow": null,
       "grid_auto_rows": null,
       "grid_column": null,
       "grid_gap": null,
       "grid_row": null,
       "grid_template_areas": null,
       "grid_template_columns": null,
       "grid_template_rows": null,
       "height": null,
       "justify_content": null,
       "justify_items": null,
       "left": null,
       "margin": null,
       "max_height": null,
       "max_width": null,
       "min_height": null,
       "min_width": null,
       "object_fit": null,
       "object_position": null,
       "order": null,
       "overflow": null,
       "padding": null,
       "right": null,
       "top": null,
       "visibility": null,
       "width": null
      }
     },
     "1514f711dca44f70b8a6b36ad414d72b": {
      "model_module": "@jupyter-widgets/controls",
      "model_module_version": "2.0.0",
      "model_name": "HTMLModel",
      "state": {
       "_dom_classes": [],
       "_model_module": "@jupyter-widgets/controls",
       "_model_module_version": "2.0.0",
       "_model_name": "HTMLModel",
       "_view_count": null,
       "_view_module": "@jupyter-widgets/controls",
       "_view_module_version": "2.0.0",
       "_view_name": "HTMLView",
       "description": "",
       "description_allow_html": false,
       "layout": "IPY_MODEL_362e64f141ec44d38982e674817eb780",
       "placeholder": "​",
       "style": "IPY_MODEL_7b2169dc5e4a46b09e2a149872b46675",
       "tabbable": null,
       "tooltip": null,
       "value": " 4/0 [00:38&lt;00:00, 38.64s/it]"
      }
     },
     "15ac2842fffc4b6ebc6bb62bca950318": {
      "model_module": "@jupyter-widgets/controls",
      "model_module_version": "2.0.0",
      "model_name": "HTMLModel",
      "state": {
       "_dom_classes": [],
       "_model_module": "@jupyter-widgets/controls",
       "_model_module_version": "2.0.0",
       "_model_name": "HTMLModel",
       "_view_count": null,
       "_view_module": "@jupyter-widgets/controls",
       "_view_module_version": "2.0.0",
       "_view_name": "HTMLView",
       "description": "",
       "description_allow_html": false,
       "layout": "IPY_MODEL_ba4dcdf124cb43ca963b3996c48532cb",
       "placeholder": "​",
       "style": "IPY_MODEL_7aeab25fd6bf4626a9a148eef551b15a",
       "tabbable": null,
       "tooltip": null,
       "value": " 19/0 [00:02&lt;00:00,  9.67it/s]"
      }
     },
     "1a57eb3a0c56408d852a567bbd1362f8": {
      "model_module": "@jupyter-widgets/controls",
      "model_module_version": "2.0.0",
      "model_name": "HTMLStyleModel",
      "state": {
       "_model_module": "@jupyter-widgets/controls",
       "_model_module_version": "2.0.0",
       "_model_name": "HTMLStyleModel",
       "_view_count": null,
       "_view_module": "@jupyter-widgets/base",
       "_view_module_version": "2.0.0",
       "_view_name": "StyleView",
       "background": null,
       "description_width": "",
       "font_size": null,
       "text_color": null
      }
     },
     "1a9276c42f5f4a2e898a7a3194f967f3": {
      "model_module": "@jupyter-widgets/controls",
      "model_module_version": "2.0.0",
      "model_name": "HTMLStyleModel",
      "state": {
       "_model_module": "@jupyter-widgets/controls",
       "_model_module_version": "2.0.0",
       "_model_name": "HTMLStyleModel",
       "_view_count": null,
       "_view_module": "@jupyter-widgets/base",
       "_view_module_version": "2.0.0",
       "_view_name": "StyleView",
       "background": null,
       "description_width": "",
       "font_size": null,
       "text_color": null
      }
     },
     "1de1f479ddad4601a7ce3952bce69d8d": {
      "model_module": "@jupyter-widgets/controls",
      "model_module_version": "2.0.0",
      "model_name": "HTMLStyleModel",
      "state": {
       "_model_module": "@jupyter-widgets/controls",
       "_model_module_version": "2.0.0",
       "_model_name": "HTMLStyleModel",
       "_view_count": null,
       "_view_module": "@jupyter-widgets/base",
       "_view_module_version": "2.0.0",
       "_view_name": "StyleView",
       "background": null,
       "description_width": "",
       "font_size": null,
       "text_color": null
      }
     },
     "1e1c933eb2c1441e891dd75f7570196e": {
      "model_module": "@jupyter-widgets/controls",
      "model_module_version": "2.0.0",
      "model_name": "HTMLStyleModel",
      "state": {
       "_model_module": "@jupyter-widgets/controls",
       "_model_module_version": "2.0.0",
       "_model_name": "HTMLStyleModel",
       "_view_count": null,
       "_view_module": "@jupyter-widgets/base",
       "_view_module_version": "2.0.0",
       "_view_name": "StyleView",
       "background": null,
       "description_width": "",
       "font_size": null,
       "text_color": null
      }
     },
     "1e9372307b5c4740946379e7e669c7b4": {
      "model_module": "@jupyter-widgets/base",
      "model_module_version": "2.0.0",
      "model_name": "LayoutModel",
      "state": {
       "_model_module": "@jupyter-widgets/base",
       "_model_module_version": "2.0.0",
       "_model_name": "LayoutModel",
       "_view_count": null,
       "_view_module": "@jupyter-widgets/base",
       "_view_module_version": "2.0.0",
       "_view_name": "LayoutView",
       "align_content": null,
       "align_items": null,
       "align_self": null,
       "border_bottom": null,
       "border_left": null,
       "border_right": null,
       "border_top": null,
       "bottom": null,
       "display": null,
       "flex": null,
       "flex_flow": null,
       "grid_area": null,
       "grid_auto_columns": null,
       "grid_auto_flow": null,
       "grid_auto_rows": null,
       "grid_column": null,
       "grid_gap": null,
       "grid_row": null,
       "grid_template_areas": null,
       "grid_template_columns": null,
       "grid_template_rows": null,
       "height": null,
       "justify_content": null,
       "justify_items": null,
       "left": null,
       "margin": null,
       "max_height": null,
       "max_width": null,
       "min_height": null,
       "min_width": null,
       "object_fit": null,
       "object_position": null,
       "order": null,
       "overflow": null,
       "padding": null,
       "right": null,
       "top": null,
       "visibility": null,
       "width": "20px"
      }
     },
     "1ea763c6571b400ba2b680395350719e": {
      "model_module": "@jupyter-widgets/controls",
      "model_module_version": "2.0.0",
      "model_name": "HBoxModel",
      "state": {
       "_dom_classes": [],
       "_model_module": "@jupyter-widgets/controls",
       "_model_module_version": "2.0.0",
       "_model_name": "HBoxModel",
       "_view_count": null,
       "_view_module": "@jupyter-widgets/controls",
       "_view_module_version": "2.0.0",
       "_view_name": "HBoxView",
       "box_style": "",
       "children": [
        "IPY_MODEL_8f6b29dcdf624acbabde498947f80503",
        "IPY_MODEL_0d978dd86f084224bfa31accf3d57154",
        "IPY_MODEL_db91747675ab4518919f7f2af0255cdb"
       ],
       "layout": "IPY_MODEL_37a3cd3ae3b74a9db2a89f0120e550ba",
       "tabbable": null,
       "tooltip": null
      }
     },
     "1f5d719f6f9f4386ab0e8853ba709463": {
      "model_module": "@jupyter-widgets/base",
      "model_module_version": "2.0.0",
      "model_name": "LayoutModel",
      "state": {
       "_model_module": "@jupyter-widgets/base",
       "_model_module_version": "2.0.0",
       "_model_name": "LayoutModel",
       "_view_count": null,
       "_view_module": "@jupyter-widgets/base",
       "_view_module_version": "2.0.0",
       "_view_name": "LayoutView",
       "align_content": null,
       "align_items": null,
       "align_self": null,
       "border_bottom": null,
       "border_left": null,
       "border_right": null,
       "border_top": null,
       "bottom": null,
       "display": null,
       "flex": null,
       "flex_flow": null,
       "grid_area": null,
       "grid_auto_columns": null,
       "grid_auto_flow": null,
       "grid_auto_rows": null,
       "grid_column": null,
       "grid_gap": null,
       "grid_row": null,
       "grid_template_areas": null,
       "grid_template_columns": null,
       "grid_template_rows": null,
       "height": null,
       "justify_content": null,
       "justify_items": null,
       "left": null,
       "margin": null,
       "max_height": null,
       "max_width": null,
       "min_height": null,
       "min_width": null,
       "object_fit": null,
       "object_position": null,
       "order": null,
       "overflow": null,
       "padding": null,
       "right": null,
       "top": null,
       "visibility": null,
       "width": null
      }
     },
     "211e70d83b654eecbe279c0d4c369bac": {
      "model_module": "@jupyter-widgets/controls",
      "model_module_version": "2.0.0",
      "model_name": "HTMLModel",
      "state": {
       "_dom_classes": [],
       "_model_module": "@jupyter-widgets/controls",
       "_model_module_version": "2.0.0",
       "_model_name": "HTMLModel",
       "_view_count": null,
       "_view_module": "@jupyter-widgets/controls",
       "_view_module_version": "2.0.0",
       "_view_name": "HTMLView",
       "description": "",
       "description_allow_html": false,
       "layout": "IPY_MODEL_befcbf88099e4ce2956f0af50c915007",
       "placeholder": "​",
       "style": "IPY_MODEL_cd38c86c006840c684476c1f91cd88dc",
       "tabbable": null,
       "tooltip": null,
       "value": ""
      }
     },
     "2127ac1908a44e9d916fe8a2aa5f1dcd": {
      "model_module": "@jupyter-widgets/base",
      "model_module_version": "2.0.0",
      "model_name": "LayoutModel",
      "state": {
       "_model_module": "@jupyter-widgets/base",
       "_model_module_version": "2.0.0",
       "_model_name": "LayoutModel",
       "_view_count": null,
       "_view_module": "@jupyter-widgets/base",
       "_view_module_version": "2.0.0",
       "_view_name": "LayoutView",
       "align_content": null,
       "align_items": null,
       "align_self": null,
       "border_bottom": null,
       "border_left": null,
       "border_right": null,
       "border_top": null,
       "bottom": null,
       "display": null,
       "flex": null,
       "flex_flow": null,
       "grid_area": null,
       "grid_auto_columns": null,
       "grid_auto_flow": null,
       "grid_auto_rows": null,
       "grid_column": null,
       "grid_gap": null,
       "grid_row": null,
       "grid_template_areas": null,
       "grid_template_columns": null,
       "grid_template_rows": null,
       "height": null,
       "justify_content": null,
       "justify_items": null,
       "left": null,
       "margin": null,
       "max_height": null,
       "max_width": null,
       "min_height": null,
       "min_width": null,
       "object_fit": null,
       "object_position": null,
       "order": null,
       "overflow": null,
       "padding": null,
       "right": null,
       "top": null,
       "visibility": null,
       "width": null
      }
     },
     "224bf840fc8d422fb04c754e7388267e": {
      "model_module": "@jupyter-widgets/controls",
      "model_module_version": "2.0.0",
      "model_name": "FloatProgressModel",
      "state": {
       "_dom_classes": [],
       "_model_module": "@jupyter-widgets/controls",
       "_model_module_version": "2.0.0",
       "_model_name": "FloatProgressModel",
       "_view_count": null,
       "_view_module": "@jupyter-widgets/controls",
       "_view_module_version": "2.0.0",
       "_view_name": "ProgressView",
       "bar_style": "success",
       "description": "",
       "description_allow_html": false,
       "layout": "IPY_MODEL_4f77c33f4674485ba6ea80589b187937",
       "max": 1.0,
       "min": 0.0,
       "orientation": "horizontal",
       "style": "IPY_MODEL_798ce9f301814e27babd46b2d476ef62",
       "tabbable": null,
       "tooltip": null,
       "value": 1.0
      }
     },
     "236eb4be83504bd9b9616f07cc06b182": {
      "model_module": "@jupyter-widgets/controls",
      "model_module_version": "2.0.0",
      "model_name": "FloatProgressModel",
      "state": {
       "_dom_classes": [],
       "_model_module": "@jupyter-widgets/controls",
       "_model_module_version": "2.0.0",
       "_model_name": "FloatProgressModel",
       "_view_count": null,
       "_view_module": "@jupyter-widgets/controls",
       "_view_module_version": "2.0.0",
       "_view_name": "ProgressView",
       "bar_style": "success",
       "description": "",
       "description_allow_html": false,
       "layout": "IPY_MODEL_115590a483d84d959e9872ac48e4f967",
       "max": 1.0,
       "min": 0.0,
       "orientation": "horizontal",
       "style": "IPY_MODEL_589839d161154f0783dd41dcc601ebd7",
       "tabbable": null,
       "tooltip": null,
       "value": 1.0
      }
     },
     "27a1ef890a1e459a9d1a75dc5efbb26c": {
      "model_module": "@jupyter-widgets/controls",
      "model_module_version": "2.0.0",
      "model_name": "HBoxModel",
      "state": {
       "_dom_classes": [],
       "_model_module": "@jupyter-widgets/controls",
       "_model_module_version": "2.0.0",
       "_model_name": "HBoxModel",
       "_view_count": null,
       "_view_module": "@jupyter-widgets/controls",
       "_view_module_version": "2.0.0",
       "_view_name": "HBoxView",
       "box_style": "",
       "children": [
        "IPY_MODEL_211e70d83b654eecbe279c0d4c369bac",
        "IPY_MODEL_2dfe99ba14b14f84858555d5042decd6",
        "IPY_MODEL_0f31adb6fa724868add4d4901295962b"
       ],
       "layout": "IPY_MODEL_622b170286b34e0099720f01f1e87fd4",
       "tabbable": null,
       "tooltip": null
      }
     },
     "28596304c2304fdd93369892241b5eb6": {
      "model_module": "@jupyter-widgets/controls",
      "model_module_version": "2.0.0",
      "model_name": "HTMLModel",
      "state": {
       "_dom_classes": [],
       "_model_module": "@jupyter-widgets/controls",
       "_model_module_version": "2.0.0",
       "_model_name": "HTMLModel",
       "_view_count": null,
       "_view_module": "@jupyter-widgets/controls",
       "_view_module_version": "2.0.0",
       "_view_name": "HTMLView",
       "description": "",
       "description_allow_html": false,
       "layout": "IPY_MODEL_2127ac1908a44e9d916fe8a2aa5f1dcd",
       "placeholder": "​",
       "style": "IPY_MODEL_eb7bfe4d4cd644a0958fc01ea3b1b26e",
       "tabbable": null,
       "tooltip": null,
       "value": " 15/0 [00:01&lt;00:00,  8.34it/s]"
      }
     },
     "29cfaeefb772400badea7abda71fe4ec": {
      "model_module": "@jupyter-widgets/controls",
      "model_module_version": "2.0.0",
      "model_name": "HTMLModel",
      "state": {
       "_dom_classes": [],
       "_model_module": "@jupyter-widgets/controls",
       "_model_module_version": "2.0.0",
       "_model_name": "HTMLModel",
       "_view_count": null,
       "_view_module": "@jupyter-widgets/controls",
       "_view_module_version": "2.0.0",
       "_view_name": "HTMLView",
       "description": "",
       "description_allow_html": false,
       "layout": "IPY_MODEL_cb29dc2535f540e494944d5b08d7e107",
       "placeholder": "​",
       "style": "IPY_MODEL_b4aabbd60baf40618add548a4b5d162a",
       "tabbable": null,
       "tooltip": null,
       "value": " 16/0 [00:01&lt;00:00,  9.26it/s]"
      }
     },
     "2d617b04db1f47de8a598e78c77e8849": {
      "model_module": "@jupyter-widgets/controls",
      "model_module_version": "2.0.0",
      "model_name": "HTMLModel",
      "state": {
       "_dom_classes": [],
       "_model_module": "@jupyter-widgets/controls",
       "_model_module_version": "2.0.0",
       "_model_name": "HTMLModel",
       "_view_count": null,
       "_view_module": "@jupyter-widgets/controls",
       "_view_module_version": "2.0.0",
       "_view_name": "HTMLView",
       "description": "",
       "description_allow_html": false,
       "layout": "IPY_MODEL_ea6f86f200fa4733bec6ef995d475514",
       "placeholder": "​",
       "style": "IPY_MODEL_d38ac6f5453c412489841a9a68bb5f7b",
       "tabbable": null,
       "tooltip": null,
       "value": " 4/0 [00:00&lt;00:00,  1.93it/s]"
      }
     },
     "2dfe99ba14b14f84858555d5042decd6": {
      "model_module": "@jupyter-widgets/controls",
      "model_module_version": "2.0.0",
      "model_name": "FloatProgressModel",
      "state": {
       "_dom_classes": [],
       "_model_module": "@jupyter-widgets/controls",
       "_model_module_version": "2.0.0",
       "_model_name": "FloatProgressModel",
       "_view_count": null,
       "_view_module": "@jupyter-widgets/controls",
       "_view_module_version": "2.0.0",
       "_view_name": "ProgressView",
       "bar_style": "success",
       "description": "",
       "description_allow_html": false,
       "layout": "IPY_MODEL_76935af14a5f4f80b2e7ded1018158b2",
       "max": 1.0,
       "min": 0.0,
       "orientation": "horizontal",
       "style": "IPY_MODEL_6cd487945f2344fe8490af9787d62519",
       "tabbable": null,
       "tooltip": null,
       "value": 1.0
      }
     },
     "362e64f141ec44d38982e674817eb780": {
      "model_module": "@jupyter-widgets/base",
      "model_module_version": "2.0.0",
      "model_name": "LayoutModel",
      "state": {
       "_model_module": "@jupyter-widgets/base",
       "_model_module_version": "2.0.0",
       "_model_name": "LayoutModel",
       "_view_count": null,
       "_view_module": "@jupyter-widgets/base",
       "_view_module_version": "2.0.0",
       "_view_name": "LayoutView",
       "align_content": null,
       "align_items": null,
       "align_self": null,
       "border_bottom": null,
       "border_left": null,
       "border_right": null,
       "border_top": null,
       "bottom": null,
       "display": null,
       "flex": null,
       "flex_flow": null,
       "grid_area": null,
       "grid_auto_columns": null,
       "grid_auto_flow": null,
       "grid_auto_rows": null,
       "grid_column": null,
       "grid_gap": null,
       "grid_row": null,
       "grid_template_areas": null,
       "grid_template_columns": null,
       "grid_template_rows": null,
       "height": null,
       "justify_content": null,
       "justify_items": null,
       "left": null,
       "margin": null,
       "max_height": null,
       "max_width": null,
       "min_height": null,
       "min_width": null,
       "object_fit": null,
       "object_position": null,
       "order": null,
       "overflow": null,
       "padding": null,
       "right": null,
       "top": null,
       "visibility": null,
       "width": null
      }
     },
     "371a2fa1c5e04f498f28eeb1493f18e5": {
      "model_module": "@jupyter-widgets/controls",
      "model_module_version": "2.0.0",
      "model_name": "HTMLModel",
      "state": {
       "_dom_classes": [],
       "_model_module": "@jupyter-widgets/controls",
       "_model_module_version": "2.0.0",
       "_model_name": "HTMLModel",
       "_view_count": null,
       "_view_module": "@jupyter-widgets/controls",
       "_view_module_version": "2.0.0",
       "_view_name": "HTMLView",
       "description": "",
       "description_allow_html": false,
       "layout": "IPY_MODEL_d92d2c5a354642059cebd04dfcf64994",
       "placeholder": "​",
       "style": "IPY_MODEL_94b1214ff1bc4aff813fb648ab8a768b",
       "tabbable": null,
       "tooltip": null,
       "value": ""
      }
     },
     "37a3cd3ae3b74a9db2a89f0120e550ba": {
      "model_module": "@jupyter-widgets/base",
      "model_module_version": "2.0.0",
      "model_name": "LayoutModel",
      "state": {
       "_model_module": "@jupyter-widgets/base",
       "_model_module_version": "2.0.0",
       "_model_name": "LayoutModel",
       "_view_count": null,
       "_view_module": "@jupyter-widgets/base",
       "_view_module_version": "2.0.0",
       "_view_name": "LayoutView",
       "align_content": null,
       "align_items": null,
       "align_self": null,
       "border_bottom": null,
       "border_left": null,
       "border_right": null,
       "border_top": null,
       "bottom": null,
       "display": null,
       "flex": null,
       "flex_flow": null,
       "grid_area": null,
       "grid_auto_columns": null,
       "grid_auto_flow": null,
       "grid_auto_rows": null,
       "grid_column": null,
       "grid_gap": null,
       "grid_row": null,
       "grid_template_areas": null,
       "grid_template_columns": null,
       "grid_template_rows": null,
       "height": null,
       "justify_content": null,
       "justify_items": null,
       "left": null,
       "margin": null,
       "max_height": null,
       "max_width": null,
       "min_height": null,
       "min_width": null,
       "object_fit": null,
       "object_position": null,
       "order": null,
       "overflow": null,
       "padding": null,
       "right": null,
       "top": null,
       "visibility": null,
       "width": null
      }
     },
     "3d13a1bab94d4fdbad59866a70dd322c": {
      "model_module": "@jupyter-widgets/base",
      "model_module_version": "2.0.0",
      "model_name": "LayoutModel",
      "state": {
       "_model_module": "@jupyter-widgets/base",
       "_model_module_version": "2.0.0",
       "_model_name": "LayoutModel",
       "_view_count": null,
       "_view_module": "@jupyter-widgets/base",
       "_view_module_version": "2.0.0",
       "_view_name": "LayoutView",
       "align_content": null,
       "align_items": null,
       "align_self": null,
       "border_bottom": null,
       "border_left": null,
       "border_right": null,
       "border_top": null,
       "bottom": null,
       "display": null,
       "flex": null,
       "flex_flow": null,
       "grid_area": null,
       "grid_auto_columns": null,
       "grid_auto_flow": null,
       "grid_auto_rows": null,
       "grid_column": null,
       "grid_gap": null,
       "grid_row": null,
       "grid_template_areas": null,
       "grid_template_columns": null,
       "grid_template_rows": null,
       "height": null,
       "justify_content": null,
       "justify_items": null,
       "left": null,
       "margin": null,
       "max_height": null,
       "max_width": null,
       "min_height": null,
       "min_width": null,
       "object_fit": null,
       "object_position": null,
       "order": null,
       "overflow": null,
       "padding": null,
       "right": null,
       "top": null,
       "visibility": null,
       "width": null
      }
     },
     "3e089cf6e3df480ea819fdff22c4addb": {
      "model_module": "@jupyter-widgets/controls",
      "model_module_version": "2.0.0",
      "model_name": "ProgressStyleModel",
      "state": {
       "_model_module": "@jupyter-widgets/controls",
       "_model_module_version": "2.0.0",
       "_model_name": "ProgressStyleModel",
       "_view_count": null,
       "_view_module": "@jupyter-widgets/base",
       "_view_module_version": "2.0.0",
       "_view_name": "StyleView",
       "bar_color": null,
       "description_width": ""
      }
     },
     "40594d5f95e44ad686f267ffee3a6fb0": {
      "model_module": "@jupyter-widgets/controls",
      "model_module_version": "2.0.0",
      "model_name": "HBoxModel",
      "state": {
       "_dom_classes": [],
       "_model_module": "@jupyter-widgets/controls",
       "_model_module_version": "2.0.0",
       "_model_name": "HBoxModel",
       "_view_count": null,
       "_view_module": "@jupyter-widgets/controls",
       "_view_module_version": "2.0.0",
       "_view_name": "HBoxView",
       "box_style": "",
       "children": [
        "IPY_MODEL_78f05f78f5ee48c39632ba91d4e4ec97",
        "IPY_MODEL_561bb0792136478bafd74783177b1462",
        "IPY_MODEL_29cfaeefb772400badea7abda71fe4ec"
       ],
       "layout": "IPY_MODEL_11576bcabef34861971cbda3a0432ae3",
       "tabbable": null,
       "tooltip": null
      }
     },
     "43808dfe5a8b4a48af5ac60ea378e30f": {
      "model_module": "@jupyter-widgets/base",
      "model_module_version": "2.0.0",
      "model_name": "LayoutModel",
      "state": {
       "_model_module": "@jupyter-widgets/base",
       "_model_module_version": "2.0.0",
       "_model_name": "LayoutModel",
       "_view_count": null,
       "_view_module": "@jupyter-widgets/base",
       "_view_module_version": "2.0.0",
       "_view_name": "LayoutView",
       "align_content": null,
       "align_items": null,
       "align_self": null,
       "border_bottom": null,
       "border_left": null,
       "border_right": null,
       "border_top": null,
       "bottom": null,
       "display": null,
       "flex": null,
       "flex_flow": null,
       "grid_area": null,
       "grid_auto_columns": null,
       "grid_auto_flow": null,
       "grid_auto_rows": null,
       "grid_column": null,
       "grid_gap": null,
       "grid_row": null,
       "grid_template_areas": null,
       "grid_template_columns": null,
       "grid_template_rows": null,
       "height": null,
       "justify_content": null,
       "justify_items": null,
       "left": null,
       "margin": null,
       "max_height": null,
       "max_width": null,
       "min_height": null,
       "min_width": null,
       "object_fit": null,
       "object_position": null,
       "order": null,
       "overflow": null,
       "padding": null,
       "right": null,
       "top": null,
       "visibility": null,
       "width": "20px"
      }
     },
     "456beaaa996346c5ab006a4607da1ae0": {
      "model_module": "@jupyter-widgets/controls",
      "model_module_version": "2.0.0",
      "model_name": "FloatProgressModel",
      "state": {
       "_dom_classes": [],
       "_model_module": "@jupyter-widgets/controls",
       "_model_module_version": "2.0.0",
       "_model_name": "FloatProgressModel",
       "_view_count": null,
       "_view_module": "@jupyter-widgets/controls",
       "_view_module_version": "2.0.0",
       "_view_name": "ProgressView",
       "bar_style": "success",
       "description": "",
       "description_allow_html": false,
       "layout": "IPY_MODEL_0c9140f4a6194e928a95b89acf2ba8ba",
       "max": 1.0,
       "min": 0.0,
       "orientation": "horizontal",
       "style": "IPY_MODEL_7ea90fe5d03a4cd097fb2abd67c9f98c",
       "tabbable": null,
       "tooltip": null,
       "value": 1.0
      }
     },
     "477eee2fb5eb4526a38b1a28952e34fe": {
      "model_module": "@jupyter-widgets/base",
      "model_module_version": "2.0.0",
      "model_name": "LayoutModel",
      "state": {
       "_model_module": "@jupyter-widgets/base",
       "_model_module_version": "2.0.0",
       "_model_name": "LayoutModel",
       "_view_count": null,
       "_view_module": "@jupyter-widgets/base",
       "_view_module_version": "2.0.0",
       "_view_name": "LayoutView",
       "align_content": null,
       "align_items": null,
       "align_self": null,
       "border_bottom": null,
       "border_left": null,
       "border_right": null,
       "border_top": null,
       "bottom": null,
       "display": null,
       "flex": null,
       "flex_flow": null,
       "grid_area": null,
       "grid_auto_columns": null,
       "grid_auto_flow": null,
       "grid_auto_rows": null,
       "grid_column": null,
       "grid_gap": null,
       "grid_row": null,
       "grid_template_areas": null,
       "grid_template_columns": null,
       "grid_template_rows": null,
       "height": null,
       "justify_content": null,
       "justify_items": null,
       "left": null,
       "margin": null,
       "max_height": null,
       "max_width": null,
       "min_height": null,
       "min_width": null,
       "object_fit": null,
       "object_position": null,
       "order": null,
       "overflow": null,
       "padding": null,
       "right": null,
       "top": null,
       "visibility": null,
       "width": null
      }
     },
     "480d2fd3d3e44b88a80b20f036bbf424": {
      "model_module": "@jupyter-widgets/controls",
      "model_module_version": "2.0.0",
      "model_name": "HTMLStyleModel",
      "state": {
       "_model_module": "@jupyter-widgets/controls",
       "_model_module_version": "2.0.0",
       "_model_name": "HTMLStyleModel",
       "_view_count": null,
       "_view_module": "@jupyter-widgets/base",
       "_view_module_version": "2.0.0",
       "_view_name": "StyleView",
       "background": null,
       "description_width": "",
       "font_size": null,
       "text_color": null
      }
     },
     "4f77c33f4674485ba6ea80589b187937": {
      "model_module": "@jupyter-widgets/base",
      "model_module_version": "2.0.0",
      "model_name": "LayoutModel",
      "state": {
       "_model_module": "@jupyter-widgets/base",
       "_model_module_version": "2.0.0",
       "_model_name": "LayoutModel",
       "_view_count": null,
       "_view_module": "@jupyter-widgets/base",
       "_view_module_version": "2.0.0",
       "_view_name": "LayoutView",
       "align_content": null,
       "align_items": null,
       "align_self": null,
       "border_bottom": null,
       "border_left": null,
       "border_right": null,
       "border_top": null,
       "bottom": null,
       "display": null,
       "flex": null,
       "flex_flow": null,
       "grid_area": null,
       "grid_auto_columns": null,
       "grid_auto_flow": null,
       "grid_auto_rows": null,
       "grid_column": null,
       "grid_gap": null,
       "grid_row": null,
       "grid_template_areas": null,
       "grid_template_columns": null,
       "grid_template_rows": null,
       "height": null,
       "justify_content": null,
       "justify_items": null,
       "left": null,
       "margin": null,
       "max_height": null,
       "max_width": null,
       "min_height": null,
       "min_width": null,
       "object_fit": null,
       "object_position": null,
       "order": null,
       "overflow": null,
       "padding": null,
       "right": null,
       "top": null,
       "visibility": null,
       "width": "20px"
      }
     },
     "526411d0686c471aa779d201ad38f390": {
      "model_module": "@jupyter-widgets/controls",
      "model_module_version": "2.0.0",
      "model_name": "HBoxModel",
      "state": {
       "_dom_classes": [],
       "_model_module": "@jupyter-widgets/controls",
       "_model_module_version": "2.0.0",
       "_model_name": "HBoxModel",
       "_view_count": null,
       "_view_module": "@jupyter-widgets/controls",
       "_view_module_version": "2.0.0",
       "_view_name": "HBoxView",
       "box_style": "",
       "children": [
        "IPY_MODEL_5d87b6b601a34c099d6d452dad0712b6",
        "IPY_MODEL_9b666ac3d60848bb8d23439eef0a3ce2",
        "IPY_MODEL_1514f711dca44f70b8a6b36ad414d72b"
       ],
       "layout": "IPY_MODEL_b1a6ac3de190466c9899678717156584",
       "tabbable": null,
       "tooltip": null
      }
     },
     "53d979c8e6064fee8d101d2554803cbd": {
      "model_module": "@jupyter-widgets/controls",
      "model_module_version": "2.0.0",
      "model_name": "HBoxModel",
      "state": {
       "_dom_classes": [],
       "_model_module": "@jupyter-widgets/controls",
       "_model_module_version": "2.0.0",
       "_model_name": "HBoxModel",
       "_view_count": null,
       "_view_module": "@jupyter-widgets/controls",
       "_view_module_version": "2.0.0",
       "_view_name": "HBoxView",
       "box_style": "",
       "children": [
        "IPY_MODEL_5ad0af2490d2404d91da7e517841b0f8",
        "IPY_MODEL_de8807a1eb1c4c2fb5259e1af04d52c4",
        "IPY_MODEL_2d617b04db1f47de8a598e78c77e8849"
       ],
       "layout": "IPY_MODEL_5f56d584b78a41abafadd377e0c4d411",
       "tabbable": null,
       "tooltip": null
      }
     },
     "54425d8a6da24422a2fb727720e6d06d": {
      "model_module": "@jupyter-widgets/base",
      "model_module_version": "2.0.0",
      "model_name": "LayoutModel",
      "state": {
       "_model_module": "@jupyter-widgets/base",
       "_model_module_version": "2.0.0",
       "_model_name": "LayoutModel",
       "_view_count": null,
       "_view_module": "@jupyter-widgets/base",
       "_view_module_version": "2.0.0",
       "_view_name": "LayoutView",
       "align_content": null,
       "align_items": null,
       "align_self": null,
       "border_bottom": null,
       "border_left": null,
       "border_right": null,
       "border_top": null,
       "bottom": null,
       "display": null,
       "flex": null,
       "flex_flow": null,
       "grid_area": null,
       "grid_auto_columns": null,
       "grid_auto_flow": null,
       "grid_auto_rows": null,
       "grid_column": null,
       "grid_gap": null,
       "grid_row": null,
       "grid_template_areas": null,
       "grid_template_columns": null,
       "grid_template_rows": null,
       "height": null,
       "justify_content": null,
       "justify_items": null,
       "left": null,
       "margin": null,
       "max_height": null,
       "max_width": null,
       "min_height": null,
       "min_width": null,
       "object_fit": null,
       "object_position": null,
       "order": null,
       "overflow": null,
       "padding": null,
       "right": null,
       "top": null,
       "visibility": null,
       "width": null
      }
     },
     "561bb0792136478bafd74783177b1462": {
      "model_module": "@jupyter-widgets/controls",
      "model_module_version": "2.0.0",
      "model_name": "FloatProgressModel",
      "state": {
       "_dom_classes": [],
       "_model_module": "@jupyter-widgets/controls",
       "_model_module_version": "2.0.0",
       "_model_name": "FloatProgressModel",
       "_view_count": null,
       "_view_module": "@jupyter-widgets/controls",
       "_view_module_version": "2.0.0",
       "_view_name": "ProgressView",
       "bar_style": "success",
       "description": "",
       "description_allow_html": false,
       "layout": "IPY_MODEL_43808dfe5a8b4a48af5ac60ea378e30f",
       "max": 1.0,
       "min": 0.0,
       "orientation": "horizontal",
       "style": "IPY_MODEL_d965dd2f67994c0ebb70bc285b8b1c06",
       "tabbable": null,
       "tooltip": null,
       "value": 1.0
      }
     },
     "5816376fc40144a0868586bf7441f808": {
      "model_module": "@jupyter-widgets/controls",
      "model_module_version": "2.0.0",
      "model_name": "ProgressStyleModel",
      "state": {
       "_model_module": "@jupyter-widgets/controls",
       "_model_module_version": "2.0.0",
       "_model_name": "ProgressStyleModel",
       "_view_count": null,
       "_view_module": "@jupyter-widgets/base",
       "_view_module_version": "2.0.0",
       "_view_name": "StyleView",
       "bar_color": null,
       "description_width": ""
      }
     },
     "589839d161154f0783dd41dcc601ebd7": {
      "model_module": "@jupyter-widgets/controls",
      "model_module_version": "2.0.0",
      "model_name": "ProgressStyleModel",
      "state": {
       "_model_module": "@jupyter-widgets/controls",
       "_model_module_version": "2.0.0",
       "_model_name": "ProgressStyleModel",
       "_view_count": null,
       "_view_module": "@jupyter-widgets/base",
       "_view_module_version": "2.0.0",
       "_view_name": "StyleView",
       "bar_color": null,
       "description_width": ""
      }
     },
     "5ad0af2490d2404d91da7e517841b0f8": {
      "model_module": "@jupyter-widgets/controls",
      "model_module_version": "2.0.0",
      "model_name": "HTMLModel",
      "state": {
       "_dom_classes": [],
       "_model_module": "@jupyter-widgets/controls",
       "_model_module_version": "2.0.0",
       "_model_name": "HTMLModel",
       "_view_count": null,
       "_view_module": "@jupyter-widgets/controls",
       "_view_module_version": "2.0.0",
       "_view_name": "HTMLView",
       "description": "",
       "description_allow_html": false,
       "layout": "IPY_MODEL_54425d8a6da24422a2fb727720e6d06d",
       "placeholder": "​",
       "style": "IPY_MODEL_480d2fd3d3e44b88a80b20f036bbf424",
       "tabbable": null,
       "tooltip": null,
       "value": ""
      }
     },
     "5c139e58f7ff40d2b9cbc38ad0e1f98e": {
      "model_module": "@jupyter-widgets/controls",
      "model_module_version": "2.0.0",
      "model_name": "HTMLStyleModel",
      "state": {
       "_model_module": "@jupyter-widgets/controls",
       "_model_module_version": "2.0.0",
       "_model_name": "HTMLStyleModel",
       "_view_count": null,
       "_view_module": "@jupyter-widgets/base",
       "_view_module_version": "2.0.0",
       "_view_name": "StyleView",
       "background": null,
       "description_width": "",
       "font_size": null,
       "text_color": null
      }
     },
     "5d87b6b601a34c099d6d452dad0712b6": {
      "model_module": "@jupyter-widgets/controls",
      "model_module_version": "2.0.0",
      "model_name": "HTMLModel",
      "state": {
       "_dom_classes": [],
       "_model_module": "@jupyter-widgets/controls",
       "_model_module_version": "2.0.0",
       "_model_name": "HTMLModel",
       "_view_count": null,
       "_view_module": "@jupyter-widgets/controls",
       "_view_module_version": "2.0.0",
       "_view_name": "HTMLView",
       "description": "",
       "description_allow_html": false,
       "layout": "IPY_MODEL_0d0eab9f06084136bf8d10c0b9f01467",
       "placeholder": "​",
       "style": "IPY_MODEL_ccaab87340f54a799a8ac51a67da3e69",
       "tabbable": null,
       "tooltip": null,
       "value": ""
      }
     },
     "5f56d584b78a41abafadd377e0c4d411": {
      "model_module": "@jupyter-widgets/base",
      "model_module_version": "2.0.0",
      "model_name": "LayoutModel",
      "state": {
       "_model_module": "@jupyter-widgets/base",
       "_model_module_version": "2.0.0",
       "_model_name": "LayoutModel",
       "_view_count": null,
       "_view_module": "@jupyter-widgets/base",
       "_view_module_version": "2.0.0",
       "_view_name": "LayoutView",
       "align_content": null,
       "align_items": null,
       "align_self": null,
       "border_bottom": null,
       "border_left": null,
       "border_right": null,
       "border_top": null,
       "bottom": null,
       "display": null,
       "flex": null,
       "flex_flow": null,
       "grid_area": null,
       "grid_auto_columns": null,
       "grid_auto_flow": null,
       "grid_auto_rows": null,
       "grid_column": null,
       "grid_gap": null,
       "grid_row": null,
       "grid_template_areas": null,
       "grid_template_columns": null,
       "grid_template_rows": null,
       "height": null,
       "justify_content": null,
       "justify_items": null,
       "left": null,
       "margin": null,
       "max_height": null,
       "max_width": null,
       "min_height": null,
       "min_width": null,
       "object_fit": null,
       "object_position": null,
       "order": null,
       "overflow": null,
       "padding": null,
       "right": null,
       "top": null,
       "visibility": null,
       "width": null
      }
     },
     "622b170286b34e0099720f01f1e87fd4": {
      "model_module": "@jupyter-widgets/base",
      "model_module_version": "2.0.0",
      "model_name": "LayoutModel",
      "state": {
       "_model_module": "@jupyter-widgets/base",
       "_model_module_version": "2.0.0",
       "_model_name": "LayoutModel",
       "_view_count": null,
       "_view_module": "@jupyter-widgets/base",
       "_view_module_version": "2.0.0",
       "_view_name": "LayoutView",
       "align_content": null,
       "align_items": null,
       "align_self": null,
       "border_bottom": null,
       "border_left": null,
       "border_right": null,
       "border_top": null,
       "bottom": null,
       "display": null,
       "flex": null,
       "flex_flow": null,
       "grid_area": null,
       "grid_auto_columns": null,
       "grid_auto_flow": null,
       "grid_auto_rows": null,
       "grid_column": null,
       "grid_gap": null,
       "grid_row": null,
       "grid_template_areas": null,
       "grid_template_columns": null,
       "grid_template_rows": null,
       "height": null,
       "justify_content": null,
       "justify_items": null,
       "left": null,
       "margin": null,
       "max_height": null,
       "max_width": null,
       "min_height": null,
       "min_width": null,
       "object_fit": null,
       "object_position": null,
       "order": null,
       "overflow": null,
       "padding": null,
       "right": null,
       "top": null,
       "visibility": null,
       "width": null
      }
     },
     "647f468a352546d187bfc8a099134eff": {
      "model_module": "@jupyter-widgets/controls",
      "model_module_version": "2.0.0",
      "model_name": "HTMLModel",
      "state": {
       "_dom_classes": [],
       "_model_module": "@jupyter-widgets/controls",
       "_model_module_version": "2.0.0",
       "_model_name": "HTMLModel",
       "_view_count": null,
       "_view_module": "@jupyter-widgets/controls",
       "_view_module_version": "2.0.0",
       "_view_name": "HTMLView",
       "description": "",
       "description_allow_html": false,
       "layout": "IPY_MODEL_838cc39e45c643b89fbae8710d8251d0",
       "placeholder": "​",
       "style": "IPY_MODEL_9959a454f7a74876aefe471a4466f18c",
       "tabbable": null,
       "tooltip": null,
       "value": " 43/0 [00:05&lt;00:00, 10.26it/s]"
      }
     },
     "67bde0b928fa44b39827521519533420": {
      "model_module": "@jupyter-widgets/base",
      "model_module_version": "2.0.0",
      "model_name": "LayoutModel",
      "state": {
       "_model_module": "@jupyter-widgets/base",
       "_model_module_version": "2.0.0",
       "_model_name": "LayoutModel",
       "_view_count": null,
       "_view_module": "@jupyter-widgets/base",
       "_view_module_version": "2.0.0",
       "_view_name": "LayoutView",
       "align_content": null,
       "align_items": null,
       "align_self": null,
       "border_bottom": null,
       "border_left": null,
       "border_right": null,
       "border_top": null,
       "bottom": null,
       "display": null,
       "flex": null,
       "flex_flow": null,
       "grid_area": null,
       "grid_auto_columns": null,
       "grid_auto_flow": null,
       "grid_auto_rows": null,
       "grid_column": null,
       "grid_gap": null,
       "grid_row": null,
       "grid_template_areas": null,
       "grid_template_columns": null,
       "grid_template_rows": null,
       "height": null,
       "justify_content": null,
       "justify_items": null,
       "left": null,
       "margin": null,
       "max_height": null,
       "max_width": null,
       "min_height": null,
       "min_width": null,
       "object_fit": null,
       "object_position": null,
       "order": null,
       "overflow": null,
       "padding": null,
       "right": null,
       "top": null,
       "visibility": null,
       "width": null
      }
     },
     "6cd487945f2344fe8490af9787d62519": {
      "model_module": "@jupyter-widgets/controls",
      "model_module_version": "2.0.0",
      "model_name": "ProgressStyleModel",
      "state": {
       "_model_module": "@jupyter-widgets/controls",
       "_model_module_version": "2.0.0",
       "_model_name": "ProgressStyleModel",
       "_view_count": null,
       "_view_module": "@jupyter-widgets/base",
       "_view_module_version": "2.0.0",
       "_view_name": "StyleView",
       "bar_color": null,
       "description_width": ""
      }
     },
     "718f7b3f08d94ca990c9409c3cb5b1f1": {
      "model_module": "@jupyter-widgets/base",
      "model_module_version": "2.0.0",
      "model_name": "LayoutModel",
      "state": {
       "_model_module": "@jupyter-widgets/base",
       "_model_module_version": "2.0.0",
       "_model_name": "LayoutModel",
       "_view_count": null,
       "_view_module": "@jupyter-widgets/base",
       "_view_module_version": "2.0.0",
       "_view_name": "LayoutView",
       "align_content": null,
       "align_items": null,
       "align_self": null,
       "border_bottom": null,
       "border_left": null,
       "border_right": null,
       "border_top": null,
       "bottom": null,
       "display": null,
       "flex": null,
       "flex_flow": null,
       "grid_area": null,
       "grid_auto_columns": null,
       "grid_auto_flow": null,
       "grid_auto_rows": null,
       "grid_column": null,
       "grid_gap": null,
       "grid_row": null,
       "grid_template_areas": null,
       "grid_template_columns": null,
       "grid_template_rows": null,
       "height": null,
       "justify_content": null,
       "justify_items": null,
       "left": null,
       "margin": null,
       "max_height": null,
       "max_width": null,
       "min_height": null,
       "min_width": null,
       "object_fit": null,
       "object_position": null,
       "order": null,
       "overflow": null,
       "padding": null,
       "right": null,
       "top": null,
       "visibility": null,
       "width": null
      }
     },
     "727baaf79a434c849f90fdd154cb4e6a": {
      "model_module": "@jupyter-widgets/base",
      "model_module_version": "2.0.0",
      "model_name": "LayoutModel",
      "state": {
       "_model_module": "@jupyter-widgets/base",
       "_model_module_version": "2.0.0",
       "_model_name": "LayoutModel",
       "_view_count": null,
       "_view_module": "@jupyter-widgets/base",
       "_view_module_version": "2.0.0",
       "_view_name": "LayoutView",
       "align_content": null,
       "align_items": null,
       "align_self": null,
       "border_bottom": null,
       "border_left": null,
       "border_right": null,
       "border_top": null,
       "bottom": null,
       "display": null,
       "flex": null,
       "flex_flow": null,
       "grid_area": null,
       "grid_auto_columns": null,
       "grid_auto_flow": null,
       "grid_auto_rows": null,
       "grid_column": null,
       "grid_gap": null,
       "grid_row": null,
       "grid_template_areas": null,
       "grid_template_columns": null,
       "grid_template_rows": null,
       "height": null,
       "justify_content": null,
       "justify_items": null,
       "left": null,
       "margin": null,
       "max_height": null,
       "max_width": null,
       "min_height": null,
       "min_width": null,
       "object_fit": null,
       "object_position": null,
       "order": null,
       "overflow": null,
       "padding": null,
       "right": null,
       "top": null,
       "visibility": null,
       "width": null
      }
     },
     "7416c5e4abcd426c83de5501c3f0ae68": {
      "model_module": "@jupyter-widgets/base",
      "model_module_version": "2.0.0",
      "model_name": "LayoutModel",
      "state": {
       "_model_module": "@jupyter-widgets/base",
       "_model_module_version": "2.0.0",
       "_model_name": "LayoutModel",
       "_view_count": null,
       "_view_module": "@jupyter-widgets/base",
       "_view_module_version": "2.0.0",
       "_view_name": "LayoutView",
       "align_content": null,
       "align_items": null,
       "align_self": null,
       "border_bottom": null,
       "border_left": null,
       "border_right": null,
       "border_top": null,
       "bottom": null,
       "display": null,
       "flex": null,
       "flex_flow": null,
       "grid_area": null,
       "grid_auto_columns": null,
       "grid_auto_flow": null,
       "grid_auto_rows": null,
       "grid_column": null,
       "grid_gap": null,
       "grid_row": null,
       "grid_template_areas": null,
       "grid_template_columns": null,
       "grid_template_rows": null,
       "height": null,
       "justify_content": null,
       "justify_items": null,
       "left": null,
       "margin": null,
       "max_height": null,
       "max_width": null,
       "min_height": null,
       "min_width": null,
       "object_fit": null,
       "object_position": null,
       "order": null,
       "overflow": null,
       "padding": null,
       "right": null,
       "top": null,
       "visibility": null,
       "width": "20px"
      }
     },
     "76935af14a5f4f80b2e7ded1018158b2": {
      "model_module": "@jupyter-widgets/base",
      "model_module_version": "2.0.0",
      "model_name": "LayoutModel",
      "state": {
       "_model_module": "@jupyter-widgets/base",
       "_model_module_version": "2.0.0",
       "_model_name": "LayoutModel",
       "_view_count": null,
       "_view_module": "@jupyter-widgets/base",
       "_view_module_version": "2.0.0",
       "_view_name": "LayoutView",
       "align_content": null,
       "align_items": null,
       "align_self": null,
       "border_bottom": null,
       "border_left": null,
       "border_right": null,
       "border_top": null,
       "bottom": null,
       "display": null,
       "flex": null,
       "flex_flow": null,
       "grid_area": null,
       "grid_auto_columns": null,
       "grid_auto_flow": null,
       "grid_auto_rows": null,
       "grid_column": null,
       "grid_gap": null,
       "grid_row": null,
       "grid_template_areas": null,
       "grid_template_columns": null,
       "grid_template_rows": null,
       "height": null,
       "justify_content": null,
       "justify_items": null,
       "left": null,
       "margin": null,
       "max_height": null,
       "max_width": null,
       "min_height": null,
       "min_width": null,
       "object_fit": null,
       "object_position": null,
       "order": null,
       "overflow": null,
       "padding": null,
       "right": null,
       "top": null,
       "visibility": null,
       "width": "20px"
      }
     },
     "78f05f78f5ee48c39632ba91d4e4ec97": {
      "model_module": "@jupyter-widgets/controls",
      "model_module_version": "2.0.0",
      "model_name": "HTMLModel",
      "state": {
       "_dom_classes": [],
       "_model_module": "@jupyter-widgets/controls",
       "_model_module_version": "2.0.0",
       "_model_name": "HTMLModel",
       "_view_count": null,
       "_view_module": "@jupyter-widgets/controls",
       "_view_module_version": "2.0.0",
       "_view_name": "HTMLView",
       "description": "",
       "description_allow_html": false,
       "layout": "IPY_MODEL_0d1c7879539948d28e5346e21439d2da",
       "placeholder": "​",
       "style": "IPY_MODEL_1de1f479ddad4601a7ce3952bce69d8d",
       "tabbable": null,
       "tooltip": null,
       "value": ""
      }
     },
     "798ce9f301814e27babd46b2d476ef62": {
      "model_module": "@jupyter-widgets/controls",
      "model_module_version": "2.0.0",
      "model_name": "ProgressStyleModel",
      "state": {
       "_model_module": "@jupyter-widgets/controls",
       "_model_module_version": "2.0.0",
       "_model_name": "ProgressStyleModel",
       "_view_count": null,
       "_view_module": "@jupyter-widgets/base",
       "_view_module_version": "2.0.0",
       "_view_name": "StyleView",
       "bar_color": null,
       "description_width": ""
      }
     },
     "7aeab25fd6bf4626a9a148eef551b15a": {
      "model_module": "@jupyter-widgets/controls",
      "model_module_version": "2.0.0",
      "model_name": "HTMLStyleModel",
      "state": {
       "_model_module": "@jupyter-widgets/controls",
       "_model_module_version": "2.0.0",
       "_model_name": "HTMLStyleModel",
       "_view_count": null,
       "_view_module": "@jupyter-widgets/base",
       "_view_module_version": "2.0.0",
       "_view_name": "StyleView",
       "background": null,
       "description_width": "",
       "font_size": null,
       "text_color": null
      }
     },
     "7b00639dd9da455da4b413f9c7d6b1a4": {
      "model_module": "@jupyter-widgets/controls",
      "model_module_version": "2.0.0",
      "model_name": "HTMLModel",
      "state": {
       "_dom_classes": [],
       "_model_module": "@jupyter-widgets/controls",
       "_model_module_version": "2.0.0",
       "_model_name": "HTMLModel",
       "_view_count": null,
       "_view_module": "@jupyter-widgets/controls",
       "_view_module_version": "2.0.0",
       "_view_name": "HTMLView",
       "description": "",
       "description_allow_html": false,
       "layout": "IPY_MODEL_07fc9b745bb541bfa8298b25f3bfef33",
       "placeholder": "​",
       "style": "IPY_MODEL_1e1c933eb2c1441e891dd75f7570196e",
       "tabbable": null,
       "tooltip": null,
       "value": ""
      }
     },
     "7b2169dc5e4a46b09e2a149872b46675": {
      "model_module": "@jupyter-widgets/controls",
      "model_module_version": "2.0.0",
      "model_name": "HTMLStyleModel",
      "state": {
       "_model_module": "@jupyter-widgets/controls",
       "_model_module_version": "2.0.0",
       "_model_name": "HTMLStyleModel",
       "_view_count": null,
       "_view_module": "@jupyter-widgets/base",
       "_view_module_version": "2.0.0",
       "_view_name": "StyleView",
       "background": null,
       "description_width": "",
       "font_size": null,
       "text_color": null
      }
     },
     "7ea90fe5d03a4cd097fb2abd67c9f98c": {
      "model_module": "@jupyter-widgets/controls",
      "model_module_version": "2.0.0",
      "model_name": "ProgressStyleModel",
      "state": {
       "_model_module": "@jupyter-widgets/controls",
       "_model_module_version": "2.0.0",
       "_model_name": "ProgressStyleModel",
       "_view_count": null,
       "_view_module": "@jupyter-widgets/base",
       "_view_module_version": "2.0.0",
       "_view_name": "StyleView",
       "bar_color": null,
       "description_width": ""
      }
     },
     "80d9dbec5fb245deb27d124c5b0b1950": {
      "model_module": "@jupyter-widgets/controls",
      "model_module_version": "2.0.0",
      "model_name": "ProgressStyleModel",
      "state": {
       "_model_module": "@jupyter-widgets/controls",
       "_model_module_version": "2.0.0",
       "_model_name": "ProgressStyleModel",
       "_view_count": null,
       "_view_module": "@jupyter-widgets/base",
       "_view_module_version": "2.0.0",
       "_view_name": "StyleView",
       "bar_color": null,
       "description_width": ""
      }
     },
     "838cc39e45c643b89fbae8710d8251d0": {
      "model_module": "@jupyter-widgets/base",
      "model_module_version": "2.0.0",
      "model_name": "LayoutModel",
      "state": {
       "_model_module": "@jupyter-widgets/base",
       "_model_module_version": "2.0.0",
       "_model_name": "LayoutModel",
       "_view_count": null,
       "_view_module": "@jupyter-widgets/base",
       "_view_module_version": "2.0.0",
       "_view_name": "LayoutView",
       "align_content": null,
       "align_items": null,
       "align_self": null,
       "border_bottom": null,
       "border_left": null,
       "border_right": null,
       "border_top": null,
       "bottom": null,
       "display": null,
       "flex": null,
       "flex_flow": null,
       "grid_area": null,
       "grid_auto_columns": null,
       "grid_auto_flow": null,
       "grid_auto_rows": null,
       "grid_column": null,
       "grid_gap": null,
       "grid_row": null,
       "grid_template_areas": null,
       "grid_template_columns": null,
       "grid_template_rows": null,
       "height": null,
       "justify_content": null,
       "justify_items": null,
       "left": null,
       "margin": null,
       "max_height": null,
       "max_width": null,
       "min_height": null,
       "min_width": null,
       "object_fit": null,
       "object_position": null,
       "order": null,
       "overflow": null,
       "padding": null,
       "right": null,
       "top": null,
       "visibility": null,
       "width": null
      }
     },
     "8d8e591c073c4e3bb665f73071633a32": {
      "model_module": "@jupyter-widgets/controls",
      "model_module_version": "2.0.0",
      "model_name": "HTMLStyleModel",
      "state": {
       "_model_module": "@jupyter-widgets/controls",
       "_model_module_version": "2.0.0",
       "_model_name": "HTMLStyleModel",
       "_view_count": null,
       "_view_module": "@jupyter-widgets/base",
       "_view_module_version": "2.0.0",
       "_view_name": "StyleView",
       "background": null,
       "description_width": "",
       "font_size": null,
       "text_color": null
      }
     },
     "8f6b29dcdf624acbabde498947f80503": {
      "model_module": "@jupyter-widgets/controls",
      "model_module_version": "2.0.0",
      "model_name": "HTMLModel",
      "state": {
       "_dom_classes": [],
       "_model_module": "@jupyter-widgets/controls",
       "_model_module_version": "2.0.0",
       "_model_name": "HTMLModel",
       "_view_count": null,
       "_view_module": "@jupyter-widgets/controls",
       "_view_module_version": "2.0.0",
       "_view_name": "HTMLView",
       "description": "",
       "description_allow_html": false,
       "layout": "IPY_MODEL_fd79a997d24940c490a1c33c1d525ba4",
       "placeholder": "​",
       "style": "IPY_MODEL_fdb8dd3e1742469ba2369d3244926f82",
       "tabbable": null,
       "tooltip": null,
       "value": ""
      }
     },
     "8ffe003ac3b44b8f9b5fad35fcdac2dd": {
      "model_module": "@jupyter-widgets/base",
      "model_module_version": "2.0.0",
      "model_name": "LayoutModel",
      "state": {
       "_model_module": "@jupyter-widgets/base",
       "_model_module_version": "2.0.0",
       "_model_name": "LayoutModel",
       "_view_count": null,
       "_view_module": "@jupyter-widgets/base",
       "_view_module_version": "2.0.0",
       "_view_name": "LayoutView",
       "align_content": null,
       "align_items": null,
       "align_self": null,
       "border_bottom": null,
       "border_left": null,
       "border_right": null,
       "border_top": null,
       "bottom": null,
       "display": null,
       "flex": null,
       "flex_flow": null,
       "grid_area": null,
       "grid_auto_columns": null,
       "grid_auto_flow": null,
       "grid_auto_rows": null,
       "grid_column": null,
       "grid_gap": null,
       "grid_row": null,
       "grid_template_areas": null,
       "grid_template_columns": null,
       "grid_template_rows": null,
       "height": null,
       "justify_content": null,
       "justify_items": null,
       "left": null,
       "margin": null,
       "max_height": null,
       "max_width": null,
       "min_height": null,
       "min_width": null,
       "object_fit": null,
       "object_position": null,
       "order": null,
       "overflow": null,
       "padding": null,
       "right": null,
       "top": null,
       "visibility": null,
       "width": null
      }
     },
     "94b1214ff1bc4aff813fb648ab8a768b": {
      "model_module": "@jupyter-widgets/controls",
      "model_module_version": "2.0.0",
      "model_name": "HTMLStyleModel",
      "state": {
       "_model_module": "@jupyter-widgets/controls",
       "_model_module_version": "2.0.0",
       "_model_name": "HTMLStyleModel",
       "_view_count": null,
       "_view_module": "@jupyter-widgets/base",
       "_view_module_version": "2.0.0",
       "_view_name": "StyleView",
       "background": null,
       "description_width": "",
       "font_size": null,
       "text_color": null
      }
     },
     "97cf45ebc8444255aed3c9ca7f426802": {
      "model_module": "@jupyter-widgets/controls",
      "model_module_version": "2.0.0",
      "model_name": "ProgressStyleModel",
      "state": {
       "_model_module": "@jupyter-widgets/controls",
       "_model_module_version": "2.0.0",
       "_model_name": "ProgressStyleModel",
       "_view_count": null,
       "_view_module": "@jupyter-widgets/base",
       "_view_module_version": "2.0.0",
       "_view_name": "StyleView",
       "bar_color": null,
       "description_width": ""
      }
     },
     "9959a454f7a74876aefe471a4466f18c": {
      "model_module": "@jupyter-widgets/controls",
      "model_module_version": "2.0.0",
      "model_name": "HTMLStyleModel",
      "state": {
       "_model_module": "@jupyter-widgets/controls",
       "_model_module_version": "2.0.0",
       "_model_name": "HTMLStyleModel",
       "_view_count": null,
       "_view_module": "@jupyter-widgets/base",
       "_view_module_version": "2.0.0",
       "_view_name": "StyleView",
       "background": null,
       "description_width": "",
       "font_size": null,
       "text_color": null
      }
     },
     "9b666ac3d60848bb8d23439eef0a3ce2": {
      "model_module": "@jupyter-widgets/controls",
      "model_module_version": "2.0.0",
      "model_name": "FloatProgressModel",
      "state": {
       "_dom_classes": [],
       "_model_module": "@jupyter-widgets/controls",
       "_model_module_version": "2.0.0",
       "_model_name": "FloatProgressModel",
       "_view_count": null,
       "_view_module": "@jupyter-widgets/controls",
       "_view_module_version": "2.0.0",
       "_view_name": "ProgressView",
       "bar_style": "success",
       "description": "",
       "description_allow_html": false,
       "layout": "IPY_MODEL_1e9372307b5c4740946379e7e669c7b4",
       "max": 1.0,
       "min": 0.0,
       "orientation": "horizontal",
       "style": "IPY_MODEL_97cf45ebc8444255aed3c9ca7f426802",
       "tabbable": null,
       "tooltip": null,
       "value": 1.0
      }
     },
     "9dab5db30a5647449f5c6a48524a03c5": {
      "model_module": "@jupyter-widgets/controls",
      "model_module_version": "2.0.0",
      "model_name": "HBoxModel",
      "state": {
       "_dom_classes": [],
       "_model_module": "@jupyter-widgets/controls",
       "_model_module_version": "2.0.0",
       "_model_name": "HBoxModel",
       "_view_count": null,
       "_view_module": "@jupyter-widgets/controls",
       "_view_module_version": "2.0.0",
       "_view_name": "HBoxView",
       "box_style": "",
       "children": [
        "IPY_MODEL_d71bc55f6b7c4660b1c69a7768a04d3e",
        "IPY_MODEL_236eb4be83504bd9b9616f07cc06b182",
        "IPY_MODEL_a7b9a35a6fd04caf94e9899357e21900"
       ],
       "layout": "IPY_MODEL_67bde0b928fa44b39827521519533420",
       "tabbable": null,
       "tooltip": null
      }
     },
     "a131bb9ef55249ec90fc846126f95fe1": {
      "model_module": "@jupyter-widgets/base",
      "model_module_version": "2.0.0",
      "model_name": "LayoutModel",
      "state": {
       "_model_module": "@jupyter-widgets/base",
       "_model_module_version": "2.0.0",
       "_model_name": "LayoutModel",
       "_view_count": null,
       "_view_module": "@jupyter-widgets/base",
       "_view_module_version": "2.0.0",
       "_view_name": "LayoutView",
       "align_content": null,
       "align_items": null,
       "align_self": null,
       "border_bottom": null,
       "border_left": null,
       "border_right": null,
       "border_top": null,
       "bottom": null,
       "display": null,
       "flex": null,
       "flex_flow": null,
       "grid_area": null,
       "grid_auto_columns": null,
       "grid_auto_flow": null,
       "grid_auto_rows": null,
       "grid_column": null,
       "grid_gap": null,
       "grid_row": null,
       "grid_template_areas": null,
       "grid_template_columns": null,
       "grid_template_rows": null,
       "height": null,
       "justify_content": null,
       "justify_items": null,
       "left": null,
       "margin": null,
       "max_height": null,
       "max_width": null,
       "min_height": null,
       "min_width": null,
       "object_fit": null,
       "object_position": null,
       "order": null,
       "overflow": null,
       "padding": null,
       "right": null,
       "top": null,
       "visibility": null,
       "width": "20px"
      }
     },
     "a7b9a35a6fd04caf94e9899357e21900": {
      "model_module": "@jupyter-widgets/controls",
      "model_module_version": "2.0.0",
      "model_name": "HTMLModel",
      "state": {
       "_dom_classes": [],
       "_model_module": "@jupyter-widgets/controls",
       "_model_module_version": "2.0.0",
       "_model_name": "HTMLModel",
       "_view_count": null,
       "_view_module": "@jupyter-widgets/controls",
       "_view_module_version": "2.0.0",
       "_view_name": "HTMLView",
       "description": "",
       "description_allow_html": false,
       "layout": "IPY_MODEL_8ffe003ac3b44b8f9b5fad35fcdac2dd",
       "placeholder": "​",
       "style": "IPY_MODEL_c56d084405724f698d35050cfe4f1bf2",
       "tabbable": null,
       "tooltip": null,
       "value": " 23/0 [00:02&lt;00:00, 10.30it/s]"
      }
     },
     "ab235426482840eebd07333c72a9d45e": {
      "model_module": "@jupyter-widgets/controls",
      "model_module_version": "2.0.0",
      "model_name": "FloatProgressModel",
      "state": {
       "_dom_classes": [],
       "_model_module": "@jupyter-widgets/controls",
       "_model_module_version": "2.0.0",
       "_model_name": "FloatProgressModel",
       "_view_count": null,
       "_view_module": "@jupyter-widgets/controls",
       "_view_module_version": "2.0.0",
       "_view_name": "ProgressView",
       "bar_style": "success",
       "description": "",
       "description_allow_html": false,
       "layout": "IPY_MODEL_f771dd9ce5b045789ba7c7e969ae3ce9",
       "max": 1.0,
       "min": 0.0,
       "orientation": "horizontal",
       "style": "IPY_MODEL_80d9dbec5fb245deb27d124c5b0b1950",
       "tabbable": null,
       "tooltip": null,
       "value": 1.0
      }
     },
     "abbf67f4a2fb445a8c4083af2f44e1dd": {
      "model_module": "@jupyter-widgets/controls",
      "model_module_version": "2.0.0",
      "model_name": "FloatProgressModel",
      "state": {
       "_dom_classes": [],
       "_model_module": "@jupyter-widgets/controls",
       "_model_module_version": "2.0.0",
       "_model_name": "FloatProgressModel",
       "_view_count": null,
       "_view_module": "@jupyter-widgets/controls",
       "_view_module_version": "2.0.0",
       "_view_name": "ProgressView",
       "bar_style": "success",
       "description": "",
       "description_allow_html": false,
       "layout": "IPY_MODEL_7416c5e4abcd426c83de5501c3f0ae68",
       "max": 1.0,
       "min": 0.0,
       "orientation": "horizontal",
       "style": "IPY_MODEL_faeaab97e91b4681a1368684641452a8",
       "tabbable": null,
       "tooltip": null,
       "value": 1.0
      }
     },
     "ace7652c9f7944d5b49bc3615a316abc": {
      "model_module": "@jupyter-widgets/controls",
      "model_module_version": "2.0.0",
      "model_name": "HBoxModel",
      "state": {
       "_dom_classes": [],
       "_model_module": "@jupyter-widgets/controls",
       "_model_module_version": "2.0.0",
       "_model_name": "HBoxModel",
       "_view_count": null,
       "_view_module": "@jupyter-widgets/controls",
       "_view_module_version": "2.0.0",
       "_view_name": "HBoxView",
       "box_style": "",
       "children": [
        "IPY_MODEL_11227b58a4e6474389f4ffad24168545",
        "IPY_MODEL_abbf67f4a2fb445a8c4083af2f44e1dd",
        "IPY_MODEL_28596304c2304fdd93369892241b5eb6"
       ],
       "layout": "IPY_MODEL_bbe120e370da4795ad09d54eeedc80a0",
       "tabbable": null,
       "tooltip": null
      }
     },
     "afc6b27282fb43e6a21bb1a2ef48986f": {
      "model_module": "@jupyter-widgets/base",
      "model_module_version": "2.0.0",
      "model_name": "LayoutModel",
      "state": {
       "_model_module": "@jupyter-widgets/base",
       "_model_module_version": "2.0.0",
       "_model_name": "LayoutModel",
       "_view_count": null,
       "_view_module": "@jupyter-widgets/base",
       "_view_module_version": "2.0.0",
       "_view_name": "LayoutView",
       "align_content": null,
       "align_items": null,
       "align_self": null,
       "border_bottom": null,
       "border_left": null,
       "border_right": null,
       "border_top": null,
       "bottom": null,
       "display": null,
       "flex": null,
       "flex_flow": null,
       "grid_area": null,
       "grid_auto_columns": null,
       "grid_auto_flow": null,
       "grid_auto_rows": null,
       "grid_column": null,
       "grid_gap": null,
       "grid_row": null,
       "grid_template_areas": null,
       "grid_template_columns": null,
       "grid_template_rows": null,
       "height": null,
       "justify_content": null,
       "justify_items": null,
       "left": null,
       "margin": null,
       "max_height": null,
       "max_width": null,
       "min_height": null,
       "min_width": null,
       "object_fit": null,
       "object_position": null,
       "order": null,
       "overflow": null,
       "padding": null,
       "right": null,
       "top": null,
       "visibility": null,
       "width": null
      }
     },
     "b1a6ac3de190466c9899678717156584": {
      "model_module": "@jupyter-widgets/base",
      "model_module_version": "2.0.0",
      "model_name": "LayoutModel",
      "state": {
       "_model_module": "@jupyter-widgets/base",
       "_model_module_version": "2.0.0",
       "_model_name": "LayoutModel",
       "_view_count": null,
       "_view_module": "@jupyter-widgets/base",
       "_view_module_version": "2.0.0",
       "_view_name": "LayoutView",
       "align_content": null,
       "align_items": null,
       "align_self": null,
       "border_bottom": null,
       "border_left": null,
       "border_right": null,
       "border_top": null,
       "bottom": null,
       "display": null,
       "flex": null,
       "flex_flow": null,
       "grid_area": null,
       "grid_auto_columns": null,
       "grid_auto_flow": null,
       "grid_auto_rows": null,
       "grid_column": null,
       "grid_gap": null,
       "grid_row": null,
       "grid_template_areas": null,
       "grid_template_columns": null,
       "grid_template_rows": null,
       "height": null,
       "justify_content": null,
       "justify_items": null,
       "left": null,
       "margin": null,
       "max_height": null,
       "max_width": null,
       "min_height": null,
       "min_width": null,
       "object_fit": null,
       "object_position": null,
       "order": null,
       "overflow": null,
       "padding": null,
       "right": null,
       "top": null,
       "visibility": null,
       "width": null
      }
     },
     "b4aabbd60baf40618add548a4b5d162a": {
      "model_module": "@jupyter-widgets/controls",
      "model_module_version": "2.0.0",
      "model_name": "HTMLStyleModel",
      "state": {
       "_model_module": "@jupyter-widgets/controls",
       "_model_module_version": "2.0.0",
       "_model_name": "HTMLStyleModel",
       "_view_count": null,
       "_view_module": "@jupyter-widgets/base",
       "_view_module_version": "2.0.0",
       "_view_name": "StyleView",
       "background": null,
       "description_width": "",
       "font_size": null,
       "text_color": null
      }
     },
     "b8679ea12e804fd098b7eded75832f1b": {
      "model_module": "@jupyter-widgets/controls",
      "model_module_version": "2.0.0",
      "model_name": "HBoxModel",
      "state": {
       "_dom_classes": [],
       "_model_module": "@jupyter-widgets/controls",
       "_model_module_version": "2.0.0",
       "_model_name": "HBoxModel",
       "_view_count": null,
       "_view_module": "@jupyter-widgets/controls",
       "_view_module_version": "2.0.0",
       "_view_name": "HBoxView",
       "box_style": "",
       "children": [
        "IPY_MODEL_371a2fa1c5e04f498f28eeb1493f18e5",
        "IPY_MODEL_224bf840fc8d422fb04c754e7388267e",
        "IPY_MODEL_f68aa7770d2e4f42a9555cb8b6cdb1c9"
       ],
       "layout": "IPY_MODEL_477eee2fb5eb4526a38b1a28952e34fe",
       "tabbable": null,
       "tooltip": null
      }
     },
     "ba4dcdf124cb43ca963b3996c48532cb": {
      "model_module": "@jupyter-widgets/base",
      "model_module_version": "2.0.0",
      "model_name": "LayoutModel",
      "state": {
       "_model_module": "@jupyter-widgets/base",
       "_model_module_version": "2.0.0",
       "_model_name": "LayoutModel",
       "_view_count": null,
       "_view_module": "@jupyter-widgets/base",
       "_view_module_version": "2.0.0",
       "_view_name": "LayoutView",
       "align_content": null,
       "align_items": null,
       "align_self": null,
       "border_bottom": null,
       "border_left": null,
       "border_right": null,
       "border_top": null,
       "bottom": null,
       "display": null,
       "flex": null,
       "flex_flow": null,
       "grid_area": null,
       "grid_auto_columns": null,
       "grid_auto_flow": null,
       "grid_auto_rows": null,
       "grid_column": null,
       "grid_gap": null,
       "grid_row": null,
       "grid_template_areas": null,
       "grid_template_columns": null,
       "grid_template_rows": null,
       "height": null,
       "justify_content": null,
       "justify_items": null,
       "left": null,
       "margin": null,
       "max_height": null,
       "max_width": null,
       "min_height": null,
       "min_width": null,
       "object_fit": null,
       "object_position": null,
       "order": null,
       "overflow": null,
       "padding": null,
       "right": null,
       "top": null,
       "visibility": null,
       "width": null
      }
     },
     "bbe120e370da4795ad09d54eeedc80a0": {
      "model_module": "@jupyter-widgets/base",
      "model_module_version": "2.0.0",
      "model_name": "LayoutModel",
      "state": {
       "_model_module": "@jupyter-widgets/base",
       "_model_module_version": "2.0.0",
       "_model_name": "LayoutModel",
       "_view_count": null,
       "_view_module": "@jupyter-widgets/base",
       "_view_module_version": "2.0.0",
       "_view_name": "LayoutView",
       "align_content": null,
       "align_items": null,
       "align_self": null,
       "border_bottom": null,
       "border_left": null,
       "border_right": null,
       "border_top": null,
       "bottom": null,
       "display": null,
       "flex": null,
       "flex_flow": null,
       "grid_area": null,
       "grid_auto_columns": null,
       "grid_auto_flow": null,
       "grid_auto_rows": null,
       "grid_column": null,
       "grid_gap": null,
       "grid_row": null,
       "grid_template_areas": null,
       "grid_template_columns": null,
       "grid_template_rows": null,
       "height": null,
       "justify_content": null,
       "justify_items": null,
       "left": null,
       "margin": null,
       "max_height": null,
       "max_width": null,
       "min_height": null,
       "min_width": null,
       "object_fit": null,
       "object_position": null,
       "order": null,
       "overflow": null,
       "padding": null,
       "right": null,
       "top": null,
       "visibility": null,
       "width": null
      }
     },
     "befcbf88099e4ce2956f0af50c915007": {
      "model_module": "@jupyter-widgets/base",
      "model_module_version": "2.0.0",
      "model_name": "LayoutModel",
      "state": {
       "_model_module": "@jupyter-widgets/base",
       "_model_module_version": "2.0.0",
       "_model_name": "LayoutModel",
       "_view_count": null,
       "_view_module": "@jupyter-widgets/base",
       "_view_module_version": "2.0.0",
       "_view_name": "LayoutView",
       "align_content": null,
       "align_items": null,
       "align_self": null,
       "border_bottom": null,
       "border_left": null,
       "border_right": null,
       "border_top": null,
       "bottom": null,
       "display": null,
       "flex": null,
       "flex_flow": null,
       "grid_area": null,
       "grid_auto_columns": null,
       "grid_auto_flow": null,
       "grid_auto_rows": null,
       "grid_column": null,
       "grid_gap": null,
       "grid_row": null,
       "grid_template_areas": null,
       "grid_template_columns": null,
       "grid_template_rows": null,
       "height": null,
       "justify_content": null,
       "justify_items": null,
       "left": null,
       "margin": null,
       "max_height": null,
       "max_width": null,
       "min_height": null,
       "min_width": null,
       "object_fit": null,
       "object_position": null,
       "order": null,
       "overflow": null,
       "padding": null,
       "right": null,
       "top": null,
       "visibility": null,
       "width": null
      }
     },
     "c25984d189bd4248be36f4b1e2a7c915": {
      "model_module": "@jupyter-widgets/base",
      "model_module_version": "2.0.0",
      "model_name": "LayoutModel",
      "state": {
       "_model_module": "@jupyter-widgets/base",
       "_model_module_version": "2.0.0",
       "_model_name": "LayoutModel",
       "_view_count": null,
       "_view_module": "@jupyter-widgets/base",
       "_view_module_version": "2.0.0",
       "_view_name": "LayoutView",
       "align_content": null,
       "align_items": null,
       "align_self": null,
       "border_bottom": null,
       "border_left": null,
       "border_right": null,
       "border_top": null,
       "bottom": null,
       "display": null,
       "flex": null,
       "flex_flow": null,
       "grid_area": null,
       "grid_auto_columns": null,
       "grid_auto_flow": null,
       "grid_auto_rows": null,
       "grid_column": null,
       "grid_gap": null,
       "grid_row": null,
       "grid_template_areas": null,
       "grid_template_columns": null,
       "grid_template_rows": null,
       "height": null,
       "justify_content": null,
       "justify_items": null,
       "left": null,
       "margin": null,
       "max_height": null,
       "max_width": null,
       "min_height": null,
       "min_width": null,
       "object_fit": null,
       "object_position": null,
       "order": null,
       "overflow": null,
       "padding": null,
       "right": null,
       "top": null,
       "visibility": null,
       "width": "20px"
      }
     },
     "c56d084405724f698d35050cfe4f1bf2": {
      "model_module": "@jupyter-widgets/controls",
      "model_module_version": "2.0.0",
      "model_name": "HTMLStyleModel",
      "state": {
       "_model_module": "@jupyter-widgets/controls",
       "_model_module_version": "2.0.0",
       "_model_name": "HTMLStyleModel",
       "_view_count": null,
       "_view_module": "@jupyter-widgets/base",
       "_view_module_version": "2.0.0",
       "_view_name": "StyleView",
       "background": null,
       "description_width": "",
       "font_size": null,
       "text_color": null
      }
     },
     "cb29dc2535f540e494944d5b08d7e107": {
      "model_module": "@jupyter-widgets/base",
      "model_module_version": "2.0.0",
      "model_name": "LayoutModel",
      "state": {
       "_model_module": "@jupyter-widgets/base",
       "_model_module_version": "2.0.0",
       "_model_name": "LayoutModel",
       "_view_count": null,
       "_view_module": "@jupyter-widgets/base",
       "_view_module_version": "2.0.0",
       "_view_name": "LayoutView",
       "align_content": null,
       "align_items": null,
       "align_self": null,
       "border_bottom": null,
       "border_left": null,
       "border_right": null,
       "border_top": null,
       "bottom": null,
       "display": null,
       "flex": null,
       "flex_flow": null,
       "grid_area": null,
       "grid_auto_columns": null,
       "grid_auto_flow": null,
       "grid_auto_rows": null,
       "grid_column": null,
       "grid_gap": null,
       "grid_row": null,
       "grid_template_areas": null,
       "grid_template_columns": null,
       "grid_template_rows": null,
       "height": null,
       "justify_content": null,
       "justify_items": null,
       "left": null,
       "margin": null,
       "max_height": null,
       "max_width": null,
       "min_height": null,
       "min_width": null,
       "object_fit": null,
       "object_position": null,
       "order": null,
       "overflow": null,
       "padding": null,
       "right": null,
       "top": null,
       "visibility": null,
       "width": null
      }
     },
     "ccaab87340f54a799a8ac51a67da3e69": {
      "model_module": "@jupyter-widgets/controls",
      "model_module_version": "2.0.0",
      "model_name": "HTMLStyleModel",
      "state": {
       "_model_module": "@jupyter-widgets/controls",
       "_model_module_version": "2.0.0",
       "_model_name": "HTMLStyleModel",
       "_view_count": null,
       "_view_module": "@jupyter-widgets/base",
       "_view_module_version": "2.0.0",
       "_view_name": "StyleView",
       "background": null,
       "description_width": "",
       "font_size": null,
       "text_color": null
      }
     },
     "cd38c86c006840c684476c1f91cd88dc": {
      "model_module": "@jupyter-widgets/controls",
      "model_module_version": "2.0.0",
      "model_name": "HTMLStyleModel",
      "state": {
       "_model_module": "@jupyter-widgets/controls",
       "_model_module_version": "2.0.0",
       "_model_name": "HTMLStyleModel",
       "_view_count": null,
       "_view_module": "@jupyter-widgets/base",
       "_view_module_version": "2.0.0",
       "_view_name": "StyleView",
       "background": null,
       "description_width": "",
       "font_size": null,
       "text_color": null
      }
     },
     "cf4247db86124bd69674bdf64e10b6e9": {
      "model_module": "@jupyter-widgets/base",
      "model_module_version": "2.0.0",
      "model_name": "LayoutModel",
      "state": {
       "_model_module": "@jupyter-widgets/base",
       "_model_module_version": "2.0.0",
       "_model_name": "LayoutModel",
       "_view_count": null,
       "_view_module": "@jupyter-widgets/base",
       "_view_module_version": "2.0.0",
       "_view_name": "LayoutView",
       "align_content": null,
       "align_items": null,
       "align_self": null,
       "border_bottom": null,
       "border_left": null,
       "border_right": null,
       "border_top": null,
       "bottom": null,
       "display": null,
       "flex": null,
       "flex_flow": null,
       "grid_area": null,
       "grid_auto_columns": null,
       "grid_auto_flow": null,
       "grid_auto_rows": null,
       "grid_column": null,
       "grid_gap": null,
       "grid_row": null,
       "grid_template_areas": null,
       "grid_template_columns": null,
       "grid_template_rows": null,
       "height": null,
       "justify_content": null,
       "justify_items": null,
       "left": null,
       "margin": null,
       "max_height": null,
       "max_width": null,
       "min_height": null,
       "min_width": null,
       "object_fit": null,
       "object_position": null,
       "order": null,
       "overflow": null,
       "padding": null,
       "right": null,
       "top": null,
       "visibility": null,
       "width": null
      }
     },
     "cfd030a63f76465d8c88aff584cf9cc9": {
      "model_module": "@jupyter-widgets/controls",
      "model_module_version": "2.0.0",
      "model_name": "HTMLStyleModel",
      "state": {
       "_model_module": "@jupyter-widgets/controls",
       "_model_module_version": "2.0.0",
       "_model_name": "HTMLStyleModel",
       "_view_count": null,
       "_view_module": "@jupyter-widgets/base",
       "_view_module_version": "2.0.0",
       "_view_name": "StyleView",
       "background": null,
       "description_width": "",
       "font_size": null,
       "text_color": null
      }
     },
     "d38ac6f5453c412489841a9a68bb5f7b": {
      "model_module": "@jupyter-widgets/controls",
      "model_module_version": "2.0.0",
      "model_name": "HTMLStyleModel",
      "state": {
       "_model_module": "@jupyter-widgets/controls",
       "_model_module_version": "2.0.0",
       "_model_name": "HTMLStyleModel",
       "_view_count": null,
       "_view_module": "@jupyter-widgets/base",
       "_view_module_version": "2.0.0",
       "_view_name": "StyleView",
       "background": null,
       "description_width": "",
       "font_size": null,
       "text_color": null
      }
     },
     "d6ce06ecf3f346a7afa8749ef78882e2": {
      "model_module": "@jupyter-widgets/controls",
      "model_module_version": "2.0.0",
      "model_name": "HTMLModel",
      "state": {
       "_dom_classes": [],
       "_model_module": "@jupyter-widgets/controls",
       "_model_module_version": "2.0.0",
       "_model_name": "HTMLModel",
       "_view_count": null,
       "_view_module": "@jupyter-widgets/controls",
       "_view_module_version": "2.0.0",
       "_view_name": "HTMLView",
       "description": "",
       "description_allow_html": false,
       "layout": "IPY_MODEL_718f7b3f08d94ca990c9409c3cb5b1f1",
       "placeholder": "​",
       "style": "IPY_MODEL_1a9276c42f5f4a2e898a7a3194f967f3",
       "tabbable": null,
       "tooltip": null,
       "value": ""
      }
     },
     "d71bc55f6b7c4660b1c69a7768a04d3e": {
      "model_module": "@jupyter-widgets/controls",
      "model_module_version": "2.0.0",
      "model_name": "HTMLModel",
      "state": {
       "_dom_classes": [],
       "_model_module": "@jupyter-widgets/controls",
       "_model_module_version": "2.0.0",
       "_model_name": "HTMLModel",
       "_view_count": null,
       "_view_module": "@jupyter-widgets/controls",
       "_view_module_version": "2.0.0",
       "_view_name": "HTMLView",
       "description": "",
       "description_allow_html": false,
       "layout": "IPY_MODEL_de2669f609464f86be4df19b1d7d03be",
       "placeholder": "​",
       "style": "IPY_MODEL_de64df454f82420fb6673e912eb833b9",
       "tabbable": null,
       "tooltip": null,
       "value": ""
      }
     },
     "d92d2c5a354642059cebd04dfcf64994": {
      "model_module": "@jupyter-widgets/base",
      "model_module_version": "2.0.0",
      "model_name": "LayoutModel",
      "state": {
       "_model_module": "@jupyter-widgets/base",
       "_model_module_version": "2.0.0",
       "_model_name": "LayoutModel",
       "_view_count": null,
       "_view_module": "@jupyter-widgets/base",
       "_view_module_version": "2.0.0",
       "_view_name": "LayoutView",
       "align_content": null,
       "align_items": null,
       "align_self": null,
       "border_bottom": null,
       "border_left": null,
       "border_right": null,
       "border_top": null,
       "bottom": null,
       "display": null,
       "flex": null,
       "flex_flow": null,
       "grid_area": null,
       "grid_auto_columns": null,
       "grid_auto_flow": null,
       "grid_auto_rows": null,
       "grid_column": null,
       "grid_gap": null,
       "grid_row": null,
       "grid_template_areas": null,
       "grid_template_columns": null,
       "grid_template_rows": null,
       "height": null,
       "justify_content": null,
       "justify_items": null,
       "left": null,
       "margin": null,
       "max_height": null,
       "max_width": null,
       "min_height": null,
       "min_width": null,
       "object_fit": null,
       "object_position": null,
       "order": null,
       "overflow": null,
       "padding": null,
       "right": null,
       "top": null,
       "visibility": null,
       "width": null
      }
     },
     "d965dd2f67994c0ebb70bc285b8b1c06": {
      "model_module": "@jupyter-widgets/controls",
      "model_module_version": "2.0.0",
      "model_name": "ProgressStyleModel",
      "state": {
       "_model_module": "@jupyter-widgets/controls",
       "_model_module_version": "2.0.0",
       "_model_name": "ProgressStyleModel",
       "_view_count": null,
       "_view_module": "@jupyter-widgets/base",
       "_view_module_version": "2.0.0",
       "_view_name": "StyleView",
       "bar_color": null,
       "description_width": ""
      }
     },
     "db91747675ab4518919f7f2af0255cdb": {
      "model_module": "@jupyter-widgets/controls",
      "model_module_version": "2.0.0",
      "model_name": "HTMLModel",
      "state": {
       "_dom_classes": [],
       "_model_module": "@jupyter-widgets/controls",
       "_model_module_version": "2.0.0",
       "_model_name": "HTMLModel",
       "_view_count": null,
       "_view_module": "@jupyter-widgets/controls",
       "_view_module_version": "2.0.0",
       "_view_name": "HTMLView",
       "description": "",
       "description_allow_html": false,
       "layout": "IPY_MODEL_727baaf79a434c849f90fdd154cb4e6a",
       "placeholder": "​",
       "style": "IPY_MODEL_8d8e591c073c4e3bb665f73071633a32",
       "tabbable": null,
       "tooltip": null,
       "value": " 8/0 [00:01&lt;00:00,  7.67it/s]"
      }
     },
     "de2669f609464f86be4df19b1d7d03be": {
      "model_module": "@jupyter-widgets/base",
      "model_module_version": "2.0.0",
      "model_name": "LayoutModel",
      "state": {
       "_model_module": "@jupyter-widgets/base",
       "_model_module_version": "2.0.0",
       "_model_name": "LayoutModel",
       "_view_count": null,
       "_view_module": "@jupyter-widgets/base",
       "_view_module_version": "2.0.0",
       "_view_name": "LayoutView",
       "align_content": null,
       "align_items": null,
       "align_self": null,
       "border_bottom": null,
       "border_left": null,
       "border_right": null,
       "border_top": null,
       "bottom": null,
       "display": null,
       "flex": null,
       "flex_flow": null,
       "grid_area": null,
       "grid_auto_columns": null,
       "grid_auto_flow": null,
       "grid_auto_rows": null,
       "grid_column": null,
       "grid_gap": null,
       "grid_row": null,
       "grid_template_areas": null,
       "grid_template_columns": null,
       "grid_template_rows": null,
       "height": null,
       "justify_content": null,
       "justify_items": null,
       "left": null,
       "margin": null,
       "max_height": null,
       "max_width": null,
       "min_height": null,
       "min_width": null,
       "object_fit": null,
       "object_position": null,
       "order": null,
       "overflow": null,
       "padding": null,
       "right": null,
       "top": null,
       "visibility": null,
       "width": null
      }
     },
     "de64df454f82420fb6673e912eb833b9": {
      "model_module": "@jupyter-widgets/controls",
      "model_module_version": "2.0.0",
      "model_name": "HTMLStyleModel",
      "state": {
       "_model_module": "@jupyter-widgets/controls",
       "_model_module_version": "2.0.0",
       "_model_name": "HTMLStyleModel",
       "_view_count": null,
       "_view_module": "@jupyter-widgets/base",
       "_view_module_version": "2.0.0",
       "_view_name": "StyleView",
       "background": null,
       "description_width": "",
       "font_size": null,
       "text_color": null
      }
     },
     "de8807a1eb1c4c2fb5259e1af04d52c4": {
      "model_module": "@jupyter-widgets/controls",
      "model_module_version": "2.0.0",
      "model_name": "FloatProgressModel",
      "state": {
       "_dom_classes": [],
       "_model_module": "@jupyter-widgets/controls",
       "_model_module_version": "2.0.0",
       "_model_name": "FloatProgressModel",
       "_view_count": null,
       "_view_module": "@jupyter-widgets/controls",
       "_view_module_version": "2.0.0",
       "_view_name": "ProgressView",
       "bar_style": "success",
       "description": "",
       "description_allow_html": false,
       "layout": "IPY_MODEL_a131bb9ef55249ec90fc846126f95fe1",
       "max": 1.0,
       "min": 0.0,
       "orientation": "horizontal",
       "style": "IPY_MODEL_5816376fc40144a0868586bf7441f808",
       "tabbable": null,
       "tooltip": null,
       "value": 1.0
      }
     },
     "dfc83842d4fd4764b142102a85b7a014": {
      "model_module": "@jupyter-widgets/base",
      "model_module_version": "2.0.0",
      "model_name": "LayoutModel",
      "state": {
       "_model_module": "@jupyter-widgets/base",
       "_model_module_version": "2.0.0",
       "_model_name": "LayoutModel",
       "_view_count": null,
       "_view_module": "@jupyter-widgets/base",
       "_view_module_version": "2.0.0",
       "_view_name": "LayoutView",
       "align_content": null,
       "align_items": null,
       "align_self": null,
       "border_bottom": null,
       "border_left": null,
       "border_right": null,
       "border_top": null,
       "bottom": null,
       "display": null,
       "flex": null,
       "flex_flow": null,
       "grid_area": null,
       "grid_auto_columns": null,
       "grid_auto_flow": null,
       "grid_auto_rows": null,
       "grid_column": null,
       "grid_gap": null,
       "grid_row": null,
       "grid_template_areas": null,
       "grid_template_columns": null,
       "grid_template_rows": null,
       "height": null,
       "justify_content": null,
       "justify_items": null,
       "left": null,
       "margin": null,
       "max_height": null,
       "max_width": null,
       "min_height": null,
       "min_width": null,
       "object_fit": null,
       "object_position": null,
       "order": null,
       "overflow": null,
       "padding": null,
       "right": null,
       "top": null,
       "visibility": null,
       "width": null
      }
     },
     "e593ba9bd732427dbb0ece9f764d9ce7": {
      "model_module": "@jupyter-widgets/controls",
      "model_module_version": "2.0.0",
      "model_name": "HBoxModel",
      "state": {
       "_dom_classes": [],
       "_model_module": "@jupyter-widgets/controls",
       "_model_module_version": "2.0.0",
       "_model_name": "HBoxModel",
       "_view_count": null,
       "_view_module": "@jupyter-widgets/controls",
       "_view_module_version": "2.0.0",
       "_view_name": "HBoxView",
       "box_style": "",
       "children": [
        "IPY_MODEL_7b00639dd9da455da4b413f9c7d6b1a4",
        "IPY_MODEL_ab235426482840eebd07333c72a9d45e",
        "IPY_MODEL_15ac2842fffc4b6ebc6bb62bca950318"
       ],
       "layout": "IPY_MODEL_afc6b27282fb43e6a21bb1a2ef48986f",
       "tabbable": null,
       "tooltip": null
      }
     },
     "ea6f86f200fa4733bec6ef995d475514": {
      "model_module": "@jupyter-widgets/base",
      "model_module_version": "2.0.0",
      "model_name": "LayoutModel",
      "state": {
       "_model_module": "@jupyter-widgets/base",
       "_model_module_version": "2.0.0",
       "_model_name": "LayoutModel",
       "_view_count": null,
       "_view_module": "@jupyter-widgets/base",
       "_view_module_version": "2.0.0",
       "_view_name": "LayoutView",
       "align_content": null,
       "align_items": null,
       "align_self": null,
       "border_bottom": null,
       "border_left": null,
       "border_right": null,
       "border_top": null,
       "bottom": null,
       "display": null,
       "flex": null,
       "flex_flow": null,
       "grid_area": null,
       "grid_auto_columns": null,
       "grid_auto_flow": null,
       "grid_auto_rows": null,
       "grid_column": null,
       "grid_gap": null,
       "grid_row": null,
       "grid_template_areas": null,
       "grid_template_columns": null,
       "grid_template_rows": null,
       "height": null,
       "justify_content": null,
       "justify_items": null,
       "left": null,
       "margin": null,
       "max_height": null,
       "max_width": null,
       "min_height": null,
       "min_width": null,
       "object_fit": null,
       "object_position": null,
       "order": null,
       "overflow": null,
       "padding": null,
       "right": null,
       "top": null,
       "visibility": null,
       "width": null
      }
     },
     "eb7bfe4d4cd644a0958fc01ea3b1b26e": {
      "model_module": "@jupyter-widgets/controls",
      "model_module_version": "2.0.0",
      "model_name": "HTMLStyleModel",
      "state": {
       "_model_module": "@jupyter-widgets/controls",
       "_model_module_version": "2.0.0",
       "_model_name": "HTMLStyleModel",
       "_view_count": null,
       "_view_module": "@jupyter-widgets/base",
       "_view_module_version": "2.0.0",
       "_view_name": "StyleView",
       "background": null,
       "description_width": "",
       "font_size": null,
       "text_color": null
      }
     },
     "f68aa7770d2e4f42a9555cb8b6cdb1c9": {
      "model_module": "@jupyter-widgets/controls",
      "model_module_version": "2.0.0",
      "model_name": "HTMLModel",
      "state": {
       "_dom_classes": [],
       "_model_module": "@jupyter-widgets/controls",
       "_model_module_version": "2.0.0",
       "_model_name": "HTMLModel",
       "_view_count": null,
       "_view_module": "@jupyter-widgets/controls",
       "_view_module_version": "2.0.0",
       "_view_name": "HTMLView",
       "description": "",
       "description_allow_html": false,
       "layout": "IPY_MODEL_dfc83842d4fd4764b142102a85b7a014",
       "placeholder": "​",
       "style": "IPY_MODEL_cfd030a63f76465d8c88aff584cf9cc9",
       "tabbable": null,
       "tooltip": null,
       "value": " 29/0 [00:02&lt;00:00, 13.76it/s]"
      }
     },
     "f7373a98218c44b4b49f8b3b7c34dd6f": {
      "model_module": "@jupyter-widgets/controls",
      "model_module_version": "2.0.0",
      "model_name": "HBoxModel",
      "state": {
       "_dom_classes": [],
       "_model_module": "@jupyter-widgets/controls",
       "_model_module_version": "2.0.0",
       "_model_name": "HBoxModel",
       "_view_count": null,
       "_view_module": "@jupyter-widgets/controls",
       "_view_module_version": "2.0.0",
       "_view_name": "HBoxView",
       "box_style": "",
       "children": [
        "IPY_MODEL_d6ce06ecf3f346a7afa8749ef78882e2",
        "IPY_MODEL_456beaaa996346c5ab006a4607da1ae0",
        "IPY_MODEL_647f468a352546d187bfc8a099134eff"
       ],
       "layout": "IPY_MODEL_1f5d719f6f9f4386ab0e8853ba709463",
       "tabbable": null,
       "tooltip": null
      }
     },
     "f771dd9ce5b045789ba7c7e969ae3ce9": {
      "model_module": "@jupyter-widgets/base",
      "model_module_version": "2.0.0",
      "model_name": "LayoutModel",
      "state": {
       "_model_module": "@jupyter-widgets/base",
       "_model_module_version": "2.0.0",
       "_model_name": "LayoutModel",
       "_view_count": null,
       "_view_module": "@jupyter-widgets/base",
       "_view_module_version": "2.0.0",
       "_view_name": "LayoutView",
       "align_content": null,
       "align_items": null,
       "align_self": null,
       "border_bottom": null,
       "border_left": null,
       "border_right": null,
       "border_top": null,
       "bottom": null,
       "display": null,
       "flex": null,
       "flex_flow": null,
       "grid_area": null,
       "grid_auto_columns": null,
       "grid_auto_flow": null,
       "grid_auto_rows": null,
       "grid_column": null,
       "grid_gap": null,
       "grid_row": null,
       "grid_template_areas": null,
       "grid_template_columns": null,
       "grid_template_rows": null,
       "height": null,
       "justify_content": null,
       "justify_items": null,
       "left": null,
       "margin": null,
       "max_height": null,
       "max_width": null,
       "min_height": null,
       "min_width": null,
       "object_fit": null,
       "object_position": null,
       "order": null,
       "overflow": null,
       "padding": null,
       "right": null,
       "top": null,
       "visibility": null,
       "width": "20px"
      }
     },
     "faeaab97e91b4681a1368684641452a8": {
      "model_module": "@jupyter-widgets/controls",
      "model_module_version": "2.0.0",
      "model_name": "ProgressStyleModel",
      "state": {
       "_model_module": "@jupyter-widgets/controls",
       "_model_module_version": "2.0.0",
       "_model_name": "ProgressStyleModel",
       "_view_count": null,
       "_view_module": "@jupyter-widgets/base",
       "_view_module_version": "2.0.0",
       "_view_name": "StyleView",
       "bar_color": null,
       "description_width": ""
      }
     },
     "fd79a997d24940c490a1c33c1d525ba4": {
      "model_module": "@jupyter-widgets/base",
      "model_module_version": "2.0.0",
      "model_name": "LayoutModel",
      "state": {
       "_model_module": "@jupyter-widgets/base",
       "_model_module_version": "2.0.0",
       "_model_name": "LayoutModel",
       "_view_count": null,
       "_view_module": "@jupyter-widgets/base",
       "_view_module_version": "2.0.0",
       "_view_name": "LayoutView",
       "align_content": null,
       "align_items": null,
       "align_self": null,
       "border_bottom": null,
       "border_left": null,
       "border_right": null,
       "border_top": null,
       "bottom": null,
       "display": null,
       "flex": null,
       "flex_flow": null,
       "grid_area": null,
       "grid_auto_columns": null,
       "grid_auto_flow": null,
       "grid_auto_rows": null,
       "grid_column": null,
       "grid_gap": null,
       "grid_row": null,
       "grid_template_areas": null,
       "grid_template_columns": null,
       "grid_template_rows": null,
       "height": null,
       "justify_content": null,
       "justify_items": null,
       "left": null,
       "margin": null,
       "max_height": null,
       "max_width": null,
       "min_height": null,
       "min_width": null,
       "object_fit": null,
       "object_position": null,
       "order": null,
       "overflow": null,
       "padding": null,
       "right": null,
       "top": null,
       "visibility": null,
       "width": null
      }
     },
     "fdb8dd3e1742469ba2369d3244926f82": {
      "model_module": "@jupyter-widgets/controls",
      "model_module_version": "2.0.0",
      "model_name": "HTMLStyleModel",
      "state": {
       "_model_module": "@jupyter-widgets/controls",
       "_model_module_version": "2.0.0",
       "_model_name": "HTMLStyleModel",
       "_view_count": null,
       "_view_module": "@jupyter-widgets/base",
       "_view_module_version": "2.0.0",
       "_view_name": "StyleView",
       "background": null,
       "description_width": "",
       "font_size": null,
       "text_color": null
      }
     }
    },
    "version_major": 2,
    "version_minor": 0
   }
  }
 },
 "nbformat": 4,
 "nbformat_minor": 5
}