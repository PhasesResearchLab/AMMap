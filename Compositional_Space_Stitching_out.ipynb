{
 "cells": [
  {
   "cell_type": "markdown",
   "id": "580b71ef",
   "metadata": {
    "tags": [
     "papermill-error-cell-tag"
    ]
   },
   "source": [
    "<span style=\"color:red; font-family:Helvetica Neue, Helvetica, Arial, sans-serif; font-size:2em;\">An Exception was encountered at '<a href=\"#papermill-error-cell\">In [50]</a>'.</span>"
   ]
  },
  {
   "cell_type": "markdown",
   "id": "7a06f5af",
   "metadata": {
    "papermill": {
     "duration": 0.009077,
     "end_time": "2025-01-26T23:36:45.495553",
     "exception": false,
     "start_time": "2025-01-26T23:36:45.486476",
     "status": "completed"
    },
    "tags": []
   },
   "source": []
  },
  {
   "cell_type": "markdown",
   "id": "bc5ec352",
   "metadata": {
    "papermill": {
     "duration": 0.008441,
     "end_time": "2025-01-26T23:36:45.512704",
     "exception": false,
     "start_time": "2025-01-26T23:36:45.504263",
     "status": "completed"
    },
    "tags": []
   },
   "source": [
    "# 3. Building Compositional Space Complexes to Express Elaborate Design Problems\n",
    "\n",
    "> ***(before running this code, please consult Quick Start to make sure everything is set up)***\n",
    "\n",
    "> You will need the same dependencies as in [Tutorial No.2](02.AdditiveManufacturingPathPlanning.ipynb) (i.e., `pycalphad` and `pathfinding`), and additionally `igraph` in order to efficiently visualize the examples presented in this tutorial. **If you are running this in `nimplex`'s Codespaces, everything has been pre-installed for you.**"
   ]
  },
  {
   "cell_type": "markdown",
   "id": "016ea78d",
   "metadata": {
    "papermill": {
     "duration": 0.008372,
     "end_time": "2025-01-26T23:36:45.529890",
     "exception": false,
     "start_time": "2025-01-26T23:36:45.521518",
     "status": "completed"
    },
    "tags": []
   },
   "source": [
    "**In this tutorial, we will build upon `nimplex`'s graph representations and leverage our ability to combine (\"stitch\") them together without affecting the way we express the problem at hand and in an effortless fashion to dramatically speed up materials exploration.** In particular, we will show how to:\n",
    "\n",
    "1. **Plot graphs** (as in mathematical objects, not any figures) using [`igraph`](https://igraph.org/), which can be done quite directly using `nimplex`'s point grid and neighbor lists `edges = [(i,n) for i in range(len(gridAtt)) for n in nList[i]]`\n",
    "\n",
    "2. **Identify ordered subsystems in `nimplex` grids, like `A-B-C` and `C-A-B` within `A-B-C-D-E` and `D-C-G-F-A-H-B` to establish connectivity between them.** We will use this to combine 3 4-component systems (tetrahedra) by 2 3-component subsystems (triangles) to create a chain.\n",
    "\n",
    "3. Identify all subspaces of a given order in low dimensional and high dimensional spaces (e.g., all quantized compositions of any 3 things out of N) and combine (\"stitch\") them together to form a **simplex graphs that intersect themselves in 3D because of high dimensionality, yet still have the same (graph) structure**.\n",
    "\n",
    "4. **Construct a graph complex to explore all ternary combinations of `[\"Ti50Zr50\", \"Hf95Ti5\", \"NbTaWHf\", \"Mo80Nb10W10\", \"TiTa2\", \"Nb96Mo3W1\", \"Zr49 Hf1 Mo50\"]` (7 alloys)** under equilibrium phase constraint (relatively expensive to compute) and then explore the space with an additional low-cost screenig constraint (RMSAD - alloy strenght surrogate) that could also be an ML surrogate."
   ]
  },
  {
   "cell_type": "code",
   "execution_count": 53,
   "id": "f7df5857",
   "metadata": {
    "execution": {
     "iopub.execute_input": "2025-01-26T23:36:45.547261Z",
     "iopub.status.busy": "2025-01-26T23:36:45.547023Z",
     "iopub.status.idle": "2025-01-26T23:36:46.122160Z",
     "shell.execute_reply": "2025-01-26T23:36:46.121758Z"
    },
    "papermill": {
     "duration": 0.584736,
     "end_time": "2025-01-26T23:36:46.123015",
     "exception": false,
     "start_time": "2025-01-26T23:36:45.538279",
     "status": "completed"
    },
    "tags": []
   },
   "outputs": [],
   "source": [
    "import nimplex\n",
    "from utils import stitching\n",
    "from IPython.display import clear_output\n",
    "from itertools import combinations"
   ]
  },
  {
   "cell_type": "code",
   "execution_count": 54,
   "id": "8997aee7",
   "metadata": {
    "execution": {
     "iopub.execute_input": "2025-01-26T23:36:46.143046Z",
     "iopub.status.busy": "2025-01-26T23:36:46.142713Z",
     "iopub.status.idle": "2025-01-26T23:36:55.666769Z",
     "shell.execute_reply": "2025-01-26T23:36:55.666250Z"
    },
    "papermill": {
     "duration": 9.535963,
     "end_time": "2025-01-26T23:36:55.667730",
     "exception": false,
     "start_time": "2025-01-26T23:36:46.131767",
     "status": "completed"
    },
    "tags": []
   },
   "outputs": [],
   "source": [
    "import igraph as ig\n",
    "import plotly.graph_objs as go\n",
    "import numpy as np\n",
    "import random\n",
    "random.seed(123)"
   ]
  },
  {
   "cell_type": "code",
   "execution_count": null,
   "id": "85de7708",
   "metadata": {
    "papermill": {
     "duration": 0.008847,
     "end_time": "2025-01-26T23:36:55.857771",
     "exception": false,
     "start_time": "2025-01-26T23:36:55.848924",
     "status": "completed"
    },
    "tags": []
   },
   "outputs": [],
   "source": []
  },
  {
   "cell_type": "markdown",
   "id": "2659d10a",
   "metadata": {
    "papermill": {
     "duration": 0.008393,
     "end_time": "2025-01-26T23:36:55.874822",
     "exception": false,
     "start_time": "2025-01-26T23:36:55.866429",
     "status": "completed"
    },
    "tags": []
   },
   "source": [
    "## Plotting 4-Component Simplex Graph with `igraph`"
   ]
  },
  {
   "cell_type": "code",
   "execution_count": 55,
   "id": "493e9950",
   "metadata": {
    "execution": {
     "iopub.execute_input": "2025-01-26T23:36:55.892930Z",
     "iopub.status.busy": "2025-01-26T23:36:55.892631Z",
     "iopub.status.idle": "2025-01-26T23:36:55.919326Z",
     "shell.execute_reply": "2025-01-26T23:36:55.918968Z"
    },
    "papermill": {
     "duration": 0.036432,
     "end_time": "2025-01-26T23:36:55.920021",
     "exception": false,
     "start_time": "2025-01-26T23:36:55.883589",
     "status": "completed"
    },
    "tags": []
   },
   "outputs": [],
   "source": [
    "dim = 4\n",
    "ndiv = 6\n",
    "gridAtt, nList = nimplex.simplex_graph_py(dim, ndiv)"
   ]
  },
  {
   "cell_type": "code",
   "execution_count": 56,
   "id": "bb209355",
   "metadata": {
    "execution": {
     "iopub.execute_input": "2025-01-26T23:36:55.937893Z",
     "iopub.status.busy": "2025-01-26T23:36:55.937616Z",
     "iopub.status.idle": "2025-01-26T23:36:55.941113Z",
     "shell.execute_reply": "2025-01-26T23:36:55.940774Z"
    },
    "papermill": {
     "duration": 0.013048,
     "end_time": "2025-01-26T23:36:55.941784",
     "exception": false,
     "start_time": "2025-01-26T23:36:55.928736",
     "status": "completed"
    },
    "tags": []
   },
   "outputs": [],
   "source": [
    "edges = []\n",
    "for i in range(len(gridAtt)):\n",
    "    for n in nList[i]:\n",
    "        edges.append((i,n))"
   ]
  },
  {
   "cell_type": "code",
   "execution_count": 57,
   "id": "d6506448",
   "metadata": {
    "execution": {
     "iopub.execute_input": "2025-01-26T23:36:55.959767Z",
     "iopub.status.busy": "2025-01-26T23:36:55.959462Z",
     "iopub.status.idle": "2025-01-26T23:36:55.964938Z",
     "shell.execute_reply": "2025-01-26T23:36:55.964575Z"
    },
    "papermill": {
     "duration": 0.015162,
     "end_time": "2025-01-26T23:36:55.965629",
     "exception": false,
     "start_time": "2025-01-26T23:36:55.950467",
     "status": "completed"
    },
    "tags": []
   },
   "outputs": [],
   "source": [
    "def plotGraph(edges: list):\n",
    "    # Lets generate some seed positions for the nodes\n",
    "    G = ig.Graph(edges)\n",
    "    layout = G.layout_kamada_kawai(dim=3)\n",
    "    layout_array = np.array(layout.coords)\n",
    "    # Create edge traces\n",
    "    edge_traces = []\n",
    "    for edge in G.es:\n",
    "        start, end = edge.tuple\n",
    "        x0, y0, z0 = layout_array[start]\n",
    "        x1, y1, z1 = layout_array[end]\n",
    "        width = 5\n",
    "        edge_trace = go.Scatter3d(x=[x0, x1], y=[y0, y1], z=[z0, z1],\n",
    "                                line=dict(width=width, color='lightgray'),\n",
    "                                opacity=0.2,\n",
    "                                hoverinfo='none', mode='lines')\n",
    "        edge_traces.append(edge_trace)\n",
    "\n",
    "    node_trace = go.Scatter3d(x=layout_array[:, 0], y=layout_array[:, 1], z=layout_array[:, 2],\n",
    "                            mode='markers',\n",
    "                            marker=dict(size=3, \n",
    "                                        opacity=0.5,\n",
    "                                        line=None,\n",
    "                                        color='blue'),\n",
    "                            \n",
    "                            text=[f\"Node {i}\" for i in range(len(gridAtt))],\n",
    "                            hoverinfo='text')\n",
    "\n",
    "    # Create figure\n",
    "    fig = go.Figure(data=edge_traces + [node_trace])\n",
    "\n",
    "    # Update layout\n",
    "    fig.update_layout(\n",
    "        title='3D Graph with Feasibility Types',\n",
    "        scene=dict(\n",
    "            xaxis=dict(visible=False),\n",
    "            yaxis=dict(visible=False),\n",
    "            zaxis=dict(visible=False),\n",
    "        ),\n",
    "        showlegend=False,\n",
    "        margin=dict(l=0, r=0, b=0, t=0),\n",
    "        width=800\n",
    "    )\n",
    "\n",
    "    fig.show()"
   ]
  },
  {
   "cell_type": "code",
   "execution_count": 58,
   "id": "2b4e024b",
   "metadata": {
    "execution": {
     "iopub.execute_input": "2025-01-26T23:36:55.983580Z",
     "iopub.status.busy": "2025-01-26T23:36:55.983322Z",
     "iopub.status.idle": "2025-01-26T23:36:55.986123Z",
     "shell.execute_reply": "2025-01-26T23:36:55.985788Z"
    },
    "papermill": {
     "duration": 0.012396,
     "end_time": "2025-01-26T23:36:55.986746",
     "exception": false,
     "start_time": "2025-01-26T23:36:55.974350",
     "status": "completed"
    },
    "tags": []
   },
   "outputs": [],
   "source": [
    "#plotGraph(edges)\n",
    "clear_output()"
   ]
  },
  {
   "cell_type": "markdown",
   "id": "470193ec",
   "metadata": {
    "papermill": {
     "duration": 0.008705,
     "end_time": "2025-01-26T23:36:56.004184",
     "exception": false,
     "start_time": "2025-01-26T23:36:55.995479",
     "status": "completed"
    },
    "tags": []
   },
   "source": [
    "## Combining (\"Stitching\") 3 4-Component Systems into A Complex"
   ]
  },
  {
   "cell_type": "code",
   "execution_count": 59,
   "id": "8996b9cb",
   "metadata": {
    "execution": {
     "iopub.execute_input": "2025-01-26T23:36:56.022335Z",
     "iopub.status.busy": "2025-01-26T23:36:56.022082Z",
     "iopub.status.idle": "2025-01-26T23:36:56.024723Z",
     "shell.execute_reply": "2025-01-26T23:36:56.024401Z"
    },
    "papermill": {
     "duration": 0.01234,
     "end_time": "2025-01-26T23:36:56.025344",
     "exception": false,
     "start_time": "2025-01-26T23:36:56.013004",
     "status": "completed"
    },
    "tags": []
   },
   "outputs": [],
   "source": [
    "sys1 = [\"A\", \"B\", \"C\", \"D\"]\n",
    "sys2 = [\"B\", \"C\", \"D\", \"E\"]\n",
    "sys3 = [\"B\", \"D\", \"E\", \"F\"]"
   ]
  },
  {
   "cell_type": "code",
   "execution_count": 60,
   "id": "a454dc00",
   "metadata": {
    "execution": {
     "iopub.execute_input": "2025-01-26T23:36:56.043401Z",
     "iopub.status.busy": "2025-01-26T23:36:56.043189Z",
     "iopub.status.idle": "2025-01-26T23:36:56.046526Z",
     "shell.execute_reply": "2025-01-26T23:36:56.046169Z"
    },
    "papermill": {
     "duration": 0.013136,
     "end_time": "2025-01-26T23:36:56.047198",
     "exception": false,
     "start_time": "2025-01-26T23:36:56.034062",
     "status": "completed"
    },
    "tags": []
   },
   "outputs": [],
   "source": [
    "offset = len(gridAtt)\n",
    "for i in range(len(gridAtt)):\n",
    "    for n in nList[i]:\n",
    "        edges.append((i+offset,n+offset))\n",
    "for i in range(len(gridAtt)):\n",
    "    for n in nList[i]:\n",
    "        edges.append((i+offset*2,n+offset*2))"
   ]
  },
  {
   "cell_type": "code",
   "execution_count": 61,
   "id": "73aa1974",
   "metadata": {
    "execution": {
     "iopub.execute_input": "2025-01-26T23:36:56.065381Z",
     "iopub.status.busy": "2025-01-26T23:36:56.065127Z",
     "iopub.status.idle": "2025-01-26T23:36:56.067579Z",
     "shell.execute_reply": "2025-01-26T23:36:56.067237Z"
    },
    "papermill": {
     "duration": 0.012202,
     "end_time": "2025-01-26T23:36:56.068222",
     "exception": false,
     "start_time": "2025-01-26T23:36:56.056020",
     "status": "completed"
    },
    "tags": []
   },
   "outputs": [],
   "source": [
    "#plotGraph(edges)\n",
    "clear_output()"
   ]
  },
  {
   "cell_type": "code",
   "execution_count": 62,
   "id": "08c6348c",
   "metadata": {
    "execution": {
     "iopub.execute_input": "2025-01-26T23:36:56.086404Z",
     "iopub.status.busy": "2025-01-26T23:36:56.086114Z",
     "iopub.status.idle": "2025-01-26T23:36:56.103737Z",
     "shell.execute_reply": "2025-01-26T23:36:56.103403Z"
    },
    "papermill": {
     "duration": 0.027303,
     "end_time": "2025-01-26T23:36:56.104326",
     "exception": false,
     "start_time": "2025-01-26T23:36:56.077023",
     "status": "completed"
    },
    "tags": []
   },
   "outputs": [
    {
     "name": "stdout",
     "output_type": "stream",
     "text": [
      "[83, 82, 79, 73, 63, 48, 27]\n"
     ]
    }
   ],
   "source": [
    "stitchingPoints = stitching.findStitchingPoints_py(dim, ndiv, components=[\"A\", \"B\", \"C\", \"D\"])\n",
    "print(stitchingPoints[\"A-B\"])"
   ]
  },
  {
   "cell_type": "code",
   "execution_count": 63,
   "id": "40894329",
   "metadata": {
    "execution": {
     "iopub.execute_input": "2025-01-26T23:36:56.122563Z",
     "iopub.status.busy": "2025-01-26T23:36:56.122310Z",
     "iopub.status.idle": "2025-01-26T23:36:56.128678Z",
     "shell.execute_reply": "2025-01-26T23:36:56.128309Z"
    },
    "papermill": {
     "duration": 0.016164,
     "end_time": "2025-01-26T23:36:56.129318",
     "exception": false,
     "start_time": "2025-01-26T23:36:56.113154",
     "status": "completed"
    },
    "tags": []
   },
   "outputs": [],
   "source": [
    "stitchingPoints1 = stitching.findStitchingPoints_py(dim, ndiv, components=sys1, offset=0)\n",
    "stitchingPoints2 = stitching.findStitchingPoints_py(dim, ndiv, components=sys2, offset=len(gridAtt))\n",
    "stitchingPoints3 = stitching.findStitchingPoints_py(dim, ndiv, components=sys3, offset=len(gridAtt)*2)"
   ]
  },
  {
   "cell_type": "code",
   "execution_count": 64,
   "id": "a10f6cd9",
   "metadata": {
    "execution": {
     "iopub.execute_input": "2025-01-26T23:36:56.147477Z",
     "iopub.status.busy": "2025-01-26T23:36:56.147219Z",
     "iopub.status.idle": "2025-01-26T23:36:56.149641Z",
     "shell.execute_reply": "2025-01-26T23:36:56.149273Z"
    },
    "papermill": {
     "duration": 0.012119,
     "end_time": "2025-01-26T23:36:56.150283",
     "exception": false,
     "start_time": "2025-01-26T23:36:56.138164",
     "status": "completed"
    },
    "tags": []
   },
   "outputs": [],
   "source": [
    "for i, j in zip(stitchingPoints1[\"B-C-D\"], stitchingPoints2[\"B-C-D\"]):\n",
    "    edges.append((i, j))"
   ]
  },
  {
   "cell_type": "code",
   "execution_count": 65,
   "id": "9bb46bdc",
   "metadata": {
    "execution": {
     "iopub.execute_input": "2025-01-26T23:36:56.168511Z",
     "iopub.status.busy": "2025-01-26T23:36:56.168210Z",
     "iopub.status.idle": "2025-01-26T23:36:56.170563Z",
     "shell.execute_reply": "2025-01-26T23:36:56.170231Z"
    },
    "papermill": {
     "duration": 0.012107,
     "end_time": "2025-01-26T23:36:56.171222",
     "exception": false,
     "start_time": "2025-01-26T23:36:56.159115",
     "status": "completed"
    },
    "tags": []
   },
   "outputs": [],
   "source": [
    "for i, j in zip(stitchingPoints2[\"B-D-E\"], stitchingPoints3[\"B-D-E\"]):\n",
    "    edges.append((i, j))"
   ]
  },
  {
   "cell_type": "code",
   "execution_count": 66,
   "id": "03799894",
   "metadata": {
    "execution": {
     "iopub.execute_input": "2025-01-26T23:36:56.217951Z",
     "iopub.status.busy": "2025-01-26T23:36:56.217722Z",
     "iopub.status.idle": "2025-01-26T23:36:56.220467Z",
     "shell.execute_reply": "2025-01-26T23:36:56.220115Z"
    },
    "papermill": {
     "duration": 0.013102,
     "end_time": "2025-01-26T23:36:56.221063",
     "exception": false,
     "start_time": "2025-01-26T23:36:56.207961",
     "status": "completed"
    },
    "tags": []
   },
   "outputs": [],
   "source": [
    "#plotGraph(edges)\n",
    "clear_output()"
   ]
  },
  {
   "cell_type": "markdown",
   "id": "841a3359",
   "metadata": {
    "papermill": {
     "duration": 0.00872,
     "end_time": "2025-01-26T23:36:56.238835",
     "exception": false,
     "start_time": "2025-01-26T23:36:56.230115",
     "status": "completed"
    },
    "tags": []
   },
   "source": [
    "## Combining (\"Stitching\") 9 3-Component Systems into A Complex\n",
    "### Disregard this section for now Adam"
   ]
  },
  {
   "cell_type": "code",
   "execution_count": 67,
   "id": "a97f0ff7",
   "metadata": {
    "execution": {
     "iopub.execute_input": "2025-01-26T23:36:56.257505Z",
     "iopub.status.busy": "2025-01-26T23:36:56.257298Z",
     "iopub.status.idle": "2025-01-26T23:36:56.260195Z",
     "shell.execute_reply": "2025-01-26T23:36:56.259844Z"
    },
    "papermill": {
     "duration": 0.013007,
     "end_time": "2025-01-26T23:36:56.260856",
     "exception": false,
     "start_time": "2025-01-26T23:36:56.247849",
     "status": "completed"
    },
    "tags": []
   },
   "outputs": [],
   "source": [
    "dim = 3\n",
    "ndiv = 6\n",
    "nsys = 9\n",
    "gridAtt, nList = nimplex.simplex_graph_py(dim, ndiv)\n",
    "edges = []\n",
    "for i in range(len(gridAtt)):\n",
    "    for n in nList[i]:\n",
    "        edges.append((i,n))"
   ]
  },
  {
   "cell_type": "code",
   "execution_count": 68,
   "id": "c05c5f23",
   "metadata": {
    "execution": {
     "iopub.execute_input": "2025-01-26T23:36:56.279507Z",
     "iopub.status.busy": "2025-01-26T23:36:56.279239Z",
     "iopub.status.idle": "2025-01-26T23:36:56.284017Z",
     "shell.execute_reply": "2025-01-26T23:36:56.283657Z"
    },
    "papermill": {
     "duration": 0.014569,
     "end_time": "2025-01-26T23:36:56.284619",
     "exception": false,
     "start_time": "2025-01-26T23:36:56.270050",
     "status": "completed"
    },
    "tags": []
   },
   "outputs": [
    {
     "data": {
      "text/plain": [
       "28"
      ]
     },
     "execution_count": 68,
     "metadata": {},
     "output_type": "execute_result"
    }
   ],
   "source": [
    "len(gridAtt)"
   ]
  },
  {
   "cell_type": "code",
   "execution_count": 69,
   "id": "9851a379",
   "metadata": {
    "execution": {
     "iopub.execute_input": "2025-01-26T23:36:56.303521Z",
     "iopub.status.busy": "2025-01-26T23:36:56.303257Z",
     "iopub.status.idle": "2025-01-26T23:36:56.306152Z",
     "shell.execute_reply": "2025-01-26T23:36:56.305818Z"
    },
    "papermill": {
     "duration": 0.01292,
     "end_time": "2025-01-26T23:36:56.306730",
     "exception": false,
     "start_time": "2025-01-26T23:36:56.293810",
     "status": "completed"
    },
    "tags": []
   },
   "outputs": [],
   "source": [
    "offset = len(gridAtt)\n",
    "for sys in range(1,nsys+1):\n",
    "    for i in range(len(gridAtt)):\n",
    "        for n in nList[i]:\n",
    "            edges.append((i+offset*sys,n+offset*sys))"
   ]
  },
  {
   "cell_type": "code",
   "execution_count": 70,
   "id": "bebaac80",
   "metadata": {
    "execution": {
     "iopub.execute_input": "2025-01-26T23:36:56.325499Z",
     "iopub.status.busy": "2025-01-26T23:36:56.325283Z",
     "iopub.status.idle": "2025-01-26T23:36:56.327724Z",
     "shell.execute_reply": "2025-01-26T23:36:56.327410Z"
    },
    "papermill": {
     "duration": 0.012467,
     "end_time": "2025-01-26T23:36:56.328354",
     "exception": false,
     "start_time": "2025-01-26T23:36:56.315887",
     "status": "completed"
    },
    "tags": []
   },
   "outputs": [],
   "source": [
    "#plotGraph(edges)\n",
    "clear_output()"
   ]
  },
  {
   "cell_type": "code",
   "execution_count": 71,
   "id": "6e1d2456",
   "metadata": {
    "execution": {
     "iopub.execute_input": "2025-01-26T23:36:56.347120Z",
     "iopub.status.busy": "2025-01-26T23:36:56.346895Z",
     "iopub.status.idle": "2025-01-26T23:37:04.068235Z",
     "shell.execute_reply": "2025-01-26T23:37:04.067844Z"
    },
    "papermill": {
     "duration": 7.731538,
     "end_time": "2025-01-26T23:37:04.069076",
     "exception": false,
     "start_time": "2025-01-26T23:36:56.337538",
     "status": "completed"
    },
    "tags": []
   },
   "outputs": [],
   "source": [
    "import pandas as pd"
   ]
  },
  {
   "cell_type": "code",
   "execution_count": 72,
   "id": "7351edc7",
   "metadata": {
    "execution": {
     "iopub.execute_input": "2025-01-26T23:37:04.088322Z",
     "iopub.status.busy": "2025-01-26T23:37:04.088071Z",
     "iopub.status.idle": "2025-01-26T23:37:12.327851Z",
     "shell.execute_reply": "2025-01-26T23:37:12.327398Z"
    },
    "papermill": {
     "duration": 8.250045,
     "end_time": "2025-01-26T23:37:12.328802",
     "exception": false,
     "start_time": "2025-01-26T23:37:04.078757",
     "status": "completed"
    },
    "tags": []
   },
   "outputs": [],
   "source": [
    "from pycalphad import Database"
   ]
  },
  {
   "cell_type": "code",
   "execution_count": 73,
   "id": "9935614f",
   "metadata": {
    "execution": {
     "iopub.execute_input": "2025-01-26T23:37:12.349201Z",
     "iopub.status.busy": "2025-01-26T23:37:12.348889Z",
     "iopub.status.idle": "2025-01-26T23:37:14.228887Z",
     "shell.execute_reply": "2025-01-26T23:37:14.228449Z"
    },
    "papermill": {
     "duration": 1.89051,
     "end_time": "2025-01-26T23:37:14.229596",
     "exception": false,
     "start_time": "2025-01-26T23:37:12.339086",
     "status": "completed"
    },
    "tags": []
   },
   "outputs": [
    {
     "name": "stderr",
     "output_type": "stream",
     "text": [
      "/ocean/projects/dmr190011p/arichte1/micromamba/envs/v2ammap/lib/python3.11/site-packages/pycalphad/io/tdb.py:293: UserWarning: The type definition character `&` in `TYPE_DEFINITION & GES A_P_D A2_BCC MAGNETIC -1.0 4.00000E-01 ` is not used by any phase.\n",
      "  warnings.warn(f\"The type definition character `{typechar}` in `TYPE_DEFINITION {typechar} {line}` is not used by any phase.\")\n"
     ]
    }
   ],
   "source": [
    "dbCrNiV = Database(\"ammap/databases/Co-Cr-Fe-Ni-V_choi2019.TDB\")\n",
    "dbCrFeTi = Database(\"ammap/databases/Cr-Fe-Ti_wang2017.tdb\")\n",
    "dbCrFeNi = Database(\"ammap/databases/Cr-Fe-Ni_miettinen1999.tdb\")\n",
    "dbCrNiTi= Database(\"ammap/databases/Cr-Ni-Ti_huang2018.tdb\")\n",
    "dbCrTiV= Database(\"ammap/databases/Cr-Ti-V_ghosh2002.tdb\")\n",
    "dbFeNiTi= Database(\"ammap/databases/Fe-Ni-Ti_dekeyzer2009.tdb\")\n",
    "dbFeNiV= Database(\"ammap/databases/Fe-Ni-V_zhao2014.tdb\")\n",
    "dbFeTiV= Database(\"ammap/databases/Fe-Ti-V_guo2012.TDB\")\n",
    "dbNiTiV= Database(\"ammap/databases/Ni-Ti-V_zou2018.tdb\")\n",
    "CrNiV = ['Cr', 'Ni', 'V']\n",
    "CrFeTi = ['Cr', 'Fe', 'Ti']\n",
    "CrFeNi = ['Cr', 'Fe', 'Ni']\n",
    "CrNiTi = ['Cr', 'Ni', 'Ti']\n",
    "CrTiV = ['Cr', 'Ti', 'V']\n",
    "FeNiTi = ['Fe', 'Ni', 'Ti']\n",
    "FeNiV = ['Fe', 'Ni', 'V']\n",
    "FeTiV = ['Fe', 'Ti', 'V']\n",
    "NiTiV = ['Ni', 'Ti', 'V']\n"
   ]
  },
  {
   "cell_type": "code",
   "execution_count": 74,
   "id": "0a610bc5",
   "metadata": {
    "execution": {
     "iopub.execute_input": "2025-01-26T23:37:14.249517Z",
     "iopub.status.busy": "2025-01-26T23:37:14.249315Z",
     "iopub.status.idle": "2025-01-26T23:37:14.257000Z",
     "shell.execute_reply": "2025-01-26T23:37:14.256658Z"
    },
    "papermill": {
     "duration": 0.018102,
     "end_time": "2025-01-26T23:37:14.257665",
     "exception": false,
     "start_time": "2025-01-26T23:37:14.239563",
     "status": "completed"
    },
    "tags": []
   },
   "outputs": [],
   "source": [
    "stitchingPointsCrNiV = stitching.findStitchingPoints_py(dim, ndiv, components=CrNiV, offset=0)\n",
    "stitchingPointsCrFeTi = stitching.findStitchingPoints_py(dim, ndiv, components=CrFeTi, offset=len(gridAtt))\n",
    "stitchingPointsCrFeNi = stitching.findStitchingPoints_py(dim, ndiv, components=CrFeNi, offset=len(gridAtt)*2)\n",
    "stitchingPointsCrNiTi = stitching.findStitchingPoints_py(dim, ndiv, components=CrNiTi, offset=len(gridAtt)*3)\n",
    "stitchingPointsCrTiV = stitching.findStitchingPoints_py(dim, ndiv, components=CrTiV, offset=len(gridAtt)*4)\n",
    "stitchingPointsFeNiTi = stitching.findStitchingPoints_py(dim, ndiv, components=FeNiTi, offset=len(gridAtt)*5)\n",
    "stitchingPointsFeNiV = stitching.findStitchingPoints_py(dim, ndiv, components=FeNiV, offset=len(gridAtt)*6)\n",
    "stitchingPointsFeTiV = stitching.findStitchingPoints_py(dim, ndiv, components=FeTiV, offset=len(gridAtt)*7)\n",
    "stitchingPointsNiTiV = stitching.findStitchingPoints_py(dim, ndiv, components=NiTiV, offset=len(gridAtt)*8)"
   ]
  },
  {
   "cell_type": "markdown",
   "id": "c67149c5",
   "metadata": {
    "papermill": {
     "duration": 0.009269,
     "end_time": "2025-01-26T23:37:14.276339",
     "exception": false,
     "start_time": "2025-01-26T23:37:14.267070",
     "status": "completed"
    },
    "tags": []
   },
   "source": [
    "## Finding and Combining 3-Component Subspaces in 4-Component Space"
   ]
  },
  {
   "cell_type": "code",
   "execution_count": 75,
   "id": "843dd1a7",
   "metadata": {
    "execution": {
     "iopub.execute_input": "2025-01-26T23:37:14.295663Z",
     "iopub.status.busy": "2025-01-26T23:37:14.295342Z",
     "iopub.status.idle": "2025-01-26T23:37:14.298146Z",
     "shell.execute_reply": "2025-01-26T23:37:14.297830Z"
    },
    "papermill": {
     "duration": 0.012981,
     "end_time": "2025-01-26T23:37:14.298715",
     "exception": false,
     "start_time": "2025-01-26T23:37:14.285734",
     "status": "completed"
    },
    "tags": []
   },
   "outputs": [
    {
     "name": "stdout",
     "output_type": "stream",
     "text": [
      "[('A', 'B', 'C'), ('A', 'B', 'D'), ('A', 'C', 'D'), ('B', 'C', 'D')]\n"
     ]
    }
   ],
   "source": [
    "from itertools import combinations\n",
    "elements = [\"A\", \"B\", \"C\", \"D\"]\n",
    "ternaries = list(combinations(elements, 3))\n",
    "print(ternaries)"
   ]
  },
  {
   "cell_type": "code",
   "execution_count": 76,
   "id": "6553ab9d",
   "metadata": {
    "execution": {
     "iopub.execute_input": "2025-01-26T23:37:14.317872Z",
     "iopub.status.busy": "2025-01-26T23:37:14.317599Z",
     "iopub.status.idle": "2025-01-26T23:37:14.320068Z",
     "shell.execute_reply": "2025-01-26T23:37:14.319738Z"
    },
    "papermill": {
     "duration": 0.012621,
     "end_time": "2025-01-26T23:37:14.320721",
     "exception": false,
     "start_time": "2025-01-26T23:37:14.308100",
     "status": "completed"
    },
    "tags": []
   },
   "outputs": [],
   "source": [
    "gridAtt, nList = nimplex.simplex_graph_py(3,12)"
   ]
  },
  {
   "cell_type": "code",
   "execution_count": 77,
   "id": "a722ded0",
   "metadata": {
    "execution": {
     "iopub.execute_input": "2025-01-26T23:37:14.339984Z",
     "iopub.status.busy": "2025-01-26T23:37:14.339704Z",
     "iopub.status.idle": "2025-01-26T23:37:14.342865Z",
     "shell.execute_reply": "2025-01-26T23:37:14.342527Z"
    },
    "papermill": {
     "duration": 0.01344,
     "end_time": "2025-01-26T23:37:14.343437",
     "exception": false,
     "start_time": "2025-01-26T23:37:14.329997",
     "status": "completed"
    },
    "tags": []
   },
   "outputs": [],
   "source": [
    "edges = []\n",
    "# Ternaries\n",
    "for i, ternary in enumerate(ternaries):\n",
    "    offset = i*len(gridAtt)\n",
    "    for i in range(len(gridAtt)):\n",
    "        for n in nList[i]:\n",
    "            edges.append((i+offset,n+offset))"
   ]
  },
  {
   "cell_type": "code",
   "execution_count": 78,
   "id": "885d6734",
   "metadata": {
    "execution": {
     "iopub.execute_input": "2025-01-26T23:37:14.362604Z",
     "iopub.status.busy": "2025-01-26T23:37:14.362334Z",
     "iopub.status.idle": "2025-01-26T23:37:14.364840Z",
     "shell.execute_reply": "2025-01-26T23:37:14.364524Z"
    },
    "papermill": {
     "duration": 0.012821,
     "end_time": "2025-01-26T23:37:14.365430",
     "exception": false,
     "start_time": "2025-01-26T23:37:14.352609",
     "status": "completed"
    },
    "tags": []
   },
   "outputs": [],
   "source": [
    "#plotGraph(edges)\n",
    "clear_output()"
   ]
  },
  {
   "cell_type": "code",
   "execution_count": 79,
   "id": "921ec98d",
   "metadata": {
    "execution": {
     "iopub.execute_input": "2025-01-26T23:37:14.384941Z",
     "iopub.status.busy": "2025-01-26T23:37:14.384639Z",
     "iopub.status.idle": "2025-01-26T23:37:14.388741Z",
     "shell.execute_reply": "2025-01-26T23:37:14.388373Z"
    },
    "papermill": {
     "duration": 0.01454,
     "end_time": "2025-01-26T23:37:14.389386",
     "exception": false,
     "start_time": "2025-01-26T23:37:14.374846",
     "status": "completed"
    },
    "tags": []
   },
   "outputs": [
    {
     "name": "stdout",
     "output_type": "stream",
     "text": [
      "('A', 'B'): occurs between ternary [(0, 1)]\n",
      "('A', 'C'): occurs between ternary [(0, 2)]\n",
      "('B', 'C'): occurs between ternary [(0, 3)]\n",
      "('A', 'D'): occurs between ternary [(1, 2)]\n",
      "('B', 'D'): occurs between ternary [(1, 3)]\n",
      "('C', 'D'): occurs between ternary [(2, 3)]\n"
     ]
    }
   ],
   "source": [
    "stitchingBinaries = {}\n",
    "\n",
    "for i, combo1 in enumerate(ternaries):\n",
    "    for j, combo2 in enumerate(ternaries[i+1:], start=i+1):\n",
    "        common = set(combo1) & set(combo2)\n",
    "        if len(common) == 2:\n",
    "            overlap = tuple(sorted(common))\n",
    "            if overlap not in stitchingBinaries:\n",
    "                stitchingBinaries[overlap] = []\n",
    "            stitchingBinaries[overlap].append((i, j))\n",
    "\n",
    "for overlap, pairs in stitchingBinaries.items():\n",
    "    print(f\"{overlap}: occurs between ternary {pairs}\")"
   ]
  },
  {
   "cell_type": "markdown",
   "id": "8079fb01",
   "metadata": {
    "papermill": {
     "duration": 0.009556,
     "end_time": "2025-01-26T23:37:14.408505",
     "exception": false,
     "start_time": "2025-01-26T23:37:14.398949",
     "status": "completed"
    },
    "tags": []
   },
   "source": []
  },
  {
   "cell_type": "code",
   "execution_count": 80,
   "id": "ad764169",
   "metadata": {
    "execution": {
     "iopub.execute_input": "2025-01-26T23:37:14.428095Z",
     "iopub.status.busy": "2025-01-26T23:37:14.427848Z",
     "iopub.status.idle": "2025-01-26T23:37:14.444711Z",
     "shell.execute_reply": "2025-01-26T23:37:14.444384Z"
    },
    "papermill": {
     "duration": 0.027191,
     "end_time": "2025-01-26T23:37:14.445271",
     "exception": false,
     "start_time": "2025-01-26T23:37:14.418080",
     "status": "completed"
    },
    "tags": []
   },
   "outputs": [
    {
     "name": "stdout",
     "output_type": "stream",
     "text": [
      "Stitching 0 and 1 at ('A', 'B') from [90, 89, 87, 84, 80, 75, 69, 62, 54, 45, 35, 24, 12] to [181, 180, 178, 175, 171, 166, 160, 153, 145, 136, 126, 115, 103]\n",
      "Stitching 0 and 2 at ('A', 'C') from [90, 88, 85, 81, 76, 70, 63, 55, 46, 36, 25, 13, 0] to [272, 271, 269, 266, 262, 257, 251, 244, 236, 227, 217, 206, 194]\n",
      "Stitching 0 and 3 at ('B', 'C') from [12, 11, 10, 9, 8, 7, 6, 5, 4, 3, 2, 1, 0] to [363, 362, 360, 357, 353, 348, 342, 335, 327, 318, 308, 297, 285]\n",
      "Stitching 1 and 2 at ('A', 'D') from [181, 179, 176, 172, 167, 161, 154, 146, 137, 127, 116, 104, 91] to [272, 270, 267, 263, 258, 252, 245, 237, 228, 218, 207, 195, 182]\n",
      "Stitching 1 and 3 at ('B', 'D') from [103, 102, 101, 100, 99, 98, 97, 96, 95, 94, 93, 92, 91] to [363, 361, 358, 354, 349, 343, 336, 328, 319, 309, 298, 286, 273]\n",
      "Stitching 2 and 3 at ('C', 'D') from [194, 193, 192, 191, 190, 189, 188, 187, 186, 185, 184, 183, 182] to [285, 284, 283, 282, 281, 280, 279, 278, 277, 276, 275, 274, 273]\n"
     ]
    }
   ],
   "source": [
    "for stitchingBinary, ternaryPair in stitchingBinaries.items():\n",
    "    ternary1, ternary2 = ternaryPair[0][0], ternaryPair[0][1]\n",
    "    stitching1 = stitching.findStitchingPoints_py(\n",
    "        3, 12, \n",
    "        components=ternaries[ternary1],\n",
    "        offset=ternary1*len(gridAtt)\n",
    "        )[\"-\".join(stitchingBinary)]\n",
    "    stitching2 = stitching.findStitchingPoints_py(\n",
    "        3, 12, \n",
    "        components=ternaries[ternary2],\n",
    "        offset=ternary2*len(gridAtt)\n",
    "        )[\"-\".join(stitchingBinary)]\n",
    "    print(f\"Stitching {ternary1} and {ternary2} at {stitchingBinary} from {stitching1} to {stitching2}\")\n",
    "    for i, j in zip(stitching1, stitching2):\n",
    "        edges.append((i, j))"
   ]
  },
  {
   "cell_type": "code",
   "execution_count": 81,
   "id": "abf1f01c",
   "metadata": {
    "execution": {
     "iopub.execute_input": "2025-01-26T23:37:14.464645Z",
     "iopub.status.busy": "2025-01-26T23:37:14.464427Z",
     "iopub.status.idle": "2025-01-26T23:37:14.466713Z",
     "shell.execute_reply": "2025-01-26T23:37:14.466405Z"
    },
    "papermill": {
     "duration": 0.012475,
     "end_time": "2025-01-26T23:37:14.467263",
     "exception": false,
     "start_time": "2025-01-26T23:37:14.454788",
     "status": "completed"
    },
    "tags": []
   },
   "outputs": [],
   "source": [
    "#plotGraph(edges)\n",
    "clear_output()"
   ]
  },
  {
   "cell_type": "markdown",
   "id": "09f60882",
   "metadata": {
    "papermill": {
     "duration": 0.009146,
     "end_time": "2025-01-26T23:37:14.485793",
     "exception": false,
     "start_time": "2025-01-26T23:37:14.476647",
     "status": "completed"
    },
    "tags": []
   },
   "source": [
    "## In Higher Dimensional Cases (Stretched 2D Spaces Crossing Each Other in 3D)"
   ]
  },
  {
   "cell_type": "code",
   "execution_count": 82,
   "id": "0170f8c6",
   "metadata": {
    "execution": {
     "iopub.execute_input": "2025-01-26T23:37:14.504992Z",
     "iopub.status.busy": "2025-01-26T23:37:14.504735Z",
     "iopub.status.idle": "2025-01-26T23:37:14.507250Z",
     "shell.execute_reply": "2025-01-26T23:37:14.506927Z"
    },
    "papermill": {
     "duration": 0.012753,
     "end_time": "2025-01-26T23:37:14.507859",
     "exception": false,
     "start_time": "2025-01-26T23:37:14.495106",
     "status": "completed"
    },
    "tags": []
   },
   "outputs": [
    {
     "name": "stdout",
     "output_type": "stream",
     "text": [
      "[('A', 'B', 'C'), ('A', 'B', 'D'), ('A', 'B', 'E'), ('A', 'C', 'D'), ('A', 'C', 'E'), ('A', 'D', 'E'), ('B', 'C', 'D'), ('B', 'C', 'E'), ('B', 'D', 'E'), ('C', 'D', 'E')]\n"
     ]
    }
   ],
   "source": [
    "from itertools import combinations\n",
    "elements = [\"A\", \"B\", \"C\", \"D\", \"E\"]\n",
    "ternaries = list(combinations(elements, 3))\n",
    "print(ternaries)"
   ]
  },
  {
   "cell_type": "code",
   "execution_count": 83,
   "id": "ef165fd8",
   "metadata": {
    "execution": {
     "iopub.execute_input": "2025-01-26T23:37:14.527226Z",
     "iopub.status.busy": "2025-01-26T23:37:14.526960Z",
     "iopub.status.idle": "2025-01-26T23:37:14.529090Z",
     "shell.execute_reply": "2025-01-26T23:37:14.528788Z"
    },
    "papermill": {
     "duration": 0.012575,
     "end_time": "2025-01-26T23:37:14.529789",
     "exception": false,
     "start_time": "2025-01-26T23:37:14.517214",
     "status": "completed"
    },
    "tags": []
   },
   "outputs": [],
   "source": [
    "gridAtt, nList = nimplex.simplex_graph_py(3,12)"
   ]
  },
  {
   "cell_type": "code",
   "execution_count": 84,
   "id": "feaeda46",
   "metadata": {
    "execution": {
     "iopub.execute_input": "2025-01-26T23:37:14.550518Z",
     "iopub.status.busy": "2025-01-26T23:37:14.550255Z",
     "iopub.status.idle": "2025-01-26T23:37:14.553893Z",
     "shell.execute_reply": "2025-01-26T23:37:14.553591Z"
    },
    "papermill": {
     "duration": 0.014075,
     "end_time": "2025-01-26T23:37:14.554477",
     "exception": false,
     "start_time": "2025-01-26T23:37:14.540402",
     "status": "completed"
    },
    "tags": []
   },
   "outputs": [],
   "source": [
    "edges = []\n",
    "# Ternaries\n",
    "for i, ternary in enumerate(ternaries):\n",
    "    offset = i*len(gridAtt)\n",
    "    for i in range(len(gridAtt)):\n",
    "        for n in nList[i]:\n",
    "            edges.append((i+offset,n+offset))\n"
   ]
  },
  {
   "cell_type": "code",
   "execution_count": 85,
   "id": "7f93d320",
   "metadata": {
    "execution": {
     "iopub.execute_input": "2025-01-26T23:37:14.574052Z",
     "iopub.status.busy": "2025-01-26T23:37:14.573858Z",
     "iopub.status.idle": "2025-01-26T23:37:14.576051Z",
     "shell.execute_reply": "2025-01-26T23:37:14.575759Z"
    },
    "papermill": {
     "duration": 0.012505,
     "end_time": "2025-01-26T23:37:14.576610",
     "exception": false,
     "start_time": "2025-01-26T23:37:14.564105",
     "status": "completed"
    },
    "tags": []
   },
   "outputs": [],
   "source": [
    "#plotGraph(edges)\n",
    "clear_output()"
   ]
  },
  {
   "cell_type": "code",
   "execution_count": 86,
   "id": "9ea4efdd",
   "metadata": {
    "execution": {
     "iopub.execute_input": "2025-01-26T23:37:14.596127Z",
     "iopub.status.busy": "2025-01-26T23:37:14.595875Z",
     "iopub.status.idle": "2025-01-26T23:37:14.599368Z",
     "shell.execute_reply": "2025-01-26T23:37:14.599050Z"
    },
    "papermill": {
     "duration": 0.013799,
     "end_time": "2025-01-26T23:37:14.599949",
     "exception": false,
     "start_time": "2025-01-26T23:37:14.586150",
     "status": "completed"
    },
    "tags": []
   },
   "outputs": [
    {
     "name": "stdout",
     "output_type": "stream",
     "text": [
      "('A', 'B'): occurs between ternary [(0, 1), (0, 2), (1, 2)]\n",
      "('A', 'C'): occurs between ternary [(0, 3), (0, 4), (3, 4)]\n",
      "('B', 'C'): occurs between ternary [(0, 6), (0, 7), (6, 7)]\n",
      "('A', 'D'): occurs between ternary [(1, 3), (1, 5), (3, 5)]\n",
      "('B', 'D'): occurs between ternary [(1, 6), (1, 8), (6, 8)]\n",
      "('A', 'E'): occurs between ternary [(2, 4), (2, 5), (4, 5)]\n",
      "('B', 'E'): occurs between ternary [(2, 7), (2, 8), (7, 8)]\n",
      "('C', 'D'): occurs between ternary [(3, 6), (3, 9), (6, 9)]\n",
      "('C', 'E'): occurs between ternary [(4, 7), (4, 9), (7, 9)]\n",
      "('D', 'E'): occurs between ternary [(5, 8), (5, 9), (8, 9)]\n"
     ]
    }
   ],
   "source": [
    "stitchingBinaries = {}\n",
    "\n",
    "for i, combo1 in enumerate(ternaries):\n",
    "    for j, combo2 in enumerate(ternaries[i+1:], start=i+1):\n",
    "        common = set(combo1) & set(combo2)\n",
    "        if len(common) == 2:\n",
    "            overlap = tuple(sorted(common))\n",
    "            if overlap not in stitchingBinaries:\n",
    "                stitchingBinaries[overlap] = []\n",
    "            stitchingBinaries[overlap].append((i, j))\n",
    "\n",
    "for overlap, pairs in stitchingBinaries.items():\n",
    "    print(f\"{overlap}: occurs between ternary {pairs}\")"
   ]
  },
  {
   "cell_type": "code",
   "execution_count": 87,
   "id": "188eb2f7",
   "metadata": {
    "execution": {
     "iopub.execute_input": "2025-01-26T23:37:14.619898Z",
     "iopub.status.busy": "2025-01-26T23:37:14.619704Z",
     "iopub.status.idle": "2025-01-26T23:37:14.689993Z",
     "shell.execute_reply": "2025-01-26T23:37:14.689695Z"
    },
    "papermill": {
     "duration": 0.081066,
     "end_time": "2025-01-26T23:37:14.690601",
     "exception": false,
     "start_time": "2025-01-26T23:37:14.609535",
     "status": "completed"
    },
    "tags": []
   },
   "outputs": [
    {
     "name": "stdout",
     "output_type": "stream",
     "text": [
      "Stitching 0 and 1 at ('A', 'B') from [90, 89, 87, 84, 80, 75, 69, 62, 54, 45, 35, 24, 12] to [181, 180, 178, 175, 171, 166, 160, 153, 145, 136, 126, 115, 103]\n",
      "Stitching 0 and 2 at ('A', 'B') from [90, 89, 87, 84, 80, 75, 69, 62, 54, 45, 35, 24, 12] to [272, 271, 269, 266, 262, 257, 251, 244, 236, 227, 217, 206, 194]\n",
      "Stitching 1 and 2 at ('A', 'B') from [181, 180, 178, 175, 171, 166, 160, 153, 145, 136, 126, 115, 103] to [272, 271, 269, 266, 262, 257, 251, 244, 236, 227, 217, 206, 194]\n",
      "Stitching 0 and 3 at ('A', 'C') from [90, 88, 85, 81, 76, 70, 63, 55, 46, 36, 25, 13, 0] to [363, 362, 360, 357, 353, 348, 342, 335, 327, 318, 308, 297, 285]\n",
      "Stitching 0 and 4 at ('A', 'C') from [90, 88, 85, 81, 76, 70, 63, 55, 46, 36, 25, 13, 0] to [454, 453, 451, 448, 444, 439, 433, 426, 418, 409, 399, 388, 376]\n",
      "Stitching 3 and 4 at ('A', 'C') from [363, 362, 360, 357, 353, 348, 342, 335, 327, 318, 308, 297, 285] to [454, 453, 451, 448, 444, 439, 433, 426, 418, 409, 399, 388, 376]\n",
      "Stitching 0 and 6 at ('B', 'C') from [12, 11, 10, 9, 8, 7, 6, 5, 4, 3, 2, 1, 0] to [636, 635, 633, 630, 626, 621, 615, 608, 600, 591, 581, 570, 558]\n",
      "Stitching 0 and 7 at ('B', 'C') from [12, 11, 10, 9, 8, 7, 6, 5, 4, 3, 2, 1, 0] to [727, 726, 724, 721, 717, 712, 706, 699, 691, 682, 672, 661, 649]\n",
      "Stitching 6 and 7 at ('B', 'C') from [636, 635, 633, 630, 626, 621, 615, 608, 600, 591, 581, 570, 558] to [727, 726, 724, 721, 717, 712, 706, 699, 691, 682, 672, 661, 649]\n",
      "Stitching 1 and 3 at ('A', 'D') from [181, 179, 176, 172, 167, 161, 154, 146, 137, 127, 116, 104, 91] to [363, 361, 358, 354, 349, 343, 336, 328, 319, 309, 298, 286, 273]\n",
      "Stitching 1 and 5 at ('A', 'D') from [181, 179, 176, 172, 167, 161, 154, 146, 137, 127, 116, 104, 91] to [545, 544, 542, 539, 535, 530, 524, 517, 509, 500, 490, 479, 467]\n",
      "Stitching 3 and 5 at ('A', 'D') from [363, 361, 358, 354, 349, 343, 336, 328, 319, 309, 298, 286, 273] to [545, 544, 542, 539, 535, 530, 524, 517, 509, 500, 490, 479, 467]\n",
      "Stitching 1 and 6 at ('B', 'D') from [103, 102, 101, 100, 99, 98, 97, 96, 95, 94, 93, 92, 91] to [636, 634, 631, 627, 622, 616, 609, 601, 592, 582, 571, 559, 546]\n",
      "Stitching 1 and 8 at ('B', 'D') from [103, 102, 101, 100, 99, 98, 97, 96, 95, 94, 93, 92, 91] to [818, 817, 815, 812, 808, 803, 797, 790, 782, 773, 763, 752, 740]\n",
      "Stitching 6 and 8 at ('B', 'D') from [636, 634, 631, 627, 622, 616, 609, 601, 592, 582, 571, 559, 546] to [818, 817, 815, 812, 808, 803, 797, 790, 782, 773, 763, 752, 740]\n",
      "Stitching 2 and 4 at ('A', 'E') from [272, 270, 267, 263, 258, 252, 245, 237, 228, 218, 207, 195, 182] to [454, 452, 449, 445, 440, 434, 427, 419, 410, 400, 389, 377, 364]\n",
      "Stitching 2 and 5 at ('A', 'E') from [272, 270, 267, 263, 258, 252, 245, 237, 228, 218, 207, 195, 182] to [545, 543, 540, 536, 531, 525, 518, 510, 501, 491, 480, 468, 455]\n",
      "Stitching 4 and 5 at ('A', 'E') from [454, 452, 449, 445, 440, 434, 427, 419, 410, 400, 389, 377, 364] to [545, 543, 540, 536, 531, 525, 518, 510, 501, 491, 480, 468, 455]\n",
      "Stitching 2 and 7 at ('B', 'E') from [194, 193, 192, 191, 190, 189, 188, 187, 186, 185, 184, 183, 182] to [727, 725, 722, 718, 713, 707, 700, 692, 683, 673, 662, 650, 637]\n",
      "Stitching 2 and 8 at ('B', 'E') from [194, 193, 192, 191, 190, 189, 188, 187, 186, 185, 184, 183, 182] to [818, 816, 813, 809, 804, 798, 791, 783, 774, 764, 753, 741, 728]\n",
      "Stitching 7 and 8 at ('B', 'E') from [727, 725, 722, 718, 713, 707, 700, 692, 683, 673, 662, 650, 637] to [818, 816, 813, 809, 804, 798, 791, 783, 774, 764, 753, 741, 728]\n",
      "Stitching 3 and 6 at ('C', 'D') from [285, 284, 283, 282, 281, 280, 279, 278, 277, 276, 275, 274, 273] to [558, 557, 556, 555, 554, 553, 552, 551, 550, 549, 548, 547, 546]\n",
      "Stitching 3 and 9 at ('C', 'D') from [285, 284, 283, 282, 281, 280, 279, 278, 277, 276, 275, 274, 273] to [909, 908, 906, 903, 899, 894, 888, 881, 873, 864, 854, 843, 831]\n",
      "Stitching 6 and 9 at ('C', 'D') from [558, 557, 556, 555, 554, 553, 552, 551, 550, 549, 548, 547, 546] to [909, 908, 906, 903, 899, 894, 888, 881, 873, 864, 854, 843, 831]\n",
      "Stitching 4 and 7 at ('C', 'E') from [376, 375, 374, 373, 372, 371, 370, 369, 368, 367, 366, 365, 364] to [649, 648, 647, 646, 645, 644, 643, 642, 641, 640, 639, 638, 637]\n",
      "Stitching 4 and 9 at ('C', 'E') from [376, 375, 374, 373, 372, 371, 370, 369, 368, 367, 366, 365, 364] to [909, 907, 904, 900, 895, 889, 882, 874, 865, 855, 844, 832, 819]\n",
      "Stitching 7 and 9 at ('C', 'E') from [649, 648, 647, 646, 645, 644, 643, 642, 641, 640, 639, 638, 637] to [909, 907, 904, 900, 895, 889, 882, 874, 865, 855, 844, 832, 819]\n",
      "Stitching 5 and 8 at ('D', 'E') from [467, 466, 465, 464, 463, 462, 461, 460, 459, 458, 457, 456, 455] to [740, 739, 738, 737, 736, 735, 734, 733, 732, 731, 730, 729, 728]\n",
      "Stitching 5 and 9 at ('D', 'E') from [467, 466, 465, 464, 463, 462, 461, 460, 459, 458, 457, 456, 455] to [831, 830, 829, 828, 827, 826, 825, 824, 823, 822, 821, 820, 819]\n",
      "Stitching 8 and 9 at ('D', 'E') from [740, 739, 738, 737, 736, 735, 734, 733, 732, 731, 730, 729, 728] to [831, 830, 829, 828, 827, 826, 825, 824, 823, 822, 821, 820, 819]\n"
     ]
    }
   ],
   "source": [
    "for stitchingBinary, ternaryPairList in stitchingBinaries.items():\n",
    "    for ternaryPair in ternaryPairList:\n",
    "        ternary1, ternary2 = ternaryPair[0], ternaryPair[1]\n",
    "        stitching1 = stitching.findStitchingPoints_py(\n",
    "            3, 12, \n",
    "            components=ternaries[ternary1],\n",
    "            offset=ternary1*len(gridAtt)\n",
    "            )[\"-\".join(stitchingBinary)]\n",
    "        stitching2 = stitching.findStitchingPoints_py(\n",
    "            3, 12, \n",
    "            components=ternaries[ternary2],\n",
    "            offset=ternary2*len(gridAtt)\n",
    "            )[\"-\".join(stitchingBinary)]\n",
    "        print(f\"Stitching {ternary1} and {ternary2} at {stitchingBinary} from {stitching1} to {stitching2}\")\n",
    "        for i, j in zip(stitching1, stitching2):\n",
    "            edges.append((i, j))"
   ]
  },
  {
   "cell_type": "code",
   "execution_count": 88,
   "id": "4999da03",
   "metadata": {
    "execution": {
     "iopub.execute_input": "2025-01-26T23:37:14.730950Z",
     "iopub.status.busy": "2025-01-26T23:37:14.730754Z",
     "iopub.status.idle": "2025-01-26T23:37:14.733103Z",
     "shell.execute_reply": "2025-01-26T23:37:14.732791Z"
    },
    "papermill": {
     "duration": 0.014774,
     "end_time": "2025-01-26T23:37:14.733685",
     "exception": false,
     "start_time": "2025-01-26T23:37:14.718911",
     "status": "completed"
    },
    "tags": []
   },
   "outputs": [],
   "source": [
    "#plotGraph(edges)\n",
    "clear_output()"
   ]
  },
  {
   "cell_type": "markdown",
   "id": "c4cd0d35",
   "metadata": {
    "papermill": {
     "duration": 0.010779,
     "end_time": "2025-01-26T23:37:14.755395",
     "exception": false,
     "start_time": "2025-01-26T23:37:14.744616",
     "status": "completed"
    },
    "tags": []
   },
   "source": [
    "## Exploring Complex Formed by All 3-Component Alloy Subsystems of 5-Component Space (w. Infeasibility Gliding) #THIS ONE ADAM"
   ]
  },
  {
   "cell_type": "code",
   "execution_count": 89,
   "id": "1e40ed5a",
   "metadata": {
    "execution": {
     "iopub.execute_input": "2025-01-26T23:37:14.778054Z",
     "iopub.status.busy": "2025-01-26T23:37:14.777781Z",
     "iopub.status.idle": "2025-01-26T23:37:14.781816Z",
     "shell.execute_reply": "2025-01-26T23:37:14.781505Z"
    },
    "papermill": {
     "duration": 0.016039,
     "end_time": "2025-01-26T23:37:14.782460",
     "exception": false,
     "start_time": "2025-01-26T23:37:14.766421",
     "status": "completed"
    },
    "tags": []
   },
   "outputs": [
    {
     "name": "stdout",
     "output_type": "stream",
     "text": [
      "('Cr', 'Fe', 'Ni')                       -> ([1, 0, 0, 0, 0], [0, 1, 0, 0, 0], [0, 0, 1, 0, 0])\n",
      "('Cr', 'Fe', 'Ti')                       -> ([1, 0, 0, 0, 0], [0, 1, 0, 0, 0], [0, 0, 0, 1, 0])\n",
      "('Cr', 'Fe', 'V')                        -> ([1, 0, 0, 0, 0], [0, 1, 0, 0, 0], [0, 0, 0, 0, 1])\n",
      "('Cr', 'Ni', 'Ti')                       -> ([1, 0, 0, 0, 0], [0, 0, 1, 0, 0], [0, 0, 0, 1, 0])\n",
      "('Cr', 'Ni', 'V')                        -> ([1, 0, 0, 0, 0], [0, 0, 1, 0, 0], [0, 0, 0, 0, 1])\n",
      "('Cr', 'Ti', 'V')                        -> ([1, 0, 0, 0, 0], [0, 0, 0, 1, 0], [0, 0, 0, 0, 1])\n",
      "('Fe', 'Ni', 'Ti')                       -> ([0, 1, 0, 0, 0], [0, 0, 1, 0, 0], [0, 0, 0, 1, 0])\n",
      "('Fe', 'Ni', 'V')                        -> ([0, 1, 0, 0, 0], [0, 0, 1, 0, 0], [0, 0, 0, 0, 1])\n",
      "('Fe', 'Ti', 'V')                        -> ([0, 1, 0, 0, 0], [0, 0, 0, 1, 0], [0, 0, 0, 0, 1])\n",
      "('Ni', 'Ti', 'V')                        -> ([0, 0, 1, 0, 0], [0, 0, 0, 1, 0], [0, 0, 0, 0, 1])\n"
     ]
    }
   ],
   "source": [
    "elementalSpaceComponents = [\"Cr\",\"Fe\",\"Ni\",\"Ti\",\"V\"]\n",
    "#attainableSpaceComponents = [\"SS304L\", \"Ni\", \"Cr\", \"V\", \"Ti\"]\n",
    "attainableSpaceComponents = [\"Cr\", \"Fe\", \"Ni\", \"Ti\", \"V\"]\n",
    "attainableSpaceComponentPositions = [\n",
    "    #\"Cr\",\"Fe\",\"Ni\",\"Ti\",\"V\"\n",
    "    #[0.1993865031, 0.7044989775,0.096114519430,0,0],\n",
    "    [1,0,0,0,0],\n",
    "    [0,1,0,0,0],\n",
    "    [0,0,1,0,0],\n",
    "    [0,0,0,1,0],\n",
    "    [0,0,0,0,1]\n",
    "]    \n",
    "ternaries = list(combinations(attainableSpaceComponents, 3))\n",
    "ternaries_CompPos = list(combinations(attainableSpaceComponentPositions, 3))\n",
    "ndiv = 8\n",
    "gridAtt, nList = nimplex.simplex_graph_py(3, ndiv)\n",
    "\n",
    "for tern, terncp in zip(ternaries, ternaries_CompPos):\n",
    "    print(f\"{str(tern):<40} -> {terncp}\")"
   ]
  },
  {
   "cell_type": "code",
   "execution_count": null,
   "id": "20b8cdd1",
   "metadata": {
    "papermill": {
     "duration": 0.011111,
     "end_time": "2025-01-26T23:37:14.804836",
     "exception": false,
     "start_time": "2025-01-26T23:37:14.793725",
     "status": "completed"
    },
    "tags": []
   },
   "outputs": [],
   "source": []
  },
  {
   "cell_type": "code",
   "execution_count": 90,
   "id": "3e821cf2",
   "metadata": {
    "execution": {
     "iopub.execute_input": "2025-01-26T23:37:14.827731Z",
     "iopub.status.busy": "2025-01-26T23:37:14.827431Z",
     "iopub.status.idle": "2025-01-26T23:37:14.915200Z",
     "shell.execute_reply": "2025-01-26T23:37:14.914879Z"
    },
    "papermill": {
     "duration": 0.099906,
     "end_time": "2025-01-26T23:37:14.915879",
     "exception": false,
     "start_time": "2025-01-26T23:37:14.815973",
     "status": "completed"
    },
    "tags": []
   },
   "outputs": [],
   "source": [
    "# Edges list for graph plotting and path finding purposes\n",
    "edges = []\n",
    "# Connectivity list within each subsystem\n",
    "graphN = [[] for i in range(len(gridAtt * len(ternaries)))]\n",
    "# Connectivity list between subsystems\n",
    "graphNS = [[] for i in range(len(graphN))]\n",
    "compositions = []\n",
    "compositions_with_id = []  # List to store compositions with their identifiers\n",
    "ternaries_with_id = []  # New list to store ternaries_CompPos with their identifiers\n",
    "\n",
    "# Iterate over ternaries\n",
    "for i, terncp in enumerate(ternaries_CompPos):\n",
    "    ternaries_with_id.append((terncp, i))  # Add terncp and its id to the new list\n",
    "    \n",
    "    offset = i*len(gridAtt)\n",
    "    for j in range(len(gridAtt)):\n",
    "        for n in nList[j]:\n",
    "            edges.append((j+offset,n+offset))\n",
    "            graphN[j+offset].append(n+offset)\n",
    "    gridAttTemp, gridElTemp = nimplex.embeddedpair_simplex_grid_fractional_py(terncp, ndiv)\n",
    "    compositions += gridElTemp\n",
    "    \n",
    "    # Attach identifier to each composition\n",
    "    compositions_with_id.extend([(comp, i) for comp in gridElTemp])"
   ]
  },
  {
   "cell_type": "code",
   "execution_count": 91,
   "id": "a3ac53ed",
   "metadata": {
    "execution": {
     "iopub.execute_input": "2025-01-26T23:37:14.938569Z",
     "iopub.status.busy": "2025-01-26T23:37:14.938291Z",
     "iopub.status.idle": "2025-01-26T23:37:14.940933Z",
     "shell.execute_reply": "2025-01-26T23:37:14.940595Z"
    },
    "papermill": {
     "duration": 0.014554,
     "end_time": "2025-01-26T23:37:14.941563",
     "exception": false,
     "start_time": "2025-01-26T23:37:14.927009",
     "status": "completed"
    },
    "tags": []
   },
   "outputs": [
    {
     "name": "stdout",
     "output_type": "stream",
     "text": [
      "Ternary composition position ([1, 0, 0, 0, 0], [0, 1, 0, 0, 0], [0, 0, 1, 0, 0]) has id 0\n",
      "Ternary composition position ([1, 0, 0, 0, 0], [0, 1, 0, 0, 0], [0, 0, 0, 1, 0]) has id 1\n",
      "Ternary composition position ([1, 0, 0, 0, 0], [0, 1, 0, 0, 0], [0, 0, 0, 0, 1]) has id 2\n",
      "Ternary composition position ([1, 0, 0, 0, 0], [0, 0, 1, 0, 0], [0, 0, 0, 1, 0]) has id 3\n",
      "Ternary composition position ([1, 0, 0, 0, 0], [0, 0, 1, 0, 0], [0, 0, 0, 0, 1]) has id 4\n",
      "Ternary composition position ([1, 0, 0, 0, 0], [0, 0, 0, 1, 0], [0, 0, 0, 0, 1]) has id 5\n",
      "Ternary composition position ([0, 1, 0, 0, 0], [0, 0, 1, 0, 0], [0, 0, 0, 1, 0]) has id 6\n",
      "Ternary composition position ([0, 1, 0, 0, 0], [0, 0, 1, 0, 0], [0, 0, 0, 0, 1]) has id 7\n",
      "Ternary composition position ([0, 1, 0, 0, 0], [0, 0, 0, 1, 0], [0, 0, 0, 0, 1]) has id 8\n",
      "Ternary composition position ([0, 0, 1, 0, 0], [0, 0, 0, 1, 0], [0, 0, 0, 0, 1]) has id 9\n"
     ]
    }
   ],
   "source": [
    "# Example: Access ternaries_CompPos with their identifiers\n",
    "for terncp, ternary_id in ternaries_with_id:\n",
    "    print(f\"Ternary composition position {terncp} has id {ternary_id}\")"
   ]
  },
  {
   "cell_type": "code",
   "execution_count": 92,
   "id": "9f935387",
   "metadata": {
    "execution": {
     "iopub.execute_input": "2025-01-26T23:37:14.964366Z",
     "iopub.status.busy": "2025-01-26T23:37:14.964090Z",
     "iopub.status.idle": "2025-01-26T23:37:14.966932Z",
     "shell.execute_reply": "2025-01-26T23:37:14.966594Z"
    },
    "papermill": {
     "duration": 0.014982,
     "end_time": "2025-01-26T23:37:14.967559",
     "exception": false,
     "start_time": "2025-01-26T23:37:14.952577",
     "status": "completed"
    },
    "tags": []
   },
   "outputs": [],
   "source": [
    "mapping = {}\n",
    "for ternary, id in ternaries_with_id:\n",
    "    composition_key = ''.join(elementalSpaceComponents[i] for i in range(len(elementalSpaceComponents)) if any(ternary[j][i] for j in range(len(ternary))))\n",
    "    mapping[composition_key] = id"
   ]
  },
  {
   "cell_type": "code",
   "execution_count": 93,
   "id": "b7af2e3b",
   "metadata": {
    "execution": {
     "iopub.execute_input": "2025-01-26T23:37:14.990874Z",
     "iopub.status.busy": "2025-01-26T23:37:14.990607Z",
     "iopub.status.idle": "2025-01-26T23:37:14.994894Z",
     "shell.execute_reply": "2025-01-26T23:37:14.994537Z"
    },
    "papermill": {
     "duration": 0.01638,
     "end_time": "2025-01-26T23:37:14.995522",
     "exception": false,
     "start_time": "2025-01-26T23:37:14.979142",
     "status": "completed"
    },
    "tags": []
   },
   "outputs": [
    {
     "name": "stdout",
     "output_type": "stream",
     "text": [
      "Combination: CrFeNi, ID: 0, Elements: ['Cr', 'Fe', 'Ni']\n",
      "Combination: CrFeTi, ID: 1, Elements: ['Cr', 'Fe', 'Ti']\n",
      "Combination: CrFeV, ID: 2, Elements: ['Cr', 'Fe', 'V']\n",
      "Combination: CrNiTi, ID: 3, Elements: ['Cr', 'Ni', 'Ti']\n",
      "Combination: CrNiV, ID: 4, Elements: ['Cr', 'Ni', 'V']\n",
      "Combination: CrTiV, ID: 5, Elements: ['Cr', 'Ti', 'V']\n",
      "Combination: FeNiTi, ID: 6, Elements: ['Fe', 'Ni', 'Ti']\n",
      "Combination: FeNiV, ID: 7, Elements: ['Fe', 'Ni', 'V']\n",
      "Combination: FeTiV, ID: 8, Elements: ['Fe', 'Ti', 'V']\n",
      "Combination: NiTiV, ID: 9, Elements: ['Ni', 'Ti', 'V']\n"
     ]
    }
   ],
   "source": [
    "mapping = {}\n",
    "for ternary, id in ternaries_with_id:\n",
    "    composition_key = ''.join(elementalSpaceComponents[i] for i in range(len(elementalSpaceComponents)) if any(ternary[j][i] for j in range(len(ternary))))\n",
    "    individual_elements = [elementalSpaceComponents[i] for i in range(len(elementalSpaceComponents)) if any(ternary[j][i] for j in range(len(ternary)))]\n",
    "    mapping[composition_key] = {\n",
    "        'id': id,\n",
    "        'elements': individual_elements\n",
    "    }\n",
    "\n",
    "# Print the mapping to see the result\n",
    "for key, value in mapping.items():\n",
    "    print(f\"Combination: {key}, ID: {value['id']}, Elements: {value['elements']}\")"
   ]
  },
  {
   "cell_type": "code",
   "execution_count": 94,
   "id": "9895ed87",
   "metadata": {
    "execution": {
     "iopub.execute_input": "2025-01-26T23:37:15.018602Z",
     "iopub.status.busy": "2025-01-26T23:37:15.018335Z",
     "iopub.status.idle": "2025-01-26T23:37:15.022023Z",
     "shell.execute_reply": "2025-01-26T23:37:15.021703Z"
    },
    "papermill": {
     "duration": 0.016029,
     "end_time": "2025-01-26T23:37:15.022656",
     "exception": false,
     "start_time": "2025-01-26T23:37:15.006627",
     "status": "completed"
    },
    "tags": []
   },
   "outputs": [
    {
     "data": {
      "text/plain": [
       "{'CrFeNi': {'id': 0, 'elements': ['Cr', 'Fe', 'Ni']},\n",
       " 'CrFeTi': {'id': 1, 'elements': ['Cr', 'Fe', 'Ti']},\n",
       " 'CrFeV': {'id': 2, 'elements': ['Cr', 'Fe', 'V']},\n",
       " 'CrNiTi': {'id': 3, 'elements': ['Cr', 'Ni', 'Ti']},\n",
       " 'CrNiV': {'id': 4, 'elements': ['Cr', 'Ni', 'V']},\n",
       " 'CrTiV': {'id': 5, 'elements': ['Cr', 'Ti', 'V']},\n",
       " 'FeNiTi': {'id': 6, 'elements': ['Fe', 'Ni', 'Ti']},\n",
       " 'FeNiV': {'id': 7, 'elements': ['Fe', 'Ni', 'V']},\n",
       " 'FeTiV': {'id': 8, 'elements': ['Fe', 'Ti', 'V']},\n",
       " 'NiTiV': {'id': 9, 'elements': ['Ni', 'Ti', 'V']}}"
      ]
     },
     "execution_count": 94,
     "metadata": {},
     "output_type": "execute_result"
    }
   ],
   "source": [
    "mapping"
   ]
  },
  {
   "cell_type": "code",
   "execution_count": 95,
   "id": "a740cb34",
   "metadata": {
    "execution": {
     "iopub.execute_input": "2025-01-26T23:37:15.045875Z",
     "iopub.status.busy": "2025-01-26T23:37:15.045669Z",
     "iopub.status.idle": "2025-01-26T23:37:15.047974Z",
     "shell.execute_reply": "2025-01-26T23:37:15.047660Z"
    },
    "papermill": {
     "duration": 0.014518,
     "end_time": "2025-01-26T23:37:15.048558",
     "exception": false,
     "start_time": "2025-01-26T23:37:15.034040",
     "status": "completed"
    },
    "tags": []
   },
   "outputs": [],
   "source": [
    "# def find_duplicates(lst):\n",
    "#     duplicates_counts = {}\n",
    "#     for item in lst:\n",
    "#         # Use the string representation for complex/unhashable types\n",
    "#         item_str = str(item)\n",
    "#         if item_str in duplicates_counts:\n",
    "#             duplicates_counts[item_str] += 1\n",
    "#         else:\n",
    "#             duplicates_counts[item_str] = 1\n",
    "\n",
    "#     # Filter out items that only appear once\n",
    "#     duplicates = {item: count for item, count in duplicates_counts.items() if count > 1}\n",
    "    \n",
    "#     if not duplicates:\n",
    "#         return \"No duplicates found in the list.\"\n",
    "#     else:\n",
    "#         result = \"Duplicates found:\"\n",
    "#         for item, count in duplicates.items():\n",
    "#             result += f\"{item} appears {count} times\"\n",
    "#         return result.strip()"
   ]
  },
  {
   "cell_type": "code",
   "execution_count": 96,
   "id": "e2d42c15",
   "metadata": {
    "execution": {
     "iopub.execute_input": "2025-01-26T23:37:15.070954Z",
     "iopub.status.busy": "2025-01-26T23:37:15.070755Z",
     "iopub.status.idle": "2025-01-26T23:37:15.072647Z",
     "shell.execute_reply": "2025-01-26T23:37:15.072335Z"
    },
    "papermill": {
     "duration": 0.013807,
     "end_time": "2025-01-26T23:37:15.073367",
     "exception": false,
     "start_time": "2025-01-26T23:37:15.059560",
     "status": "completed"
    },
    "tags": []
   },
   "outputs": [],
   "source": [
    "# find_duplicates(compositions)"
   ]
  },
  {
   "cell_type": "code",
   "execution_count": 97,
   "id": "0ba8a4f7",
   "metadata": {
    "execution": {
     "iopub.execute_input": "2025-01-26T23:37:15.097345Z",
     "iopub.status.busy": "2025-01-26T23:37:15.097107Z",
     "iopub.status.idle": "2025-01-26T23:37:15.100762Z",
     "shell.execute_reply": "2025-01-26T23:37:15.100434Z"
    },
    "papermill": {
     "duration": 0.016228,
     "end_time": "2025-01-26T23:37:15.101315",
     "exception": false,
     "start_time": "2025-01-26T23:37:15.085087",
     "status": "completed"
    },
    "tags": []
   },
   "outputs": [
    {
     "name": "stdout",
     "output_type": "stream",
     "text": [
      "('Cr', 'Fe'): occurs between ternary [(0, 1), (0, 2), (1, 2)]\n",
      "('Cr', 'Ni'): occurs between ternary [(0, 3), (0, 4), (3, 4)]\n",
      "('Fe', 'Ni'): occurs between ternary [(0, 6), (0, 7), (6, 7)]\n",
      "('Cr', 'Ti'): occurs between ternary [(1, 3), (1, 5), (3, 5)]\n",
      "('Fe', 'Ti'): occurs between ternary [(1, 6), (1, 8), (6, 8)]\n",
      "('Cr', 'V'): occurs between ternary [(2, 4), (2, 5), (4, 5)]\n",
      "('Fe', 'V'): occurs between ternary [(2, 7), (2, 8), (7, 8)]\n",
      "('Ni', 'Ti'): occurs between ternary [(3, 6), (3, 9), (6, 9)]\n",
      "('Ni', 'V'): occurs between ternary [(4, 7), (4, 9), (7, 9)]\n",
      "('Ti', 'V'): occurs between ternary [(5, 8), (5, 9), (8, 9)]\n"
     ]
    }
   ],
   "source": [
    "stitchingBinaries = {}\n",
    "\n",
    "for i, combo1 in enumerate(ternaries):\n",
    "    for j, combo2 in enumerate(ternaries[i+1:], start=i+1):\n",
    "        common = set(combo1) & set(combo2)\n",
    "        if len(common) == 2:\n",
    "            overlap = tuple(sorted(common))\n",
    "            if overlap not in stitchingBinaries:\n",
    "                stitchingBinaries[overlap] = []\n",
    "            stitchingBinaries[overlap].append((i, j))\n",
    "\n",
    "for overlap, pairs in stitchingBinaries.items():\n",
    "    print(f\"{overlap}: occurs between ternary {pairs}\")"
   ]
  },
  {
   "cell_type": "code",
   "execution_count": 98,
   "id": "61539976",
   "metadata": {
    "execution": {
     "iopub.execute_input": "2025-01-26T23:37:15.122340Z",
     "iopub.status.busy": "2025-01-26T23:37:15.122145Z",
     "iopub.status.idle": "2025-01-26T23:37:15.157479Z",
     "shell.execute_reply": "2025-01-26T23:37:15.157179Z"
    },
    "papermill": {
     "duration": 0.046325,
     "end_time": "2025-01-26T23:37:15.158080",
     "exception": false,
     "start_time": "2025-01-26T23:37:15.111755",
     "status": "completed"
    },
    "tags": []
   },
   "outputs": [
    {
     "name": "stdout",
     "output_type": "stream",
     "text": [
      "Stitching 0 and 1 at ('Cr', 'Fe') from [44, 43, 41, 38, 34, 29, 23, 16, 8] to [89, 88, 86, 83, 79, 74, 68, 61, 53]\n",
      "Stitching 0 and 2 at ('Cr', 'Fe') from [44, 43, 41, 38, 34, 29, 23, 16, 8] to [134, 133, 131, 128, 124, 119, 113, 106, 98]\n",
      "Stitching 1 and 2 at ('Cr', 'Fe') from [89, 88, 86, 83, 79, 74, 68, 61, 53] to [134, 133, 131, 128, 124, 119, 113, 106, 98]\n",
      "Stitching 0 and 3 at ('Cr', 'Ni') from [44, 42, 39, 35, 30, 24, 17, 9, 0] to [179, 178, 176, 173, 169, 164, 158, 151, 143]\n",
      "Stitching 0 and 4 at ('Cr', 'Ni') from [44, 42, 39, 35, 30, 24, 17, 9, 0] to [224, 223, 221, 218, 214, 209, 203, 196, 188]\n",
      "Stitching 3 and 4 at ('Cr', 'Ni') from [179, 178, 176, 173, 169, 164, 158, 151, 143] to [224, 223, 221, 218, 214, 209, 203, 196, 188]\n",
      "Stitching 0 and 6 at ('Fe', 'Ni') from [8, 7, 6, 5, 4, 3, 2, 1, 0] to [314, 313, 311, 308, 304, 299, 293, 286, 278]\n",
      "Stitching 0 and 7 at ('Fe', 'Ni') from [8, 7, 6, 5, 4, 3, 2, 1, 0] to [359, 358, 356, 353, 349, 344, 338, 331, 323]\n",
      "Stitching 6 and 7 at ('Fe', 'Ni') from [314, 313, 311, 308, 304, 299, 293, 286, 278] to [359, 358, 356, 353, 349, 344, 338, 331, 323]\n",
      "Stitching 1 and 3 at ('Cr', 'Ti') from [89, 87, 84, 80, 75, 69, 62, 54, 45] to [179, 177, 174, 170, 165, 159, 152, 144, 135]\n",
      "Stitching 1 and 5 at ('Cr', 'Ti') from [89, 87, 84, 80, 75, 69, 62, 54, 45] to [269, 268, 266, 263, 259, 254, 248, 241, 233]\n",
      "Stitching 3 and 5 at ('Cr', 'Ti') from [179, 177, 174, 170, 165, 159, 152, 144, 135] to [269, 268, 266, 263, 259, 254, 248, 241, 233]\n",
      "Stitching 1 and 6 at ('Fe', 'Ti') from [53, 52, 51, 50, 49, 48, 47, 46, 45] to [314, 312, 309, 305, 300, 294, 287, 279, 270]\n",
      "Stitching 1 and 8 at ('Fe', 'Ti') from [53, 52, 51, 50, 49, 48, 47, 46, 45] to [404, 403, 401, 398, 394, 389, 383, 376, 368]\n",
      "Stitching 6 and 8 at ('Fe', 'Ti') from [314, 312, 309, 305, 300, 294, 287, 279, 270] to [404, 403, 401, 398, 394, 389, 383, 376, 368]\n",
      "Stitching 2 and 4 at ('Cr', 'V') from [134, 132, 129, 125, 120, 114, 107, 99, 90] to [224, 222, 219, 215, 210, 204, 197, 189, 180]\n",
      "Stitching 2 and 5 at ('Cr', 'V') from [134, 132, 129, 125, 120, 114, 107, 99, 90] to [269, 267, 264, 260, 255, 249, 242, 234, 225]\n",
      "Stitching 4 and 5 at ('Cr', 'V') from [224, 222, 219, 215, 210, 204, 197, 189, 180] to [269, 267, 264, 260, 255, 249, 242, 234, 225]\n",
      "Stitching 2 and 7 at ('Fe', 'V') from [98, 97, 96, 95, 94, 93, 92, 91, 90] to [359, 357, 354, 350, 345, 339, 332, 324, 315]\n",
      "Stitching 2 and 8 at ('Fe', 'V') from [98, 97, 96, 95, 94, 93, 92, 91, 90] to [404, 402, 399, 395, 390, 384, 377, 369, 360]\n",
      "Stitching 7 and 8 at ('Fe', 'V') from [359, 357, 354, 350, 345, 339, 332, 324, 315] to [404, 402, 399, 395, 390, 384, 377, 369, 360]\n",
      "Stitching 3 and 6 at ('Ni', 'Ti') from [143, 142, 141, 140, 139, 138, 137, 136, 135] to [278, 277, 276, 275, 274, 273, 272, 271, 270]\n",
      "Stitching 3 and 9 at ('Ni', 'Ti') from [143, 142, 141, 140, 139, 138, 137, 136, 135] to [449, 448, 446, 443, 439, 434, 428, 421, 413]\n",
      "Stitching 6 and 9 at ('Ni', 'Ti') from [278, 277, 276, 275, 274, 273, 272, 271, 270] to [449, 448, 446, 443, 439, 434, 428, 421, 413]\n",
      "Stitching 4 and 7 at ('Ni', 'V') from [188, 187, 186, 185, 184, 183, 182, 181, 180] to [323, 322, 321, 320, 319, 318, 317, 316, 315]\n",
      "Stitching 4 and 9 at ('Ni', 'V') from [188, 187, 186, 185, 184, 183, 182, 181, 180] to [449, 447, 444, 440, 435, 429, 422, 414, 405]\n",
      "Stitching 7 and 9 at ('Ni', 'V') from [323, 322, 321, 320, 319, 318, 317, 316, 315] to [449, 447, 444, 440, 435, 429, 422, 414, 405]\n",
      "Stitching 5 and 8 at ('Ti', 'V') from [233, 232, 231, 230, 229, 228, 227, 226, 225] to [368, 367, 366, 365, 364, 363, 362, 361, 360]\n",
      "Stitching 5 and 9 at ('Ti', 'V') from [233, 232, 231, 230, 229, 228, 227, 226, 225] to [413, 412, 411, 410, 409, 408, 407, 406, 405]\n",
      "Stitching 8 and 9 at ('Ti', 'V') from [368, 367, 366, 365, 364, 363, 362, 361, 360] to [413, 412, 411, 410, 409, 408, 407, 406, 405]\n"
     ]
    }
   ],
   "source": [
    "for stitchingBinary, ternaryPairList in stitchingBinaries.items():\n",
    "    for ternaryPair in ternaryPairList:\n",
    "        ternary1, ternary2 = ternaryPair[0], ternaryPair[1]\n",
    "        stitching1 = stitching.findStitchingPoints_py(\n",
    "            3, ndiv, \n",
    "            components=ternaries[ternary1],\n",
    "            offset=ternary1*len(gridAtt)\n",
    "            )[\"-\".join(stitchingBinary)]\n",
    "        stitching2 = stitching.findStitchingPoints_py(\n",
    "            3, ndiv, \n",
    "            components=ternaries[ternary2],\n",
    "            offset=ternary2*len(gridAtt)\n",
    "            )[\"-\".join(stitchingBinary)]\n",
    "        print(f\"Stitching {ternary1} and {ternary2} at {stitchingBinary} from {stitching1} to {stitching2}\")\n",
    "        for i, j in zip(stitching1, stitching2):\n",
    "            edges.append((i, j))\n",
    "            graphNS[i].append(j)"
   ]
  },
  {
   "cell_type": "code",
   "execution_count": 99,
   "id": "da75fe5f",
   "metadata": {
    "execution": {
     "iopub.execute_input": "2025-01-26T23:37:15.181479Z",
     "iopub.status.busy": "2025-01-26T23:37:15.181223Z",
     "iopub.status.idle": "2025-01-26T23:37:16.839881Z",
     "shell.execute_reply": "2025-01-26T23:37:16.839529Z"
    },
    "papermill": {
     "duration": 1.671112,
     "end_time": "2025-01-26T23:37:16.840600",
     "exception": false,
     "start_time": "2025-01-26T23:37:15.169488",
     "status": "completed"
    },
    "tags": []
   },
   "outputs": [
    {
     "name": "stdout",
     "output_type": "stream",
     "text": [
      "Unique phases for ammap/databases/Co-Cr-Fe-Ni-V_choi2019.TDB: ['HIGH_SIGMA', 'HCP_A3', 'FCC_A1', 'M3V', 'BCC_A2', 'L12_FCC', 'NI2V', 'B2_BCC', 'NI2V7', 'SIGMA', 'LIQUID', 'COV3']\n",
      "Unique phases for ammap/databases/Cr-Fe-Ti_wang2017.tdb: ['C15', 'HCP_A3', 'FCC_A1', 'C14', 'BCC_A2', 'C36', 'SIGMA', 'BCC_B2', 'LIQUID', 'TI5CR7FE17']\n",
      "Unique phases for ammap/databases/Cr-Fe-Ni_miettinen1999.tdb: ['HCP_A3', 'FCC_A1', 'BCC_A2', 'SIGMA', 'LIQUID']\n",
      "Unique phases for ammap/databases/Cr-Ni-Ti_huang2018.tdb: ['NITI2', 'HCP_A3', 'FCC_A1', 'NI3TI', 'LAVES_C36', 'BCC_A2', 'LAVES_C14', 'NITI', 'LAVES_C15', 'LIQUID']\n",
      "Unique phases for ammap/databases/Cr-Ti-V_ghosh2002.tdb: ['HCP_A3', 'LAVES_C36', 'BCC_A2', 'LAVES_C14', 'LAVES_C15', 'LIQUID']\n",
      "Unique phases for ammap/databases/Fe-Ni-Ti_dekeyzer2009.tdb: ['NITI2', 'C14', 'A2', 'NI3TI', 'FCC4', 'A1', 'LIQUID', 'BCC2', 'A3']\n",
      "Unique phases for ammap/databases/Fe-Ni-V_zhao2014.tdb: ['HCP_A3', 'FCC_A1', 'D022_NI3V', 'CBCC_A12', 'BCC_A2', 'NI2V', 'A2_BCC', 'LAVES_C14', 'SIGMA', 'A15_NI2V7', 'LAVES_C15', 'LIQUID', 'FE4N', 'CUB_A13']\n",
      "Unique phases for ammap/databases/Fe-Ti-V_guo2012.TDB: ['B2', 'HCP_A3', 'FCC_A1', 'C14', 'BCC_A2', 'SIGMA', 'LIQUID']\n",
      "Unique phases for ammap/databases/Ni-Ti-V_zou2018.tdb: ['B2', 'NITI2', 'HCP_A3', 'FCC_A1', 'NI3TI', 'NI3V', 'CBCC_A12', 'BCC_A2', 'NI2V', 'BCT_A5', 'DIAMOND_A4', 'LAVES_C14', 'SIGMA', 'LAVES_C15', 'LIQUID', 'NIV3', 'CUB_A13']\n"
     ]
    }
   ],
   "source": [
    "from pycalphad import Database\n",
    "\n",
    "# List of database file paths\n",
    "db_files = [\n",
    "    \"ammap/databases/Co-Cr-Fe-Ni-V_choi2019.TDB\",\n",
    "    \"ammap/databases/Cr-Fe-Ti_wang2017.tdb\",\n",
    "    \"ammap/databases/Cr-Fe-Ni_miettinen1999.tdb\",\n",
    "    \"ammap/databases/Cr-Ni-Ti_huang2018.tdb\",\n",
    "    \"ammap/databases/Cr-Ti-V_ghosh2002.tdb\",\n",
    "    \"ammap/databases/Fe-Ni-Ti_dekeyzer2009.tdb\",\n",
    "    \"ammap/databases/Fe-Ni-V_zhao2014.tdb\",\n",
    "    \"ammap/databases/Fe-Ti-V_guo2012.TDB\",\n",
    "    \"ammap/databases/Ni-Ti-V_zou2018.tdb\"\n",
    "]\n",
    "\n",
    "# Dictionary to store unique phases for each database\n",
    "unique_phases = {}\n",
    "\n",
    "# Iterate through each database file\n",
    "for db_file in db_files:\n",
    "    dbf = Database(db_file)\n",
    "    phases = list(set(dbf.phases.keys()))\n",
    "    unique_phases[db_file] = phases\n",
    "\n",
    "# Print unique phases for each database\n",
    "for db_file, phases in unique_phases.items():\n",
    "    print(f\"Unique phases for {db_file}: {phases}\")"
   ]
  },
  {
   "cell_type": "code",
   "execution_count": 100,
   "id": "037b2151",
   "metadata": {
    "execution": {
     "iopub.execute_input": "2025-01-26T23:37:16.865147Z",
     "iopub.status.busy": "2025-01-26T23:37:16.864905Z",
     "iopub.status.idle": "2025-01-26T23:37:16.867469Z",
     "shell.execute_reply": "2025-01-26T23:37:16.867171Z"
    },
    "papermill": {
     "duration": 0.015519,
     "end_time": "2025-01-26T23:37:16.868213",
     "exception": false,
     "start_time": "2025-01-26T23:37:16.852694",
     "status": "completed"
    },
    "tags": []
   },
   "outputs": [
    {
     "name": "stdout",
     "output_type": "stream",
     "text": [
      "['Cr', 'Fe', 'Ni', 'Ti', 'V']\n",
      "Loaded TDB file with phases considered: ['B2', 'NITI2', 'HCP_A3', 'FCC_A1', 'NI3TI', 'NI3V', 'CBCC_A12', 'BCC_A2', 'NI2V', 'BCT_A5', 'DIAMOND_A4', 'LAVES_C14', 'SIGMA', 'LAVES_C15', 'LIQUID', 'NIV3', 'CUB_A13']\n"
     ]
    }
   ],
   "source": [
    "\n",
    "#dbf = Database(\"CrHfMoNbTaTiVWZr_9element_Feb2023.tdb\")\n",
    "phases = list(set(dbf.phases.keys()))\n",
    "print(elementalSpaceComponents)\n",
    "print(f'Loaded TDB file with phases considered: {phases}')\n",
    "#from myPycalphadCallable import equilibrium_callable"
   ]
  },
  {
   "cell_type": "code",
   "execution_count": 101,
   "id": "4d7e7baa",
   "metadata": {
    "execution": {
     "iopub.execute_input": "2025-01-26T23:37:16.892060Z",
     "iopub.status.busy": "2025-01-26T23:37:16.891867Z",
     "iopub.status.idle": "2025-01-26T23:37:34.250179Z",
     "shell.execute_reply": "2025-01-26T23:37:34.249819Z"
    },
    "papermill": {
     "duration": 17.370848,
     "end_time": "2025-01-26T23:37:34.250805",
     "exception": false,
     "start_time": "2025-01-26T23:37:16.879957",
     "status": "completed"
    },
    "tags": []
   },
   "outputs": [
    {
     "name": "stdout",
     "output_type": "stream",
     "text": [
      "Imported equilibrium_callable_CrFeTi_08bbfb9a: <function equilibrium_callable at 0x7f0ee141e480>\n",
      "Imported equilibrium_callable_CrFeV_ab1edb07: <function equilibrium_callable at 0x7f0ed8ca5440>\n",
      "Imported equilibrium_callable_CrNiTi_a9f6f2ff: <function equilibrium_callable at 0x7f0ed8a49120>\n",
      "Imported equilibrium_callable_NiTiV_1d83c99c: <function equilibrium_callable at 0x7f0ed8880ae0>\n",
      "Imported equilibrium_callable_NiCrV_b7aba9ab: <function equilibrium_callable at 0x7f0ee1551f80>\n",
      "Imported equilibrium_callable_NiCrFe_f434a6d9: <function equilibrium_callable at 0x7f0ed81062a0>\n",
      "Imported equilibrium_callable_FeTiV_fa95b3ee: <function equilibrium_callable at 0x7f0ed7f44e00>\n",
      "Imported equilibrium_callable_FeNiV_b9b0384d: <function equilibrium_callable at 0x7f0ed8457e20>\n",
      "Imported equilibrium_callable_CrTiV_ed4c332b: <function equilibrium_callable at 0x7f0ed79ac360>\n",
      "Imported equilibrium_callable_FeNiTi_06a49695: <function equilibrium_callable at 0x7f0ed782b380>\n"
     ]
    }
   ],
   "source": [
    "import os\n",
    "import importlib\n",
    "\n",
    "# Directory containing the equilibrium files\n",
    "directory = \"ammap/callables/multi_system_equilibrium_and_scheil\"\n",
    "\n",
    "# Get all files starting with \"equilibrium\"\n",
    "equilibrium_files = [f for f in os.listdir(directory) if f.startswith(\"equilibrium\") and f.endswith(\".py\")]\n",
    "\n",
    "# Dictionary to store imported callables with unique names\n",
    "equilibrium_callables = {}\n",
    "\n",
    "# Import each equilibrium file and store the callable with a unique name\n",
    "for file in equilibrium_files:\n",
    "    module_name = file[:-3]  # Remove the .py extension\n",
    "    module_path = f\"ammap.callables.multi_system_equilibrium_and_scheil.{module_name}\"\n",
    "    module = importlib.import_module(module_path)\n",
    "    callable_name = f\"{module_name}\"\n",
    "    equilibrium_callables[callable_name] = getattr(module, \"equilibrium_callable\")\n",
    "\n",
    "# Print the imported callables\n",
    "for name, func in equilibrium_callables.items():\n",
    "    print(f\"Imported {name}: {func}\")"
   ]
  },
  {
   "cell_type": "markdown",
   "id": "39fc22c9",
   "metadata": {
    "tags": [
     "papermill-error-cell-tag"
    ]
   },
   "source": [
    "<span id=\"papermill-error-cell\" style=\"color:red; font-family:Helvetica Neue, Helvetica, Arial, sans-serif; font-size:2em;\">Execution using papermill encountered an exception here and stopped:</span>"
   ]
  },
  {
   "cell_type": "code",
   "execution_count": 102,
   "id": "f8415544",
   "metadata": {
    "execution": {
     "iopub.execute_input": "2025-01-26T23:37:34.273530Z",
     "iopub.status.busy": "2025-01-26T23:37:34.273364Z",
     "iopub.status.idle": "2025-01-26T23:37:35.669589Z",
     "shell.execute_reply": "2025-01-26T23:37:35.669045Z"
    },
    "papermill": {
     "duration": 1.407823,
     "end_time": "2025-01-26T23:37:35.670093",
     "exception": true,
     "start_time": "2025-01-26T23:37:34.262270",
     "status": "failed"
    },
    "tags": []
   },
   "outputs": [],
   "source": [
    "# Get all files starting with \"scheil\"\n",
    "scheil_files = [f for f in os.listdir(directory) if f.startswith(\"scheil\") and f.endswith(\".py\")]\n",
    "scheil_callables = {}"
   ]
  },
  {
   "cell_type": "code",
   "execution_count": 103,
   "id": "dde184e2",
   "metadata": {},
   "outputs": [
    {
     "name": "stdout",
     "output_type": "stream",
     "text": [
      "['scheil_callable_FeNiTi_06a49695.py', 'scheil_callable_NiCrFe_f434a6d9.py', 'scheil_callable_CrNiTi_a9f6f2ff.py', 'scheil_callable_FeNiV_b9b0384d.py', 'scheil_callable_CrFeV_ab1edb07.py', 'scheil_callable_NiCrV_b7aba9ab.py', 'scheil_callable_FeTiV_fa95b3ee.py', 'scheil_callable_CrTiV_ed4c332b.py', 'scheil_callable_NiTiV_1d83c99c.py', 'scheil_callable_CrFeTi_08bbfb9a.py']\n",
      "['equilibrium_callable_CrFeTi_08bbfb9a.py', 'equilibrium_callable_CrFeV_ab1edb07.py', 'equilibrium_callable_CrNiTi_a9f6f2ff.py', 'equilibrium_callable_NiTiV_1d83c99c.py', 'equilibrium_callable_NiCrV_b7aba9ab.py', 'equilibrium_callable_NiCrFe_f434a6d9.py', 'equilibrium_callable_FeTiV_fa95b3ee.py', 'equilibrium_callable_FeNiV_b9b0384d.py', 'equilibrium_callable_CrTiV_ed4c332b.py', 'equilibrium_callable_FeNiTi_06a49695.py']\n",
      "{'equilibrium_callable_CrFeTi_08bbfb9a': <function equilibrium_callable at 0x7f0ee141e480>, 'equilibrium_callable_CrFeV_ab1edb07': <function equilibrium_callable at 0x7f0ed8ca5440>, 'equilibrium_callable_CrNiTi_a9f6f2ff': <function equilibrium_callable at 0x7f0ed8a49120>, 'equilibrium_callable_NiTiV_1d83c99c': <function equilibrium_callable at 0x7f0ed8880ae0>, 'equilibrium_callable_NiCrV_b7aba9ab': <function equilibrium_callable at 0x7f0ee1551f80>, 'equilibrium_callable_NiCrFe_f434a6d9': <function equilibrium_callable at 0x7f0ed81062a0>, 'equilibrium_callable_FeTiV_fa95b3ee': <function equilibrium_callable at 0x7f0ed7f44e00>, 'equilibrium_callable_FeNiV_b9b0384d': <function equilibrium_callable at 0x7f0ed8457e20>, 'equilibrium_callable_CrTiV_ed4c332b': <function equilibrium_callable at 0x7f0ed79ac360>, 'equilibrium_callable_FeNiTi_06a49695': <function equilibrium_callable at 0x7f0ed782b380>}\n"
     ]
    }
   ],
   "source": [
    "print(scheil_files)\n",
    "print(equilibrium_files)\n",
    "print(equilibrium_callables)"
   ]
  },
  {
   "cell_type": "code",
   "execution_count": 104,
   "id": "677ac6a6",
   "metadata": {},
   "outputs": [
    {
     "name": "stdout",
     "output_type": "stream",
     "text": [
      "Importing module: ammap.callables.multi_system_equilibrium_and_scheil.scheil_callable_FeNiTi_06a49695\n",
      "Failed to import ammap.callables.multi_system_equilibrium_and_scheil.scheil_callable_FeNiTi_06a49695: /lib64/libstdc++.so.6: version `GLIBCXX_3.4.29' not found (required by /ocean/projects/dmr190011p/arichte1/micromamba/envs/v2ammap/lib/python3.11/site-packages/scipy/spatial/_ckdtree.cpython-311-x86_64-linux-gnu.so)\n",
      "Importing module: ammap.callables.multi_system_equilibrium_and_scheil.scheil_callable_NiCrFe_f434a6d9\n",
      "Failed to import ammap.callables.multi_system_equilibrium_and_scheil.scheil_callable_NiCrFe_f434a6d9: /lib64/libstdc++.so.6: version `GLIBCXX_3.4.29' not found (required by /ocean/projects/dmr190011p/arichte1/micromamba/envs/v2ammap/lib/python3.11/site-packages/scipy/spatial/_ckdtree.cpython-311-x86_64-linux-gnu.so)\n",
      "Importing module: ammap.callables.multi_system_equilibrium_and_scheil.scheil_callable_CrNiTi_a9f6f2ff\n",
      "Failed to import ammap.callables.multi_system_equilibrium_and_scheil.scheil_callable_CrNiTi_a9f6f2ff: /lib64/libstdc++.so.6: version `GLIBCXX_3.4.29' not found (required by /ocean/projects/dmr190011p/arichte1/micromamba/envs/v2ammap/lib/python3.11/site-packages/scipy/spatial/_ckdtree.cpython-311-x86_64-linux-gnu.so)\n",
      "Importing module: ammap.callables.multi_system_equilibrium_and_scheil.scheil_callable_FeNiV_b9b0384d\n",
      "Failed to import ammap.callables.multi_system_equilibrium_and_scheil.scheil_callable_FeNiV_b9b0384d: /lib64/libstdc++.so.6: version `GLIBCXX_3.4.29' not found (required by /ocean/projects/dmr190011p/arichte1/micromamba/envs/v2ammap/lib/python3.11/site-packages/scipy/spatial/_ckdtree.cpython-311-x86_64-linux-gnu.so)\n",
      "Importing module: ammap.callables.multi_system_equilibrium_and_scheil.scheil_callable_CrFeV_ab1edb07\n",
      "Failed to import ammap.callables.multi_system_equilibrium_and_scheil.scheil_callable_CrFeV_ab1edb07: /lib64/libstdc++.so.6: version `GLIBCXX_3.4.29' not found (required by /ocean/projects/dmr190011p/arichte1/micromamba/envs/v2ammap/lib/python3.11/site-packages/scipy/spatial/_ckdtree.cpython-311-x86_64-linux-gnu.so)\n",
      "Importing module: ammap.callables.multi_system_equilibrium_and_scheil.scheil_callable_NiCrV_b7aba9ab\n",
      "Failed to import ammap.callables.multi_system_equilibrium_and_scheil.scheil_callable_NiCrV_b7aba9ab: /lib64/libstdc++.so.6: version `GLIBCXX_3.4.29' not found (required by /ocean/projects/dmr190011p/arichte1/micromamba/envs/v2ammap/lib/python3.11/site-packages/scipy/spatial/_ckdtree.cpython-311-x86_64-linux-gnu.so)\n",
      "Importing module: ammap.callables.multi_system_equilibrium_and_scheil.scheil_callable_FeTiV_fa95b3ee\n",
      "Failed to import ammap.callables.multi_system_equilibrium_and_scheil.scheil_callable_FeTiV_fa95b3ee: /lib64/libstdc++.so.6: version `GLIBCXX_3.4.29' not found (required by /ocean/projects/dmr190011p/arichte1/micromamba/envs/v2ammap/lib/python3.11/site-packages/scipy/spatial/_ckdtree.cpython-311-x86_64-linux-gnu.so)\n",
      "Importing module: ammap.callables.multi_system_equilibrium_and_scheil.scheil_callable_CrTiV_ed4c332b\n",
      "Failed to import ammap.callables.multi_system_equilibrium_and_scheil.scheil_callable_CrTiV_ed4c332b: /lib64/libstdc++.so.6: version `GLIBCXX_3.4.29' not found (required by /ocean/projects/dmr190011p/arichte1/micromamba/envs/v2ammap/lib/python3.11/site-packages/scipy/spatial/_ckdtree.cpython-311-x86_64-linux-gnu.so)\n",
      "Importing module: ammap.callables.multi_system_equilibrium_and_scheil.scheil_callable_NiTiV_1d83c99c\n",
      "Failed to import ammap.callables.multi_system_equilibrium_and_scheil.scheil_callable_NiTiV_1d83c99c: /lib64/libstdc++.so.6: version `GLIBCXX_3.4.29' not found (required by /ocean/projects/dmr190011p/arichte1/micromamba/envs/v2ammap/lib/python3.11/site-packages/scipy/spatial/_ckdtree.cpython-311-x86_64-linux-gnu.so)\n",
      "Importing module: ammap.callables.multi_system_equilibrium_and_scheil.scheil_callable_CrFeTi_08bbfb9a\n",
      "Failed to import ammap.callables.multi_system_equilibrium_and_scheil.scheil_callable_CrFeTi_08bbfb9a: /lib64/libstdc++.so.6: version `GLIBCXX_3.4.29' not found (required by /ocean/projects/dmr190011p/arichte1/micromamba/envs/v2ammap/lib/python3.11/site-packages/scipy/spatial/_ckdtree.cpython-311-x86_64-linux-gnu.so)\n"
     ]
    }
   ],
   "source": [
    "import importlib\n",
    "import os\n",
    "\n",
    "# Debugging the scheil_files loop\n",
    "for file in scheil_files:\n",
    "    module_name = file[:-3]  # Remove the .py extension\n",
    "    module_path = f\"ammap.callables.multi_system_equilibrium_and_scheil.{module_name}\"\n",
    "    print(f\"Importing module: {module_path}\")\n",
    "    try:\n",
    "        module = importlib.import_module(module_path)\n",
    "        callable_name = f\"{module_name}\"\n",
    "        scheil_callables[callable_name] = getattr(module, \"scheil_callable\")\n",
    "        print(f\"Added scheil callable: {callable_name}\")\n",
    "    except Exception as e:\n",
    "        print(f\"Failed to import {module_path}: {e}\")\n",
    "\n",
    "for name, func in scheil_callables.items():\n",
    "    print(f\"Imported {name}: {func}\")\n"
   ]
  },
  {
   "cell_type": "code",
   "execution_count": null,
   "id": "e10fce19",
   "metadata": {
    "papermill": {
     "duration": null,
     "end_time": null,
     "exception": null,
     "start_time": null,
     "status": "pending"
    },
    "tags": []
   },
   "outputs": [],
   "source": [
    "def process_filename(filename):\n",
    "    parts = filename.split('_')\n",
    "    if len(parts) >= 4:\n",
    "        middle_part = parts[2]\n",
    "        if middle_part in element_mapping:\n",
    "            return middle_part, element_mapping[middle_part]\n",
    "    return None, None"
   ]
  },
  {
   "cell_type": "code",
   "execution_count": null,
   "id": "79101cc3",
   "metadata": {
    "papermill": {
     "duration": null,
     "end_time": null,
     "exception": null,
     "start_time": null,
     "status": "pending"
    },
    "tags": []
   },
   "outputs": [],
   "source": [
    "element_mapping=mapping"
   ]
  },
  {
   "cell_type": "code",
   "execution_count": null,
   "id": "8a1fac7c",
   "metadata": {
    "papermill": {
     "duration": null,
     "end_time": null,
     "exception": null,
     "start_time": null,
     "status": "pending"
    },
    "tags": []
   },
   "outputs": [],
   "source": [
    "def process_key(key):\n",
    "    parts = key.split('_')\n",
    "    if len(parts) >= 3:\n",
    "        middle_part = parts[2]\n",
    "        if middle_part in mapping:\n",
    "            return middle_part, mapping[middle_part]['id'], mapping[middle_part]['elements']\n",
    "        \n",
    "        # If direct matching fails, try matching by elements\n",
    "        middle_elements = set(middle_part[i:i+2] for i in range(0, len(middle_part), 2))\n",
    "        for map_key, value in mapping.items():\n",
    "            if set(value['elements']) == middle_elements:\n",
    "                return middle_part, value['id'], value['elements']\n",
    "    \n",
    "    return None, None, None\n",
    "\n",
    "# Process each key in the equilibrium_callables dictionary\n",
    "id_to_callable = {}\n",
    "for key in equilibrium_callables:\n",
    "    middle_part, mapping_id, elements = process_key(key)\n",
    "    if middle_part and mapping_id is not None:\n",
    "        print(f\"Key: {key}\")\n",
    "        print(f\"The mapping number for {middle_part} is {mapping_id}\")\n",
    "        print(f\"Elements: {elements}\")\n",
    "        print(\"---\")\n",
    "        id_to_callable[mapping_id]=key\n",
    "    else:\n",
    "        print(f\"No mapping found for key: {key}\")\n",
    "        print(\"---\")"
   ]
  },
  {
   "cell_type": "code",
   "execution_count": null,
   "id": "f91f720e",
   "metadata": {
    "papermill": {
     "duration": null,
     "end_time": null,
     "exception": null,
     "start_time": null,
     "status": "pending"
    },
    "tags": []
   },
   "outputs": [],
   "source": [
    "id_to_callable"
   ]
  },
  {
   "cell_type": "code",
   "execution_count": null,
   "id": "1b65c94b",
   "metadata": {
    "papermill": {
     "duration": null,
     "end_time": null,
     "exception": null,
     "start_time": null,
     "status": "pending"
    },
    "tags": []
   },
   "outputs": [],
   "source": [
    "compositions_with_id[:5]"
   ]
  },
  {
   "cell_type": "code",
   "execution_count": null,
   "id": "7dc92f50",
   "metadata": {
    "papermill": {
     "duration": null,
     "end_time": null,
     "exception": null,
     "start_time": null,
     "status": "pending"
    },
    "tags": []
   },
   "outputs": [],
   "source": [
    "mapping"
   ]
  },
  {
   "cell_type": "code",
   "execution_count": null,
   "id": "9b218760",
   "metadata": {
    "papermill": {
     "duration": null,
     "end_time": null,
     "exception": null,
     "start_time": null,
     "status": "pending"
    },
    "tags": []
   },
   "outputs": [],
   "source": [
    "def reduce_compositions(compositions_with_id, mapping):\n",
    "    element_order = elementalSpaceComponents\n",
    "    system_comps_with_id = []\n",
    "    reduced_compositions = []\n",
    "    \n",
    "    for composition, comp_id in compositions_with_id:\n",
    "        relevant_entry = next((entry for entry in mapping.values() if entry['id'] == comp_id), None)\n",
    "        if not relevant_entry:\n",
    "            continue\n",
    "        \n",
    "        relevant_indices = [element_order.index(elem) for elem in relevant_entry['elements']]\n",
    "        reduced_point = [composition[index] for index in relevant_indices]\n",
    "        system_comps_with_id.append((reduced_point, comp_id))\n",
    "        reduced_compositions.append(reduced_point)\n",
    "    \n",
    "    return system_comps_with_id, reduced_compositions"
   ]
  },
  {
   "cell_type": "code",
   "execution_count": null,
   "id": "d01d6719",
   "metadata": {
    "papermill": {
     "duration": null,
     "end_time": null,
     "exception": null,
     "start_time": null,
     "status": "pending"
    },
    "tags": []
   },
   "outputs": [],
   "source": [
    "system_comps_with_id, reduced_compositions = reduce_compositions(compositions_with_id, mapping)"
   ]
  },
  {
   "cell_type": "code",
   "execution_count": null,
   "id": "f5aa34fd",
   "metadata": {
    "papermill": {
     "duration": null,
     "end_time": null,
     "exception": null,
     "start_time": null,
     "status": "pending"
    },
    "tags": []
   },
   "outputs": [],
   "source": [
    "from tqdm.contrib.concurrent import process_map"
   ]
  },
  {
   "cell_type": "code",
   "execution_count": null,
   "id": "448bf864",
   "metadata": {
    "papermill": {
     "duration": null,
     "end_time": null,
     "exception": null,
     "start_time": null,
     "status": "pending"
    },
    "tags": []
   },
   "outputs": [],
   "source": [
    "startingNodes = [0, 90, 200, 310] + random.sample(range(len(reduced_compositions)), 11)\n",
    "print(f\"Starting nodes: {startingNodes}\")\n",
    "\n",
    "for startingNode in startingNodes:\n",
    "    print(f\"Starting node: {reduced_compositions[startingNode]}\")"
   ]
  },
  {
   "cell_type": "code",
   "execution_count": null,
   "id": "c1dd3627",
   "metadata": {
    "papermill": {
     "duration": null,
     "end_time": null,
     "exception": null,
     "start_time": null,
     "status": "pending"
    },
    "tags": []
   },
   "outputs": [],
   "source": [
    "gridFeasible = [None]*len(reduced_compositions)\n",
    "queue = startingNodes.copy()\n",
    "explored = set()\n",
    "calcCount = 0"
   ]
  },
  {
   "cell_type": "code",
   "execution_count": null,
   "id": "0e2a2928",
   "metadata": {
    "papermill": {
     "duration": null,
     "end_time": null,
     "exception": null,
     "start_time": null,
     "status": "pending"
    },
    "tags": []
   },
   "outputs": [],
   "source": [
    "# Function to get the correct callable for a given composition\n",
    "def get_callable(composition):\n",
    "    for comp, id in compositions_with_id:\n",
    "        if comp == composition:\n",
    "            callable_name = id_to_callable.get(id)\n",
    "            if callable_name is None:\n",
    "                raise ValueError(f\"No callable name found for ID {id}\")\n",
    "            if callable_name in globals():\n",
    "                return globals()[callable_name]\n",
    "            else:\n",
    "                raise NameError(f\"Function '{callable_name}' not found in global scope\")\n",
    "    raise ValueError(f\"No callable found for composition {composition}\")\n",
    "\n",
    "def process_composition(elP):\n",
    "    try:\n",
    "        callable_func = get_callable(elP)\n",
    "        return callable_func(elP)\n",
    "    except Exception as e:\n",
    "        print(f\"Error processing composition {elP}: {str(e)}\")\n",
    "        return None\n"
   ]
  },
  {
   "cell_type": "code",
   "execution_count": null,
   "id": "de277dfb",
   "metadata": {
    "papermill": {
     "duration": null,
     "end_time": null,
     "exception": null,
     "start_time": null,
     "status": "pending"
    },
    "tags": []
   },
   "outputs": [],
   "source": [
    "equilibrium_callables"
   ]
  },
  {
   "cell_type": "code",
   "execution_count": null,
   "id": "aed2a724",
   "metadata": {
    "papermill": {
     "duration": null,
     "end_time": null,
     "exception": null,
     "start_time": null,
     "status": "pending"
    },
    "tags": []
   },
   "outputs": [],
   "source": [
    "id_to_callable"
   ]
  },
  {
   "cell_type": "code",
   "execution_count": null,
   "id": "34d3a66b",
   "metadata": {
    "papermill": {
     "duration": null,
     "end_time": null,
     "exception": null,
     "start_time": null,
     "status": "pending"
    },
    "tags": []
   },
   "outputs": [],
   "source": [
    "sampled_compositions = compositions_with_id[::50]\n",
    "\n",
    "# Print the sampled compositions to verify\n",
    "for composition in sampled_compositions:\n",
    "    print(composition)"
   ]
  },
  {
   "cell_type": "code",
   "execution_count": null,
   "id": "44900b3f",
   "metadata": {
    "papermill": {
     "duration": null,
     "end_time": null,
     "exception": null,
     "start_time": null,
     "status": "pending"
    },
    "tags": []
   },
   "outputs": [],
   "source": [
    "print(equilibrium_callables['equilibrium_callable_CrNiTi_a9f6f2ff'](compositions[200]))\n",
    "compositions[200]"
   ]
  },
  {
   "cell_type": "code",
   "execution_count": null,
   "id": "ae9de4e8",
   "metadata": {
    "papermill": {
     "duration": null,
     "end_time": null,
     "exception": null,
     "start_time": null,
     "status": "pending"
    },
    "tags": []
   },
   "outputs": [],
   "source": [
    "from functools import partial\n",
    "\n",
    "def get_equilibrium_callable(composition, id_to_callable, equilibrium_callables):\n",
    "    composition_id = composition[1]  # Get the ID from the composition tuple\n",
    "    #print(f\"Composition ID: {composition_id}\")\n",
    "    callable_name = id_to_callable.get(composition_id)\n",
    "    if callable_name is None:\n",
    "        raise ValueError(f\"No callable found for composition ID {composition_id}\")\n",
    "    callable_func = equilibrium_callables.get(callable_name)\n",
    "    if callable_func is None:\n",
    "        raise ValueError(f\"No callable function found for name {callable_name}\")\n",
    "    return callable_func\n",
    "\n",
    "def apply_equilibrium_callable(callable_and_position):\n",
    "    callable_func, position = callable_and_position\n",
    "    return callable_func(position)"
   ]
  },
  {
   "cell_type": "code",
   "execution_count": null,
   "id": "37596a95",
   "metadata": {
    "papermill": {
     "duration": null,
     "end_time": null,
     "exception": null,
     "start_time": null,
     "status": "pending"
    },
    "tags": []
   },
   "outputs": [],
   "source": [
    "id_to_callable"
   ]
  },
  {
   "cell_type": "code",
   "execution_count": null,
   "id": "1198d7ed",
   "metadata": {
    "papermill": {
     "duration": null,
     "end_time": null,
     "exception": null,
     "start_time": null,
     "status": "pending"
    },
    "tags": []
   },
   "outputs": [],
   "source": [
    "from functools import partial\n",
    "\n",
    "def get_scheil_callable(composition, id_to_callable, scheil_callables):\n",
    "    composition_id = composition[1]  # Get the ID from the composition tuple\n",
    "    #print(f\"Composition ID: {composition_id}\")\n",
    "    callable_name = id_to_callable.get(composition_id)\n",
    "    if callable_name is None:\n",
    "        raise ValueError(f\"No callable found for composition ID {composition_id}\")\n",
    "    callable_func = scheil_callables.get(callable_name)\n",
    "    if callable_func is None:\n",
    "        raise ValueError(f\"No callable function found for name {callable_name}\")\n",
    "    return callable_func\n",
    "\n",
    "def apply_scheil_callable(callable_and_position):\n",
    "    callable_func, position = callable_and_position\n",
    "    return callable_func(position)"
   ]
  },
  {
   "cell_type": "code",
   "execution_count": null,
   "id": "3cdc58da",
   "metadata": {
    "papermill": {
     "duration": null,
     "end_time": null,
     "exception": null,
     "start_time": null,
     "status": "pending"
    },
    "tags": []
   },
   "outputs": [],
   "source": [
    "while len(queue) > 0:\n",
    "    print(f\"Queue: {queue}\")\n",
    "    # Calculate feasibilities of the current queue\n",
    "    elPositions = [reduced_compositions[i] for i in queue]\n",
    "    print(elPositions)\n",
    "    # Create a list of equilibrium callables for each composition\n",
    "    equilibrium_callables_list = [get_equilibrium_callable(system_comps_with_id[i], id_to_callable, equilibrium_callables) for i in queue]\n",
    "    \n",
    "    if len(queue) > 3:\n",
    "        results = process_map(apply_equilibrium_callable, zip(equilibrium_callables_list, elPositions), max_workers=4)\n",
    "    else:\n",
    "        results = [ec(elP) for ec, elP in zip(equilibrium_callables_list, elPositions)]\n",
    "    \n",
    "    # Extract only the 'Phases' component from the results\n",
    "    phases = [result['Phases'] for result in results]\n",
    "    \n",
    "    feasibilities = [len(set(p) & set(['FCC_A1', 'BCC_A2', 'HCP_A3', 'B2_BCC','A2_FCC'])) == 0 and p != [] for p in phases]\n",
    "\n",
    "    calcCount += len(feasibilities)\n",
    "    explored = explored.union(queue)\n",
    "\n",
    "    # Create next queue based on neighbors of feasible points\n",
    "    nextQueue = set()\n",
    "    nextQueuePlusEquivalent = set()\n",
    "    for f, i in zip(feasibilities, queue):\n",
    "        # Explored point\n",
    "        gridFeasible[i] = f\n",
    "\n",
    "        # And equivalent explored points based on system stitching\n",
    "        explored = explored.union(graphNS[i])\n",
    "        for eq in graphNS[i]:\n",
    "            gridFeasible[eq] = f\n",
    "\n",
    "        # Expand to neighbors of the point and equivalent points (only if the node has been feasible)\n",
    "        if f:\n",
    "            # Node neighbors in the same subsystem\n",
    "            for n in graphN[i]:\n",
    "                if n not in explored and n not in nextQueuePlusEquivalent:\n",
    "                    nextQueue.add(n)\n",
    "                    nextQueuePlusEquivalent = nextQueuePlusEquivalent.union([n] + graphNS[n])\n",
    "            # Equivalent nodes neighbors in other subsystems\n",
    "            for eq in graphNS[i]:\n",
    "                for n in graphN[eq]:\n",
    "                    if n not in explored and n not in nextQueuePlusEquivalent:\n",
    "                        nextQueue.add(n)\n",
    "                        nextQueuePlusEquivalent = nextQueuePlusEquivalent.union([n] + graphNS[n])\n",
    "\n",
    "    print(f\"Calculations done: {calcCount:<5} | Explored points: {len(explored):<5}\")\n",
    "    queue = list(nextQueue)"
   ]
  },
  {
   "cell_type": "code",
   "execution_count": null,
   "id": "19a3541b",
   "metadata": {
    "papermill": {
     "duration": null,
     "end_time": null,
     "exception": null,
     "start_time": null,
     "status": "pending"
    },
    "tags": []
   },
   "outputs": [],
   "source": []
  },
  {
   "cell_type": "code",
   "execution_count": null,
   "id": "76d31a81",
   "metadata": {
    "papermill": {
     "duration": null,
     "end_time": null,
     "exception": null,
     "start_time": null,
     "status": "pending"
    },
    "tags": []
   },
   "outputs": [],
   "source": []
  },
  {
   "cell_type": "markdown",
   "id": "0b7f76bb",
   "metadata": {
    "papermill": {
     "duration": null,
     "end_time": null,
     "exception": null,
     "start_time": null,
     "status": "pending"
    },
    "tags": []
   },
   "source": [
    "Out of the explored points, around 1040 should be feasible (i.e., satisfy the equilibrium constraint)."
   ]
  },
  {
   "cell_type": "code",
   "execution_count": null,
   "id": "64671eb7",
   "metadata": {
    "papermill": {
     "duration": null,
     "end_time": null,
     "exception": null,
     "start_time": null,
     "status": "pending"
    },
    "tags": []
   },
   "outputs": [],
   "source": []
  },
  {
   "cell_type": "markdown",
   "id": "32b8a9d8",
   "metadata": {
    "papermill": {
     "duration": null,
     "end_time": null,
     "exception": null,
     "start_time": null,
     "status": "pending"
    },
    "tags": []
   },
   "source": [
    "## Adding More Constraints"
   ]
  },
  {
   "cell_type": "code",
   "execution_count": null,
   "id": "efc9e1cf",
   "metadata": {
    "papermill": {
     "duration": null,
     "end_time": null,
     "exception": null,
     "start_time": null,
     "status": "pending"
    },
    "tags": []
   },
   "outputs": [],
   "source": [
    "import pqam_rmsadtandoc2023\n",
    "\n",
    "def c2rmsad(point):\n",
    "    formula = ' '.join([f'{c}{p}' for c, p in zip(elementalSpaceComponents, point)])\n",
    "    return pqam_rmsadtandoc2023.predict(formula)"
   ]
  },
  {
   "cell_type": "code",
   "execution_count": null,
   "id": "1b900d6e",
   "metadata": {
    "papermill": {
     "duration": null,
     "end_time": null,
     "exception": null,
     "start_time": null,
     "status": "pending"
    },
    "tags": []
   },
   "outputs": [],
   "source": [
    "print(compositions[0])\n",
    "c2rmsad(compositions[0])"
   ]
  },
  {
   "cell_type": "code",
   "execution_count": null,
   "id": "3a080a0d",
   "metadata": {
    "papermill": {
     "duration": null,
     "end_time": null,
     "exception": null,
     "start_time": null,
     "status": "pending"
    },
    "tags": []
   },
   "outputs": [],
   "source": [
    "avgRMSAD = sum([c2rmsad(p) for p in compositions])/len(compositions)\n",
    "print(f\"Average RMSAD: {avgRMSAD}\")"
   ]
  },
  {
   "cell_type": "code",
   "execution_count": null,
   "id": "b98028b0",
   "metadata": {
    "papermill": {
     "duration": null,
     "end_time": null,
     "exception": null,
     "start_time": null,
     "status": "pending"
    },
    "tags": []
   },
   "outputs": [],
   "source": [
    "startingNodes = [0, 90, 742, 799, 1048, 1070, 1538] + random.sample(range(len(compositions)), 13)\n",
    "\n",
    "for startingNode in startingNodes:\n",
    "    print(f\"Starting node ({startingNode}): {compositions[startingNode]}\")"
   ]
  },
  {
   "cell_type": "code",
   "execution_count": null,
   "id": "a9d3adb4",
   "metadata": {
    "papermill": {
     "duration": null,
     "end_time": null,
     "exception": null,
     "start_time": null,
     "status": "pending"
    },
    "tags": []
   },
   "outputs": [],
   "source": [
    "gridFeasible = [None]*len(compositions)\n",
    "queue = startingNodes.copy()\n",
    "explored = set()\n",
    "calcCount = 0\n",
    "\n",
    "minRMSAD = 0.2\n",
    "print(f\"Minimum RMSAD: {minRMSAD}\")"
   ]
  },
  {
   "cell_type": "code",
   "execution_count": null,
   "id": "0a634f21",
   "metadata": {
    "papermill": {
     "duration": null,
     "end_time": null,
     "exception": null,
     "start_time": null,
     "status": "pending"
    },
    "tags": []
   },
   "outputs": [],
   "source": [
    "while len(queue)>0:\n",
    "    print(f\"Queue: {queue}\")\n",
    "    # Skip all points with RMSAD below the minimum (inexpensive) by removing them from the queue, marking them as infeasible, and adding them to explored\n",
    "    for i in queue:\n",
    "        if c2rmsad(compositions[i]) < minRMSAD:\n",
    "            for eq in [i] + graphNS[i]:\n",
    "                gridFeasible[eq] = False\n",
    "            explored = explored.union([i] + graphNS[i])\n",
    "    queue = [i for i in queue if gridFeasible[i] is None]\n",
    "\n",
    "    # Calculate CALPHAD feasibilities (expensive) of the current queue\n",
    "    elPositions = [compositions[i] for i in queue]\n",
    "    if len(queue)>3:\n",
    "        phases = process_map(equilibrium_callable, elPositions, max_workers=4)\n",
    "    else:\n",
    "        phases = [equilibrium_callable(elP) for elP in elPositions]\n",
    "    feasibilities = [len(set(p) & set(['LAVES_C15', 'LAVES_C36', 'LAVES_C14', 'LIQUID']))==0 and p!=[] for p in phases]\n",
    "\n",
    "    calcCount += len(feasibilities)\n",
    "    explored = explored.union(queue)\n",
    "\n",
    "    # Create next queue based on neighbors of feasible points\n",
    "    nextQueue = set()\n",
    "    nextQueuePlusEquivalent = set()\n",
    "    for f, i in zip(feasibilities, queue):\n",
    "        # Explored point\n",
    "        gridFeasible[i] = f\n",
    "\n",
    "        # And equivalent explored points based on system stitching\n",
    "        explored = explored.union(graphNS[i])\n",
    "        for eq in graphNS[i]:\n",
    "            gridFeasible[eq] = f\n",
    "\n",
    "        # Expand to neighbors of the point and equivalent points (only if the node has been feasible)\n",
    "        if f:\n",
    "            # Node neighbors in the same subsystem\n",
    "            for n in graphN[i]:\n",
    "                if n not in explored and n not in nextQueuePlusEquivalent:\n",
    "                    nextQueue.add(n)\n",
    "                    nextQueuePlusEquivalent = nextQueuePlusEquivalent.union([n] + graphNS[n])\n",
    "            # Equivalent nodes neighbors in other subsystems\n",
    "            for eq in graphNS[i]:\n",
    "                for n in graphN[eq]:\n",
    "                    if n not in explored and n not in nextQueuePlusEquivalent:\n",
    "                        nextQueue.add(n)\n",
    "                        nextQueuePlusEquivalent = nextQueuePlusEquivalent.union([n] + graphNS[n])\n",
    "\n",
    "    print(f\"Calculations done: {calcCount:<5} | Explored points: {len(explored):<5}\")\n",
    "    queue = list(nextQueue)"
   ]
  },
  {
   "cell_type": "code",
   "execution_count": null,
   "id": "a647f775",
   "metadata": {
    "papermill": {
     "duration": null,
     "end_time": null,
     "exception": null,
     "start_time": null,
     "status": "pending"
    },
    "tags": []
   },
   "outputs": [],
   "source": [
    "sum([f for f in gridFeasible if f])"
   ]
  },
  {
   "cell_type": "code",
   "execution_count": null,
   "id": "e8a0e4c1",
   "metadata": {
    "papermill": {
     "duration": null,
     "end_time": null,
     "exception": null,
     "start_time": null,
     "status": "pending"
    },
    "tags": []
   },
   "outputs": [],
   "source": [
    "len(gridFeasible)"
   ]
  },
  {
   "cell_type": "code",
   "execution_count": null,
   "id": "7f51195e",
   "metadata": {
    "papermill": {
     "duration": null,
     "end_time": null,
     "exception": null,
     "start_time": null,
     "status": "pending"
    },
    "tags": []
   },
   "outputs": [],
   "source": []
  },
  {
   "cell_type": "code",
   "execution_count": null,
   "id": "6733aa59",
   "metadata": {
    "papermill": {
     "duration": null,
     "end_time": null,
     "exception": null,
     "start_time": null,
     "status": "pending"
    },
    "tags": []
   },
   "outputs": [],
   "source": []
  }
 ],
 "metadata": {
  "kernelspec": {
   "display_name": "v2ammap",
   "language": "python",
   "name": "python3"
  },
  "language_info": {
   "codemirror_mode": {
    "name": "ipython",
    "version": 3
   },
   "file_extension": ".py",
   "mimetype": "text/x-python",
   "name": "python",
   "nbconvert_exporter": "python",
   "pygments_lexer": "ipython3",
   "version": "3.11.9"
  },
  "papermill": {
   "default_parameters": {},
   "duration": 60.848387,
   "end_time": "2025-01-26T23:37:36.796100",
   "environment_variables": {},
   "exception": true,
   "input_path": "Compositional_Space_Stitching.ipynb",
   "output_path": "Compositional_Space_Stitching_out.ipynb",
   "parameters": {},
   "start_time": "2025-01-26T23:36:35.947713",
   "version": "2.6.0"
  }
 },
 "nbformat": 4,
 "nbformat_minor": 5
}
