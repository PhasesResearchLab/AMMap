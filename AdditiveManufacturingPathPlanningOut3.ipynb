{
 "cells": [
  {
   "cell_type": "markdown",
   "id": "084eb3b1",
   "metadata": {
    "tags": [
     "papermill-error-cell-tag"
    ]
   },
   "source": [
    "<span style=\"color:red; font-family:Helvetica Neue, Helvetica, Arial, sans-serif; font-size:2em;\">An Exception was encountered at '<a href=\"#papermill-error-cell\">In [14]</a>'.</span>"
   ]
  },
  {
   "cell_type": "markdown",
   "id": "67020197",
   "metadata": {
    "papermill": {
     "duration": 0.008166,
     "end_time": "2024-06-06T14:23:15.116360",
     "exception": false,
     "start_time": "2024-06-06T14:23:15.108194",
     "status": "completed"
    },
    "tags": []
   },
   "source": [
    "#Additive Manufacturing Path Planning Made Effortless\n",
    "\n",
    "--> ***(This notebook is built up on the existing nimplex software and examples. Please see https://github.com/amkrajewski/nimplex for setting up and utilizing nimplex)***\n",
    "\n",
    "--> You will additionally need `pycalphad` and `pathfinding` libraries to run part of this exercise. If you are running this in Codespaces, it has been pre-installed for you."
   ]
  },
  {
   "cell_type": "markdown",
   "id": "8f189f60",
   "metadata": {
    "papermill": {
     "duration": 0.00723,
     "end_time": "2024-06-06T14:23:15.131219",
     "exception": false,
     "start_time": "2024-06-06T14:23:15.123989",
     "status": "completed"
    },
    "tags": []
   },
   "source": [
    "**In this tutorial, we will demonstrate how effortless it is to dramatically speed up the exploration of feasible compositional spaces in high dimensional spaces through employing `nimplex`'s graph representations that abstract the underlying problem and dimensionality.**\n",
    "\n",
    "**We will also design several neat, mathematically optimal (given some criteria) paths in a 7-component chemical space connecting two alloys of interest by mixing 4 fixed-composition alloy powders to create a tetrahedral attainable/design space. The beauty of this approach is that at no point (except for plotting in 3D for \"human consumption\") will we explicitly consider the dimensionality or the distance as the connectivity between the points in the space has been abstracted into graph adjacency. If you wish to add another alloy to the design process, you add it to the list, and you are done :)**"
   ]
  },
  {
   "cell_type": "code",
   "execution_count": 1,
   "id": "58870aba",
   "metadata": {
    "execution": {
     "iopub.execute_input": "2024-06-06T14:23:15.146306Z",
     "iopub.status.busy": "2024-06-06T14:23:15.146059Z",
     "iopub.status.idle": "2024-06-06T14:23:15.952708Z",
     "shell.execute_reply": "2024-06-06T14:23:15.952305Z"
    },
    "papermill": {
     "duration": 0.815118,
     "end_time": "2024-06-06T14:23:15.953645",
     "exception": false,
     "start_time": "2024-06-06T14:23:15.138527",
     "status": "completed"
    },
    "tags": []
   },
   "outputs": [],
   "source": [
    "# Import nimplex and some of its plotting utilities\n",
    "import nimplex\n",
    "from utils import plotting"
   ]
  },
  {
   "cell_type": "code",
   "execution_count": 2,
   "id": "9d891093",
   "metadata": {
    "execution": {
     "iopub.execute_input": "2024-06-06T14:23:15.969045Z",
     "iopub.status.busy": "2024-06-06T14:23:15.968777Z",
     "iopub.status.idle": "2024-06-06T14:23:37.504887Z",
     "shell.execute_reply": "2024-06-06T14:23:37.504315Z"
    },
    "papermill": {
     "duration": 21.544815,
     "end_time": "2024-06-06T14:23:37.505986",
     "exception": false,
     "start_time": "2024-06-06T14:23:15.961171",
     "status": "completed"
    },
    "tags": []
   },
   "outputs": [],
   "source": [
    "# Python wrapper for Plotly library\n",
    "import plotly.express as px\n",
    "import pandas as pd\n",
    "from pprint import pprint"
   ]
  },
  {
   "cell_type": "markdown",
   "id": "cd1a8009",
   "metadata": {
    "papermill": {
     "duration": 0.009197,
     "end_time": "2024-06-06T14:23:37.523376",
     "exception": false,
     "start_time": "2024-06-06T14:23:37.514179",
     "status": "completed"
    },
    "tags": []
   },
   "source": [
    "## Example\n",
    "Let's get back to our example (QuickStart) of the pair of **attainable space** simplex grid and corresponding **elemental space** positions defined for `7`-component elemental space of `Ti`, `Zr`, `Hf`, `W`, `Nb`, `Ta`, and `Mo` formed by `4` alloys:\n",
    "- Ti50 Zr50 \n",
    "- Hf95 Ti5\n",
    "- Mo33 Nb33 Ta33\n",
    "- Mo10 Nb10 W80\n",
    "\n",
    "which we can represent as points in the elemental space:"
   ]
  },
  {
   "cell_type": "code",
   "execution_count": 3,
   "id": "bbc38d7e",
   "metadata": {
    "execution": {
     "iopub.execute_input": "2024-06-06T14:23:37.539840Z",
     "iopub.status.busy": "2024-06-06T14:23:37.539565Z",
     "iopub.status.idle": "2024-06-06T14:23:37.542969Z",
     "shell.execute_reply": "2024-06-06T14:23:37.542568Z"
    },
    "papermill": {
     "duration": 0.012614,
     "end_time": "2024-06-06T14:23:37.543822",
     "exception": false,
     "start_time": "2024-06-06T14:23:37.531208",
     "status": "completed"
    },
    "tags": []
   },
   "outputs": [],
   "source": [
    "elementalSpaceComponents = ['V', 'Ni', 'Cr', 'Fe']\n",
    "attainableSpaceComponents = ['SS304L', 'NiCr', 'V', 'FE']\n",
    "attainableSpaceComponentPositions = [[0, 0.096114519430,0.1993865031, 0.7044989775], [0, 80, 20, 0], [100, 0, 0, 0], [0, 0, 0, 100]]"
   ]
  },
  {
   "cell_type": "markdown",
   "id": "e6edf602",
   "metadata": {
    "papermill": {
     "duration": 0.007254,
     "end_time": "2024-06-06T14:23:37.558522",
     "exception": false,
     "start_time": "2024-06-06T14:23:37.551268",
     "status": "completed"
    },
    "tags": []
   },
   "source": [
    "And create tetrahedral grids with their compositions quantized at `12` divisions per dimension."
   ]
  },
  {
   "cell_type": "code",
   "execution_count": 4,
   "id": "45bf3726",
   "metadata": {
    "execution": {
     "iopub.execute_input": "2024-06-06T14:23:37.574268Z",
     "iopub.status.busy": "2024-06-06T14:23:37.573906Z",
     "iopub.status.idle": "2024-06-06T14:23:37.717722Z",
     "shell.execute_reply": "2024-06-06T14:23:37.717329Z"
    },
    "papermill": {
     "duration": 0.152519,
     "end_time": "2024-06-06T14:23:37.718564",
     "exception": false,
     "start_time": "2024-06-06T14:23:37.566045",
     "status": "completed"
    },
    "tags": []
   },
   "outputs": [],
   "source": [
    "gridAtt, gridEl = nimplex.embeddedpair_simplex_grid_fractional_py(attainableSpaceComponentPositions, 12)"
   ]
  },
  {
   "cell_type": "markdown",
   "id": "4faa6fdd",
   "metadata": {
    "papermill": {
     "duration": 0.007359,
     "end_time": "2024-06-06T14:23:37.733343",
     "exception": false,
     "start_time": "2024-06-06T14:23:37.725984",
     "status": "completed"
    },
    "tags": []
   },
   "source": [
    "We used the **elemental**, or chemical, space to run the Root Mean Square Atomic Displacement (RMSAD) model by Tandoc (10.1038/s41524-023-00993-x) which acts as a lower-cost proxy for yield stress and hardness estimations in the absence of direct data:"
   ]
  },
  {
   "cell_type": "markdown",
   "id": "43eb9dc7",
   "metadata": {
    "papermill": {
     "duration": 0.007245,
     "end_time": "2024-06-06T14:23:37.747899",
     "exception": false,
     "start_time": "2024-06-06T14:23:37.740654",
     "status": "completed"
    },
    "tags": []
   },
   "source": [
    "#UNMARKDOWN WHEN NEEDED\n",
    "import pqam_rmsadtandoc2023\n",
    "rmsadList = []\n",
    "for point in gridEl:\n",
    "    formula = ' '.join([f'{c}{p}' for c, p in zip(elementalSpaceComponents, point)])\n",
    "    rmsadList.append(pqam_rmsadtandoc2023.predict(formula))"
   ]
  },
  {
   "cell_type": "markdown",
   "id": "6ad4975f",
   "metadata": {
    "papermill": {
     "duration": 0.007208,
     "end_time": "2024-06-06T14:23:37.762528",
     "exception": false,
     "start_time": "2024-06-06T14:23:37.755320",
     "status": "completed"
    },
    "tags": []
   },
   "source": [
    "And the **attainable** space grid to plot the results after projecting them to the Euclidean space:"
   ]
  },
  {
   "cell_type": "code",
   "execution_count": 5,
   "id": "8c65401d",
   "metadata": {
    "execution": {
     "iopub.execute_input": "2024-06-06T14:23:37.777842Z",
     "iopub.status.busy": "2024-06-06T14:23:37.777583Z",
     "iopub.status.idle": "2024-06-06T14:23:37.870686Z",
     "shell.execute_reply": "2024-06-06T14:23:37.870275Z"
    },
    "papermill": {
     "duration": 0.101661,
     "end_time": "2024-06-06T14:23:37.871534",
     "exception": false,
     "start_time": "2024-06-06T14:23:37.769873",
     "status": "completed"
    },
    "tags": []
   },
   "outputs": [],
   "source": [
    "# Hover approximate formula for each point\n",
    "formulas = []\n",
    "for i, comp in enumerate(gridEl):\n",
    "    formulas.append(f\"({i:>3}) \"+\"\".join([f\"{el}{100*v:.1f} \" if v>0 else \"\" for el, v in zip(elementalSpaceComponents, comp)]))\n",
    "\n",
    "# Generate the projected grid\n",
    "gridAtt_projected_df = pd.DataFrame(plotting.simplex2cartesian_py(gridAtt), columns=['x','y','z'])\n",
    "\n",
    "# Attach pure component (alloy) labels to corners\n",
    "pureComponentIndices = nimplex.pure_component_indexes_py(4, 12)\n",
    "labels = ['']*len(gridAtt_projected_df)\n",
    "for comp, idx in zip(attainableSpaceComponents, pureComponentIndices):\n",
    "    labels[idx] = \"<b>\"+comp+\"</b>\""
   ]
  },
  {
   "cell_type": "markdown",
   "id": "785067c5",
   "metadata": {
    "papermill": {
     "duration": 0.00727,
     "end_time": "2024-06-06T14:23:37.886369",
     "exception": false,
     "start_time": "2024-06-06T14:23:37.879099",
     "status": "completed"
    },
    "tags": []
   },
   "source": [
    "\n",
    "# Add text labels at the corners of the simplex\n",
    "px.scatter_3d(gridAtt_projected_df, x='x', y='y', z='z', color=rmsadList, text=labels, hover_name=formulas,\n",
    "              template='plotly_white', width=800, height=700, \n",
    "              labels={'color':'RMSAD', 'x':'', 'y':'', 'z':''})"
   ]
  },
  {
   "cell_type": "markdown",
   "id": "dd4f6708",
   "metadata": {
    "papermill": {
     "duration": 0.007127,
     "end_time": "2024-06-06T14:23:37.900750",
     "exception": false,
     "start_time": "2024-06-06T14:23:37.893623",
     "status": "completed"
    },
    "tags": []
   },
   "source": [
    "## Thermodynamic Equilibria\n",
    "\n",
    "**In this section we will be using `pycalphad` which is an amazing free open-source library for building thermodynamic models and performing calculations on them, including studying of phase equilibria, or what atomic arrangements are stable (coexist in equilibrium) at a given temperature and composition.** You can read more about `pycalphad` at [pycalphad.org](https://pycalphad.org/) and find an great tutorial at [this 2023 workshop materials repository](https://github.com/materialsgenomefoundation/2023-workshop-material/tree/main/pycalphad).\n",
    "\n",
    "Let's start by loading a database of thermodynamic properties which defines, among other things, the Gibbs energy of each phase as a function of temperature and composition. You can find many of such databases at [TDBDB](https://avdwgroup.engin.brown.edu) maintained by Axel van de Walle's group at Brown University. \n",
    "\n",
    "In this example, we will be using a TDB `CrHfMoNbTaTiVWZr_9element_Feb2023` placed for you in the `examples` directory, which is a 9-element database for the elements `Cr`, `Hf`, `Mo`, `Nb`, `Ta`, `Ti`, `V`, `W`, and `Zr`, being developed by Shuang Lin in our group (Phases Research Lab at PSU). This wersion is an older *work in progress* one that has not been published, so while it is perfect for tutorial like this one, please refrain from using it for any serious work."
   ]
  },
  {
   "cell_type": "code",
   "execution_count": 6,
   "id": "00636e39",
   "metadata": {
    "execution": {
     "iopub.execute_input": "2024-06-06T14:23:37.916593Z",
     "iopub.status.busy": "2024-06-06T14:23:37.916152Z",
     "iopub.status.idle": "2024-06-06T14:23:56.566793Z",
     "shell.execute_reply": "2024-06-06T14:23:56.566276Z"
    },
    "papermill": {
     "duration": 18.66044,
     "end_time": "2024-06-06T14:23:56.568532",
     "exception": false,
     "start_time": "2024-06-06T14:23:37.908092",
     "status": "completed"
    },
    "tags": []
   },
   "outputs": [
    {
     "name": "stdout",
     "output_type": "stream",
     "text": [
      "['V', 'Ni', 'Cr', 'Fe']\n",
      "Loaded TDB file with phases considered: ['GAMMA_H', 'AL3NI2', 'AL2FE', 'ALCR2', 'HCP_A3', 'NIV3_A15', 'ALCU_ZETA', 'LAVES_A15', 'AL13FE4', 'AL45V7', 'AL11CR4', 'AL3TI_L', 'AL5FE2', 'ALCU_THETA', 'TS01T3', 'GAMMA_D83', 'LAVES_C14', 'AL4CR', 'AL5CR', 'NI3TI', 'AL45CR7_12', 'AL5TI3', 'ALTI', 'LAVES_C36', 'BCC_B2', 'L12_FCC', 'AL23V4', 'AL4NI3', 'AL3NI5', 'NI8V', 'AL5TI2', 'GAMMAH', 'AL21V2_227', 'AL8V5', 'SIGMA_D8B', 'ALTI3_D019', 'FCC_A1', 'NITI2', 'LIQUID', 'GAMMAL', 'AL3M', 'AL45CR7', 'ALCU_DELTA', 'ALCU_EPSILON', 'D82_217', 'TAOA', 'BCC_A2', 'TS01TI', 'CRNI2', 'AL5FE4', 'ALCU_ETA', 'AL23V4_194', 'AL21V2', 'LAVES_C15', 'AL2TI', 'AL3NI1', 'NI3V_D022']\n"
     ]
    },
    {
     "name": "stderr",
     "output_type": "stream",
     "text": [
      "/ocean/projects/dmr190011p/arichte1/micromamba/envs/ammap/lib/python3.11/site-packages/pycalphad/io/tdb.py:294: UserWarning: The type definition character `*` in `TYPE_DEFINITION * GES AMEND_PHASE_DESCRIPTION HCP_A3 MAGNETIC -3.0 2.80000E-01 ` is not used by any phase.\n",
      "  warnings.warn(f\"The type definition character `{typechar}` in `TYPE_DEFINITION {typechar} {line}` is not used by any phase.\")\n"
     ]
    }
   ],
   "source": [
    "from pycalphad import Database\n",
    "dbf = Database(\"ammap/databases/Al-Cr-Fe-Ni-Ti-V_04-13.tdb\")\n",
    "phases = list(set(dbf.phases.keys()))\n",
    "print(elementalSpaceComponents)\n",
    "print(f'Loaded TDB file with phases considered: {phases}')"
   ]
  },
  {
   "cell_type": "markdown",
   "id": "d5d77d08",
   "metadata": {
    "papermill": {
     "duration": 0.007557,
     "end_time": "2024-06-06T14:23:56.584367",
     "exception": false,
     "start_time": "2024-06-06T14:23:56.576810",
     "status": "completed"
    },
    "tags": []
   },
   "source": [
    "As you can see, we will be looking at several different phases here. To keep things as simple as possible, we can split them in three groups:\n",
    "- **liquid** phases: `LIQUID` (which we obviously want to avoid in a solid part design)\n",
    "- **solid solution** phases: `FCC_A1`, `BCC_A2`, and `HCP_A3`\n",
    "- **intermetallic** phases: `LAVES_C14`, `LAVES_C15`, and `LAVES_C36`\n",
    "\n",
    "Designing an alloy is a complex procedure but for the sake of this tutorial, we will be focusing on the most common issue which is the formation of intermetallic phases which cause embrittlement and reduce the ductility of the material. **Thus, we will apply a simple constraint that the alloy should only contain the solid solution phases FCC, BCC, and HCP.**\n",
    "\n",
    "**Now, knowing what we are looking for (phases at equilibrium), we can start by writing a short Python script around `pycalphad` to calculate the equilibrium phases for a given chemical elements composition `elP`. It is already placed in the `examples` directory as `myPycalphadCallable.py` which defines a function `equilibrium_callable` that takes a composition and returns the equilibrium phases.**\n",
    "\n",
    "**We will arbitrarily pick `1000K`** as the temperature for the sake of this tutorial, but you can change it to any other value you like. Or even make it a list and add phases present at each temperature to a set to apply our constraint over a range of temperatures.\n",
    "\n",
    "\n",
    "Please note that much more information is generated in the process (e.g., chemical composition of each phase and its fraction) but we are only interested in the phase presence. If you wish to do so, modifying the script to, e.g., allow for up to 5% of intermetallic phases, is a trivial task. Advanced users may also want to have a look at the `scheil_callable` we do not use in this tutorial for the sake of runtime, but which can be used to simulate solidification of the alloy from a liquid state in an additive manufacturing process."
   ]
  },
  {
   "cell_type": "code",
   "execution_count": 7,
   "id": "15cfed7d",
   "metadata": {
    "execution": {
     "iopub.execute_input": "2024-06-06T14:23:56.600321Z",
     "iopub.status.busy": "2024-06-06T14:23:56.599726Z",
     "iopub.status.idle": "2024-06-06T14:24:16.604928Z",
     "shell.execute_reply": "2024-06-06T14:24:16.604443Z"
    },
    "papermill": {
     "duration": 20.014081,
     "end_time": "2024-06-06T14:24:16.605956",
     "exception": false,
     "start_time": "2024-06-06T14:23:56.591875",
     "status": "completed"
    },
    "tags": []
   },
   "outputs": [],
   "source": [
    "from ammap.callables.EqScheil import equilibrium_callable, scheil_callable"
   ]
  },
  {
   "cell_type": "markdown",
   "id": "c259c6da",
   "metadata": {
    "papermill": {
     "duration": 0.00755,
     "end_time": "2024-06-06T14:24:16.621659",
     "exception": false,
     "start_time": "2024-06-06T14:24:16.614109",
     "status": "completed"
    },
    "tags": []
   },
   "source": [
    "Let's test it on some composition in our space starting with the first point!"
   ]
  },
  {
   "cell_type": "code",
   "execution_count": 8,
   "id": "532aa674",
   "metadata": {
    "execution": {
     "iopub.execute_input": "2024-06-06T14:24:16.637540Z",
     "iopub.status.busy": "2024-06-06T14:24:16.637176Z",
     "iopub.status.idle": "2024-06-06T14:24:18.168532Z",
     "shell.execute_reply": "2024-06-06T14:24:18.168066Z"
    },
    "papermill": {
     "duration": 1.540541,
     "end_time": "2024-06-06T14:24:18.169705",
     "exception": false,
     "start_time": "2024-06-06T14:24:16.629164",
     "status": "completed"
    },
    "tags": []
   },
   "outputs": [
    {
     "name": "stdout",
     "output_type": "stream",
     "text": [
      "(  0) Fe100.0 \n"
     ]
    },
    {
     "data": {
      "text/plain": [
       "['BCC_B2']"
      ]
     },
     "execution_count": 8,
     "metadata": {},
     "output_type": "execute_result"
    }
   ],
   "source": [
    "print(formulas[0])\n",
    "equilibrium_callable(gridEl[0])"
   ]
  },
  {
   "cell_type": "markdown",
   "id": "e345fda8",
   "metadata": {
    "papermill": {
     "duration": 0.007841,
     "end_time": "2024-06-06T14:24:18.186688",
     "exception": false,
     "start_time": "2024-06-06T14:24:18.178847",
     "status": "completed"
    },
    "tags": []
   },
   "source": [
    "You should see `['BCC_A2']` in a second or so if you've run it at the default `1000K`. Quick and neat, right? Now, let's pick some compositionally complex alloy that does not lay around the corner of the attainable space tetrahedron and presents an actual challenge."
   ]
  },
  {
   "cell_type": "code",
   "execution_count": 9,
   "id": "468e10cb",
   "metadata": {
    "execution": {
     "iopub.execute_input": "2024-06-06T14:24:18.202933Z",
     "iopub.status.busy": "2024-06-06T14:24:18.202554Z",
     "iopub.status.idle": "2024-06-06T14:24:18.662022Z",
     "shell.execute_reply": "2024-06-06T14:24:18.661587Z"
    },
    "papermill": {
     "duration": 0.468531,
     "end_time": "2024-06-06T14:24:18.662841",
     "exception": false,
     "start_time": "2024-06-06T14:24:18.194310",
     "status": "completed"
    },
    "tags": []
   },
   "outputs": [
    {
     "name": "stdout",
     "output_type": "stream",
     "text": [
      "( 63) Ni40.0 Cr10.0 Fe50.0 \n"
     ]
    },
    {
     "data": {
      "text/plain": [
       "['L12_FCC']"
      ]
     },
     "execution_count": 9,
     "metadata": {},
     "output_type": "execute_result"
    }
   ],
   "source": [
    "print(formulas[63])\n",
    "equilibrium_callable(gridEl[63])"
   ]
  },
  {
   "cell_type": "code",
   "execution_count": 10,
   "id": "3f998c9d",
   "metadata": {
    "execution": {
     "iopub.execute_input": "2024-06-06T14:24:18.693116Z",
     "iopub.status.busy": "2024-06-06T14:24:18.692833Z",
     "iopub.status.idle": "2024-06-06T14:26:59.095751Z",
     "shell.execute_reply": "2024-06-06T14:26:59.095277Z"
    },
    "papermill": {
     "duration": 160.437267,
     "end_time": "2024-06-06T14:26:59.108859",
     "exception": false,
     "start_time": "2024-06-06T14:24:18.671592",
     "status": "completed"
    },
    "tags": []
   },
   "outputs": [
    {
     "name": "stderr",
     "output_type": "stream",
     "text": [
      "/ocean/projects/dmr190011p/arichte1/micromamba/envs/ammap/lib/python3.11/site-packages/pycalphad/core/utils.py:120: FutureWarning: generate_dof is deprecated and will be removed in a future version of pycalphad. The correct way to determine the degrees of freedom of a particular 'active' phase is to use Model.constituents.\n",
      "  warnings.warn(msg, FutureWarning)\n"
     ]
    },
    {
     "name": "stdout",
     "output_type": "stream",
     "text": [
      "['FCC_A1']\n"
     ]
    }
   ],
   "source": [
    "scheil63=scheil_callable(gridEl[63])\n",
    "print(scheil63)"
   ]
  },
  {
   "cell_type": "markdown",
   "id": "12633a2f",
   "metadata": {
    "papermill": {
     "duration": 0.072316,
     "end_time": "2024-06-06T14:26:59.203553",
     "exception": false,
     "start_time": "2024-06-06T14:26:59.131237",
     "status": "completed"
    },
    "tags": []
   },
   "source": [
    "Now, you should have seen an example of infeasible point composed of `['HCP_A3', 'LAVES_C15', 'BCC_A2']`. Let's deploy this in parallel over all the points in the elemental space `gridEl` and see how it looks like! We will use the `process_map` function from the `tqdm` library to show a neat progress bar while the calculations are running in parallel. On the 4-core Codespaces VM you can expect it to take around 2-3 minutes."
   ]
  },
  {
   "cell_type": "code",
   "execution_count": 11,
   "id": "81f08b41",
   "metadata": {
    "execution": {
     "iopub.execute_input": "2024-06-06T14:26:59.221120Z",
     "iopub.status.busy": "2024-06-06T14:26:59.220639Z",
     "iopub.status.idle": "2024-06-06T14:27:00.714804Z",
     "shell.execute_reply": "2024-06-06T14:27:00.714411Z"
    },
    "papermill": {
     "duration": 1.50392,
     "end_time": "2024-06-06T14:27:00.715727",
     "exception": false,
     "start_time": "2024-06-06T14:26:59.211807",
     "status": "completed"
    },
    "tags": []
   },
   "outputs": [],
   "source": [
    "from tqdm import tqdm\n",
    "from tqdm.contrib.concurrent import process_map"
   ]
  },
  {
   "cell_type": "code",
   "execution_count": 12,
   "id": "89135588",
   "metadata": {
    "execution": {
     "iopub.execute_input": "2024-06-06T14:27:00.732452Z",
     "iopub.status.busy": "2024-06-06T14:27:00.732189Z",
     "iopub.status.idle": "2024-06-06T14:27:30.563220Z",
     "shell.execute_reply": "2024-06-06T14:27:30.562451Z"
    },
    "papermill": {
     "duration": 29.840907,
     "end_time": "2024-06-06T14:27:30.564709",
     "exception": false,
     "start_time": "2024-06-06T14:27:00.723802",
     "status": "completed"
    },
    "tags": []
   },
   "outputs": [
    {
     "data": {
      "application/vnd.jupyter.widget-view+json": {
       "model_id": "786ae0edb62049ba8fc482d9e5911913",
       "version_major": 2,
       "version_minor": 0
      },
      "text/plain": [
       "  0%|          | 0/455 [00:00<?, ?it/s]"
      ]
     },
     "metadata": {},
     "output_type": "display_data"
    }
   ],
   "source": [
    "gridPhases = process_map(equilibrium_callable, gridEl)"
   ]
  },
  {
   "cell_type": "code",
   "execution_count": 13,
   "id": "21b1a51c",
   "metadata": {
    "execution": {
     "iopub.execute_input": "2024-06-06T14:27:30.583993Z",
     "iopub.status.busy": "2024-06-06T14:27:30.583494Z",
     "iopub.status.idle": "2024-06-06T14:27:30.588941Z",
     "shell.execute_reply": "2024-06-06T14:27:30.588468Z"
    },
    "papermill": {
     "duration": 0.015356,
     "end_time": "2024-06-06T14:27:30.589753",
     "exception": false,
     "start_time": "2024-06-06T14:27:30.574397",
     "status": "completed"
    },
    "tags": []
   },
   "outputs": [
    {
     "data": {
      "text/plain": [
       "[[],\n",
       " ['SIGMA_D8B', 'SIGMA_D8B'],\n",
       " ['SIGMA_D8B', 'SIGMA_D8B', 'BCC_B2'],\n",
       " ['BCC_B2', 'SIGMA_D8B'],\n",
       " ['L12_FCC'],\n",
       " ['L12_FCC', 'BCC_B2'],\n",
       " ['BCC_B2', 'L12_FCC'],\n",
       " ['BCC_B2', 'L12_FCC'],\n",
       " ['BCC_B2', 'L12_FCC', 'SIGMA_D8B'],\n",
       " ['BCC_B2', 'SIGMA_D8B']]"
      ]
     },
     "execution_count": 13,
     "metadata": {},
     "output_type": "execute_result"
    }
   ],
   "source": [
    "gridPhases[120:130]"
   ]
  },
  {
   "cell_type": "markdown",
   "id": "790cfd16",
   "metadata": {
    "tags": [
     "papermill-error-cell-tag"
    ]
   },
   "source": [
    "<span id=\"papermill-error-cell\" style=\"color:red; font-family:Helvetica Neue, Helvetica, Arial, sans-serif; font-size:2em;\">Execution using papermill encountered an exception here and stopped:</span>"
   ]
  },
  {
   "cell_type": "code",
   "execution_count": 14,
   "id": "280042fb",
   "metadata": {
    "execution": {
     "iopub.execute_input": "2024-06-06T14:27:30.606623Z",
     "iopub.status.busy": "2024-06-06T14:27:30.606458Z",
     "iopub.status.idle": "2024-06-06T14:27:31.520931Z",
     "shell.execute_reply": "2024-06-06T14:27:31.520366Z"
    },
    "papermill": {
     "duration": 0.923548,
     "end_time": "2024-06-06T14:27:31.521526",
     "exception": true,
     "start_time": "2024-06-06T14:27:30.597978",
     "status": "failed"
    },
    "tags": []
   },
   "outputs": [
    {
     "ename": "NameError",
     "evalue": "name 'scheil_callable2' is not defined",
     "output_type": "error",
     "traceback": [
      "\u001b[0;31m---------------------------------------------------------------------------\u001b[0m",
      "\u001b[0;31mNameError\u001b[0m                                 Traceback (most recent call last)",
      "Cell \u001b[0;32mIn[14], line 1\u001b[0m\n\u001b[0;32m----> 1\u001b[0m scheilPhases \u001b[38;5;241m=\u001b[39m process_map(\u001b[43mscheil_callable2\u001b[49m,gridEl)\n",
      "\u001b[0;31mNameError\u001b[0m: name 'scheil_callable2' is not defined"
     ]
    }
   ],
   "source": [
    "scheilPhases = process_map(scheil_callable2,gridEl)"
   ]
  },
  {
   "cell_type": "code",
   "execution_count": null,
   "id": "be4ce880",
   "metadata": {
    "papermill": {
     "duration": null,
     "end_time": null,
     "exception": null,
     "start_time": null,
     "status": "pending"
    },
    "tags": []
   },
   "outputs": [],
   "source": [
    "# Write gridPhases to JSON file\n",
    "import json\n",
    "\n",
    "# Write scheilmap to JSON file\n",
    "with open('scheilmap.json', 'w') as f:\n",
    "    json.dump(scheilPhases, f)\n",
    "\n",
    "# Write gridPhases to JSON file\n",
    "with open('gridPhases.json', 'w') as f:\n",
    "    json.dump(gridPhases, f)"
   ]
  },
  {
   "cell_type": "markdown",
   "id": "12d93941",
   "metadata": {
    "papermill": {
     "duration": null,
     "end_time": null,
     "exception": null,
     "start_time": null,
     "status": "pending"
    },
    "tags": []
   },
   "source": [
    "Let's see how some of the data looks like."
   ]
  },
  {
   "cell_type": "markdown",
   "id": "4da02431",
   "metadata": {
    "papermill": {
     "duration": null,
     "end_time": null,
     "exception": null,
     "start_time": null,
     "status": "pending"
    },
    "tags": []
   },
   "source": [
    "Now, let's turn that list of phases into a list of feasibility based on the constraint we defined earlier. Note that in some cases, the `pycalphad` library may return an empty list of phases, which we will treat as infeasible."
   ]
  },
  {
   "cell_type": "code",
   "execution_count": null,
   "id": "460d1dc3",
   "metadata": {
    "papermill": {
     "duration": null,
     "end_time": null,
     "exception": null,
     "start_time": null,
     "status": "pending"
    },
    "tags": []
   },
   "outputs": [],
   "source": [
    "infeasiblePhases = set([\n",
    "    'AL3M', 'AL5FE2', 'LIQUID', 'AL11CR4', 'D82_217', 'AL3NI1', 'NI3TI', 'AL5FE4', 'TAOA', 'LAVES_C15', 'GAMMAH', 'AL5CR', 'AL2FE', 'AL4CR', 'NIV3_A15', 'GAMMA_H', \n",
    "    'ALTI3_D019', 'ALCU_DELTA', 'AL45CR7', 'TS01TI', 'NI8V', 'AL45CR7_12', 'LAVES_C14', 'LAVES_A15', 'AL3NI5', 'AL5TI3', 'ALCU_EPSILON', 'NITI2', 'AL8V5', 'ALCR2', 'AL23V4', 'AL13FE4', \n",
    "    'AL4NI3', 'ALCU_ZETA', 'ALCU_THETA', 'AL3NI2', 'AL23V4_194', 'CRNI2', 'NI3V_D022', 'LAVES_C36', 'TS01T3', 'AL21V2_227', 'AL5TI2', 'ALCU_ETA', 'GAMMAL', \n",
    "    'GAMMA_D83', 'SIGMA_D8B', 'AL21V2', 'AL2TI', 'AL3TI_L', 'ALTI', 'AL45V7'])\n",
    "print(f\"Feasible phases set: {set(phases).difference(infeasiblePhases)}\")\n",
    "gridFeasible = [len(set(p) & infeasiblePhases)==0 and p!=[] for p in gridPhases]\n",
    "gridFeasible[120:130]\n",
    "scheilFeasible= [len(set(p) & infeasiblePhases)==0 and p!=[] for p in scheilPhases]"
   ]
  },
  {
   "cell_type": "markdown",
   "id": "a922d2f2",
   "metadata": {
    "papermill": {
     "duration": null,
     "end_time": null,
     "exception": null,
     "start_time": null,
     "status": "pending"
    },
    "tags": []
   },
   "source": [
    "Finally, let's plot the result in 3D using the `plotly` library and our spacial-transformed attainable space grid we obtained with `plotting.simplex2cartesian_py(gridAtt)` earlier.\n",
    "\n",
    "**Once you run the cell below, you should be seeing an interactive 3D plot with 455 split roughly 50/50 between feasible and infeasible points. You can rotate the plot, zoom in and out, and hover over the points to see their composition and feasibility. You can also click on the legend to hide/show the points based on their feasibility.**"
   ]
  },
  {
   "cell_type": "code",
   "execution_count": null,
   "id": "05f837b7",
   "metadata": {
    "papermill": {
     "duration": null,
     "end_time": null,
     "exception": null,
     "start_time": null,
     "status": "pending"
    },
    "tags": []
   },
   "outputs": [],
   "source": [
    "fig = px.scatter_3d(gridAtt_projected_df, x='x', y='y', z='z', color=gridFeasible, text=labels, hover_name=formulas,\n",
    "              template='plotly_white', width=800, height=700, opacity=0.333, color_discrete_sequence=['green', 'red'],\n",
    "              labels={'color':'Solid Solution Phases', 'x':'', 'y':'', 'z':''})\n",
    "fig.update_scenes({'camera': {'eye': {'x': -2.3, 'y': 0.2, 'z': 0.2}}})"
   ]
  },
  {
   "cell_type": "code",
   "execution_count": null,
   "id": "0e0d95c1",
   "metadata": {
    "papermill": {
     "duration": null,
     "end_time": null,
     "exception": null,
     "start_time": null,
     "status": "pending"
    },
    "tags": []
   },
   "outputs": [],
   "source": [
    "fig = px.scatter_3d(gridAtt_projected_df, x='x', y='y', z='z', color=scheilFeasible, text=labels, hover_name=formulas,\n",
    "              template='plotly_white', width=800, height=700, opacity=0.333, color_discrete_sequence=['green', 'red'],\n",
    "              labels={'color':'Solid Solution Phases', 'x':'', 'y':'', 'z':''})\n",
    "fig.update_scenes({'camera': {'eye': {'x': -2.3, 'y': 0.2, 'z': 0.2}}})"
   ]
  },
  {
   "cell_type": "markdown",
   "id": "ad8dd68b",
   "metadata": {
    "papermill": {
     "duration": null,
     "end_time": null,
     "exception": null,
     "start_time": null,
     "status": "pending"
    },
    "tags": []
   },
   "source": [
    "## Graph Walk aka Infeasibility Gliding (Exciting Stuff!)\n",
    "\n",
    "**While the last two sections highlighted the elegant abstraction of grid generation and space transformation using `nimplex`, they did not really show the true power of the library or the novel combinatorics-based algorithm we developed in the associated paper. That is the simplex graph construction in arbitrary dimensions and the graph traversal it enables.**\n",
    "\n",
    "**Let's start by generating the graph for our problem. We can use the `nimplex.embeddedpair_simplex_graph_fractional_py` function, which also first generates the two grids we already used in the previous sections.**"
   ]
  },
  {
   "cell_type": "code",
   "execution_count": null,
   "id": "dcfb2eaa",
   "metadata": {
    "papermill": {
     "duration": null,
     "end_time": null,
     "exception": null,
     "start_time": null,
     "status": "pending"
    },
    "tags": []
   },
   "outputs": [],
   "source": [
    "_, _, graphN = nimplex.embeddedpair_simplex_graph_fractional_py(attainableSpaceComponentPositions, 12)"
   ]
  },
  {
   "cell_type": "markdown",
   "id": "974cfa87",
   "metadata": {
    "papermill": {
     "duration": null,
     "end_time": null,
     "exception": null,
     "start_time": null,
     "status": "pending"
    },
    "tags": []
   },
   "source": [
    "As you can see, we immediately obtain list of adjecent nodes (compostions) for each node in the graph, with few neighbors for the corners and many for the interior points. This is the power of the abstraction we are talking about!"
   ]
  },
  {
   "cell_type": "code",
   "execution_count": null,
   "id": "77177885",
   "metadata": {
    "papermill": {
     "duration": null,
     "end_time": null,
     "exception": null,
     "start_time": null,
     "status": "pending"
    },
    "tags": []
   },
   "outputs": [],
   "source": [
    "graphN[:5]"
   ]
  },
  {
   "cell_type": "code",
   "execution_count": null,
   "id": "588c1852",
   "metadata": {
    "papermill": {
     "duration": null,
     "end_time": null,
     "exception": null,
     "start_time": null,
     "status": "pending"
    },
    "tags": []
   },
   "outputs": [],
   "source": [
    "graphN[200:205]"
   ]
  },
  {
   "cell_type": "markdown",
   "id": "6e89c523",
   "metadata": {
    "papermill": {
     "duration": null,
     "end_time": null,
     "exception": null,
     "start_time": null,
     "status": "pending"
    },
    "tags": []
   },
   "source": [
    "We can now use this graph to do a lot of things. Let's start by considering that **the infeasible region, for thermodynamic reasons beyond the scope of this tutorial, are generally difficult to predict but are generally bound by continous surfaces called phase boundaries.** \n",
    "\n",
    "**Thus, if we iteratively traverse the graph expanding only the feasible nodes, while noting infeasible nodes, we can glide along the phase boundaries and explore the feasible space without ever wasting our resources on calculations inside the insides of the infeasible regions.** \n",
    "\n",
    "Let's do this starting from the `W10.0 Nb10.0 Mo80.0` and terminating when we reach the `Hf95.0 Zr5.0` point. \n",
    "\n",
    "**Bonus Exercises:**\n",
    "- Please note that you do not need to specify the termination point, as the algorithm will stop when it completeley explores the feasible space. In this example, we are just showing you how to specify it and it has no effect on the result. If you want to play a bit, you can set `endNode` to `12` to see how path to `W33.3 Nb33.3 Ta33.3` gets explored in just 87 nodes.\n",
    "- If you remove the `endNode` termination (change `break` to `pass`), you can add the endNode (or any other node you believe is feasible) to the initial `queue` list and see how the algorithm explores the feasible space from multiple starting points much faster thanks to better parallelization."
   ]
  },
  {
   "cell_type": "code",
   "execution_count": null,
   "id": "b9189c21",
   "metadata": {
    "papermill": {
     "duration": null,
     "end_time": null,
     "exception": null,
     "start_time": null,
     "status": "pending"
    },
    "tags": []
   },
   "outputs": [],
   "source": [
    "startingNode = 0\n",
    "endNode = 90\n",
    "\n",
    "print(f\"Starting node: {formulas[startingNode]}\")\n",
    "print(f\"Ending node: {formulas[endNode]}\")"
   ]
  },
  {
   "cell_type": "code",
   "execution_count": null,
   "id": "f5a44674",
   "metadata": {
    "papermill": {
     "duration": null,
     "end_time": null,
     "exception": null,
     "start_time": null,
     "status": "pending"
    },
    "tags": []
   },
   "outputs": [],
   "source": [
    "gridFeasible = [None]*len(graphN)\n",
    "queue = [0, 12, 90]\n",
    "explored = set()\n",
    "calcCount = 0"
   ]
  },
  {
   "cell_type": "markdown",
   "id": "0f2ce81d",
   "metadata": {
    "papermill": {
     "duration": null,
     "end_time": null,
     "exception": null,
     "start_time": null,
     "status": "pending"
    },
    "tags": []
   },
   "source": [
    "**Now, we will be using a `queue` of nodes to keep track of the nodes we need to visit and a set of visited nodes to avoid revisiting them. This simple procedure is a type of `depth-first search` algorithm that is guaranteed to find the shortest path between two points in a graph if it exists, while exploring the feasible space in the process in an unbiased way. In a more elaborate problem, you would likely want to implement a priority queue to explore the space in a more efficient way, but for this tutorial, this is more than enough and allows for better, more direct comparions with the typical complete exploration approach.** On the 4-core Codespaces VM you can expect it to take around 1-2 minutes. In a relatively simple problem like this one, the difference between the two approaches is not that big, coming partially from overhead of limited Python parallelization capabilities, but in a more complex problem, the difference can be dramatic."
   ]
  },
  {
   "cell_type": "code",
   "execution_count": null,
   "id": "527b3aaa",
   "metadata": {
    "papermill": {
     "duration": null,
     "end_time": null,
     "exception": null,
     "start_time": null,
     "status": "pending"
    },
    "tags": []
   },
   "outputs": [],
   "source": [
    "while len(queue)>0:\n",
    "    print(f\"Queue: {queue}\")\n",
    "    # Assign feasibilities to the current queue\n",
    "    elPositions = [gridEl[i] for i in queue]\n",
    "    if len(queue)>3:\n",
    "        phases = process_map(equilibrium_callable, elPositions, max_workers=4)\n",
    "    else:\n",
    "        phases = [equilibrium_callable(elP) for elP in elPositions]\n",
    "    feasibilities = [len(set(p) & set(infeasiblePhases))==0 and p!=[] for p in phases]\n",
    "\n",
    "    calcCount += len(feasibilities)\n",
    "    explored = explored.union(queue)\n",
    "\n",
    "    # Create next queue based on neighbors of feasible points\n",
    "    nextQueue = set()\n",
    "    for f, i in zip(feasibilities, queue):\n",
    "        gridFeasible[i] = f\n",
    "        # Only if feasible\n",
    "        if f:\n",
    "            for n in graphN[i]:\n",
    "                if n not in explored:\n",
    "                    nextQueue.add(n)\n",
    "\n",
    "    # Early termination criteria if we just evaluated the target\n",
    "    if endNode in queue:\n",
    "        pass\n",
    "\n",
    "    print(f\"Calculations done: {calcCount}\")\n",
    "    queue = list(nextQueue)"
   ]
  },
  {
   "cell_type": "markdown",
   "id": "e31dd890",
   "metadata": {
    "papermill": {
     "duration": null,
     "end_time": null,
     "exception": null,
     "start_time": null,
     "status": "pending"
    },
    "tags": []
   },
   "source": [
    "**You should now see that only 281 phase equilibria calculations were performed to get all the feasible points! That's only a bit more than half of what we had to do in the previous section. Let's plot the path we found in the 3D space.** If you rotate the figure, you can clearly see the path gliding along the infeasible space boundary."
   ]
  },
  {
   "cell_type": "code",
   "execution_count": null,
   "id": "83198d7a",
   "metadata": {
    "papermill": {
     "duration": null,
     "end_time": null,
     "exception": null,
     "start_time": null,
     "status": "pending"
    },
    "tags": []
   },
   "outputs": [],
   "source": [
    "fig = px.scatter_3d(gridAtt_projected_df, x='x', y='y', z='z', color=gridFeasible, text=labels, hover_name=formulas,\n",
    "              template='plotly_white', width=800, height=700, opacity=0.333, color_discrete_sequence=['green', 'red'],\n",
    "              labels={'color':'Solid Solution Phases', 'x':'', 'y':'', 'z':''})\n",
    "fig.update_scenes({'camera': {'eye': {'x': -2.3, 'y': 0.2, 'z': 0.2}}})"
   ]
  },
  {
   "cell_type": "markdown",
   "id": "c9f2aa9a",
   "metadata": {
    "papermill": {
     "duration": null,
     "end_time": null,
     "exception": null,
     "start_time": null,
     "status": "pending"
    },
    "tags": []
   },
   "source": [
    "## Path Finding\n",
    "\n",
    "**Now, let's take the appeal of graph representation a few steps forward! Since they are very general and widely applicable, there are countless off-the-shelf high-performance libraries implementing mathematically optimal path finding algorithms on graphs one can deploy on challenging problems.** \n",
    "\n",
    "In this example, for the sake of simplicity, we will use pure-Python `pathfinding` library which implements some of the most popular path finding algorithms without high performance (we do not need here) but also without any dependencies. In real applications, you would likely want to use a more advanced library like `networkx` which is more efficient and have more features, or write one yourself. Please note that `nimplex`'s CLI can generate massive graphs in native NumPy format you may find useful for such applications (e.g., to use Julia or C++ libraries)."
   ]
  },
  {
   "cell_type": "code",
   "execution_count": null,
   "id": "ecbe3e8b",
   "metadata": {
    "papermill": {
     "duration": null,
     "end_time": null,
     "exception": null,
     "start_time": null,
     "status": "pending"
    },
    "tags": []
   },
   "outputs": [],
   "source": [
    "from pathfinding.core.graph import Graph\n",
    "from pathfinding.finder.dijkstra import DijkstraFinder"
   ]
  },
  {
   "cell_type": "markdown",
   "id": "7ff1be7a",
   "metadata": {
    "papermill": {
     "duration": null,
     "end_time": null,
     "exception": null,
     "start_time": null,
     "status": "pending"
    },
    "tags": []
   },
   "source": [
    "Let's now turn our graph definition into a format that `pathfinding` library can understand, assigning equal cost to all edges. **Note, that we only need to consider the feasible points leading to other feasible point!**"
   ]
  },
  {
   "cell_type": "code",
   "execution_count": null,
   "id": "354fdba2",
   "metadata": {
    "papermill": {
     "duration": null,
     "end_time": null,
     "exception": null,
     "start_time": null,
     "status": "pending"
    },
    "tags": []
   },
   "outputs": [],
   "source": [
    "edges = []\n",
    "for i, nList in enumerate(graphN):\n",
    "    if gridFeasible[i]:\n",
    "        for n in nList:\n",
    "            if gridFeasible[n]:\n",
    "                edges.append([i, n, 1])\n",
    "print(edges[:5])"
   ]
  },
  {
   "cell_type": "markdown",
   "id": "41466838",
   "metadata": {
    "papermill": {
     "duration": null,
     "end_time": null,
     "exception": null,
     "start_time": null,
     "status": "pending"
    },
    "tags": []
   },
   "source": [
    "Let's initialize the `Graph` object."
   ]
  },
  {
   "cell_type": "code",
   "execution_count": null,
   "id": "528ac417",
   "metadata": {
    "papermill": {
     "duration": null,
     "end_time": null,
     "exception": null,
     "start_time": null,
     "status": "pending"
    },
    "tags": []
   },
   "outputs": [],
   "source": [
    "pathfindingGraph = Graph(edges=edges, bi_directional=False)"
   ]
  },
  {
   "cell_type": "markdown",
   "id": "4dad13d6",
   "metadata": {
    "papermill": {
     "duration": null,
     "end_time": null,
     "exception": null,
     "start_time": null,
     "status": "pending"
    },
    "tags": []
   },
   "source": [
    "Now, let's create the `Finder` object that will perform the path finding. Here we use the `DijkstraFinder` which is a very popular algorithm for path finding in graphs (see [it's Wikipedia page](https://en.wikipedia.org/wiki/Dijkstra's_algorithm) for more details). It **finds the shortest possible path between two points in the graph**, which is exactly what we need here. In the future tutorials, we will use some more advanced algorithms, like A*, which accomplishes the same task but in the mathematcally minimal number of evaluations."
   ]
  },
  {
   "cell_type": "code",
   "execution_count": null,
   "id": "7f2e4e11",
   "metadata": {
    "papermill": {
     "duration": null,
     "end_time": null,
     "exception": null,
     "start_time": null,
     "status": "pending"
    },
    "tags": []
   },
   "outputs": [],
   "source": [
    "finder = DijkstraFinder()"
   ]
  },
  {
   "cell_type": "markdown",
   "id": "78809aec",
   "metadata": {
    "papermill": {
     "duration": null,
     "end_time": null,
     "exception": null,
     "start_time": null,
     "status": "pending"
    },
    "tags": []
   },
   "source": [
    "For hundreds of points, this shouldn't take more than tenth of a second or so."
   ]
  },
  {
   "cell_type": "code",
   "execution_count": null,
   "id": "f0f88f58",
   "metadata": {
    "papermill": {
     "duration": null,
     "end_time": null,
     "exception": null,
     "start_time": null,
     "status": "pending"
    },
    "tags": []
   },
   "outputs": [],
   "source": [
    "path, runs = finder.find_path(\n",
    "    pathfindingGraph.node(0), \n",
    "    pathfindingGraph.node(90), \n",
    "    pathfindingGraph)"
   ]
  },
  {
   "cell_type": "markdown",
   "id": "320abba6",
   "metadata": {
    "papermill": {
     "duration": null,
     "end_time": null,
     "exception": null,
     "start_time": null,
     "status": "pending"
    },
    "tags": []
   },
   "source": [
    "Let's now turn the path into a list of nodes on the path."
   ]
  },
  {
   "cell_type": "code",
   "execution_count": null,
   "id": "3c7b30e0",
   "metadata": {
    "papermill": {
     "duration": null,
     "end_time": null,
     "exception": null,
     "start_time": null,
     "status": "pending"
    },
    "tags": []
   },
   "outputs": [],
   "source": [
    "shortestPath = [p.node_id for p in path]"
   ]
  },
  {
   "cell_type": "markdown",
   "id": "d076adb4",
   "metadata": {
    "papermill": {
     "duration": null,
     "end_time": null,
     "exception": null,
     "start_time": null,
     "status": "pending"
    },
    "tags": []
   },
   "source": [
    "And plot corresponding compositions. As you can see, we immediately get a neat list of compositions that we can use to design our additive manufacturing path."
   ]
  },
  {
   "cell_type": "code",
   "execution_count": null,
   "id": "70043d97",
   "metadata": {
    "papermill": {
     "duration": null,
     "end_time": null,
     "exception": null,
     "start_time": null,
     "status": "pending"
    },
    "tags": []
   },
   "outputs": [],
   "source": [
    "for step, i in enumerate(shortestPath):\n",
    "    print(f\"{step+1:>2}: {formulas[i]}\")"
   ]
  },
  {
   "cell_type": "markdown",
   "id": "7b502653",
   "metadata": {
    "papermill": {
     "duration": null,
     "end_time": null,
     "exception": null,
     "start_time": null,
     "status": "pending"
    },
    "tags": []
   },
   "source": [
    "**Even better, since we know the positions in the attainable design space, we can get a list of exact quantized instructions (e.g., powder flow rates) for the additive manufacturing apparatus to follow at each step.**\n",
    "\n",
    "**This is a very powerful abstraction, eliminating possible mistakes and miscommunications between design and manufacturing teams. Furthermore, it also allows for easy manual (or mechanized) per-layer mixing of powders to create compositional paths in single-feed additive manufacturing systems.**"
   ]
  },
  {
   "cell_type": "code",
   "execution_count": null,
   "id": "a290a06c",
   "metadata": {
    "papermill": {
     "duration": null,
     "end_time": null,
     "exception": null,
     "start_time": null,
     "status": "pending"
    },
    "tags": []
   },
   "outputs": [],
   "source": [
    "integerGrid = nimplex.simplex_grid_py(4, 12)\n",
    "for step, i in enumerate(shortestPath):\n",
    "    print(f\"{step+1:>2}: {integerGrid[i]}\")"
   ]
  },
  {
   "cell_type": "markdown",
   "id": "1c964196",
   "metadata": {
    "papermill": {
     "duration": null,
     "end_time": null,
     "exception": null,
     "start_time": null,
     "status": "pending"
    },
    "tags": []
   },
   "source": [
    "We can also plot the path in 3D like we did before! As you can see, it **glides through the inside of the tetrahedron in a shortest path** avoiding an obstacle extending far on the face."
   ]
  },
  {
   "cell_type": "code",
   "execution_count": null,
   "id": "e54a0f8d",
   "metadata": {
    "papermill": {
     "duration": null,
     "end_time": null,
     "exception": null,
     "start_time": null,
     "status": "pending"
    },
    "tags": []
   },
   "outputs": [],
   "source": [
    "gridFeasibleMarked = ['path' if i in shortestPath else f for i, f in enumerate(gridFeasible)]\n",
    "fig = px.scatter_3d(gridAtt_projected_df, x='x', y='y', z='z', color=gridFeasibleMarked, text=labels, hover_name=formulas,\n",
    "              template='plotly_white', width=800, height=700, opacity=0.333, color_discrete_sequence=['blue', 'green', 'red'],\n",
    "              labels={'color':'Solid Solution Phases', 'x':'', 'y':'', 'z':''})\n",
    "fig.update_scenes({'camera': {'eye': {'x': -1.8, 'y': 1.2, 'z': 1.5}}})"
   ]
  },
  {
   "cell_type": "markdown",
   "id": "616861be",
   "metadata": {
    "papermill": {
     "duration": null,
     "end_time": null,
     "exception": null,
     "start_time": null,
     "status": "pending"
    },
    "tags": []
   },
   "source": [
    "## Path Planning considering the Property Gradient\n",
    "\n",
    "**Let's go one step further to demonstrate the beaty of the graph representations in the context of efortless path planning in high-dimensional spaces by including the gradient into consideration in just a line or two of code. We will now stretch the space!**"
   ]
  },
  {
   "cell_type": "code",
   "execution_count": null,
   "id": "476e4fe4",
   "metadata": {
    "papermill": {
     "duration": null,
     "end_time": null,
     "exception": null,
     "start_time": null,
     "status": "pending"
    },
    "tags": []
   },
   "outputs": [],
   "source": [
    "edges = []\n",
    "gradientsList = []\n",
    "penaltyFactor = 100\n",
    "for i, nList in enumerate(graphN):\n",
    "    if gridFeasible[i]:\n",
    "        for n in nList:\n",
    "            if gridFeasible[n]:\n",
    "                rmsadGradient = abs(rmsadList[i]-rmsadList[n])\n",
    "                gradientsList.append(rmsadGradient)\n",
    "                edges.append([i, n, 1+round(rmsadGradient*penaltyFactor, 3)])\n",
    "print(edges[:5])\n",
    "print(f\"{len(gradientsList)} gradients calculated with absolute value range between {min(gradientsList)} to {max(gradientsList)}\")\n",
    "print(f\"Penalty at {penaltyFactor}x gradient *magnitude* per path step assigned.\")"
   ]
  },
  {
   "cell_type": "markdown",
   "id": "02127c91",
   "metadata": {
    "papermill": {
     "duration": null,
     "end_time": null,
     "exception": null,
     "start_time": null,
     "status": "pending"
    },
    "tags": []
   },
   "source": [
    "**As you can see, we just increased the predicted cost of moving between nodes by a small factor ranging from near 0 to 2.5 depending on the RMSAD gradient. In another words, we are prioritizing paths that change RMSAD the least over the entire path.** This can be done, e.g., to minimize the inter-layer stresses in the component caused by yield stress mismatch between the layers that may cause delamination. Similar considerations can also be made for other properties, like thermal expansion coefficient, missmatch of which causes internal stress or wrapping.\n",
    "\n",
    "**Since the RMSAD is generally smoothly changing, we can expect that this will not impact the result in terms of number of nodes. Just finding a better path of equivalent length. However, if you try to square the gradient by changing penalty to `(rmsadGradient*penaltyFactor)**2`, you will see how viciously the path will avoid any RMSAD changes through zig-zag patterns.**"
   ]
  },
  {
   "cell_type": "code",
   "execution_count": null,
   "id": "57d164c8",
   "metadata": {
    "papermill": {
     "duration": null,
     "end_time": null,
     "exception": null,
     "start_time": null,
     "status": "pending"
    },
    "tags": []
   },
   "outputs": [],
   "source": [
    "pathfindingGraph = Graph(edges=edges, bi_directional=False)\n",
    "finder = DijkstraFinder()\n",
    "path, runs = finder.find_path(\n",
    "    pathfindingGraph.node(0), \n",
    "    pathfindingGraph.node(90), \n",
    "    pathfindingGraph)\n",
    "lowGradientPath = [p.node_id for p in path]"
   ]
  },
  {
   "cell_type": "code",
   "execution_count": null,
   "id": "18f4ecb5",
   "metadata": {
    "papermill": {
     "duration": null,
     "end_time": null,
     "exception": null,
     "start_time": null,
     "status": "pending"
    },
    "tags": []
   },
   "outputs": [],
   "source": [
    "for step, i in enumerate(lowGradientPath):\n",
    "    print(f\"{step+1:>2}: {formulas[i]}\")"
   ]
  },
  {
   "cell_type": "markdown",
   "id": "e419baad",
   "metadata": {
    "papermill": {
     "duration": null,
     "end_time": null,
     "exception": null,
     "start_time": null,
     "status": "pending"
    },
    "tags": []
   },
   "source": [
    "As one can see below, the path still is optimal (21 steps) but it now passes much closer to the center of the tetrahedron, avoiding the lower RMSAD region around `Mo33.3 Nb33.3 Ta33.3` from which it would have to climb a bit more rapidly to reach the `Hf95.0 Zr5.0` point."
   ]
  },
  {
   "cell_type": "code",
   "execution_count": null,
   "id": "54ca4a39",
   "metadata": {
    "papermill": {
     "duration": null,
     "end_time": null,
     "exception": null,
     "start_time": null,
     "status": "pending"
    },
    "tags": []
   },
   "outputs": [],
   "source": [
    "gridFeasibleMarked = ['path' if i in lowGradientPath else f for i, f in enumerate(gridFeasible)]\n",
    "fig = px.scatter_3d(gridAtt_projected_df, x='x', y='y', z='z', color=gridFeasibleMarked, text=labels, hover_name=formulas,\n",
    "              template='plotly_white', width=800, height=700, opacity=0.333, color_discrete_sequence=['blue', 'green', 'red'],\n",
    "              labels={'color':'Solid Solution Phases', 'x':'', 'y':'', 'z':''})\n",
    "fig.update_scenes({'camera': {'eye': {'x': -1.8, 'y': 1.2, 'z': 1.5}}})"
   ]
  },
  {
   "cell_type": "markdown",
   "id": "ec90a5aa",
   "metadata": {
    "papermill": {
     "duration": null,
     "end_time": null,
     "exception": null,
     "start_time": null,
     "status": "pending"
    },
    "tags": []
   },
   "source": [
    "## Property Maximization Along the Path\n",
    "\n",
    "**Finally, let's demonstrate how easy it is to maximize a property along the path by exploiting the unidirectionaliy of the graph edge definitions in `nimplex`, which allow us to efortlessly enocde the property maximization goal as directional reward or penalty applied to edges.** This is as simple as applying the property gradient directly rather than its magnitude."
   ]
  },
  {
   "cell_type": "code",
   "execution_count": null,
   "id": "98244a7b",
   "metadata": {
    "papermill": {
     "duration": null,
     "end_time": null,
     "exception": null,
     "start_time": null,
     "status": "pending"
    },
    "tags": []
   },
   "outputs": [],
   "source": [
    "edges = []\n",
    "gradientsList = []\n",
    "penaltyFactor = 20\n",
    "for i, nList in enumerate(graphN):\n",
    "    if gridFeasible[i]:\n",
    "        for n in nList:\n",
    "            if gridFeasible[n]:\n",
    "                rmsadGradient = rmsadList[i]-rmsadList[n]\n",
    "                gradientsList.append(rmsadGradient)\n",
    "                edges.append([i, n, 1+round((rmsadGradient*penaltyFactor), 3)])\n",
    "print(edges[:15])\n",
    "print(f\"{len(gradientsList)} gradients calculated with values up to {max(gradientsList)}\")\n",
    "print(f\"Penalty at -{penaltyFactor}x gradient *value* per path step assigned (higher RMSAD preferred)\")"
   ]
  },
  {
   "cell_type": "code",
   "execution_count": null,
   "id": "9338120d",
   "metadata": {
    "papermill": {
     "duration": null,
     "end_time": null,
     "exception": null,
     "start_time": null,
     "status": "pending"
    },
    "tags": []
   },
   "outputs": [],
   "source": [
    "pathfindingGraph = Graph(edges=edges, bi_directional=False)\n",
    "finder = DijkstraFinder()\n",
    "path, runs = finder.find_path(\n",
    "    pathfindingGraph.node(0), \n",
    "    pathfindingGraph.node(90), \n",
    "    pathfindingGraph)\n",
    "pathList = [p.node_id for p in path]"
   ]
  },
  {
   "cell_type": "code",
   "execution_count": null,
   "id": "cc386d54",
   "metadata": {
    "papermill": {
     "duration": null,
     "end_time": null,
     "exception": null,
     "start_time": null,
     "status": "pending"
    },
    "tags": []
   },
   "outputs": [],
   "source": [
    "for step, i in enumerate(pathList):\n",
    "    print(f\"{step+1:>2}: {formulas[i]}\")"
   ]
  },
  {
   "cell_type": "markdown",
   "id": "42efe6dc",
   "metadata": {
    "papermill": {
     "duration": null,
     "end_time": null,
     "exception": null,
     "start_time": null,
     "status": "pending"
    },
    "tags": []
   },
   "source": [
    "**As you can see, we again complete the path in 21 steps but following a different path that maximizes the RMSAD along the way thanks to the small bias we introduced.**"
   ]
  },
  {
   "cell_type": "code",
   "execution_count": null,
   "id": "5b8bd841",
   "metadata": {
    "papermill": {
     "duration": null,
     "end_time": null,
     "exception": null,
     "start_time": null,
     "status": "pending"
    },
    "tags": []
   },
   "outputs": [],
   "source": [
    "gridFeasibleMarked = ['path' if i in pathList else f for i, f in enumerate(gridFeasible)]\n",
    "fig = px.scatter_3d(gridAtt_projected_df, x='x', y='y', z='z', color=gridFeasibleMarked, text=labels, hover_name=formulas,\n",
    "              template='plotly_white', width=800, height=700, opacity=0.333, color_discrete_sequence=['blue', 'green', 'red'],\n",
    "              labels={'color':'Solid Solution Phases', 'x':'', 'y':'', 'z':''})\n",
    "fig.update_scenes({'camera': {'eye': {'x': -1.8, 'y': 1.2, 'z': 1.5}}})"
   ]
  },
  {
   "cell_type": "markdown",
   "id": "8425aca5",
   "metadata": {
    "papermill": {
     "duration": null,
     "end_time": null,
     "exception": null,
     "start_time": null,
     "status": "pending"
    },
    "tags": []
   },
   "source": [
    "**And, if we care more about going through high RMSAD regions than we do about the number of steps taken, we can always simply increase the bias to move the path into the high RMSAD regions even more at the cost of the number of steps taken.**"
   ]
  },
  {
   "cell_type": "code",
   "execution_count": null,
   "id": "204adb99",
   "metadata": {
    "papermill": {
     "duration": null,
     "end_time": null,
     "exception": null,
     "start_time": null,
     "status": "pending"
    },
    "tags": []
   },
   "outputs": [],
   "source": [
    "edges = []\n",
    "gradientsList = []\n",
    "penaltyFactor = 200\n",
    "for i, nList in enumerate(graphN):\n",
    "    if gridFeasible[i]:\n",
    "        for n in nList:\n",
    "            if gridFeasible[n]:\n",
    "                rmsadGradient = rmsadList[i]-rmsadList[n]\n",
    "                gradientsList.append(rmsadGradient)\n",
    "                edges.append([i, n, 1+round((rmsadGradient*penaltyFactor), 3)])\n",
    "print(edges[:15])\n",
    "print(f\"{len(gradientsList)} gradients calculated with values up to {max(gradientsList)}\")\n",
    "print(f\"Penalty at -{penaltyFactor}x gradient *value* per path step assigned (higher RMSAD preferred)\")\n",
    "\n",
    "pathfindingGraph = Graph(edges=edges, bi_directional=False)\n",
    "finder = DijkstraFinder()\n",
    "path, runs = finder.find_path(\n",
    "    pathfindingGraph.node(0), \n",
    "    pathfindingGraph.node(90), \n",
    "    pathfindingGraph)\n",
    "pathList = [p.node_id for p in path]"
   ]
  },
  {
   "cell_type": "code",
   "execution_count": null,
   "id": "f07965c5",
   "metadata": {
    "papermill": {
     "duration": null,
     "end_time": null,
     "exception": null,
     "start_time": null,
     "status": "pending"
    },
    "tags": []
   },
   "outputs": [],
   "source": [
    "for step, i in enumerate(pathList):\n",
    "    print(f\"{step+1:>2}: {formulas[i]}\")"
   ]
  },
  {
   "cell_type": "code",
   "execution_count": null,
   "id": "541a93a4",
   "metadata": {
    "papermill": {
     "duration": null,
     "end_time": null,
     "exception": null,
     "start_time": null,
     "status": "pending"
    },
    "tags": []
   },
   "outputs": [],
   "source": [
    "gridFeasibleMarked = ['path' if i in pathList else f for i, f in enumerate(gridFeasible)]\n",
    "fig = px.scatter_3d(gridAtt_projected_df, x='x', y='y', z='z', color=gridFeasibleMarked, text=labels, hover_name=formulas,\n",
    "              template='plotly_white', width=800, height=700, opacity=0.333, color_discrete_sequence=['blue', 'green', 'red'],\n",
    "              labels={'color':'Solid Solution Phases', 'x':'', 'y':'', 'z':''})\n",
    "fig.update_scenes({'camera': {'eye': {'x': -1.8, 'y': 1.2, 'z': 1.5}}})"
   ]
  },
  {
   "cell_type": "markdown",
   "id": "2d193235",
   "metadata": {
    "papermill": {
     "duration": null,
     "end_time": null,
     "exception": null,
     "start_time": null,
     "status": "pending"
    },
    "tags": []
   },
   "source": [
    "## Final Remarks\n",
    "\n",
    "**And that's it! We hope you enjoyed this tutorial and that you see the potential of `nimplex` in your work. If you have any questions, feel free to ask them in the `nimplex` repository under the Issues tab. You are also welcome to shoot an email to the author at [adam@phaseslab.org](mailto:adam@phaseslab.org). We will be excited to hear about your applications.**\n",
    "\n",
    "**We are planning on a couple more tutorials in the future, including a more advanced techniques for more specific use cases within materials science and beyond. PRs with your own tutorials are also welcome!**"
   ]
  },
  {
   "cell_type": "markdown",
   "id": "8d16bc93",
   "metadata": {
    "papermill": {
     "duration": null,
     "end_time": null,
     "exception": null,
     "start_time": null,
     "status": "pending"
    },
    "tags": []
   },
   "source": []
  }
 ],
 "metadata": {
  "kernelspec": {
   "display_name": "pyplex",
   "language": "python",
   "name": "python3"
  },
  "language_info": {
   "codemirror_mode": {
    "name": "ipython",
    "version": 3
   },
   "file_extension": ".py",
   "mimetype": "text/x-python",
   "name": "python",
   "nbconvert_exporter": "python",
   "pygments_lexer": "ipython3",
   "version": "3.11.9"
  },
  "papermill": {
   "default_parameters": {},
   "duration": 272.203791,
   "end_time": "2024-06-06T14:27:33.936225",
   "environment_variables": {},
   "exception": true,
   "input_path": "AdditiveManufacturingPathPlanning.ipynb",
   "output_path": "AdditiveManufacturingPathPlanningOut.ipynb",
   "parameters": {},
   "start_time": "2024-06-06T14:23:01.732434",
   "version": "2.6.0"
  },
  "widgets": {
   "application/vnd.jupyter.widget-state+json": {
    "state": {
     "16a95d338c674d3f85f73fa4fe1c2fee": {
      "model_module": "@jupyter-widgets/base",
      "model_module_version": "2.0.0",
      "model_name": "LayoutModel",
      "state": {
       "_model_module": "@jupyter-widgets/base",
       "_model_module_version": "2.0.0",
       "_model_name": "LayoutModel",
       "_view_count": null,
       "_view_module": "@jupyter-widgets/base",
       "_view_module_version": "2.0.0",
       "_view_name": "LayoutView",
       "align_content": null,
       "align_items": null,
       "align_self": null,
       "border_bottom": null,
       "border_left": null,
       "border_right": null,
       "border_top": null,
       "bottom": null,
       "display": null,
       "flex": null,
       "flex_flow": null,
       "grid_area": null,
       "grid_auto_columns": null,
       "grid_auto_flow": null,
       "grid_auto_rows": null,
       "grid_column": null,
       "grid_gap": null,
       "grid_row": null,
       "grid_template_areas": null,
       "grid_template_columns": null,
       "grid_template_rows": null,
       "height": null,
       "justify_content": null,
       "justify_items": null,
       "left": null,
       "margin": null,
       "max_height": null,
       "max_width": null,
       "min_height": null,
       "min_width": null,
       "object_fit": null,
       "object_position": null,
       "order": null,
       "overflow": null,
       "padding": null,
       "right": null,
       "top": null,
       "visibility": null,
       "width": null
      }
     },
     "3c47858d9e094a15bac724f5a6646436": {
      "model_module": "@jupyter-widgets/base",
      "model_module_version": "2.0.0",
      "model_name": "LayoutModel",
      "state": {
       "_model_module": "@jupyter-widgets/base",
       "_model_module_version": "2.0.0",
       "_model_name": "LayoutModel",
       "_view_count": null,
       "_view_module": "@jupyter-widgets/base",
       "_view_module_version": "2.0.0",
       "_view_name": "LayoutView",
       "align_content": null,
       "align_items": null,
       "align_self": null,
       "border_bottom": null,
       "border_left": null,
       "border_right": null,
       "border_top": null,
       "bottom": null,
       "display": null,
       "flex": null,
       "flex_flow": null,
       "grid_area": null,
       "grid_auto_columns": null,
       "grid_auto_flow": null,
       "grid_auto_rows": null,
       "grid_column": null,
       "grid_gap": null,
       "grid_row": null,
       "grid_template_areas": null,
       "grid_template_columns": null,
       "grid_template_rows": null,
       "height": null,
       "justify_content": null,
       "justify_items": null,
       "left": null,
       "margin": null,
       "max_height": null,
       "max_width": null,
       "min_height": null,
       "min_width": null,
       "object_fit": null,
       "object_position": null,
       "order": null,
       "overflow": null,
       "padding": null,
       "right": null,
       "top": null,
       "visibility": null,
       "width": null
      }
     },
     "786ae0edb62049ba8fc482d9e5911913": {
      "model_module": "@jupyter-widgets/controls",
      "model_module_version": "2.0.0",
      "model_name": "HBoxModel",
      "state": {
       "_dom_classes": [],
       "_model_module": "@jupyter-widgets/controls",
       "_model_module_version": "2.0.0",
       "_model_name": "HBoxModel",
       "_view_count": null,
       "_view_module": "@jupyter-widgets/controls",
       "_view_module_version": "2.0.0",
       "_view_name": "HBoxView",
       "box_style": "",
       "children": [
        "IPY_MODEL_81da8009a9f74733917b59cf3048fd0e",
        "IPY_MODEL_87a3f3b6e5dc4d4aa578a4db45173153",
        "IPY_MODEL_d3597d92fae84e11a109a00bb8cc2427"
       ],
       "layout": "IPY_MODEL_c82a0db41f0c45a99e8ce320b035139c",
       "tabbable": null,
       "tooltip": null
      }
     },
     "81da8009a9f74733917b59cf3048fd0e": {
      "model_module": "@jupyter-widgets/controls",
      "model_module_version": "2.0.0",
      "model_name": "HTMLModel",
      "state": {
       "_dom_classes": [],
       "_model_module": "@jupyter-widgets/controls",
       "_model_module_version": "2.0.0",
       "_model_name": "HTMLModel",
       "_view_count": null,
       "_view_module": "@jupyter-widgets/controls",
       "_view_module_version": "2.0.0",
       "_view_name": "HTMLView",
       "description": "",
       "description_allow_html": false,
       "layout": "IPY_MODEL_3c47858d9e094a15bac724f5a6646436",
       "placeholder": "​",
       "style": "IPY_MODEL_fabd9572e4e64217bfe3dbea46414791",
       "tabbable": null,
       "tooltip": null,
       "value": "100%"
      }
     },
     "87a3f3b6e5dc4d4aa578a4db45173153": {
      "model_module": "@jupyter-widgets/controls",
      "model_module_version": "2.0.0",
      "model_name": "FloatProgressModel",
      "state": {
       "_dom_classes": [],
       "_model_module": "@jupyter-widgets/controls",
       "_model_module_version": "2.0.0",
       "_model_name": "FloatProgressModel",
       "_view_count": null,
       "_view_module": "@jupyter-widgets/controls",
       "_view_module_version": "2.0.0",
       "_view_name": "ProgressView",
       "bar_style": "success",
       "description": "",
       "description_allow_html": false,
       "layout": "IPY_MODEL_16a95d338c674d3f85f73fa4fe1c2fee",
       "max": 455.0,
       "min": 0.0,
       "orientation": "horizontal",
       "style": "IPY_MODEL_abdecab1432e4b288ab87d60abe7f955",
       "tabbable": null,
       "tooltip": null,
       "value": 455.0
      }
     },
     "88f8d7812c7345a599c7a57885861551": {
      "model_module": "@jupyter-widgets/base",
      "model_module_version": "2.0.0",
      "model_name": "LayoutModel",
      "state": {
       "_model_module": "@jupyter-widgets/base",
       "_model_module_version": "2.0.0",
       "_model_name": "LayoutModel",
       "_view_count": null,
       "_view_module": "@jupyter-widgets/base",
       "_view_module_version": "2.0.0",
       "_view_name": "LayoutView",
       "align_content": null,
       "align_items": null,
       "align_self": null,
       "border_bottom": null,
       "border_left": null,
       "border_right": null,
       "border_top": null,
       "bottom": null,
       "display": null,
       "flex": null,
       "flex_flow": null,
       "grid_area": null,
       "grid_auto_columns": null,
       "grid_auto_flow": null,
       "grid_auto_rows": null,
       "grid_column": null,
       "grid_gap": null,
       "grid_row": null,
       "grid_template_areas": null,
       "grid_template_columns": null,
       "grid_template_rows": null,
       "height": null,
       "justify_content": null,
       "justify_items": null,
       "left": null,
       "margin": null,
       "max_height": null,
       "max_width": null,
       "min_height": null,
       "min_width": null,
       "object_fit": null,
       "object_position": null,
       "order": null,
       "overflow": null,
       "padding": null,
       "right": null,
       "top": null,
       "visibility": null,
       "width": null
      }
     },
     "abdecab1432e4b288ab87d60abe7f955": {
      "model_module": "@jupyter-widgets/controls",
      "model_module_version": "2.0.0",
      "model_name": "ProgressStyleModel",
      "state": {
       "_model_module": "@jupyter-widgets/controls",
       "_model_module_version": "2.0.0",
       "_model_name": "ProgressStyleModel",
       "_view_count": null,
       "_view_module": "@jupyter-widgets/base",
       "_view_module_version": "2.0.0",
       "_view_name": "StyleView",
       "bar_color": null,
       "description_width": ""
      }
     },
     "c82a0db41f0c45a99e8ce320b035139c": {
      "model_module": "@jupyter-widgets/base",
      "model_module_version": "2.0.0",
      "model_name": "LayoutModel",
      "state": {
       "_model_module": "@jupyter-widgets/base",
       "_model_module_version": "2.0.0",
       "_model_name": "LayoutModel",
       "_view_count": null,
       "_view_module": "@jupyter-widgets/base",
       "_view_module_version": "2.0.0",
       "_view_name": "LayoutView",
       "align_content": null,
       "align_items": null,
       "align_self": null,
       "border_bottom": null,
       "border_left": null,
       "border_right": null,
       "border_top": null,
       "bottom": null,
       "display": null,
       "flex": null,
       "flex_flow": null,
       "grid_area": null,
       "grid_auto_columns": null,
       "grid_auto_flow": null,
       "grid_auto_rows": null,
       "grid_column": null,
       "grid_gap": null,
       "grid_row": null,
       "grid_template_areas": null,
       "grid_template_columns": null,
       "grid_template_rows": null,
       "height": null,
       "justify_content": null,
       "justify_items": null,
       "left": null,
       "margin": null,
       "max_height": null,
       "max_width": null,
       "min_height": null,
       "min_width": null,
       "object_fit": null,
       "object_position": null,
       "order": null,
       "overflow": null,
       "padding": null,
       "right": null,
       "top": null,
       "visibility": null,
       "width": null
      }
     },
     "d3597d92fae84e11a109a00bb8cc2427": {
      "model_module": "@jupyter-widgets/controls",
      "model_module_version": "2.0.0",
      "model_name": "HTMLModel",
      "state": {
       "_dom_classes": [],
       "_model_module": "@jupyter-widgets/controls",
       "_model_module_version": "2.0.0",
       "_model_name": "HTMLModel",
       "_view_count": null,
       "_view_module": "@jupyter-widgets/controls",
       "_view_module_version": "2.0.0",
       "_view_name": "HTMLView",
       "description": "",
       "description_allow_html": false,
       "layout": "IPY_MODEL_88f8d7812c7345a599c7a57885861551",
       "placeholder": "​",
       "style": "IPY_MODEL_ec91eefb418b4828b2da6fc2a40a59d9",
       "tabbable": null,
       "tooltip": null,
       "value": " 455/455 [00:28&lt;00:00, 21.91it/s]"
      }
     },
     "ec91eefb418b4828b2da6fc2a40a59d9": {
      "model_module": "@jupyter-widgets/controls",
      "model_module_version": "2.0.0",
      "model_name": "HTMLStyleModel",
      "state": {
       "_model_module": "@jupyter-widgets/controls",
       "_model_module_version": "2.0.0",
       "_model_name": "HTMLStyleModel",
       "_view_count": null,
       "_view_module": "@jupyter-widgets/base",
       "_view_module_version": "2.0.0",
       "_view_name": "StyleView",
       "background": null,
       "description_width": "",
       "font_size": null,
       "text_color": null
      }
     },
     "fabd9572e4e64217bfe3dbea46414791": {
      "model_module": "@jupyter-widgets/controls",
      "model_module_version": "2.0.0",
      "model_name": "HTMLStyleModel",
      "state": {
       "_model_module": "@jupyter-widgets/controls",
       "_model_module_version": "2.0.0",
       "_model_name": "HTMLStyleModel",
       "_view_count": null,
       "_view_module": "@jupyter-widgets/base",
       "_view_module_version": "2.0.0",
       "_view_name": "StyleView",
       "background": null,
       "description_width": "",
       "font_size": null,
       "text_color": null
      }
     }
    },
    "version_major": 2,
    "version_minor": 0
   }
  }
 },
 "nbformat": 4,
 "nbformat_minor": 5
}