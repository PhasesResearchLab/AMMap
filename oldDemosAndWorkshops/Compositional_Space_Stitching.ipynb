{
 "cells": [
  {
   "cell_type": "markdown",
   "metadata": {},
   "source": []
  },
  {
   "cell_type": "markdown",
   "metadata": {},
   "source": [
    "# 3. Building Compositional Space Complexes to Express Elaborate Design Problems\n",
    "\n",
    "> ***(before running this code, please consult Quick Start to make sure everything is set up)***\n",
    "\n",
    "> You will need the same dependencies as in [Tutorial No.2](02.AdditiveManufacturingPathPlanning.ipynb) (i.e., `pycalphad` and `pathfinding`), and additionally `igraph` in order to efficiently visualize the examples presented in this tutorial. **If you are running this in `nimplex`'s Codespaces, everything has been pre-installed for you.**"
   ]
  },
  {
   "cell_type": "markdown",
   "metadata": {},
   "source": [
    "**In this tutorial, we will build upon `nimplex`'s graph representations and leverage our ability to combine (\"stitch\") them together without affecting the way we express the problem at hand and in an effortless fashion to dramatically speed up materials exploration.** In particular, we will show how to:\n",
    "\n",
    "1. **Plot graphs** (as in mathematical objects, not any figures) using [`igraph`](https://igraph.org/), which can be done quite directly using `nimplex`'s point grid and neighbor lists `edges = [(i,n) for i in range(len(gridAtt)) for n in nList[i]]`\n",
    "\n",
    "2. **Identify ordered subsystems in `nimplex` grids, like `A-B-C` and `C-A-B` within `A-B-C-D-E` and `D-C-G-F-A-H-B` to establish connectivity between them.** We will use this to combine 3 4-component systems (tetrahedra) by 2 3-component subsystems (triangles) to create a chain.\n",
    "\n",
    "3. Identify all subspaces of a given order in low dimensional and high dimensional spaces (e.g., all quantized compositions of any 3 things out of N) and combine (\"stitch\") them together to form a **simplex graphs that intersect themselves in 3D because of high dimensionality, yet still have the same (graph) structure**.\n",
    "\n",
    "4. **Construct a graph complex to explore all ternary combinations of `[\"Ti50Zr50\", \"Hf95Ti5\", \"NbTaWHf\", \"Mo80Nb10W10\", \"TiTa2\", \"Nb96Mo3W1\", \"Zr49 Hf1 Mo50\"]` (7 alloys)** under equilibrium phase constraint (relatively expensive to compute) and then explore the space with an additional low-cost screenig constraint (RMSAD - alloy strenght surrogate) that could also be an ML surrogate."
   ]
  },
  {
   "cell_type": "code",
   "execution_count": 1,
   "metadata": {},
   "outputs": [],
   "source": [
    "import nimplex\n",
    "from utils import stitching\n",
    "from IPython.display import clear_output\n",
    "from itertools import combinations"
   ]
  },
  {
   "cell_type": "code",
   "execution_count": 2,
   "metadata": {},
   "outputs": [],
   "source": [
    "import igraph as ig\n",
    "import plotly.graph_objs as go\n",
    "import numpy as np\n",
    "import random\n",
    "random.seed(123)"
   ]
  },
  {
   "cell_type": "code",
   "execution_count": null,
   "metadata": {},
   "outputs": [],
   "source": []
  },
  {
   "cell_type": "markdown",
   "metadata": {},
   "source": [
    "## Plotting 4-Component Simplex Graph with `igraph`"
   ]
  },
  {
   "cell_type": "code",
   "execution_count": 96,
   "metadata": {},
   "outputs": [],
   "source": [
    "dim = 4\n",
    "ndiv = 6\n",
    "gridAtt, nList = nimplex.simplex_graph_py(dim, ndiv)"
   ]
  },
  {
   "cell_type": "code",
   "execution_count": 97,
   "metadata": {},
   "outputs": [],
   "source": [
    "edges = []\n",
    "for i in range(len(gridAtt)):\n",
    "    for n in nList[i]:\n",
    "        edges.append((i,n))"
   ]
  },
  {
   "cell_type": "code",
   "execution_count": 98,
   "metadata": {},
   "outputs": [],
   "source": [
    "def plotGraph(edges: list):\n",
    "    # Lets generate some seed positions for the nodes\n",
    "    G = ig.Graph(edges)\n",
    "    layout = G.layout_kamada_kawai(dim=3)\n",
    "    layout_array = np.array(layout.coords)\n",
    "    # Create edge traces\n",
    "    edge_traces = []\n",
    "    for edge in G.es:\n",
    "        start, end = edge.tuple\n",
    "        x0, y0, z0 = layout_array[start]\n",
    "        x1, y1, z1 = layout_array[end]\n",
    "        width = 5\n",
    "        edge_trace = go.Scatter3d(x=[x0, x1], y=[y0, y1], z=[z0, z1],\n",
    "                                line=dict(width=width, color='lightgray'),\n",
    "                                opacity=0.2,\n",
    "                                hoverinfo='none', mode='lines')\n",
    "        edge_traces.append(edge_trace)\n",
    "\n",
    "    node_trace = go.Scatter3d(x=layout_array[:, 0], y=layout_array[:, 1], z=layout_array[:, 2],\n",
    "                            mode='markers',\n",
    "                            marker=dict(size=3, \n",
    "                                        opacity=0.5,\n",
    "                                        line=None,\n",
    "                                        color='blue'),\n",
    "                            \n",
    "                            text=[f\"Node {i}\" for i in range(len(gridAtt))],\n",
    "                            hoverinfo='text')\n",
    "\n",
    "    # Create figure\n",
    "    fig = go.Figure(data=edge_traces + [node_trace])\n",
    "\n",
    "    # Update layout\n",
    "    fig.update_layout(\n",
    "        title='3D Graph with Feasibility Types',\n",
    "        scene=dict(\n",
    "            xaxis=dict(visible=False),\n",
    "            yaxis=dict(visible=False),\n",
    "            zaxis=dict(visible=False),\n",
    "        ),\n",
    "        showlegend=False,\n",
    "        margin=dict(l=0, r=0, b=0, t=0),\n",
    "        width=800\n",
    "    )\n",
    "\n",
    "    fig.show()"
   ]
  },
  {
   "cell_type": "code",
   "execution_count": 99,
   "metadata": {},
   "outputs": [],
   "source": [
    "#plotGraph(edges)\n",
    "clear_output()"
   ]
  },
  {
   "cell_type": "markdown",
   "metadata": {},
   "source": [
    "## Combining (\"Stitching\") 3 4-Component Systems into A Complex"
   ]
  },
  {
   "cell_type": "code",
   "execution_count": 100,
   "metadata": {},
   "outputs": [],
   "source": [
    "sys1 = [\"A\", \"B\", \"C\", \"D\"]\n",
    "sys2 = [\"B\", \"C\", \"D\", \"E\"]\n",
    "sys3 = [\"B\", \"D\", \"E\", \"F\"]"
   ]
  },
  {
   "cell_type": "code",
   "execution_count": 101,
   "metadata": {},
   "outputs": [],
   "source": [
    "offset = len(gridAtt)\n",
    "for i in range(len(gridAtt)):\n",
    "    for n in nList[i]:\n",
    "        edges.append((i+offset,n+offset))\n",
    "for i in range(len(gridAtt)):\n",
    "    for n in nList[i]:\n",
    "        edges.append((i+offset*2,n+offset*2))"
   ]
  },
  {
   "cell_type": "code",
   "execution_count": 102,
   "metadata": {},
   "outputs": [],
   "source": [
    "#plotGraph(edges)\n",
    "clear_output()"
   ]
  },
  {
   "cell_type": "code",
   "execution_count": 103,
   "metadata": {},
   "outputs": [
    {
     "name": "stdout",
     "output_type": "stream",
     "text": [
      "[83, 82, 79, 73, 63, 48, 27]\n"
     ]
    }
   ],
   "source": [
    "stitchingPoints = stitching.findStitchingPoints_py(dim, ndiv, components=[\"A\", \"B\", \"C\", \"D\"])\n",
    "print(stitchingPoints[\"A-B\"])"
   ]
  },
  {
   "cell_type": "code",
   "execution_count": 104,
   "metadata": {},
   "outputs": [],
   "source": [
    "stitchingPoints1 = stitching.findStitchingPoints_py(dim, ndiv, components=sys1, offset=0)\n",
    "stitchingPoints2 = stitching.findStitchingPoints_py(dim, ndiv, components=sys2, offset=len(gridAtt))\n",
    "stitchingPoints3 = stitching.findStitchingPoints_py(dim, ndiv, components=sys3, offset=len(gridAtt)*2)"
   ]
  },
  {
   "cell_type": "code",
   "execution_count": 105,
   "metadata": {},
   "outputs": [],
   "source": [
    "for i, j in zip(stitchingPoints1[\"B-C-D\"], stitchingPoints2[\"B-C-D\"]):\n",
    "    edges.append((i, j))"
   ]
  },
  {
   "cell_type": "code",
   "execution_count": 106,
   "metadata": {},
   "outputs": [],
   "source": [
    "for i, j in zip(stitchingPoints2[\"B-D-E\"], stitchingPoints3[\"B-D-E\"]):\n",
    "    edges.append((i, j))"
   ]
  },
  {
   "cell_type": "code",
   "execution_count": 107,
   "metadata": {},
   "outputs": [],
   "source": [
    "#plotGraph(edges)\n",
    "clear_output()"
   ]
  },
  {
   "cell_type": "markdown",
   "metadata": {},
   "source": [
    "## Combining (\"Stitching\") 9 3-Component Systems into A Complex\n",
    "### Disregard this section for now Adam"
   ]
  },
  {
   "cell_type": "code",
   "execution_count": 3,
   "metadata": {},
   "outputs": [],
   "source": [
    "dim = 3\n",
    "ndiv = 6\n",
    "nsys = 9\n",
    "gridAtt, nList = nimplex.simplex_graph_py(dim, ndiv)\n",
    "edges = []\n",
    "for i in range(len(gridAtt)):\n",
    "    for n in nList[i]:\n",
    "        edges.append((i,n))"
   ]
  },
  {
   "cell_type": "code",
   "execution_count": 4,
   "metadata": {},
   "outputs": [
    {
     "data": {
      "text/plain": [
       "28"
      ]
     },
     "execution_count": 4,
     "metadata": {},
     "output_type": "execute_result"
    }
   ],
   "source": [
    "len(gridAtt)"
   ]
  },
  {
   "cell_type": "code",
   "execution_count": 5,
   "metadata": {},
   "outputs": [],
   "source": [
    "offset = len(gridAtt)\n",
    "for sys in range(1,nsys+1):\n",
    "    for i in range(len(gridAtt)):\n",
    "        for n in nList[i]:\n",
    "            edges.append((i+offset*sys,n+offset*sys))"
   ]
  },
  {
   "cell_type": "code",
   "execution_count": 6,
   "metadata": {},
   "outputs": [],
   "source": [
    "#plotGraph(edges)\n",
    "clear_output()"
   ]
  },
  {
   "cell_type": "code",
   "execution_count": 7,
   "metadata": {},
   "outputs": [
    {
     "name": "stderr",
     "output_type": "stream",
     "text": [
      "/opt/conda/lib/python3.11/site-packages/pycalphad/io/tdb.py:293: UserWarning: The type definition character `&` in `TYPE_DEFINITION & GES A_P_D A2_BCC MAGNETIC -1.0 4.00000E-01 ` is not used by any phase.\n",
      "  warnings.warn(f\"The type definition character `{typechar}` in `TYPE_DEFINITION {typechar} {line}` is not used by any phase.\")\n"
     ]
    }
   ],
   "source": [
    "from pycalphad import Database\n",
    "dbCrNiV = Database(\"ammap/databases/Co-Cr-Fe-Ni-V_choi2019.TDB\")\n",
    "dbCrFeTi = Database(\"ammap/databases/Cr-Fe-Ti_wang2017.tdb\")\n",
    "dbCrFeNi = Database(\"ammap/databases/Cr-Fe-Ni_miettinen1999.tdb\")\n",
    "dbCrNiTi= Database(\"ammap/databases/Cr-Ni-Ti_huang2018.tdb\")\n",
    "dbCrTiV= Database(\"ammap/databases/Cr-Ti-V_ghosh2002.tdb\")\n",
    "dbFeNiTi= Database(\"ammap/databases/Fe-Ni-Ti_dekeyzer2009.tdb\")\n",
    "dbFeNiV= Database(\"ammap/databases/Fe-Ni-V_zhao2014.tdb\")\n",
    "dbFeTiV= Database(\"ammap/databases/Fe-Ti-V_guo2012.TDB\")\n",
    "dbNiTiV= Database(\"ammap/databases/Ni-Ti-V_zou2018.tdb\")\n",
    "CrNiV = ['Cr', 'Ni', 'V']\n",
    "CrFeTi = ['Cr', 'Fe', 'Ti']\n",
    "CrFeNi = ['Cr', 'Fe', 'Ni']\n",
    "CrNiTi = ['Cr', 'Ni', 'Ti']\n",
    "CrTiV = ['Cr', 'Ti', 'V']\n",
    "FeNiTi = ['Fe', 'Ni', 'Ti']\n",
    "FeNiV = ['Fe', 'Ni', 'V']\n",
    "FeTiV = ['Fe', 'Ti', 'V']\n",
    "NiTiV = ['Ni', 'Ti', 'V']\n"
   ]
  },
  {
   "cell_type": "code",
   "execution_count": 113,
   "metadata": {},
   "outputs": [],
   "source": [
    "stitchingPointsCrNiV = stitching.findStitchingPoints_py(dim, ndiv, components=CrNiV, offset=0)\n",
    "stitchingPointsCrFeTi = stitching.findStitchingPoints_py(dim, ndiv, components=CrFeTi, offset=len(gridAtt))\n",
    "stitchingPointsCrFeNi = stitching.findStitchingPoints_py(dim, ndiv, components=CrFeNi, offset=len(gridAtt)*2)\n",
    "stitchingPointsCrNiTi = stitching.findStitchingPoints_py(dim, ndiv, components=CrNiTi, offset=len(gridAtt)*3)\n",
    "stitchingPointsCrTiV = stitching.findStitchingPoints_py(dim, ndiv, components=CrTiV, offset=len(gridAtt)*4)\n",
    "stitchingPointsFeNiTi = stitching.findStitchingPoints_py(dim, ndiv, components=FeNiTi, offset=len(gridAtt)*5)\n",
    "stitchingPointsFeNiV = stitching.findStitchingPoints_py(dim, ndiv, components=FeNiV, offset=len(gridAtt)*6)\n",
    "stitchingPointsFeTiV = stitching.findStitchingPoints_py(dim, ndiv, components=FeTiV, offset=len(gridAtt)*7)\n",
    "stitchingPointsNiTiV = stitching.findStitchingPoints_py(dim, ndiv, components=NiTiV, offset=len(gridAtt)*8)"
   ]
  },
  {
   "cell_type": "markdown",
   "metadata": {},
   "source": [
    "## Finding and Combining 3-Component Subspaces in 4-Component Space"
   ]
  },
  {
   "cell_type": "code",
   "execution_count": 114,
   "metadata": {},
   "outputs": [
    {
     "name": "stdout",
     "output_type": "stream",
     "text": [
      "[('A', 'B', 'C'), ('A', 'B', 'D'), ('A', 'C', 'D'), ('B', 'C', 'D')]\n"
     ]
    }
   ],
   "source": [
    "from itertools import combinations\n",
    "elements = [\"A\", \"B\", \"C\", \"D\"]\n",
    "ternaries = list(combinations(elements, 3))\n",
    "print(ternaries)"
   ]
  },
  {
   "cell_type": "code",
   "execution_count": 115,
   "metadata": {},
   "outputs": [],
   "source": [
    "gridAtt, nList = nimplex.simplex_graph_py(3,12)"
   ]
  },
  {
   "cell_type": "code",
   "execution_count": 116,
   "metadata": {},
   "outputs": [],
   "source": [
    "edges = []\n",
    "# Ternaries\n",
    "for i, ternary in enumerate(ternaries):\n",
    "    offset = i*len(gridAtt)\n",
    "    for i in range(len(gridAtt)):\n",
    "        for n in nList[i]:\n",
    "            edges.append((i+offset,n+offset))"
   ]
  },
  {
   "cell_type": "code",
   "execution_count": null,
   "metadata": {},
   "outputs": [],
   "source": [
    "#plotGraph(edges)\n",
    "clear_output()"
   ]
  },
  {
   "cell_type": "code",
   "execution_count": 118,
   "metadata": {},
   "outputs": [
    {
     "name": "stdout",
     "output_type": "stream",
     "text": [
      "('A', 'B'): occurs between ternary [(0, 1)]\n",
      "('A', 'C'): occurs between ternary [(0, 2)]\n",
      "('B', 'C'): occurs between ternary [(0, 3)]\n",
      "('A', 'D'): occurs between ternary [(1, 2)]\n",
      "('B', 'D'): occurs between ternary [(1, 3)]\n",
      "('C', 'D'): occurs between ternary [(2, 3)]\n"
     ]
    }
   ],
   "source": [
    "stitchingBinaries = {}\n",
    "\n",
    "for i, combo1 in enumerate(ternaries):\n",
    "    for j, combo2 in enumerate(ternaries[i+1:], start=i+1):\n",
    "        common = set(combo1) & set(combo2)\n",
    "        if len(common) == 2:\n",
    "            overlap = tuple(sorted(common))\n",
    "            if overlap not in stitchingBinaries:\n",
    "                stitchingBinaries[overlap] = []\n",
    "            stitchingBinaries[overlap].append((i, j))\n",
    "\n",
    "for overlap, pairs in stitchingBinaries.items():\n",
    "    print(f\"{overlap}: occurs between ternary {pairs}\")"
   ]
  },
  {
   "cell_type": "markdown",
   "metadata": {},
   "source": []
  },
  {
   "cell_type": "code",
   "execution_count": 119,
   "metadata": {},
   "outputs": [
    {
     "name": "stdout",
     "output_type": "stream",
     "text": [
      "Stitching 0 and 1 at ('A', 'B') from [90, 89, 87, 84, 80, 75, 69, 62, 54, 45, 35, 24, 12] to [181, 180, 178, 175, 171, 166, 160, 153, 145, 136, 126, 115, 103]\n",
      "Stitching 0 and 2 at ('A', 'C') from [90, 88, 85, 81, 76, 70, 63, 55, 46, 36, 25, 13, 0] to [272, 271, 269, 266, 262, 257, 251, 244, 236, 227, 217, 206, 194]\n",
      "Stitching 0 and 3 at ('B', 'C') from [12, 11, 10, 9, 8, 7, 6, 5, 4, 3, 2, 1, 0] to [363, 362, 360, 357, 353, 348, 342, 335, 327, 318, 308, 297, 285]\n",
      "Stitching 1 and 2 at ('A', 'D') from [181, 179, 176, 172, 167, 161, 154, 146, 137, 127, 116, 104, 91] to [272, 270, 267, 263, 258, 252, 245, 237, 228, 218, 207, 195, 182]\n",
      "Stitching 1 and 3 at ('B', 'D') from [103, 102, 101, 100, 99, 98, 97, 96, 95, 94, 93, 92, 91] to [363, 361, 358, 354, 349, 343, 336, 328, 319, 309, 298, 286, 273]\n",
      "Stitching 2 and 3 at ('C', 'D') from [194, 193, 192, 191, 190, 189, 188, 187, 186, 185, 184, 183, 182] to [285, 284, 283, 282, 281, 280, 279, 278, 277, 276, 275, 274, 273]\n"
     ]
    }
   ],
   "source": [
    "for stitchingBinary, ternaryPair in stitchingBinaries.items():\n",
    "    ternary1, ternary2 = ternaryPair[0][0], ternaryPair[0][1]\n",
    "    stitching1 = stitching.findStitchingPoints_py(\n",
    "        3, 12, \n",
    "        components=ternaries[ternary1],\n",
    "        offset=ternary1*len(gridAtt)\n",
    "        )[\"-\".join(stitchingBinary)]\n",
    "    stitching2 = stitching.findStitchingPoints_py(\n",
    "        3, 12, \n",
    "        components=ternaries[ternary2],\n",
    "        offset=ternary2*len(gridAtt)\n",
    "        )[\"-\".join(stitchingBinary)]\n",
    "    print(f\"Stitching {ternary1} and {ternary2} at {stitchingBinary} from {stitching1} to {stitching2}\")\n",
    "    for i, j in zip(stitching1, stitching2):\n",
    "        edges.append((i, j))"
   ]
  },
  {
   "cell_type": "code",
   "execution_count": 120,
   "metadata": {},
   "outputs": [],
   "source": [
    "#plotGraph(edges)\n",
    "clear_output()"
   ]
  },
  {
   "cell_type": "markdown",
   "metadata": {},
   "source": [
    "## In Higher Dimensional Cases (Stretched 2D Spaces Crossing Each Other in 3D)"
   ]
  },
  {
   "cell_type": "code",
   "execution_count": 121,
   "metadata": {},
   "outputs": [
    {
     "name": "stdout",
     "output_type": "stream",
     "text": [
      "[('A', 'B', 'C'), ('A', 'B', 'D'), ('A', 'B', 'E'), ('A', 'C', 'D'), ('A', 'C', 'E'), ('A', 'D', 'E'), ('B', 'C', 'D'), ('B', 'C', 'E'), ('B', 'D', 'E'), ('C', 'D', 'E')]\n"
     ]
    }
   ],
   "source": [
    "from itertools import combinations\n",
    "elements = [\"A\", \"B\", \"C\", \"D\", \"E\"]\n",
    "ternaries = list(combinations(elements, 3))\n",
    "print(ternaries)"
   ]
  },
  {
   "cell_type": "code",
   "execution_count": 122,
   "metadata": {},
   "outputs": [],
   "source": [
    "gridAtt, nList = nimplex.simplex_graph_py(3,12)"
   ]
  },
  {
   "cell_type": "code",
   "execution_count": 123,
   "metadata": {},
   "outputs": [],
   "source": [
    "edges = []\n",
    "# Ternaries\n",
    "for i, ternary in enumerate(ternaries):\n",
    "    offset = i*len(gridAtt)\n",
    "    for i in range(len(gridAtt)):\n",
    "        for n in nList[i]:\n",
    "            edges.append((i+offset,n+offset))\n"
   ]
  },
  {
   "cell_type": "code",
   "execution_count": 124,
   "metadata": {},
   "outputs": [],
   "source": [
    "#plotGraph(edges)\n",
    "clear_output()"
   ]
  },
  {
   "cell_type": "code",
   "execution_count": 125,
   "metadata": {},
   "outputs": [
    {
     "name": "stdout",
     "output_type": "stream",
     "text": [
      "('A', 'B'): occurs between ternary [(0, 1), (0, 2), (1, 2)]\n",
      "('A', 'C'): occurs between ternary [(0, 3), (0, 4), (3, 4)]\n",
      "('B', 'C'): occurs between ternary [(0, 6), (0, 7), (6, 7)]\n",
      "('A', 'D'): occurs between ternary [(1, 3), (1, 5), (3, 5)]\n",
      "('B', 'D'): occurs between ternary [(1, 6), (1, 8), (6, 8)]\n",
      "('A', 'E'): occurs between ternary [(2, 4), (2, 5), (4, 5)]\n",
      "('B', 'E'): occurs between ternary [(2, 7), (2, 8), (7, 8)]\n",
      "('C', 'D'): occurs between ternary [(3, 6), (3, 9), (6, 9)]\n",
      "('C', 'E'): occurs between ternary [(4, 7), (4, 9), (7, 9)]\n",
      "('D', 'E'): occurs between ternary [(5, 8), (5, 9), (8, 9)]\n"
     ]
    }
   ],
   "source": [
    "stitchingBinaries = {}\n",
    "\n",
    "for i, combo1 in enumerate(ternaries):\n",
    "    for j, combo2 in enumerate(ternaries[i+1:], start=i+1):\n",
    "        common = set(combo1) & set(combo2)\n",
    "        if len(common) == 2:\n",
    "            overlap = tuple(sorted(common))\n",
    "            if overlap not in stitchingBinaries:\n",
    "                stitchingBinaries[overlap] = []\n",
    "            stitchingBinaries[overlap].append((i, j))\n",
    "\n",
    "for overlap, pairs in stitchingBinaries.items():\n",
    "    print(f\"{overlap}: occurs between ternary {pairs}\")"
   ]
  },
  {
   "cell_type": "code",
   "execution_count": 126,
   "metadata": {},
   "outputs": [
    {
     "name": "stdout",
     "output_type": "stream",
     "text": [
      "Stitching 0 and 1 at ('A', 'B') from [90, 89, 87, 84, 80, 75, 69, 62, 54, 45, 35, 24, 12] to [181, 180, 178, 175, 171, 166, 160, 153, 145, 136, 126, 115, 103]\n",
      "Stitching 0 and 2 at ('A', 'B') from [90, 89, 87, 84, 80, 75, 69, 62, 54, 45, 35, 24, 12] to [272, 271, 269, 266, 262, 257, 251, 244, 236, 227, 217, 206, 194]\n",
      "Stitching 1 and 2 at ('A', 'B') from [181, 180, 178, 175, 171, 166, 160, 153, 145, 136, 126, 115, 103] to [272, 271, 269, 266, 262, 257, 251, 244, 236, 227, 217, 206, 194]\n",
      "Stitching 0 and 3 at ('A', 'C') from [90, 88, 85, 81, 76, 70, 63, 55, 46, 36, 25, 13, 0] to [363, 362, 360, 357, 353, 348, 342, 335, 327, 318, 308, 297, 285]\n",
      "Stitching 0 and 4 at ('A', 'C') from [90, 88, 85, 81, 76, 70, 63, 55, 46, 36, 25, 13, 0] to [454, 453, 451, 448, 444, 439, 433, 426, 418, 409, 399, 388, 376]\n",
      "Stitching 3 and 4 at ('A', 'C') from [363, 362, 360, 357, 353, 348, 342, 335, 327, 318, 308, 297, 285] to [454, 453, 451, 448, 444, 439, 433, 426, 418, 409, 399, 388, 376]\n",
      "Stitching 0 and 6 at ('B', 'C') from [12, 11, 10, 9, 8, 7, 6, 5, 4, 3, 2, 1, 0] to [636, 635, 633, 630, 626, 621, 615, 608, 600, 591, 581, 570, 558]\n",
      "Stitching 0 and 7 at ('B', 'C') from [12, 11, 10, 9, 8, 7, 6, 5, 4, 3, 2, 1, 0] to [727, 726, 724, 721, 717, 712, 706, 699, 691, 682, 672, 661, 649]\n",
      "Stitching 6 and 7 at ('B', 'C') from [636, 635, 633, 630, 626, 621, 615, 608, 600, 591, 581, 570, 558] to [727, 726, 724, 721, 717, 712, 706, 699, 691, 682, 672, 661, 649]\n",
      "Stitching 1 and 3 at ('A', 'D') from [181, 179, 176, 172, 167, 161, 154, 146, 137, 127, 116, 104, 91] to [363, 361, 358, 354, 349, 343, 336, 328, 319, 309, 298, 286, 273]\n",
      "Stitching 1 and 5 at ('A', 'D') from [181, 179, 176, 172, 167, 161, 154, 146, 137, 127, 116, 104, 91] to [545, 544, 542, 539, 535, 530, 524, 517, 509, 500, 490, 479, 467]\n",
      "Stitching 3 and 5 at ('A', 'D') from [363, 361, 358, 354, 349, 343, 336, 328, 319, 309, 298, 286, 273] to [545, 544, 542, 539, 535, 530, 524, 517, 509, 500, 490, 479, 467]\n",
      "Stitching 1 and 6 at ('B', 'D') from [103, 102, 101, 100, 99, 98, 97, 96, 95, 94, 93, 92, 91] to [636, 634, 631, 627, 622, 616, 609, 601, 592, 582, 571, 559, 546]\n",
      "Stitching 1 and 8 at ('B', 'D') from [103, 102, 101, 100, 99, 98, 97, 96, 95, 94, 93, 92, 91] to [818, 817, 815, 812, 808, 803, 797, 790, 782, 773, 763, 752, 740]\n",
      "Stitching 6 and 8 at ('B', 'D') from [636, 634, 631, 627, 622, 616, 609, 601, 592, 582, 571, 559, 546] to [818, 817, 815, 812, 808, 803, 797, 790, 782, 773, 763, 752, 740]\n",
      "Stitching 2 and 4 at ('A', 'E') from [272, 270, 267, 263, 258, 252, 245, 237, 228, 218, 207, 195, 182] to [454, 452, 449, 445, 440, 434, 427, 419, 410, 400, 389, 377, 364]\n",
      "Stitching 2 and 5 at ('A', 'E') from [272, 270, 267, 263, 258, 252, 245, 237, 228, 218, 207, 195, 182] to [545, 543, 540, 536, 531, 525, 518, 510, 501, 491, 480, 468, 455]\n",
      "Stitching 4 and 5 at ('A', 'E') from [454, 452, 449, 445, 440, 434, 427, 419, 410, 400, 389, 377, 364] to [545, 543, 540, 536, 531, 525, 518, 510, 501, 491, 480, 468, 455]\n",
      "Stitching 2 and 7 at ('B', 'E') from [194, 193, 192, 191, 190, 189, 188, 187, 186, 185, 184, 183, 182] to [727, 725, 722, 718, 713, 707, 700, 692, 683, 673, 662, 650, 637]\n",
      "Stitching 2 and 8 at ('B', 'E') from [194, 193, 192, 191, 190, 189, 188, 187, 186, 185, 184, 183, 182] to [818, 816, 813, 809, 804, 798, 791, 783, 774, 764, 753, 741, 728]\n",
      "Stitching 7 and 8 at ('B', 'E') from [727, 725, 722, 718, 713, 707, 700, 692, 683, 673, 662, 650, 637] to [818, 816, 813, 809, 804, 798, 791, 783, 774, 764, 753, 741, 728]\n",
      "Stitching 3 and 6 at ('C', 'D') from [285, 284, 283, 282, 281, 280, 279, 278, 277, 276, 275, 274, 273] to [558, 557, 556, 555, 554, 553, 552, 551, 550, 549, 548, 547, 546]\n",
      "Stitching 3 and 9 at ('C', 'D') from [285, 284, 283, 282, 281, 280, 279, 278, 277, 276, 275, 274, 273] to [909, 908, 906, 903, 899, 894, 888, 881, 873, 864, 854, 843, 831]\n",
      "Stitching 6 and 9 at ('C', 'D') from [558, 557, 556, 555, 554, 553, 552, 551, 550, 549, 548, 547, 546] to [909, 908, 906, 903, 899, 894, 888, 881, 873, 864, 854, 843, 831]\n",
      "Stitching 4 and 7 at ('C', 'E') from [376, 375, 374, 373, 372, 371, 370, 369, 368, 367, 366, 365, 364] to [649, 648, 647, 646, 645, 644, 643, 642, 641, 640, 639, 638, 637]\n",
      "Stitching 4 and 9 at ('C', 'E') from [376, 375, 374, 373, 372, 371, 370, 369, 368, 367, 366, 365, 364] to [909, 907, 904, 900, 895, 889, 882, 874, 865, 855, 844, 832, 819]\n",
      "Stitching 7 and 9 at ('C', 'E') from [649, 648, 647, 646, 645, 644, 643, 642, 641, 640, 639, 638, 637] to [909, 907, 904, 900, 895, 889, 882, 874, 865, 855, 844, 832, 819]\n",
      "Stitching 5 and 8 at ('D', 'E') from [467, 466, 465, 464, 463, 462, 461, 460, 459, 458, 457, 456, 455] to [740, 739, 738, 737, 736, 735, 734, 733, 732, 731, 730, 729, 728]\n",
      "Stitching 5 and 9 at ('D', 'E') from [467, 466, 465, 464, 463, 462, 461, 460, 459, 458, 457, 456, 455] to [831, 830, 829, 828, 827, 826, 825, 824, 823, 822, 821, 820, 819]\n",
      "Stitching 8 and 9 at ('D', 'E') from [740, 739, 738, 737, 736, 735, 734, 733, 732, 731, 730, 729, 728] to [831, 830, 829, 828, 827, 826, 825, 824, 823, 822, 821, 820, 819]\n"
     ]
    }
   ],
   "source": [
    "for stitchingBinary, ternaryPairList in stitchingBinaries.items():\n",
    "    for ternaryPair in ternaryPairList:\n",
    "        ternary1, ternary2 = ternaryPair[0], ternaryPair[1]\n",
    "        stitching1 = stitching.findStitchingPoints_py(\n",
    "            3, 12, \n",
    "            components=ternaries[ternary1],\n",
    "            offset=ternary1*len(gridAtt)\n",
    "            )[\"-\".join(stitchingBinary)]\n",
    "        stitching2 = stitching.findStitchingPoints_py(\n",
    "            3, 12, \n",
    "            components=ternaries[ternary2],\n",
    "            offset=ternary2*len(gridAtt)\n",
    "            )[\"-\".join(stitchingBinary)]\n",
    "        print(f\"Stitching {ternary1} and {ternary2} at {stitchingBinary} from {stitching1} to {stitching2}\")\n",
    "        for i, j in zip(stitching1, stitching2):\n",
    "            edges.append((i, j))"
   ]
  },
  {
   "cell_type": "code",
   "execution_count": 127,
   "metadata": {},
   "outputs": [],
   "source": [
    "#plotGraph(edges)\n",
    "clear_output()"
   ]
  },
  {
   "cell_type": "markdown",
   "metadata": {},
   "source": [
    "## Exploring Complex Formed by All 3-Component Alloy Subsystems of 5-Component Space (w. Infeasibility Gliding) #THIS ONE ADAM"
   ]
  },
  {
   "cell_type": "code",
   "execution_count": 8,
   "metadata": {},
   "outputs": [
    {
     "name": "stdout",
     "output_type": "stream",
     "text": [
      "('Cr', 'Fe', 'Ni')                       -> ([1, 0, 0, 0, 0], [0, 1, 0, 0, 0], [0, 0, 1, 0, 0])\n",
      "('Cr', 'Fe', 'Ti')                       -> ([1, 0, 0, 0, 0], [0, 1, 0, 0, 0], [0, 0, 0, 1, 0])\n",
      "('Cr', 'Fe', 'V')                        -> ([1, 0, 0, 0, 0], [0, 1, 0, 0, 0], [0, 0, 0, 0, 1])\n",
      "('Cr', 'Ni', 'Ti')                       -> ([1, 0, 0, 0, 0], [0, 0, 1, 0, 0], [0, 0, 0, 1, 0])\n",
      "('Cr', 'Ni', 'V')                        -> ([1, 0, 0, 0, 0], [0, 0, 1, 0, 0], [0, 0, 0, 0, 1])\n",
      "('Cr', 'Ti', 'V')                        -> ([1, 0, 0, 0, 0], [0, 0, 0, 1, 0], [0, 0, 0, 0, 1])\n",
      "('Fe', 'Ni', 'Ti')                       -> ([0, 1, 0, 0, 0], [0, 0, 1, 0, 0], [0, 0, 0, 1, 0])\n",
      "('Fe', 'Ni', 'V')                        -> ([0, 1, 0, 0, 0], [0, 0, 1, 0, 0], [0, 0, 0, 0, 1])\n",
      "('Fe', 'Ti', 'V')                        -> ([0, 1, 0, 0, 0], [0, 0, 0, 1, 0], [0, 0, 0, 0, 1])\n",
      "('Ni', 'Ti', 'V')                        -> ([0, 0, 1, 0, 0], [0, 0, 0, 1, 0], [0, 0, 0, 0, 1])\n"
     ]
    }
   ],
   "source": [
    "elementalSpaceComponents = [\"Cr\",\"Fe\",\"Ni\",\"Ti\",\"V\"]\n",
    "#attainableSpaceComponents = [\"SS304L\", \"Ni\", \"Cr\", \"V\", \"Ti\"]\n",
    "attainableSpaceComponents = [\"Cr\", \"Fe\", \"Ni\", \"Ti\", \"V\"]\n",
    "attainableSpaceComponentPositions = [\n",
    "    #\"Cr\",\"Fe\",\"Ni\",\"Ti\",\"V\"\n",
    "    #[0.1993865031, 0.7044989775,0.096114519430,0,0],\n",
    "    [1,0,0,0,0],\n",
    "    [0,1,0,0,0],\n",
    "    [0,0,1,0,0],\n",
    "    [0,0,0,1,0],\n",
    "    [0,0,0,0,1]\n",
    "]    \n",
    "ternaries = list(combinations(attainableSpaceComponents, 3))\n",
    "ternaries_CompPos = list(combinations(attainableSpaceComponentPositions, 3))\n",
    "ndiv = 8\n",
    "gridAtt, nList = nimplex.simplex_graph_py(3, ndiv)\n",
    "\n",
    "for tern, terncp in zip(ternaries, ternaries_CompPos):\n",
    "    print(f\"{str(tern):<40} -> {terncp}\")"
   ]
  },
  {
   "cell_type": "code",
   "execution_count": null,
   "metadata": {},
   "outputs": [],
   "source": []
  },
  {
   "cell_type": "code",
   "execution_count": 9,
   "metadata": {},
   "outputs": [],
   "source": [
    "# Edges list for graph plotting and path finding purposes\n",
    "edges = []\n",
    "# Connectivity list within each subsystem\n",
    "graphN = [[] for i in range(len(gridAtt * len(ternaries)))]\n",
    "# Connectivity list between subsystems\n",
    "graphNS = [[] for i in range(len(graphN))]\n",
    "compositions = []\n",
    "compositions_with_id = []  # List to store compositions with their identifiers\n",
    "ternaries_with_id = []  # New list to store ternaries_CompPos with their identifiers\n",
    "\n",
    "# Iterate over ternaries\n",
    "for i, terncp in enumerate(ternaries_CompPos):\n",
    "    ternaries_with_id.append((terncp, i))  # Add terncp and its id to the new list\n",
    "    \n",
    "    offset = i*len(gridAtt)\n",
    "    for j in range(len(gridAtt)):\n",
    "        for n in nList[j]:\n",
    "            edges.append((j+offset,n+offset))\n",
    "            graphN[j+offset].append(n+offset)\n",
    "    gridAttTemp, gridElTemp = nimplex.embeddedpair_simplex_grid_fractional_py(terncp, ndiv)\n",
    "    compositions += gridElTemp\n",
    "    \n",
    "    # Attach identifier to each composition\n",
    "    compositions_with_id.extend([(comp, i) for comp in gridElTemp])"
   ]
  },
  {
   "cell_type": "code",
   "execution_count": 10,
   "metadata": {},
   "outputs": [
    {
     "name": "stdout",
     "output_type": "stream",
     "text": [
      "Ternary composition position ([1, 0, 0, 0, 0], [0, 1, 0, 0, 0], [0, 0, 1, 0, 0]) has id 0\n",
      "Ternary composition position ([1, 0, 0, 0, 0], [0, 1, 0, 0, 0], [0, 0, 0, 1, 0]) has id 1\n",
      "Ternary composition position ([1, 0, 0, 0, 0], [0, 1, 0, 0, 0], [0, 0, 0, 0, 1]) has id 2\n",
      "Ternary composition position ([1, 0, 0, 0, 0], [0, 0, 1, 0, 0], [0, 0, 0, 1, 0]) has id 3\n",
      "Ternary composition position ([1, 0, 0, 0, 0], [0, 0, 1, 0, 0], [0, 0, 0, 0, 1]) has id 4\n",
      "Ternary composition position ([1, 0, 0, 0, 0], [0, 0, 0, 1, 0], [0, 0, 0, 0, 1]) has id 5\n",
      "Ternary composition position ([0, 1, 0, 0, 0], [0, 0, 1, 0, 0], [0, 0, 0, 1, 0]) has id 6\n",
      "Ternary composition position ([0, 1, 0, 0, 0], [0, 0, 1, 0, 0], [0, 0, 0, 0, 1]) has id 7\n",
      "Ternary composition position ([0, 1, 0, 0, 0], [0, 0, 0, 1, 0], [0, 0, 0, 0, 1]) has id 8\n",
      "Ternary composition position ([0, 0, 1, 0, 0], [0, 0, 0, 1, 0], [0, 0, 0, 0, 1]) has id 9\n"
     ]
    }
   ],
   "source": [
    "# Example: Access ternaries_CompPos with their identifiers\n",
    "for terncp, ternary_id in ternaries_with_id:\n",
    "    print(f\"Ternary composition position {terncp} has id {ternary_id}\")"
   ]
  },
  {
   "cell_type": "code",
   "execution_count": 11,
   "metadata": {},
   "outputs": [],
   "source": [
    "mapping = {}\n",
    "for ternary, id in ternaries_with_id:\n",
    "    composition_key = ''.join(elementalSpaceComponents[i] for i in range(len(elementalSpaceComponents)) if any(ternary[j][i] for j in range(len(ternary))))\n",
    "    mapping[composition_key] = id"
   ]
  },
  {
   "cell_type": "code",
   "execution_count": 12,
   "metadata": {},
   "outputs": [
    {
     "name": "stdout",
     "output_type": "stream",
     "text": [
      "Combination: CrFeNi, ID: 0, Elements: ['Cr', 'Fe', 'Ni']\n",
      "Combination: CrFeTi, ID: 1, Elements: ['Cr', 'Fe', 'Ti']\n",
      "Combination: CrFeV, ID: 2, Elements: ['Cr', 'Fe', 'V']\n",
      "Combination: CrNiTi, ID: 3, Elements: ['Cr', 'Ni', 'Ti']\n",
      "Combination: CrNiV, ID: 4, Elements: ['Cr', 'Ni', 'V']\n",
      "Combination: CrTiV, ID: 5, Elements: ['Cr', 'Ti', 'V']\n",
      "Combination: FeNiTi, ID: 6, Elements: ['Fe', 'Ni', 'Ti']\n",
      "Combination: FeNiV, ID: 7, Elements: ['Fe', 'Ni', 'V']\n",
      "Combination: FeTiV, ID: 8, Elements: ['Fe', 'Ti', 'V']\n",
      "Combination: NiTiV, ID: 9, Elements: ['Ni', 'Ti', 'V']\n"
     ]
    }
   ],
   "source": [
    "mapping = {}\n",
    "for ternary, id in ternaries_with_id:\n",
    "    composition_key = ''.join(elementalSpaceComponents[i] for i in range(len(elementalSpaceComponents)) if any(ternary[j][i] for j in range(len(ternary))))\n",
    "    individual_elements = [elementalSpaceComponents[i] for i in range(len(elementalSpaceComponents)) if any(ternary[j][i] for j in range(len(ternary)))]\n",
    "    mapping[composition_key] = {\n",
    "        'id': id,\n",
    "        'elements': individual_elements\n",
    "    }\n",
    "\n",
    "# Print the mapping to see the result\n",
    "for key, value in mapping.items():\n",
    "    print(f\"Combination: {key}, ID: {value['id']}, Elements: {value['elements']}\")"
   ]
  },
  {
   "cell_type": "code",
   "execution_count": 13,
   "metadata": {},
   "outputs": [
    {
     "data": {
      "text/plain": [
       "{'CrFeNi': {'id': 0, 'elements': ['Cr', 'Fe', 'Ni']},\n",
       " 'CrFeTi': {'id': 1, 'elements': ['Cr', 'Fe', 'Ti']},\n",
       " 'CrFeV': {'id': 2, 'elements': ['Cr', 'Fe', 'V']},\n",
       " 'CrNiTi': {'id': 3, 'elements': ['Cr', 'Ni', 'Ti']},\n",
       " 'CrNiV': {'id': 4, 'elements': ['Cr', 'Ni', 'V']},\n",
       " 'CrTiV': {'id': 5, 'elements': ['Cr', 'Ti', 'V']},\n",
       " 'FeNiTi': {'id': 6, 'elements': ['Fe', 'Ni', 'Ti']},\n",
       " 'FeNiV': {'id': 7, 'elements': ['Fe', 'Ni', 'V']},\n",
       " 'FeTiV': {'id': 8, 'elements': ['Fe', 'Ti', 'V']},\n",
       " 'NiTiV': {'id': 9, 'elements': ['Ni', 'Ti', 'V']}}"
      ]
     },
     "execution_count": 13,
     "metadata": {},
     "output_type": "execute_result"
    }
   ],
   "source": [
    "mapping"
   ]
  },
  {
   "cell_type": "code",
   "execution_count": 14,
   "metadata": {},
   "outputs": [],
   "source": [
    "# def find_duplicates(lst):\n",
    "#     duplicates_counts = {}\n",
    "#     for item in lst:\n",
    "#         # Use the string representation for complex/unhashable types\n",
    "#         item_str = str(item)\n",
    "#         if item_str in duplicates_counts:\n",
    "#             duplicates_counts[item_str] += 1\n",
    "#         else:\n",
    "#             duplicates_counts[item_str] = 1\n",
    "\n",
    "#     # Filter out items that only appear once\n",
    "#     duplicates = {item: count for item, count in duplicates_counts.items() if count > 1}\n",
    "    \n",
    "#     if not duplicates:\n",
    "#         return \"No duplicates found in the list.\"\n",
    "#     else:\n",
    "#         result = \"Duplicates found:\"\n",
    "#         for item, count in duplicates.items():\n",
    "#             result += f\"{item} appears {count} times\"\n",
    "#         return result.strip()"
   ]
  },
  {
   "cell_type": "code",
   "execution_count": 15,
   "metadata": {},
   "outputs": [],
   "source": [
    "# find_duplicates(compositions)"
   ]
  },
  {
   "cell_type": "code",
   "execution_count": 16,
   "metadata": {},
   "outputs": [
    {
     "name": "stdout",
     "output_type": "stream",
     "text": [
      "('Cr', 'Fe'): occurs between ternary [(0, 1), (0, 2), (1, 2)]\n",
      "('Cr', 'Ni'): occurs between ternary [(0, 3), (0, 4), (3, 4)]\n",
      "('Fe', 'Ni'): occurs between ternary [(0, 6), (0, 7), (6, 7)]\n",
      "('Cr', 'Ti'): occurs between ternary [(1, 3), (1, 5), (3, 5)]\n",
      "('Fe', 'Ti'): occurs between ternary [(1, 6), (1, 8), (6, 8)]\n",
      "('Cr', 'V'): occurs between ternary [(2, 4), (2, 5), (4, 5)]\n",
      "('Fe', 'V'): occurs between ternary [(2, 7), (2, 8), (7, 8)]\n",
      "('Ni', 'Ti'): occurs between ternary [(3, 6), (3, 9), (6, 9)]\n",
      "('Ni', 'V'): occurs between ternary [(4, 7), (4, 9), (7, 9)]\n",
      "('Ti', 'V'): occurs between ternary [(5, 8), (5, 9), (8, 9)]\n"
     ]
    }
   ],
   "source": [
    "stitchingBinaries = {}\n",
    "\n",
    "for i, combo1 in enumerate(ternaries):\n",
    "    for j, combo2 in enumerate(ternaries[i+1:], start=i+1):\n",
    "        common = set(combo1) & set(combo2)\n",
    "        if len(common) == 2:\n",
    "            overlap = tuple(sorted(common))\n",
    "            if overlap not in stitchingBinaries:\n",
    "                stitchingBinaries[overlap] = []\n",
    "            stitchingBinaries[overlap].append((i, j))\n",
    "\n",
    "for overlap, pairs in stitchingBinaries.items():\n",
    "    print(f\"{overlap}: occurs between ternary {pairs}\")"
   ]
  },
  {
   "cell_type": "code",
   "execution_count": 17,
   "metadata": {},
   "outputs": [
    {
     "name": "stdout",
     "output_type": "stream",
     "text": [
      "Stitching 0 and 1 at ('Cr', 'Fe') from [44, 43, 41, 38, 34, 29, 23, 16, 8] to [89, 88, 86, 83, 79, 74, 68, 61, 53]\n",
      "Stitching 0 and 2 at ('Cr', 'Fe') from [44, 43, 41, 38, 34, 29, 23, 16, 8] to [134, 133, 131, 128, 124, 119, 113, 106, 98]\n",
      "Stitching 1 and 2 at ('Cr', 'Fe') from [89, 88, 86, 83, 79, 74, 68, 61, 53] to [134, 133, 131, 128, 124, 119, 113, 106, 98]\n",
      "Stitching 0 and 3 at ('Cr', 'Ni') from [44, 42, 39, 35, 30, 24, 17, 9, 0] to [179, 178, 176, 173, 169, 164, 158, 151, 143]\n",
      "Stitching 0 and 4 at ('Cr', 'Ni') from [44, 42, 39, 35, 30, 24, 17, 9, 0] to [224, 223, 221, 218, 214, 209, 203, 196, 188]\n",
      "Stitching 3 and 4 at ('Cr', 'Ni') from [179, 178, 176, 173, 169, 164, 158, 151, 143] to [224, 223, 221, 218, 214, 209, 203, 196, 188]\n",
      "Stitching 0 and 6 at ('Fe', 'Ni') from [8, 7, 6, 5, 4, 3, 2, 1, 0] to [314, 313, 311, 308, 304, 299, 293, 286, 278]\n",
      "Stitching 0 and 7 at ('Fe', 'Ni') from [8, 7, 6, 5, 4, 3, 2, 1, 0] to [359, 358, 356, 353, 349, 344, 338, 331, 323]\n",
      "Stitching 6 and 7 at ('Fe', 'Ni') from [314, 313, 311, 308, 304, 299, 293, 286, 278] to [359, 358, 356, 353, 349, 344, 338, 331, 323]\n",
      "Stitching 1 and 3 at ('Cr', 'Ti') from [89, 87, 84, 80, 75, 69, 62, 54, 45] to [179, 177, 174, 170, 165, 159, 152, 144, 135]\n",
      "Stitching 1 and 5 at ('Cr', 'Ti') from [89, 87, 84, 80, 75, 69, 62, 54, 45] to [269, 268, 266, 263, 259, 254, 248, 241, 233]\n",
      "Stitching 3 and 5 at ('Cr', 'Ti') from [179, 177, 174, 170, 165, 159, 152, 144, 135] to [269, 268, 266, 263, 259, 254, 248, 241, 233]\n",
      "Stitching 1 and 6 at ('Fe', 'Ti') from [53, 52, 51, 50, 49, 48, 47, 46, 45] to [314, 312, 309, 305, 300, 294, 287, 279, 270]\n",
      "Stitching 1 and 8 at ('Fe', 'Ti') from [53, 52, 51, 50, 49, 48, 47, 46, 45] to [404, 403, 401, 398, 394, 389, 383, 376, 368]\n",
      "Stitching 6 and 8 at ('Fe', 'Ti') from [314, 312, 309, 305, 300, 294, 287, 279, 270] to [404, 403, 401, 398, 394, 389, 383, 376, 368]\n",
      "Stitching 2 and 4 at ('Cr', 'V') from [134, 132, 129, 125, 120, 114, 107, 99, 90] to [224, 222, 219, 215, 210, 204, 197, 189, 180]\n",
      "Stitching 2 and 5 at ('Cr', 'V') from [134, 132, 129, 125, 120, 114, 107, 99, 90] to [269, 267, 264, 260, 255, 249, 242, 234, 225]\n",
      "Stitching 4 and 5 at ('Cr', 'V') from [224, 222, 219, 215, 210, 204, 197, 189, 180] to [269, 267, 264, 260, 255, 249, 242, 234, 225]\n",
      "Stitching 2 and 7 at ('Fe', 'V') from [98, 97, 96, 95, 94, 93, 92, 91, 90] to [359, 357, 354, 350, 345, 339, 332, 324, 315]\n",
      "Stitching 2 and 8 at ('Fe', 'V') from [98, 97, 96, 95, 94, 93, 92, 91, 90] to [404, 402, 399, 395, 390, 384, 377, 369, 360]\n",
      "Stitching 7 and 8 at ('Fe', 'V') from [359, 357, 354, 350, 345, 339, 332, 324, 315] to [404, 402, 399, 395, 390, 384, 377, 369, 360]\n",
      "Stitching 3 and 6 at ('Ni', 'Ti') from [143, 142, 141, 140, 139, 138, 137, 136, 135] to [278, 277, 276, 275, 274, 273, 272, 271, 270]\n",
      "Stitching 3 and 9 at ('Ni', 'Ti') from [143, 142, 141, 140, 139, 138, 137, 136, 135] to [449, 448, 446, 443, 439, 434, 428, 421, 413]\n",
      "Stitching 6 and 9 at ('Ni', 'Ti') from [278, 277, 276, 275, 274, 273, 272, 271, 270] to [449, 448, 446, 443, 439, 434, 428, 421, 413]\n",
      "Stitching 4 and 7 at ('Ni', 'V') from [188, 187, 186, 185, 184, 183, 182, 181, 180] to [323, 322, 321, 320, 319, 318, 317, 316, 315]\n",
      "Stitching 4 and 9 at ('Ni', 'V') from [188, 187, 186, 185, 184, 183, 182, 181, 180] to [449, 447, 444, 440, 435, 429, 422, 414, 405]\n",
      "Stitching 7 and 9 at ('Ni', 'V') from [323, 322, 321, 320, 319, 318, 317, 316, 315] to [449, 447, 444, 440, 435, 429, 422, 414, 405]\n",
      "Stitching 5 and 8 at ('Ti', 'V') from [233, 232, 231, 230, 229, 228, 227, 226, 225] to [368, 367, 366, 365, 364, 363, 362, 361, 360]\n",
      "Stitching 5 and 9 at ('Ti', 'V') from [233, 232, 231, 230, 229, 228, 227, 226, 225] to [413, 412, 411, 410, 409, 408, 407, 406, 405]\n",
      "Stitching 8 and 9 at ('Ti', 'V') from [368, 367, 366, 365, 364, 363, 362, 361, 360] to [413, 412, 411, 410, 409, 408, 407, 406, 405]\n"
     ]
    }
   ],
   "source": [
    "for stitchingBinary, ternaryPairList in stitchingBinaries.items():\n",
    "    for ternaryPair in ternaryPairList:\n",
    "        ternary1, ternary2 = ternaryPair[0], ternaryPair[1]\n",
    "        stitching1 = stitching.findStitchingPoints_py(\n",
    "            3, ndiv, \n",
    "            components=ternaries[ternary1],\n",
    "            offset=ternary1*len(gridAtt)\n",
    "            )[\"-\".join(stitchingBinary)]\n",
    "        stitching2 = stitching.findStitchingPoints_py(\n",
    "            3, ndiv, \n",
    "            components=ternaries[ternary2],\n",
    "            offset=ternary2*len(gridAtt)\n",
    "            )[\"-\".join(stitchingBinary)]\n",
    "        print(f\"Stitching {ternary1} and {ternary2} at {stitchingBinary} from {stitching1} to {stitching2}\")\n",
    "        for i, j in zip(stitching1, stitching2):\n",
    "            edges.append((i, j))\n",
    "            graphNS[i].append(j)"
   ]
  },
  {
   "cell_type": "code",
   "execution_count": 18,
   "metadata": {},
   "outputs": [
    {
     "name": "stdout",
     "output_type": "stream",
     "text": [
      "Unique phases for ammap/databases/Co-Cr-Fe-Ni-V_choi2019.TDB: ['B2_BCC', 'BCC_A2', 'NI2V', 'LIQUID', 'FCC_A1', 'SIGMA', 'HIGH_SIGMA', 'COV3', 'NI2V7', 'L12_FCC', 'M3V', 'HCP_A3']\n",
      "Unique phases for ammap/databases/Cr-Fe-Ti_wang2017.tdb: ['BCC_A2', 'LIQUID', 'C36', 'FCC_A1', 'SIGMA', 'C15', 'C14', 'TI5CR7FE17', 'BCC_B2', 'HCP_A3']\n",
      "Unique phases for ammap/databases/Cr-Fe-Ni_miettinen1999.tdb: ['BCC_A2', 'LIQUID', 'FCC_A1', 'SIGMA', 'HCP_A3']\n",
      "Unique phases for ammap/databases/Cr-Ni-Ti_huang2018.tdb: ['BCC_A2', 'LIQUID', 'HCP_A3', 'FCC_A1', 'NITI', 'LAVES_C14', 'LAVES_C36', 'NITI2', 'NI3TI', 'LAVES_C15']\n",
      "Unique phases for ammap/databases/Cr-Ti-V_ghosh2002.tdb: ['BCC_A2', 'LIQUID', 'LAVES_C14', 'LAVES_C36', 'LAVES_C15', 'HCP_A3']\n",
      "Unique phases for ammap/databases/Fe-Ni-Ti_dekeyzer2009.tdb: ['BCC2', 'LIQUID', 'A3', 'NI3TI', 'A2', 'C14', 'FCC4', 'NITI2', 'A1']\n",
      "Unique phases for ammap/databases/Fe-Ni-V_zhao2014.tdb: ['BCC_A2', 'NI2V', 'LIQUID', 'CBCC_A12', 'HCP_A3', 'FCC_A1', 'A15_NI2V7', 'SIGMA', 'A2_BCC', 'LAVES_C14', 'FE4N', 'CUB_A13', 'LAVES_C15', 'D022_NI3V']\n",
      "Unique phases for ammap/databases/Fe-Ti-V_guo2012.TDB: ['BCC_A2', 'LIQUID', 'FCC_A1', 'SIGMA', 'B2', 'C14', 'HCP_A3']\n",
      "Unique phases for ammap/databases/Ni-Ti-V_zou2018.tdb: ['BCC_A2', 'NI2V', 'LIQUID', 'NI3V', 'CBCC_A12', 'FCC_A1', 'SIGMA', 'LAVES_C14', 'NIV3', 'B2', 'BCT_A5', 'NITI2', 'NI3TI', 'DIAMOND_A4', 'CUB_A13', 'LAVES_C15', 'HCP_A3']\n"
     ]
    }
   ],
   "source": [
    "from pycalphad import Database\n",
    "\n",
    "# List of database file paths\n",
    "db_files = [\n",
    "    \"ammap/databases/Co-Cr-Fe-Ni-V_choi2019.TDB\",\n",
    "    \"ammap/databases/Cr-Fe-Ti_wang2017.tdb\",\n",
    "    \"ammap/databases/Cr-Fe-Ni_miettinen1999.tdb\",\n",
    "    \"ammap/databases/Cr-Ni-Ti_huang2018.tdb\",\n",
    "    \"ammap/databases/Cr-Ti-V_ghosh2002.tdb\",\n",
    "    \"ammap/databases/Fe-Ni-Ti_dekeyzer2009.tdb\",\n",
    "    \"ammap/databases/Fe-Ni-V_zhao2014.tdb\",\n",
    "    \"ammap/databases/Fe-Ti-V_guo2012.TDB\",\n",
    "    \"ammap/databases/Ni-Ti-V_zou2018.tdb\"\n",
    "]\n",
    "\n",
    "# Dictionary to store unique phases for each database\n",
    "unique_phases = {}\n",
    "\n",
    "# Iterate through each database file\n",
    "for db_file in db_files:\n",
    "    dbf = Database(db_file)\n",
    "    phases = list(set(dbf.phases.keys()))\n",
    "    unique_phases[db_file] = phases\n",
    "\n",
    "# Print unique phases for each database\n",
    "for db_file, phases in unique_phases.items():\n",
    "    print(f\"Unique phases for {db_file}: {phases}\")"
   ]
  },
  {
   "cell_type": "code",
   "execution_count": 139,
   "metadata": {},
   "outputs": [
    {
     "name": "stdout",
     "output_type": "stream",
     "text": [
      "['Cr', 'Fe', 'Ni', 'Ti', 'V']\n",
      "Loaded TDB file with phases considered: ['HCP_A3', 'LAVES_C36', 'LAVES_C15', 'LIQUID', 'BCC_A2', 'LAVES_C14', 'FCC_A1']\n"
     ]
    }
   ],
   "source": [
    "\n",
    "dbf = Database(\"CrHfMoNbTaTiVWZr_9element_Feb2023.tdb\")\n",
    "phases = list(set(dbf.phases.keys()))\n",
    "print(elementalSpaceComponents)\n",
    "print(f'Loaded TDB file with phases considered: {phases}')\n",
    "from myPycalphadCallable import equilibrium_callable"
   ]
  },
  {
   "cell_type": "code",
   "execution_count": 140,
   "metadata": {},
   "outputs": [
    {
     "name": "stdout",
     "output_type": "stream",
     "text": [
      "Imported equilibrium_callable_CrFeTi_08bbfb9a: <function equilibrium_callable at 0x7f09782125c0>\n",
      "Imported equilibrium_callable_CrTiV_ed4c332b: <function equilibrium_callable at 0x7f09782113a0>\n",
      "Imported equilibrium_callable_FeTiV_fa95b3ee: <function equilibrium_callable at 0x7f0979aad580>\n",
      "Imported equilibrium_callable_NiCrFe_f434a6d9: <function equilibrium_callable at 0x7f0977426520>\n",
      "Imported equilibrium_callable_CrFeV_ab1edb07: <function equilibrium_callable at 0x7f097748b1a0>\n",
      "Imported equilibrium_callable_FeNiV_b9b0384d: <function equilibrium_callable at 0x7f0977567c40>\n",
      "Imported equilibrium_callable_FeNiTi_06a49695: <function equilibrium_callable at 0x7f09775668e0>\n",
      "Imported equilibrium_callable_CrNiTi_a9f6f2ff: <function equilibrium_callable at 0x7f0977583ba0>\n",
      "Imported equilibrium_callable_NiTiV_1d83c99c: <function equilibrium_callable at 0x7f09769327a0>\n",
      "Imported equilibrium_callable_NiCrV_b7aba9ab: <function equilibrium_callable at 0x7f09779e2ac0>\n"
     ]
    }
   ],
   "source": [
    "import os\n",
    "import importlib\n",
    "\n",
    "# Directory containing the equilibrium files\n",
    "directory = \"ammap/callables/multi_system_equilibrium_and_scheil\"\n",
    "\n",
    "# Get all files starting with \"equilibrium\"\n",
    "equilibrium_files = [f for f in os.listdir(directory) if f.startswith(\"equilibrium\") and f.endswith(\".py\")]\n",
    "\n",
    "# Dictionary to store imported callables with unique names\n",
    "equilibrium_callables = {}\n",
    "\n",
    "# Import each equilibrium file and store the callable with a unique name\n",
    "for file in equilibrium_files:\n",
    "    module_name = file[:-3]  # Remove the .py extension\n",
    "    module_path = f\"ammap.callables.multi_system_equilibrium_and_scheil.{module_name}\"\n",
    "    module = importlib.import_module(module_path)\n",
    "    callable_name = f\"{module_name}\"\n",
    "    equilibrium_callables[callable_name] = getattr(module, \"equilibrium_callable\")\n",
    "\n",
    "# Print the imported callables\n",
    "for name, func in equilibrium_callables.items():\n",
    "    print(f\"Imported {name}: {func}\")"
   ]
  },
  {
   "cell_type": "code",
   "execution_count": 141,
   "metadata": {},
   "outputs": [],
   "source": [
    "def process_filename(filename):\n",
    "    parts = filename.split('_')\n",
    "    if len(parts) >= 4:\n",
    "        middle_part = parts[2]\n",
    "        if middle_part in element_mapping:\n",
    "            return middle_part, element_mapping[middle_part]\n",
    "    return None, None"
   ]
  },
  {
   "cell_type": "code",
   "execution_count": 142,
   "metadata": {},
   "outputs": [],
   "source": [
    "element_mapping=mapping"
   ]
  },
  {
   "cell_type": "code",
   "execution_count": 143,
   "metadata": {},
   "outputs": [],
   "source": [
    "# import os\n",
    "\n",
    "# # Assuming you have already created the mapping as shown in the previous example\n",
    "# # mapping = {...}  # Your mapping dictionary\n",
    "\n",
    "# def process_filename(filename, mapping):\n",
    "#     parts = filename.split('_')\n",
    "#     if len(parts) >= 4:\n",
    "#         middle_part = parts[2]\n",
    "#         # First, try direct matching\n",
    "#         if middle_part in mapping:\n",
    "#             return middle_part, mapping[middle_part]['id'], mapping[middle_part]['elements']\n",
    "        \n",
    "#         # If direct matching fails, try matching by elements\n",
    "#         middle_elements = set(middle_part[i:i+2] for i in range(0, len(middle_part), 2))\n",
    "#         for key, value in mapping.items():\n",
    "#             if set(value['elements']) == middle_elements:\n",
    "#                 return middle_part, value['id'], value['elements']\n",
    "    \n",
    "#     return None, None, None\n",
    "\n",
    "# # Specify the directory path\n",
    "# directory = \"ammap/callables/multi_system_equilibrium_and_scheil\"\n",
    "\n",
    "# for filename in os.listdir(directory):\n",
    "#     if filename.startswith(\"equilibrium\"):\n",
    "#         full_path = os.path.join(directory, filename)\n",
    "#         if os.path.isfile(full_path):\n",
    "#             middle_part, mapping_id, elements = process_filename(filename, mapping)\n",
    "#             if middle_part and mapping_id is not None:\n",
    "#                 print(f\"File: {filename}\")\n",
    "#                 print(f\"The mapping number for {middle_part} is {mapping_id}\")\n",
    "#                 print(f\"Elements: {elements}\")\n",
    "#                 print(\"---\")\n",
    "#             else:\n",
    "#                 print(f\"No mapping found for file: {filename}\")\n",
    "#                 print(\"---\")"
   ]
  },
  {
   "cell_type": "code",
   "execution_count": 144,
   "metadata": {},
   "outputs": [
    {
     "name": "stdout",
     "output_type": "stream",
     "text": [
      "Key: equilibrium_callable_CrFeTi_08bbfb9a\n",
      "The mapping number for CrFeTi is 1\n",
      "Elements: ['Cr', 'Fe', 'Ti']\n",
      "---\n",
      "Key: equilibrium_callable_CrTiV_ed4c332b\n",
      "The mapping number for CrTiV is 5\n",
      "Elements: ['Cr', 'Ti', 'V']\n",
      "---\n",
      "Key: equilibrium_callable_FeTiV_fa95b3ee\n",
      "The mapping number for FeTiV is 8\n",
      "Elements: ['Fe', 'Ti', 'V']\n",
      "---\n",
      "Key: equilibrium_callable_NiCrFe_f434a6d9\n",
      "The mapping number for NiCrFe is 0\n",
      "Elements: ['Cr', 'Fe', 'Ni']\n",
      "---\n",
      "Key: equilibrium_callable_CrFeV_ab1edb07\n",
      "The mapping number for CrFeV is 2\n",
      "Elements: ['Cr', 'Fe', 'V']\n",
      "---\n",
      "Key: equilibrium_callable_FeNiV_b9b0384d\n",
      "The mapping number for FeNiV is 7\n",
      "Elements: ['Fe', 'Ni', 'V']\n",
      "---\n",
      "Key: equilibrium_callable_FeNiTi_06a49695\n",
      "The mapping number for FeNiTi is 6\n",
      "Elements: ['Fe', 'Ni', 'Ti']\n",
      "---\n",
      "Key: equilibrium_callable_CrNiTi_a9f6f2ff\n",
      "The mapping number for CrNiTi is 3\n",
      "Elements: ['Cr', 'Ni', 'Ti']\n",
      "---\n",
      "Key: equilibrium_callable_NiTiV_1d83c99c\n",
      "The mapping number for NiTiV is 9\n",
      "Elements: ['Ni', 'Ti', 'V']\n",
      "---\n",
      "Key: equilibrium_callable_NiCrV_b7aba9ab\n",
      "The mapping number for NiCrV is 4\n",
      "Elements: ['Cr', 'Ni', 'V']\n",
      "---\n"
     ]
    }
   ],
   "source": [
    "def process_key(key):\n",
    "    parts = key.split('_')\n",
    "    if len(parts) >= 3:\n",
    "        middle_part = parts[2]\n",
    "        if middle_part in mapping:\n",
    "            return middle_part, mapping[middle_part]['id'], mapping[middle_part]['elements']\n",
    "        \n",
    "        # If direct matching fails, try matching by elements\n",
    "        middle_elements = set(middle_part[i:i+2] for i in range(0, len(middle_part), 2))\n",
    "        for map_key, value in mapping.items():\n",
    "            if set(value['elements']) == middle_elements:\n",
    "                return middle_part, value['id'], value['elements']\n",
    "    \n",
    "    return None, None, None\n",
    "\n",
    "# Process each key in the equilibrium_callables dictionary\n",
    "id_to_callable = {}\n",
    "for key in equilibrium_callables:\n",
    "    middle_part, mapping_id, elements = process_key(key)\n",
    "    if middle_part and mapping_id is not None:\n",
    "        print(f\"Key: {key}\")\n",
    "        print(f\"The mapping number for {middle_part} is {mapping_id}\")\n",
    "        print(f\"Elements: {elements}\")\n",
    "        print(\"---\")\n",
    "        id_to_callable[mapping_id]=key\n",
    "    else:\n",
    "        print(f\"No mapping found for key: {key}\")\n",
    "        print(\"---\")"
   ]
  },
  {
   "cell_type": "code",
   "execution_count": 145,
   "metadata": {},
   "outputs": [
    {
     "data": {
      "text/plain": [
       "{1: 'equilibrium_callable_CrFeTi_08bbfb9a',\n",
       " 5: 'equilibrium_callable_CrTiV_ed4c332b',\n",
       " 8: 'equilibrium_callable_FeTiV_fa95b3ee',\n",
       " 0: 'equilibrium_callable_NiCrFe_f434a6d9',\n",
       " 2: 'equilibrium_callable_CrFeV_ab1edb07',\n",
       " 7: 'equilibrium_callable_FeNiV_b9b0384d',\n",
       " 6: 'equilibrium_callable_FeNiTi_06a49695',\n",
       " 3: 'equilibrium_callable_CrNiTi_a9f6f2ff',\n",
       " 9: 'equilibrium_callable_NiTiV_1d83c99c',\n",
       " 4: 'equilibrium_callable_NiCrV_b7aba9ab'}"
      ]
     },
     "execution_count": 145,
     "metadata": {},
     "output_type": "execute_result"
    }
   ],
   "source": [
    "id_to_callable"
   ]
  },
  {
   "cell_type": "code",
   "execution_count": 146,
   "metadata": {},
   "outputs": [
    {
     "data": {
      "text/plain": [
       "[([0.0, 0.0, 1.0, 0.0, 0.0], 0),\n",
       " ([0.0, 0.125, 0.875, 0.0, 0.0], 0),\n",
       " ([0.0, 0.25, 0.75, 0.0, 0.0], 0),\n",
       " ([0.0, 0.375, 0.625, 0.0, 0.0], 0),\n",
       " ([0.0, 0.5, 0.5, 0.0, 0.0], 0)]"
      ]
     },
     "execution_count": 146,
     "metadata": {},
     "output_type": "execute_result"
    }
   ],
   "source": [
    "compositions_with_id[:5]"
   ]
  },
  {
   "cell_type": "code",
   "execution_count": 147,
   "metadata": {},
   "outputs": [
    {
     "data": {
      "text/plain": [
       "{'CrFeNi': {'id': 0, 'elements': ['Cr', 'Fe', 'Ni']},\n",
       " 'CrFeTi': {'id': 1, 'elements': ['Cr', 'Fe', 'Ti']},\n",
       " 'CrFeV': {'id': 2, 'elements': ['Cr', 'Fe', 'V']},\n",
       " 'CrNiTi': {'id': 3, 'elements': ['Cr', 'Ni', 'Ti']},\n",
       " 'CrNiV': {'id': 4, 'elements': ['Cr', 'Ni', 'V']},\n",
       " 'CrTiV': {'id': 5, 'elements': ['Cr', 'Ti', 'V']},\n",
       " 'FeNiTi': {'id': 6, 'elements': ['Fe', 'Ni', 'Ti']},\n",
       " 'FeNiV': {'id': 7, 'elements': ['Fe', 'Ni', 'V']},\n",
       " 'FeTiV': {'id': 8, 'elements': ['Fe', 'Ti', 'V']},\n",
       " 'NiTiV': {'id': 9, 'elements': ['Ni', 'Ti', 'V']}}"
      ]
     },
     "execution_count": 147,
     "metadata": {},
     "output_type": "execute_result"
    }
   ],
   "source": [
    "mapping"
   ]
  },
  {
   "cell_type": "code",
   "execution_count": 148,
   "metadata": {},
   "outputs": [],
   "source": [
    "def reduce_compositions(compositions_with_id, mapping):\n",
    "    element_order = elementalSpaceComponents\n",
    "    system_comps_with_id = []\n",
    "    reduced_compositions = []\n",
    "    \n",
    "    for composition, comp_id in compositions_with_id:\n",
    "        relevant_entry = next((entry for entry in mapping.values() if entry['id'] == comp_id), None)\n",
    "        if not relevant_entry:\n",
    "            continue\n",
    "        \n",
    "        relevant_indices = [element_order.index(elem) for elem in relevant_entry['elements']]\n",
    "        reduced_point = [composition[index] for index in relevant_indices]\n",
    "        system_comps_with_id.append((reduced_point, comp_id))\n",
    "        reduced_compositions.append(reduced_point)\n",
    "    \n",
    "    return system_comps_with_id, reduced_compositions"
   ]
  },
  {
   "cell_type": "code",
   "execution_count": 149,
   "metadata": {},
   "outputs": [
    {
     "name": "stdout",
     "output_type": "stream",
     "text": [
      "[([0.0, 0.0, 1.0], 0), ([0.0, 0.125, 0.875], 0), ([0.0, 0.25, 0.75], 0), ([0.0, 0.375, 0.625], 0), ([0.0, 0.5, 0.5], 0)]\n",
      "[[0.0, 0.0, 1.0], [0.0, 0.125, 0.875], [0.0, 0.25, 0.75], [0.0, 0.375, 0.625], [0.0, 0.5, 0.5]]\n"
     ]
    }
   ],
   "source": [
    "system_comps_with_id, reduced_compositions = reduce_compositions(compositions_with_id, mapping)\n",
    "print(reduced_id_list[:5])\n",
    "print(reduced_compositions[:5])"
   ]
  },
  {
   "cell_type": "code",
   "execution_count": 150,
   "metadata": {},
   "outputs": [],
   "source": [
    "from tqdm.contrib.concurrent import process_map"
   ]
  },
  {
   "cell_type": "code",
   "execution_count": 151,
   "metadata": {},
   "outputs": [
    {
     "name": "stdout",
     "output_type": "stream",
     "text": [
      "Starting nodes: [0, 90, 200, 310, 26, 137, 44, 393, 208, 136, 55, 429, 447, 19, 194]\n",
      "Starting node: [0.0, 0.0, 1.0]\n",
      "Starting node: [0.0, 0.0, 1.0]\n",
      "Starting node: [0.25, 0.375, 0.375]\n",
      "Starting node: [0.75, 0.125, 0.125]\n",
      "Starting node: [0.375, 0.25, 0.375]\n",
      "Starting node: [0.0, 0.25, 0.75]\n",
      "Starting node: [1.0, 0.0, 0.0]\n",
      "Starting node: [0.5, 0.375, 0.125]\n",
      "Starting node: [0.375, 0.5, 0.125]\n",
      "Starting node: [0.0, 0.125, 0.875]\n",
      "Starting node: [0.125, 0.125, 0.75]\n",
      "Starting node: [0.375, 0.0, 0.625]\n",
      "Starting node: [0.875, 0.0, 0.125]\n",
      "Starting node: [0.25, 0.25, 0.5]\n",
      "Starting node: [0.125, 0.625, 0.25]\n"
     ]
    }
   ],
   "source": [
    "startingNodes = [0, 90, 200, 310] + random.sample(range(len(reduced_compositions)), 11)\n",
    "print(f\"Starting nodes: {startingNodes}\")\n",
    "\n",
    "for startingNode in startingNodes:\n",
    "    print(f\"Starting node: {reduced_compositions[startingNode]}\")"
   ]
  },
  {
   "cell_type": "code",
   "execution_count": 152,
   "metadata": {},
   "outputs": [],
   "source": [
    "gridFeasible = [None]*len(reduced_compositions)\n",
    "queue = startingNodes.copy()\n",
    "explored = set()\n",
    "calcCount = 0"
   ]
  },
  {
   "cell_type": "code",
   "execution_count": 153,
   "metadata": {},
   "outputs": [],
   "source": [
    "# Function to get the correct callable for a given composition\n",
    "def get_callable(composition):\n",
    "    for comp, id in compositions_with_id:\n",
    "        if comp == composition:\n",
    "            callable_name = id_to_callable.get(id)\n",
    "            if callable_name is None:\n",
    "                raise ValueError(f\"No callable name found for ID {id}\")\n",
    "            if callable_name in globals():\n",
    "                return globals()[callable_name]\n",
    "            else:\n",
    "                raise NameError(f\"Function '{callable_name}' not found in global scope\")\n",
    "    raise ValueError(f\"No callable found for composition {composition}\")\n",
    "\n",
    "def process_composition(elP):\n",
    "    try:\n",
    "        callable_func = get_callable(elP)\n",
    "        return callable_func(elP)\n",
    "    except Exception as e:\n",
    "        print(f\"Error processing composition {elP}: {str(e)}\")\n",
    "        return None\n"
   ]
  },
  {
   "cell_type": "code",
   "execution_count": 154,
   "metadata": {},
   "outputs": [
    {
     "data": {
      "text/plain": [
       "{'equilibrium_callable_CrFeTi_08bbfb9a': <function ammap.callables.multi_system_equilibrium_and_scheil.equilibrium_callable_CrFeTi_08bbfb9a.equilibrium_callable(elP)>,\n",
       " 'equilibrium_callable_CrTiV_ed4c332b': <function ammap.callables.multi_system_equilibrium_and_scheil.equilibrium_callable_CrTiV_ed4c332b.equilibrium_callable(elP)>,\n",
       " 'equilibrium_callable_FeTiV_fa95b3ee': <function ammap.callables.multi_system_equilibrium_and_scheil.equilibrium_callable_FeTiV_fa95b3ee.equilibrium_callable(elP)>,\n",
       " 'equilibrium_callable_NiCrFe_f434a6d9': <function ammap.callables.multi_system_equilibrium_and_scheil.equilibrium_callable_NiCrFe_f434a6d9.equilibrium_callable(elP)>,\n",
       " 'equilibrium_callable_CrFeV_ab1edb07': <function ammap.callables.multi_system_equilibrium_and_scheil.equilibrium_callable_CrFeV_ab1edb07.equilibrium_callable(elP)>,\n",
       " 'equilibrium_callable_FeNiV_b9b0384d': <function ammap.callables.multi_system_equilibrium_and_scheil.equilibrium_callable_FeNiV_b9b0384d.equilibrium_callable(elP)>,\n",
       " 'equilibrium_callable_FeNiTi_06a49695': <function ammap.callables.multi_system_equilibrium_and_scheil.equilibrium_callable_FeNiTi_06a49695.equilibrium_callable(elP)>,\n",
       " 'equilibrium_callable_CrNiTi_a9f6f2ff': <function ammap.callables.multi_system_equilibrium_and_scheil.equilibrium_callable_CrNiTi_a9f6f2ff.equilibrium_callable(elP)>,\n",
       " 'equilibrium_callable_NiTiV_1d83c99c': <function ammap.callables.multi_system_equilibrium_and_scheil.equilibrium_callable_NiTiV_1d83c99c.equilibrium_callable(elP)>,\n",
       " 'equilibrium_callable_NiCrV_b7aba9ab': <function ammap.callables.multi_system_equilibrium_and_scheil.equilibrium_callable_NiCrV_b7aba9ab.equilibrium_callable(elP)>}"
      ]
     },
     "execution_count": 154,
     "metadata": {},
     "output_type": "execute_result"
    }
   ],
   "source": [
    "equilibrium_callables"
   ]
  },
  {
   "cell_type": "code",
   "execution_count": 155,
   "metadata": {},
   "outputs": [
    {
     "data": {
      "text/plain": [
       "{1: 'equilibrium_callable_CrFeTi_08bbfb9a',\n",
       " 5: 'equilibrium_callable_CrTiV_ed4c332b',\n",
       " 8: 'equilibrium_callable_FeTiV_fa95b3ee',\n",
       " 0: 'equilibrium_callable_NiCrFe_f434a6d9',\n",
       " 2: 'equilibrium_callable_CrFeV_ab1edb07',\n",
       " 7: 'equilibrium_callable_FeNiV_b9b0384d',\n",
       " 6: 'equilibrium_callable_FeNiTi_06a49695',\n",
       " 3: 'equilibrium_callable_CrNiTi_a9f6f2ff',\n",
       " 9: 'equilibrium_callable_NiTiV_1d83c99c',\n",
       " 4: 'equilibrium_callable_NiCrV_b7aba9ab'}"
      ]
     },
     "execution_count": 155,
     "metadata": {},
     "output_type": "execute_result"
    }
   ],
   "source": [
    "id_to_callable"
   ]
  },
  {
   "cell_type": "code",
   "execution_count": 156,
   "metadata": {},
   "outputs": [
    {
     "data": {
      "text/plain": [
       "[([0.0, 0.0, 1.0, 0.0, 0.0], 0),\n",
       " ([0.0, 0.125, 0.875, 0.0, 0.0], 0),\n",
       " ([0.0, 0.25, 0.75, 0.0, 0.0], 0),\n",
       " ([0.0, 0.375, 0.625, 0.0, 0.0], 0),\n",
       " ([0.0, 0.5, 0.5, 0.0, 0.0], 0)]"
      ]
     },
     "execution_count": 156,
     "metadata": {},
     "output_type": "execute_result"
    }
   ],
   "source": [
    "compositions_with_id[:5]"
   ]
  },
  {
   "cell_type": "code",
   "execution_count": 157,
   "metadata": {},
   "outputs": [
    {
     "data": {
      "text/plain": [
       "list"
      ]
     },
     "execution_count": 157,
     "metadata": {},
     "output_type": "execute_result"
    }
   ],
   "source": [
    "type(compositions_with_id)"
   ]
  },
  {
   "cell_type": "code",
   "execution_count": 158,
   "metadata": {},
   "outputs": [
    {
     "name": "stdout",
     "output_type": "stream",
     "text": [
      "([0.0, 0.0, 1.0, 0.0, 0.0], 0)\n",
      "([0.0, 0.625, 0.0, 0.375, 0.0], 1)\n",
      "([0.125, 0.125, 0.0, 0.0, 0.75], 2)\n",
      "([0.125, 0.0, 0.75, 0.125, 0.0], 3)\n",
      "([0.25, 0.0, 0.375, 0.0, 0.375], 4)\n",
      "([0.375, 0.0, 0.0, 0.125, 0.5], 5)\n",
      "([0.0, 0.5, 0.0, 0.5, 0.0], 6)\n",
      "([0.0, 0.625, 0.0, 0.0, 0.375], 7)\n",
      "([0.0, 0.75, 0.0, 0.125, 0.125], 8)\n"
     ]
    }
   ],
   "source": [
    "sampled_compositions = compositions_with_id[::50]\n",
    "\n",
    "# Print the sampled compositions to verify\n",
    "for composition in sampled_compositions:\n",
    "    print(composition)"
   ]
  },
  {
   "cell_type": "code",
   "execution_count": 159,
   "metadata": {},
   "outputs": [
    {
     "data": {
      "text/plain": [
       "[([0.0, 0.0, 1.0, 0.0, 0.0], 0),\n",
       " ([0.0, 0.625, 0.0, 0.375, 0.0], 1),\n",
       " ([0.125, 0.125, 0.0, 0.0, 0.75], 2),\n",
       " ([0.125, 0.0, 0.75, 0.125, 0.0], 3),\n",
       " ([0.25, 0.0, 0.375, 0.0, 0.375], 4),\n",
       " ([0.375, 0.0, 0.0, 0.125, 0.5], 5),\n",
       " ([0.0, 0.5, 0.0, 0.5, 0.0], 6),\n",
       " ([0.0, 0.625, 0.0, 0.0, 0.375], 7),\n",
       " ([0.0, 0.75, 0.0, 0.125, 0.125], 8)]"
      ]
     },
     "execution_count": 159,
     "metadata": {},
     "output_type": "execute_result"
    }
   ],
   "source": [
    "sampled_compositions"
   ]
  },
  {
   "cell_type": "code",
   "execution_count": 160,
   "metadata": {},
   "outputs": [
    {
     "name": "stdout",
     "output_type": "stream",
     "text": [
      "{'Phases': ['LAVES_C15', 'NITI'], 'PhaseFraction': [0.2751953799772505, 0.724804620111501]}\n"
     ]
    },
    {
     "data": {
      "text/plain": [
       "[0.25, 0.0, 0.375, 0.0, 0.375]"
      ]
     },
     "execution_count": 160,
     "metadata": {},
     "output_type": "execute_result"
    }
   ],
   "source": [
    "print(equilibrium_callables['equilibrium_callable_CrNiTi_a9f6f2ff'](compositions[200]))\n",
    "compositions[200]"
   ]
  },
  {
   "cell_type": "code",
   "execution_count": 161,
   "metadata": {},
   "outputs": [],
   "source": [
    "from functools import partial\n",
    "\n",
    "def get_equilibrium_callable(composition, id_to_callable, equilibrium_callables):\n",
    "    composition_id = composition[1]  # Get the ID from the composition tuple\n",
    "    #print(f\"Composition ID: {composition_id}\")\n",
    "    callable_name = id_to_callable.get(composition_id)\n",
    "    if callable_name is None:\n",
    "        raise ValueError(f\"No callable found for composition ID {composition_id}\")\n",
    "    callable_func = equilibrium_callables.get(callable_name)\n",
    "    if callable_func is None:\n",
    "        raise ValueError(f\"No callable function found for name {callable_name}\")\n",
    "    return callable_func\n",
    "\n",
    "def apply_equilibrium_callable(callable_and_position):\n",
    "    callable_func, position = callable_and_position\n",
    "    return callable_func(position)"
   ]
  },
  {
   "cell_type": "code",
   "execution_count": 162,
   "metadata": {},
   "outputs": [
    {
     "name": "stdout",
     "output_type": "stream",
     "text": [
      "Queue: [0, 90, 200, 310, 26, 137, 44, 393, 208, 136, 55, 429, 447, 19, 194]\n",
      "[[0.0, 0.0, 1.0], [0.0, 0.0, 1.0], [0.25, 0.375, 0.375], [0.75, 0.125, 0.125], [0.375, 0.25, 0.375], [0.0, 0.25, 0.75], [1.0, 0.0, 0.0], [0.5, 0.375, 0.125], [0.375, 0.5, 0.125], [0.0, 0.125, 0.875], [0.125, 0.125, 0.75], [0.375, 0.0, 0.625], [0.875, 0.0, 0.125], [0.25, 0.25, 0.5], [0.125, 0.625, 0.25]]\n"
     ]
    },
    {
     "data": {
      "application/vnd.jupyter.widget-view+json": {
       "model_id": "7e65c2d6fe5a4daabd2ee67a909c59c1",
       "version_major": 2,
       "version_minor": 0
      },
      "text/plain": [
       "0it [00:00, ?it/s]"
      ]
     },
     "metadata": {},
     "output_type": "display_data"
    },
    {
     "name": "stdout",
     "output_type": "stream",
     "text": [
      "Calculations done: 15    | Explored points: 31   \n",
      "Queue: [387, 388, 392, 394, 397, 398, 422, 423, 46, 47, 430, 306, 307, 435, 309, 54, 311, 312, 313, 56, 62, 63]\n",
      "[[0.375, 0.375, 0.25], [0.375, 0.5, 0.125], [0.5, 0.25, 0.25], [0.5, 0.5, 0.0], [0.625, 0.25, 0.125], [0.625, 0.375, 0.0], [0.25, 0.0, 0.75], [0.25, 0.125, 0.625], [0.0, 0.125, 0.875], [0.0, 0.25, 0.75], [0.375, 0.125, 0.5], [0.625, 0.125, 0.25], [0.625, 0.25, 0.125], [0.5, 0.0, 0.5], [0.75, 0.0, 0.25], [0.125, 0.0, 0.875], [0.75, 0.25, 0.0], [0.875, 0.0, 0.125], [0.875, 0.125, 0.0], [0.125, 0.25, 0.625], [0.25, 0.0, 0.75], [0.25, 0.125, 0.625]]\n"
     ]
    },
    {
     "data": {
      "application/vnd.jupyter.widget-view+json": {
       "model_id": "24b73c54e65241e3aa5896f858693f1d",
       "version_major": 2,
       "version_minor": 0
      },
      "text/plain": [
       "0it [00:00, ?it/s]"
      ]
     },
     "metadata": {},
     "output_type": "display_data"
    },
    {
     "name": "stdout",
     "output_type": "stream",
     "text": [
      "Calculations done: 37    | Explored points: 65   \n",
      "Queue: [386, 389, 391, 396, 400, 401, 145, 403, 402, 280, 152, 153, 414, 287, 416, 415, 288, 424, 45, 302, 431, 48, 301, 305, 303, 436, 308, 440, 57, 314, 64, 69, 70, 247, 352, 355, 357, 358, 232, 367, 240, 375, 380, 381, 382]\n",
      "[[0.375, 0.25, 0.375], [0.375, 0.625, 0.0], [0.5, 0.125, 0.375], [0.625, 0.125, 0.25], [0.75, 0.125, 0.125], [0.75, 0.25, 0.0], [0.125, 0.125, 0.75], [0.875, 0.125, 0.0], [0.875, 0.0, 0.125], [0.125, 0.125, 0.75], [0.25, 0.0, 0.75], [0.25, 0.125, 0.625], [0.125, 0.0, 0.875], [0.25, 0.0, 0.75], [0.125, 0.25, 0.625], [0.125, 0.125, 0.75], [0.25, 0.125, 0.625], [0.25, 0.25, 0.5], [0.0, 0.0, 1.0], [0.5, 0.25, 0.25], [0.375, 0.25, 0.375], [0.0, 0.375, 0.625], [0.5, 0.125, 0.375], [0.625, 0.0, 0.375], [0.5, 0.375, 0.125], [0.5, 0.125, 0.375], [0.625, 0.375, 0.0], [0.625, 0.0, 0.375], [0.125, 0.375, 0.5], [1.0, 0.0, 0.0], [0.25, 0.25, 0.5], [0.375, 0.0, 0.625], [0.375, 0.125, 0.5], [0.25, 0.625, 0.125], [0.625, 0.25, 0.125], [0.75, 0.125, 0.125], [0.875, 0.0, 0.125], [0.875, 0.125, 0.0], [0.0, 0.875, 0.125], [0.0, 0.875, 0.125], [0.125, 0.75, 0.125], [0.125, 0.75, 0.125], [0.25, 0.375, 0.375], [0.25, 0.5, 0.25], [0.25, 0.625, 0.125]]\n"
     ]
    },
    {
     "data": {
      "application/vnd.jupyter.widget-view+json": {
       "model_id": "19988fb6e0f5484d826e3a99a12cacb6",
       "version_major": 2,
       "version_minor": 0
      },
      "text/plain": [
       "0it [00:00, ?it/s]"
      ]
     },
     "metadata": {},
     "output_type": "display_data"
    },
    {
     "name": "stdout",
     "output_type": "stream",
     "text": [
      "Calculations done: 82    | Explored points: 116  \n",
      "Queue: [385, 390, 395, 399, 146, 404, 405, 406, 407, 408, 281, 154, 413, 159, 160, 417, 289, 420, 294, 295, 296, 425, 297, 298, 432, 49, 304, 437, 441, 58, 444, 65, 71, 75, 76, 348, 366, 372, 373, 374, 379, 253]\n",
      "[[0.375, 0.125, 0.5], [0.5, 0.0, 0.5], [0.625, 0.0, 0.375], [0.75, 0.0, 0.25], [0.125, 0.25, 0.625], [1.0, 0.0, 0.0], [0.0, 0.0, 1.0], [0.0, 0.125, 0.875], [0.0, 0.25, 0.75], [0.0, 0.375, 0.625], [0.125, 0.25, 0.625], [0.25, 0.25, 0.5], [0.0, 1.0, 0.0], [0.375, 0.0, 0.625], [0.375, 0.125, 0.5], [0.125, 0.375, 0.5], [0.25, 0.25, 0.5], [0.125, 0.75, 0.125], [0.375, 0.0, 0.625], [0.375, 0.125, 0.5], [0.375, 0.25, 0.375], [0.25, 0.375, 0.375], [0.375, 0.375, 0.25], [0.375, 0.5, 0.125], [0.375, 0.375, 0.25], [0.0, 0.5, 0.5], [0.5, 0.5, 0.0], [0.5, 0.25, 0.25], [0.625, 0.125, 0.25], [0.125, 0.5, 0.375], [0.75, 0.0, 0.25], [0.25, 0.375, 0.375], [0.375, 0.25, 0.375], [0.5, 0.0, 0.5], [0.5, 0.125, 0.375], [0.5, 0.375, 0.125], [0.0, 0.75, 0.25], [0.125, 0.375, 0.5], [0.125, 0.5, 0.375], [0.125, 0.625, 0.25], [0.25, 0.25, 0.5], [0.375, 0.5, 0.125]]\n"
     ]
    },
    {
     "data": {
      "application/vnd.jupyter.widget-view+json": {
       "model_id": "122dc726fa7e4c30bc7cd7d8135db751",
       "version_major": 2,
       "version_minor": 0
      },
      "text/plain": [
       "0it [00:00, ?it/s]"
      ]
     },
     "metadata": {},
     "output_type": "display_data"
    },
    {
     "name": "stdout",
     "output_type": "stream",
     "text": [
      "Calculations done: 124   | Explored points: 160  \n",
      "Queue: [384, 258, 138, 147, 409, 282, 411, 155, 161, 418, 290, 419, 165, 166, 291, 292, 426, 427, 300, 299, 433, 50, 438, 442, 59, 445, 66, 72, 77, 80, 81, 343, 363, 364, 365, 371, 378]\n",
      "[[0.375, 0.0, 0.625], [0.5, 0.375, 0.125], [0.0, 0.375, 0.625], [0.125, 0.375, 0.5], [0.0, 0.5, 0.5], [0.125, 0.375, 0.5], [0.0, 0.75, 0.25], [0.25, 0.375, 0.375], [0.375, 0.25, 0.375], [0.125, 0.5, 0.375], [0.25, 0.375, 0.375], [0.125, 0.625, 0.25], [0.5, 0.0, 0.5], [0.5, 0.125, 0.375], [0.25, 0.5, 0.25], [0.25, 0.625, 0.125], [0.25, 0.5, 0.25], [0.25, 0.625, 0.125], [0.5, 0.0, 0.5], [0.375, 0.625, 0.0], [0.375, 0.5, 0.125], [0.0, 0.625, 0.375], [0.5, 0.375, 0.125], [0.625, 0.25, 0.125], [0.125, 0.625, 0.25], [0.75, 0.125, 0.125], [0.25, 0.5, 0.25], [0.375, 0.375, 0.25], [0.5, 0.25, 0.25], [0.625, 0.0, 0.375], [0.625, 0.125, 0.25], [0.375, 0.5, 0.125], [0.0, 0.375, 0.625], [0.0, 0.5, 0.5], [0.0, 0.625, 0.375], [0.125, 0.25, 0.625], [0.25, 0.125, 0.625]]\n"
     ]
    },
    {
     "data": {
      "application/vnd.jupyter.widget-view+json": {
       "model_id": "a3391a97983a43a1a428d24eefe8ce45",
       "version_major": 2,
       "version_minor": 0
      },
      "text/plain": [
       "0it [00:00, ?it/s]"
      ]
     },
     "metadata": {},
     "output_type": "display_data"
    },
    {
     "name": "stdout",
     "output_type": "stream",
     "text": [
      "Calculations done: 161   | Explored points: 200  \n",
      "Queue: [262, 139, 148, 410, 283, 284, 156, 285, 162, 293, 167, 170, 171, 51, 443, 60, 446, 448, 67, 73, 78, 337, 82, 84, 85, 362, 370, 377]\n",
      "[[0.625, 0.25, 0.125], [0.0, 0.5, 0.5], [0.125, 0.5, 0.375], [0.0, 0.625, 0.375], [0.125, 0.5, 0.375], [0.125, 0.625, 0.25], [0.25, 0.5, 0.25], [0.125, 0.75, 0.125], [0.375, 0.375, 0.25], [0.25, 0.75, 0.0], [0.5, 0.25, 0.25], [0.625, 0.0, 0.375], [0.625, 0.125, 0.25], [0.0, 0.75, 0.25], [0.625, 0.375, 0.0], [0.125, 0.75, 0.125], [0.75, 0.25, 0.0], [0.875, 0.125, 0.0], [0.25, 0.625, 0.125], [0.375, 0.5, 0.125], [0.5, 0.375, 0.125], [0.25, 0.625, 0.125], [0.625, 0.25, 0.125], [0.75, 0.0, 0.25], [0.75, 0.125, 0.125], [0.0, 0.25, 0.75], [0.125, 0.125, 0.75], [0.25, 0.0, 0.75]]\n"
     ]
    },
    {
     "data": {
      "application/vnd.jupyter.widget-view+json": {
       "model_id": "caeeb2be0d32465281b8f0a49a97ebe6",
       "version_major": 2,
       "version_minor": 0
      },
      "text/plain": [
       "0it [00:00, ?it/s]"
      ]
     },
     "metadata": {},
     "output_type": "display_data"
    },
    {
     "name": "stdout",
     "output_type": "stream",
     "text": [
      "Calculations done: 189   | Explored points: 231  \n",
      "Queue: [265, 140, 276, 149, 277, 157, 286, 163, 168, 172, 174, 175, 52, 61, 68, 330, 74, 79, 83, 86, 87, 88, 361, 369]\n",
      "[[0.75, 0.125, 0.125], [0.0, 0.625, 0.375], [0.0, 0.75, 0.25], [0.125, 0.625, 0.25], [0.0, 0.875, 0.125], [0.25, 0.625, 0.125], [0.125, 0.875, 0.0], [0.375, 0.5, 0.125], [0.5, 0.375, 0.125], [0.625, 0.25, 0.125], [0.75, 0.0, 0.25], [0.75, 0.125, 0.125], [0.0, 0.875, 0.125], [0.125, 0.875, 0.0], [0.25, 0.75, 0.0], [0.125, 0.75, 0.125], [0.375, 0.625, 0.0], [0.5, 0.5, 0.0], [0.625, 0.375, 0.0], [0.75, 0.25, 0.0], [0.875, 0.0, 0.125], [0.875, 0.125, 0.0], [0.0, 0.125, 0.875], [0.125, 0.0, 0.875]]\n"
     ]
    },
    {
     "data": {
      "application/vnd.jupyter.widget-view+json": {
       "model_id": "faa0438de3a942b09623b7e90338bdea",
       "version_major": 2,
       "version_minor": 0
      },
      "text/plain": [
       "0it [00:00, ?it/s]"
      ]
     },
     "metadata": {},
     "output_type": "display_data"
    },
    {
     "name": "stdout",
     "output_type": "stream",
     "text": [
      "Calculations done: 213   | Explored points: 265  \n",
      "Queue: [130, 131, 132, 133, 267, 141, 269, 150, 169, 173, 176, 177, 178, 53, 449, 322, 97, 105, 112, 113, 118, 119, 123, 124, 127]\n",
      "[[0.75, 0.125, 0.125], [0.75, 0.25, 0.0], [0.875, 0.0, 0.125], [0.875, 0.125, 0.0], [0.875, 0.0, 0.125], [0.0, 0.75, 0.25], [1.0, 0.0, 0.0], [0.125, 0.75, 0.125], [0.5, 0.5, 0.0], [0.625, 0.375, 0.0], [0.75, 0.25, 0.0], [0.875, 0.0, 0.125], [0.875, 0.125, 0.0], [0.0, 1.0, 0.0], [1.0, 0.0, 0.0], [0.0, 0.875, 0.125], [0.0, 0.875, 0.125], [0.125, 0.75, 0.125], [0.25, 0.625, 0.125], [0.25, 0.75, 0.0], [0.375, 0.5, 0.125], [0.375, 0.625, 0.0], [0.5, 0.375, 0.125], [0.5, 0.5, 0.0], [0.625, 0.25, 0.125]]\n"
     ]
    },
    {
     "data": {
      "application/vnd.jupyter.widget-view+json": {
       "model_id": "76a1ddc6181343cea25266225e5fe798",
       "version_major": 2,
       "version_minor": 0
      },
      "text/plain": [
       "0it [00:00, ?it/s]"
      ]
     },
     "metadata": {},
     "output_type": "display_data"
    },
    {
     "name": "stdout",
     "output_type": "stream",
     "text": [
      "Calculations done: 238   | Explored points: 290  \n",
      "Queue: [117, 142, 111]\n",
      "[[0.375, 0.375, 0.25], [0.0, 0.875, 0.125], [0.25, 0.5, 0.25]]\n",
      "Calculations done: 241   | Explored points: 293  \n",
      "Queue: [104, 110, 103]\n",
      "[[0.125, 0.625, 0.25], [0.25, 0.375, 0.375], [0.125, 0.5, 0.375]]\n",
      "Calculations done: 244   | Explored points: 296  \n",
      "Queue: [96, 102, 94, 95]\n",
      "[[0.0, 0.75, 0.25], [0.125, 0.375, 0.5], [0.0, 0.5, 0.5], [0.0, 0.625, 0.375]]\n"
     ]
    },
    {
     "data": {
      "application/vnd.jupyter.widget-view+json": {
       "model_id": "5635940ddc5444dea34525331532d13c",
       "version_major": 2,
       "version_minor": 0
      },
      "text/plain": [
       "0it [00:00, ?it/s]"
      ]
     },
     "metadata": {},
     "output_type": "display_data"
    },
    {
     "name": "stdout",
     "output_type": "stream",
     "text": [
      "Calculations done: 248   | Explored points: 303  \n",
      "Queue: [340, 346, 93, 350, 351]\n",
      "[[0.375, 0.125, 0.5], [0.5, 0.125, 0.375], [0.0, 0.375, 0.625], [0.625, 0.0, 0.375], [0.625, 0.125, 0.25]]\n"
     ]
    },
    {
     "data": {
      "application/vnd.jupyter.widget-view+json": {
       "model_id": "9ec93ca022c04bf387e4ce692ed7091a",
       "version_major": 2,
       "version_minor": 0
      },
      "text/plain": [
       "0it [00:00, ?it/s]"
      ]
     },
     "metadata": {},
     "output_type": "display_data"
    },
    {
     "name": "stdout",
     "output_type": "stream",
     "text": [
      "Calculations done: 253   | Explored points: 308  \n",
      "Queue: [101, 333, 334, 339, 341, 92]\n",
      "[[0.125, 0.25, 0.625], [0.25, 0.125, 0.625], [0.25, 0.25, 0.5], [0.375, 0.0, 0.625], [0.375, 0.25, 0.375], [0.0, 0.25, 0.75]]\n"
     ]
    },
    {
     "data": {
      "application/vnd.jupyter.widget-view+json": {
       "model_id": "2db7add37aeb442592fa58564df1da06",
       "version_major": 2,
       "version_minor": 0
      },
      "text/plain": [
       "0it [00:00, ?it/s]"
      ]
     },
     "metadata": {},
     "output_type": "display_data"
    },
    {
     "name": "stdout",
     "output_type": "stream",
     "text": [
      "Calculations done: 259   | Explored points: 314  \n",
      "Queue: [332, 325, 326]\n",
      "[[0.25, 0.0, 0.75], [0.125, 0.125, 0.75], [0.125, 0.25, 0.625]]\n",
      "Calculations done: 262   | Explored points: 316  \n",
      "Queue: [317, 318, 327]\n",
      "[[0.0, 0.25, 0.75], [0.0, 0.375, 0.625], [0.125, 0.375, 0.5]]\n",
      "Calculations done: 265   | Explored points: 319  \n",
      "Queue: [316, 319]\n",
      "[[0.0, 0.125, 0.875], [0.0, 0.5, 0.5]]\n",
      "Calculations done: 267   | Explored points: 321  \n",
      "Queue: [320, 328]\n",
      "[[0.0, 0.625, 0.375], [0.125, 0.5, 0.375]]\n",
      "Calculations done: 269   | Explored points: 323  \n",
      "Queue: [329, 321]\n",
      "[[0.125, 0.625, 0.25], [0.0, 0.75, 0.25]]\n",
      "Calculations done: 271   | Explored points: 325  \n"
     ]
    }
   ],
   "source": [
    "while len(queue) > 0:\n",
    "    print(f\"Queue: {queue}\")\n",
    "    # Calculate feasibilities of the current queue\n",
    "    elPositions = [reduced_compositions[i] for i in queue]\n",
    "    print(elPositions)\n",
    "    # Create a list of equilibrium callables for each composition\n",
    "    equilibrium_callables_list = [get_equilibrium_callable(system_comps_with_id[i], id_to_callable, equilibrium_callables) for i in queue]\n",
    "    \n",
    "    if len(queue) > 3:\n",
    "        results = process_map(apply_equilibrium_callable, zip(equilibrium_callables_list, elPositions), max_workers=4)\n",
    "    else:\n",
    "        results = [ec(elP) for ec, elP in zip(equilibrium_callables_list, elPositions)]\n",
    "    \n",
    "    # Extract only the 'Phases' component from the results\n",
    "    phases = [result['Phases'] for result in results]\n",
    "    \n",
    "    feasibilities = [len(set(p) & set(['FCC_A1', 'BCC_A2', 'HCP_A3', 'B2_BCC','A2_FCC'])) == 0 and p != [] for p in phases]\n",
    "\n",
    "    calcCount += len(feasibilities)\n",
    "    explored = explored.union(queue)\n",
    "\n",
    "    # Create next queue based on neighbors of feasible points\n",
    "    nextQueue = set()\n",
    "    nextQueuePlusEquivalent = set()\n",
    "    for f, i in zip(feasibilities, queue):\n",
    "        # Explored point\n",
    "        gridFeasible[i] = f\n",
    "\n",
    "        # And equivalent explored points based on system stitching\n",
    "        explored = explored.union(graphNS[i])\n",
    "        for eq in graphNS[i]:\n",
    "            gridFeasible[eq] = f\n",
    "\n",
    "        # Expand to neighbors of the point and equivalent points (only if the node has been feasible)\n",
    "        if f:\n",
    "            # Node neighbors in the same subsystem\n",
    "            for n in graphN[i]:\n",
    "                if n not in explored and n not in nextQueuePlusEquivalent:\n",
    "                    nextQueue.add(n)\n",
    "                    nextQueuePlusEquivalent = nextQueuePlusEquivalent.union([n] + graphNS[n])\n",
    "            # Equivalent nodes neighbors in other subsystems\n",
    "            for eq in graphNS[i]:\n",
    "                for n in graphN[eq]:\n",
    "                    if n not in explored and n not in nextQueuePlusEquivalent:\n",
    "                        nextQueue.add(n)\n",
    "                        nextQueuePlusEquivalent = nextQueuePlusEquivalent.union([n] + graphNS[n])\n",
    "\n",
    "    print(f\"Calculations done: {calcCount:<5} | Explored points: {len(explored):<5}\")\n",
    "    queue = list(nextQueue)"
   ]
  },
  {
   "cell_type": "code",
   "execution_count": null,
   "metadata": {},
   "outputs": [],
   "source": []
  },
  {
   "cell_type": "markdown",
   "metadata": {},
   "source": [
    "## Exploring Complex Formed by All 3-Component Alloy Subsystems of 7-Component Space (w. Infeasibility Gliding)"
   ]
  },
  {
   "cell_type": "code",
   "execution_count": null,
   "metadata": {},
   "outputs": [
    {
     "name": "stdout",
     "output_type": "stream",
     "text": [
      "('Ti50Zr50', 'Hf95Ti5', 'NbTaWHf')       -> ([50, 50, 0, 0, 0, 0, 0], [5, 0, 95, 0, 0, 0, 0], [0, 0, 25, 25, 25, 25, 0])\n",
      "('Ti50Zr50', 'Hf95Ti5', 'Mo80Nb10W10')   -> ([50, 50, 0, 0, 0, 0, 0], [5, 0, 95, 0, 0, 0, 0], [0, 0, 0, 10, 10, 0, 80])\n",
      "('Ti50Zr50', 'Hf95Ti5', 'TiTa2')         -> ([50, 50, 0, 0, 0, 0, 0], [5, 0, 95, 0, 0, 0, 0], [33, 0, 0, 0, 0, 66, 0])\n",
      "('Ti50Zr50', 'Hf95Ti5', 'Nb96Mo3W1')     -> ([50, 50, 0, 0, 0, 0, 0], [5, 0, 95, 0, 0, 0, 0], [0, 0, 0, 1, 96, 0, 3])\n",
      "('Ti50Zr50', 'Hf95Ti5', 'Zr49 Hf1 Mo50') -> ([50, 50, 0, 0, 0, 0, 0], [5, 0, 95, 0, 0, 0, 0], [0, 49, 1, 0, 0, 0, 50])\n",
      "('Ti50Zr50', 'NbTaWHf', 'Mo80Nb10W10')   -> ([50, 50, 0, 0, 0, 0, 0], [0, 0, 25, 25, 25, 25, 0], [0, 0, 0, 10, 10, 0, 80])\n",
      "('Ti50Zr50', 'NbTaWHf', 'TiTa2')         -> ([50, 50, 0, 0, 0, 0, 0], [0, 0, 25, 25, 25, 25, 0], [33, 0, 0, 0, 0, 66, 0])\n",
      "('Ti50Zr50', 'NbTaWHf', 'Nb96Mo3W1')     -> ([50, 50, 0, 0, 0, 0, 0], [0, 0, 25, 25, 25, 25, 0], [0, 0, 0, 1, 96, 0, 3])\n",
      "('Ti50Zr50', 'NbTaWHf', 'Zr49 Hf1 Mo50') -> ([50, 50, 0, 0, 0, 0, 0], [0, 0, 25, 25, 25, 25, 0], [0, 49, 1, 0, 0, 0, 50])\n",
      "('Ti50Zr50', 'Mo80Nb10W10', 'TiTa2')     -> ([50, 50, 0, 0, 0, 0, 0], [0, 0, 0, 10, 10, 0, 80], [33, 0, 0, 0, 0, 66, 0])\n",
      "('Ti50Zr50', 'Mo80Nb10W10', 'Nb96Mo3W1') -> ([50, 50, 0, 0, 0, 0, 0], [0, 0, 0, 10, 10, 0, 80], [0, 0, 0, 1, 96, 0, 3])\n",
      "('Ti50Zr50', 'Mo80Nb10W10', 'Zr49 Hf1 Mo50') -> ([50, 50, 0, 0, 0, 0, 0], [0, 0, 0, 10, 10, 0, 80], [0, 49, 1, 0, 0, 0, 50])\n",
      "('Ti50Zr50', 'TiTa2', 'Nb96Mo3W1')       -> ([50, 50, 0, 0, 0, 0, 0], [33, 0, 0, 0, 0, 66, 0], [0, 0, 0, 1, 96, 0, 3])\n",
      "('Ti50Zr50', 'TiTa2', 'Zr49 Hf1 Mo50')   -> ([50, 50, 0, 0, 0, 0, 0], [33, 0, 0, 0, 0, 66, 0], [0, 49, 1, 0, 0, 0, 50])\n",
      "('Ti50Zr50', 'Nb96Mo3W1', 'Zr49 Hf1 Mo50') -> ([50, 50, 0, 0, 0, 0, 0], [0, 0, 0, 1, 96, 0, 3], [0, 49, 1, 0, 0, 0, 50])\n",
      "('Hf95Ti5', 'NbTaWHf', 'Mo80Nb10W10')    -> ([5, 0, 95, 0, 0, 0, 0], [0, 0, 25, 25, 25, 25, 0], [0, 0, 0, 10, 10, 0, 80])\n",
      "('Hf95Ti5', 'NbTaWHf', 'TiTa2')          -> ([5, 0, 95, 0, 0, 0, 0], [0, 0, 25, 25, 25, 25, 0], [33, 0, 0, 0, 0, 66, 0])\n",
      "('Hf95Ti5', 'NbTaWHf', 'Nb96Mo3W1')      -> ([5, 0, 95, 0, 0, 0, 0], [0, 0, 25, 25, 25, 25, 0], [0, 0, 0, 1, 96, 0, 3])\n",
      "('Hf95Ti5', 'NbTaWHf', 'Zr49 Hf1 Mo50')  -> ([5, 0, 95, 0, 0, 0, 0], [0, 0, 25, 25, 25, 25, 0], [0, 49, 1, 0, 0, 0, 50])\n",
      "('Hf95Ti5', 'Mo80Nb10W10', 'TiTa2')      -> ([5, 0, 95, 0, 0, 0, 0], [0, 0, 0, 10, 10, 0, 80], [33, 0, 0, 0, 0, 66, 0])\n",
      "('Hf95Ti5', 'Mo80Nb10W10', 'Nb96Mo3W1')  -> ([5, 0, 95, 0, 0, 0, 0], [0, 0, 0, 10, 10, 0, 80], [0, 0, 0, 1, 96, 0, 3])\n",
      "('Hf95Ti5', 'Mo80Nb10W10', 'Zr49 Hf1 Mo50') -> ([5, 0, 95, 0, 0, 0, 0], [0, 0, 0, 10, 10, 0, 80], [0, 49, 1, 0, 0, 0, 50])\n",
      "('Hf95Ti5', 'TiTa2', 'Nb96Mo3W1')        -> ([5, 0, 95, 0, 0, 0, 0], [33, 0, 0, 0, 0, 66, 0], [0, 0, 0, 1, 96, 0, 3])\n",
      "('Hf95Ti5', 'TiTa2', 'Zr49 Hf1 Mo50')    -> ([5, 0, 95, 0, 0, 0, 0], [33, 0, 0, 0, 0, 66, 0], [0, 49, 1, 0, 0, 0, 50])\n",
      "('Hf95Ti5', 'Nb96Mo3W1', 'Zr49 Hf1 Mo50') -> ([5, 0, 95, 0, 0, 0, 0], [0, 0, 0, 1, 96, 0, 3], [0, 49, 1, 0, 0, 0, 50])\n",
      "('NbTaWHf', 'Mo80Nb10W10', 'TiTa2')      -> ([0, 0, 25, 25, 25, 25, 0], [0, 0, 0, 10, 10, 0, 80], [33, 0, 0, 0, 0, 66, 0])\n",
      "('NbTaWHf', 'Mo80Nb10W10', 'Nb96Mo3W1')  -> ([0, 0, 25, 25, 25, 25, 0], [0, 0, 0, 10, 10, 0, 80], [0, 0, 0, 1, 96, 0, 3])\n",
      "('NbTaWHf', 'Mo80Nb10W10', 'Zr49 Hf1 Mo50') -> ([0, 0, 25, 25, 25, 25, 0], [0, 0, 0, 10, 10, 0, 80], [0, 49, 1, 0, 0, 0, 50])\n",
      "('NbTaWHf', 'TiTa2', 'Nb96Mo3W1')        -> ([0, 0, 25, 25, 25, 25, 0], [33, 0, 0, 0, 0, 66, 0], [0, 0, 0, 1, 96, 0, 3])\n",
      "('NbTaWHf', 'TiTa2', 'Zr49 Hf1 Mo50')    -> ([0, 0, 25, 25, 25, 25, 0], [33, 0, 0, 0, 0, 66, 0], [0, 49, 1, 0, 0, 0, 50])\n",
      "('NbTaWHf', 'Nb96Mo3W1', 'Zr49 Hf1 Mo50') -> ([0, 0, 25, 25, 25, 25, 0], [0, 0, 0, 1, 96, 0, 3], [0, 49, 1, 0, 0, 0, 50])\n",
      "('Mo80Nb10W10', 'TiTa2', 'Nb96Mo3W1')    -> ([0, 0, 0, 10, 10, 0, 80], [33, 0, 0, 0, 0, 66, 0], [0, 0, 0, 1, 96, 0, 3])\n",
      "('Mo80Nb10W10', 'TiTa2', 'Zr49 Hf1 Mo50') -> ([0, 0, 0, 10, 10, 0, 80], [33, 0, 0, 0, 0, 66, 0], [0, 49, 1, 0, 0, 0, 50])\n",
      "('Mo80Nb10W10', 'Nb96Mo3W1', 'Zr49 Hf1 Mo50') -> ([0, 0, 0, 10, 10, 0, 80], [0, 0, 0, 1, 96, 0, 3], [0, 49, 1, 0, 0, 0, 50])\n",
      "('TiTa2', 'Nb96Mo3W1', 'Zr49 Hf1 Mo50')  -> ([33, 0, 0, 0, 0, 66, 0], [0, 0, 0, 1, 96, 0, 3], [0, 49, 1, 0, 0, 0, 50])\n"
     ]
    }
   ],
   "source": [
    "elementalSpaceComponents = [\"Ti\", \"Zr\", \"Hf\", \"W\", \"Nb\", \"Ta\", \"Mo\"]\n",
    "attainableSpaceComponents = [\"Ti50Zr50\", \"Hf95Ti5\", \"NbTaWHf\", \"Mo80Nb10W10\", \"TiTa2\", \"Nb96Mo3W1\", \"Zr49 Hf1 Mo50\"]\n",
    "attainableSpaceComponentPositions = [\n",
    "    #Ti, Zr, Hf,  W, Nb, Ta, Mo\n",
    "    [50, 50,  0,  0,  0,  0,  0], \n",
    "    [ 5,  0, 95,  0,  0,  0,  0], \n",
    "    [ 0,  0, 25, 25, 25, 25,  0], \n",
    "    [ 0,  0,  0, 10, 10,  0, 80],\n",
    "    [33,  0,  0,  0,  0, 66,  0],\n",
    "    [ 0,  0,  0,  1, 96,  0,  3],\n",
    "    [ 0, 49,  1,  0,  0,  0, 50]\n",
    "]    \n",
    "ternaries = list(combinations(attainableSpaceComponents, 3))\n",
    "ternaries_CompPos = list(combinations(attainableSpaceComponentPositions, 3))\n",
    "ndiv = 8\n",
    "gridAtt, nList = nimplex.simplex_graph_py(3, ndiv)\n",
    "\n",
    "for tern, terncp in zip(ternaries, ternaries_CompPos):\n",
    "    print(f\"{str(tern):<40} -> {terncp}\")"
   ]
  },
  {
   "cell_type": "code",
   "execution_count": null,
   "metadata": {},
   "outputs": [
    {
     "data": {
      "text/plain": [
       "[0, 2, 9, 10]"
      ]
     },
     "execution_count": 65,
     "metadata": {},
     "output_type": "execute_result"
    }
   ],
   "source": [
    "nList[1]"
   ]
  },
  {
   "cell_type": "code",
   "execution_count": null,
   "metadata": {},
   "outputs": [],
   "source": []
  },
  {
   "cell_type": "code",
   "execution_count": null,
   "metadata": {},
   "outputs": [],
   "source": [
    "# Edges list for graph plotting and path finding purposes\n",
    "edges = []\n",
    "# Connectivity list within each subsystem\n",
    "graphN = [[] for i in range(len(gridAtt * len(ternaries)))]\n",
    "# Connectivity list between subsystems\n",
    "graphNS = [[] for i in range(len(graphN))]\n",
    "compositions = []\n",
    "# Iterate over ternaries\n",
    "for i, terncp in enumerate(ternaries_CompPos):\n",
    "    offset = i*len(gridAtt)\n",
    "    for j in range(len(gridAtt)):\n",
    "        for n in nList[j]:\n",
    "            edges.append((j+offset,n+offset))\n",
    "            graphN[j+offset].append(n+offset)\n",
    "    gridAttTemp, gridElTemp = nimplex.embeddedpair_simplex_grid_fractional_py(terncp, ndiv)\n",
    "    compositions += gridElTemp"
   ]
  },
  {
   "cell_type": "code",
   "execution_count": null,
   "metadata": {},
   "outputs": [
    {
     "data": {
      "text/plain": [
       "list"
      ]
     },
     "execution_count": 67,
     "metadata": {},
     "output_type": "execute_result"
    }
   ],
   "source": [
    "type(compositions)"
   ]
  },
  {
   "cell_type": "code",
   "execution_count": null,
   "metadata": {},
   "outputs": [
    {
     "name": "stdout",
     "output_type": "stream",
     "text": [
      "('Hf95Ti5', 'Ti50Zr50'): occurs between ternary [(0, 1), (0, 2), (0, 3), (0, 4), (1, 2), (1, 3), (1, 4), (2, 3), (2, 4), (3, 4)]\n",
      "('NbTaWHf', 'Ti50Zr50'): occurs between ternary [(0, 5), (0, 6), (0, 7), (0, 8), (5, 6), (5, 7), (5, 8), (6, 7), (6, 8), (7, 8)]\n",
      "('Hf95Ti5', 'NbTaWHf'): occurs between ternary [(0, 15), (0, 16), (0, 17), (0, 18), (15, 16), (15, 17), (15, 18), (16, 17), (16, 18), (17, 18)]\n",
      "('Mo80Nb10W10', 'Ti50Zr50'): occurs between ternary [(1, 5), (1, 9), (1, 10), (1, 11), (5, 9), (5, 10), (5, 11), (9, 10), (9, 11), (10, 11)]\n",
      "('Hf95Ti5', 'Mo80Nb10W10'): occurs between ternary [(1, 15), (1, 19), (1, 20), (1, 21), (15, 19), (15, 20), (15, 21), (19, 20), (19, 21), (20, 21)]\n",
      "('Ti50Zr50', 'TiTa2'): occurs between ternary [(2, 6), (2, 9), (2, 12), (2, 13), (6, 9), (6, 12), (6, 13), (9, 12), (9, 13), (12, 13)]\n",
      "('Hf95Ti5', 'TiTa2'): occurs between ternary [(2, 16), (2, 19), (2, 22), (2, 23), (16, 19), (16, 22), (16, 23), (19, 22), (19, 23), (22, 23)]\n",
      "('Nb96Mo3W1', 'Ti50Zr50'): occurs between ternary [(3, 7), (3, 10), (3, 12), (3, 14), (7, 10), (7, 12), (7, 14), (10, 12), (10, 14), (12, 14)]\n",
      "('Hf95Ti5', 'Nb96Mo3W1'): occurs between ternary [(3, 17), (3, 20), (3, 22), (3, 24), (17, 20), (17, 22), (17, 24), (20, 22), (20, 24), (22, 24)]\n",
      "('Ti50Zr50', 'Zr49 Hf1 Mo50'): occurs between ternary [(4, 8), (4, 11), (4, 13), (4, 14), (8, 11), (8, 13), (8, 14), (11, 13), (11, 14), (13, 14)]\n",
      "('Hf95Ti5', 'Zr49 Hf1 Mo50'): occurs between ternary [(4, 18), (4, 21), (4, 23), (4, 24), (18, 21), (18, 23), (18, 24), (21, 23), (21, 24), (23, 24)]\n",
      "('Mo80Nb10W10', 'NbTaWHf'): occurs between ternary [(5, 15), (5, 25), (5, 26), (5, 27), (15, 25), (15, 26), (15, 27), (25, 26), (25, 27), (26, 27)]\n",
      "('NbTaWHf', 'TiTa2'): occurs between ternary [(6, 16), (6, 25), (6, 28), (6, 29), (16, 25), (16, 28), (16, 29), (25, 28), (25, 29), (28, 29)]\n",
      "('Nb96Mo3W1', 'NbTaWHf'): occurs between ternary [(7, 17), (7, 26), (7, 28), (7, 30), (17, 26), (17, 28), (17, 30), (26, 28), (26, 30), (28, 30)]\n",
      "('NbTaWHf', 'Zr49 Hf1 Mo50'): occurs between ternary [(8, 18), (8, 27), (8, 29), (8, 30), (18, 27), (18, 29), (18, 30), (27, 29), (27, 30), (29, 30)]\n",
      "('Mo80Nb10W10', 'TiTa2'): occurs between ternary [(9, 19), (9, 25), (9, 31), (9, 32), (19, 25), (19, 31), (19, 32), (25, 31), (25, 32), (31, 32)]\n",
      "('Mo80Nb10W10', 'Nb96Mo3W1'): occurs between ternary [(10, 20), (10, 26), (10, 31), (10, 33), (20, 26), (20, 31), (20, 33), (26, 31), (26, 33), (31, 33)]\n",
      "('Mo80Nb10W10', 'Zr49 Hf1 Mo50'): occurs between ternary [(11, 21), (11, 27), (11, 32), (11, 33), (21, 27), (21, 32), (21, 33), (27, 32), (27, 33), (32, 33)]\n",
      "('Nb96Mo3W1', 'TiTa2'): occurs between ternary [(12, 22), (12, 28), (12, 31), (12, 34), (22, 28), (22, 31), (22, 34), (28, 31), (28, 34), (31, 34)]\n",
      "('TiTa2', 'Zr49 Hf1 Mo50'): occurs between ternary [(13, 23), (13, 29), (13, 32), (13, 34), (23, 29), (23, 32), (23, 34), (29, 32), (29, 34), (32, 34)]\n",
      "('Nb96Mo3W1', 'Zr49 Hf1 Mo50'): occurs between ternary [(14, 24), (14, 30), (14, 33), (14, 34), (24, 30), (24, 33), (24, 34), (30, 33), (30, 34), (33, 34)]\n"
     ]
    }
   ],
   "source": [
    "stitchingBinaries = {}\n",
    "\n",
    "for i, combo1 in enumerate(ternaries):\n",
    "    for j, combo2 in enumerate(ternaries[i+1:], start=i+1):\n",
    "        common = set(combo1) & set(combo2)\n",
    "        if len(common) == 2:\n",
    "            overlap = tuple(sorted(common))\n",
    "            if overlap not in stitchingBinaries:\n",
    "                stitchingBinaries[overlap] = []\n",
    "            stitchingBinaries[overlap].append((i, j))\n",
    "\n",
    "for overlap, pairs in stitchingBinaries.items():\n",
    "    print(f\"{overlap}: occurs between ternary {pairs}\")"
   ]
  },
  {
   "cell_type": "code",
   "execution_count": null,
   "metadata": {},
   "outputs": [
    {
     "name": "stdout",
     "output_type": "stream",
     "text": [
      "Stitching 0 and 1 at ('Hf95Ti5', 'Ti50Zr50') from [8, 16, 23, 29, 34, 38, 41, 43, 44] to [53, 61, 68, 74, 79, 83, 86, 88, 89]\n",
      "Stitching 0 and 2 at ('Hf95Ti5', 'Ti50Zr50') from [8, 16, 23, 29, 34, 38, 41, 43, 44] to [98, 106, 113, 119, 124, 128, 131, 133, 134]\n",
      "Stitching 0 and 3 at ('Hf95Ti5', 'Ti50Zr50') from [8, 16, 23, 29, 34, 38, 41, 43, 44] to [143, 151, 158, 164, 169, 173, 176, 178, 179]\n",
      "Stitching 0 and 4 at ('Hf95Ti5', 'Ti50Zr50') from [8, 16, 23, 29, 34, 38, 41, 43, 44] to [188, 196, 203, 209, 214, 218, 221, 223, 224]\n",
      "Stitching 1 and 2 at ('Hf95Ti5', 'Ti50Zr50') from [53, 61, 68, 74, 79, 83, 86, 88, 89] to [98, 106, 113, 119, 124, 128, 131, 133, 134]\n",
      "Stitching 1 and 3 at ('Hf95Ti5', 'Ti50Zr50') from [53, 61, 68, 74, 79, 83, 86, 88, 89] to [143, 151, 158, 164, 169, 173, 176, 178, 179]\n",
      "Stitching 1 and 4 at ('Hf95Ti5', 'Ti50Zr50') from [53, 61, 68, 74, 79, 83, 86, 88, 89] to [188, 196, 203, 209, 214, 218, 221, 223, 224]\n",
      "Stitching 2 and 3 at ('Hf95Ti5', 'Ti50Zr50') from [98, 106, 113, 119, 124, 128, 131, 133, 134] to [143, 151, 158, 164, 169, 173, 176, 178, 179]\n",
      "Stitching 2 and 4 at ('Hf95Ti5', 'Ti50Zr50') from [98, 106, 113, 119, 124, 128, 131, 133, 134] to [188, 196, 203, 209, 214, 218, 221, 223, 224]\n",
      "Stitching 3 and 4 at ('Hf95Ti5', 'Ti50Zr50') from [143, 151, 158, 164, 169, 173, 176, 178, 179] to [188, 196, 203, 209, 214, 218, 221, 223, 224]\n",
      "Stitching 0 and 5 at ('NbTaWHf', 'Ti50Zr50') from [0, 9, 17, 24, 30, 35, 39, 42, 44] to [233, 241, 248, 254, 259, 263, 266, 268, 269]\n",
      "Stitching 0 and 6 at ('NbTaWHf', 'Ti50Zr50') from [0, 9, 17, 24, 30, 35, 39, 42, 44] to [278, 286, 293, 299, 304, 308, 311, 313, 314]\n",
      "Stitching 0 and 7 at ('NbTaWHf', 'Ti50Zr50') from [0, 9, 17, 24, 30, 35, 39, 42, 44] to [323, 331, 338, 344, 349, 353, 356, 358, 359]\n",
      "Stitching 0 and 8 at ('NbTaWHf', 'Ti50Zr50') from [0, 9, 17, 24, 30, 35, 39, 42, 44] to [368, 376, 383, 389, 394, 398, 401, 403, 404]\n",
      "Stitching 5 and 6 at ('NbTaWHf', 'Ti50Zr50') from [233, 241, 248, 254, 259, 263, 266, 268, 269] to [278, 286, 293, 299, 304, 308, 311, 313, 314]\n",
      "Stitching 5 and 7 at ('NbTaWHf', 'Ti50Zr50') from [233, 241, 248, 254, 259, 263, 266, 268, 269] to [323, 331, 338, 344, 349, 353, 356, 358, 359]\n",
      "Stitching 5 and 8 at ('NbTaWHf', 'Ti50Zr50') from [233, 241, 248, 254, 259, 263, 266, 268, 269] to [368, 376, 383, 389, 394, 398, 401, 403, 404]\n",
      "Stitching 6 and 7 at ('NbTaWHf', 'Ti50Zr50') from [278, 286, 293, 299, 304, 308, 311, 313, 314] to [323, 331, 338, 344, 349, 353, 356, 358, 359]\n",
      "Stitching 6 and 8 at ('NbTaWHf', 'Ti50Zr50') from [278, 286, 293, 299, 304, 308, 311, 313, 314] to [368, 376, 383, 389, 394, 398, 401, 403, 404]\n",
      "Stitching 7 and 8 at ('NbTaWHf', 'Ti50Zr50') from [323, 331, 338, 344, 349, 353, 356, 358, 359] to [368, 376, 383, 389, 394, 398, 401, 403, 404]\n",
      "Stitching 0 and 15 at ('Hf95Ti5', 'NbTaWHf') from [8, 7, 6, 5, 4, 3, 2, 1, 0] to [719, 718, 716, 713, 709, 704, 698, 691, 683]\n",
      "Stitching 0 and 16 at ('Hf95Ti5', 'NbTaWHf') from [8, 7, 6, 5, 4, 3, 2, 1, 0] to [764, 763, 761, 758, 754, 749, 743, 736, 728]\n",
      "Stitching 0 and 17 at ('Hf95Ti5', 'NbTaWHf') from [8, 7, 6, 5, 4, 3, 2, 1, 0] to [809, 808, 806, 803, 799, 794, 788, 781, 773]\n",
      "Stitching 0 and 18 at ('Hf95Ti5', 'NbTaWHf') from [8, 7, 6, 5, 4, 3, 2, 1, 0] to [854, 853, 851, 848, 844, 839, 833, 826, 818]\n",
      "Stitching 15 and 16 at ('Hf95Ti5', 'NbTaWHf') from [719, 718, 716, 713, 709, 704, 698, 691, 683] to [764, 763, 761, 758, 754, 749, 743, 736, 728]\n",
      "Stitching 15 and 17 at ('Hf95Ti5', 'NbTaWHf') from [719, 718, 716, 713, 709, 704, 698, 691, 683] to [809, 808, 806, 803, 799, 794, 788, 781, 773]\n",
      "Stitching 15 and 18 at ('Hf95Ti5', 'NbTaWHf') from [719, 718, 716, 713, 709, 704, 698, 691, 683] to [854, 853, 851, 848, 844, 839, 833, 826, 818]\n",
      "Stitching 16 and 17 at ('Hf95Ti5', 'NbTaWHf') from [764, 763, 761, 758, 754, 749, 743, 736, 728] to [809, 808, 806, 803, 799, 794, 788, 781, 773]\n",
      "Stitching 16 and 18 at ('Hf95Ti5', 'NbTaWHf') from [764, 763, 761, 758, 754, 749, 743, 736, 728] to [854, 853, 851, 848, 844, 839, 833, 826, 818]\n",
      "Stitching 17 and 18 at ('Hf95Ti5', 'NbTaWHf') from [809, 808, 806, 803, 799, 794, 788, 781, 773] to [854, 853, 851, 848, 844, 839, 833, 826, 818]\n",
      "Stitching 1 and 5 at ('Mo80Nb10W10', 'Ti50Zr50') from [45, 54, 62, 69, 75, 80, 84, 87, 89] to [225, 234, 242, 249, 255, 260, 264, 267, 269]\n",
      "Stitching 1 and 9 at ('Mo80Nb10W10', 'Ti50Zr50') from [45, 54, 62, 69, 75, 80, 84, 87, 89] to [413, 421, 428, 434, 439, 443, 446, 448, 449]\n",
      "Stitching 1 and 10 at ('Mo80Nb10W10', 'Ti50Zr50') from [45, 54, 62, 69, 75, 80, 84, 87, 89] to [458, 466, 473, 479, 484, 488, 491, 493, 494]\n",
      "Stitching 1 and 11 at ('Mo80Nb10W10', 'Ti50Zr50') from [45, 54, 62, 69, 75, 80, 84, 87, 89] to [503, 511, 518, 524, 529, 533, 536, 538, 539]\n",
      "Stitching 5 and 9 at ('Mo80Nb10W10', 'Ti50Zr50') from [225, 234, 242, 249, 255, 260, 264, 267, 269] to [413, 421, 428, 434, 439, 443, 446, 448, 449]\n",
      "Stitching 5 and 10 at ('Mo80Nb10W10', 'Ti50Zr50') from [225, 234, 242, 249, 255, 260, 264, 267, 269] to [458, 466, 473, 479, 484, 488, 491, 493, 494]\n",
      "Stitching 5 and 11 at ('Mo80Nb10W10', 'Ti50Zr50') from [225, 234, 242, 249, 255, 260, 264, 267, 269] to [503, 511, 518, 524, 529, 533, 536, 538, 539]\n",
      "Stitching 9 and 10 at ('Mo80Nb10W10', 'Ti50Zr50') from [413, 421, 428, 434, 439, 443, 446, 448, 449] to [458, 466, 473, 479, 484, 488, 491, 493, 494]\n",
      "Stitching 9 and 11 at ('Mo80Nb10W10', 'Ti50Zr50') from [413, 421, 428, 434, 439, 443, 446, 448, 449] to [503, 511, 518, 524, 529, 533, 536, 538, 539]\n",
      "Stitching 10 and 11 at ('Mo80Nb10W10', 'Ti50Zr50') from [458, 466, 473, 479, 484, 488, 491, 493, 494] to [503, 511, 518, 524, 529, 533, 536, 538, 539]\n",
      "Stitching 1 and 15 at ('Hf95Ti5', 'Mo80Nb10W10') from [53, 52, 51, 50, 49, 48, 47, 46, 45] to [719, 717, 714, 710, 705, 699, 692, 684, 675]\n",
      "Stitching 1 and 19 at ('Hf95Ti5', 'Mo80Nb10W10') from [53, 52, 51, 50, 49, 48, 47, 46, 45] to [899, 898, 896, 893, 889, 884, 878, 871, 863]\n",
      "Stitching 1 and 20 at ('Hf95Ti5', 'Mo80Nb10W10') from [53, 52, 51, 50, 49, 48, 47, 46, 45] to [944, 943, 941, 938, 934, 929, 923, 916, 908]\n",
      "Stitching 1 and 21 at ('Hf95Ti5', 'Mo80Nb10W10') from [53, 52, 51, 50, 49, 48, 47, 46, 45] to [989, 988, 986, 983, 979, 974, 968, 961, 953]\n",
      "Stitching 15 and 19 at ('Hf95Ti5', 'Mo80Nb10W10') from [719, 717, 714, 710, 705, 699, 692, 684, 675] to [899, 898, 896, 893, 889, 884, 878, 871, 863]\n",
      "Stitching 15 and 20 at ('Hf95Ti5', 'Mo80Nb10W10') from [719, 717, 714, 710, 705, 699, 692, 684, 675] to [944, 943, 941, 938, 934, 929, 923, 916, 908]\n",
      "Stitching 15 and 21 at ('Hf95Ti5', 'Mo80Nb10W10') from [719, 717, 714, 710, 705, 699, 692, 684, 675] to [989, 988, 986, 983, 979, 974, 968, 961, 953]\n",
      "Stitching 19 and 20 at ('Hf95Ti5', 'Mo80Nb10W10') from [899, 898, 896, 893, 889, 884, 878, 871, 863] to [944, 943, 941, 938, 934, 929, 923, 916, 908]\n",
      "Stitching 19 and 21 at ('Hf95Ti5', 'Mo80Nb10W10') from [899, 898, 896, 893, 889, 884, 878, 871, 863] to [989, 988, 986, 983, 979, 974, 968, 961, 953]\n",
      "Stitching 20 and 21 at ('Hf95Ti5', 'Mo80Nb10W10') from [944, 943, 941, 938, 934, 929, 923, 916, 908] to [989, 988, 986, 983, 979, 974, 968, 961, 953]\n",
      "Stitching 2 and 6 at ('Ti50Zr50', 'TiTa2') from [134, 132, 129, 125, 120, 114, 107, 99, 90] to [314, 312, 309, 305, 300, 294, 287, 279, 270]\n",
      "Stitching 2 and 9 at ('Ti50Zr50', 'TiTa2') from [134, 132, 129, 125, 120, 114, 107, 99, 90] to [449, 447, 444, 440, 435, 429, 422, 414, 405]\n",
      "Stitching 2 and 12 at ('Ti50Zr50', 'TiTa2') from [134, 132, 129, 125, 120, 114, 107, 99, 90] to [584, 583, 581, 578, 574, 569, 563, 556, 548]\n",
      "Stitching 2 and 13 at ('Ti50Zr50', 'TiTa2') from [134, 132, 129, 125, 120, 114, 107, 99, 90] to [629, 628, 626, 623, 619, 614, 608, 601, 593]\n",
      "Stitching 6 and 9 at ('Ti50Zr50', 'TiTa2') from [314, 312, 309, 305, 300, 294, 287, 279, 270] to [449, 447, 444, 440, 435, 429, 422, 414, 405]\n",
      "Stitching 6 and 12 at ('Ti50Zr50', 'TiTa2') from [314, 312, 309, 305, 300, 294, 287, 279, 270] to [584, 583, 581, 578, 574, 569, 563, 556, 548]\n",
      "Stitching 6 and 13 at ('Ti50Zr50', 'TiTa2') from [314, 312, 309, 305, 300, 294, 287, 279, 270] to [629, 628, 626, 623, 619, 614, 608, 601, 593]\n",
      "Stitching 9 and 12 at ('Ti50Zr50', 'TiTa2') from [449, 447, 444, 440, 435, 429, 422, 414, 405] to [584, 583, 581, 578, 574, 569, 563, 556, 548]\n",
      "Stitching 9 and 13 at ('Ti50Zr50', 'TiTa2') from [449, 447, 444, 440, 435, 429, 422, 414, 405] to [629, 628, 626, 623, 619, 614, 608, 601, 593]\n",
      "Stitching 12 and 13 at ('Ti50Zr50', 'TiTa2') from [584, 583, 581, 578, 574, 569, 563, 556, 548] to [629, 628, 626, 623, 619, 614, 608, 601, 593]\n",
      "Stitching 2 and 16 at ('Hf95Ti5', 'TiTa2') from [98, 97, 96, 95, 94, 93, 92, 91, 90] to [764, 762, 759, 755, 750, 744, 737, 729, 720]\n",
      "Stitching 2 and 19 at ('Hf95Ti5', 'TiTa2') from [98, 97, 96, 95, 94, 93, 92, 91, 90] to [899, 897, 894, 890, 885, 879, 872, 864, 855]\n",
      "Stitching 2 and 22 at ('Hf95Ti5', 'TiTa2') from [98, 97, 96, 95, 94, 93, 92, 91, 90] to [1034, 1033, 1031, 1028, 1024, 1019, 1013, 1006, 998]\n",
      "Stitching 2 and 23 at ('Hf95Ti5', 'TiTa2') from [98, 97, 96, 95, 94, 93, 92, 91, 90] to [1079, 1078, 1076, 1073, 1069, 1064, 1058, 1051, 1043]\n",
      "Stitching 16 and 19 at ('Hf95Ti5', 'TiTa2') from [764, 762, 759, 755, 750, 744, 737, 729, 720] to [899, 897, 894, 890, 885, 879, 872, 864, 855]\n",
      "Stitching 16 and 22 at ('Hf95Ti5', 'TiTa2') from [764, 762, 759, 755, 750, 744, 737, 729, 720] to [1034, 1033, 1031, 1028, 1024, 1019, 1013, 1006, 998]\n",
      "Stitching 16 and 23 at ('Hf95Ti5', 'TiTa2') from [764, 762, 759, 755, 750, 744, 737, 729, 720] to [1079, 1078, 1076, 1073, 1069, 1064, 1058, 1051, 1043]\n",
      "Stitching 19 and 22 at ('Hf95Ti5', 'TiTa2') from [899, 897, 894, 890, 885, 879, 872, 864, 855] to [1034, 1033, 1031, 1028, 1024, 1019, 1013, 1006, 998]\n",
      "Stitching 19 and 23 at ('Hf95Ti5', 'TiTa2') from [899, 897, 894, 890, 885, 879, 872, 864, 855] to [1079, 1078, 1076, 1073, 1069, 1064, 1058, 1051, 1043]\n",
      "Stitching 22 and 23 at ('Hf95Ti5', 'TiTa2') from [1034, 1033, 1031, 1028, 1024, 1019, 1013, 1006, 998] to [1079, 1078, 1076, 1073, 1069, 1064, 1058, 1051, 1043]\n",
      "Stitching 3 and 7 at ('Nb96Mo3W1', 'Ti50Zr50') from [135, 144, 152, 159, 165, 170, 174, 177, 179] to [315, 324, 332, 339, 345, 350, 354, 357, 359]\n",
      "Stitching 3 and 10 at ('Nb96Mo3W1', 'Ti50Zr50') from [135, 144, 152, 159, 165, 170, 174, 177, 179] to [450, 459, 467, 474, 480, 485, 489, 492, 494]\n",
      "Stitching 3 and 12 at ('Nb96Mo3W1', 'Ti50Zr50') from [135, 144, 152, 159, 165, 170, 174, 177, 179] to [540, 549, 557, 564, 570, 575, 579, 582, 584]\n",
      "Stitching 3 and 14 at ('Nb96Mo3W1', 'Ti50Zr50') from [135, 144, 152, 159, 165, 170, 174, 177, 179] to [638, 646, 653, 659, 664, 668, 671, 673, 674]\n",
      "Stitching 7 and 10 at ('Nb96Mo3W1', 'Ti50Zr50') from [315, 324, 332, 339, 345, 350, 354, 357, 359] to [450, 459, 467, 474, 480, 485, 489, 492, 494]\n",
      "Stitching 7 and 12 at ('Nb96Mo3W1', 'Ti50Zr50') from [315, 324, 332, 339, 345, 350, 354, 357, 359] to [540, 549, 557, 564, 570, 575, 579, 582, 584]\n",
      "Stitching 7 and 14 at ('Nb96Mo3W1', 'Ti50Zr50') from [315, 324, 332, 339, 345, 350, 354, 357, 359] to [638, 646, 653, 659, 664, 668, 671, 673, 674]\n",
      "Stitching 10 and 12 at ('Nb96Mo3W1', 'Ti50Zr50') from [450, 459, 467, 474, 480, 485, 489, 492, 494] to [540, 549, 557, 564, 570, 575, 579, 582, 584]\n",
      "Stitching 10 and 14 at ('Nb96Mo3W1', 'Ti50Zr50') from [450, 459, 467, 474, 480, 485, 489, 492, 494] to [638, 646, 653, 659, 664, 668, 671, 673, 674]\n",
      "Stitching 12 and 14 at ('Nb96Mo3W1', 'Ti50Zr50') from [540, 549, 557, 564, 570, 575, 579, 582, 584] to [638, 646, 653, 659, 664, 668, 671, 673, 674]\n",
      "Stitching 3 and 17 at ('Hf95Ti5', 'Nb96Mo3W1') from [143, 142, 141, 140, 139, 138, 137, 136, 135] to [809, 807, 804, 800, 795, 789, 782, 774, 765]\n",
      "Stitching 3 and 20 at ('Hf95Ti5', 'Nb96Mo3W1') from [143, 142, 141, 140, 139, 138, 137, 136, 135] to [944, 942, 939, 935, 930, 924, 917, 909, 900]\n",
      "Stitching 3 and 22 at ('Hf95Ti5', 'Nb96Mo3W1') from [143, 142, 141, 140, 139, 138, 137, 136, 135] to [1034, 1032, 1029, 1025, 1020, 1014, 1007, 999, 990]\n",
      "Stitching 3 and 24 at ('Hf95Ti5', 'Nb96Mo3W1') from [143, 142, 141, 140, 139, 138, 137, 136, 135] to [1124, 1123, 1121, 1118, 1114, 1109, 1103, 1096, 1088]\n",
      "Stitching 17 and 20 at ('Hf95Ti5', 'Nb96Mo3W1') from [809, 807, 804, 800, 795, 789, 782, 774, 765] to [944, 942, 939, 935, 930, 924, 917, 909, 900]\n",
      "Stitching 17 and 22 at ('Hf95Ti5', 'Nb96Mo3W1') from [809, 807, 804, 800, 795, 789, 782, 774, 765] to [1034, 1032, 1029, 1025, 1020, 1014, 1007, 999, 990]\n",
      "Stitching 17 and 24 at ('Hf95Ti5', 'Nb96Mo3W1') from [809, 807, 804, 800, 795, 789, 782, 774, 765] to [1124, 1123, 1121, 1118, 1114, 1109, 1103, 1096, 1088]\n",
      "Stitching 20 and 22 at ('Hf95Ti5', 'Nb96Mo3W1') from [944, 942, 939, 935, 930, 924, 917, 909, 900] to [1034, 1032, 1029, 1025, 1020, 1014, 1007, 999, 990]\n",
      "Stitching 20 and 24 at ('Hf95Ti5', 'Nb96Mo3W1') from [944, 942, 939, 935, 930, 924, 917, 909, 900] to [1124, 1123, 1121, 1118, 1114, 1109, 1103, 1096, 1088]\n",
      "Stitching 22 and 24 at ('Hf95Ti5', 'Nb96Mo3W1') from [1034, 1032, 1029, 1025, 1020, 1014, 1007, 999, 990] to [1124, 1123, 1121, 1118, 1114, 1109, 1103, 1096, 1088]\n",
      "Stitching 4 and 8 at ('Ti50Zr50', 'Zr49 Hf1 Mo50') from [224, 222, 219, 215, 210, 204, 197, 189, 180] to [404, 402, 399, 395, 390, 384, 377, 369, 360]\n",
      "Stitching 4 and 11 at ('Ti50Zr50', 'Zr49 Hf1 Mo50') from [224, 222, 219, 215, 210, 204, 197, 189, 180] to [539, 537, 534, 530, 525, 519, 512, 504, 495]\n",
      "Stitching 4 and 13 at ('Ti50Zr50', 'Zr49 Hf1 Mo50') from [224, 222, 219, 215, 210, 204, 197, 189, 180] to [629, 627, 624, 620, 615, 609, 602, 594, 585]\n",
      "Stitching 4 and 14 at ('Ti50Zr50', 'Zr49 Hf1 Mo50') from [224, 222, 219, 215, 210, 204, 197, 189, 180] to [674, 672, 669, 665, 660, 654, 647, 639, 630]\n",
      "Stitching 8 and 11 at ('Ti50Zr50', 'Zr49 Hf1 Mo50') from [404, 402, 399, 395, 390, 384, 377, 369, 360] to [539, 537, 534, 530, 525, 519, 512, 504, 495]\n",
      "Stitching 8 and 13 at ('Ti50Zr50', 'Zr49 Hf1 Mo50') from [404, 402, 399, 395, 390, 384, 377, 369, 360] to [629, 627, 624, 620, 615, 609, 602, 594, 585]\n",
      "Stitching 8 and 14 at ('Ti50Zr50', 'Zr49 Hf1 Mo50') from [404, 402, 399, 395, 390, 384, 377, 369, 360] to [674, 672, 669, 665, 660, 654, 647, 639, 630]\n",
      "Stitching 11 and 13 at ('Ti50Zr50', 'Zr49 Hf1 Mo50') from [539, 537, 534, 530, 525, 519, 512, 504, 495] to [629, 627, 624, 620, 615, 609, 602, 594, 585]\n",
      "Stitching 11 and 14 at ('Ti50Zr50', 'Zr49 Hf1 Mo50') from [539, 537, 534, 530, 525, 519, 512, 504, 495] to [674, 672, 669, 665, 660, 654, 647, 639, 630]\n",
      "Stitching 13 and 14 at ('Ti50Zr50', 'Zr49 Hf1 Mo50') from [629, 627, 624, 620, 615, 609, 602, 594, 585] to [674, 672, 669, 665, 660, 654, 647, 639, 630]\n",
      "Stitching 4 and 18 at ('Hf95Ti5', 'Zr49 Hf1 Mo50') from [188, 187, 186, 185, 184, 183, 182, 181, 180] to [854, 852, 849, 845, 840, 834, 827, 819, 810]\n",
      "Stitching 4 and 21 at ('Hf95Ti5', 'Zr49 Hf1 Mo50') from [188, 187, 186, 185, 184, 183, 182, 181, 180] to [989, 987, 984, 980, 975, 969, 962, 954, 945]\n",
      "Stitching 4 and 23 at ('Hf95Ti5', 'Zr49 Hf1 Mo50') from [188, 187, 186, 185, 184, 183, 182, 181, 180] to [1079, 1077, 1074, 1070, 1065, 1059, 1052, 1044, 1035]\n",
      "Stitching 4 and 24 at ('Hf95Ti5', 'Zr49 Hf1 Mo50') from [188, 187, 186, 185, 184, 183, 182, 181, 180] to [1124, 1122, 1119, 1115, 1110, 1104, 1097, 1089, 1080]\n",
      "Stitching 18 and 21 at ('Hf95Ti5', 'Zr49 Hf1 Mo50') from [854, 852, 849, 845, 840, 834, 827, 819, 810] to [989, 987, 984, 980, 975, 969, 962, 954, 945]\n",
      "Stitching 18 and 23 at ('Hf95Ti5', 'Zr49 Hf1 Mo50') from [854, 852, 849, 845, 840, 834, 827, 819, 810] to [1079, 1077, 1074, 1070, 1065, 1059, 1052, 1044, 1035]\n",
      "Stitching 18 and 24 at ('Hf95Ti5', 'Zr49 Hf1 Mo50') from [854, 852, 849, 845, 840, 834, 827, 819, 810] to [1124, 1122, 1119, 1115, 1110, 1104, 1097, 1089, 1080]\n",
      "Stitching 21 and 23 at ('Hf95Ti5', 'Zr49 Hf1 Mo50') from [989, 987, 984, 980, 975, 969, 962, 954, 945] to [1079, 1077, 1074, 1070, 1065, 1059, 1052, 1044, 1035]\n",
      "Stitching 21 and 24 at ('Hf95Ti5', 'Zr49 Hf1 Mo50') from [989, 987, 984, 980, 975, 969, 962, 954, 945] to [1124, 1122, 1119, 1115, 1110, 1104, 1097, 1089, 1080]\n",
      "Stitching 23 and 24 at ('Hf95Ti5', 'Zr49 Hf1 Mo50') from [1079, 1077, 1074, 1070, 1065, 1059, 1052, 1044, 1035] to [1124, 1122, 1119, 1115, 1110, 1104, 1097, 1089, 1080]\n",
      "Stitching 5 and 15 at ('Mo80Nb10W10', 'NbTaWHf') from [225, 226, 227, 228, 229, 230, 231, 232, 233] to [675, 676, 677, 678, 679, 680, 681, 682, 683]\n",
      "Stitching 5 and 25 at ('Mo80Nb10W10', 'NbTaWHf') from [225, 226, 227, 228, 229, 230, 231, 232, 233] to [1133, 1141, 1148, 1154, 1159, 1163, 1166, 1168, 1169]\n",
      "Stitching 5 and 26 at ('Mo80Nb10W10', 'NbTaWHf') from [225, 226, 227, 228, 229, 230, 231, 232, 233] to [1178, 1186, 1193, 1199, 1204, 1208, 1211, 1213, 1214]\n",
      "Stitching 5 and 27 at ('Mo80Nb10W10', 'NbTaWHf') from [225, 226, 227, 228, 229, 230, 231, 232, 233] to [1223, 1231, 1238, 1244, 1249, 1253, 1256, 1258, 1259]\n",
      "Stitching 15 and 25 at ('Mo80Nb10W10', 'NbTaWHf') from [675, 676, 677, 678, 679, 680, 681, 682, 683] to [1133, 1141, 1148, 1154, 1159, 1163, 1166, 1168, 1169]\n",
      "Stitching 15 and 26 at ('Mo80Nb10W10', 'NbTaWHf') from [675, 676, 677, 678, 679, 680, 681, 682, 683] to [1178, 1186, 1193, 1199, 1204, 1208, 1211, 1213, 1214]\n",
      "Stitching 15 and 27 at ('Mo80Nb10W10', 'NbTaWHf') from [675, 676, 677, 678, 679, 680, 681, 682, 683] to [1223, 1231, 1238, 1244, 1249, 1253, 1256, 1258, 1259]\n",
      "Stitching 25 and 26 at ('Mo80Nb10W10', 'NbTaWHf') from [1133, 1141, 1148, 1154, 1159, 1163, 1166, 1168, 1169] to [1178, 1186, 1193, 1199, 1204, 1208, 1211, 1213, 1214]\n",
      "Stitching 25 and 27 at ('Mo80Nb10W10', 'NbTaWHf') from [1133, 1141, 1148, 1154, 1159, 1163, 1166, 1168, 1169] to [1223, 1231, 1238, 1244, 1249, 1253, 1256, 1258, 1259]\n",
      "Stitching 26 and 27 at ('Mo80Nb10W10', 'NbTaWHf') from [1178, 1186, 1193, 1199, 1204, 1208, 1211, 1213, 1214] to [1223, 1231, 1238, 1244, 1249, 1253, 1256, 1258, 1259]\n",
      "Stitching 6 and 16 at ('NbTaWHf', 'TiTa2') from [278, 277, 276, 275, 274, 273, 272, 271, 270] to [728, 727, 726, 725, 724, 723, 722, 721, 720]\n",
      "Stitching 6 and 25 at ('NbTaWHf', 'TiTa2') from [278, 277, 276, 275, 274, 273, 272, 271, 270] to [1169, 1167, 1164, 1160, 1155, 1149, 1142, 1134, 1125]\n",
      "Stitching 6 and 28 at ('NbTaWHf', 'TiTa2') from [278, 277, 276, 275, 274, 273, 272, 271, 270] to [1304, 1303, 1301, 1298, 1294, 1289, 1283, 1276, 1268]\n",
      "Stitching 6 and 29 at ('NbTaWHf', 'TiTa2') from [278, 277, 276, 275, 274, 273, 272, 271, 270] to [1349, 1348, 1346, 1343, 1339, 1334, 1328, 1321, 1313]\n",
      "Stitching 16 and 25 at ('NbTaWHf', 'TiTa2') from [728, 727, 726, 725, 724, 723, 722, 721, 720] to [1169, 1167, 1164, 1160, 1155, 1149, 1142, 1134, 1125]\n",
      "Stitching 16 and 28 at ('NbTaWHf', 'TiTa2') from [728, 727, 726, 725, 724, 723, 722, 721, 720] to [1304, 1303, 1301, 1298, 1294, 1289, 1283, 1276, 1268]\n",
      "Stitching 16 and 29 at ('NbTaWHf', 'TiTa2') from [728, 727, 726, 725, 724, 723, 722, 721, 720] to [1349, 1348, 1346, 1343, 1339, 1334, 1328, 1321, 1313]\n",
      "Stitching 25 and 28 at ('NbTaWHf', 'TiTa2') from [1169, 1167, 1164, 1160, 1155, 1149, 1142, 1134, 1125] to [1304, 1303, 1301, 1298, 1294, 1289, 1283, 1276, 1268]\n",
      "Stitching 25 and 29 at ('NbTaWHf', 'TiTa2') from [1169, 1167, 1164, 1160, 1155, 1149, 1142, 1134, 1125] to [1349, 1348, 1346, 1343, 1339, 1334, 1328, 1321, 1313]\n",
      "Stitching 28 and 29 at ('NbTaWHf', 'TiTa2') from [1304, 1303, 1301, 1298, 1294, 1289, 1283, 1276, 1268] to [1349, 1348, 1346, 1343, 1339, 1334, 1328, 1321, 1313]\n",
      "Stitching 7 and 17 at ('Nb96Mo3W1', 'NbTaWHf') from [315, 316, 317, 318, 319, 320, 321, 322, 323] to [765, 766, 767, 768, 769, 770, 771, 772, 773]\n",
      "Stitching 7 and 26 at ('Nb96Mo3W1', 'NbTaWHf') from [315, 316, 317, 318, 319, 320, 321, 322, 323] to [1170, 1179, 1187, 1194, 1200, 1205, 1209, 1212, 1214]\n",
      "Stitching 7 and 28 at ('Nb96Mo3W1', 'NbTaWHf') from [315, 316, 317, 318, 319, 320, 321, 322, 323] to [1260, 1269, 1277, 1284, 1290, 1295, 1299, 1302, 1304]\n",
      "Stitching 7 and 30 at ('Nb96Mo3W1', 'NbTaWHf') from [315, 316, 317, 318, 319, 320, 321, 322, 323] to [1358, 1366, 1373, 1379, 1384, 1388, 1391, 1393, 1394]\n",
      "Stitching 17 and 26 at ('Nb96Mo3W1', 'NbTaWHf') from [765, 766, 767, 768, 769, 770, 771, 772, 773] to [1170, 1179, 1187, 1194, 1200, 1205, 1209, 1212, 1214]\n",
      "Stitching 17 and 28 at ('Nb96Mo3W1', 'NbTaWHf') from [765, 766, 767, 768, 769, 770, 771, 772, 773] to [1260, 1269, 1277, 1284, 1290, 1295, 1299, 1302, 1304]\n",
      "Stitching 17 and 30 at ('Nb96Mo3W1', 'NbTaWHf') from [765, 766, 767, 768, 769, 770, 771, 772, 773] to [1358, 1366, 1373, 1379, 1384, 1388, 1391, 1393, 1394]\n",
      "Stitching 26 and 28 at ('Nb96Mo3W1', 'NbTaWHf') from [1170, 1179, 1187, 1194, 1200, 1205, 1209, 1212, 1214] to [1260, 1269, 1277, 1284, 1290, 1295, 1299, 1302, 1304]\n",
      "Stitching 26 and 30 at ('Nb96Mo3W1', 'NbTaWHf') from [1170, 1179, 1187, 1194, 1200, 1205, 1209, 1212, 1214] to [1358, 1366, 1373, 1379, 1384, 1388, 1391, 1393, 1394]\n",
      "Stitching 28 and 30 at ('Nb96Mo3W1', 'NbTaWHf') from [1260, 1269, 1277, 1284, 1290, 1295, 1299, 1302, 1304] to [1358, 1366, 1373, 1379, 1384, 1388, 1391, 1393, 1394]\n",
      "Stitching 8 and 18 at ('NbTaWHf', 'Zr49 Hf1 Mo50') from [368, 367, 366, 365, 364, 363, 362, 361, 360] to [818, 817, 816, 815, 814, 813, 812, 811, 810]\n",
      "Stitching 8 and 27 at ('NbTaWHf', 'Zr49 Hf1 Mo50') from [368, 367, 366, 365, 364, 363, 362, 361, 360] to [1259, 1257, 1254, 1250, 1245, 1239, 1232, 1224, 1215]\n",
      "Stitching 8 and 29 at ('NbTaWHf', 'Zr49 Hf1 Mo50') from [368, 367, 366, 365, 364, 363, 362, 361, 360] to [1349, 1347, 1344, 1340, 1335, 1329, 1322, 1314, 1305]\n",
      "Stitching 8 and 30 at ('NbTaWHf', 'Zr49 Hf1 Mo50') from [368, 367, 366, 365, 364, 363, 362, 361, 360] to [1394, 1392, 1389, 1385, 1380, 1374, 1367, 1359, 1350]\n",
      "Stitching 18 and 27 at ('NbTaWHf', 'Zr49 Hf1 Mo50') from [818, 817, 816, 815, 814, 813, 812, 811, 810] to [1259, 1257, 1254, 1250, 1245, 1239, 1232, 1224, 1215]\n",
      "Stitching 18 and 29 at ('NbTaWHf', 'Zr49 Hf1 Mo50') from [818, 817, 816, 815, 814, 813, 812, 811, 810] to [1349, 1347, 1344, 1340, 1335, 1329, 1322, 1314, 1305]\n",
      "Stitching 18 and 30 at ('NbTaWHf', 'Zr49 Hf1 Mo50') from [818, 817, 816, 815, 814, 813, 812, 811, 810] to [1394, 1392, 1389, 1385, 1380, 1374, 1367, 1359, 1350]\n",
      "Stitching 27 and 29 at ('NbTaWHf', 'Zr49 Hf1 Mo50') from [1259, 1257, 1254, 1250, 1245, 1239, 1232, 1224, 1215] to [1349, 1347, 1344, 1340, 1335, 1329, 1322, 1314, 1305]\n",
      "Stitching 27 and 30 at ('NbTaWHf', 'Zr49 Hf1 Mo50') from [1259, 1257, 1254, 1250, 1245, 1239, 1232, 1224, 1215] to [1394, 1392, 1389, 1385, 1380, 1374, 1367, 1359, 1350]\n",
      "Stitching 29 and 30 at ('NbTaWHf', 'Zr49 Hf1 Mo50') from [1349, 1347, 1344, 1340, 1335, 1329, 1322, 1314, 1305] to [1394, 1392, 1389, 1385, 1380, 1374, 1367, 1359, 1350]\n",
      "Stitching 9 and 19 at ('Mo80Nb10W10', 'TiTa2') from [413, 412, 411, 410, 409, 408, 407, 406, 405] to [863, 862, 861, 860, 859, 858, 857, 856, 855]\n",
      "Stitching 9 and 25 at ('Mo80Nb10W10', 'TiTa2') from [413, 412, 411, 410, 409, 408, 407, 406, 405] to [1133, 1132, 1131, 1130, 1129, 1128, 1127, 1126, 1125]\n",
      "Stitching 9 and 31 at ('Mo80Nb10W10', 'TiTa2') from [413, 412, 411, 410, 409, 408, 407, 406, 405] to [1439, 1438, 1436, 1433, 1429, 1424, 1418, 1411, 1403]\n",
      "Stitching 9 and 32 at ('Mo80Nb10W10', 'TiTa2') from [413, 412, 411, 410, 409, 408, 407, 406, 405] to [1484, 1483, 1481, 1478, 1474, 1469, 1463, 1456, 1448]\n",
      "Stitching 19 and 25 at ('Mo80Nb10W10', 'TiTa2') from [863, 862, 861, 860, 859, 858, 857, 856, 855] to [1133, 1132, 1131, 1130, 1129, 1128, 1127, 1126, 1125]\n",
      "Stitching 19 and 31 at ('Mo80Nb10W10', 'TiTa2') from [863, 862, 861, 860, 859, 858, 857, 856, 855] to [1439, 1438, 1436, 1433, 1429, 1424, 1418, 1411, 1403]\n",
      "Stitching 19 and 32 at ('Mo80Nb10W10', 'TiTa2') from [863, 862, 861, 860, 859, 858, 857, 856, 855] to [1484, 1483, 1481, 1478, 1474, 1469, 1463, 1456, 1448]\n",
      "Stitching 25 and 31 at ('Mo80Nb10W10', 'TiTa2') from [1133, 1132, 1131, 1130, 1129, 1128, 1127, 1126, 1125] to [1439, 1438, 1436, 1433, 1429, 1424, 1418, 1411, 1403]\n",
      "Stitching 25 and 32 at ('Mo80Nb10W10', 'TiTa2') from [1133, 1132, 1131, 1130, 1129, 1128, 1127, 1126, 1125] to [1484, 1483, 1481, 1478, 1474, 1469, 1463, 1456, 1448]\n",
      "Stitching 31 and 32 at ('Mo80Nb10W10', 'TiTa2') from [1439, 1438, 1436, 1433, 1429, 1424, 1418, 1411, 1403] to [1484, 1483, 1481, 1478, 1474, 1469, 1463, 1456, 1448]\n",
      "Stitching 10 and 20 at ('Mo80Nb10W10', 'Nb96Mo3W1') from [458, 457, 456, 455, 454, 453, 452, 451, 450] to [908, 907, 906, 905, 904, 903, 902, 901, 900]\n",
      "Stitching 10 and 26 at ('Mo80Nb10W10', 'Nb96Mo3W1') from [458, 457, 456, 455, 454, 453, 452, 451, 450] to [1178, 1177, 1176, 1175, 1174, 1173, 1172, 1171, 1170]\n",
      "Stitching 10 and 31 at ('Mo80Nb10W10', 'Nb96Mo3W1') from [458, 457, 456, 455, 454, 453, 452, 451, 450] to [1439, 1437, 1434, 1430, 1425, 1419, 1412, 1404, 1395]\n",
      "Stitching 10 and 33 at ('Mo80Nb10W10', 'Nb96Mo3W1') from [458, 457, 456, 455, 454, 453, 452, 451, 450] to [1529, 1528, 1526, 1523, 1519, 1514, 1508, 1501, 1493]\n",
      "Stitching 20 and 26 at ('Mo80Nb10W10', 'Nb96Mo3W1') from [908, 907, 906, 905, 904, 903, 902, 901, 900] to [1178, 1177, 1176, 1175, 1174, 1173, 1172, 1171, 1170]\n",
      "Stitching 20 and 31 at ('Mo80Nb10W10', 'Nb96Mo3W1') from [908, 907, 906, 905, 904, 903, 902, 901, 900] to [1439, 1437, 1434, 1430, 1425, 1419, 1412, 1404, 1395]\n",
      "Stitching 20 and 33 at ('Mo80Nb10W10', 'Nb96Mo3W1') from [908, 907, 906, 905, 904, 903, 902, 901, 900] to [1529, 1528, 1526, 1523, 1519, 1514, 1508, 1501, 1493]\n",
      "Stitching 26 and 31 at ('Mo80Nb10W10', 'Nb96Mo3W1') from [1178, 1177, 1176, 1175, 1174, 1173, 1172, 1171, 1170] to [1439, 1437, 1434, 1430, 1425, 1419, 1412, 1404, 1395]\n",
      "Stitching 26 and 33 at ('Mo80Nb10W10', 'Nb96Mo3W1') from [1178, 1177, 1176, 1175, 1174, 1173, 1172, 1171, 1170] to [1529, 1528, 1526, 1523, 1519, 1514, 1508, 1501, 1493]\n",
      "Stitching 31 and 33 at ('Mo80Nb10W10', 'Nb96Mo3W1') from [1439, 1437, 1434, 1430, 1425, 1419, 1412, 1404, 1395] to [1529, 1528, 1526, 1523, 1519, 1514, 1508, 1501, 1493]\n",
      "Stitching 11 and 21 at ('Mo80Nb10W10', 'Zr49 Hf1 Mo50') from [503, 502, 501, 500, 499, 498, 497, 496, 495] to [953, 952, 951, 950, 949, 948, 947, 946, 945]\n",
      "Stitching 11 and 27 at ('Mo80Nb10W10', 'Zr49 Hf1 Mo50') from [503, 502, 501, 500, 499, 498, 497, 496, 495] to [1223, 1222, 1221, 1220, 1219, 1218, 1217, 1216, 1215]\n",
      "Stitching 11 and 32 at ('Mo80Nb10W10', 'Zr49 Hf1 Mo50') from [503, 502, 501, 500, 499, 498, 497, 496, 495] to [1484, 1482, 1479, 1475, 1470, 1464, 1457, 1449, 1440]\n",
      "Stitching 11 and 33 at ('Mo80Nb10W10', 'Zr49 Hf1 Mo50') from [503, 502, 501, 500, 499, 498, 497, 496, 495] to [1529, 1527, 1524, 1520, 1515, 1509, 1502, 1494, 1485]\n",
      "Stitching 21 and 27 at ('Mo80Nb10W10', 'Zr49 Hf1 Mo50') from [953, 952, 951, 950, 949, 948, 947, 946, 945] to [1223, 1222, 1221, 1220, 1219, 1218, 1217, 1216, 1215]\n",
      "Stitching 21 and 32 at ('Mo80Nb10W10', 'Zr49 Hf1 Mo50') from [953, 952, 951, 950, 949, 948, 947, 946, 945] to [1484, 1482, 1479, 1475, 1470, 1464, 1457, 1449, 1440]\n",
      "Stitching 21 and 33 at ('Mo80Nb10W10', 'Zr49 Hf1 Mo50') from [953, 952, 951, 950, 949, 948, 947, 946, 945] to [1529, 1527, 1524, 1520, 1515, 1509, 1502, 1494, 1485]\n",
      "Stitching 27 and 32 at ('Mo80Nb10W10', 'Zr49 Hf1 Mo50') from [1223, 1222, 1221, 1220, 1219, 1218, 1217, 1216, 1215] to [1484, 1482, 1479, 1475, 1470, 1464, 1457, 1449, 1440]\n",
      "Stitching 27 and 33 at ('Mo80Nb10W10', 'Zr49 Hf1 Mo50') from [1223, 1222, 1221, 1220, 1219, 1218, 1217, 1216, 1215] to [1529, 1527, 1524, 1520, 1515, 1509, 1502, 1494, 1485]\n",
      "Stitching 32 and 33 at ('Mo80Nb10W10', 'Zr49 Hf1 Mo50') from [1484, 1482, 1479, 1475, 1470, 1464, 1457, 1449, 1440] to [1529, 1527, 1524, 1520, 1515, 1509, 1502, 1494, 1485]\n",
      "Stitching 12 and 22 at ('Nb96Mo3W1', 'TiTa2') from [540, 541, 542, 543, 544, 545, 546, 547, 548] to [990, 991, 992, 993, 994, 995, 996, 997, 998]\n",
      "Stitching 12 and 28 at ('Nb96Mo3W1', 'TiTa2') from [540, 541, 542, 543, 544, 545, 546, 547, 548] to [1260, 1261, 1262, 1263, 1264, 1265, 1266, 1267, 1268]\n",
      "Stitching 12 and 31 at ('Nb96Mo3W1', 'TiTa2') from [540, 541, 542, 543, 544, 545, 546, 547, 548] to [1395, 1396, 1397, 1398, 1399, 1400, 1401, 1402, 1403]\n",
      "Stitching 12 and 34 at ('Nb96Mo3W1', 'TiTa2') from [540, 541, 542, 543, 544, 545, 546, 547, 548] to [1538, 1546, 1553, 1559, 1564, 1568, 1571, 1573, 1574]\n",
      "Stitching 22 and 28 at ('Nb96Mo3W1', 'TiTa2') from [990, 991, 992, 993, 994, 995, 996, 997, 998] to [1260, 1261, 1262, 1263, 1264, 1265, 1266, 1267, 1268]\n",
      "Stitching 22 and 31 at ('Nb96Mo3W1', 'TiTa2') from [990, 991, 992, 993, 994, 995, 996, 997, 998] to [1395, 1396, 1397, 1398, 1399, 1400, 1401, 1402, 1403]\n",
      "Stitching 22 and 34 at ('Nb96Mo3W1', 'TiTa2') from [990, 991, 992, 993, 994, 995, 996, 997, 998] to [1538, 1546, 1553, 1559, 1564, 1568, 1571, 1573, 1574]\n",
      "Stitching 28 and 31 at ('Nb96Mo3W1', 'TiTa2') from [1260, 1261, 1262, 1263, 1264, 1265, 1266, 1267, 1268] to [1395, 1396, 1397, 1398, 1399, 1400, 1401, 1402, 1403]\n",
      "Stitching 28 and 34 at ('Nb96Mo3W1', 'TiTa2') from [1260, 1261, 1262, 1263, 1264, 1265, 1266, 1267, 1268] to [1538, 1546, 1553, 1559, 1564, 1568, 1571, 1573, 1574]\n",
      "Stitching 31 and 34 at ('Nb96Mo3W1', 'TiTa2') from [1395, 1396, 1397, 1398, 1399, 1400, 1401, 1402, 1403] to [1538, 1546, 1553, 1559, 1564, 1568, 1571, 1573, 1574]\n",
      "Stitching 13 and 23 at ('TiTa2', 'Zr49 Hf1 Mo50') from [593, 592, 591, 590, 589, 588, 587, 586, 585] to [1043, 1042, 1041, 1040, 1039, 1038, 1037, 1036, 1035]\n",
      "Stitching 13 and 29 at ('TiTa2', 'Zr49 Hf1 Mo50') from [593, 592, 591, 590, 589, 588, 587, 586, 585] to [1313, 1312, 1311, 1310, 1309, 1308, 1307, 1306, 1305]\n",
      "Stitching 13 and 32 at ('TiTa2', 'Zr49 Hf1 Mo50') from [593, 592, 591, 590, 589, 588, 587, 586, 585] to [1448, 1447, 1446, 1445, 1444, 1443, 1442, 1441, 1440]\n",
      "Stitching 13 and 34 at ('TiTa2', 'Zr49 Hf1 Mo50') from [593, 592, 591, 590, 589, 588, 587, 586, 585] to [1574, 1572, 1569, 1565, 1560, 1554, 1547, 1539, 1530]\n",
      "Stitching 23 and 29 at ('TiTa2', 'Zr49 Hf1 Mo50') from [1043, 1042, 1041, 1040, 1039, 1038, 1037, 1036, 1035] to [1313, 1312, 1311, 1310, 1309, 1308, 1307, 1306, 1305]\n",
      "Stitching 23 and 32 at ('TiTa2', 'Zr49 Hf1 Mo50') from [1043, 1042, 1041, 1040, 1039, 1038, 1037, 1036, 1035] to [1448, 1447, 1446, 1445, 1444, 1443, 1442, 1441, 1440]\n",
      "Stitching 23 and 34 at ('TiTa2', 'Zr49 Hf1 Mo50') from [1043, 1042, 1041, 1040, 1039, 1038, 1037, 1036, 1035] to [1574, 1572, 1569, 1565, 1560, 1554, 1547, 1539, 1530]\n",
      "Stitching 29 and 32 at ('TiTa2', 'Zr49 Hf1 Mo50') from [1313, 1312, 1311, 1310, 1309, 1308, 1307, 1306, 1305] to [1448, 1447, 1446, 1445, 1444, 1443, 1442, 1441, 1440]\n",
      "Stitching 29 and 34 at ('TiTa2', 'Zr49 Hf1 Mo50') from [1313, 1312, 1311, 1310, 1309, 1308, 1307, 1306, 1305] to [1574, 1572, 1569, 1565, 1560, 1554, 1547, 1539, 1530]\n",
      "Stitching 32 and 34 at ('TiTa2', 'Zr49 Hf1 Mo50') from [1448, 1447, 1446, 1445, 1444, 1443, 1442, 1441, 1440] to [1574, 1572, 1569, 1565, 1560, 1554, 1547, 1539, 1530]\n",
      "Stitching 14 and 24 at ('Nb96Mo3W1', 'Zr49 Hf1 Mo50') from [638, 637, 636, 635, 634, 633, 632, 631, 630] to [1088, 1087, 1086, 1085, 1084, 1083, 1082, 1081, 1080]\n",
      "Stitching 14 and 30 at ('Nb96Mo3W1', 'Zr49 Hf1 Mo50') from [638, 637, 636, 635, 634, 633, 632, 631, 630] to [1358, 1357, 1356, 1355, 1354, 1353, 1352, 1351, 1350]\n",
      "Stitching 14 and 33 at ('Nb96Mo3W1', 'Zr49 Hf1 Mo50') from [638, 637, 636, 635, 634, 633, 632, 631, 630] to [1493, 1492, 1491, 1490, 1489, 1488, 1487, 1486, 1485]\n",
      "Stitching 14 and 34 at ('Nb96Mo3W1', 'Zr49 Hf1 Mo50') from [638, 637, 636, 635, 634, 633, 632, 631, 630] to [1538, 1537, 1536, 1535, 1534, 1533, 1532, 1531, 1530]\n",
      "Stitching 24 and 30 at ('Nb96Mo3W1', 'Zr49 Hf1 Mo50') from [1088, 1087, 1086, 1085, 1084, 1083, 1082, 1081, 1080] to [1358, 1357, 1356, 1355, 1354, 1353, 1352, 1351, 1350]\n",
      "Stitching 24 and 33 at ('Nb96Mo3W1', 'Zr49 Hf1 Mo50') from [1088, 1087, 1086, 1085, 1084, 1083, 1082, 1081, 1080] to [1493, 1492, 1491, 1490, 1489, 1488, 1487, 1486, 1485]\n",
      "Stitching 24 and 34 at ('Nb96Mo3W1', 'Zr49 Hf1 Mo50') from [1088, 1087, 1086, 1085, 1084, 1083, 1082, 1081, 1080] to [1538, 1537, 1536, 1535, 1534, 1533, 1532, 1531, 1530]\n",
      "Stitching 30 and 33 at ('Nb96Mo3W1', 'Zr49 Hf1 Mo50') from [1358, 1357, 1356, 1355, 1354, 1353, 1352, 1351, 1350] to [1493, 1492, 1491, 1490, 1489, 1488, 1487, 1486, 1485]\n",
      "Stitching 30 and 34 at ('Nb96Mo3W1', 'Zr49 Hf1 Mo50') from [1358, 1357, 1356, 1355, 1354, 1353, 1352, 1351, 1350] to [1538, 1537, 1536, 1535, 1534, 1533, 1532, 1531, 1530]\n",
      "Stitching 33 and 34 at ('Nb96Mo3W1', 'Zr49 Hf1 Mo50') from [1493, 1492, 1491, 1490, 1489, 1488, 1487, 1486, 1485] to [1538, 1537, 1536, 1535, 1534, 1533, 1532, 1531, 1530]\n"
     ]
    }
   ],
   "source": [
    "for stitchingBinary, ternaryPairList in stitchingBinaries.items():\n",
    "    for ternaryPair in ternaryPairList:\n",
    "        ternary1, ternary2 = ternaryPair[0], ternaryPair[1]\n",
    "        stitching1 = stitching.findStitchingPoints_py(\n",
    "            3, ndiv, \n",
    "            components=ternaries[ternary1],\n",
    "            offset=ternary1*len(gridAtt)\n",
    "            )[\"-\".join(stitchingBinary)]\n",
    "        stitching2 = stitching.findStitchingPoints_py(\n",
    "            3, ndiv, \n",
    "            components=ternaries[ternary2],\n",
    "            offset=ternary2*len(gridAtt)\n",
    "            )[\"-\".join(stitchingBinary)]\n",
    "        print(f\"Stitching {ternary1} and {ternary2} at {stitchingBinary} from {stitching1} to {stitching2}\")\n",
    "        for i, j in zip(stitching1, stitching2):\n",
    "            edges.append((i, j))\n",
    "            graphNS[i].append(j)"
   ]
  },
  {
   "cell_type": "code",
   "execution_count": null,
   "metadata": {},
   "outputs": [
    {
     "data": {
      "text/plain": [
       "9450"
      ]
     },
     "execution_count": 71,
     "metadata": {},
     "output_type": "execute_result"
    }
   ],
   "source": [
    "len(edges)"
   ]
  },
  {
   "cell_type": "code",
   "execution_count": null,
   "metadata": {},
   "outputs": [],
   "source": [
    "# Plot is quite interesting, being a much more complex version of the last one, but it has too many points for a small Codespace VM to display smootly. You can remove `#` and \n",
    "# plotGraph(edges)\n",
    "clear_output()"
   ]
  },
  {
   "cell_type": "code",
   "execution_count": null,
   "metadata": {},
   "outputs": [
    {
     "name": "stdout",
     "output_type": "stream",
     "text": [
      "['Ti', 'Zr', 'Hf', 'W', 'Nb', 'Ta', 'Mo']\n",
      "Loaded TDB file with phases considered: ['LAVES_C14', 'LAVES_C36', 'LIQUID', 'BCC_A2', 'HCP_A3', 'FCC_A1', 'LAVES_C15']\n"
     ]
    }
   ],
   "source": [
    "from pycalphad import Database\n",
    "dbf = Database(\"CrHfMoNbTaTiVWZr_9element_Feb2023.tdb\")\n",
    "phases = list(set(dbf.phases.keys()))\n",
    "print(elementalSpaceComponents)\n",
    "print(f'Loaded TDB file with phases considered: {phases}')"
   ]
  },
  {
   "cell_type": "code",
   "execution_count": null,
   "metadata": {},
   "outputs": [],
   "source": [
    "from myPycalphadCallable import equilibrium_callable"
   ]
  },
  {
   "cell_type": "code",
   "execution_count": null,
   "metadata": {},
   "outputs": [
    {
     "name": "stdout",
     "output_type": "stream",
     "text": [
      "[0.0, 0.0, 0.25, 0.25, 0.25, 0.25, 0.0]\n"
     ]
    },
    {
     "data": {
      "text/plain": [
       "['HCP_A3', 'BCC_A2']"
      ]
     },
     "execution_count": 75,
     "metadata": {},
     "output_type": "execute_result"
    }
   ],
   "source": [
    "print(compositions[0])\n",
    "equilibrium_callable(compositions[0])"
   ]
  },
  {
   "cell_type": "code",
   "execution_count": null,
   "metadata": {},
   "outputs": [
    {
     "name": "stdout",
     "output_type": "stream",
     "text": [
      "Starting nodes: [0, 90, 1527, 1538, 335, 3, 893, 179, 1223, 773, 143, 13, 646, 1499, 918]\n",
      "Starting node: [0.0, 0.0, 0.25, 0.25, 0.25, 0.25, 0.0]\n",
      "Starting node: [0.3333333333333333, 0.0, 0.0, 0.0, 0.0, 0.6666666666666666, 0.0]\n",
      "Starting node: [0.0, 0.06125, 0.00125, 0.08750000000000001, 0.08750000000000001, 0.0, 0.7625000000000001]\n",
      "Starting node: [0.0, 0.0, 0.0, 0.01, 0.96, 0.0, 0.03]\n",
      "Starting node: [0.125, 0.125, 0.09375, 0.0975, 0.45375, 0.09375, 0.01125]\n",
      "Starting node: [0.018750000000000003, 0.0, 0.5125, 0.15625, 0.15625, 0.15625, 0.0]\n",
      "Starting node: [0.03125, 0.0, 0.59375, 0.037500000000000006, 0.037500000000000006, 0.0, 0.30000000000000004]\n",
      "Starting node: [0.5, 0.5, 0.0, 0.0, 0.0, 0.0, 0.0]\n",
      "Starting node: [0.0, 0.0, 0.0, 0.1, 0.1, 0.0, 0.8]\n",
      "Starting node: [0.0, 0.0, 0.25, 0.25, 0.25, 0.25, 0.0]\n",
      "Starting node: [0.05, 0.0, 0.95, 0.0, 0.0, 0.0, 0.0]\n",
      "Starting node: [0.0875, 0.0625, 0.56875, 0.09375, 0.09375, 0.09375, 0.0]\n",
      "Starting node: [0.0625, 0.0625, 0.0, 0.00875, 0.84, 0.0, 0.02625]\n",
      "Starting node: [0.0, 0.1225, 0.0025, 0.01875, 0.6124999999999999, 0.0, 0.24375000000000002]\n",
      "Starting node: [0.0125, 0.0, 0.2375, 0.01875, 0.6124999999999999, 0.0, 0.11875000000000001]\n"
     ]
    }
   ],
   "source": [
    "startingNodes = [0, 90, 1527, 1538] + random.sample(range(len(compositions)), 11)\n",
    "print(f\"Starting nodes: {startingNodes}\")\n",
    "\n",
    "for startingNode in startingNodes:\n",
    "    print(f\"Starting node: {compositions[startingNode]}\")"
   ]
  },
  {
   "cell_type": "code",
   "execution_count": null,
   "metadata": {},
   "outputs": [],
   "source": [
    "from tqdm.contrib.concurrent import process_map"
   ]
  },
  {
   "cell_type": "code",
   "execution_count": null,
   "metadata": {},
   "outputs": [],
   "source": [
    "gridFeasible = [None]*len(compositions)\n",
    "queue = startingNodes.copy()\n",
    "explored = set()\n",
    "calcCount = 0"
   ]
  },
  {
   "cell_type": "code",
   "execution_count": null,
   "metadata": {},
   "outputs": [
    {
     "name": "stdout",
     "output_type": "stream",
     "text": [
      "Queue: [0, 90, 1527, 1538, 335, 3, 893, 179, 1223, 773, 143, 13, 646, 1499, 918]\n"
     ]
    },
    {
     "data": {
      "application/vnd.jupyter.widget-view+json": {
       "model_id": "a2fd6496cdce46efbf37a05a33473aae",
       "version_major": 2,
       "version_minor": 0
      },
      "text/plain": [
       "  0%|          | 0/15 [00:00<?, ?it/s]"
      ]
     },
     "metadata": {},
     "output_type": "display_data"
    },
    {
     "name": "stdout",
     "output_type": "stream",
     "text": [
      "Calculations done: 15    | Explored points: 51   \n",
      "Queue: [1, 1537, 2, 4, 5, 645, 9, 1546, 11, 12, 1033, 142, 271, 14, 653, 911, 787, 20, 277, 406, 151, 21, 793, 917, 919, 924, 925, 547, 808, 943, 177, 178, 697, 187, 703, 832, 322, 838, 327, 328, 583, 1222, 1483, 334, 1231, 592, 336, 1490, 1491, 341, 342, 1498, 91, 1500, 222, 1506, 99, 1507, 910, 742, 358, 232, 748, 493, 367, 1528, 637, 638]\n"
     ]
    },
    {
     "data": {
      "application/vnd.jupyter.widget-view+json": {
       "model_id": "917cbb1521c6406fa19c9b83a9c87c2d",
       "version_major": 2,
       "version_minor": 0
      },
      "text/plain": [
       "  0%|          | 0/68 [00:00<?, ?it/s]"
      ]
     },
     "metadata": {},
     "output_type": "display_data"
    },
    {
     "name": "stdout",
     "output_type": "stream",
     "text": [
      "Calculations done: 83    | Explored points: 216  \n",
      "Queue: [1536, 6, 1031, 1030, 1545, 10, 1032, 1543, 1544, 15, 17, 1553, 18, 19, 22, 535, 26, 27, 28, 1050, 538, 546, 1570, 1574, 555, 1075, 1077, 1079, 1088, 580, 581, 1095, 1102, 591, 1108, 600, 92, 1120, 100, 1125, 1126, 107, 1135, 625, 627, 629, 636, 644, 652, 141, 1165, 1169, 659, 150, 158, 670, 672, 682, 174, 175, 176, 689, 690, 696, 698, 1210, 195, 708, 712, 713, 1230, 1238, 727, 729, 730, 219, 220, 734, 735, 741, 231, 1255, 747, 240, 753, 1267, 757, 1275, 772, 779, 780, 272, 786, 1300, 276, 279, 280, 792, 285, 798, 1312, 802, 805, 1320, 817, 824, 825, 318, 831, 319, 1345, 321, 320, 837, 326, 329, 330, 843, 333, 847, 337, 850, 852, 340, 854, 343, 1365, 1366, 346, 347, 348, 865, 355, 356, 1390, 366, 375, 1410, 901, 902, 903, 909, 912, 400, 403, 404, 407, 920, 926, 415, 930, 931, 940, 1455, 1480, 1481, 1489, 1492, 1497, 1501, 1505, 1000, 1512, 490, 1513, 1005, 1008, 1525, 1014, 1015, 1526]\n"
     ]
    },
    {
     "data": {
      "application/vnd.jupyter.widget-view+json": {
       "model_id": "593d883aa56447f0993a5cf406c746e3",
       "version_major": 2,
       "version_minor": 0
      },
      "text/plain": [
       "  0%|          | 0/171 [00:00<?, ?it/s]"
      ]
     },
     "metadata": {},
     "output_type": "display_data"
    },
    {
     "name": "stdout",
     "output_type": "stream",
     "text": [
      "Calculations done: 254   | Explored points: 465  \n",
      "Queue: [1026, 1027, 1028, 1029, 1542, 7, 1550, 1551, 1552, 16, 1041, 23, 24, 1559, 25, 1049, 29, 1566, 31, 32, 33, 34, 1057, 1058, 545, 1567, 554, 1071, 1072, 562, 563, 1074, 1086, 576, 577, 578, 579, 1094, 1096, 1101, 590, 1107, 599, 1113, 1114, 1116, 93, 1117, 607, 101, 1127, 108, 621, 622, 1136, 624, 114, 1142, 1143, 635, 643, 1161, 1162, 651, 140, 1164, 1166, 658, 1172, 149, 1173, 664, 666, 667, 1179, 157, 1180, 1181, 1182, 1188, 681, 170, 171, 172, 173, 1195, 1201, 1206, 1207, 1209, 202, 715, 722, 725, 726, 216, 217, 731, 733, 738, 1251, 740, 1252, 1254, 746, 239, 752, 756, 247, 760, 1274, 1278, 769, 1282, 771, 770, 1285, 776, 777, 778, 1291, 1296, 273, 785, 1297, 275, 791, 281, 284, 797, 288, 801, 292, 1319, 1327, 816, 815, 823, 317, 1342, 1341, 325, 842, 332, 339, 1364, 345, 857, 1372, 349, 351, 352, 353, 1378, 866, 1383, 873, 1386, 1387, 365, 1396, 374, 1405, 382, 1409, 900, 1413, 904, 1417, 1420, 397, 396, 913, 408, 927, 416, 932, 423, 936, 1454, 1462, 1477, 1478, 1488, 1496, 991, 1504, 992, 486, 1511, 487, 1001, 491, 1004, 1517, 1518, 1009, 1522, 1523, 1012, 1016, 1021, 1534]\n"
     ]
    },
    {
     "data": {
      "application/vnd.jupyter.widget-view+json": {
       "model_id": "e87b2d57193047b3a7618521177ab6ba",
       "version_major": 2,
       "version_minor": 0
      },
      "text/plain": [
       "  0%|          | 0/203 [00:00<?, ?it/s]"
      ]
     },
     "metadata": {},
     "output_type": "display_data"
    },
    {
     "name": "stdout",
     "output_type": "stream",
     "text": [
      "Calculations done: 457   | Explored points: 728  \n",
      "Queue: [1024, 1025, 1541, 8, 1549, 1040, 1556, 1557, 1558, 1048, 1561, 1562, 1563, 1564, 30, 1056, 544, 35, 36, 37, 38, 1063, 1064, 553, 1066, 1067, 1068, 550, 1070, 558, 561, 52, 565, 568, 569, 571, 60, 1085, 572, 575, 573, 574, 67, 68, 1093, 73, 74, 1100, 589, 78, 79, 1106, 598, 1111, 1112, 606, 94, 97, 613, 102, 1128, 105, 618, 617, 616, 109, 620, 112, 1137, 115, 118, 1144, 120, 634, 123, 1149, 1150, 642, 1156, 1157, 1158, 1160, 650, 1163, 139, 657, 1170, 148, 661, 1174, 662, 663, 156, 1183, 163, 1187, 1189, 1190, 166, 168, 165, 167, 1196, 1202, 717, 208, 723, 724, 213, 212, 732, 1250, 739, 745, 1261, 1262, 751, 755, 1270, 759, 246, 1273, 762, 1271, 253, 1279, 767, 1281, 1286, 775, 1288, 1292, 1293, 783, 784, 274, 790, 282, 283, 796, 289, 291, 1318, 295, 298, 1326, 1333, 1336, 1337, 1338, 316, 324, 1363, 858, 1371, 1377, 867, 1381, 1382, 874, 880, 1397, 373, 381, 1406, 1408, 388, 1414, 391, 1416, 393, 905, 392, 395, 1421, 1423, 1426, 409, 417, 424, 937, 1453, 430, 1461, 1468, 1473, 460, 1487, 468, 474, 475, 481, 993, 482, 483, 488, 1002, 1003, 1010, 1011, 1017, 1018, 1533, 1022, 1023]\n"
     ]
    },
    {
     "data": {
      "application/vnd.jupyter.widget-view+json": {
       "model_id": "5e2db2f7c747412f9df1cb4528fca9ce",
       "version_major": 2,
       "version_minor": 0
      },
      "text/plain": [
       "  0%|          | 0/205 [00:00<?, ?it/s]"
      ]
     },
     "metadata": {},
     "output_type": "display_data"
    },
    {
     "name": "stdout",
     "output_type": "stream",
     "text": [
      "Calculations done: 662   | Explored points: 961  \n",
      "Queue: [1540, 1548, 1039, 1555, 1047, 541, 542, 543, 1055, 1061, 1062, 39, 552, 40, 41, 549, 551, 559, 560, 567, 1084, 1092, 1099, 588, 1105, 82, 597, 605, 96, 610, 611, 612, 103, 104, 1129, 615, 619, 110, 111, 1138, 116, 117, 121, 633, 1145, 122, 125, 1151, 1152, 641, 127, 1155, 649, 138, 655, 656, 147, 1175, 155, 1184, 161, 162, 160, 1191, 1197, 1203, 1272, 252, 766, 1280, 258, 262, 263, 1287, 774, 782, 290, 1317, 296, 297, 301, 1325, 303, 1330, 307, 1332, 1331, 1335, 315, 1362, 1370, 859, 1376, 868, 875, 881, 886, 891, 380, 895, 1407, 386, 899, 387, 1415, 906, 1422, 914, 1427, 1428, 1431, 410, 418, 425, 1452, 431, 436, 1460, 1467, 451, 452, 461, 469, 476, 477, 1532]\n"
     ]
    },
    {
     "data": {
      "application/vnd.jupyter.widget-view+json": {
       "model_id": "46a21da41dd144b1bab04657afc0ac8d",
       "version_major": 2,
       "version_minor": 0
      },
      "text/plain": [
       "  0%|          | 0/126 [00:00<?, ?it/s]"
      ]
     },
     "metadata": {},
     "output_type": "display_data"
    },
    {
     "name": "stdout",
     "output_type": "stream",
     "text": [
      "Calculations done: 788   | Explored points: 1099 \n",
      "Queue: [640, 129, 130, 257, 261, 648, 265, 137, 1547, 907, 1038, 1554, 146, 915, 1046, 1176, 1432, 154, 1435, 540, 411, 1054, 1185, 419, 1060, 1316, 1192, 42, 43, 1451, 1324, 302, 426, 432, 306, 1459, 437, 310, 566, 441, 1466, 1083, 1472, 1091, 453, 1098, 587, 462, 1361, 596, 85, 470, 471, 1369, 604, 860, 478, 95, 869, 1130, 876, 882, 1139, 887, 632, 1146, 892, 765, 126]\n"
     ]
    },
    {
     "data": {
      "application/vnd.jupyter.widget-view+json": {
       "model_id": "bcef9f2f53ba4a01ab1d8a491e10026a",
       "version_major": 2,
       "version_minor": 0
      },
      "text/plain": [
       "  0%|          | 0/69 [00:00<?, ?it/s]"
      ]
     },
     "metadata": {},
     "output_type": "display_data"
    },
    {
     "name": "stdout",
     "output_type": "stream",
     "text": [
      "Calculations done: 857   | Explored points: 1176 \n",
      "Queue: [132, 133, 264, 136, 267, 268, 908, 1037, 145, 916, 153, 412, 1436, 1438, 1053, 1186, 1315, 420, 1193, 1323, 44, 433, 438, 442, 1082, 445, 454, 463, 87, 603, 870, 1140, 1147]\n"
     ]
    },
    {
     "data": {
      "application/vnd.jupyter.widget-view+json": {
       "model_id": "be6d05318faa44d4b60eb1ce128e1fe6",
       "version_major": 2,
       "version_minor": 0
      },
      "text/plain": [
       "  0%|          | 0/33 [00:00<?, ?it/s]"
      ]
     },
     "metadata": {},
     "output_type": "display_data"
    },
    {
     "name": "stdout",
     "output_type": "stream",
     "text": [
      "Calculations done: 890   | Explored points: 1218 \n",
      "Queue: [448, 961, 421, 134, 135, 871, 455, 269, 144, 464, 1141, 952, 443, 1148, 152, 413, 159]\n"
     ]
    },
    {
     "data": {
      "application/vnd.jupyter.widget-view+json": {
       "model_id": "47318c8b4ab54eaeb51dd1ffb48b661b",
       "version_major": 2,
       "version_minor": 0
      },
      "text/plain": [
       "  0%|          | 0/17 [00:00<?, ?it/s]"
      ]
     },
     "metadata": {},
     "output_type": "display_data"
    },
    {
     "name": "stdout",
     "output_type": "stream",
     "text": [
      "Calculations done: 907   | Explored points: 1238 \n",
      "Queue: [456, 457, 1133, 502]\n"
     ]
    },
    {
     "data": {
      "application/vnd.jupyter.widget-view+json": {
       "model_id": "2de4b1ffdbc248baa13908f65e5590a1",
       "version_major": 2,
       "version_minor": 0
      },
      "text/plain": [
       "  0%|          | 0/4 [00:00<?, ?it/s]"
      ]
     },
     "metadata": {},
     "output_type": "display_data"
    },
    {
     "name": "stdout",
     "output_type": "stream",
     "text": [
      "Calculations done: 911   | Explored points: 1241 \n",
      "Queue: [465]\n",
      "Calculations done: 912   | Explored points: 1242 \n"
     ]
    }
   ],
   "source": [
    "while len(queue)>0:\n",
    "    print(f\"Queue: {queue}\")\n",
    "    # Calculate feasibilities of the current queue\n",
    "    elPositions = [compositions[i] for i in queue]\n",
    "    if len(queue)>3:\n",
    "        phases = process_map(equilibrium_callable, elPositions, max_workers=4)\n",
    "    else:\n",
    "        phases = [equilibrium_callable(elP) for elP in elPositions]\n",
    "    feasibilities = [len(set(p) & set(['LAVES_C15', 'LAVES_C36', 'LAVES_C14', 'LIQUID']))==0 and p!=[] for p in phases]\n",
    "\n",
    "    calcCount += len(feasibilities)\n",
    "    explored = explored.union(queue)\n",
    "\n",
    "    # Create next queue based on neighbors of feasible points\n",
    "    nextQueue = set()\n",
    "    nextQueuePlusEquivalent = set()\n",
    "    for f, i in zip(feasibilities, queue):\n",
    "        # Explored point\n",
    "        gridFeasible[i] = f\n",
    "\n",
    "        # And equivalent explored points based on system stitching\n",
    "        explored = explored.union(graphNS[i])\n",
    "        for eq in graphNS[i]:\n",
    "            gridFeasible[eq] = f\n",
    "\n",
    "        # Expand to neighbors of the point and equivalent points (only if the node has been feasible)\n",
    "        if f:\n",
    "            # Node neighbors in the same subsystem\n",
    "            for n in graphN[i]:\n",
    "                if n not in explored and n not in nextQueuePlusEquivalent:\n",
    "                    nextQueue.add(n)\n",
    "                    nextQueuePlusEquivalent = nextQueuePlusEquivalent.union([n] + graphNS[n])\n",
    "            # Equivalent nodes neighbors in other subsystems\n",
    "            for eq in graphNS[i]:\n",
    "                for n in graphN[eq]:\n",
    "                    if n not in explored and n not in nextQueuePlusEquivalent:\n",
    "                        nextQueue.add(n)\n",
    "                        nextQueuePlusEquivalent = nextQueuePlusEquivalent.union([n] + graphNS[n])\n",
    "\n",
    "    print(f\"Calculations done: {calcCount:<5} | Explored points: {len(explored):<5}\")\n",
    "    queue = list(nextQueue)"
   ]
  },
  {
   "cell_type": "markdown",
   "metadata": {},
   "source": [
    "You should see around 930-950 calculations done and around 1250 points explored (thanks to equivalence of stitching points)."
   ]
  },
  {
   "cell_type": "code",
   "execution_count": null,
   "metadata": {},
   "outputs": [
    {
     "name": "stdout",
     "output_type": "stream",
     "text": [
      "Feasible points: 1039 out of 1575\n"
     ]
    }
   ],
   "source": [
    "feasibleCount = 0\n",
    "for f in gridFeasible:\n",
    "    if f:\n",
    "        feasibleCount += 1\n",
    "print(f\"Feasible points: {feasibleCount} out of {len(gridFeasible)}\")"
   ]
  },
  {
   "cell_type": "markdown",
   "metadata": {},
   "source": [
    "Out of the explored points, around 1040 should be feasible (i.e., satisfy the equilibrium constraint)."
   ]
  },
  {
   "cell_type": "code",
   "execution_count": null,
   "metadata": {},
   "outputs": [],
   "source": [
    "# You can double check the feasibility of the points by running the following code, it is skipped here to save time during the tutorial\n",
    "\n",
    "#gridPhasesComplete = process_map(equilibrium_callable, compositions)\n",
    "\n",
    "#gridFeasibleComplete = [len(set(p) & set(['LAVES_C15', 'LAVES_C36', 'LAVES_C14', 'LIQUID']))==0 and p!=[] for p in gridPhasesComplete]\n",
    "#print(sum(gridFeasibleComplete))"
   ]
  },
  {
   "cell_type": "code",
   "execution_count": null,
   "metadata": {},
   "outputs": [
    {
     "data": {
      "text/plain": [
       "1575"
      ]
     },
     "execution_count": 71,
     "metadata": {},
     "output_type": "execute_result"
    }
   ],
   "source": []
  },
  {
   "cell_type": "markdown",
   "metadata": {},
   "source": [
    "## Adding More Constraints"
   ]
  },
  {
   "cell_type": "code",
   "execution_count": null,
   "metadata": {},
   "outputs": [],
   "source": [
    "import pqam_rmsadtandoc2023\n",
    "\n",
    "def c2rmsad(point):\n",
    "    formula = ' '.join([f'{c}{p}' for c, p in zip(elementalSpaceComponents, point)])\n",
    "    return pqam_rmsadtandoc2023.predict(formula)"
   ]
  },
  {
   "cell_type": "code",
   "execution_count": null,
   "metadata": {},
   "outputs": [
    {
     "name": "stdout",
     "output_type": "stream",
     "text": [
      "[0.0, 0.0, 0.25, 0.25, 0.25, 0.25, 0.0]\n"
     ]
    },
    {
     "data": {
      "text/plain": [
       "0.11816658059128823"
      ]
     },
     "execution_count": 65,
     "metadata": {},
     "output_type": "execute_result"
    }
   ],
   "source": [
    "print(compositions[0])\n",
    "c2rmsad(compositions[0])"
   ]
  },
  {
   "cell_type": "code",
   "execution_count": null,
   "metadata": {},
   "outputs": [
    {
     "name": "stdout",
     "output_type": "stream",
     "text": [
      "Average RMSAD: 0.16141834794438295\n"
     ]
    }
   ],
   "source": [
    "avgRMSAD = sum([c2rmsad(p) for p in compositions])/len(compositions)\n",
    "print(f\"Average RMSAD: {avgRMSAD}\")"
   ]
  },
  {
   "cell_type": "code",
   "execution_count": null,
   "metadata": {},
   "outputs": [
    {
     "name": "stdout",
     "output_type": "stream",
     "text": [
      "Starting node (0): [0.0, 0.0, 0.25, 0.25, 0.25, 0.25, 0.0]\n",
      "Starting node (90): [0.3333333333333333, 0.0, 0.0, 0.0, 0.0, 0.6666666666666666, 0.0]\n",
      "Starting node (742): [0.05416666666666667, 0.0, 0.39375, 0.15625, 0.15625, 0.23958333333333331, 0.0]\n",
      "Starting node (799): [0.025, 0.0, 0.6, 0.125, 0.125, 0.125, 0.0]\n",
      "Starting node (1048): [0.17291666666666666, 0.18375, 0.1225, 0.0, 0.0, 0.3333333333333333, 0.1875]\n",
      "Starting node (1070): [0.03125, 0.18375, 0.5975, 0.0, 0.0, 0.0, 0.1875]\n",
      "Starting node (1538): [0.0, 0.0, 0.0, 0.01, 0.96, 0.0, 0.03]\n",
      "Starting node (680): [0.0, 0.0, 0.15625, 0.19375, 0.19375, 0.15625, 0.30000000000000004]\n",
      "Starting node (697): [0.0125, 0.0, 0.39375, 0.16875, 0.16875, 0.15625, 0.1]\n",
      "Starting node (106): [0.10625, 0.0625, 0.8312499999999999, 0.0, 0.0, 0.0, 0.0]\n",
      "Starting node (326): [0.0625, 0.0625, 0.0625, 0.06875, 0.6625, 0.0625, 0.01875]\n",
      "Starting node (276): [0.08333333333333333, 0.0, 0.1875, 0.1875, 0.1875, 0.35416666666666663, 0.0]\n",
      "Starting node (690): [0.00625, 0.0, 0.30625, 0.2, 0.2, 0.1875, 0.1]\n",
      "Starting node (1148): [0.0, 0.0, 0.0625, 0.1375, 0.1375, 0.0625, 0.6000000000000001]\n",
      "Starting node (683): [0.0, 0.0, 0.25, 0.25, 0.25, 0.25, 0.0]\n",
      "Starting node (1437): [0.0, 0.0, 0.0, 0.08875000000000001, 0.20750000000000002, 0.0, 0.7037500000000001]\n",
      "Starting node (502): [0.0, 0.06125, 0.00125, 0.08750000000000001, 0.08750000000000001, 0.0, 0.7625000000000001]\n",
      "Starting node (335): [0.125, 0.125, 0.09375, 0.0975, 0.45375, 0.09375, 0.01125]\n",
      "Starting node (3): [0.018750000000000003, 0.0, 0.5125, 0.15625, 0.15625, 0.15625, 0.0]\n",
      "Starting node (893): [0.03125, 0.0, 0.59375, 0.037500000000000006, 0.037500000000000006, 0.0, 0.30000000000000004]\n"
     ]
    }
   ],
   "source": [
    "startingNodes = [0, 90, 742, 799, 1048, 1070, 1538] + random.sample(range(len(compositions)), 13)\n",
    "\n",
    "for startingNode in startingNodes:\n",
    "    print(f\"Starting node ({startingNode}): {compositions[startingNode]}\")"
   ]
  },
  {
   "cell_type": "code",
   "execution_count": null,
   "metadata": {},
   "outputs": [
    {
     "name": "stdout",
     "output_type": "stream",
     "text": [
      "Minimum RMSAD: 0.2\n"
     ]
    }
   ],
   "source": [
    "gridFeasible = [None]*len(compositions)\n",
    "queue = startingNodes.copy()\n",
    "explored = set()\n",
    "calcCount = 0\n",
    "\n",
    "minRMSAD = 0.2\n",
    "print(f\"Minimum RMSAD: {minRMSAD}\")"
   ]
  },
  {
   "cell_type": "code",
   "execution_count": null,
   "metadata": {},
   "outputs": [
    {
     "name": "stdout",
     "output_type": "stream",
     "text": [
      "Queue: [0, 90, 742, 799, 1048, 1070, 1538, 680, 697, 106, 326, 276, 690, 1148, 683, 1437, 502, 335, 3, 893]\n",
      "Calculations done: 3     | Explored points: 62   \n",
      "Queue: [97, 98, 803, 195, 838, 105, 843, 142, 113, 150, 793, 187, 798]\n"
     ]
    },
    {
     "data": {
      "application/vnd.jupyter.widget-view+json": {
       "model_id": "ea16fcbf24bd46e58a6ad1fd67c06620",
       "version_major": 2,
       "version_minor": 0
      },
      "text/plain": [
       "  0%|          | 0/12 [00:00<?, ?it/s]"
      ]
     },
     "metadata": {},
     "output_type": "display_data"
    },
    {
     "name": "stdout",
     "output_type": "stream",
     "text": [
      "Calculations done: 15    | Explored points: 96   \n",
      "Queue: [898, 1030, 1032, 141, 149, 792, 157, 797, 802, 805, 806, 940, 944, 1075, 1077, 831, 832, 837, 842, 202, 847, 96, 1120, 104, 112, 119, 760, 763, 764, 895]\n"
     ]
    },
    {
     "data": {
      "application/vnd.jupyter.widget-view+json": {
       "model_id": "df52adb92a794b4ea4b8773e8aa41ec1",
       "version_major": 2,
       "version_minor": 0
      },
      "text/plain": [
       "  0%|          | 0/24 [00:00<?, ?it/s]"
      ]
     },
     "metadata": {},
     "output_type": "display_data"
    },
    {
     "name": "stdout",
     "output_type": "stream",
     "text": [
      "Calculations done: 39    | Explored points: 140  \n",
      "Queue: [1026, 1027, 1029, 1031, 140, 148, 791, 796, 156, 801, 163, 164, 936, 808, 809, 1071, 1072, 1074, 208, 850, 1116, 1117, 95, 103, 111, 756, 757, 118, 761, 891, 124]\n"
     ]
    },
    {
     "data": {
      "application/vnd.jupyter.widget-view+json": {
       "model_id": "6310d805d87247429447c2edecac84bb",
       "version_major": 2,
       "version_minor": 0
      },
      "text/plain": [
       "  0%|          | 0/26 [00:00<?, ?it/s]"
      ]
     },
     "metadata": {},
     "output_type": "display_data"
    },
    {
     "name": "stdout",
     "output_type": "stream",
     "text": [
      "Calculations done: 65    | Explored points: 179  \n",
      "Queue: [128, 1025, 1028, 139, 147, 790, 155, 162, 931, 932, 168, 169, 937, 1067, 1066, 1068, 213, 1111, 1112, 1113, 94, 102, 110, 751, 752, 753, 887, 117, 886, 758, 123, 892, 1021, 1022, 1023]\n"
     ]
    },
    {
     "data": {
      "application/vnd.jupyter.widget-view+json": {
       "model_id": "78a5f0faa69f4e5a8ba0962653abb66a",
       "version_major": 2,
       "version_minor": 0
      },
      "text/plain": [
       "  0%|          | 0/28 [00:00<?, ?it/s]"
      ]
     },
     "metadata": {},
     "output_type": "display_data"
    },
    {
     "name": "stdout",
     "output_type": "stream",
     "text": [
      "Calculations done: 93    | Explored points: 221  \n",
      "Queue: [131, 138, 146, 154, 925, 161, 1061, 1062, 167, 1063, 172, 1069, 1106, 1107, 1108, 217, 93, 101, 122, 745, 746, 747, 748, 109, 880, 881, 754, 116, 1015, 1016, 1017, 1018, 127]\n"
     ]
    },
    {
     "data": {
      "application/vnd.jupyter.widget-view+json": {
       "model_id": "6aef48f202e74d4397fa615d6674ea83",
       "version_major": 2,
       "version_minor": 0
      },
      "text/plain": [
       "  0%|          | 0/22 [00:00<?, ?it/s]"
      ]
     },
     "metadata": {},
     "output_type": "display_data"
    },
    {
     "name": "stdout",
     "output_type": "stream",
     "text": [
      "Calculations done: 115   | Explored points: 263  \n",
      "Queue: [130, 133, 1054, 1055, 1056, 1057, 1060, 166, 1064, 171, 175, 1099, 1100, 1105, 212, 216, 92, 220, 738, 739, 100, 740, 741, 873, 108, 1010, 115, 1012, 1011, 121, 126]\n"
     ]
    },
    {
     "data": {
      "application/vnd.jupyter.widget-view+json": {
       "model_id": "813a4ecbd30e4847bf43194c8f0c92ad",
       "version_major": 2,
       "version_minor": 0
      },
      "text/plain": [
       "  0%|          | 0/16 [00:00<?, ?it/s]"
      ]
     },
     "metadata": {},
     "output_type": "display_data"
    },
    {
     "name": "stdout",
     "output_type": "stream",
     "text": [
      "Calculations done: 131   | Explored points: 299  \n",
      "Queue: [160, 129, 132, 165, 134, 170, 107, 174, 177, 114, 1047, 120, 1049, 219, 125, 222]\n"
     ]
    },
    {
     "data": {
      "application/vnd.jupyter.widget-view+json": {
       "model_id": "0842b913c0fb4a628cdb1ef6e61cda59",
       "version_major": 2,
       "version_minor": 0
      },
      "text/plain": [
       "  0%|          | 0/11 [00:00<?, ?it/s]"
      ]
     },
     "metadata": {},
     "output_type": "display_data"
    },
    {
     "name": "stdout",
     "output_type": "stream",
     "text": [
      "Calculations done: 142   | Explored points: 369  \n",
      "Queue: [400, 663, 535, 667, 670, 288, 295, 423, 300, 301, 430, 305, 306, 562, 436, 310, 312, 313, 441, 314, 571, 445, 568, 573, 448, 577, 576, 580, 582, 346, 351, 607, 481, 354, 355, 357, 486, 613, 490, 618, 622, 494, 625, 627]\n"
     ]
    },
    {
     "data": {
      "application/vnd.jupyter.widget-view+json": {
       "model_id": "a84d7d7e4bf444ac9c9547167723668f",
       "version_major": 2,
       "version_minor": 0
      },
      "text/plain": [
       "  0%|          | 0/27 [00:00<?, ?it/s]"
      ]
     },
     "metadata": {},
     "output_type": "display_data"
    },
    {
     "name": "stdout",
     "output_type": "stream",
     "text": [
      "Calculations done: 169   | Explored points: 411  \n",
      "Queue: [396, 397, 401, 403, 662, 666, 296, 302, 431, 561, 307, 437, 567, 311, 442, 572, 446, 347, 606, 352, 482, 612, 359, 487, 617, 621]\n"
     ]
    },
    {
     "data": {
      "application/vnd.jupyter.widget-view+json": {
       "model_id": "63addba7b7154709b036bb96d388eace",
       "version_major": 2,
       "version_minor": 0
      },
      "text/plain": [
       "  0%|          | 0/19 [00:00<?, ?it/s]"
      ]
     },
     "metadata": {},
     "output_type": "display_data"
    },
    {
     "name": "stdout",
     "output_type": "stream",
     "text": [
      "Calculations done: 188   | Explored points: 440  \n",
      "Queue: [391, 392, 393, 395, 398, 656, 657, 661, 289, 290, 297, 303, 308, 438, 443, 341, 342, 348, 605, 611, 483, 616]\n"
     ]
    },
    {
     "data": {
      "application/vnd.jupyter.widget-view+json": {
       "model_id": "05cf69d523ae47a7a6004b05a8a336c9",
       "version_major": 2,
       "version_minor": 0
      },
      "text/plain": [
       "  0%|          | 0/12 [00:00<?, ?it/s]"
      ]
     },
     "metadata": {},
     "output_type": "display_data"
    },
    {
     "name": "stdout",
     "output_type": "stream",
     "text": [
      "Calculations done: 200   | Explored points: 468  \n",
      "Queue: [386, 387, 388, 291, 610, 615, 394, 298, 655, 304, 660, 343, 604]\n"
     ]
    },
    {
     "data": {
      "application/vnd.jupyter.widget-view+json": {
       "model_id": "3030056bda344f74bc39a0286a4145a0",
       "version_major": 2,
       "version_minor": 0
      },
      "text/plain": [
       "  0%|          | 0/9 [00:00<?, ?it/s]"
      ]
     },
     "metadata": {},
     "output_type": "display_data"
    },
    {
     "name": "stdout",
     "output_type": "stream",
     "text": [
      "Calculations done: 209   | Explored points: 482  \n",
      "Queue: [389, 299, 380, 381, 382]\n",
      "Calculations done: 209   | Explored points: 488  \n"
     ]
    }
   ],
   "source": [
    "while len(queue)>0:\n",
    "    print(f\"Queue: {queue}\")\n",
    "    # Skip all points with RMSAD below the minimum (inexpensive) by removing them from the queue, marking them as infeasible, and adding them to explored\n",
    "    for i in queue:\n",
    "        if c2rmsad(compositions[i]) < minRMSAD:\n",
    "            for eq in [i] + graphNS[i]:\n",
    "                gridFeasible[eq] = False\n",
    "            explored = explored.union([i] + graphNS[i])\n",
    "    queue = [i for i in queue if gridFeasible[i] is None]\n",
    "\n",
    "    # Calculate CALPHAD feasibilities (expensive) of the current queue\n",
    "    elPositions = [compositions[i] for i in queue]\n",
    "    if len(queue)>3:\n",
    "        phases = process_map(equilibrium_callable, elPositions, max_workers=4)\n",
    "    else:\n",
    "        phases = [equilibrium_callable(elP) for elP in elPositions]\n",
    "    feasibilities = [len(set(p) & set(['LAVES_C15', 'LAVES_C36', 'LAVES_C14', 'LIQUID']))==0 and p!=[] for p in phases]\n",
    "\n",
    "    calcCount += len(feasibilities)\n",
    "    explored = explored.union(queue)\n",
    "\n",
    "    # Create next queue based on neighbors of feasible points\n",
    "    nextQueue = set()\n",
    "    nextQueuePlusEquivalent = set()\n",
    "    for f, i in zip(feasibilities, queue):\n",
    "        # Explored point\n",
    "        gridFeasible[i] = f\n",
    "\n",
    "        # And equivalent explored points based on system stitching\n",
    "        explored = explored.union(graphNS[i])\n",
    "        for eq in graphNS[i]:\n",
    "            gridFeasible[eq] = f\n",
    "\n",
    "        # Expand to neighbors of the point and equivalent points (only if the node has been feasible)\n",
    "        if f:\n",
    "            # Node neighbors in the same subsystem\n",
    "            for n in graphN[i]:\n",
    "                if n not in explored and n not in nextQueuePlusEquivalent:\n",
    "                    nextQueue.add(n)\n",
    "                    nextQueuePlusEquivalent = nextQueuePlusEquivalent.union([n] + graphNS[n])\n",
    "            # Equivalent nodes neighbors in other subsystems\n",
    "            for eq in graphNS[i]:\n",
    "                for n in graphN[eq]:\n",
    "                    if n not in explored and n not in nextQueuePlusEquivalent:\n",
    "                        nextQueue.add(n)\n",
    "                        nextQueuePlusEquivalent = nextQueuePlusEquivalent.union([n] + graphNS[n])\n",
    "\n",
    "    print(f\"Calculations done: {calcCount:<5} | Explored points: {len(explored):<5}\")\n",
    "    queue = list(nextQueue)"
   ]
  },
  {
   "cell_type": "code",
   "execution_count": null,
   "metadata": {},
   "outputs": [
    {
     "data": {
      "text/plain": [
       "286"
      ]
     },
     "execution_count": 70,
     "metadata": {},
     "output_type": "execute_result"
    }
   ],
   "source": [
    "sum([f for f in gridFeasible if f])"
   ]
  },
  {
   "cell_type": "code",
   "execution_count": null,
   "metadata": {},
   "outputs": [
    {
     "data": {
      "text/plain": [
       "1575"
      ]
     },
     "execution_count": 78,
     "metadata": {},
     "output_type": "execute_result"
    }
   ],
   "source": [
    "len(gridFeasible)"
   ]
  },
  {
   "cell_type": "code",
   "execution_count": null,
   "metadata": {},
   "outputs": [],
   "source": []
  },
  {
   "cell_type": "code",
   "execution_count": null,
   "metadata": {},
   "outputs": [],
   "source": []
  }
 ],
 "metadata": {
  "kernelspec": {
   "display_name": "base",
   "language": "python",
   "name": "python3"
  },
  "language_info": {
   "codemirror_mode": {
    "name": "ipython",
    "version": 3
   },
   "file_extension": ".py",
   "mimetype": "text/x-python",
   "name": "python",
   "nbconvert_exporter": "python",
   "pygments_lexer": "ipython3",
   "version": "3.11.10"
  }
 },
 "nbformat": 4,
 "nbformat_minor": 2
}
