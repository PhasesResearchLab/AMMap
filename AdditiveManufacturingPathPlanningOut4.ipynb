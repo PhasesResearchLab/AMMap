{
 "cells": [
  {
   "cell_type": "markdown",
   "id": "de1f88bd",
   "metadata": {
    "tags": [
     "papermill-error-cell-tag"
    ]
   },
   "source": [
    "<span style=\"color:red; font-family:Helvetica Neue, Helvetica, Arial, sans-serif; font-size:2em;\">An Exception was encountered at '<a href=\"#papermill-error-cell\">In [14]</a>'.</span>"
   ]
  },
  {
   "cell_type": "markdown",
   "id": "81d80eb5",
   "metadata": {
    "papermill": {
     "duration": 0.008203,
     "end_time": "2024-06-12T20:31:10.870783",
     "exception": false,
     "start_time": "2024-06-12T20:31:10.862580",
     "status": "completed"
    },
    "tags": []
   },
   "source": [
    "#Additive Manufacturing Path Planning Made Effortless\n",
    "\n",
    "--> ***(This notebook is built up on the existing nimplex software and examples. Please see https://github.com/amkrajewski/nimplex for setting up and utilizing nimplex)***\n",
    "\n",
    "--> You will additionally need `pycalphad` and `pathfinding` libraries to run part of this exercise. If you are running this in Codespaces, it has been pre-installed for you."
   ]
  },
  {
   "cell_type": "markdown",
   "id": "d8088d77",
   "metadata": {
    "papermill": {
     "duration": 0.007331,
     "end_time": "2024-06-12T20:31:10.885653",
     "exception": false,
     "start_time": "2024-06-12T20:31:10.878322",
     "status": "completed"
    },
    "tags": []
   },
   "source": [
    "**In this tutorial, we will demonstrate how effortless it is to dramatically speed up the exploration of feasible compositional spaces in high dimensional spaces through employing `nimplex`'s graph representations that abstract the underlying problem and dimensionality.**\n",
    "\n",
    "**We will also design several neat, mathematically optimal (given some criteria) paths in a 7-component chemical space connecting two alloys of interest by mixing 4 fixed-composition alloy powders to create a tetrahedral attainable/design space. The beauty of this approach is that at no point (except for plotting in 3D for \"human consumption\") will we explicitly consider the dimensionality or the distance as the connectivity between the points in the space has been abstracted into graph adjacency. If you wish to add another alloy to the design process, you add it to the list, and you are done :)**"
   ]
  },
  {
   "cell_type": "code",
   "execution_count": 1,
   "id": "c07bce60",
   "metadata": {
    "execution": {
     "iopub.execute_input": "2024-06-12T20:31:10.901104Z",
     "iopub.status.busy": "2024-06-12T20:31:10.900842Z",
     "iopub.status.idle": "2024-06-12T20:31:11.443397Z",
     "shell.execute_reply": "2024-06-12T20:31:11.442870Z"
    },
    "papermill": {
     "duration": 0.551414,
     "end_time": "2024-06-12T20:31:11.444432",
     "exception": false,
     "start_time": "2024-06-12T20:31:10.893018",
     "status": "completed"
    },
    "tags": []
   },
   "outputs": [],
   "source": [
    "# Import nimplex and some of its plotting utilities\n",
    "import nimplex\n",
    "from utils import plotting"
   ]
  },
  {
   "cell_type": "code",
   "execution_count": 2,
   "id": "b4f246c4",
   "metadata": {
    "execution": {
     "iopub.execute_input": "2024-06-12T20:31:11.472948Z",
     "iopub.status.busy": "2024-06-12T20:31:11.472626Z",
     "iopub.status.idle": "2024-06-12T20:31:34.960527Z",
     "shell.execute_reply": "2024-06-12T20:31:34.959882Z"
    },
    "papermill": {
     "duration": 23.509448,
     "end_time": "2024-06-12T20:31:34.961673",
     "exception": false,
     "start_time": "2024-06-12T20:31:11.452225",
     "status": "completed"
    },
    "tags": []
   },
   "outputs": [],
   "source": [
    "# Python wrapper for Plotly library\n",
    "import plotly.express as px\n",
    "import pandas as pd\n",
    "from pprint import pprint"
   ]
  },
  {
   "cell_type": "markdown",
   "id": "52c48214",
   "metadata": {
    "papermill": {
     "duration": 0.007692,
     "end_time": "2024-06-12T20:31:34.977270",
     "exception": false,
     "start_time": "2024-06-12T20:31:34.969578",
     "status": "completed"
    },
    "tags": []
   },
   "source": [
    "## Example\n",
    "Let's get back to our example (QuickStart) of the pair of **attainable space** simplex grid and corresponding **elemental space** positions defined for `7`-component elemental space of `Ti`, `Zr`, `Hf`, `W`, `Nb`, `Ta`, and `Mo` formed by `4` alloys:\n",
    "- Ti50 Zr50 \n",
    "- Hf95 Ti5\n",
    "- Mo33 Nb33 Ta33\n",
    "- Mo10 Nb10 W80\n",
    "\n",
    "which we can represent as points in the elemental space:"
   ]
  },
  {
   "cell_type": "code",
   "execution_count": 3,
   "id": "173d7cfd",
   "metadata": {
    "execution": {
     "iopub.execute_input": "2024-06-12T20:31:34.993362Z",
     "iopub.status.busy": "2024-06-12T20:31:34.992857Z",
     "iopub.status.idle": "2024-06-12T20:31:34.997237Z",
     "shell.execute_reply": "2024-06-12T20:31:34.996832Z"
    },
    "papermill": {
     "duration": 0.013136,
     "end_time": "2024-06-12T20:31:34.998000",
     "exception": false,
     "start_time": "2024-06-12T20:31:34.984864",
     "status": "completed"
    },
    "tags": []
   },
   "outputs": [],
   "source": [
    "elementalSpaceComponents = ['V', 'Ni', 'Cr', 'Fe']\n",
    "attainableSpaceComponents = ['SS304L', 'NiCr', 'V', 'FE']\n",
    "attainableSpaceComponentPositions = [[0, 0.096114519430,0.1993865031, 0.7044989775], [0, 80, 20, 0], [100, 0, 0, 0], [0, 0, 0, 100]]"
   ]
  },
  {
   "cell_type": "markdown",
   "id": "7a2cc2e0",
   "metadata": {
    "papermill": {
     "duration": 0.007288,
     "end_time": "2024-06-12T20:31:35.012827",
     "exception": false,
     "start_time": "2024-06-12T20:31:35.005539",
     "status": "completed"
    },
    "tags": []
   },
   "source": [
    "And create tetrahedral grids with their compositions quantized at `12` divisions per dimension."
   ]
  },
  {
   "cell_type": "code",
   "execution_count": 4,
   "id": "df6d977d",
   "metadata": {
    "execution": {
     "iopub.execute_input": "2024-06-12T20:31:35.030341Z",
     "iopub.status.busy": "2024-06-12T20:31:35.030038Z",
     "iopub.status.idle": "2024-06-12T20:31:35.109011Z",
     "shell.execute_reply": "2024-06-12T20:31:35.108584Z"
    },
    "papermill": {
     "duration": 0.08962,
     "end_time": "2024-06-12T20:31:35.109829",
     "exception": false,
     "start_time": "2024-06-12T20:31:35.020209",
     "status": "completed"
    },
    "tags": []
   },
   "outputs": [],
   "source": [
    "gridAtt, gridEl = nimplex.embeddedpair_simplex_grid_fractional_py(attainableSpaceComponentPositions, 12)"
   ]
  },
  {
   "cell_type": "markdown",
   "id": "9067a8dd",
   "metadata": {
    "papermill": {
     "duration": 0.007813,
     "end_time": "2024-06-12T20:31:35.134466",
     "exception": false,
     "start_time": "2024-06-12T20:31:35.126653",
     "status": "completed"
    },
    "tags": []
   },
   "source": [
    "We used the **elemental**, or chemical, space to run the Root Mean Square Atomic Displacement (RMSAD) model by Tandoc (10.1038/s41524-023-00993-x) which acts as a lower-cost proxy for yield stress and hardness estimations in the absence of direct data:"
   ]
  },
  {
   "cell_type": "markdown",
   "id": "5368f1a2",
   "metadata": {
    "papermill": {
     "duration": 0.007393,
     "end_time": "2024-06-12T20:31:35.149590",
     "exception": false,
     "start_time": "2024-06-12T20:31:35.142197",
     "status": "completed"
    },
    "tags": []
   },
   "source": [
    "#UNMARKDOWN WHEN NEEDED\n",
    "import pqam_rmsadtandoc2023\n",
    "rmsadList = []\n",
    "for point in gridEl:\n",
    "    formula = ' '.join([f'{c}{p}' for c, p in zip(elementalSpaceComponents, point)])\n",
    "    rmsadList.append(pqam_rmsadtandoc2023.predict(formula))"
   ]
  },
  {
   "cell_type": "markdown",
   "id": "af10dd41",
   "metadata": {
    "papermill": {
     "duration": 0.007265,
     "end_time": "2024-06-12T20:31:35.164442",
     "exception": false,
     "start_time": "2024-06-12T20:31:35.157177",
     "status": "completed"
    },
    "tags": []
   },
   "source": [
    "And the **attainable** space grid to plot the results after projecting them to the Euclidean space:"
   ]
  },
  {
   "cell_type": "code",
   "execution_count": 5,
   "id": "7e75342b",
   "metadata": {
    "execution": {
     "iopub.execute_input": "2024-06-12T20:31:35.180177Z",
     "iopub.status.busy": "2024-06-12T20:31:35.179886Z",
     "iopub.status.idle": "2024-06-12T20:31:35.238155Z",
     "shell.execute_reply": "2024-06-12T20:31:35.237758Z"
    },
    "papermill": {
     "duration": 0.066949,
     "end_time": "2024-06-12T20:31:35.239012",
     "exception": false,
     "start_time": "2024-06-12T20:31:35.172063",
     "status": "completed"
    },
    "tags": []
   },
   "outputs": [],
   "source": [
    "# Hover approximate formula for each point\n",
    "formulas = []\n",
    "for i, comp in enumerate(gridEl):\n",
    "    formulas.append(f\"({i:>3}) \"+\"\".join([f\"{el}{100*v:.1f} \" if v>0 else \"\" for el, v in zip(elementalSpaceComponents, comp)]))\n",
    "\n",
    "# Generate the projected grid\n",
    "gridAtt_projected_df = pd.DataFrame(plotting.simplex2cartesian_py(gridAtt), columns=['x','y','z'])\n",
    "\n",
    "# Attach pure component (alloy) labels to corners\n",
    "pureComponentIndices = nimplex.pure_component_indexes_py(4, 12)\n",
    "labels = ['']*len(gridAtt_projected_df)\n",
    "for comp, idx in zip(attainableSpaceComponents, pureComponentIndices):\n",
    "    labels[idx] = \"<b>\"+comp+\"</b>\""
   ]
  },
  {
   "cell_type": "markdown",
   "id": "e5ff7729",
   "metadata": {
    "papermill": {
     "duration": 0.007358,
     "end_time": "2024-06-12T20:31:35.253968",
     "exception": false,
     "start_time": "2024-06-12T20:31:35.246610",
     "status": "completed"
    },
    "tags": []
   },
   "source": [
    "\n",
    "# Add text labels at the corners of the simplex\n",
    "px.scatter_3d(gridAtt_projected_df, x='x', y='y', z='z', color=rmsadList, text=labels, hover_name=formulas,\n",
    "              template='plotly_white', width=800, height=700, \n",
    "              labels={'color':'RMSAD', 'x':'', 'y':'', 'z':''})"
   ]
  },
  {
   "cell_type": "markdown",
   "id": "83e86b94",
   "metadata": {
    "papermill": {
     "duration": 0.007285,
     "end_time": "2024-06-12T20:31:35.268663",
     "exception": false,
     "start_time": "2024-06-12T20:31:35.261378",
     "status": "completed"
    },
    "tags": []
   },
   "source": [
    "## Thermodynamic Equilibria\n",
    "\n",
    "**In this section we will be using `pycalphad` which is an amazing free open-source library for building thermodynamic models and performing calculations on them, including studying of phase equilibria, or what atomic arrangements are stable (coexist in equilibrium) at a given temperature and composition.** You can read more about `pycalphad` at [pycalphad.org](https://pycalphad.org/) and find an great tutorial at [this 2023 workshop materials repository](https://github.com/materialsgenomefoundation/2023-workshop-material/tree/main/pycalphad).\n",
    "\n",
    "Let's start by loading a database of thermodynamic properties which defines, among other things, the Gibbs energy of each phase as a function of temperature and composition. You can find many of such databases at [TDBDB](https://avdwgroup.engin.brown.edu) maintained by Axel van de Walle's group at Brown University. \n",
    "\n",
    "In this example, we will be using a TDB `CrHfMoNbTaTiVWZr_9element_Feb2023` placed for you in the `examples` directory, which is a 9-element database for the elements `Cr`, `Hf`, `Mo`, `Nb`, `Ta`, `Ti`, `V`, `W`, and `Zr`, being developed by Shuang Lin in our group (Phases Research Lab at PSU). This wersion is an older *work in progress* one that has not been published, so while it is perfect for tutorial like this one, please refrain from using it for any serious work."
   ]
  },
  {
   "cell_type": "code",
   "execution_count": 6,
   "id": "74398c59",
   "metadata": {
    "execution": {
     "iopub.execute_input": "2024-06-12T20:31:35.285430Z",
     "iopub.status.busy": "2024-06-12T20:31:35.285108Z",
     "iopub.status.idle": "2024-06-12T20:31:52.936825Z",
     "shell.execute_reply": "2024-06-12T20:31:52.936295Z"
    },
    "papermill": {
     "duration": 17.661204,
     "end_time": "2024-06-12T20:31:52.937724",
     "exception": false,
     "start_time": "2024-06-12T20:31:35.276520",
     "status": "completed"
    },
    "tags": []
   },
   "outputs": [
    {
     "name": "stdout",
     "output_type": "stream",
     "text": [
      "['V', 'Ni', 'Cr', 'Fe']\n",
      "Loaded TDB file with phases considered: ['LAVES_C14', 'AL3TI_L', 'SIGMA_D8B', 'AL4NI3', 'NITI2', 'D82_217', 'ALTI3_D019', 'BCC_A2', 'LIQUID', 'TS01TI', 'AL11CR4', 'AL2FE', 'ALCU_EPSILON', 'AL3M', 'ALCU_ETA', 'ALCU_THETA', 'AL45V7', 'AL23V4', 'AL5TI2', 'TAOA', 'AL13FE4', 'GAMMAL', 'GAMMAH', 'ALCU_ZETA', 'AL2TI', 'ALCU_DELTA', 'LAVES_A15', 'AL5FE2', 'AL21V2_227', 'HCP_A3', 'GAMMA_H', 'NI8V', 'AL45CR7_12', 'LAVES_C36', 'ALCR2', 'AL3NI1', 'BCC_B2', 'AL21V2', 'GAMMA_D83', 'ALTI', 'AL8V5', 'AL3NI2', 'AL3NI5', 'CRNI2', 'TS01T3', 'AL23V4_194', 'AL45CR7', 'NI3TI', 'FCC_A1', 'AL5CR', 'NIV3_A15', 'LAVES_C15', 'AL5TI3', 'AL4CR', 'L12_FCC', 'AL5FE4', 'NI3V_D022']\n"
     ]
    },
    {
     "name": "stderr",
     "output_type": "stream",
     "text": [
      "/ocean/projects/dmr190011p/arichte1/micromamba/envs/ammap/lib/python3.11/site-packages/pycalphad/io/tdb.py:294: UserWarning: The type definition character `*` in `TYPE_DEFINITION * GES AMEND_PHASE_DESCRIPTION HCP_A3 MAGNETIC -3.0 2.80000E-01 ` is not used by any phase.\n",
      "  warnings.warn(f\"The type definition character `{typechar}` in `TYPE_DEFINITION {typechar} {line}` is not used by any phase.\")\n"
     ]
    }
   ],
   "source": [
    "from pycalphad import Database\n",
    "dbf = Database(\"ammap/databases/Al-Cr-Fe-Ni-Ti-V_04-13.tdb\")\n",
    "phases = list(set(dbf.phases.keys()))\n",
    "print(elementalSpaceComponents)\n",
    "print(f'Loaded TDB file with phases considered: {phases}')"
   ]
  },
  {
   "cell_type": "markdown",
   "id": "cf743baf",
   "metadata": {
    "papermill": {
     "duration": 0.015322,
     "end_time": "2024-06-12T20:31:53.163290",
     "exception": false,
     "start_time": "2024-06-12T20:31:53.147968",
     "status": "completed"
    },
    "tags": []
   },
   "source": [
    "As you can see, we will be looking at several different phases here. To keep things as simple as possible, we can split them in three groups:\n",
    "- **liquid** phases: `LIQUID` (which we obviously want to avoid in a solid part design)\n",
    "- **solid solution** phases: `FCC_A1`, `BCC_A2`, and `HCP_A3`\n",
    "- **intermetallic** phases: `LAVES_C14`, `LAVES_C15`, and `LAVES_C36`\n",
    "\n",
    "Designing an alloy is a complex procedure but for the sake of this tutorial, we will be focusing on the most common issue which is the formation of intermetallic phases which cause embrittlement and reduce the ductility of the material. **Thus, we will apply a simple constraint that the alloy should only contain the solid solution phases FCC, BCC, and HCP.**\n",
    "\n",
    "**Now, knowing what we are looking for (phases at equilibrium), we can start by writing a short Python script around `pycalphad` to calculate the equilibrium phases for a given chemical elements composition `elP`. It is already placed in the `examples` directory as `myPycalphadCallable.py` which defines a function `equilibrium_callable` that takes a composition and returns the equilibrium phases.**\n",
    "\n",
    "**We will arbitrarily pick `1000K`** as the temperature for the sake of this tutorial, but you can change it to any other value you like. Or even make it a list and add phases present at each temperature to a set to apply our constraint over a range of temperatures.\n",
    "\n",
    "\n",
    "Please note that much more information is generated in the process (e.g., chemical composition of each phase and its fraction) but we are only interested in the phase presence. If you wish to do so, modifying the script to, e.g., allow for up to 5% of intermetallic phases, is a trivial task. Advanced users may also want to have a look at the `scheil_callable` we do not use in this tutorial for the sake of runtime, but which can be used to simulate solidification of the alloy from a liquid state in an additive manufacturing process."
   ]
  },
  {
   "cell_type": "code",
   "execution_count": 7,
   "id": "ceb0cb79",
   "metadata": {
    "execution": {
     "iopub.execute_input": "2024-06-12T20:31:53.179233Z",
     "iopub.status.busy": "2024-06-12T20:31:53.178805Z",
     "iopub.status.idle": "2024-06-12T20:32:13.087811Z",
     "shell.execute_reply": "2024-06-12T20:32:13.087294Z"
    },
    "papermill": {
     "duration": 19.91814,
     "end_time": "2024-06-12T20:32:13.088923",
     "exception": false,
     "start_time": "2024-06-12T20:31:53.170783",
     "status": "completed"
    },
    "tags": []
   },
   "outputs": [],
   "source": [
    "from ammap.callables.EqScheil import equilibrium_callable, scheil_callable"
   ]
  },
  {
   "cell_type": "markdown",
   "id": "9b579dd9",
   "metadata": {
    "papermill": {
     "duration": 0.008116,
     "end_time": "2024-06-12T20:32:13.105712",
     "exception": false,
     "start_time": "2024-06-12T20:32:13.097596",
     "status": "completed"
    },
    "tags": []
   },
   "source": [
    "Let's test it on some composition in our space starting with the first point!"
   ]
  },
  {
   "cell_type": "code",
   "execution_count": 8,
   "id": "80ea5321",
   "metadata": {
    "execution": {
     "iopub.execute_input": "2024-06-12T20:32:13.122210Z",
     "iopub.status.busy": "2024-06-12T20:32:13.121684Z",
     "iopub.status.idle": "2024-06-12T20:32:14.435860Z",
     "shell.execute_reply": "2024-06-12T20:32:14.435398Z"
    },
    "papermill": {
     "duration": 1.323383,
     "end_time": "2024-06-12T20:32:14.436752",
     "exception": false,
     "start_time": "2024-06-12T20:32:13.113369",
     "status": "completed"
    },
    "tags": []
   },
   "outputs": [
    {
     "name": "stdout",
     "output_type": "stream",
     "text": [
      "(  0) Fe100.0 \n"
     ]
    },
    {
     "data": {
      "text/plain": [
       "['BCC_B2']"
      ]
     },
     "execution_count": 8,
     "metadata": {},
     "output_type": "execute_result"
    }
   ],
   "source": [
    "print(formulas[0])\n",
    "equilibrium_callable(gridEl[0])"
   ]
  },
  {
   "cell_type": "markdown",
   "id": "606ae05a",
   "metadata": {
    "papermill": {
     "duration": 0.007916,
     "end_time": "2024-06-12T20:32:14.452920",
     "exception": false,
     "start_time": "2024-06-12T20:32:14.445004",
     "status": "completed"
    },
    "tags": []
   },
   "source": [
    "You should see `['BCC_A2']` in a second or so if you've run it at the default `1000K`. Quick and neat, right? Now, let's pick some compositionally complex alloy that does not lay around the corner of the attainable space tetrahedron and presents an actual challenge."
   ]
  },
  {
   "cell_type": "code",
   "execution_count": 9,
   "id": "c9d33b49",
   "metadata": {
    "execution": {
     "iopub.execute_input": "2024-06-12T20:32:14.469938Z",
     "iopub.status.busy": "2024-06-12T20:32:14.469463Z",
     "iopub.status.idle": "2024-06-12T20:32:14.945793Z",
     "shell.execute_reply": "2024-06-12T20:32:14.945329Z"
    },
    "papermill": {
     "duration": 0.485828,
     "end_time": "2024-06-12T20:32:14.946664",
     "exception": false,
     "start_time": "2024-06-12T20:32:14.460836",
     "status": "completed"
    },
    "tags": []
   },
   "outputs": [
    {
     "name": "stdout",
     "output_type": "stream",
     "text": [
      "( 63) Ni40.0 Cr10.0 Fe50.0 \n"
     ]
    },
    {
     "data": {
      "text/plain": [
       "['L12_FCC']"
      ]
     },
     "execution_count": 9,
     "metadata": {},
     "output_type": "execute_result"
    }
   ],
   "source": [
    "print(formulas[63])\n",
    "equilibrium_callable(gridEl[63])"
   ]
  },
  {
   "cell_type": "code",
   "execution_count": 10,
   "id": "26487d84",
   "metadata": {
    "execution": {
     "iopub.execute_input": "2024-06-12T20:32:14.976206Z",
     "iopub.status.busy": "2024-06-12T20:32:14.975837Z",
     "iopub.status.idle": "2024-06-12T20:33:59.835844Z",
     "shell.execute_reply": "2024-06-12T20:33:59.835191Z"
    },
    "papermill": {
     "duration": 104.882932,
     "end_time": "2024-06-12T20:33:59.837852",
     "exception": false,
     "start_time": "2024-06-12T20:32:14.954920",
     "status": "completed"
    },
    "tags": []
   },
   "outputs": [
    {
     "name": "stderr",
     "output_type": "stream",
     "text": [
      "/ocean/projects/dmr190011p/arichte1/micromamba/envs/ammap/lib/python3.11/site-packages/pycalphad/core/utils.py:120: FutureWarning: generate_dof is deprecated and will be removed in a future version of pycalphad. The correct way to determine the degrees of freedom of a particular 'active' phase is to use Model.constituents.\n",
      "  warnings.warn(msg, FutureWarning)\n"
     ]
    },
    {
     "name": "stdout",
     "output_type": "stream",
     "text": [
      "0\n",
      "1\n",
      "2\n",
      "3\n",
      "4\n",
      "5\n",
      "6\n",
      "7\n",
      "8\n",
      "9\n",
      "10\n",
      "11\n",
      "12\n",
      "13\n",
      "14\n",
      "15\n",
      "16\n",
      "17\n",
      "18\n",
      "19\n",
      "20\n",
      "21\n",
      "22\n",
      "23\n",
      "24\n",
      "25\n",
      "26\n",
      "27\n",
      "28\n",
      "29\n",
      "30\n",
      "31\n",
      "32\n",
      "33\n",
      "34\n",
      "35\n",
      "36\n",
      "37\n",
      "38\n",
      "39\n",
      "40\n",
      "41\n",
      "42\n",
      "43\n",
      "44\n",
      "45\n",
      "46\n",
      "47\n",
      "48\n",
      "49\n",
      "50\n",
      "51\n",
      "52\n",
      "53\n",
      "54\n",
      "55\n",
      "56\n",
      "57\n",
      "58\n",
      "59\n",
      "60\n",
      "61\n",
      "62\n",
      "63\n",
      "64\n",
      "65\n",
      "66\n",
      "67\n",
      "68\n",
      "69\n",
      "70\n",
      "71\n",
      "72\n",
      "73\n",
      "74\n",
      "75\n",
      "76\n",
      "77\n",
      "78\n",
      "79\n",
      "80\n",
      "81\n",
      "82\n",
      "83\n",
      "84\n",
      "85\n",
      "86\n",
      "87\n",
      "88\n",
      "89\n",
      "90\n",
      "91\n",
      "92\n",
      "93\n",
      "94\n",
      "95\n",
      "96\n",
      "97\n",
      "98\n",
      "99\n",
      "100\n",
      "101\n",
      "102\n",
      "103\n",
      "104\n",
      "105\n",
      "106\n",
      "107\n",
      "108\n",
      "109\n",
      "110\n",
      "111\n",
      "112\n",
      "113\n",
      "114\n",
      "115\n",
      "116\n",
      "117\n",
      "118\n",
      "119\n",
      "120\n",
      "121\n",
      "122\n",
      "123\n",
      "124\n",
      "125\n",
      "126\n",
      "127\n",
      "128\n",
      "129\n",
      "130\n",
      "131\n",
      "132\n",
      "133\n",
      "134\n",
      "135\n",
      "136\n",
      "137\n",
      "138\n",
      "139\n",
      "140\n",
      "141\n",
      "142\n",
      "143\n",
      "144\n",
      "145\n",
      "146\n",
      "147\n",
      "148\n",
      "149\n",
      "150\n",
      "151\n",
      "152\n",
      "153\n",
      "154\n",
      "155\n",
      "156\n",
      "157\n",
      "158\n",
      "159\n",
      "160\n",
      "161\n",
      "162\n",
      "163\n",
      "164\n",
      "165\n",
      "166\n",
      "167\n",
      "168\n",
      "169\n",
      "170\n",
      "171\n",
      "172\n",
      "173\n",
      "174\n",
      "175\n",
      "176\n",
      "177\n",
      "178\n",
      "179\n",
      "180\n",
      "181\n",
      "182\n",
      "183\n",
      "184\n",
      "185\n",
      "186\n",
      "187\n",
      "188\n",
      "189\n",
      "190\n",
      "191\n",
      "192\n",
      "193\n",
      "194\n",
      "195\n",
      "196\n",
      "197\n",
      "198\n",
      "199\n",
      "200\n",
      "201\n",
      "202\n",
      "203\n",
      "204\n",
      "205\n",
      "206\n",
      "207\n",
      "208\n",
      "209\n",
      "210\n",
      "211\n",
      "212\n",
      "213\n",
      "214\n",
      "215\n",
      "216\n",
      "217\n",
      "218\n",
      "219\n",
      "220\n",
      "221\n",
      "222\n",
      "223\n",
      "224\n",
      "225\n",
      "226\n",
      "227\n",
      "228\n",
      "229\n",
      "230\n",
      "231\n",
      "232\n",
      "233\n",
      "234\n",
      "235\n",
      "236\n",
      "237\n",
      "238\n",
      "239\n",
      "240\n",
      "241\n",
      "242\n",
      "243\n",
      "244\n",
      "245\n",
      "246\n",
      "247\n",
      "248\n",
      "249\n",
      "250\n",
      "251\n",
      "252\n",
      "253\n",
      "254\n",
      "255\n",
      "256\n",
      "257\n",
      "258\n",
      "259\n",
      "260\n",
      "261\n",
      "262\n",
      "263\n",
      "264\n",
      "265\n",
      "266\n",
      "267\n",
      "268\n",
      "269\n",
      "270\n",
      "271\n",
      "272\n",
      "273\n",
      "274\n",
      "275\n",
      "276\n",
      "277\n",
      "278\n",
      "279\n",
      "280\n",
      "281\n",
      "282\n",
      "283\n",
      "284\n",
      "285\n",
      "286\n",
      "287\n",
      "288\n",
      "289\n",
      "290\n",
      "291\n",
      "292\n",
      "293\n",
      "294\n",
      "295\n",
      "296\n",
      "297\n",
      "298\n",
      "299\n",
      "300\n",
      "301\n",
      "302\n",
      "303\n",
      "304\n",
      "305\n",
      "306\n",
      "307\n",
      "308\n",
      "309\n",
      "310\n",
      "311\n",
      "312\n",
      "313\n",
      "314\n",
      "315\n",
      "316\n",
      "317\n",
      "318\n",
      "319\n",
      "320\n",
      "321\n",
      "322\n",
      "323\n",
      "324\n",
      "325\n",
      "326\n",
      "327\n",
      "328\n",
      "329\n",
      "330\n",
      "331\n",
      "332\n",
      "333\n",
      "334\n",
      "335\n",
      "336\n",
      "337\n",
      "338\n",
      "339\n",
      "340\n",
      "341\n",
      "342\n",
      "343\n",
      "344\n",
      "345\n",
      "346\n",
      "347\n",
      "348\n",
      "349\n",
      "350\n",
      "351\n",
      "352\n",
      "353\n",
      "354\n",
      "355\n",
      "356\n",
      "357\n",
      "358\n",
      "359\n",
      "360\n",
      "361\n",
      "362\n",
      "363\n",
      "364\n",
      "365\n",
      "366\n",
      "367\n",
      "368\n",
      "369\n",
      "370\n",
      "371\n",
      "372\n",
      "373\n",
      "374\n",
      "375\n",
      "376\n",
      "377\n",
      "378\n",
      "379\n",
      "380\n",
      "381\n",
      "382\n",
      "383\n",
      "384\n",
      "385\n",
      "386\n",
      "387\n",
      "388\n",
      "389\n",
      "390\n",
      "391\n",
      "392\n",
      "393\n",
      "394\n",
      "395\n",
      "396\n",
      "397\n",
      "398\n",
      "399\n",
      "400\n",
      "401\n",
      "402\n",
      "403\n",
      "404\n",
      "405\n",
      "406\n",
      "407\n",
      "408\n",
      "409\n",
      "410\n",
      "411\n",
      "412\n",
      "413\n",
      "414\n",
      "415\n",
      "416\n",
      "417\n",
      "418\n",
      "419\n",
      "420\n",
      "421\n",
      "422\n",
      "423\n",
      "424\n",
      "425\n",
      "426\n",
      "427\n",
      "428\n",
      "429\n",
      "430\n",
      "431\n",
      "432\n",
      "433\n",
      "434\n",
      "435\n",
      "436\n",
      "437\n",
      "438\n",
      "439\n",
      "440\n",
      "441\n",
      "442\n",
      "443\n",
      "444\n",
      "445\n",
      "446\n",
      "447\n",
      "448\n",
      "449\n",
      "450\n",
      "451\n",
      "452\n",
      "453\n",
      "454\n",
      "455\n",
      "456\n",
      "457\n",
      "458\n",
      "459\n",
      "460\n",
      "461\n",
      "462\n",
      "463\n",
      "464\n",
      "465\n",
      "466\n",
      "467\n",
      "468\n",
      "469\n",
      "470\n",
      "471\n",
      "472\n",
      "473\n",
      "474\n",
      "475\n",
      "476\n",
      "477\n",
      "478\n",
      "479\n",
      "480\n",
      "481\n",
      "482\n",
      "483\n",
      "484\n",
      "485\n",
      "486\n",
      "487\n",
      "488\n",
      "489\n",
      "490\n",
      "491\n",
      "492\n",
      "493\n",
      "494\n",
      "495\n",
      "496\n",
      "497\n",
      "498\n",
      "499\n",
      "500\n",
      "501\n",
      "502\n",
      "503\n",
      "504\n",
      "505\n",
      "506\n",
      "507\n",
      "508\n",
      "509\n",
      "510\n",
      "511\n",
      "512\n",
      "513\n",
      "514\n",
      "515\n",
      "516\n",
      "517\n",
      "518\n",
      "519\n",
      "520\n",
      "521\n",
      "522\n",
      "523\n",
      "524\n",
      "525\n",
      "526\n",
      "527\n",
      "528\n",
      "529\n",
      "530\n",
      "531\n",
      "532\n",
      "533\n",
      "534\n",
      "535\n",
      "536\n",
      "537\n",
      "538\n",
      "539\n",
      "540\n",
      "541\n",
      "542\n",
      "543\n",
      "544\n",
      "545\n",
      "546\n",
      "547\n",
      "548\n",
      "549\n",
      "550\n",
      "551\n",
      "552\n",
      "553\n",
      "554\n",
      "555\n",
      "556\n",
      "557\n",
      "558\n",
      "559\n",
      "560\n",
      "561\n",
      "562\n",
      "563\n",
      "564\n",
      "565\n",
      "566\n",
      "567\n",
      "568\n",
      "569\n",
      "570\n",
      "571\n",
      "572\n",
      "573\n",
      "574\n",
      "575\n",
      "576\n",
      "577\n",
      "578\n",
      "579\n",
      "580\n",
      "581\n",
      "582\n",
      "583\n",
      "584\n",
      "585\n",
      "586\n",
      "587\n",
      "588\n",
      "589\n",
      "590\n",
      "591\n",
      "592\n",
      "593\n",
      "594\n",
      "595\n",
      "596\n",
      "597\n",
      "598\n",
      "599\n",
      "600\n",
      "601\n",
      "602\n",
      "603\n",
      "604\n",
      "605\n",
      "606\n",
      "607\n",
      "608\n",
      "609\n",
      "610\n",
      "611\n",
      "612\n",
      "613\n",
      "614\n",
      "615\n",
      "616\n",
      "617\n",
      "618\n",
      "619\n",
      "620\n",
      "621\n",
      "622\n",
      "623\n",
      "624\n",
      "625\n",
      "626\n",
      "627\n",
      "628\n",
      "629\n",
      "630\n",
      "631\n",
      "632\n",
      "633\n",
      "634\n",
      "635\n",
      "636\n",
      "637\n",
      "638\n",
      "639\n",
      "640\n",
      "641\n",
      "642\n",
      "643\n",
      "644\n",
      "645\n",
      "646\n",
      "647\n",
      "648\n",
      "649\n",
      "650\n",
      "651\n",
      "652\n",
      "653\n",
      "654\n",
      "655\n",
      "656\n",
      "657\n",
      "658\n",
      "659\n",
      "660\n",
      "661\n",
      "662\n",
      "663\n",
      "664\n",
      "665\n",
      "666\n",
      "667\n",
      "668\n",
      "669\n",
      "670\n",
      "671\n",
      "672\n",
      "673\n",
      "674\n",
      "675\n",
      "676\n",
      "677\n",
      "678\n",
      "679\n",
      "680\n",
      "681\n",
      "682\n",
      "683\n",
      "684\n",
      "685\n",
      "686\n",
      "687\n",
      "688\n",
      "689\n",
      "690\n",
      "691\n",
      "692\n",
      "693\n",
      "694\n",
      "695\n",
      "696\n",
      "697\n",
      "698\n",
      "699\n",
      "700\n",
      "701\n",
      "702\n",
      "703\n",
      "704\n",
      "705\n",
      "706\n",
      "707\n",
      "708\n",
      "709\n",
      "710\n",
      "711\n",
      "712\n",
      "713\n",
      "714\n",
      "715\n",
      "716\n",
      "717\n",
      "718\n",
      "719\n",
      "720\n",
      "721\n",
      "722\n",
      "723\n",
      "724\n",
      "725\n",
      "726\n",
      "727\n",
      "728\n",
      "729\n",
      "730\n",
      "731\n",
      "732\n",
      "733\n",
      "734\n",
      "735\n",
      "736\n",
      "737\n",
      "738\n",
      "739\n",
      "740\n",
      "741\n",
      "742\n",
      "743\n",
      "744\n",
      "745\n",
      "746\n",
      "747\n",
      "748\n",
      "749\n",
      "750\n",
      "751\n",
      "752\n",
      "753\n",
      "754\n",
      "755\n",
      "756\n",
      "757\n",
      "758\n",
      "759\n",
      "760\n",
      "761\n",
      "762\n",
      "763\n",
      "764\n",
      "765\n",
      "766\n",
      "767\n",
      "768\n",
      "769\n",
      "770\n",
      "771\n",
      "772\n",
      "773\n",
      "774\n",
      "775\n",
      "776\n",
      "777\n",
      "778\n",
      "779\n",
      "780\n",
      "781\n",
      "782\n",
      "783\n",
      "784\n",
      "785\n",
      "786\n",
      "787\n",
      "788\n",
      "789\n",
      "790\n",
      "791\n",
      "792\n",
      "793\n",
      "794\n",
      "795\n",
      "796\n",
      "797\n",
      "798\n",
      "799\n",
      "800\n",
      "801\n",
      "802\n",
      "803\n",
      "804\n",
      "805\n",
      "806\n",
      "807\n",
      "808\n",
      "809\n",
      "810\n",
      "811\n",
      "812\n",
      "813\n",
      "814\n",
      "815\n",
      "816\n",
      "817\n",
      "818\n",
      "819\n",
      "820\n",
      "821\n",
      "822\n",
      "823\n",
      "824\n",
      "825\n",
      "826\n",
      "827\n",
      "828\n",
      "829\n",
      "830\n",
      "831\n",
      "832\n",
      "833\n",
      "834\n",
      "835\n",
      "836\n",
      "837\n",
      "838\n",
      "839\n",
      "840\n",
      "841\n",
      "842\n",
      "843\n",
      "844\n",
      "845\n",
      "846\n",
      "847\n",
      "848\n",
      "849\n",
      "850\n",
      "{'scheilT': [2500, 2500, 2499.0, 2498.0, 2497.0, 2496.0, 2495.0, 2494.0, 2493.0, 2492.0, 2491.0, 2490.0, 2489.0, 2488.0, 2487.0, 2486.0, 2485.0, 2484.0, 2483.0, 2482.0, 2481.0, 2480.0, 2479.0, 2478.0, 2477.0, 2476.0, 2475.0, 2474.0, 2473.0, 2472.0, 2471.0, 2470.0, 2469.0, 2468.0, 2467.0, 2466.0, 2465.0, 2464.0, 2463.0, 2462.0, 2461.0, 2460.0, 2459.0, 2458.0, 2457.0, 2456.0, 2455.0, 2454.0, 2453.0, 2452.0, 2451.0, 2450.0, 2449.0, 2448.0, 2447.0, 2446.0, 2445.0, 2444.0, 2443.0, 2442.0, 2441.0, 2440.0, 2439.0, 2438.0, 2437.0, 2436.0, 2435.0, 2434.0, 2433.0, 2432.0, 2431.0, 2430.0, 2429.0, 2428.0, 2427.0, 2426.0, 2425.0, 2424.0, 2423.0, 2422.0, 2421.0, 2420.0, 2419.0, 2418.0, 2417.0, 2416.0, 2415.0, 2414.0, 2413.0, 2412.0, 2411.0, 2410.0, 2409.0, 2408.0, 2407.0, 2406.0, 2405.0, 2404.0, 2403.0, 2402.0, 2401.0, 2400.0, 2399.0, 2398.0, 2397.0, 2396.0, 2395.0, 2394.0, 2393.0, 2392.0, 2391.0, 2390.0, 2389.0, 2388.0, 2387.0, 2386.0, 2385.0, 2384.0, 2383.0, 2382.0, 2381.0, 2380.0, 2379.0, 2378.0, 2377.0, 2376.0, 2375.0, 2374.0, 2373.0, 2372.0, 2371.0, 2370.0, 2369.0, 2368.0, 2367.0, 2366.0, 2365.0, 2364.0, 2363.0, 2362.0, 2361.0, 2360.0, 2359.0, 2358.0, 2357.0, 2356.0, 2355.0, 2354.0, 2353.0, 2352.0, 2351.0, 2350.0, 2349.0, 2348.0, 2347.0, 2346.0, 2345.0, 2344.0, 2343.0, 2342.0, 2341.0, 2340.0, 2339.0, 2338.0, 2337.0, 2336.0, 2335.0, 2334.0, 2333.0, 2332.0, 2331.0, 2330.0, 2329.0, 2328.0, 2327.0, 2326.0, 2325.0, 2324.0, 2323.0, 2322.0, 2321.0, 2320.0, 2319.0, 2318.0, 2317.0, 2316.0, 2315.0, 2314.0, 2313.0, 2312.0, 2311.0, 2310.0, 2309.0, 2308.0, 2307.0, 2306.0, 2305.0, 2304.0, 2303.0, 2302.0, 2301.0, 2300.0, 2299.0, 2298.0, 2297.0, 2296.0, 2295.0, 2294.0, 2293.0, 2292.0, 2291.0, 2290.0, 2289.0, 2288.0, 2287.0, 2286.0, 2285.0, 2284.0, 2283.0, 2282.0, 2281.0, 2280.0, 2279.0, 2278.0, 2277.0, 2276.0, 2275.0, 2274.0, 2273.0, 2272.0, 2271.0, 2270.0, 2269.0, 2268.0, 2267.0, 2266.0, 2265.0, 2264.0, 2263.0, 2262.0, 2261.0, 2260.0, 2259.0, 2258.0, 2257.0, 2256.0, 2255.0, 2254.0, 2253.0, 2252.0, 2251.0, 2250.0, 2249.0, 2248.0, 2247.0, 2246.0, 2245.0, 2244.0, 2243.0, 2242.0, 2241.0, 2240.0, 2239.0, 2238.0, 2237.0, 2236.0, 2235.0, 2234.0, 2233.0, 2232.0, 2231.0, 2230.0, 2229.0, 2228.0, 2227.0, 2226.0, 2225.0, 2224.0, 2223.0, 2222.0, 2221.0, 2220.0, 2219.0, 2218.0, 2217.0, 2216.0, 2215.0, 2214.0, 2213.0, 2212.0, 2211.0, 2210.0, 2209.0, 2208.0, 2207.0, 2206.0, 2205.0, 2204.0, 2203.0, 2202.0, 2201.0, 2200.0, 2199.0, 2198.0, 2197.0, 2196.0, 2195.0, 2194.0, 2193.0, 2192.0, 2191.0, 2190.0, 2189.0, 2188.0, 2187.0, 2186.0, 2185.0, 2184.0, 2183.0, 2182.0, 2181.0, 2180.0, 2179.0, 2178.0, 2177.0, 2176.0, 2175.0, 2174.0, 2173.0, 2172.0, 2171.0, 2170.0, 2169.0, 2168.0, 2167.0, 2166.0, 2165.0, 2164.0, 2163.0, 2162.0, 2161.0, 2160.0, 2159.0, 2158.0, 2157.0, 2156.0, 2155.0, 2154.0, 2153.0, 2152.0, 2151.0, 2150.0, 2149.0, 2148.0, 2147.0, 2146.0, 2145.0, 2144.0, 2143.0, 2142.0, 2141.0, 2140.0, 2139.0, 2138.0, 2137.0, 2136.0, 2135.0, 2134.0, 2133.0, 2132.0, 2131.0, 2130.0, 2129.0, 2128.0, 2127.0, 2126.0, 2125.0, 2124.0, 2123.0, 2122.0, 2121.0, 2120.0, 2119.0, 2118.0, 2117.0, 2116.0, 2115.0, 2114.0, 2113.0, 2112.0, 2111.0, 2110.0, 2109.0, 2108.0, 2107.0, 2106.0, 2105.0, 2104.0, 2103.0, 2102.0, 2101.0, 2100.0, 2099.0, 2098.0, 2097.0, 2096.0, 2095.0, 2094.0, 2093.0, 2092.0, 2091.0, 2090.0, 2089.0, 2088.0, 2087.0, 2086.0, 2085.0, 2084.0, 2083.0, 2082.0, 2081.0, 2080.0, 2079.0, 2078.0, 2077.0, 2076.0, 2075.0, 2074.0, 2073.0, 2072.0, 2071.0, 2070.0, 2069.0, 2068.0, 2067.0, 2066.0, 2065.0, 2064.0, 2063.0, 2062.0, 2061.0, 2060.0, 2059.0, 2058.0, 2057.0, 2056.0, 2055.0, 2054.0, 2053.0, 2052.0, 2051.0, 2050.0, 2049.0, 2048.0, 2047.0, 2046.0, 2045.0, 2044.0, 2043.0, 2042.0, 2041.0, 2040.0, 2039.0, 2038.0, 2037.0, 2036.0, 2035.0, 2034.0, 2033.0, 2032.0, 2031.0, 2030.0, 2029.0, 2028.0, 2027.0, 2026.0, 2025.0, 2024.0, 2023.0, 2022.0, 2021.0, 2020.0, 2019.0, 2018.0, 2017.0, 2016.0, 2015.0, 2014.0, 2013.0, 2012.0, 2011.0, 2010.0, 2009.0, 2008.0, 2007.0, 2006.0, 2005.0, 2004.0, 2003.0, 2002.0, 2001.0, 2000.0, 1999.0, 1998.0, 1997.0, 1996.0, 1995.0, 1994.0, 1993.0, 1992.0, 1991.0, 1990.0, 1989.0, 1988.0, 1987.0, 1986.0, 1985.0, 1984.0, 1983.0, 1982.0, 1981.0, 1980.0, 1979.0, 1978.0, 1977.0, 1976.0, 1975.0, 1974.0, 1973.0, 1972.0, 1971.0, 1970.0, 1969.0, 1968.0, 1967.0, 1966.0, 1965.0, 1964.0, 1963.0, 1962.0, 1961.0, 1960.0, 1959.0, 1958.0, 1957.0, 1956.0, 1955.0, 1954.0, 1953.0, 1952.0, 1951.0, 1950.0, 1949.0, 1948.0, 1947.0, 1946.0, 1945.0, 1944.0, 1943.0, 1942.0, 1941.0, 1940.0, 1939.0, 1938.0, 1937.0, 1936.0, 1935.0, 1934.0, 1933.0, 1932.0, 1931.0, 1930.0, 1929.0, 1928.0, 1927.0, 1926.0, 1925.0, 1924.0, 1923.0, 1922.0, 1921.0, 1920.0, 1919.0, 1918.0, 1917.0, 1916.0, 1915.0, 1914.0, 1913.0, 1912.0, 1911.0, 1910.0, 1909.0, 1908.0, 1907.0, 1906.0, 1905.0, 1904.0, 1903.0, 1902.0, 1901.0, 1900.0, 1899.0, 1898.0, 1897.0, 1896.0, 1895.0, 1894.0, 1893.0, 1892.0, 1891.0, 1890.0, 1889.0, 1888.0, 1887.0, 1886.0, 1885.0, 1884.0, 1883.0, 1882.0, 1881.0, 1880.0, 1879.0, 1878.0, 1877.0, 1876.0, 1875.0, 1874.0, 1873.0, 1872.0, 1871.0, 1870.0, 1869.0, 1868.0, 1867.0, 1866.0, 1865.0, 1864.0, 1863.0, 1862.0, 1861.0, 1860.0, 1859.0, 1858.0, 1857.0, 1856.0, 1855.0, 1854.0, 1853.0, 1852.0, 1851.0, 1850.0, 1849.0, 1848.0, 1847.0, 1846.0, 1845.0, 1844.0, 1843.0, 1842.0, 1841.0, 1840.0, 1839.0, 1838.0, 1837.0, 1836.0, 1835.0, 1834.0, 1833.0, 1832.0, 1831.0, 1830.0, 1829.0, 1828.0, 1827.0, 1826.0, 1825.0, 1824.0, 1823.0, 1822.0, 1821.0, 1820.0, 1819.0, 1818.0, 1817.0, 1816.0, 1815.0, 1814.0, 1813.0, 1812.0, 1811.0, 1810.0, 1809.0, 1808.0, 1807.0, 1806.0, 1805.0, 1804.0, 1803.0, 1802.0, 1801.0, 1800.0, 1799.0, 1798.0, 1797.0, 1796.0, 1795.0, 1794.0, 1793.0, 1792.0, 1791.0, 1790.0, 1789.0, 1788.0, 1787.0, 1786.0, 1785.0, 1784.0, 1783.0, 1782.0, 1781.0, 1780.0, 1779.0, 1778.0, 1777.0, 1776.0, 1775.0, 1774.0, 1773.0, 1772.0, 1771.0, 1770.0, 1769.0, 1768.0, 1767.0, 1766.0, 1765.0, 1764.0, 1763.0, 1762.0, 1761.0, 1760.0, 1759.0, 1758.0, 1757.0, 1756.0, 1755.0, 1754.0, 1753.0, 1752.0, 1751.0, 1750.0, 1749.0, 1748.0, 1747.0, 1746.0, 1745.0, 1744.0, 1743.0, 1742.0, 1741.0, 1740.0, 1739.0, 1738.0, 1737.0, 1736.0, 1735.0, 1734.0, 1733.0, 1732.0, 1731.0, 1730.0, 1729.0, 1728.0, 1727.0, 1726.0, 1725.0, 1724.0, 1723.0, 1722.0, 1721.0, 1720.0, 1719.0, 1718.0, 1717.0, 1716.0, 1715.0, 1714.0, 1713.0, 1712.0, 1711.0, 1710.0, 1709.0, 1708.0, 1707.0, 1706.0, 1705.0, 1704.0, 1703.0, 1702.0, 1701.0, 1700.0, 1699.0, 1698.0, 1697.0, 1696.0, 1695.0, 1694.0, 1693.0, 1692.0, 1691.0, 1690.0, 1689.0, 1688.0, 1687.0, 1686.0, 1685.0, 1684.0, 1683.0, 1682.0, 1681.0, 1680.0, 1679.0, 1678.0, 1677.0, 1676.0, 1675.0, 1674.0, 1673.0, 1672.0, 1671.0, 1670.0, 1669.0, 1668.0, 1667.0, 1666.0, 1665.0, 1664.0, 1663.0, 1662.0, 1661.0, 1660.0, 1659.0, 1658.0, 1657.0, 1656.0, 1655.0, 1654.0, 1653.0, 1652.0, 1651.0, 1650.0, 1649.0, 1648.0, 1647.0, 1646.0, 1645.0, 1644.0, 1643.0, 1642.0, 1641.0, 1640.0, 1639.0, 1638.0, 1637.0, 1636.0, 1635.0, 1634.0, 1633.0, 1632.0, 1631.0, 1630.0, 1629.0, 1628.0, 1627.0, 1626.0, 1625.0, 1624.0, 1623.0, 1622.0, 1621.0, 1620.0, 1619.0, 1618.0, 1617.0, 1616.0, 1615.0, 1614.0, 1613.0, 1612.0, 1611.0, 1610.0, 1609.0, 1608.0, 1607.0, 1606.0, 1605.0, 1604.0, 1603.0, 1602.0, 1601.0, 1600.0, 1599.0, 1598.0, 1597.0, 1596.0, 1595.0, 1594.0, 1593.0, 1592.0, 1591.0, 1590.0, 1589.0, 1588.0, 1587.0, 1586.0, 1585.0, 1584.0, 1583.0, 1582.0, 1581.0, 1580.0, 1579.0, 1578.0, 1577.0, 1576.0, 1575.0, 1574.0, 1573.0, 1572.0, 1571.0, 1570.0, 1569.0, 1568.0, 1567.0, 1566.0, 1565.0, 1564.0, 1563.0, 1562.0, 1561.0, 1560.0, 1559.0, 1558.0, 1557.0, 1556.0, 1555.0, 1554.0, 1553.0, 1553.0], 'phaseFractions': {'FCC_A1': 0.999984}, 'Lfrac': [1.0, 1.0, 1.0, 1.0, 1.0, 1.0, 1.0, 1.0, 1.0, 1.0, 1.0, 1.0, 1.0, 1.0, 1.0, 1.0, 1.0, 1.0, 1.0, 1.0, 1.0, 1.0, 1.0, 1.0, 1.0, 1.0, 1.0, 1.0, 1.0, 1.0, 1.0, 1.0, 1.0, 1.0, 1.0, 1.0, 1.0, 1.0, 1.0, 1.0, 1.0, 1.0, 1.0, 1.0, 1.0, 1.0, 1.0, 1.0, 1.0, 1.0, 1.0, 1.0, 1.0, 1.0, 1.0, 1.0, 1.0, 1.0, 1.0, 1.0, 1.0, 1.0, 1.0, 1.0, 1.0, 1.0, 1.0, 1.0, 1.0, 1.0, 1.0, 1.0, 1.0, 1.0, 1.0, 1.0, 1.0, 1.0, 1.0, 1.0, 1.0, 1.0, 1.0, 1.0, 1.0, 1.0, 1.0, 1.0, 1.0, 1.0, 1.0, 1.0, 1.0, 1.0, 1.0, 1.0, 1.0, 1.0, 1.0, 1.0, 1.0, 1.0, 1.0, 1.0, 1.0, 1.0, 1.0, 1.0, 1.0, 1.0, 1.0, 1.0, 1.0, 1.0, 1.0, 1.0, 1.0, 1.0, 1.0, 1.0, 1.0, 1.0, 1.0, 1.0, 1.0, 1.0, 1.0, 1.0, 1.0, 1.0, 1.0, 1.0, 1.0, 1.0, 1.0, 1.0, 1.0, 1.0, 1.0, 1.0, 1.0, 1.0, 1.0, 1.0, 1.0, 1.0, 1.0, 1.0, 1.0, 1.0, 1.0, 1.0, 1.0, 1.0, 1.0, 1.0, 1.0, 1.0, 1.0, 1.0, 1.0, 1.0, 1.0, 1.0, 1.0, 1.0, 1.0, 1.0, 1.0, 1.0, 1.0, 1.0, 1.0, 1.0, 1.0, 1.0, 1.0, 1.0, 1.0, 1.0, 1.0, 1.0, 1.0, 1.0, 1.0, 1.0, 1.0, 1.0, 1.0, 1.0, 1.0, 1.0, 1.0, 1.0, 1.0, 1.0, 1.0, 1.0, 1.0, 1.0, 1.0, 1.0, 1.0, 1.0, 1.0, 1.0, 1.0, 1.0, 1.0, 1.0, 1.0, 1.0, 1.0, 1.0, 1.0, 1.0, 1.0, 1.0, 1.0, 1.0, 1.0, 1.0, 1.0, 1.0, 1.0, 1.0, 1.0, 1.0, 1.0, 1.0, 1.0, 1.0, 1.0, 1.0, 1.0, 1.0, 1.0, 1.0, 1.0, 1.0, 1.0, 1.0, 1.0, 1.0, 1.0, 1.0, 1.0, 1.0, 1.0, 1.0, 1.0, 1.0, 1.0, 1.0, 1.0, 1.0, 1.0, 1.0, 1.0, 1.0, 1.0, 1.0, 1.0, 1.0, 1.0, 1.0, 1.0, 1.0, 1.0, 1.0, 1.0, 1.0, 1.0, 1.0, 1.0, 1.0, 1.0, 1.0, 1.0, 1.0, 1.0, 1.0, 1.0, 1.0, 1.0, 1.0, 1.0, 1.0, 1.0, 1.0, 1.0, 1.0, 1.0, 1.0, 1.0, 1.0, 1.0, 1.0, 1.0, 1.0, 1.0, 1.0, 1.0, 1.0, 1.0, 1.0, 1.0, 1.0, 1.0, 1.0, 1.0, 1.0, 1.0, 1.0, 1.0, 1.0, 1.0, 1.0, 1.0, 1.0, 1.0, 1.0, 1.0, 1.0, 1.0, 1.0, 1.0, 1.0, 1.0, 1.0, 1.0, 1.0, 1.0, 1.0, 1.0, 1.0, 1.0, 1.0, 1.0, 1.0, 1.0, 1.0, 1.0, 1.0, 1.0, 1.0, 1.0, 1.0, 1.0, 1.0, 1.0, 1.0, 1.0, 1.0, 1.0, 1.0, 1.0, 1.0, 1.0, 1.0, 1.0, 1.0, 1.0, 1.0, 1.0, 1.0, 1.0, 1.0, 1.0, 1.0, 1.0, 1.0, 1.0, 1.0, 1.0, 1.0, 1.0, 1.0, 1.0, 1.0, 1.0, 1.0, 1.0, 1.0, 1.0, 1.0, 1.0, 1.0, 1.0, 1.0, 1.0, 1.0, 1.0, 1.0, 1.0, 1.0, 1.0, 1.0, 1.0, 1.0, 1.0, 1.0, 1.0, 1.0, 1.0, 1.0, 1.0, 1.0, 1.0, 1.0, 1.0, 1.0, 1.0, 1.0, 1.0, 1.0, 1.0, 1.0, 1.0, 1.0, 1.0, 1.0, 1.0, 1.0, 1.0, 1.0, 1.0, 1.0, 1.0, 1.0, 1.0, 1.0, 1.0, 1.0, 1.0, 1.0, 1.0, 1.0, 1.0, 1.0, 1.0, 1.0, 1.0, 1.0, 1.0, 1.0, 1.0, 1.0, 1.0, 1.0, 1.0, 1.0, 1.0, 1.0, 1.0, 1.0, 1.0, 1.0, 1.0, 1.0, 1.0, 1.0, 1.0, 1.0, 1.0, 1.0, 1.0, 1.0, 1.0, 1.0, 1.0, 1.0, 1.0, 1.0, 1.0, 1.0, 1.0, 1.0, 1.0, 1.0, 1.0, 1.0, 1.0, 1.0, 1.0, 1.0, 1.0, 1.0, 1.0, 1.0, 1.0, 1.0, 1.0, 1.0, 1.0, 1.0, 1.0, 1.0, 1.0, 1.0, 1.0, 1.0, 1.0, 1.0, 1.0, 1.0, 1.0, 1.0, 1.0, 1.0, 1.0, 1.0, 1.0, 1.0, 1.0, 1.0, 1.0, 1.0, 1.0, 1.0, 1.0, 1.0, 1.0, 1.0, 1.0, 1.0, 1.0, 1.0, 1.0, 1.0, 1.0, 1.0, 1.0, 1.0, 1.0, 1.0, 1.0, 1.0, 1.0, 1.0, 1.0, 1.0, 1.0, 1.0, 1.0, 1.0, 1.0, 1.0, 1.0, 1.0, 1.0, 1.0, 1.0, 1.0, 1.0, 1.0, 1.0, 1.0, 1.0, 1.0, 1.0, 1.0, 1.0, 1.0, 1.0, 1.0, 1.0, 1.0, 1.0, 1.0, 1.0, 1.0, 1.0, 1.0, 1.0, 1.0, 1.0, 1.0, 1.0, 1.0, 1.0, 1.0, 1.0, 1.0, 1.0, 1.0, 1.0, 1.0, 1.0, 1.0, 1.0, 1.0, 1.0, 1.0, 1.0, 1.0, 1.0, 1.0, 1.0, 1.0, 1.0, 1.0, 1.0, 1.0, 1.0, 1.0, 1.0, 1.0, 1.0, 1.0, 1.0, 1.0, 1.0, 1.0, 1.0, 1.0, 1.0, 1.0, 1.0, 1.0, 1.0, 1.0, 1.0, 1.0, 1.0, 1.0, 1.0, 1.0, 1.0, 1.0, 1.0, 1.0, 1.0, 1.0, 1.0, 1.0, 1.0, 1.0, 1.0, 1.0, 1.0, 1.0, 1.0, 1.0, 1.0, 1.0, 1.0, 1.0, 1.0, 1.0, 1.0, 1.0, 1.0, 1.0, 1.0, 1.0, 1.0, 1.0, 1.0, 1.0, 1.0, 1.0, 1.0, 1.0, 1.0, 1.0, 1.0, 1.0, 1.0, 1.0, 1.0, 1.0, 1.0, 1.0, 1.0, 1.0, 1.0, 1.0, 1.0, 1.0, 1.0, 1.0, 1.0, 1.0, 1.0, 1.0, 1.0, 1.0, 1.0, 1.0, 1.0, 1.0, 1.0, 1.0, 1.0, 1.0, 1.0, 1.0, 1.0, 1.0, 1.0, 1.0, 1.0, 1.0, 1.0, 1.0, 1.0, 1.0, 1.0, 1.0, 1.0, 1.0, 1.0, 1.0, 1.0, 1.0, 1.0, 1.0, 1.0, 1.0, 1.0, 1.0, 1.0, 1.0, 1.0, 1.0, 1.0, 1.0, 1.0, 1.0, 1.0, 1.0, 1.0, 1.0, 1.0, 1.0, 1.0, 1.0, 1.0, 1.0, 1.0, 1.0, 1.0, 1.0, 1.0, 1.0, 1.0, 1.0, 1.0, 1.0, 1.0, 1.0, 1.0, 1.0, 1.0, 1.0, 1.0, 1.0, 1.0, 1.0, 1.0, 1.0, 1.0, 1.0, 1.0, 1.0, 1.0, 1.0, 1.0, 1.0, 1.0, 1.0, 1.0, 1.0, 1.0, 1.0, 1.0, 1.0, 1.0, 1.0, 1.0, 1.0, 1.0, 1.0, 1.0, 1.0, 1.0, 1.0, 1.0, 1.0, 1.0, 1.0, 1.0, 1.0, 1.0, 1.0, 1.0, 1.0, 1.0, 1.0, 1.0, 1.0, 1.0, 1.0, 1.0, 1.0, 1.0, 1.0, 1.0, 1.0, 1.0, 1.0, 1.0, 1.0, 1.0, 1.0, 1.0, 1.0, 1.0, 1.0, 1.0, 1.0, 1.0, 1.0, 1.0, 1.0, 1.0, 1.0, 1.0, 1.0, 1.0, 1.0, 1.0, 1.0, 1.0, 1.0, 1.0, 1.0, 1.0, 1.0, 1.0, 1.0, 1.0, 1.0, 1.0, 1.0, 1.0, 1.0, 1.0, 1.0, 1.0, 0.9636928676562471, 0.9185125294623702, 0.8755771793578931, 0.8347604920628058, 0.7959443311737153, 0.7590181449990394, 0.7238784116385271, 0.6904281305049393, 0.6585763547094133, 0.6282377606949436, 0.5993322528949071, 0.571784598736443, 0.5455240928815, 0.5204842470739869, 0.4966025040413309, 0.4738199728634318, 0.45208118472690473, 0.4313338666175599, 0.4115287320270924, 0.3926192866873881, 0.3745616488830489, 0.3573143825313254, 0.3408383422448641, 0.32509652935845923, 0.3100539583183829, 0.2956775321569224, 0.2819359266626227, 0.2687994826865081, 0.25624010558787313, 0.24423117163229635, 0.23274744062651886, 0.22176497431218545, 0.21126106032210956, 0.20121414098362544, 0.19160374675103486, 0.18241043417319502, 0.17361572748409326, 0.1652020642238372, 0.15715274415779767, 0.1494518814021918, 0.14208435958419474, 0.1350357897955652, 0.12829247102110775, 0.12184135311084665, 0.11567000193303434, 0.10976656667574314, 0.10411974900262488, 0.09871877421134156, 0.09355336392117841, 0.08861371045271682, 0.08389045276526275, 0.07937465365208352, 0.07505777835742256, 0.07093167439918202, 0.06698855251583469, 0.06322096872300775, 0.0596218073943553, 0.056184265272296696, 0.05290183638784529, 0.04976829783698389, 0.046777696352757414, 0.043924335591274954, 0.041202764192804664, 0.03860776445569081, 0.03613434167898655, 0.033777714086173805, 0.03153330335024951, 0.029396725627832576, 0.027363783150165633, 0.02543045629694185, 0.023592896167879296, 0.021847417603162222, 0.02019049270095208, 0.018618744738050363, 0.017128942592222418, 0.015717995600125323, 0.014382948879899882, 0.013120979156439061, 0.01192939109728075, 0.01080561422596893, 0.009747200465462735, 0.00875182241220307, 0.007817272471092207, 0.006941463030307293, 0.00612242793788198, 0.0053583256448827, 0.0046474445606280446, 0.00398821141006922, 0.0033792038144051517, 0.0028191690107837175, 0.002307051830838014, 0.001842037269002783, 0.0014236172332106056, 0.0010516999978174013, 0.000726801380629527, 0.00045041026443415344, 0.00022578905017500706, 6.016998364977155e-05, 0.0], 'Sfrac': [0.0, 0.0, 0.0, 0.0, 0.0, 0.0, 0.0, 0.0, 0.0, 0.0, 0.0, 0.0, 0.0, 0.0, 0.0, 0.0, 0.0, 0.0, 0.0, 0.0, 0.0, 0.0, 0.0, 0.0, 0.0, 0.0, 0.0, 0.0, 0.0, 0.0, 0.0, 0.0, 0.0, 0.0, 0.0, 0.0, 0.0, 0.0, 0.0, 0.0, 0.0, 0.0, 0.0, 0.0, 0.0, 0.0, 0.0, 0.0, 0.0, 0.0, 0.0, 0.0, 0.0, 0.0, 0.0, 0.0, 0.0, 0.0, 0.0, 0.0, 0.0, 0.0, 0.0, 0.0, 0.0, 0.0, 0.0, 0.0, 0.0, 0.0, 0.0, 0.0, 0.0, 0.0, 0.0, 0.0, 0.0, 0.0, 0.0, 0.0, 0.0, 0.0, 0.0, 0.0, 0.0, 0.0, 0.0, 0.0, 0.0, 0.0, 0.0, 0.0, 0.0, 0.0, 0.0, 0.0, 0.0, 0.0, 0.0, 0.0, 0.0, 0.0, 0.0, 0.0, 0.0, 0.0, 0.0, 0.0, 0.0, 0.0, 0.0, 0.0, 0.0, 0.0, 0.0, 0.0, 0.0, 0.0, 0.0, 0.0, 0.0, 0.0, 0.0, 0.0, 0.0, 0.0, 0.0, 0.0, 0.0, 0.0, 0.0, 0.0, 0.0, 0.0, 0.0, 0.0, 0.0, 0.0, 0.0, 0.0, 0.0, 0.0, 0.0, 0.0, 0.0, 0.0, 0.0, 0.0, 0.0, 0.0, 0.0, 0.0, 0.0, 0.0, 0.0, 0.0, 0.0, 0.0, 0.0, 0.0, 0.0, 0.0, 0.0, 0.0, 0.0, 0.0, 0.0, 0.0, 0.0, 0.0, 0.0, 0.0, 0.0, 0.0, 0.0, 0.0, 0.0, 0.0, 0.0, 0.0, 0.0, 0.0, 0.0, 0.0, 0.0, 0.0, 0.0, 0.0, 0.0, 0.0, 0.0, 0.0, 0.0, 0.0, 0.0, 0.0, 0.0, 0.0, 0.0, 0.0, 0.0, 0.0, 0.0, 0.0, 0.0, 0.0, 0.0, 0.0, 0.0, 0.0, 0.0, 0.0, 0.0, 0.0, 0.0, 0.0, 0.0, 0.0, 0.0, 0.0, 0.0, 0.0, 0.0, 0.0, 0.0, 0.0, 0.0, 0.0, 0.0, 0.0, 0.0, 0.0, 0.0, 0.0, 0.0, 0.0, 0.0, 0.0, 0.0, 0.0, 0.0, 0.0, 0.0, 0.0, 0.0, 0.0, 0.0, 0.0, 0.0, 0.0, 0.0, 0.0, 0.0, 0.0, 0.0, 0.0, 0.0, 0.0, 0.0, 0.0, 0.0, 0.0, 0.0, 0.0, 0.0, 0.0, 0.0, 0.0, 0.0, 0.0, 0.0, 0.0, 0.0, 0.0, 0.0, 0.0, 0.0, 0.0, 0.0, 0.0, 0.0, 0.0, 0.0, 0.0, 0.0, 0.0, 0.0, 0.0, 0.0, 0.0, 0.0, 0.0, 0.0, 0.0, 0.0, 0.0, 0.0, 0.0, 0.0, 0.0, 0.0, 0.0, 0.0, 0.0, 0.0, 0.0, 0.0, 0.0, 0.0, 0.0, 0.0, 0.0, 0.0, 0.0, 0.0, 0.0, 0.0, 0.0, 0.0, 0.0, 0.0, 0.0, 0.0, 0.0, 0.0, 0.0, 0.0, 0.0, 0.0, 0.0, 0.0, 0.0, 0.0, 0.0, 0.0, 0.0, 0.0, 0.0, 0.0, 0.0, 0.0, 0.0, 0.0, 0.0, 0.0, 0.0, 0.0, 0.0, 0.0, 0.0, 0.0, 0.0, 0.0, 0.0, 0.0, 0.0, 0.0, 0.0, 0.0, 0.0, 0.0, 0.0, 0.0, 0.0, 0.0, 0.0, 0.0, 0.0, 0.0, 0.0, 0.0, 0.0, 0.0, 0.0, 0.0, 0.0, 0.0, 0.0, 0.0, 0.0, 0.0, 0.0, 0.0, 0.0, 0.0, 0.0, 0.0, 0.0, 0.0, 0.0, 0.0, 0.0, 0.0, 0.0, 0.0, 0.0, 0.0, 0.0, 0.0, 0.0, 0.0, 0.0, 0.0, 0.0, 0.0, 0.0, 0.0, 0.0, 0.0, 0.0, 0.0, 0.0, 0.0, 0.0, 0.0, 0.0, 0.0, 0.0, 0.0, 0.0, 0.0, 0.0, 0.0, 0.0, 0.0, 0.0, 0.0, 0.0, 0.0, 0.0, 0.0, 0.0, 0.0, 0.0, 0.0, 0.0, 0.0, 0.0, 0.0, 0.0, 0.0, 0.0, 0.0, 0.0, 0.0, 0.0, 0.0, 0.0, 0.0, 0.0, 0.0, 0.0, 0.0, 0.0, 0.0, 0.0, 0.0, 0.0, 0.0, 0.0, 0.0, 0.0, 0.0, 0.0, 0.0, 0.0, 0.0, 0.0, 0.0, 0.0, 0.0, 0.0, 0.0, 0.0, 0.0, 0.0, 0.0, 0.0, 0.0, 0.0, 0.0, 0.0, 0.0, 0.0, 0.0, 0.0, 0.0, 0.0, 0.0, 0.0, 0.0, 0.0, 0.0, 0.0, 0.0, 0.0, 0.0, 0.0, 0.0, 0.0, 0.0, 0.0, 0.0, 0.0, 0.0, 0.0, 0.0, 0.0, 0.0, 0.0, 0.0, 0.0, 0.0, 0.0, 0.0, 0.0, 0.0, 0.0, 0.0, 0.0, 0.0, 0.0, 0.0, 0.0, 0.0, 0.0, 0.0, 0.0, 0.0, 0.0, 0.0, 0.0, 0.0, 0.0, 0.0, 0.0, 0.0, 0.0, 0.0, 0.0, 0.0, 0.0, 0.0, 0.0, 0.0, 0.0, 0.0, 0.0, 0.0, 0.0, 0.0, 0.0, 0.0, 0.0, 0.0, 0.0, 0.0, 0.0, 0.0, 0.0, 0.0, 0.0, 0.0, 0.0, 0.0, 0.0, 0.0, 0.0, 0.0, 0.0, 0.0, 0.0, 0.0, 0.0, 0.0, 0.0, 0.0, 0.0, 0.0, 0.0, 0.0, 0.0, 0.0, 0.0, 0.0, 0.0, 0.0, 0.0, 0.0, 0.0, 0.0, 0.0, 0.0, 0.0, 0.0, 0.0, 0.0, 0.0, 0.0, 0.0, 0.0, 0.0, 0.0, 0.0, 0.0, 0.0, 0.0, 0.0, 0.0, 0.0, 0.0, 0.0, 0.0, 0.0, 0.0, 0.0, 0.0, 0.0, 0.0, 0.0, 0.0, 0.0, 0.0, 0.0, 0.0, 0.0, 0.0, 0.0, 0.0, 0.0, 0.0, 0.0, 0.0, 0.0, 0.0, 0.0, 0.0, 0.0, 0.0, 0.0, 0.0, 0.0, 0.0, 0.0, 0.0, 0.0, 0.0, 0.0, 0.0, 0.0, 0.0, 0.0, 0.0, 0.0, 0.0, 0.0, 0.0, 0.0, 0.0, 0.0, 0.0, 0.0, 0.0, 0.0, 0.0, 0.0, 0.0, 0.0, 0.0, 0.0, 0.0, 0.0, 0.0, 0.0, 0.0, 0.0, 0.0, 0.0, 0.0, 0.0, 0.0, 0.0, 0.0, 0.0, 0.0, 0.0, 0.0, 0.0, 0.0, 0.0, 0.0, 0.0, 0.0, 0.0, 0.0, 0.0, 0.0, 0.0, 0.0, 0.0, 0.0, 0.0, 0.0, 0.0, 0.0, 0.0, 0.0, 0.0, 0.0, 0.0, 0.0, 0.0, 0.0, 0.0, 0.0, 0.0, 0.0, 0.0, 0.0, 0.0, 0.0, 0.0, 0.0, 0.0, 0.0, 0.0, 0.0, 0.0, 0.0, 0.0, 0.0, 0.0, 0.0, 0.0, 0.0, 0.0, 0.0, 0.0, 0.0, 0.0, 0.0, 0.0, 0.0, 0.0, 0.0, 0.0, 0.0, 0.0, 0.0, 0.0, 0.0, 0.0, 0.0, 0.0, 0.0, 0.0, 0.0, 0.0, 0.0, 0.0, 0.0, 0.0, 0.0, 0.0, 0.0, 0.0, 0.0, 0.0, 0.0, 0.0, 0.0, 0.0, 0.0, 0.0, 0.0, 0.0, 0.0, 0.0, 0.0, 0.0, 0.0, 0.0, 0.0, 0.0, 0.0, 0.0, 0.0, 0.0, 0.0, 0.0, 0.0, 0.0, 0.0, 0.0, 0.0, 0.0, 0.0, 0.0, 0.0, 0.0, 0.0, 0.0, 0.0, 0.0, 0.0, 0.0, 0.0, 0.0, 0.0, 0.0, 0.0, 0.0, 0.0, 0.0, 0.0, 0.0, 0.0, 0.0, 0.0, 0.0, 0.0, 0.0, 0.0, 0.0, 0.0, 0.0, 0.0, 0.0, 0.0, 0.0, 0.0, 0.0, 0.0, 0.0, 0.0, 0.0, 0.0, 0.0, 0.0, 0.0, 0.0, 0.0, 0.0, 0.0, 0.0, 0.0, 0.0, 0.0, 0.0, 0.0, 0.0, 0.03630713234375289, 0.08148747053762981, 0.12442282064210688, 0.16523950793719416, 0.20405566882628473, 0.2409818550009606, 0.276121588361473, 0.30957186949506066, 0.34142364529058666, 0.3717622393050563, 0.4006677471050929, 0.42821540126355695, 0.45447590711850006, 0.4795157529260131, 0.5033974959586691, 0.5261800271365682, 0.5479188152730953, 0.5686661333824401, 0.5884712679729076, 0.6073807133126119, 0.6254383511169511, 0.6426856174686746, 0.6591616577551359, 0.6749034706415408, 0.6899460416816171, 0.7043224678430776, 0.7180640733373773, 0.7312005173134919, 0.7437598944121269, 0.7557688283677036, 0.7672525593734811, 0.7782350256878146, 0.7887389396778904, 0.7987858590163746, 0.8083962532489651, 0.817589565826805, 0.8263842725159067, 0.8347979357761628, 0.8428472558422023, 0.8505481185978082, 0.8579156404158053, 0.8649642102044348, 0.8717075289788923, 0.8781586468891533, 0.8843299980669657, 0.8902334333242569, 0.8958802509973751, 0.9012812257886584, 0.9064466360788216, 0.9113862895472832, 0.9161095472347373, 0.9206253463479165, 0.9249422216425774, 0.929068325600818, 0.9330114474841653, 0.9367790312769922, 0.9403781926056447, 0.9438157347277033, 0.9470981636121547, 0.9502317021630161, 0.9532223036472426, 0.956075664408725, 0.9587972358071953, 0.9613922355443092, 0.9638656583210135, 0.9662222859138262, 0.9684666966497505, 0.9706032743721674, 0.9726362168498344, 0.9745695437030581, 0.9764071038321207, 0.9781525823968378, 0.9798095072990479, 0.9813812552619496, 0.9828710574077776, 0.9842820043998747, 0.9856170511201001, 0.9868790208435609, 0.9880706089027192, 0.9891943857740311, 0.9902527995345373, 0.9912481775877969, 0.9921827275289078, 0.9930585369696927, 0.993877572062118, 0.9946416743551173, 0.995352555439372, 0.9960117885899308, 0.9966207961855948, 0.9971808309892163, 0.997692948169162, 0.9981579627309972, 0.9985763827667894, 0.9989483000021826, 0.9992731986193705, 0.9995495897355658, 0.999774210949825, 0.9999398300163502, 1.0], 'solT': 1553.0, 'liqT': 1652.0}\n"
     ]
    }
   ],
   "source": [
    "scheil63=scheil_callable(gridEl[63])\n",
    "print(scheil63)"
   ]
  },
  {
   "cell_type": "markdown",
   "id": "616ce395",
   "metadata": {
    "papermill": {
     "duration": 1.973256,
     "end_time": "2024-06-12T20:34:01.820199",
     "exception": false,
     "start_time": "2024-06-12T20:33:59.846943",
     "status": "completed"
    },
    "tags": []
   },
   "source": [
    "Now, you should have seen an example of infeasible point composed of `['HCP_A3', 'LAVES_C15', 'BCC_A2']`. Let's deploy this in parallel over all the points in the elemental space `gridEl` and see how it looks like! We will use the `process_map` function from the `tqdm` library to show a neat progress bar while the calculations are running in parallel. On the 4-core Codespaces VM you can expect it to take around 2-3 minutes."
   ]
  },
  {
   "cell_type": "code",
   "execution_count": 11,
   "id": "892b6e42",
   "metadata": {
    "execution": {
     "iopub.execute_input": "2024-06-12T20:34:01.891392Z",
     "iopub.status.busy": "2024-06-12T20:34:01.890903Z",
     "iopub.status.idle": "2024-06-12T20:34:03.028670Z",
     "shell.execute_reply": "2024-06-12T20:34:03.028287Z"
    },
    "papermill": {
     "duration": 1.164574,
     "end_time": "2024-06-12T20:34:03.029711",
     "exception": false,
     "start_time": "2024-06-12T20:34:01.865137",
     "status": "completed"
    },
    "tags": []
   },
   "outputs": [],
   "source": [
    "from tqdm import tqdm\n",
    "from tqdm.contrib.concurrent import process_map"
   ]
  },
  {
   "cell_type": "code",
   "execution_count": 12,
   "id": "fceac1cd",
   "metadata": {
    "execution": {
     "iopub.execute_input": "2024-06-12T20:34:03.047639Z",
     "iopub.status.busy": "2024-06-12T20:34:03.047403Z",
     "iopub.status.idle": "2024-06-12T20:34:47.119082Z",
     "shell.execute_reply": "2024-06-12T20:34:47.118189Z"
    },
    "papermill": {
     "duration": 44.083408,
     "end_time": "2024-06-12T20:34:47.121964",
     "exception": false,
     "start_time": "2024-06-12T20:34:03.038556",
     "status": "completed"
    },
    "tags": []
   },
   "outputs": [
    {
     "data": {
      "application/vnd.jupyter.widget-view+json": {
       "model_id": "44c77ac2f9e2446fb8de89c44ef5ff6f",
       "version_major": 2,
       "version_minor": 0
      },
      "text/plain": [
       "  0%|          | 0/455 [00:00<?, ?it/s]"
      ]
     },
     "metadata": {},
     "output_type": "display_data"
    }
   ],
   "source": [
    "gridPhases = process_map(equilibrium_callable, gridEl)"
   ]
  },
  {
   "cell_type": "code",
   "execution_count": 13,
   "id": "b1b326bf",
   "metadata": {
    "execution": {
     "iopub.execute_input": "2024-06-12T20:34:49.565533Z",
     "iopub.status.busy": "2024-06-12T20:34:49.564737Z",
     "iopub.status.idle": "2024-06-12T20:34:49.685013Z",
     "shell.execute_reply": "2024-06-12T20:34:49.684711Z"
    },
    "papermill": {
     "duration": 0.234114,
     "end_time": "2024-06-12T20:34:49.780057",
     "exception": false,
     "start_time": "2024-06-12T20:34:49.545943",
     "status": "completed"
    },
    "tags": []
   },
   "outputs": [
    {
     "data": {
      "text/plain": [
       "[[],\n",
       " ['SIGMA_D8B', 'SIGMA_D8B'],\n",
       " ['SIGMA_D8B', 'SIGMA_D8B', 'BCC_B2'],\n",
       " ['BCC_B2', 'SIGMA_D8B'],\n",
       " ['L12_FCC'],\n",
       " ['L12_FCC', 'BCC_B2'],\n",
       " ['BCC_B2', 'L12_FCC'],\n",
       " ['BCC_B2', 'L12_FCC'],\n",
       " ['BCC_B2', 'L12_FCC', 'SIGMA_D8B'],\n",
       " ['BCC_B2', 'SIGMA_D8B']]"
      ]
     },
     "execution_count": 13,
     "metadata": {},
     "output_type": "execute_result"
    }
   ],
   "source": [
    "gridPhases[120:130]"
   ]
  },
  {
   "cell_type": "markdown",
   "id": "8c788cf2",
   "metadata": {
    "tags": [
     "papermill-error-cell-tag"
    ]
   },
   "source": [
    "<span id=\"papermill-error-cell\" style=\"color:red; font-family:Helvetica Neue, Helvetica, Arial, sans-serif; font-size:2em;\">Execution using papermill encountered an exception here and stopped:</span>"
   ]
  },
  {
   "cell_type": "code",
   "execution_count": 14,
   "id": "5e23a613",
   "metadata": {
    "execution": {
     "iopub.execute_input": "2024-06-12T20:34:49.798399Z",
     "iopub.status.busy": "2024-06-12T20:34:49.798040Z",
     "iopub.status.idle": "2024-06-12T20:34:51.173756Z",
     "shell.execute_reply": "2024-06-12T20:34:51.173278Z"
    },
    "papermill": {
     "duration": 1.385453,
     "end_time": "2024-06-12T20:34:51.174389",
     "exception": true,
     "start_time": "2024-06-12T20:34:49.788936",
     "status": "failed"
    },
    "tags": []
   },
   "outputs": [
    {
     "ename": "NameError",
     "evalue": "name 'scheil_callable2' is not defined",
     "output_type": "error",
     "traceback": [
      "\u001b[0;31m---------------------------------------------------------------------------\u001b[0m",
      "\u001b[0;31mNameError\u001b[0m                                 Traceback (most recent call last)",
      "Cell \u001b[0;32mIn[14], line 1\u001b[0m\n\u001b[0;32m----> 1\u001b[0m scheilPhases \u001b[38;5;241m=\u001b[39m process_map(\u001b[43mscheil_callable2\u001b[49m,gridEl)\n",
      "\u001b[0;31mNameError\u001b[0m: name 'scheil_callable2' is not defined"
     ]
    }
   ],
   "source": [
    "scheilPhases = process_map(scheil_callable,gridEl)"
   ]
  },
  {
   "cell_type": "code",
   "execution_count": null,
   "id": "91338e23",
   "metadata": {
    "papermill": {
     "duration": null,
     "end_time": null,
     "exception": null,
     "start_time": null,
     "status": "pending"
    },
    "tags": []
   },
   "outputs": [],
   "source": [
    "# Write gridPhases to JSON file\n",
    "import json\n",
    "\n",
    "# Write scheilmap to JSON file\n",
    "with open('scheilmap.json', 'w') as f:\n",
    "    json.dump(scheilPhases, f)\n",
    "\n",
    "# Write gridPhases to JSON file\n",
    "with open('gridPhases.json', 'w') as f:\n",
    "    json.dump(gridPhases, f)"
   ]
  },
  {
   "cell_type": "markdown",
   "id": "814d8a70",
   "metadata": {
    "papermill": {
     "duration": null,
     "end_time": null,
     "exception": null,
     "start_time": null,
     "status": "pending"
    },
    "tags": []
   },
   "source": [
    "Let's see how some of the data looks like."
   ]
  },
  {
   "cell_type": "markdown",
   "id": "49c0029f",
   "metadata": {
    "papermill": {
     "duration": null,
     "end_time": null,
     "exception": null,
     "start_time": null,
     "status": "pending"
    },
    "tags": []
   },
   "source": [
    "Now, let's turn that list of phases into a list of feasibility based on the constraint we defined earlier. Note that in some cases, the `pycalphad` library may return an empty list of phases, which we will treat as infeasible."
   ]
  },
  {
   "cell_type": "code",
   "execution_count": null,
   "id": "748935d6",
   "metadata": {
    "papermill": {
     "duration": null,
     "end_time": null,
     "exception": null,
     "start_time": null,
     "status": "pending"
    },
    "tags": []
   },
   "outputs": [],
   "source": [
    "infeasiblePhases = set([\n",
    "    'AL3M', 'AL5FE2', 'LIQUID', 'AL11CR4', 'D82_217', 'AL3NI1', 'NI3TI', 'AL5FE4', 'TAOA', 'LAVES_C15', 'GAMMAH', 'AL5CR', 'AL2FE', 'AL4CR', 'NIV3_A15', 'GAMMA_H', \n",
    "    'ALTI3_D019', 'ALCU_DELTA', 'AL45CR7', 'TS01TI', 'NI8V', 'AL45CR7_12', 'LAVES_C14', 'LAVES_A15', 'AL3NI5', 'AL5TI3', 'ALCU_EPSILON', 'NITI2', 'AL8V5', 'ALCR2', 'AL23V4', 'AL13FE4', \n",
    "    'AL4NI3', 'ALCU_ZETA', 'ALCU_THETA', 'AL3NI2', 'AL23V4_194', 'CRNI2', 'NI3V_D022', 'LAVES_C36', 'TS01T3', 'AL21V2_227', 'AL5TI2', 'ALCU_ETA', 'GAMMAL', \n",
    "    'GAMMA_D83', 'SIGMA_D8B', 'AL21V2', 'AL2TI', 'AL3TI_L', 'ALTI', 'AL45V7'])\n",
    "print(f\"Feasible phases set: {set(phases).difference(infeasiblePhases)}\")\n",
    "gridFeasible = [len(set(p) & infeasiblePhases)==0 and p!=[] for p in gridPhases]\n",
    "gridFeasible[120:130]\n",
    "scheilFeasible= [len(set(p) & infeasiblePhases)==0 and p!=[] for p in scheilPhases]"
   ]
  },
  {
   "cell_type": "markdown",
   "id": "0542ae2c",
   "metadata": {
    "papermill": {
     "duration": null,
     "end_time": null,
     "exception": null,
     "start_time": null,
     "status": "pending"
    },
    "tags": []
   },
   "source": [
    "Finally, let's plot the result in 3D using the `plotly` library and our spacial-transformed attainable space grid we obtained with `plotting.simplex2cartesian_py(gridAtt)` earlier.\n",
    "\n",
    "**Once you run the cell below, you should be seeing an interactive 3D plot with 455 split roughly 50/50 between feasible and infeasible points. You can rotate the plot, zoom in and out, and hover over the points to see their composition and feasibility. You can also click on the legend to hide/show the points based on their feasibility.**"
   ]
  },
  {
   "cell_type": "code",
   "execution_count": null,
   "id": "bdb83807",
   "metadata": {
    "papermill": {
     "duration": null,
     "end_time": null,
     "exception": null,
     "start_time": null,
     "status": "pending"
    },
    "tags": []
   },
   "outputs": [],
   "source": [
    "fig = px.scatter_3d(gridAtt_projected_df, x='x', y='y', z='z', color=gridFeasible, text=labels, hover_name=formulas,\n",
    "              template='plotly_white', width=800, height=700, opacity=0.333, color_discrete_sequence=['green', 'red'],\n",
    "              labels={'color':'Solid Solution Phases', 'x':'', 'y':'', 'z':''})\n",
    "fig.update_scenes({'camera': {'eye': {'x': -2.3, 'y': 0.2, 'z': 0.2}}})"
   ]
  },
  {
   "cell_type": "code",
   "execution_count": null,
   "id": "b616038e",
   "metadata": {
    "papermill": {
     "duration": null,
     "end_time": null,
     "exception": null,
     "start_time": null,
     "status": "pending"
    },
    "tags": []
   },
   "outputs": [],
   "source": [
    "fig = px.scatter_3d(gridAtt_projected_df, x='x', y='y', z='z', color=scheilFeasible, text=labels, hover_name=formulas,\n",
    "              template='plotly_white', width=800, height=700, opacity=0.333, color_discrete_sequence=['green', 'red'],\n",
    "              labels={'color':'Solid Solution Phases', 'x':'', 'y':'', 'z':''})\n",
    "fig.update_scenes({'camera': {'eye': {'x': -2.3, 'y': 0.2, 'z': 0.2}}})"
   ]
  },
  {
   "cell_type": "markdown",
   "id": "57ce49cc",
   "metadata": {
    "papermill": {
     "duration": null,
     "end_time": null,
     "exception": null,
     "start_time": null,
     "status": "pending"
    },
    "tags": []
   },
   "source": [
    "## Graph Walk aka Infeasibility Gliding (Exciting Stuff!)\n",
    "\n",
    "**While the last two sections highlighted the elegant abstraction of grid generation and space transformation using `nimplex`, they did not really show the true power of the library or the novel combinatorics-based algorithm we developed in the associated paper. That is the simplex graph construction in arbitrary dimensions and the graph traversal it enables.**\n",
    "\n",
    "**Let's start by generating the graph for our problem. We can use the `nimplex.embeddedpair_simplex_graph_fractional_py` function, which also first generates the two grids we already used in the previous sections.**"
   ]
  },
  {
   "cell_type": "code",
   "execution_count": null,
   "id": "5fdc464b",
   "metadata": {
    "papermill": {
     "duration": null,
     "end_time": null,
     "exception": null,
     "start_time": null,
     "status": "pending"
    },
    "tags": []
   },
   "outputs": [],
   "source": [
    "_, _, graphN = nimplex.embeddedpair_simplex_graph_fractional_py(attainableSpaceComponentPositions, 12)"
   ]
  },
  {
   "cell_type": "markdown",
   "id": "e3a0fac4",
   "metadata": {
    "papermill": {
     "duration": null,
     "end_time": null,
     "exception": null,
     "start_time": null,
     "status": "pending"
    },
    "tags": []
   },
   "source": [
    "As you can see, we immediately obtain list of adjecent nodes (compostions) for each node in the graph, with few neighbors for the corners and many for the interior points. This is the power of the abstraction we are talking about!"
   ]
  },
  {
   "cell_type": "code",
   "execution_count": null,
   "id": "a59ed1a5",
   "metadata": {
    "papermill": {
     "duration": null,
     "end_time": null,
     "exception": null,
     "start_time": null,
     "status": "pending"
    },
    "tags": []
   },
   "outputs": [],
   "source": [
    "graphN[:5]"
   ]
  },
  {
   "cell_type": "code",
   "execution_count": null,
   "id": "f3596ec2",
   "metadata": {
    "papermill": {
     "duration": null,
     "end_time": null,
     "exception": null,
     "start_time": null,
     "status": "pending"
    },
    "tags": []
   },
   "outputs": [],
   "source": [
    "graphN[200:205]"
   ]
  },
  {
   "cell_type": "markdown",
   "id": "8e1fd310",
   "metadata": {
    "papermill": {
     "duration": null,
     "end_time": null,
     "exception": null,
     "start_time": null,
     "status": "pending"
    },
    "tags": []
   },
   "source": [
    "We can now use this graph to do a lot of things. Let's start by considering that **the infeasible region, for thermodynamic reasons beyond the scope of this tutorial, are generally difficult to predict but are generally bound by continous surfaces called phase boundaries.** \n",
    "\n",
    "**Thus, if we iteratively traverse the graph expanding only the feasible nodes, while noting infeasible nodes, we can glide along the phase boundaries and explore the feasible space without ever wasting our resources on calculations inside the insides of the infeasible regions.** \n",
    "\n",
    "Let's do this starting from the `W10.0 Nb10.0 Mo80.0` and terminating when we reach the `Hf95.0 Zr5.0` point. \n",
    "\n",
    "**Bonus Exercises:**\n",
    "- Please note that you do not need to specify the termination point, as the algorithm will stop when it completeley explores the feasible space. In this example, we are just showing you how to specify it and it has no effect on the result. If you want to play a bit, you can set `endNode` to `12` to see how path to `W33.3 Nb33.3 Ta33.3` gets explored in just 87 nodes.\n",
    "- If you remove the `endNode` termination (change `break` to `pass`), you can add the endNode (or any other node you believe is feasible) to the initial `queue` list and see how the algorithm explores the feasible space from multiple starting points much faster thanks to better parallelization."
   ]
  },
  {
   "cell_type": "code",
   "execution_count": null,
   "id": "1cc210da",
   "metadata": {
    "papermill": {
     "duration": null,
     "end_time": null,
     "exception": null,
     "start_time": null,
     "status": "pending"
    },
    "tags": []
   },
   "outputs": [],
   "source": [
    "startingNode = 0\n",
    "endNode = 90\n",
    "\n",
    "print(f\"Starting node: {formulas[startingNode]}\")\n",
    "print(f\"Ending node: {formulas[endNode]}\")"
   ]
  },
  {
   "cell_type": "code",
   "execution_count": null,
   "id": "0794aae3",
   "metadata": {
    "papermill": {
     "duration": null,
     "end_time": null,
     "exception": null,
     "start_time": null,
     "status": "pending"
    },
    "tags": []
   },
   "outputs": [],
   "source": [
    "gridFeasible = [None]*len(graphN)\n",
    "queue = [0, 12, 90]\n",
    "explored = set()\n",
    "calcCount = 0"
   ]
  },
  {
   "cell_type": "markdown",
   "id": "bc2e06c8",
   "metadata": {
    "papermill": {
     "duration": null,
     "end_time": null,
     "exception": null,
     "start_time": null,
     "status": "pending"
    },
    "tags": []
   },
   "source": [
    "**Now, we will be using a `queue` of nodes to keep track of the nodes we need to visit and a set of visited nodes to avoid revisiting them. This simple procedure is a type of `depth-first search` algorithm that is guaranteed to find the shortest path between two points in a graph if it exists, while exploring the feasible space in the process in an unbiased way. In a more elaborate problem, you would likely want to implement a priority queue to explore the space in a more efficient way, but for this tutorial, this is more than enough and allows for better, more direct comparions with the typical complete exploration approach.** On the 4-core Codespaces VM you can expect it to take around 1-2 minutes. In a relatively simple problem like this one, the difference between the two approaches is not that big, coming partially from overhead of limited Python parallelization capabilities, but in a more complex problem, the difference can be dramatic."
   ]
  },
  {
   "cell_type": "code",
   "execution_count": null,
   "id": "3a7d23be",
   "metadata": {
    "papermill": {
     "duration": null,
     "end_time": null,
     "exception": null,
     "start_time": null,
     "status": "pending"
    },
    "tags": []
   },
   "outputs": [],
   "source": [
    "while len(queue)>0:\n",
    "    print(f\"Queue: {queue}\")\n",
    "    # Assign feasibilities to the current queue\n",
    "    elPositions = [gridEl[i] for i in queue]\n",
    "    if len(queue)>3:\n",
    "        phases = process_map(equilibrium_callable, elPositions, max_workers=4)\n",
    "    else:\n",
    "        phases = [equilibrium_callable(elP) for elP in elPositions]\n",
    "    feasibilities = [len(set(p) & set(infeasiblePhases))==0 and p!=[] for p in phases]\n",
    "\n",
    "    calcCount += len(feasibilities)\n",
    "    explored = explored.union(queue)\n",
    "\n",
    "    # Create next queue based on neighbors of feasible points\n",
    "    nextQueue = set()\n",
    "    for f, i in zip(feasibilities, queue):\n",
    "        gridFeasible[i] = f\n",
    "        # Only if feasible\n",
    "        if f:\n",
    "            for n in graphN[i]:\n",
    "                if n not in explored:\n",
    "                    nextQueue.add(n)\n",
    "\n",
    "    # Early termination criteria if we just evaluated the target\n",
    "    if endNode in queue:\n",
    "        pass\n",
    "\n",
    "    print(f\"Calculations done: {calcCount}\")\n",
    "    queue = list(nextQueue)"
   ]
  },
  {
   "cell_type": "markdown",
   "id": "129dbb4e",
   "metadata": {
    "papermill": {
     "duration": null,
     "end_time": null,
     "exception": null,
     "start_time": null,
     "status": "pending"
    },
    "tags": []
   },
   "source": [
    "**You should now see that only 281 phase equilibria calculations were performed to get all the feasible points! That's only a bit more than half of what we had to do in the previous section. Let's plot the path we found in the 3D space.** If you rotate the figure, you can clearly see the path gliding along the infeasible space boundary."
   ]
  },
  {
   "cell_type": "code",
   "execution_count": null,
   "id": "33f85880",
   "metadata": {
    "papermill": {
     "duration": null,
     "end_time": null,
     "exception": null,
     "start_time": null,
     "status": "pending"
    },
    "tags": []
   },
   "outputs": [],
   "source": [
    "fig = px.scatter_3d(gridAtt_projected_df, x='x', y='y', z='z', color=gridFeasible, text=labels, hover_name=formulas,\n",
    "              template='plotly_white', width=800, height=700, opacity=0.333, color_discrete_sequence=['green', 'red'],\n",
    "              labels={'color':'Solid Solution Phases', 'x':'', 'y':'', 'z':''})\n",
    "fig.update_scenes({'camera': {'eye': {'x': -2.3, 'y': 0.2, 'z': 0.2}}})"
   ]
  },
  {
   "cell_type": "markdown",
   "id": "db9390d4",
   "metadata": {
    "papermill": {
     "duration": null,
     "end_time": null,
     "exception": null,
     "start_time": null,
     "status": "pending"
    },
    "tags": []
   },
   "source": [
    "## Path Finding\n",
    "\n",
    "**Now, let's take the appeal of graph representation a few steps forward! Since they are very general and widely applicable, there are countless off-the-shelf high-performance libraries implementing mathematically optimal path finding algorithms on graphs one can deploy on challenging problems.** \n",
    "\n",
    "In this example, for the sake of simplicity, we will use pure-Python `pathfinding` library which implements some of the most popular path finding algorithms without high performance (we do not need here) but also without any dependencies. In real applications, you would likely want to use a more advanced library like `networkx` which is more efficient and have more features, or write one yourself. Please note that `nimplex`'s CLI can generate massive graphs in native NumPy format you may find useful for such applications (e.g., to use Julia or C++ libraries)."
   ]
  },
  {
   "cell_type": "code",
   "execution_count": null,
   "id": "ec8fbb2e",
   "metadata": {
    "papermill": {
     "duration": null,
     "end_time": null,
     "exception": null,
     "start_time": null,
     "status": "pending"
    },
    "tags": []
   },
   "outputs": [],
   "source": [
    "from pathfinding.core.graph import Graph\n",
    "from pathfinding.finder.dijkstra import DijkstraFinder"
   ]
  },
  {
   "cell_type": "markdown",
   "id": "0b5be1ca",
   "metadata": {
    "papermill": {
     "duration": null,
     "end_time": null,
     "exception": null,
     "start_time": null,
     "status": "pending"
    },
    "tags": []
   },
   "source": [
    "Let's now turn our graph definition into a format that `pathfinding` library can understand, assigning equal cost to all edges. **Note, that we only need to consider the feasible points leading to other feasible point!**"
   ]
  },
  {
   "cell_type": "code",
   "execution_count": null,
   "id": "ffd96e66",
   "metadata": {
    "papermill": {
     "duration": null,
     "end_time": null,
     "exception": null,
     "start_time": null,
     "status": "pending"
    },
    "tags": []
   },
   "outputs": [],
   "source": [
    "edges = []\n",
    "for i, nList in enumerate(graphN):\n",
    "    if gridFeasible[i]:\n",
    "        for n in nList:\n",
    "            if gridFeasible[n]:\n",
    "                edges.append([i, n, 1])\n",
    "print(edges[:5])"
   ]
  },
  {
   "cell_type": "markdown",
   "id": "19521714",
   "metadata": {
    "papermill": {
     "duration": null,
     "end_time": null,
     "exception": null,
     "start_time": null,
     "status": "pending"
    },
    "tags": []
   },
   "source": [
    "Let's initialize the `Graph` object."
   ]
  },
  {
   "cell_type": "code",
   "execution_count": null,
   "id": "c35706c0",
   "metadata": {
    "papermill": {
     "duration": null,
     "end_time": null,
     "exception": null,
     "start_time": null,
     "status": "pending"
    },
    "tags": []
   },
   "outputs": [],
   "source": [
    "pathfindingGraph = Graph(edges=edges, bi_directional=False)"
   ]
  },
  {
   "cell_type": "markdown",
   "id": "8571900b",
   "metadata": {
    "papermill": {
     "duration": null,
     "end_time": null,
     "exception": null,
     "start_time": null,
     "status": "pending"
    },
    "tags": []
   },
   "source": [
    "Now, let's create the `Finder` object that will perform the path finding. Here we use the `DijkstraFinder` which is a very popular algorithm for path finding in graphs (see [it's Wikipedia page](https://en.wikipedia.org/wiki/Dijkstra's_algorithm) for more details). It **finds the shortest possible path between two points in the graph**, which is exactly what we need here. In the future tutorials, we will use some more advanced algorithms, like A*, which accomplishes the same task but in the mathematcally minimal number of evaluations."
   ]
  },
  {
   "cell_type": "code",
   "execution_count": null,
   "id": "b03a7340",
   "metadata": {
    "papermill": {
     "duration": null,
     "end_time": null,
     "exception": null,
     "start_time": null,
     "status": "pending"
    },
    "tags": []
   },
   "outputs": [],
   "source": [
    "finder = DijkstraFinder()"
   ]
  },
  {
   "cell_type": "markdown",
   "id": "d3ccb83a",
   "metadata": {
    "papermill": {
     "duration": null,
     "end_time": null,
     "exception": null,
     "start_time": null,
     "status": "pending"
    },
    "tags": []
   },
   "source": [
    "For hundreds of points, this shouldn't take more than tenth of a second or so."
   ]
  },
  {
   "cell_type": "code",
   "execution_count": null,
   "id": "1393a87b",
   "metadata": {
    "papermill": {
     "duration": null,
     "end_time": null,
     "exception": null,
     "start_time": null,
     "status": "pending"
    },
    "tags": []
   },
   "outputs": [],
   "source": [
    "path, runs = finder.find_path(\n",
    "    pathfindingGraph.node(0), \n",
    "    pathfindingGraph.node(90), \n",
    "    pathfindingGraph)"
   ]
  },
  {
   "cell_type": "markdown",
   "id": "e426b384",
   "metadata": {
    "papermill": {
     "duration": null,
     "end_time": null,
     "exception": null,
     "start_time": null,
     "status": "pending"
    },
    "tags": []
   },
   "source": [
    "Let's now turn the path into a list of nodes on the path."
   ]
  },
  {
   "cell_type": "code",
   "execution_count": null,
   "id": "03ffcb3b",
   "metadata": {
    "papermill": {
     "duration": null,
     "end_time": null,
     "exception": null,
     "start_time": null,
     "status": "pending"
    },
    "tags": []
   },
   "outputs": [],
   "source": [
    "shortestPath = [p.node_id for p in path]"
   ]
  },
  {
   "cell_type": "markdown",
   "id": "8c257bfd",
   "metadata": {
    "papermill": {
     "duration": null,
     "end_time": null,
     "exception": null,
     "start_time": null,
     "status": "pending"
    },
    "tags": []
   },
   "source": [
    "And plot corresponding compositions. As you can see, we immediately get a neat list of compositions that we can use to design our additive manufacturing path."
   ]
  },
  {
   "cell_type": "code",
   "execution_count": null,
   "id": "2a9dcd6b",
   "metadata": {
    "papermill": {
     "duration": null,
     "end_time": null,
     "exception": null,
     "start_time": null,
     "status": "pending"
    },
    "tags": []
   },
   "outputs": [],
   "source": [
    "for step, i in enumerate(shortestPath):\n",
    "    print(f\"{step+1:>2}: {formulas[i]}\")"
   ]
  },
  {
   "cell_type": "markdown",
   "id": "18cb4ccb",
   "metadata": {
    "papermill": {
     "duration": null,
     "end_time": null,
     "exception": null,
     "start_time": null,
     "status": "pending"
    },
    "tags": []
   },
   "source": [
    "**Even better, since we know the positions in the attainable design space, we can get a list of exact quantized instructions (e.g., powder flow rates) for the additive manufacturing apparatus to follow at each step.**\n",
    "\n",
    "**This is a very powerful abstraction, eliminating possible mistakes and miscommunications between design and manufacturing teams. Furthermore, it also allows for easy manual (or mechanized) per-layer mixing of powders to create compositional paths in single-feed additive manufacturing systems.**"
   ]
  },
  {
   "cell_type": "code",
   "execution_count": null,
   "id": "577ff4b4",
   "metadata": {
    "papermill": {
     "duration": null,
     "end_time": null,
     "exception": null,
     "start_time": null,
     "status": "pending"
    },
    "tags": []
   },
   "outputs": [],
   "source": [
    "integerGrid = nimplex.simplex_grid_py(4, 12)\n",
    "for step, i in enumerate(shortestPath):\n",
    "    print(f\"{step+1:>2}: {integerGrid[i]}\")"
   ]
  },
  {
   "cell_type": "markdown",
   "id": "d36050a2",
   "metadata": {
    "papermill": {
     "duration": null,
     "end_time": null,
     "exception": null,
     "start_time": null,
     "status": "pending"
    },
    "tags": []
   },
   "source": [
    "We can also plot the path in 3D like we did before! As you can see, it **glides through the inside of the tetrahedron in a shortest path** avoiding an obstacle extending far on the face."
   ]
  },
  {
   "cell_type": "code",
   "execution_count": null,
   "id": "3e66b6ff",
   "metadata": {
    "papermill": {
     "duration": null,
     "end_time": null,
     "exception": null,
     "start_time": null,
     "status": "pending"
    },
    "tags": []
   },
   "outputs": [],
   "source": [
    "gridFeasibleMarked = ['path' if i in shortestPath else f for i, f in enumerate(gridFeasible)]\n",
    "fig = px.scatter_3d(gridAtt_projected_df, x='x', y='y', z='z', color=gridFeasibleMarked, text=labels, hover_name=formulas,\n",
    "              template='plotly_white', width=800, height=700, opacity=0.333, color_discrete_sequence=['blue', 'green', 'red'],\n",
    "              labels={'color':'Solid Solution Phases', 'x':'', 'y':'', 'z':''})\n",
    "fig.update_scenes({'camera': {'eye': {'x': -1.8, 'y': 1.2, 'z': 1.5}}})"
   ]
  },
  {
   "cell_type": "markdown",
   "id": "f5be707b",
   "metadata": {
    "papermill": {
     "duration": null,
     "end_time": null,
     "exception": null,
     "start_time": null,
     "status": "pending"
    },
    "tags": []
   },
   "source": [
    "## Path Planning considering the Property Gradient\n",
    "\n",
    "**Let's go one step further to demonstrate the beaty of the graph representations in the context of efortless path planning in high-dimensional spaces by including the gradient into consideration in just a line or two of code. We will now stretch the space!**"
   ]
  },
  {
   "cell_type": "code",
   "execution_count": null,
   "id": "59b8a953",
   "metadata": {
    "papermill": {
     "duration": null,
     "end_time": null,
     "exception": null,
     "start_time": null,
     "status": "pending"
    },
    "tags": []
   },
   "outputs": [],
   "source": [
    "edges = []\n",
    "gradientsList = []\n",
    "penaltyFactor = 100\n",
    "for i, nList in enumerate(graphN):\n",
    "    if gridFeasible[i]:\n",
    "        for n in nList:\n",
    "            if gridFeasible[n]:\n",
    "                rmsadGradient = abs(rmsadList[i]-rmsadList[n])\n",
    "                gradientsList.append(rmsadGradient)\n",
    "                edges.append([i, n, 1+round(rmsadGradient*penaltyFactor, 3)])\n",
    "print(edges[:5])\n",
    "print(f\"{len(gradientsList)} gradients calculated with absolute value range between {min(gradientsList)} to {max(gradientsList)}\")\n",
    "print(f\"Penalty at {penaltyFactor}x gradient *magnitude* per path step assigned.\")"
   ]
  },
  {
   "cell_type": "markdown",
   "id": "88f207ad",
   "metadata": {
    "papermill": {
     "duration": null,
     "end_time": null,
     "exception": null,
     "start_time": null,
     "status": "pending"
    },
    "tags": []
   },
   "source": [
    "**As you can see, we just increased the predicted cost of moving between nodes by a small factor ranging from near 0 to 2.5 depending on the RMSAD gradient. In another words, we are prioritizing paths that change RMSAD the least over the entire path.** This can be done, e.g., to minimize the inter-layer stresses in the component caused by yield stress mismatch between the layers that may cause delamination. Similar considerations can also be made for other properties, like thermal expansion coefficient, missmatch of which causes internal stress or wrapping.\n",
    "\n",
    "**Since the RMSAD is generally smoothly changing, we can expect that this will not impact the result in terms of number of nodes. Just finding a better path of equivalent length. However, if you try to square the gradient by changing penalty to `(rmsadGradient*penaltyFactor)**2`, you will see how viciously the path will avoid any RMSAD changes through zig-zag patterns.**"
   ]
  },
  {
   "cell_type": "code",
   "execution_count": null,
   "id": "ba69b2eb",
   "metadata": {
    "papermill": {
     "duration": null,
     "end_time": null,
     "exception": null,
     "start_time": null,
     "status": "pending"
    },
    "tags": []
   },
   "outputs": [],
   "source": [
    "pathfindingGraph = Graph(edges=edges, bi_directional=False)\n",
    "finder = DijkstraFinder()\n",
    "path, runs = finder.find_path(\n",
    "    pathfindingGraph.node(0), \n",
    "    pathfindingGraph.node(90), \n",
    "    pathfindingGraph)\n",
    "lowGradientPath = [p.node_id for p in path]"
   ]
  },
  {
   "cell_type": "code",
   "execution_count": null,
   "id": "ef9eaafc",
   "metadata": {
    "papermill": {
     "duration": null,
     "end_time": null,
     "exception": null,
     "start_time": null,
     "status": "pending"
    },
    "tags": []
   },
   "outputs": [],
   "source": [
    "for step, i in enumerate(lowGradientPath):\n",
    "    print(f\"{step+1:>2}: {formulas[i]}\")"
   ]
  },
  {
   "cell_type": "markdown",
   "id": "a5bf4e7a",
   "metadata": {
    "papermill": {
     "duration": null,
     "end_time": null,
     "exception": null,
     "start_time": null,
     "status": "pending"
    },
    "tags": []
   },
   "source": [
    "As one can see below, the path still is optimal (21 steps) but it now passes much closer to the center of the tetrahedron, avoiding the lower RMSAD region around `Mo33.3 Nb33.3 Ta33.3` from which it would have to climb a bit more rapidly to reach the `Hf95.0 Zr5.0` point."
   ]
  },
  {
   "cell_type": "code",
   "execution_count": null,
   "id": "dc95b471",
   "metadata": {
    "papermill": {
     "duration": null,
     "end_time": null,
     "exception": null,
     "start_time": null,
     "status": "pending"
    },
    "tags": []
   },
   "outputs": [],
   "source": [
    "gridFeasibleMarked = ['path' if i in lowGradientPath else f for i, f in enumerate(gridFeasible)]\n",
    "fig = px.scatter_3d(gridAtt_projected_df, x='x', y='y', z='z', color=gridFeasibleMarked, text=labels, hover_name=formulas,\n",
    "              template='plotly_white', width=800, height=700, opacity=0.333, color_discrete_sequence=['blue', 'green', 'red'],\n",
    "              labels={'color':'Solid Solution Phases', 'x':'', 'y':'', 'z':''})\n",
    "fig.update_scenes({'camera': {'eye': {'x': -1.8, 'y': 1.2, 'z': 1.5}}})"
   ]
  },
  {
   "cell_type": "markdown",
   "id": "f720ac64",
   "metadata": {
    "papermill": {
     "duration": null,
     "end_time": null,
     "exception": null,
     "start_time": null,
     "status": "pending"
    },
    "tags": []
   },
   "source": [
    "## Property Maximization Along the Path\n",
    "\n",
    "**Finally, let's demonstrate how easy it is to maximize a property along the path by exploiting the unidirectionaliy of the graph edge definitions in `nimplex`, which allow us to efortlessly enocde the property maximization goal as directional reward or penalty applied to edges.** This is as simple as applying the property gradient directly rather than its magnitude."
   ]
  },
  {
   "cell_type": "code",
   "execution_count": null,
   "id": "cf680f17",
   "metadata": {
    "papermill": {
     "duration": null,
     "end_time": null,
     "exception": null,
     "start_time": null,
     "status": "pending"
    },
    "tags": []
   },
   "outputs": [],
   "source": [
    "edges = []\n",
    "gradientsList = []\n",
    "penaltyFactor = 20\n",
    "for i, nList in enumerate(graphN):\n",
    "    if gridFeasible[i]:\n",
    "        for n in nList:\n",
    "            if gridFeasible[n]:\n",
    "                rmsadGradient = rmsadList[i]-rmsadList[n]\n",
    "                gradientsList.append(rmsadGradient)\n",
    "                edges.append([i, n, 1+round((rmsadGradient*penaltyFactor), 3)])\n",
    "print(edges[:15])\n",
    "print(f\"{len(gradientsList)} gradients calculated with values up to {max(gradientsList)}\")\n",
    "print(f\"Penalty at -{penaltyFactor}x gradient *value* per path step assigned (higher RMSAD preferred)\")"
   ]
  },
  {
   "cell_type": "code",
   "execution_count": null,
   "id": "5d08c2de",
   "metadata": {
    "papermill": {
     "duration": null,
     "end_time": null,
     "exception": null,
     "start_time": null,
     "status": "pending"
    },
    "tags": []
   },
   "outputs": [],
   "source": [
    "pathfindingGraph = Graph(edges=edges, bi_directional=False)\n",
    "finder = DijkstraFinder()\n",
    "path, runs = finder.find_path(\n",
    "    pathfindingGraph.node(0), \n",
    "    pathfindingGraph.node(90), \n",
    "    pathfindingGraph)\n",
    "pathList = [p.node_id for p in path]"
   ]
  },
  {
   "cell_type": "code",
   "execution_count": null,
   "id": "2380a62f",
   "metadata": {
    "papermill": {
     "duration": null,
     "end_time": null,
     "exception": null,
     "start_time": null,
     "status": "pending"
    },
    "tags": []
   },
   "outputs": [],
   "source": [
    "for step, i in enumerate(pathList):\n",
    "    print(f\"{step+1:>2}: {formulas[i]}\")"
   ]
  },
  {
   "cell_type": "markdown",
   "id": "7b30d100",
   "metadata": {
    "papermill": {
     "duration": null,
     "end_time": null,
     "exception": null,
     "start_time": null,
     "status": "pending"
    },
    "tags": []
   },
   "source": [
    "**As you can see, we again complete the path in 21 steps but following a different path that maximizes the RMSAD along the way thanks to the small bias we introduced.**"
   ]
  },
  {
   "cell_type": "code",
   "execution_count": null,
   "id": "13404ab5",
   "metadata": {
    "papermill": {
     "duration": null,
     "end_time": null,
     "exception": null,
     "start_time": null,
     "status": "pending"
    },
    "tags": []
   },
   "outputs": [],
   "source": [
    "gridFeasibleMarked = ['path' if i in pathList else f for i, f in enumerate(gridFeasible)]\n",
    "fig = px.scatter_3d(gridAtt_projected_df, x='x', y='y', z='z', color=gridFeasibleMarked, text=labels, hover_name=formulas,\n",
    "              template='plotly_white', width=800, height=700, opacity=0.333, color_discrete_sequence=['blue', 'green', 'red'],\n",
    "              labels={'color':'Solid Solution Phases', 'x':'', 'y':'', 'z':''})\n",
    "fig.update_scenes({'camera': {'eye': {'x': -1.8, 'y': 1.2, 'z': 1.5}}})"
   ]
  },
  {
   "cell_type": "markdown",
   "id": "47942b49",
   "metadata": {
    "papermill": {
     "duration": null,
     "end_time": null,
     "exception": null,
     "start_time": null,
     "status": "pending"
    },
    "tags": []
   },
   "source": [
    "**And, if we care more about going through high RMSAD regions than we do about the number of steps taken, we can always simply increase the bias to move the path into the high RMSAD regions even more at the cost of the number of steps taken.**"
   ]
  },
  {
   "cell_type": "code",
   "execution_count": null,
   "id": "6e9a6334",
   "metadata": {
    "papermill": {
     "duration": null,
     "end_time": null,
     "exception": null,
     "start_time": null,
     "status": "pending"
    },
    "tags": []
   },
   "outputs": [],
   "source": [
    "edges = []\n",
    "gradientsList = []\n",
    "penaltyFactor = 200\n",
    "for i, nList in enumerate(graphN):\n",
    "    if gridFeasible[i]:\n",
    "        for n in nList:\n",
    "            if gridFeasible[n]:\n",
    "                rmsadGradient = rmsadList[i]-rmsadList[n]\n",
    "                gradientsList.append(rmsadGradient)\n",
    "                edges.append([i, n, 1+round((rmsadGradient*penaltyFactor), 3)])\n",
    "print(edges[:15])\n",
    "print(f\"{len(gradientsList)} gradients calculated with values up to {max(gradientsList)}\")\n",
    "print(f\"Penalty at -{penaltyFactor}x gradient *value* per path step assigned (higher RMSAD preferred)\")\n",
    "\n",
    "pathfindingGraph = Graph(edges=edges, bi_directional=False)\n",
    "finder = DijkstraFinder()\n",
    "path, runs = finder.find_path(\n",
    "    pathfindingGraph.node(0), \n",
    "    pathfindingGraph.node(90), \n",
    "    pathfindingGraph)\n",
    "pathList = [p.node_id for p in path]"
   ]
  },
  {
   "cell_type": "code",
   "execution_count": null,
   "id": "76923834",
   "metadata": {
    "papermill": {
     "duration": null,
     "end_time": null,
     "exception": null,
     "start_time": null,
     "status": "pending"
    },
    "tags": []
   },
   "outputs": [],
   "source": [
    "for step, i in enumerate(pathList):\n",
    "    print(f\"{step+1:>2}: {formulas[i]}\")"
   ]
  },
  {
   "cell_type": "code",
   "execution_count": null,
   "id": "352eb27e",
   "metadata": {
    "papermill": {
     "duration": null,
     "end_time": null,
     "exception": null,
     "start_time": null,
     "status": "pending"
    },
    "tags": []
   },
   "outputs": [],
   "source": [
    "gridFeasibleMarked = ['path' if i in pathList else f for i, f in enumerate(gridFeasible)]\n",
    "fig = px.scatter_3d(gridAtt_projected_df, x='x', y='y', z='z', color=gridFeasibleMarked, text=labels, hover_name=formulas,\n",
    "              template='plotly_white', width=800, height=700, opacity=0.333, color_discrete_sequence=['blue', 'green', 'red'],\n",
    "              labels={'color':'Solid Solution Phases', 'x':'', 'y':'', 'z':''})\n",
    "fig.update_scenes({'camera': {'eye': {'x': -1.8, 'y': 1.2, 'z': 1.5}}})"
   ]
  },
  {
   "cell_type": "markdown",
   "id": "317d16cd",
   "metadata": {
    "papermill": {
     "duration": null,
     "end_time": null,
     "exception": null,
     "start_time": null,
     "status": "pending"
    },
    "tags": []
   },
   "source": [
    "## Final Remarks\n",
    "\n",
    "**And that's it! We hope you enjoyed this tutorial and that you see the potential of `nimplex` in your work. If you have any questions, feel free to ask them in the `nimplex` repository under the Issues tab. You are also welcome to shoot an email to the author at [adam@phaseslab.org](mailto:adam@phaseslab.org). We will be excited to hear about your applications.**\n",
    "\n",
    "**We are planning on a couple more tutorials in the future, including a more advanced techniques for more specific use cases within materials science and beyond. PRs with your own tutorials are also welcome!**"
   ]
  },
  {
   "cell_type": "markdown",
   "id": "69827dd5",
   "metadata": {
    "papermill": {
     "duration": null,
     "end_time": null,
     "exception": null,
     "start_time": null,
     "status": "pending"
    },
    "tags": []
   },
   "source": []
  }
 ],
 "metadata": {
  "kernelspec": {
   "display_name": "pyplex",
   "language": "python",
   "name": "python3"
  },
  "language_info": {
   "codemirror_mode": {
    "name": "ipython",
    "version": 3
   },
   "file_extension": ".py",
   "mimetype": "text/x-python",
   "name": "python",
   "nbconvert_exporter": "python",
   "pygments_lexer": "ipython3",
   "version": "3.11.9"
  },
  "papermill": {
   "default_parameters": {},
   "duration": 235.030008,
   "end_time": "2024-06-12T20:34:54.781095",
   "environment_variables": {},
   "exception": true,
   "input_path": "AdditiveManufacturingPathPlanning.ipynb",
   "output_path": "AdditiveManufacturingPathPlanningOut.ipynb",
   "parameters": {},
   "start_time": "2024-06-12T20:30:59.751087",
   "version": "2.6.0"
  },
  "widgets": {
   "application/vnd.jupyter.widget-state+json": {
    "state": {
     "26472b366a9544fea4020e13184ab43b": {
      "model_module": "@jupyter-widgets/controls",
      "model_module_version": "2.0.0",
      "model_name": "ProgressStyleModel",
      "state": {
       "_model_module": "@jupyter-widgets/controls",
       "_model_module_version": "2.0.0",
       "_model_name": "ProgressStyleModel",
       "_view_count": null,
       "_view_module": "@jupyter-widgets/base",
       "_view_module_version": "2.0.0",
       "_view_name": "StyleView",
       "bar_color": null,
       "description_width": ""
      }
     },
     "44c77ac2f9e2446fb8de89c44ef5ff6f": {
      "model_module": "@jupyter-widgets/controls",
      "model_module_version": "2.0.0",
      "model_name": "HBoxModel",
      "state": {
       "_dom_classes": [],
       "_model_module": "@jupyter-widgets/controls",
       "_model_module_version": "2.0.0",
       "_model_name": "HBoxModel",
       "_view_count": null,
       "_view_module": "@jupyter-widgets/controls",
       "_view_module_version": "2.0.0",
       "_view_name": "HBoxView",
       "box_style": "",
       "children": [
        "IPY_MODEL_7fbd7450c8d3496894e2fbb5755d2fc8",
        "IPY_MODEL_90cf5fabcb194d279c52933e89c328f6",
        "IPY_MODEL_4bdc3c01292d4e6dbdb95e67c4aba60a"
       ],
       "layout": "IPY_MODEL_5dee53541b574f738930224310b7fdb9",
       "tabbable": null,
       "tooltip": null
      }
     },
     "4bdc3c01292d4e6dbdb95e67c4aba60a": {
      "model_module": "@jupyter-widgets/controls",
      "model_module_version": "2.0.0",
      "model_name": "HTMLModel",
      "state": {
       "_dom_classes": [],
       "_model_module": "@jupyter-widgets/controls",
       "_model_module_version": "2.0.0",
       "_model_name": "HTMLModel",
       "_view_count": null,
       "_view_module": "@jupyter-widgets/controls",
       "_view_module_version": "2.0.0",
       "_view_name": "HTMLView",
       "description": "",
       "description_allow_html": false,
       "layout": "IPY_MODEL_ee68a487b1464002bfce5ba14d9c5417",
       "placeholder": "​",
       "style": "IPY_MODEL_d9fac6dba2f14f82b2c07a64bcbea0e8",
       "tabbable": null,
       "tooltip": null,
       "value": " 455/455 [00:43&lt;00:00, 11.22it/s]"
      }
     },
     "588655f8830444179358509ba8396db2": {
      "model_module": "@jupyter-widgets/base",
      "model_module_version": "2.0.0",
      "model_name": "LayoutModel",
      "state": {
       "_model_module": "@jupyter-widgets/base",
       "_model_module_version": "2.0.0",
       "_model_name": "LayoutModel",
       "_view_count": null,
       "_view_module": "@jupyter-widgets/base",
       "_view_module_version": "2.0.0",
       "_view_name": "LayoutView",
       "align_content": null,
       "align_items": null,
       "align_self": null,
       "border_bottom": null,
       "border_left": null,
       "border_right": null,
       "border_top": null,
       "bottom": null,
       "display": null,
       "flex": null,
       "flex_flow": null,
       "grid_area": null,
       "grid_auto_columns": null,
       "grid_auto_flow": null,
       "grid_auto_rows": null,
       "grid_column": null,
       "grid_gap": null,
       "grid_row": null,
       "grid_template_areas": null,
       "grid_template_columns": null,
       "grid_template_rows": null,
       "height": null,
       "justify_content": null,
       "justify_items": null,
       "left": null,
       "margin": null,
       "max_height": null,
       "max_width": null,
       "min_height": null,
       "min_width": null,
       "object_fit": null,
       "object_position": null,
       "order": null,
       "overflow": null,
       "padding": null,
       "right": null,
       "top": null,
       "visibility": null,
       "width": null
      }
     },
     "5dee53541b574f738930224310b7fdb9": {
      "model_module": "@jupyter-widgets/base",
      "model_module_version": "2.0.0",
      "model_name": "LayoutModel",
      "state": {
       "_model_module": "@jupyter-widgets/base",
       "_model_module_version": "2.0.0",
       "_model_name": "LayoutModel",
       "_view_count": null,
       "_view_module": "@jupyter-widgets/base",
       "_view_module_version": "2.0.0",
       "_view_name": "LayoutView",
       "align_content": null,
       "align_items": null,
       "align_self": null,
       "border_bottom": null,
       "border_left": null,
       "border_right": null,
       "border_top": null,
       "bottom": null,
       "display": null,
       "flex": null,
       "flex_flow": null,
       "grid_area": null,
       "grid_auto_columns": null,
       "grid_auto_flow": null,
       "grid_auto_rows": null,
       "grid_column": null,
       "grid_gap": null,
       "grid_row": null,
       "grid_template_areas": null,
       "grid_template_columns": null,
       "grid_template_rows": null,
       "height": null,
       "justify_content": null,
       "justify_items": null,
       "left": null,
       "margin": null,
       "max_height": null,
       "max_width": null,
       "min_height": null,
       "min_width": null,
       "object_fit": null,
       "object_position": null,
       "order": null,
       "overflow": null,
       "padding": null,
       "right": null,
       "top": null,
       "visibility": null,
       "width": null
      }
     },
     "7fbd7450c8d3496894e2fbb5755d2fc8": {
      "model_module": "@jupyter-widgets/controls",
      "model_module_version": "2.0.0",
      "model_name": "HTMLModel",
      "state": {
       "_dom_classes": [],
       "_model_module": "@jupyter-widgets/controls",
       "_model_module_version": "2.0.0",
       "_model_name": "HTMLModel",
       "_view_count": null,
       "_view_module": "@jupyter-widgets/controls",
       "_view_module_version": "2.0.0",
       "_view_name": "HTMLView",
       "description": "",
       "description_allow_html": false,
       "layout": "IPY_MODEL_588655f8830444179358509ba8396db2",
       "placeholder": "​",
       "style": "IPY_MODEL_eae41c0813e040298f94ab2889927cf3",
       "tabbable": null,
       "tooltip": null,
       "value": "100%"
      }
     },
     "90cf5fabcb194d279c52933e89c328f6": {
      "model_module": "@jupyter-widgets/controls",
      "model_module_version": "2.0.0",
      "model_name": "FloatProgressModel",
      "state": {
       "_dom_classes": [],
       "_model_module": "@jupyter-widgets/controls",
       "_model_module_version": "2.0.0",
       "_model_name": "FloatProgressModel",
       "_view_count": null,
       "_view_module": "@jupyter-widgets/controls",
       "_view_module_version": "2.0.0",
       "_view_name": "ProgressView",
       "bar_style": "success",
       "description": "",
       "description_allow_html": false,
       "layout": "IPY_MODEL_e79fc5573f4c4de8b9a8d5d9cb1fb953",
       "max": 455,
       "min": 0,
       "orientation": "horizontal",
       "style": "IPY_MODEL_26472b366a9544fea4020e13184ab43b",
       "tabbable": null,
       "tooltip": null,
       "value": 455
      }
     },
     "d9fac6dba2f14f82b2c07a64bcbea0e8": {
      "model_module": "@jupyter-widgets/controls",
      "model_module_version": "2.0.0",
      "model_name": "HTMLStyleModel",
      "state": {
       "_model_module": "@jupyter-widgets/controls",
       "_model_module_version": "2.0.0",
       "_model_name": "HTMLStyleModel",
       "_view_count": null,
       "_view_module": "@jupyter-widgets/base",
       "_view_module_version": "2.0.0",
       "_view_name": "StyleView",
       "background": null,
       "description_width": "",
       "font_size": null,
       "text_color": null
      }
     },
     "e79fc5573f4c4de8b9a8d5d9cb1fb953": {
      "model_module": "@jupyter-widgets/base",
      "model_module_version": "2.0.0",
      "model_name": "LayoutModel",
      "state": {
       "_model_module": "@jupyter-widgets/base",
       "_model_module_version": "2.0.0",
       "_model_name": "LayoutModel",
       "_view_count": null,
       "_view_module": "@jupyter-widgets/base",
       "_view_module_version": "2.0.0",
       "_view_name": "LayoutView",
       "align_content": null,
       "align_items": null,
       "align_self": null,
       "border_bottom": null,
       "border_left": null,
       "border_right": null,
       "border_top": null,
       "bottom": null,
       "display": null,
       "flex": null,
       "flex_flow": null,
       "grid_area": null,
       "grid_auto_columns": null,
       "grid_auto_flow": null,
       "grid_auto_rows": null,
       "grid_column": null,
       "grid_gap": null,
       "grid_row": null,
       "grid_template_areas": null,
       "grid_template_columns": null,
       "grid_template_rows": null,
       "height": null,
       "justify_content": null,
       "justify_items": null,
       "left": null,
       "margin": null,
       "max_height": null,
       "max_width": null,
       "min_height": null,
       "min_width": null,
       "object_fit": null,
       "object_position": null,
       "order": null,
       "overflow": null,
       "padding": null,
       "right": null,
       "top": null,
       "visibility": null,
       "width": null
      }
     },
     "eae41c0813e040298f94ab2889927cf3": {
      "model_module": "@jupyter-widgets/controls",
      "model_module_version": "2.0.0",
      "model_name": "HTMLStyleModel",
      "state": {
       "_model_module": "@jupyter-widgets/controls",
       "_model_module_version": "2.0.0",
       "_model_name": "HTMLStyleModel",
       "_view_count": null,
       "_view_module": "@jupyter-widgets/base",
       "_view_module_version": "2.0.0",
       "_view_name": "StyleView",
       "background": null,
       "description_width": "",
       "font_size": null,
       "text_color": null
      }
     },
     "ee68a487b1464002bfce5ba14d9c5417": {
      "model_module": "@jupyter-widgets/base",
      "model_module_version": "2.0.0",
      "model_name": "LayoutModel",
      "state": {
       "_model_module": "@jupyter-widgets/base",
       "_model_module_version": "2.0.0",
       "_model_name": "LayoutModel",
       "_view_count": null,
       "_view_module": "@jupyter-widgets/base",
       "_view_module_version": "2.0.0",
       "_view_name": "LayoutView",
       "align_content": null,
       "align_items": null,
       "align_self": null,
       "border_bottom": null,
       "border_left": null,
       "border_right": null,
       "border_top": null,
       "bottom": null,
       "display": null,
       "flex": null,
       "flex_flow": null,
       "grid_area": null,
       "grid_auto_columns": null,
       "grid_auto_flow": null,
       "grid_auto_rows": null,
       "grid_column": null,
       "grid_gap": null,
       "grid_row": null,
       "grid_template_areas": null,
       "grid_template_columns": null,
       "grid_template_rows": null,
       "height": null,
       "justify_content": null,
       "justify_items": null,
       "left": null,
       "margin": null,
       "max_height": null,
       "max_width": null,
       "min_height": null,
       "min_width": null,
       "object_fit": null,
       "object_position": null,
       "order": null,
       "overflow": null,
       "padding": null,
       "right": null,
       "top": null,
       "visibility": null,
       "width": null
      }
     }
    },
    "version_major": 2,
    "version_minor": 0
   }
  }
 },
 "nbformat": 4,
 "nbformat_minor": 5
}
