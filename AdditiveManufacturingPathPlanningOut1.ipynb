{
 "cells": [
  {
   "cell_type": "markdown",
   "id": "9ac40430",
   "metadata": {
    "tags": [
     "papermill-error-cell-tag"
    ]
   },
   "source": [
    "<span style=\"color:red; font-family:Helvetica Neue, Helvetica, Arial, sans-serif; font-size:2em;\">An Exception was encountered at '<a href=\"#papermill-error-cell\">In [13]</a>'.</span>"
   ]
  },
  {
   "cell_type": "markdown",
   "id": "faea046a",
   "metadata": {
    "papermill": {
     "duration": 0.007688,
     "end_time": "2024-05-17T16:32:05.128934",
     "exception": false,
     "start_time": "2024-05-17T16:32:05.121246",
     "status": "completed"
    },
    "tags": []
   },
   "source": [
    "#Additive Manufacturing Path Planning Made Effortless\n",
    "\n",
    "--> ***(This notebook is built up on the existing nimplex software and examples. Please see https://github.com/amkrajewski/nimplex for setting up and utilizing nimplex)***\n",
    "\n",
    "--> You will additionally need `pycalphad` and `pathfinding` libraries to run part of this exercise. If you are running this in Codespaces, it has been pre-installed for you."
   ]
  },
  {
   "cell_type": "markdown",
   "id": "5a7def8d",
   "metadata": {
    "papermill": {
     "duration": 0.007105,
     "end_time": "2024-05-17T16:32:05.143298",
     "exception": false,
     "start_time": "2024-05-17T16:32:05.136193",
     "status": "completed"
    },
    "tags": []
   },
   "source": [
    "**In this tutorial, we will demonstrate how effortless it is to dramatically speed up the exploration of feasible compositional spaces in high dimensional spaces through employing `nimplex`'s graph representations that abstract the underlying problem and dimensionality.**\n",
    "\n",
    "**We will also design several neat, mathematically optimal (given some criteria) paths in a 7-component chemical space connecting two alloys of interest by mixing 4 fixed-composition alloy powders to create a tetrahedral attainable/design space. The beauty of this approach is that at no point (except for plotting in 3D for \"human consumption\") will we explicitly consider the dimensionality or the distance as the connectivity between the points in the space has been abstracted into graph adjacency. If you wish to add another alloy to the design process, you add it to the list, and you are done :)**"
   ]
  },
  {
   "cell_type": "code",
   "execution_count": 1,
   "id": "f572b3c0",
   "metadata": {
    "execution": {
     "iopub.execute_input": "2024-05-17T16:32:05.158663Z",
     "iopub.status.busy": "2024-05-17T16:32:05.158314Z",
     "iopub.status.idle": "2024-05-17T16:32:05.838211Z",
     "shell.execute_reply": "2024-05-17T16:32:05.837888Z"
    },
    "papermill": {
     "duration": 0.688718,
     "end_time": "2024-05-17T16:32:05.839061",
     "exception": false,
     "start_time": "2024-05-17T16:32:05.150343",
     "status": "completed"
    },
    "tags": []
   },
   "outputs": [],
   "source": [
    "# Import nimplex and some of its plotting utilities\n",
    "import nimplex\n",
    "from utils import plotting"
   ]
  },
  {
   "cell_type": "code",
   "execution_count": 2,
   "id": "70d0fd57",
   "metadata": {
    "execution": {
     "iopub.execute_input": "2024-05-17T16:32:05.868230Z",
     "iopub.status.busy": "2024-05-17T16:32:05.868002Z",
     "iopub.status.idle": "2024-05-17T16:32:26.036333Z",
     "shell.execute_reply": "2024-05-17T16:32:26.035783Z"
    },
    "papermill": {
     "duration": 20.191144,
     "end_time": "2024-05-17T16:32:26.037398",
     "exception": false,
     "start_time": "2024-05-17T16:32:05.846254",
     "status": "completed"
    },
    "tags": []
   },
   "outputs": [],
   "source": [
    "# Python wrapper for Plotly library\n",
    "import plotly.express as px\n",
    "import pandas as pd\n",
    "from pprint import pprint"
   ]
  },
  {
   "cell_type": "markdown",
   "id": "7b4fa448",
   "metadata": {
    "papermill": {
     "duration": 0.007098,
     "end_time": "2024-05-17T16:32:26.052800",
     "exception": false,
     "start_time": "2024-05-17T16:32:26.045702",
     "status": "completed"
    },
    "tags": []
   },
   "source": [
    "## Example\n",
    "Let's get back to our example (QuickStart) of the pair of **attainable space** simplex grid and corresponding **elemental space** positions defined for `7`-component elemental space of `Ti`, `Zr`, `Hf`, `W`, `Nb`, `Ta`, and `Mo` formed by `4` alloys:\n",
    "- Ti50 Zr50 \n",
    "- Hf95 Ti5\n",
    "- Mo33 Nb33 Ta33\n",
    "- Mo10 Nb10 W80\n",
    "\n",
    "which we can represent as points in the elemental space:"
   ]
  },
  {
   "cell_type": "code",
   "execution_count": 3,
   "id": "4b112787",
   "metadata": {
    "execution": {
     "iopub.execute_input": "2024-05-17T16:32:26.068110Z",
     "iopub.status.busy": "2024-05-17T16:32:26.067641Z",
     "iopub.status.idle": "2024-05-17T16:32:26.071932Z",
     "shell.execute_reply": "2024-05-17T16:32:26.071634Z"
    },
    "papermill": {
     "duration": 0.012837,
     "end_time": "2024-05-17T16:32:26.072677",
     "exception": false,
     "start_time": "2024-05-17T16:32:26.059840",
     "status": "completed"
    },
    "tags": []
   },
   "outputs": [],
   "source": [
    "elementalSpaceComponents = ['V', 'Ni', 'Cr', 'Fe']\n",
    "attainableSpaceComponents = ['SS304L', 'NiCr', 'V', 'FE']\n",
    "attainableSpaceComponentPositions = [[0, 0.096114519430,0.1993865031, 0.7044989775], [0, 80, 20, 0], [100, 0, 0, 0], [0, 0, 0, 100]]"
   ]
  },
  {
   "cell_type": "markdown",
   "id": "3fbca04b",
   "metadata": {
    "papermill": {
     "duration": 0.007116,
     "end_time": "2024-05-17T16:32:26.086882",
     "exception": false,
     "start_time": "2024-05-17T16:32:26.079766",
     "status": "completed"
    },
    "tags": []
   },
   "source": [
    "And create tetrahedral grids with their compositions quantized at `12` divisions per dimension."
   ]
  },
  {
   "cell_type": "code",
   "execution_count": 4,
   "id": "09e28833",
   "metadata": {
    "execution": {
     "iopub.execute_input": "2024-05-17T16:32:26.101659Z",
     "iopub.status.busy": "2024-05-17T16:32:26.101409Z",
     "iopub.status.idle": "2024-05-17T16:32:26.394641Z",
     "shell.execute_reply": "2024-05-17T16:32:26.394335Z"
    },
    "papermill": {
     "duration": 0.301392,
     "end_time": "2024-05-17T16:32:26.395393",
     "exception": false,
     "start_time": "2024-05-17T16:32:26.094001",
     "status": "completed"
    },
    "tags": []
   },
   "outputs": [],
   "source": [
    "gridAtt, gridEl = nimplex.embeddedpair_simplex_grid_fractional_py(attainableSpaceComponentPositions, 12)"
   ]
  },
  {
   "cell_type": "markdown",
   "id": "131a0fcd",
   "metadata": {
    "papermill": {
     "duration": 0.007028,
     "end_time": "2024-05-17T16:32:26.409678",
     "exception": false,
     "start_time": "2024-05-17T16:32:26.402650",
     "status": "completed"
    },
    "tags": []
   },
   "source": [
    "We used the **elemental**, or chemical, space to run the Root Mean Square Atomic Displacement (RMSAD) model by Tandoc (10.1038/s41524-023-00993-x) which acts as a lower-cost proxy for yield stress and hardness estimations in the absence of direct data:"
   ]
  },
  {
   "cell_type": "markdown",
   "id": "7dbf5bf6",
   "metadata": {
    "papermill": {
     "duration": 0.006953,
     "end_time": "2024-05-17T16:32:26.423732",
     "exception": false,
     "start_time": "2024-05-17T16:32:26.416779",
     "status": "completed"
    },
    "tags": []
   },
   "source": [
    "#UNMARKDOWN WHEN NEEDED\n",
    "import pqam_rmsadtandoc2023\n",
    "rmsadList = []\n",
    "for point in gridEl:\n",
    "    formula = ' '.join([f'{c}{p}' for c, p in zip(elementalSpaceComponents, point)])\n",
    "    rmsadList.append(pqam_rmsadtandoc2023.predict(formula))"
   ]
  },
  {
   "cell_type": "markdown",
   "id": "b4216fec",
   "metadata": {
    "papermill": {
     "duration": 0.00704,
     "end_time": "2024-05-17T16:32:26.437763",
     "exception": false,
     "start_time": "2024-05-17T16:32:26.430723",
     "status": "completed"
    },
    "tags": []
   },
   "source": [
    "And the **attainable** space grid to plot the results after projecting them to the Euclidean space:"
   ]
  },
  {
   "cell_type": "code",
   "execution_count": 5,
   "id": "610eed2c",
   "metadata": {
    "execution": {
     "iopub.execute_input": "2024-05-17T16:32:26.452422Z",
     "iopub.status.busy": "2024-05-17T16:32:26.452221Z",
     "iopub.status.idle": "2024-05-17T16:32:26.516078Z",
     "shell.execute_reply": "2024-05-17T16:32:26.515783Z"
    },
    "papermill": {
     "duration": 0.071918,
     "end_time": "2024-05-17T16:32:26.516817",
     "exception": false,
     "start_time": "2024-05-17T16:32:26.444899",
     "status": "completed"
    },
    "tags": []
   },
   "outputs": [],
   "source": [
    "# Hover approximate formula for each point\n",
    "formulas = []\n",
    "for i, comp in enumerate(gridEl):\n",
    "    formulas.append(f\"({i:>3}) \"+\"\".join([f\"{el}{100*v:.1f} \" if v>0 else \"\" for el, v in zip(elementalSpaceComponents, comp)]))\n",
    "\n",
    "# Generate the projected grid\n",
    "gridAtt_projected_df = pd.DataFrame(plotting.simplex2cartesian_py(gridAtt), columns=['x','y','z'])\n",
    "\n",
    "# Attach pure component (alloy) labels to corners\n",
    "pureComponentIndices = nimplex.pure_component_indexes_py(4, 12)\n",
    "labels = ['']*len(gridAtt_projected_df)\n",
    "for comp, idx in zip(attainableSpaceComponents, pureComponentIndices):\n",
    "    labels[idx] = \"<b>\"+comp+\"</b>\""
   ]
  },
  {
   "cell_type": "markdown",
   "id": "eca16274",
   "metadata": {
    "papermill": {
     "duration": 0.007025,
     "end_time": "2024-05-17T16:32:26.531247",
     "exception": false,
     "start_time": "2024-05-17T16:32:26.524222",
     "status": "completed"
    },
    "tags": []
   },
   "source": [
    "\n",
    "# Add text labels at the corners of the simplex\n",
    "px.scatter_3d(gridAtt_projected_df, x='x', y='y', z='z', color=rmsadList, text=labels, hover_name=formulas,\n",
    "              template='plotly_white', width=800, height=700, \n",
    "              labels={'color':'RMSAD', 'x':'', 'y':'', 'z':''})"
   ]
  },
  {
   "cell_type": "markdown",
   "id": "2f479b49",
   "metadata": {
    "papermill": {
     "duration": 0.006914,
     "end_time": "2024-05-17T16:32:26.545156",
     "exception": false,
     "start_time": "2024-05-17T16:32:26.538242",
     "status": "completed"
    },
    "tags": []
   },
   "source": [
    "## Thermodynamic Equilibria\n",
    "\n",
    "**In this section we will be using `pycalphad` which is an amazing free open-source library for building thermodynamic models and performing calculations on them, including studying of phase equilibria, or what atomic arrangements are stable (coexist in equilibrium) at a given temperature and composition.** You can read more about `pycalphad` at [pycalphad.org](https://pycalphad.org/) and find an great tutorial at [this 2023 workshop materials repository](https://github.com/materialsgenomefoundation/2023-workshop-material/tree/main/pycalphad).\n",
    "\n",
    "Let's start by loading a database of thermodynamic properties which defines, among other things, the Gibbs energy of each phase as a function of temperature and composition. You can find many of such databases at [TDBDB](https://avdwgroup.engin.brown.edu) maintained by Axel van de Walle's group at Brown University. \n",
    "\n",
    "In this example, we will be using a TDB `CrHfMoNbTaTiVWZr_9element_Feb2023` placed for you in the `examples` directory, which is a 9-element database for the elements `Cr`, `Hf`, `Mo`, `Nb`, `Ta`, `Ti`, `V`, `W`, and `Zr`, being developed by Shuang Lin in our group (Phases Research Lab at PSU). This wersion is an older *work in progress* one that has not been published, so while it is perfect for tutorial like this one, please refrain from using it for any serious work."
   ]
  },
  {
   "cell_type": "code",
   "execution_count": 6,
   "id": "f82a9601",
   "metadata": {
    "execution": {
     "iopub.execute_input": "2024-05-17T16:32:26.559744Z",
     "iopub.status.busy": "2024-05-17T16:32:26.559540Z",
     "iopub.status.idle": "2024-05-17T16:32:43.501151Z",
     "shell.execute_reply": "2024-05-17T16:32:43.500636Z"
    },
    "papermill": {
     "duration": 16.949999,
     "end_time": "2024-05-17T16:32:43.502137",
     "exception": false,
     "start_time": "2024-05-17T16:32:26.552138",
     "status": "completed"
    },
    "tags": []
   },
   "outputs": [
    {
     "name": "stdout",
     "output_type": "stream",
     "text": [
      "['V', 'Ni', 'Cr', 'Fe']\n",
      "Loaded TDB file with phases considered: ['ALCU_ETA', 'CRNI2', 'GAMMA_D83', 'AL4CR', 'AL2FE', 'AL5FE2', 'AL8V5', 'GAMMAL', 'AL5TI2', 'AL3TI_L', 'AL3NI5', 'NI3V_D022', 'AL21V2', 'ALCU_ZETA', 'ALCU_DELTA', 'NI8V', 'LAVES_C15', 'AL13FE4', 'NIV3_A15', 'LAVES_C36', 'AL11CR4', 'AL45V7', 'GAMMAH', 'L12_FCC', 'BCC_B2', 'ALTI', 'ALTI3_D019', 'GAMMA_H', 'LIQUID', 'SIGMA_D8B', 'AL23V4_194', 'FCC_A1', 'LAVES_A15', 'AL5TI3', 'TAOA', 'BCC_A2', 'ALCU_THETA', 'AL3NI1', 'AL45CR7_12', 'NI3TI', 'AL3NI2', 'ALCR2', 'AL23V4', 'TS01TI', 'HCP_A3', 'AL3M', 'TS01T3', 'NITI2', 'AL5CR', 'AL2TI', 'AL45CR7', 'AL5FE4', 'ALCU_EPSILON', 'AL21V2_227', 'AL4NI3', 'D82_217', 'LAVES_C14']\n"
     ]
    },
    {
     "name": "stderr",
     "output_type": "stream",
     "text": [
      "/ocean/projects/dmr190011p/arichte1/micromamba/envs/ammap/lib/python3.11/site-packages/pycalphad/io/tdb.py:294: UserWarning: The type definition character `*` in `TYPE_DEFINITION * GES AMEND_PHASE_DESCRIPTION HCP_A3 MAGNETIC -3.0 2.80000E-01 ` is not used by any phase.\n",
      "  warnings.warn(f\"The type definition character `{typechar}` in `TYPE_DEFINITION {typechar} {line}` is not used by any phase.\")\n"
     ]
    }
   ],
   "source": [
    "from pycalphad import Database\n",
    "dbf = Database(\"ammap/databases/Al-Cr-Fe-Ni-Ti-V_04-13.tdb\")\n",
    "phases = list(set(dbf.phases.keys()))\n",
    "print(elementalSpaceComponents)\n",
    "print(f'Loaded TDB file with phases considered: {phases}')"
   ]
  },
  {
   "cell_type": "markdown",
   "id": "68110381",
   "metadata": {
    "papermill": {
     "duration": 0.007247,
     "end_time": "2024-05-17T16:32:43.517383",
     "exception": false,
     "start_time": "2024-05-17T16:32:43.510136",
     "status": "completed"
    },
    "tags": []
   },
   "source": [
    "As you can see, we will be looking at several different phases here. To keep things as simple as possible, we can split them in three groups:\n",
    "- **liquid** phases: `LIQUID` (which we obviously want to avoid in a solid part design)\n",
    "- **solid solution** phases: `FCC_A1`, `BCC_A2`, and `HCP_A3`\n",
    "- **intermetallic** phases: `LAVES_C14`, `LAVES_C15`, and `LAVES_C36`\n",
    "\n",
    "Designing an alloy is a complex procedure but for the sake of this tutorial, we will be focusing on the most common issue which is the formation of intermetallic phases which cause embrittlement and reduce the ductility of the material. **Thus, we will apply a simple constraint that the alloy should only contain the solid solution phases FCC, BCC, and HCP.**\n",
    "\n",
    "**Now, knowing what we are looking for (phases at equilibrium), we can start by writing a short Python script around `pycalphad` to calculate the equilibrium phases for a given chemical elements composition `elP`. It is already placed in the `examples` directory as `myPycalphadCallable.py` which defines a function `equilibrium_callable` that takes a composition and returns the equilibrium phases.**\n",
    "\n",
    "**We will arbitrarily pick `1000K`** as the temperature for the sake of this tutorial, but you can change it to any other value you like. Or even make it a list and add phases present at each temperature to a set to apply our constraint over a range of temperatures.\n",
    "\n",
    "\n",
    "Please note that much more information is generated in the process (e.g., chemical composition of each phase and its fraction) but we are only interested in the phase presence. If you wish to do so, modifying the script to, e.g., allow for up to 5% of intermetallic phases, is a trivial task. Advanced users may also want to have a look at the `scheil_callable` we do not use in this tutorial for the sake of runtime, but which can be used to simulate solidification of the alloy from a liquid state in an additive manufacturing process."
   ]
  },
  {
   "cell_type": "code",
   "execution_count": 7,
   "id": "cd5a3523",
   "metadata": {
    "execution": {
     "iopub.execute_input": "2024-05-17T16:32:43.533018Z",
     "iopub.status.busy": "2024-05-17T16:32:43.532628Z",
     "iopub.status.idle": "2024-05-17T16:32:59.943840Z",
     "shell.execute_reply": "2024-05-17T16:32:59.943342Z"
    },
    "papermill": {
     "duration": 16.420374,
     "end_time": "2024-05-17T16:32:59.944973",
     "exception": false,
     "start_time": "2024-05-17T16:32:43.524599",
     "status": "completed"
    },
    "tags": []
   },
   "outputs": [],
   "source": [
    "from ammap.callables.EqScheil import equilibrium_callable, scheil_callable"
   ]
  },
  {
   "cell_type": "markdown",
   "id": "dcaabbba",
   "metadata": {
    "papermill": {
     "duration": 0.007223,
     "end_time": "2024-05-17T16:32:59.960059",
     "exception": false,
     "start_time": "2024-05-17T16:32:59.952836",
     "status": "completed"
    },
    "tags": []
   },
   "source": [
    "Let's test it on some composition in our space starting with the first point!"
   ]
  },
  {
   "cell_type": "code",
   "execution_count": 8,
   "id": "6728d88a",
   "metadata": {
    "execution": {
     "iopub.execute_input": "2024-05-17T16:32:59.975825Z",
     "iopub.status.busy": "2024-05-17T16:32:59.975418Z",
     "iopub.status.idle": "2024-05-17T16:33:01.630251Z",
     "shell.execute_reply": "2024-05-17T16:33:01.629787Z"
    },
    "papermill": {
     "duration": 1.663757,
     "end_time": "2024-05-17T16:33:01.631171",
     "exception": false,
     "start_time": "2024-05-17T16:32:59.967414",
     "status": "completed"
    },
    "tags": []
   },
   "outputs": [
    {
     "name": "stdout",
     "output_type": "stream",
     "text": [
      "(  0) Fe100.0 \n"
     ]
    },
    {
     "data": {
      "text/plain": [
       "['BCC_B2']"
      ]
     },
     "execution_count": 8,
     "metadata": {},
     "output_type": "execute_result"
    }
   ],
   "source": [
    "print(formulas[0])\n",
    "equilibrium_callable(gridEl[0])"
   ]
  },
  {
   "cell_type": "markdown",
   "id": "aa6a7eb9",
   "metadata": {
    "papermill": {
     "duration": 0.007535,
     "end_time": "2024-05-17T16:33:01.646980",
     "exception": false,
     "start_time": "2024-05-17T16:33:01.639445",
     "status": "completed"
    },
    "tags": []
   },
   "source": [
    "You should see `['BCC_A2']` in a second or so if you've run it at the default `1000K`. Quick and neat, right? Now, let's pick some compositionally complex alloy that does not lay around the corner of the attainable space tetrahedron and presents an actual challenge."
   ]
  },
  {
   "cell_type": "code",
   "execution_count": 9,
   "id": "b57cfc0e",
   "metadata": {
    "execution": {
     "iopub.execute_input": "2024-05-17T16:33:01.662532Z",
     "iopub.status.busy": "2024-05-17T16:33:01.662242Z",
     "iopub.status.idle": "2024-05-17T16:33:02.098714Z",
     "shell.execute_reply": "2024-05-17T16:33:02.098271Z"
    },
    "papermill": {
     "duration": 0.445198,
     "end_time": "2024-05-17T16:33:02.099583",
     "exception": false,
     "start_time": "2024-05-17T16:33:01.654385",
     "status": "completed"
    },
    "tags": []
   },
   "outputs": [
    {
     "name": "stdout",
     "output_type": "stream",
     "text": [
      "( 63) Ni40.0 Cr10.0 Fe50.0 \n"
     ]
    },
    {
     "data": {
      "text/plain": [
       "['L12_FCC']"
      ]
     },
     "execution_count": 9,
     "metadata": {},
     "output_type": "execute_result"
    }
   ],
   "source": [
    "print(formulas[63])\n",
    "equilibrium_callable(gridEl[63])"
   ]
  },
  {
   "cell_type": "code",
   "execution_count": 10,
   "id": "b217bd08",
   "metadata": {
    "execution": {
     "iopub.execute_input": "2024-05-17T16:33:02.140982Z",
     "iopub.status.busy": "2024-05-17T16:33:02.140590Z",
     "iopub.status.idle": "2024-05-17T16:35:33.910979Z",
     "shell.execute_reply": "2024-05-17T16:35:33.910500Z"
    },
    "papermill": {
     "duration": 151.787296,
     "end_time": "2024-05-17T16:35:33.919426",
     "exception": false,
     "start_time": "2024-05-17T16:33:02.132130",
     "status": "completed"
    },
    "tags": []
   },
   "outputs": [
    {
     "name": "stderr",
     "output_type": "stream",
     "text": [
      "/ocean/projects/dmr190011p/arichte1/micromamba/envs/ammap/lib/python3.11/site-packages/pycalphad/core/utils.py:120: FutureWarning: generate_dof is deprecated and will be removed in a future version of pycalphad. The correct way to determine the degrees of freedom of a particular 'active' phase is to use Model.constituents.\n",
      "  warnings.warn(msg, FutureWarning)\n"
     ]
    },
    {
     "data": {
      "text/plain": [
       "dict_keys(['FCC_A1'])"
      ]
     },
     "execution_count": 10,
     "metadata": {},
     "output_type": "execute_result"
    }
   ],
   "source": [
    "scheil_callable(gridEl[63])"
   ]
  },
  {
   "cell_type": "markdown",
   "id": "4ad9f062",
   "metadata": {
    "papermill": {
     "duration": 0.007854,
     "end_time": "2024-05-17T16:35:33.935455",
     "exception": false,
     "start_time": "2024-05-17T16:35:33.927601",
     "status": "completed"
    },
    "tags": []
   },
   "source": [
    "Now, you should have seen an example of infeasible point composed of `['HCP_A3', 'LAVES_C15', 'BCC_A2']`. Let's deploy this in parallel over all the points in the elemental space `gridEl` and see how it looks like! We will use the `process_map` function from the `tqdm` library to show a neat progress bar while the calculations are running in parallel. On the 4-core Codespaces VM you can expect it to take around 2-3 minutes."
   ]
  },
  {
   "cell_type": "code",
   "execution_count": 11,
   "id": "bc2bf031",
   "metadata": {
    "execution": {
     "iopub.execute_input": "2024-05-17T16:35:33.952614Z",
     "iopub.status.busy": "2024-05-17T16:35:33.952341Z",
     "iopub.status.idle": "2024-05-17T16:35:35.040254Z",
     "shell.execute_reply": "2024-05-17T16:35:35.039875Z"
    },
    "papermill": {
     "duration": 1.097953,
     "end_time": "2024-05-17T16:35:35.041195",
     "exception": false,
     "start_time": "2024-05-17T16:35:33.943242",
     "status": "completed"
    },
    "tags": []
   },
   "outputs": [],
   "source": [
    "from tqdm import tqdm\n",
    "from tqdm.contrib.concurrent import process_map"
   ]
  },
  {
   "cell_type": "code",
   "execution_count": 12,
   "id": "131abd5c",
   "metadata": {
    "execution": {
     "iopub.execute_input": "2024-05-17T16:35:35.058231Z",
     "iopub.status.busy": "2024-05-17T16:35:35.057871Z",
     "iopub.status.idle": "2024-05-17T16:36:02.182513Z",
     "shell.execute_reply": "2024-05-17T16:36:02.181951Z"
    },
    "papermill": {
     "duration": 27.134152,
     "end_time": "2024-05-17T16:36:02.183781",
     "exception": false,
     "start_time": "2024-05-17T16:35:35.049629",
     "status": "completed"
    },
    "tags": []
   },
   "outputs": [
    {
     "data": {
      "application/vnd.jupyter.widget-view+json": {
       "model_id": "08fa24c93c7648638cbeb5c62c597184",
       "version_major": 2,
       "version_minor": 0
      },
      "text/plain": [
       "  0%|          | 0/455 [00:00<?, ?it/s]"
      ]
     },
     "metadata": {},
     "output_type": "display_data"
    }
   ],
   "source": [
    "gridPhases = process_map(equilibrium_callable, gridEl)"
   ]
  },
  {
   "cell_type": "code",
   "execution_count": 1,
   "id": "f8319f45",
   "metadata": {},
   "outputs": [
    {
     "ename": "NameError",
     "evalue": "name 'gridPhases' is not defined",
     "output_type": "error",
     "traceback": [
      "\u001b[0;31m---------------------------------------------------------------------------\u001b[0m",
      "\u001b[0;31mNameError\u001b[0m                                 Traceback (most recent call last)",
      "Cell \u001b[0;32mIn[1], line 1\u001b[0m\n\u001b[0;32m----> 1\u001b[0m \u001b[38;5;28mprint\u001b[39m(\u001b[43mgridPhases\u001b[49m)\n",
      "\u001b[0;31mNameError\u001b[0m: name 'gridPhases' is not defined"
     ]
    }
   ],
   "source": [
    "print(gridPhases)"
   ]
  },
  {
   "cell_type": "markdown",
   "id": "3379ae5f",
   "metadata": {
    "tags": [
     "papermill-error-cell-tag"
    ]
   },
   "source": []
  },
  {
   "cell_type": "markdown",
   "id": "db8a240c",
   "metadata": {},
   "source": [
    "<span id=\"papermill-error-cell\" style=\"color:red; font-family:Helvetica Neue, Helvetica, Arial, sans-serif; font-size:2em;\">Execution using papermill encountered an exception here and stopped:</span>"
   ]
  },
  {
   "cell_type": "code",
   "execution_count": 13,
   "id": "46c50375",
   "metadata": {
    "execution": {
     "iopub.execute_input": "2024-05-17T16:36:02.287850Z",
     "iopub.status.busy": "2024-05-17T16:36:02.287566Z",
     "iopub.status.idle": "2024-05-17T17:29:47.027412Z",
     "shell.execute_reply": "2024-05-17T17:29:47.026720Z"
    },
    "papermill": {
     "duration": 3224.760022,
     "end_time": "2024-05-17T17:29:47.038963",
     "exception": true,
     "start_time": "2024-05-17T16:36:02.278941",
     "status": "failed"
    },
    "tags": []
   },
   "outputs": [
    {
     "name": "stderr",
     "output_type": "stream",
     "text": [
      "/ocean/projects/dmr190011p/arichte1/micromamba/envs/ammap/lib/python3.11/site-packages/pycalphad/core/utils.py:120: FutureWarning: generate_dof is deprecated and will be removed in a future version of pycalphad. The correct way to determine the degrees of freedom of a particular 'active' phase is to use Model.constituents.\n",
      "  warnings.warn(msg, FutureWarning)\n"
     ]
    },
    {
     "name": "stderr",
     "output_type": "stream",
     "text": [
      "/ocean/projects/dmr190011p/arichte1/micromamba/envs/ammap/lib/python3.11/site-packages/pycalphad/core/utils.py:120: FutureWarning: generate_dof is deprecated and will be removed in a future version of pycalphad. The correct way to determine the degrees of freedom of a particular 'active' phase is to use Model.constituents.\n",
      "  warnings.warn(msg, FutureWarning)\n"
     ]
    },
    {
     "data": {
      "application/vnd.jupyter.widget-view+json": {
       "model_id": "3a4c8c57336f4d48aede083decb044f8",
       "version_major": 2,
       "version_minor": 0
      },
      "text/plain": [
       "  0%|          | 0/455 [00:00<?, ?it/s]"
      ]
     },
     "metadata": {},
     "output_type": "display_data"
    },
    {
     "name": "stderr",
     "output_type": "stream",
     "text": [
      "/ocean/projects/dmr190011p/arichte1/micromamba/envs/ammap/lib/python3.11/site-packages/pycalphad/core/utils.py:120: FutureWarning: generate_dof is deprecated and will be removed in a future version of pycalphad. The correct way to determine the degrees of freedom of a particular 'active' phase is to use Model.constituents.\n",
      "  warnings.warn(msg, FutureWarning)\n"
     ]
    },
    {
     "name": "stderr",
     "output_type": "stream",
     "text": [
      "/ocean/projects/dmr190011p/arichte1/micromamba/envs/ammap/lib/python3.11/site-packages/pycalphad/core/utils.py:120: FutureWarning: generate_dof is deprecated and will be removed in a future version of pycalphad. The correct way to determine the degrees of freedom of a particular 'active' phase is to use Model.constituents.\n",
      "  warnings.warn(msg, FutureWarning)\n"
     ]
    },
    {
     "name": "stderr",
     "output_type": "stream",
     "text": [
      "/ocean/projects/dmr190011p/arichte1/micromamba/envs/ammap/lib/python3.11/site-packages/pycalphad/core/utils.py:120: FutureWarning: generate_dof is deprecated and will be removed in a future version of pycalphad. The correct way to determine the degrees of freedom of a particular 'active' phase is to use Model.constituents.\n",
      "  warnings.warn(msg, FutureWarning)\n"
     ]
    },
    {
     "name": "stderr",
     "output_type": "stream",
     "text": [
      "/ocean/projects/dmr190011p/arichte1/micromamba/envs/ammap/lib/python3.11/site-packages/pycalphad/core/utils.py:120: FutureWarning: generate_dof is deprecated and will be removed in a future version of pycalphad. The correct way to determine the degrees of freedom of a particular 'active' phase is to use Model.constituents.\n",
      "  warnings.warn(msg, FutureWarning)\n"
     ]
    },
    {
     "name": "stderr",
     "output_type": "stream",
     "text": [
      "/ocean/projects/dmr190011p/arichte1/micromamba/envs/ammap/lib/python3.11/site-packages/pycalphad/core/utils.py:120: FutureWarning: generate_dof is deprecated and will be removed in a future version of pycalphad. The correct way to determine the degrees of freedom of a particular 'active' phase is to use Model.constituents.\n",
      "  warnings.warn(msg, FutureWarning)\n"
     ]
    },
    {
     "name": "stderr",
     "output_type": "stream",
     "text": [
      "/ocean/projects/dmr190011p/arichte1/micromamba/envs/ammap/lib/python3.11/site-packages/pycalphad/core/utils.py:120: FutureWarning: generate_dof is deprecated and will be removed in a future version of pycalphad. The correct way to determine the degrees of freedom of a particular 'active' phase is to use Model.constituents.\n",
      "  warnings.warn(msg, FutureWarning)\n"
     ]
    },
    {
     "name": "stderr",
     "output_type": "stream",
     "text": [
      "/ocean/projects/dmr190011p/arichte1/micromamba/envs/ammap/lib/python3.11/site-packages/pycalphad/core/utils.py:120: FutureWarning: generate_dof is deprecated and will be removed in a future version of pycalphad. The correct way to determine the degrees of freedom of a particular 'active' phase is to use Model.constituents.\n",
      "  warnings.warn(msg, FutureWarning)\n"
     ]
    },
    {
     "name": "stderr",
     "output_type": "stream",
     "text": [
      "/ocean/projects/dmr190011p/arichte1/micromamba/envs/ammap/lib/python3.11/site-packages/pycalphad/core/utils.py:120: FutureWarning: generate_dof is deprecated and will be removed in a future version of pycalphad. The correct way to determine the degrees of freedom of a particular 'active' phase is to use Model.constituents.\n",
      "  warnings.warn(msg, FutureWarning)\n"
     ]
    },
    {
     "name": "stderr",
     "output_type": "stream",
     "text": [
      "/ocean/projects/dmr190011p/arichte1/micromamba/envs/ammap/lib/python3.11/site-packages/pycalphad/core/utils.py:120: FutureWarning: generate_dof is deprecated and will be removed in a future version of pycalphad. The correct way to determine the degrees of freedom of a particular 'active' phase is to use Model.constituents.\n",
      "  warnings.warn(msg, FutureWarning)\n"
     ]
    },
    {
     "name": "stderr",
     "output_type": "stream",
     "text": [
      "/ocean/projects/dmr190011p/arichte1/micromamba/envs/ammap/lib/python3.11/site-packages/pycalphad/core/utils.py:120: FutureWarning: generate_dof is deprecated and will be removed in a future version of pycalphad. The correct way to determine the degrees of freedom of a particular 'active' phase is to use Model.constituents.\n",
      "  warnings.warn(msg, FutureWarning)\n"
     ]
    },
    {
     "name": "stderr",
     "output_type": "stream",
     "text": [
      "/ocean/projects/dmr190011p/arichte1/micromamba/envs/ammap/lib/python3.11/site-packages/pycalphad/core/utils.py:120: FutureWarning: generate_dof is deprecated and will be removed in a future version of pycalphad. The correct way to determine the degrees of freedom of a particular 'active' phase is to use Model.constituents.\n",
      "  warnings.warn(msg, FutureWarning)\n"
     ]
    },
    {
     "name": "stderr",
     "output_type": "stream",
     "text": [
      "/ocean/projects/dmr190011p/arichte1/micromamba/envs/ammap/lib/python3.11/site-packages/pycalphad/core/utils.py:120: FutureWarning: generate_dof is deprecated and will be removed in a future version of pycalphad. The correct way to determine the degrees of freedom of a particular 'active' phase is to use Model.constituents.\n",
      "  warnings.warn(msg, FutureWarning)\n"
     ]
    },
    {
     "name": "stderr",
     "output_type": "stream",
     "text": [
      "/ocean/projects/dmr190011p/arichte1/micromamba/envs/ammap/lib/python3.11/site-packages/pycalphad/core/utils.py:120: FutureWarning: generate_dof is deprecated and will be removed in a future version of pycalphad. The correct way to determine the degrees of freedom of a particular 'active' phase is to use Model.constituents.\n",
      "  warnings.warn(msg, FutureWarning)\n"
     ]
    },
    {
     "name": "stderr",
     "output_type": "stream",
     "text": [
      "/ocean/projects/dmr190011p/arichte1/micromamba/envs/ammap/lib/python3.11/site-packages/pycalphad/core/utils.py:120: FutureWarning: generate_dof is deprecated and will be removed in a future version of pycalphad. The correct way to determine the degrees of freedom of a particular 'active' phase is to use Model.constituents.\n",
      "  warnings.warn(msg, FutureWarning)\n"
     ]
    },
    {
     "name": "stderr",
     "output_type": "stream",
     "text": [
      "/ocean/projects/dmr190011p/arichte1/micromamba/envs/ammap/lib/python3.11/site-packages/pycalphad/core/utils.py:120: FutureWarning: generate_dof is deprecated and will be removed in a future version of pycalphad. The correct way to determine the degrees of freedom of a particular 'active' phase is to use Model.constituents.\n",
      "  warnings.warn(msg, FutureWarning)\n"
     ]
    },
    {
     "name": "stderr",
     "output_type": "stream",
     "text": [
      "/ocean/projects/dmr190011p/arichte1/micromamba/envs/ammap/lib/python3.11/site-packages/pycalphad/core/utils.py:120: FutureWarning: generate_dof is deprecated and will be removed in a future version of pycalphad. The correct way to determine the degrees of freedom of a particular 'active' phase is to use Model.constituents.\n",
      "  warnings.warn(msg, FutureWarning)\n"
     ]
    },
    {
     "name": "stderr",
     "output_type": "stream",
     "text": [
      "/ocean/projects/dmr190011p/arichte1/micromamba/envs/ammap/lib/python3.11/site-packages/pycalphad/core/utils.py:120: FutureWarning: generate_dof is deprecated and will be removed in a future version of pycalphad. The correct way to determine the degrees of freedom of a particular 'active' phase is to use Model.constituents.\n",
      "  warnings.warn(msg, FutureWarning)\n"
     ]
    },
    {
     "name": "stderr",
     "output_type": "stream",
     "text": [
      "/ocean/projects/dmr190011p/arichte1/micromamba/envs/ammap/lib/python3.11/site-packages/pycalphad/core/utils.py:120: FutureWarning: generate_dof is deprecated and will be removed in a future version of pycalphad. The correct way to determine the degrees of freedom of a particular 'active' phase is to use Model.constituents.\n",
      "  warnings.warn(msg, FutureWarning)\n"
     ]
    },
    {
     "name": "stderr",
     "output_type": "stream",
     "text": [
      "/ocean/projects/dmr190011p/arichte1/micromamba/envs/ammap/lib/python3.11/site-packages/pycalphad/core/utils.py:120: FutureWarning: generate_dof is deprecated and will be removed in a future version of pycalphad. The correct way to determine the degrees of freedom of a particular 'active' phase is to use Model.constituents.\n",
      "  warnings.warn(msg, FutureWarning)\n"
     ]
    },
    {
     "name": "stderr",
     "output_type": "stream",
     "text": [
      "/ocean/projects/dmr190011p/arichte1/micromamba/envs/ammap/lib/python3.11/site-packages/pycalphad/core/utils.py:120: FutureWarning: generate_dof is deprecated and will be removed in a future version of pycalphad. The correct way to determine the degrees of freedom of a particular 'active' phase is to use Model.constituents.\n",
      "  warnings.warn(msg, FutureWarning)\n"
     ]
    },
    {
     "name": "stderr",
     "output_type": "stream",
     "text": [
      "/ocean/projects/dmr190011p/arichte1/micromamba/envs/ammap/lib/python3.11/site-packages/pycalphad/core/utils.py:120: FutureWarning: generate_dof is deprecated and will be removed in a future version of pycalphad. The correct way to determine the degrees of freedom of a particular 'active' phase is to use Model.constituents.\n",
      "  warnings.warn(msg, FutureWarning)\n"
     ]
    },
    {
     "name": "stderr",
     "output_type": "stream",
     "text": [
      "/ocean/projects/dmr190011p/arichte1/micromamba/envs/ammap/lib/python3.11/site-packages/pycalphad/core/utils.py:120: FutureWarning: generate_dof is deprecated and will be removed in a future version of pycalphad. The correct way to determine the degrees of freedom of a particular 'active' phase is to use Model.constituents.\n",
      "  warnings.warn(msg, FutureWarning)\n"
     ]
    },
    {
     "name": "stderr",
     "output_type": "stream",
     "text": [
      "/ocean/projects/dmr190011p/arichte1/micromamba/envs/ammap/lib/python3.11/site-packages/pycalphad/core/utils.py:120: FutureWarning: generate_dof is deprecated and will be removed in a future version of pycalphad. The correct way to determine the degrees of freedom of a particular 'active' phase is to use Model.constituents.\n",
      "  warnings.warn(msg, FutureWarning)\n"
     ]
    },
    {
     "name": "stderr",
     "output_type": "stream",
     "text": [
      "/ocean/projects/dmr190011p/arichte1/micromamba/envs/ammap/lib/python3.11/site-packages/pycalphad/core/utils.py:120: FutureWarning: generate_dof is deprecated and will be removed in a future version of pycalphad. The correct way to determine the degrees of freedom of a particular 'active' phase is to use Model.constituents.\n",
      "  warnings.warn(msg, FutureWarning)\n"
     ]
    },
    {
     "name": "stderr",
     "output_type": "stream",
     "text": [
      "/ocean/projects/dmr190011p/arichte1/micromamba/envs/ammap/lib/python3.11/site-packages/pycalphad/core/utils.py:120: FutureWarning: generate_dof is deprecated and will be removed in a future version of pycalphad. The correct way to determine the degrees of freedom of a particular 'active' phase is to use Model.constituents.\n",
      "  warnings.warn(msg, FutureWarning)\n"
     ]
    },
    {
     "name": "stderr",
     "output_type": "stream",
     "text": [
      "/ocean/projects/dmr190011p/arichte1/micromamba/envs/ammap/lib/python3.11/site-packages/pycalphad/core/utils.py:120: FutureWarning: generate_dof is deprecated and will be removed in a future version of pycalphad. The correct way to determine the degrees of freedom of a particular 'active' phase is to use Model.constituents.\n",
      "  warnings.warn(msg, FutureWarning)\n"
     ]
    },
    {
     "name": "stderr",
     "output_type": "stream",
     "text": [
      "/ocean/projects/dmr190011p/arichte1/micromamba/envs/ammap/lib/python3.11/site-packages/pycalphad/core/utils.py:120: FutureWarning: generate_dof is deprecated and will be removed in a future version of pycalphad. The correct way to determine the degrees of freedom of a particular 'active' phase is to use Model.constituents.\n",
      "  warnings.warn(msg, FutureWarning)\n"
     ]
    },
    {
     "name": "stderr",
     "output_type": "stream",
     "text": [
      "/ocean/projects/dmr190011p/arichte1/micromamba/envs/ammap/lib/python3.11/site-packages/pycalphad/core/utils.py:120: FutureWarning: generate_dof is deprecated and will be removed in a future version of pycalphad. The correct way to determine the degrees of freedom of a particular 'active' phase is to use Model.constituents.\n",
      "  warnings.warn(msg, FutureWarning)\n"
     ]
    },
    {
     "name": "stderr",
     "output_type": "stream",
     "text": [
      "/ocean/projects/dmr190011p/arichte1/micromamba/envs/ammap/lib/python3.11/site-packages/pycalphad/core/utils.py:120: FutureWarning: generate_dof is deprecated and will be removed in a future version of pycalphad. The correct way to determine the degrees of freedom of a particular 'active' phase is to use Model.constituents.\n",
      "  warnings.warn(msg, FutureWarning)\n"
     ]
    },
    {
     "name": "stderr",
     "output_type": "stream",
     "text": [
      "/ocean/projects/dmr190011p/arichte1/micromamba/envs/ammap/lib/python3.11/site-packages/pycalphad/core/utils.py:120: FutureWarning: generate_dof is deprecated and will be removed in a future version of pycalphad. The correct way to determine the degrees of freedom of a particular 'active' phase is to use Model.constituents.\n",
      "  warnings.warn(msg, FutureWarning)\n"
     ]
    },
    {
     "name": "stderr",
     "output_type": "stream",
     "text": [
      "/ocean/projects/dmr190011p/arichte1/micromamba/envs/ammap/lib/python3.11/site-packages/pycalphad/core/utils.py:120: FutureWarning: generate_dof is deprecated and will be removed in a future version of pycalphad. The correct way to determine the degrees of freedom of a particular 'active' phase is to use Model.constituents.\n",
      "  warnings.warn(msg, FutureWarning)\n"
     ]
    },
    {
     "name": "stderr",
     "output_type": "stream",
     "text": [
      "/ocean/projects/dmr190011p/arichte1/micromamba/envs/ammap/lib/python3.11/site-packages/pycalphad/core/utils.py:120: FutureWarning: generate_dof is deprecated and will be removed in a future version of pycalphad. The correct way to determine the degrees of freedom of a particular 'active' phase is to use Model.constituents.\n",
      "  warnings.warn(msg, FutureWarning)\n"
     ]
    },
    {
     "name": "stderr",
     "output_type": "stream",
     "text": [
      "/ocean/projects/dmr190011p/arichte1/micromamba/envs/ammap/lib/python3.11/site-packages/pycalphad/core/utils.py:120: FutureWarning: generate_dof is deprecated and will be removed in a future version of pycalphad. The correct way to determine the degrees of freedom of a particular 'active' phase is to use Model.constituents.\n",
      "  warnings.warn(msg, FutureWarning)\n"
     ]
    },
    {
     "name": "stderr",
     "output_type": "stream",
     "text": [
      "/ocean/projects/dmr190011p/arichte1/micromamba/envs/ammap/lib/python3.11/site-packages/pycalphad/core/utils.py:120: FutureWarning: generate_dof is deprecated and will be removed in a future version of pycalphad. The correct way to determine the degrees of freedom of a particular 'active' phase is to use Model.constituents.\n",
      "  warnings.warn(msg, FutureWarning)\n"
     ]
    },
    {
     "name": "stderr",
     "output_type": "stream",
     "text": [
      "/ocean/projects/dmr190011p/arichte1/micromamba/envs/ammap/lib/python3.11/site-packages/pycalphad/core/utils.py:120: FutureWarning: generate_dof is deprecated and will be removed in a future version of pycalphad. The correct way to determine the degrees of freedom of a particular 'active' phase is to use Model.constituents.\n",
      "  warnings.warn(msg, FutureWarning)\n"
     ]
    },
    {
     "name": "stderr",
     "output_type": "stream",
     "text": [
      "/ocean/projects/dmr190011p/arichte1/micromamba/envs/ammap/lib/python3.11/site-packages/pycalphad/core/utils.py:120: FutureWarning: generate_dof is deprecated and will be removed in a future version of pycalphad. The correct way to determine the degrees of freedom of a particular 'active' phase is to use Model.constituents.\n",
      "  warnings.warn(msg, FutureWarning)\n"
     ]
    },
    {
     "name": "stderr",
     "output_type": "stream",
     "text": [
      "/ocean/projects/dmr190011p/arichte1/micromamba/envs/ammap/lib/python3.11/site-packages/pycalphad/core/utils.py:120: FutureWarning: generate_dof is deprecated and will be removed in a future version of pycalphad. The correct way to determine the degrees of freedom of a particular 'active' phase is to use Model.constituents.\n",
      "  warnings.warn(msg, FutureWarning)\n"
     ]
    },
    {
     "name": "stderr",
     "output_type": "stream",
     "text": [
      "/ocean/projects/dmr190011p/arichte1/micromamba/envs/ammap/lib/python3.11/site-packages/pycalphad/core/utils.py:120: FutureWarning: generate_dof is deprecated and will be removed in a future version of pycalphad. The correct way to determine the degrees of freedom of a particular 'active' phase is to use Model.constituents.\n",
      "  warnings.warn(msg, FutureWarning)\n"
     ]
    },
    {
     "name": "stderr",
     "output_type": "stream",
     "text": [
      "/ocean/projects/dmr190011p/arichte1/micromamba/envs/ammap/lib/python3.11/site-packages/pycalphad/core/utils.py:120: FutureWarning: generate_dof is deprecated and will be removed in a future version of pycalphad. The correct way to determine the degrees of freedom of a particular 'active' phase is to use Model.constituents.\n",
      "  warnings.warn(msg, FutureWarning)\n"
     ]
    },
    {
     "name": "stderr",
     "output_type": "stream",
     "text": [
      "/ocean/projects/dmr190011p/arichte1/micromamba/envs/ammap/lib/python3.11/site-packages/pycalphad/core/utils.py:120: FutureWarning: generate_dof is deprecated and will be removed in a future version of pycalphad. The correct way to determine the degrees of freedom of a particular 'active' phase is to use Model.constituents.\n",
      "  warnings.warn(msg, FutureWarning)\n"
     ]
    },
    {
     "name": "stderr",
     "output_type": "stream",
     "text": [
      "/ocean/projects/dmr190011p/arichte1/micromamba/envs/ammap/lib/python3.11/site-packages/pycalphad/core/utils.py:120: FutureWarning: generate_dof is deprecated and will be removed in a future version of pycalphad. The correct way to determine the degrees of freedom of a particular 'active' phase is to use Model.constituents.\n",
      "  warnings.warn(msg, FutureWarning)\n"
     ]
    },
    {
     "name": "stderr",
     "output_type": "stream",
     "text": [
      "/ocean/projects/dmr190011p/arichte1/micromamba/envs/ammap/lib/python3.11/site-packages/pycalphad/core/utils.py:120: FutureWarning: generate_dof is deprecated and will be removed in a future version of pycalphad. The correct way to determine the degrees of freedom of a particular 'active' phase is to use Model.constituents.\n",
      "  warnings.warn(msg, FutureWarning)\n"
     ]
    },
    {
     "name": "stderr",
     "output_type": "stream",
     "text": [
      "/ocean/projects/dmr190011p/arichte1/micromamba/envs/ammap/lib/python3.11/site-packages/pycalphad/core/utils.py:120: FutureWarning: generate_dof is deprecated and will be removed in a future version of pycalphad. The correct way to determine the degrees of freedom of a particular 'active' phase is to use Model.constituents.\n",
      "  warnings.warn(msg, FutureWarning)\n"
     ]
    },
    {
     "name": "stderr",
     "output_type": "stream",
     "text": [
      "/ocean/projects/dmr190011p/arichte1/micromamba/envs/ammap/lib/python3.11/site-packages/pycalphad/core/utils.py:120: FutureWarning: generate_dof is deprecated and will be removed in a future version of pycalphad. The correct way to determine the degrees of freedom of a particular 'active' phase is to use Model.constituents.\n",
      "  warnings.warn(msg, FutureWarning)\n"
     ]
    },
    {
     "name": "stderr",
     "output_type": "stream",
     "text": [
      "/ocean/projects/dmr190011p/arichte1/micromamba/envs/ammap/lib/python3.11/site-packages/pycalphad/core/utils.py:120: FutureWarning: generate_dof is deprecated and will be removed in a future version of pycalphad. The correct way to determine the degrees of freedom of a particular 'active' phase is to use Model.constituents.\n",
      "  warnings.warn(msg, FutureWarning)\n"
     ]
    },
    {
     "name": "stderr",
     "output_type": "stream",
     "text": [
      "/ocean/projects/dmr190011p/arichte1/micromamba/envs/ammap/lib/python3.11/site-packages/pycalphad/core/utils.py:120: FutureWarning: generate_dof is deprecated and will be removed in a future version of pycalphad. The correct way to determine the degrees of freedom of a particular 'active' phase is to use Model.constituents.\n",
      "  warnings.warn(msg, FutureWarning)\n"
     ]
    },
    {
     "name": "stderr",
     "output_type": "stream",
     "text": [
      "/ocean/projects/dmr190011p/arichte1/micromamba/envs/ammap/lib/python3.11/site-packages/pycalphad/core/utils.py:120: FutureWarning: generate_dof is deprecated and will be removed in a future version of pycalphad. The correct way to determine the degrees of freedom of a particular 'active' phase is to use Model.constituents.\n",
      "  warnings.warn(msg, FutureWarning)\n"
     ]
    },
    {
     "name": "stderr",
     "output_type": "stream",
     "text": [
      "/ocean/projects/dmr190011p/arichte1/micromamba/envs/ammap/lib/python3.11/site-packages/pycalphad/core/utils.py:120: FutureWarning: generate_dof is deprecated and will be removed in a future version of pycalphad. The correct way to determine the degrees of freedom of a particular 'active' phase is to use Model.constituents.\n",
      "  warnings.warn(msg, FutureWarning)\n"
     ]
    },
    {
     "name": "stderr",
     "output_type": "stream",
     "text": [
      "/ocean/projects/dmr190011p/arichte1/micromamba/envs/ammap/lib/python3.11/site-packages/pycalphad/core/utils.py:120: FutureWarning: generate_dof is deprecated and will be removed in a future version of pycalphad. The correct way to determine the degrees of freedom of a particular 'active' phase is to use Model.constituents.\n",
      "  warnings.warn(msg, FutureWarning)\n"
     ]
    },
    {
     "name": "stderr",
     "output_type": "stream",
     "text": [
      "/ocean/projects/dmr190011p/arichte1/micromamba/envs/ammap/lib/python3.11/site-packages/pycalphad/core/utils.py:120: FutureWarning: generate_dof is deprecated and will be removed in a future version of pycalphad. The correct way to determine the degrees of freedom of a particular 'active' phase is to use Model.constituents.\n",
      "  warnings.warn(msg, FutureWarning)\n"
     ]
    },
    {
     "name": "stderr",
     "output_type": "stream",
     "text": [
      "/ocean/projects/dmr190011p/arichte1/micromamba/envs/ammap/lib/python3.11/site-packages/pycalphad/core/utils.py:120: FutureWarning: generate_dof is deprecated and will be removed in a future version of pycalphad. The correct way to determine the degrees of freedom of a particular 'active' phase is to use Model.constituents.\n",
      "  warnings.warn(msg, FutureWarning)\n"
     ]
    },
    {
     "name": "stderr",
     "output_type": "stream",
     "text": [
      "/ocean/projects/dmr190011p/arichte1/micromamba/envs/ammap/lib/python3.11/site-packages/pycalphad/core/utils.py:120: FutureWarning: generate_dof is deprecated and will be removed in a future version of pycalphad. The correct way to determine the degrees of freedom of a particular 'active' phase is to use Model.constituents.\n",
      "  warnings.warn(msg, FutureWarning)\n"
     ]
    },
    {
     "name": "stderr",
     "output_type": "stream",
     "text": [
      "/ocean/projects/dmr190011p/arichte1/micromamba/envs/ammap/lib/python3.11/site-packages/pycalphad/core/utils.py:120: FutureWarning: generate_dof is deprecated and will be removed in a future version of pycalphad. The correct way to determine the degrees of freedom of a particular 'active' phase is to use Model.constituents.\n",
      "  warnings.warn(msg, FutureWarning)\n"
     ]
    },
    {
     "name": "stderr",
     "output_type": "stream",
     "text": [
      "/ocean/projects/dmr190011p/arichte1/micromamba/envs/ammap/lib/python3.11/site-packages/pycalphad/core/utils.py:120: FutureWarning: generate_dof is deprecated and will be removed in a future version of pycalphad. The correct way to determine the degrees of freedom of a particular 'active' phase is to use Model.constituents.\n",
      "  warnings.warn(msg, FutureWarning)\n"
     ]
    },
    {
     "name": "stderr",
     "output_type": "stream",
     "text": [
      "/ocean/projects/dmr190011p/arichte1/micromamba/envs/ammap/lib/python3.11/site-packages/pycalphad/core/utils.py:120: FutureWarning: generate_dof is deprecated and will be removed in a future version of pycalphad. The correct way to determine the degrees of freedom of a particular 'active' phase is to use Model.constituents.\n",
      "  warnings.warn(msg, FutureWarning)\n"
     ]
    },
    {
     "name": "stderr",
     "output_type": "stream",
     "text": [
      "/ocean/projects/dmr190011p/arichte1/micromamba/envs/ammap/lib/python3.11/site-packages/pycalphad/core/utils.py:120: FutureWarning: generate_dof is deprecated and will be removed in a future version of pycalphad. The correct way to determine the degrees of freedom of a particular 'active' phase is to use Model.constituents.\n",
      "  warnings.warn(msg, FutureWarning)\n"
     ]
    },
    {
     "name": "stderr",
     "output_type": "stream",
     "text": [
      "/ocean/projects/dmr190011p/arichte1/micromamba/envs/ammap/lib/python3.11/site-packages/pycalphad/core/utils.py:120: FutureWarning: generate_dof is deprecated and will be removed in a future version of pycalphad. The correct way to determine the degrees of freedom of a particular 'active' phase is to use Model.constituents.\n",
      "  warnings.warn(msg, FutureWarning)\n"
     ]
    },
    {
     "name": "stderr",
     "output_type": "stream",
     "text": [
      "/ocean/projects/dmr190011p/arichte1/micromamba/envs/ammap/lib/python3.11/site-packages/pycalphad/core/utils.py:120: FutureWarning: generate_dof is deprecated and will be removed in a future version of pycalphad. The correct way to determine the degrees of freedom of a particular 'active' phase is to use Model.constituents.\n",
      "  warnings.warn(msg, FutureWarning)\n"
     ]
    },
    {
     "name": "stderr",
     "output_type": "stream",
     "text": [
      "/ocean/projects/dmr190011p/arichte1/micromamba/envs/ammap/lib/python3.11/site-packages/pycalphad/core/utils.py:120: FutureWarning: generate_dof is deprecated and will be removed in a future version of pycalphad. The correct way to determine the degrees of freedom of a particular 'active' phase is to use Model.constituents.\n",
      "  warnings.warn(msg, FutureWarning)\n"
     ]
    },
    {
     "name": "stderr",
     "output_type": "stream",
     "text": [
      "/ocean/projects/dmr190011p/arichte1/micromamba/envs/ammap/lib/python3.11/site-packages/pycalphad/core/utils.py:120: FutureWarning: generate_dof is deprecated and will be removed in a future version of pycalphad. The correct way to determine the degrees of freedom of a particular 'active' phase is to use Model.constituents.\n",
      "  warnings.warn(msg, FutureWarning)\n"
     ]
    },
    {
     "name": "stderr",
     "output_type": "stream",
     "text": [
      "/ocean/projects/dmr190011p/arichte1/micromamba/envs/ammap/lib/python3.11/site-packages/pycalphad/core/utils.py:120: FutureWarning: generate_dof is deprecated and will be removed in a future version of pycalphad. The correct way to determine the degrees of freedom of a particular 'active' phase is to use Model.constituents.\n",
      "  warnings.warn(msg, FutureWarning)\n"
     ]
    },
    {
     "name": "stderr",
     "output_type": "stream",
     "text": [
      "/ocean/projects/dmr190011p/arichte1/micromamba/envs/ammap/lib/python3.11/site-packages/pycalphad/core/utils.py:120: FutureWarning: generate_dof is deprecated and will be removed in a future version of pycalphad. The correct way to determine the degrees of freedom of a particular 'active' phase is to use Model.constituents.\n",
      "  warnings.warn(msg, FutureWarning)\n"
     ]
    },
    {
     "name": "stderr",
     "output_type": "stream",
     "text": [
      "/ocean/projects/dmr190011p/arichte1/micromamba/envs/ammap/lib/python3.11/site-packages/pycalphad/core/utils.py:120: FutureWarning: generate_dof is deprecated and will be removed in a future version of pycalphad. The correct way to determine the degrees of freedom of a particular 'active' phase is to use Model.constituents.\n",
      "  warnings.warn(msg, FutureWarning)\n"
     ]
    },
    {
     "name": "stderr",
     "output_type": "stream",
     "text": [
      "/ocean/projects/dmr190011p/arichte1/micromamba/envs/ammap/lib/python3.11/site-packages/pycalphad/core/utils.py:120: FutureWarning: generate_dof is deprecated and will be removed in a future version of pycalphad. The correct way to determine the degrees of freedom of a particular 'active' phase is to use Model.constituents.\n",
      "  warnings.warn(msg, FutureWarning)\n"
     ]
    },
    {
     "name": "stderr",
     "output_type": "stream",
     "text": [
      "/ocean/projects/dmr190011p/arichte1/micromamba/envs/ammap/lib/python3.11/site-packages/pycalphad/core/utils.py:120: FutureWarning: generate_dof is deprecated and will be removed in a future version of pycalphad. The correct way to determine the degrees of freedom of a particular 'active' phase is to use Model.constituents.\n",
      "  warnings.warn(msg, FutureWarning)\n"
     ]
    },
    {
     "ename": "TypeError",
     "evalue": "cannot pickle 'dict_keys' object",
     "output_type": "error",
     "traceback": [
      "\u001b[0;31m---------------------------------------------------------------------------\u001b[0m",
      "\u001b[0;31m_RemoteTraceback\u001b[0m                          Traceback (most recent call last)",
      "\u001b[0;31m_RemoteTraceback\u001b[0m: \n\"\"\"\nTraceback (most recent call last):\n  File \"/ocean/projects/dmr190011p/arichte1/micromamba/envs/ammap/lib/python3.11/concurrent/futures/process.py\", line 217, in _sendback_result\n    result_queue.put(_ResultItem(work_id, result=result,\n  File \"/ocean/projects/dmr190011p/arichte1/micromamba/envs/ammap/lib/python3.11/multiprocessing/queues.py\", line 371, in put\n    obj = _ForkingPickler.dumps(obj)\n          ^^^^^^^^^^^^^^^^^^^^^^^^^^\n  File \"/ocean/projects/dmr190011p/arichte1/micromamba/envs/ammap/lib/python3.11/multiprocessing/reduction.py\", line 51, in dumps\n    cls(buf, protocol).dump(obj)\nTypeError: cannot pickle 'dict_keys' object\n\"\"\"",
      "\nThe above exception was the direct cause of the following exception:\n",
      "\u001b[0;31mTypeError\u001b[0m                                 Traceback (most recent call last)",
      "Cell \u001b[0;32mIn[13], line 1\u001b[0m\n\u001b[0;32m----> 1\u001b[0m scheilPhases \u001b[38;5;241m=\u001b[39m \u001b[43mprocess_map\u001b[49m\u001b[43m(\u001b[49m\u001b[43mscheil_callable\u001b[49m\u001b[43m,\u001b[49m\u001b[43mgridEl\u001b[49m\u001b[43m)\u001b[49m\n",
      "File \u001b[0;32m/ocean/projects/dmr190011p/arichte1/micromamba/envs/ammap/lib/python3.11/site-packages/tqdm/contrib/concurrent.py:105\u001b[0m, in \u001b[0;36mprocess_map\u001b[0;34m(fn, *iterables, **tqdm_kwargs)\u001b[0m\n\u001b[1;32m    103\u001b[0m     tqdm_kwargs \u001b[38;5;241m=\u001b[39m tqdm_kwargs\u001b[38;5;241m.\u001b[39mcopy()\n\u001b[1;32m    104\u001b[0m     tqdm_kwargs[\u001b[38;5;124m\"\u001b[39m\u001b[38;5;124mlock_name\u001b[39m\u001b[38;5;124m\"\u001b[39m] \u001b[38;5;241m=\u001b[39m \u001b[38;5;124m\"\u001b[39m\u001b[38;5;124mmp_lock\u001b[39m\u001b[38;5;124m\"\u001b[39m\n\u001b[0;32m--> 105\u001b[0m \u001b[38;5;28;01mreturn\u001b[39;00m \u001b[43m_executor_map\u001b[49m\u001b[43m(\u001b[49m\u001b[43mProcessPoolExecutor\u001b[49m\u001b[43m,\u001b[49m\u001b[43m \u001b[49m\u001b[43mfn\u001b[49m\u001b[43m,\u001b[49m\u001b[43m \u001b[49m\u001b[38;5;241;43m*\u001b[39;49m\u001b[43miterables\u001b[49m\u001b[43m,\u001b[49m\u001b[43m \u001b[49m\u001b[38;5;241;43m*\u001b[39;49m\u001b[38;5;241;43m*\u001b[39;49m\u001b[43mtqdm_kwargs\u001b[49m\u001b[43m)\u001b[49m\n",
      "File \u001b[0;32m/ocean/projects/dmr190011p/arichte1/micromamba/envs/ammap/lib/python3.11/site-packages/tqdm/contrib/concurrent.py:51\u001b[0m, in \u001b[0;36m_executor_map\u001b[0;34m(PoolExecutor, fn, *iterables, **tqdm_kwargs)\u001b[0m\n\u001b[1;32m     47\u001b[0m \u001b[38;5;28;01mwith\u001b[39;00m ensure_lock(tqdm_class, lock_name\u001b[38;5;241m=\u001b[39mlock_name) \u001b[38;5;28;01mas\u001b[39;00m lk:\n\u001b[1;32m     48\u001b[0m     \u001b[38;5;66;03m# share lock in case workers are already using `tqdm`\u001b[39;00m\n\u001b[1;32m     49\u001b[0m     \u001b[38;5;28;01mwith\u001b[39;00m PoolExecutor(max_workers\u001b[38;5;241m=\u001b[39mmax_workers, initializer\u001b[38;5;241m=\u001b[39mtqdm_class\u001b[38;5;241m.\u001b[39mset_lock,\n\u001b[1;32m     50\u001b[0m                       initargs\u001b[38;5;241m=\u001b[39m(lk,)) \u001b[38;5;28;01mas\u001b[39;00m ex:\n\u001b[0;32m---> 51\u001b[0m         \u001b[38;5;28;01mreturn\u001b[39;00m \u001b[38;5;28;43mlist\u001b[39;49m\u001b[43m(\u001b[49m\u001b[43mtqdm_class\u001b[49m\u001b[43m(\u001b[49m\u001b[43mex\u001b[49m\u001b[38;5;241;43m.\u001b[39;49m\u001b[43mmap\u001b[49m\u001b[43m(\u001b[49m\u001b[43mfn\u001b[49m\u001b[43m,\u001b[49m\u001b[43m \u001b[49m\u001b[38;5;241;43m*\u001b[39;49m\u001b[43miterables\u001b[49m\u001b[43m,\u001b[49m\u001b[43m \u001b[49m\u001b[43mchunksize\u001b[49m\u001b[38;5;241;43m=\u001b[39;49m\u001b[43mchunksize\u001b[49m\u001b[43m)\u001b[49m\u001b[43m,\u001b[49m\u001b[43m \u001b[49m\u001b[38;5;241;43m*\u001b[39;49m\u001b[38;5;241;43m*\u001b[39;49m\u001b[43mkwargs\u001b[49m\u001b[43m)\u001b[49m\u001b[43m)\u001b[49m\n",
      "File \u001b[0;32m/ocean/projects/dmr190011p/arichte1/micromamba/envs/ammap/lib/python3.11/site-packages/tqdm/notebook.py:250\u001b[0m, in \u001b[0;36mtqdm_notebook.__iter__\u001b[0;34m(self)\u001b[0m\n\u001b[1;32m    248\u001b[0m \u001b[38;5;28;01mtry\u001b[39;00m:\n\u001b[1;32m    249\u001b[0m     it \u001b[38;5;241m=\u001b[39m \u001b[38;5;28msuper\u001b[39m()\u001b[38;5;241m.\u001b[39m\u001b[38;5;21m__iter__\u001b[39m()\n\u001b[0;32m--> 250\u001b[0m \u001b[43m    \u001b[49m\u001b[38;5;28;43;01mfor\u001b[39;49;00m\u001b[43m \u001b[49m\u001b[43mobj\u001b[49m\u001b[43m \u001b[49m\u001b[38;5;129;43;01min\u001b[39;49;00m\u001b[43m \u001b[49m\u001b[43mit\u001b[49m\u001b[43m:\u001b[49m\n\u001b[1;32m    251\u001b[0m \u001b[43m        \u001b[49m\u001b[38;5;66;43;03m# return super(tqdm...) will not catch exception\u001b[39;49;00m\n\u001b[1;32m    252\u001b[0m \u001b[43m        \u001b[49m\u001b[38;5;28;43;01myield\u001b[39;49;00m\u001b[43m \u001b[49m\u001b[43mobj\u001b[49m\n\u001b[1;32m    253\u001b[0m \u001b[38;5;66;03m# NB: except ... [ as ...] breaks IPython async KeyboardInterrupt\u001b[39;00m\n",
      "File \u001b[0;32m/ocean/projects/dmr190011p/arichte1/micromamba/envs/ammap/lib/python3.11/site-packages/tqdm/std.py:1181\u001b[0m, in \u001b[0;36mtqdm.__iter__\u001b[0;34m(self)\u001b[0m\n\u001b[1;32m   1178\u001b[0m time \u001b[38;5;241m=\u001b[39m \u001b[38;5;28mself\u001b[39m\u001b[38;5;241m.\u001b[39m_time\n\u001b[1;32m   1180\u001b[0m \u001b[38;5;28;01mtry\u001b[39;00m:\n\u001b[0;32m-> 1181\u001b[0m \u001b[43m    \u001b[49m\u001b[38;5;28;43;01mfor\u001b[39;49;00m\u001b[43m \u001b[49m\u001b[43mobj\u001b[49m\u001b[43m \u001b[49m\u001b[38;5;129;43;01min\u001b[39;49;00m\u001b[43m \u001b[49m\u001b[43miterable\u001b[49m\u001b[43m:\u001b[49m\n\u001b[1;32m   1182\u001b[0m \u001b[43m        \u001b[49m\u001b[38;5;28;43;01myield\u001b[39;49;00m\u001b[43m \u001b[49m\u001b[43mobj\u001b[49m\n\u001b[1;32m   1183\u001b[0m \u001b[43m        \u001b[49m\u001b[38;5;66;43;03m# Update and possibly print the progressbar.\u001b[39;49;00m\n\u001b[1;32m   1184\u001b[0m \u001b[43m        \u001b[49m\u001b[38;5;66;43;03m# Note: does not call self.update(1) for speed optimisation.\u001b[39;49;00m\n",
      "File \u001b[0;32m/ocean/projects/dmr190011p/arichte1/micromamba/envs/ammap/lib/python3.11/concurrent/futures/process.py:620\u001b[0m, in \u001b[0;36m_chain_from_iterable_of_lists\u001b[0;34m(iterable)\u001b[0m\n\u001b[1;32m    614\u001b[0m \u001b[38;5;28;01mdef\u001b[39;00m \u001b[38;5;21m_chain_from_iterable_of_lists\u001b[39m(iterable):\n\u001b[1;32m    615\u001b[0m \u001b[38;5;250m    \u001b[39m\u001b[38;5;124;03m\"\"\"\u001b[39;00m\n\u001b[1;32m    616\u001b[0m \u001b[38;5;124;03m    Specialized implementation of itertools.chain.from_iterable.\u001b[39;00m\n\u001b[1;32m    617\u001b[0m \u001b[38;5;124;03m    Each item in *iterable* should be a list.  This function is\u001b[39;00m\n\u001b[1;32m    618\u001b[0m \u001b[38;5;124;03m    careful not to keep references to yielded objects.\u001b[39;00m\n\u001b[1;32m    619\u001b[0m \u001b[38;5;124;03m    \"\"\"\u001b[39;00m\n\u001b[0;32m--> 620\u001b[0m \u001b[43m    \u001b[49m\u001b[38;5;28;43;01mfor\u001b[39;49;00m\u001b[43m \u001b[49m\u001b[43melement\u001b[49m\u001b[43m \u001b[49m\u001b[38;5;129;43;01min\u001b[39;49;00m\u001b[43m \u001b[49m\u001b[43miterable\u001b[49m\u001b[43m:\u001b[49m\n\u001b[1;32m    621\u001b[0m \u001b[43m        \u001b[49m\u001b[43melement\u001b[49m\u001b[38;5;241;43m.\u001b[39;49m\u001b[43mreverse\u001b[49m\u001b[43m(\u001b[49m\u001b[43m)\u001b[49m\n\u001b[1;32m    622\u001b[0m \u001b[43m        \u001b[49m\u001b[38;5;28;43;01mwhile\u001b[39;49;00m\u001b[43m \u001b[49m\u001b[43melement\u001b[49m\u001b[43m:\u001b[49m\n",
      "File \u001b[0;32m/ocean/projects/dmr190011p/arichte1/micromamba/envs/ammap/lib/python3.11/concurrent/futures/_base.py:619\u001b[0m, in \u001b[0;36mExecutor.map.<locals>.result_iterator\u001b[0;34m()\u001b[0m\n\u001b[1;32m    616\u001b[0m \u001b[38;5;28;01mwhile\u001b[39;00m fs:\n\u001b[1;32m    617\u001b[0m     \u001b[38;5;66;03m# Careful not to keep a reference to the popped future\u001b[39;00m\n\u001b[1;32m    618\u001b[0m     \u001b[38;5;28;01mif\u001b[39;00m timeout \u001b[38;5;129;01mis\u001b[39;00m \u001b[38;5;28;01mNone\u001b[39;00m:\n\u001b[0;32m--> 619\u001b[0m         \u001b[38;5;28;01myield\u001b[39;00m \u001b[43m_result_or_cancel\u001b[49m\u001b[43m(\u001b[49m\u001b[43mfs\u001b[49m\u001b[38;5;241;43m.\u001b[39;49m\u001b[43mpop\u001b[49m\u001b[43m(\u001b[49m\u001b[43m)\u001b[49m\u001b[43m)\u001b[49m\n\u001b[1;32m    620\u001b[0m     \u001b[38;5;28;01melse\u001b[39;00m:\n\u001b[1;32m    621\u001b[0m         \u001b[38;5;28;01myield\u001b[39;00m _result_or_cancel(fs\u001b[38;5;241m.\u001b[39mpop(), end_time \u001b[38;5;241m-\u001b[39m time\u001b[38;5;241m.\u001b[39mmonotonic())\n",
      "File \u001b[0;32m/ocean/projects/dmr190011p/arichte1/micromamba/envs/ammap/lib/python3.11/concurrent/futures/_base.py:317\u001b[0m, in \u001b[0;36m_result_or_cancel\u001b[0;34m(***failed resolving arguments***)\u001b[0m\n\u001b[1;32m    315\u001b[0m \u001b[38;5;28;01mtry\u001b[39;00m:\n\u001b[1;32m    316\u001b[0m     \u001b[38;5;28;01mtry\u001b[39;00m:\n\u001b[0;32m--> 317\u001b[0m         \u001b[38;5;28;01mreturn\u001b[39;00m \u001b[43mfut\u001b[49m\u001b[38;5;241;43m.\u001b[39;49m\u001b[43mresult\u001b[49m\u001b[43m(\u001b[49m\u001b[43mtimeout\u001b[49m\u001b[43m)\u001b[49m\n\u001b[1;32m    318\u001b[0m     \u001b[38;5;28;01mfinally\u001b[39;00m:\n\u001b[1;32m    319\u001b[0m         fut\u001b[38;5;241m.\u001b[39mcancel()\n",
      "File \u001b[0;32m/ocean/projects/dmr190011p/arichte1/micromamba/envs/ammap/lib/python3.11/concurrent/futures/_base.py:456\u001b[0m, in \u001b[0;36mFuture.result\u001b[0;34m(self, timeout)\u001b[0m\n\u001b[1;32m    454\u001b[0m     \u001b[38;5;28;01mraise\u001b[39;00m CancelledError()\n\u001b[1;32m    455\u001b[0m \u001b[38;5;28;01melif\u001b[39;00m \u001b[38;5;28mself\u001b[39m\u001b[38;5;241m.\u001b[39m_state \u001b[38;5;241m==\u001b[39m FINISHED:\n\u001b[0;32m--> 456\u001b[0m     \u001b[38;5;28;01mreturn\u001b[39;00m \u001b[38;5;28;43mself\u001b[39;49m\u001b[38;5;241;43m.\u001b[39;49m\u001b[43m__get_result\u001b[49m\u001b[43m(\u001b[49m\u001b[43m)\u001b[49m\n\u001b[1;32m    457\u001b[0m \u001b[38;5;28;01melse\u001b[39;00m:\n\u001b[1;32m    458\u001b[0m     \u001b[38;5;28;01mraise\u001b[39;00m \u001b[38;5;167;01mTimeoutError\u001b[39;00m()\n",
      "File \u001b[0;32m/ocean/projects/dmr190011p/arichte1/micromamba/envs/ammap/lib/python3.11/concurrent/futures/_base.py:401\u001b[0m, in \u001b[0;36mFuture.__get_result\u001b[0;34m(self)\u001b[0m\n\u001b[1;32m    399\u001b[0m \u001b[38;5;28;01mif\u001b[39;00m \u001b[38;5;28mself\u001b[39m\u001b[38;5;241m.\u001b[39m_exception:\n\u001b[1;32m    400\u001b[0m     \u001b[38;5;28;01mtry\u001b[39;00m:\n\u001b[0;32m--> 401\u001b[0m         \u001b[38;5;28;01mraise\u001b[39;00m \u001b[38;5;28mself\u001b[39m\u001b[38;5;241m.\u001b[39m_exception\n\u001b[1;32m    402\u001b[0m     \u001b[38;5;28;01mfinally\u001b[39;00m:\n\u001b[1;32m    403\u001b[0m         \u001b[38;5;66;03m# Break a reference cycle with the exception in self._exception\u001b[39;00m\n\u001b[1;32m    404\u001b[0m         \u001b[38;5;28mself\u001b[39m \u001b[38;5;241m=\u001b[39m \u001b[38;5;28;01mNone\u001b[39;00m\n",
      "\u001b[0;31mTypeError\u001b[0m: cannot pickle 'dict_keys' object"
     ]
    }
   ],
   "source": [
    "scheilPhases = process_map(scheil_callable,gridEl)"
   ]
  },
  {
   "cell_type": "markdown",
   "id": "9743200b",
   "metadata": {
    "papermill": {
     "duration": null,
     "end_time": null,
     "exception": null,
     "start_time": null,
     "status": "pending"
    },
    "tags": []
   },
   "source": [
    "Let's see how some of the data looks like."
   ]
  },
  {
   "cell_type": "code",
   "execution_count": null,
   "id": "3a258e69",
   "metadata": {
    "papermill": {
     "duration": null,
     "end_time": null,
     "exception": null,
     "start_time": null,
     "status": "pending"
    },
    "tags": []
   },
   "outputs": [],
   "source": [
    "gridPhases[120:130]"
   ]
  },
  {
   "cell_type": "markdown",
   "id": "2d2e91f3",
   "metadata": {
    "papermill": {
     "duration": null,
     "end_time": null,
     "exception": null,
     "start_time": null,
     "status": "pending"
    },
    "tags": []
   },
   "source": [
    "Now, let's turn that list of phases into a list of feasibility based on the constraint we defined earlier. Note that in some cases, the `pycalphad` library may return an empty list of phases, which we will treat as infeasible."
   ]
  },
  {
   "cell_type": "code",
   "execution_count": null,
   "id": "6f3cd962",
   "metadata": {
    "papermill": {
     "duration": null,
     "end_time": null,
     "exception": null,
     "start_time": null,
     "status": "pending"
    },
    "tags": []
   },
   "outputs": [],
   "source": [
    "infeasiblePhases = set([\n",
    "    'AL3M', 'AL5FE2', 'LIQUID', 'AL11CR4', 'D82_217', 'AL3NI1', 'NI3TI', 'AL5FE4', 'TAOA', 'LAVES_C15', 'GAMMAH', 'AL5CR', 'AL2FE', 'AL4CR', 'NIV3_A15', 'GAMMA_H', \n",
    "    'ALTI3_D019', 'ALCU_DELTA', 'AL45CR7', 'TS01TI', 'NI8V', 'AL45CR7_12', 'LAVES_C14', 'LAVES_A15', 'AL3NI5', 'AL5TI3', 'ALCU_EPSILON', 'NITI2', 'AL8V5', 'ALCR2', 'AL23V4', 'AL13FE4', \n",
    "    'AL4NI3', 'ALCU_ZETA', 'ALCU_THETA', 'AL3NI2', 'AL23V4_194', 'CRNI2', 'NI3V_D022', 'LAVES_C36', 'TS01T3', 'AL21V2_227', 'AL5TI2', 'ALCU_ETA', 'GAMMAL', \n",
    "    'GAMMA_D83', 'SIGMA_D8B', 'AL21V2', 'AL2TI', 'AL3TI_L', 'ALTI', 'AL45V7'])\n",
    "print(f\"Feasible phases set: {set(phases).difference(infeasiblePhases)}\")\n",
    "gridFeasible = [len(set(p) & infeasiblePhases)==0 and p!=[] for p in gridPhases]\n",
    "gridFeasible[120:130]"
   ]
  },
  {
   "cell_type": "markdown",
   "id": "0f4e9fe5",
   "metadata": {
    "papermill": {
     "duration": null,
     "end_time": null,
     "exception": null,
     "start_time": null,
     "status": "pending"
    },
    "tags": []
   },
   "source": [
    "Finally, let's plot the result in 3D using the `plotly` library and our spacial-transformed attainable space grid we obtained with `plotting.simplex2cartesian_py(gridAtt)` earlier.\n",
    "\n",
    "**Once you run the cell below, you should be seeing an interactive 3D plot with 455 split roughly 50/50 between feasible and infeasible points. You can rotate the plot, zoom in and out, and hover over the points to see their composition and feasibility. You can also click on the legend to hide/show the points based on their feasibility.**"
   ]
  },
  {
   "cell_type": "code",
   "execution_count": null,
   "id": "d7bb3abc",
   "metadata": {
    "papermill": {
     "duration": null,
     "end_time": null,
     "exception": null,
     "start_time": null,
     "status": "pending"
    },
    "tags": []
   },
   "outputs": [],
   "source": [
    "fig = px.scatter_3d(gridAtt_projected_df, x='x', y='y', z='z', color=gridFeasible, text=labels, hover_name=formulas,\n",
    "              template='plotly_white', width=800, height=700, opacity=0.333, color_discrete_sequence=['green', 'red'],\n",
    "              labels={'color':'Solid Solution Phases', 'x':'', 'y':'', 'z':''})\n",
    "fig.update_scenes({'camera': {'eye': {'x': -2.3, 'y': 0.2, 'z': 0.2}}})"
   ]
  },
  {
   "cell_type": "markdown",
   "id": "5172d649",
   "metadata": {
    "papermill": {
     "duration": null,
     "end_time": null,
     "exception": null,
     "start_time": null,
     "status": "pending"
    },
    "tags": []
   },
   "source": [
    "## Graph Walk aka Infeasibility Gliding (Exciting Stuff!)\n",
    "\n",
    "**While the last two sections highlighted the elegant abstraction of grid generation and space transformation using `nimplex`, they did not really show the true power of the library or the novel combinatorics-based algorithm we developed in the associated paper. That is the simplex graph construction in arbitrary dimensions and the graph traversal it enables.**\n",
    "\n",
    "**Let's start by generating the graph for our problem. We can use the `nimplex.embeddedpair_simplex_graph_fractional_py` function, which also first generates the two grids we already used in the previous sections.**"
   ]
  },
  {
   "cell_type": "code",
   "execution_count": null,
   "id": "0a3f37b5",
   "metadata": {
    "papermill": {
     "duration": null,
     "end_time": null,
     "exception": null,
     "start_time": null,
     "status": "pending"
    },
    "tags": []
   },
   "outputs": [],
   "source": [
    "_, _, graphN = nimplex.embeddedpair_simplex_graph_fractional_py(attainableSpaceComponentPositions, 12)"
   ]
  },
  {
   "cell_type": "markdown",
   "id": "2c4db55c",
   "metadata": {
    "papermill": {
     "duration": null,
     "end_time": null,
     "exception": null,
     "start_time": null,
     "status": "pending"
    },
    "tags": []
   },
   "source": [
    "As you can see, we immediately obtain list of adjecent nodes (compostions) for each node in the graph, with few neighbors for the corners and many for the interior points. This is the power of the abstraction we are talking about!"
   ]
  },
  {
   "cell_type": "code",
   "execution_count": null,
   "id": "105d438e",
   "metadata": {
    "papermill": {
     "duration": null,
     "end_time": null,
     "exception": null,
     "start_time": null,
     "status": "pending"
    },
    "tags": []
   },
   "outputs": [],
   "source": [
    "graphN[:5]"
   ]
  },
  {
   "cell_type": "code",
   "execution_count": null,
   "id": "6e88e76a",
   "metadata": {
    "papermill": {
     "duration": null,
     "end_time": null,
     "exception": null,
     "start_time": null,
     "status": "pending"
    },
    "tags": []
   },
   "outputs": [],
   "source": [
    "graphN[200:205]"
   ]
  },
  {
   "cell_type": "markdown",
   "id": "7dd2ed09",
   "metadata": {
    "papermill": {
     "duration": null,
     "end_time": null,
     "exception": null,
     "start_time": null,
     "status": "pending"
    },
    "tags": []
   },
   "source": [
    "We can now use this graph to do a lot of things. Let's start by considering that **the infeasible region, for thermodynamic reasons beyond the scope of this tutorial, are generally difficult to predict but are generally bound by continous surfaces called phase boundaries.** \n",
    "\n",
    "**Thus, if we iteratively traverse the graph expanding only the feasible nodes, while noting infeasible nodes, we can glide along the phase boundaries and explore the feasible space without ever wasting our resources on calculations inside the insides of the infeasible regions.** \n",
    "\n",
    "Let's do this starting from the `W10.0 Nb10.0 Mo80.0` and terminating when we reach the `Hf95.0 Zr5.0` point. \n",
    "\n",
    "**Bonus Exercises:**\n",
    "- Please note that you do not need to specify the termination point, as the algorithm will stop when it completeley explores the feasible space. In this example, we are just showing you how to specify it and it has no effect on the result. If you want to play a bit, you can set `endNode` to `12` to see how path to `W33.3 Nb33.3 Ta33.3` gets explored in just 87 nodes.\n",
    "- If you remove the `endNode` termination (change `break` to `pass`), you can add the endNode (or any other node you believe is feasible) to the initial `queue` list and see how the algorithm explores the feasible space from multiple starting points much faster thanks to better parallelization."
   ]
  },
  {
   "cell_type": "code",
   "execution_count": null,
   "id": "01b0f1a1",
   "metadata": {
    "papermill": {
     "duration": null,
     "end_time": null,
     "exception": null,
     "start_time": null,
     "status": "pending"
    },
    "tags": []
   },
   "outputs": [],
   "source": [
    "startingNode = 0\n",
    "endNode = 90\n",
    "\n",
    "print(f\"Starting node: {formulas[startingNode]}\")\n",
    "print(f\"Ending node: {formulas[endNode]}\")"
   ]
  },
  {
   "cell_type": "code",
   "execution_count": null,
   "id": "26e80a2b",
   "metadata": {
    "papermill": {
     "duration": null,
     "end_time": null,
     "exception": null,
     "start_time": null,
     "status": "pending"
    },
    "tags": []
   },
   "outputs": [],
   "source": [
    "gridFeasible = [None]*len(graphN)\n",
    "queue = [0, 12, 90]\n",
    "explored = set()\n",
    "calcCount = 0"
   ]
  },
  {
   "cell_type": "markdown",
   "id": "d662b892",
   "metadata": {
    "papermill": {
     "duration": null,
     "end_time": null,
     "exception": null,
     "start_time": null,
     "status": "pending"
    },
    "tags": []
   },
   "source": [
    "**Now, we will be using a `queue` of nodes to keep track of the nodes we need to visit and a set of visited nodes to avoid revisiting them. This simple procedure is a type of `depth-first search` algorithm that is guaranteed to find the shortest path between two points in a graph if it exists, while exploring the feasible space in the process in an unbiased way. In a more elaborate problem, you would likely want to implement a priority queue to explore the space in a more efficient way, but for this tutorial, this is more than enough and allows for better, more direct comparions with the typical complete exploration approach.** On the 4-core Codespaces VM you can expect it to take around 1-2 minutes. In a relatively simple problem like this one, the difference between the two approaches is not that big, coming partially from overhead of limited Python parallelization capabilities, but in a more complex problem, the difference can be dramatic."
   ]
  },
  {
   "cell_type": "code",
   "execution_count": null,
   "id": "bb6e4141",
   "metadata": {
    "papermill": {
     "duration": null,
     "end_time": null,
     "exception": null,
     "start_time": null,
     "status": "pending"
    },
    "tags": []
   },
   "outputs": [],
   "source": [
    "while len(queue)>0:\n",
    "    print(f\"Queue: {queue}\")\n",
    "    # Assign feasibilities to the current queue\n",
    "    elPositions = [gridEl[i] for i in queue]\n",
    "    if len(queue)>3:\n",
    "        phases = process_map(equilibrium_callable, elPositions, max_workers=4)\n",
    "    else:\n",
    "        phases = [equilibrium_callable(elP) for elP in elPositions]\n",
    "    feasibilities = [len(set(p) & set(infeasiblePhases))==0 and p!=[] for p in phases]\n",
    "\n",
    "    calcCount += len(feasibilities)\n",
    "    explored = explored.union(queue)\n",
    "\n",
    "    # Create next queue based on neighbors of feasible points\n",
    "    nextQueue = set()\n",
    "    for f, i in zip(feasibilities, queue):\n",
    "        gridFeasible[i] = f\n",
    "        # Only if feasible\n",
    "        if f:\n",
    "            for n in graphN[i]:\n",
    "                if n not in explored:\n",
    "                    nextQueue.add(n)\n",
    "\n",
    "    # Early termination criteria if we just evaluated the target\n",
    "    if endNode in queue:\n",
    "        pass\n",
    "\n",
    "    print(f\"Calculations done: {calcCount}\")\n",
    "    queue = list(nextQueue)"
   ]
  },
  {
   "cell_type": "markdown",
   "id": "7c3c953e",
   "metadata": {
    "papermill": {
     "duration": null,
     "end_time": null,
     "exception": null,
     "start_time": null,
     "status": "pending"
    },
    "tags": []
   },
   "source": [
    "**You should now see that only 281 phase equilibria calculations were performed to get all the feasible points! That's only a bit more than half of what we had to do in the previous section. Let's plot the path we found in the 3D space.** If you rotate the figure, you can clearly see the path gliding along the infeasible space boundary."
   ]
  },
  {
   "cell_type": "code",
   "execution_count": null,
   "id": "150f4ae3",
   "metadata": {
    "papermill": {
     "duration": null,
     "end_time": null,
     "exception": null,
     "start_time": null,
     "status": "pending"
    },
    "tags": []
   },
   "outputs": [],
   "source": [
    "fig = px.scatter_3d(gridAtt_projected_df, x='x', y='y', z='z', color=gridFeasible, text=labels, hover_name=formulas,\n",
    "              template='plotly_white', width=800, height=700, opacity=0.333, color_discrete_sequence=['green', 'red'],\n",
    "              labels={'color':'Solid Solution Phases', 'x':'', 'y':'', 'z':''})\n",
    "fig.update_scenes({'camera': {'eye': {'x': -2.3, 'y': 0.2, 'z': 0.2}}})"
   ]
  },
  {
   "cell_type": "markdown",
   "id": "cb1b117e",
   "metadata": {
    "papermill": {
     "duration": null,
     "end_time": null,
     "exception": null,
     "start_time": null,
     "status": "pending"
    },
    "tags": []
   },
   "source": [
    "## Path Finding\n",
    "\n",
    "**Now, let's take the appeal of graph representation a few steps forward! Since they are very general and widely applicable, there are countless off-the-shelf high-performance libraries implementing mathematically optimal path finding algorithms on graphs one can deploy on challenging problems.** \n",
    "\n",
    "In this example, for the sake of simplicity, we will use pure-Python `pathfinding` library which implements some of the most popular path finding algorithms without high performance (we do not need here) but also without any dependencies. In real applications, you would likely want to use a more advanced library like `networkx` which is more efficient and have more features, or write one yourself. Please note that `nimplex`'s CLI can generate massive graphs in native NumPy format you may find useful for such applications (e.g., to use Julia or C++ libraries)."
   ]
  },
  {
   "cell_type": "code",
   "execution_count": null,
   "id": "9d4ad6f0",
   "metadata": {
    "papermill": {
     "duration": null,
     "end_time": null,
     "exception": null,
     "start_time": null,
     "status": "pending"
    },
    "tags": []
   },
   "outputs": [],
   "source": [
    "from pathfinding.core.graph import Graph\n",
    "from pathfinding.finder.dijkstra import DijkstraFinder"
   ]
  },
  {
   "cell_type": "markdown",
   "id": "af2a6482",
   "metadata": {
    "papermill": {
     "duration": null,
     "end_time": null,
     "exception": null,
     "start_time": null,
     "status": "pending"
    },
    "tags": []
   },
   "source": [
    "Let's now turn our graph definition into a format that `pathfinding` library can understand, assigning equal cost to all edges. **Note, that we only need to consider the feasible points leading to other feasible point!**"
   ]
  },
  {
   "cell_type": "code",
   "execution_count": null,
   "id": "f318cfea",
   "metadata": {
    "papermill": {
     "duration": null,
     "end_time": null,
     "exception": null,
     "start_time": null,
     "status": "pending"
    },
    "tags": []
   },
   "outputs": [],
   "source": [
    "edges = []\n",
    "for i, nList in enumerate(graphN):\n",
    "    if gridFeasible[i]:\n",
    "        for n in nList:\n",
    "            if gridFeasible[n]:\n",
    "                edges.append([i, n, 1])\n",
    "print(edges[:5])"
   ]
  },
  {
   "cell_type": "markdown",
   "id": "37bb0eeb",
   "metadata": {
    "papermill": {
     "duration": null,
     "end_time": null,
     "exception": null,
     "start_time": null,
     "status": "pending"
    },
    "tags": []
   },
   "source": [
    "Let's initialize the `Graph` object."
   ]
  },
  {
   "cell_type": "code",
   "execution_count": null,
   "id": "f38ff3fe",
   "metadata": {
    "papermill": {
     "duration": null,
     "end_time": null,
     "exception": null,
     "start_time": null,
     "status": "pending"
    },
    "tags": []
   },
   "outputs": [],
   "source": [
    "pathfindingGraph = Graph(edges=edges, bi_directional=False)"
   ]
  },
  {
   "cell_type": "markdown",
   "id": "e03d5184",
   "metadata": {
    "papermill": {
     "duration": null,
     "end_time": null,
     "exception": null,
     "start_time": null,
     "status": "pending"
    },
    "tags": []
   },
   "source": [
    "Now, let's create the `Finder` object that will perform the path finding. Here we use the `DijkstraFinder` which is a very popular algorithm for path finding in graphs (see [it's Wikipedia page](https://en.wikipedia.org/wiki/Dijkstra's_algorithm) for more details). It **finds the shortest possible path between two points in the graph**, which is exactly what we need here. In the future tutorials, we will use some more advanced algorithms, like A*, which accomplishes the same task but in the mathematcally minimal number of evaluations."
   ]
  },
  {
   "cell_type": "code",
   "execution_count": null,
   "id": "d3e61654",
   "metadata": {
    "papermill": {
     "duration": null,
     "end_time": null,
     "exception": null,
     "start_time": null,
     "status": "pending"
    },
    "tags": []
   },
   "outputs": [],
   "source": [
    "finder = DijkstraFinder()"
   ]
  },
  {
   "cell_type": "markdown",
   "id": "5263f220",
   "metadata": {
    "papermill": {
     "duration": null,
     "end_time": null,
     "exception": null,
     "start_time": null,
     "status": "pending"
    },
    "tags": []
   },
   "source": [
    "For hundreds of points, this shouldn't take more than tenth of a second or so."
   ]
  },
  {
   "cell_type": "code",
   "execution_count": null,
   "id": "a2b02f82",
   "metadata": {
    "papermill": {
     "duration": null,
     "end_time": null,
     "exception": null,
     "start_time": null,
     "status": "pending"
    },
    "tags": []
   },
   "outputs": [],
   "source": [
    "path, runs = finder.find_path(\n",
    "    pathfindingGraph.node(0), \n",
    "    pathfindingGraph.node(90), \n",
    "    pathfindingGraph)"
   ]
  },
  {
   "cell_type": "markdown",
   "id": "e1337e6d",
   "metadata": {
    "papermill": {
     "duration": null,
     "end_time": null,
     "exception": null,
     "start_time": null,
     "status": "pending"
    },
    "tags": []
   },
   "source": [
    "Let's now turn the path into a list of nodes on the path."
   ]
  },
  {
   "cell_type": "code",
   "execution_count": null,
   "id": "2256cafc",
   "metadata": {
    "papermill": {
     "duration": null,
     "end_time": null,
     "exception": null,
     "start_time": null,
     "status": "pending"
    },
    "tags": []
   },
   "outputs": [],
   "source": [
    "shortestPath = [p.node_id for p in path]"
   ]
  },
  {
   "cell_type": "markdown",
   "id": "75d7a1ee",
   "metadata": {
    "papermill": {
     "duration": null,
     "end_time": null,
     "exception": null,
     "start_time": null,
     "status": "pending"
    },
    "tags": []
   },
   "source": [
    "And plot corresponding compositions. As you can see, we immediately get a neat list of compositions that we can use to design our additive manufacturing path."
   ]
  },
  {
   "cell_type": "code",
   "execution_count": null,
   "id": "eeddf095",
   "metadata": {
    "papermill": {
     "duration": null,
     "end_time": null,
     "exception": null,
     "start_time": null,
     "status": "pending"
    },
    "tags": []
   },
   "outputs": [],
   "source": [
    "for step, i in enumerate(shortestPath):\n",
    "    print(f\"{step+1:>2}: {formulas[i]}\")"
   ]
  },
  {
   "cell_type": "markdown",
   "id": "65cafc7b",
   "metadata": {
    "papermill": {
     "duration": null,
     "end_time": null,
     "exception": null,
     "start_time": null,
     "status": "pending"
    },
    "tags": []
   },
   "source": [
    "**Even better, since we know the positions in the attainable design space, we can get a list of exact quantized instructions (e.g., powder flow rates) for the additive manufacturing apparatus to follow at each step.**\n",
    "\n",
    "**This is a very powerful abstraction, eliminating possible mistakes and miscommunications between design and manufacturing teams. Furthermore, it also allows for easy manual (or mechanized) per-layer mixing of powders to create compositional paths in single-feed additive manufacturing systems.**"
   ]
  },
  {
   "cell_type": "code",
   "execution_count": null,
   "id": "f9b476d6",
   "metadata": {
    "papermill": {
     "duration": null,
     "end_time": null,
     "exception": null,
     "start_time": null,
     "status": "pending"
    },
    "tags": []
   },
   "outputs": [],
   "source": [
    "integerGrid = nimplex.simplex_grid_py(4, 12)\n",
    "for step, i in enumerate(shortestPath):\n",
    "    print(f\"{step+1:>2}: {integerGrid[i]}\")"
   ]
  },
  {
   "cell_type": "markdown",
   "id": "5948d965",
   "metadata": {
    "papermill": {
     "duration": null,
     "end_time": null,
     "exception": null,
     "start_time": null,
     "status": "pending"
    },
    "tags": []
   },
   "source": [
    "We can also plot the path in 3D like we did before! As you can see, it **glides through the inside of the tetrahedron in a shortest path** avoiding an obstacle extending far on the face."
   ]
  },
  {
   "cell_type": "code",
   "execution_count": null,
   "id": "aea88bf1",
   "metadata": {
    "papermill": {
     "duration": null,
     "end_time": null,
     "exception": null,
     "start_time": null,
     "status": "pending"
    },
    "tags": []
   },
   "outputs": [],
   "source": [
    "gridFeasibleMarked = ['path' if i in shortestPath else f for i, f in enumerate(gridFeasible)]\n",
    "fig = px.scatter_3d(gridAtt_projected_df, x='x', y='y', z='z', color=gridFeasibleMarked, text=labels, hover_name=formulas,\n",
    "              template='plotly_white', width=800, height=700, opacity=0.333, color_discrete_sequence=['blue', 'green', 'red'],\n",
    "              labels={'color':'Solid Solution Phases', 'x':'', 'y':'', 'z':''})\n",
    "fig.update_scenes({'camera': {'eye': {'x': -1.8, 'y': 1.2, 'z': 1.5}}})"
   ]
  },
  {
   "cell_type": "markdown",
   "id": "1f1719b8",
   "metadata": {
    "papermill": {
     "duration": null,
     "end_time": null,
     "exception": null,
     "start_time": null,
     "status": "pending"
    },
    "tags": []
   },
   "source": [
    "## Path Planning considering the Property Gradient\n",
    "\n",
    "**Let's go one step further to demonstrate the beaty of the graph representations in the context of efortless path planning in high-dimensional spaces by including the gradient into consideration in just a line or two of code. We will now stretch the space!**"
   ]
  },
  {
   "cell_type": "code",
   "execution_count": null,
   "id": "f5506af3",
   "metadata": {
    "papermill": {
     "duration": null,
     "end_time": null,
     "exception": null,
     "start_time": null,
     "status": "pending"
    },
    "tags": []
   },
   "outputs": [],
   "source": [
    "edges = []\n",
    "gradientsList = []\n",
    "penaltyFactor = 100\n",
    "for i, nList in enumerate(graphN):\n",
    "    if gridFeasible[i]:\n",
    "        for n in nList:\n",
    "            if gridFeasible[n]:\n",
    "                rmsadGradient = abs(rmsadList[i]-rmsadList[n])\n",
    "                gradientsList.append(rmsadGradient)\n",
    "                edges.append([i, n, 1+round(rmsadGradient*penaltyFactor, 3)])\n",
    "print(edges[:5])\n",
    "print(f\"{len(gradientsList)} gradients calculated with absolute value range between {min(gradientsList)} to {max(gradientsList)}\")\n",
    "print(f\"Penalty at {penaltyFactor}x gradient *magnitude* per path step assigned.\")"
   ]
  },
  {
   "cell_type": "markdown",
   "id": "c680d4e3",
   "metadata": {
    "papermill": {
     "duration": null,
     "end_time": null,
     "exception": null,
     "start_time": null,
     "status": "pending"
    },
    "tags": []
   },
   "source": [
    "**As you can see, we just increased the predicted cost of moving between nodes by a small factor ranging from near 0 to 2.5 depending on the RMSAD gradient. In another words, we are prioritizing paths that change RMSAD the least over the entire path.** This can be done, e.g., to minimize the inter-layer stresses in the component caused by yield stress mismatch between the layers that may cause delamination. Similar considerations can also be made for other properties, like thermal expansion coefficient, missmatch of which causes internal stress or wrapping.\n",
    "\n",
    "**Since the RMSAD is generally smoothly changing, we can expect that this will not impact the result in terms of number of nodes. Just finding a better path of equivalent length. However, if you try to square the gradient by changing penalty to `(rmsadGradient*penaltyFactor)**2`, you will see how viciously the path will avoid any RMSAD changes through zig-zag patterns.**"
   ]
  },
  {
   "cell_type": "code",
   "execution_count": null,
   "id": "8e7dc53b",
   "metadata": {
    "papermill": {
     "duration": null,
     "end_time": null,
     "exception": null,
     "start_time": null,
     "status": "pending"
    },
    "tags": []
   },
   "outputs": [],
   "source": [
    "pathfindingGraph = Graph(edges=edges, bi_directional=False)\n",
    "finder = DijkstraFinder()\n",
    "path, runs = finder.find_path(\n",
    "    pathfindingGraph.node(0), \n",
    "    pathfindingGraph.node(90), \n",
    "    pathfindingGraph)\n",
    "lowGradientPath = [p.node_id for p in path]"
   ]
  },
  {
   "cell_type": "code",
   "execution_count": null,
   "id": "9303e131",
   "metadata": {
    "papermill": {
     "duration": null,
     "end_time": null,
     "exception": null,
     "start_time": null,
     "status": "pending"
    },
    "tags": []
   },
   "outputs": [],
   "source": [
    "for step, i in enumerate(lowGradientPath):\n",
    "    print(f\"{step+1:>2}: {formulas[i]}\")"
   ]
  },
  {
   "cell_type": "markdown",
   "id": "6a80e7db",
   "metadata": {
    "papermill": {
     "duration": null,
     "end_time": null,
     "exception": null,
     "start_time": null,
     "status": "pending"
    },
    "tags": []
   },
   "source": [
    "As one can see below, the path still is optimal (21 steps) but it now passes much closer to the center of the tetrahedron, avoiding the lower RMSAD region around `Mo33.3 Nb33.3 Ta33.3` from which it would have to climb a bit more rapidly to reach the `Hf95.0 Zr5.0` point."
   ]
  },
  {
   "cell_type": "code",
   "execution_count": null,
   "id": "fabf57d8",
   "metadata": {
    "papermill": {
     "duration": null,
     "end_time": null,
     "exception": null,
     "start_time": null,
     "status": "pending"
    },
    "tags": []
   },
   "outputs": [],
   "source": [
    "gridFeasibleMarked = ['path' if i in lowGradientPath else f for i, f in enumerate(gridFeasible)]\n",
    "fig = px.scatter_3d(gridAtt_projected_df, x='x', y='y', z='z', color=gridFeasibleMarked, text=labels, hover_name=formulas,\n",
    "              template='plotly_white', width=800, height=700, opacity=0.333, color_discrete_sequence=['blue', 'green', 'red'],\n",
    "              labels={'color':'Solid Solution Phases', 'x':'', 'y':'', 'z':''})\n",
    "fig.update_scenes({'camera': {'eye': {'x': -1.8, 'y': 1.2, 'z': 1.5}}})"
   ]
  },
  {
   "cell_type": "markdown",
   "id": "a6533062",
   "metadata": {
    "papermill": {
     "duration": null,
     "end_time": null,
     "exception": null,
     "start_time": null,
     "status": "pending"
    },
    "tags": []
   },
   "source": [
    "## Property Maximization Along the Path\n",
    "\n",
    "**Finally, let's demonstrate how easy it is to maximize a property along the path by exploiting the unidirectionaliy of the graph edge definitions in `nimplex`, which allow us to efortlessly enocde the property maximization goal as directional reward or penalty applied to edges.** This is as simple as applying the property gradient directly rather than its magnitude."
   ]
  },
  {
   "cell_type": "code",
   "execution_count": null,
   "id": "d553bfb3",
   "metadata": {
    "papermill": {
     "duration": null,
     "end_time": null,
     "exception": null,
     "start_time": null,
     "status": "pending"
    },
    "tags": []
   },
   "outputs": [],
   "source": [
    "edges = []\n",
    "gradientsList = []\n",
    "penaltyFactor = 20\n",
    "for i, nList in enumerate(graphN):\n",
    "    if gridFeasible[i]:\n",
    "        for n in nList:\n",
    "            if gridFeasible[n]:\n",
    "                rmsadGradient = rmsadList[i]-rmsadList[n]\n",
    "                gradientsList.append(rmsadGradient)\n",
    "                edges.append([i, n, 1+round((rmsadGradient*penaltyFactor), 3)])\n",
    "print(edges[:15])\n",
    "print(f\"{len(gradientsList)} gradients calculated with values up to {max(gradientsList)}\")\n",
    "print(f\"Penalty at -{penaltyFactor}x gradient *value* per path step assigned (higher RMSAD preferred)\")"
   ]
  },
  {
   "cell_type": "code",
   "execution_count": null,
   "id": "ffe9eb8a",
   "metadata": {
    "papermill": {
     "duration": null,
     "end_time": null,
     "exception": null,
     "start_time": null,
     "status": "pending"
    },
    "tags": []
   },
   "outputs": [],
   "source": [
    "pathfindingGraph = Graph(edges=edges, bi_directional=False)\n",
    "finder = DijkstraFinder()\n",
    "path, runs = finder.find_path(\n",
    "    pathfindingGraph.node(0), \n",
    "    pathfindingGraph.node(90), \n",
    "    pathfindingGraph)\n",
    "pathList = [p.node_id for p in path]"
   ]
  },
  {
   "cell_type": "code",
   "execution_count": null,
   "id": "4021a686",
   "metadata": {
    "papermill": {
     "duration": null,
     "end_time": null,
     "exception": null,
     "start_time": null,
     "status": "pending"
    },
    "tags": []
   },
   "outputs": [],
   "source": [
    "for step, i in enumerate(pathList):\n",
    "    print(f\"{step+1:>2}: {formulas[i]}\")"
   ]
  },
  {
   "cell_type": "markdown",
   "id": "496a0e8e",
   "metadata": {
    "papermill": {
     "duration": null,
     "end_time": null,
     "exception": null,
     "start_time": null,
     "status": "pending"
    },
    "tags": []
   },
   "source": [
    "**As you can see, we again complete the path in 21 steps but following a different path that maximizes the RMSAD along the way thanks to the small bias we introduced.**"
   ]
  },
  {
   "cell_type": "code",
   "execution_count": null,
   "id": "d3adebda",
   "metadata": {
    "papermill": {
     "duration": null,
     "end_time": null,
     "exception": null,
     "start_time": null,
     "status": "pending"
    },
    "tags": []
   },
   "outputs": [],
   "source": [
    "gridFeasibleMarked = ['path' if i in pathList else f for i, f in enumerate(gridFeasible)]\n",
    "fig = px.scatter_3d(gridAtt_projected_df, x='x', y='y', z='z', color=gridFeasibleMarked, text=labels, hover_name=formulas,\n",
    "              template='plotly_white', width=800, height=700, opacity=0.333, color_discrete_sequence=['blue', 'green', 'red'],\n",
    "              labels={'color':'Solid Solution Phases', 'x':'', 'y':'', 'z':''})\n",
    "fig.update_scenes({'camera': {'eye': {'x': -1.8, 'y': 1.2, 'z': 1.5}}})"
   ]
  },
  {
   "cell_type": "markdown",
   "id": "ed450526",
   "metadata": {
    "papermill": {
     "duration": null,
     "end_time": null,
     "exception": null,
     "start_time": null,
     "status": "pending"
    },
    "tags": []
   },
   "source": [
    "**And, if we care more about going through high RMSAD regions than we do about the number of steps taken, we can always simply increase the bias to move the path into the high RMSAD regions even more at the cost of the number of steps taken.**"
   ]
  },
  {
   "cell_type": "code",
   "execution_count": null,
   "id": "2beef0e9",
   "metadata": {
    "papermill": {
     "duration": null,
     "end_time": null,
     "exception": null,
     "start_time": null,
     "status": "pending"
    },
    "tags": []
   },
   "outputs": [],
   "source": [
    "edges = []\n",
    "gradientsList = []\n",
    "penaltyFactor = 200\n",
    "for i, nList in enumerate(graphN):\n",
    "    if gridFeasible[i]:\n",
    "        for n in nList:\n",
    "            if gridFeasible[n]:\n",
    "                rmsadGradient = rmsadList[i]-rmsadList[n]\n",
    "                gradientsList.append(rmsadGradient)\n",
    "                edges.append([i, n, 1+round((rmsadGradient*penaltyFactor), 3)])\n",
    "print(edges[:15])\n",
    "print(f\"{len(gradientsList)} gradients calculated with values up to {max(gradientsList)}\")\n",
    "print(f\"Penalty at -{penaltyFactor}x gradient *value* per path step assigned (higher RMSAD preferred)\")\n",
    "\n",
    "pathfindingGraph = Graph(edges=edges, bi_directional=False)\n",
    "finder = DijkstraFinder()\n",
    "path, runs = finder.find_path(\n",
    "    pathfindingGraph.node(0), \n",
    "    pathfindingGraph.node(90), \n",
    "    pathfindingGraph)\n",
    "pathList = [p.node_id for p in path]"
   ]
  },
  {
   "cell_type": "code",
   "execution_count": null,
   "id": "1c1a66c9",
   "metadata": {
    "papermill": {
     "duration": null,
     "end_time": null,
     "exception": null,
     "start_time": null,
     "status": "pending"
    },
    "tags": []
   },
   "outputs": [],
   "source": [
    "for step, i in enumerate(pathList):\n",
    "    print(f\"{step+1:>2}: {formulas[i]}\")"
   ]
  },
  {
   "cell_type": "code",
   "execution_count": null,
   "id": "5c9891ca",
   "metadata": {
    "papermill": {
     "duration": null,
     "end_time": null,
     "exception": null,
     "start_time": null,
     "status": "pending"
    },
    "tags": []
   },
   "outputs": [],
   "source": [
    "gridFeasibleMarked = ['path' if i in pathList else f for i, f in enumerate(gridFeasible)]\n",
    "fig = px.scatter_3d(gridAtt_projected_df, x='x', y='y', z='z', color=gridFeasibleMarked, text=labels, hover_name=formulas,\n",
    "              template='plotly_white', width=800, height=700, opacity=0.333, color_discrete_sequence=['blue', 'green', 'red'],\n",
    "              labels={'color':'Solid Solution Phases', 'x':'', 'y':'', 'z':''})\n",
    "fig.update_scenes({'camera': {'eye': {'x': -1.8, 'y': 1.2, 'z': 1.5}}})"
   ]
  },
  {
   "cell_type": "markdown",
   "id": "e57b3e91",
   "metadata": {
    "papermill": {
     "duration": null,
     "end_time": null,
     "exception": null,
     "start_time": null,
     "status": "pending"
    },
    "tags": []
   },
   "source": [
    "## Final Remarks\n",
    "\n",
    "**And that's it! We hope you enjoyed this tutorial and that you see the potential of `nimplex` in your work. If you have any questions, feel free to ask them in the `nimplex` repository under the Issues tab. You are also welcome to shoot an email to the author at [adam@phaseslab.org](mailto:adam@phaseslab.org). We will be excited to hear about your applications.**\n",
    "\n",
    "**We are planning on a couple more tutorials in the future, including a more advanced techniques for more specific use cases within materials science and beyond. PRs with your own tutorials are also welcome!**"
   ]
  },
  {
   "cell_type": "markdown",
   "id": "76de93f0",
   "metadata": {
    "papermill": {
     "duration": null,
     "end_time": null,
     "exception": null,
     "start_time": null,
     "status": "pending"
    },
    "tags": []
   },
   "source": []
  }
 ],
 "metadata": {
  "kernelspec": {
   "display_name": "pyplex",
   "language": "python",
   "name": "python3"
  },
  "language_info": {
   "codemirror_mode": {
    "name": "ipython",
    "version": 3
   },
   "file_extension": ".py",
   "mimetype": "text/x-python",
   "name": "python",
   "nbconvert_exporter": "python",
   "pygments_lexer": "ipython3",
   "version": "3.11.9"
  },
  "papermill": {
   "default_parameters": {},
   "duration": 3480.788156,
   "end_time": "2024-05-17T17:29:50.162420",
   "environment_variables": {},
   "exception": true,
   "input_path": "AdditiveManufacturingPathPlanning.ipynb",
   "output_path": "AdditiveManufacturingPathPlanningOut.ipynb",
   "parameters": {},
   "start_time": "2024-05-17T16:31:49.374264",
   "version": "2.6.0"
  },
  "widgets": {
   "application/vnd.jupyter.widget-state+json": {
    "state": {
     "076a0df052ec4f468434a41f50bf8da7": {
      "model_module": "@jupyter-widgets/controls",
      "model_module_version": "2.0.0",
      "model_name": "ProgressStyleModel",
      "state": {
       "_model_module": "@jupyter-widgets/controls",
       "_model_module_version": "2.0.0",
       "_model_name": "ProgressStyleModel",
       "_view_count": null,
       "_view_module": "@jupyter-widgets/base",
       "_view_module_version": "2.0.0",
       "_view_name": "StyleView",
       "bar_color": null,
       "description_width": ""
      }
     },
     "08fa24c93c7648638cbeb5c62c597184": {
      "model_module": "@jupyter-widgets/controls",
      "model_module_version": "2.0.0",
      "model_name": "HBoxModel",
      "state": {
       "_dom_classes": [],
       "_model_module": "@jupyter-widgets/controls",
       "_model_module_version": "2.0.0",
       "_model_name": "HBoxModel",
       "_view_count": null,
       "_view_module": "@jupyter-widgets/controls",
       "_view_module_version": "2.0.0",
       "_view_name": "HBoxView",
       "box_style": "",
       "children": [
        "IPY_MODEL_aebf836af1904187b9db17e7e720ecf8",
        "IPY_MODEL_f8b475df63ef4bb29dec46a62f757bf9",
        "IPY_MODEL_c6095841fc6441f4be5d1512018cb48f"
       ],
       "layout": "IPY_MODEL_443e6528505c4da3b176a528aaa08155",
       "tabbable": null,
       "tooltip": null
      }
     },
     "18199a0b58c6448fbee880297c361ee1": {
      "model_module": "@jupyter-widgets/controls",
      "model_module_version": "2.0.0",
      "model_name": "HTMLModel",
      "state": {
       "_dom_classes": [],
       "_model_module": "@jupyter-widgets/controls",
       "_model_module_version": "2.0.0",
       "_model_name": "HTMLModel",
       "_view_count": null,
       "_view_module": "@jupyter-widgets/controls",
       "_view_module_version": "2.0.0",
       "_view_name": "HTMLView",
       "description": "",
       "description_allow_html": false,
       "layout": "IPY_MODEL_aaf3f0a35ada437980ae167407398127",
       "placeholder": "​",
       "style": "IPY_MODEL_372d024c9c204b51bb0c5f6c3b70a6b2",
       "tabbable": null,
       "tooltip": null,
       "value": " 0/455 [20:06&lt;?, ?it/s]"
      }
     },
     "210aa5d562f445b693bb4a1e54ae5596": {
      "model_module": "@jupyter-widgets/base",
      "model_module_version": "2.0.0",
      "model_name": "LayoutModel",
      "state": {
       "_model_module": "@jupyter-widgets/base",
       "_model_module_version": "2.0.0",
       "_model_name": "LayoutModel",
       "_view_count": null,
       "_view_module": "@jupyter-widgets/base",
       "_view_module_version": "2.0.0",
       "_view_name": "LayoutView",
       "align_content": null,
       "align_items": null,
       "align_self": null,
       "border_bottom": null,
       "border_left": null,
       "border_right": null,
       "border_top": null,
       "bottom": null,
       "display": null,
       "flex": null,
       "flex_flow": null,
       "grid_area": null,
       "grid_auto_columns": null,
       "grid_auto_flow": null,
       "grid_auto_rows": null,
       "grid_column": null,
       "grid_gap": null,
       "grid_row": null,
       "grid_template_areas": null,
       "grid_template_columns": null,
       "grid_template_rows": null,
       "height": null,
       "justify_content": null,
       "justify_items": null,
       "left": null,
       "margin": null,
       "max_height": null,
       "max_width": null,
       "min_height": null,
       "min_width": null,
       "object_fit": null,
       "object_position": null,
       "order": null,
       "overflow": null,
       "padding": null,
       "right": null,
       "top": null,
       "visibility": null,
       "width": null
      }
     },
     "2b504ac1747245b7a51af43ad79be0e9": {
      "model_module": "@jupyter-widgets/controls",
      "model_module_version": "2.0.0",
      "model_name": "FloatProgressModel",
      "state": {
       "_dom_classes": [],
       "_model_module": "@jupyter-widgets/controls",
       "_model_module_version": "2.0.0",
       "_model_name": "FloatProgressModel",
       "_view_count": null,
       "_view_module": "@jupyter-widgets/controls",
       "_view_module_version": "2.0.0",
       "_view_name": "ProgressView",
       "bar_style": "danger",
       "description": "",
       "description_allow_html": false,
       "layout": "IPY_MODEL_2f7475fc736a48c2b454fd4aa9751a04",
       "max": 455,
       "min": 0,
       "orientation": "horizontal",
       "style": "IPY_MODEL_076a0df052ec4f468434a41f50bf8da7",
       "tabbable": null,
       "tooltip": null,
       "value": 0
      }
     },
     "2f7475fc736a48c2b454fd4aa9751a04": {
      "model_module": "@jupyter-widgets/base",
      "model_module_version": "2.0.0",
      "model_name": "LayoutModel",
      "state": {
       "_model_module": "@jupyter-widgets/base",
       "_model_module_version": "2.0.0",
       "_model_name": "LayoutModel",
       "_view_count": null,
       "_view_module": "@jupyter-widgets/base",
       "_view_module_version": "2.0.0",
       "_view_name": "LayoutView",
       "align_content": null,
       "align_items": null,
       "align_self": null,
       "border_bottom": null,
       "border_left": null,
       "border_right": null,
       "border_top": null,
       "bottom": null,
       "display": null,
       "flex": null,
       "flex_flow": null,
       "grid_area": null,
       "grid_auto_columns": null,
       "grid_auto_flow": null,
       "grid_auto_rows": null,
       "grid_column": null,
       "grid_gap": null,
       "grid_row": null,
       "grid_template_areas": null,
       "grid_template_columns": null,
       "grid_template_rows": null,
       "height": null,
       "justify_content": null,
       "justify_items": null,
       "left": null,
       "margin": null,
       "max_height": null,
       "max_width": null,
       "min_height": null,
       "min_width": null,
       "object_fit": null,
       "object_position": null,
       "order": null,
       "overflow": null,
       "padding": null,
       "right": null,
       "top": null,
       "visibility": null,
       "width": null
      }
     },
     "372d024c9c204b51bb0c5f6c3b70a6b2": {
      "model_module": "@jupyter-widgets/controls",
      "model_module_version": "2.0.0",
      "model_name": "HTMLStyleModel",
      "state": {
       "_model_module": "@jupyter-widgets/controls",
       "_model_module_version": "2.0.0",
       "_model_name": "HTMLStyleModel",
       "_view_count": null,
       "_view_module": "@jupyter-widgets/base",
       "_view_module_version": "2.0.0",
       "_view_name": "StyleView",
       "background": null,
       "description_width": "",
       "font_size": null,
       "text_color": null
      }
     },
     "3a4c8c57336f4d48aede083decb044f8": {
      "model_module": "@jupyter-widgets/controls",
      "model_module_version": "2.0.0",
      "model_name": "HBoxModel",
      "state": {
       "_dom_classes": [],
       "_model_module": "@jupyter-widgets/controls",
       "_model_module_version": "2.0.0",
       "_model_name": "HBoxModel",
       "_view_count": null,
       "_view_module": "@jupyter-widgets/controls",
       "_view_module_version": "2.0.0",
       "_view_name": "HBoxView",
       "box_style": "",
       "children": [
        "IPY_MODEL_65658d97c37e42ce818bc4a739dea6c3",
        "IPY_MODEL_2b504ac1747245b7a51af43ad79be0e9",
        "IPY_MODEL_18199a0b58c6448fbee880297c361ee1"
       ],
       "layout": "IPY_MODEL_210aa5d562f445b693bb4a1e54ae5596",
       "tabbable": null,
       "tooltip": null
      }
     },
     "443e6528505c4da3b176a528aaa08155": {
      "model_module": "@jupyter-widgets/base",
      "model_module_version": "2.0.0",
      "model_name": "LayoutModel",
      "state": {
       "_model_module": "@jupyter-widgets/base",
       "_model_module_version": "2.0.0",
       "_model_name": "LayoutModel",
       "_view_count": null,
       "_view_module": "@jupyter-widgets/base",
       "_view_module_version": "2.0.0",
       "_view_name": "LayoutView",
       "align_content": null,
       "align_items": null,
       "align_self": null,
       "border_bottom": null,
       "border_left": null,
       "border_right": null,
       "border_top": null,
       "bottom": null,
       "display": null,
       "flex": null,
       "flex_flow": null,
       "grid_area": null,
       "grid_auto_columns": null,
       "grid_auto_flow": null,
       "grid_auto_rows": null,
       "grid_column": null,
       "grid_gap": null,
       "grid_row": null,
       "grid_template_areas": null,
       "grid_template_columns": null,
       "grid_template_rows": null,
       "height": null,
       "justify_content": null,
       "justify_items": null,
       "left": null,
       "margin": null,
       "max_height": null,
       "max_width": null,
       "min_height": null,
       "min_width": null,
       "object_fit": null,
       "object_position": null,
       "order": null,
       "overflow": null,
       "padding": null,
       "right": null,
       "top": null,
       "visibility": null,
       "width": null
      }
     },
     "4e99e0ee0b4342369136519e4a1ac972": {
      "model_module": "@jupyter-widgets/base",
      "model_module_version": "2.0.0",
      "model_name": "LayoutModel",
      "state": {
       "_model_module": "@jupyter-widgets/base",
       "_model_module_version": "2.0.0",
       "_model_name": "LayoutModel",
       "_view_count": null,
       "_view_module": "@jupyter-widgets/base",
       "_view_module_version": "2.0.0",
       "_view_name": "LayoutView",
       "align_content": null,
       "align_items": null,
       "align_self": null,
       "border_bottom": null,
       "border_left": null,
       "border_right": null,
       "border_top": null,
       "bottom": null,
       "display": null,
       "flex": null,
       "flex_flow": null,
       "grid_area": null,
       "grid_auto_columns": null,
       "grid_auto_flow": null,
       "grid_auto_rows": null,
       "grid_column": null,
       "grid_gap": null,
       "grid_row": null,
       "grid_template_areas": null,
       "grid_template_columns": null,
       "grid_template_rows": null,
       "height": null,
       "justify_content": null,
       "justify_items": null,
       "left": null,
       "margin": null,
       "max_height": null,
       "max_width": null,
       "min_height": null,
       "min_width": null,
       "object_fit": null,
       "object_position": null,
       "order": null,
       "overflow": null,
       "padding": null,
       "right": null,
       "top": null,
       "visibility": null,
       "width": null
      }
     },
     "65658d97c37e42ce818bc4a739dea6c3": {
      "model_module": "@jupyter-widgets/controls",
      "model_module_version": "2.0.0",
      "model_name": "HTMLModel",
      "state": {
       "_dom_classes": [],
       "_model_module": "@jupyter-widgets/controls",
       "_model_module_version": "2.0.0",
       "_model_name": "HTMLModel",
       "_view_count": null,
       "_view_module": "@jupyter-widgets/controls",
       "_view_module_version": "2.0.0",
       "_view_name": "HTMLView",
       "description": "",
       "description_allow_html": false,
       "layout": "IPY_MODEL_8e771587f7624fd09ae8eb6c28a67c33",
       "placeholder": "​",
       "style": "IPY_MODEL_b4f26571d3084c60ac6df20275996bcc",
       "tabbable": null,
       "tooltip": null,
       "value": "  0%"
      }
     },
     "8531fa5cc1cb4d40ab4bc0ad3db576f7": {
      "model_module": "@jupyter-widgets/controls",
      "model_module_version": "2.0.0",
      "model_name": "HTMLStyleModel",
      "state": {
       "_model_module": "@jupyter-widgets/controls",
       "_model_module_version": "2.0.0",
       "_model_name": "HTMLStyleModel",
       "_view_count": null,
       "_view_module": "@jupyter-widgets/base",
       "_view_module_version": "2.0.0",
       "_view_name": "StyleView",
       "background": null,
       "description_width": "",
       "font_size": null,
       "text_color": null
      }
     },
     "89a2fe7b7ec44460ac398dbe82963842": {
      "model_module": "@jupyter-widgets/controls",
      "model_module_version": "2.0.0",
      "model_name": "HTMLStyleModel",
      "state": {
       "_model_module": "@jupyter-widgets/controls",
       "_model_module_version": "2.0.0",
       "_model_name": "HTMLStyleModel",
       "_view_count": null,
       "_view_module": "@jupyter-widgets/base",
       "_view_module_version": "2.0.0",
       "_view_name": "StyleView",
       "background": null,
       "description_width": "",
       "font_size": null,
       "text_color": null
      }
     },
     "8e771587f7624fd09ae8eb6c28a67c33": {
      "model_module": "@jupyter-widgets/base",
      "model_module_version": "2.0.0",
      "model_name": "LayoutModel",
      "state": {
       "_model_module": "@jupyter-widgets/base",
       "_model_module_version": "2.0.0",
       "_model_name": "LayoutModel",
       "_view_count": null,
       "_view_module": "@jupyter-widgets/base",
       "_view_module_version": "2.0.0",
       "_view_name": "LayoutView",
       "align_content": null,
       "align_items": null,
       "align_self": null,
       "border_bottom": null,
       "border_left": null,
       "border_right": null,
       "border_top": null,
       "bottom": null,
       "display": null,
       "flex": null,
       "flex_flow": null,
       "grid_area": null,
       "grid_auto_columns": null,
       "grid_auto_flow": null,
       "grid_auto_rows": null,
       "grid_column": null,
       "grid_gap": null,
       "grid_row": null,
       "grid_template_areas": null,
       "grid_template_columns": null,
       "grid_template_rows": null,
       "height": null,
       "justify_content": null,
       "justify_items": null,
       "left": null,
       "margin": null,
       "max_height": null,
       "max_width": null,
       "min_height": null,
       "min_width": null,
       "object_fit": null,
       "object_position": null,
       "order": null,
       "overflow": null,
       "padding": null,
       "right": null,
       "top": null,
       "visibility": null,
       "width": null
      }
     },
     "92a94f59138d47feaf30f8c0739e613f": {
      "model_module": "@jupyter-widgets/base",
      "model_module_version": "2.0.0",
      "model_name": "LayoutModel",
      "state": {
       "_model_module": "@jupyter-widgets/base",
       "_model_module_version": "2.0.0",
       "_model_name": "LayoutModel",
       "_view_count": null,
       "_view_module": "@jupyter-widgets/base",
       "_view_module_version": "2.0.0",
       "_view_name": "LayoutView",
       "align_content": null,
       "align_items": null,
       "align_self": null,
       "border_bottom": null,
       "border_left": null,
       "border_right": null,
       "border_top": null,
       "bottom": null,
       "display": null,
       "flex": null,
       "flex_flow": null,
       "grid_area": null,
       "grid_auto_columns": null,
       "grid_auto_flow": null,
       "grid_auto_rows": null,
       "grid_column": null,
       "grid_gap": null,
       "grid_row": null,
       "grid_template_areas": null,
       "grid_template_columns": null,
       "grid_template_rows": null,
       "height": null,
       "justify_content": null,
       "justify_items": null,
       "left": null,
       "margin": null,
       "max_height": null,
       "max_width": null,
       "min_height": null,
       "min_width": null,
       "object_fit": null,
       "object_position": null,
       "order": null,
       "overflow": null,
       "padding": null,
       "right": null,
       "top": null,
       "visibility": null,
       "width": null
      }
     },
     "9b8f60936ab54733a471b1fe60d40215": {
      "model_module": "@jupyter-widgets/controls",
      "model_module_version": "2.0.0",
      "model_name": "ProgressStyleModel",
      "state": {
       "_model_module": "@jupyter-widgets/controls",
       "_model_module_version": "2.0.0",
       "_model_name": "ProgressStyleModel",
       "_view_count": null,
       "_view_module": "@jupyter-widgets/base",
       "_view_module_version": "2.0.0",
       "_view_name": "StyleView",
       "bar_color": null,
       "description_width": ""
      }
     },
     "aaf3f0a35ada437980ae167407398127": {
      "model_module": "@jupyter-widgets/base",
      "model_module_version": "2.0.0",
      "model_name": "LayoutModel",
      "state": {
       "_model_module": "@jupyter-widgets/base",
       "_model_module_version": "2.0.0",
       "_model_name": "LayoutModel",
       "_view_count": null,
       "_view_module": "@jupyter-widgets/base",
       "_view_module_version": "2.0.0",
       "_view_name": "LayoutView",
       "align_content": null,
       "align_items": null,
       "align_self": null,
       "border_bottom": null,
       "border_left": null,
       "border_right": null,
       "border_top": null,
       "bottom": null,
       "display": null,
       "flex": null,
       "flex_flow": null,
       "grid_area": null,
       "grid_auto_columns": null,
       "grid_auto_flow": null,
       "grid_auto_rows": null,
       "grid_column": null,
       "grid_gap": null,
       "grid_row": null,
       "grid_template_areas": null,
       "grid_template_columns": null,
       "grid_template_rows": null,
       "height": null,
       "justify_content": null,
       "justify_items": null,
       "left": null,
       "margin": null,
       "max_height": null,
       "max_width": null,
       "min_height": null,
       "min_width": null,
       "object_fit": null,
       "object_position": null,
       "order": null,
       "overflow": null,
       "padding": null,
       "right": null,
       "top": null,
       "visibility": null,
       "width": null
      }
     },
     "aebf836af1904187b9db17e7e720ecf8": {
      "model_module": "@jupyter-widgets/controls",
      "model_module_version": "2.0.0",
      "model_name": "HTMLModel",
      "state": {
       "_dom_classes": [],
       "_model_module": "@jupyter-widgets/controls",
       "_model_module_version": "2.0.0",
       "_model_name": "HTMLModel",
       "_view_count": null,
       "_view_module": "@jupyter-widgets/controls",
       "_view_module_version": "2.0.0",
       "_view_name": "HTMLView",
       "description": "",
       "description_allow_html": false,
       "layout": "IPY_MODEL_92a94f59138d47feaf30f8c0739e613f",
       "placeholder": "​",
       "style": "IPY_MODEL_89a2fe7b7ec44460ac398dbe82963842",
       "tabbable": null,
       "tooltip": null,
       "value": "100%"
      }
     },
     "b4f26571d3084c60ac6df20275996bcc": {
      "model_module": "@jupyter-widgets/controls",
      "model_module_version": "2.0.0",
      "model_name": "HTMLStyleModel",
      "state": {
       "_model_module": "@jupyter-widgets/controls",
       "_model_module_version": "2.0.0",
       "_model_name": "HTMLStyleModel",
       "_view_count": null,
       "_view_module": "@jupyter-widgets/base",
       "_view_module_version": "2.0.0",
       "_view_name": "StyleView",
       "background": null,
       "description_width": "",
       "font_size": null,
       "text_color": null
      }
     },
     "c6095841fc6441f4be5d1512018cb48f": {
      "model_module": "@jupyter-widgets/controls",
      "model_module_version": "2.0.0",
      "model_name": "HTMLModel",
      "state": {
       "_dom_classes": [],
       "_model_module": "@jupyter-widgets/controls",
       "_model_module_version": "2.0.0",
       "_model_name": "HTMLModel",
       "_view_count": null,
       "_view_module": "@jupyter-widgets/controls",
       "_view_module_version": "2.0.0",
       "_view_name": "HTMLView",
       "description": "",
       "description_allow_html": false,
       "layout": "IPY_MODEL_4e99e0ee0b4342369136519e4a1ac972",
       "placeholder": "​",
       "style": "IPY_MODEL_8531fa5cc1cb4d40ab4bc0ad3db576f7",
       "tabbable": null,
       "tooltip": null,
       "value": " 455/455 [00:26&lt;00:00, 25.50it/s]"
      }
     },
     "f1749b14df0a4642b1c909f742a3b5a5": {
      "model_module": "@jupyter-widgets/base",
      "model_module_version": "2.0.0",
      "model_name": "LayoutModel",
      "state": {
       "_model_module": "@jupyter-widgets/base",
       "_model_module_version": "2.0.0",
       "_model_name": "LayoutModel",
       "_view_count": null,
       "_view_module": "@jupyter-widgets/base",
       "_view_module_version": "2.0.0",
       "_view_name": "LayoutView",
       "align_content": null,
       "align_items": null,
       "align_self": null,
       "border_bottom": null,
       "border_left": null,
       "border_right": null,
       "border_top": null,
       "bottom": null,
       "display": null,
       "flex": null,
       "flex_flow": null,
       "grid_area": null,
       "grid_auto_columns": null,
       "grid_auto_flow": null,
       "grid_auto_rows": null,
       "grid_column": null,
       "grid_gap": null,
       "grid_row": null,
       "grid_template_areas": null,
       "grid_template_columns": null,
       "grid_template_rows": null,
       "height": null,
       "justify_content": null,
       "justify_items": null,
       "left": null,
       "margin": null,
       "max_height": null,
       "max_width": null,
       "min_height": null,
       "min_width": null,
       "object_fit": null,
       "object_position": null,
       "order": null,
       "overflow": null,
       "padding": null,
       "right": null,
       "top": null,
       "visibility": null,
       "width": null
      }
     },
     "f8b475df63ef4bb29dec46a62f757bf9": {
      "model_module": "@jupyter-widgets/controls",
      "model_module_version": "2.0.0",
      "model_name": "FloatProgressModel",
      "state": {
       "_dom_classes": [],
       "_model_module": "@jupyter-widgets/controls",
       "_model_module_version": "2.0.0",
       "_model_name": "FloatProgressModel",
       "_view_count": null,
       "_view_module": "@jupyter-widgets/controls",
       "_view_module_version": "2.0.0",
       "_view_name": "ProgressView",
       "bar_style": "success",
       "description": "",
       "description_allow_html": false,
       "layout": "IPY_MODEL_f1749b14df0a4642b1c909f742a3b5a5",
       "max": 455,
       "min": 0,
       "orientation": "horizontal",
       "style": "IPY_MODEL_9b8f60936ab54733a471b1fe60d40215",
       "tabbable": null,
       "tooltip": null,
       "value": 455
      }
     }
    },
    "version_major": 2,
    "version_minor": 0
   }
  }
 },
 "nbformat": 4,
 "nbformat_minor": 5
}
