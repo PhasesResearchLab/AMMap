{
 "cells": [
  {
   "cell_type": "markdown",
   "id": "040ba974",
   "metadata": {
    "tags": [
     "papermill-error-cell-tag"
    ]
   },
   "source": [
    "<span style=\"color:red; font-family:Helvetica Neue, Helvetica, Arial, sans-serif; font-size:2em;\">An Exception was encountered at '<a href=\"#papermill-error-cell\">In [74]</a>'.</span>"
   ]
  },
  {
   "cell_type": "markdown",
   "id": "f61ae566",
   "metadata": {
    "papermill": {
     "duration": 0.009663,
     "end_time": "2025-01-27T00:18:12.163909",
     "exception": false,
     "start_time": "2025-01-27T00:18:12.154246",
     "status": "completed"
    },
    "tags": []
   },
   "source": []
  },
  {
   "cell_type": "markdown",
   "id": "4938ba34",
   "metadata": {
    "papermill": {
     "duration": 0.008681,
     "end_time": "2025-01-27T00:18:12.181296",
     "exception": false,
     "start_time": "2025-01-27T00:18:12.172615",
     "status": "completed"
    },
    "tags": []
   },
   "source": [
    "# 3. Building Compositional Space Complexes to Express Elaborate Design Problems\n",
    "\n",
    "> ***(before running this code, please consult Quick Start to make sure everything is set up)***\n",
    "\n",
    "> You will need the same dependencies as in [Tutorial No.2](02.AdditiveManufacturingPathPlanning.ipynb) (i.e., `pycalphad` and `pathfinding`), and additionally `igraph` in order to efficiently visualize the examples presented in this tutorial. **If you are running this in `nimplex`'s Codespaces, everything has been pre-installed for you.**"
   ]
  },
  {
   "cell_type": "markdown",
   "id": "d1234f76",
   "metadata": {
    "papermill": {
     "duration": 0.008661,
     "end_time": "2025-01-27T00:18:12.198933",
     "exception": false,
     "start_time": "2025-01-27T00:18:12.190272",
     "status": "completed"
    },
    "tags": []
   },
   "source": [
    "**In this tutorial, we will build upon `nimplex`'s graph representations and leverage our ability to combine (\"stitch\") them together without affecting the way we express the problem at hand and in an effortless fashion to dramatically speed up materials exploration.** In particular, we will show how to:\n",
    "\n",
    "1. **Plot graphs** (as in mathematical objects, not any figures) using [`igraph`](https://igraph.org/), which can be done quite directly using `nimplex`'s point grid and neighbor lists `edges = [(i,n) for i in range(len(gridAtt)) for n in nList[i]]`\n",
    "\n",
    "2. **Identify ordered subsystems in `nimplex` grids, like `A-B-C` and `C-A-B` within `A-B-C-D-E` and `D-C-G-F-A-H-B` to establish connectivity between them.** We will use this to combine 3 4-component systems (tetrahedra) by 2 3-component subsystems (triangles) to create a chain.\n",
    "\n",
    "3. Identify all subspaces of a given order in low dimensional and high dimensional spaces (e.g., all quantized compositions of any 3 things out of N) and combine (\"stitch\") them together to form a **simplex graphs that intersect themselves in 3D because of high dimensionality, yet still have the same (graph) structure**.\n",
    "\n",
    "4. **Construct a graph complex to explore all ternary combinations of `[\"Ti50Zr50\", \"Hf95Ti5\", \"NbTaWHf\", \"Mo80Nb10W10\", \"TiTa2\", \"Nb96Mo3W1\", \"Zr49 Hf1 Mo50\"]` (7 alloys)** under equilibrium phase constraint (relatively expensive to compute) and then explore the space with an additional low-cost screenig constraint (RMSAD - alloy strenght surrogate) that could also be an ML surrogate."
   ]
  },
  {
   "cell_type": "code",
   "execution_count": 1,
   "id": "381a0977",
   "metadata": {
    "execution": {
     "iopub.execute_input": "2025-01-27T00:18:12.216763Z",
     "iopub.status.busy": "2025-01-27T00:18:12.216444Z",
     "iopub.status.idle": "2025-01-27T00:18:12.227772Z",
     "shell.execute_reply": "2025-01-27T00:18:12.227413Z"
    },
    "papermill": {
     "duration": 0.021362,
     "end_time": "2025-01-27T00:18:12.228808",
     "exception": false,
     "start_time": "2025-01-27T00:18:12.207446",
     "status": "completed"
    },
    "tags": []
   },
   "outputs": [],
   "source": [
    "import nimplex\n",
    "from utils import stitching\n",
    "from IPython.display import clear_output\n",
    "from itertools import combinations"
   ]
  },
  {
   "cell_type": "code",
   "execution_count": 2,
   "id": "306dd9f2",
   "metadata": {
    "execution": {
     "iopub.execute_input": "2025-01-27T00:18:12.356341Z",
     "iopub.status.busy": "2025-01-27T00:18:12.356162Z",
     "iopub.status.idle": "2025-01-27T00:18:12.813176Z",
     "shell.execute_reply": "2025-01-27T00:18:12.812772Z"
    },
    "papermill": {
     "duration": 0.467054,
     "end_time": "2025-01-27T00:18:12.814183",
     "exception": false,
     "start_time": "2025-01-27T00:18:12.347129",
     "status": "completed"
    },
    "tags": []
   },
   "outputs": [],
   "source": [
    "import igraph as ig\n",
    "import plotly.graph_objs as go\n",
    "import numpy as np\n",
    "import random\n",
    "random.seed(123)"
   ]
  },
  {
   "cell_type": "code",
   "execution_count": null,
   "id": "b43a73b5",
   "metadata": {
    "papermill": {
     "duration": 0.00861,
     "end_time": "2025-01-27T00:18:12.832151",
     "exception": false,
     "start_time": "2025-01-27T00:18:12.823541",
     "status": "completed"
    },
    "tags": []
   },
   "outputs": [],
   "source": []
  },
  {
   "cell_type": "markdown",
   "id": "b632d7d7",
   "metadata": {
    "papermill": {
     "duration": 0.008554,
     "end_time": "2025-01-27T00:18:12.849214",
     "exception": false,
     "start_time": "2025-01-27T00:18:12.840660",
     "status": "completed"
    },
    "tags": []
   },
   "source": [
    "## Plotting 4-Component Simplex Graph with `igraph`"
   ]
  },
  {
   "cell_type": "code",
   "execution_count": 3,
   "id": "14d972c5",
   "metadata": {
    "execution": {
     "iopub.execute_input": "2025-01-27T00:18:12.867004Z",
     "iopub.status.busy": "2025-01-27T00:18:12.866758Z",
     "iopub.status.idle": "2025-01-27T00:18:12.869523Z",
     "shell.execute_reply": "2025-01-27T00:18:12.869156Z"
    },
    "papermill": {
     "duration": 0.012427,
     "end_time": "2025-01-27T00:18:12.870160",
     "exception": false,
     "start_time": "2025-01-27T00:18:12.857733",
     "status": "completed"
    },
    "tags": []
   },
   "outputs": [],
   "source": [
    "dim = 4\n",
    "ndiv = 6\n",
    "gridAtt, nList = nimplex.simplex_graph_py(dim, ndiv)"
   ]
  },
  {
   "cell_type": "code",
   "execution_count": 4,
   "id": "a681bf15",
   "metadata": {
    "execution": {
     "iopub.execute_input": "2025-01-27T00:18:12.888180Z",
     "iopub.status.busy": "2025-01-27T00:18:12.887916Z",
     "iopub.status.idle": "2025-01-27T00:18:12.890467Z",
     "shell.execute_reply": "2025-01-27T00:18:12.890104Z"
    },
    "papermill": {
     "duration": 0.01229,
     "end_time": "2025-01-27T00:18:12.891090",
     "exception": false,
     "start_time": "2025-01-27T00:18:12.878800",
     "status": "completed"
    },
    "tags": []
   },
   "outputs": [],
   "source": [
    "edges = []\n",
    "for i in range(len(gridAtt)):\n",
    "    for n in nList[i]:\n",
    "        edges.append((i,n))"
   ]
  },
  {
   "cell_type": "code",
   "execution_count": 5,
   "id": "ac9b79fc",
   "metadata": {
    "execution": {
     "iopub.execute_input": "2025-01-27T00:18:12.908978Z",
     "iopub.status.busy": "2025-01-27T00:18:12.908720Z",
     "iopub.status.idle": "2025-01-27T00:18:12.914009Z",
     "shell.execute_reply": "2025-01-27T00:18:12.913664Z"
    },
    "papermill": {
     "duration": 0.014905,
     "end_time": "2025-01-27T00:18:12.914687",
     "exception": false,
     "start_time": "2025-01-27T00:18:12.899782",
     "status": "completed"
    },
    "tags": []
   },
   "outputs": [],
   "source": [
    "def plotGraph(edges: list):\n",
    "    # Lets generate some seed positions for the nodes\n",
    "    G = ig.Graph(edges)\n",
    "    layout = G.layout_kamada_kawai(dim=3)\n",
    "    layout_array = np.array(layout.coords)\n",
    "    # Create edge traces\n",
    "    edge_traces = []\n",
    "    for edge in G.es:\n",
    "        start, end = edge.tuple\n",
    "        x0, y0, z0 = layout_array[start]\n",
    "        x1, y1, z1 = layout_array[end]\n",
    "        width = 5\n",
    "        edge_trace = go.Scatter3d(x=[x0, x1], y=[y0, y1], z=[z0, z1],\n",
    "                                line=dict(width=width, color='lightgray'),\n",
    "                                opacity=0.2,\n",
    "                                hoverinfo='none', mode='lines')\n",
    "        edge_traces.append(edge_trace)\n",
    "\n",
    "    node_trace = go.Scatter3d(x=layout_array[:, 0], y=layout_array[:, 1], z=layout_array[:, 2],\n",
    "                            mode='markers',\n",
    "                            marker=dict(size=3, \n",
    "                                        opacity=0.5,\n",
    "                                        line=None,\n",
    "                                        color='blue'),\n",
    "                            \n",
    "                            text=[f\"Node {i}\" for i in range(len(gridAtt))],\n",
    "                            hoverinfo='text')\n",
    "\n",
    "    # Create figure\n",
    "    fig = go.Figure(data=edge_traces + [node_trace])\n",
    "\n",
    "    # Update layout\n",
    "    fig.update_layout(\n",
    "        title='3D Graph with Feasibility Types',\n",
    "        scene=dict(\n",
    "            xaxis=dict(visible=False),\n",
    "            yaxis=dict(visible=False),\n",
    "            zaxis=dict(visible=False),\n",
    "        ),\n",
    "        showlegend=False,\n",
    "        margin=dict(l=0, r=0, b=0, t=0),\n",
    "        width=800\n",
    "    )\n",
    "\n",
    "    fig.show()"
   ]
  },
  {
   "cell_type": "code",
   "execution_count": 6,
   "id": "c3b1ca0d",
   "metadata": {
    "execution": {
     "iopub.execute_input": "2025-01-27T00:18:12.932434Z",
     "iopub.status.busy": "2025-01-27T00:18:12.932169Z",
     "iopub.status.idle": "2025-01-27T00:18:12.934608Z",
     "shell.execute_reply": "2025-01-27T00:18:12.934286Z"
    },
    "papermill": {
     "duration": 0.011871,
     "end_time": "2025-01-27T00:18:12.935212",
     "exception": false,
     "start_time": "2025-01-27T00:18:12.923341",
     "status": "completed"
    },
    "tags": []
   },
   "outputs": [],
   "source": [
    "#plotGraph(edges)\n",
    "clear_output()"
   ]
  },
  {
   "cell_type": "markdown",
   "id": "7ebd76b6",
   "metadata": {
    "papermill": {
     "duration": 0.008521,
     "end_time": "2025-01-27T00:18:12.952417",
     "exception": false,
     "start_time": "2025-01-27T00:18:12.943896",
     "status": "completed"
    },
    "tags": []
   },
   "source": [
    "## Combining (\"Stitching\") 3 4-Component Systems into A Complex"
   ]
  },
  {
   "cell_type": "code",
   "execution_count": 7,
   "id": "165789b0",
   "metadata": {
    "execution": {
     "iopub.execute_input": "2025-01-27T00:18:12.970229Z",
     "iopub.status.busy": "2025-01-27T00:18:12.969958Z",
     "iopub.status.idle": "2025-01-27T00:18:12.972202Z",
     "shell.execute_reply": "2025-01-27T00:18:12.971859Z"
    },
    "papermill": {
     "duration": 0.011781,
     "end_time": "2025-01-27T00:18:12.972782",
     "exception": false,
     "start_time": "2025-01-27T00:18:12.961001",
     "status": "completed"
    },
    "tags": []
   },
   "outputs": [],
   "source": [
    "sys1 = [\"A\", \"B\", \"C\", \"D\"]\n",
    "sys2 = [\"B\", \"C\", \"D\", \"E\"]\n",
    "sys3 = [\"B\", \"D\", \"E\", \"F\"]"
   ]
  },
  {
   "cell_type": "code",
   "execution_count": 8,
   "id": "5cbb7dfb",
   "metadata": {
    "execution": {
     "iopub.execute_input": "2025-01-27T00:18:12.990640Z",
     "iopub.status.busy": "2025-01-27T00:18:12.990371Z",
     "iopub.status.idle": "2025-01-27T00:18:12.993448Z",
     "shell.execute_reply": "2025-01-27T00:18:12.993140Z"
    },
    "papermill": {
     "duration": 0.012565,
     "end_time": "2025-01-27T00:18:12.994052",
     "exception": false,
     "start_time": "2025-01-27T00:18:12.981487",
     "status": "completed"
    },
    "tags": []
   },
   "outputs": [],
   "source": [
    "offset = len(gridAtt)\n",
    "for i in range(len(gridAtt)):\n",
    "    for n in nList[i]:\n",
    "        edges.append((i+offset,n+offset))\n",
    "for i in range(len(gridAtt)):\n",
    "    for n in nList[i]:\n",
    "        edges.append((i+offset*2,n+offset*2))"
   ]
  },
  {
   "cell_type": "code",
   "execution_count": 9,
   "id": "a5e4eb03",
   "metadata": {
    "execution": {
     "iopub.execute_input": "2025-01-27T00:18:13.012282Z",
     "iopub.status.busy": "2025-01-27T00:18:13.012024Z",
     "iopub.status.idle": "2025-01-27T00:18:13.014466Z",
     "shell.execute_reply": "2025-01-27T00:18:13.014160Z"
    },
    "papermill": {
     "duration": 0.012154,
     "end_time": "2025-01-27T00:18:13.015069",
     "exception": false,
     "start_time": "2025-01-27T00:18:13.002915",
     "status": "completed"
    },
    "tags": []
   },
   "outputs": [],
   "source": [
    "#plotGraph(edges)\n",
    "clear_output()"
   ]
  },
  {
   "cell_type": "code",
   "execution_count": 10,
   "id": "1bbbfd84",
   "metadata": {
    "execution": {
     "iopub.execute_input": "2025-01-27T00:18:13.033193Z",
     "iopub.status.busy": "2025-01-27T00:18:13.032938Z",
     "iopub.status.idle": "2025-01-27T00:18:13.036743Z",
     "shell.execute_reply": "2025-01-27T00:18:13.036417Z"
    },
    "papermill": {
     "duration": 0.013492,
     "end_time": "2025-01-27T00:18:13.037333",
     "exception": false,
     "start_time": "2025-01-27T00:18:13.023841",
     "status": "completed"
    },
    "tags": []
   },
   "outputs": [
    {
     "name": "stdout",
     "output_type": "stream",
     "text": [
      "[83, 82, 79, 73, 63, 48, 27]\n"
     ]
    }
   ],
   "source": [
    "stitchingPoints = stitching.findStitchingPoints_py(dim, ndiv, components=[\"A\", \"B\", \"C\", \"D\"])\n",
    "print(stitchingPoints[\"A-B\"])"
   ]
  },
  {
   "cell_type": "code",
   "execution_count": 11,
   "id": "15d26aef",
   "metadata": {
    "execution": {
     "iopub.execute_input": "2025-01-27T00:18:13.055567Z",
     "iopub.status.busy": "2025-01-27T00:18:13.055319Z",
     "iopub.status.idle": "2025-01-27T00:18:13.061424Z",
     "shell.execute_reply": "2025-01-27T00:18:13.061090Z"
    },
    "papermill": {
     "duration": 0.015848,
     "end_time": "2025-01-27T00:18:13.062026",
     "exception": false,
     "start_time": "2025-01-27T00:18:13.046178",
     "status": "completed"
    },
    "tags": []
   },
   "outputs": [],
   "source": [
    "stitchingPoints1 = stitching.findStitchingPoints_py(dim, ndiv, components=sys1, offset=0)\n",
    "stitchingPoints2 = stitching.findStitchingPoints_py(dim, ndiv, components=sys2, offset=len(gridAtt))\n",
    "stitchingPoints3 = stitching.findStitchingPoints_py(dim, ndiv, components=sys3, offset=len(gridAtt)*2)"
   ]
  },
  {
   "cell_type": "code",
   "execution_count": 12,
   "id": "2d174fb4",
   "metadata": {
    "execution": {
     "iopub.execute_input": "2025-01-27T00:18:13.080273Z",
     "iopub.status.busy": "2025-01-27T00:18:13.080022Z",
     "iopub.status.idle": "2025-01-27T00:18:13.082194Z",
     "shell.execute_reply": "2025-01-27T00:18:13.081865Z"
    },
    "papermill": {
     "duration": 0.011922,
     "end_time": "2025-01-27T00:18:13.082788",
     "exception": false,
     "start_time": "2025-01-27T00:18:13.070866",
     "status": "completed"
    },
    "tags": []
   },
   "outputs": [],
   "source": [
    "for i, j in zip(stitchingPoints1[\"B-C-D\"], stitchingPoints2[\"B-C-D\"]):\n",
    "    edges.append((i, j))"
   ]
  },
  {
   "cell_type": "code",
   "execution_count": 13,
   "id": "9ad822a5",
   "metadata": {
    "execution": {
     "iopub.execute_input": "2025-01-27T00:18:13.101112Z",
     "iopub.status.busy": "2025-01-27T00:18:13.100809Z",
     "iopub.status.idle": "2025-01-27T00:18:13.102962Z",
     "shell.execute_reply": "2025-01-27T00:18:13.102668Z"
    },
    "papermill": {
     "duration": 0.011824,
     "end_time": "2025-01-27T00:18:13.103571",
     "exception": false,
     "start_time": "2025-01-27T00:18:13.091747",
     "status": "completed"
    },
    "tags": []
   },
   "outputs": [],
   "source": [
    "for i, j in zip(stitchingPoints2[\"B-D-E\"], stitchingPoints3[\"B-D-E\"]):\n",
    "    edges.append((i, j))"
   ]
  },
  {
   "cell_type": "code",
   "execution_count": 14,
   "id": "cd409501",
   "metadata": {
    "execution": {
     "iopub.execute_input": "2025-01-27T00:18:13.147721Z",
     "iopub.status.busy": "2025-01-27T00:18:13.147482Z",
     "iopub.status.idle": "2025-01-27T00:18:13.150117Z",
     "shell.execute_reply": "2025-01-27T00:18:13.149781Z"
    },
    "papermill": {
     "duration": 0.013479,
     "end_time": "2025-01-27T00:18:13.150732",
     "exception": false,
     "start_time": "2025-01-27T00:18:13.137253",
     "status": "completed"
    },
    "tags": []
   },
   "outputs": [],
   "source": [
    "#plotGraph(edges)\n",
    "clear_output()"
   ]
  },
  {
   "cell_type": "markdown",
   "id": "53862e2c",
   "metadata": {
    "papermill": {
     "duration": 0.008811,
     "end_time": "2025-01-27T00:18:13.168659",
     "exception": false,
     "start_time": "2025-01-27T00:18:13.159848",
     "status": "completed"
    },
    "tags": []
   },
   "source": [
    "## Combining (\"Stitching\") 9 3-Component Systems into A Complex\n",
    "### Disregard this section for now Adam"
   ]
  },
  {
   "cell_type": "code",
   "execution_count": 15,
   "id": "a1c22e43",
   "metadata": {
    "execution": {
     "iopub.execute_input": "2025-01-27T00:18:13.187045Z",
     "iopub.status.busy": "2025-01-27T00:18:13.186807Z",
     "iopub.status.idle": "2025-01-27T00:18:13.189448Z",
     "shell.execute_reply": "2025-01-27T00:18:13.189130Z"
    },
    "papermill": {
     "duration": 0.012494,
     "end_time": "2025-01-27T00:18:13.190088",
     "exception": false,
     "start_time": "2025-01-27T00:18:13.177594",
     "status": "completed"
    },
    "tags": []
   },
   "outputs": [],
   "source": [
    "dim = 3\n",
    "ndiv = 6\n",
    "nsys = 9\n",
    "gridAtt, nList = nimplex.simplex_graph_py(dim, ndiv)\n",
    "edges = []\n",
    "for i in range(len(gridAtt)):\n",
    "    for n in nList[i]:\n",
    "        edges.append((i,n))"
   ]
  },
  {
   "cell_type": "code",
   "execution_count": 16,
   "id": "b56b24d7",
   "metadata": {
    "execution": {
     "iopub.execute_input": "2025-01-27T00:18:13.208445Z",
     "iopub.status.busy": "2025-01-27T00:18:13.208192Z",
     "iopub.status.idle": "2025-01-27T00:18:13.212542Z",
     "shell.execute_reply": "2025-01-27T00:18:13.212218Z"
    },
    "papermill": {
     "duration": 0.014114,
     "end_time": "2025-01-27T00:18:13.213141",
     "exception": false,
     "start_time": "2025-01-27T00:18:13.199027",
     "status": "completed"
    },
    "tags": []
   },
   "outputs": [
    {
     "data": {
      "text/plain": [
       "28"
      ]
     },
     "execution_count": 16,
     "metadata": {},
     "output_type": "execute_result"
    }
   ],
   "source": [
    "len(gridAtt)"
   ]
  },
  {
   "cell_type": "code",
   "execution_count": 17,
   "id": "3d0c9426",
   "metadata": {
    "execution": {
     "iopub.execute_input": "2025-01-27T00:18:13.231965Z",
     "iopub.status.busy": "2025-01-27T00:18:13.231716Z",
     "iopub.status.idle": "2025-01-27T00:18:13.234509Z",
     "shell.execute_reply": "2025-01-27T00:18:13.234169Z"
    },
    "papermill": {
     "duration": 0.012934,
     "end_time": "2025-01-27T00:18:13.235137",
     "exception": false,
     "start_time": "2025-01-27T00:18:13.222203",
     "status": "completed"
    },
    "tags": []
   },
   "outputs": [],
   "source": [
    "offset = len(gridAtt)\n",
    "for sys in range(1,nsys+1):\n",
    "    for i in range(len(gridAtt)):\n",
    "        for n in nList[i]:\n",
    "            edges.append((i+offset*sys,n+offset*sys))"
   ]
  },
  {
   "cell_type": "code",
   "execution_count": 18,
   "id": "2398cd79",
   "metadata": {
    "execution": {
     "iopub.execute_input": "2025-01-27T00:18:13.253929Z",
     "iopub.status.busy": "2025-01-27T00:18:13.253684Z",
     "iopub.status.idle": "2025-01-27T00:18:13.256062Z",
     "shell.execute_reply": "2025-01-27T00:18:13.255737Z"
    },
    "papermill": {
     "duration": 0.012386,
     "end_time": "2025-01-27T00:18:13.256647",
     "exception": false,
     "start_time": "2025-01-27T00:18:13.244261",
     "status": "completed"
    },
    "tags": []
   },
   "outputs": [],
   "source": [
    "#plotGraph(edges)\n",
    "clear_output()"
   ]
  },
  {
   "cell_type": "code",
   "execution_count": 19,
   "id": "59354170",
   "metadata": {
    "execution": {
     "iopub.execute_input": "2025-01-27T00:18:13.275399Z",
     "iopub.status.busy": "2025-01-27T00:18:13.275151Z",
     "iopub.status.idle": "2025-01-27T00:18:13.548200Z",
     "shell.execute_reply": "2025-01-27T00:18:13.547801Z"
    },
    "papermill": {
     "duration": 0.283259,
     "end_time": "2025-01-27T00:18:13.549165",
     "exception": false,
     "start_time": "2025-01-27T00:18:13.265906",
     "status": "completed"
    },
    "tags": []
   },
   "outputs": [],
   "source": [
    "import pandas as pd"
   ]
  },
  {
   "cell_type": "code",
   "execution_count": 20,
   "id": "c25a2857",
   "metadata": {
    "execution": {
     "iopub.execute_input": "2025-01-27T00:18:13.569065Z",
     "iopub.status.busy": "2025-01-27T00:18:13.568812Z",
     "iopub.status.idle": "2025-01-27T00:18:13.812424Z",
     "shell.execute_reply": "2025-01-27T00:18:13.812030Z"
    },
    "papermill": {
     "duration": 0.2542,
     "end_time": "2025-01-27T00:18:13.813344",
     "exception": false,
     "start_time": "2025-01-27T00:18:13.559144",
     "status": "completed"
    },
    "tags": []
   },
   "outputs": [],
   "source": [
    "from pycalphad import Database"
   ]
  },
  {
   "cell_type": "code",
   "execution_count": 21,
   "id": "1d5a3508",
   "metadata": {
    "execution": {
     "iopub.execute_input": "2025-01-27T00:18:13.832955Z",
     "iopub.status.busy": "2025-01-27T00:18:13.832675Z",
     "iopub.status.idle": "2025-01-27T00:18:15.480265Z",
     "shell.execute_reply": "2025-01-27T00:18:15.479897Z"
    },
    "papermill": {
     "duration": 1.657732,
     "end_time": "2025-01-27T00:18:15.480960",
     "exception": false,
     "start_time": "2025-01-27T00:18:13.823228",
     "status": "completed"
    },
    "tags": []
   },
   "outputs": [
    {
     "name": "stderr",
     "output_type": "stream",
     "text": [
      "/ocean/projects/dmr190011p/arichte1/micromamba/envs/v2ammap/lib/python3.11/site-packages/pycalphad/io/tdb.py:293: UserWarning: The type definition character `&` in `TYPE_DEFINITION & GES A_P_D A2_BCC MAGNETIC -1.0 4.00000E-01 ` is not used by any phase.\n",
      "  warnings.warn(f\"The type definition character `{typechar}` in `TYPE_DEFINITION {typechar} {line}` is not used by any phase.\")\n"
     ]
    }
   ],
   "source": [
    "dbCrNiV = Database(\"ammap/databases/Co-Cr-Fe-Ni-V_choi2019.TDB\")\n",
    "dbCrFeTi = Database(\"ammap/databases/Cr-Fe-Ti_wang2017.tdb\")\n",
    "dbCrFeNi = Database(\"ammap/databases/Cr-Fe-Ni_miettinen1999.tdb\")\n",
    "dbCrNiTi= Database(\"ammap/databases/Cr-Ni-Ti_huang2018.tdb\")\n",
    "dbCrTiV= Database(\"ammap/databases/Cr-Ti-V_ghosh2002.tdb\")\n",
    "dbFeNiTi= Database(\"ammap/databases/Fe-Ni-Ti_dekeyzer2009.tdb\")\n",
    "dbFeNiV= Database(\"ammap/databases/Fe-Ni-V_zhao2014.tdb\")\n",
    "dbFeTiV= Database(\"ammap/databases/Fe-Ti-V_guo2012.TDB\")\n",
    "dbNiTiV= Database(\"ammap/databases/Ni-Ti-V_zou2018.tdb\")\n",
    "CrNiV = ['Cr', 'Ni', 'V']\n",
    "CrFeTi = ['Cr', 'Fe', 'Ti']\n",
    "CrFeNi = ['Cr', 'Fe', 'Ni']\n",
    "CrNiTi = ['Cr', 'Ni', 'Ti']\n",
    "CrTiV = ['Cr', 'Ti', 'V']\n",
    "FeNiTi = ['Fe', 'Ni', 'Ti']\n",
    "FeNiV = ['Fe', 'Ni', 'V']\n",
    "FeTiV = ['Fe', 'Ti', 'V']\n",
    "NiTiV = ['Ni', 'Ti', 'V']\n"
   ]
  },
  {
   "cell_type": "code",
   "execution_count": 22,
   "id": "f0b336d7",
   "metadata": {
    "execution": {
     "iopub.execute_input": "2025-01-27T00:18:15.500953Z",
     "iopub.status.busy": "2025-01-27T00:18:15.500728Z",
     "iopub.status.idle": "2025-01-27T00:18:15.507671Z",
     "shell.execute_reply": "2025-01-27T00:18:15.507321Z"
    },
    "papermill": {
     "duration": 0.017223,
     "end_time": "2025-01-27T00:18:15.508273",
     "exception": false,
     "start_time": "2025-01-27T00:18:15.491050",
     "status": "completed"
    },
    "tags": []
   },
   "outputs": [],
   "source": [
    "stitchingPointsCrNiV = stitching.findStitchingPoints_py(dim, ndiv, components=CrNiV, offset=0)\n",
    "stitchingPointsCrFeTi = stitching.findStitchingPoints_py(dim, ndiv, components=CrFeTi, offset=len(gridAtt))\n",
    "stitchingPointsCrFeNi = stitching.findStitchingPoints_py(dim, ndiv, components=CrFeNi, offset=len(gridAtt)*2)\n",
    "stitchingPointsCrNiTi = stitching.findStitchingPoints_py(dim, ndiv, components=CrNiTi, offset=len(gridAtt)*3)\n",
    "stitchingPointsCrTiV = stitching.findStitchingPoints_py(dim, ndiv, components=CrTiV, offset=len(gridAtt)*4)\n",
    "stitchingPointsFeNiTi = stitching.findStitchingPoints_py(dim, ndiv, components=FeNiTi, offset=len(gridAtt)*5)\n",
    "stitchingPointsFeNiV = stitching.findStitchingPoints_py(dim, ndiv, components=FeNiV, offset=len(gridAtt)*6)\n",
    "stitchingPointsFeTiV = stitching.findStitchingPoints_py(dim, ndiv, components=FeTiV, offset=len(gridAtt)*7)\n",
    "stitchingPointsNiTiV = stitching.findStitchingPoints_py(dim, ndiv, components=NiTiV, offset=len(gridAtt)*8)"
   ]
  },
  {
   "cell_type": "markdown",
   "id": "57deb09b",
   "metadata": {
    "papermill": {
     "duration": 0.0092,
     "end_time": "2025-01-27T00:18:15.526807",
     "exception": false,
     "start_time": "2025-01-27T00:18:15.517607",
     "status": "completed"
    },
    "tags": []
   },
   "source": [
    "## Finding and Combining 3-Component Subspaces in 4-Component Space"
   ]
  },
  {
   "cell_type": "code",
   "execution_count": 23,
   "id": "5393cf13",
   "metadata": {
    "execution": {
     "iopub.execute_input": "2025-01-27T00:18:15.545958Z",
     "iopub.status.busy": "2025-01-27T00:18:15.545756Z",
     "iopub.status.idle": "2025-01-27T00:18:15.548792Z",
     "shell.execute_reply": "2025-01-27T00:18:15.548480Z"
    },
    "papermill": {
     "duration": 0.013382,
     "end_time": "2025-01-27T00:18:15.549439",
     "exception": false,
     "start_time": "2025-01-27T00:18:15.536057",
     "status": "completed"
    },
    "tags": []
   },
   "outputs": [
    {
     "name": "stdout",
     "output_type": "stream",
     "text": [
      "[('A', 'B', 'C'), ('A', 'B', 'D'), ('A', 'C', 'D'), ('B', 'C', 'D')]\n"
     ]
    }
   ],
   "source": [
    "from itertools import combinations\n",
    "elements = [\"A\", \"B\", \"C\", \"D\"]\n",
    "ternaries = list(combinations(elements, 3))\n",
    "print(ternaries)"
   ]
  },
  {
   "cell_type": "code",
   "execution_count": 24,
   "id": "82e038cd",
   "metadata": {
    "execution": {
     "iopub.execute_input": "2025-01-27T00:18:15.568810Z",
     "iopub.status.busy": "2025-01-27T00:18:15.568520Z",
     "iopub.status.idle": "2025-01-27T00:18:15.570782Z",
     "shell.execute_reply": "2025-01-27T00:18:15.570437Z"
    },
    "papermill": {
     "duration": 0.012596,
     "end_time": "2025-01-27T00:18:15.571364",
     "exception": false,
     "start_time": "2025-01-27T00:18:15.558768",
     "status": "completed"
    },
    "tags": []
   },
   "outputs": [],
   "source": [
    "gridAtt, nList = nimplex.simplex_graph_py(3,12)"
   ]
  },
  {
   "cell_type": "code",
   "execution_count": 25,
   "id": "56524357",
   "metadata": {
    "execution": {
     "iopub.execute_input": "2025-01-27T00:18:15.590376Z",
     "iopub.status.busy": "2025-01-27T00:18:15.590139Z",
     "iopub.status.idle": "2025-01-27T00:18:15.593077Z",
     "shell.execute_reply": "2025-01-27T00:18:15.592758Z"
    },
    "papermill": {
     "duration": 0.01313,
     "end_time": "2025-01-27T00:18:15.593704",
     "exception": false,
     "start_time": "2025-01-27T00:18:15.580574",
     "status": "completed"
    },
    "tags": []
   },
   "outputs": [],
   "source": [
    "edges = []\n",
    "# Ternaries\n",
    "for i, ternary in enumerate(ternaries):\n",
    "    offset = i*len(gridAtt)\n",
    "    for i in range(len(gridAtt)):\n",
    "        for n in nList[i]:\n",
    "            edges.append((i+offset,n+offset))"
   ]
  },
  {
   "cell_type": "code",
   "execution_count": 26,
   "id": "6d9469af",
   "metadata": {
    "execution": {
     "iopub.execute_input": "2025-01-27T00:18:15.612781Z",
     "iopub.status.busy": "2025-01-27T00:18:15.612578Z",
     "iopub.status.idle": "2025-01-27T00:18:15.615140Z",
     "shell.execute_reply": "2025-01-27T00:18:15.614827Z"
    },
    "papermill": {
     "duration": 0.012757,
     "end_time": "2025-01-27T00:18:15.615747",
     "exception": false,
     "start_time": "2025-01-27T00:18:15.602990",
     "status": "completed"
    },
    "tags": []
   },
   "outputs": [],
   "source": [
    "#plotGraph(edges)\n",
    "clear_output()"
   ]
  },
  {
   "cell_type": "code",
   "execution_count": 27,
   "id": "83bd953b",
   "metadata": {
    "execution": {
     "iopub.execute_input": "2025-01-27T00:18:15.655055Z",
     "iopub.status.busy": "2025-01-27T00:18:15.654770Z",
     "iopub.status.idle": "2025-01-27T00:18:15.658593Z",
     "shell.execute_reply": "2025-01-27T00:18:15.658252Z"
    },
    "papermill": {
     "duration": 0.014276,
     "end_time": "2025-01-27T00:18:15.659184",
     "exception": false,
     "start_time": "2025-01-27T00:18:15.644908",
     "status": "completed"
    },
    "tags": []
   },
   "outputs": [
    {
     "name": "stdout",
     "output_type": "stream",
     "text": [
      "('A', 'B'): occurs between ternary [(0, 1)]\n",
      "('A', 'C'): occurs between ternary [(0, 2)]\n",
      "('B', 'C'): occurs between ternary [(0, 3)]\n",
      "('A', 'D'): occurs between ternary [(1, 2)]\n",
      "('B', 'D'): occurs between ternary [(1, 3)]\n",
      "('C', 'D'): occurs between ternary [(2, 3)]\n"
     ]
    }
   ],
   "source": [
    "stitchingBinaries = {}\n",
    "\n",
    "for i, combo1 in enumerate(ternaries):\n",
    "    for j, combo2 in enumerate(ternaries[i+1:], start=i+1):\n",
    "        common = set(combo1) & set(combo2)\n",
    "        if len(common) == 2:\n",
    "            overlap = tuple(sorted(common))\n",
    "            if overlap not in stitchingBinaries:\n",
    "                stitchingBinaries[overlap] = []\n",
    "            stitchingBinaries[overlap].append((i, j))\n",
    "\n",
    "for overlap, pairs in stitchingBinaries.items():\n",
    "    print(f\"{overlap}: occurs between ternary {pairs}\")"
   ]
  },
  {
   "cell_type": "markdown",
   "id": "01c7b1e9",
   "metadata": {
    "papermill": {
     "duration": 0.009381,
     "end_time": "2025-01-27T00:18:15.678017",
     "exception": false,
     "start_time": "2025-01-27T00:18:15.668636",
     "status": "completed"
    },
    "tags": []
   },
   "source": []
  },
  {
   "cell_type": "code",
   "execution_count": 28,
   "id": "fb0bb124",
   "metadata": {
    "execution": {
     "iopub.execute_input": "2025-01-27T00:18:15.697525Z",
     "iopub.status.busy": "2025-01-27T00:18:15.697260Z",
     "iopub.status.idle": "2025-01-27T00:18:15.713934Z",
     "shell.execute_reply": "2025-01-27T00:18:15.713601Z"
    },
    "papermill": {
     "duration": 0.026987,
     "end_time": "2025-01-27T00:18:15.714520",
     "exception": false,
     "start_time": "2025-01-27T00:18:15.687533",
     "status": "completed"
    },
    "tags": []
   },
   "outputs": [
    {
     "name": "stdout",
     "output_type": "stream",
     "text": [
      "Stitching 0 and 1 at ('A', 'B') from [90, 89, 87, 84, 80, 75, 69, 62, 54, 45, 35, 24, 12] to [181, 180, 178, 175, 171, 166, 160, 153, 145, 136, 126, 115, 103]\n",
      "Stitching 0 and 2 at ('A', 'C') from [90, 88, 85, 81, 76, 70, 63, 55, 46, 36, 25, 13, 0] to [272, 271, 269, 266, 262, 257, 251, 244, 236, 227, 217, 206, 194]\n",
      "Stitching 0 and 3 at ('B', 'C') from [12, 11, 10, 9, 8, 7, 6, 5, 4, 3, 2, 1, 0] to [363, 362, 360, 357, 353, 348, 342, 335, 327, 318, 308, 297, 285]\n",
      "Stitching 1 and 2 at ('A', 'D') from [181, 179, 176, 172, 167, 161, 154, 146, 137, 127, 116, 104, 91] to [272, 270, 267, 263, 258, 252, 245, 237, 228, 218, 207, 195, 182]\n",
      "Stitching 1 and 3 at ('B', 'D') from [103, 102, 101, 100, 99, 98, 97, 96, 95, 94, 93, 92, 91] to [363, 361, 358, 354, 349, 343, 336, 328, 319, 309, 298, 286, 273]\n",
      "Stitching 2 and 3 at ('C', 'D') from [194, 193, 192, 191, 190, 189, 188, 187, 186, 185, 184, 183, 182] to [285, 284, 283, 282, 281, 280, 279, 278, 277, 276, 275, 274, 273]\n"
     ]
    }
   ],
   "source": [
    "for stitchingBinary, ternaryPair in stitchingBinaries.items():\n",
    "    ternary1, ternary2 = ternaryPair[0][0], ternaryPair[0][1]\n",
    "    stitching1 = stitching.findStitchingPoints_py(\n",
    "        3, 12, \n",
    "        components=ternaries[ternary1],\n",
    "        offset=ternary1*len(gridAtt)\n",
    "        )[\"-\".join(stitchingBinary)]\n",
    "    stitching2 = stitching.findStitchingPoints_py(\n",
    "        3, 12, \n",
    "        components=ternaries[ternary2],\n",
    "        offset=ternary2*len(gridAtt)\n",
    "        )[\"-\".join(stitchingBinary)]\n",
    "    print(f\"Stitching {ternary1} and {ternary2} at {stitchingBinary} from {stitching1} to {stitching2}\")\n",
    "    for i, j in zip(stitching1, stitching2):\n",
    "        edges.append((i, j))"
   ]
  },
  {
   "cell_type": "code",
   "execution_count": 29,
   "id": "0642bc52",
   "metadata": {
    "execution": {
     "iopub.execute_input": "2025-01-27T00:18:15.734308Z",
     "iopub.status.busy": "2025-01-27T00:18:15.734054Z",
     "iopub.status.idle": "2025-01-27T00:18:15.736361Z",
     "shell.execute_reply": "2025-01-27T00:18:15.736033Z"
    },
    "papermill": {
     "duration": 0.012796,
     "end_time": "2025-01-27T00:18:15.736957",
     "exception": false,
     "start_time": "2025-01-27T00:18:15.724161",
     "status": "completed"
    },
    "tags": []
   },
   "outputs": [],
   "source": [
    "#plotGraph(edges)\n",
    "clear_output()"
   ]
  },
  {
   "cell_type": "markdown",
   "id": "ababe109",
   "metadata": {
    "papermill": {
     "duration": 0.009402,
     "end_time": "2025-01-27T00:18:15.755956",
     "exception": false,
     "start_time": "2025-01-27T00:18:15.746554",
     "status": "completed"
    },
    "tags": []
   },
   "source": [
    "## In Higher Dimensional Cases (Stretched 2D Spaces Crossing Each Other in 3D)"
   ]
  },
  {
   "cell_type": "code",
   "execution_count": 30,
   "id": "1ae3e4e2",
   "metadata": {
    "execution": {
     "iopub.execute_input": "2025-01-27T00:18:15.775619Z",
     "iopub.status.busy": "2025-01-27T00:18:15.775358Z",
     "iopub.status.idle": "2025-01-27T00:18:15.777930Z",
     "shell.execute_reply": "2025-01-27T00:18:15.777599Z"
    },
    "papermill": {
     "duration": 0.012969,
     "end_time": "2025-01-27T00:18:15.778506",
     "exception": false,
     "start_time": "2025-01-27T00:18:15.765537",
     "status": "completed"
    },
    "tags": []
   },
   "outputs": [
    {
     "name": "stdout",
     "output_type": "stream",
     "text": [
      "[('A', 'B', 'C'), ('A', 'B', 'D'), ('A', 'B', 'E'), ('A', 'C', 'D'), ('A', 'C', 'E'), ('A', 'D', 'E'), ('B', 'C', 'D'), ('B', 'C', 'E'), ('B', 'D', 'E'), ('C', 'D', 'E')]\n"
     ]
    }
   ],
   "source": [
    "from itertools import combinations\n",
    "elements = [\"A\", \"B\", \"C\", \"D\", \"E\"]\n",
    "ternaries = list(combinations(elements, 3))\n",
    "print(ternaries)"
   ]
  },
  {
   "cell_type": "code",
   "execution_count": 31,
   "id": "258ef775",
   "metadata": {
    "execution": {
     "iopub.execute_input": "2025-01-27T00:18:15.798445Z",
     "iopub.status.busy": "2025-01-27T00:18:15.798194Z",
     "iopub.status.idle": "2025-01-27T00:18:15.800455Z",
     "shell.execute_reply": "2025-01-27T00:18:15.800097Z"
    },
    "papermill": {
     "duration": 0.012848,
     "end_time": "2025-01-27T00:18:15.801063",
     "exception": false,
     "start_time": "2025-01-27T00:18:15.788215",
     "status": "completed"
    },
    "tags": []
   },
   "outputs": [],
   "source": [
    "gridAtt, nList = nimplex.simplex_graph_py(3,12)"
   ]
  },
  {
   "cell_type": "code",
   "execution_count": 32,
   "id": "98dd7e67",
   "metadata": {
    "execution": {
     "iopub.execute_input": "2025-01-27T00:18:15.820721Z",
     "iopub.status.busy": "2025-01-27T00:18:15.820457Z",
     "iopub.status.idle": "2025-01-27T00:18:15.824136Z",
     "shell.execute_reply": "2025-01-27T00:18:15.823809Z"
    },
    "papermill": {
     "duration": 0.014134,
     "end_time": "2025-01-27T00:18:15.824738",
     "exception": false,
     "start_time": "2025-01-27T00:18:15.810604",
     "status": "completed"
    },
    "tags": []
   },
   "outputs": [],
   "source": [
    "edges = []\n",
    "# Ternaries\n",
    "for i, ternary in enumerate(ternaries):\n",
    "    offset = i*len(gridAtt)\n",
    "    for i in range(len(gridAtt)):\n",
    "        for n in nList[i]:\n",
    "            edges.append((i+offset,n+offset))\n"
   ]
  },
  {
   "cell_type": "code",
   "execution_count": 33,
   "id": "c27aee44",
   "metadata": {
    "execution": {
     "iopub.execute_input": "2025-01-27T00:18:15.844811Z",
     "iopub.status.busy": "2025-01-27T00:18:15.844565Z",
     "iopub.status.idle": "2025-01-27T00:18:15.846920Z",
     "shell.execute_reply": "2025-01-27T00:18:15.846601Z"
    },
    "papermill": {
     "duration": 0.013024,
     "end_time": "2025-01-27T00:18:15.847518",
     "exception": false,
     "start_time": "2025-01-27T00:18:15.834494",
     "status": "completed"
    },
    "tags": []
   },
   "outputs": [],
   "source": [
    "#plotGraph(edges)\n",
    "clear_output()"
   ]
  },
  {
   "cell_type": "code",
   "execution_count": 34,
   "id": "04385d0e",
   "metadata": {
    "execution": {
     "iopub.execute_input": "2025-01-27T00:18:15.867452Z",
     "iopub.status.busy": "2025-01-27T00:18:15.867197Z",
     "iopub.status.idle": "2025-01-27T00:18:15.870838Z",
     "shell.execute_reply": "2025-01-27T00:18:15.870477Z"
    },
    "papermill": {
     "duration": 0.014196,
     "end_time": "2025-01-27T00:18:15.871447",
     "exception": false,
     "start_time": "2025-01-27T00:18:15.857251",
     "status": "completed"
    },
    "tags": []
   },
   "outputs": [
    {
     "name": "stdout",
     "output_type": "stream",
     "text": [
      "('A', 'B'): occurs between ternary [(0, 1), (0, 2), (1, 2)]\n",
      "('A', 'C'): occurs between ternary [(0, 3), (0, 4), (3, 4)]\n",
      "('B', 'C'): occurs between ternary [(0, 6), (0, 7), (6, 7)]\n",
      "('A', 'D'): occurs between ternary [(1, 3), (1, 5), (3, 5)]\n",
      "('B', 'D'): occurs between ternary [(1, 6), (1, 8), (6, 8)]\n",
      "('A', 'E'): occurs between ternary [(2, 4), (2, 5), (4, 5)]\n",
      "('B', 'E'): occurs between ternary [(2, 7), (2, 8), (7, 8)]\n",
      "('C', 'D'): occurs between ternary [(3, 6), (3, 9), (6, 9)]\n",
      "('C', 'E'): occurs between ternary [(4, 7), (4, 9), (7, 9)]\n",
      "('D', 'E'): occurs between ternary [(5, 8), (5, 9), (8, 9)]\n"
     ]
    }
   ],
   "source": [
    "stitchingBinaries = {}\n",
    "\n",
    "for i, combo1 in enumerate(ternaries):\n",
    "    for j, combo2 in enumerate(ternaries[i+1:], start=i+1):\n",
    "        common = set(combo1) & set(combo2)\n",
    "        if len(common) == 2:\n",
    "            overlap = tuple(sorted(common))\n",
    "            if overlap not in stitchingBinaries:\n",
    "                stitchingBinaries[overlap] = []\n",
    "            stitchingBinaries[overlap].append((i, j))\n",
    "\n",
    "for overlap, pairs in stitchingBinaries.items():\n",
    "    print(f\"{overlap}: occurs between ternary {pairs}\")"
   ]
  },
  {
   "cell_type": "code",
   "execution_count": 35,
   "id": "b30b47fd",
   "metadata": {
    "execution": {
     "iopub.execute_input": "2025-01-27T00:18:15.891430Z",
     "iopub.status.busy": "2025-01-27T00:18:15.891181Z",
     "iopub.status.idle": "2025-01-27T00:18:15.960876Z",
     "shell.execute_reply": "2025-01-27T00:18:15.960558Z"
    },
    "papermill": {
     "duration": 0.080366,
     "end_time": "2025-01-27T00:18:15.961485",
     "exception": false,
     "start_time": "2025-01-27T00:18:15.881119",
     "status": "completed"
    },
    "tags": []
   },
   "outputs": [
    {
     "name": "stdout",
     "output_type": "stream",
     "text": [
      "Stitching 0 and 1 at ('A', 'B') from [90, 89, 87, 84, 80, 75, 69, 62, 54, 45, 35, 24, 12] to [181, 180, 178, 175, 171, 166, 160, 153, 145, 136, 126, 115, 103]\n",
      "Stitching 0 and 2 at ('A', 'B') from [90, 89, 87, 84, 80, 75, 69, 62, 54, 45, 35, 24, 12] to [272, 271, 269, 266, 262, 257, 251, 244, 236, 227, 217, 206, 194]\n",
      "Stitching 1 and 2 at ('A', 'B') from [181, 180, 178, 175, 171, 166, 160, 153, 145, 136, 126, 115, 103] to [272, 271, 269, 266, 262, 257, 251, 244, 236, 227, 217, 206, 194]\n",
      "Stitching 0 and 3 at ('A', 'C') from [90, 88, 85, 81, 76, 70, 63, 55, 46, 36, 25, 13, 0] to [363, 362, 360, 357, 353, 348, 342, 335, 327, 318, 308, 297, 285]\n",
      "Stitching 0 and 4 at ('A', 'C') from [90, 88, 85, 81, 76, 70, 63, 55, 46, 36, 25, 13, 0] to [454, 453, 451, 448, 444, 439, 433, 426, 418, 409, 399, 388, 376]\n",
      "Stitching 3 and 4 at ('A', 'C') from [363, 362, 360, 357, 353, 348, 342, 335, 327, 318, 308, 297, 285] to [454, 453, 451, 448, 444, 439, 433, 426, 418, 409, 399, 388, 376]\n",
      "Stitching 0 and 6 at ('B', 'C') from [12, 11, 10, 9, 8, 7, 6, 5, 4, 3, 2, 1, 0] to [636, 635, 633, 630, 626, 621, 615, 608, 600, 591, 581, 570, 558]\n",
      "Stitching 0 and 7 at ('B', 'C') from [12, 11, 10, 9, 8, 7, 6, 5, 4, 3, 2, 1, 0] to [727, 726, 724, 721, 717, 712, 706, 699, 691, 682, 672, 661, 649]\n",
      "Stitching 6 and 7 at ('B', 'C') from [636, 635, 633, 630, 626, 621, 615, 608, 600, 591, 581, 570, 558] to [727, 726, 724, 721, 717, 712, 706, 699, 691, 682, 672, 661, 649]\n",
      "Stitching 1 and 3 at ('A', 'D') from [181, 179, 176, 172, 167, 161, 154, 146, 137, 127, 116, 104, 91] to [363, 361, 358, 354, 349, 343, 336, 328, 319, 309, 298, 286, 273]\n",
      "Stitching 1 and 5 at ('A', 'D') from [181, 179, 176, 172, 167, 161, 154, 146, 137, 127, 116, 104, 91] to [545, 544, 542, 539, 535, 530, 524, 517, 509, 500, 490, 479, 467]\n"
     ]
    },
    {
     "name": "stdout",
     "output_type": "stream",
     "text": [
      "Stitching 3 and 5 at ('A', 'D') from [363, 361, 358, 354, 349, 343, 336, 328, 319, 309, 298, 286, 273] to [545, 544, 542, 539, 535, 530, 524, 517, 509, 500, 490, 479, 467]\n",
      "Stitching 1 and 6 at ('B', 'D') from [103, 102, 101, 100, 99, 98, 97, 96, 95, 94, 93, 92, 91] to [636, 634, 631, 627, 622, 616, 609, 601, 592, 582, 571, 559, 546]\n",
      "Stitching 1 and 8 at ('B', 'D') from [103, 102, 101, 100, 99, 98, 97, 96, 95, 94, 93, 92, 91] to [818, 817, 815, 812, 808, 803, 797, 790, 782, 773, 763, 752, 740]\n",
      "Stitching 6 and 8 at ('B', 'D') from [636, 634, 631, 627, 622, 616, 609, 601, 592, 582, 571, 559, 546] to [818, 817, 815, 812, 808, 803, 797, 790, 782, 773, 763, 752, 740]\n",
      "Stitching 2 and 4 at ('A', 'E') from [272, 270, 267, 263, 258, 252, 245, 237, 228, 218, 207, 195, 182] to [454, 452, 449, 445, 440, 434, 427, 419, 410, 400, 389, 377, 364]\n",
      "Stitching 2 and 5 at ('A', 'E') from [272, 270, 267, 263, 258, 252, 245, 237, 228, 218, 207, 195, 182] to [545, 543, 540, 536, 531, 525, 518, 510, 501, 491, 480, 468, 455]\n",
      "Stitching 4 and 5 at ('A', 'E') from [454, 452, 449, 445, 440, 434, 427, 419, 410, 400, 389, 377, 364] to [545, 543, 540, 536, 531, 525, 518, 510, 501, 491, 480, 468, 455]\n",
      "Stitching 2 and 7 at ('B', 'E') from [194, 193, 192, 191, 190, 189, 188, 187, 186, 185, 184, 183, 182] to [727, 725, 722, 718, 713, 707, 700, 692, 683, 673, 662, 650, 637]\n",
      "Stitching 2 and 8 at ('B', 'E') from [194, 193, 192, 191, 190, 189, 188, 187, 186, 185, 184, 183, 182] to [818, 816, 813, 809, 804, 798, 791, 783, 774, 764, 753, 741, 728]\n",
      "Stitching 7 and 8 at ('B', 'E') from [727, 725, 722, 718, 713, 707, 700, 692, 683, 673, 662, 650, 637] to [818, 816, 813, 809, 804, 798, 791, 783, 774, 764, 753, 741, 728]\n",
      "Stitching 3 and 6 at ('C', 'D') from [285, 284, 283, 282, 281, 280, 279, 278, 277, 276, 275, 274, 273] to [558, 557, 556, 555, 554, 553, 552, 551, 550, 549, 548, 547, 546]\n",
      "Stitching 3 and 9 at ('C', 'D') from [285, 284, 283, 282, 281, 280, 279, 278, 277, 276, 275, 274, 273] to [909, 908, 906, 903, 899, 894, 888, 881, 873, 864, 854, 843, 831]\n",
      "Stitching 6 and 9 at ('C', 'D') from [558, 557, 556, 555, 554, 553, 552, 551, 550, 549, 548, 547, 546] to [909, 908, 906, 903, 899, 894, 888, 881, 873, 864, 854, 843, 831]\n",
      "Stitching 4 and 7 at ('C', 'E') from [376, 375, 374, 373, 372, 371, 370, 369, 368, 367, 366, 365, 364] to [649, 648, 647, 646, 645, 644, 643, 642, 641, 640, 639, 638, 637]\n",
      "Stitching 4 and 9 at ('C', 'E') from [376, 375, 374, 373, 372, 371, 370, 369, 368, 367, 366, 365, 364] to [909, 907, 904, 900, 895, 889, 882, 874, 865, 855, 844, 832, 819]\n",
      "Stitching 7 and 9 at ('C', 'E') from [649, 648, 647, 646, 645, 644, 643, 642, 641, 640, 639, 638, 637] to [909, 907, 904, 900, 895, 889, 882, 874, 865, 855, 844, 832, 819]\n",
      "Stitching 5 and 8 at ('D', 'E') from [467, 466, 465, 464, 463, 462, 461, 460, 459, 458, 457, 456, 455] to [740, 739, 738, 737, 736, 735, 734, 733, 732, 731, 730, 729, 728]\n",
      "Stitching 5 and 9 at ('D', 'E') from [467, 466, 465, 464, 463, 462, 461, 460, 459, 458, 457, 456, 455] to [831, 830, 829, 828, 827, 826, 825, 824, 823, 822, 821, 820, 819]\n",
      "Stitching 8 and 9 at ('D', 'E') from [740, 739, 738, 737, 736, 735, 734, 733, 732, 731, 730, 729, 728] to [831, 830, 829, 828, 827, 826, 825, 824, 823, 822, 821, 820, 819]\n"
     ]
    }
   ],
   "source": [
    "for stitchingBinary, ternaryPairList in stitchingBinaries.items():\n",
    "    for ternaryPair in ternaryPairList:\n",
    "        ternary1, ternary2 = ternaryPair[0], ternaryPair[1]\n",
    "        stitching1 = stitching.findStitchingPoints_py(\n",
    "            3, 12, \n",
    "            components=ternaries[ternary1],\n",
    "            offset=ternary1*len(gridAtt)\n",
    "            )[\"-\".join(stitchingBinary)]\n",
    "        stitching2 = stitching.findStitchingPoints_py(\n",
    "            3, 12, \n",
    "            components=ternaries[ternary2],\n",
    "            offset=ternary2*len(gridAtt)\n",
    "            )[\"-\".join(stitchingBinary)]\n",
    "        print(f\"Stitching {ternary1} and {ternary2} at {stitchingBinary} from {stitching1} to {stitching2}\")\n",
    "        for i, j in zip(stitching1, stitching2):\n",
    "            edges.append((i, j))"
   ]
  },
  {
   "cell_type": "code",
   "execution_count": 36,
   "id": "69d51742",
   "metadata": {
    "execution": {
     "iopub.execute_input": "2025-01-27T00:18:15.982087Z",
     "iopub.status.busy": "2025-01-27T00:18:15.981884Z",
     "iopub.status.idle": "2025-01-27T00:18:15.984241Z",
     "shell.execute_reply": "2025-01-27T00:18:15.983933Z"
    },
    "papermill": {
     "duration": 0.013171,
     "end_time": "2025-01-27T00:18:15.984829",
     "exception": false,
     "start_time": "2025-01-27T00:18:15.971658",
     "status": "completed"
    },
    "tags": []
   },
   "outputs": [],
   "source": [
    "#plotGraph(edges)\n",
    "clear_output()"
   ]
  },
  {
   "cell_type": "markdown",
   "id": "255450e3",
   "metadata": {
    "papermill": {
     "duration": 0.00988,
     "end_time": "2025-01-27T00:18:16.004655",
     "exception": false,
     "start_time": "2025-01-27T00:18:15.994775",
     "status": "completed"
    },
    "tags": []
   },
   "source": [
    "## Exploring Complex Formed by All 3-Component Alloy Subsystems of 5-Component Space (w. Infeasibility Gliding) #THIS ONE ADAM"
   ]
  },
  {
   "cell_type": "code",
   "execution_count": 37,
   "id": "82256112",
   "metadata": {
    "execution": {
     "iopub.execute_input": "2025-01-27T00:18:16.025016Z",
     "iopub.status.busy": "2025-01-27T00:18:16.024776Z",
     "iopub.status.idle": "2025-01-27T00:18:16.028714Z",
     "shell.execute_reply": "2025-01-27T00:18:16.028372Z"
    },
    "papermill": {
     "duration": 0.014746,
     "end_time": "2025-01-27T00:18:16.029305",
     "exception": false,
     "start_time": "2025-01-27T00:18:16.014559",
     "status": "completed"
    },
    "tags": []
   },
   "outputs": [
    {
     "name": "stdout",
     "output_type": "stream",
     "text": [
      "('Cr', 'Fe', 'Ni')                       -> ([1, 0, 0, 0, 0], [0, 1, 0, 0, 0], [0, 0, 1, 0, 0])\n",
      "('Cr', 'Fe', 'Ti')                       -> ([1, 0, 0, 0, 0], [0, 1, 0, 0, 0], [0, 0, 0, 1, 0])\n",
      "('Cr', 'Fe', 'V')                        -> ([1, 0, 0, 0, 0], [0, 1, 0, 0, 0], [0, 0, 0, 0, 1])\n",
      "('Cr', 'Ni', 'Ti')                       -> ([1, 0, 0, 0, 0], [0, 0, 1, 0, 0], [0, 0, 0, 1, 0])\n",
      "('Cr', 'Ni', 'V')                        -> ([1, 0, 0, 0, 0], [0, 0, 1, 0, 0], [0, 0, 0, 0, 1])\n",
      "('Cr', 'Ti', 'V')                        -> ([1, 0, 0, 0, 0], [0, 0, 0, 1, 0], [0, 0, 0, 0, 1])\n",
      "('Fe', 'Ni', 'Ti')                       -> ([0, 1, 0, 0, 0], [0, 0, 1, 0, 0], [0, 0, 0, 1, 0])\n",
      "('Fe', 'Ni', 'V')                        -> ([0, 1, 0, 0, 0], [0, 0, 1, 0, 0], [0, 0, 0, 0, 1])\n",
      "('Fe', 'Ti', 'V')                        -> ([0, 1, 0, 0, 0], [0, 0, 0, 1, 0], [0, 0, 0, 0, 1])\n",
      "('Ni', 'Ti', 'V')                        -> ([0, 0, 1, 0, 0], [0, 0, 0, 1, 0], [0, 0, 0, 0, 1])\n"
     ]
    }
   ],
   "source": [
    "elementalSpaceComponents = [\"Cr\",\"Fe\",\"Ni\",\"Ti\",\"V\"]\n",
    "#attainableSpaceComponents = [\"SS304L\", \"Ni\", \"Cr\", \"V\", \"Ti\"]\n",
    "attainableSpaceComponents = [\"Cr\", \"Fe\", \"Ni\", \"Ti\", \"V\"]\n",
    "attainableSpaceComponentPositions = [\n",
    "    #\"Cr\",\"Fe\",\"Ni\",\"Ti\",\"V\"\n",
    "    #[0.1993865031, 0.7044989775,0.096114519430,0,0],\n",
    "    [1,0,0,0,0],\n",
    "    [0,1,0,0,0],\n",
    "    [0,0,1,0,0],\n",
    "    [0,0,0,1,0],\n",
    "    [0,0,0,0,1]\n",
    "]    \n",
    "ternaries = list(combinations(attainableSpaceComponents, 3))\n",
    "ternaries_CompPos = list(combinations(attainableSpaceComponentPositions, 3))\n",
    "ndiv = 8\n",
    "gridAtt, nList = nimplex.simplex_graph_py(3, ndiv)\n",
    "\n",
    "for tern, terncp in zip(ternaries, ternaries_CompPos):\n",
    "    print(f\"{str(tern):<40} -> {terncp}\")"
   ]
  },
  {
   "cell_type": "code",
   "execution_count": null,
   "id": "8d101357",
   "metadata": {
    "papermill": {
     "duration": 0.009818,
     "end_time": "2025-01-27T00:18:16.049193",
     "exception": false,
     "start_time": "2025-01-27T00:18:16.039375",
     "status": "completed"
    },
    "tags": []
   },
   "outputs": [],
   "source": []
  },
  {
   "cell_type": "code",
   "execution_count": 38,
   "id": "4628dc53",
   "metadata": {
    "execution": {
     "iopub.execute_input": "2025-01-27T00:18:16.069672Z",
     "iopub.status.busy": "2025-01-27T00:18:16.069403Z",
     "iopub.status.idle": "2025-01-27T00:18:16.074437Z",
     "shell.execute_reply": "2025-01-27T00:18:16.074113Z"
    },
    "papermill": {
     "duration": 0.015857,
     "end_time": "2025-01-27T00:18:16.075038",
     "exception": false,
     "start_time": "2025-01-27T00:18:16.059181",
     "status": "completed"
    },
    "tags": []
   },
   "outputs": [],
   "source": [
    "# Edges list for graph plotting and path finding purposes\n",
    "edges = []\n",
    "# Connectivity list within each subsystem\n",
    "graphN = [[] for i in range(len(gridAtt * len(ternaries)))]\n",
    "# Connectivity list between subsystems\n",
    "graphNS = [[] for i in range(len(graphN))]\n",
    "compositions = []\n",
    "compositions_with_id = []  # List to store compositions with their identifiers\n",
    "ternaries_with_id = []  # New list to store ternaries_CompPos with their identifiers\n",
    "\n",
    "# Iterate over ternaries\n",
    "for i, terncp in enumerate(ternaries_CompPos):\n",
    "    ternaries_with_id.append((terncp, i))  # Add terncp and its id to the new list\n",
    "    \n",
    "    offset = i*len(gridAtt)\n",
    "    for j in range(len(gridAtt)):\n",
    "        for n in nList[j]:\n",
    "            edges.append((j+offset,n+offset))\n",
    "            graphN[j+offset].append(n+offset)\n",
    "    gridAttTemp, gridElTemp = nimplex.embeddedpair_simplex_grid_fractional_py(terncp, ndiv)\n",
    "    compositions += gridElTemp\n",
    "    \n",
    "    # Attach identifier to each composition\n",
    "    compositions_with_id.extend([(comp, i) for comp in gridElTemp])"
   ]
  },
  {
   "cell_type": "code",
   "execution_count": 39,
   "id": "6020de01",
   "metadata": {
    "execution": {
     "iopub.execute_input": "2025-01-27T00:18:16.095551Z",
     "iopub.status.busy": "2025-01-27T00:18:16.095282Z",
     "iopub.status.idle": "2025-01-27T00:18:16.098291Z",
     "shell.execute_reply": "2025-01-27T00:18:16.097968Z"
    },
    "papermill": {
     "duration": 0.013805,
     "end_time": "2025-01-27T00:18:16.098885",
     "exception": false,
     "start_time": "2025-01-27T00:18:16.085080",
     "status": "completed"
    },
    "tags": []
   },
   "outputs": [
    {
     "name": "stdout",
     "output_type": "stream",
     "text": [
      "Ternary composition position ([1, 0, 0, 0, 0], [0, 1, 0, 0, 0], [0, 0, 1, 0, 0]) has id 0\n",
      "Ternary composition position ([1, 0, 0, 0, 0], [0, 1, 0, 0, 0], [0, 0, 0, 1, 0]) has id 1\n",
      "Ternary composition position ([1, 0, 0, 0, 0], [0, 1, 0, 0, 0], [0, 0, 0, 0, 1]) has id 2\n",
      "Ternary composition position ([1, 0, 0, 0, 0], [0, 0, 1, 0, 0], [0, 0, 0, 1, 0]) has id 3\n",
      "Ternary composition position ([1, 0, 0, 0, 0], [0, 0, 1, 0, 0], [0, 0, 0, 0, 1]) has id 4\n",
      "Ternary composition position ([1, 0, 0, 0, 0], [0, 0, 0, 1, 0], [0, 0, 0, 0, 1]) has id 5\n",
      "Ternary composition position ([0, 1, 0, 0, 0], [0, 0, 1, 0, 0], [0, 0, 0, 1, 0]) has id 6\n",
      "Ternary composition position ([0, 1, 0, 0, 0], [0, 0, 1, 0, 0], [0, 0, 0, 0, 1]) has id 7\n",
      "Ternary composition position ([0, 1, 0, 0, 0], [0, 0, 0, 1, 0], [0, 0, 0, 0, 1]) has id 8\n",
      "Ternary composition position ([0, 0, 1, 0, 0], [0, 0, 0, 1, 0], [0, 0, 0, 0, 1]) has id 9\n"
     ]
    }
   ],
   "source": [
    "# Example: Access ternaries_CompPos with their identifiers\n",
    "for terncp, ternary_id in ternaries_with_id:\n",
    "    print(f\"Ternary composition position {terncp} has id {ternary_id}\")"
   ]
  },
  {
   "cell_type": "code",
   "execution_count": 40,
   "id": "bc0463cd",
   "metadata": {
    "execution": {
     "iopub.execute_input": "2025-01-27T00:18:16.119775Z",
     "iopub.status.busy": "2025-01-27T00:18:16.119479Z",
     "iopub.status.idle": "2025-01-27T00:18:16.122143Z",
     "shell.execute_reply": "2025-01-27T00:18:16.121811Z"
    },
    "papermill": {
     "duration": 0.013643,
     "end_time": "2025-01-27T00:18:16.122726",
     "exception": false,
     "start_time": "2025-01-27T00:18:16.109083",
     "status": "completed"
    },
    "tags": []
   },
   "outputs": [],
   "source": [
    "mapping = {}\n",
    "for ternary, id in ternaries_with_id:\n",
    "    composition_key = ''.join(elementalSpaceComponents[i] for i in range(len(elementalSpaceComponents)) if any(ternary[j][i] for j in range(len(ternary))))\n",
    "    mapping[composition_key] = id"
   ]
  },
  {
   "cell_type": "code",
   "execution_count": 41,
   "id": "a23c9734",
   "metadata": {
    "execution": {
     "iopub.execute_input": "2025-01-27T00:18:16.143578Z",
     "iopub.status.busy": "2025-01-27T00:18:16.143335Z",
     "iopub.status.idle": "2025-01-27T00:18:16.147210Z",
     "shell.execute_reply": "2025-01-27T00:18:16.146878Z"
    },
    "papermill": {
     "duration": 0.015008,
     "end_time": "2025-01-27T00:18:16.147827",
     "exception": false,
     "start_time": "2025-01-27T00:18:16.132819",
     "status": "completed"
    },
    "tags": []
   },
   "outputs": [
    {
     "name": "stdout",
     "output_type": "stream",
     "text": [
      "Combination: CrFeNi, ID: 0, Elements: ['Cr', 'Fe', 'Ni']\n",
      "Combination: CrFeTi, ID: 1, Elements: ['Cr', 'Fe', 'Ti']\n",
      "Combination: CrFeV, ID: 2, Elements: ['Cr', 'Fe', 'V']\n",
      "Combination: CrNiTi, ID: 3, Elements: ['Cr', 'Ni', 'Ti']\n",
      "Combination: CrNiV, ID: 4, Elements: ['Cr', 'Ni', 'V']\n",
      "Combination: CrTiV, ID: 5, Elements: ['Cr', 'Ti', 'V']\n",
      "Combination: FeNiTi, ID: 6, Elements: ['Fe', 'Ni', 'Ti']\n",
      "Combination: FeNiV, ID: 7, Elements: ['Fe', 'Ni', 'V']\n",
      "Combination: FeTiV, ID: 8, Elements: ['Fe', 'Ti', 'V']\n",
      "Combination: NiTiV, ID: 9, Elements: ['Ni', 'Ti', 'V']\n"
     ]
    }
   ],
   "source": [
    "mapping = {}\n",
    "for ternary, id in ternaries_with_id:\n",
    "    composition_key = ''.join(elementalSpaceComponents[i] for i in range(len(elementalSpaceComponents)) if any(ternary[j][i] for j in range(len(ternary))))\n",
    "    individual_elements = [elementalSpaceComponents[i] for i in range(len(elementalSpaceComponents)) if any(ternary[j][i] for j in range(len(ternary)))]\n",
    "    mapping[composition_key] = {\n",
    "        'id': id,\n",
    "        'elements': individual_elements\n",
    "    }\n",
    "\n",
    "# Print the mapping to see the result\n",
    "for key, value in mapping.items():\n",
    "    print(f\"Combination: {key}, ID: {value['id']}, Elements: {value['elements']}\")"
   ]
  },
  {
   "cell_type": "code",
   "execution_count": 42,
   "id": "ef8b4b56",
   "metadata": {
    "execution": {
     "iopub.execute_input": "2025-01-27T00:18:16.168656Z",
     "iopub.status.busy": "2025-01-27T00:18:16.168445Z",
     "iopub.status.idle": "2025-01-27T00:18:16.171916Z",
     "shell.execute_reply": "2025-01-27T00:18:16.171576Z"
    },
    "papermill": {
     "duration": 0.014516,
     "end_time": "2025-01-27T00:18:16.172485",
     "exception": false,
     "start_time": "2025-01-27T00:18:16.157969",
     "status": "completed"
    },
    "tags": []
   },
   "outputs": [
    {
     "data": {
      "text/plain": [
       "{'CrFeNi': {'id': 0, 'elements': ['Cr', 'Fe', 'Ni']},\n",
       " 'CrFeTi': {'id': 1, 'elements': ['Cr', 'Fe', 'Ti']},\n",
       " 'CrFeV': {'id': 2, 'elements': ['Cr', 'Fe', 'V']},\n",
       " 'CrNiTi': {'id': 3, 'elements': ['Cr', 'Ni', 'Ti']},\n",
       " 'CrNiV': {'id': 4, 'elements': ['Cr', 'Ni', 'V']},\n",
       " 'CrTiV': {'id': 5, 'elements': ['Cr', 'Ti', 'V']},\n",
       " 'FeNiTi': {'id': 6, 'elements': ['Fe', 'Ni', 'Ti']},\n",
       " 'FeNiV': {'id': 7, 'elements': ['Fe', 'Ni', 'V']},\n",
       " 'FeTiV': {'id': 8, 'elements': ['Fe', 'Ti', 'V']},\n",
       " 'NiTiV': {'id': 9, 'elements': ['Ni', 'Ti', 'V']}}"
      ]
     },
     "execution_count": 42,
     "metadata": {},
     "output_type": "execute_result"
    }
   ],
   "source": [
    "mapping"
   ]
  },
  {
   "cell_type": "code",
   "execution_count": 43,
   "id": "39b0ddde",
   "metadata": {
    "execution": {
     "iopub.execute_input": "2025-01-27T00:18:16.193713Z",
     "iopub.status.busy": "2025-01-27T00:18:16.193463Z",
     "iopub.status.idle": "2025-01-27T00:18:16.195664Z",
     "shell.execute_reply": "2025-01-27T00:18:16.195334Z"
    },
    "papermill": {
     "duration": 0.013432,
     "end_time": "2025-01-27T00:18:16.196262",
     "exception": false,
     "start_time": "2025-01-27T00:18:16.182830",
     "status": "completed"
    },
    "tags": []
   },
   "outputs": [],
   "source": [
    "# def find_duplicates(lst):\n",
    "#     duplicates_counts = {}\n",
    "#     for item in lst:\n",
    "#         # Use the string representation for complex/unhashable types\n",
    "#         item_str = str(item)\n",
    "#         if item_str in duplicates_counts:\n",
    "#             duplicates_counts[item_str] += 1\n",
    "#         else:\n",
    "#             duplicates_counts[item_str] = 1\n",
    "\n",
    "#     # Filter out items that only appear once\n",
    "#     duplicates = {item: count for item, count in duplicates_counts.items() if count > 1}\n",
    "    \n",
    "#     if not duplicates:\n",
    "#         return \"No duplicates found in the list.\"\n",
    "#     else:\n",
    "#         result = \"Duplicates found:\"\n",
    "#         for item, count in duplicates.items():\n",
    "#             result += f\"{item} appears {count} times\"\n",
    "#         return result.strip()"
   ]
  },
  {
   "cell_type": "code",
   "execution_count": 44,
   "id": "8f99c24a",
   "metadata": {
    "execution": {
     "iopub.execute_input": "2025-01-27T00:18:16.217212Z",
     "iopub.status.busy": "2025-01-27T00:18:16.216970Z",
     "iopub.status.idle": "2025-01-27T00:18:16.218906Z",
     "shell.execute_reply": "2025-01-27T00:18:16.218580Z"
    },
    "papermill": {
     "duration": 0.012944,
     "end_time": "2025-01-27T00:18:16.219461",
     "exception": false,
     "start_time": "2025-01-27T00:18:16.206517",
     "status": "completed"
    },
    "tags": []
   },
   "outputs": [],
   "source": [
    "# find_duplicates(compositions)"
   ]
  },
  {
   "cell_type": "code",
   "execution_count": 45,
   "id": "7f2efdc3",
   "metadata": {
    "execution": {
     "iopub.execute_input": "2025-01-27T00:18:16.240513Z",
     "iopub.status.busy": "2025-01-27T00:18:16.240325Z",
     "iopub.status.idle": "2025-01-27T00:18:16.243842Z",
     "shell.execute_reply": "2025-01-27T00:18:16.243509Z"
    },
    "papermill": {
     "duration": 0.014645,
     "end_time": "2025-01-27T00:18:16.244425",
     "exception": false,
     "start_time": "2025-01-27T00:18:16.229780",
     "status": "completed"
    },
    "tags": []
   },
   "outputs": [
    {
     "name": "stdout",
     "output_type": "stream",
     "text": [
      "('Cr', 'Fe'): occurs between ternary [(0, 1), (0, 2), (1, 2)]\n",
      "('Cr', 'Ni'): occurs between ternary [(0, 3), (0, 4), (3, 4)]\n",
      "('Fe', 'Ni'): occurs between ternary [(0, 6), (0, 7), (6, 7)]\n",
      "('Cr', 'Ti'): occurs between ternary [(1, 3), (1, 5), (3, 5)]\n",
      "('Fe', 'Ti'): occurs between ternary [(1, 6), (1, 8), (6, 8)]\n",
      "('Cr', 'V'): occurs between ternary [(2, 4), (2, 5), (4, 5)]\n",
      "('Fe', 'V'): occurs between ternary [(2, 7), (2, 8), (7, 8)]\n",
      "('Ni', 'Ti'): occurs between ternary [(3, 6), (3, 9), (6, 9)]\n",
      "('Ni', 'V'): occurs between ternary [(4, 7), (4, 9), (7, 9)]\n",
      "('Ti', 'V'): occurs between ternary [(5, 8), (5, 9), (8, 9)]\n"
     ]
    }
   ],
   "source": [
    "stitchingBinaries = {}\n",
    "\n",
    "for i, combo1 in enumerate(ternaries):\n",
    "    for j, combo2 in enumerate(ternaries[i+1:], start=i+1):\n",
    "        common = set(combo1) & set(combo2)\n",
    "        if len(common) == 2:\n",
    "            overlap = tuple(sorted(common))\n",
    "            if overlap not in stitchingBinaries:\n",
    "                stitchingBinaries[overlap] = []\n",
    "            stitchingBinaries[overlap].append((i, j))\n",
    "\n",
    "for overlap, pairs in stitchingBinaries.items():\n",
    "    print(f\"{overlap}: occurs between ternary {pairs}\")"
   ]
  },
  {
   "cell_type": "code",
   "execution_count": 46,
   "id": "0ac9810f",
   "metadata": {
    "execution": {
     "iopub.execute_input": "2025-01-27T00:18:16.265696Z",
     "iopub.status.busy": "2025-01-27T00:18:16.265441Z",
     "iopub.status.idle": "2025-01-27T00:18:16.300213Z",
     "shell.execute_reply": "2025-01-27T00:18:16.299909Z"
    },
    "papermill": {
     "duration": 0.045862,
     "end_time": "2025-01-27T00:18:16.300791",
     "exception": false,
     "start_time": "2025-01-27T00:18:16.254929",
     "status": "completed"
    },
    "tags": []
   },
   "outputs": [
    {
     "name": "stdout",
     "output_type": "stream",
     "text": [
      "Stitching 0 and 1 at ('Cr', 'Fe') from [44, 43, 41, 38, 34, 29, 23, 16, 8] to [89, 88, 86, 83, 79, 74, 68, 61, 53]\n",
      "Stitching 0 and 2 at ('Cr', 'Fe') from [44, 43, 41, 38, 34, 29, 23, 16, 8] to [134, 133, 131, 128, 124, 119, 113, 106, 98]\n",
      "Stitching 1 and 2 at ('Cr', 'Fe') from [89, 88, 86, 83, 79, 74, 68, 61, 53] to [134, 133, 131, 128, 124, 119, 113, 106, 98]\n",
      "Stitching 0 and 3 at ('Cr', 'Ni') from [44, 42, 39, 35, 30, 24, 17, 9, 0] to [179, 178, 176, 173, 169, 164, 158, 151, 143]\n",
      "Stitching 0 and 4 at ('Cr', 'Ni') from [44, 42, 39, 35, 30, 24, 17, 9, 0] to [224, 223, 221, 218, 214, 209, 203, 196, 188]\n",
      "Stitching 3 and 4 at ('Cr', 'Ni') from [179, 178, 176, 173, 169, 164, 158, 151, 143] to [224, 223, 221, 218, 214, 209, 203, 196, 188]\n",
      "Stitching 0 and 6 at ('Fe', 'Ni') from [8, 7, 6, 5, 4, 3, 2, 1, 0] to [314, 313, 311, 308, 304, 299, 293, 286, 278]\n",
      "Stitching 0 and 7 at ('Fe', 'Ni') from [8, 7, 6, 5, 4, 3, 2, 1, 0] to [359, 358, 356, 353, 349, 344, 338, 331, 323]\n",
      "Stitching 6 and 7 at ('Fe', 'Ni') from [314, 313, 311, 308, 304, 299, 293, 286, 278] to [359, 358, 356, 353, 349, 344, 338, 331, 323]\n",
      "Stitching 1 and 3 at ('Cr', 'Ti') from [89, 87, 84, 80, 75, 69, 62, 54, 45] to [179, 177, 174, 170, 165, 159, 152, 144, 135]\n",
      "Stitching 1 and 5 at ('Cr', 'Ti') from [89, 87, 84, 80, 75, 69, 62, 54, 45] to [269, 268, 266, 263, 259, 254, 248, 241, 233]\n",
      "Stitching 3 and 5 at ('Cr', 'Ti') from [179, 177, 174, 170, 165, 159, 152, 144, 135] to [269, 268, 266, 263, 259, 254, 248, 241, 233]\n",
      "Stitching 1 and 6 at ('Fe', 'Ti') from [53, 52, 51, 50, 49, 48, 47, 46, 45] to [314, 312, 309, 305, 300, 294, 287, 279, 270]\n",
      "Stitching 1 and 8 at ('Fe', 'Ti') from [53, 52, 51, 50, 49, 48, 47, 46, 45] to [404, 403, 401, 398, 394, 389, 383, 376, 368]\n",
      "Stitching 6 and 8 at ('Fe', 'Ti') from [314, 312, 309, 305, 300, 294, 287, 279, 270] to [404, 403, 401, 398, 394, 389, 383, 376, 368]\n",
      "Stitching 2 and 4 at ('Cr', 'V') from [134, 132, 129, 125, 120, 114, 107, 99, 90] to [224, 222, 219, 215, 210, 204, 197, 189, 180]\n",
      "Stitching 2 and 5 at ('Cr', 'V') from [134, 132, 129, 125, 120, 114, 107, 99, 90] to [269, 267, 264, 260, 255, 249, 242, 234, 225]\n",
      "Stitching 4 and 5 at ('Cr', 'V') from [224, 222, 219, 215, 210, 204, 197, 189, 180] to [269, 267, 264, 260, 255, 249, 242, 234, 225]\n",
      "Stitching 2 and 7 at ('Fe', 'V') from [98, 97, 96, 95, 94, 93, 92, 91, 90] to [359, 357, 354, 350, 345, 339, 332, 324, 315]\n",
      "Stitching 2 and 8 at ('Fe', 'V') from [98, 97, 96, 95, 94, 93, 92, 91, 90] to [404, 402, 399, 395, 390, 384, 377, 369, 360]\n",
      "Stitching 7 and 8 at ('Fe', 'V') from [359, 357, 354, 350, 345, 339, 332, 324, 315] to [404, 402, 399, 395, 390, 384, 377, 369, 360]\n",
      "Stitching 3 and 6 at ('Ni', 'Ti') from [143, 142, 141, 140, 139, 138, 137, 136, 135] to [278, 277, 276, 275, 274, 273, 272, 271, 270]\n",
      "Stitching 3 and 9 at ('Ni', 'Ti') from [143, 142, 141, 140, 139, 138, 137, 136, 135] to [449, 448, 446, 443, 439, 434, 428, 421, 413]\n",
      "Stitching 6 and 9 at ('Ni', 'Ti') from [278, 277, 276, 275, 274, 273, 272, 271, 270] to [449, 448, 446, 443, 439, 434, 428, 421, 413]\n",
      "Stitching 4 and 7 at ('Ni', 'V') from [188, 187, 186, 185, 184, 183, 182, 181, 180] to [323, 322, 321, 320, 319, 318, 317, 316, 315]\n",
      "Stitching 4 and 9 at ('Ni', 'V') from [188, 187, 186, 185, 184, 183, 182, 181, 180] to [449, 447, 444, 440, 435, 429, 422, 414, 405]\n",
      "Stitching 7 and 9 at ('Ni', 'V') from [323, 322, 321, 320, 319, 318, 317, 316, 315] to [449, 447, 444, 440, 435, 429, 422, 414, 405]\n",
      "Stitching 5 and 8 at ('Ti', 'V') from [233, 232, 231, 230, 229, 228, 227, 226, 225] to [368, 367, 366, 365, 364, 363, 362, 361, 360]\n",
      "Stitching 5 and 9 at ('Ti', 'V') from [233, 232, 231, 230, 229, 228, 227, 226, 225] to [413, 412, 411, 410, 409, 408, 407, 406, 405]\n",
      "Stitching 8 and 9 at ('Ti', 'V') from [368, 367, 366, 365, 364, 363, 362, 361, 360] to [413, 412, 411, 410, 409, 408, 407, 406, 405]\n"
     ]
    }
   ],
   "source": [
    "for stitchingBinary, ternaryPairList in stitchingBinaries.items():\n",
    "    for ternaryPair in ternaryPairList:\n",
    "        ternary1, ternary2 = ternaryPair[0], ternaryPair[1]\n",
    "        stitching1 = stitching.findStitchingPoints_py(\n",
    "            3, ndiv, \n",
    "            components=ternaries[ternary1],\n",
    "            offset=ternary1*len(gridAtt)\n",
    "            )[\"-\".join(stitchingBinary)]\n",
    "        stitching2 = stitching.findStitchingPoints_py(\n",
    "            3, ndiv, \n",
    "            components=ternaries[ternary2],\n",
    "            offset=ternary2*len(gridAtt)\n",
    "            )[\"-\".join(stitchingBinary)]\n",
    "        print(f\"Stitching {ternary1} and {ternary2} at {stitchingBinary} from {stitching1} to {stitching2}\")\n",
    "        for i, j in zip(stitching1, stitching2):\n",
    "            edges.append((i, j))\n",
    "            graphNS[i].append(j)"
   ]
  },
  {
   "cell_type": "code",
   "execution_count": 47,
   "id": "f99ce879",
   "metadata": {
    "execution": {
     "iopub.execute_input": "2025-01-27T00:18:16.322222Z",
     "iopub.status.busy": "2025-01-27T00:18:16.321985Z",
     "iopub.status.idle": "2025-01-27T00:18:17.975818Z",
     "shell.execute_reply": "2025-01-27T00:18:17.975458Z"
    },
    "papermill": {
     "duration": 1.665182,
     "end_time": "2025-01-27T00:18:17.976475",
     "exception": false,
     "start_time": "2025-01-27T00:18:16.311293",
     "status": "completed"
    },
    "tags": []
   },
   "outputs": [
    {
     "name": "stdout",
     "output_type": "stream",
     "text": [
      "Unique phases for ammap/databases/Co-Cr-Fe-Ni-V_choi2019.TDB: ['M3V', 'SIGMA', 'HIGH_SIGMA', 'COV3', 'LIQUID', 'FCC_A1', 'L12_FCC', 'BCC_A2', 'NI2V', 'HCP_A3', 'B2_BCC', 'NI2V7']\n",
      "Unique phases for ammap/databases/Cr-Fe-Ti_wang2017.tdb: ['BCC_B2', 'C36', 'C14', 'LIQUID', 'FCC_A1', 'C15', 'SIGMA', 'BCC_A2', 'HCP_A3', 'TI5CR7FE17']\n",
      "Unique phases for ammap/databases/Cr-Fe-Ni_miettinen1999.tdb: ['LIQUID', 'FCC_A1', 'SIGMA', 'BCC_A2', 'HCP_A3']\n",
      "Unique phases for ammap/databases/Cr-Ni-Ti_huang2018.tdb: ['NI3TI', 'NITI2', 'NITI', 'LAVES_C15', 'LIQUID', 'LAVES_C36', 'FCC_A1', 'BCC_A2', 'HCP_A3', 'LAVES_C14']\n",
      "Unique phases for ammap/databases/Cr-Ti-V_ghosh2002.tdb: ['LAVES_C15', 'LIQUID', 'LAVES_C36', 'BCC_A2', 'HCP_A3', 'LAVES_C14']\n",
      "Unique phases for ammap/databases/Fe-Ni-Ti_dekeyzer2009.tdb: ['NI3TI', 'NITI2', 'C14', 'LIQUID', 'A1', 'A2', 'FCC4', 'A3', 'BCC2']\n",
      "Unique phases for ammap/databases/Fe-Ni-V_zhao2014.tdb: ['A15_NI2V7', 'D022_NI3V', 'LAVES_C15', 'FE4N', 'LIQUID', 'FCC_A1', 'HCP_A3', 'SIGMA', 'BCC_A2', 'NI2V', 'CUB_A13', 'LAVES_C14', 'CBCC_A12', 'A2_BCC']\n",
      "Unique phases for ammap/databases/Fe-Ti-V_guo2012.TDB: ['C14', 'B2', 'LIQUID', 'FCC_A1', 'SIGMA', 'BCC_A2', 'HCP_A3']\n",
      "Unique phases for ammap/databases/Ni-Ti-V_zou2018.tdb: ['BCT_A5', 'NI3TI', 'NI3V', 'NITI2', 'SIGMA', 'DIAMOND_A4', 'LAVES_C15', 'B2', 'LIQUID', 'FCC_A1', 'HCP_A3', 'NIV3', 'BCC_A2', 'NI2V', 'CUB_A13', 'LAVES_C14', 'CBCC_A12']\n"
     ]
    }
   ],
   "source": [
    "from pycalphad import Database\n",
    "\n",
    "# List of database file paths\n",
    "db_files = [\n",
    "    \"ammap/databases/Co-Cr-Fe-Ni-V_choi2019.TDB\",\n",
    "    \"ammap/databases/Cr-Fe-Ti_wang2017.tdb\",\n",
    "    \"ammap/databases/Cr-Fe-Ni_miettinen1999.tdb\",\n",
    "    \"ammap/databases/Cr-Ni-Ti_huang2018.tdb\",\n",
    "    \"ammap/databases/Cr-Ti-V_ghosh2002.tdb\",\n",
    "    \"ammap/databases/Fe-Ni-Ti_dekeyzer2009.tdb\",\n",
    "    \"ammap/databases/Fe-Ni-V_zhao2014.tdb\",\n",
    "    \"ammap/databases/Fe-Ti-V_guo2012.TDB\",\n",
    "    \"ammap/databases/Ni-Ti-V_zou2018.tdb\"\n",
    "]\n",
    "\n",
    "# Dictionary to store unique phases for each database\n",
    "unique_phases = {}\n",
    "\n",
    "# Iterate through each database file\n",
    "for db_file in db_files:\n",
    "    dbf = Database(db_file)\n",
    "    phases = list(set(dbf.phases.keys()))\n",
    "    unique_phases[db_file] = phases\n",
    "\n",
    "# Print unique phases for each database\n",
    "for db_file, phases in unique_phases.items():\n",
    "    print(f\"Unique phases for {db_file}: {phases}\")"
   ]
  },
  {
   "cell_type": "code",
   "execution_count": 48,
   "id": "6ad5b22f",
   "metadata": {
    "execution": {
     "iopub.execute_input": "2025-01-27T00:18:17.998999Z",
     "iopub.status.busy": "2025-01-27T00:18:17.998825Z",
     "iopub.status.idle": "2025-01-27T00:18:18.001617Z",
     "shell.execute_reply": "2025-01-27T00:18:18.001146Z"
    },
    "papermill": {
     "duration": 0.014391,
     "end_time": "2025-01-27T00:18:18.002233",
     "exception": false,
     "start_time": "2025-01-27T00:18:17.987842",
     "status": "completed"
    },
    "tags": []
   },
   "outputs": [
    {
     "name": "stdout",
     "output_type": "stream",
     "text": [
      "['Cr', 'Fe', 'Ni', 'Ti', 'V']\n",
      "Loaded TDB file with phases considered: ['BCT_A5', 'NI3TI', 'NI3V', 'NITI2', 'SIGMA', 'DIAMOND_A4', 'LAVES_C15', 'B2', 'LIQUID', 'FCC_A1', 'HCP_A3', 'NIV3', 'BCC_A2', 'NI2V', 'CUB_A13', 'LAVES_C14', 'CBCC_A12']\n"
     ]
    }
   ],
   "source": [
    "\n",
    "#dbf = Database(\"CrHfMoNbTaTiVWZr_9element_Feb2023.tdb\")\n",
    "phases = list(set(dbf.phases.keys()))\n",
    "print(elementalSpaceComponents)\n",
    "print(f'Loaded TDB file with phases considered: {phases}')\n",
    "#from myPycalphadCallable import equilibrium_callable"
   ]
  },
  {
   "cell_type": "code",
   "execution_count": 49,
   "id": "afaf2ab6",
   "metadata": {
    "execution": {
     "iopub.execute_input": "2025-01-27T00:18:18.024146Z",
     "iopub.status.busy": "2025-01-27T00:18:18.023857Z",
     "iopub.status.idle": "2025-01-27T00:18:33.639835Z",
     "shell.execute_reply": "2025-01-27T00:18:33.639210Z"
    },
    "papermill": {
     "duration": 15.627614,
     "end_time": "2025-01-27T00:18:33.640567",
     "exception": false,
     "start_time": "2025-01-27T00:18:18.012953",
     "status": "completed"
    },
    "tags": []
   },
   "outputs": [
    {
     "name": "stderr",
     "output_type": "stream",
     "text": [
      "/ocean/projects/dmr190011p/arichte1/micromamba/envs/v2ammap/lib/python3.11/site-packages/pycalphad/model.py:1278: UserWarning: The order-disorder model for \"FCC4\" has a contribution from the physical property model `magnetic_energy`. Partitioned physical properties are not correctly substituted into the disordered part of the energy. THE GIBBS ENERGY CALCULATED FOR THIS PHASE MAY BE INCORRECT. Please see the discussion in https://github.com/pycalphad/pycalphad/pull/311 for more details.\n",
      "  warnings.warn(\n"
     ]
    },
    {
     "name": "stdout",
     "output_type": "stream",
     "text": [
      "Imported equilibrium_callable_CrFeTi_08bbfb9a: <function equilibrium_callable at 0x15498f834220>\n",
      "Imported equilibrium_callable_CrFeV_ab1edb07: <function equilibrium_callable at 0x1549877f6a20>\n",
      "Imported equilibrium_callable_CrNiTi_a9f6f2ff: <function equilibrium_callable at 0x15498703be20>\n",
      "Imported equilibrium_callable_NiTiV_1d83c99c: <function equilibrium_callable at 0x1549870af740>\n",
      "Imported equilibrium_callable_NiCrV_b7aba9ab: <function equilibrium_callable at 0x1549876b13a0>\n",
      "Imported equilibrium_callable_NiCrFe_f434a6d9: <function equilibrium_callable at 0x1549867616c0>\n",
      "Imported equilibrium_callable_FeTiV_fa95b3ee: <function equilibrium_callable at 0x154986584220>\n",
      "Imported equilibrium_callable_FeNiV_b9b0384d: <function equilibrium_callable at 0x1549867a6b60>\n",
      "Imported equilibrium_callable_CrTiV_ed4c332b: <function equilibrium_callable at 0x154985f4f740>\n",
      "Imported equilibrium_callable_FeNiTi_06a49695: <function equilibrium_callable at 0x154985cc27a0>\n"
     ]
    }
   ],
   "source": [
    "import os\n",
    "import importlib\n",
    "\n",
    "# Directory containing the equilibrium files\n",
    "directory = \"ammap/callables/multi_system_equilibrium_and_scheil\"\n",
    "\n",
    "# Get all files starting with \"equilibrium\"\n",
    "equilibrium_files = [f for f in os.listdir(directory) if f.startswith(\"equilibrium\") and f.endswith(\".py\")]\n",
    "\n",
    "# Dictionary to store imported callables with unique names\n",
    "equilibrium_callables = {}\n",
    "\n",
    "# Import each equilibrium file and store the callable with a unique name\n",
    "for file in equilibrium_files:\n",
    "    module_name = file[:-3]  # Remove the .py extension\n",
    "    module_path = f\"ammap.callables.multi_system_equilibrium_and_scheil.{module_name}\"\n",
    "    module = importlib.import_module(module_path)\n",
    "    callable_name = f\"{module_name}\"\n",
    "    equilibrium_callables[callable_name] = getattr(module, \"equilibrium_callable\")\n",
    "\n",
    "# Print the imported callables\n",
    "for name, func in equilibrium_callables.items():\n",
    "    print(f\"Imported {name}: {func}\")"
   ]
  },
  {
   "cell_type": "code",
   "execution_count": 50,
   "id": "38c702cc",
   "metadata": {
    "execution": {
     "iopub.execute_input": "2025-01-27T00:18:33.664519Z",
     "iopub.status.busy": "2025-01-27T00:18:33.664246Z",
     "iopub.status.idle": "2025-01-27T00:18:45.303191Z",
     "shell.execute_reply": "2025-01-27T00:18:45.302677Z"
    },
    "papermill": {
     "duration": 11.6515,
     "end_time": "2025-01-27T00:18:45.303904",
     "exception": false,
     "start_time": "2025-01-27T00:18:33.652404",
     "status": "completed"
    },
    "tags": []
   },
   "outputs": [
    {
     "name": "stderr",
     "output_type": "stream",
     "text": [
      "/ocean/projects/dmr190011p/arichte1/micromamba/envs/v2ammap/lib/python3.11/site-packages/pycalphad/model.py:1278: UserWarning: The order-disorder model for \"FCC4\" has a contribution from the physical property model `magnetic_energy`. Partitioned physical properties are not correctly substituted into the disordered part of the energy. THE GIBBS ENERGY CALCULATED FOR THIS PHASE MAY BE INCORRECT. Please see the discussion in https://github.com/pycalphad/pycalphad/pull/311 for more details.\n",
      "  warnings.warn(\n"
     ]
    },
    {
     "name": "stderr",
     "output_type": "stream",
     "text": [
      "/ocean/projects/dmr190011p/arichte1/micromamba/envs/v2ammap/lib/python3.11/site-packages/pycalphad/io/tdb.py:293: UserWarning: The type definition character `&` in `TYPE_DEFINITION & GES A_P_D A2_BCC MAGNETIC -1.0 4.00000E-01 ` is not used by any phase.\n",
      "  warnings.warn(f\"The type definition character `{typechar}` in `TYPE_DEFINITION {typechar} {line}` is not used by any phase.\")\n"
     ]
    },
    {
     "name": "stdout",
     "output_type": "stream",
     "text": [
      "Imported scheil_callable_FeNiTi_06a49695: <function scheil_callable at 0x154985ffc400>\n",
      "Imported scheil_callable_NiCrFe_f434a6d9: <function scheil_callable at 0x154985d994e0>\n",
      "Imported scheil_callable_CrNiTi_a9f6f2ff: <function scheil_callable at 0x154983ff56c0>\n",
      "Imported scheil_callable_FeNiV_b9b0384d: <function scheil_callable at 0x154985fe65c0>\n",
      "Imported scheil_callable_CrFeV_ab1edb07: <function scheil_callable at 0x154985fe77e0>\n",
      "Imported scheil_callable_NiCrV_b7aba9ab: <function scheil_callable at 0x154983712a20>\n",
      "Imported scheil_callable_FeTiV_fa95b3ee: <function scheil_callable at 0x1549830834c0>\n",
      "Imported scheil_callable_CrTiV_ed4c332b: <function scheil_callable at 0x154983081120>\n",
      "Imported scheil_callable_NiTiV_1d83c99c: <function scheil_callable at 0x154982d0ba60>\n",
      "Imported scheil_callable_CrFeTi_08bbfb9a: <function scheil_callable at 0x154982b42d40>\n"
     ]
    }
   ],
   "source": [
    "# Get all files starting with \"scheil\"\n",
    "scheil_files = [f for f in os.listdir(directory) if f.startswith(\"scheil\") and f.endswith(\".py\")]\n",
    "scheil_callables = {}\n",
    "\n",
    "for file in scheil_files:\n",
    "    module_name = file[:-3]\n",
    "    module_path = f\"ammap.callables.multi_system_equilibrium_and_scheil.{module_name}\"\n",
    "    module = importlib.import_module(module_path)\n",
    "    callable_name = f\"{module_name}\"\n",
    "    scheil_callables[callable_name] = getattr(module, \"scheil_callable\")\n",
    "\n",
    "for name, func in scheil_callables.items():\n",
    "    print(f\"Imported {name}: {func}\")\n"
   ]
  },
  {
   "cell_type": "code",
   "execution_count": 51,
   "id": "d7c2b2ff",
   "metadata": {
    "execution": {
     "iopub.execute_input": "2025-01-27T00:18:45.327312Z",
     "iopub.status.busy": "2025-01-27T00:18:45.326888Z",
     "iopub.status.idle": "2025-01-27T00:18:45.330049Z",
     "shell.execute_reply": "2025-01-27T00:18:45.329647Z"
    },
    "papermill": {
     "duration": 0.015135,
     "end_time": "2025-01-27T00:18:45.330698",
     "exception": false,
     "start_time": "2025-01-27T00:18:45.315563",
     "status": "completed"
    },
    "tags": []
   },
   "outputs": [],
   "source": [
    "def process_filename(filename):\n",
    "    parts = filename.split('_')\n",
    "    if len(parts) >= 4:\n",
    "        middle_part = parts[2]\n",
    "        if middle_part in element_mapping:\n",
    "            return middle_part, element_mapping[middle_part]\n",
    "    return None, None"
   ]
  },
  {
   "cell_type": "code",
   "execution_count": 52,
   "id": "90cd62ae",
   "metadata": {
    "execution": {
     "iopub.execute_input": "2025-01-27T00:18:45.353078Z",
     "iopub.status.busy": "2025-01-27T00:18:45.352799Z",
     "iopub.status.idle": "2025-01-27T00:18:45.354989Z",
     "shell.execute_reply": "2025-01-27T00:18:45.354601Z"
    },
    "papermill": {
     "duration": 0.01394,
     "end_time": "2025-01-27T00:18:45.355623",
     "exception": false,
     "start_time": "2025-01-27T00:18:45.341683",
     "status": "completed"
    },
    "tags": []
   },
   "outputs": [],
   "source": [
    "element_mapping=mapping"
   ]
  },
  {
   "cell_type": "code",
   "execution_count": 53,
   "id": "15c8c188",
   "metadata": {
    "execution": {
     "iopub.execute_input": "2025-01-27T00:18:45.378256Z",
     "iopub.status.busy": "2025-01-27T00:18:45.377920Z",
     "iopub.status.idle": "2025-01-27T00:18:45.382897Z",
     "shell.execute_reply": "2025-01-27T00:18:45.382481Z"
    },
    "papermill": {
     "duration": 0.016909,
     "end_time": "2025-01-27T00:18:45.383546",
     "exception": false,
     "start_time": "2025-01-27T00:18:45.366637",
     "status": "completed"
    },
    "tags": []
   },
   "outputs": [
    {
     "name": "stdout",
     "output_type": "stream",
     "text": [
      "Key: equilibrium_callable_CrFeTi_08bbfb9a\n",
      "The mapping number for CrFeTi is 1\n",
      "Elements: ['Cr', 'Fe', 'Ti']\n",
      "---\n",
      "Key: equilibrium_callable_CrFeV_ab1edb07\n",
      "The mapping number for CrFeV is 2\n",
      "Elements: ['Cr', 'Fe', 'V']\n",
      "---\n",
      "Key: equilibrium_callable_CrNiTi_a9f6f2ff\n",
      "The mapping number for CrNiTi is 3\n",
      "Elements: ['Cr', 'Ni', 'Ti']\n",
      "---\n",
      "Key: equilibrium_callable_NiTiV_1d83c99c\n",
      "The mapping number for NiTiV is 9\n",
      "Elements: ['Ni', 'Ti', 'V']\n",
      "---\n",
      "Key: equilibrium_callable_NiCrV_b7aba9ab\n",
      "The mapping number for NiCrV is 4\n",
      "Elements: ['Cr', 'Ni', 'V']\n",
      "---\n",
      "Key: equilibrium_callable_NiCrFe_f434a6d9\n",
      "The mapping number for NiCrFe is 0\n",
      "Elements: ['Cr', 'Fe', 'Ni']\n",
      "---\n",
      "Key: equilibrium_callable_FeTiV_fa95b3ee\n",
      "The mapping number for FeTiV is 8\n",
      "Elements: ['Fe', 'Ti', 'V']\n",
      "---\n",
      "Key: equilibrium_callable_FeNiV_b9b0384d\n",
      "The mapping number for FeNiV is 7\n",
      "Elements: ['Fe', 'Ni', 'V']\n",
      "---\n",
      "Key: equilibrium_callable_CrTiV_ed4c332b\n",
      "The mapping number for CrTiV is 5\n",
      "Elements: ['Cr', 'Ti', 'V']\n",
      "---\n",
      "Key: equilibrium_callable_FeNiTi_06a49695\n",
      "The mapping number for FeNiTi is 6\n",
      "Elements: ['Fe', 'Ni', 'Ti']\n",
      "---\n"
     ]
    }
   ],
   "source": [
    "def process_key(key):\n",
    "    parts = key.split('_')\n",
    "    if len(parts) >= 3:\n",
    "        middle_part = parts[2]\n",
    "        if middle_part in mapping:\n",
    "            return middle_part, mapping[middle_part]['id'], mapping[middle_part]['elements']\n",
    "        \n",
    "        # If direct matching fails, try matching by elements\n",
    "        middle_elements = set(middle_part[i:i+2] for i in range(0, len(middle_part), 2))\n",
    "        for map_key, value in mapping.items():\n",
    "            if set(value['elements']) == middle_elements:\n",
    "                return middle_part, value['id'], value['elements']\n",
    "    \n",
    "    return None, None, None\n",
    "\n",
    "# Process each key in the equilibrium_callables dictionary\n",
    "id_to_callable = {}\n",
    "for key in equilibrium_callables:\n",
    "    middle_part, mapping_id, elements = process_key(key)\n",
    "    if middle_part and mapping_id is not None:\n",
    "        print(f\"Key: {key}\")\n",
    "        print(f\"The mapping number for {middle_part} is {mapping_id}\")\n",
    "        print(f\"Elements: {elements}\")\n",
    "        print(\"---\")\n",
    "        id_to_callable[mapping_id]=key\n",
    "    else:\n",
    "        print(f\"No mapping found for key: {key}\")\n",
    "        print(\"---\")"
   ]
  },
  {
   "cell_type": "code",
   "execution_count": 54,
   "id": "c3e74174",
   "metadata": {
    "execution": {
     "iopub.execute_input": "2025-01-27T00:18:45.406013Z",
     "iopub.status.busy": "2025-01-27T00:18:45.405674Z",
     "iopub.status.idle": "2025-01-27T00:18:45.408542Z",
     "shell.execute_reply": "2025-01-27T00:18:45.408248Z"
    },
    "papermill": {
     "duration": 0.0146,
     "end_time": "2025-01-27T00:18:45.409103",
     "exception": false,
     "start_time": "2025-01-27T00:18:45.394503",
     "status": "completed"
    },
    "tags": []
   },
   "outputs": [
    {
     "data": {
      "text/plain": [
       "{1: 'equilibrium_callable_CrFeTi_08bbfb9a',\n",
       " 2: 'equilibrium_callable_CrFeV_ab1edb07',\n",
       " 3: 'equilibrium_callable_CrNiTi_a9f6f2ff',\n",
       " 9: 'equilibrium_callable_NiTiV_1d83c99c',\n",
       " 4: 'equilibrium_callable_NiCrV_b7aba9ab',\n",
       " 0: 'equilibrium_callable_NiCrFe_f434a6d9',\n",
       " 8: 'equilibrium_callable_FeTiV_fa95b3ee',\n",
       " 7: 'equilibrium_callable_FeNiV_b9b0384d',\n",
       " 5: 'equilibrium_callable_CrTiV_ed4c332b',\n",
       " 6: 'equilibrium_callable_FeNiTi_06a49695'}"
      ]
     },
     "execution_count": 54,
     "metadata": {},
     "output_type": "execute_result"
    }
   ],
   "source": [
    "id_to_callable"
   ]
  },
  {
   "cell_type": "code",
   "execution_count": 55,
   "id": "9766d4c5",
   "metadata": {
    "execution": {
     "iopub.execute_input": "2025-01-27T00:18:45.431984Z",
     "iopub.status.busy": "2025-01-27T00:18:45.431640Z",
     "iopub.status.idle": "2025-01-27T00:18:45.434571Z",
     "shell.execute_reply": "2025-01-27T00:18:45.434270Z"
    },
    "papermill": {
     "duration": 0.014998,
     "end_time": "2025-01-27T00:18:45.435194",
     "exception": false,
     "start_time": "2025-01-27T00:18:45.420196",
     "status": "completed"
    },
    "tags": []
   },
   "outputs": [
    {
     "data": {
      "text/plain": [
       "[([0.0, 0.0, 1.0, 0.0, 0.0], 0),\n",
       " ([0.0, 0.125, 0.875, 0.0, 0.0], 0),\n",
       " ([0.0, 0.25, 0.75, 0.0, 0.0], 0),\n",
       " ([0.0, 0.375, 0.625, 0.0, 0.0], 0),\n",
       " ([0.0, 0.5, 0.5, 0.0, 0.0], 0)]"
      ]
     },
     "execution_count": 55,
     "metadata": {},
     "output_type": "execute_result"
    }
   ],
   "source": [
    "compositions_with_id[:5]"
   ]
  },
  {
   "cell_type": "code",
   "execution_count": 56,
   "id": "9880f6b3",
   "metadata": {
    "execution": {
     "iopub.execute_input": "2025-01-27T00:18:45.458874Z",
     "iopub.status.busy": "2025-01-27T00:18:45.458516Z",
     "iopub.status.idle": "2025-01-27T00:18:45.461737Z",
     "shell.execute_reply": "2025-01-27T00:18:45.461437Z"
    },
    "papermill": {
     "duration": 0.015375,
     "end_time": "2025-01-27T00:18:45.462293",
     "exception": false,
     "start_time": "2025-01-27T00:18:45.446918",
     "status": "completed"
    },
    "tags": []
   },
   "outputs": [
    {
     "data": {
      "text/plain": [
       "{'CrFeNi': {'id': 0, 'elements': ['Cr', 'Fe', 'Ni']},\n",
       " 'CrFeTi': {'id': 1, 'elements': ['Cr', 'Fe', 'Ti']},\n",
       " 'CrFeV': {'id': 2, 'elements': ['Cr', 'Fe', 'V']},\n",
       " 'CrNiTi': {'id': 3, 'elements': ['Cr', 'Ni', 'Ti']},\n",
       " 'CrNiV': {'id': 4, 'elements': ['Cr', 'Ni', 'V']},\n",
       " 'CrTiV': {'id': 5, 'elements': ['Cr', 'Ti', 'V']},\n",
       " 'FeNiTi': {'id': 6, 'elements': ['Fe', 'Ni', 'Ti']},\n",
       " 'FeNiV': {'id': 7, 'elements': ['Fe', 'Ni', 'V']},\n",
       " 'FeTiV': {'id': 8, 'elements': ['Fe', 'Ti', 'V']},\n",
       " 'NiTiV': {'id': 9, 'elements': ['Ni', 'Ti', 'V']}}"
      ]
     },
     "execution_count": 56,
     "metadata": {},
     "output_type": "execute_result"
    }
   ],
   "source": [
    "mapping"
   ]
  },
  {
   "cell_type": "code",
   "execution_count": 57,
   "id": "8046ed7d",
   "metadata": {
    "execution": {
     "iopub.execute_input": "2025-01-27T00:18:45.485350Z",
     "iopub.status.busy": "2025-01-27T00:18:45.485094Z",
     "iopub.status.idle": "2025-01-27T00:18:45.488430Z",
     "shell.execute_reply": "2025-01-27T00:18:45.488120Z"
    },
    "papermill": {
     "duration": 0.015319,
     "end_time": "2025-01-27T00:18:45.488974",
     "exception": false,
     "start_time": "2025-01-27T00:18:45.473655",
     "status": "completed"
    },
    "tags": []
   },
   "outputs": [],
   "source": [
    "def reduce_compositions(compositions_with_id, mapping):\n",
    "    element_order = elementalSpaceComponents\n",
    "    system_comps_with_id = []\n",
    "    reduced_compositions = []\n",
    "    \n",
    "    for composition, comp_id in compositions_with_id:\n",
    "        relevant_entry = next((entry for entry in mapping.values() if entry['id'] == comp_id), None)\n",
    "        if not relevant_entry:\n",
    "            continue\n",
    "        \n",
    "        relevant_indices = [element_order.index(elem) for elem in relevant_entry['elements']]\n",
    "        reduced_point = [composition[index] for index in relevant_indices]\n",
    "        system_comps_with_id.append((reduced_point, comp_id))\n",
    "        reduced_compositions.append(reduced_point)\n",
    "    \n",
    "    return system_comps_with_id, reduced_compositions"
   ]
  },
  {
   "cell_type": "code",
   "execution_count": 58,
   "id": "7fda51e2",
   "metadata": {
    "execution": {
     "iopub.execute_input": "2025-01-27T00:18:45.512130Z",
     "iopub.status.busy": "2025-01-27T00:18:45.511867Z",
     "iopub.status.idle": "2025-01-27T00:18:45.514842Z",
     "shell.execute_reply": "2025-01-27T00:18:45.514525Z"
    },
    "papermill": {
     "duration": 0.014983,
     "end_time": "2025-01-27T00:18:45.515372",
     "exception": false,
     "start_time": "2025-01-27T00:18:45.500389",
     "status": "completed"
    },
    "tags": []
   },
   "outputs": [],
   "source": [
    "system_comps_with_id, reduced_compositions = reduce_compositions(compositions_with_id, mapping)"
   ]
  },
  {
   "cell_type": "code",
   "execution_count": 59,
   "id": "be6e101c",
   "metadata": {
    "execution": {
     "iopub.execute_input": "2025-01-27T00:18:45.538619Z",
     "iopub.status.busy": "2025-01-27T00:18:45.538246Z",
     "iopub.status.idle": "2025-01-27T00:18:45.700631Z",
     "shell.execute_reply": "2025-01-27T00:18:45.700227Z"
    },
    "papermill": {
     "duration": 0.174485,
     "end_time": "2025-01-27T00:18:45.701211",
     "exception": false,
     "start_time": "2025-01-27T00:18:45.526726",
     "status": "completed"
    },
    "tags": []
   },
   "outputs": [],
   "source": [
    "from tqdm.contrib.concurrent import process_map"
   ]
  },
  {
   "cell_type": "code",
   "execution_count": 60,
   "id": "f36ec026",
   "metadata": {
    "execution": {
     "iopub.execute_input": "2025-01-27T00:18:45.724771Z",
     "iopub.status.busy": "2025-01-27T00:18:45.724393Z",
     "iopub.status.idle": "2025-01-27T00:18:45.727634Z",
     "shell.execute_reply": "2025-01-27T00:18:45.727299Z"
    },
    "papermill": {
     "duration": 0.015557,
     "end_time": "2025-01-27T00:18:45.728179",
     "exception": false,
     "start_time": "2025-01-27T00:18:45.712622",
     "status": "completed"
    },
    "tags": []
   },
   "outputs": [
    {
     "name": "stdout",
     "output_type": "stream",
     "text": [
      "Starting nodes: [0, 90, 200, 310, 26, 137, 44, 393, 208, 136, 55, 429, 447, 19, 194]\n",
      "Starting node: [0.0, 0.0, 1.0]\n",
      "Starting node: [0.0, 0.0, 1.0]\n",
      "Starting node: [0.25, 0.375, 0.375]\n",
      "Starting node: [0.75, 0.125, 0.125]\n",
      "Starting node: [0.375, 0.25, 0.375]\n",
      "Starting node: [0.0, 0.25, 0.75]\n",
      "Starting node: [1.0, 0.0, 0.0]\n",
      "Starting node: [0.5, 0.375, 0.125]\n",
      "Starting node: [0.375, 0.5, 0.125]\n",
      "Starting node: [0.0, 0.125, 0.875]\n",
      "Starting node: [0.125, 0.125, 0.75]\n",
      "Starting node: [0.375, 0.0, 0.625]\n",
      "Starting node: [0.875, 0.0, 0.125]\n",
      "Starting node: [0.25, 0.25, 0.5]\n",
      "Starting node: [0.125, 0.625, 0.25]\n"
     ]
    }
   ],
   "source": [
    "startingNodes = [0, 90, 200, 310] + random.sample(range(len(reduced_compositions)), 11)\n",
    "print(f\"Starting nodes: {startingNodes}\")\n",
    "\n",
    "for startingNode in startingNodes:\n",
    "    print(f\"Starting node: {reduced_compositions[startingNode]}\")"
   ]
  },
  {
   "cell_type": "code",
   "execution_count": 61,
   "id": "a08336b7",
   "metadata": {
    "execution": {
     "iopub.execute_input": "2025-01-27T00:18:45.751518Z",
     "iopub.status.busy": "2025-01-27T00:18:45.751182Z",
     "iopub.status.idle": "2025-01-27T00:18:45.753469Z",
     "shell.execute_reply": "2025-01-27T00:18:45.753165Z"
    },
    "papermill": {
     "duration": 0.014533,
     "end_time": "2025-01-27T00:18:45.754047",
     "exception": false,
     "start_time": "2025-01-27T00:18:45.739514",
     "status": "completed"
    },
    "tags": []
   },
   "outputs": [],
   "source": [
    "gridFeasible = [None]*len(reduced_compositions)\n",
    "queue = startingNodes.copy()\n",
    "explored = set()\n",
    "calcCount = 0"
   ]
  },
  {
   "cell_type": "code",
   "execution_count": 62,
   "id": "3b54e1d0",
   "metadata": {
    "execution": {
     "iopub.execute_input": "2025-01-27T00:18:45.777311Z",
     "iopub.status.busy": "2025-01-27T00:18:45.777037Z",
     "iopub.status.idle": "2025-01-27T00:18:45.780442Z",
     "shell.execute_reply": "2025-01-27T00:18:45.780126Z"
    },
    "papermill": {
     "duration": 0.015623,
     "end_time": "2025-01-27T00:18:45.780997",
     "exception": false,
     "start_time": "2025-01-27T00:18:45.765374",
     "status": "completed"
    },
    "tags": []
   },
   "outputs": [],
   "source": [
    "# Function to get the correct callable for a given composition\n",
    "def get_callable(composition):\n",
    "    for comp, id in compositions_with_id:\n",
    "        if comp == composition:\n",
    "            callable_name = id_to_callable.get(id)\n",
    "            if callable_name is None:\n",
    "                raise ValueError(f\"No callable name found for ID {id}\")\n",
    "            if callable_name in globals():\n",
    "                return globals()[callable_name]\n",
    "            else:\n",
    "                raise NameError(f\"Function '{callable_name}' not found in global scope\")\n",
    "    raise ValueError(f\"No callable found for composition {composition}\")\n",
    "\n",
    "def process_composition(elP):\n",
    "    try:\n",
    "        callable_func = get_callable(elP)\n",
    "        return callable_func(elP)\n",
    "    except Exception as e:\n",
    "        print(f\"Error processing composition {elP}: {str(e)}\")\n",
    "        return None\n"
   ]
  },
  {
   "cell_type": "code",
   "execution_count": 63,
   "id": "65503c43",
   "metadata": {
    "execution": {
     "iopub.execute_input": "2025-01-27T00:18:45.804494Z",
     "iopub.status.busy": "2025-01-27T00:18:45.804216Z",
     "iopub.status.idle": "2025-01-27T00:18:45.807196Z",
     "shell.execute_reply": "2025-01-27T00:18:45.806899Z"
    },
    "papermill": {
     "duration": 0.01525,
     "end_time": "2025-01-27T00:18:45.807721",
     "exception": false,
     "start_time": "2025-01-27T00:18:45.792471",
     "status": "completed"
    },
    "tags": []
   },
   "outputs": [
    {
     "data": {
      "text/plain": [
       "{'equilibrium_callable_CrFeTi_08bbfb9a': <function ammap.callables.multi_system_equilibrium_and_scheil.equilibrium_callable_CrFeTi_08bbfb9a.equilibrium_callable(elP)>,\n",
       " 'equilibrium_callable_CrFeV_ab1edb07': <function ammap.callables.multi_system_equilibrium_and_scheil.equilibrium_callable_CrFeV_ab1edb07.equilibrium_callable(elP)>,\n",
       " 'equilibrium_callable_CrNiTi_a9f6f2ff': <function ammap.callables.multi_system_equilibrium_and_scheil.equilibrium_callable_CrNiTi_a9f6f2ff.equilibrium_callable(elP)>,\n",
       " 'equilibrium_callable_NiTiV_1d83c99c': <function ammap.callables.multi_system_equilibrium_and_scheil.equilibrium_callable_NiTiV_1d83c99c.equilibrium_callable(elP)>,\n",
       " 'equilibrium_callable_NiCrV_b7aba9ab': <function ammap.callables.multi_system_equilibrium_and_scheil.equilibrium_callable_NiCrV_b7aba9ab.equilibrium_callable(elP)>,\n",
       " 'equilibrium_callable_NiCrFe_f434a6d9': <function ammap.callables.multi_system_equilibrium_and_scheil.equilibrium_callable_NiCrFe_f434a6d9.equilibrium_callable(elP)>,\n",
       " 'equilibrium_callable_FeTiV_fa95b3ee': <function ammap.callables.multi_system_equilibrium_and_scheil.equilibrium_callable_FeTiV_fa95b3ee.equilibrium_callable(elP)>,\n",
       " 'equilibrium_callable_FeNiV_b9b0384d': <function ammap.callables.multi_system_equilibrium_and_scheil.equilibrium_callable_FeNiV_b9b0384d.equilibrium_callable(elP)>,\n",
       " 'equilibrium_callable_CrTiV_ed4c332b': <function ammap.callables.multi_system_equilibrium_and_scheil.equilibrium_callable_CrTiV_ed4c332b.equilibrium_callable(elP)>,\n",
       " 'equilibrium_callable_FeNiTi_06a49695': <function ammap.callables.multi_system_equilibrium_and_scheil.equilibrium_callable_FeNiTi_06a49695.equilibrium_callable(elP)>}"
      ]
     },
     "execution_count": 63,
     "metadata": {},
     "output_type": "execute_result"
    }
   ],
   "source": [
    "equilibrium_callables"
   ]
  },
  {
   "cell_type": "code",
   "execution_count": 64,
   "id": "b50a2730",
   "metadata": {
    "execution": {
     "iopub.execute_input": "2025-01-27T00:18:45.831294Z",
     "iopub.status.busy": "2025-01-27T00:18:45.831035Z",
     "iopub.status.idle": "2025-01-27T00:18:45.833699Z",
     "shell.execute_reply": "2025-01-27T00:18:45.833407Z"
    },
    "papermill": {
     "duration": 0.014912,
     "end_time": "2025-01-27T00:18:45.834264",
     "exception": false,
     "start_time": "2025-01-27T00:18:45.819352",
     "status": "completed"
    },
    "tags": []
   },
   "outputs": [
    {
     "data": {
      "text/plain": [
       "{1: 'equilibrium_callable_CrFeTi_08bbfb9a',\n",
       " 2: 'equilibrium_callable_CrFeV_ab1edb07',\n",
       " 3: 'equilibrium_callable_CrNiTi_a9f6f2ff',\n",
       " 9: 'equilibrium_callable_NiTiV_1d83c99c',\n",
       " 4: 'equilibrium_callable_NiCrV_b7aba9ab',\n",
       " 0: 'equilibrium_callable_NiCrFe_f434a6d9',\n",
       " 8: 'equilibrium_callable_FeTiV_fa95b3ee',\n",
       " 7: 'equilibrium_callable_FeNiV_b9b0384d',\n",
       " 5: 'equilibrium_callable_CrTiV_ed4c332b',\n",
       " 6: 'equilibrium_callable_FeNiTi_06a49695'}"
      ]
     },
     "execution_count": 64,
     "metadata": {},
     "output_type": "execute_result"
    }
   ],
   "source": [
    "id_to_callable"
   ]
  },
  {
   "cell_type": "code",
   "execution_count": 65,
   "id": "a27c3f63",
   "metadata": {
    "execution": {
     "iopub.execute_input": "2025-01-27T00:18:45.857995Z",
     "iopub.status.busy": "2025-01-27T00:18:45.857732Z",
     "iopub.status.idle": "2025-01-27T00:18:45.860163Z",
     "shell.execute_reply": "2025-01-27T00:18:45.859872Z"
    },
    "papermill": {
     "duration": 0.014798,
     "end_time": "2025-01-27T00:18:45.860704",
     "exception": false,
     "start_time": "2025-01-27T00:18:45.845906",
     "status": "completed"
    },
    "tags": []
   },
   "outputs": [
    {
     "name": "stdout",
     "output_type": "stream",
     "text": [
      "([0.0, 0.0, 1.0, 0.0, 0.0], 0)\n",
      "([0.0, 0.625, 0.0, 0.375, 0.0], 1)\n",
      "([0.125, 0.125, 0.0, 0.0, 0.75], 2)\n",
      "([0.125, 0.0, 0.75, 0.125, 0.0], 3)\n",
      "([0.25, 0.0, 0.375, 0.0, 0.375], 4)\n",
      "([0.375, 0.0, 0.0, 0.125, 0.5], 5)\n",
      "([0.0, 0.5, 0.0, 0.5, 0.0], 6)\n",
      "([0.0, 0.625, 0.0, 0.0, 0.375], 7)\n",
      "([0.0, 0.75, 0.0, 0.125, 0.125], 8)\n"
     ]
    }
   ],
   "source": [
    "sampled_compositions = compositions_with_id[::50]\n",
    "\n",
    "# Print the sampled compositions to verify\n",
    "for composition in sampled_compositions:\n",
    "    print(composition)"
   ]
  },
  {
   "cell_type": "code",
   "execution_count": 66,
   "id": "b8dbf7ec",
   "metadata": {
    "execution": {
     "iopub.execute_input": "2025-01-27T00:18:45.884573Z",
     "iopub.status.busy": "2025-01-27T00:18:45.884305Z",
     "iopub.status.idle": "2025-01-27T00:18:46.336815Z",
     "shell.execute_reply": "2025-01-27T00:18:46.336353Z"
    },
    "papermill": {
     "duration": 0.465056,
     "end_time": "2025-01-27T00:18:46.337493",
     "exception": false,
     "start_time": "2025-01-27T00:18:45.872437",
     "status": "completed"
    },
    "tags": []
   },
   "outputs": [
    {
     "name": "stdout",
     "output_type": "stream",
     "text": [
      "{'Phases': ['LAVES_C15', 'NITI'], 'PhaseFraction': [0.275195379915315, 0.724804620014148]}\n"
     ]
    },
    {
     "data": {
      "text/plain": [
       "[0.25, 0.0, 0.375, 0.0, 0.375]"
      ]
     },
     "execution_count": 66,
     "metadata": {},
     "output_type": "execute_result"
    }
   ],
   "source": [
    "print(equilibrium_callables['equilibrium_callable_CrNiTi_a9f6f2ff'](compositions[200]))\n",
    "compositions[200]"
   ]
  },
  {
   "cell_type": "code",
   "execution_count": 67,
   "id": "19dd3a4b",
   "metadata": {
    "execution": {
     "iopub.execute_input": "2025-01-27T00:18:46.361913Z",
     "iopub.status.busy": "2025-01-27T00:18:46.361506Z",
     "iopub.status.idle": "2025-01-27T00:18:46.365534Z",
     "shell.execute_reply": "2025-01-27T00:18:46.365177Z"
    },
    "papermill": {
     "duration": 0.016692,
     "end_time": "2025-01-27T00:18:46.366134",
     "exception": false,
     "start_time": "2025-01-27T00:18:46.349442",
     "status": "completed"
    },
    "tags": []
   },
   "outputs": [],
   "source": [
    "from functools import partial\n",
    "\n",
    "def get_equilibrium_callable(composition, id_to_callable, equilibrium_callables):\n",
    "    composition_id = composition[1]  # Get the ID from the composition tuple\n",
    "    #print(f\"Composition ID: {composition_id}\")\n",
    "    callable_name = id_to_callable.get(composition_id)\n",
    "    if callable_name is None:\n",
    "        raise ValueError(f\"No callable found for composition ID {composition_id}\")\n",
    "    callable_func = equilibrium_callables.get(callable_name)\n",
    "    if callable_func is None:\n",
    "        raise ValueError(f\"No callable function found for name {callable_name}\")\n",
    "    return callable_func\n",
    "\n",
    "def apply_equilibrium_callable(callable_and_position):\n",
    "    callable_func, position = callable_and_position\n",
    "    return callable_func(position)"
   ]
  },
  {
   "cell_type": "code",
   "execution_count": 68,
   "id": "ee40afeb",
   "metadata": {
    "execution": {
     "iopub.execute_input": "2025-01-27T00:18:46.390389Z",
     "iopub.status.busy": "2025-01-27T00:18:46.390162Z",
     "iopub.status.idle": "2025-01-27T00:18:46.393692Z",
     "shell.execute_reply": "2025-01-27T00:18:46.393345Z"
    },
    "papermill": {
     "duration": 0.016345,
     "end_time": "2025-01-27T00:18:46.394321",
     "exception": false,
     "start_time": "2025-01-27T00:18:46.377976",
     "status": "completed"
    },
    "tags": []
   },
   "outputs": [
    {
     "data": {
      "text/plain": [
       "{1: 'equilibrium_callable_CrFeTi_08bbfb9a',\n",
       " 2: 'equilibrium_callable_CrFeV_ab1edb07',\n",
       " 3: 'equilibrium_callable_CrNiTi_a9f6f2ff',\n",
       " 9: 'equilibrium_callable_NiTiV_1d83c99c',\n",
       " 4: 'equilibrium_callable_NiCrV_b7aba9ab',\n",
       " 0: 'equilibrium_callable_NiCrFe_f434a6d9',\n",
       " 8: 'equilibrium_callable_FeTiV_fa95b3ee',\n",
       " 7: 'equilibrium_callable_FeNiV_b9b0384d',\n",
       " 5: 'equilibrium_callable_CrTiV_ed4c332b',\n",
       " 6: 'equilibrium_callable_FeNiTi_06a49695'}"
      ]
     },
     "execution_count": 68,
     "metadata": {},
     "output_type": "execute_result"
    }
   ],
   "source": [
    "id_to_callable"
   ]
  },
  {
   "cell_type": "code",
   "execution_count": 69,
   "id": "a7d57b04",
   "metadata": {
    "execution": {
     "iopub.execute_input": "2025-01-27T00:18:46.418868Z",
     "iopub.status.busy": "2025-01-27T00:18:46.418686Z",
     "iopub.status.idle": "2025-01-27T00:18:46.422023Z",
     "shell.execute_reply": "2025-01-27T00:18:46.421661Z"
    },
    "papermill": {
     "duration": 0.016443,
     "end_time": "2025-01-27T00:18:46.422709",
     "exception": false,
     "start_time": "2025-01-27T00:18:46.406266",
     "status": "completed"
    },
    "tags": []
   },
   "outputs": [],
   "source": [
    "from functools import partial\n",
    "\n",
    "def get_scheil_callable(composition, id_to_callable, scheil_callables):\n",
    "    composition_id = composition[1]  # Get the ID from the composition tuple\n",
    "    #print(f\"Composition ID: {composition_id}\")\n",
    "    callable_name = id_to_callable.get(composition_id)\n",
    "    if callable_name is None:\n",
    "        raise ValueError(f\"No callable found for composition ID {composition_id}\")\n",
    "    callable_func = scheil_callables.get(callable_name)\n",
    "    if callable_func is None:\n",
    "        raise ValueError(f\"No callable function found for name {callable_name}\")\n",
    "    return callable_func\n",
    "\n",
    "def apply_scheil_callable(callable_and_position):\n",
    "    callable_func, position = callable_and_position\n",
    "    return callable_func(position)"
   ]
  },
  {
   "cell_type": "code",
   "execution_count": 70,
   "id": "1927732e",
   "metadata": {
    "execution": {
     "iopub.execute_input": "2025-01-27T00:18:46.447388Z",
     "iopub.status.busy": "2025-01-27T00:18:46.447123Z",
     "iopub.status.idle": "2025-01-27T00:19:12.370455Z",
     "shell.execute_reply": "2025-01-27T00:19:12.370000Z"
    },
    "papermill": {
     "duration": 25.936296,
     "end_time": "2025-01-27T00:19:12.371047",
     "exception": false,
     "start_time": "2025-01-27T00:18:46.434751",
     "status": "completed"
    },
    "tags": []
   },
   "outputs": [
    {
     "name": "stdout",
     "output_type": "stream",
     "text": [
      "Queue: [0, 90, 200, 310, 26, 137, 44, 393, 208, 136, 55, 429, 447, 19, 194]\n",
      "[[0.0, 0.0, 1.0], [0.0, 0.0, 1.0], [0.25, 0.375, 0.375], [0.75, 0.125, 0.125], [0.375, 0.25, 0.375], [0.0, 0.25, 0.75], [1.0, 0.0, 0.0], [0.5, 0.375, 0.125], [0.375, 0.5, 0.125], [0.0, 0.125, 0.875], [0.125, 0.125, 0.75], [0.375, 0.0, 0.625], [0.875, 0.0, 0.125], [0.25, 0.25, 0.5], [0.125, 0.625, 0.25]]\n"
     ]
    },
    {
     "data": {
      "application/vnd.jupyter.widget-view+json": {
       "model_id": "b1f48d9226034fa0a6246b8e9306b30a",
       "version_major": 2,
       "version_minor": 0
      },
      "text/plain": [
       "0it [00:00, ?it/s]"
      ]
     },
     "metadata": {},
     "output_type": "display_data"
    },
    {
     "name": "stdout",
     "output_type": "stream",
     "text": [
      "Calculations done: 15    | Explored points: 31   \n",
      "Queue: [387, 388, 392, 394, 397, 398, 422, 423, 46, 47, 430, 306, 307, 435, 309, 54, 311, 312, 313, 56, 62, 63]\n",
      "[[0.375, 0.375, 0.25], [0.375, 0.5, 0.125], [0.5, 0.25, 0.25], [0.5, 0.5, 0.0], [0.625, 0.25, 0.125], [0.625, 0.375, 0.0], [0.25, 0.0, 0.75], [0.25, 0.125, 0.625], [0.0, 0.125, 0.875], [0.0, 0.25, 0.75], [0.375, 0.125, 0.5], [0.625, 0.125, 0.25], [0.625, 0.25, 0.125], [0.5, 0.0, 0.5], [0.75, 0.0, 0.25], [0.125, 0.0, 0.875], [0.75, 0.25, 0.0], [0.875, 0.0, 0.125], [0.875, 0.125, 0.0], [0.125, 0.25, 0.625], [0.25, 0.0, 0.75], [0.25, 0.125, 0.625]]\n"
     ]
    },
    {
     "data": {
      "application/vnd.jupyter.widget-view+json": {
       "model_id": "0304e9d6e4ab44e5a08278da9164d042",
       "version_major": 2,
       "version_minor": 0
      },
      "text/plain": [
       "0it [00:00, ?it/s]"
      ]
     },
     "metadata": {},
     "output_type": "display_data"
    },
    {
     "name": "stdout",
     "output_type": "stream",
     "text": [
      "Calculations done: 37    | Explored points: 65   \n",
      "Queue: [386, 389, 391, 396, 400, 401, 145, 403, 402, 280, 152, 153, 414, 287, 416, 415, 288, 424, 45, 302, 431, 48, 301, 305, 303, 436, 308, 440, 57, 314, 64, 69, 70, 247, 352, 355, 357, 358, 232, 367, 240, 375, 380, 381, 382]\n",
      "[[0.375, 0.25, 0.375], [0.375, 0.625, 0.0], [0.5, 0.125, 0.375], [0.625, 0.125, 0.25], [0.75, 0.125, 0.125], [0.75, 0.25, 0.0], [0.125, 0.125, 0.75], [0.875, 0.125, 0.0], [0.875, 0.0, 0.125], [0.125, 0.125, 0.75], [0.25, 0.0, 0.75], [0.25, 0.125, 0.625], [0.125, 0.0, 0.875], [0.25, 0.0, 0.75], [0.125, 0.25, 0.625], [0.125, 0.125, 0.75], [0.25, 0.125, 0.625], [0.25, 0.25, 0.5], [0.0, 0.0, 1.0], [0.5, 0.25, 0.25], [0.375, 0.25, 0.375], [0.0, 0.375, 0.625], [0.5, 0.125, 0.375], [0.625, 0.0, 0.375], [0.5, 0.375, 0.125], [0.5, 0.125, 0.375], [0.625, 0.375, 0.0], [0.625, 0.0, 0.375], [0.125, 0.375, 0.5], [1.0, 0.0, 0.0], [0.25, 0.25, 0.5], [0.375, 0.0, 0.625], [0.375, 0.125, 0.5], [0.25, 0.625, 0.125], [0.625, 0.25, 0.125], [0.75, 0.125, 0.125], [0.875, 0.0, 0.125], [0.875, 0.125, 0.0], [0.0, 0.875, 0.125], [0.0, 0.875, 0.125], [0.125, 0.75, 0.125], [0.125, 0.75, 0.125], [0.25, 0.375, 0.375], [0.25, 0.5, 0.25], [0.25, 0.625, 0.125]]\n"
     ]
    },
    {
     "data": {
      "application/vnd.jupyter.widget-view+json": {
       "model_id": "31f945c261944a189af6743fdee1b23b",
       "version_major": 2,
       "version_minor": 0
      },
      "text/plain": [
       "0it [00:00, ?it/s]"
      ]
     },
     "metadata": {},
     "output_type": "display_data"
    },
    {
     "name": "stdout",
     "output_type": "stream",
     "text": [
      "Calculations done: 82    | Explored points: 116  \n",
      "Queue: [385, 390, 395, 399, 146, 404, 405, 406, 407, 408, 281, 154, 413, 159, 160, 417, 289, 420, 294, 295, 296, 425, 297, 298, 432, 49, 304, 437, 441, 58, 444, 65, 71, 75, 76, 348, 366, 372, 373, 374, 379, 253]\n",
      "[[0.375, 0.125, 0.5], [0.5, 0.0, 0.5], [0.625, 0.0, 0.375], [0.75, 0.0, 0.25], [0.125, 0.25, 0.625], [1.0, 0.0, 0.0], [0.0, 0.0, 1.0], [0.0, 0.125, 0.875], [0.0, 0.25, 0.75], [0.0, 0.375, 0.625], [0.125, 0.25, 0.625], [0.25, 0.25, 0.5], [0.0, 1.0, 0.0], [0.375, 0.0, 0.625], [0.375, 0.125, 0.5], [0.125, 0.375, 0.5], [0.25, 0.25, 0.5], [0.125, 0.75, 0.125], [0.375, 0.0, 0.625], [0.375, 0.125, 0.5], [0.375, 0.25, 0.375], [0.25, 0.375, 0.375], [0.375, 0.375, 0.25], [0.375, 0.5, 0.125], [0.375, 0.375, 0.25], [0.0, 0.5, 0.5], [0.5, 0.5, 0.0], [0.5, 0.25, 0.25], [0.625, 0.125, 0.25], [0.125, 0.5, 0.375], [0.75, 0.0, 0.25], [0.25, 0.375, 0.375], [0.375, 0.25, 0.375], [0.5, 0.0, 0.5], [0.5, 0.125, 0.375], [0.5, 0.375, 0.125], [0.0, 0.75, 0.25], [0.125, 0.375, 0.5], [0.125, 0.5, 0.375], [0.125, 0.625, 0.25], [0.25, 0.25, 0.5], [0.375, 0.5, 0.125]]\n"
     ]
    },
    {
     "data": {
      "application/vnd.jupyter.widget-view+json": {
       "model_id": "60771f2960f3488fb419e26d2d842389",
       "version_major": 2,
       "version_minor": 0
      },
      "text/plain": [
       "0it [00:00, ?it/s]"
      ]
     },
     "metadata": {},
     "output_type": "display_data"
    },
    {
     "name": "stdout",
     "output_type": "stream",
     "text": [
      "Calculations done: 124   | Explored points: 160  \n",
      "Queue: [384, 258, 138, 147, 409, 282, 411, 155, 161, 418, 290, 419, 165, 166, 291, 292, 426, 427, 300, 299, 433, 50, 438, 442, 59, 445, 66, 72, 77, 80, 81, 343, 363, 364, 365, 371, 378]\n",
      "[[0.375, 0.0, 0.625], [0.5, 0.375, 0.125], [0.0, 0.375, 0.625], [0.125, 0.375, 0.5], [0.0, 0.5, 0.5], [0.125, 0.375, 0.5], [0.0, 0.75, 0.25], [0.25, 0.375, 0.375], [0.375, 0.25, 0.375], [0.125, 0.5, 0.375], [0.25, 0.375, 0.375], [0.125, 0.625, 0.25], [0.5, 0.0, 0.5], [0.5, 0.125, 0.375], [0.25, 0.5, 0.25], [0.25, 0.625, 0.125], [0.25, 0.5, 0.25], [0.25, 0.625, 0.125], [0.5, 0.0, 0.5], [0.375, 0.625, 0.0], [0.375, 0.5, 0.125], [0.0, 0.625, 0.375], [0.5, 0.375, 0.125], [0.625, 0.25, 0.125], [0.125, 0.625, 0.25], [0.75, 0.125, 0.125], [0.25, 0.5, 0.25], [0.375, 0.375, 0.25], [0.5, 0.25, 0.25], [0.625, 0.0, 0.375], [0.625, 0.125, 0.25], [0.375, 0.5, 0.125], [0.0, 0.375, 0.625], [0.0, 0.5, 0.5], [0.0, 0.625, 0.375], [0.125, 0.25, 0.625], [0.25, 0.125, 0.625]]\n"
     ]
    },
    {
     "data": {
      "application/vnd.jupyter.widget-view+json": {
       "model_id": "a255d1d99e6b41ed8b23e6b4dafaf117",
       "version_major": 2,
       "version_minor": 0
      },
      "text/plain": [
       "0it [00:00, ?it/s]"
      ]
     },
     "metadata": {},
     "output_type": "display_data"
    },
    {
     "name": "stdout",
     "output_type": "stream",
     "text": [
      "Calculations done: 161   | Explored points: 200  \n",
      "Queue: [262, 139, 148, 410, 283, 284, 156, 285, 162, 293, 167, 170, 171, 51, 443, 60, 446, 448, 67, 73, 78, 337, 82, 84, 85, 362, 370, 377]\n",
      "[[0.625, 0.25, 0.125], [0.0, 0.5, 0.5], [0.125, 0.5, 0.375], [0.0, 0.625, 0.375], [0.125, 0.5, 0.375], [0.125, 0.625, 0.25], [0.25, 0.5, 0.25], [0.125, 0.75, 0.125], [0.375, 0.375, 0.25], [0.25, 0.75, 0.0], [0.5, 0.25, 0.25], [0.625, 0.0, 0.375], [0.625, 0.125, 0.25], [0.0, 0.75, 0.25], [0.625, 0.375, 0.0], [0.125, 0.75, 0.125], [0.75, 0.25, 0.0], [0.875, 0.125, 0.0], [0.25, 0.625, 0.125], [0.375, 0.5, 0.125], [0.5, 0.375, 0.125], [0.25, 0.625, 0.125], [0.625, 0.25, 0.125], [0.75, 0.0, 0.25], [0.75, 0.125, 0.125], [0.0, 0.25, 0.75], [0.125, 0.125, 0.75], [0.25, 0.0, 0.75]]\n"
     ]
    },
    {
     "data": {
      "application/vnd.jupyter.widget-view+json": {
       "model_id": "16a1d2be2113499d9e0cfe1a2c445689",
       "version_major": 2,
       "version_minor": 0
      },
      "text/plain": [
       "0it [00:00, ?it/s]"
      ]
     },
     "metadata": {},
     "output_type": "display_data"
    },
    {
     "name": "stdout",
     "output_type": "stream",
     "text": [
      "Calculations done: 189   | Explored points: 231  \n",
      "Queue: [265, 140, 276, 149, 277, 157, 286, 163, 168, 172, 174, 175, 52, 61, 68, 330, 74, 79, 83, 86, 87, 88, 361, 369]\n",
      "[[0.75, 0.125, 0.125], [0.0, 0.625, 0.375], [0.0, 0.75, 0.25], [0.125, 0.625, 0.25], [0.0, 0.875, 0.125], [0.25, 0.625, 0.125], [0.125, 0.875, 0.0], [0.375, 0.5, 0.125], [0.5, 0.375, 0.125], [0.625, 0.25, 0.125], [0.75, 0.0, 0.25], [0.75, 0.125, 0.125], [0.0, 0.875, 0.125], [0.125, 0.875, 0.0], [0.25, 0.75, 0.0], [0.125, 0.75, 0.125], [0.375, 0.625, 0.0], [0.5, 0.5, 0.0], [0.625, 0.375, 0.0], [0.75, 0.25, 0.0], [0.875, 0.0, 0.125], [0.875, 0.125, 0.0], [0.0, 0.125, 0.875], [0.125, 0.0, 0.875]]\n"
     ]
    },
    {
     "data": {
      "application/vnd.jupyter.widget-view+json": {
       "model_id": "2f3fc92c8dc54dae82fa5bd5d301df3e",
       "version_major": 2,
       "version_minor": 0
      },
      "text/plain": [
       "0it [00:00, ?it/s]"
      ]
     },
     "metadata": {},
     "output_type": "display_data"
    },
    {
     "name": "stdout",
     "output_type": "stream",
     "text": [
      "Calculations done: 213   | Explored points: 265  \n",
      "Queue: [128, 130, 131, 132, 133, 267, 141, 269, 150, 169, 173, 176, 177, 178, 53, 449, 322, 97, 105, 112, 113, 118, 119, 123, 124, 127]\n",
      "[[0.625, 0.375, 0.0], [0.75, 0.125, 0.125], [0.75, 0.25, 0.0], [0.875, 0.0, 0.125], [0.875, 0.125, 0.0], [0.875, 0.0, 0.125], [0.0, 0.75, 0.25], [1.0, 0.0, 0.0], [0.125, 0.75, 0.125], [0.5, 0.5, 0.0], [0.625, 0.375, 0.0], [0.75, 0.25, 0.0], [0.875, 0.0, 0.125], [0.875, 0.125, 0.0], [0.0, 1.0, 0.0], [1.0, 0.0, 0.0], [0.0, 0.875, 0.125], [0.0, 0.875, 0.125], [0.125, 0.75, 0.125], [0.25, 0.625, 0.125], [0.25, 0.75, 0.0], [0.375, 0.5, 0.125], [0.375, 0.625, 0.0], [0.5, 0.375, 0.125], [0.5, 0.5, 0.0], [0.625, 0.25, 0.125]]\n"
     ]
    },
    {
     "data": {
      "application/vnd.jupyter.widget-view+json": {
       "model_id": "8233becd3eca44ae83b26995a7d8857e",
       "version_major": 2,
       "version_minor": 0
      },
      "text/plain": [
       "0it [00:00, ?it/s]"
      ]
     },
     "metadata": {},
     "output_type": "display_data"
    },
    {
     "name": "stdout",
     "output_type": "stream",
     "text": [
      "Calculations done: 239   | Explored points: 290  \n",
      "Queue: [117, 142, 111]\n",
      "[[0.375, 0.375, 0.25], [0.0, 0.875, 0.125], [0.25, 0.5, 0.25]]\n"
     ]
    },
    {
     "name": "stdout",
     "output_type": "stream",
     "text": [
      "Calculations done: 242   | Explored points: 293  \n",
      "Queue: [104, 110, 103]\n",
      "[[0.125, 0.625, 0.25], [0.25, 0.375, 0.375], [0.125, 0.5, 0.375]]\n",
      "Calculations done: 245   | Explored points: 296  \n",
      "Queue: [96, 102, 94, 95]\n",
      "[[0.0, 0.75, 0.25], [0.125, 0.375, 0.5], [0.0, 0.5, 0.5], [0.0, 0.625, 0.375]]\n"
     ]
    },
    {
     "data": {
      "application/vnd.jupyter.widget-view+json": {
       "model_id": "cd7fb5354c274a8280c11e43c0657dce",
       "version_major": 2,
       "version_minor": 0
      },
      "text/plain": [
       "0it [00:00, ?it/s]"
      ]
     },
     "metadata": {},
     "output_type": "display_data"
    },
    {
     "name": "stdout",
     "output_type": "stream",
     "text": [
      "Calculations done: 249   | Explored points: 303  \n",
      "Queue: [340, 346, 93, 350, 351]\n",
      "[[0.375, 0.125, 0.5], [0.5, 0.125, 0.375], [0.0, 0.375, 0.625], [0.625, 0.0, 0.375], [0.625, 0.125, 0.25]]\n"
     ]
    },
    {
     "data": {
      "application/vnd.jupyter.widget-view+json": {
       "model_id": "f4517216f5c34e719201e69781cdd6b6",
       "version_major": 2,
       "version_minor": 0
      },
      "text/plain": [
       "0it [00:00, ?it/s]"
      ]
     },
     "metadata": {},
     "output_type": "display_data"
    },
    {
     "name": "stdout",
     "output_type": "stream",
     "text": [
      "Calculations done: 254   | Explored points: 308  \n",
      "Queue: [101, 333, 334, 339, 341, 92]\n",
      "[[0.125, 0.25, 0.625], [0.25, 0.125, 0.625], [0.25, 0.25, 0.5], [0.375, 0.0, 0.625], [0.375, 0.25, 0.375], [0.0, 0.25, 0.75]]\n"
     ]
    },
    {
     "data": {
      "application/vnd.jupyter.widget-view+json": {
       "model_id": "e4c97f9c9afc4073ba900c08b0265199",
       "version_major": 2,
       "version_minor": 0
      },
      "text/plain": [
       "0it [00:00, ?it/s]"
      ]
     },
     "metadata": {},
     "output_type": "display_data"
    },
    {
     "name": "stdout",
     "output_type": "stream",
     "text": [
      "Calculations done: 260   | Explored points: 314  \n",
      "Queue: [332, 325, 326]\n",
      "[[0.25, 0.0, 0.75], [0.125, 0.125, 0.75], [0.125, 0.25, 0.625]]\n"
     ]
    },
    {
     "name": "stdout",
     "output_type": "stream",
     "text": [
      "Calculations done: 263   | Explored points: 316  \n",
      "Queue: [317, 318, 327]\n",
      "[[0.0, 0.25, 0.75], [0.0, 0.375, 0.625], [0.125, 0.375, 0.5]]\n",
      "Calculations done: 266   | Explored points: 319  \n",
      "Queue: [316, 319]\n",
      "[[0.0, 0.125, 0.875], [0.0, 0.5, 0.5]]\n"
     ]
    },
    {
     "name": "stdout",
     "output_type": "stream",
     "text": [
      "Calculations done: 268   | Explored points: 321  \n",
      "Queue: [320, 328]\n",
      "[[0.0, 0.625, 0.375], [0.125, 0.5, 0.375]]\n",
      "Calculations done: 270   | Explored points: 323  \n",
      "Queue: [329, 321]\n",
      "[[0.125, 0.625, 0.25], [0.0, 0.75, 0.25]]\n"
     ]
    },
    {
     "name": "stdout",
     "output_type": "stream",
     "text": [
      "Calculations done: 272   | Explored points: 325  \n"
     ]
    }
   ],
   "source": [
    "while len(queue) > 0:\n",
    "    print(f\"Queue: {queue}\")\n",
    "    # Calculate feasibilities of the current queue\n",
    "    elPositions = [reduced_compositions[i] for i in queue]\n",
    "    print(elPositions)\n",
    "    # Create a list of equilibrium callables for each composition\n",
    "    equilibrium_callables_list = [get_equilibrium_callable(system_comps_with_id[i], id_to_callable, equilibrium_callables) for i in queue]\n",
    "    \n",
    "    if len(queue) > 3:\n",
    "        results = process_map(apply_equilibrium_callable, zip(equilibrium_callables_list, elPositions), max_workers=4)\n",
    "    else:\n",
    "        results = [ec(elP) for ec, elP in zip(equilibrium_callables_list, elPositions)]\n",
    "    \n",
    "    # Extract only the 'Phases' component from the results\n",
    "    phases = [result['Phases'] for result in results]\n",
    "    \n",
    "    feasibilities = [len(set(p) & set(['FCC_A1', 'BCC_A2', 'HCP_A3', 'B2_BCC','A2_FCC'])) == 0 and p != [] for p in phases]\n",
    "\n",
    "    calcCount += len(feasibilities)\n",
    "    explored = explored.union(queue)\n",
    "\n",
    "    # Create next queue based on neighbors of feasible points\n",
    "    nextQueue = set()\n",
    "    nextQueuePlusEquivalent = set()\n",
    "    for f, i in zip(feasibilities, queue):\n",
    "        # Explored point\n",
    "        gridFeasible[i] = f\n",
    "\n",
    "        # And equivalent explored points based on system stitching\n",
    "        explored = explored.union(graphNS[i])\n",
    "        for eq in graphNS[i]:\n",
    "            gridFeasible[eq] = f\n",
    "\n",
    "        # Expand to neighbors of the point and equivalent points (only if the node has been feasible)\n",
    "        if f:\n",
    "            # Node neighbors in the same subsystem\n",
    "            for n in graphN[i]:\n",
    "                if n not in explored and n not in nextQueuePlusEquivalent:\n",
    "                    nextQueue.add(n)\n",
    "                    nextQueuePlusEquivalent = nextQueuePlusEquivalent.union([n] + graphNS[n])\n",
    "            # Equivalent nodes neighbors in other subsystems\n",
    "            for eq in graphNS[i]:\n",
    "                for n in graphN[eq]:\n",
    "                    if n not in explored and n not in nextQueuePlusEquivalent:\n",
    "                        nextQueue.add(n)\n",
    "                        nextQueuePlusEquivalent = nextQueuePlusEquivalent.union([n] + graphNS[n])\n",
    "\n",
    "    print(f\"Calculations done: {calcCount:<5} | Explored points: {len(explored):<5}\")\n",
    "    queue = list(nextQueue)"
   ]
  },
  {
   "cell_type": "code",
   "execution_count": 71,
   "id": "0cf5dddf",
   "metadata": {
    "execution": {
     "iopub.execute_input": "2025-01-27T00:19:12.410304Z",
     "iopub.status.busy": "2025-01-27T00:19:12.410024Z",
     "iopub.status.idle": "2025-01-27T00:19:12.416917Z",
     "shell.execute_reply": "2025-01-27T00:19:12.416591Z"
    },
    "papermill": {
     "duration": 0.031791,
     "end_time": "2025-01-27T00:19:12.417712",
     "exception": false,
     "start_time": "2025-01-27T00:19:12.385921",
     "status": "completed"
    },
    "tags": []
   },
   "outputs": [],
   "source": [
    "while len(queue) > 0:\n",
    "    print(f\"Queue: {queue}\")\n",
    "    # Calculate feasibilities of the current queue\n",
    "    elPositions = [reduced_compositions[i] for i in queue]\n",
    "    print(elPositions)\n",
    "    # Create a list of equilibrium callables for each composition\n",
    "    equilibrium_callables_list = [get_equilibrium_callable(system_comps_with_id[i], id_to_callable, equilibrium_callables) for i in queue]\n",
    "    \n",
    "    if len(queue) > 3:\n",
    "        results = process_map(apply_equilibrium_callable, zip(equilibrium_callables_list, elPositions), max_workers=4)\n",
    "    else:\n",
    "        results = [ec(elP) for ec, elP in zip(equilibrium_callables_list, elPositions)]\n",
    "    \n",
    "    # Extract only the 'Phases' component from the results\n",
    "    phases = [result['Phases'] for result in results]\n",
    "    \n",
    "    feasibilities = [len(set(p) & set(['FCC_A1', 'BCC_A2', 'HCP_A3', 'B2_BCC','A2_FCC'])) == 0 and p != [] for p in phases]\n",
    "\n",
    "    calcCount += len(feasibilities)\n",
    "    explored = explored.union(queue)\n",
    "\n",
    "    # Create next queue based on neighbors of feasible points\n",
    "    nextQueue = set()\n",
    "    nextQueuePlusEquivalent = set()\n",
    "    for f, i in zip(feasibilities, queue):\n",
    "        # Explored point\n",
    "        gridFeasible[i] = f\n",
    "\n",
    "        # And equivalent explored points based on system stitching\n",
    "        explored = explored.union(graphNS[i])\n",
    "        for eq in graphNS[i]:\n",
    "            gridFeasible[eq] = f\n",
    "\n",
    "        # Expand to neighbors of the point and equivalent points (only if the node has been feasible)\n",
    "        if f:\n",
    "            # Node neighbors in the same subsystem\n",
    "            for n in graphN[i]:\n",
    "                if n not in explored and n not in nextQueuePlusEquivalent:\n",
    "                    nextQueue.add(n)\n",
    "                    nextQueuePlusEquivalent = nextQueuePlusEquivalent.union([n] + graphNS[n])\n",
    "            # Equivalent nodes neighbors in other subsystems\n",
    "            for eq in graphNS[i]:\n",
    "                for n in graphN[eq]:\n",
    "                    if n not in explored and n not in nextQueuePlusEquivalent:\n",
    "                        nextQueue.add(n)\n",
    "                        nextQueuePlusEquivalent = nextQueuePlusEquivalent.union([n] + graphNS[n])\n",
    "\n",
    "    print(f\"Calculations done: {calcCount:<5} | Explored points: {len(explored):<5}\")\n",
    "    queue = list(nextQueue)\n"
   ]
  },
  {
   "cell_type": "markdown",
   "id": "58919b2a",
   "metadata": {
    "papermill": {
     "duration": 0.013423,
     "end_time": "2025-01-27T00:19:12.473805",
     "exception": false,
     "start_time": "2025-01-27T00:19:12.460382",
     "status": "completed"
    },
    "tags": []
   },
   "source": [
    "Out of the explored points, around 1040 should be feasible (i.e., satisfy the equilibrium constraint)."
   ]
  },
  {
   "cell_type": "markdown",
   "id": "69efabac",
   "metadata": {
    "papermill": {
     "duration": 0.01337,
     "end_time": "2025-01-27T00:19:12.564355",
     "exception": false,
     "start_time": "2025-01-27T00:19:12.550985",
     "status": "completed"
    },
    "tags": []
   },
   "source": [
    "## Adding More Constraints"
   ]
  },
  {
   "cell_type": "code",
   "execution_count": 73,
   "id": "3cfb98be",
   "metadata": {
    "execution": {
     "iopub.execute_input": "2025-01-27T00:19:12.591780Z",
     "iopub.status.busy": "2025-01-27T00:19:12.591500Z",
     "iopub.status.idle": "2025-01-27T00:19:12.991479Z",
     "shell.execute_reply": "2025-01-27T00:19:12.990992Z"
    },
    "papermill": {
     "duration": 0.414376,
     "end_time": "2025-01-27T00:19:12.992177",
     "exception": false,
     "start_time": "2025-01-27T00:19:12.577801",
     "status": "completed"
    },
    "tags": []
   },
   "outputs": [],
   "source": [
    "import pqam_rmsadtandoc2023\n",
    "\n",
    "def c2rmsad(point):\n",
    "    formula = ' '.join([f'{c}{p}' for c, p in zip(elementalSpaceComponents, point)])\n",
    "    return pqam_rmsadtandoc2023.predict(formula)"
   ]
  },
  {
   "cell_type": "markdown",
   "id": "5bd281a8",
   "metadata": {
    "tags": [
     "papermill-error-cell-tag"
    ]
   },
   "source": [
    "<span id=\"papermill-error-cell\" style=\"color:red; font-family:Helvetica Neue, Helvetica, Arial, sans-serif; font-size:2em;\">Execution using papermill encountered an exception here and stopped:</span>"
   ]
  },
  {
   "cell_type": "code",
   "execution_count": 74,
   "id": "3049578d",
   "metadata": {
    "execution": {
     "iopub.execute_input": "2025-01-27T00:19:13.020730Z",
     "iopub.status.busy": "2025-01-27T00:19:13.020042Z",
     "iopub.status.idle": "2025-01-27T00:19:13.537599Z",
     "shell.execute_reply": "2025-01-27T00:19:13.536967Z"
    },
    "papermill": {
     "duration": 0.532355,
     "end_time": "2025-01-27T00:19:13.538268",
     "exception": true,
     "start_time": "2025-01-27T00:19:13.005913",
     "status": "failed"
    },
    "tags": []
   },
   "outputs": [
    {
     "name": "stdout",
     "output_type": "stream",
     "text": [
      "[0.0, 0.0, 1.0, 0.0, 0.0]\n"
     ]
    },
    {
     "ename": "NotImplementedError",
     "evalue": "Element Ni passed as an input has not been implemented within Tandoc 2023 model covering Ti, Zr, Hf, V, Nb, Ta, Mo, W, Re, Ru",
     "output_type": "error",
     "traceback": [
      "\u001b[0;31m---------------------------------------------------------------------------\u001b[0m",
      "\u001b[0;31mNotImplementedError\u001b[0m                       Traceback (most recent call last)",
      "Cell \u001b[0;32mIn[74], line 2\u001b[0m\n\u001b[1;32m      1\u001b[0m \u001b[38;5;28mprint\u001b[39m(compositions[\u001b[38;5;241m0\u001b[39m])\n\u001b[0;32m----> 2\u001b[0m \u001b[43mc2rmsad\u001b[49m\u001b[43m(\u001b[49m\u001b[43mcompositions\u001b[49m\u001b[43m[\u001b[49m\u001b[38;5;241;43m0\u001b[39;49m\u001b[43m]\u001b[49m\u001b[43m)\u001b[49m\n",
      "Cell \u001b[0;32mIn[73], line 5\u001b[0m, in \u001b[0;36mc2rmsad\u001b[0;34m(point)\u001b[0m\n\u001b[1;32m      3\u001b[0m \u001b[38;5;28;01mdef\u001b[39;00m\u001b[38;5;250m \u001b[39m\u001b[38;5;21mc2rmsad\u001b[39m(point):\n\u001b[1;32m      4\u001b[0m     formula \u001b[38;5;241m=\u001b[39m \u001b[38;5;124m'\u001b[39m\u001b[38;5;124m \u001b[39m\u001b[38;5;124m'\u001b[39m\u001b[38;5;241m.\u001b[39mjoin([\u001b[38;5;124mf\u001b[39m\u001b[38;5;124m'\u001b[39m\u001b[38;5;132;01m{\u001b[39;00mc\u001b[38;5;132;01m}\u001b[39;00m\u001b[38;5;132;01m{\u001b[39;00mp\u001b[38;5;132;01m}\u001b[39;00m\u001b[38;5;124m'\u001b[39m \u001b[38;5;28;01mfor\u001b[39;00m c, p \u001b[38;5;129;01min\u001b[39;00m \u001b[38;5;28mzip\u001b[39m(elementalSpaceComponents, point)])\n\u001b[0;32m----> 5\u001b[0m     \u001b[38;5;28;01mreturn\u001b[39;00m \u001b[43mpqam_rmsadtandoc2023\u001b[49m\u001b[38;5;241;43m.\u001b[39;49m\u001b[43mpredict\u001b[49m\u001b[43m(\u001b[49m\u001b[43mformula\u001b[49m\u001b[43m)\u001b[49m\n",
      "File \u001b[0;32m/ocean/projects/dmr190011p/arichte1/micromamba/envs/v2ammap/lib/python3.11/site-packages/pqam_rmsadtandoc2023/model.py:192\u001b[0m, in \u001b[0;36mpredict\u001b[0;34m(comp, outputType)\u001b[0m\n\u001b[1;32m    190\u001b[0m     elStr \u001b[38;5;241m=\u001b[39m \u001b[38;5;28mstr\u001b[39m(element)\n\u001b[1;32m    191\u001b[0m     \u001b[38;5;28;01mif\u001b[39;00m elStr \u001b[38;5;129;01mnot\u001b[39;00m \u001b[38;5;129;01min\u001b[39;00m [\u001b[38;5;124m\"\u001b[39m\u001b[38;5;124mTi\u001b[39m\u001b[38;5;124m\"\u001b[39m, \u001b[38;5;124m\"\u001b[39m\u001b[38;5;124mZr\u001b[39m\u001b[38;5;124m\"\u001b[39m, \u001b[38;5;124m\"\u001b[39m\u001b[38;5;124mHf\u001b[39m\u001b[38;5;124m\"\u001b[39m, \u001b[38;5;124m\"\u001b[39m\u001b[38;5;124mV\u001b[39m\u001b[38;5;124m\"\u001b[39m, \u001b[38;5;124m\"\u001b[39m\u001b[38;5;124mNb\u001b[39m\u001b[38;5;124m\"\u001b[39m, \u001b[38;5;124m\"\u001b[39m\u001b[38;5;124mTa\u001b[39m\u001b[38;5;124m\"\u001b[39m, \u001b[38;5;124m\"\u001b[39m\u001b[38;5;124mMo\u001b[39m\u001b[38;5;124m\"\u001b[39m, \u001b[38;5;124m\"\u001b[39m\u001b[38;5;124mW\u001b[39m\u001b[38;5;124m\"\u001b[39m, \u001b[38;5;124m\"\u001b[39m\u001b[38;5;124mRe\u001b[39m\u001b[38;5;124m\"\u001b[39m, \u001b[38;5;124m\"\u001b[39m\u001b[38;5;124mRu\u001b[39m\u001b[38;5;124m\"\u001b[39m]:\n\u001b[0;32m--> 192\u001b[0m         \u001b[38;5;28;01mraise\u001b[39;00m \u001b[38;5;167;01mNotImplementedError\u001b[39;00m(\n\u001b[1;32m    193\u001b[0m             \u001b[38;5;124mf\u001b[39m\u001b[38;5;124m\"\u001b[39m\u001b[38;5;124mElement \u001b[39m\u001b[38;5;132;01m{\u001b[39;00melStr\u001b[38;5;132;01m}\u001b[39;00m\u001b[38;5;124m passed as an input has not been implemented within Tandoc 2023 model covering Ti, Zr, Hf, V, Nb, Ta, Mo, W, Re, Ru\u001b[39m\u001b[38;5;124m\"\u001b[39m)\n\u001b[1;32m    194\u001b[0m     elements[elStr] \u001b[38;5;241m=\u001b[39m comp\u001b[38;5;241m.\u001b[39mget_atomic_fraction(element)\n\u001b[1;32m    195\u001b[0m pairs \u001b[38;5;241m=\u001b[39m {}\n",
      "\u001b[0;31mNotImplementedError\u001b[0m: Element Ni passed as an input has not been implemented within Tandoc 2023 model covering Ti, Zr, Hf, V, Nb, Ta, Mo, W, Re, Ru"
     ]
    }
   ],
   "source": [
    "print(compositions[0])\n",
    "c2rmsad(compositions[0])"
   ]
  },
  {
   "cell_type": "code",
   "execution_count": null,
   "id": "79b0893d",
   "metadata": {
    "papermill": {
     "duration": null,
     "end_time": null,
     "exception": null,
     "start_time": null,
     "status": "pending"
    },
    "tags": []
   },
   "outputs": [],
   "source": [
    "avgRMSAD = sum([c2rmsad(p) for p in compositions])/len(compositions)\n",
    "print(f\"Average RMSAD: {avgRMSAD}\")"
   ]
  },
  {
   "cell_type": "code",
   "execution_count": null,
   "id": "da139bfe",
   "metadata": {
    "papermill": {
     "duration": null,
     "end_time": null,
     "exception": null,
     "start_time": null,
     "status": "pending"
    },
    "tags": []
   },
   "outputs": [],
   "source": [
    "startingNodes = [0, 90, 742, 799, 1048, 1070, 1538] + random.sample(range(len(compositions)), 13)\n",
    "\n",
    "for startingNode in startingNodes:\n",
    "    print(f\"Starting node ({startingNode}): {compositions[startingNode]}\")"
   ]
  },
  {
   "cell_type": "code",
   "execution_count": null,
   "id": "7b4fb6fa",
   "metadata": {
    "papermill": {
     "duration": null,
     "end_time": null,
     "exception": null,
     "start_time": null,
     "status": "pending"
    },
    "tags": []
   },
   "outputs": [],
   "source": [
    "gridFeasible = [None]*len(compositions)\n",
    "queue = startingNodes.copy()\n",
    "explored = set()\n",
    "calcCount = 0\n",
    "\n",
    "minRMSAD = 0.2\n",
    "print(f\"Minimum RMSAD: {minRMSAD}\")"
   ]
  },
  {
   "cell_type": "code",
   "execution_count": null,
   "id": "b2be0f72",
   "metadata": {
    "papermill": {
     "duration": null,
     "end_time": null,
     "exception": null,
     "start_time": null,
     "status": "pending"
    },
    "tags": []
   },
   "outputs": [],
   "source": [
    "while len(queue)>0:\n",
    "    print(f\"Queue: {queue}\")\n",
    "    # Skip all points with RMSAD below the minimum (inexpensive) by removing them from the queue, marking them as infeasible, and adding them to explored\n",
    "    for i in queue:\n",
    "        if c2rmsad(compositions[i]) < minRMSAD:\n",
    "            for eq in [i] + graphNS[i]:\n",
    "                gridFeasible[eq] = False\n",
    "            explored = explored.union([i] + graphNS[i])\n",
    "    queue = [i for i in queue if gridFeasible[i] is None]\n",
    "\n",
    "    # Calculate CALPHAD feasibilities (expensive) of the current queue\n",
    "    elPositions = [compositions[i] for i in queue]\n",
    "    if len(queue)>3:\n",
    "        phases = process_map(equilibrium_callable, elPositions, max_workers=4)\n",
    "    else:\n",
    "        phases = [equilibrium_callable(elP) for elP in elPositions]\n",
    "    feasibilities = [len(set(p) & set(['LAVES_C15', 'LAVES_C36', 'LAVES_C14', 'LIQUID']))==0 and p!=[] for p in phases]\n",
    "\n",
    "    calcCount += len(feasibilities)\n",
    "    explored = explored.union(queue)\n",
    "\n",
    "    # Create next queue based on neighbors of feasible points\n",
    "    nextQueue = set()\n",
    "    nextQueuePlusEquivalent = set()\n",
    "    for f, i in zip(feasibilities, queue):\n",
    "        # Explored point\n",
    "        gridFeasible[i] = f\n",
    "\n",
    "        # And equivalent explored points based on system stitching\n",
    "        explored = explored.union(graphNS[i])\n",
    "        for eq in graphNS[i]:\n",
    "            gridFeasible[eq] = f\n",
    "\n",
    "        # Expand to neighbors of the point and equivalent points (only if the node has been feasible)\n",
    "        if f:\n",
    "            # Node neighbors in the same subsystem\n",
    "            for n in graphN[i]:\n",
    "                if n not in explored and n not in nextQueuePlusEquivalent:\n",
    "                    nextQueue.add(n)\n",
    "                    nextQueuePlusEquivalent = nextQueuePlusEquivalent.union([n] + graphNS[n])\n",
    "            # Equivalent nodes neighbors in other subsystems\n",
    "            for eq in graphNS[i]:\n",
    "                for n in graphN[eq]:\n",
    "                    if n not in explored and n not in nextQueuePlusEquivalent:\n",
    "                        nextQueue.add(n)\n",
    "                        nextQueuePlusEquivalent = nextQueuePlusEquivalent.union([n] + graphNS[n])\n",
    "\n",
    "    print(f\"Calculations done: {calcCount:<5} | Explored points: {len(explored):<5}\")\n",
    "    queue = list(nextQueue)"
   ]
  },
  {
   "cell_type": "code",
   "execution_count": null,
   "id": "17e3766a",
   "metadata": {
    "papermill": {
     "duration": null,
     "end_time": null,
     "exception": null,
     "start_time": null,
     "status": "pending"
    },
    "tags": []
   },
   "outputs": [],
   "source": [
    "sum([f for f in gridFeasible if f])"
   ]
  },
  {
   "cell_type": "code",
   "execution_count": null,
   "id": "543a4eeb",
   "metadata": {
    "papermill": {
     "duration": null,
     "end_time": null,
     "exception": null,
     "start_time": null,
     "status": "pending"
    },
    "tags": []
   },
   "outputs": [],
   "source": [
    "len(gridFeasible)"
   ]
  },
  {
   "cell_type": "code",
   "execution_count": null,
   "id": "bf214151",
   "metadata": {
    "papermill": {
     "duration": null,
     "end_time": null,
     "exception": null,
     "start_time": null,
     "status": "pending"
    },
    "tags": []
   },
   "outputs": [],
   "source": []
  },
  {
   "cell_type": "code",
   "execution_count": null,
   "id": "454f6840",
   "metadata": {
    "papermill": {
     "duration": null,
     "end_time": null,
     "exception": null,
     "start_time": null,
     "status": "pending"
    },
    "tags": []
   },
   "outputs": [],
   "source": []
  }
 ],
 "metadata": {
  "kernelspec": {
   "display_name": "v2ammap",
   "language": "python",
   "name": "python3"
  },
  "language_info": {
   "codemirror_mode": {
    "name": "ipython",
    "version": 3
   },
   "file_extension": ".py",
   "mimetype": "text/x-python",
   "name": "python",
   "nbconvert_exporter": "python",
   "pygments_lexer": "ipython3",
   "version": "3.11.9"
  },
  "papermill": {
   "default_parameters": {},
   "duration": 63.884282,
   "end_time": "2025-01-27T00:19:14.869101",
   "environment_variables": {},
   "exception": true,
   "input_path": "Compositional_Space_Stitching.ipynb",
   "output_path": "Compositional_Space_Stitching_out1.ipynb",
   "parameters": {},
   "start_time": "2025-01-27T00:18:10.984819",
   "version": "2.6.0"
  },
  "widgets": {
   "application/vnd.jupyter.widget-state+json": {
    "state": {
     "02163d690ab14fe8b0c8b3ff8095f561": {
      "model_module": "@jupyter-widgets/base",
      "model_module_version": "2.0.0",
      "model_name": "LayoutModel",
      "state": {
       "_model_module": "@jupyter-widgets/base",
       "_model_module_version": "2.0.0",
       "_model_name": "LayoutModel",
       "_view_count": null,
       "_view_module": "@jupyter-widgets/base",
       "_view_module_version": "2.0.0",
       "_view_name": "LayoutView",
       "align_content": null,
       "align_items": null,
       "align_self": null,
       "border_bottom": null,
       "border_left": null,
       "border_right": null,
       "border_top": null,
       "bottom": null,
       "display": null,
       "flex": null,
       "flex_flow": null,
       "grid_area": null,
       "grid_auto_columns": null,
       "grid_auto_flow": null,
       "grid_auto_rows": null,
       "grid_column": null,
       "grid_gap": null,
       "grid_row": null,
       "grid_template_areas": null,
       "grid_template_columns": null,
       "grid_template_rows": null,
       "height": null,
       "justify_content": null,
       "justify_items": null,
       "left": null,
       "margin": null,
       "max_height": null,
       "max_width": null,
       "min_height": null,
       "min_width": null,
       "object_fit": null,
       "object_position": null,
       "order": null,
       "overflow": null,
       "padding": null,
       "right": null,
       "top": null,
       "visibility": null,
       "width": null
      }
     },
     "0304e9d6e4ab44e5a08278da9164d042": {
      "model_module": "@jupyter-widgets/controls",
      "model_module_version": "2.0.0",
      "model_name": "HBoxModel",
      "state": {
       "_dom_classes": [],
       "_model_module": "@jupyter-widgets/controls",
       "_model_module_version": "2.0.0",
       "_model_name": "HBoxModel",
       "_view_count": null,
       "_view_module": "@jupyter-widgets/controls",
       "_view_module_version": "2.0.0",
       "_view_name": "HBoxView",
       "box_style": "",
       "children": [
        "IPY_MODEL_a2528072b2794953a84d52c1e14794d6",
        "IPY_MODEL_320e9e31c4854a88b2cc785d0a643e78",
        "IPY_MODEL_9114864ab95b401dbea245ae2b2613a1"
       ],
       "layout": "IPY_MODEL_4cfc7b1aa3e34829a7b7e0e96ac90244",
       "tabbable": null,
       "tooltip": null
      }
     },
     "0674be443bea43bf8d7fbfb8a9011b80": {
      "model_module": "@jupyter-widgets/controls",
      "model_module_version": "2.0.0",
      "model_name": "HTMLStyleModel",
      "state": {
       "_model_module": "@jupyter-widgets/controls",
       "_model_module_version": "2.0.0",
       "_model_name": "HTMLStyleModel",
       "_view_count": null,
       "_view_module": "@jupyter-widgets/base",
       "_view_module_version": "2.0.0",
       "_view_name": "StyleView",
       "background": null,
       "description_width": "",
       "font_size": null,
       "text_color": null
      }
     },
     "077337d22ace4e27a723e9102eb36e61": {
      "model_module": "@jupyter-widgets/base",
      "model_module_version": "2.0.0",
      "model_name": "LayoutModel",
      "state": {
       "_model_module": "@jupyter-widgets/base",
       "_model_module_version": "2.0.0",
       "_model_name": "LayoutModel",
       "_view_count": null,
       "_view_module": "@jupyter-widgets/base",
       "_view_module_version": "2.0.0",
       "_view_name": "LayoutView",
       "align_content": null,
       "align_items": null,
       "align_self": null,
       "border_bottom": null,
       "border_left": null,
       "border_right": null,
       "border_top": null,
       "bottom": null,
       "display": null,
       "flex": null,
       "flex_flow": null,
       "grid_area": null,
       "grid_auto_columns": null,
       "grid_auto_flow": null,
       "grid_auto_rows": null,
       "grid_column": null,
       "grid_gap": null,
       "grid_row": null,
       "grid_template_areas": null,
       "grid_template_columns": null,
       "grid_template_rows": null,
       "height": null,
       "justify_content": null,
       "justify_items": null,
       "left": null,
       "margin": null,
       "max_height": null,
       "max_width": null,
       "min_height": null,
       "min_width": null,
       "object_fit": null,
       "object_position": null,
       "order": null,
       "overflow": null,
       "padding": null,
       "right": null,
       "top": null,
       "visibility": null,
       "width": null
      }
     },
     "0813ad7b079144be83ab630a69b30ad7": {
      "model_module": "@jupyter-widgets/controls",
      "model_module_version": "2.0.0",
      "model_name": "HTMLModel",
      "state": {
       "_dom_classes": [],
       "_model_module": "@jupyter-widgets/controls",
       "_model_module_version": "2.0.0",
       "_model_name": "HTMLModel",
       "_view_count": null,
       "_view_module": "@jupyter-widgets/controls",
       "_view_module_version": "2.0.0",
       "_view_name": "HTMLView",
       "description": "",
       "description_allow_html": false,
       "layout": "IPY_MODEL_47a1f9be8a994c74973dec5311ab4379",
       "placeholder": "​",
       "style": "IPY_MODEL_ac588e8c4be4442cbd403ad53bc9c15b",
       "tabbable": null,
       "tooltip": null,
       "value": ""
      }
     },
     "08366e2031a64556a8c59384c7b1b3e2": {
      "model_module": "@jupyter-widgets/base",
      "model_module_version": "2.0.0",
      "model_name": "LayoutModel",
      "state": {
       "_model_module": "@jupyter-widgets/base",
       "_model_module_version": "2.0.0",
       "_model_name": "LayoutModel",
       "_view_count": null,
       "_view_module": "@jupyter-widgets/base",
       "_view_module_version": "2.0.0",
       "_view_name": "LayoutView",
       "align_content": null,
       "align_items": null,
       "align_self": null,
       "border_bottom": null,
       "border_left": null,
       "border_right": null,
       "border_top": null,
       "bottom": null,
       "display": null,
       "flex": null,
       "flex_flow": null,
       "grid_area": null,
       "grid_auto_columns": null,
       "grid_auto_flow": null,
       "grid_auto_rows": null,
       "grid_column": null,
       "grid_gap": null,
       "grid_row": null,
       "grid_template_areas": null,
       "grid_template_columns": null,
       "grid_template_rows": null,
       "height": null,
       "justify_content": null,
       "justify_items": null,
       "left": null,
       "margin": null,
       "max_height": null,
       "max_width": null,
       "min_height": null,
       "min_width": null,
       "object_fit": null,
       "object_position": null,
       "order": null,
       "overflow": null,
       "padding": null,
       "right": null,
       "top": null,
       "visibility": null,
       "width": null
      }
     },
     "0b7836628e1244399102a4b2fd33eaea": {
      "model_module": "@jupyter-widgets/base",
      "model_module_version": "2.0.0",
      "model_name": "LayoutModel",
      "state": {
       "_model_module": "@jupyter-widgets/base",
       "_model_module_version": "2.0.0",
       "_model_name": "LayoutModel",
       "_view_count": null,
       "_view_module": "@jupyter-widgets/base",
       "_view_module_version": "2.0.0",
       "_view_name": "LayoutView",
       "align_content": null,
       "align_items": null,
       "align_self": null,
       "border_bottom": null,
       "border_left": null,
       "border_right": null,
       "border_top": null,
       "bottom": null,
       "display": null,
       "flex": null,
       "flex_flow": null,
       "grid_area": null,
       "grid_auto_columns": null,
       "grid_auto_flow": null,
       "grid_auto_rows": null,
       "grid_column": null,
       "grid_gap": null,
       "grid_row": null,
       "grid_template_areas": null,
       "grid_template_columns": null,
       "grid_template_rows": null,
       "height": null,
       "justify_content": null,
       "justify_items": null,
       "left": null,
       "margin": null,
       "max_height": null,
       "max_width": null,
       "min_height": null,
       "min_width": null,
       "object_fit": null,
       "object_position": null,
       "order": null,
       "overflow": null,
       "padding": null,
       "right": null,
       "top": null,
       "visibility": null,
       "width": null
      }
     },
     "0be586964b5749c29dc2aeff0d949cd4": {
      "model_module": "@jupyter-widgets/controls",
      "model_module_version": "2.0.0",
      "model_name": "HTMLModel",
      "state": {
       "_dom_classes": [],
       "_model_module": "@jupyter-widgets/controls",
       "_model_module_version": "2.0.0",
       "_model_name": "HTMLModel",
       "_view_count": null,
       "_view_module": "@jupyter-widgets/controls",
       "_view_module_version": "2.0.0",
       "_view_name": "HTMLView",
       "description": "",
       "description_allow_html": false,
       "layout": "IPY_MODEL_977fce529c7543ed8c545951940b1f4d",
       "placeholder": "​",
       "style": "IPY_MODEL_4f43abecee664fddbd54cf897c88e640",
       "tabbable": null,
       "tooltip": null,
       "value": " 28/0 [00:02&lt;00:00, 12.86it/s]"
      }
     },
     "0e91234118cc4b0aa38d6dc6ccf0e8fb": {
      "model_module": "@jupyter-widgets/controls",
      "model_module_version": "2.0.0",
      "model_name": "ProgressStyleModel",
      "state": {
       "_model_module": "@jupyter-widgets/controls",
       "_model_module_version": "2.0.0",
       "_model_name": "ProgressStyleModel",
       "_view_count": null,
       "_view_module": "@jupyter-widgets/base",
       "_view_module_version": "2.0.0",
       "_view_name": "StyleView",
       "bar_color": null,
       "description_width": ""
      }
     },
     "100b1e4316964cf9a8c7c8592e6e76c0": {
      "model_module": "@jupyter-widgets/controls",
      "model_module_version": "2.0.0",
      "model_name": "HTMLStyleModel",
      "state": {
       "_model_module": "@jupyter-widgets/controls",
       "_model_module_version": "2.0.0",
       "_model_name": "HTMLStyleModel",
       "_view_count": null,
       "_view_module": "@jupyter-widgets/base",
       "_view_module_version": "2.0.0",
       "_view_name": "StyleView",
       "background": null,
       "description_width": "",
       "font_size": null,
       "text_color": null
      }
     },
     "16a1d2be2113499d9e0cfe1a2c445689": {
      "model_module": "@jupyter-widgets/controls",
      "model_module_version": "2.0.0",
      "model_name": "HBoxModel",
      "state": {
       "_dom_classes": [],
       "_model_module": "@jupyter-widgets/controls",
       "_model_module_version": "2.0.0",
       "_model_name": "HBoxModel",
       "_view_count": null,
       "_view_module": "@jupyter-widgets/controls",
       "_view_module_version": "2.0.0",
       "_view_name": "HBoxView",
       "box_style": "",
       "children": [
        "IPY_MODEL_bd728e62828c45dbb06f1c15fb49532e",
        "IPY_MODEL_e919a3bdb58545eaa5544fc9b16a6729",
        "IPY_MODEL_0be586964b5749c29dc2aeff0d949cd4"
       ],
       "layout": "IPY_MODEL_d4c9cf6a1d5f4075b982c4e1103bd4c7",
       "tabbable": null,
       "tooltip": null
      }
     },
     "1914e9bd42e84530b90fe3926d7bece2": {
      "model_module": "@jupyter-widgets/controls",
      "model_module_version": "2.0.0",
      "model_name": "ProgressStyleModel",
      "state": {
       "_model_module": "@jupyter-widgets/controls",
       "_model_module_version": "2.0.0",
       "_model_name": "ProgressStyleModel",
       "_view_count": null,
       "_view_module": "@jupyter-widgets/base",
       "_view_module_version": "2.0.0",
       "_view_name": "StyleView",
       "bar_color": null,
       "description_width": ""
      }
     },
     "19b4db933af24e048cf7363c7277aeea": {
      "model_module": "@jupyter-widgets/base",
      "model_module_version": "2.0.0",
      "model_name": "LayoutModel",
      "state": {
       "_model_module": "@jupyter-widgets/base",
       "_model_module_version": "2.0.0",
       "_model_name": "LayoutModel",
       "_view_count": null,
       "_view_module": "@jupyter-widgets/base",
       "_view_module_version": "2.0.0",
       "_view_name": "LayoutView",
       "align_content": null,
       "align_items": null,
       "align_self": null,
       "border_bottom": null,
       "border_left": null,
       "border_right": null,
       "border_top": null,
       "bottom": null,
       "display": null,
       "flex": null,
       "flex_flow": null,
       "grid_area": null,
       "grid_auto_columns": null,
       "grid_auto_flow": null,
       "grid_auto_rows": null,
       "grid_column": null,
       "grid_gap": null,
       "grid_row": null,
       "grid_template_areas": null,
       "grid_template_columns": null,
       "grid_template_rows": null,
       "height": null,
       "justify_content": null,
       "justify_items": null,
       "left": null,
       "margin": null,
       "max_height": null,
       "max_width": null,
       "min_height": null,
       "min_width": null,
       "object_fit": null,
       "object_position": null,
       "order": null,
       "overflow": null,
       "padding": null,
       "right": null,
       "top": null,
       "visibility": null,
       "width": null
      }
     },
     "1ce6839884d74f6c90b5a20afdb6f584": {
      "model_module": "@jupyter-widgets/controls",
      "model_module_version": "2.0.0",
      "model_name": "HTMLModel",
      "state": {
       "_dom_classes": [],
       "_model_module": "@jupyter-widgets/controls",
       "_model_module_version": "2.0.0",
       "_model_name": "HTMLModel",
       "_view_count": null,
       "_view_module": "@jupyter-widgets/controls",
       "_view_module_version": "2.0.0",
       "_view_name": "HTMLView",
       "description": "",
       "description_allow_html": false,
       "layout": "IPY_MODEL_de627a9e0a72483f9373a2729692b28b",
       "placeholder": "​",
       "style": "IPY_MODEL_d10abaf42aac48d1947cc7c926524ce1",
       "tabbable": null,
       "tooltip": null,
       "value": ""
      }
     },
     "1dae2609b92b43e2a79f0b002dfab694": {
      "model_module": "@jupyter-widgets/base",
      "model_module_version": "2.0.0",
      "model_name": "LayoutModel",
      "state": {
       "_model_module": "@jupyter-widgets/base",
       "_model_module_version": "2.0.0",
       "_model_name": "LayoutModel",
       "_view_count": null,
       "_view_module": "@jupyter-widgets/base",
       "_view_module_version": "2.0.0",
       "_view_name": "LayoutView",
       "align_content": null,
       "align_items": null,
       "align_self": null,
       "border_bottom": null,
       "border_left": null,
       "border_right": null,
       "border_top": null,
       "bottom": null,
       "display": null,
       "flex": null,
       "flex_flow": null,
       "grid_area": null,
       "grid_auto_columns": null,
       "grid_auto_flow": null,
       "grid_auto_rows": null,
       "grid_column": null,
       "grid_gap": null,
       "grid_row": null,
       "grid_template_areas": null,
       "grid_template_columns": null,
       "grid_template_rows": null,
       "height": null,
       "justify_content": null,
       "justify_items": null,
       "left": null,
       "margin": null,
       "max_height": null,
       "max_width": null,
       "min_height": null,
       "min_width": null,
       "object_fit": null,
       "object_position": null,
       "order": null,
       "overflow": null,
       "padding": null,
       "right": null,
       "top": null,
       "visibility": null,
       "width": "20px"
      }
     },
     "2b5618af9ba84325a8f256105391bdb6": {
      "model_module": "@jupyter-widgets/controls",
      "model_module_version": "2.0.0",
      "model_name": "HTMLStyleModel",
      "state": {
       "_model_module": "@jupyter-widgets/controls",
       "_model_module_version": "2.0.0",
       "_model_name": "HTMLStyleModel",
       "_view_count": null,
       "_view_module": "@jupyter-widgets/base",
       "_view_module_version": "2.0.0",
       "_view_name": "StyleView",
       "background": null,
       "description_width": "",
       "font_size": null,
       "text_color": null
      }
     },
     "2ce4600f5c304498956b1a7dd32fa9d7": {
      "model_module": "@jupyter-widgets/controls",
      "model_module_version": "2.0.0",
      "model_name": "HTMLModel",
      "state": {
       "_dom_classes": [],
       "_model_module": "@jupyter-widgets/controls",
       "_model_module_version": "2.0.0",
       "_model_name": "HTMLModel",
       "_view_count": null,
       "_view_module": "@jupyter-widgets/controls",
       "_view_module_version": "2.0.0",
       "_view_name": "HTMLView",
       "description": "",
       "description_allow_html": false,
       "layout": "IPY_MODEL_08366e2031a64556a8c59384c7b1b3e2",
       "placeholder": "​",
       "style": "IPY_MODEL_870faace7c23471ba1f05cc70069e32c",
       "tabbable": null,
       "tooltip": null,
       "value": ""
      }
     },
     "2ec90570f4954a258359ec337582367b": {
      "model_module": "@jupyter-widgets/base",
      "model_module_version": "2.0.0",
      "model_name": "LayoutModel",
      "state": {
       "_model_module": "@jupyter-widgets/base",
       "_model_module_version": "2.0.0",
       "_model_name": "LayoutModel",
       "_view_count": null,
       "_view_module": "@jupyter-widgets/base",
       "_view_module_version": "2.0.0",
       "_view_name": "LayoutView",
       "align_content": null,
       "align_items": null,
       "align_self": null,
       "border_bottom": null,
       "border_left": null,
       "border_right": null,
       "border_top": null,
       "bottom": null,
       "display": null,
       "flex": null,
       "flex_flow": null,
       "grid_area": null,
       "grid_auto_columns": null,
       "grid_auto_flow": null,
       "grid_auto_rows": null,
       "grid_column": null,
       "grid_gap": null,
       "grid_row": null,
       "grid_template_areas": null,
       "grid_template_columns": null,
       "grid_template_rows": null,
       "height": null,
       "justify_content": null,
       "justify_items": null,
       "left": null,
       "margin": null,
       "max_height": null,
       "max_width": null,
       "min_height": null,
       "min_width": null,
       "object_fit": null,
       "object_position": null,
       "order": null,
       "overflow": null,
       "padding": null,
       "right": null,
       "top": null,
       "visibility": null,
       "width": null
      }
     },
     "2f3fc92c8dc54dae82fa5bd5d301df3e": {
      "model_module": "@jupyter-widgets/controls",
      "model_module_version": "2.0.0",
      "model_name": "HBoxModel",
      "state": {
       "_dom_classes": [],
       "_model_module": "@jupyter-widgets/controls",
       "_model_module_version": "2.0.0",
       "_model_name": "HBoxModel",
       "_view_count": null,
       "_view_module": "@jupyter-widgets/controls",
       "_view_module_version": "2.0.0",
       "_view_name": "HBoxView",
       "box_style": "",
       "children": [
        "IPY_MODEL_1ce6839884d74f6c90b5a20afdb6f584",
        "IPY_MODEL_f785cc50749a435b997ac411b862194c",
        "IPY_MODEL_65943064463241218c19f70559db37c6"
       ],
       "layout": "IPY_MODEL_b526a633648d46cf87f6dc86d7c5f238",
       "tabbable": null,
       "tooltip": null
      }
     },
     "30576d8242044befb26d4428f2748e61": {
      "model_module": "@jupyter-widgets/controls",
      "model_module_version": "2.0.0",
      "model_name": "HTMLModel",
      "state": {
       "_dom_classes": [],
       "_model_module": "@jupyter-widgets/controls",
       "_model_module_version": "2.0.0",
       "_model_name": "HTMLModel",
       "_view_count": null,
       "_view_module": "@jupyter-widgets/controls",
       "_view_module_version": "2.0.0",
       "_view_name": "HTMLView",
       "description": "",
       "description_allow_html": false,
       "layout": "IPY_MODEL_6987d62634114b01b5a4c8e8fc2a96f1",
       "placeholder": "​",
       "style": "IPY_MODEL_2b5618af9ba84325a8f256105391bdb6",
       "tabbable": null,
       "tooltip": null,
       "value": " 26/0 [00:01&lt;00:00,  6.79it/s]"
      }
     },
     "31f945c261944a189af6743fdee1b23b": {
      "model_module": "@jupyter-widgets/controls",
      "model_module_version": "2.0.0",
      "model_name": "HBoxModel",
      "state": {
       "_dom_classes": [],
       "_model_module": "@jupyter-widgets/controls",
       "_model_module_version": "2.0.0",
       "_model_name": "HBoxModel",
       "_view_count": null,
       "_view_module": "@jupyter-widgets/controls",
       "_view_module_version": "2.0.0",
       "_view_name": "HBoxView",
       "box_style": "",
       "children": [
        "IPY_MODEL_5b62ca22751f4ff7b3fcc97d8724124c",
        "IPY_MODEL_ca7ef0dc32444265913aabe85ddde539",
        "IPY_MODEL_b2df9bef90a842c7afd25819a97d4004"
       ],
       "layout": "IPY_MODEL_80320c6c6b714cc39204b77ba7b7ffa0",
       "tabbable": null,
       "tooltip": null
      }
     },
     "320e9e31c4854a88b2cc785d0a643e78": {
      "model_module": "@jupyter-widgets/controls",
      "model_module_version": "2.0.0",
      "model_name": "FloatProgressModel",
      "state": {
       "_dom_classes": [],
       "_model_module": "@jupyter-widgets/controls",
       "_model_module_version": "2.0.0",
       "_model_name": "FloatProgressModel",
       "_view_count": null,
       "_view_module": "@jupyter-widgets/controls",
       "_view_module_version": "2.0.0",
       "_view_name": "ProgressView",
       "bar_style": "success",
       "description": "",
       "description_allow_html": false,
       "layout": "IPY_MODEL_d0dd99bb600f4dfba6649f7e5149b59f",
       "max": 1,
       "min": 0,
       "orientation": "horizontal",
       "style": "IPY_MODEL_ddec96bc5f164a4c87fe066630617853",
       "tabbable": null,
       "tooltip": null,
       "value": 1
      }
     },
     "33dae2e87a924285aeceb4d3241c83d6": {
      "model_module": "@jupyter-widgets/controls",
      "model_module_version": "2.0.0",
      "model_name": "FloatProgressModel",
      "state": {
       "_dom_classes": [],
       "_model_module": "@jupyter-widgets/controls",
       "_model_module_version": "2.0.0",
       "_model_name": "FloatProgressModel",
       "_view_count": null,
       "_view_module": "@jupyter-widgets/controls",
       "_view_module_version": "2.0.0",
       "_view_name": "ProgressView",
       "bar_style": "success",
       "description": "",
       "description_allow_html": false,
       "layout": "IPY_MODEL_1dae2609b92b43e2a79f0b002dfab694",
       "max": 1,
       "min": 0,
       "orientation": "horizontal",
       "style": "IPY_MODEL_847f979819aa495aa3043b5812ceb04e",
       "tabbable": null,
       "tooltip": null,
       "value": 1
      }
     },
     "37e27cb24b5242f5b7d4e9e3a4be8d58": {
      "model_module": "@jupyter-widgets/controls",
      "model_module_version": "2.0.0",
      "model_name": "ProgressStyleModel",
      "state": {
       "_model_module": "@jupyter-widgets/controls",
       "_model_module_version": "2.0.0",
       "_model_name": "ProgressStyleModel",
       "_view_count": null,
       "_view_module": "@jupyter-widgets/base",
       "_view_module_version": "2.0.0",
       "_view_name": "StyleView",
       "bar_color": null,
       "description_width": ""
      }
     },
     "38ea5a752da6480fa880655650159f8f": {
      "model_module": "@jupyter-widgets/controls",
      "model_module_version": "2.0.0",
      "model_name": "HTMLStyleModel",
      "state": {
       "_model_module": "@jupyter-widgets/controls",
       "_model_module_version": "2.0.0",
       "_model_name": "HTMLStyleModel",
       "_view_count": null,
       "_view_module": "@jupyter-widgets/base",
       "_view_module_version": "2.0.0",
       "_view_name": "StyleView",
       "background": null,
       "description_width": "",
       "font_size": null,
       "text_color": null
      }
     },
     "38ff1df2176d41f89d5de8f008c25d05": {
      "model_module": "@jupyter-widgets/controls",
      "model_module_version": "2.0.0",
      "model_name": "HTMLModel",
      "state": {
       "_dom_classes": [],
       "_model_module": "@jupyter-widgets/controls",
       "_model_module_version": "2.0.0",
       "_model_name": "HTMLModel",
       "_view_count": null,
       "_view_module": "@jupyter-widgets/controls",
       "_view_module_version": "2.0.0",
       "_view_name": "HTMLView",
       "description": "",
       "description_allow_html": false,
       "layout": "IPY_MODEL_0b7836628e1244399102a4b2fd33eaea",
       "placeholder": "​",
       "style": "IPY_MODEL_4dae1c904f6d4cada9a5c458978154e9",
       "tabbable": null,
       "tooltip": null,
       "value": ""
      }
     },
     "3f02f70325e2417c9ad18405f686e8d5": {
      "model_module": "@jupyter-widgets/controls",
      "model_module_version": "2.0.0",
      "model_name": "HTMLModel",
      "state": {
       "_dom_classes": [],
       "_model_module": "@jupyter-widgets/controls",
       "_model_module_version": "2.0.0",
       "_model_name": "HTMLModel",
       "_view_count": null,
       "_view_module": "@jupyter-widgets/controls",
       "_view_module_version": "2.0.0",
       "_view_name": "HTMLView",
       "description": "",
       "description_allow_html": false,
       "layout": "IPY_MODEL_5b49ce13bb604a858bfdf5c48a3adff7",
       "placeholder": "​",
       "style": "IPY_MODEL_0674be443bea43bf8d7fbfb8a9011b80",
       "tabbable": null,
       "tooltip": null,
       "value": " 6/0 [00:00&lt;00:00, 17.01it/s]"
      }
     },
     "4364a953e905473bbe9274c2daacf593": {
      "model_module": "@jupyter-widgets/base",
      "model_module_version": "2.0.0",
      "model_name": "LayoutModel",
      "state": {
       "_model_module": "@jupyter-widgets/base",
       "_model_module_version": "2.0.0",
       "_model_name": "LayoutModel",
       "_view_count": null,
       "_view_module": "@jupyter-widgets/base",
       "_view_module_version": "2.0.0",
       "_view_name": "LayoutView",
       "align_content": null,
       "align_items": null,
       "align_self": null,
       "border_bottom": null,
       "border_left": null,
       "border_right": null,
       "border_top": null,
       "bottom": null,
       "display": null,
       "flex": null,
       "flex_flow": null,
       "grid_area": null,
       "grid_auto_columns": null,
       "grid_auto_flow": null,
       "grid_auto_rows": null,
       "grid_column": null,
       "grid_gap": null,
       "grid_row": null,
       "grid_template_areas": null,
       "grid_template_columns": null,
       "grid_template_rows": null,
       "height": null,
       "justify_content": null,
       "justify_items": null,
       "left": null,
       "margin": null,
       "max_height": null,
       "max_width": null,
       "min_height": null,
       "min_width": null,
       "object_fit": null,
       "object_position": null,
       "order": null,
       "overflow": null,
       "padding": null,
       "right": null,
       "top": null,
       "visibility": null,
       "width": null
      }
     },
     "459497c7d77040af854a2d374c89e332": {
      "model_module": "@jupyter-widgets/base",
      "model_module_version": "2.0.0",
      "model_name": "LayoutModel",
      "state": {
       "_model_module": "@jupyter-widgets/base",
       "_model_module_version": "2.0.0",
       "_model_name": "LayoutModel",
       "_view_count": null,
       "_view_module": "@jupyter-widgets/base",
       "_view_module_version": "2.0.0",
       "_view_name": "LayoutView",
       "align_content": null,
       "align_items": null,
       "align_self": null,
       "border_bottom": null,
       "border_left": null,
       "border_right": null,
       "border_top": null,
       "bottom": null,
       "display": null,
       "flex": null,
       "flex_flow": null,
       "grid_area": null,
       "grid_auto_columns": null,
       "grid_auto_flow": null,
       "grid_auto_rows": null,
       "grid_column": null,
       "grid_gap": null,
       "grid_row": null,
       "grid_template_areas": null,
       "grid_template_columns": null,
       "grid_template_rows": null,
       "height": null,
       "justify_content": null,
       "justify_items": null,
       "left": null,
       "margin": null,
       "max_height": null,
       "max_width": null,
       "min_height": null,
       "min_width": null,
       "object_fit": null,
       "object_position": null,
       "order": null,
       "overflow": null,
       "padding": null,
       "right": null,
       "top": null,
       "visibility": null,
       "width": null
      }
     },
     "47a1f9be8a994c74973dec5311ab4379": {
      "model_module": "@jupyter-widgets/base",
      "model_module_version": "2.0.0",
      "model_name": "LayoutModel",
      "state": {
       "_model_module": "@jupyter-widgets/base",
       "_model_module_version": "2.0.0",
       "_model_name": "LayoutModel",
       "_view_count": null,
       "_view_module": "@jupyter-widgets/base",
       "_view_module_version": "2.0.0",
       "_view_name": "LayoutView",
       "align_content": null,
       "align_items": null,
       "align_self": null,
       "border_bottom": null,
       "border_left": null,
       "border_right": null,
       "border_top": null,
       "bottom": null,
       "display": null,
       "flex": null,
       "flex_flow": null,
       "grid_area": null,
       "grid_auto_columns": null,
       "grid_auto_flow": null,
       "grid_auto_rows": null,
       "grid_column": null,
       "grid_gap": null,
       "grid_row": null,
       "grid_template_areas": null,
       "grid_template_columns": null,
       "grid_template_rows": null,
       "height": null,
       "justify_content": null,
       "justify_items": null,
       "left": null,
       "margin": null,
       "max_height": null,
       "max_width": null,
       "min_height": null,
       "min_width": null,
       "object_fit": null,
       "object_position": null,
       "order": null,
       "overflow": null,
       "padding": null,
       "right": null,
       "top": null,
       "visibility": null,
       "width": null
      }
     },
     "48ce788994e949a59d651838a06a8adf": {
      "model_module": "@jupyter-widgets/base",
      "model_module_version": "2.0.0",
      "model_name": "LayoutModel",
      "state": {
       "_model_module": "@jupyter-widgets/base",
       "_model_module_version": "2.0.0",
       "_model_name": "LayoutModel",
       "_view_count": null,
       "_view_module": "@jupyter-widgets/base",
       "_view_module_version": "2.0.0",
       "_view_name": "LayoutView",
       "align_content": null,
       "align_items": null,
       "align_self": null,
       "border_bottom": null,
       "border_left": null,
       "border_right": null,
       "border_top": null,
       "bottom": null,
       "display": null,
       "flex": null,
       "flex_flow": null,
       "grid_area": null,
       "grid_auto_columns": null,
       "grid_auto_flow": null,
       "grid_auto_rows": null,
       "grid_column": null,
       "grid_gap": null,
       "grid_row": null,
       "grid_template_areas": null,
       "grid_template_columns": null,
       "grid_template_rows": null,
       "height": null,
       "justify_content": null,
       "justify_items": null,
       "left": null,
       "margin": null,
       "max_height": null,
       "max_width": null,
       "min_height": null,
       "min_width": null,
       "object_fit": null,
       "object_position": null,
       "order": null,
       "overflow": null,
       "padding": null,
       "right": null,
       "top": null,
       "visibility": null,
       "width": null
      }
     },
     "4b22137347b84f78bdcf4689f3f5822a": {
      "model_module": "@jupyter-widgets/base",
      "model_module_version": "2.0.0",
      "model_name": "LayoutModel",
      "state": {
       "_model_module": "@jupyter-widgets/base",
       "_model_module_version": "2.0.0",
       "_model_name": "LayoutModel",
       "_view_count": null,
       "_view_module": "@jupyter-widgets/base",
       "_view_module_version": "2.0.0",
       "_view_name": "LayoutView",
       "align_content": null,
       "align_items": null,
       "align_self": null,
       "border_bottom": null,
       "border_left": null,
       "border_right": null,
       "border_top": null,
       "bottom": null,
       "display": null,
       "flex": null,
       "flex_flow": null,
       "grid_area": null,
       "grid_auto_columns": null,
       "grid_auto_flow": null,
       "grid_auto_rows": null,
       "grid_column": null,
       "grid_gap": null,
       "grid_row": null,
       "grid_template_areas": null,
       "grid_template_columns": null,
       "grid_template_rows": null,
       "height": null,
       "justify_content": null,
       "justify_items": null,
       "left": null,
       "margin": null,
       "max_height": null,
       "max_width": null,
       "min_height": null,
       "min_width": null,
       "object_fit": null,
       "object_position": null,
       "order": null,
       "overflow": null,
       "padding": null,
       "right": null,
       "top": null,
       "visibility": null,
       "width": null
      }
     },
     "4cfc7b1aa3e34829a7b7e0e96ac90244": {
      "model_module": "@jupyter-widgets/base",
      "model_module_version": "2.0.0",
      "model_name": "LayoutModel",
      "state": {
       "_model_module": "@jupyter-widgets/base",
       "_model_module_version": "2.0.0",
       "_model_name": "LayoutModel",
       "_view_count": null,
       "_view_module": "@jupyter-widgets/base",
       "_view_module_version": "2.0.0",
       "_view_name": "LayoutView",
       "align_content": null,
       "align_items": null,
       "align_self": null,
       "border_bottom": null,
       "border_left": null,
       "border_right": null,
       "border_top": null,
       "bottom": null,
       "display": null,
       "flex": null,
       "flex_flow": null,
       "grid_area": null,
       "grid_auto_columns": null,
       "grid_auto_flow": null,
       "grid_auto_rows": null,
       "grid_column": null,
       "grid_gap": null,
       "grid_row": null,
       "grid_template_areas": null,
       "grid_template_columns": null,
       "grid_template_rows": null,
       "height": null,
       "justify_content": null,
       "justify_items": null,
       "left": null,
       "margin": null,
       "max_height": null,
       "max_width": null,
       "min_height": null,
       "min_width": null,
       "object_fit": null,
       "object_position": null,
       "order": null,
       "overflow": null,
       "padding": null,
       "right": null,
       "top": null,
       "visibility": null,
       "width": null
      }
     },
     "4dae1c904f6d4cada9a5c458978154e9": {
      "model_module": "@jupyter-widgets/controls",
      "model_module_version": "2.0.0",
      "model_name": "HTMLStyleModel",
      "state": {
       "_model_module": "@jupyter-widgets/controls",
       "_model_module_version": "2.0.0",
       "_model_name": "HTMLStyleModel",
       "_view_count": null,
       "_view_module": "@jupyter-widgets/base",
       "_view_module_version": "2.0.0",
       "_view_name": "StyleView",
       "background": null,
       "description_width": "",
       "font_size": null,
       "text_color": null
      }
     },
     "4f43abecee664fddbd54cf897c88e640": {
      "model_module": "@jupyter-widgets/controls",
      "model_module_version": "2.0.0",
      "model_name": "HTMLStyleModel",
      "state": {
       "_model_module": "@jupyter-widgets/controls",
       "_model_module_version": "2.0.0",
       "_model_name": "HTMLStyleModel",
       "_view_count": null,
       "_view_module": "@jupyter-widgets/base",
       "_view_module_version": "2.0.0",
       "_view_name": "StyleView",
       "background": null,
       "description_width": "",
       "font_size": null,
       "text_color": null
      }
     },
     "54d0e53b61514786a36dae6e20b7822a": {
      "model_module": "@jupyter-widgets/controls",
      "model_module_version": "2.0.0",
      "model_name": "HTMLStyleModel",
      "state": {
       "_model_module": "@jupyter-widgets/controls",
       "_model_module_version": "2.0.0",
       "_model_name": "HTMLStyleModel",
       "_view_count": null,
       "_view_module": "@jupyter-widgets/base",
       "_view_module_version": "2.0.0",
       "_view_name": "StyleView",
       "background": null,
       "description_width": "",
       "font_size": null,
       "text_color": null
      }
     },
     "5525b7a5d14f4d69bdf5cca6cccfa583": {
      "model_module": "@jupyter-widgets/base",
      "model_module_version": "2.0.0",
      "model_name": "LayoutModel",
      "state": {
       "_model_module": "@jupyter-widgets/base",
       "_model_module_version": "2.0.0",
       "_model_name": "LayoutModel",
       "_view_count": null,
       "_view_module": "@jupyter-widgets/base",
       "_view_module_version": "2.0.0",
       "_view_name": "LayoutView",
       "align_content": null,
       "align_items": null,
       "align_self": null,
       "border_bottom": null,
       "border_left": null,
       "border_right": null,
       "border_top": null,
       "bottom": null,
       "display": null,
       "flex": null,
       "flex_flow": null,
       "grid_area": null,
       "grid_auto_columns": null,
       "grid_auto_flow": null,
       "grid_auto_rows": null,
       "grid_column": null,
       "grid_gap": null,
       "grid_row": null,
       "grid_template_areas": null,
       "grid_template_columns": null,
       "grid_template_rows": null,
       "height": null,
       "justify_content": null,
       "justify_items": null,
       "left": null,
       "margin": null,
       "max_height": null,
       "max_width": null,
       "min_height": null,
       "min_width": null,
       "object_fit": null,
       "object_position": null,
       "order": null,
       "overflow": null,
       "padding": null,
       "right": null,
       "top": null,
       "visibility": null,
       "width": null
      }
     },
     "57a137752e17404e8e994dcce77df0f9": {
      "model_module": "@jupyter-widgets/controls",
      "model_module_version": "2.0.0",
      "model_name": "ProgressStyleModel",
      "state": {
       "_model_module": "@jupyter-widgets/controls",
       "_model_module_version": "2.0.0",
       "_model_name": "ProgressStyleModel",
       "_view_count": null,
       "_view_module": "@jupyter-widgets/base",
       "_view_module_version": "2.0.0",
       "_view_name": "StyleView",
       "bar_color": null,
       "description_width": ""
      }
     },
     "5970fafc44314fbba41aff47eac40782": {
      "model_module": "@jupyter-widgets/base",
      "model_module_version": "2.0.0",
      "model_name": "LayoutModel",
      "state": {
       "_model_module": "@jupyter-widgets/base",
       "_model_module_version": "2.0.0",
       "_model_name": "LayoutModel",
       "_view_count": null,
       "_view_module": "@jupyter-widgets/base",
       "_view_module_version": "2.0.0",
       "_view_name": "LayoutView",
       "align_content": null,
       "align_items": null,
       "align_self": null,
       "border_bottom": null,
       "border_left": null,
       "border_right": null,
       "border_top": null,
       "bottom": null,
       "display": null,
       "flex": null,
       "flex_flow": null,
       "grid_area": null,
       "grid_auto_columns": null,
       "grid_auto_flow": null,
       "grid_auto_rows": null,
       "grid_column": null,
       "grid_gap": null,
       "grid_row": null,
       "grid_template_areas": null,
       "grid_template_columns": null,
       "grid_template_rows": null,
       "height": null,
       "justify_content": null,
       "justify_items": null,
       "left": null,
       "margin": null,
       "max_height": null,
       "max_width": null,
       "min_height": null,
       "min_width": null,
       "object_fit": null,
       "object_position": null,
       "order": null,
       "overflow": null,
       "padding": null,
       "right": null,
       "top": null,
       "visibility": null,
       "width": "20px"
      }
     },
     "59d5d3e591104e959031aa4021e839c5": {
      "model_module": "@jupyter-widgets/controls",
      "model_module_version": "2.0.0",
      "model_name": "FloatProgressModel",
      "state": {
       "_dom_classes": [],
       "_model_module": "@jupyter-widgets/controls",
       "_model_module_version": "2.0.0",
       "_model_name": "FloatProgressModel",
       "_view_count": null,
       "_view_module": "@jupyter-widgets/controls",
       "_view_module_version": "2.0.0",
       "_view_name": "ProgressView",
       "bar_style": "success",
       "description": "",
       "description_allow_html": false,
       "layout": "IPY_MODEL_cabb7b962e354f18a9065f561a35425c",
       "max": 1,
       "min": 0,
       "orientation": "horizontal",
       "style": "IPY_MODEL_61d1532ff4c349928f67addd9943ea35",
       "tabbable": null,
       "tooltip": null,
       "value": 1
      }
     },
     "5b49ce13bb604a858bfdf5c48a3adff7": {
      "model_module": "@jupyter-widgets/base",
      "model_module_version": "2.0.0",
      "model_name": "LayoutModel",
      "state": {
       "_model_module": "@jupyter-widgets/base",
       "_model_module_version": "2.0.0",
       "_model_name": "LayoutModel",
       "_view_count": null,
       "_view_module": "@jupyter-widgets/base",
       "_view_module_version": "2.0.0",
       "_view_name": "LayoutView",
       "align_content": null,
       "align_items": null,
       "align_self": null,
       "border_bottom": null,
       "border_left": null,
       "border_right": null,
       "border_top": null,
       "bottom": null,
       "display": null,
       "flex": null,
       "flex_flow": null,
       "grid_area": null,
       "grid_auto_columns": null,
       "grid_auto_flow": null,
       "grid_auto_rows": null,
       "grid_column": null,
       "grid_gap": null,
       "grid_row": null,
       "grid_template_areas": null,
       "grid_template_columns": null,
       "grid_template_rows": null,
       "height": null,
       "justify_content": null,
       "justify_items": null,
       "left": null,
       "margin": null,
       "max_height": null,
       "max_width": null,
       "min_height": null,
       "min_width": null,
       "object_fit": null,
       "object_position": null,
       "order": null,
       "overflow": null,
       "padding": null,
       "right": null,
       "top": null,
       "visibility": null,
       "width": null
      }
     },
     "5b62ca22751f4ff7b3fcc97d8724124c": {
      "model_module": "@jupyter-widgets/controls",
      "model_module_version": "2.0.0",
      "model_name": "HTMLModel",
      "state": {
       "_dom_classes": [],
       "_model_module": "@jupyter-widgets/controls",
       "_model_module_version": "2.0.0",
       "_model_name": "HTMLModel",
       "_view_count": null,
       "_view_module": "@jupyter-widgets/controls",
       "_view_module_version": "2.0.0",
       "_view_name": "HTMLView",
       "description": "",
       "description_allow_html": false,
       "layout": "IPY_MODEL_e133c3adf26c4908b6df84711ea3de8c",
       "placeholder": "​",
       "style": "IPY_MODEL_ba8845d12c364ccc822be2492d05b166",
       "tabbable": null,
       "tooltip": null,
       "value": ""
      }
     },
     "5d10e2557e5448c4ad2b6856c31ad951": {
      "model_module": "@jupyter-widgets/controls",
      "model_module_version": "2.0.0",
      "model_name": "HTMLStyleModel",
      "state": {
       "_model_module": "@jupyter-widgets/controls",
       "_model_module_version": "2.0.0",
       "_model_name": "HTMLStyleModel",
       "_view_count": null,
       "_view_module": "@jupyter-widgets/base",
       "_view_module_version": "2.0.0",
       "_view_name": "StyleView",
       "background": null,
       "description_width": "",
       "font_size": null,
       "text_color": null
      }
     },
     "5d5b1ca092754572b79ad7fa35042345": {
      "model_module": "@jupyter-widgets/controls",
      "model_module_version": "2.0.0",
      "model_name": "FloatProgressModel",
      "state": {
       "_dom_classes": [],
       "_model_module": "@jupyter-widgets/controls",
       "_model_module_version": "2.0.0",
       "_model_name": "FloatProgressModel",
       "_view_count": null,
       "_view_module": "@jupyter-widgets/controls",
       "_view_module_version": "2.0.0",
       "_view_name": "ProgressView",
       "bar_style": "success",
       "description": "",
       "description_allow_html": false,
       "layout": "IPY_MODEL_ed3594aba33c461bafccb67673f519b2",
       "max": 1,
       "min": 0,
       "orientation": "horizontal",
       "style": "IPY_MODEL_7702c3026470454a9f0d03a93fe69be2",
       "tabbable": null,
       "tooltip": null,
       "value": 1
      }
     },
     "60771f2960f3488fb419e26d2d842389": {
      "model_module": "@jupyter-widgets/controls",
      "model_module_version": "2.0.0",
      "model_name": "HBoxModel",
      "state": {
       "_dom_classes": [],
       "_model_module": "@jupyter-widgets/controls",
       "_model_module_version": "2.0.0",
       "_model_name": "HBoxModel",
       "_view_count": null,
       "_view_module": "@jupyter-widgets/controls",
       "_view_module_version": "2.0.0",
       "_view_name": "HBoxView",
       "box_style": "",
       "children": [
        "IPY_MODEL_8aed3c61d30540148023eea85707da6f",
        "IPY_MODEL_33dae2e87a924285aeceb4d3241c83d6",
        "IPY_MODEL_bf7aed355c32486a93add064b51e587b"
       ],
       "layout": "IPY_MODEL_077337d22ace4e27a723e9102eb36e61",
       "tabbable": null,
       "tooltip": null
      }
     },
     "61d1532ff4c349928f67addd9943ea35": {
      "model_module": "@jupyter-widgets/controls",
      "model_module_version": "2.0.0",
      "model_name": "ProgressStyleModel",
      "state": {
       "_model_module": "@jupyter-widgets/controls",
       "_model_module_version": "2.0.0",
       "_model_name": "ProgressStyleModel",
       "_view_count": null,
       "_view_module": "@jupyter-widgets/base",
       "_view_module_version": "2.0.0",
       "_view_name": "StyleView",
       "bar_color": null,
       "description_width": ""
      }
     },
     "6412337ad7484bd88083216a2c3e1a1c": {
      "model_module": "@jupyter-widgets/controls",
      "model_module_version": "2.0.0",
      "model_name": "HTMLModel",
      "state": {
       "_dom_classes": [],
       "_model_module": "@jupyter-widgets/controls",
       "_model_module_version": "2.0.0",
       "_model_name": "HTMLModel",
       "_view_count": null,
       "_view_module": "@jupyter-widgets/controls",
       "_view_module_version": "2.0.0",
       "_view_name": "HTMLView",
       "description": "",
       "description_allow_html": false,
       "layout": "IPY_MODEL_02163d690ab14fe8b0c8b3ff8095f561",
       "placeholder": "​",
       "style": "IPY_MODEL_100b1e4316964cf9a8c7c8592e6e76c0",
       "tabbable": null,
       "tooltip": null,
       "value": ""
      }
     },
     "65943064463241218c19f70559db37c6": {
      "model_module": "@jupyter-widgets/controls",
      "model_module_version": "2.0.0",
      "model_name": "HTMLModel",
      "state": {
       "_dom_classes": [],
       "_model_module": "@jupyter-widgets/controls",
       "_model_module_version": "2.0.0",
       "_model_name": "HTMLModel",
       "_view_count": null,
       "_view_module": "@jupyter-widgets/controls",
       "_view_module_version": "2.0.0",
       "_view_name": "HTMLView",
       "description": "",
       "description_allow_html": false,
       "layout": "IPY_MODEL_70fb18dc09814be8a04ee248c8a77ad7",
       "placeholder": "​",
       "style": "IPY_MODEL_bc340db0d02b43cf902025d34e77cd48",
       "tabbable": null,
       "tooltip": null,
       "value": " 24/0 [00:02&lt;00:00, 12.83it/s]"
      }
     },
     "66c6c88dd6564fe58c2092c895a3b868": {
      "model_module": "@jupyter-widgets/controls",
      "model_module_version": "2.0.0",
      "model_name": "FloatProgressModel",
      "state": {
       "_dom_classes": [],
       "_model_module": "@jupyter-widgets/controls",
       "_model_module_version": "2.0.0",
       "_model_name": "FloatProgressModel",
       "_view_count": null,
       "_view_module": "@jupyter-widgets/controls",
       "_view_module_version": "2.0.0",
       "_view_name": "ProgressView",
       "bar_style": "success",
       "description": "",
       "description_allow_html": false,
       "layout": "IPY_MODEL_b33f165c55784ac3b78e0a14e38dadee",
       "max": 1,
       "min": 0,
       "orientation": "horizontal",
       "style": "IPY_MODEL_a329cd88932348d7a1672b20b2494374",
       "tabbable": null,
       "tooltip": null,
       "value": 1
      }
     },
     "677b7d4a9c56482a9288a0d9623e5121": {
      "model_module": "@jupyter-widgets/base",
      "model_module_version": "2.0.0",
      "model_name": "LayoutModel",
      "state": {
       "_model_module": "@jupyter-widgets/base",
       "_model_module_version": "2.0.0",
       "_model_name": "LayoutModel",
       "_view_count": null,
       "_view_module": "@jupyter-widgets/base",
       "_view_module_version": "2.0.0",
       "_view_name": "LayoutView",
       "align_content": null,
       "align_items": null,
       "align_self": null,
       "border_bottom": null,
       "border_left": null,
       "border_right": null,
       "border_top": null,
       "bottom": null,
       "display": null,
       "flex": null,
       "flex_flow": null,
       "grid_area": null,
       "grid_auto_columns": null,
       "grid_auto_flow": null,
       "grid_auto_rows": null,
       "grid_column": null,
       "grid_gap": null,
       "grid_row": null,
       "grid_template_areas": null,
       "grid_template_columns": null,
       "grid_template_rows": null,
       "height": null,
       "justify_content": null,
       "justify_items": null,
       "left": null,
       "margin": null,
       "max_height": null,
       "max_width": null,
       "min_height": null,
       "min_width": null,
       "object_fit": null,
       "object_position": null,
       "order": null,
       "overflow": null,
       "padding": null,
       "right": null,
       "top": null,
       "visibility": null,
       "width": null
      }
     },
     "6987d62634114b01b5a4c8e8fc2a96f1": {
      "model_module": "@jupyter-widgets/base",
      "model_module_version": "2.0.0",
      "model_name": "LayoutModel",
      "state": {
       "_model_module": "@jupyter-widgets/base",
       "_model_module_version": "2.0.0",
       "_model_name": "LayoutModel",
       "_view_count": null,
       "_view_module": "@jupyter-widgets/base",
       "_view_module_version": "2.0.0",
       "_view_name": "LayoutView",
       "align_content": null,
       "align_items": null,
       "align_self": null,
       "border_bottom": null,
       "border_left": null,
       "border_right": null,
       "border_top": null,
       "bottom": null,
       "display": null,
       "flex": null,
       "flex_flow": null,
       "grid_area": null,
       "grid_auto_columns": null,
       "grid_auto_flow": null,
       "grid_auto_rows": null,
       "grid_column": null,
       "grid_gap": null,
       "grid_row": null,
       "grid_template_areas": null,
       "grid_template_columns": null,
       "grid_template_rows": null,
       "height": null,
       "justify_content": null,
       "justify_items": null,
       "left": null,
       "margin": null,
       "max_height": null,
       "max_width": null,
       "min_height": null,
       "min_width": null,
       "object_fit": null,
       "object_position": null,
       "order": null,
       "overflow": null,
       "padding": null,
       "right": null,
       "top": null,
       "visibility": null,
       "width": null
      }
     },
     "69c3fc18bcff4ee7b5c9571ac108de2d": {
      "model_module": "@jupyter-widgets/controls",
      "model_module_version": "2.0.0",
      "model_name": "FloatProgressModel",
      "state": {
       "_dom_classes": [],
       "_model_module": "@jupyter-widgets/controls",
       "_model_module_version": "2.0.0",
       "_model_name": "FloatProgressModel",
       "_view_count": null,
       "_view_module": "@jupyter-widgets/controls",
       "_view_module_version": "2.0.0",
       "_view_name": "ProgressView",
       "bar_style": "success",
       "description": "",
       "description_allow_html": false,
       "layout": "IPY_MODEL_c32e84073e364f2db3fcf42f9371d9f4",
       "max": 1,
       "min": 0,
       "orientation": "horizontal",
       "style": "IPY_MODEL_0e91234118cc4b0aa38d6dc6ccf0e8fb",
       "tabbable": null,
       "tooltip": null,
       "value": 1
      }
     },
     "6bee1b87c23e423190fb7025afd09376": {
      "model_module": "@jupyter-widgets/controls",
      "model_module_version": "2.0.0",
      "model_name": "HTMLStyleModel",
      "state": {
       "_model_module": "@jupyter-widgets/controls",
       "_model_module_version": "2.0.0",
       "_model_name": "HTMLStyleModel",
       "_view_count": null,
       "_view_module": "@jupyter-widgets/base",
       "_view_module_version": "2.0.0",
       "_view_name": "StyleView",
       "background": null,
       "description_width": "",
       "font_size": null,
       "text_color": null
      }
     },
     "70fb18dc09814be8a04ee248c8a77ad7": {
      "model_module": "@jupyter-widgets/base",
      "model_module_version": "2.0.0",
      "model_name": "LayoutModel",
      "state": {
       "_model_module": "@jupyter-widgets/base",
       "_model_module_version": "2.0.0",
       "_model_name": "LayoutModel",
       "_view_count": null,
       "_view_module": "@jupyter-widgets/base",
       "_view_module_version": "2.0.0",
       "_view_name": "LayoutView",
       "align_content": null,
       "align_items": null,
       "align_self": null,
       "border_bottom": null,
       "border_left": null,
       "border_right": null,
       "border_top": null,
       "bottom": null,
       "display": null,
       "flex": null,
       "flex_flow": null,
       "grid_area": null,
       "grid_auto_columns": null,
       "grid_auto_flow": null,
       "grid_auto_rows": null,
       "grid_column": null,
       "grid_gap": null,
       "grid_row": null,
       "grid_template_areas": null,
       "grid_template_columns": null,
       "grid_template_rows": null,
       "height": null,
       "justify_content": null,
       "justify_items": null,
       "left": null,
       "margin": null,
       "max_height": null,
       "max_width": null,
       "min_height": null,
       "min_width": null,
       "object_fit": null,
       "object_position": null,
       "order": null,
       "overflow": null,
       "padding": null,
       "right": null,
       "top": null,
       "visibility": null,
       "width": null
      }
     },
     "7702c3026470454a9f0d03a93fe69be2": {
      "model_module": "@jupyter-widgets/controls",
      "model_module_version": "2.0.0",
      "model_name": "ProgressStyleModel",
      "state": {
       "_model_module": "@jupyter-widgets/controls",
       "_model_module_version": "2.0.0",
       "_model_name": "ProgressStyleModel",
       "_view_count": null,
       "_view_module": "@jupyter-widgets/base",
       "_view_module_version": "2.0.0",
       "_view_name": "StyleView",
       "bar_color": null,
       "description_width": ""
      }
     },
     "780713f3d55544b0a6a446760312cda4": {
      "model_module": "@jupyter-widgets/controls",
      "model_module_version": "2.0.0",
      "model_name": "HTMLStyleModel",
      "state": {
       "_model_module": "@jupyter-widgets/controls",
       "_model_module_version": "2.0.0",
       "_model_name": "HTMLStyleModel",
       "_view_count": null,
       "_view_module": "@jupyter-widgets/base",
       "_view_module_version": "2.0.0",
       "_view_name": "StyleView",
       "background": null,
       "description_width": "",
       "font_size": null,
       "text_color": null
      }
     },
     "7dec596a9ee24f96a07cf02dfe53aff1": {
      "model_module": "@jupyter-widgets/base",
      "model_module_version": "2.0.0",
      "model_name": "LayoutModel",
      "state": {
       "_model_module": "@jupyter-widgets/base",
       "_model_module_version": "2.0.0",
       "_model_name": "LayoutModel",
       "_view_count": null,
       "_view_module": "@jupyter-widgets/base",
       "_view_module_version": "2.0.0",
       "_view_name": "LayoutView",
       "align_content": null,
       "align_items": null,
       "align_self": null,
       "border_bottom": null,
       "border_left": null,
       "border_right": null,
       "border_top": null,
       "bottom": null,
       "display": null,
       "flex": null,
       "flex_flow": null,
       "grid_area": null,
       "grid_auto_columns": null,
       "grid_auto_flow": null,
       "grid_auto_rows": null,
       "grid_column": null,
       "grid_gap": null,
       "grid_row": null,
       "grid_template_areas": null,
       "grid_template_columns": null,
       "grid_template_rows": null,
       "height": null,
       "justify_content": null,
       "justify_items": null,
       "left": null,
       "margin": null,
       "max_height": null,
       "max_width": null,
       "min_height": null,
       "min_width": null,
       "object_fit": null,
       "object_position": null,
       "order": null,
       "overflow": null,
       "padding": null,
       "right": null,
       "top": null,
       "visibility": null,
       "width": null
      }
     },
     "7fc4e0f6668046bcb24504dc7b34fbd5": {
      "model_module": "@jupyter-widgets/controls",
      "model_module_version": "2.0.0",
      "model_name": "ProgressStyleModel",
      "state": {
       "_model_module": "@jupyter-widgets/controls",
       "_model_module_version": "2.0.0",
       "_model_name": "ProgressStyleModel",
       "_view_count": null,
       "_view_module": "@jupyter-widgets/base",
       "_view_module_version": "2.0.0",
       "_view_name": "StyleView",
       "bar_color": null,
       "description_width": ""
      }
     },
     "8007fb3ca1274232a95b23b47576f1ea": {
      "model_module": "@jupyter-widgets/controls",
      "model_module_version": "2.0.0",
      "model_name": "HTMLStyleModel",
      "state": {
       "_model_module": "@jupyter-widgets/controls",
       "_model_module_version": "2.0.0",
       "_model_name": "HTMLStyleModel",
       "_view_count": null,
       "_view_module": "@jupyter-widgets/base",
       "_view_module_version": "2.0.0",
       "_view_name": "StyleView",
       "background": null,
       "description_width": "",
       "font_size": null,
       "text_color": null
      }
     },
     "8027bf36c8164c72847a18b24a60964d": {
      "model_module": "@jupyter-widgets/controls",
      "model_module_version": "2.0.0",
      "model_name": "HTMLStyleModel",
      "state": {
       "_model_module": "@jupyter-widgets/controls",
       "_model_module_version": "2.0.0",
       "_model_name": "HTMLStyleModel",
       "_view_count": null,
       "_view_module": "@jupyter-widgets/base",
       "_view_module_version": "2.0.0",
       "_view_name": "StyleView",
       "background": null,
       "description_width": "",
       "font_size": null,
       "text_color": null
      }
     },
     "80320c6c6b714cc39204b77ba7b7ffa0": {
      "model_module": "@jupyter-widgets/base",
      "model_module_version": "2.0.0",
      "model_name": "LayoutModel",
      "state": {
       "_model_module": "@jupyter-widgets/base",
       "_model_module_version": "2.0.0",
       "_model_name": "LayoutModel",
       "_view_count": null,
       "_view_module": "@jupyter-widgets/base",
       "_view_module_version": "2.0.0",
       "_view_name": "LayoutView",
       "align_content": null,
       "align_items": null,
       "align_self": null,
       "border_bottom": null,
       "border_left": null,
       "border_right": null,
       "border_top": null,
       "bottom": null,
       "display": null,
       "flex": null,
       "flex_flow": null,
       "grid_area": null,
       "grid_auto_columns": null,
       "grid_auto_flow": null,
       "grid_auto_rows": null,
       "grid_column": null,
       "grid_gap": null,
       "grid_row": null,
       "grid_template_areas": null,
       "grid_template_columns": null,
       "grid_template_rows": null,
       "height": null,
       "justify_content": null,
       "justify_items": null,
       "left": null,
       "margin": null,
       "max_height": null,
       "max_width": null,
       "min_height": null,
       "min_width": null,
       "object_fit": null,
       "object_position": null,
       "order": null,
       "overflow": null,
       "padding": null,
       "right": null,
       "top": null,
       "visibility": null,
       "width": null
      }
     },
     "8233becd3eca44ae83b26995a7d8857e": {
      "model_module": "@jupyter-widgets/controls",
      "model_module_version": "2.0.0",
      "model_name": "HBoxModel",
      "state": {
       "_dom_classes": [],
       "_model_module": "@jupyter-widgets/controls",
       "_model_module_version": "2.0.0",
       "_model_name": "HBoxModel",
       "_view_count": null,
       "_view_module": "@jupyter-widgets/controls",
       "_view_module_version": "2.0.0",
       "_view_name": "HBoxView",
       "box_style": "",
       "children": [
        "IPY_MODEL_38ff1df2176d41f89d5de8f008c25d05",
        "IPY_MODEL_66c6c88dd6564fe58c2092c895a3b868",
        "IPY_MODEL_30576d8242044befb26d4428f2748e61"
       ],
       "layout": "IPY_MODEL_7dec596a9ee24f96a07cf02dfe53aff1",
       "tabbable": null,
       "tooltip": null
      }
     },
     "83de82330b4d495ab418451c78a12511": {
      "model_module": "@jupyter-widgets/controls",
      "model_module_version": "2.0.0",
      "model_name": "HTMLModel",
      "state": {
       "_dom_classes": [],
       "_model_module": "@jupyter-widgets/controls",
       "_model_module_version": "2.0.0",
       "_model_name": "HTMLModel",
       "_view_count": null,
       "_view_module": "@jupyter-widgets/controls",
       "_view_module_version": "2.0.0",
       "_view_name": "HTMLView",
       "description": "",
       "description_allow_html": false,
       "layout": "IPY_MODEL_48ce788994e949a59d651838a06a8adf",
       "placeholder": "​",
       "style": "IPY_MODEL_780713f3d55544b0a6a446760312cda4",
       "tabbable": null,
       "tooltip": null,
       "value": " 15/0 [00:01&lt;00:00, 12.22it/s]"
      }
     },
     "847f979819aa495aa3043b5812ceb04e": {
      "model_module": "@jupyter-widgets/controls",
      "model_module_version": "2.0.0",
      "model_name": "ProgressStyleModel",
      "state": {
       "_model_module": "@jupyter-widgets/controls",
       "_model_module_version": "2.0.0",
       "_model_name": "ProgressStyleModel",
       "_view_count": null,
       "_view_module": "@jupyter-widgets/base",
       "_view_module_version": "2.0.0",
       "_view_name": "StyleView",
       "bar_color": null,
       "description_width": ""
      }
     },
     "870faace7c23471ba1f05cc70069e32c": {
      "model_module": "@jupyter-widgets/controls",
      "model_module_version": "2.0.0",
      "model_name": "HTMLStyleModel",
      "state": {
       "_model_module": "@jupyter-widgets/controls",
       "_model_module_version": "2.0.0",
       "_model_name": "HTMLStyleModel",
       "_view_count": null,
       "_view_module": "@jupyter-widgets/base",
       "_view_module_version": "2.0.0",
       "_view_name": "StyleView",
       "background": null,
       "description_width": "",
       "font_size": null,
       "text_color": null
      }
     },
     "8aed3c61d30540148023eea85707da6f": {
      "model_module": "@jupyter-widgets/controls",
      "model_module_version": "2.0.0",
      "model_name": "HTMLModel",
      "state": {
       "_dom_classes": [],
       "_model_module": "@jupyter-widgets/controls",
       "_model_module_version": "2.0.0",
       "_model_name": "HTMLModel",
       "_view_count": null,
       "_view_module": "@jupyter-widgets/controls",
       "_view_module_version": "2.0.0",
       "_view_name": "HTMLView",
       "description": "",
       "description_allow_html": false,
       "layout": "IPY_MODEL_19b4db933af24e048cf7363c7277aeea",
       "placeholder": "​",
       "style": "IPY_MODEL_fdf735622d8e47b9998049fea0771de9",
       "tabbable": null,
       "tooltip": null,
       "value": ""
      }
     },
     "8cb57e2aeeca4930a3bd42af74e65fd3": {
      "model_module": "@jupyter-widgets/base",
      "model_module_version": "2.0.0",
      "model_name": "LayoutModel",
      "state": {
       "_model_module": "@jupyter-widgets/base",
       "_model_module_version": "2.0.0",
       "_model_name": "LayoutModel",
       "_view_count": null,
       "_view_module": "@jupyter-widgets/base",
       "_view_module_version": "2.0.0",
       "_view_name": "LayoutView",
       "align_content": null,
       "align_items": null,
       "align_self": null,
       "border_bottom": null,
       "border_left": null,
       "border_right": null,
       "border_top": null,
       "bottom": null,
       "display": null,
       "flex": null,
       "flex_flow": null,
       "grid_area": null,
       "grid_auto_columns": null,
       "grid_auto_flow": null,
       "grid_auto_rows": null,
       "grid_column": null,
       "grid_gap": null,
       "grid_row": null,
       "grid_template_areas": null,
       "grid_template_columns": null,
       "grid_template_rows": null,
       "height": null,
       "justify_content": null,
       "justify_items": null,
       "left": null,
       "margin": null,
       "max_height": null,
       "max_width": null,
       "min_height": null,
       "min_width": null,
       "object_fit": null,
       "object_position": null,
       "order": null,
       "overflow": null,
       "padding": null,
       "right": null,
       "top": null,
       "visibility": null,
       "width": null
      }
     },
     "8ffbcc2ba5a042d5a36f60258cc72334": {
      "model_module": "@jupyter-widgets/base",
      "model_module_version": "2.0.0",
      "model_name": "LayoutModel",
      "state": {
       "_model_module": "@jupyter-widgets/base",
       "_model_module_version": "2.0.0",
       "_model_name": "LayoutModel",
       "_view_count": null,
       "_view_module": "@jupyter-widgets/base",
       "_view_module_version": "2.0.0",
       "_view_name": "LayoutView",
       "align_content": null,
       "align_items": null,
       "align_self": null,
       "border_bottom": null,
       "border_left": null,
       "border_right": null,
       "border_top": null,
       "bottom": null,
       "display": null,
       "flex": null,
       "flex_flow": null,
       "grid_area": null,
       "grid_auto_columns": null,
       "grid_auto_flow": null,
       "grid_auto_rows": null,
       "grid_column": null,
       "grid_gap": null,
       "grid_row": null,
       "grid_template_areas": null,
       "grid_template_columns": null,
       "grid_template_rows": null,
       "height": null,
       "justify_content": null,
       "justify_items": null,
       "left": null,
       "margin": null,
       "max_height": null,
       "max_width": null,
       "min_height": null,
       "min_width": null,
       "object_fit": null,
       "object_position": null,
       "order": null,
       "overflow": null,
       "padding": null,
       "right": null,
       "top": null,
       "visibility": null,
       "width": null
      }
     },
     "90d9080937ae4a12abba8888e5849cf4": {
      "model_module": "@jupyter-widgets/controls",
      "model_module_version": "2.0.0",
      "model_name": "HTMLStyleModel",
      "state": {
       "_model_module": "@jupyter-widgets/controls",
       "_model_module_version": "2.0.0",
       "_model_name": "HTMLStyleModel",
       "_view_count": null,
       "_view_module": "@jupyter-widgets/base",
       "_view_module_version": "2.0.0",
       "_view_name": "StyleView",
       "background": null,
       "description_width": "",
       "font_size": null,
       "text_color": null
      }
     },
     "9114864ab95b401dbea245ae2b2613a1": {
      "model_module": "@jupyter-widgets/controls",
      "model_module_version": "2.0.0",
      "model_name": "HTMLModel",
      "state": {
       "_dom_classes": [],
       "_model_module": "@jupyter-widgets/controls",
       "_model_module_version": "2.0.0",
       "_model_name": "HTMLModel",
       "_view_count": null,
       "_view_module": "@jupyter-widgets/controls",
       "_view_module_version": "2.0.0",
       "_view_name": "HTMLView",
       "description": "",
       "description_allow_html": false,
       "layout": "IPY_MODEL_dac9833c253a462b9b48ba0dd15f5dbe",
       "placeholder": "​",
       "style": "IPY_MODEL_54d0e53b61514786a36dae6e20b7822a",
       "tabbable": null,
       "tooltip": null,
       "value": " 22/0 [00:02&lt;00:00,  7.42it/s]"
      }
     },
     "9412d58ee70c4996955cb56fa152c29a": {
      "model_module": "@jupyter-widgets/controls",
      "model_module_version": "2.0.0",
      "model_name": "FloatProgressModel",
      "state": {
       "_dom_classes": [],
       "_model_module": "@jupyter-widgets/controls",
       "_model_module_version": "2.0.0",
       "_model_name": "FloatProgressModel",
       "_view_count": null,
       "_view_module": "@jupyter-widgets/controls",
       "_view_module_version": "2.0.0",
       "_view_name": "ProgressView",
       "bar_style": "success",
       "description": "",
       "description_allow_html": false,
       "layout": "IPY_MODEL_9906945086714334bc514125200eaad8",
       "max": 1,
       "min": 0,
       "orientation": "horizontal",
       "style": "IPY_MODEL_dd3fbdbdc3ec4e9ea89bfee1fa89878a",
       "tabbable": null,
       "tooltip": null,
       "value": 1
      }
     },
     "977fce529c7543ed8c545951940b1f4d": {
      "model_module": "@jupyter-widgets/base",
      "model_module_version": "2.0.0",
      "model_name": "LayoutModel",
      "state": {
       "_model_module": "@jupyter-widgets/base",
       "_model_module_version": "2.0.0",
       "_model_name": "LayoutModel",
       "_view_count": null,
       "_view_module": "@jupyter-widgets/base",
       "_view_module_version": "2.0.0",
       "_view_name": "LayoutView",
       "align_content": null,
       "align_items": null,
       "align_self": null,
       "border_bottom": null,
       "border_left": null,
       "border_right": null,
       "border_top": null,
       "bottom": null,
       "display": null,
       "flex": null,
       "flex_flow": null,
       "grid_area": null,
       "grid_auto_columns": null,
       "grid_auto_flow": null,
       "grid_auto_rows": null,
       "grid_column": null,
       "grid_gap": null,
       "grid_row": null,
       "grid_template_areas": null,
       "grid_template_columns": null,
       "grid_template_rows": null,
       "height": null,
       "justify_content": null,
       "justify_items": null,
       "left": null,
       "margin": null,
       "max_height": null,
       "max_width": null,
       "min_height": null,
       "min_width": null,
       "object_fit": null,
       "object_position": null,
       "order": null,
       "overflow": null,
       "padding": null,
       "right": null,
       "top": null,
       "visibility": null,
       "width": null
      }
     },
     "9906945086714334bc514125200eaad8": {
      "model_module": "@jupyter-widgets/base",
      "model_module_version": "2.0.0",
      "model_name": "LayoutModel",
      "state": {
       "_model_module": "@jupyter-widgets/base",
       "_model_module_version": "2.0.0",
       "_model_name": "LayoutModel",
       "_view_count": null,
       "_view_module": "@jupyter-widgets/base",
       "_view_module_version": "2.0.0",
       "_view_name": "LayoutView",
       "align_content": null,
       "align_items": null,
       "align_self": null,
       "border_bottom": null,
       "border_left": null,
       "border_right": null,
       "border_top": null,
       "bottom": null,
       "display": null,
       "flex": null,
       "flex_flow": null,
       "grid_area": null,
       "grid_auto_columns": null,
       "grid_auto_flow": null,
       "grid_auto_rows": null,
       "grid_column": null,
       "grid_gap": null,
       "grid_row": null,
       "grid_template_areas": null,
       "grid_template_columns": null,
       "grid_template_rows": null,
       "height": null,
       "justify_content": null,
       "justify_items": null,
       "left": null,
       "margin": null,
       "max_height": null,
       "max_width": null,
       "min_height": null,
       "min_width": null,
       "object_fit": null,
       "object_position": null,
       "order": null,
       "overflow": null,
       "padding": null,
       "right": null,
       "top": null,
       "visibility": null,
       "width": "20px"
      }
     },
     "9d80116a80ef4f4d9a6f39ecd8f3d75e": {
      "model_module": "@jupyter-widgets/controls",
      "model_module_version": "2.0.0",
      "model_name": "HTMLModel",
      "state": {
       "_dom_classes": [],
       "_model_module": "@jupyter-widgets/controls",
       "_model_module_version": "2.0.0",
       "_model_name": "HTMLModel",
       "_view_count": null,
       "_view_module": "@jupyter-widgets/controls",
       "_view_module_version": "2.0.0",
       "_view_name": "HTMLView",
       "description": "",
       "description_allow_html": false,
       "layout": "IPY_MODEL_b20a620248a241bca3b96725d8eef02f",
       "placeholder": "​",
       "style": "IPY_MODEL_38ea5a752da6480fa880655650159f8f",
       "tabbable": null,
       "tooltip": null,
       "value": " 4/0 [00:00&lt;00:00,  7.96it/s]"
      }
     },
     "a2528072b2794953a84d52c1e14794d6": {
      "model_module": "@jupyter-widgets/controls",
      "model_module_version": "2.0.0",
      "model_name": "HTMLModel",
      "state": {
       "_dom_classes": [],
       "_model_module": "@jupyter-widgets/controls",
       "_model_module_version": "2.0.0",
       "_model_name": "HTMLModel",
       "_view_count": null,
       "_view_module": "@jupyter-widgets/controls",
       "_view_module_version": "2.0.0",
       "_view_name": "HTMLView",
       "description": "",
       "description_allow_html": false,
       "layout": "IPY_MODEL_a391c4ae2800479582910e9fd9452457",
       "placeholder": "​",
       "style": "IPY_MODEL_90d9080937ae4a12abba8888e5849cf4",
       "tabbable": null,
       "tooltip": null,
       "value": ""
      }
     },
     "a255d1d99e6b41ed8b23e6b4dafaf117": {
      "model_module": "@jupyter-widgets/controls",
      "model_module_version": "2.0.0",
      "model_name": "HBoxModel",
      "state": {
       "_dom_classes": [],
       "_model_module": "@jupyter-widgets/controls",
       "_model_module_version": "2.0.0",
       "_model_name": "HBoxModel",
       "_view_count": null,
       "_view_module": "@jupyter-widgets/controls",
       "_view_module_version": "2.0.0",
       "_view_name": "HBoxView",
       "box_style": "",
       "children": [
        "IPY_MODEL_2ce4600f5c304498956b1a7dd32fa9d7",
        "IPY_MODEL_69c3fc18bcff4ee7b5c9571ac108de2d",
        "IPY_MODEL_df7a6d411a4048eaadd26964c3cb61c7"
       ],
       "layout": "IPY_MODEL_4364a953e905473bbe9274c2daacf593",
       "tabbable": null,
       "tooltip": null
      }
     },
     "a329cd88932348d7a1672b20b2494374": {
      "model_module": "@jupyter-widgets/controls",
      "model_module_version": "2.0.0",
      "model_name": "ProgressStyleModel",
      "state": {
       "_model_module": "@jupyter-widgets/controls",
       "_model_module_version": "2.0.0",
       "_model_name": "ProgressStyleModel",
       "_view_count": null,
       "_view_module": "@jupyter-widgets/base",
       "_view_module_version": "2.0.0",
       "_view_name": "StyleView",
       "bar_color": null,
       "description_width": ""
      }
     },
     "a391c4ae2800479582910e9fd9452457": {
      "model_module": "@jupyter-widgets/base",
      "model_module_version": "2.0.0",
      "model_name": "LayoutModel",
      "state": {
       "_model_module": "@jupyter-widgets/base",
       "_model_module_version": "2.0.0",
       "_model_name": "LayoutModel",
       "_view_count": null,
       "_view_module": "@jupyter-widgets/base",
       "_view_module_version": "2.0.0",
       "_view_name": "LayoutView",
       "align_content": null,
       "align_items": null,
       "align_self": null,
       "border_bottom": null,
       "border_left": null,
       "border_right": null,
       "border_top": null,
       "bottom": null,
       "display": null,
       "flex": null,
       "flex_flow": null,
       "grid_area": null,
       "grid_auto_columns": null,
       "grid_auto_flow": null,
       "grid_auto_rows": null,
       "grid_column": null,
       "grid_gap": null,
       "grid_row": null,
       "grid_template_areas": null,
       "grid_template_columns": null,
       "grid_template_rows": null,
       "height": null,
       "justify_content": null,
       "justify_items": null,
       "left": null,
       "margin": null,
       "max_height": null,
       "max_width": null,
       "min_height": null,
       "min_width": null,
       "object_fit": null,
       "object_position": null,
       "order": null,
       "overflow": null,
       "padding": null,
       "right": null,
       "top": null,
       "visibility": null,
       "width": null
      }
     },
     "a77ad24039264c7485f054e332969000": {
      "model_module": "@jupyter-widgets/controls",
      "model_module_version": "2.0.0",
      "model_name": "HTMLStyleModel",
      "state": {
       "_model_module": "@jupyter-widgets/controls",
       "_model_module_version": "2.0.0",
       "_model_name": "HTMLStyleModel",
       "_view_count": null,
       "_view_module": "@jupyter-widgets/base",
       "_view_module_version": "2.0.0",
       "_view_name": "StyleView",
       "background": null,
       "description_width": "",
       "font_size": null,
       "text_color": null
      }
     },
     "a9f0c664ca1248738fd1af0e646b2a49": {
      "model_module": "@jupyter-widgets/base",
      "model_module_version": "2.0.0",
      "model_name": "LayoutModel",
      "state": {
       "_model_module": "@jupyter-widgets/base",
       "_model_module_version": "2.0.0",
       "_model_name": "LayoutModel",
       "_view_count": null,
       "_view_module": "@jupyter-widgets/base",
       "_view_module_version": "2.0.0",
       "_view_name": "LayoutView",
       "align_content": null,
       "align_items": null,
       "align_self": null,
       "border_bottom": null,
       "border_left": null,
       "border_right": null,
       "border_top": null,
       "bottom": null,
       "display": null,
       "flex": null,
       "flex_flow": null,
       "grid_area": null,
       "grid_auto_columns": null,
       "grid_auto_flow": null,
       "grid_auto_rows": null,
       "grid_column": null,
       "grid_gap": null,
       "grid_row": null,
       "grid_template_areas": null,
       "grid_template_columns": null,
       "grid_template_rows": null,
       "height": null,
       "justify_content": null,
       "justify_items": null,
       "left": null,
       "margin": null,
       "max_height": null,
       "max_width": null,
       "min_height": null,
       "min_width": null,
       "object_fit": null,
       "object_position": null,
       "order": null,
       "overflow": null,
       "padding": null,
       "right": null,
       "top": null,
       "visibility": null,
       "width": "20px"
      }
     },
     "ac588e8c4be4442cbd403ad53bc9c15b": {
      "model_module": "@jupyter-widgets/controls",
      "model_module_version": "2.0.0",
      "model_name": "HTMLStyleModel",
      "state": {
       "_model_module": "@jupyter-widgets/controls",
       "_model_module_version": "2.0.0",
       "_model_name": "HTMLStyleModel",
       "_view_count": null,
       "_view_module": "@jupyter-widgets/base",
       "_view_module_version": "2.0.0",
       "_view_name": "StyleView",
       "background": null,
       "description_width": "",
       "font_size": null,
       "text_color": null
      }
     },
     "ad0663c774914dd0a15de36766b8b2f2": {
      "model_module": "@jupyter-widgets/base",
      "model_module_version": "2.0.0",
      "model_name": "LayoutModel",
      "state": {
       "_model_module": "@jupyter-widgets/base",
       "_model_module_version": "2.0.0",
       "_model_name": "LayoutModel",
       "_view_count": null,
       "_view_module": "@jupyter-widgets/base",
       "_view_module_version": "2.0.0",
       "_view_name": "LayoutView",
       "align_content": null,
       "align_items": null,
       "align_self": null,
       "border_bottom": null,
       "border_left": null,
       "border_right": null,
       "border_top": null,
       "bottom": null,
       "display": null,
       "flex": null,
       "flex_flow": null,
       "grid_area": null,
       "grid_auto_columns": null,
       "grid_auto_flow": null,
       "grid_auto_rows": null,
       "grid_column": null,
       "grid_gap": null,
       "grid_row": null,
       "grid_template_areas": null,
       "grid_template_columns": null,
       "grid_template_rows": null,
       "height": null,
       "justify_content": null,
       "justify_items": null,
       "left": null,
       "margin": null,
       "max_height": null,
       "max_width": null,
       "min_height": null,
       "min_width": null,
       "object_fit": null,
       "object_position": null,
       "order": null,
       "overflow": null,
       "padding": null,
       "right": null,
       "top": null,
       "visibility": null,
       "width": null
      }
     },
     "ad3304bd65b34432814453570eb33f28": {
      "model_module": "@jupyter-widgets/base",
      "model_module_version": "2.0.0",
      "model_name": "LayoutModel",
      "state": {
       "_model_module": "@jupyter-widgets/base",
       "_model_module_version": "2.0.0",
       "_model_name": "LayoutModel",
       "_view_count": null,
       "_view_module": "@jupyter-widgets/base",
       "_view_module_version": "2.0.0",
       "_view_name": "LayoutView",
       "align_content": null,
       "align_items": null,
       "align_self": null,
       "border_bottom": null,
       "border_left": null,
       "border_right": null,
       "border_top": null,
       "bottom": null,
       "display": null,
       "flex": null,
       "flex_flow": null,
       "grid_area": null,
       "grid_auto_columns": null,
       "grid_auto_flow": null,
       "grid_auto_rows": null,
       "grid_column": null,
       "grid_gap": null,
       "grid_row": null,
       "grid_template_areas": null,
       "grid_template_columns": null,
       "grid_template_rows": null,
       "height": null,
       "justify_content": null,
       "justify_items": null,
       "left": null,
       "margin": null,
       "max_height": null,
       "max_width": null,
       "min_height": null,
       "min_width": null,
       "object_fit": null,
       "object_position": null,
       "order": null,
       "overflow": null,
       "padding": null,
       "right": null,
       "top": null,
       "visibility": null,
       "width": "20px"
      }
     },
     "b1f48d9226034fa0a6246b8e9306b30a": {
      "model_module": "@jupyter-widgets/controls",
      "model_module_version": "2.0.0",
      "model_name": "HBoxModel",
      "state": {
       "_dom_classes": [],
       "_model_module": "@jupyter-widgets/controls",
       "_model_module_version": "2.0.0",
       "_model_name": "HBoxModel",
       "_view_count": null,
       "_view_module": "@jupyter-widgets/controls",
       "_view_module_version": "2.0.0",
       "_view_name": "HBoxView",
       "box_style": "",
       "children": [
        "IPY_MODEL_b98f109dbe494a60912c0289a15a7c43",
        "IPY_MODEL_59d5d3e591104e959031aa4021e839c5",
        "IPY_MODEL_83de82330b4d495ab418451c78a12511"
       ],
       "layout": "IPY_MODEL_5525b7a5d14f4d69bdf5cca6cccfa583",
       "tabbable": null,
       "tooltip": null
      }
     },
     "b20a620248a241bca3b96725d8eef02f": {
      "model_module": "@jupyter-widgets/base",
      "model_module_version": "2.0.0",
      "model_name": "LayoutModel",
      "state": {
       "_model_module": "@jupyter-widgets/base",
       "_model_module_version": "2.0.0",
       "_model_name": "LayoutModel",
       "_view_count": null,
       "_view_module": "@jupyter-widgets/base",
       "_view_module_version": "2.0.0",
       "_view_name": "LayoutView",
       "align_content": null,
       "align_items": null,
       "align_self": null,
       "border_bottom": null,
       "border_left": null,
       "border_right": null,
       "border_top": null,
       "bottom": null,
       "display": null,
       "flex": null,
       "flex_flow": null,
       "grid_area": null,
       "grid_auto_columns": null,
       "grid_auto_flow": null,
       "grid_auto_rows": null,
       "grid_column": null,
       "grid_gap": null,
       "grid_row": null,
       "grid_template_areas": null,
       "grid_template_columns": null,
       "grid_template_rows": null,
       "height": null,
       "justify_content": null,
       "justify_items": null,
       "left": null,
       "margin": null,
       "max_height": null,
       "max_width": null,
       "min_height": null,
       "min_width": null,
       "object_fit": null,
       "object_position": null,
       "order": null,
       "overflow": null,
       "padding": null,
       "right": null,
       "top": null,
       "visibility": null,
       "width": null
      }
     },
     "b2df9bef90a842c7afd25819a97d4004": {
      "model_module": "@jupyter-widgets/controls",
      "model_module_version": "2.0.0",
      "model_name": "HTMLModel",
      "state": {
       "_dom_classes": [],
       "_model_module": "@jupyter-widgets/controls",
       "_model_module_version": "2.0.0",
       "_model_name": "HTMLModel",
       "_view_count": null,
       "_view_module": "@jupyter-widgets/controls",
       "_view_module_version": "2.0.0",
       "_view_name": "HTMLView",
       "description": "",
       "description_allow_html": false,
       "layout": "IPY_MODEL_e46ec6f98600418da3d6b4e4e8e0af7c",
       "placeholder": "​",
       "style": "IPY_MODEL_e8ff59979b09479f938910f080bb8224",
       "tabbable": null,
       "tooltip": null,
       "value": " 45/0 [00:03&lt;00:00, 15.03it/s]"
      }
     },
     "b33f165c55784ac3b78e0a14e38dadee": {
      "model_module": "@jupyter-widgets/base",
      "model_module_version": "2.0.0",
      "model_name": "LayoutModel",
      "state": {
       "_model_module": "@jupyter-widgets/base",
       "_model_module_version": "2.0.0",
       "_model_name": "LayoutModel",
       "_view_count": null,
       "_view_module": "@jupyter-widgets/base",
       "_view_module_version": "2.0.0",
       "_view_name": "LayoutView",
       "align_content": null,
       "align_items": null,
       "align_self": null,
       "border_bottom": null,
       "border_left": null,
       "border_right": null,
       "border_top": null,
       "bottom": null,
       "display": null,
       "flex": null,
       "flex_flow": null,
       "grid_area": null,
       "grid_auto_columns": null,
       "grid_auto_flow": null,
       "grid_auto_rows": null,
       "grid_column": null,
       "grid_gap": null,
       "grid_row": null,
       "grid_template_areas": null,
       "grid_template_columns": null,
       "grid_template_rows": null,
       "height": null,
       "justify_content": null,
       "justify_items": null,
       "left": null,
       "margin": null,
       "max_height": null,
       "max_width": null,
       "min_height": null,
       "min_width": null,
       "object_fit": null,
       "object_position": null,
       "order": null,
       "overflow": null,
       "padding": null,
       "right": null,
       "top": null,
       "visibility": null,
       "width": "20px"
      }
     },
     "b526a633648d46cf87f6dc86d7c5f238": {
      "model_module": "@jupyter-widgets/base",
      "model_module_version": "2.0.0",
      "model_name": "LayoutModel",
      "state": {
       "_model_module": "@jupyter-widgets/base",
       "_model_module_version": "2.0.0",
       "_model_name": "LayoutModel",
       "_view_count": null,
       "_view_module": "@jupyter-widgets/base",
       "_view_module_version": "2.0.0",
       "_view_name": "LayoutView",
       "align_content": null,
       "align_items": null,
       "align_self": null,
       "border_bottom": null,
       "border_left": null,
       "border_right": null,
       "border_top": null,
       "bottom": null,
       "display": null,
       "flex": null,
       "flex_flow": null,
       "grid_area": null,
       "grid_auto_columns": null,
       "grid_auto_flow": null,
       "grid_auto_rows": null,
       "grid_column": null,
       "grid_gap": null,
       "grid_row": null,
       "grid_template_areas": null,
       "grid_template_columns": null,
       "grid_template_rows": null,
       "height": null,
       "justify_content": null,
       "justify_items": null,
       "left": null,
       "margin": null,
       "max_height": null,
       "max_width": null,
       "min_height": null,
       "min_width": null,
       "object_fit": null,
       "object_position": null,
       "order": null,
       "overflow": null,
       "padding": null,
       "right": null,
       "top": null,
       "visibility": null,
       "width": null
      }
     },
     "b8811f7644b2477283dc9a258dfe0673": {
      "model_module": "@jupyter-widgets/controls",
      "model_module_version": "2.0.0",
      "model_name": "HTMLStyleModel",
      "state": {
       "_model_module": "@jupyter-widgets/controls",
       "_model_module_version": "2.0.0",
       "_model_name": "HTMLStyleModel",
       "_view_count": null,
       "_view_module": "@jupyter-widgets/base",
       "_view_module_version": "2.0.0",
       "_view_name": "StyleView",
       "background": null,
       "description_width": "",
       "font_size": null,
       "text_color": null
      }
     },
     "b98f109dbe494a60912c0289a15a7c43": {
      "model_module": "@jupyter-widgets/controls",
      "model_module_version": "2.0.0",
      "model_name": "HTMLModel",
      "state": {
       "_dom_classes": [],
       "_model_module": "@jupyter-widgets/controls",
       "_model_module_version": "2.0.0",
       "_model_name": "HTMLModel",
       "_view_count": null,
       "_view_module": "@jupyter-widgets/controls",
       "_view_module_version": "2.0.0",
       "_view_name": "HTMLView",
       "description": "",
       "description_allow_html": false,
       "layout": "IPY_MODEL_4b22137347b84f78bdcf4689f3f5822a",
       "placeholder": "​",
       "style": "IPY_MODEL_5d10e2557e5448c4ad2b6856c31ad951",
       "tabbable": null,
       "tooltip": null,
       "value": ""
      }
     },
     "ba8845d12c364ccc822be2492d05b166": {
      "model_module": "@jupyter-widgets/controls",
      "model_module_version": "2.0.0",
      "model_name": "HTMLStyleModel",
      "state": {
       "_model_module": "@jupyter-widgets/controls",
       "_model_module_version": "2.0.0",
       "_model_name": "HTMLStyleModel",
       "_view_count": null,
       "_view_module": "@jupyter-widgets/base",
       "_view_module_version": "2.0.0",
       "_view_name": "StyleView",
       "background": null,
       "description_width": "",
       "font_size": null,
       "text_color": null
      }
     },
     "bc340db0d02b43cf902025d34e77cd48": {
      "model_module": "@jupyter-widgets/controls",
      "model_module_version": "2.0.0",
      "model_name": "HTMLStyleModel",
      "state": {
       "_model_module": "@jupyter-widgets/controls",
       "_model_module_version": "2.0.0",
       "_model_name": "HTMLStyleModel",
       "_view_count": null,
       "_view_module": "@jupyter-widgets/base",
       "_view_module_version": "2.0.0",
       "_view_name": "StyleView",
       "background": null,
       "description_width": "",
       "font_size": null,
       "text_color": null
      }
     },
     "bd728e62828c45dbb06f1c15fb49532e": {
      "model_module": "@jupyter-widgets/controls",
      "model_module_version": "2.0.0",
      "model_name": "HTMLModel",
      "state": {
       "_dom_classes": [],
       "_model_module": "@jupyter-widgets/controls",
       "_model_module_version": "2.0.0",
       "_model_name": "HTMLModel",
       "_view_count": null,
       "_view_module": "@jupyter-widgets/controls",
       "_view_module_version": "2.0.0",
       "_view_name": "HTMLView",
       "description": "",
       "description_allow_html": false,
       "layout": "IPY_MODEL_fce8e2d9b98a41428b39cd27abffdc01",
       "placeholder": "​",
       "style": "IPY_MODEL_6bee1b87c23e423190fb7025afd09376",
       "tabbable": null,
       "tooltip": null,
       "value": ""
      }
     },
     "bf7aed355c32486a93add064b51e587b": {
      "model_module": "@jupyter-widgets/controls",
      "model_module_version": "2.0.0",
      "model_name": "HTMLModel",
      "state": {
       "_dom_classes": [],
       "_model_module": "@jupyter-widgets/controls",
       "_model_module_version": "2.0.0",
       "_model_name": "HTMLModel",
       "_view_count": null,
       "_view_module": "@jupyter-widgets/controls",
       "_view_module_version": "2.0.0",
       "_view_name": "HTMLView",
       "description": "",
       "description_allow_html": false,
       "layout": "IPY_MODEL_459497c7d77040af854a2d374c89e332",
       "placeholder": "​",
       "style": "IPY_MODEL_8007fb3ca1274232a95b23b47576f1ea",
       "tabbable": null,
       "tooltip": null,
       "value": " 42/0 [00:03&lt;00:00, 13.76it/s]"
      }
     },
     "c32e84073e364f2db3fcf42f9371d9f4": {
      "model_module": "@jupyter-widgets/base",
      "model_module_version": "2.0.0",
      "model_name": "LayoutModel",
      "state": {
       "_model_module": "@jupyter-widgets/base",
       "_model_module_version": "2.0.0",
       "_model_name": "LayoutModel",
       "_view_count": null,
       "_view_module": "@jupyter-widgets/base",
       "_view_module_version": "2.0.0",
       "_view_name": "LayoutView",
       "align_content": null,
       "align_items": null,
       "align_self": null,
       "border_bottom": null,
       "border_left": null,
       "border_right": null,
       "border_top": null,
       "bottom": null,
       "display": null,
       "flex": null,
       "flex_flow": null,
       "grid_area": null,
       "grid_auto_columns": null,
       "grid_auto_flow": null,
       "grid_auto_rows": null,
       "grid_column": null,
       "grid_gap": null,
       "grid_row": null,
       "grid_template_areas": null,
       "grid_template_columns": null,
       "grid_template_rows": null,
       "height": null,
       "justify_content": null,
       "justify_items": null,
       "left": null,
       "margin": null,
       "max_height": null,
       "max_width": null,
       "min_height": null,
       "min_width": null,
       "object_fit": null,
       "object_position": null,
       "order": null,
       "overflow": null,
       "padding": null,
       "right": null,
       "top": null,
       "visibility": null,
       "width": "20px"
      }
     },
     "ca7ef0dc32444265913aabe85ddde539": {
      "model_module": "@jupyter-widgets/controls",
      "model_module_version": "2.0.0",
      "model_name": "FloatProgressModel",
      "state": {
       "_dom_classes": [],
       "_model_module": "@jupyter-widgets/controls",
       "_model_module_version": "2.0.0",
       "_model_name": "FloatProgressModel",
       "_view_count": null,
       "_view_module": "@jupyter-widgets/controls",
       "_view_module_version": "2.0.0",
       "_view_name": "ProgressView",
       "bar_style": "success",
       "description": "",
       "description_allow_html": false,
       "layout": "IPY_MODEL_5970fafc44314fbba41aff47eac40782",
       "max": 1,
       "min": 0,
       "orientation": "horizontal",
       "style": "IPY_MODEL_57a137752e17404e8e994dcce77df0f9",
       "tabbable": null,
       "tooltip": null,
       "value": 1
      }
     },
     "cabb7b962e354f18a9065f561a35425c": {
      "model_module": "@jupyter-widgets/base",
      "model_module_version": "2.0.0",
      "model_name": "LayoutModel",
      "state": {
       "_model_module": "@jupyter-widgets/base",
       "_model_module_version": "2.0.0",
       "_model_name": "LayoutModel",
       "_view_count": null,
       "_view_module": "@jupyter-widgets/base",
       "_view_module_version": "2.0.0",
       "_view_name": "LayoutView",
       "align_content": null,
       "align_items": null,
       "align_self": null,
       "border_bottom": null,
       "border_left": null,
       "border_right": null,
       "border_top": null,
       "bottom": null,
       "display": null,
       "flex": null,
       "flex_flow": null,
       "grid_area": null,
       "grid_auto_columns": null,
       "grid_auto_flow": null,
       "grid_auto_rows": null,
       "grid_column": null,
       "grid_gap": null,
       "grid_row": null,
       "grid_template_areas": null,
       "grid_template_columns": null,
       "grid_template_rows": null,
       "height": null,
       "justify_content": null,
       "justify_items": null,
       "left": null,
       "margin": null,
       "max_height": null,
       "max_width": null,
       "min_height": null,
       "min_width": null,
       "object_fit": null,
       "object_position": null,
       "order": null,
       "overflow": null,
       "padding": null,
       "right": null,
       "top": null,
       "visibility": null,
       "width": "20px"
      }
     },
     "cd7fb5354c274a8280c11e43c0657dce": {
      "model_module": "@jupyter-widgets/controls",
      "model_module_version": "2.0.0",
      "model_name": "HBoxModel",
      "state": {
       "_dom_classes": [],
       "_model_module": "@jupyter-widgets/controls",
       "_model_module_version": "2.0.0",
       "_model_name": "HBoxModel",
       "_view_count": null,
       "_view_module": "@jupyter-widgets/controls",
       "_view_module_version": "2.0.0",
       "_view_name": "HBoxView",
       "box_style": "",
       "children": [
        "IPY_MODEL_6412337ad7484bd88083216a2c3e1a1c",
        "IPY_MODEL_5d5b1ca092754572b79ad7fa35042345",
        "IPY_MODEL_9d80116a80ef4f4d9a6f39ecd8f3d75e"
       ],
       "layout": "IPY_MODEL_8ffbcc2ba5a042d5a36f60258cc72334",
       "tabbable": null,
       "tooltip": null
      }
     },
     "d0dd99bb600f4dfba6649f7e5149b59f": {
      "model_module": "@jupyter-widgets/base",
      "model_module_version": "2.0.0",
      "model_name": "LayoutModel",
      "state": {
       "_model_module": "@jupyter-widgets/base",
       "_model_module_version": "2.0.0",
       "_model_name": "LayoutModel",
       "_view_count": null,
       "_view_module": "@jupyter-widgets/base",
       "_view_module_version": "2.0.0",
       "_view_name": "LayoutView",
       "align_content": null,
       "align_items": null,
       "align_self": null,
       "border_bottom": null,
       "border_left": null,
       "border_right": null,
       "border_top": null,
       "bottom": null,
       "display": null,
       "flex": null,
       "flex_flow": null,
       "grid_area": null,
       "grid_auto_columns": null,
       "grid_auto_flow": null,
       "grid_auto_rows": null,
       "grid_column": null,
       "grid_gap": null,
       "grid_row": null,
       "grid_template_areas": null,
       "grid_template_columns": null,
       "grid_template_rows": null,
       "height": null,
       "justify_content": null,
       "justify_items": null,
       "left": null,
       "margin": null,
       "max_height": null,
       "max_width": null,
       "min_height": null,
       "min_width": null,
       "object_fit": null,
       "object_position": null,
       "order": null,
       "overflow": null,
       "padding": null,
       "right": null,
       "top": null,
       "visibility": null,
       "width": "20px"
      }
     },
     "d10abaf42aac48d1947cc7c926524ce1": {
      "model_module": "@jupyter-widgets/controls",
      "model_module_version": "2.0.0",
      "model_name": "HTMLStyleModel",
      "state": {
       "_model_module": "@jupyter-widgets/controls",
       "_model_module_version": "2.0.0",
       "_model_name": "HTMLStyleModel",
       "_view_count": null,
       "_view_module": "@jupyter-widgets/base",
       "_view_module_version": "2.0.0",
       "_view_name": "StyleView",
       "background": null,
       "description_width": "",
       "font_size": null,
       "text_color": null
      }
     },
     "d4c9cf6a1d5f4075b982c4e1103bd4c7": {
      "model_module": "@jupyter-widgets/base",
      "model_module_version": "2.0.0",
      "model_name": "LayoutModel",
      "state": {
       "_model_module": "@jupyter-widgets/base",
       "_model_module_version": "2.0.0",
       "_model_name": "LayoutModel",
       "_view_count": null,
       "_view_module": "@jupyter-widgets/base",
       "_view_module_version": "2.0.0",
       "_view_name": "LayoutView",
       "align_content": null,
       "align_items": null,
       "align_self": null,
       "border_bottom": null,
       "border_left": null,
       "border_right": null,
       "border_top": null,
       "bottom": null,
       "display": null,
       "flex": null,
       "flex_flow": null,
       "grid_area": null,
       "grid_auto_columns": null,
       "grid_auto_flow": null,
       "grid_auto_rows": null,
       "grid_column": null,
       "grid_gap": null,
       "grid_row": null,
       "grid_template_areas": null,
       "grid_template_columns": null,
       "grid_template_rows": null,
       "height": null,
       "justify_content": null,
       "justify_items": null,
       "left": null,
       "margin": null,
       "max_height": null,
       "max_width": null,
       "min_height": null,
       "min_width": null,
       "object_fit": null,
       "object_position": null,
       "order": null,
       "overflow": null,
       "padding": null,
       "right": null,
       "top": null,
       "visibility": null,
       "width": null
      }
     },
     "dac9833c253a462b9b48ba0dd15f5dbe": {
      "model_module": "@jupyter-widgets/base",
      "model_module_version": "2.0.0",
      "model_name": "LayoutModel",
      "state": {
       "_model_module": "@jupyter-widgets/base",
       "_model_module_version": "2.0.0",
       "_model_name": "LayoutModel",
       "_view_count": null,
       "_view_module": "@jupyter-widgets/base",
       "_view_module_version": "2.0.0",
       "_view_name": "LayoutView",
       "align_content": null,
       "align_items": null,
       "align_self": null,
       "border_bottom": null,
       "border_left": null,
       "border_right": null,
       "border_top": null,
       "bottom": null,
       "display": null,
       "flex": null,
       "flex_flow": null,
       "grid_area": null,
       "grid_auto_columns": null,
       "grid_auto_flow": null,
       "grid_auto_rows": null,
       "grid_column": null,
       "grid_gap": null,
       "grid_row": null,
       "grid_template_areas": null,
       "grid_template_columns": null,
       "grid_template_rows": null,
       "height": null,
       "justify_content": null,
       "justify_items": null,
       "left": null,
       "margin": null,
       "max_height": null,
       "max_width": null,
       "min_height": null,
       "min_width": null,
       "object_fit": null,
       "object_position": null,
       "order": null,
       "overflow": null,
       "padding": null,
       "right": null,
       "top": null,
       "visibility": null,
       "width": null
      }
     },
     "dd3fbdbdc3ec4e9ea89bfee1fa89878a": {
      "model_module": "@jupyter-widgets/controls",
      "model_module_version": "2.0.0",
      "model_name": "ProgressStyleModel",
      "state": {
       "_model_module": "@jupyter-widgets/controls",
       "_model_module_version": "2.0.0",
       "_model_name": "ProgressStyleModel",
       "_view_count": null,
       "_view_module": "@jupyter-widgets/base",
       "_view_module_version": "2.0.0",
       "_view_name": "StyleView",
       "bar_color": null,
       "description_width": ""
      }
     },
     "ddec96bc5f164a4c87fe066630617853": {
      "model_module": "@jupyter-widgets/controls",
      "model_module_version": "2.0.0",
      "model_name": "ProgressStyleModel",
      "state": {
       "_model_module": "@jupyter-widgets/controls",
       "_model_module_version": "2.0.0",
       "_model_name": "ProgressStyleModel",
       "_view_count": null,
       "_view_module": "@jupyter-widgets/base",
       "_view_module_version": "2.0.0",
       "_view_name": "StyleView",
       "bar_color": null,
       "description_width": ""
      }
     },
     "de627a9e0a72483f9373a2729692b28b": {
      "model_module": "@jupyter-widgets/base",
      "model_module_version": "2.0.0",
      "model_name": "LayoutModel",
      "state": {
       "_model_module": "@jupyter-widgets/base",
       "_model_module_version": "2.0.0",
       "_model_name": "LayoutModel",
       "_view_count": null,
       "_view_module": "@jupyter-widgets/base",
       "_view_module_version": "2.0.0",
       "_view_name": "LayoutView",
       "align_content": null,
       "align_items": null,
       "align_self": null,
       "border_bottom": null,
       "border_left": null,
       "border_right": null,
       "border_top": null,
       "bottom": null,
       "display": null,
       "flex": null,
       "flex_flow": null,
       "grid_area": null,
       "grid_auto_columns": null,
       "grid_auto_flow": null,
       "grid_auto_rows": null,
       "grid_column": null,
       "grid_gap": null,
       "grid_row": null,
       "grid_template_areas": null,
       "grid_template_columns": null,
       "grid_template_rows": null,
       "height": null,
       "justify_content": null,
       "justify_items": null,
       "left": null,
       "margin": null,
       "max_height": null,
       "max_width": null,
       "min_height": null,
       "min_width": null,
       "object_fit": null,
       "object_position": null,
       "order": null,
       "overflow": null,
       "padding": null,
       "right": null,
       "top": null,
       "visibility": null,
       "width": null
      }
     },
     "df7a6d411a4048eaadd26964c3cb61c7": {
      "model_module": "@jupyter-widgets/controls",
      "model_module_version": "2.0.0",
      "model_name": "HTMLModel",
      "state": {
       "_dom_classes": [],
       "_model_module": "@jupyter-widgets/controls",
       "_model_module_version": "2.0.0",
       "_model_name": "HTMLModel",
       "_view_count": null,
       "_view_module": "@jupyter-widgets/controls",
       "_view_module_version": "2.0.0",
       "_view_name": "HTMLView",
       "description": "",
       "description_allow_html": false,
       "layout": "IPY_MODEL_ff2ab56cf29d49eb909ff9311977c345",
       "placeholder": "​",
       "style": "IPY_MODEL_8027bf36c8164c72847a18b24a60964d",
       "tabbable": null,
       "tooltip": null,
       "value": " 37/0 [00:03&lt;00:00,  9.67it/s]"
      }
     },
     "e133c3adf26c4908b6df84711ea3de8c": {
      "model_module": "@jupyter-widgets/base",
      "model_module_version": "2.0.0",
      "model_name": "LayoutModel",
      "state": {
       "_model_module": "@jupyter-widgets/base",
       "_model_module_version": "2.0.0",
       "_model_name": "LayoutModel",
       "_view_count": null,
       "_view_module": "@jupyter-widgets/base",
       "_view_module_version": "2.0.0",
       "_view_name": "LayoutView",
       "align_content": null,
       "align_items": null,
       "align_self": null,
       "border_bottom": null,
       "border_left": null,
       "border_right": null,
       "border_top": null,
       "bottom": null,
       "display": null,
       "flex": null,
       "flex_flow": null,
       "grid_area": null,
       "grid_auto_columns": null,
       "grid_auto_flow": null,
       "grid_auto_rows": null,
       "grid_column": null,
       "grid_gap": null,
       "grid_row": null,
       "grid_template_areas": null,
       "grid_template_columns": null,
       "grid_template_rows": null,
       "height": null,
       "justify_content": null,
       "justify_items": null,
       "left": null,
       "margin": null,
       "max_height": null,
       "max_width": null,
       "min_height": null,
       "min_width": null,
       "object_fit": null,
       "object_position": null,
       "order": null,
       "overflow": null,
       "padding": null,
       "right": null,
       "top": null,
       "visibility": null,
       "width": null
      }
     },
     "e46ec6f98600418da3d6b4e4e8e0af7c": {
      "model_module": "@jupyter-widgets/base",
      "model_module_version": "2.0.0",
      "model_name": "LayoutModel",
      "state": {
       "_model_module": "@jupyter-widgets/base",
       "_model_module_version": "2.0.0",
       "_model_name": "LayoutModel",
       "_view_count": null,
       "_view_module": "@jupyter-widgets/base",
       "_view_module_version": "2.0.0",
       "_view_name": "LayoutView",
       "align_content": null,
       "align_items": null,
       "align_self": null,
       "border_bottom": null,
       "border_left": null,
       "border_right": null,
       "border_top": null,
       "bottom": null,
       "display": null,
       "flex": null,
       "flex_flow": null,
       "grid_area": null,
       "grid_auto_columns": null,
       "grid_auto_flow": null,
       "grid_auto_rows": null,
       "grid_column": null,
       "grid_gap": null,
       "grid_row": null,
       "grid_template_areas": null,
       "grid_template_columns": null,
       "grid_template_rows": null,
       "height": null,
       "justify_content": null,
       "justify_items": null,
       "left": null,
       "margin": null,
       "max_height": null,
       "max_width": null,
       "min_height": null,
       "min_width": null,
       "object_fit": null,
       "object_position": null,
       "order": null,
       "overflow": null,
       "padding": null,
       "right": null,
       "top": null,
       "visibility": null,
       "width": null
      }
     },
     "e4c97f9c9afc4073ba900c08b0265199": {
      "model_module": "@jupyter-widgets/controls",
      "model_module_version": "2.0.0",
      "model_name": "HBoxModel",
      "state": {
       "_dom_classes": [],
       "_model_module": "@jupyter-widgets/controls",
       "_model_module_version": "2.0.0",
       "_model_name": "HBoxModel",
       "_view_count": null,
       "_view_module": "@jupyter-widgets/controls",
       "_view_module_version": "2.0.0",
       "_view_name": "HBoxView",
       "box_style": "",
       "children": [
        "IPY_MODEL_f783371099d94f16abeec0e5a74c3196",
        "IPY_MODEL_9412d58ee70c4996955cb56fa152c29a",
        "IPY_MODEL_3f02f70325e2417c9ad18405f686e8d5"
       ],
       "layout": "IPY_MODEL_677b7d4a9c56482a9288a0d9623e5121",
       "tabbable": null,
       "tooltip": null
      }
     },
     "e761966128cc4c9498bb86e0f54fc985": {
      "model_module": "@jupyter-widgets/base",
      "model_module_version": "2.0.0",
      "model_name": "LayoutModel",
      "state": {
       "_model_module": "@jupyter-widgets/base",
       "_model_module_version": "2.0.0",
       "_model_name": "LayoutModel",
       "_view_count": null,
       "_view_module": "@jupyter-widgets/base",
       "_view_module_version": "2.0.0",
       "_view_name": "LayoutView",
       "align_content": null,
       "align_items": null,
       "align_self": null,
       "border_bottom": null,
       "border_left": null,
       "border_right": null,
       "border_top": null,
       "bottom": null,
       "display": null,
       "flex": null,
       "flex_flow": null,
       "grid_area": null,
       "grid_auto_columns": null,
       "grid_auto_flow": null,
       "grid_auto_rows": null,
       "grid_column": null,
       "grid_gap": null,
       "grid_row": null,
       "grid_template_areas": null,
       "grid_template_columns": null,
       "grid_template_rows": null,
       "height": null,
       "justify_content": null,
       "justify_items": null,
       "left": null,
       "margin": null,
       "max_height": null,
       "max_width": null,
       "min_height": null,
       "min_width": null,
       "object_fit": null,
       "object_position": null,
       "order": null,
       "overflow": null,
       "padding": null,
       "right": null,
       "top": null,
       "visibility": null,
       "width": "20px"
      }
     },
     "e8ff59979b09479f938910f080bb8224": {
      "model_module": "@jupyter-widgets/controls",
      "model_module_version": "2.0.0",
      "model_name": "HTMLStyleModel",
      "state": {
       "_model_module": "@jupyter-widgets/controls",
       "_model_module_version": "2.0.0",
       "_model_name": "HTMLStyleModel",
       "_view_count": null,
       "_view_module": "@jupyter-widgets/base",
       "_view_module_version": "2.0.0",
       "_view_name": "StyleView",
       "background": null,
       "description_width": "",
       "font_size": null,
       "text_color": null
      }
     },
     "e919a3bdb58545eaa5544fc9b16a6729": {
      "model_module": "@jupyter-widgets/controls",
      "model_module_version": "2.0.0",
      "model_name": "FloatProgressModel",
      "state": {
       "_dom_classes": [],
       "_model_module": "@jupyter-widgets/controls",
       "_model_module_version": "2.0.0",
       "_model_name": "FloatProgressModel",
       "_view_count": null,
       "_view_module": "@jupyter-widgets/controls",
       "_view_module_version": "2.0.0",
       "_view_name": "ProgressView",
       "bar_style": "success",
       "description": "",
       "description_allow_html": false,
       "layout": "IPY_MODEL_e761966128cc4c9498bb86e0f54fc985",
       "max": 1,
       "min": 0,
       "orientation": "horizontal",
       "style": "IPY_MODEL_37e27cb24b5242f5b7d4e9e3a4be8d58",
       "tabbable": null,
       "tooltip": null,
       "value": 1
      }
     },
     "ed3594aba33c461bafccb67673f519b2": {
      "model_module": "@jupyter-widgets/base",
      "model_module_version": "2.0.0",
      "model_name": "LayoutModel",
      "state": {
       "_model_module": "@jupyter-widgets/base",
       "_model_module_version": "2.0.0",
       "_model_name": "LayoutModel",
       "_view_count": null,
       "_view_module": "@jupyter-widgets/base",
       "_view_module_version": "2.0.0",
       "_view_name": "LayoutView",
       "align_content": null,
       "align_items": null,
       "align_self": null,
       "border_bottom": null,
       "border_left": null,
       "border_right": null,
       "border_top": null,
       "bottom": null,
       "display": null,
       "flex": null,
       "flex_flow": null,
       "grid_area": null,
       "grid_auto_columns": null,
       "grid_auto_flow": null,
       "grid_auto_rows": null,
       "grid_column": null,
       "grid_gap": null,
       "grid_row": null,
       "grid_template_areas": null,
       "grid_template_columns": null,
       "grid_template_rows": null,
       "height": null,
       "justify_content": null,
       "justify_items": null,
       "left": null,
       "margin": null,
       "max_height": null,
       "max_width": null,
       "min_height": null,
       "min_width": null,
       "object_fit": null,
       "object_position": null,
       "order": null,
       "overflow": null,
       "padding": null,
       "right": null,
       "top": null,
       "visibility": null,
       "width": "20px"
      }
     },
     "edb14253e53e44dc9c2d312b9c9553e7": {
      "model_module": "@jupyter-widgets/controls",
      "model_module_version": "2.0.0",
      "model_name": "FloatProgressModel",
      "state": {
       "_dom_classes": [],
       "_model_module": "@jupyter-widgets/controls",
       "_model_module_version": "2.0.0",
       "_model_name": "FloatProgressModel",
       "_view_count": null,
       "_view_module": "@jupyter-widgets/controls",
       "_view_module_version": "2.0.0",
       "_view_name": "ProgressView",
       "bar_style": "success",
       "description": "",
       "description_allow_html": false,
       "layout": "IPY_MODEL_ad3304bd65b34432814453570eb33f28",
       "max": 1,
       "min": 0,
       "orientation": "horizontal",
       "style": "IPY_MODEL_1914e9bd42e84530b90fe3926d7bece2",
       "tabbable": null,
       "tooltip": null,
       "value": 1
      }
     },
     "f4517216f5c34e719201e69781cdd6b6": {
      "model_module": "@jupyter-widgets/controls",
      "model_module_version": "2.0.0",
      "model_name": "HBoxModel",
      "state": {
       "_dom_classes": [],
       "_model_module": "@jupyter-widgets/controls",
       "_model_module_version": "2.0.0",
       "_model_name": "HBoxModel",
       "_view_count": null,
       "_view_module": "@jupyter-widgets/controls",
       "_view_module_version": "2.0.0",
       "_view_name": "HBoxView",
       "box_style": "",
       "children": [
        "IPY_MODEL_0813ad7b079144be83ab630a69b30ad7",
        "IPY_MODEL_edb14253e53e44dc9c2d312b9c9553e7",
        "IPY_MODEL_ff5bc09ec8aa4ab3bed29dbbd77fe671"
       ],
       "layout": "IPY_MODEL_ad0663c774914dd0a15de36766b8b2f2",
       "tabbable": null,
       "tooltip": null
      }
     },
     "f783371099d94f16abeec0e5a74c3196": {
      "model_module": "@jupyter-widgets/controls",
      "model_module_version": "2.0.0",
      "model_name": "HTMLModel",
      "state": {
       "_dom_classes": [],
       "_model_module": "@jupyter-widgets/controls",
       "_model_module_version": "2.0.0",
       "_model_name": "HTMLModel",
       "_view_count": null,
       "_view_module": "@jupyter-widgets/controls",
       "_view_module_version": "2.0.0",
       "_view_name": "HTMLView",
       "description": "",
       "description_allow_html": false,
       "layout": "IPY_MODEL_2ec90570f4954a258359ec337582367b",
       "placeholder": "​",
       "style": "IPY_MODEL_a77ad24039264c7485f054e332969000",
       "tabbable": null,
       "tooltip": null,
       "value": ""
      }
     },
     "f785cc50749a435b997ac411b862194c": {
      "model_module": "@jupyter-widgets/controls",
      "model_module_version": "2.0.0",
      "model_name": "FloatProgressModel",
      "state": {
       "_dom_classes": [],
       "_model_module": "@jupyter-widgets/controls",
       "_model_module_version": "2.0.0",
       "_model_name": "FloatProgressModel",
       "_view_count": null,
       "_view_module": "@jupyter-widgets/controls",
       "_view_module_version": "2.0.0",
       "_view_name": "ProgressView",
       "bar_style": "success",
       "description": "",
       "description_allow_html": false,
       "layout": "IPY_MODEL_a9f0c664ca1248738fd1af0e646b2a49",
       "max": 1,
       "min": 0,
       "orientation": "horizontal",
       "style": "IPY_MODEL_7fc4e0f6668046bcb24504dc7b34fbd5",
       "tabbable": null,
       "tooltip": null,
       "value": 1
      }
     },
     "fce8e2d9b98a41428b39cd27abffdc01": {
      "model_module": "@jupyter-widgets/base",
      "model_module_version": "2.0.0",
      "model_name": "LayoutModel",
      "state": {
       "_model_module": "@jupyter-widgets/base",
       "_model_module_version": "2.0.0",
       "_model_name": "LayoutModel",
       "_view_count": null,
       "_view_module": "@jupyter-widgets/base",
       "_view_module_version": "2.0.0",
       "_view_name": "LayoutView",
       "align_content": null,
       "align_items": null,
       "align_self": null,
       "border_bottom": null,
       "border_left": null,
       "border_right": null,
       "border_top": null,
       "bottom": null,
       "display": null,
       "flex": null,
       "flex_flow": null,
       "grid_area": null,
       "grid_auto_columns": null,
       "grid_auto_flow": null,
       "grid_auto_rows": null,
       "grid_column": null,
       "grid_gap": null,
       "grid_row": null,
       "grid_template_areas": null,
       "grid_template_columns": null,
       "grid_template_rows": null,
       "height": null,
       "justify_content": null,
       "justify_items": null,
       "left": null,
       "margin": null,
       "max_height": null,
       "max_width": null,
       "min_height": null,
       "min_width": null,
       "object_fit": null,
       "object_position": null,
       "order": null,
       "overflow": null,
       "padding": null,
       "right": null,
       "top": null,
       "visibility": null,
       "width": null
      }
     },
     "fdf735622d8e47b9998049fea0771de9": {
      "model_module": "@jupyter-widgets/controls",
      "model_module_version": "2.0.0",
      "model_name": "HTMLStyleModel",
      "state": {
       "_model_module": "@jupyter-widgets/controls",
       "_model_module_version": "2.0.0",
       "_model_name": "HTMLStyleModel",
       "_view_count": null,
       "_view_module": "@jupyter-widgets/base",
       "_view_module_version": "2.0.0",
       "_view_name": "StyleView",
       "background": null,
       "description_width": "",
       "font_size": null,
       "text_color": null
      }
     },
     "ff2ab56cf29d49eb909ff9311977c345": {
      "model_module": "@jupyter-widgets/base",
      "model_module_version": "2.0.0",
      "model_name": "LayoutModel",
      "state": {
       "_model_module": "@jupyter-widgets/base",
       "_model_module_version": "2.0.0",
       "_model_name": "LayoutModel",
       "_view_count": null,
       "_view_module": "@jupyter-widgets/base",
       "_view_module_version": "2.0.0",
       "_view_name": "LayoutView",
       "align_content": null,
       "align_items": null,
       "align_self": null,
       "border_bottom": null,
       "border_left": null,
       "border_right": null,
       "border_top": null,
       "bottom": null,
       "display": null,
       "flex": null,
       "flex_flow": null,
       "grid_area": null,
       "grid_auto_columns": null,
       "grid_auto_flow": null,
       "grid_auto_rows": null,
       "grid_column": null,
       "grid_gap": null,
       "grid_row": null,
       "grid_template_areas": null,
       "grid_template_columns": null,
       "grid_template_rows": null,
       "height": null,
       "justify_content": null,
       "justify_items": null,
       "left": null,
       "margin": null,
       "max_height": null,
       "max_width": null,
       "min_height": null,
       "min_width": null,
       "object_fit": null,
       "object_position": null,
       "order": null,
       "overflow": null,
       "padding": null,
       "right": null,
       "top": null,
       "visibility": null,
       "width": null
      }
     },
     "ff5bc09ec8aa4ab3bed29dbbd77fe671": {
      "model_module": "@jupyter-widgets/controls",
      "model_module_version": "2.0.0",
      "model_name": "HTMLModel",
      "state": {
       "_dom_classes": [],
       "_model_module": "@jupyter-widgets/controls",
       "_model_module_version": "2.0.0",
       "_model_name": "HTMLModel",
       "_view_count": null,
       "_view_module": "@jupyter-widgets/controls",
       "_view_module_version": "2.0.0",
       "_view_name": "HTMLView",
       "description": "",
       "description_allow_html": false,
       "layout": "IPY_MODEL_8cb57e2aeeca4930a3bd42af74e65fd3",
       "placeholder": "​",
       "style": "IPY_MODEL_b8811f7644b2477283dc9a258dfe0673",
       "tabbable": null,
       "tooltip": null,
       "value": " 5/0 [00:00&lt;00:00, 19.88it/s]"
      }
     }
    },
    "version_major": 2,
    "version_minor": 0
   }
  }
 },
 "nbformat": 4,
 "nbformat_minor": 5
}
